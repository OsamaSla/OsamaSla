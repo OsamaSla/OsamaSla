{
 "cells": [
  {
   "cell_type": "markdown",
   "id": "8c1c60aa",
   "metadata": {},
   "source": [
    "<div align=\"center\" style=\"border:solid orange 2px; padding: 5px\"; class=\"alert alert-info\">   \n",
    "<span style=\"color:brown; font-size: 25px\"> <b>Introduction for the project <br><br>\n",
    "<span style=\"color:brown; font-size: 17px\">\n",
    "<div align=\"left\"> As an analyst at a big online store. Together with the marketing department,<br> I've compiled a list of hypotheses that may help boost revenue.<br>\n",
    "I need to prioritize these hypotheses, launch an A/B test, and analyze the results.<br>"
   ]
  },
  {
   "cell_type": "code",
   "execution_count": 2,
   "id": "97982bd5",
   "metadata": {},
   "outputs": [],
   "source": [
    "from IPython.core.interactiveshell import InteractiveShell\n",
    "InteractiveShell.ast_node_interactivity = \"all\"\n",
    "import numpy as np\n",
    "import pandas as pd \n",
    "import matplotlib\n",
    "import seaborn as sns\n",
    "import plotly.express as px\n",
    "import matplotlib.pyplot as plt\n",
    "# import sidetable\n",
    "from datetime import timedelta\n",
    "from dateutil.relativedelta import relativedelta\n",
    "\n",
    "import plotly\n",
    "import os\n",
    "\n",
    "from scipy import stats as st\n",
    "\n",
    "%matplotlib inline\n",
    "\n",
    "pd.options.display.float_format = '{:.3f}'.format\n",
    "import warnings\n",
    "warnings.filterwarnings(\"ignore\")"
   ]
  },
  {
   "cell_type": "code",
   "execution_count": 3,
   "id": "d0021b06",
   "metadata": {},
   "outputs": [],
   "source": [
    "pd.set_option('display.max_rows', 500)\n",
    "pd.set_option('display.max_columns', 500)\n",
    "pd.set_option('display.max_colwidth',-1)"
   ]
  },
  {
   "cell_type": "code",
   "execution_count": 4,
   "id": "44fd032e",
   "metadata": {
    "scrolled": true
   },
   "outputs": [
    {
     "name": "stdout",
     "output_type": "stream",
     "text": [
      "hypotheses\n",
      "<class 'pandas.core.frame.DataFrame'>\n",
      "RangeIndex: 9 entries, 0 to 8\n",
      "Data columns (total 5 columns):\n",
      " #   Column      Non-Null Count  Dtype \n",
      "---  ------      --------------  ----- \n",
      " 0   hypothesis  9 non-null      object\n",
      " 1   reach       9 non-null      int64 \n",
      " 2   impact      9 non-null      int64 \n",
      " 3   confidence  9 non-null      int64 \n",
      " 4   effort      9 non-null      int64 \n",
      "dtypes: int64(4), object(1)\n",
      "memory usage: 488.0+ bytes\n"
     ]
    },
    {
     "data": {
      "text/html": [
       "<div>\n",
       "<style scoped>\n",
       "    .dataframe tbody tr th:only-of-type {\n",
       "        vertical-align: middle;\n",
       "    }\n",
       "\n",
       "    .dataframe tbody tr th {\n",
       "        vertical-align: top;\n",
       "    }\n",
       "\n",
       "    .dataframe thead th {\n",
       "        text-align: right;\n",
       "    }\n",
       "</style>\n",
       "<table border=\"1\" class=\"dataframe\">\n",
       "  <thead>\n",
       "    <tr style=\"text-align: right;\">\n",
       "      <th></th>\n",
       "      <th>hypothesis</th>\n",
       "      <th>reach</th>\n",
       "      <th>impact</th>\n",
       "      <th>confidence</th>\n",
       "      <th>effort</th>\n",
       "    </tr>\n",
       "  </thead>\n",
       "  <tbody>\n",
       "    <tr>\n",
       "      <th>0</th>\n",
       "      <td>Add two new channels for attracting traffic. This will bring 30% more users</td>\n",
       "      <td>3</td>\n",
       "      <td>10</td>\n",
       "      <td>8</td>\n",
       "      <td>6</td>\n",
       "    </tr>\n",
       "    <tr>\n",
       "      <th>1</th>\n",
       "      <td>Launch your own delivery service. This will shorten delivery time</td>\n",
       "      <td>2</td>\n",
       "      <td>5</td>\n",
       "      <td>4</td>\n",
       "      <td>10</td>\n",
       "    </tr>\n",
       "    <tr>\n",
       "      <th>2</th>\n",
       "      <td>Add product recommendation blocks to the store's site. This will increase conversion and average purchase size</td>\n",
       "      <td>8</td>\n",
       "      <td>3</td>\n",
       "      <td>7</td>\n",
       "      <td>3</td>\n",
       "    </tr>\n",
       "    <tr>\n",
       "      <th>3</th>\n",
       "      <td>Change the category structure. This will increase conversion since users will find the products they want more quickly</td>\n",
       "      <td>8</td>\n",
       "      <td>3</td>\n",
       "      <td>3</td>\n",
       "      <td>8</td>\n",
       "    </tr>\n",
       "    <tr>\n",
       "      <th>4</th>\n",
       "      <td>Change the background color on the main page. This will increase user engagement</td>\n",
       "      <td>3</td>\n",
       "      <td>1</td>\n",
       "      <td>1</td>\n",
       "      <td>1</td>\n",
       "    </tr>\n",
       "  </tbody>\n",
       "</table>\n",
       "</div>"
      ],
      "text/plain": [
       "                                                                                                               hypothesis  \\\n",
       "0  Add two new channels for attracting traffic. This will bring 30% more users                                              \n",
       "1  Launch your own delivery service. This will shorten delivery time                                                        \n",
       "2  Add product recommendation blocks to the store's site. This will increase conversion and average purchase size           \n",
       "3  Change the category structure. This will increase conversion since users will find the products they want more quickly   \n",
       "4  Change the background color on the main page. This will increase user engagement                                         \n",
       "\n",
       "   reach  impact  confidence  effort  \n",
       "0  3      10      8           6       \n",
       "1  2      5       4           10      \n",
       "2  8      3       7           3       \n",
       "3  8      3       3           8       \n",
       "4  3      1       1           1       "
      ]
     },
     "execution_count": 4,
     "metadata": {},
     "output_type": "execute_result"
    },
    {
     "data": {
      "text/html": [
       "<div>\n",
       "<style scoped>\n",
       "    .dataframe tbody tr th:only-of-type {\n",
       "        vertical-align: middle;\n",
       "    }\n",
       "\n",
       "    .dataframe tbody tr th {\n",
       "        vertical-align: top;\n",
       "    }\n",
       "\n",
       "    .dataframe thead th {\n",
       "        text-align: right;\n",
       "    }\n",
       "</style>\n",
       "<table border=\"1\" class=\"dataframe\">\n",
       "  <thead>\n",
       "    <tr style=\"text-align: right;\">\n",
       "      <th></th>\n",
       "      <th>reach</th>\n",
       "      <th>impact</th>\n",
       "      <th>confidence</th>\n",
       "      <th>effort</th>\n",
       "    </tr>\n",
       "  </thead>\n",
       "  <tbody>\n",
       "    <tr>\n",
       "      <th>count</th>\n",
       "      <td>9.000</td>\n",
       "      <td>9.000</td>\n",
       "      <td>9.000</td>\n",
       "      <td>9.000</td>\n",
       "    </tr>\n",
       "    <tr>\n",
       "      <th>mean</th>\n",
       "      <td>4.778</td>\n",
       "      <td>4.778</td>\n",
       "      <td>5.556</td>\n",
       "      <td>4.889</td>\n",
       "    </tr>\n",
       "    <tr>\n",
       "      <th>std</th>\n",
       "      <td>3.153</td>\n",
       "      <td>3.193</td>\n",
       "      <td>3.046</td>\n",
       "      <td>2.804</td>\n",
       "    </tr>\n",
       "    <tr>\n",
       "      <th>min</th>\n",
       "      <td>1.000</td>\n",
       "      <td>1.000</td>\n",
       "      <td>1.000</td>\n",
       "      <td>1.000</td>\n",
       "    </tr>\n",
       "    <tr>\n",
       "      <th>25%</th>\n",
       "      <td>3.000</td>\n",
       "      <td>3.000</td>\n",
       "      <td>3.000</td>\n",
       "      <td>3.000</td>\n",
       "    </tr>\n",
       "    <tr>\n",
       "      <th>50%</th>\n",
       "      <td>3.000</td>\n",
       "      <td>3.000</td>\n",
       "      <td>7.000</td>\n",
       "      <td>5.000</td>\n",
       "    </tr>\n",
       "    <tr>\n",
       "      <th>75%</th>\n",
       "      <td>8.000</td>\n",
       "      <td>7.000</td>\n",
       "      <td>8.000</td>\n",
       "      <td>6.000</td>\n",
       "    </tr>\n",
       "    <tr>\n",
       "      <th>max</th>\n",
       "      <td>10.000</td>\n",
       "      <td>10.000</td>\n",
       "      <td>9.000</td>\n",
       "      <td>10.000</td>\n",
       "    </tr>\n",
       "  </tbody>\n",
       "</table>\n",
       "</div>"
      ],
      "text/plain": [
       "       reach  impact  confidence  effort\n",
       "count 9.000  9.000   9.000       9.000  \n",
       "mean  4.778  4.778   5.556       4.889  \n",
       "std   3.153  3.193   3.046       2.804  \n",
       "min   1.000  1.000   1.000       1.000  \n",
       "25%   3.000  3.000   3.000       3.000  \n",
       "50%   3.000  3.000   7.000       5.000  \n",
       "75%   8.000  7.000   8.000       6.000  \n",
       "max   10.000 10.000  9.000       10.000 "
      ]
     },
     "execution_count": 4,
     "metadata": {},
     "output_type": "execute_result"
    },
    {
     "name": "stdout",
     "output_type": "stream",
     "text": [
      "orders\n",
      "<class 'pandas.core.frame.DataFrame'>\n",
      "RangeIndex: 1197 entries, 0 to 1196\n",
      "Data columns (total 5 columns):\n",
      " #   Column         Non-Null Count  Dtype         \n",
      "---  ------         --------------  -----         \n",
      " 0   transactionid  1197 non-null   int64         \n",
      " 1   visitorid      1197 non-null   int64         \n",
      " 2   date           1197 non-null   datetime64[ns]\n",
      " 3   revenue        1197 non-null   float64       \n",
      " 4   group          1197 non-null   object        \n",
      "dtypes: datetime64[ns](1), float64(1), int64(2), object(1)\n",
      "memory usage: 46.9+ KB\n"
     ]
    },
    {
     "data": {
      "text/html": [
       "<div>\n",
       "<style scoped>\n",
       "    .dataframe tbody tr th:only-of-type {\n",
       "        vertical-align: middle;\n",
       "    }\n",
       "\n",
       "    .dataframe tbody tr th {\n",
       "        vertical-align: top;\n",
       "    }\n",
       "\n",
       "    .dataframe thead th {\n",
       "        text-align: right;\n",
       "    }\n",
       "</style>\n",
       "<table border=\"1\" class=\"dataframe\">\n",
       "  <thead>\n",
       "    <tr style=\"text-align: right;\">\n",
       "      <th></th>\n",
       "      <th>transactionid</th>\n",
       "      <th>visitorid</th>\n",
       "      <th>date</th>\n",
       "      <th>revenue</th>\n",
       "      <th>group</th>\n",
       "    </tr>\n",
       "  </thead>\n",
       "  <tbody>\n",
       "    <tr>\n",
       "      <th>0</th>\n",
       "      <td>3667963787</td>\n",
       "      <td>3312258926</td>\n",
       "      <td>2019-08-15</td>\n",
       "      <td>30.400</td>\n",
       "      <td>B</td>\n",
       "    </tr>\n",
       "    <tr>\n",
       "      <th>1</th>\n",
       "      <td>2804400009</td>\n",
       "      <td>3642806036</td>\n",
       "      <td>2019-08-15</td>\n",
       "      <td>15.200</td>\n",
       "      <td>B</td>\n",
       "    </tr>\n",
       "    <tr>\n",
       "      <th>2</th>\n",
       "      <td>2961555356</td>\n",
       "      <td>4069496402</td>\n",
       "      <td>2019-08-15</td>\n",
       "      <td>10.200</td>\n",
       "      <td>A</td>\n",
       "    </tr>\n",
       "    <tr>\n",
       "      <th>3</th>\n",
       "      <td>3797467345</td>\n",
       "      <td>1196621759</td>\n",
       "      <td>2019-08-15</td>\n",
       "      <td>155.100</td>\n",
       "      <td>B</td>\n",
       "    </tr>\n",
       "    <tr>\n",
       "      <th>4</th>\n",
       "      <td>2282983706</td>\n",
       "      <td>2322279887</td>\n",
       "      <td>2019-08-15</td>\n",
       "      <td>40.500</td>\n",
       "      <td>B</td>\n",
       "    </tr>\n",
       "  </tbody>\n",
       "</table>\n",
       "</div>"
      ],
      "text/plain": [
       "   transactionid   visitorid       date  revenue group\n",
       "0  3667963787     3312258926 2019-08-15 30.400    B   \n",
       "1  2804400009     3642806036 2019-08-15 15.200    B   \n",
       "2  2961555356     4069496402 2019-08-15 10.200    A   \n",
       "3  3797467345     1196621759 2019-08-15 155.100   B   \n",
       "4  2282983706     2322279887 2019-08-15 40.500    B   "
      ]
     },
     "execution_count": 4,
     "metadata": {},
     "output_type": "execute_result"
    },
    {
     "data": {
      "text/html": [
       "<div>\n",
       "<style scoped>\n",
       "    .dataframe tbody tr th:only-of-type {\n",
       "        vertical-align: middle;\n",
       "    }\n",
       "\n",
       "    .dataframe tbody tr th {\n",
       "        vertical-align: top;\n",
       "    }\n",
       "\n",
       "    .dataframe thead th {\n",
       "        text-align: right;\n",
       "    }\n",
       "</style>\n",
       "<table border=\"1\" class=\"dataframe\">\n",
       "  <thead>\n",
       "    <tr style=\"text-align: right;\">\n",
       "      <th></th>\n",
       "      <th>transactionid</th>\n",
       "      <th>visitorid</th>\n",
       "      <th>revenue</th>\n",
       "    </tr>\n",
       "  </thead>\n",
       "  <tbody>\n",
       "    <tr>\n",
       "      <th>count</th>\n",
       "      <td>1197.000</td>\n",
       "      <td>1197.000</td>\n",
       "      <td>1197.000</td>\n",
       "    </tr>\n",
       "    <tr>\n",
       "      <th>mean</th>\n",
       "      <td>2155621385.530</td>\n",
       "      <td>2165960143.099</td>\n",
       "      <td>131.492</td>\n",
       "    </tr>\n",
       "    <tr>\n",
       "      <th>std</th>\n",
       "      <td>1229084904.760</td>\n",
       "      <td>1236014192.147</td>\n",
       "      <td>603.005</td>\n",
       "    </tr>\n",
       "    <tr>\n",
       "      <th>min</th>\n",
       "      <td>1062393.000</td>\n",
       "      <td>5114589.000</td>\n",
       "      <td>5.000</td>\n",
       "    </tr>\n",
       "    <tr>\n",
       "      <th>25%</th>\n",
       "      <td>1166775572.000</td>\n",
       "      <td>1111826046.000</td>\n",
       "      <td>20.800</td>\n",
       "    </tr>\n",
       "    <tr>\n",
       "      <th>50%</th>\n",
       "      <td>2145193898.000</td>\n",
       "      <td>2217984702.000</td>\n",
       "      <td>50.200</td>\n",
       "    </tr>\n",
       "    <tr>\n",
       "      <th>75%</th>\n",
       "      <td>3237740112.000</td>\n",
       "      <td>3177606451.000</td>\n",
       "      <td>130.400</td>\n",
       "    </tr>\n",
       "    <tr>\n",
       "      <th>max</th>\n",
       "      <td>4293855558.000</td>\n",
       "      <td>4283872382.000</td>\n",
       "      <td>19920.400</td>\n",
       "    </tr>\n",
       "  </tbody>\n",
       "</table>\n",
       "</div>"
      ],
      "text/plain": [
       "       transactionid      visitorid   revenue\n",
       "count 1197.000       1197.000       1197.000 \n",
       "mean  2155621385.530 2165960143.099 131.492  \n",
       "std   1229084904.760 1236014192.147 603.005  \n",
       "min   1062393.000    5114589.000    5.000    \n",
       "25%   1166775572.000 1111826046.000 20.800   \n",
       "50%   2145193898.000 2217984702.000 50.200   \n",
       "75%   3237740112.000 3177606451.000 130.400  \n",
       "max   4293855558.000 4283872382.000 19920.400"
      ]
     },
     "execution_count": 4,
     "metadata": {},
     "output_type": "execute_result"
    },
    {
     "name": "stdout",
     "output_type": "stream",
     "text": [
      "visits\n",
      "<class 'pandas.core.frame.DataFrame'>\n",
      "RangeIndex: 62 entries, 0 to 61\n",
      "Data columns (total 3 columns):\n",
      " #   Column  Non-Null Count  Dtype         \n",
      "---  ------  --------------  -----         \n",
      " 0   date    62 non-null     datetime64[ns]\n",
      " 1   group   62 non-null     object        \n",
      " 2   visits  62 non-null     int64         \n",
      "dtypes: datetime64[ns](1), int64(1), object(1)\n",
      "memory usage: 1.6+ KB\n"
     ]
    },
    {
     "data": {
      "text/html": [
       "<div>\n",
       "<style scoped>\n",
       "    .dataframe tbody tr th:only-of-type {\n",
       "        vertical-align: middle;\n",
       "    }\n",
       "\n",
       "    .dataframe tbody tr th {\n",
       "        vertical-align: top;\n",
       "    }\n",
       "\n",
       "    .dataframe thead th {\n",
       "        text-align: right;\n",
       "    }\n",
       "</style>\n",
       "<table border=\"1\" class=\"dataframe\">\n",
       "  <thead>\n",
       "    <tr style=\"text-align: right;\">\n",
       "      <th></th>\n",
       "      <th>date</th>\n",
       "      <th>group</th>\n",
       "      <th>visits</th>\n",
       "    </tr>\n",
       "  </thead>\n",
       "  <tbody>\n",
       "    <tr>\n",
       "      <th>0</th>\n",
       "      <td>2019-08-01</td>\n",
       "      <td>A</td>\n",
       "      <td>719</td>\n",
       "    </tr>\n",
       "    <tr>\n",
       "      <th>1</th>\n",
       "      <td>2019-08-02</td>\n",
       "      <td>A</td>\n",
       "      <td>619</td>\n",
       "    </tr>\n",
       "    <tr>\n",
       "      <th>2</th>\n",
       "      <td>2019-08-03</td>\n",
       "      <td>A</td>\n",
       "      <td>507</td>\n",
       "    </tr>\n",
       "    <tr>\n",
       "      <th>3</th>\n",
       "      <td>2019-08-04</td>\n",
       "      <td>A</td>\n",
       "      <td>717</td>\n",
       "    </tr>\n",
       "    <tr>\n",
       "      <th>4</th>\n",
       "      <td>2019-08-05</td>\n",
       "      <td>A</td>\n",
       "      <td>756</td>\n",
       "    </tr>\n",
       "  </tbody>\n",
       "</table>\n",
       "</div>"
      ],
      "text/plain": [
       "        date group  visits\n",
       "0 2019-08-01  A     719   \n",
       "1 2019-08-02  A     619   \n",
       "2 2019-08-03  A     507   \n",
       "3 2019-08-04  A     717   \n",
       "4 2019-08-05  A     756   "
      ]
     },
     "execution_count": 4,
     "metadata": {},
     "output_type": "execute_result"
    },
    {
     "data": {
      "text/html": [
       "<div>\n",
       "<style scoped>\n",
       "    .dataframe tbody tr th:only-of-type {\n",
       "        vertical-align: middle;\n",
       "    }\n",
       "\n",
       "    .dataframe tbody tr th {\n",
       "        vertical-align: top;\n",
       "    }\n",
       "\n",
       "    .dataframe thead th {\n",
       "        text-align: right;\n",
       "    }\n",
       "</style>\n",
       "<table border=\"1\" class=\"dataframe\">\n",
       "  <thead>\n",
       "    <tr style=\"text-align: right;\">\n",
       "      <th></th>\n",
       "      <th>visits</th>\n",
       "    </tr>\n",
       "  </thead>\n",
       "  <tbody>\n",
       "    <tr>\n",
       "      <th>count</th>\n",
       "      <td>62.000</td>\n",
       "    </tr>\n",
       "    <tr>\n",
       "      <th>mean</th>\n",
       "      <td>607.290</td>\n",
       "    </tr>\n",
       "    <tr>\n",
       "      <th>std</th>\n",
       "      <td>114.401</td>\n",
       "    </tr>\n",
       "    <tr>\n",
       "      <th>min</th>\n",
       "      <td>361.000</td>\n",
       "    </tr>\n",
       "    <tr>\n",
       "      <th>25%</th>\n",
       "      <td>534.000</td>\n",
       "    </tr>\n",
       "    <tr>\n",
       "      <th>50%</th>\n",
       "      <td>624.500</td>\n",
       "    </tr>\n",
       "    <tr>\n",
       "      <th>75%</th>\n",
       "      <td>710.500</td>\n",
       "    </tr>\n",
       "    <tr>\n",
       "      <th>max</th>\n",
       "      <td>770.000</td>\n",
       "    </tr>\n",
       "  </tbody>\n",
       "</table>\n",
       "</div>"
      ],
      "text/plain": [
       "       visits\n",
       "count 62.000 \n",
       "mean  607.290\n",
       "std   114.401\n",
       "min   361.000\n",
       "25%   534.000\n",
       "50%   624.500\n",
       "75%   710.500\n",
       "max   770.000"
      ]
     },
     "execution_count": 4,
     "metadata": {},
     "output_type": "execute_result"
    }
   ],
   "source": [
    "try:\n",
    "    hypotheses_us=pd.read_csv('hypotheses_us.csv', sep=';',dtype={'Hypotheses': 'category'})\n",
    "    orders_us=pd.read_csv('orders_us.csv', sep=',',parse_dates = ['date'])\n",
    "    visits_us=pd.read_csv('visits_us.csv', sep=',',parse_dates = ['date'])\n",
    "except:\n",
    "    hypotheses_us=pd.read_csv('/datasets/hypotheses_us.csv', sep=';',dtype={'Hypotheses': 'category'})\n",
    "    orders_us=pd.read_csv('/datasets/orders_us.csv', sep=',',parse_dates = ['date'])\n",
    "    visits_us=pd.read_csv('/datasets/visits_us.csv', sep=',',parse_dates = ['date'])\n",
    "\n",
    "orders_us.columns=orders_us.columns.str.lower()\n",
    "visits_us.columns=visits_us.columns.str.lower()\n",
    "hypotheses_us.columns=hypotheses_us.columns.str.lower()\n",
    "\n",
    "orders_us.columns=orders_us.columns.str.replace(' ','_')\n",
    "visits_us.columns=visits_us.columns.str.replace(' ','_')\n",
    "hypotheses_us.columns=hypotheses_us.columns.str.replace(' ','_')\n",
    "\n",
    "print('hypotheses')\n",
    "hypotheses_us.info()\n",
    "hypotheses_us.head()\n",
    "hypotheses_us.describe()\n",
    "print('orders')\n",
    "orders_us.info()\n",
    "orders_us.head()\n",
    "orders_us.describe()\n",
    "print('visits')\n",
    "visits_us.info()\n",
    "visits_us.head()\n",
    "visits_us.describe()"
   ]
  },
  {
   "cell_type": "markdown",
   "id": "9436564e",
   "metadata": {},
   "source": [
    "# mistakes in the original datasets"
   ]
  },
  {
   "cell_type": "markdown",
   "id": "bc3da3f6",
   "metadata": {},
   "source": [
    "- ***droping visitors registered in both groups***"
   ]
  },
  {
   "cell_type": "markdown",
   "id": "55ccc758",
   "metadata": {},
   "source": [
    "\\\\\\\\\\\\\\\\\\\\\\\\\\\\\\\\\\\\\\\\\\\\\\\\\\\\\\\\\\\\\\\\\\\\\\\\\\\\\\\\\\\\\\\\\\\\\\\\\\\\\\\\\\\\\\\\\\\\\\\\\\\\\\\\\\\\\\\\\\\\\\\\\\\\\\\\\\\\\\\\\\\\\\\\\\\\\\\\\\\\\\\\\\\\\\\\\\\\\\\\\\\\\\\\\\\\\\\\\\\\\\\\\\\\\\\\\\\\\\\\\\\\\\\\\\\\\\\\\\\\\\\\\\\\\\\\\\\\\\\\\\\\\\\\\\\\\\\\\\\\\\\\\\\\\\\\\\\\\\\\\\\\\\\\\\\\\\\\\\\\\\\\\\\\\\\\\\\\\\\\\\\\\\\\\\\\\\\\\\\\\\\\\\\\\\\\\\\\\\\\\\\\\\\\\\\\\\\\\\\\\\\\\\\\\\\\\\\\\\\\\\\\\\\\\\\\\\\\\\\\\\\\\\\\\\\\\\\\\\\\\\\\\\\\\\\\\\\\\\\\\\\\\\\\\\\\\\\\\\\\\\\\\\\\\\\\\\\\\\\\\\\\\\\\\\\\\\\\\\\\\\\\\\\\\\\\\\\\\\\\\\\\\\\\\\\\\\\\\\\\\\\\\\\\\\\\\\\\\\\\\\\\\\\\\\\\\\\\\\\\\\\\\\\\\\\\\\\\\\\\\\\\\\\\\\\\\\\\\\\\\\\\\\\\\\\\\\\\\\\\\\\\\\\\\\\\\\\\\\\\\\\\\\\\\\\\\\\\\\\\\\\\\\\\\\\\\\\\\\\\\\\\\\\\\\\\\\\\\\\\\\\\\\\\\\\\\\\\\\\\\\\\\\\\\\\\\\\\\\\\\\\\\\\\\\\\\\\\\\\\\\\\\\\\\\\\\\\\\\\\\\\\\\\\\\\\\\\\\\\\\\\\\\\\\\\\\\\\\\\\\\\\\\\\\\\\\\\\\\\\\\\\\\\\\\\\\\\\\\\\\\\\\\\\\\\\\\\\\\\\\\\\\\\\\\\\\\\\\\\\\\\\\\\\\\\\\\\\\\\\\\\\\\\\\\\\\\\\"
   ]
  },
  {
   "cell_type": "code",
   "execution_count": 5,
   "id": "68ecfaa9",
   "metadata": {},
   "outputs": [],
   "source": [
    "orders_A = orders_us.query('group == \"A\"')\n",
    "orders_B = orders_us.query('group == \"B\"')"
   ]
  },
  {
   "cell_type": "code",
   "execution_count": 6,
   "id": "f6e32606",
   "metadata": {},
   "outputs": [
    {
     "data": {
      "text/html": [
       "<div>\n",
       "<style scoped>\n",
       "    .dataframe tbody tr th:only-of-type {\n",
       "        vertical-align: middle;\n",
       "    }\n",
       "\n",
       "    .dataframe tbody tr th {\n",
       "        vertical-align: top;\n",
       "    }\n",
       "\n",
       "    .dataframe thead th {\n",
       "        text-align: right;\n",
       "    }\n",
       "</style>\n",
       "<table border=\"1\" class=\"dataframe\">\n",
       "  <thead>\n",
       "    <tr style=\"text-align: right;\">\n",
       "      <th></th>\n",
       "      <th>transactionid_x</th>\n",
       "      <th>visitorid</th>\n",
       "      <th>date_x</th>\n",
       "      <th>revenue_x</th>\n",
       "      <th>group_x</th>\n",
       "      <th>transactionid_y</th>\n",
       "      <th>date_y</th>\n",
       "      <th>revenue_y</th>\n",
       "      <th>group_y</th>\n",
       "    </tr>\n",
       "  </thead>\n",
       "  <tbody>\n",
       "    <tr>\n",
       "      <th>56</th>\n",
       "      <td>1415970216</td>\n",
       "      <td>4256040402</td>\n",
       "      <td>2019-08-31</td>\n",
       "      <td>80.500</td>\n",
       "      <td>A</td>\n",
       "      <td>453824282</td>\n",
       "      <td>2019-08-31</td>\n",
       "      <td>30.500</td>\n",
       "      <td>B</td>\n",
       "    </tr>\n",
       "  </tbody>\n",
       "</table>\n",
       "</div>"
      ],
      "text/plain": [
       "    transactionid_x   visitorid     date_x  revenue_x group_x  \\\n",
       "56  1415970216       4256040402 2019-08-31 80.500      A        \n",
       "\n",
       "    transactionid_y     date_y  revenue_y group_y  \n",
       "56  453824282       2019-08-31 30.500      B       "
      ]
     },
     "execution_count": 6,
     "metadata": {},
     "output_type": "execute_result"
    }
   ],
   "source": [
    "both_groups=pd.merge(orders_A,orders_B,how='inner',on='visitorid')\n",
    "both_groups.sample()\n",
    "bad_list=both_groups['visitorid']"
   ]
  },
  {
   "cell_type": "code",
   "execution_count": 7,
   "id": "182bc5f3",
   "metadata": {},
   "outputs": [
    {
     "data": {
      "text/plain": [
       "0    183\n",
       "dtype: int64"
      ]
     },
     "execution_count": 7,
     "metadata": {},
     "output_type": "execute_result"
    }
   ],
   "source": [
    "pd.Series(len(both_groups))\n"
   ]
  },
  {
   "cell_type": "code",
   "execution_count": 8,
   "id": "a7af2279",
   "metadata": {
    "scrolled": true
   },
   "outputs": [
    {
     "name": "stdout",
     "output_type": "stream",
     "text": [
      "<class 'pandas.core.frame.DataFrame'>\n",
      "Int64Index: 1016 entries, 0 to 1196\n",
      "Data columns (total 5 columns):\n",
      " #   Column         Non-Null Count  Dtype         \n",
      "---  ------         --------------  -----         \n",
      " 0   transactionid  1016 non-null   int64         \n",
      " 1   visitorid      1016 non-null   int64         \n",
      " 2   date           1016 non-null   datetime64[ns]\n",
      " 3   revenue        1016 non-null   float64       \n",
      " 4   group          1016 non-null   object        \n",
      "dtypes: datetime64[ns](1), float64(1), int64(2), object(1)\n",
      "memory usage: 47.6+ KB\n",
      "<class 'pandas.core.frame.DataFrame'>\n",
      "RangeIndex: 1197 entries, 0 to 1196\n",
      "Data columns (total 5 columns):\n",
      " #   Column         Non-Null Count  Dtype         \n",
      "---  ------         --------------  -----         \n",
      " 0   transactionid  1197 non-null   int64         \n",
      " 1   visitorid      1197 non-null   int64         \n",
      " 2   date           1197 non-null   datetime64[ns]\n",
      " 3   revenue        1197 non-null   float64       \n",
      " 4   group          1197 non-null   object        \n",
      "dtypes: datetime64[ns](1), float64(1), int64(2), object(1)\n",
      "memory usage: 46.9+ KB\n"
     ]
    }
   ],
   "source": [
    "full_roders=orders_us.copy()\n",
    "orders_us=orders_us[~orders_us['visitorid'].isin(bad_list)]\n",
    "orders_us.info()\n",
    "full_roders.info()"
   ]
  },
  {
   "cell_type": "markdown",
   "id": "4b864274",
   "metadata": {},
   "source": [
    "<b> Now orders is filtered without the bad observations of users saved in both groups. <br><br>\n",
    "We still have full_orders with the original data."
   ]
  },
  {
   "cell_type": "code",
   "execution_count": 9,
   "id": "c29ef647",
   "metadata": {},
   "outputs": [
    {
     "data": {
      "text/html": [
       "<div>\n",
       "<style scoped>\n",
       "    .dataframe tbody tr th:only-of-type {\n",
       "        vertical-align: middle;\n",
       "    }\n",
       "\n",
       "    .dataframe tbody tr th {\n",
       "        vertical-align: top;\n",
       "    }\n",
       "\n",
       "    .dataframe thead th {\n",
       "        text-align: right;\n",
       "    }\n",
       "</style>\n",
       "<table border=\"1\" class=\"dataframe\">\n",
       "  <thead>\n",
       "    <tr style=\"text-align: right;\">\n",
       "      <th></th>\n",
       "      <th>date</th>\n",
       "      <th>group</th>\n",
       "      <th>visits</th>\n",
       "    </tr>\n",
       "  </thead>\n",
       "  <tbody>\n",
       "    <tr>\n",
       "      <th>14</th>\n",
       "      <td>2019-08-15</td>\n",
       "      <td>A</td>\n",
       "      <td>628</td>\n",
       "    </tr>\n",
       "  </tbody>\n",
       "</table>\n",
       "</div>"
      ],
      "text/plain": [
       "         date group  visits\n",
       "14 2019-08-15  A     628   "
      ]
     },
     "execution_count": 9,
     "metadata": {},
     "output_type": "execute_result"
    }
   ],
   "source": [
    "visits_us.sample()"
   ]
  },
  {
   "cell_type": "code",
   "execution_count": 10,
   "id": "9977169a",
   "metadata": {
    "scrolled": true
   },
   "outputs": [
    {
     "name": "stdout",
     "output_type": "stream",
     "text": [
      "<class 'pandas.core.frame.DataFrame'>\n",
      "Int64Index: 62 entries, 0 to 61\n",
      "Data columns (total 3 columns):\n",
      " #   Column  Non-Null Count  Dtype         \n",
      "---  ------  --------------  -----         \n",
      " 0   date    62 non-null     datetime64[ns]\n",
      " 1   group   62 non-null     object        \n",
      " 2   visits  62 non-null     int64         \n",
      "dtypes: datetime64[ns](1), int64(1), object(1)\n",
      "memory usage: 1.9+ KB\n",
      "percentiles: 90%, 95%, 99% [733.7  747.9  769.39]\n"
     ]
    },
    {
     "data": {
      "image/png": "[encoded data removed]",
      "text/plain": [
       "<Figure size 864x432 with 1 Axes>"
      ]
     },
     "metadata": {
      "needs_background": "light"
     },
     "output_type": "display_data"
    }
   ],
   "source": [
    "# checking visits:\n",
    "\n",
    "visits_us=visits_us.drop_duplicates()\n",
    "visits_us.info()\n",
    "plt.rcParams[\"figure.figsize\"]=(12,6)\n",
    "plt.hist\n",
    "plt.hist (visits_us['visits'])\n",
    "plt.title('observation on number of visits', fontsize=16)\n",
    "plt.xlabel('number of visits')\n",
    "plt.ylabel('observations')\n",
    "\n",
    "print('percentiles: 90%, 95%, 99%',np.percentile(visits_us['visits'],[90,95,99]));"
   ]
  },
  {
   "cell_type": "markdown",
   "id": "59e21656",
   "metadata": {},
   "source": [
    "<b> It doesn't seem like we have any outliers needed to be taken care of."
   ]
  },
  {
   "cell_type": "code",
   "execution_count": 11,
   "id": "8e0d2e8c",
   "metadata": {
    "scrolled": true
   },
   "outputs": [
    {
     "data": {
      "text/plain": [
       "2019-08-27    2\n",
       "2019-08-24    2\n",
       "2019-08-08    2\n",
       "2019-08-14    2\n",
       "2019-08-20    2\n",
       "2019-08-26    2\n",
       "2019-08-01    2\n",
       "2019-08-07    2\n",
       "2019-08-13    2\n",
       "2019-08-19    2\n",
       "2019-08-25    2\n",
       "2019-08-31    2\n",
       "2019-08-06    2\n",
       "2019-08-12    2\n",
       "2019-08-18    2\n",
       "2019-08-30    2\n",
       "2019-08-21    2\n",
       "2019-08-05    2\n",
       "2019-08-11    2\n",
       "2019-08-17    2\n",
       "2019-08-23    2\n",
       "2019-08-29    2\n",
       "2019-08-04    2\n",
       "2019-08-10    2\n",
       "2019-08-16    2\n",
       "2019-08-22    2\n",
       "2019-08-28    2\n",
       "2019-08-03    2\n",
       "2019-08-09    2\n",
       "2019-08-15    2\n",
       "2019-08-02    2\n",
       "Name: date, dtype: int64"
      ]
     },
     "execution_count": 11,
     "metadata": {},
     "output_type": "execute_result"
    }
   ],
   "source": [
    "visits_us['date'].value_counts()"
   ]
  },
  {
   "cell_type": "markdown",
   "id": "ee9e2d69",
   "metadata": {},
   "source": [
    "<b> 31 observations with 2 groups each, like expected."
   ]
  },
  {
   "cell_type": "markdown",
   "id": "d8517b2e",
   "metadata": {},
   "source": [
    "\\\\\\\\\\\\\\\\\\\\\\\\\\\\\\\\\\\\\\\\\\\\\\\\\\\\\\\\\\\\\\\\\\\\\\\\\\\\\\\\\\\\\\\\\\\\\\\\\\\\\\\\\\\\\\\\\\\\\\\\\\\\\\\\\\\\\\\\\\\\\\\\\\\\\\\\\\\\\\\\\\\\\\\\\\\\\\\\\\\\\\\\\\\\\\\\\\\\\\\\\\\\\\\\\\\\\\\\\\\\\\\\\\\\\\\\\\\\\\\\\\\\\\\\\\\\\\\\\\\\\\\\\\\\\\\\\\\\\\\\\\\\\\\\\\\\\\\\\\\\\\\\\\\\\\\\\\\\\\\\\\\\\\\\\\\\\\\\\\\\\\\\\\\\\\\\\\\\\\\\\\\\\\\\\\\\\\\\\\\\\\\\\\\\\\\\\\\\\\\\\\\\\\\\\\\\\\\\\\\\\\\\\\\\\\\\\\\\\\\\\\\\\\\\\\\\\\\\\\\\\\\\\\\\\\\\\\\\\\\\\\\\\\\\\\\\\\\\\\\\\\\\\\\\\\\\\\\\\\\\\\\\\\\\\\\\\\\\\\\\\\\\\\\\\\\\\\\\\\\\\\\\\\\\\\\\\\\\\\\\\\\\\\\\\\\\\\\\\\\\\\\\\\\\\\\\\\\\\\\\\\\\\\\\\\\\\\\\\\\\\\\\\\\\\\\\\\\\\\\\\\\\\\\\\\\\\\\\\\\\\\\\\\\\\\\\\\\\\\\\\\\\\\\\\\\\\\\\\\\\\\\\\\\\\\\\\\\\\\\\\\\\\\\\\\\\\\\\\\\\\\\\\\\\\\\\\\\\\\\\\\\\\\\\\\\\\\\\\\\\\\\\\\\\\\\\\\\\\\\\\\\\\\\\\\\\\\\\\\\\\\\\\\\\\\\\\\\\\\\\\\\\\\\\\\\\\\\\\\\\\\\\\\\\\\\\\\\\\\\\\\\\\\\\\\\\\\\\\\\\\\\\\\\\\\\\\\\\\\\\\\\\\\\\\\\\\\\\\\\\\\\\\\\\\\\\\\\\\\\\\\\\\\\\\\\\\\\\\\\\\\\\\\\\\\\\\\\\"
   ]
  },
  {
   "cell_type": "markdown",
   "id": "fbd619b0",
   "metadata": {},
   "source": [
    "#  preprocess the data"
   ]
  },
  {
   "cell_type": "markdown",
   "id": "e8a4c62b",
   "metadata": {},
   "source": [
    "## Apply the ICE framework to prioritize hypotheses. Sort them in descending order of priority."
   ]
  },
  {
   "cell_type": "code",
   "execution_count": 12,
   "id": "ea2e9e07",
   "metadata": {},
   "outputs": [
    {
     "data": {
      "text/html": [
       "<div>\n",
       "<style scoped>\n",
       "    .dataframe tbody tr th:only-of-type {\n",
       "        vertical-align: middle;\n",
       "    }\n",
       "\n",
       "    .dataframe tbody tr th {\n",
       "        vertical-align: top;\n",
       "    }\n",
       "\n",
       "    .dataframe thead th {\n",
       "        text-align: right;\n",
       "    }\n",
       "</style>\n",
       "<table border=\"1\" class=\"dataframe\">\n",
       "  <thead>\n",
       "    <tr style=\"text-align: right;\">\n",
       "      <th></th>\n",
       "      <th>hypothesis</th>\n",
       "      <th>reach</th>\n",
       "      <th>impact</th>\n",
       "      <th>confidence</th>\n",
       "      <th>effort</th>\n",
       "    </tr>\n",
       "  </thead>\n",
       "  <tbody>\n",
       "    <tr>\n",
       "      <th>0</th>\n",
       "      <td>Add two new channels for attracting traffic. This will bring 30% more users</td>\n",
       "      <td>3</td>\n",
       "      <td>10</td>\n",
       "      <td>8</td>\n",
       "      <td>6</td>\n",
       "    </tr>\n",
       "    <tr>\n",
       "      <th>1</th>\n",
       "      <td>Launch your own delivery service. This will shorten delivery time</td>\n",
       "      <td>2</td>\n",
       "      <td>5</td>\n",
       "      <td>4</td>\n",
       "      <td>10</td>\n",
       "    </tr>\n",
       "    <tr>\n",
       "      <th>2</th>\n",
       "      <td>Add product recommendation blocks to the store's site. This will increase conversion and average purchase size</td>\n",
       "      <td>8</td>\n",
       "      <td>3</td>\n",
       "      <td>7</td>\n",
       "      <td>3</td>\n",
       "    </tr>\n",
       "    <tr>\n",
       "      <th>3</th>\n",
       "      <td>Change the category structure. This will increase conversion since users will find the products they want more quickly</td>\n",
       "      <td>8</td>\n",
       "      <td>3</td>\n",
       "      <td>3</td>\n",
       "      <td>8</td>\n",
       "    </tr>\n",
       "    <tr>\n",
       "      <th>4</th>\n",
       "      <td>Change the background color on the main page. This will increase user engagement</td>\n",
       "      <td>3</td>\n",
       "      <td>1</td>\n",
       "      <td>1</td>\n",
       "      <td>1</td>\n",
       "    </tr>\n",
       "  </tbody>\n",
       "</table>\n",
       "</div>"
      ],
      "text/plain": [
       "                                                                                                               hypothesis  \\\n",
       "0  Add two new channels for attracting traffic. This will bring 30% more users                                              \n",
       "1  Launch your own delivery service. This will shorten delivery time                                                        \n",
       "2  Add product recommendation blocks to the store's site. This will increase conversion and average purchase size           \n",
       "3  Change the category structure. This will increase conversion since users will find the products they want more quickly   \n",
       "4  Change the background color on the main page. This will increase user engagement                                         \n",
       "\n",
       "   reach  impact  confidence  effort  \n",
       "0  3      10      8           6       \n",
       "1  2      5       4           10      \n",
       "2  8      3       7           3       \n",
       "3  8      3       3           8       \n",
       "4  3      1       1           1       "
      ]
     },
     "execution_count": 12,
     "metadata": {},
     "output_type": "execute_result"
    }
   ],
   "source": [
    "hypotheses_us.head()"
   ]
  },
  {
   "cell_type": "code",
   "execution_count": 13,
   "id": "04ca9c1f",
   "metadata": {},
   "outputs": [],
   "source": [
    "hypotheses_us['ice_score']=hypotheses_us.impact*hypotheses_us.confidence/hypotheses_us.effort"
   ]
  },
  {
   "cell_type": "code",
   "execution_count": 14,
   "id": "af20fa2a",
   "metadata": {
    "scrolled": true
   },
   "outputs": [
    {
     "data": {
      "text/html": [
       "<div>\n",
       "<style scoped>\n",
       "    .dataframe tbody tr th:only-of-type {\n",
       "        vertical-align: middle;\n",
       "    }\n",
       "\n",
       "    .dataframe tbody tr th {\n",
       "        vertical-align: top;\n",
       "    }\n",
       "\n",
       "    .dataframe thead th {\n",
       "        text-align: right;\n",
       "    }\n",
       "</style>\n",
       "<table border=\"1\" class=\"dataframe\">\n",
       "  <thead>\n",
       "    <tr style=\"text-align: right;\">\n",
       "      <th></th>\n",
       "      <th>hypothesis</th>\n",
       "      <th>reach</th>\n",
       "      <th>impact</th>\n",
       "      <th>confidence</th>\n",
       "      <th>effort</th>\n",
       "      <th>ice_score</th>\n",
       "    </tr>\n",
       "  </thead>\n",
       "  <tbody>\n",
       "    <tr>\n",
       "      <th>8</th>\n",
       "      <td>Launch a promotion that gives users discounts on their birthdays</td>\n",
       "      <td>1</td>\n",
       "      <td>9</td>\n",
       "      <td>9</td>\n",
       "      <td>5</td>\n",
       "      <td>16.200</td>\n",
       "    </tr>\n",
       "    <tr>\n",
       "      <th>0</th>\n",
       "      <td>Add two new channels for attracting traffic. This will bring 30% more users</td>\n",
       "      <td>3</td>\n",
       "      <td>10</td>\n",
       "      <td>8</td>\n",
       "      <td>6</td>\n",
       "      <td>13.333</td>\n",
       "    </tr>\n",
       "    <tr>\n",
       "      <th>7</th>\n",
       "      <td>Add a subscription form to all the main pages. This will help you compile a mailing list</td>\n",
       "      <td>10</td>\n",
       "      <td>7</td>\n",
       "      <td>8</td>\n",
       "      <td>5</td>\n",
       "      <td>11.200</td>\n",
       "    </tr>\n",
       "    <tr>\n",
       "      <th>6</th>\n",
       "      <td>Show banners with current offers and sales on the main page. This will boost conversion</td>\n",
       "      <td>5</td>\n",
       "      <td>3</td>\n",
       "      <td>8</td>\n",
       "      <td>3</td>\n",
       "      <td>8.000</td>\n",
       "    </tr>\n",
       "    <tr>\n",
       "      <th>2</th>\n",
       "      <td>Add product recommendation blocks to the store's site. This will increase conversion and average purchase size</td>\n",
       "      <td>8</td>\n",
       "      <td>3</td>\n",
       "      <td>7</td>\n",
       "      <td>3</td>\n",
       "      <td>7.000</td>\n",
       "    </tr>\n",
       "    <tr>\n",
       "      <th>1</th>\n",
       "      <td>Launch your own delivery service. This will shorten delivery time</td>\n",
       "      <td>2</td>\n",
       "      <td>5</td>\n",
       "      <td>4</td>\n",
       "      <td>10</td>\n",
       "      <td>2.000</td>\n",
       "    </tr>\n",
       "    <tr>\n",
       "      <th>5</th>\n",
       "      <td>Add a customer review page. This will increase the number of orders</td>\n",
       "      <td>3</td>\n",
       "      <td>2</td>\n",
       "      <td>2</td>\n",
       "      <td>3</td>\n",
       "      <td>1.333</td>\n",
       "    </tr>\n",
       "    <tr>\n",
       "      <th>3</th>\n",
       "      <td>Change the category structure. This will increase conversion since users will find the products they want more quickly</td>\n",
       "      <td>8</td>\n",
       "      <td>3</td>\n",
       "      <td>3</td>\n",
       "      <td>8</td>\n",
       "      <td>1.125</td>\n",
       "    </tr>\n",
       "    <tr>\n",
       "      <th>4</th>\n",
       "      <td>Change the background color on the main page. This will increase user engagement</td>\n",
       "      <td>3</td>\n",
       "      <td>1</td>\n",
       "      <td>1</td>\n",
       "      <td>1</td>\n",
       "      <td>1.000</td>\n",
       "    </tr>\n",
       "  </tbody>\n",
       "</table>\n",
       "</div>"
      ],
      "text/plain": [
       "                                                                                                               hypothesis  \\\n",
       "8  Launch a promotion that gives users discounts on their birthdays                                                         \n",
       "0  Add two new channels for attracting traffic. This will bring 30% more users                                              \n",
       "7  Add a subscription form to all the main pages. This will help you compile a mailing list                                 \n",
       "6  Show banners with current offers and sales on the main page. This will boost conversion                                  \n",
       "2  Add product recommendation blocks to the store's site. This will increase conversion and average purchase size           \n",
       "1  Launch your own delivery service. This will shorten delivery time                                                        \n",
       "5  Add a customer review page. This will increase the number of orders                                                      \n",
       "3  Change the category structure. This will increase conversion since users will find the products they want more quickly   \n",
       "4  Change the background color on the main page. This will increase user engagement                                         \n",
       "\n",
       "   reach  impact  confidence  effort  ice_score  \n",
       "8  1      9       9           5      16.200      \n",
       "0  3      10      8           6      13.333      \n",
       "7  10     7       8           5      11.200      \n",
       "6  5      3       8           3      8.000       \n",
       "2  8      3       7           3      7.000       \n",
       "1  2      5       4           10     2.000       \n",
       "5  3      2       2           3      1.333       \n",
       "3  8      3       3           8      1.125       \n",
       "4  3      1       1           1      1.000       "
      ]
     },
     "execution_count": 14,
     "metadata": {},
     "output_type": "execute_result"
    }
   ],
   "source": [
    "hypotheses_us.sort_values(by='ice_score',ascending = False)"
   ]
  },
  {
   "cell_type": "markdown",
   "id": "594bd7da",
   "metadata": {},
   "source": [
    "## Apply the RICE framework to prioritize hypotheses. Sort them in descending order of priority"
   ]
  },
  {
   "cell_type": "code",
   "execution_count": 15,
   "id": "5e8273c3",
   "metadata": {},
   "outputs": [],
   "source": [
    "hypotheses_us['rice_score']=hypotheses_us.reach*hypotheses_us.ice_score"
   ]
  },
  {
   "cell_type": "code",
   "execution_count": 16,
   "id": "28250b8a",
   "metadata": {
    "scrolled": true
   },
   "outputs": [
    {
     "data": {
      "text/html": [
       "<div>\n",
       "<style scoped>\n",
       "    .dataframe tbody tr th:only-of-type {\n",
       "        vertical-align: middle;\n",
       "    }\n",
       "\n",
       "    .dataframe tbody tr th {\n",
       "        vertical-align: top;\n",
       "    }\n",
       "\n",
       "    .dataframe thead th {\n",
       "        text-align: right;\n",
       "    }\n",
       "</style>\n",
       "<table border=\"1\" class=\"dataframe\">\n",
       "  <thead>\n",
       "    <tr style=\"text-align: right;\">\n",
       "      <th></th>\n",
       "      <th>hypothesis</th>\n",
       "      <th>reach</th>\n",
       "      <th>impact</th>\n",
       "      <th>confidence</th>\n",
       "      <th>effort</th>\n",
       "      <th>ice_score</th>\n",
       "      <th>rice_score</th>\n",
       "    </tr>\n",
       "  </thead>\n",
       "  <tbody>\n",
       "    <tr>\n",
       "      <th>7</th>\n",
       "      <td>Add a subscription form to all the main pages. This will help you compile a mailing list</td>\n",
       "      <td>10</td>\n",
       "      <td>7</td>\n",
       "      <td>8</td>\n",
       "      <td>5</td>\n",
       "      <td>11.200</td>\n",
       "      <td>112.000</td>\n",
       "    </tr>\n",
       "    <tr>\n",
       "      <th>2</th>\n",
       "      <td>Add product recommendation blocks to the store's site. This will increase conversion and average purchase size</td>\n",
       "      <td>8</td>\n",
       "      <td>3</td>\n",
       "      <td>7</td>\n",
       "      <td>3</td>\n",
       "      <td>7.000</td>\n",
       "      <td>56.000</td>\n",
       "    </tr>\n",
       "    <tr>\n",
       "      <th>0</th>\n",
       "      <td>Add two new channels for attracting traffic. This will bring 30% more users</td>\n",
       "      <td>3</td>\n",
       "      <td>10</td>\n",
       "      <td>8</td>\n",
       "      <td>6</td>\n",
       "      <td>13.333</td>\n",
       "      <td>40.000</td>\n",
       "    </tr>\n",
       "    <tr>\n",
       "      <th>6</th>\n",
       "      <td>Show banners with current offers and sales on the main page. This will boost conversion</td>\n",
       "      <td>5</td>\n",
       "      <td>3</td>\n",
       "      <td>8</td>\n",
       "      <td>3</td>\n",
       "      <td>8.000</td>\n",
       "      <td>40.000</td>\n",
       "    </tr>\n",
       "    <tr>\n",
       "      <th>8</th>\n",
       "      <td>Launch a promotion that gives users discounts on their birthdays</td>\n",
       "      <td>1</td>\n",
       "      <td>9</td>\n",
       "      <td>9</td>\n",
       "      <td>5</td>\n",
       "      <td>16.200</td>\n",
       "      <td>16.200</td>\n",
       "    </tr>\n",
       "    <tr>\n",
       "      <th>3</th>\n",
       "      <td>Change the category structure. This will increase conversion since users will find the products they want more quickly</td>\n",
       "      <td>8</td>\n",
       "      <td>3</td>\n",
       "      <td>3</td>\n",
       "      <td>8</td>\n",
       "      <td>1.125</td>\n",
       "      <td>9.000</td>\n",
       "    </tr>\n",
       "    <tr>\n",
       "      <th>1</th>\n",
       "      <td>Launch your own delivery service. This will shorten delivery time</td>\n",
       "      <td>2</td>\n",
       "      <td>5</td>\n",
       "      <td>4</td>\n",
       "      <td>10</td>\n",
       "      <td>2.000</td>\n",
       "      <td>4.000</td>\n",
       "    </tr>\n",
       "    <tr>\n",
       "      <th>5</th>\n",
       "      <td>Add a customer review page. This will increase the number of orders</td>\n",
       "      <td>3</td>\n",
       "      <td>2</td>\n",
       "      <td>2</td>\n",
       "      <td>3</td>\n",
       "      <td>1.333</td>\n",
       "      <td>4.000</td>\n",
       "    </tr>\n",
       "    <tr>\n",
       "      <th>4</th>\n",
       "      <td>Change the background color on the main page. This will increase user engagement</td>\n",
       "      <td>3</td>\n",
       "      <td>1</td>\n",
       "      <td>1</td>\n",
       "      <td>1</td>\n",
       "      <td>1.000</td>\n",
       "      <td>3.000</td>\n",
       "    </tr>\n",
       "  </tbody>\n",
       "</table>\n",
       "</div>"
      ],
      "text/plain": [
       "                                                                                                               hypothesis  \\\n",
       "7  Add a subscription form to all the main pages. This will help you compile a mailing list                                 \n",
       "2  Add product recommendation blocks to the store's site. This will increase conversion and average purchase size           \n",
       "0  Add two new channels for attracting traffic. This will bring 30% more users                                              \n",
       "6  Show banners with current offers and sales on the main page. This will boost conversion                                  \n",
       "8  Launch a promotion that gives users discounts on their birthdays                                                         \n",
       "3  Change the category structure. This will increase conversion since users will find the products they want more quickly   \n",
       "1  Launch your own delivery service. This will shorten delivery time                                                        \n",
       "5  Add a customer review page. This will increase the number of orders                                                      \n",
       "4  Change the background color on the main page. This will increase user engagement                                         \n",
       "\n",
       "   reach  impact  confidence  effort  ice_score  rice_score  \n",
       "7  10     7       8           5      11.200     112.000      \n",
       "2  8      3       7           3      7.000      56.000       \n",
       "0  3      10      8           6      13.333     40.000       \n",
       "6  5      3       8           3      8.000      40.000       \n",
       "8  1      9       9           5      16.200     16.200       \n",
       "3  8      3       3           8      1.125      9.000        \n",
       "1  2      5       4           10     2.000      4.000        \n",
       "5  3      2       2           3      1.333      4.000        \n",
       "4  3      1       1           1      1.000      3.000        "
      ]
     },
     "execution_count": 16,
     "metadata": {},
     "output_type": "execute_result"
    }
   ],
   "source": [
    "hypotheses_us.sort_values(by='rice_score',ascending = False)"
   ]
  },
  {
   "cell_type": "markdown",
   "id": "3b9a8c39",
   "metadata": {},
   "source": [
    "## Show how the prioritization of hypotheses changes when you use RICE instead of ICE . Provide an explanation for the changes."
   ]
  },
  {
   "cell_type": "markdown",
   "id": "bdf49117",
   "metadata": {},
   "source": [
    "<b>\n",
    "- By using RICE the priority changes it's order but the first 4 hypothesis still having their place but in different order, and the fifth one kept it's place in both cases <br><br>\n",
    "we use ice model when we don't feel the need to differentiate between reach and impact. in some occasions reaching people is our goal and thats our impact, ICE will be good for that,but in an online store, we will need the newer calculation RICE, which is taking in account both reach and impact.<br><br>\n",
    "I've read that Rice is gaining popularity over ICE because it differentiate between impact and reach, whereas in the ICE model, both concepts get mushed together, so we will use RICE scoring when our team wants to differentiate between a feature that might have a big impact for a small audience vs. a small impact for a big audience.<br><br>\n",
    "In our task for the online store it's better to take RICE as the proritizer."
   ]
  },
  {
   "cell_type": "markdown",
   "id": "70cd7d0b",
   "metadata": {
    "scrolled": true
   },
   "source": [
    "<s> fig=px.scatter(hypotheses_us, x=\"ice_score\", y=\"rice_score\", color='hypothesis',width=1300, height=500,)\n",
    "fig.update_layout(legend_tracegroupgap=12)"
   ]
  },
  {
   "cell_type": "markdown",
   "id": "00b5792c",
   "metadata": {},
   "source": [
    "# Part 2. A/B Test Analysis"
   ]
  },
  {
   "cell_type": "markdown",
   "id": "741161f9",
   "metadata": {},
   "source": [
    "<b>\n",
    "- Analyze the A/B test:"
   ]
  },
  {
   "cell_type": "markdown",
   "id": "3cc8d442",
   "metadata": {},
   "source": [
    "## Graph cumulative revenue by group. Make conclusions and conjectures."
   ]
  },
  {
   "cell_type": "code",
   "execution_count": 17,
   "id": "bbf1e3ff",
   "metadata": {},
   "outputs": [
    {
     "data": {
      "image/png": "[encoded data removed]",
      "text/plain": [
       "<Figure size 864x432 with 1 Axes>"
      ]
     },
     "metadata": {
      "needs_background": "light"
     },
     "output_type": "display_data"
    }
   ],
   "source": [
    "revenue_by_group=pd.pivot_table(orders_us, values='revenue',index='date',columns='group',aggfunc=np.sum)\n",
    "cumulative_revenue_by_group=revenue_by_group.cumsum()\n",
    "cumulative_revenue_by_group.sample()\n",
    "cumulative_revenue_by_group.plot()\n",
    "plt.rcParams[\"figure.figsize\"]=(15,6)\n",
    "plt.title('cumulative revenue by group and date',fontsize=16)\n",
    "plt.xlabel('date')\n",
    "plt.ylabel('cumulative revenue');"
   ]
  },
  {
   "cell_type": "markdown",
   "id": "11c3ffcb",
   "metadata": {},
   "source": [
    "<b>\n",
    "The cumulative metrics of group A are consistently lower than those of group B. At the beginning of the test, flunctuation in conversion was observed in both groups. The graph stabilized only toward the half of the test.<br><br>\n",
    "Revenue is rising steadly throughout the whole test. That's a good sign. However, we can see that B group is doing better the whole way and after the half, it just constantly stays in a muchhigher point. This may imply either a surge in the number of oreders or the precence of very expensive orders in the sample.<br><br>\n",
    "We will check for outliers later!"
   ]
  },
  {
   "cell_type": "code",
   "execution_count": 18,
   "id": "28382460",
   "metadata": {},
   "outputs": [
    {
     "data": {
      "text/html": [
       "<div>\n",
       "<style scoped>\n",
       "    .dataframe tbody tr th:only-of-type {\n",
       "        vertical-align: middle;\n",
       "    }\n",
       "\n",
       "    .dataframe tbody tr th {\n",
       "        vertical-align: top;\n",
       "    }\n",
       "\n",
       "    .dataframe thead th {\n",
       "        text-align: right;\n",
       "    }\n",
       "</style>\n",
       "<table border=\"1\" class=\"dataframe\">\n",
       "  <thead>\n",
       "    <tr style=\"text-align: right;\">\n",
       "      <th></th>\n",
       "      <th>date</th>\n",
       "      <th>group</th>\n",
       "      <th>orders</th>\n",
       "      <th>buyers</th>\n",
       "      <th>revenue</th>\n",
       "      <th>visitors</th>\n",
       "    </tr>\n",
       "  </thead>\n",
       "  <tbody>\n",
       "    <tr>\n",
       "      <th>0</th>\n",
       "      <td>2019-08-01</td>\n",
       "      <td>A</td>\n",
       "      <td>23</td>\n",
       "      <td>19</td>\n",
       "      <td>2266.600</td>\n",
       "      <td>719</td>\n",
       "    </tr>\n",
       "    <tr>\n",
       "      <th>1</th>\n",
       "      <td>2019-08-01</td>\n",
       "      <td>B</td>\n",
       "      <td>17</td>\n",
       "      <td>17</td>\n",
       "      <td>967.200</td>\n",
       "      <td>713</td>\n",
       "    </tr>\n",
       "    <tr>\n",
       "      <th>2</th>\n",
       "      <td>2019-08-02</td>\n",
       "      <td>A</td>\n",
       "      <td>42</td>\n",
       "      <td>36</td>\n",
       "      <td>3734.900</td>\n",
       "      <td>1338</td>\n",
       "    </tr>\n",
       "    <tr>\n",
       "      <th>3</th>\n",
       "      <td>2019-08-02</td>\n",
       "      <td>B</td>\n",
       "      <td>40</td>\n",
       "      <td>39</td>\n",
       "      <td>3535.300</td>\n",
       "      <td>1294</td>\n",
       "    </tr>\n",
       "    <tr>\n",
       "      <th>4</th>\n",
       "      <td>2019-08-03</td>\n",
       "      <td>A</td>\n",
       "      <td>66</td>\n",
       "      <td>60</td>\n",
       "      <td>5550.100</td>\n",
       "      <td>1845</td>\n",
       "    </tr>\n",
       "  </tbody>\n",
       "</table>\n",
       "</div>"
      ],
      "text/plain": [
       "        date group  orders  buyers  revenue  visitors\n",
       "0 2019-08-01  A     23      19     2266.600  719     \n",
       "1 2019-08-01  B     17      17     967.200   713     \n",
       "2 2019-08-02  A     42      36     3734.900  1338    \n",
       "3 2019-08-02  B     40      39     3535.300  1294    \n",
       "4 2019-08-03  A     66      60     5550.100  1845    "
      ]
     },
     "execution_count": 18,
     "metadata": {},
     "output_type": "execute_result"
    }
   ],
   "source": [
    "datesGroups = orders_us [['date','group']].drop_duplicates()\n",
    "ordersAggregated = datesGroups.apply(lambda x:\n",
    "                                     orders_us[np.logical_and(orders_us['date']<=x['date'],\n",
    "                                                              orders_us['group']==x['group'])].agg({'date':'max',\n",
    "                                                                                                    'group':'max',\n",
    "                                                                                                    'transactionid':\n",
    "                                                                                     pd.Series.nunique,'visitorid':\n",
    "                                                                                     pd.Series.nunique,\n",
    "                                                                                                    'revenue':'sum'}),\n",
    "                                     axis=1).sort_values(by=['date','group'])\n",
    "\n",
    "# getting aggregated cumulative daily data on visitors\n",
    "visitsAggregated = datesGroups.apply(lambda x:\n",
    "                                     visits_us[np.logical_and(visits_us['date']<=x['date'],\n",
    "                                                              visits_us['group']==x['group'])].agg({'date':'max',\n",
    "                                                                                                    'group':'max',\n",
    "                                                                                                    'visits':'sum'}),\n",
    "                                     axis=1).sort_values(by=['date','group'])\n",
    "\n",
    "# merging the two tables into one and giving its columns descriptive names\n",
    "cumulativeData = ordersAggregated.merge(visitsAggregated, left_on=['date','group'],right_on=['date','group'])\n",
    "cumulativeData.columns=['date','group','orders','buyers','revenue','visitors']\n",
    "cumulativeData.head(5)\n",
    "\n",
    "#DataFrame with cumulative orders and cumulative revenue by day, group A\n",
    "cumulativeRvenueA=cumulativeData[cumulativeData['group']=='A'][['date','revenue','orders']]\n",
    "\n",
    "#DataFrame with cumulative orders and cumulative revenue by day, group B\n",
    "cumulativeRvenueB=cumulativeData[cumulativeData['group']=='B'][['date','revenue','orders']]"
   ]
  },
  {
   "cell_type": "markdown",
   "id": "25253eee",
   "metadata": {},
   "source": [
    "## Graph cumulative average order size by group. Make conclusions and conjectures.\n"
   ]
  },
  {
   "cell_type": "code",
   "execution_count": 19,
   "id": "a3df76f9",
   "metadata": {},
   "outputs": [
    {
     "data": {
      "text/plain": [
       "Index(['transactionid', 'visitorid', 'date', 'revenue', 'group'], dtype='object')"
      ]
     },
     "execution_count": 19,
     "metadata": {},
     "output_type": "execute_result"
    }
   ],
   "source": [
    "orders_us.columns"
   ]
  },
  {
   "cell_type": "code",
   "execution_count": 20,
   "id": "4e705abb",
   "metadata": {},
   "outputs": [],
   "source": [
    "orders_=orders_us.copy()\n",
    "visits_=visits_us.copy()"
   ]
  },
  {
   "cell_type": "code",
   "execution_count": 21,
   "id": "9ea84c1d",
   "metadata": {
    "scrolled": false
   },
   "outputs": [
    {
     "data": {
      "image/png": "[encoded data removed]",
      "text/plain": [
       "<Figure size 1080x432 with 1 Axes>"
      ]
     },
     "metadata": {
      "needs_background": "light"
     },
     "output_type": "display_data"
    }
   ],
   "source": [
    "# remove visitors that have gotten into both groups A & B\n",
    "# filtering double group visitors and grouping them in the list\n",
    "doubles_list=list(orders_.groupby(['visitorid'])['group'].nunique().reset_index().query('group > 1')['visitorid'])\n",
    "\n",
    "# filtering orders_ dataset by doubles list\n",
    "orders_=orders_[~orders_['visitorid'].isin(doubles_list)]\n",
    "\n",
    "# separating orders_ and visits_ tables by test groups\n",
    "orders_a = orders_[orders_['group']=='A']\n",
    "orders_b = orders_[orders_['group']=='B']\n",
    "visits_a = visits_[visits_['group']=='A']\n",
    "visits_b = visits_[visits_['group']=='B']\n",
    "\n",
    "# calculating cumulative revenue\n",
    "orders_a_rev=orders_a.groupby(['date'])['revenue'].sum().cumsum()\n",
    "orders_b_rev=orders_b.groupby(['date'])['revenue'].sum().cumsum()\n",
    "\n",
    "# calculating cumulative orders\n",
    "orders_a_size=orders_a.groupby(['date'])['transactionid'].sum().cumsum()\n",
    "orders_b_size=orders_b.groupby(['date'])['transactionid'].sum().cumsum()\n",
    "\n",
    "# calculating cumulative order size\n",
    "avg_orders_a=orders_a_rev/orders_a_size\n",
    "avg_orders_b=orders_b_rev/orders_b_size\n",
    "\n",
    "# visualizing\n",
    "plt.rcParams[\"figure.figsize\"]=(15,6)\n",
    "plt.title('Cumulative Average Order Size')\n",
    "avg_orders_a.plot(label='Group A')\n",
    "avg_orders_b.plot(label='Group B')\n",
    "plt.ylabel('Order size')\n",
    "plt.legend();"
   ]
  },
  {
   "cell_type": "markdown",
   "id": "7655d53a",
   "metadata": {},
   "source": [
    "<b> Average purchase size is not becoming steady during the test, only by the end of it both stater moving down together and this might mean that average purchase sizes are droping. we can see that both groups see spikes in revenue at certain points and it is switching all the time, staying steady around the same values but a small pick for A and a huge pick for B around 19 days since the beginning of the test. The surge in group B in the test may have have been due to the presence of large, expensive orders. We need more data on this group to find the true average purchase size and establish the level.<br><br>\n",
    "And we could recommend to continue testing and see if average sizes stabelize. though it still looks like there is some kind of a general lead here for group B, we just need to check if it's not because of the anomalies."
   ]
  },
  {
   "cell_type": "markdown",
   "id": "2d66d2b5",
   "metadata": {},
   "source": [
    "## Graph the relative difference in cumulative average order size for group B compared with group A. Make conclusions and conjectures."
   ]
  },
  {
   "cell_type": "code",
   "execution_count": 22,
   "id": "b47f0640",
   "metadata": {
    "scrolled": true
   },
   "outputs": [
    {
     "data": {
      "image/png": "[encoded data removed]",
      "text/plain": [
       "<Figure size 1080x432 with 1 Axes>"
      ]
     },
     "metadata": {
      "needs_background": "light"
     },
     "output_type": "display_data"
    }
   ],
   "source": [
    "# calculating difference in cumulative order size\n",
    "rel_diff=(avg_orders_b/avg_orders_a)-1\n",
    "\n",
    "#visualising\n",
    "plt.rcParams[\"figure.figsize\"]=(15,6)\n",
    "plt.title('Relative Difference in Cumulative Average Order')\n",
    "rel_diff.plot(x='date')\n",
    "plt.ylabel('difference')\n",
    "plt.axhline(y=0,color='black',linestyle='--');"
   ]
  },
  {
   "cell_type": "markdown",
   "id": "4292b90a",
   "metadata": {},
   "source": [
    "<b>\n",
    "At several points the difference between the segments spikes, This means there must be some big orders and outlier! We will find them later.<br><br>\n",
    "It seems like most of the time B is higher than A but this also changes along all the way."
   ]
  },
  {
   "cell_type": "markdown",
   "id": "e88af294",
   "metadata": {},
   "source": [
    "## Calculate each group's conversion rate as the ratio of orders to the number of visits for each day. Plot the daily conversion rates of the two groups and describe the difference. Draw conclusions and make conjectures."
   ]
  },
  {
   "cell_type": "code",
   "execution_count": 23,
   "id": "409717c0",
   "metadata": {},
   "outputs": [
    {
     "data": {
      "text/html": [
       "<div>\n",
       "<style scoped>\n",
       "    .dataframe tbody tr th:only-of-type {\n",
       "        vertical-align: middle;\n",
       "    }\n",
       "\n",
       "    .dataframe tbody tr th {\n",
       "        vertical-align: top;\n",
       "    }\n",
       "\n",
       "    .dataframe thead th {\n",
       "        text-align: right;\n",
       "    }\n",
       "</style>\n",
       "<table border=\"1\" class=\"dataframe\">\n",
       "  <thead>\n",
       "    <tr style=\"text-align: right;\">\n",
       "      <th></th>\n",
       "      <th>transactionid</th>\n",
       "      <th>visitorid</th>\n",
       "      <th>date</th>\n",
       "      <th>revenue</th>\n",
       "      <th>group</th>\n",
       "    </tr>\n",
       "  </thead>\n",
       "  <tbody>\n",
       "    <tr>\n",
       "      <th>0</th>\n",
       "      <td>3667963787</td>\n",
       "      <td>3312258926</td>\n",
       "      <td>2019-08-15</td>\n",
       "      <td>30.400</td>\n",
       "      <td>B</td>\n",
       "    </tr>\n",
       "    <tr>\n",
       "      <th>1</th>\n",
       "      <td>2804400009</td>\n",
       "      <td>3642806036</td>\n",
       "      <td>2019-08-15</td>\n",
       "      <td>15.200</td>\n",
       "      <td>B</td>\n",
       "    </tr>\n",
       "    <tr>\n",
       "      <th>3</th>\n",
       "      <td>3797467345</td>\n",
       "      <td>1196621759</td>\n",
       "      <td>2019-08-15</td>\n",
       "      <td>155.100</td>\n",
       "      <td>B</td>\n",
       "    </tr>\n",
       "    <tr>\n",
       "      <th>4</th>\n",
       "      <td>2282983706</td>\n",
       "      <td>2322279887</td>\n",
       "      <td>2019-08-15</td>\n",
       "      <td>40.500</td>\n",
       "      <td>B</td>\n",
       "    </tr>\n",
       "    <tr>\n",
       "      <th>5</th>\n",
       "      <td>182168103</td>\n",
       "      <td>935554773</td>\n",
       "      <td>2019-08-15</td>\n",
       "      <td>35.000</td>\n",
       "      <td>B</td>\n",
       "    </tr>\n",
       "  </tbody>\n",
       "</table>\n",
       "</div>"
      ],
      "text/plain": [
       "   transactionid   visitorid       date  revenue group\n",
       "0  3667963787     3312258926 2019-08-15 30.400    B   \n",
       "1  2804400009     3642806036 2019-08-15 15.200    B   \n",
       "3  3797467345     1196621759 2019-08-15 155.100   B   \n",
       "4  2282983706     2322279887 2019-08-15 40.500    B   \n",
       "5  182168103      935554773  2019-08-15 35.000    B   "
      ]
     },
     "execution_count": 23,
     "metadata": {},
     "output_type": "execute_result"
    }
   ],
   "source": [
    "orders_us.head()"
   ]
  },
  {
   "cell_type": "code",
   "execution_count": 24,
   "id": "a674031d",
   "metadata": {
    "scrolled": false
   },
   "outputs": [
    {
     "data": {
      "text/html": [
       "<div>\n",
       "<style scoped>\n",
       "    .dataframe tbody tr th:only-of-type {\n",
       "        vertical-align: middle;\n",
       "    }\n",
       "\n",
       "    .dataframe tbody tr th {\n",
       "        vertical-align: top;\n",
       "    }\n",
       "\n",
       "    .dataframe thead th {\n",
       "        text-align: right;\n",
       "    }\n",
       "</style>\n",
       "<table border=\"1\" class=\"dataframe\">\n",
       "  <thead>\n",
       "    <tr style=\"text-align: right;\">\n",
       "      <th></th>\n",
       "      <th>date</th>\n",
       "      <th>group</th>\n",
       "      <th>visits</th>\n",
       "    </tr>\n",
       "  </thead>\n",
       "  <tbody>\n",
       "    <tr>\n",
       "      <th>0</th>\n",
       "      <td>2019-08-01</td>\n",
       "      <td>A</td>\n",
       "      <td>719</td>\n",
       "    </tr>\n",
       "    <tr>\n",
       "      <th>1</th>\n",
       "      <td>2019-08-02</td>\n",
       "      <td>A</td>\n",
       "      <td>619</td>\n",
       "    </tr>\n",
       "    <tr>\n",
       "      <th>2</th>\n",
       "      <td>2019-08-03</td>\n",
       "      <td>A</td>\n",
       "      <td>507</td>\n",
       "    </tr>\n",
       "    <tr>\n",
       "      <th>3</th>\n",
       "      <td>2019-08-04</td>\n",
       "      <td>A</td>\n",
       "      <td>717</td>\n",
       "    </tr>\n",
       "    <tr>\n",
       "      <th>4</th>\n",
       "      <td>2019-08-05</td>\n",
       "      <td>A</td>\n",
       "      <td>756</td>\n",
       "    </tr>\n",
       "  </tbody>\n",
       "</table>\n",
       "</div>"
      ],
      "text/plain": [
       "        date group  visits\n",
       "0 2019-08-01  A     719   \n",
       "1 2019-08-02  A     619   \n",
       "2 2019-08-03  A     507   \n",
       "3 2019-08-04  A     717   \n",
       "4 2019-08-05  A     756   "
      ]
     },
     "execution_count": 24,
     "metadata": {},
     "output_type": "execute_result"
    },
    {
     "data": {
      "text/html": [
       "<div>\n",
       "<style scoped>\n",
       "    .dataframe tbody tr th:only-of-type {\n",
       "        vertical-align: middle;\n",
       "    }\n",
       "\n",
       "    .dataframe tbody tr th {\n",
       "        vertical-align: top;\n",
       "    }\n",
       "\n",
       "    .dataframe thead th {\n",
       "        text-align: right;\n",
       "    }\n",
       "</style>\n",
       "<table border=\"1\" class=\"dataframe\">\n",
       "  <thead>\n",
       "    <tr style=\"text-align: right;\">\n",
       "      <th></th>\n",
       "      <th>date</th>\n",
       "      <th>A</th>\n",
       "      <th>B</th>\n",
       "    </tr>\n",
       "  </thead>\n",
       "  <tbody>\n",
       "    <tr>\n",
       "      <th>0</th>\n",
       "      <td>2019-08-01</td>\n",
       "      <td>719</td>\n",
       "      <td>713</td>\n",
       "    </tr>\n",
       "    <tr>\n",
       "      <th>1</th>\n",
       "      <td>2019-08-02</td>\n",
       "      <td>619</td>\n",
       "      <td>581</td>\n",
       "    </tr>\n",
       "    <tr>\n",
       "      <th>2</th>\n",
       "      <td>2019-08-03</td>\n",
       "      <td>507</td>\n",
       "      <td>509</td>\n",
       "    </tr>\n",
       "    <tr>\n",
       "      <th>3</th>\n",
       "      <td>2019-08-04</td>\n",
       "      <td>717</td>\n",
       "      <td>770</td>\n",
       "    </tr>\n",
       "    <tr>\n",
       "      <th>4</th>\n",
       "      <td>2019-08-05</td>\n",
       "      <td>756</td>\n",
       "      <td>707</td>\n",
       "    </tr>\n",
       "  </tbody>\n",
       "</table>\n",
       "</div>"
      ],
      "text/plain": [
       "        date    A    B\n",
       "0 2019-08-01  719  713\n",
       "1 2019-08-02  619  581\n",
       "2 2019-08-03  507  509\n",
       "3 2019-08-04  717  770\n",
       "4 2019-08-05  756  707"
      ]
     },
     "execution_count": 24,
     "metadata": {},
     "output_type": "execute_result"
    }
   ],
   "source": [
    "visits_us.head()\n",
    "number_visits_by_group=pd.pivot_table(visits_us,values='visits',index='date',columns='group',aggfunc=np.sum)\n",
    "number_visits_by_group=pd.DataFrame(number_visits_by_group.to_records())\n",
    "number_visits_by_group.head()"
   ]
  },
  {
   "cell_type": "code",
   "execution_count": 25,
   "id": "d0e3c10c",
   "metadata": {
    "scrolled": false
   },
   "outputs": [
    {
     "data": {
      "text/html": [
       "<div>\n",
       "<style scoped>\n",
       "    .dataframe tbody tr th:only-of-type {\n",
       "        vertical-align: middle;\n",
       "    }\n",
       "\n",
       "    .dataframe tbody tr th {\n",
       "        vertical-align: top;\n",
       "    }\n",
       "\n",
       "    .dataframe thead th {\n",
       "        text-align: right;\n",
       "    }\n",
       "</style>\n",
       "<table border=\"1\" class=\"dataframe\">\n",
       "  <thead>\n",
       "    <tr style=\"text-align: right;\">\n",
       "      <th></th>\n",
       "      <th>transactionid</th>\n",
       "      <th>visitorid</th>\n",
       "      <th>date</th>\n",
       "      <th>revenue</th>\n",
       "      <th>group</th>\n",
       "    </tr>\n",
       "  </thead>\n",
       "  <tbody>\n",
       "    <tr>\n",
       "      <th>0</th>\n",
       "      <td>3667963787</td>\n",
       "      <td>3312258926</td>\n",
       "      <td>2019-08-15</td>\n",
       "      <td>30.400</td>\n",
       "      <td>B</td>\n",
       "    </tr>\n",
       "    <tr>\n",
       "      <th>1</th>\n",
       "      <td>2804400009</td>\n",
       "      <td>3642806036</td>\n",
       "      <td>2019-08-15</td>\n",
       "      <td>15.200</td>\n",
       "      <td>B</td>\n",
       "    </tr>\n",
       "    <tr>\n",
       "      <th>3</th>\n",
       "      <td>3797467345</td>\n",
       "      <td>1196621759</td>\n",
       "      <td>2019-08-15</td>\n",
       "      <td>155.100</td>\n",
       "      <td>B</td>\n",
       "    </tr>\n",
       "    <tr>\n",
       "      <th>4</th>\n",
       "      <td>2282983706</td>\n",
       "      <td>2322279887</td>\n",
       "      <td>2019-08-15</td>\n",
       "      <td>40.500</td>\n",
       "      <td>B</td>\n",
       "    </tr>\n",
       "    <tr>\n",
       "      <th>5</th>\n",
       "      <td>182168103</td>\n",
       "      <td>935554773</td>\n",
       "      <td>2019-08-15</td>\n",
       "      <td>35.000</td>\n",
       "      <td>B</td>\n",
       "    </tr>\n",
       "  </tbody>\n",
       "</table>\n",
       "</div>"
      ],
      "text/plain": [
       "   transactionid   visitorid       date  revenue group\n",
       "0  3667963787     3312258926 2019-08-15 30.400    B   \n",
       "1  2804400009     3642806036 2019-08-15 15.200    B   \n",
       "3  3797467345     1196621759 2019-08-15 155.100   B   \n",
       "4  2282983706     2322279887 2019-08-15 40.500    B   \n",
       "5  182168103      935554773  2019-08-15 35.000    B   "
      ]
     },
     "execution_count": 25,
     "metadata": {},
     "output_type": "execute_result"
    },
    {
     "data": {
      "text/html": [
       "<div>\n",
       "<style scoped>\n",
       "    .dataframe tbody tr th:only-of-type {\n",
       "        vertical-align: middle;\n",
       "    }\n",
       "\n",
       "    .dataframe tbody tr th {\n",
       "        vertical-align: top;\n",
       "    }\n",
       "\n",
       "    .dataframe thead th {\n",
       "        text-align: right;\n",
       "    }\n",
       "</style>\n",
       "<table border=\"1\" class=\"dataframe\">\n",
       "  <thead>\n",
       "    <tr style=\"text-align: right;\">\n",
       "      <th></th>\n",
       "      <th>date</th>\n",
       "      <th>A</th>\n",
       "      <th>B</th>\n",
       "    </tr>\n",
       "  </thead>\n",
       "  <tbody>\n",
       "    <tr>\n",
       "      <th>0</th>\n",
       "      <td>2019-08-01</td>\n",
       "      <td>23</td>\n",
       "      <td>17</td>\n",
       "    </tr>\n",
       "    <tr>\n",
       "      <th>1</th>\n",
       "      <td>2019-08-02</td>\n",
       "      <td>19</td>\n",
       "      <td>23</td>\n",
       "    </tr>\n",
       "    <tr>\n",
       "      <th>2</th>\n",
       "      <td>2019-08-03</td>\n",
       "      <td>24</td>\n",
       "      <td>14</td>\n",
       "    </tr>\n",
       "    <tr>\n",
       "      <th>3</th>\n",
       "      <td>2019-08-04</td>\n",
       "      <td>11</td>\n",
       "      <td>14</td>\n",
       "    </tr>\n",
       "    <tr>\n",
       "      <th>4</th>\n",
       "      <td>2019-08-05</td>\n",
       "      <td>22</td>\n",
       "      <td>21</td>\n",
       "    </tr>\n",
       "  </tbody>\n",
       "</table>\n",
       "</div>"
      ],
      "text/plain": [
       "        date   A   B\n",
       "0 2019-08-01  23  17\n",
       "1 2019-08-02  19  23\n",
       "2 2019-08-03  24  14\n",
       "3 2019-08-04  11  14\n",
       "4 2019-08-05  22  21"
      ]
     },
     "execution_count": 25,
     "metadata": {},
     "output_type": "execute_result"
    }
   ],
   "source": [
    "orders_us.head()\n",
    "number_orders_by_group=pd.pivot_table(orders_us,values='visitorid',index='date',columns='group',aggfunc=np.count_nonzero)\n",
    "number_orders_by_group=pd.DataFrame(number_orders_by_group.to_records())\n",
    "number_orders_by_group.head()"
   ]
  },
  {
   "cell_type": "code",
   "execution_count": 26,
   "id": "facdc0ef",
   "metadata": {
    "scrolled": true
   },
   "outputs": [],
   "source": [
    "conversion_a=number_orders_by_group['A']/number_visits_by_group['A']\n",
    "\n",
    "conversion_b=number_orders_by_group['B']/number_visits_by_group['B']"
   ]
  },
  {
   "cell_type": "code",
   "execution_count": 27,
   "id": "65a20e30",
   "metadata": {
    "scrolled": false
   },
   "outputs": [
    {
     "data": {
      "image/png": "[encoded data removed]",
      "text/plain": [
       "<Figure size 1080x432 with 1 Axes>"
      ]
     },
     "metadata": {
      "needs_background": "light"
     },
     "output_type": "display_data"
    }
   ],
   "source": [
    "plt.plot(number_orders_by_group['date'],conversion_a, label='A')\n",
    "plt.plot(number_orders_by_group['date'],conversion_b, label='B')\n",
    "plt.xticks(rotation = 90);"
   ]
  },
  {
   "cell_type": "markdown",
   "id": "bfa913b9",
   "metadata": {},
   "source": [
    "<b>\n",
    "It's hard to tell which segment is better, since the daily results fluctuate strongly."
   ]
  },
  {
   "cell_type": "code",
   "execution_count": 31,
   "id": "e764a675",
   "metadata": {},
   "outputs": [
    {
     "data": {
      "image/png": "[encoded data removed]",
      "text/plain": [
       "<Figure size 1080x432 with 1 Axes>"
      ]
     },
     "metadata": {
      "needs_background": "light"
     },
     "output_type": "display_data"
    }
   ],
   "source": [
    "# gathering the data into one DataFrame\n",
    "mergedCumulativeRevenue = cumulativeRvenueA.merge(cumulativeRvenueB, left_on='date', right_on='date', how='left', suffixes=['A', 'B'])\n",
    "\n",
    "# plotting a relative difference graph for the average purchase sizes\n",
    "plt.plot(mergedCumulativeRevenue['date'], (mergedCumulativeRevenue['revenueB']/mergedCumulativeRevenue['ordersB'])/(mergedCumulativeRevenue['revenueA']/mergedCumulativeRevenue['ordersA'])-1)\n",
    "plt.axhline(y=0, color='black', linestyle='--')\n",
    "plt.title('Cumulative difference between groups B and A in sum order size by days', fontsize = 16)\n",
    "plt.xlabel('dates')\n",
    "plt.ylabel('Cumulative difference between groups B and A in sum order size')\n",
    "plt.axhline(y=0, color='black', linestyle='--')\n",
    "plt.xticks(rotation=70);"
   ]
  },
  {
   "cell_type": "markdown",
   "id": "c01e7bfe",
   "metadata": {},
   "source": [
    "## Plot a scatter chart of the number of orders per user. Make conclusions and conjectures"
   ]
  },
  {
   "cell_type": "code",
   "execution_count": 27,
   "id": "f6615ace",
   "metadata": {
    "scrolled": true
   },
   "outputs": [
    {
     "data": {
      "image/png": "[encoded data removed]",
      "text/plain": [
       "<Figure size 1080x432 with 1 Axes>"
      ]
     },
     "metadata": {
      "needs_background": "light"
     },
     "output_type": "display_data"
    }
   ],
   "source": [
    "# calculating number of orders per user\n",
    "ord_user=orders_.groupby(['visitorid'])['transactionid'].count()\n",
    "ord_user_a=orders_a.groupby(['visitorid'])['transactionid'].count()\n",
    "ord_user_b=orders_b.groupby(['visitorid'])['transactionid'].count()\n",
    "\n",
    "# visualising\n",
    "plt.rcParams[\"figure.figsize\"]=(15,6)\n",
    "plt.title('Orders Per User')\n",
    "ord_user_a.plot(style='.',label='Group A')\n",
    "ord_user_b.plot(style='.',label='Group B')\n",
    "plt.ylabel('Orders')\n",
    "plt.xlabel('Users')\n",
    "plt.legend();"
   ]
  },
  {
   "cell_type": "markdown",
   "id": "1e21d0b4",
   "metadata": {},
   "source": [
    "<b>\n",
    "Here we notice that many buyers buying 1 order and fewer 2 orders and rarely 3 orders"
   ]
  },
  {
   "cell_type": "markdown",
   "id": "93bf83bd",
   "metadata": {},
   "source": [
    "## Calculate the 95th and 99th percentiles for the number of orders per user. Define the point at which a data point becomes an anomaly."
   ]
  },
  {
   "cell_type": "code",
   "execution_count": 28,
   "id": "e76d14fd",
   "metadata": {},
   "outputs": [
    {
     "name": "stdout",
     "output_type": "stream",
     "text": [
      "percentiles: 90%, 95%, 99% [1. 1. 2.]\n"
     ]
    }
   ],
   "source": [
    "print('percentiles: 90%, 95%, 99%',np.percentile(ord_user,[90,95,99]));"
   ]
  },
  {
   "cell_type": "markdown",
   "id": "4df5906f",
   "metadata": {},
   "source": [
    "<b>\n",
    "Most of our users had only 1 order, only 10% had more and within this 10% we see that just only the 1 last percent is having 2 orders or more, so any user who orders more than 1 is an anomaly.<br><br>\n",
    "This takes us back to the recommendation of finding ways to attract customers to come back or give better service."
   ]
  },
  {
   "cell_type": "markdown",
   "id": "60a0ba22",
   "metadata": {},
   "source": [
    "## Plot a scatter chart of order prices. Make conclusions and conjectures."
   ]
  },
  {
   "cell_type": "code",
   "execution_count": 29,
   "id": "5fd14ee8",
   "metadata": {
    "scrolled": false
   },
   "outputs": [
    {
     "data": {
      "image/png": "[encoded data removed]",
      "text/plain": [
       "<Figure size 1080x432 with 1 Axes>"
      ]
     },
     "metadata": {
      "needs_background": "light"
     },
     "output_type": "display_data"
    }
   ],
   "source": [
    "# visualising order prices\n",
    "plt.rcParams[\"figure.figsize\"]=(15,6)\n",
    "plt.title('Orders Price')\n",
    "plt.scatter(orders_a['transactionid'],orders_a['revenue'],label='Group A',alpha=0.5)\n",
    "plt.scatter(orders_b['transactionid'],orders_b['revenue'],label='Group B',alpha=0.5)\n",
    "plt.ylabel('Revenue')\n",
    "plt.xlabel('Orders')\n",
    "plt.ylim(0,2000)\n",
    "plt.legend();"
   ]
  },
  {
   "cell_type": "markdown",
   "id": "c68b19ea",
   "metadata": {},
   "source": [
    "<b>\n",
    "We can see that most of our observations had revenues lower than 2500 and seems like lower by a lot but we can't really tell<br><br>\n",
    "We see 2 anomalie pointsat around 2500 and 20000 which is a lot! we should check if those were mistakes in the data and in general if our service was a one payment for lifetime then we would assume those were mistakes, but from what I understand we are just not that good with keeping customers and making them want to come and buy more from us."
   ]
  },
  {
   "cell_type": "markdown",
   "id": "ec608b92",
   "metadata": {},
   "source": [
    "## Calculate the 95th and 99th percentiles of order prices. Define the point at which a data point becomes an anomaly."
   ]
  },
  {
   "cell_type": "code",
   "execution_count": 30,
   "id": "b504221e",
   "metadata": {},
   "outputs": [
    {
     "name": "stdout",
     "output_type": "stream",
     "text": [
      "percentiles: 90%, 95%, 99% [280.8   414.275 830.3  ]\n"
     ]
    },
    {
     "data": {
      "text/html": [
       "<div>\n",
       "<style scoped>\n",
       "    .dataframe tbody tr th:only-of-type {\n",
       "        vertical-align: middle;\n",
       "    }\n",
       "\n",
       "    .dataframe tbody tr th {\n",
       "        vertical-align: top;\n",
       "    }\n",
       "\n",
       "    .dataframe thead th {\n",
       "        text-align: right;\n",
       "    }\n",
       "</style>\n",
       "<table border=\"1\" class=\"dataframe\">\n",
       "  <thead>\n",
       "    <tr style=\"text-align: right;\">\n",
       "      <th></th>\n",
       "      <th>transactionid</th>\n",
       "      <th>visitorid</th>\n",
       "      <th>date</th>\n",
       "      <th>revenue</th>\n",
       "      <th>group</th>\n",
       "    </tr>\n",
       "  </thead>\n",
       "  <tbody>\n",
       "    <tr>\n",
       "      <th>0</th>\n",
       "      <td>3667963787</td>\n",
       "      <td>3312258926</td>\n",
       "      <td>2019-08-15</td>\n",
       "      <td>30.400</td>\n",
       "      <td>B</td>\n",
       "    </tr>\n",
       "    <tr>\n",
       "      <th>1</th>\n",
       "      <td>2804400009</td>\n",
       "      <td>3642806036</td>\n",
       "      <td>2019-08-15</td>\n",
       "      <td>15.200</td>\n",
       "      <td>B</td>\n",
       "    </tr>\n",
       "    <tr>\n",
       "      <th>3</th>\n",
       "      <td>3797467345</td>\n",
       "      <td>1196621759</td>\n",
       "      <td>2019-08-15</td>\n",
       "      <td>155.100</td>\n",
       "      <td>B</td>\n",
       "    </tr>\n",
       "    <tr>\n",
       "      <th>4</th>\n",
       "      <td>2282983706</td>\n",
       "      <td>2322279887</td>\n",
       "      <td>2019-08-15</td>\n",
       "      <td>40.500</td>\n",
       "      <td>B</td>\n",
       "    </tr>\n",
       "    <tr>\n",
       "      <th>5</th>\n",
       "      <td>182168103</td>\n",
       "      <td>935554773</td>\n",
       "      <td>2019-08-15</td>\n",
       "      <td>35.000</td>\n",
       "      <td>B</td>\n",
       "    </tr>\n",
       "  </tbody>\n",
       "</table>\n",
       "</div>"
      ],
      "text/plain": [
       "   transactionid   visitorid       date  revenue group\n",
       "0  3667963787     3312258926 2019-08-15 30.400    B   \n",
       "1  2804400009     3642806036 2019-08-15 15.200    B   \n",
       "3  3797467345     1196621759 2019-08-15 155.100   B   \n",
       "4  2282983706     2322279887 2019-08-15 40.500    B   \n",
       "5  182168103      935554773  2019-08-15 35.000    B   "
      ]
     },
     "execution_count": 30,
     "metadata": {},
     "output_type": "execute_result"
    }
   ],
   "source": [
    "print('percentiles: 90%, 95%, 99%',np.percentile(orders_us['revenue'],[90,95,99]));\n",
    "orders_us.head()"
   ]
  },
  {
   "cell_type": "markdown",
   "id": "fd0a9f5e",
   "metadata": {},
   "source": [
    "<b>\n",
    "We can see that that 90% of our observasions had revenues lower than 280.8, which means only 10% had more than that.<br><br>\n",
    "Within these 10% only 5% had more than 414.275 and 1% over 830.3.<br><br>\n",
    "most of our orders are for less than 280, higher orders are rare but get even higher than 830. we should look for ways to make the average order bring more revenue."
   ]
  },
  {
   "cell_type": "markdown",
   "id": "be41fd26",
   "metadata": {},
   "source": [
    "## Find the statistical significance of the difference in conversion between the groups using the raw data. Make conclusions and conjectures."
   ]
  },
  {
   "cell_type": "markdown",
   "id": "baaa3b1d",
   "metadata": {},
   "source": [
    "<b>\n",
    "H0: proportions of trials(visits) and successes(orders) are equal for both groups.<br>\n",
    "H1: proportions of trials and successes are not equal for both groups."
   ]
  },
  {
   "cell_type": "code",
   "execution_count": 31,
   "id": "b18a97b5",
   "metadata": {},
   "outputs": [
    {
     "name": "stdout",
     "output_type": "stream",
     "text": [
      "Relative Gain:  0.160\n",
      "p-value:  0.011\n",
      "we reject the null hypothesis\n"
     ]
    }
   ],
   "source": [
    "alpha=0.05\n",
    "ordersByUsersA=orders_us[orders_us['group']=='A'\n",
    "                        ].groupby('visitorid',as_index='False').agg({'transactionid':pd.Series.nunique}).reset_index()\n",
    "ordersByUsersA.columns = ['visitorid','transactionid']\n",
    "\n",
    "ordersByUsersB=orders_us[orders_us['group']=='B'\n",
    "                        ].groupby('visitorid',as_index='False').agg({'transactionid':pd.Series.nunique}).reset_index()\n",
    "ordersByUsersB.columns = ['visitorid','transactionid']\n",
    "\n",
    "SampleA=pd.concat([ordersByUsersA['transactionid'],pd.Series(0,\n",
    "                                                             index=np.arange(visits_us[visits_us['group']=='A']\n",
    "                                                                             ['visits'].sum()-len(ordersByUsersA[\n",
    "                                                                                 'transactionid'])),name='transactionid')]\n",
    "                  ,axis=0)\n",
    "\n",
    "SampleB=pd.concat([ordersByUsersB['transactionid'],pd.Series(0,\n",
    "                                                             index=np.arange(visits_us[visits_us['group']=='B']\n",
    "                                                                             ['visits'].sum()-len(ordersByUsersB[\n",
    "                                                                                 'transactionid'])),name='transactionid')]\n",
    "                  ,axis=0)\n",
    "\n",
    "print('Relative Gain: ', \"{0:.3f}\".format(SampleB.mean()/SampleA.mean()-1))\n",
    "\n",
    "result=st.mannwhitneyu(SampleA,SampleB)[1]\n",
    "\n",
    "print('p-value: ', \"{0:.3f}\".format(result))\n",
    "\n",
    "if (result<alpha):\n",
    "    print('we reject the null hypothesis')\n",
    "else:\n",
    "    print(\"we can't reject the null hypothesis\")"
   ]
  },
  {
   "cell_type": "code",
   "execution_count": 32,
   "id": "79428b45",
   "metadata": {},
   "outputs": [
    {
     "data": {
      "text/plain": [
       "0        1\n",
       "1        1\n",
       "2        1\n",
       "3        1\n",
       "4        1\n",
       "        ..\n",
       "18286    0\n",
       "18287    0\n",
       "18288    0\n",
       "18289    0\n",
       "18290    0\n",
       "Name: transactionid, Length: 18736, dtype: int64"
      ]
     },
     "execution_count": 32,
     "metadata": {},
     "output_type": "execute_result"
    }
   ],
   "source": [
    "SampleA"
   ]
  },
  {
   "cell_type": "markdown",
   "id": "3c2ec744",
   "metadata": {},
   "source": [
    "<b>\n",
    "Based on the raw data, there is a difference between group A and B and we reject the null hypothesis that they are the same.<br><br>\n",
    "The first row of the output gives us the P-value 0.011, which is smaller than 0.05. So we reject the null hypothesis that there is not a statistically significant difference in conversion between the groups.<br><br>\n",
    "And the relative gain of group B is 16% (the second row of the output)."
   ]
  },
  {
   "cell_type": "markdown",
   "id": "a7f46eed",
   "metadata": {},
   "source": [
    "## Find the statistical significance of the difference in average order size between the groups using the raw data. Make conclusions and conjectures."
   ]
  },
  {
   "cell_type": "markdown",
   "id": "884b968e",
   "metadata": {},
   "source": [
    "<b>\n",
    "H0: proportions of trials(visits) and successes(orders) are equal for both groups.<br>\n",
    "H1: proportions of trials and successes are not equal for both groups."
   ]
  },
  {
   "cell_type": "code",
   "execution_count": 33,
   "id": "e285eed4",
   "metadata": {},
   "outputs": [
    {
     "name": "stdout",
     "output_type": "stream",
     "text": [
      "significance_of_difference:  0.278\n",
      "p-value:  0.862\n",
      "we can't reject the null hypothesis\n"
     ]
    }
   ],
   "source": [
    "print('significance_of_difference: ', \"{0:.3f}\".format(orders_us[orders_us['group']=='B']['revenue'].mean()/orders_us[orders_us['group']=='A']['revenue'].mean()-1))\n",
    "\n",
    "result=st.mannwhitneyu(orders_us[orders_us['group']=='A']['revenue'],orders_us[orders_us['group']=='B']['revenue'])[1]\n",
    "\n",
    "print('p-value: ', \"{0:.3f}\".format(result))\n",
    "\n",
    "if (result<alpha):\n",
    "    print('we reject the null hypothesis')\n",
    "else:\n",
    "    print(\"we can't reject the null hypothesis\")"
   ]
  },
  {
   "cell_type": "code",
   "execution_count": 34,
   "id": "92300a31",
   "metadata": {},
   "outputs": [
    {
     "name": "stdout",
     "output_type": "stream",
     "text": [
      "Group A orders revenue mean: 113.701\n",
      "Group B orders revenue mean: 145.349\n"
     ]
    }
   ],
   "source": [
    "print('Group A orders revenue mean:', \"{0:.3f}\".format(orders_a['revenue'].mean()))\n",
    "print('Group B orders revenue mean:', \"{0:.3f}\".format(orders_b['revenue'].mean()))"
   ]
  },
  {
   "cell_type": "markdown",
   "id": "9840a575",
   "metadata": {},
   "source": [
    "<b>\n",
    "The P-value(0.862) is considerably higher than 0.05, so there is no reason to reject the null hypothesis and conclude that average order size differs between the groups.<br>\n",
    "Nonetheless, the average order size for group B is bigger than it is for group A at some points and have bigger picks.<br>\n",
    "If I understood right, then 0.278 means that the average order size for group B is 27.8% bigger than the size for group A. We can also see it from just calculating the means that B has a bigger mean, this probably refers to the pick points we saw earlier."
   ]
  },
  {
   "cell_type": "markdown",
   "id": "a1c90b27",
   "metadata": {},
   "source": [
    "## Find the statistical significance of the difference in conversion between the groups using the filtered data. Make conclusions and conjectures."
   ]
  },
  {
   "cell_type": "code",
   "execution_count": 35,
   "id": "c79b5ec9",
   "metadata": {
    "scrolled": true
   },
   "outputs": [
    {
     "data": {
      "text/plain": [
       "568     113298937\n",
       "1099    148427295\n",
       "928     204675465\n",
       "33      249864742\n",
       "684     358944393\n",
       "Name: visitorid, dtype: int64"
      ]
     },
     "execution_count": 35,
     "metadata": {},
     "output_type": "execute_result"
    },
    {
     "data": {
      "text/plain": [
       "(86,)"
      ]
     },
     "execution_count": 35,
     "metadata": {},
     "output_type": "execute_result"
    }
   ],
   "source": [
    "# lets see how many anomalous behaviours we have recorded:\n",
    "usersWithManyOrders=pd.concat([ordersByUsersA[ordersByUsersA['transactionid']>1]['visitorid'],ordersByUsersB[ordersByUsersB['transactionid']>1]['visitorid']],axis=0)\n",
    "usersWithExpensiveOrders=orders_us[orders_us['revenue']>414.275]['visitorid']\n",
    "abnormalUsers=pd.concat([usersWithManyOrders,usersWithExpensiveOrders],axis=0).drop_duplicates().sort_values()\n",
    "abnormalUsers.head(5)\n",
    "abnormalUsers.shape"
   ]
  },
  {
   "cell_type": "markdown",
   "id": "df8898c3",
   "metadata": {},
   "source": [
    "<b>\n",
    "We have 86 anomalous users in total, Thats a lot and they probably really affected our results from the tests.<br>\n",
    "Lets check the results without these anomalies!<br>"
   ]
  },
  {
   "cell_type": "code",
   "execution_count": 36,
   "id": "4c084a35",
   "metadata": {},
   "outputs": [
    {
     "name": "stdout",
     "output_type": "stream",
     "text": [
      "Relative Gain:  0.174\n",
      "p-value:  0.016\n",
      "we reject the null hypothesis\n"
     ]
    }
   ],
   "source": [
    "SampleAFiltered=pd.concat([ordersByUsersA[np.logical_not(ordersByUsersA['visitorid'].isin(abnormalUsers))]['transactionid'],pd.Series(0,index=np.arange(visits_us[visits_us['group']=='A']['visits'].sum()-len(ordersByUsersA['visitorid'])),name='transactionid')],axis=0)\n",
    "\n",
    "SampleBFiltered=pd.concat([ordersByUsersB[np.logical_not(ordersByUsersB['visitorid'].isin(abnormalUsers))]['transactionid'],pd.Series(0,index=np.arange(visits_us[visits_us['group']=='B']['visits'].sum()-len(ordersByUsersB['visitorid'])),name='transactionid')],axis=0)\n",
    "\n",
    "\n",
    "print('Relative Gain: ', \"{0:.3f}\".format(SampleBFiltered.mean()/SampleAFiltered.mean()-1))\n",
    "\n",
    "result=st.mannwhitneyu(SampleAFiltered,SampleBFiltered)[1]\n",
    "\n",
    "print('p-value: ', \"{0:.3f}\".format(result))\n",
    "\n",
    "if (result<alpha):\n",
    "    print('we reject the null hypothesis')\n",
    "else:\n",
    "    print(\"we can't reject the null hypothesis\")"
   ]
  },
  {
   "cell_type": "markdown",
   "id": "0fe54cbe",
   "metadata": {},
   "source": [
    "<b>\n",
    "Old results:<br>\n",
    "0.006<br>0.016<br><br>\n",
    "The results for conversion almost didn't change and the results are still the same, P-value is smaller than 0.05, relative gain is now 17.4%.<br><br>\n",
    "We still reject the null hypothesis and meaning the group had differences between them in the results and that our test has a meaning."
   ]
  },
  {
   "cell_type": "markdown",
   "id": "75c031ec",
   "metadata": {},
   "source": [
    "## Find the statistical significance of the difference in average order size between the groups using the filtered data. Make conclusions and conjectures."
   ]
  },
  {
   "cell_type": "code",
   "execution_count": 60,
   "id": "6868e0cd",
   "metadata": {},
   "outputs": [
    {
     "name": "stdout",
     "output_type": "stream",
     "text": [
      "significance_of_difference:  -0.033\n",
      "p-value:  0.771\n",
      "we can't reject the null hypothesis\n"
     ]
    }
   ],
   "source": [
    "print('significance_of_difference: ', \"{0:.3f}\".format(orders_us[np.logical_and(orders_us['group']=='B',np.logical_not(orders_us['visitorid'].isin(abnormalUsers)))]['revenue'].mean()/orders_us[np.logical_and(orders_us['group']=='A',np.logical_not(orders_us['visitorid'].isin(abnormalUsers)))]['revenue'].mean()-1))\n",
    "\n",
    "A1=np.logical_and(orders_us['group']=='A',np.logical_not(orders_us['visitorid'].isin(abnormalUsers)))\n",
    "AA=orders_us[A1]['revenue']\n",
    "      \n",
    "B1=np.logical_and(orders_us['group']=='B',np.logical_not(orders_us['visitorid'].isin(abnormalUsers)))\n",
    "BB=orders_us[B1]['revenue']\n",
    "      \n",
    "result = st.mannwhitneyu(AA,BB)[1]\n",
    "\n",
    "print('p-value: ', \"{0:.3f}\".format(result))\n",
    "\n",
    "if (result<alpha):\n",
    "    print('we reject the null hypothesis')\n",
    "else:\n",
    "    print(\"we can't reject the null hypothesis\")"
   ]
  },
  {
   "cell_type": "markdown",
   "id": "67bffa06",
   "metadata": {},
   "source": [
    "<b>\n",
    "Old results:<br>\n",
    "0.431<br>0.278<br><br>\n",
    "The P-value increased but it doesn't really matters, but now the difference between the segments is -3.3% instead of 27.8%.<br><br>\n",
    "We still can't reject the null hypothesis meaning the average of order sizes between the groups doesn't have a significant differece.<br><br>\n",
    "If I understood right, then -0.033 means that the average order size for group B is -3.3% smaller than the size of it for group A.<br><br>\n",
    "So taking care of our anomalies helped us to understand that group A is actually the leader."
   ]
  },
  {
   "cell_type": "markdown",
   "id": "f41184a1",
   "metadata": {},
   "source": [
    "## Make a decision based on the test results. The possible decisions are:\n",
    "- <b> Stop the test, consider one of the groups the leader.\n",
    "- Stop the test, conclude that there is no difference between the groups.\n",
    "- Continue the test."
   ]
  },
  {
   "cell_type": "markdown",
   "id": "2d7e89cc",
   "metadata": {},
   "source": [
    "<b>\n",
    "From our graphs we conclude that group B has higher cumulative revenue by group and date, and higher cumulative average order size by group and date (both might depend on outliers?), Also seems that group B has a much better conversion rate.<br><br>\n",
    "When we looked for anomalieswe found out that any user who ordered more than 1 order or with revenue of more tha 414.275, is an anomaly. We will check if these anomalies affected our scores.<br><br>\n",
    "Then we did some tests, based on the raw data, there is a difference in conversion between the 2 groups A & B and relative gain is 16% positive for B.<br><br>\n",
    "Then we test for significance of the difference in conversion between the groups using the raw data and discovered the P-Value (0.43) is considerably high, so there's no reason to reject the null hypothesis and conclude that average order size differs between the groups but still that group B might have bigger picks.<br><br>\n",
    "Then we found the statistical of the difference in conversion between the groups using the filtered data, discovering we had 86 outliers.<br><br>\n",
    "The results for conversion almost didn't change and the results are still the same.<br><br>\n",
    "So, as I understood I will decide to continue the test."
   ]
  }
 ],
 "metadata": {
  "ExecuteTimeLog": [
   {
    "duration": 1322,
    "start_time": "2022-04-03T19:40:57.951Z"
   },
   {
    "duration": 3,
    "start_time": "2022-04-03T19:41:04.211Z"
   },
   {
    "duration": 179,
    "start_time": "2022-04-03T19:41:09.442Z"
   },
   {
    "duration": 67,
    "start_time": "2022-04-03T19:41:14.474Z"
   },
   {
    "duration": 28,
    "start_time": "2022-04-03T19:41:15.483Z"
   },
   {
    "duration": 7,
    "start_time": "2022-04-03T19:41:18.593Z"
   },
   {
    "duration": 13,
    "start_time": "2022-04-03T19:41:18.971Z"
   },
   {
    "duration": 6,
    "start_time": "2022-04-03T19:41:19.410Z"
   },
   {
    "duration": 3,
    "start_time": "2022-04-03T19:41:20.714Z"
   },
   {
    "duration": 24,
    "start_time": "2022-04-03T19:41:21.114Z"
   },
   {
    "duration": 11,
    "start_time": "2022-04-03T19:41:23.234Z"
   },
   {
    "duration": 5,
    "start_time": "2022-04-03T19:41:24.633Z"
   },
   {
    "duration": 10,
    "start_time": "2022-04-03T19:41:24.906Z"
   },
   {
    "duration": 124,
    "start_time": "2022-04-03T19:41:28.706Z"
   },
   {
    "duration": 14,
    "start_time": "2022-04-03T19:41:29.377Z"
   },
   {
    "duration": 4,
    "start_time": "2022-04-03T19:42:08.264Z"
   },
   {
    "duration": 11,
    "start_time": "2022-04-03T19:42:10.568Z"
   },
   {
    "duration": 47,
    "start_time": "2022-04-04T07:29:05.474Z"
   },
   {
    "duration": 6,
    "start_time": "2022-04-04T07:29:26.754Z"
   },
   {
    "duration": 1205,
    "start_time": "2022-04-04T07:29:33.018Z"
   },
   {
    "duration": 2,
    "start_time": "2022-04-04T07:29:34.225Z"
   },
   {
    "duration": 116,
    "start_time": "2022-04-04T07:29:34.232Z"
   },
   {
    "duration": 55,
    "start_time": "2022-04-04T07:29:34.350Z"
   },
   {
    "duration": 43,
    "start_time": "2022-04-04T07:29:34.407Z"
   },
   {
    "duration": 5,
    "start_time": "2022-04-04T07:29:34.451Z"
   },
   {
    "duration": 10,
    "start_time": "2022-04-04T07:29:34.457Z"
   },
   {
    "duration": 3,
    "start_time": "2022-04-04T07:29:34.469Z"
   },
   {
    "duration": 4,
    "start_time": "2022-04-04T07:29:34.474Z"
   },
   {
    "duration": 16,
    "start_time": "2022-04-04T07:29:34.480Z"
   },
   {
    "duration": 40,
    "start_time": "2022-04-04T07:29:34.498Z"
   },
   {
    "duration": 5,
    "start_time": "2022-04-04T07:29:34.540Z"
   },
   {
    "duration": 10,
    "start_time": "2022-04-04T07:29:34.546Z"
   },
   {
    "duration": 3,
    "start_time": "2022-04-04T07:29:34.558Z"
   },
   {
    "duration": 11,
    "start_time": "2022-04-04T07:29:34.563Z"
   },
   {
    "duration": 287,
    "start_time": "2022-04-04T07:29:34.575Z"
   },
   {
    "duration": 241,
    "start_time": "2022-04-04T07:30:35.681Z"
   },
   {
    "duration": 113,
    "start_time": "2022-04-04T07:45:53.358Z"
   },
   {
    "duration": 116,
    "start_time": "2022-04-04T07:46:37.132Z"
   },
   {
    "duration": 142,
    "start_time": "2022-04-04T07:47:16.832Z"
   },
   {
    "duration": 68,
    "start_time": "2022-04-04T07:48:54.131Z"
   },
   {
    "duration": 4,
    "start_time": "2022-04-04T07:49:24.704Z"
   },
   {
    "duration": 983,
    "start_time": "2022-04-04T07:49:26.426Z"
   },
   {
    "duration": 118,
    "start_time": "2022-04-04T07:49:42.146Z"
   },
   {
    "duration": 2120,
    "start_time": "2022-04-04T07:50:09.536Z"
   },
   {
    "duration": 2015,
    "start_time": "2022-04-04T07:50:43.676Z"
   },
   {
    "duration": 10,
    "start_time": "2022-04-04T07:51:57.273Z"
   },
   {
    "duration": 164,
    "start_time": "2022-04-04T07:56:47.254Z"
   },
   {
    "duration": 8,
    "start_time": "2022-04-04T08:11:30.325Z"
   },
   {
    "duration": 16,
    "start_time": "2022-04-04T08:18:10.018Z"
   },
   {
    "duration": 8,
    "start_time": "2022-04-04T08:18:45.239Z"
   },
   {
    "duration": 15,
    "start_time": "2022-04-04T08:20:30.744Z"
   },
   {
    "duration": 2053,
    "start_time": "2022-04-04T08:21:06.004Z"
   },
   {
    "duration": 2080,
    "start_time": "2022-04-04T08:22:58.211Z"
   },
   {
    "duration": 221,
    "start_time": "2022-04-04T08:23:45.420Z"
   },
   {
    "duration": 133,
    "start_time": "2022-04-04T08:23:57.242Z"
   },
   {
    "duration": 215,
    "start_time": "2022-04-04T08:24:11.579Z"
   },
   {
    "duration": 221,
    "start_time": "2022-04-04T08:25:38.782Z"
   },
   {
    "duration": 198,
    "start_time": "2022-04-04T08:26:55.657Z"
   },
   {
    "duration": 224,
    "start_time": "2022-04-04T08:27:06.921Z"
   },
   {
    "duration": 9,
    "start_time": "2022-04-04T08:31:11.141Z"
   },
   {
    "duration": 217,
    "start_time": "2022-04-04T08:31:27.400Z"
   },
   {
    "duration": 10,
    "start_time": "2022-04-04T08:34:49.437Z"
   },
   {
    "duration": 388,
    "start_time": "2022-04-04T09:00:46.531Z"
   },
   {
    "duration": 388,
    "start_time": "2022-04-04T09:01:21.669Z"
   },
   {
    "duration": 163,
    "start_time": "2022-04-04T09:05:29.784Z"
   },
   {
    "duration": 280,
    "start_time": "2022-04-04T09:05:45.120Z"
   },
   {
    "duration": 452,
    "start_time": "2022-04-04T09:06:07.060Z"
   },
   {
    "duration": 444,
    "start_time": "2022-04-04T09:12:08.420Z"
   },
   {
    "duration": 420,
    "start_time": "2022-04-04T09:12:28.073Z"
   },
   {
    "duration": 439,
    "start_time": "2022-04-04T09:12:47.210Z"
   },
   {
    "duration": 422,
    "start_time": "2022-04-04T09:13:16.890Z"
   },
   {
    "duration": 435,
    "start_time": "2022-04-04T09:13:34.225Z"
   },
   {
    "duration": 450,
    "start_time": "2022-04-04T09:14:43.517Z"
   },
   {
    "duration": 437,
    "start_time": "2022-04-04T09:18:04.810Z"
   },
   {
    "duration": 636,
    "start_time": "2022-04-04T09:19:32.985Z"
   },
   {
    "duration": 17,
    "start_time": "2022-04-04T09:20:10.956Z"
   },
   {
    "duration": 559,
    "start_time": "2022-04-04T09:20:24.831Z"
   },
   {
    "duration": 456,
    "start_time": "2022-04-04T09:21:27.327Z"
   },
   {
    "duration": 435,
    "start_time": "2022-04-04T09:21:41.665Z"
   },
   {
    "duration": 412,
    "start_time": "2022-04-04T09:21:48.680Z"
   },
   {
    "duration": 413,
    "start_time": "2022-04-04T09:21:56.248Z"
   },
   {
    "duration": 414,
    "start_time": "2022-04-04T09:22:47.324Z"
   },
   {
    "duration": 543,
    "start_time": "2022-04-04T09:23:32.913Z"
   },
   {
    "duration": 444,
    "start_time": "2022-04-04T09:23:44.912Z"
   },
   {
    "duration": 444,
    "start_time": "2022-04-04T09:23:58.758Z"
   },
   {
    "duration": 449,
    "start_time": "2022-04-04T09:24:15.345Z"
   },
   {
    "duration": 430,
    "start_time": "2022-04-04T09:24:19.963Z"
   },
   {
    "duration": 401,
    "start_time": "2022-04-04T09:24:31.947Z"
   },
   {
    "duration": 420,
    "start_time": "2022-04-04T09:24:41.472Z"
   },
   {
    "duration": 420,
    "start_time": "2022-04-04T09:34:32.190Z"
   },
   {
    "duration": 427,
    "start_time": "2022-04-04T09:34:38.197Z"
   },
   {
    "duration": 466,
    "start_time": "2022-04-04T09:34:48.634Z"
   },
   {
    "duration": 417,
    "start_time": "2022-04-04T09:36:08.249Z"
   },
   {
    "duration": 547,
    "start_time": "2022-04-04T09:36:19.932Z"
   },
   {
    "duration": 568,
    "start_time": "2022-04-04T09:36:38.183Z"
   },
   {
    "duration": 471,
    "start_time": "2022-04-04T09:36:48.922Z"
   },
   {
    "duration": 487,
    "start_time": "2022-04-04T09:37:12.179Z"
   },
   {
    "duration": 503,
    "start_time": "2022-04-04T09:37:23.558Z"
   },
   {
    "duration": 815,
    "start_time": "2022-04-04T09:37:40.099Z"
   },
   {
    "duration": 551,
    "start_time": "2022-04-04T09:38:44.605Z"
   },
   {
    "duration": 507,
    "start_time": "2022-04-04T09:38:54.866Z"
   },
   {
    "duration": 577,
    "start_time": "2022-04-04T09:39:08.056Z"
   },
   {
    "duration": 556,
    "start_time": "2022-04-04T09:40:44.077Z"
   },
   {
    "duration": 560,
    "start_time": "2022-04-04T09:40:54.696Z"
   },
   {
    "duration": 729,
    "start_time": "2022-04-04T09:41:31.137Z"
   },
   {
    "duration": 437,
    "start_time": "2022-04-04T09:53:01.957Z"
   },
   {
    "duration": 591,
    "start_time": "2022-04-04T09:53:32.185Z"
   },
   {
    "duration": 541,
    "start_time": "2022-04-04T09:53:54.392Z"
   },
   {
    "duration": 383,
    "start_time": "2022-04-04T10:05:14.905Z"
   },
   {
    "duration": 369,
    "start_time": "2022-04-04T10:06:13.065Z"
   },
   {
    "duration": 350,
    "start_time": "2022-04-04T10:06:25.613Z"
   },
   {
    "duration": 364,
    "start_time": "2022-04-04T10:06:46.579Z"
   },
   {
    "duration": 556,
    "start_time": "2022-04-04T10:07:26.923Z"
   },
   {
    "duration": 468,
    "start_time": "2022-04-04T10:08:32.314Z"
   },
   {
    "duration": 376,
    "start_time": "2022-04-04T10:08:58.805Z"
   },
   {
    "duration": 181,
    "start_time": "2022-04-04T10:09:38.363Z"
   },
   {
    "duration": 373,
    "start_time": "2022-04-04T10:22:07.544Z"
   },
   {
    "duration": 191,
    "start_time": "2022-04-04T10:22:50.794Z"
   },
   {
    "duration": 313,
    "start_time": "2022-04-04T10:23:32.166Z"
   },
   {
    "duration": 186,
    "start_time": "2022-04-04T10:24:06.476Z"
   },
   {
    "duration": 192,
    "start_time": "2022-04-04T10:24:26.985Z"
   },
   {
    "duration": 439,
    "start_time": "2022-04-04T10:24:36.426Z"
   },
   {
    "duration": 239,
    "start_time": "2022-04-04T10:33:43.012Z"
   },
   {
    "duration": 187,
    "start_time": "2022-04-04T10:34:02.789Z"
   },
   {
    "duration": 59,
    "start_time": "2022-04-04T10:39:02.650Z"
   },
   {
    "duration": 73,
    "start_time": "2022-04-04T10:39:13.033Z"
   },
   {
    "duration": 72,
    "start_time": "2022-04-04T10:39:48.327Z"
   },
   {
    "duration": 65,
    "start_time": "2022-04-04T10:40:10.250Z"
   },
   {
    "duration": 71,
    "start_time": "2022-04-04T10:40:35.392Z"
   },
   {
    "duration": 179,
    "start_time": "2022-04-04T10:41:08.982Z"
   },
   {
    "duration": 69,
    "start_time": "2022-04-04T10:41:23.524Z"
   },
   {
    "duration": 71,
    "start_time": "2022-04-04T10:41:35.802Z"
   },
   {
    "duration": 61,
    "start_time": "2022-04-04T10:41:55.228Z"
   },
   {
    "duration": 69,
    "start_time": "2022-04-04T10:42:01.548Z"
   },
   {
    "duration": 10,
    "start_time": "2022-04-04T10:56:25.488Z"
   },
   {
    "duration": 75,
    "start_time": "2022-04-04T10:56:37.103Z"
   },
   {
    "duration": 81,
    "start_time": "2022-04-04T10:58:07.819Z"
   },
   {
    "duration": 81,
    "start_time": "2022-04-04T10:58:27.973Z"
   },
   {
    "duration": 82,
    "start_time": "2022-04-04T10:59:50.233Z"
   },
   {
    "duration": 83,
    "start_time": "2022-04-04T11:00:24.594Z"
   },
   {
    "duration": 67,
    "start_time": "2022-04-04T11:00:36.433Z"
   },
   {
    "duration": 76,
    "start_time": "2022-04-04T11:00:53.145Z"
   },
   {
    "duration": 83,
    "start_time": "2022-04-04T11:01:50.274Z"
   },
   {
    "duration": 76,
    "start_time": "2022-04-04T11:02:57.644Z"
   },
   {
    "duration": 73,
    "start_time": "2022-04-04T11:03:38.323Z"
   },
   {
    "duration": 12,
    "start_time": "2022-04-04T11:07:54.790Z"
   },
   {
    "duration": 80,
    "start_time": "2022-04-04T11:08:06.571Z"
   },
   {
    "duration": 1258,
    "start_time": "2022-04-04T12:36:18.904Z"
   },
   {
    "duration": 3,
    "start_time": "2022-04-04T12:36:20.164Z"
   },
   {
    "duration": 121,
    "start_time": "2022-04-04T12:36:20.168Z"
   },
   {
    "duration": 60,
    "start_time": "2022-04-04T12:36:20.292Z"
   },
   {
    "duration": 24,
    "start_time": "2022-04-04T12:36:20.354Z"
   },
   {
    "duration": 4,
    "start_time": "2022-04-04T12:36:20.380Z"
   },
   {
    "duration": 13,
    "start_time": "2022-04-04T12:36:20.386Z"
   },
   {
    "duration": 4,
    "start_time": "2022-04-04T12:36:20.400Z"
   },
   {
    "duration": 30,
    "start_time": "2022-04-04T12:36:20.406Z"
   },
   {
    "duration": 29,
    "start_time": "2022-04-04T12:36:20.439Z"
   },
   {
    "duration": 7,
    "start_time": "2022-04-04T12:36:20.470Z"
   },
   {
    "duration": 6,
    "start_time": "2022-04-04T12:36:20.479Z"
   },
   {
    "duration": 13,
    "start_time": "2022-04-04T12:36:20.487Z"
   },
   {
    "duration": 4,
    "start_time": "2022-04-04T12:36:20.502Z"
   },
   {
    "duration": 31,
    "start_time": "2022-04-04T12:36:20.508Z"
   },
   {
    "duration": 465,
    "start_time": "2022-04-04T12:36:20.542Z"
   },
   {
    "duration": 1500,
    "start_time": "2022-04-05T05:36:33.516Z"
   },
   {
    "duration": 3,
    "start_time": "2022-04-05T05:36:35.018Z"
   },
   {
    "duration": 155,
    "start_time": "2022-04-05T05:36:35.023Z"
   },
   {
    "duration": 57,
    "start_time": "2022-04-05T05:36:35.180Z"
   },
   {
    "duration": 25,
    "start_time": "2022-04-05T05:36:35.239Z"
   },
   {
    "duration": 5,
    "start_time": "2022-04-05T05:36:35.266Z"
   },
   {
    "duration": 11,
    "start_time": "2022-04-05T05:36:35.272Z"
   },
   {
    "duration": 5,
    "start_time": "2022-04-05T05:36:35.285Z"
   },
   {
    "duration": 6,
    "start_time": "2022-04-05T05:36:35.291Z"
   },
   {
    "duration": 49,
    "start_time": "2022-04-05T05:36:35.299Z"
   },
   {
    "duration": 8,
    "start_time": "2022-04-05T05:36:35.350Z"
   },
   {
    "duration": 5,
    "start_time": "2022-04-05T05:36:35.360Z"
   },
   {
    "duration": 12,
    "start_time": "2022-04-05T05:36:35.366Z"
   },
   {
    "duration": 7,
    "start_time": "2022-04-05T05:36:35.380Z"
   },
   {
    "duration": 12,
    "start_time": "2022-04-05T05:36:35.388Z"
   },
   {
    "duration": 462,
    "start_time": "2022-04-05T05:36:35.401Z"
   },
   {
    "duration": 105,
    "start_time": "2022-04-05T05:46:39.145Z"
   },
   {
    "duration": 159,
    "start_time": "2022-04-05T05:47:05.793Z"
   },
   {
    "duration": 10,
    "start_time": "2022-04-05T05:47:32.650Z"
   },
   {
    "duration": 11,
    "start_time": "2022-04-05T05:48:32.702Z"
   },
   {
    "duration": 7,
    "start_time": "2022-04-05T05:49:09.663Z"
   },
   {
    "duration": 8,
    "start_time": "2022-04-05T05:51:13.557Z"
   },
   {
    "duration": 6,
    "start_time": "2022-04-05T05:52:33.359Z"
   },
   {
    "duration": 36,
    "start_time": "2022-04-05T06:13:07.463Z"
   },
   {
    "duration": 14,
    "start_time": "2022-04-05T06:13:40.627Z"
   },
   {
    "duration": 4,
    "start_time": "2022-04-05T06:27:51.958Z"
   },
   {
    "duration": 11,
    "start_time": "2022-04-05T06:27:52.547Z"
   },
   {
    "duration": 17,
    "start_time": "2022-04-05T06:30:41.455Z"
   },
   {
    "duration": 4,
    "start_time": "2022-04-05T06:31:42.711Z"
   },
   {
    "duration": 7,
    "start_time": "2022-04-05T06:31:52.363Z"
   },
   {
    "duration": 8,
    "start_time": "2022-04-05T06:36:21.247Z"
   },
   {
    "duration": 9,
    "start_time": "2022-04-05T06:41:09.114Z"
   },
   {
    "duration": 11,
    "start_time": "2022-04-05T06:45:31.707Z"
   },
   {
    "duration": 12,
    "start_time": "2022-04-05T06:47:07.392Z"
   },
   {
    "duration": 13,
    "start_time": "2022-04-05T06:49:51.912Z"
   },
   {
    "duration": 3,
    "start_time": "2022-04-05T06:57:41.107Z"
   },
   {
    "duration": 8,
    "start_time": "2022-04-05T06:58:02.854Z"
   },
   {
    "duration": 9,
    "start_time": "2022-04-05T06:58:13.999Z"
   },
   {
    "duration": 6,
    "start_time": "2022-04-05T07:10:55.871Z"
   },
   {
    "duration": 3,
    "start_time": "2022-04-05T07:10:56.326Z"
   },
   {
    "duration": 311,
    "start_time": "2022-04-05T07:10:58.563Z"
   },
   {
    "duration": 8,
    "start_time": "2022-04-05T07:12:08.580Z"
   },
   {
    "duration": 17,
    "start_time": "2022-04-05T07:12:08.590Z"
   },
   {
    "duration": 0,
    "start_time": "2022-04-05T07:12:08.608Z"
   },
   {
    "duration": 7,
    "start_time": "2022-04-05T07:12:26.020Z"
   },
   {
    "duration": 4,
    "start_time": "2022-04-05T07:12:28.991Z"
   },
   {
    "duration": 11,
    "start_time": "2022-04-05T07:12:34.385Z"
   },
   {
    "duration": 4,
    "start_time": "2022-04-05T07:12:40.957Z"
   },
   {
    "duration": 10,
    "start_time": "2022-04-05T07:13:19.794Z"
   },
   {
    "duration": 8,
    "start_time": "2022-04-05T07:13:50.302Z"
   },
   {
    "duration": 4,
    "start_time": "2022-04-05T07:14:37.388Z"
   },
   {
    "duration": 9,
    "start_time": "2022-04-05T07:14:39.466Z"
   },
   {
    "duration": 4,
    "start_time": "2022-04-05T07:15:00.171Z"
   },
   {
    "duration": 10,
    "start_time": "2022-04-05T07:15:04.079Z"
   },
   {
    "duration": 4,
    "start_time": "2022-04-05T07:15:33.465Z"
   },
   {
    "duration": 3,
    "start_time": "2022-04-05T07:15:37.408Z"
   },
   {
    "duration": 3,
    "start_time": "2022-04-05T07:16:18.655Z"
   },
   {
    "duration": 19,
    "start_time": "2022-04-05T07:16:19.257Z"
   },
   {
    "duration": 19,
    "start_time": "2022-04-05T07:19:31.044Z"
   },
   {
    "duration": 28,
    "start_time": "2022-04-05T07:20:46.024Z"
   },
   {
    "duration": 14,
    "start_time": "2022-04-05T07:22:00.306Z"
   },
   {
    "duration": 20,
    "start_time": "2022-04-05T07:27:32.445Z"
   },
   {
    "duration": 14,
    "start_time": "2022-04-05T08:01:06.360Z"
   },
   {
    "duration": 8,
    "start_time": "2022-04-05T08:47:41.175Z"
   },
   {
    "duration": 169,
    "start_time": "2022-04-05T08:49:30.660Z"
   },
   {
    "duration": 280,
    "start_time": "2022-04-05T08:50:04.397Z"
   },
   {
    "duration": 3772,
    "start_time": "2022-04-05T08:53:43.313Z"
   },
   {
    "duration": 11,
    "start_time": "2022-04-05T08:54:40.121Z"
   },
   {
    "duration": 9,
    "start_time": "2022-04-05T08:54:45.720Z"
   },
   {
    "duration": 153,
    "start_time": "2022-04-05T08:57:39.651Z"
   },
   {
    "duration": 231,
    "start_time": "2022-04-05T08:57:53.087Z"
   },
   {
    "duration": 194,
    "start_time": "2022-04-05T08:58:00.347Z"
   },
   {
    "duration": 187,
    "start_time": "2022-04-05T08:58:04.032Z"
   },
   {
    "duration": 152,
    "start_time": "2022-04-05T08:58:13.457Z"
   },
   {
    "duration": 163,
    "start_time": "2022-04-05T08:59:07.121Z"
   },
   {
    "duration": 157,
    "start_time": "2022-04-05T08:59:26.234Z"
   },
   {
    "duration": 153,
    "start_time": "2022-04-05T09:02:48.374Z"
   },
   {
    "duration": 160,
    "start_time": "2022-04-05T09:04:09.589Z"
   },
   {
    "duration": 7,
    "start_time": "2022-04-05T09:06:17.605Z"
   },
   {
    "duration": 267,
    "start_time": "2022-04-05T09:10:29.426Z"
   },
   {
    "duration": 230,
    "start_time": "2022-04-05T09:10:35.792Z"
   },
   {
    "duration": 13,
    "start_time": "2022-04-05T09:21:49.156Z"
   },
   {
    "duration": 6,
    "start_time": "2022-04-05T09:22:01.826Z"
   },
   {
    "duration": 30,
    "start_time": "2022-04-05T09:49:07.269Z"
   },
   {
    "duration": 27,
    "start_time": "2022-04-05T09:49:53.658Z"
   },
   {
    "duration": 25,
    "start_time": "2022-04-05T09:53:00.604Z"
   },
   {
    "duration": 15,
    "start_time": "2022-04-05T09:53:09.556Z"
   },
   {
    "duration": 35,
    "start_time": "2022-04-05T10:01:19.918Z"
   },
   {
    "duration": 27,
    "start_time": "2022-04-05T10:05:34.191Z"
   },
   {
    "duration": 321,
    "start_time": "2022-04-05T10:06:07.581Z"
   },
   {
    "duration": 38,
    "start_time": "2022-04-05T10:14:00.591Z"
   },
   {
    "duration": 262,
    "start_time": "2022-04-05T10:14:25.427Z"
   },
   {
    "duration": 253,
    "start_time": "2022-04-05T10:22:13.186Z"
   },
   {
    "duration": 3,
    "start_time": "2022-04-05T10:26:54.131Z"
   },
   {
    "duration": 451,
    "start_time": "2022-04-05T10:30:33.590Z"
   },
   {
    "duration": 13,
    "start_time": "2022-04-05T10:35:02.021Z"
   },
   {
    "duration": 10,
    "start_time": "2022-04-05T10:37:07.119Z"
   },
   {
    "duration": 302,
    "start_time": "2022-04-05T10:51:24.045Z"
   },
   {
    "duration": 193,
    "start_time": "2022-04-05T10:57:21.867Z"
   },
   {
    "duration": 315,
    "start_time": "2022-04-05T10:57:38.280Z"
   },
   {
    "duration": 305,
    "start_time": "2022-04-05T10:58:04.261Z"
   },
   {
    "duration": 307,
    "start_time": "2022-04-05T10:58:12.260Z"
   },
   {
    "duration": 316,
    "start_time": "2022-04-05T10:59:18.244Z"
   },
   {
    "duration": 502,
    "start_time": "2022-04-05T11:02:04.282Z"
   },
   {
    "duration": 316,
    "start_time": "2022-04-05T11:04:47.805Z"
   },
   {
    "duration": 22,
    "start_time": "2022-04-05T11:14:55.754Z"
   },
   {
    "duration": 22,
    "start_time": "2022-04-05T11:15:34.703Z"
   },
   {
    "duration": 12,
    "start_time": "2022-04-05T11:17:31.091Z"
   },
   {
    "duration": 6,
    "start_time": "2022-04-05T11:25:22.021Z"
   },
   {
    "duration": 216,
    "start_time": "2022-04-05T11:30:09.853Z"
   },
   {
    "duration": 185,
    "start_time": "2022-04-05T11:31:37.405Z"
   },
   {
    "duration": 4,
    "start_time": "2022-04-05T11:43:46.198Z"
   },
   {
    "duration": 252,
    "start_time": "2022-04-05T11:57:49.128Z"
   },
   {
    "duration": 3,
    "start_time": "2022-04-05T12:09:08.308Z"
   },
   {
    "duration": 6,
    "start_time": "2022-04-05T12:10:16.633Z"
   },
   {
    "duration": 11,
    "start_time": "2022-04-05T12:10:47.614Z"
   },
   {
    "duration": 204,
    "start_time": "2022-04-05T12:19:14.246Z"
   },
   {
    "duration": 38,
    "start_time": "2022-04-05T12:21:36.026Z"
   },
   {
    "duration": 10,
    "start_time": "2022-04-05T12:23:29.285Z"
   },
   {
    "duration": 11,
    "start_time": "2022-04-05T12:23:43.214Z"
   },
   {
    "duration": 1273,
    "start_time": "2022-04-05T15:52:57.853Z"
   },
   {
    "duration": 4,
    "start_time": "2022-04-05T15:52:59.128Z"
   },
   {
    "duration": 198,
    "start_time": "2022-04-05T15:52:59.134Z"
   },
   {
    "duration": 7,
    "start_time": "2022-04-05T15:52:59.334Z"
   },
   {
    "duration": 14,
    "start_time": "2022-04-05T15:52:59.343Z"
   },
   {
    "duration": 4,
    "start_time": "2022-04-05T15:52:59.359Z"
   },
   {
    "duration": 20,
    "start_time": "2022-04-05T15:52:59.364Z"
   },
   {
    "duration": 8,
    "start_time": "2022-04-05T15:52:59.385Z"
   },
   {
    "duration": 191,
    "start_time": "2022-04-05T15:52:59.394Z"
   },
   {
    "duration": 6,
    "start_time": "2022-04-05T15:52:59.587Z"
   },
   {
    "duration": 12,
    "start_time": "2022-04-05T15:52:59.594Z"
   },
   {
    "duration": 6,
    "start_time": "2022-04-05T15:52:59.608Z"
   },
   {
    "duration": 21,
    "start_time": "2022-04-05T15:52:59.616Z"
   },
   {
    "duration": 4,
    "start_time": "2022-04-05T15:52:59.639Z"
   },
   {
    "duration": 11,
    "start_time": "2022-04-05T15:52:59.645Z"
   },
   {
    "duration": 238,
    "start_time": "2022-04-05T15:52:59.657Z"
   },
   {
    "duration": 300,
    "start_time": "2022-04-05T15:52:59.897Z"
   },
   {
    "duration": 4,
    "start_time": "2022-04-05T15:53:00.198Z"
   },
   {
    "duration": 9,
    "start_time": "2022-04-05T15:53:00.203Z"
   },
   {
    "duration": 247,
    "start_time": "2022-04-05T15:53:00.214Z"
   },
   {
    "duration": 311,
    "start_time": "2022-04-05T15:53:00.463Z"
   },
   {
    "duration": 108,
    "start_time": "2022-04-05T15:53:00.775Z"
   },
   {
    "duration": 0,
    "start_time": "2022-04-05T15:53:00.884Z"
   },
   {
    "duration": 0,
    "start_time": "2022-04-05T15:53:00.886Z"
   },
   {
    "duration": 0,
    "start_time": "2022-04-05T15:53:00.887Z"
   },
   {
    "duration": 237,
    "start_time": "2022-04-05T15:54:33.719Z"
   },
   {
    "duration": 240,
    "start_time": "2022-04-05T15:55:01.758Z"
   },
   {
    "duration": 162,
    "start_time": "2022-04-05T15:55:32.999Z"
   },
   {
    "duration": 14,
    "start_time": "2022-04-05T15:56:15.726Z"
   },
   {
    "duration": 14,
    "start_time": "2022-04-05T16:19:37.818Z"
   },
   {
    "duration": 774,
    "start_time": "2022-04-05T16:21:30.422Z"
   },
   {
    "duration": 559,
    "start_time": "2022-04-05T16:23:37.354Z"
   },
   {
    "duration": 6,
    "start_time": "2022-04-05T16:24:32.980Z"
   },
   {
    "duration": 9,
    "start_time": "2022-04-05T16:24:32.988Z"
   },
   {
    "duration": 176,
    "start_time": "2022-04-05T16:24:32.999Z"
   },
   {
    "duration": 7,
    "start_time": "2022-04-05T16:24:33.177Z"
   },
   {
    "duration": 16,
    "start_time": "2022-04-05T16:24:33.186Z"
   },
   {
    "duration": 30,
    "start_time": "2022-04-05T16:24:33.204Z"
   },
   {
    "duration": 20,
    "start_time": "2022-04-05T16:24:33.236Z"
   },
   {
    "duration": 8,
    "start_time": "2022-04-05T16:24:33.257Z"
   },
   {
    "duration": 189,
    "start_time": "2022-04-05T16:24:33.266Z"
   },
   {
    "duration": 5,
    "start_time": "2022-04-05T16:24:33.457Z"
   },
   {
    "duration": 10,
    "start_time": "2022-04-05T16:24:33.463Z"
   },
   {
    "duration": 6,
    "start_time": "2022-04-05T16:24:33.474Z"
   },
   {
    "duration": 14,
    "start_time": "2022-04-05T16:24:33.482Z"
   },
   {
    "duration": 8,
    "start_time": "2022-04-05T16:24:33.498Z"
   },
   {
    "duration": 32,
    "start_time": "2022-04-05T16:24:33.507Z"
   },
   {
    "duration": 233,
    "start_time": "2022-04-05T16:24:33.541Z"
   },
   {
    "duration": 285,
    "start_time": "2022-04-05T16:24:33.776Z"
   },
   {
    "duration": 3,
    "start_time": "2022-04-05T16:24:34.063Z"
   },
   {
    "duration": 6,
    "start_time": "2022-04-05T16:24:34.068Z"
   },
   {
    "duration": 244,
    "start_time": "2022-04-05T16:24:34.075Z"
   },
   {
    "duration": 315,
    "start_time": "2022-04-05T16:24:34.320Z"
   },
   {
    "duration": 10,
    "start_time": "2022-04-05T16:24:34.636Z"
   },
   {
    "duration": 0,
    "start_time": "2022-04-05T16:24:34.647Z"
   },
   {
    "duration": 0,
    "start_time": "2022-04-05T16:24:34.648Z"
   },
   {
    "duration": 0,
    "start_time": "2022-04-05T16:24:34.649Z"
   },
   {
    "duration": 0,
    "start_time": "2022-04-05T16:24:34.650Z"
   },
   {
    "duration": 0,
    "start_time": "2022-04-05T16:24:34.651Z"
   },
   {
    "duration": 0,
    "start_time": "2022-04-05T16:24:34.653Z"
   },
   {
    "duration": 0,
    "start_time": "2022-04-05T16:24:34.654Z"
   },
   {
    "duration": 487,
    "start_time": "2022-04-05T16:24:40.450Z"
   },
   {
    "duration": 56,
    "start_time": "2022-04-05T16:24:56.698Z"
   },
   {
    "duration": 55,
    "start_time": "2022-04-05T16:25:04.906Z"
   },
   {
    "duration": 550,
    "start_time": "2022-04-05T16:25:54.914Z"
   },
   {
    "duration": 20,
    "start_time": "2022-04-05T16:27:41.846Z"
   },
   {
    "duration": 56,
    "start_time": "2022-04-05T16:28:25.478Z"
   },
   {
    "duration": 147,
    "start_time": "2022-04-05T16:28:57.613Z"
   },
   {
    "duration": 130,
    "start_time": "2022-04-05T16:29:33.245Z"
   },
   {
    "duration": 39,
    "start_time": "2022-04-05T16:30:42.643Z"
   },
   {
    "duration": 144,
    "start_time": "2022-04-05T16:32:06.377Z"
   },
   {
    "duration": 140,
    "start_time": "2022-04-05T16:39:37.356Z"
   },
   {
    "duration": 153,
    "start_time": "2022-04-05T16:47:40.018Z"
   },
   {
    "duration": 155,
    "start_time": "2022-04-05T16:48:18.159Z"
   },
   {
    "duration": 137,
    "start_time": "2022-04-05T16:49:16.290Z"
   },
   {
    "duration": 152,
    "start_time": "2022-04-05T16:53:52.865Z"
   },
   {
    "duration": 236,
    "start_time": "2022-04-05T16:55:00.519Z"
   },
   {
    "duration": 9,
    "start_time": "2022-04-05T16:55:27.214Z"
   },
   {
    "duration": 23,
    "start_time": "2022-04-05T16:55:42.993Z"
   },
   {
    "duration": 10,
    "start_time": "2022-04-05T17:06:46.842Z"
   },
   {
    "duration": 8,
    "start_time": "2022-04-05T17:07:06.775Z"
   },
   {
    "duration": 5,
    "start_time": "2022-04-05T17:07:06.785Z"
   },
   {
    "duration": 168,
    "start_time": "2022-04-05T17:07:06.791Z"
   },
   {
    "duration": 7,
    "start_time": "2022-04-05T17:07:06.962Z"
   },
   {
    "duration": 16,
    "start_time": "2022-04-05T17:07:06.971Z"
   },
   {
    "duration": 5,
    "start_time": "2022-04-05T17:07:06.989Z"
   },
   {
    "duration": 53,
    "start_time": "2022-04-05T17:07:06.996Z"
   },
   {
    "duration": 9,
    "start_time": "2022-04-05T17:07:07.051Z"
   },
   {
    "duration": 210,
    "start_time": "2022-04-05T17:07:07.061Z"
   },
   {
    "duration": 6,
    "start_time": "2022-04-05T17:07:07.275Z"
   },
   {
    "duration": 9,
    "start_time": "2022-04-05T17:07:07.283Z"
   },
   {
    "duration": 5,
    "start_time": "2022-04-05T17:07:07.294Z"
   },
   {
    "duration": 40,
    "start_time": "2022-04-05T17:07:07.301Z"
   },
   {
    "duration": 15,
    "start_time": "2022-04-05T17:07:07.344Z"
   },
   {
    "duration": 12,
    "start_time": "2022-04-05T17:07:07.360Z"
   },
   {
    "duration": 253,
    "start_time": "2022-04-05T17:07:07.374Z"
   },
   {
    "duration": 363,
    "start_time": "2022-04-05T17:07:07.633Z"
   },
   {
    "duration": 5,
    "start_time": "2022-04-05T17:07:07.998Z"
   },
   {
    "duration": 7,
    "start_time": "2022-04-05T17:07:08.005Z"
   },
   {
    "duration": 315,
    "start_time": "2022-04-05T17:07:08.014Z"
   },
   {
    "duration": 333,
    "start_time": "2022-04-05T17:07:08.333Z"
   },
   {
    "duration": 10,
    "start_time": "2022-04-05T17:07:08.667Z"
   },
   {
    "duration": 0,
    "start_time": "2022-04-05T17:07:08.679Z"
   },
   {
    "duration": 10,
    "start_time": "2022-04-05T17:07:24.644Z"
   },
   {
    "duration": 5,
    "start_time": "2022-04-05T17:08:19.884Z"
   },
   {
    "duration": 5,
    "start_time": "2022-04-05T17:08:57.451Z"
   },
   {
    "duration": 5,
    "start_time": "2022-04-05T17:09:06.707Z"
   },
   {
    "duration": 5,
    "start_time": "2022-04-05T17:10:43.186Z"
   },
   {
    "duration": 11,
    "start_time": "2022-04-05T17:10:59.761Z"
   },
   {
    "duration": 50,
    "start_time": "2022-04-06T05:31:04.269Z"
   },
   {
    "duration": 1497,
    "start_time": "2022-04-06T05:31:10.840Z"
   },
   {
    "duration": 3,
    "start_time": "2022-04-06T05:31:12.339Z"
   },
   {
    "duration": 198,
    "start_time": "2022-04-06T05:31:12.344Z"
   },
   {
    "duration": 8,
    "start_time": "2022-04-06T05:31:12.544Z"
   },
   {
    "duration": 17,
    "start_time": "2022-04-06T05:31:12.553Z"
   },
   {
    "duration": 32,
    "start_time": "2022-04-06T05:31:12.571Z"
   },
   {
    "duration": 24,
    "start_time": "2022-04-06T05:31:12.605Z"
   },
   {
    "duration": 8,
    "start_time": "2022-04-06T05:31:12.631Z"
   },
   {
    "duration": 214,
    "start_time": "2022-04-06T05:31:12.640Z"
   },
   {
    "duration": 7,
    "start_time": "2022-04-06T05:31:12.857Z"
   },
   {
    "duration": 11,
    "start_time": "2022-04-06T05:31:12.866Z"
   },
   {
    "duration": 25,
    "start_time": "2022-04-06T05:31:12.878Z"
   },
   {
    "duration": 10,
    "start_time": "2022-04-06T05:31:12.905Z"
   },
   {
    "duration": 8,
    "start_time": "2022-04-06T05:31:12.917Z"
   },
   {
    "duration": 14,
    "start_time": "2022-04-06T05:31:12.927Z"
   },
   {
    "duration": 282,
    "start_time": "2022-04-06T05:31:12.942Z"
   },
   {
    "duration": 324,
    "start_time": "2022-04-06T05:31:13.227Z"
   },
   {
    "duration": 5,
    "start_time": "2022-04-06T05:31:13.552Z"
   },
   {
    "duration": 8,
    "start_time": "2022-04-06T05:31:13.559Z"
   },
   {
    "duration": 366,
    "start_time": "2022-04-06T05:31:13.569Z"
   },
   {
    "duration": 413,
    "start_time": "2022-04-06T05:31:13.936Z"
   },
   {
    "duration": 78,
    "start_time": "2022-04-06T05:31:14.351Z"
   },
   {
    "duration": 0,
    "start_time": "2022-04-06T05:31:14.431Z"
   },
   {
    "duration": 0,
    "start_time": "2022-04-06T05:31:14.432Z"
   },
   {
    "duration": 0,
    "start_time": "2022-04-06T05:31:14.434Z"
   },
   {
    "duration": 0,
    "start_time": "2022-04-06T05:31:14.435Z"
   },
   {
    "duration": 0,
    "start_time": "2022-04-06T05:31:14.436Z"
   },
   {
    "duration": 0,
    "start_time": "2022-04-06T05:31:14.437Z"
   },
   {
    "duration": 0,
    "start_time": "2022-04-06T05:31:14.439Z"
   },
   {
    "duration": 0,
    "start_time": "2022-04-06T05:31:14.440Z"
   },
   {
    "duration": 0,
    "start_time": "2022-04-06T05:31:14.441Z"
   },
   {
    "duration": 0,
    "start_time": "2022-04-06T05:31:14.442Z"
   },
   {
    "duration": 10,
    "start_time": "2022-04-06T05:31:22.126Z"
   },
   {
    "duration": 25,
    "start_time": "2022-04-06T05:31:49.767Z"
   },
   {
    "duration": 10,
    "start_time": "2022-04-06T05:31:50.190Z"
   },
   {
    "duration": 186,
    "start_time": "2022-04-06T05:31:54.753Z"
   },
   {
    "duration": 5,
    "start_time": "2022-04-06T05:32:00.242Z"
   },
   {
    "duration": 309,
    "start_time": "2022-04-06T05:32:03.145Z"
   },
   {
    "duration": 12,
    "start_time": "2022-04-06T05:32:08.229Z"
   },
   {
    "duration": 10,
    "start_time": "2022-04-06T05:32:16.851Z"
   },
   {
    "duration": 157,
    "start_time": "2022-04-06T05:32:29.288Z"
   },
   {
    "duration": 6,
    "start_time": "2022-04-06T05:32:30.561Z"
   },
   {
    "duration": 129,
    "start_time": "2022-04-06T07:22:31.319Z"
   },
   {
    "duration": 7,
    "start_time": "2022-04-06T07:28:17.064Z"
   },
   {
    "duration": 6,
    "start_time": "2022-04-06T07:28:36.045Z"
   },
   {
    "duration": 13,
    "start_time": "2022-04-06T08:12:31.327Z"
   },
   {
    "duration": 17,
    "start_time": "2022-04-06T08:13:46.463Z"
   },
   {
    "duration": 16,
    "start_time": "2022-04-06T08:21:37.049Z"
   },
   {
    "duration": 695,
    "start_time": "2022-04-06T08:22:49.867Z"
   },
   {
    "duration": 4,
    "start_time": "2022-04-06T08:28:48.849Z"
   },
   {
    "duration": 144,
    "start_time": "2022-04-06T08:30:34.862Z"
   },
   {
    "duration": 11,
    "start_time": "2022-04-06T08:31:26.995Z"
   },
   {
    "duration": 5,
    "start_time": "2022-04-06T08:31:32.829Z"
   },
   {
    "duration": 11,
    "start_time": "2022-04-06T08:32:52.143Z"
   },
   {
    "duration": 5,
    "start_time": "2022-04-06T08:35:26.197Z"
   },
   {
    "duration": 12,
    "start_time": "2022-04-06T08:57:10.998Z"
   },
   {
    "duration": 341,
    "start_time": "2022-04-06T08:57:30.254Z"
   },
   {
    "duration": 6,
    "start_time": "2022-04-06T09:19:36.327Z"
   },
   {
    "duration": 5,
    "start_time": "2022-04-06T09:20:29.067Z"
   },
   {
    "duration": 4,
    "start_time": "2022-04-06T09:20:49.744Z"
   },
   {
    "duration": 7,
    "start_time": "2022-04-06T11:17:03.337Z"
   },
   {
    "duration": 21,
    "start_time": "2022-04-06T11:17:03.346Z"
   },
   {
    "duration": 233,
    "start_time": "2022-04-06T11:17:03.369Z"
   },
   {
    "duration": 8,
    "start_time": "2022-04-06T11:17:03.604Z"
   },
   {
    "duration": 65,
    "start_time": "2022-04-06T11:17:03.615Z"
   },
   {
    "duration": 7,
    "start_time": "2022-04-06T11:17:03.682Z"
   },
   {
    "duration": 30,
    "start_time": "2022-04-06T11:17:03.691Z"
   },
   {
    "duration": 36,
    "start_time": "2022-04-06T11:17:03.723Z"
   },
   {
    "duration": 190,
    "start_time": "2022-04-06T11:17:03.761Z"
   },
   {
    "duration": 7,
    "start_time": "2022-04-06T11:17:03.954Z"
   },
   {
    "duration": 40,
    "start_time": "2022-04-06T11:17:03.963Z"
   },
   {
    "duration": 21,
    "start_time": "2022-04-06T11:17:04.005Z"
   },
   {
    "duration": 26,
    "start_time": "2022-04-06T11:17:04.028Z"
   },
   {
    "duration": 18,
    "start_time": "2022-04-06T11:17:04.055Z"
   },
   {
    "duration": 30,
    "start_time": "2022-04-06T11:17:04.075Z"
   },
   {
    "duration": 266,
    "start_time": "2022-04-06T11:17:04.107Z"
   },
   {
    "duration": 320,
    "start_time": "2022-04-06T11:17:04.375Z"
   },
   {
    "duration": 6,
    "start_time": "2022-04-06T11:17:04.696Z"
   },
   {
    "duration": 14,
    "start_time": "2022-04-06T11:17:04.703Z"
   },
   {
    "duration": 269,
    "start_time": "2022-04-06T11:17:04.719Z"
   },
   {
    "duration": 357,
    "start_time": "2022-04-06T11:17:12.528Z"
   },
   {
    "duration": 357,
    "start_time": "2022-04-06T11:17:16.166Z"
   },
   {
    "duration": 28,
    "start_time": "2022-04-06T11:17:23.567Z"
   },
   {
    "duration": 26,
    "start_time": "2022-04-06T11:17:28.394Z"
   },
   {
    "duration": 11,
    "start_time": "2022-04-06T11:29:49.328Z"
   },
   {
    "duration": 20,
    "start_time": "2022-04-06T11:32:59.435Z"
   },
   {
    "duration": 18,
    "start_time": "2022-04-06T11:33:13.407Z"
   },
   {
    "duration": 18,
    "start_time": "2022-04-06T11:33:40.950Z"
   },
   {
    "duration": 18,
    "start_time": "2022-04-06T11:34:29.254Z"
   },
   {
    "duration": 26,
    "start_time": "2022-04-06T11:34:50.363Z"
   },
   {
    "duration": 17,
    "start_time": "2022-04-06T11:35:24.387Z"
   },
   {
    "duration": 19,
    "start_time": "2022-04-06T11:35:33.106Z"
   },
   {
    "duration": 18,
    "start_time": "2022-04-06T11:36:18.543Z"
   },
   {
    "duration": 19,
    "start_time": "2022-04-06T11:36:24.502Z"
   },
   {
    "duration": 28,
    "start_time": "2022-04-06T11:36:36.849Z"
   },
   {
    "duration": 42,
    "start_time": "2022-04-06T11:38:01.393Z"
   },
   {
    "duration": 4,
    "start_time": "2022-04-06T11:38:33.050Z"
   },
   {
    "duration": 9,
    "start_time": "2022-04-06T11:39:00.717Z"
   },
   {
    "duration": 6,
    "start_time": "2022-04-06T11:45:36.687Z"
   },
   {
    "duration": 14,
    "start_time": "2022-04-06T11:45:46.445Z"
   },
   {
    "duration": 12,
    "start_time": "2022-04-06T11:46:17.074Z"
   },
   {
    "duration": 10,
    "start_time": "2022-04-06T11:46:45.422Z"
   },
   {
    "duration": 9,
    "start_time": "2022-04-06T11:47:02.922Z"
   },
   {
    "duration": 3,
    "start_time": "2022-04-06T11:48:29.841Z"
   },
   {
    "duration": 13,
    "start_time": "2022-04-06T11:53:23.420Z"
   },
   {
    "duration": 5,
    "start_time": "2022-04-06T11:53:44.525Z"
   },
   {
    "duration": 10,
    "start_time": "2022-04-06T11:54:03.141Z"
   },
   {
    "duration": 256,
    "start_time": "2022-04-06T11:55:26.164Z"
   },
   {
    "duration": 180,
    "start_time": "2022-04-06T11:55:59.740Z"
   },
   {
    "duration": 175,
    "start_time": "2022-04-06T11:56:20.092Z"
   },
   {
    "duration": 214,
    "start_time": "2022-04-06T11:58:13.278Z"
   },
   {
    "duration": 194,
    "start_time": "2022-04-06T11:59:17.917Z"
   },
   {
    "duration": 18,
    "start_time": "2022-04-06T12:09:35.467Z"
   },
   {
    "duration": 13,
    "start_time": "2022-04-06T12:10:09.209Z"
   },
   {
    "duration": 15,
    "start_time": "2022-04-06T12:10:26.525Z"
   },
   {
    "duration": 1381,
    "start_time": "2022-04-06T12:35:14.117Z"
   },
   {
    "duration": 4,
    "start_time": "2022-04-06T12:35:15.502Z"
   },
   {
    "duration": 198,
    "start_time": "2022-04-06T12:35:15.508Z"
   },
   {
    "duration": 8,
    "start_time": "2022-04-06T12:35:15.708Z"
   },
   {
    "duration": 16,
    "start_time": "2022-04-06T12:35:15.718Z"
   },
   {
    "duration": 5,
    "start_time": "2022-04-06T12:35:15.736Z"
   },
   {
    "duration": 23,
    "start_time": "2022-04-06T12:35:15.743Z"
   },
   {
    "duration": 38,
    "start_time": "2022-04-06T12:35:15.768Z"
   },
   {
    "duration": 196,
    "start_time": "2022-04-06T12:35:15.808Z"
   },
   {
    "duration": 7,
    "start_time": "2022-04-06T12:35:16.007Z"
   },
   {
    "duration": 15,
    "start_time": "2022-04-06T12:35:16.016Z"
   },
   {
    "duration": 11,
    "start_time": "2022-04-06T12:35:16.033Z"
   },
   {
    "duration": 12,
    "start_time": "2022-04-06T12:35:16.046Z"
   },
   {
    "duration": 8,
    "start_time": "2022-04-06T12:35:16.059Z"
   },
   {
    "duration": 34,
    "start_time": "2022-04-06T12:35:16.069Z"
   },
   {
    "duration": 266,
    "start_time": "2022-04-06T12:35:16.105Z"
   },
   {
    "duration": 329,
    "start_time": "2022-04-06T12:35:16.374Z"
   },
   {
    "duration": 4,
    "start_time": "2022-04-06T12:35:16.705Z"
   },
   {
    "duration": 7,
    "start_time": "2022-04-06T12:35:16.711Z"
   },
   {
    "duration": 284,
    "start_time": "2022-04-06T12:35:16.720Z"
   },
   {
    "duration": 319,
    "start_time": "2022-04-06T12:35:17.006Z"
   },
   {
    "duration": 9,
    "start_time": "2022-04-06T12:35:17.327Z"
   },
   {
    "duration": 33,
    "start_time": "2022-04-06T12:35:17.338Z"
   },
   {
    "duration": 50,
    "start_time": "2022-04-06T12:35:17.373Z"
   },
   {
    "duration": 5,
    "start_time": "2022-04-06T12:35:17.425Z"
   },
   {
    "duration": 382,
    "start_time": "2022-04-06T12:35:17.432Z"
   },
   {
    "duration": 188,
    "start_time": "2022-04-06T12:35:17.816Z"
   },
   {
    "duration": 5,
    "start_time": "2022-04-06T12:35:18.009Z"
   },
   {
    "duration": 233,
    "start_time": "2022-04-06T12:35:18.016Z"
   },
   {
    "duration": 11,
    "start_time": "2022-04-06T12:35:18.252Z"
   },
   {
    "duration": 189,
    "start_time": "2022-04-06T12:35:18.266Z"
   },
   {
    "duration": 6,
    "start_time": "2022-04-06T12:35:18.456Z"
   },
   {
    "duration": 14,
    "start_time": "2022-04-06T12:35:18.464Z"
   },
   {
    "duration": 21,
    "start_time": "2022-04-06T12:35:18.480Z"
   },
   {
    "duration": 21,
    "start_time": "2022-04-06T12:35:18.503Z"
   },
   {
    "duration": 13,
    "start_time": "2022-04-06T12:35:40.138Z"
   },
   {
    "duration": 134,
    "start_time": "2022-04-06T12:44:43.364Z"
   },
   {
    "duration": 10,
    "start_time": "2022-04-06T12:45:10.488Z"
   },
   {
    "duration": 8,
    "start_time": "2022-04-06T12:45:28.151Z"
   },
   {
    "duration": 7,
    "start_time": "2022-04-06T12:46:27.889Z"
   },
   {
    "duration": 9,
    "start_time": "2022-04-06T12:47:38.845Z"
   },
   {
    "duration": 31,
    "start_time": "2022-04-06T12:47:53.759Z"
   },
   {
    "duration": 1334,
    "start_time": "2022-04-06T15:06:22.024Z"
   },
   {
    "duration": 3,
    "start_time": "2022-04-06T15:06:23.361Z"
   },
   {
    "duration": 236,
    "start_time": "2022-04-06T15:06:23.365Z"
   },
   {
    "duration": 9,
    "start_time": "2022-04-06T15:06:23.604Z"
   },
   {
    "duration": 34,
    "start_time": "2022-04-06T15:06:23.616Z"
   },
   {
    "duration": 8,
    "start_time": "2022-04-06T15:06:23.652Z"
   },
   {
    "duration": 45,
    "start_time": "2022-04-06T15:06:23.662Z"
   },
   {
    "duration": 18,
    "start_time": "2022-04-06T15:06:23.710Z"
   },
   {
    "duration": 191,
    "start_time": "2022-04-06T15:06:23.729Z"
   },
   {
    "duration": 8,
    "start_time": "2022-04-06T15:06:23.923Z"
   },
   {
    "duration": 29,
    "start_time": "2022-04-06T15:06:23.933Z"
   },
   {
    "duration": 14,
    "start_time": "2022-04-06T15:06:23.965Z"
   },
   {
    "duration": 31,
    "start_time": "2022-04-06T15:06:23.981Z"
   },
   {
    "duration": 31,
    "start_time": "2022-04-06T15:06:24.015Z"
   },
   {
    "duration": 23,
    "start_time": "2022-04-06T15:06:24.048Z"
   },
   {
    "duration": 290,
    "start_time": "2022-04-06T15:06:24.073Z"
   },
   {
    "duration": 340,
    "start_time": "2022-04-06T15:06:24.365Z"
   },
   {
    "duration": 4,
    "start_time": "2022-04-06T15:06:24.707Z"
   },
   {
    "duration": 11,
    "start_time": "2022-04-06T15:06:24.713Z"
   },
   {
    "duration": 275,
    "start_time": "2022-04-06T15:06:24.726Z"
   },
   {
    "duration": 323,
    "start_time": "2022-04-06T15:06:25.003Z"
   },
   {
    "duration": 10,
    "start_time": "2022-04-06T15:06:25.328Z"
   },
   {
    "duration": 35,
    "start_time": "2022-04-06T15:06:25.340Z"
   },
   {
    "duration": 45,
    "start_time": "2022-04-06T15:06:25.377Z"
   },
   {
    "duration": 10,
    "start_time": "2022-04-06T15:06:25.424Z"
   },
   {
    "duration": 370,
    "start_time": "2022-04-06T15:06:25.436Z"
   },
   {
    "duration": 190,
    "start_time": "2022-04-06T15:06:25.808Z"
   },
   {
    "duration": 5,
    "start_time": "2022-04-06T15:06:26.001Z"
   },
   {
    "duration": 233,
    "start_time": "2022-04-06T15:06:26.008Z"
   },
   {
    "duration": 12,
    "start_time": "2022-04-06T15:06:26.243Z"
   },
   {
    "duration": 173,
    "start_time": "2022-04-06T15:06:26.257Z"
   },
   {
    "duration": 6,
    "start_time": "2022-04-06T15:06:26.432Z"
   },
   {
    "duration": 14,
    "start_time": "2022-04-06T15:06:26.440Z"
   },
   {
    "duration": 8,
    "start_time": "2022-04-06T15:06:26.456Z"
   },
   {
    "duration": 38,
    "start_time": "2022-04-06T15:06:26.467Z"
   },
   {
    "duration": 37,
    "start_time": "2022-04-06T15:06:26.507Z"
   },
   {
    "duration": 5,
    "start_time": "2022-04-06T15:06:26.546Z"
   },
   {
    "duration": 201,
    "start_time": "2022-04-06T15:08:24.175Z"
   },
   {
    "duration": 148,
    "start_time": "2022-04-06T15:17:24.118Z"
   },
   {
    "duration": 144,
    "start_time": "2022-04-06T15:26:42.690Z"
   },
   {
    "duration": 140,
    "start_time": "2022-04-06T15:29:12.841Z"
   },
   {
    "duration": 138,
    "start_time": "2022-04-06T15:30:18.942Z"
   },
   {
    "duration": 138,
    "start_time": "2022-04-06T15:33:12.810Z"
   },
   {
    "duration": 149,
    "start_time": "2022-04-06T15:33:20.712Z"
   },
   {
    "duration": 136,
    "start_time": "2022-04-06T15:33:31.697Z"
   },
   {
    "duration": 137,
    "start_time": "2022-04-06T15:33:37.344Z"
   },
   {
    "duration": 135,
    "start_time": "2022-04-06T15:43:02.143Z"
   },
   {
    "duration": 31,
    "start_time": "2022-04-06T15:43:37.366Z"
   },
   {
    "duration": 1533,
    "start_time": "2022-04-06T15:44:07.402Z"
   },
   {
    "duration": 3,
    "start_time": "2022-04-06T15:44:08.937Z"
   },
   {
    "duration": 213,
    "start_time": "2022-04-06T15:44:08.942Z"
   },
   {
    "duration": 8,
    "start_time": "2022-04-06T15:44:09.157Z"
   },
   {
    "duration": 42,
    "start_time": "2022-04-06T15:44:09.168Z"
   },
   {
    "duration": 6,
    "start_time": "2022-04-06T15:44:09.212Z"
   },
   {
    "duration": 29,
    "start_time": "2022-04-06T15:44:09.219Z"
   },
   {
    "duration": 9,
    "start_time": "2022-04-06T15:44:09.250Z"
   },
   {
    "duration": 217,
    "start_time": "2022-04-06T15:44:09.261Z"
   },
   {
    "duration": 7,
    "start_time": "2022-04-06T15:44:09.480Z"
   },
   {
    "duration": 9,
    "start_time": "2022-04-06T15:44:09.501Z"
   },
   {
    "duration": 8,
    "start_time": "2022-04-06T15:44:09.512Z"
   },
   {
    "duration": 11,
    "start_time": "2022-04-06T15:44:09.522Z"
   },
   {
    "duration": 9,
    "start_time": "2022-04-06T15:44:09.536Z"
   },
   {
    "duration": 14,
    "start_time": "2022-04-06T15:44:09.547Z"
   },
   {
    "duration": 283,
    "start_time": "2022-04-06T15:44:09.562Z"
   },
   {
    "duration": 332,
    "start_time": "2022-04-06T15:44:09.847Z"
   },
   {
    "duration": 5,
    "start_time": "2022-04-06T15:44:10.180Z"
   },
   {
    "duration": 15,
    "start_time": "2022-04-06T15:44:10.186Z"
   },
   {
    "duration": 277,
    "start_time": "2022-04-06T15:44:10.203Z"
   },
   {
    "duration": 337,
    "start_time": "2022-04-06T15:44:10.482Z"
   },
   {
    "duration": 10,
    "start_time": "2022-04-06T15:44:10.821Z"
   },
   {
    "duration": 30,
    "start_time": "2022-04-06T15:44:10.832Z"
   },
   {
    "duration": 49,
    "start_time": "2022-04-06T15:44:10.864Z"
   },
   {
    "duration": 4,
    "start_time": "2022-04-06T15:44:10.915Z"
   },
   {
    "duration": 398,
    "start_time": "2022-04-06T15:44:10.920Z"
   },
   {
    "duration": 188,
    "start_time": "2022-04-06T15:44:11.320Z"
   },
   {
    "duration": 4,
    "start_time": "2022-04-06T15:44:11.510Z"
   },
   {
    "duration": 238,
    "start_time": "2022-04-06T15:44:11.516Z"
   },
   {
    "duration": 12,
    "start_time": "2022-04-06T15:44:11.756Z"
   },
   {
    "duration": 202,
    "start_time": "2022-04-06T15:44:11.770Z"
   },
   {
    "duration": 6,
    "start_time": "2022-04-06T15:44:11.974Z"
   },
   {
    "duration": 27,
    "start_time": "2022-04-06T15:44:11.982Z"
   },
   {
    "duration": 4,
    "start_time": "2022-04-06T15:44:12.012Z"
   },
   {
    "duration": 16,
    "start_time": "2022-04-06T15:44:12.018Z"
   },
   {
    "duration": 41,
    "start_time": "2022-04-06T15:44:12.035Z"
   },
   {
    "duration": 191,
    "start_time": "2022-04-06T15:44:12.078Z"
   },
   {
    "duration": 180,
    "start_time": "2022-04-06T15:44:18.265Z"
   },
   {
    "duration": 140,
    "start_time": "2022-04-06T15:46:00.815Z"
   },
   {
    "duration": 145,
    "start_time": "2022-04-06T15:46:13.970Z"
   },
   {
    "duration": 109,
    "start_time": "2022-04-06T20:07:12.259Z"
   },
   {
    "duration": 118,
    "start_time": "2022-04-06T20:15:10.529Z"
   },
   {
    "duration": 1391,
    "start_time": "2022-04-07T05:18:58.306Z"
   },
   {
    "duration": 3,
    "start_time": "2022-04-07T05:18:59.699Z"
   },
   {
    "duration": 168,
    "start_time": "2022-04-07T05:18:59.703Z"
   },
   {
    "duration": 7,
    "start_time": "2022-04-07T05:18:59.873Z"
   },
   {
    "duration": 40,
    "start_time": "2022-04-07T05:18:59.881Z"
   },
   {
    "duration": 3,
    "start_time": "2022-04-07T05:18:59.923Z"
   },
   {
    "duration": 19,
    "start_time": "2022-04-07T05:18:59.928Z"
   },
   {
    "duration": 8,
    "start_time": "2022-04-07T05:18:59.948Z"
   },
   {
    "duration": 223,
    "start_time": "2022-04-07T05:18:59.957Z"
   },
   {
    "duration": 6,
    "start_time": "2022-04-07T05:19:00.183Z"
   },
   {
    "duration": 21,
    "start_time": "2022-04-07T05:19:00.190Z"
   },
   {
    "duration": 18,
    "start_time": "2022-04-07T05:19:00.213Z"
   },
   {
    "duration": 19,
    "start_time": "2022-04-07T05:19:00.233Z"
   },
   {
    "duration": 17,
    "start_time": "2022-04-07T05:19:00.254Z"
   },
   {
    "duration": 30,
    "start_time": "2022-04-07T05:19:00.273Z"
   },
   {
    "duration": 276,
    "start_time": "2022-04-07T05:19:00.305Z"
   },
   {
    "duration": 322,
    "start_time": "2022-04-07T05:19:00.583Z"
   },
   {
    "duration": 4,
    "start_time": "2022-04-07T05:19:00.906Z"
   },
   {
    "duration": 9,
    "start_time": "2022-04-07T05:19:00.912Z"
   },
   {
    "duration": 271,
    "start_time": "2022-04-07T05:19:00.923Z"
   },
   {
    "duration": 369,
    "start_time": "2022-04-07T05:19:01.196Z"
   },
   {
    "duration": 9,
    "start_time": "2022-04-07T05:19:01.567Z"
   },
   {
    "duration": 40,
    "start_time": "2022-04-07T05:19:01.577Z"
   },
   {
    "duration": 26,
    "start_time": "2022-04-07T05:19:01.619Z"
   },
   {
    "duration": 4,
    "start_time": "2022-04-07T05:19:01.646Z"
   },
   {
    "duration": 361,
    "start_time": "2022-04-07T05:19:01.652Z"
   },
   {
    "duration": 189,
    "start_time": "2022-04-07T05:19:02.015Z"
   },
   {
    "duration": 5,
    "start_time": "2022-04-07T05:19:02.208Z"
   },
   {
    "duration": 230,
    "start_time": "2022-04-07T05:19:02.214Z"
   },
   {
    "duration": 11,
    "start_time": "2022-04-07T05:19:02.446Z"
   },
   {
    "duration": 163,
    "start_time": "2022-04-07T05:19:02.459Z"
   },
   {
    "duration": 4,
    "start_time": "2022-04-07T05:19:02.624Z"
   },
   {
    "duration": 14,
    "start_time": "2022-04-07T05:19:02.630Z"
   },
   {
    "duration": 5,
    "start_time": "2022-04-07T05:19:02.646Z"
   },
   {
    "duration": 12,
    "start_time": "2022-04-07T05:19:02.653Z"
   },
   {
    "duration": 62,
    "start_time": "2022-04-07T05:19:02.666Z"
   },
   {
    "duration": 72,
    "start_time": "2022-04-07T05:19:10.557Z"
   },
   {
    "duration": 68,
    "start_time": "2022-04-07T08:21:10.740Z"
   },
   {
    "duration": 5,
    "start_time": "2022-04-07T08:34:28.637Z"
   },
   {
    "duration": 8,
    "start_time": "2022-04-07T08:36:02.784Z"
   },
   {
    "duration": 5,
    "start_time": "2022-04-07T08:37:06.660Z"
   },
   {
    "duration": 46,
    "start_time": "2022-04-07T08:37:14.965Z"
   },
   {
    "duration": 5,
    "start_time": "2022-04-07T08:37:36.012Z"
   },
   {
    "duration": 5,
    "start_time": "2022-04-07T08:38:25.653Z"
   },
   {
    "duration": 10,
    "start_time": "2022-04-07T08:38:32.120Z"
   },
   {
    "duration": 93,
    "start_time": "2022-04-07T08:40:11.819Z"
   },
   {
    "duration": 76,
    "start_time": "2022-04-07T08:40:58.461Z"
   },
   {
    "duration": 12,
    "start_time": "2022-04-07T08:41:15.871Z"
   },
   {
    "duration": 68,
    "start_time": "2022-04-07T08:45:01.437Z"
   },
   {
    "duration": 189,
    "start_time": "2022-04-07T08:46:09.284Z"
   },
   {
    "duration": 64,
    "start_time": "2022-04-07T08:46:27.455Z"
   },
   {
    "duration": 70,
    "start_time": "2022-04-07T08:48:26.888Z"
   },
   {
    "duration": 65,
    "start_time": "2022-04-07T08:49:16.545Z"
   },
   {
    "duration": 62,
    "start_time": "2022-04-07T08:49:29.126Z"
   },
   {
    "duration": 110,
    "start_time": "2022-04-07T08:49:51.498Z"
   },
   {
    "duration": 9,
    "start_time": "2022-04-07T08:49:58.999Z"
   },
   {
    "duration": 9,
    "start_time": "2022-04-07T08:51:03.572Z"
   },
   {
    "duration": 9,
    "start_time": "2022-04-07T08:51:20.900Z"
   },
   {
    "duration": 8,
    "start_time": "2022-04-07T08:52:24.587Z"
   },
   {
    "duration": 13,
    "start_time": "2022-04-07T08:52:54.845Z"
   },
   {
    "duration": 167,
    "start_time": "2022-04-07T11:17:37.972Z"
   },
   {
    "duration": 125,
    "start_time": "2022-04-07T11:24:49.153Z"
   },
   {
    "duration": 64,
    "start_time": "2022-04-07T17:02:33.389Z"
   },
   {
    "duration": 1801,
    "start_time": "2022-04-07T17:02:41.066Z"
   },
   {
    "duration": 4,
    "start_time": "2022-04-07T17:02:42.870Z"
   },
   {
    "duration": 235,
    "start_time": "2022-04-07T17:02:42.876Z"
   },
   {
    "duration": 10,
    "start_time": "2022-04-07T17:02:43.114Z"
   },
   {
    "duration": 48,
    "start_time": "2022-04-07T17:02:43.127Z"
   },
   {
    "duration": 6,
    "start_time": "2022-04-07T17:02:43.177Z"
   },
   {
    "duration": 31,
    "start_time": "2022-04-07T17:02:43.185Z"
   },
   {
    "duration": 11,
    "start_time": "2022-04-07T17:02:43.218Z"
   },
   {
    "duration": 297,
    "start_time": "2022-04-07T17:02:43.267Z"
   },
   {
    "duration": 8,
    "start_time": "2022-04-07T17:02:43.568Z"
   },
   {
    "duration": 12,
    "start_time": "2022-04-07T17:02:43.578Z"
   },
   {
    "duration": 7,
    "start_time": "2022-04-07T17:02:43.592Z"
   },
   {
    "duration": 14,
    "start_time": "2022-04-07T17:02:43.601Z"
   },
   {
    "duration": 5,
    "start_time": "2022-04-07T17:02:43.619Z"
   },
   {
    "duration": 47,
    "start_time": "2022-04-07T17:02:43.626Z"
   },
   {
    "duration": 417,
    "start_time": "2022-04-07T17:02:43.676Z"
   },
   {
    "duration": 505,
    "start_time": "2022-04-07T17:02:44.095Z"
   },
   {
    "duration": 5,
    "start_time": "2022-04-07T17:02:44.602Z"
   },
   {
    "duration": 7,
    "start_time": "2022-04-07T17:02:44.609Z"
   },
   {
    "duration": 539,
    "start_time": "2022-04-07T17:02:44.618Z"
   },
   {
    "duration": 563,
    "start_time": "2022-04-07T17:02:45.159Z"
   },
   {
    "duration": 12,
    "start_time": "2022-04-07T17:02:45.724Z"
   },
   {
    "duration": 55,
    "start_time": "2022-04-07T17:02:45.738Z"
   },
   {
    "duration": 38,
    "start_time": "2022-04-07T17:02:45.795Z"
   },
   {
    "duration": 33,
    "start_time": "2022-04-07T17:02:45.835Z"
   },
   {
    "duration": 458,
    "start_time": "2022-04-07T17:02:45.870Z"
   },
   {
    "duration": 11,
    "start_time": "2022-04-07T17:09:43.092Z"
   },
   {
    "duration": 16,
    "start_time": "2022-04-07T17:09:50.163Z"
   },
   {
    "duration": 6,
    "start_time": "2022-04-07T17:22:58.478Z"
   },
   {
    "duration": 714,
    "start_time": "2022-04-07T17:24:52.036Z"
   }
  ],
  "kernelspec": {
   "display_name": "Python 3 (ipykernel)",
   "language": "python",
   "name": "python3"
  },
  "language_info": {
   "codemirror_mode": {
    "name": "ipython",
    "version": 3
   },
   "file_extension": ".py",
   "mimetype": "text/x-python",
   "name": "python",
   "nbconvert_exporter": "python",
   "pygments_lexer": "ipython3",
   "version": "3.9.5"
  },
  "toc": {
   "base_numbering": 1,
   "nav_menu": {},
   "number_sections": true,
   "sideBar": true,
   "skip_h1_title": false,
   "title_cell": "Table of Contents",
   "title_sidebar": "Contents",
   "toc_cell": false,
   "toc_position": {
    "height": "calc(100% - 180px)",
    "left": "10px",
    "top": "150px",
    "width": "248.188px"
   },
   "toc_section_display": true,
   "toc_window_display": true
  }
 },
 "nbformat": 4,
 "nbformat_minor": 5
}
