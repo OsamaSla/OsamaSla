{
 "cells": [
  {
   "cell_type": "markdown",
   "id": "c2aa8a29",
   "metadata": {},
   "source": [
    "**Hello Osama!**\n",
    "\n",
    "Alexey Kargin is here and I will review your **SQL project** and help you make it even better! Nice to meet you again! I have added my comments on your new project to cells with different coloring. Please, do not move or delete them - it helps us move faster:\n",
    "\n",
    "<div class=\"alert alert-success\">\n",
    "<b>Reviewer's comment v.1</b> \n",
    "    \n",
    "👍 I am using green color for my comment, if everything is done successfully. Also, I use this color for general recommendations and additional information.\n",
    "</div>\n",
    "\n",
    "<div class=\"alert alert-warning\">\n",
    "<b>Reviewer's comment v.1</b> \n",
    "    \n",
    "📝 I am using yellow color for my comment if I can give you a recommendation or think that something can be improved in this project. These are optional recommendations, but it will be perfect if you work with them.\n",
    "</div>\n",
    "\n",
    "<div class=\"alert alert-danger\">\n",
    "<b>Reviewer's comment v.1</b> \n",
    "    \n",
    "✍ I am using red color for my comment if the block requires some extra work or corrections. The project couldn’t be accepted with red comments. Also, I highlight some issues with result interpretations using this block too. \n",
    "</div>\n",
    "  \n",
    "To make a dialog, let’s use this style for your remarks:\n",
    "<div class=\"alert alert-info\"> \n",
    "<b>Student's comment</b> \n",
    "    \n",
    "Just like this. To make a similar block - double-click on the block, copy and edit it in places you are changing. Also, if you have any questions, you could highlight them using this block.\n",
    "</div>\n",
    "\n",
    "Now, let’s go to data analysis!\n",
    "\n",
    "---\n",
    "    \n",
    "<div class=\"alert alert-success\">\n",
    "<b>General feedback v.1</b>\n",
    "    \n",
    "👋 Osama, thank you for sending the project! \n",
    "    \n",
    "You have provided a good job! You correctly used subqueries to solve the tasks. <span class=\"text-danger\">However, the second and query should be improved. Please check my comments. </span> and I believe you can easily fix them!  \n",
    "\n",
    "Keep up the good work, and come back soon! \n",
    "    \n",
    "<br>\n",
    "Best regards,\n",
    "<br> Alexey\n",
    "</div>\n",
    "\n",
    "---\n",
    "\n",
    "    \n",
    "<div class=\"alert alert-success\">\n",
    "<b>General feedback v.2</b>\n",
    "    \n",
    "👋 Osama,  thank you for sending the revised version of the project 👍\n",
    "\n",
    "Your corrections look great, and now the project is a true \"A\". Congratulations! I am glad to say that your project has been accepted. You hit the target!\n",
    "\n",
    "\n",
    "<br>\n",
    "Best regards,\n",
    "<br> Alexey\n",
    "</div>\n",
    "\n",
    "---"
   ]
  },
  {
   "cell_type": "markdown",
   "id": "tropical-making",
   "metadata": {},
   "source": [
    "# SQL Project"
   ]
  },
  {
   "cell_type": "markdown",
   "id": "finnish-norwegian",
   "metadata": {},
   "source": [
    "Table of Contents:\n",
    "\n",
    "<a href='#Step 1 Describe the Goals of the Study'>Step 1 Describe the Goals of the Study</a>\n",
    "\n",
    "<a href='#Step 2 Study the Tables'>Step 2 Study the Tables</a>\n",
    "\n",
    "<a href='#Step 3 Make an SQL Query for each of the Tasks and Output the Results in the Notebook'>Step 3 Make an SQL Query for each of the Tasks and Output the Results in the Notebook</a>\n",
    "\n",
    "<a href='#Step 4 Conclusions and Recommendations'>Step 4 Conclusions and Recommendations</a>\n",
    "\n"
   ]
  },
  {
   "cell_type": "markdown",
   "id": "amended-wonder",
   "metadata": {},
   "source": [
    "<a id='Step 1 Describe the Goals of the Study'><a/>"
   ]
  },
  {
   "cell_type": "markdown",
   "id": "altered-proxy",
   "metadata": {},
   "source": [
    "## Project Description\n",
    "\n",
    "The coronavirus took the entire world by surprise, changing everyone's daily routine. City dwellers no longer spent their free time outside, going to cafes and malls; more people were at home, reading books. That attracted the attention of startups that rushed to develop new apps for book lovers. \n",
    "\n",
    "I've been given a database of one of the services competing in this market. It contains data on books, publishers, authors, and customer ratings and reviews of books. This information will be used to generate a value proposition for a new product."
   ]
  },
  {
   "cell_type": "markdown",
   "id": "495fb970",
   "metadata": {},
   "source": [
    "<div class=\"alert alert-block alert-success\">\n",
    "<b>Reviewer's comment v.1</b> \n",
    "    \n",
    "👍 Good start! </div>"
   ]
  },
  {
   "cell_type": "code",
   "execution_count": 1,
   "id": "f0b54662",
   "metadata": {},
   "outputs": [],
   "source": [
    "# import libraries and establish connection to the database\n",
    "import psycopg2\n",
    "import pandas as pd\n",
    "import numpy as np\n",
    "# import seaborn as sns\n",
    "# import matplotlib.pyplot as plt\n",
    "from sqlalchemy import create_engine"
   ]
  },
  {
   "cell_type": "code",
   "execution_count": 2,
   "id": "conditional-truck",
   "metadata": {},
   "outputs": [],
   "source": [
    "db_config = {'user': 'praktikum_student',         # user name\n",
    "             'pwd': 'Sdf4$2;d-d30pp', # password\n",
    "             'host': 'rc1b-wcoijxj3yxfsf3fs.mdb.yandexcloud.net',\n",
    "             'port': 6432,              # connection port\n",
    "             'db': 'data-analyst-final-project-db'}          # the name of the data base\n",
    "\n",
    "connection_string = 'postgresql://{}:{}@{}:{}/{}'.format(db_config['user'],\n",
    "                                                                     db_config['pwd'],\n",
    "                                                                       db_config['host'],\n",
    "                                                                       db_config['port'],\n",
    "                                                                       db_config['db'])\n",
    "\n",
    "engine = create_engine(connection_string, connect_args={'sslmode':'require'})\n"
   ]
  },
  {
   "cell_type": "markdown",
   "id": "d405007d",
   "metadata": {},
   "source": [
    "<div class=\"alert alert-block alert-success\">\n",
    "<b>Reviewer's comment v.1</b> \n",
    "    \n",
    "👍 Well done! The libraries have been loaded, and the connector to the database has been created. Let's study the data!\n",
    "</div>"
   ]
  },
  {
   "cell_type": "markdown",
   "id": "7403ed79",
   "metadata": {},
   "source": [
    "<div class=\"alert alert-block alert-warning\">\n",
    "<b>Reviewer's comment v.1</b> \n",
    "    \n",
    "📝 It is better to aggregate import of libraries into a separate cell at the start of the code. That will be in line with [PEP 8 - Style Guide for Python Code](https://www.python.org/dev/peps/pep-0008/). Also, it is not necessary to load libraries that we will not use.\n",
    "</div>"
   ]
  },
  {
   "cell_type": "markdown",
   "id": "41ee03fd",
   "metadata": {},
   "source": [
    "<div class=\"alert alert-block alert-success\">\n",
    "<b>Reviewer's comment v.2</b> \n",
    "    \n",
    "👍 Thank you for checking this point. </div>"
   ]
  },
  {
   "cell_type": "code",
   "execution_count": 3,
   "id": "nearby-blair",
   "metadata": {},
   "outputs": [],
   "source": [
    "# use this code for SQL queries: pd.io.sql.read_sql(query, con = engine)\n",
    "# the unction reads a SQL query or database table into a pandas dataframe"
   ]
  },
  {
   "cell_type": "markdown",
   "id": "lightweight-stress",
   "metadata": {},
   "source": [
    "<a id='Step 2 Study the Tables'><a/>"
   ]
  },
  {
   "cell_type": "markdown",
   "id": "informed-registrar",
   "metadata": {},
   "source": [
    "## Step 2 Study the Tables"
   ]
  },
  {
   "cell_type": "code",
   "execution_count": 4,
   "id": "ultimate-lawrence",
   "metadata": {},
   "outputs": [],
   "source": [
    "# displaying ERD for the database using markdown"
   ]
  },
  {
   "cell_type": "markdown",
   "id": "fatty-cleaner",
   "metadata": {},
   "source": [
    "<img src=\"Data diagram.png\">"
   ]
  },
  {
   "cell_type": "markdown",
   "id": "wicked-reviewer",
   "metadata": {},
   "source": [
    "To begin I'm going to get a look at all the tables in the database.\n",
    "\n",
    "I'll proceed in this order:\n",
    "1. Books\n",
    "2. Authors\n",
    "3. Publishers\n",
    "4. Ratings\n",
    "5. Reviews"
   ]
  },
  {
   "cell_type": "code",
   "execution_count": 5,
   "id": "funded-mention",
   "metadata": {},
   "outputs": [],
   "source": [
    "#querying the books table\n",
    "books_query = \"SELECT * FROM books\""
   ]
  },
  {
   "cell_type": "code",
   "execution_count": 6,
   "id": "experienced-moral",
   "metadata": {},
   "outputs": [
    {
     "data": {
      "text/html": [
       "<div>\n",
       "<style scoped>\n",
       "    .dataframe tbody tr th:only-of-type {\n",
       "        vertical-align: middle;\n",
       "    }\n",
       "\n",
       "    .dataframe tbody tr th {\n",
       "        vertical-align: top;\n",
       "    }\n",
       "\n",
       "    .dataframe thead th {\n",
       "        text-align: right;\n",
       "    }\n",
       "</style>\n",
       "<table border=\"1\" class=\"dataframe\">\n",
       "  <thead>\n",
       "    <tr style=\"text-align: right;\">\n",
       "      <th></th>\n",
       "      <th>book_id</th>\n",
       "      <th>author_id</th>\n",
       "      <th>title</th>\n",
       "      <th>num_pages</th>\n",
       "      <th>publication_date</th>\n",
       "      <th>publisher_id</th>\n",
       "    </tr>\n",
       "  </thead>\n",
       "  <tbody>\n",
       "    <tr>\n",
       "      <th>0</th>\n",
       "      <td>1</td>\n",
       "      <td>546</td>\n",
       "      <td>'Salem's Lot</td>\n",
       "      <td>594</td>\n",
       "      <td>2005-11-01</td>\n",
       "      <td>93</td>\n",
       "    </tr>\n",
       "    <tr>\n",
       "      <th>1</th>\n",
       "      <td>2</td>\n",
       "      <td>465</td>\n",
       "      <td>1 000 Places to See Before You Die</td>\n",
       "      <td>992</td>\n",
       "      <td>2003-05-22</td>\n",
       "      <td>336</td>\n",
       "    </tr>\n",
       "    <tr>\n",
       "      <th>2</th>\n",
       "      <td>3</td>\n",
       "      <td>407</td>\n",
       "      <td>13 Little Blue Envelopes (Little Blue Envelope...</td>\n",
       "      <td>322</td>\n",
       "      <td>2010-12-21</td>\n",
       "      <td>135</td>\n",
       "    </tr>\n",
       "    <tr>\n",
       "      <th>3</th>\n",
       "      <td>4</td>\n",
       "      <td>82</td>\n",
       "      <td>1491: New Revelations of the Americas Before C...</td>\n",
       "      <td>541</td>\n",
       "      <td>2006-10-10</td>\n",
       "      <td>309</td>\n",
       "    </tr>\n",
       "    <tr>\n",
       "      <th>4</th>\n",
       "      <td>5</td>\n",
       "      <td>125</td>\n",
       "      <td>1776</td>\n",
       "      <td>386</td>\n",
       "      <td>2006-07-04</td>\n",
       "      <td>268</td>\n",
       "    </tr>\n",
       "  </tbody>\n",
       "</table>\n",
       "</div>"
      ],
      "text/plain": [
       "   book_id  author_id                                              title  \\\n",
       "0        1        546                                       'Salem's Lot   \n",
       "1        2        465                 1 000 Places to See Before You Die   \n",
       "2        3        407  13 Little Blue Envelopes (Little Blue Envelope...   \n",
       "3        4         82  1491: New Revelations of the Americas Before C...   \n",
       "4        5        125                                               1776   \n",
       "\n",
       "   num_pages publication_date  publisher_id  \n",
       "0        594       2005-11-01            93  \n",
       "1        992       2003-05-22           336  \n",
       "2        322       2010-12-21           135  \n",
       "3        541       2006-10-10           309  \n",
       "4        386       2006-07-04           268  "
      ]
     },
     "execution_count": 6,
     "metadata": {},
     "output_type": "execute_result"
    }
   ],
   "source": [
    "#creating variable for the book table\n",
    "books_table = pd.io.sql.read_sql(books_query, con = engine)\n",
    "books_table.head(5)"
   ]
  },
  {
   "cell_type": "code",
   "execution_count": 7,
   "id": "extreme-adapter",
   "metadata": {},
   "outputs": [],
   "source": [
    "#querying the authors table\n",
    "authors_query = \"SELECT * FROM authors\""
   ]
  },
  {
   "cell_type": "code",
   "execution_count": 8,
   "id": "efficient-tulsa",
   "metadata": {},
   "outputs": [
    {
     "data": {
      "text/html": [
       "<div>\n",
       "<style scoped>\n",
       "    .dataframe tbody tr th:only-of-type {\n",
       "        vertical-align: middle;\n",
       "    }\n",
       "\n",
       "    .dataframe tbody tr th {\n",
       "        vertical-align: top;\n",
       "    }\n",
       "\n",
       "    .dataframe thead th {\n",
       "        text-align: right;\n",
       "    }\n",
       "</style>\n",
       "<table border=\"1\" class=\"dataframe\">\n",
       "  <thead>\n",
       "    <tr style=\"text-align: right;\">\n",
       "      <th></th>\n",
       "      <th>author_id</th>\n",
       "      <th>author</th>\n",
       "    </tr>\n",
       "  </thead>\n",
       "  <tbody>\n",
       "    <tr>\n",
       "      <th>0</th>\n",
       "      <td>1</td>\n",
       "      <td>A.S. Byatt</td>\n",
       "    </tr>\n",
       "    <tr>\n",
       "      <th>1</th>\n",
       "      <td>2</td>\n",
       "      <td>Aesop/Laura Harris/Laura Gibbs</td>\n",
       "    </tr>\n",
       "    <tr>\n",
       "      <th>2</th>\n",
       "      <td>3</td>\n",
       "      <td>Agatha Christie</td>\n",
       "    </tr>\n",
       "    <tr>\n",
       "      <th>3</th>\n",
       "      <td>4</td>\n",
       "      <td>Alan Brennert</td>\n",
       "    </tr>\n",
       "    <tr>\n",
       "      <th>4</th>\n",
       "      <td>5</td>\n",
       "      <td>Alan Moore/David   Lloyd</td>\n",
       "    </tr>\n",
       "  </tbody>\n",
       "</table>\n",
       "</div>"
      ],
      "text/plain": [
       "   author_id                          author\n",
       "0          1                      A.S. Byatt\n",
       "1          2  Aesop/Laura Harris/Laura Gibbs\n",
       "2          3                 Agatha Christie\n",
       "3          4                   Alan Brennert\n",
       "4          5        Alan Moore/David   Lloyd"
      ]
     },
     "execution_count": 8,
     "metadata": {},
     "output_type": "execute_result"
    }
   ],
   "source": [
    "authors_table = pd.io.sql.read_sql(authors_query, con = engine)\n",
    "authors_table.head(5)"
   ]
  },
  {
   "cell_type": "code",
   "execution_count": 9,
   "id": "processed-pantyhose",
   "metadata": {},
   "outputs": [],
   "source": [
    "#querying the publishers table\n",
    "publishers_query = \"SELECT * FROM publishers\""
   ]
  },
  {
   "cell_type": "code",
   "execution_count": 10,
   "id": "virgin-lease",
   "metadata": {},
   "outputs": [
    {
     "data": {
      "text/html": [
       "<div>\n",
       "<style scoped>\n",
       "    .dataframe tbody tr th:only-of-type {\n",
       "        vertical-align: middle;\n",
       "    }\n",
       "\n",
       "    .dataframe tbody tr th {\n",
       "        vertical-align: top;\n",
       "    }\n",
       "\n",
       "    .dataframe thead th {\n",
       "        text-align: right;\n",
       "    }\n",
       "</style>\n",
       "<table border=\"1\" class=\"dataframe\">\n",
       "  <thead>\n",
       "    <tr style=\"text-align: right;\">\n",
       "      <th></th>\n",
       "      <th>publisher_id</th>\n",
       "      <th>publisher</th>\n",
       "    </tr>\n",
       "  </thead>\n",
       "  <tbody>\n",
       "    <tr>\n",
       "      <th>0</th>\n",
       "      <td>1</td>\n",
       "      <td>Ace</td>\n",
       "    </tr>\n",
       "    <tr>\n",
       "      <th>1</th>\n",
       "      <td>2</td>\n",
       "      <td>Ace Book</td>\n",
       "    </tr>\n",
       "    <tr>\n",
       "      <th>2</th>\n",
       "      <td>3</td>\n",
       "      <td>Ace Books</td>\n",
       "    </tr>\n",
       "    <tr>\n",
       "      <th>3</th>\n",
       "      <td>4</td>\n",
       "      <td>Ace Hardcover</td>\n",
       "    </tr>\n",
       "    <tr>\n",
       "      <th>4</th>\n",
       "      <td>5</td>\n",
       "      <td>Addison Wesley Publishing Company</td>\n",
       "    </tr>\n",
       "  </tbody>\n",
       "</table>\n",
       "</div>"
      ],
      "text/plain": [
       "   publisher_id                          publisher\n",
       "0             1                                Ace\n",
       "1             2                           Ace Book\n",
       "2             3                          Ace Books\n",
       "3             4                      Ace Hardcover\n",
       "4             5  Addison Wesley Publishing Company"
      ]
     },
     "execution_count": 10,
     "metadata": {},
     "output_type": "execute_result"
    }
   ],
   "source": [
    "publishers_table = pd.io.sql.read_sql(publishers_query, con = engine)\n",
    "publishers_table.head(5)"
   ]
  },
  {
   "cell_type": "code",
   "execution_count": 11,
   "id": "compound-truth",
   "metadata": {},
   "outputs": [],
   "source": [
    "#querying the publishers table\n",
    "ratings_query = \"SELECT * FROM ratings\""
   ]
  },
  {
   "cell_type": "code",
   "execution_count": 12,
   "id": "passive-aircraft",
   "metadata": {},
   "outputs": [
    {
     "data": {
      "text/html": [
       "<div>\n",
       "<style scoped>\n",
       "    .dataframe tbody tr th:only-of-type {\n",
       "        vertical-align: middle;\n",
       "    }\n",
       "\n",
       "    .dataframe tbody tr th {\n",
       "        vertical-align: top;\n",
       "    }\n",
       "\n",
       "    .dataframe thead th {\n",
       "        text-align: right;\n",
       "    }\n",
       "</style>\n",
       "<table border=\"1\" class=\"dataframe\">\n",
       "  <thead>\n",
       "    <tr style=\"text-align: right;\">\n",
       "      <th></th>\n",
       "      <th>rating_id</th>\n",
       "      <th>book_id</th>\n",
       "      <th>username</th>\n",
       "      <th>rating</th>\n",
       "    </tr>\n",
       "  </thead>\n",
       "  <tbody>\n",
       "    <tr>\n",
       "      <th>0</th>\n",
       "      <td>1</td>\n",
       "      <td>1</td>\n",
       "      <td>ryanfranco</td>\n",
       "      <td>4</td>\n",
       "    </tr>\n",
       "    <tr>\n",
       "      <th>1</th>\n",
       "      <td>2</td>\n",
       "      <td>1</td>\n",
       "      <td>grantpatricia</td>\n",
       "      <td>2</td>\n",
       "    </tr>\n",
       "    <tr>\n",
       "      <th>2</th>\n",
       "      <td>3</td>\n",
       "      <td>1</td>\n",
       "      <td>brandtandrea</td>\n",
       "      <td>5</td>\n",
       "    </tr>\n",
       "    <tr>\n",
       "      <th>3</th>\n",
       "      <td>4</td>\n",
       "      <td>2</td>\n",
       "      <td>lorichen</td>\n",
       "      <td>3</td>\n",
       "    </tr>\n",
       "    <tr>\n",
       "      <th>4</th>\n",
       "      <td>5</td>\n",
       "      <td>2</td>\n",
       "      <td>mariokeller</td>\n",
       "      <td>2</td>\n",
       "    </tr>\n",
       "  </tbody>\n",
       "</table>\n",
       "</div>"
      ],
      "text/plain": [
       "   rating_id  book_id       username  rating\n",
       "0          1        1     ryanfranco       4\n",
       "1          2        1  grantpatricia       2\n",
       "2          3        1   brandtandrea       5\n",
       "3          4        2       lorichen       3\n",
       "4          5        2    mariokeller       2"
      ]
     },
     "execution_count": 12,
     "metadata": {},
     "output_type": "execute_result"
    }
   ],
   "source": [
    "ratings_table = pd.io.sql.read_sql(ratings_query, con = engine)\n",
    "ratings_table.head(5)"
   ]
  },
  {
   "cell_type": "code",
   "execution_count": 13,
   "id": "received-pantyhose",
   "metadata": {},
   "outputs": [],
   "source": [
    "#querying the publishers table\n",
    "reviews_query = \"SELECT * FROM reviews\""
   ]
  },
  {
   "cell_type": "code",
   "execution_count": 14,
   "id": "played-appeal",
   "metadata": {},
   "outputs": [
    {
     "data": {
      "text/html": [
       "<div>\n",
       "<style scoped>\n",
       "    .dataframe tbody tr th:only-of-type {\n",
       "        vertical-align: middle;\n",
       "    }\n",
       "\n",
       "    .dataframe tbody tr th {\n",
       "        vertical-align: top;\n",
       "    }\n",
       "\n",
       "    .dataframe thead th {\n",
       "        text-align: right;\n",
       "    }\n",
       "</style>\n",
       "<table border=\"1\" class=\"dataframe\">\n",
       "  <thead>\n",
       "    <tr style=\"text-align: right;\">\n",
       "      <th></th>\n",
       "      <th>review_id</th>\n",
       "      <th>book_id</th>\n",
       "      <th>username</th>\n",
       "      <th>text</th>\n",
       "    </tr>\n",
       "  </thead>\n",
       "  <tbody>\n",
       "    <tr>\n",
       "      <th>0</th>\n",
       "      <td>1</td>\n",
       "      <td>1</td>\n",
       "      <td>brandtandrea</td>\n",
       "      <td>Mention society tell send professor analysis. ...</td>\n",
       "    </tr>\n",
       "    <tr>\n",
       "      <th>1</th>\n",
       "      <td>2</td>\n",
       "      <td>1</td>\n",
       "      <td>ryanfranco</td>\n",
       "      <td>Foot glass pretty audience hit themselves. Amo...</td>\n",
       "    </tr>\n",
       "    <tr>\n",
       "      <th>2</th>\n",
       "      <td>3</td>\n",
       "      <td>2</td>\n",
       "      <td>lorichen</td>\n",
       "      <td>Listen treat keep worry. Miss husband tax but ...</td>\n",
       "    </tr>\n",
       "    <tr>\n",
       "      <th>3</th>\n",
       "      <td>4</td>\n",
       "      <td>3</td>\n",
       "      <td>johnsonamanda</td>\n",
       "      <td>Finally month interesting blue could nature cu...</td>\n",
       "    </tr>\n",
       "    <tr>\n",
       "      <th>4</th>\n",
       "      <td>5</td>\n",
       "      <td>3</td>\n",
       "      <td>scotttamara</td>\n",
       "      <td>Nation purpose heavy give wait song will. List...</td>\n",
       "    </tr>\n",
       "  </tbody>\n",
       "</table>\n",
       "</div>"
      ],
      "text/plain": [
       "   review_id  book_id       username  \\\n",
       "0          1        1   brandtandrea   \n",
       "1          2        1     ryanfranco   \n",
       "2          3        2       lorichen   \n",
       "3          4        3  johnsonamanda   \n",
       "4          5        3    scotttamara   \n",
       "\n",
       "                                                text  \n",
       "0  Mention society tell send professor analysis. ...  \n",
       "1  Foot glass pretty audience hit themselves. Amo...  \n",
       "2  Listen treat keep worry. Miss husband tax but ...  \n",
       "3  Finally month interesting blue could nature cu...  \n",
       "4  Nation purpose heavy give wait song will. List...  "
      ]
     },
     "execution_count": 14,
     "metadata": {},
     "output_type": "execute_result"
    }
   ],
   "source": [
    "reviews_table = pd.io.sql.read_sql(reviews_query, con = engine)\n",
    "reviews_table.head(5)"
   ]
  },
  {
   "cell_type": "markdown",
   "id": "central-break",
   "metadata": {},
   "source": [
    "<a id='Step 3 Make an SQL Query for each of the Tasks and Output the Results in the Notebook'><a/>"
   ]
  },
  {
   "cell_type": "markdown",
   "id": "lined-access",
   "metadata": {},
   "source": [
    "<a id='Step 3 Make an SQL Query for each of the Tasks and Output the Results in the Notebook'><a/>"
   ]
  },
  {
   "cell_type": "markdown",
   "id": "0863d957",
   "metadata": {},
   "source": [
    "<div class=\"alert alert-block alert-warning\">\n",
    "<b>Reviewer's comment v.1</b> \n",
    "    \n",
    "👍 Well done! The data have been observed. Here we could also provide a data description. Also, when we work with databases using SQL, it is better to limit the data using SQL queries rather than pandas. \n",
    "    \n",
    "```SQL\n",
    "SELECT *\n",
    "FROM reviews    \n",
    "LIMIT 5\n",
    "```  \n",
    "    \n",
    "It allows us to avoid errors and save time if the database has many entries.\n",
    "    \n",
    "---\n",
    "    \n",
    "    \n",
    "📝 Also,  we could provide a data description. \n",
    "    \n",
    "</div>"
   ]
  },
  {
   "cell_type": "markdown",
   "id": "surprised-basic",
   "metadata": {},
   "source": [
    "## Step 3 Make an SQL Query for each of the Tasks and Output the Results in the Notebook"
   ]
  },
  {
   "cell_type": "markdown",
   "id": "developed-store",
   "metadata": {},
   "source": [
    "Tasks:\n",
    "1. Find the number of books released after January 1, 2000.\n",
    "2. Find the number of books released after January 1, 2000.\n",
    "3. Identify the publisher that has released the greatest number of books with more than 50 pages (this will help you exclude brochures and similar publications from your analysis).\n",
    "4. Identify the author with the highest average book rating (look only at books with at least 50 ratings).\n",
    "5. Find the average number of text reviews among users who rated more than 50 books. "
   ]
  },
  {
   "cell_type": "markdown",
   "id": "stopped-origin",
   "metadata": {},
   "source": [
    "### Task 1: Find the number of books released after January 1, 2000"
   ]
  },
  {
   "cell_type": "code",
   "execution_count": 15,
   "id": "disciplinary-strategy",
   "metadata": {},
   "outputs": [
    {
     "data": {
      "text/html": [
       "<div>\n",
       "<style scoped>\n",
       "    .dataframe tbody tr th:only-of-type {\n",
       "        vertical-align: middle;\n",
       "    }\n",
       "\n",
       "    .dataframe tbody tr th {\n",
       "        vertical-align: top;\n",
       "    }\n",
       "\n",
       "    .dataframe thead th {\n",
       "        text-align: right;\n",
       "    }\n",
       "</style>\n",
       "<table border=\"1\" class=\"dataframe\">\n",
       "  <thead>\n",
       "    <tr style=\"text-align: right;\">\n",
       "      <th></th>\n",
       "      <th>book_id</th>\n",
       "      <th>author_id</th>\n",
       "      <th>title</th>\n",
       "      <th>num_pages</th>\n",
       "      <th>publication_date</th>\n",
       "      <th>publisher_id</th>\n",
       "    </tr>\n",
       "  </thead>\n",
       "  <tbody>\n",
       "    <tr>\n",
       "      <th>0</th>\n",
       "      <td>1</td>\n",
       "      <td>546</td>\n",
       "      <td>'Salem's Lot</td>\n",
       "      <td>594</td>\n",
       "      <td>2005-11-01</td>\n",
       "      <td>93</td>\n",
       "    </tr>\n",
       "    <tr>\n",
       "      <th>1</th>\n",
       "      <td>2</td>\n",
       "      <td>465</td>\n",
       "      <td>1 000 Places to See Before You Die</td>\n",
       "      <td>992</td>\n",
       "      <td>2003-05-22</td>\n",
       "      <td>336</td>\n",
       "    </tr>\n",
       "    <tr>\n",
       "      <th>2</th>\n",
       "      <td>3</td>\n",
       "      <td>407</td>\n",
       "      <td>13 Little Blue Envelopes (Little Blue Envelope...</td>\n",
       "      <td>322</td>\n",
       "      <td>2010-12-21</td>\n",
       "      <td>135</td>\n",
       "    </tr>\n",
       "    <tr>\n",
       "      <th>3</th>\n",
       "      <td>4</td>\n",
       "      <td>82</td>\n",
       "      <td>1491: New Revelations of the Americas Before C...</td>\n",
       "      <td>541</td>\n",
       "      <td>2006-10-10</td>\n",
       "      <td>309</td>\n",
       "    </tr>\n",
       "    <tr>\n",
       "      <th>4</th>\n",
       "      <td>5</td>\n",
       "      <td>125</td>\n",
       "      <td>1776</td>\n",
       "      <td>386</td>\n",
       "      <td>2006-07-04</td>\n",
       "      <td>268</td>\n",
       "    </tr>\n",
       "  </tbody>\n",
       "</table>\n",
       "</div>"
      ],
      "text/plain": [
       "   book_id  author_id                                              title  \\\n",
       "0        1        546                                       'Salem's Lot   \n",
       "1        2        465                 1 000 Places to See Before You Die   \n",
       "2        3        407  13 Little Blue Envelopes (Little Blue Envelope...   \n",
       "3        4         82  1491: New Revelations of the Americas Before C...   \n",
       "4        5        125                                               1776   \n",
       "\n",
       "   num_pages publication_date  publisher_id  \n",
       "0        594       2005-11-01            93  \n",
       "1        992       2003-05-22           336  \n",
       "2        322       2010-12-21           135  \n",
       "3        541       2006-10-10           309  \n",
       "4        386       2006-07-04           268  "
      ]
     },
     "execution_count": 15,
     "metadata": {},
     "output_type": "execute_result"
    }
   ],
   "source": [
    "books_table.head()"
   ]
  },
  {
   "cell_type": "code",
   "execution_count": 16,
   "id": "indirect-syntax",
   "metadata": {},
   "outputs": [],
   "source": [
    "#querying the data\n",
    "books_after_query = \"SELECT * FROM books WHERE publication_date > '2000-01-01'\"\n",
    "books_after_2020_01_01 = pd.io.sql.read_sql(books_after_query, con = engine)"
   ]
  },
  {
   "cell_type": "code",
   "execution_count": 17,
   "id": "institutional-retailer",
   "metadata": {},
   "outputs": [
    {
     "name": "stdout",
     "output_type": "stream",
     "text": [
      "The number of books released after January 1, 2000 is: 819\n"
     ]
    }
   ],
   "source": [
    "print(\"The number of books released after January 1, 2000 is:\", len(books_after_2020_01_01))"
   ]
  },
  {
   "cell_type": "markdown",
   "id": "d313daec",
   "metadata": {},
   "source": [
    "<div class=\"alert alert-block alert-success\">\n",
    "<b>Reviewer's comment v.1</b> \n",
    "    \n",
    "👍 <b>1st query:</b> Correct!\n",
    "</div>"
   ]
  },
  {
   "cell_type": "markdown",
   "id": "studied-playlist",
   "metadata": {},
   "source": [
    "###  Tasks 2: Find the number of user reviews and the average rating for each book"
   ]
  },
  {
   "cell_type": "code",
   "execution_count": 18,
   "id": "conditional-dominant",
   "metadata": {},
   "outputs": [
    {
     "data": {
      "text/html": [
       "<div>\n",
       "<style scoped>\n",
       "    .dataframe tbody tr th:only-of-type {\n",
       "        vertical-align: middle;\n",
       "    }\n",
       "\n",
       "    .dataframe tbody tr th {\n",
       "        vertical-align: top;\n",
       "    }\n",
       "\n",
       "    .dataframe thead th {\n",
       "        text-align: right;\n",
       "    }\n",
       "</style>\n",
       "<table border=\"1\" class=\"dataframe\">\n",
       "  <thead>\n",
       "    <tr style=\"text-align: right;\">\n",
       "      <th></th>\n",
       "      <th>rating_id</th>\n",
       "      <th>book_id</th>\n",
       "      <th>username</th>\n",
       "      <th>rating</th>\n",
       "    </tr>\n",
       "  </thead>\n",
       "  <tbody>\n",
       "    <tr>\n",
       "      <th>0</th>\n",
       "      <td>1</td>\n",
       "      <td>1</td>\n",
       "      <td>ryanfranco</td>\n",
       "      <td>4</td>\n",
       "    </tr>\n",
       "    <tr>\n",
       "      <th>1</th>\n",
       "      <td>2</td>\n",
       "      <td>1</td>\n",
       "      <td>grantpatricia</td>\n",
       "      <td>2</td>\n",
       "    </tr>\n",
       "    <tr>\n",
       "      <th>2</th>\n",
       "      <td>3</td>\n",
       "      <td>1</td>\n",
       "      <td>brandtandrea</td>\n",
       "      <td>5</td>\n",
       "    </tr>\n",
       "    <tr>\n",
       "      <th>3</th>\n",
       "      <td>4</td>\n",
       "      <td>2</td>\n",
       "      <td>lorichen</td>\n",
       "      <td>3</td>\n",
       "    </tr>\n",
       "    <tr>\n",
       "      <th>4</th>\n",
       "      <td>5</td>\n",
       "      <td>2</td>\n",
       "      <td>mariokeller</td>\n",
       "      <td>2</td>\n",
       "    </tr>\n",
       "  </tbody>\n",
       "</table>\n",
       "</div>"
      ],
      "text/plain": [
       "   rating_id  book_id       username  rating\n",
       "0          1        1     ryanfranco       4\n",
       "1          2        1  grantpatricia       2\n",
       "2          3        1   brandtandrea       5\n",
       "3          4        2       lorichen       3\n",
       "4          5        2    mariokeller       2"
      ]
     },
     "execution_count": 18,
     "metadata": {},
     "output_type": "execute_result"
    }
   ],
   "source": [
    "ratings_table.head()"
   ]
  },
  {
   "cell_type": "code",
   "execution_count": 19,
   "id": "electrical-radar",
   "metadata": {},
   "outputs": [
    {
     "data": {
      "text/html": [
       "<div>\n",
       "<style scoped>\n",
       "    .dataframe tbody tr th:only-of-type {\n",
       "        vertical-align: middle;\n",
       "    }\n",
       "\n",
       "    .dataframe tbody tr th {\n",
       "        vertical-align: top;\n",
       "    }\n",
       "\n",
       "    .dataframe thead th {\n",
       "        text-align: right;\n",
       "    }\n",
       "</style>\n",
       "<table border=\"1\" class=\"dataframe\">\n",
       "  <thead>\n",
       "    <tr style=\"text-align: right;\">\n",
       "      <th></th>\n",
       "      <th>review_id</th>\n",
       "      <th>book_id</th>\n",
       "      <th>username</th>\n",
       "      <th>text</th>\n",
       "    </tr>\n",
       "  </thead>\n",
       "  <tbody>\n",
       "    <tr>\n",
       "      <th>0</th>\n",
       "      <td>1</td>\n",
       "      <td>1</td>\n",
       "      <td>brandtandrea</td>\n",
       "      <td>Mention society tell send professor analysis. ...</td>\n",
       "    </tr>\n",
       "    <tr>\n",
       "      <th>1</th>\n",
       "      <td>2</td>\n",
       "      <td>1</td>\n",
       "      <td>ryanfranco</td>\n",
       "      <td>Foot glass pretty audience hit themselves. Amo...</td>\n",
       "    </tr>\n",
       "    <tr>\n",
       "      <th>2</th>\n",
       "      <td>3</td>\n",
       "      <td>2</td>\n",
       "      <td>lorichen</td>\n",
       "      <td>Listen treat keep worry. Miss husband tax but ...</td>\n",
       "    </tr>\n",
       "    <tr>\n",
       "      <th>3</th>\n",
       "      <td>4</td>\n",
       "      <td>3</td>\n",
       "      <td>johnsonamanda</td>\n",
       "      <td>Finally month interesting blue could nature cu...</td>\n",
       "    </tr>\n",
       "    <tr>\n",
       "      <th>4</th>\n",
       "      <td>5</td>\n",
       "      <td>3</td>\n",
       "      <td>scotttamara</td>\n",
       "      <td>Nation purpose heavy give wait song will. List...</td>\n",
       "    </tr>\n",
       "  </tbody>\n",
       "</table>\n",
       "</div>"
      ],
      "text/plain": [
       "   review_id  book_id       username  \\\n",
       "0          1        1   brandtandrea   \n",
       "1          2        1     ryanfranco   \n",
       "2          3        2       lorichen   \n",
       "3          4        3  johnsonamanda   \n",
       "4          5        3    scotttamara   \n",
       "\n",
       "                                                text  \n",
       "0  Mention society tell send professor analysis. ...  \n",
       "1  Foot glass pretty audience hit themselves. Amo...  \n",
       "2  Listen treat keep worry. Miss husband tax but ...  \n",
       "3  Finally month interesting blue could nature cu...  \n",
       "4  Nation purpose heavy give wait song will. List...  "
      ]
     },
     "execution_count": 19,
     "metadata": {},
     "output_type": "execute_result"
    }
   ],
   "source": [
    "reviews_table.head()"
   ]
  },
  {
   "cell_type": "code",
   "execution_count": 20,
   "id": "dedicated-surgery",
   "metadata": {},
   "outputs": [
    {
     "data": {
      "text/html": [
       "<div>\n",
       "<style scoped>\n",
       "    .dataframe tbody tr th:only-of-type {\n",
       "        vertical-align: middle;\n",
       "    }\n",
       "\n",
       "    .dataframe tbody tr th {\n",
       "        vertical-align: top;\n",
       "    }\n",
       "\n",
       "    .dataframe thead th {\n",
       "        text-align: right;\n",
       "    }\n",
       "</style>\n",
       "<table border=\"1\" class=\"dataframe\">\n",
       "  <thead>\n",
       "    <tr style=\"text-align: right;\">\n",
       "      <th></th>\n",
       "      <th>book_id</th>\n",
       "      <th>author_id</th>\n",
       "      <th>title</th>\n",
       "      <th>num_pages</th>\n",
       "      <th>publication_date</th>\n",
       "      <th>publisher_id</th>\n",
       "    </tr>\n",
       "  </thead>\n",
       "  <tbody>\n",
       "    <tr>\n",
       "      <th>0</th>\n",
       "      <td>1</td>\n",
       "      <td>546</td>\n",
       "      <td>'Salem's Lot</td>\n",
       "      <td>594</td>\n",
       "      <td>2005-11-01</td>\n",
       "      <td>93</td>\n",
       "    </tr>\n",
       "    <tr>\n",
       "      <th>1</th>\n",
       "      <td>2</td>\n",
       "      <td>465</td>\n",
       "      <td>1 000 Places to See Before You Die</td>\n",
       "      <td>992</td>\n",
       "      <td>2003-05-22</td>\n",
       "      <td>336</td>\n",
       "    </tr>\n",
       "    <tr>\n",
       "      <th>2</th>\n",
       "      <td>3</td>\n",
       "      <td>407</td>\n",
       "      <td>13 Little Blue Envelopes (Little Blue Envelope...</td>\n",
       "      <td>322</td>\n",
       "      <td>2010-12-21</td>\n",
       "      <td>135</td>\n",
       "    </tr>\n",
       "    <tr>\n",
       "      <th>3</th>\n",
       "      <td>4</td>\n",
       "      <td>82</td>\n",
       "      <td>1491: New Revelations of the Americas Before C...</td>\n",
       "      <td>541</td>\n",
       "      <td>2006-10-10</td>\n",
       "      <td>309</td>\n",
       "    </tr>\n",
       "    <tr>\n",
       "      <th>4</th>\n",
       "      <td>5</td>\n",
       "      <td>125</td>\n",
       "      <td>1776</td>\n",
       "      <td>386</td>\n",
       "      <td>2006-07-04</td>\n",
       "      <td>268</td>\n",
       "    </tr>\n",
       "  </tbody>\n",
       "</table>\n",
       "</div>"
      ],
      "text/plain": [
       "   book_id  author_id                                              title  \\\n",
       "0        1        546                                       'Salem's Lot   \n",
       "1        2        465                 1 000 Places to See Before You Die   \n",
       "2        3        407  13 Little Blue Envelopes (Little Blue Envelope...   \n",
       "3        4         82  1491: New Revelations of the Americas Before C...   \n",
       "4        5        125                                               1776   \n",
       "\n",
       "   num_pages publication_date  publisher_id  \n",
       "0        594       2005-11-01            93  \n",
       "1        992       2003-05-22           336  \n",
       "2        322       2010-12-21           135  \n",
       "3        541       2006-10-10           309  \n",
       "4        386       2006-07-04           268  "
      ]
     },
     "execution_count": 20,
     "metadata": {},
     "output_type": "execute_result"
    }
   ],
   "source": [
    "books_table.head()"
   ]
  },
  {
   "cell_type": "code",
   "execution_count": 21,
   "id": "830607ee",
   "metadata": {},
   "outputs": [
    {
     "data": {
      "text/html": [
       "<div>\n",
       "<style scoped>\n",
       "    .dataframe tbody tr th:only-of-type {\n",
       "        vertical-align: middle;\n",
       "    }\n",
       "\n",
       "    .dataframe tbody tr th {\n",
       "        vertical-align: top;\n",
       "    }\n",
       "\n",
       "    .dataframe thead th {\n",
       "        text-align: right;\n",
       "    }\n",
       "</style>\n",
       "<table border=\"1\" class=\"dataframe\">\n",
       "  <thead>\n",
       "    <tr style=\"text-align: right;\">\n",
       "      <th></th>\n",
       "      <th>title</th>\n",
       "      <th>avg_rating</th>\n",
       "      <th>num_reviews</th>\n",
       "    </tr>\n",
       "  </thead>\n",
       "  <tbody>\n",
       "    <tr>\n",
       "      <th>0</th>\n",
       "      <td>Twilight (Twilight  #1)</td>\n",
       "      <td>3.662500</td>\n",
       "      <td>7</td>\n",
       "    </tr>\n",
       "    <tr>\n",
       "      <th>1</th>\n",
       "      <td>The Road</td>\n",
       "      <td>3.772727</td>\n",
       "      <td>6</td>\n",
       "    </tr>\n",
       "    <tr>\n",
       "      <th>2</th>\n",
       "      <td>The Book Thief</td>\n",
       "      <td>4.264151</td>\n",
       "      <td>6</td>\n",
       "    </tr>\n",
       "    <tr>\n",
       "      <th>3</th>\n",
       "      <td>The Glass Castle</td>\n",
       "      <td>4.206897</td>\n",
       "      <td>6</td>\n",
       "    </tr>\n",
       "    <tr>\n",
       "      <th>4</th>\n",
       "      <td>Water for Elephants</td>\n",
       "      <td>3.977273</td>\n",
       "      <td>6</td>\n",
       "    </tr>\n",
       "    <tr>\n",
       "      <th>5</th>\n",
       "      <td>The Da Vinci Code (Robert Langdon  #2)</td>\n",
       "      <td>3.830508</td>\n",
       "      <td>6</td>\n",
       "    </tr>\n",
       "    <tr>\n",
       "      <th>6</th>\n",
       "      <td>The Catcher in the Rye</td>\n",
       "      <td>3.825581</td>\n",
       "      <td>6</td>\n",
       "    </tr>\n",
       "    <tr>\n",
       "      <th>7</th>\n",
       "      <td>The Curious Incident of the Dog in the Night-Time</td>\n",
       "      <td>4.081081</td>\n",
       "      <td>6</td>\n",
       "    </tr>\n",
       "    <tr>\n",
       "      <th>8</th>\n",
       "      <td>Outlander (Outlander  #1)</td>\n",
       "      <td>4.125000</td>\n",
       "      <td>6</td>\n",
       "    </tr>\n",
       "    <tr>\n",
       "      <th>9</th>\n",
       "      <td>Harry Potter and the Chamber of Secrets (Harry...</td>\n",
       "      <td>4.287500</td>\n",
       "      <td>6</td>\n",
       "    </tr>\n",
       "  </tbody>\n",
       "</table>\n",
       "</div>"
      ],
      "text/plain": [
       "                                               title  avg_rating  num_reviews\n",
       "0                            Twilight (Twilight  #1)    3.662500            7\n",
       "1                                           The Road    3.772727            6\n",
       "2                                     The Book Thief    4.264151            6\n",
       "3                                   The Glass Castle    4.206897            6\n",
       "4                                Water for Elephants    3.977273            6\n",
       "5             The Da Vinci Code (Robert Langdon  #2)    3.830508            6\n",
       "6                             The Catcher in the Rye    3.825581            6\n",
       "7  The Curious Incident of the Dog in the Night-Time    4.081081            6\n",
       "8                          Outlander (Outlander  #1)    4.125000            6\n",
       "9  Harry Potter and the Chamber of Secrets (Harry...    4.287500            6"
      ]
     },
     "metadata": {},
     "output_type": "display_data"
    }
   ],
   "source": [
    "book_ratings_query = '''\n",
    "            SELECT \n",
    "                books.title AS title,\n",
    "                AVG(ratings.rating) as avg_rating,\n",
    "                COUNT(DISTINCT reviews.review_id) as num_reviews\n",
    "            FROM books\n",
    "            INNER JOIN ratings on ratings.book_id = books.book_id\n",
    "            INNER JOIN reviews on reviews.book_id = books.book_id\n",
    "            GROUP BY books.book_id\n",
    "            ORDER BY num_reviews DESC'''\n",
    "\n",
    "result = pd.io.sql.read_sql(book_ratings_query, con = engine)\n",
    "display(result.head(10))"
   ]
  },
  {
   "cell_type": "markdown",
   "id": "5ecda6f6",
   "metadata": {},
   "source": [
    "We can see that top 3 leaders for the reviews amount are following books:<br><br>\n",
    "- Twilight: 7 reviews with average rating of 3.66;\n",
    "- The Da Vinci Code: 6 reviews with average rating of 3.83;\n",
    "- Eat Pray Love: 6 reviews with average rating of 3.39."
   ]
  },
  {
   "cell_type": "markdown",
   "id": "171e843c",
   "metadata": {},
   "source": [
    "<div class=\"alert alert-block alert-success\">\n",
    "<b>Reviewer's comment v.2</b> \n",
    "    \n",
    "👍 Perfect! Now the query is correct! </div>"
   ]
  },
  {
   "cell_type": "markdown",
   "id": "91edd7d8",
   "metadata": {},
   "source": [
    "<div class=\"alert alert-block alert-danger\">\n",
    "<b>Reviewer's comment v.1</b> \n",
    "    \n",
    "✍ <b>2nd query:</b> I would suggest that this query is not correct. Let's see, on the `review_num` data: there are a lot of reviews. If we calculate the sum of reviews, we will have their total number (`26167`) higher than the number of reviews in the source table (`2793`). Please see my example and fix the query. I guess that it is better to count distinct reviews.\n",
    "\n",
    "--- \n",
    "    \n",
    "📝 In addition - it is better to format the SQL query within several lines. For that we could use special resources like that https://sqlformat.org/\n",
    "    \n",
    "</div>"
   ]
  },
  {
   "cell_type": "code",
   "execution_count": 22,
   "id": "6ebead04",
   "metadata": {},
   "outputs": [
    {
     "data": {
      "text/html": [
       "<div>\n",
       "<style scoped>\n",
       "    .dataframe tbody tr th:only-of-type {\n",
       "        vertical-align: middle;\n",
       "    }\n",
       "\n",
       "    .dataframe tbody tr th {\n",
       "        vertical-align: top;\n",
       "    }\n",
       "\n",
       "    .dataframe thead th {\n",
       "        text-align: right;\n",
       "    }\n",
       "</style>\n",
       "<table border=\"1\" class=\"dataframe\">\n",
       "  <thead>\n",
       "    <tr style=\"text-align: right;\">\n",
       "      <th></th>\n",
       "      <th>sum</th>\n",
       "    </tr>\n",
       "  </thead>\n",
       "  <tbody>\n",
       "    <tr>\n",
       "      <th>0</th>\n",
       "      <td>26167.0</td>\n",
       "    </tr>\n",
       "  </tbody>\n",
       "</table>\n",
       "</div>"
      ],
      "text/plain": [
       "       sum\n",
       "0  26167.0"
      ]
     },
     "metadata": {},
     "output_type": "display_data"
    },
    {
     "data": {
      "text/html": [
       "<div>\n",
       "<style scoped>\n",
       "    .dataframe tbody tr th:only-of-type {\n",
       "        vertical-align: middle;\n",
       "    }\n",
       "\n",
       "    .dataframe tbody tr th {\n",
       "        vertical-align: top;\n",
       "    }\n",
       "\n",
       "    .dataframe thead th {\n",
       "        text-align: right;\n",
       "    }\n",
       "</style>\n",
       "<table border=\"1\" class=\"dataframe\">\n",
       "  <thead>\n",
       "    <tr style=\"text-align: right;\">\n",
       "      <th></th>\n",
       "      <th>count</th>\n",
       "    </tr>\n",
       "  </thead>\n",
       "  <tbody>\n",
       "    <tr>\n",
       "      <th>0</th>\n",
       "      <td>2793</td>\n",
       "    </tr>\n",
       "  </tbody>\n",
       "</table>\n",
       "</div>"
      ],
      "text/plain": [
       "   count\n",
       "0   2793"
      ]
     },
     "metadata": {},
     "output_type": "display_data"
    }
   ],
   "source": [
    "# the reviewer's code:\n",
    "\n",
    "# based on the project's query:\n",
    "display(pd.io.sql.read_sql('''\n",
    "    WITH count as (\n",
    "    SELECT books.book_id AS book_id,\n",
    "       books.title AS title,\n",
    "       COUNT(reviews.review_id) AS review_count,\n",
    "       AVG(ratings.rating) AS avg_book_rating\n",
    "    FROM books\n",
    "    LEFT JOIN ratings ON ratings.book_id = books.book_id\n",
    "    LEFT JOIN reviews ON reviews.book_id = books.book_id\n",
    "    GROUP BY books.book_id\n",
    "    ORDER BY review_count DESC)\n",
    "    SELECT SUM(review_count)\n",
    "    FROM count;\n",
    "''', con=engine))\n",
    "\n",
    "# but the source table contains:\n",
    "display(pd.io.sql.read_sql('''\n",
    "    SELECT COUNT(reviews)\n",
    "    FROM reviews;\n",
    "''', con=engine))"
   ]
  },
  {
   "cell_type": "markdown",
   "id": "thermal-permit",
   "metadata": {},
   "source": [
    "### Task 3: Identify the publisher that has released the greatest number of books with more than 50 pages (this will help you exclude brochures and similar publications from your analysis)"
   ]
  },
  {
   "cell_type": "code",
   "execution_count": 23,
   "id": "competent-height",
   "metadata": {},
   "outputs": [
    {
     "data": {
      "text/html": [
       "<div>\n",
       "<style scoped>\n",
       "    .dataframe tbody tr th:only-of-type {\n",
       "        vertical-align: middle;\n",
       "    }\n",
       "\n",
       "    .dataframe tbody tr th {\n",
       "        vertical-align: top;\n",
       "    }\n",
       "\n",
       "    .dataframe thead th {\n",
       "        text-align: right;\n",
       "    }\n",
       "</style>\n",
       "<table border=\"1\" class=\"dataframe\">\n",
       "  <thead>\n",
       "    <tr style=\"text-align: right;\">\n",
       "      <th></th>\n",
       "      <th>publisher_id</th>\n",
       "      <th>publisher</th>\n",
       "    </tr>\n",
       "  </thead>\n",
       "  <tbody>\n",
       "    <tr>\n",
       "      <th>0</th>\n",
       "      <td>1</td>\n",
       "      <td>Ace</td>\n",
       "    </tr>\n",
       "    <tr>\n",
       "      <th>1</th>\n",
       "      <td>2</td>\n",
       "      <td>Ace Book</td>\n",
       "    </tr>\n",
       "    <tr>\n",
       "      <th>2</th>\n",
       "      <td>3</td>\n",
       "      <td>Ace Books</td>\n",
       "    </tr>\n",
       "    <tr>\n",
       "      <th>3</th>\n",
       "      <td>4</td>\n",
       "      <td>Ace Hardcover</td>\n",
       "    </tr>\n",
       "    <tr>\n",
       "      <th>4</th>\n",
       "      <td>5</td>\n",
       "      <td>Addison Wesley Publishing Company</td>\n",
       "    </tr>\n",
       "  </tbody>\n",
       "</table>\n",
       "</div>"
      ],
      "text/plain": [
       "   publisher_id                          publisher\n",
       "0             1                                Ace\n",
       "1             2                           Ace Book\n",
       "2             3                          Ace Books\n",
       "3             4                      Ace Hardcover\n",
       "4             5  Addison Wesley Publishing Company"
      ]
     },
     "execution_count": 23,
     "metadata": {},
     "output_type": "execute_result"
    }
   ],
   "source": [
    "publishers_table.head()"
   ]
  },
  {
   "cell_type": "code",
   "execution_count": 24,
   "id": "central-surveillance",
   "metadata": {},
   "outputs": [
    {
     "data": {
      "text/html": [
       "<div>\n",
       "<style scoped>\n",
       "    .dataframe tbody tr th:only-of-type {\n",
       "        vertical-align: middle;\n",
       "    }\n",
       "\n",
       "    .dataframe tbody tr th {\n",
       "        vertical-align: top;\n",
       "    }\n",
       "\n",
       "    .dataframe thead th {\n",
       "        text-align: right;\n",
       "    }\n",
       "</style>\n",
       "<table border=\"1\" class=\"dataframe\">\n",
       "  <thead>\n",
       "    <tr style=\"text-align: right;\">\n",
       "      <th></th>\n",
       "      <th>book_id</th>\n",
       "      <th>author_id</th>\n",
       "      <th>title</th>\n",
       "      <th>num_pages</th>\n",
       "      <th>publication_date</th>\n",
       "      <th>publisher_id</th>\n",
       "    </tr>\n",
       "  </thead>\n",
       "  <tbody>\n",
       "    <tr>\n",
       "      <th>0</th>\n",
       "      <td>1</td>\n",
       "      <td>546</td>\n",
       "      <td>'Salem's Lot</td>\n",
       "      <td>594</td>\n",
       "      <td>2005-11-01</td>\n",
       "      <td>93</td>\n",
       "    </tr>\n",
       "    <tr>\n",
       "      <th>1</th>\n",
       "      <td>2</td>\n",
       "      <td>465</td>\n",
       "      <td>1 000 Places to See Before You Die</td>\n",
       "      <td>992</td>\n",
       "      <td>2003-05-22</td>\n",
       "      <td>336</td>\n",
       "    </tr>\n",
       "    <tr>\n",
       "      <th>2</th>\n",
       "      <td>3</td>\n",
       "      <td>407</td>\n",
       "      <td>13 Little Blue Envelopes (Little Blue Envelope...</td>\n",
       "      <td>322</td>\n",
       "      <td>2010-12-21</td>\n",
       "      <td>135</td>\n",
       "    </tr>\n",
       "    <tr>\n",
       "      <th>3</th>\n",
       "      <td>4</td>\n",
       "      <td>82</td>\n",
       "      <td>1491: New Revelations of the Americas Before C...</td>\n",
       "      <td>541</td>\n",
       "      <td>2006-10-10</td>\n",
       "      <td>309</td>\n",
       "    </tr>\n",
       "    <tr>\n",
       "      <th>4</th>\n",
       "      <td>5</td>\n",
       "      <td>125</td>\n",
       "      <td>1776</td>\n",
       "      <td>386</td>\n",
       "      <td>2006-07-04</td>\n",
       "      <td>268</td>\n",
       "    </tr>\n",
       "  </tbody>\n",
       "</table>\n",
       "</div>"
      ],
      "text/plain": [
       "   book_id  author_id                                              title  \\\n",
       "0        1        546                                       'Salem's Lot   \n",
       "1        2        465                 1 000 Places to See Before You Die   \n",
       "2        3        407  13 Little Blue Envelopes (Little Blue Envelope...   \n",
       "3        4         82  1491: New Revelations of the Americas Before C...   \n",
       "4        5        125                                               1776   \n",
       "\n",
       "   num_pages publication_date  publisher_id  \n",
       "0        594       2005-11-01            93  \n",
       "1        992       2003-05-22           336  \n",
       "2        322       2010-12-21           135  \n",
       "3        541       2006-10-10           309  \n",
       "4        386       2006-07-04           268  "
      ]
     },
     "execution_count": 24,
     "metadata": {},
     "output_type": "execute_result"
    }
   ],
   "source": [
    "books_table.head()"
   ]
  },
  {
   "cell_type": "code",
   "execution_count": 25,
   "id": "constitutional-gathering",
   "metadata": {},
   "outputs": [],
   "source": [
    "publisher_books_query = '''\n",
    "SELECT publishers.publisher_id AS publisher_id, publishers.publisher AS publisher_name, COUNT(books.book_id) AS book_count \n",
    "FROM publishers LEFT JOIN books ON books.publisher_id = publishers.publisher_id \n",
    "WHERE books.num_pages > 50 GROUP BY publishers.publisher_id \n",
    "ORDER BY book_count DESC LIMIT 1;\n",
    "'''"
   ]
  },
  {
   "cell_type": "code",
   "execution_count": 26,
   "id": "olympic-cooler",
   "metadata": {},
   "outputs": [
    {
     "data": {
      "text/html": [
       "<div>\n",
       "<style scoped>\n",
       "    .dataframe tbody tr th:only-of-type {\n",
       "        vertical-align: middle;\n",
       "    }\n",
       "\n",
       "    .dataframe tbody tr th {\n",
       "        vertical-align: top;\n",
       "    }\n",
       "\n",
       "    .dataframe thead th {\n",
       "        text-align: right;\n",
       "    }\n",
       "</style>\n",
       "<table border=\"1\" class=\"dataframe\">\n",
       "  <thead>\n",
       "    <tr style=\"text-align: right;\">\n",
       "      <th></th>\n",
       "      <th>publisher_id</th>\n",
       "      <th>publisher_name</th>\n",
       "      <th>book_count</th>\n",
       "    </tr>\n",
       "  </thead>\n",
       "  <tbody>\n",
       "    <tr>\n",
       "      <th>0</th>\n",
       "      <td>212</td>\n",
       "      <td>Penguin Books</td>\n",
       "      <td>42</td>\n",
       "    </tr>\n",
       "  </tbody>\n",
       "</table>\n",
       "</div>"
      ],
      "text/plain": [
       "   publisher_id publisher_name  book_count\n",
       "0           212  Penguin Books          42"
      ]
     },
     "execution_count": 26,
     "metadata": {},
     "output_type": "execute_result"
    }
   ],
   "source": [
    "publisher_book_count = pd.io.sql.read_sql(publisher_books_query, con = engine)\n",
    "publisher_book_count.head(10)"
   ]
  },
  {
   "cell_type": "markdown",
   "id": "national-hammer",
   "metadata": {},
   "source": [
    "Penguin Books is the publisher with the greatest number of books over 50 pages. "
   ]
  },
  {
   "cell_type": "markdown",
   "id": "bc8884e2",
   "metadata": {},
   "source": [
    "<div class=\"alert alert-block alert-success\">\n",
    "<b>Reviewer's comment v.1</b> \n",
    "    \n",
    "👍 <b>3rd query:</b> Correct! \n",
    "</div>"
   ]
  },
  {
   "cell_type": "markdown",
   "id": "premium-samba",
   "metadata": {},
   "source": [
    "### Task 4: Identify the author with the highest average book rating (look only at books with at least 50 ratings)"
   ]
  },
  {
   "cell_type": "code",
   "execution_count": 27,
   "id": "charged-cricket",
   "metadata": {},
   "outputs": [
    {
     "data": {
      "text/html": [
       "<div>\n",
       "<style scoped>\n",
       "    .dataframe tbody tr th:only-of-type {\n",
       "        vertical-align: middle;\n",
       "    }\n",
       "\n",
       "    .dataframe tbody tr th {\n",
       "        vertical-align: top;\n",
       "    }\n",
       "\n",
       "    .dataframe thead th {\n",
       "        text-align: right;\n",
       "    }\n",
       "</style>\n",
       "<table border=\"1\" class=\"dataframe\">\n",
       "  <thead>\n",
       "    <tr style=\"text-align: right;\">\n",
       "      <th></th>\n",
       "      <th>author_id</th>\n",
       "      <th>author</th>\n",
       "    </tr>\n",
       "  </thead>\n",
       "  <tbody>\n",
       "    <tr>\n",
       "      <th>0</th>\n",
       "      <td>1</td>\n",
       "      <td>A.S. Byatt</td>\n",
       "    </tr>\n",
       "    <tr>\n",
       "      <th>1</th>\n",
       "      <td>2</td>\n",
       "      <td>Aesop/Laura Harris/Laura Gibbs</td>\n",
       "    </tr>\n",
       "    <tr>\n",
       "      <th>2</th>\n",
       "      <td>3</td>\n",
       "      <td>Agatha Christie</td>\n",
       "    </tr>\n",
       "    <tr>\n",
       "      <th>3</th>\n",
       "      <td>4</td>\n",
       "      <td>Alan Brennert</td>\n",
       "    </tr>\n",
       "    <tr>\n",
       "      <th>4</th>\n",
       "      <td>5</td>\n",
       "      <td>Alan Moore/David   Lloyd</td>\n",
       "    </tr>\n",
       "  </tbody>\n",
       "</table>\n",
       "</div>"
      ],
      "text/plain": [
       "   author_id                          author\n",
       "0          1                      A.S. Byatt\n",
       "1          2  Aesop/Laura Harris/Laura Gibbs\n",
       "2          3                 Agatha Christie\n",
       "3          4                   Alan Brennert\n",
       "4          5        Alan Moore/David   Lloyd"
      ]
     },
     "execution_count": 27,
     "metadata": {},
     "output_type": "execute_result"
    }
   ],
   "source": [
    "authors_table.head()"
   ]
  },
  {
   "cell_type": "code",
   "execution_count": 28,
   "id": "fourth-softball",
   "metadata": {},
   "outputs": [
    {
     "data": {
      "text/html": [
       "<div>\n",
       "<style scoped>\n",
       "    .dataframe tbody tr th:only-of-type {\n",
       "        vertical-align: middle;\n",
       "    }\n",
       "\n",
       "    .dataframe tbody tr th {\n",
       "        vertical-align: top;\n",
       "    }\n",
       "\n",
       "    .dataframe thead th {\n",
       "        text-align: right;\n",
       "    }\n",
       "</style>\n",
       "<table border=\"1\" class=\"dataframe\">\n",
       "  <thead>\n",
       "    <tr style=\"text-align: right;\">\n",
       "      <th></th>\n",
       "      <th>book_id</th>\n",
       "      <th>author_id</th>\n",
       "      <th>title</th>\n",
       "      <th>num_pages</th>\n",
       "      <th>publication_date</th>\n",
       "      <th>publisher_id</th>\n",
       "    </tr>\n",
       "  </thead>\n",
       "  <tbody>\n",
       "    <tr>\n",
       "      <th>0</th>\n",
       "      <td>1</td>\n",
       "      <td>546</td>\n",
       "      <td>'Salem's Lot</td>\n",
       "      <td>594</td>\n",
       "      <td>2005-11-01</td>\n",
       "      <td>93</td>\n",
       "    </tr>\n",
       "    <tr>\n",
       "      <th>1</th>\n",
       "      <td>2</td>\n",
       "      <td>465</td>\n",
       "      <td>1 000 Places to See Before You Die</td>\n",
       "      <td>992</td>\n",
       "      <td>2003-05-22</td>\n",
       "      <td>336</td>\n",
       "    </tr>\n",
       "    <tr>\n",
       "      <th>2</th>\n",
       "      <td>3</td>\n",
       "      <td>407</td>\n",
       "      <td>13 Little Blue Envelopes (Little Blue Envelope...</td>\n",
       "      <td>322</td>\n",
       "      <td>2010-12-21</td>\n",
       "      <td>135</td>\n",
       "    </tr>\n",
       "    <tr>\n",
       "      <th>3</th>\n",
       "      <td>4</td>\n",
       "      <td>82</td>\n",
       "      <td>1491: New Revelations of the Americas Before C...</td>\n",
       "      <td>541</td>\n",
       "      <td>2006-10-10</td>\n",
       "      <td>309</td>\n",
       "    </tr>\n",
       "    <tr>\n",
       "      <th>4</th>\n",
       "      <td>5</td>\n",
       "      <td>125</td>\n",
       "      <td>1776</td>\n",
       "      <td>386</td>\n",
       "      <td>2006-07-04</td>\n",
       "      <td>268</td>\n",
       "    </tr>\n",
       "  </tbody>\n",
       "</table>\n",
       "</div>"
      ],
      "text/plain": [
       "   book_id  author_id                                              title  \\\n",
       "0        1        546                                       'Salem's Lot   \n",
       "1        2        465                 1 000 Places to See Before You Die   \n",
       "2        3        407  13 Little Blue Envelopes (Little Blue Envelope...   \n",
       "3        4         82  1491: New Revelations of the Americas Before C...   \n",
       "4        5        125                                               1776   \n",
       "\n",
       "   num_pages publication_date  publisher_id  \n",
       "0        594       2005-11-01            93  \n",
       "1        992       2003-05-22           336  \n",
       "2        322       2010-12-21           135  \n",
       "3        541       2006-10-10           309  \n",
       "4        386       2006-07-04           268  "
      ]
     },
     "execution_count": 28,
     "metadata": {},
     "output_type": "execute_result"
    }
   ],
   "source": [
    "books_table.head()"
   ]
  },
  {
   "cell_type": "code",
   "execution_count": 29,
   "id": "adjustable-parade",
   "metadata": {},
   "outputs": [
    {
     "data": {
      "text/html": [
       "<div>\n",
       "<style scoped>\n",
       "    .dataframe tbody tr th:only-of-type {\n",
       "        vertical-align: middle;\n",
       "    }\n",
       "\n",
       "    .dataframe tbody tr th {\n",
       "        vertical-align: top;\n",
       "    }\n",
       "\n",
       "    .dataframe thead th {\n",
       "        text-align: right;\n",
       "    }\n",
       "</style>\n",
       "<table border=\"1\" class=\"dataframe\">\n",
       "  <thead>\n",
       "    <tr style=\"text-align: right;\">\n",
       "      <th></th>\n",
       "      <th>rating_id</th>\n",
       "      <th>book_id</th>\n",
       "      <th>username</th>\n",
       "      <th>rating</th>\n",
       "    </tr>\n",
       "  </thead>\n",
       "  <tbody>\n",
       "    <tr>\n",
       "      <th>0</th>\n",
       "      <td>1</td>\n",
       "      <td>1</td>\n",
       "      <td>ryanfranco</td>\n",
       "      <td>4</td>\n",
       "    </tr>\n",
       "    <tr>\n",
       "      <th>1</th>\n",
       "      <td>2</td>\n",
       "      <td>1</td>\n",
       "      <td>grantpatricia</td>\n",
       "      <td>2</td>\n",
       "    </tr>\n",
       "    <tr>\n",
       "      <th>2</th>\n",
       "      <td>3</td>\n",
       "      <td>1</td>\n",
       "      <td>brandtandrea</td>\n",
       "      <td>5</td>\n",
       "    </tr>\n",
       "    <tr>\n",
       "      <th>3</th>\n",
       "      <td>4</td>\n",
       "      <td>2</td>\n",
       "      <td>lorichen</td>\n",
       "      <td>3</td>\n",
       "    </tr>\n",
       "    <tr>\n",
       "      <th>4</th>\n",
       "      <td>5</td>\n",
       "      <td>2</td>\n",
       "      <td>mariokeller</td>\n",
       "      <td>2</td>\n",
       "    </tr>\n",
       "  </tbody>\n",
       "</table>\n",
       "</div>"
      ],
      "text/plain": [
       "   rating_id  book_id       username  rating\n",
       "0          1        1     ryanfranco       4\n",
       "1          2        1  grantpatricia       2\n",
       "2          3        1   brandtandrea       5\n",
       "3          4        2       lorichen       3\n",
       "4          5        2    mariokeller       2"
      ]
     },
     "execution_count": 29,
     "metadata": {},
     "output_type": "execute_result"
    }
   ],
   "source": [
    "ratings_table.head()"
   ]
  },
  {
   "cell_type": "code",
   "execution_count": 30,
   "id": "wanted-spoke",
   "metadata": {},
   "outputs": [],
   "source": [
    "authors_bookratings_query = '''\n",
    "SELECT books.book_id AS book_id, books.title AS book_title, authors.author_id AS author_id, authors.author AS author_name, AVG(ratings.rating) AS avg_book_rating, COUNT(ratings.rating) AS number_of_ratings \n",
    "FROM books LEFT JOIN authors ON authors.author_id = books.author_id LEFT JOIN ratings ON ratings.book_id = books.book_id \n",
    "GROUP BY books.book_id, authors.author_id \n",
    "HAVING COUNT(ratings.rating_id) >= 50 \n",
    "ORDER BY avg_book_rating DESC, number_of_ratings DESC LIMIT 5;\n",
    "'''"
   ]
  },
  {
   "cell_type": "code",
   "execution_count": 31,
   "id": "divine-bobby",
   "metadata": {},
   "outputs": [
    {
     "data": {
      "text/html": [
       "<div>\n",
       "<style scoped>\n",
       "    .dataframe tbody tr th:only-of-type {\n",
       "        vertical-align: middle;\n",
       "    }\n",
       "\n",
       "    .dataframe tbody tr th {\n",
       "        vertical-align: top;\n",
       "    }\n",
       "\n",
       "    .dataframe thead th {\n",
       "        text-align: right;\n",
       "    }\n",
       "</style>\n",
       "<table border=\"1\" class=\"dataframe\">\n",
       "  <thead>\n",
       "    <tr style=\"text-align: right;\">\n",
       "      <th></th>\n",
       "      <th>book_id</th>\n",
       "      <th>book_title</th>\n",
       "      <th>author_id</th>\n",
       "      <th>author_name</th>\n",
       "      <th>avg_book_rating</th>\n",
       "      <th>number_of_ratings</th>\n",
       "    </tr>\n",
       "  </thead>\n",
       "  <tbody>\n",
       "    <tr>\n",
       "      <th>0</th>\n",
       "      <td>302</td>\n",
       "      <td>Harry Potter and the Prisoner of Azkaban (Harr...</td>\n",
       "      <td>236</td>\n",
       "      <td>J.K. Rowling/Mary GrandPré</td>\n",
       "      <td>4.414634</td>\n",
       "      <td>82</td>\n",
       "    </tr>\n",
       "    <tr>\n",
       "      <th>1</th>\n",
       "      <td>722</td>\n",
       "      <td>The Fellowship of the Ring (The Lord of the Ri...</td>\n",
       "      <td>240</td>\n",
       "      <td>J.R.R. Tolkien</td>\n",
       "      <td>4.391892</td>\n",
       "      <td>74</td>\n",
       "    </tr>\n",
       "    <tr>\n",
       "      <th>2</th>\n",
       "      <td>299</td>\n",
       "      <td>Harry Potter and the Chamber of Secrets (Harry...</td>\n",
       "      <td>236</td>\n",
       "      <td>J.K. Rowling/Mary GrandPré</td>\n",
       "      <td>4.287500</td>\n",
       "      <td>80</td>\n",
       "    </tr>\n",
       "    <tr>\n",
       "      <th>3</th>\n",
       "      <td>656</td>\n",
       "      <td>The Book Thief</td>\n",
       "      <td>402</td>\n",
       "      <td>Markus Zusak/Cao Xuân Việt Khương</td>\n",
       "      <td>4.264151</td>\n",
       "      <td>53</td>\n",
       "    </tr>\n",
       "    <tr>\n",
       "      <th>4</th>\n",
       "      <td>300</td>\n",
       "      <td>Harry Potter and the Half-Blood Prince (Harry ...</td>\n",
       "      <td>236</td>\n",
       "      <td>J.K. Rowling/Mary GrandPré</td>\n",
       "      <td>4.246575</td>\n",
       "      <td>73</td>\n",
       "    </tr>\n",
       "  </tbody>\n",
       "</table>\n",
       "</div>"
      ],
      "text/plain": [
       "   book_id                                         book_title  author_id  \\\n",
       "0      302  Harry Potter and the Prisoner of Azkaban (Harr...        236   \n",
       "1      722  The Fellowship of the Ring (The Lord of the Ri...        240   \n",
       "2      299  Harry Potter and the Chamber of Secrets (Harry...        236   \n",
       "3      656                                     The Book Thief        402   \n",
       "4      300  Harry Potter and the Half-Blood Prince (Harry ...        236   \n",
       "\n",
       "                         author_name  avg_book_rating  number_of_ratings  \n",
       "0         J.K. Rowling/Mary GrandPré         4.414634                 82  \n",
       "1                     J.R.R. Tolkien         4.391892                 74  \n",
       "2         J.K. Rowling/Mary GrandPré         4.287500                 80  \n",
       "3  Markus Zusak/Cao Xuân Việt Khương         4.264151                 53  \n",
       "4         J.K. Rowling/Mary GrandPré         4.246575                 73  "
      ]
     },
     "execution_count": 31,
     "metadata": {},
     "output_type": "execute_result"
    }
   ],
   "source": [
    "author_ratings = pd.io.sql.read_sql(authors_bookratings_query, con = engine)\n",
    "author_ratings.head(10)"
   ]
  },
  {
   "cell_type": "markdown",
   "id": "exotic-moderator",
   "metadata": {},
   "source": [
    "J.K. Rowling has he highest average book rating of 4.414634 for Harry Potter and the Prisoner of Azkaban. This was followed by The Fellowship of the Ring by J.R.R. Tolkien at 4.391892 and then J.K. Rowling again with Harry Potter and the Chamber of Secrets at 4.287500."
   ]
  },
  {
   "cell_type": "markdown",
   "id": "7226db41",
   "metadata": {},
   "source": [
    "<div class=\"alert alert-block alert-success\">\n",
    "<b>Reviewer's comment v.1</b> \n",
    "    \n",
    "👍 <b>4th query:</b> Overall, the query is correct. However, please note that this task could have been done differently. Here we calculated the average rating for each book and select the one with higher average rating. But our rating contains several books from a single author and in this case we could aggregate the data for each author, like that:    \n",
    "</div>"
   ]
  },
  {
   "cell_type": "code",
   "execution_count": 32,
   "id": "2f067b97",
   "metadata": {},
   "outputs": [
    {
     "data": {
      "text/html": [
       "<div>\n",
       "<style scoped>\n",
       "    .dataframe tbody tr th:only-of-type {\n",
       "        vertical-align: middle;\n",
       "    }\n",
       "\n",
       "    .dataframe tbody tr th {\n",
       "        vertical-align: top;\n",
       "    }\n",
       "\n",
       "    .dataframe thead th {\n",
       "        text-align: right;\n",
       "    }\n",
       "</style>\n",
       "<table border=\"1\" class=\"dataframe\">\n",
       "  <thead>\n",
       "    <tr style=\"text-align: right;\">\n",
       "      <th></th>\n",
       "      <th>author_name</th>\n",
       "      <th>avg_rating</th>\n",
       "      <th>books_count</th>\n",
       "    </tr>\n",
       "  </thead>\n",
       "  <tbody>\n",
       "    <tr>\n",
       "      <th>0</th>\n",
       "      <td>J.K. Rowling/Mary GrandPré</td>\n",
       "      <td>4.283844</td>\n",
       "      <td>4</td>\n",
       "    </tr>\n",
       "    <tr>\n",
       "      <th>1</th>\n",
       "      <td>Markus Zusak/Cao Xuân Việt Khương</td>\n",
       "      <td>4.264151</td>\n",
       "      <td>1</td>\n",
       "    </tr>\n",
       "    <tr>\n",
       "      <th>2</th>\n",
       "      <td>J.R.R. Tolkien</td>\n",
       "      <td>4.258446</td>\n",
       "      <td>2</td>\n",
       "    </tr>\n",
       "    <tr>\n",
       "      <th>3</th>\n",
       "      <td>Louisa May Alcott</td>\n",
       "      <td>4.192308</td>\n",
       "      <td>1</td>\n",
       "    </tr>\n",
       "    <tr>\n",
       "      <th>4</th>\n",
       "      <td>Rick Riordan</td>\n",
       "      <td>4.080645</td>\n",
       "      <td>1</td>\n",
       "    </tr>\n",
       "    <tr>\n",
       "      <th>5</th>\n",
       "      <td>William Golding</td>\n",
       "      <td>3.901408</td>\n",
       "      <td>1</td>\n",
       "    </tr>\n",
       "    <tr>\n",
       "      <th>6</th>\n",
       "      <td>J.D. Salinger</td>\n",
       "      <td>3.825581</td>\n",
       "      <td>1</td>\n",
       "    </tr>\n",
       "    <tr>\n",
       "      <th>7</th>\n",
       "      <td>Paulo Coelho/Alan R. Clarke/Özdemir İnce</td>\n",
       "      <td>3.789474</td>\n",
       "      <td>1</td>\n",
       "    </tr>\n",
       "    <tr>\n",
       "      <th>8</th>\n",
       "      <td>William Shakespeare/Paul Werstine/Barbara A. M...</td>\n",
       "      <td>3.787879</td>\n",
       "      <td>1</td>\n",
       "    </tr>\n",
       "    <tr>\n",
       "      <th>9</th>\n",
       "      <td>Dan Brown</td>\n",
       "      <td>3.754540</td>\n",
       "      <td>2</td>\n",
       "    </tr>\n",
       "    <tr>\n",
       "      <th>10</th>\n",
       "      <td>Lois Lowry</td>\n",
       "      <td>3.750000</td>\n",
       "      <td>1</td>\n",
       "    </tr>\n",
       "    <tr>\n",
       "      <th>11</th>\n",
       "      <td>George Orwell/Boris Grabnar/Peter Škerl</td>\n",
       "      <td>3.729730</td>\n",
       "      <td>1</td>\n",
       "    </tr>\n",
       "    <tr>\n",
       "      <th>12</th>\n",
       "      <td>Stephenie Meyer</td>\n",
       "      <td>3.662500</td>\n",
       "      <td>1</td>\n",
       "    </tr>\n",
       "    <tr>\n",
       "      <th>13</th>\n",
       "      <td>John Steinbeck</td>\n",
       "      <td>3.622951</td>\n",
       "      <td>1</td>\n",
       "    </tr>\n",
       "  </tbody>\n",
       "</table>\n",
       "</div>"
      ],
      "text/plain": [
       "                                          author_name  avg_rating  books_count\n",
       "0                          J.K. Rowling/Mary GrandPré    4.283844            4\n",
       "1                   Markus Zusak/Cao Xuân Việt Khương    4.264151            1\n",
       "2                                      J.R.R. Tolkien    4.258446            2\n",
       "3                                   Louisa May Alcott    4.192308            1\n",
       "4                                        Rick Riordan    4.080645            1\n",
       "5                                     William Golding    3.901408            1\n",
       "6                                       J.D. Salinger    3.825581            1\n",
       "7            Paulo Coelho/Alan R. Clarke/Özdemir İnce    3.789474            1\n",
       "8   William Shakespeare/Paul Werstine/Barbara A. M...    3.787879            1\n",
       "9                                           Dan Brown    3.754540            2\n",
       "10                                         Lois Lowry    3.750000            1\n",
       "11            George Orwell/Boris Grabnar/Peter Škerl    3.729730            1\n",
       "12                                    Stephenie Meyer    3.662500            1\n",
       "13                                     John Steinbeck    3.622951            1"
      ]
     },
     "metadata": {},
     "output_type": "display_data"
    }
   ],
   "source": [
    "# the reviewer's code:\n",
    "\n",
    "# based on the project's query:\n",
    "display(pd.io.sql.read_sql('''\n",
    "    WITH book_ratings as (\n",
    "    SELECT books.book_id AS book_id,\n",
    "       books.title AS book_title,\n",
    "       authors.author_id AS author_id,\n",
    "       authors.author AS author_name,\n",
    "       AVG(ratings.rating) AS avg_book_rating,\n",
    "       COUNT(ratings.rating) AS number_of_ratings\n",
    "    FROM books\n",
    "    LEFT JOIN authors ON authors.author_id = books.author_id\n",
    "    LEFT JOIN ratings ON ratings.book_id = books.book_id\n",
    "    GROUP BY books.book_id,\n",
    "             authors.author_id\n",
    "    HAVING COUNT(ratings.rating_id) >= 50\n",
    "    ORDER BY avg_book_rating DESC,\n",
    "             number_of_ratings DESC)\n",
    "        \n",
    "    SELECT author_name, \n",
    "           AVG(avg_book_rating) AS avg_rating, \n",
    "           COUNT(book_title) AS books_count\n",
    "    FROM book_ratings\n",
    "    GROUP BY author_name\n",
    "    ORDER BY avg_rating DESC;   \n",
    "''', con=engine))"
   ]
  },
  {
   "cell_type": "markdown",
   "id": "ready-boating",
   "metadata": {},
   "source": [
    "### Task 5: Find the average number of text reviews among users who rated more than 50 books"
   ]
  },
  {
   "cell_type": "code",
   "execution_count": 33,
   "id": "consistent-occurrence",
   "metadata": {},
   "outputs": [
    {
     "data": {
      "text/html": [
       "<div>\n",
       "<style scoped>\n",
       "    .dataframe tbody tr th:only-of-type {\n",
       "        vertical-align: middle;\n",
       "    }\n",
       "\n",
       "    .dataframe tbody tr th {\n",
       "        vertical-align: top;\n",
       "    }\n",
       "\n",
       "    .dataframe thead th {\n",
       "        text-align: right;\n",
       "    }\n",
       "</style>\n",
       "<table border=\"1\" class=\"dataframe\">\n",
       "  <thead>\n",
       "    <tr style=\"text-align: right;\">\n",
       "      <th></th>\n",
       "      <th>review_id</th>\n",
       "      <th>book_id</th>\n",
       "      <th>username</th>\n",
       "      <th>text</th>\n",
       "    </tr>\n",
       "  </thead>\n",
       "  <tbody>\n",
       "    <tr>\n",
       "      <th>0</th>\n",
       "      <td>1</td>\n",
       "      <td>1</td>\n",
       "      <td>brandtandrea</td>\n",
       "      <td>Mention society tell send professor analysis. ...</td>\n",
       "    </tr>\n",
       "    <tr>\n",
       "      <th>1</th>\n",
       "      <td>2</td>\n",
       "      <td>1</td>\n",
       "      <td>ryanfranco</td>\n",
       "      <td>Foot glass pretty audience hit themselves. Amo...</td>\n",
       "    </tr>\n",
       "    <tr>\n",
       "      <th>2</th>\n",
       "      <td>3</td>\n",
       "      <td>2</td>\n",
       "      <td>lorichen</td>\n",
       "      <td>Listen treat keep worry. Miss husband tax but ...</td>\n",
       "    </tr>\n",
       "    <tr>\n",
       "      <th>3</th>\n",
       "      <td>4</td>\n",
       "      <td>3</td>\n",
       "      <td>johnsonamanda</td>\n",
       "      <td>Finally month interesting blue could nature cu...</td>\n",
       "    </tr>\n",
       "    <tr>\n",
       "      <th>4</th>\n",
       "      <td>5</td>\n",
       "      <td>3</td>\n",
       "      <td>scotttamara</td>\n",
       "      <td>Nation purpose heavy give wait song will. List...</td>\n",
       "    </tr>\n",
       "  </tbody>\n",
       "</table>\n",
       "</div>"
      ],
      "text/plain": [
       "   review_id  book_id       username  \\\n",
       "0          1        1   brandtandrea   \n",
       "1          2        1     ryanfranco   \n",
       "2          3        2       lorichen   \n",
       "3          4        3  johnsonamanda   \n",
       "4          5        3    scotttamara   \n",
       "\n",
       "                                                text  \n",
       "0  Mention society tell send professor analysis. ...  \n",
       "1  Foot glass pretty audience hit themselves. Amo...  \n",
       "2  Listen treat keep worry. Miss husband tax but ...  \n",
       "3  Finally month interesting blue could nature cu...  \n",
       "4  Nation purpose heavy give wait song will. List...  "
      ]
     },
     "execution_count": 33,
     "metadata": {},
     "output_type": "execute_result"
    }
   ],
   "source": [
    "reviews_table.head()"
   ]
  },
  {
   "cell_type": "code",
   "execution_count": 34,
   "id": "educated-platinum",
   "metadata": {},
   "outputs": [
    {
     "data": {
      "text/html": [
       "<div>\n",
       "<style scoped>\n",
       "    .dataframe tbody tr th:only-of-type {\n",
       "        vertical-align: middle;\n",
       "    }\n",
       "\n",
       "    .dataframe tbody tr th {\n",
       "        vertical-align: top;\n",
       "    }\n",
       "\n",
       "    .dataframe thead th {\n",
       "        text-align: right;\n",
       "    }\n",
       "</style>\n",
       "<table border=\"1\" class=\"dataframe\">\n",
       "  <thead>\n",
       "    <tr style=\"text-align: right;\">\n",
       "      <th></th>\n",
       "      <th>rating_id</th>\n",
       "      <th>book_id</th>\n",
       "      <th>username</th>\n",
       "      <th>rating</th>\n",
       "    </tr>\n",
       "  </thead>\n",
       "  <tbody>\n",
       "    <tr>\n",
       "      <th>0</th>\n",
       "      <td>1</td>\n",
       "      <td>1</td>\n",
       "      <td>ryanfranco</td>\n",
       "      <td>4</td>\n",
       "    </tr>\n",
       "    <tr>\n",
       "      <th>1</th>\n",
       "      <td>2</td>\n",
       "      <td>1</td>\n",
       "      <td>grantpatricia</td>\n",
       "      <td>2</td>\n",
       "    </tr>\n",
       "    <tr>\n",
       "      <th>2</th>\n",
       "      <td>3</td>\n",
       "      <td>1</td>\n",
       "      <td>brandtandrea</td>\n",
       "      <td>5</td>\n",
       "    </tr>\n",
       "    <tr>\n",
       "      <th>3</th>\n",
       "      <td>4</td>\n",
       "      <td>2</td>\n",
       "      <td>lorichen</td>\n",
       "      <td>3</td>\n",
       "    </tr>\n",
       "    <tr>\n",
       "      <th>4</th>\n",
       "      <td>5</td>\n",
       "      <td>2</td>\n",
       "      <td>mariokeller</td>\n",
       "      <td>2</td>\n",
       "    </tr>\n",
       "  </tbody>\n",
       "</table>\n",
       "</div>"
      ],
      "text/plain": [
       "   rating_id  book_id       username  rating\n",
       "0          1        1     ryanfranco       4\n",
       "1          2        1  grantpatricia       2\n",
       "2          3        1   brandtandrea       5\n",
       "3          4        2       lorichen       3\n",
       "4          5        2    mariokeller       2"
      ]
     },
     "execution_count": 34,
     "metadata": {},
     "output_type": "execute_result"
    }
   ],
   "source": [
    "ratings_table.head()"
   ]
  },
  {
   "cell_type": "code",
   "execution_count": 35,
   "id": "stretch-greene",
   "metadata": {},
   "outputs": [],
   "source": [
    "average_text_query = '''\n",
    "SELECT COUNT(*) / COUNT(distinct username) AS average_reviews \n",
    "FROM reviews \n",
    "WHERE username IN (SELECT username FROM ratings \n",
    "GROUP BY username \n",
    "HAVING COUNT(*) > 50)\n",
    "'''"
   ]
  },
  {
   "cell_type": "code",
   "execution_count": 36,
   "id": "generic-naples",
   "metadata": {},
   "outputs": [
    {
     "name": "stdout",
     "output_type": "stream",
     "text": [
      "   average_reviews\n",
      "0               24\n"
     ]
    }
   ],
   "source": [
    "text_reviews_average = pd.io.sql.read_sql(average_text_query, con = engine)\n",
    "print(text_reviews_average)"
   ]
  },
  {
   "cell_type": "markdown",
   "id": "written-geography",
   "metadata": {},
   "source": [
    "The average number of text reviews among users who rated 50 or more books is 24."
   ]
  },
  {
   "cell_type": "markdown",
   "id": "compressed-slovakia",
   "metadata": {},
   "source": [
    "<a id='Step 4 Conclusions and Recommendations'><a/>"
   ]
  },
  {
   "cell_type": "markdown",
   "id": "0fdd1a0f",
   "metadata": {},
   "source": [
    "<div class=\"alert alert-block alert-success\">\n",
    "<b>Reviewer's comment v.1</b> \n",
    "    \n",
    "👍 <b>5th query:</b> The result is correct! We can also round the result to two decimal places.\n",
    "    \n",
    "</div>"
   ]
  },
  {
   "cell_type": "markdown",
   "id": "failing-detail",
   "metadata": {},
   "source": [
    "## Step 4 Conclusions and Recommendations"
   ]
  },
  {
   "cell_type": "markdown",
   "id": "chief-strain",
   "metadata": {},
   "source": [
    "In conclusion it is clear that the users of this book review service are quite active, which means that this is an ideal market moving forward. I would recommend the company to give exclusive deals to users who review at least 50 books and use that as an incentive to purchase more books and be more active on the site. "
   ]
  },
  {
   "cell_type": "markdown",
   "id": "02e5b1d4",
   "metadata": {},
   "source": [
    "<div class=\"alert alert-block alert-success\">\n",
    "<b>Reviewer's comment v.1</b> \n",
    "    \n",
    "👍 Good job!</div>"
   ]
  },
  {
   "cell_type": "markdown",
   "id": "heard-interest",
   "metadata": {},
   "source": [
    "<a href='#Top of Page'>Top of Page<a/>"
   ]
  }
 ],
 "metadata": {
  "ExecuteTimeLog": [
   {
    "duration": 1213,
    "start_time": "2021-11-08T19:22:57.553Z"
   },
   {
    "duration": 3,
    "start_time": "2021-11-08T19:22:58.767Z"
   },
   {
    "duration": 5,
    "start_time": "2021-11-08T19:22:58.772Z"
   },
   {
    "duration": 421,
    "start_time": "2021-11-08T19:22:58.778Z"
   },
   {
    "duration": 2,
    "start_time": "2021-11-08T19:22:59.200Z"
   },
   {
    "duration": 80,
    "start_time": "2021-11-08T19:22:59.204Z"
   },
   {
    "duration": 3,
    "start_time": "2021-11-08T19:22:59.285Z"
   },
   {
    "duration": 77,
    "start_time": "2021-11-08T19:22:59.289Z"
   },
   {
    "duration": 2,
    "start_time": "2021-11-08T19:22:59.368Z"
   },
   {
    "duration": 98,
    "start_time": "2021-11-08T19:22:59.372Z"
   },
   {
    "duration": 3,
    "start_time": "2021-11-08T19:22:59.471Z"
   },
   {
    "duration": 91,
    "start_time": "2021-11-08T19:22:59.475Z"
   },
   {
    "duration": 8,
    "start_time": "2021-11-08T19:22:59.568Z"
   },
   {
    "duration": 74,
    "start_time": "2021-11-08T19:22:59.577Z"
   },
   {
    "duration": 3,
    "start_time": "2021-11-08T19:22:59.653Z"
   },
   {
    "duration": 9,
    "start_time": "2021-11-08T19:22:59.658Z"
   },
   {
    "duration": 9,
    "start_time": "2021-11-08T19:22:59.669Z"
   },
   {
    "duration": 12,
    "start_time": "2021-11-08T19:22:59.680Z"
   },
   {
    "duration": 3,
    "start_time": "2021-11-08T19:22:59.694Z"
   },
   {
    "duration": 91,
    "start_time": "2021-11-08T19:22:59.699Z"
   },
   {
    "duration": 5,
    "start_time": "2021-11-08T19:22:59.792Z"
   },
   {
    "duration": 12,
    "start_time": "2021-11-08T19:22:59.798Z"
   },
   {
    "duration": 6,
    "start_time": "2021-11-08T19:22:59.812Z"
   },
   {
    "duration": 81,
    "start_time": "2021-11-08T19:22:59.820Z"
   },
   {
    "duration": 8,
    "start_time": "2021-11-08T19:22:59.904Z"
   },
   {
    "duration": 12,
    "start_time": "2021-11-08T19:22:59.914Z"
   },
   {
    "duration": 13,
    "start_time": "2021-11-08T19:22:59.929Z"
   },
   {
    "duration": 6,
    "start_time": "2021-11-08T19:22:59.943Z"
   },
   {
    "duration": 113,
    "start_time": "2021-11-08T19:22:59.951Z"
   },
   {
    "duration": 7,
    "start_time": "2021-11-08T19:23:00.066Z"
   },
   {
    "duration": 12,
    "start_time": "2021-11-08T19:23:00.074Z"
   },
   {
    "duration": 12,
    "start_time": "2021-11-08T19:23:00.088Z"
   },
   {
    "duration": 84,
    "start_time": "2021-11-08T19:23:00.102Z"
   },
   {
    "duration": 4,
    "start_time": "2021-11-08T19:40:00.281Z"
   },
   {
    "duration": 478,
    "start_time": "2021-11-08T19:40:00.517Z"
   },
   {
    "duration": 1593,
    "start_time": "2021-11-08T19:40:08.213Z"
   },
   {
    "duration": 3,
    "start_time": "2021-11-08T19:40:09.808Z"
   },
   {
    "duration": 22,
    "start_time": "2021-11-08T19:40:09.815Z"
   },
   {
    "duration": 233,
    "start_time": "2021-11-08T19:40:09.840Z"
   },
   {
    "duration": 4,
    "start_time": "2021-11-08T19:40:10.075Z"
   },
   {
    "duration": 76,
    "start_time": "2021-11-08T19:40:10.081Z"
   },
   {
    "duration": 3,
    "start_time": "2021-11-08T19:40:10.159Z"
   },
   {
    "duration": 67,
    "start_time": "2021-11-08T19:40:10.166Z"
   },
   {
    "duration": 8,
    "start_time": "2021-11-08T19:40:10.236Z"
   },
   {
    "duration": 95,
    "start_time": "2021-11-08T19:40:10.247Z"
   },
   {
    "duration": 3,
    "start_time": "2021-11-08T19:40:10.345Z"
   },
   {
    "duration": 83,
    "start_time": "2021-11-08T19:40:10.351Z"
   },
   {
    "duration": 13,
    "start_time": "2021-11-08T19:40:10.436Z"
   },
   {
    "duration": 64,
    "start_time": "2021-11-08T19:40:10.451Z"
   },
   {
    "duration": 4,
    "start_time": "2021-11-08T19:40:10.517Z"
   },
   {
    "duration": 24,
    "start_time": "2021-11-08T19:40:10.523Z"
   },
   {
    "duration": 14,
    "start_time": "2021-11-08T19:40:10.549Z"
   },
   {
    "duration": 15,
    "start_time": "2021-11-08T19:40:10.565Z"
   },
   {
    "duration": 9,
    "start_time": "2021-11-08T19:40:10.582Z"
   },
   {
    "duration": 90,
    "start_time": "2021-11-08T19:40:10.594Z"
   },
   {
    "duration": 9,
    "start_time": "2021-11-08T19:40:10.687Z"
   },
   {
    "duration": 19,
    "start_time": "2021-11-08T19:40:10.698Z"
   },
   {
    "duration": 4,
    "start_time": "2021-11-08T19:40:10.721Z"
   },
   {
    "duration": 70,
    "start_time": "2021-11-08T19:40:10.727Z"
   },
   {
    "duration": 8,
    "start_time": "2021-11-08T19:40:10.799Z"
   },
   {
    "duration": 14,
    "start_time": "2021-11-08T19:40:10.809Z"
   },
   {
    "duration": 25,
    "start_time": "2021-11-08T19:40:10.826Z"
   },
   {
    "duration": 5,
    "start_time": "2021-11-08T19:40:10.853Z"
   },
   {
    "duration": 85,
    "start_time": "2021-11-08T19:40:10.860Z"
   },
   {
    "duration": 11,
    "start_time": "2021-11-08T19:40:10.947Z"
   },
   {
    "duration": 17,
    "start_time": "2021-11-08T19:40:10.960Z"
   },
   {
    "duration": 8,
    "start_time": "2021-11-08T19:40:10.979Z"
   },
   {
    "duration": 63,
    "start_time": "2021-11-08T19:40:10.989Z"
   },
   {
    "duration": 4,
    "start_time": "2021-11-08T19:40:40.798Z"
   },
   {
    "duration": 98,
    "start_time": "2021-11-08T19:40:41.854Z"
   },
   {
    "duration": 4,
    "start_time": "2021-11-08T19:46:51.232Z"
   },
   {
    "duration": 61,
    "start_time": "2021-11-08T19:46:51.504Z"
   },
   {
    "duration": 3,
    "start_time": "2021-11-08T19:49:21.586Z"
   },
   {
    "duration": 585,
    "start_time": "2021-11-08T19:49:21.837Z"
   },
   {
    "duration": 3,
    "start_time": "2021-11-08T19:51:25.551Z"
   },
   {
    "duration": 332,
    "start_time": "2021-11-08T19:51:25.908Z"
   },
   {
    "duration": 3,
    "start_time": "2021-11-08T19:51:39.842Z"
   },
   {
    "duration": 333,
    "start_time": "2021-11-08T19:51:40.638Z"
   },
   {
    "duration": 3,
    "start_time": "2021-11-08T19:56:43.157Z"
   },
   {
    "duration": 325,
    "start_time": "2021-11-08T19:56:43.697Z"
   },
   {
    "duration": 3,
    "start_time": "2021-11-08T19:58:05.333Z"
   },
   {
    "duration": 68,
    "start_time": "2021-11-08T19:58:05.688Z"
   },
   {
    "duration": 4,
    "start_time": "2021-11-08T19:58:21.451Z"
   },
   {
    "duration": 70,
    "start_time": "2021-11-08T19:58:23.115Z"
   },
   {
    "duration": 1646,
    "start_time": "2021-11-08T20:07:37.337Z"
   },
   {
    "duration": 3,
    "start_time": "2021-11-08T20:07:38.985Z"
   },
   {
    "duration": 20,
    "start_time": "2021-11-08T20:07:38.991Z"
   },
   {
    "duration": 222,
    "start_time": "2021-11-08T20:07:39.014Z"
   },
   {
    "duration": 3,
    "start_time": "2021-11-08T20:07:39.238Z"
   },
   {
    "duration": 68,
    "start_time": "2021-11-08T20:07:39.243Z"
   },
   {
    "duration": 4,
    "start_time": "2021-11-08T20:07:39.313Z"
   },
   {
    "duration": 64,
    "start_time": "2021-11-08T20:07:39.319Z"
   },
   {
    "duration": 3,
    "start_time": "2021-11-08T20:07:39.389Z"
   },
   {
    "duration": 93,
    "start_time": "2021-11-08T20:07:39.396Z"
   },
   {
    "duration": 4,
    "start_time": "2021-11-08T20:07:39.492Z"
   },
   {
    "duration": 80,
    "start_time": "2021-11-08T20:07:39.499Z"
   },
   {
    "duration": 14,
    "start_time": "2021-11-08T20:07:39.582Z"
   },
   {
    "duration": 60,
    "start_time": "2021-11-08T20:07:39.599Z"
   },
   {
    "duration": 5,
    "start_time": "2021-11-08T20:07:39.662Z"
   },
   {
    "duration": 18,
    "start_time": "2021-11-08T20:07:39.669Z"
   },
   {
    "duration": 21,
    "start_time": "2021-11-08T20:07:39.689Z"
   },
   {
    "duration": 25,
    "start_time": "2021-11-08T20:07:39.712Z"
   },
   {
    "duration": 13,
    "start_time": "2021-11-08T20:07:39.740Z"
   },
   {
    "duration": 96,
    "start_time": "2021-11-08T20:07:39.756Z"
   },
   {
    "duration": 10,
    "start_time": "2021-11-08T20:07:39.855Z"
   },
   {
    "duration": 29,
    "start_time": "2021-11-08T20:07:39.868Z"
   },
   {
    "duration": 10,
    "start_time": "2021-11-08T20:07:39.900Z"
   },
   {
    "duration": 64,
    "start_time": "2021-11-08T20:07:39.912Z"
   },
   {
    "duration": 10,
    "start_time": "2021-11-08T20:07:39.979Z"
   },
   {
    "duration": 22,
    "start_time": "2021-11-08T20:07:39.992Z"
   },
   {
    "duration": 17,
    "start_time": "2021-11-08T20:07:40.020Z"
   },
   {
    "duration": 12,
    "start_time": "2021-11-08T20:07:40.041Z"
   },
   {
    "duration": 82,
    "start_time": "2021-11-08T20:07:40.055Z"
   },
   {
    "duration": 11,
    "start_time": "2021-11-08T20:07:40.140Z"
   },
   {
    "duration": 17,
    "start_time": "2021-11-08T20:07:40.153Z"
   },
   {
    "duration": 14,
    "start_time": "2021-11-08T20:07:40.172Z"
   },
   {
    "duration": 60,
    "start_time": "2021-11-08T20:07:40.188Z"
   },
   {
    "duration": 1608,
    "start_time": "2021-11-08T20:07:49.095Z"
   },
   {
    "duration": 3,
    "start_time": "2021-11-08T20:07:50.706Z"
   },
   {
    "duration": 17,
    "start_time": "2021-11-08T20:07:50.712Z"
   },
   {
    "duration": 241,
    "start_time": "2021-11-08T20:07:50.732Z"
   },
   {
    "duration": 4,
    "start_time": "2021-11-08T20:07:50.975Z"
   },
   {
    "duration": 67,
    "start_time": "2021-11-08T20:07:50.981Z"
   },
   {
    "duration": 4,
    "start_time": "2021-11-08T20:07:51.050Z"
   },
   {
    "duration": 66,
    "start_time": "2021-11-08T20:07:51.056Z"
   },
   {
    "duration": 3,
    "start_time": "2021-11-08T20:07:51.128Z"
   },
   {
    "duration": 95,
    "start_time": "2021-11-08T20:07:51.135Z"
   },
   {
    "duration": 4,
    "start_time": "2021-11-08T20:07:51.233Z"
   },
   {
    "duration": 81,
    "start_time": "2021-11-08T20:07:51.239Z"
   },
   {
    "duration": 11,
    "start_time": "2021-11-08T20:07:51.323Z"
   },
   {
    "duration": 62,
    "start_time": "2021-11-08T20:07:51.337Z"
   },
   {
    "duration": 5,
    "start_time": "2021-11-08T20:07:51.402Z"
   },
   {
    "duration": 20,
    "start_time": "2021-11-08T20:07:51.409Z"
   },
   {
    "duration": 11,
    "start_time": "2021-11-08T20:07:51.432Z"
   },
   {
    "duration": 13,
    "start_time": "2021-11-08T20:07:51.446Z"
   },
   {
    "duration": 4,
    "start_time": "2021-11-08T20:07:51.462Z"
   },
   {
    "duration": 82,
    "start_time": "2021-11-08T20:07:51.469Z"
   },
   {
    "duration": 9,
    "start_time": "2021-11-08T20:07:51.554Z"
   },
   {
    "duration": 14,
    "start_time": "2021-11-08T20:07:51.566Z"
   },
   {
    "duration": 4,
    "start_time": "2021-11-08T20:07:51.582Z"
   },
   {
    "duration": 68,
    "start_time": "2021-11-08T20:07:51.588Z"
   },
   {
    "duration": 9,
    "start_time": "2021-11-08T20:07:51.658Z"
   },
   {
    "duration": 12,
    "start_time": "2021-11-08T20:07:51.669Z"
   },
   {
    "duration": 10,
    "start_time": "2021-11-08T20:07:51.686Z"
   },
   {
    "duration": 4,
    "start_time": "2021-11-08T20:07:51.698Z"
   },
   {
    "duration": 73,
    "start_time": "2021-11-08T20:07:51.705Z"
   },
   {
    "duration": 10,
    "start_time": "2021-11-08T20:07:51.781Z"
   },
   {
    "duration": 17,
    "start_time": "2021-11-08T20:07:51.794Z"
   },
   {
    "duration": 5,
    "start_time": "2021-11-08T20:07:51.813Z"
   },
   {
    "duration": 62,
    "start_time": "2021-11-08T20:07:51.820Z"
   },
   {
    "duration": 1282,
    "start_time": "2021-11-09T07:37:36.083Z"
   },
   {
    "duration": 2,
    "start_time": "2021-11-09T07:37:37.367Z"
   },
   {
    "duration": 30,
    "start_time": "2021-11-09T07:37:37.373Z"
   },
   {
    "duration": 358,
    "start_time": "2021-11-09T07:37:37.404Z"
   },
   {
    "duration": 2,
    "start_time": "2021-11-09T07:37:37.764Z"
   },
   {
    "duration": 99,
    "start_time": "2021-11-09T07:37:37.767Z"
   },
   {
    "duration": 2,
    "start_time": "2021-11-09T07:37:37.868Z"
   },
   {
    "duration": 88,
    "start_time": "2021-11-09T07:37:37.872Z"
   },
   {
    "duration": 2,
    "start_time": "2021-11-09T07:37:37.962Z"
   },
   {
    "duration": 127,
    "start_time": "2021-11-09T07:37:37.966Z"
   },
   {
    "duration": 2,
    "start_time": "2021-11-09T07:37:38.095Z"
   },
   {
    "duration": 119,
    "start_time": "2021-11-09T07:37:38.098Z"
   },
   {
    "duration": 6,
    "start_time": "2021-11-09T07:37:38.219Z"
   },
   {
    "duration": 97,
    "start_time": "2021-11-09T07:37:38.227Z"
   },
   {
    "duration": 3,
    "start_time": "2021-11-09T07:37:38.326Z"
   },
   {
    "duration": 34,
    "start_time": "2021-11-09T07:37:38.330Z"
   },
   {
    "duration": 31,
    "start_time": "2021-11-09T07:37:38.366Z"
   },
   {
    "duration": 27,
    "start_time": "2021-11-09T07:37:38.398Z"
   },
   {
    "duration": 19,
    "start_time": "2021-11-09T07:37:38.427Z"
   },
   {
    "duration": 110,
    "start_time": "2021-11-09T07:37:38.447Z"
   },
   {
    "duration": 6,
    "start_time": "2021-11-09T07:37:38.558Z"
   },
   {
    "duration": 24,
    "start_time": "2021-11-09T07:37:38.565Z"
   },
   {
    "duration": 28,
    "start_time": "2021-11-09T07:37:38.590Z"
   },
   {
    "duration": 101,
    "start_time": "2021-11-09T07:37:38.619Z"
   },
   {
    "duration": 5,
    "start_time": "2021-11-09T07:37:38.722Z"
   },
   {
    "duration": 34,
    "start_time": "2021-11-09T07:37:38.730Z"
   },
   {
    "duration": 9,
    "start_time": "2021-11-09T07:37:38.765Z"
   },
   {
    "duration": 19,
    "start_time": "2021-11-09T07:37:38.775Z"
   },
   {
    "duration": 112,
    "start_time": "2021-11-09T07:37:38.796Z"
   },
   {
    "duration": 6,
    "start_time": "2021-11-09T07:37:38.910Z"
   },
   {
    "duration": 30,
    "start_time": "2021-11-09T07:37:38.917Z"
   },
   {
    "duration": 17,
    "start_time": "2021-11-09T07:37:38.949Z"
   },
   {
    "duration": 99,
    "start_time": "2021-11-09T07:37:38.968Z"
   },
   {
    "duration": 1506,
    "start_time": "2022-06-12T09:25:16.469Z"
   },
   {
    "duration": 2,
    "start_time": "2022-06-12T09:25:17.977Z"
   },
   {
    "duration": 19,
    "start_time": "2022-06-12T09:25:17.981Z"
   },
   {
    "duration": 17,
    "start_time": "2022-06-12T09:25:18.002Z"
   },
   {
    "duration": 347,
    "start_time": "2022-06-12T09:25:18.021Z"
   },
   {
    "duration": 2,
    "start_time": "2022-06-12T09:25:18.371Z"
   },
   {
    "duration": 84,
    "start_time": "2022-06-12T09:25:18.375Z"
   },
   {
    "duration": 4,
    "start_time": "2022-06-12T09:25:18.461Z"
   },
   {
    "duration": 82,
    "start_time": "2022-06-12T09:25:18.466Z"
   },
   {
    "duration": 2,
    "start_time": "2022-06-12T09:25:18.550Z"
   },
   {
    "duration": 108,
    "start_time": "2022-06-12T09:25:18.554Z"
   },
   {
    "duration": 3,
    "start_time": "2022-06-12T09:25:18.664Z"
   },
   {
    "duration": 93,
    "start_time": "2022-06-12T09:25:18.668Z"
   },
   {
    "duration": 8,
    "start_time": "2022-06-12T09:25:18.762Z"
   },
   {
    "duration": 95,
    "start_time": "2022-06-12T09:25:18.771Z"
   },
   {
    "duration": 4,
    "start_time": "2022-06-12T09:25:18.868Z"
   },
   {
    "duration": 25,
    "start_time": "2022-06-12T09:25:18.874Z"
   },
   {
    "duration": 16,
    "start_time": "2022-06-12T09:25:18.901Z"
   },
   {
    "duration": 21,
    "start_time": "2022-06-12T09:25:18.919Z"
   },
   {
    "duration": 11,
    "start_time": "2022-06-12T09:25:18.942Z"
   },
   {
    "duration": 102,
    "start_time": "2022-06-12T09:25:18.955Z"
   },
   {
    "duration": 7,
    "start_time": "2022-06-12T09:25:19.059Z"
   },
   {
    "duration": 19,
    "start_time": "2022-06-12T09:25:19.068Z"
   },
   {
    "duration": 8,
    "start_time": "2022-06-12T09:25:19.089Z"
   },
   {
    "duration": 77,
    "start_time": "2022-06-12T09:25:19.098Z"
   },
   {
    "duration": 6,
    "start_time": "2022-06-12T09:25:19.176Z"
   },
   {
    "duration": 9,
    "start_time": "2022-06-12T09:25:19.183Z"
   },
   {
    "duration": 6,
    "start_time": "2022-06-12T09:25:19.195Z"
   },
   {
    "duration": 3,
    "start_time": "2022-06-12T09:25:19.203Z"
   },
   {
    "duration": 86,
    "start_time": "2022-06-12T09:25:19.208Z"
   },
   {
    "duration": 6,
    "start_time": "2022-06-12T09:25:19.296Z"
   },
   {
    "duration": 9,
    "start_time": "2022-06-12T09:25:19.304Z"
   },
   {
    "duration": 4,
    "start_time": "2022-06-12T09:25:19.315Z"
   },
   {
    "duration": 75,
    "start_time": "2022-06-12T09:25:19.321Z"
   },
   {
    "duration": 2,
    "start_time": "2022-06-12T09:28:55.936Z"
   },
   {
    "duration": 2075,
    "start_time": "2022-06-13T15:18:37.328Z"
   },
   {
    "duration": 4,
    "start_time": "2022-06-13T15:18:45.269Z"
   },
   {
    "duration": 12,
    "start_time": "2022-06-13T15:18:49.464Z"
   },
   {
    "duration": 17,
    "start_time": "2022-06-13T15:21:55.626Z"
   },
   {
    "duration": 3,
    "start_time": "2022-06-13T15:21:56.861Z"
   },
   {
    "duration": 6,
    "start_time": "2022-06-13T15:21:59.078Z"
   },
   {
    "duration": 11,
    "start_time": "2022-06-13T15:22:08.955Z"
   },
   {
    "duration": 512,
    "start_time": "2022-06-13T15:22:13.325Z"
   },
   {
    "duration": 9,
    "start_time": "2022-06-13T15:22:17.624Z"
   },
   {
    "duration": 189,
    "start_time": "2022-06-13T15:22:18.758Z"
   },
   {
    "duration": 6,
    "start_time": "2022-06-13T15:22:21.572Z"
   },
   {
    "duration": 171,
    "start_time": "2022-06-13T15:22:22.475Z"
   },
   {
    "duration": 4,
    "start_time": "2022-06-13T15:22:24.726Z"
   },
   {
    "duration": 249,
    "start_time": "2022-06-13T15:22:25.654Z"
   },
   {
    "duration": 4,
    "start_time": "2022-06-13T15:22:26.726Z"
   },
   {
    "duration": 214,
    "start_time": "2022-06-13T15:22:27.371Z"
   },
   {
    "duration": 13,
    "start_time": "2022-06-13T15:22:37.861Z"
   },
   {
    "duration": 230,
    "start_time": "2022-06-13T15:22:39.485Z"
   },
   {
    "duration": 9,
    "start_time": "2022-06-13T15:22:39.984Z"
   },
   {
    "duration": 9,
    "start_time": "2022-06-13T15:22:46.272Z"
   },
   {
    "duration": 24,
    "start_time": "2022-06-13T15:22:48.626Z"
   },
   {
    "duration": 46,
    "start_time": "2022-06-13T15:22:49.691Z"
   },
   {
    "duration": 9,
    "start_time": "2022-06-13T15:22:54.556Z"
   },
   {
    "duration": 225,
    "start_time": "2022-06-13T15:23:02.237Z"
   },
   {
    "duration": 38,
    "start_time": "2022-06-13T15:23:11.705Z"
   },
   {
    "duration": 27,
    "start_time": "2022-06-13T15:23:14.488Z"
   },
   {
    "duration": 13,
    "start_time": "2022-06-13T15:23:16.746Z"
   },
   {
    "duration": 140,
    "start_time": "2022-06-13T15:23:18.349Z"
   },
   {
    "duration": 32,
    "start_time": "2022-06-13T15:23:24.356Z"
   },
   {
    "duration": 14,
    "start_time": "2022-06-13T15:23:27.273Z"
   },
   {
    "duration": 17,
    "start_time": "2022-06-13T15:23:28.513Z"
   },
   {
    "duration": 8,
    "start_time": "2022-06-13T15:23:30.231Z"
   },
   {
    "duration": 197,
    "start_time": "2022-06-13T15:23:31.166Z"
   },
   {
    "duration": 19,
    "start_time": "2022-06-13T15:23:35.822Z"
   },
   {
    "duration": 10,
    "start_time": "2022-06-13T15:23:38.177Z"
   },
   {
    "duration": 22,
    "start_time": "2022-06-13T15:23:39.241Z"
   },
   {
    "duration": 134,
    "start_time": "2022-06-13T15:23:41.333Z"
   },
   {
    "duration": 1974,
    "start_time": "2022-06-13T15:33:58.667Z"
   },
   {
    "duration": 2,
    "start_time": "2022-06-13T15:34:00.644Z"
   },
   {
    "duration": 135,
    "start_time": "2022-06-13T15:34:00.649Z"
   },
   {
    "duration": 71,
    "start_time": "2022-06-13T15:34:00.792Z"
   },
   {
    "duration": 688,
    "start_time": "2022-06-13T15:34:00.870Z"
   },
   {
    "duration": 7,
    "start_time": "2022-06-13T15:34:01.565Z"
   },
   {
    "duration": 209,
    "start_time": "2022-06-13T15:34:01.580Z"
   },
   {
    "duration": 5,
    "start_time": "2022-06-13T15:34:01.791Z"
   },
   {
    "duration": 160,
    "start_time": "2022-06-13T15:34:01.798Z"
   },
   {
    "duration": 8,
    "start_time": "2022-06-13T15:34:01.965Z"
   },
   {
    "duration": 341,
    "start_time": "2022-06-13T15:34:01.979Z"
   },
   {
    "duration": 24,
    "start_time": "2022-06-13T15:34:02.336Z"
   },
   {
    "duration": 342,
    "start_time": "2022-06-13T15:34:02.369Z"
   },
   {
    "duration": 31,
    "start_time": "2022-06-13T15:34:02.723Z"
   },
   {
    "duration": 247,
    "start_time": "2022-06-13T15:34:02.761Z"
   },
   {
    "duration": 9,
    "start_time": "2022-06-13T15:34:03.011Z"
   },
   {
    "duration": 124,
    "start_time": "2022-06-13T15:34:03.023Z"
   },
   {
    "duration": 49,
    "start_time": "2022-06-13T15:34:03.149Z"
   },
   {
    "duration": 89,
    "start_time": "2022-06-13T15:34:03.204Z"
   },
   {
    "duration": 9,
    "start_time": "2022-06-13T15:34:03.303Z"
   },
   {
    "duration": 251,
    "start_time": "2022-06-13T15:34:03.320Z"
   },
   {
    "duration": 13,
    "start_time": "2022-06-13T15:34:03.572Z"
   },
   {
    "duration": 31,
    "start_time": "2022-06-13T15:34:03.586Z"
   },
   {
    "duration": 58,
    "start_time": "2022-06-13T15:34:03.619Z"
   },
   {
    "duration": 138,
    "start_time": "2022-06-13T15:34:03.680Z"
   },
   {
    "duration": 7,
    "start_time": "2022-06-13T15:34:03.821Z"
   },
   {
    "duration": 15,
    "start_time": "2022-06-13T15:34:03.830Z"
   },
   {
    "duration": 41,
    "start_time": "2022-06-13T15:34:03.851Z"
   },
   {
    "duration": 90,
    "start_time": "2022-06-13T15:34:03.895Z"
   },
   {
    "duration": 221,
    "start_time": "2022-06-13T15:34:03.989Z"
   },
   {
    "duration": 35,
    "start_time": "2022-06-13T15:34:04.216Z"
   },
   {
    "duration": 71,
    "start_time": "2022-06-13T15:34:04.260Z"
   },
   {
    "duration": 42,
    "start_time": "2022-06-13T15:34:04.338Z"
   },
   {
    "duration": 194,
    "start_time": "2022-06-13T15:34:04.382Z"
   },
   {
    "duration": 1342,
    "start_time": "2022-06-14T08:13:07.447Z"
   },
   {
    "duration": 2,
    "start_time": "2022-06-14T08:13:08.792Z"
   },
   {
    "duration": 10,
    "start_time": "2022-06-14T08:13:08.796Z"
   },
   {
    "duration": 12,
    "start_time": "2022-06-14T08:13:08.808Z"
   },
   {
    "duration": 87,
    "start_time": "2022-06-14T08:13:08.822Z"
   },
   {
    "duration": 2,
    "start_time": "2022-06-14T08:13:08.911Z"
   },
   {
    "duration": 70,
    "start_time": "2022-06-14T08:13:08.914Z"
   },
   {
    "duration": 2,
    "start_time": "2022-06-14T08:13:08.986Z"
   },
   {
    "duration": 14,
    "start_time": "2022-06-14T08:13:08.990Z"
   },
   {
    "duration": 3,
    "start_time": "2022-06-14T08:13:09.006Z"
   },
   {
    "duration": 86,
    "start_time": "2022-06-14T08:13:09.010Z"
   },
   {
    "duration": 2,
    "start_time": "2022-06-14T08:13:09.097Z"
   },
   {
    "duration": 78,
    "start_time": "2022-06-14T08:13:09.100Z"
   },
   {
    "duration": 10,
    "start_time": "2022-06-14T08:13:09.182Z"
   },
   {
    "duration": 15,
    "start_time": "2022-06-14T08:13:09.193Z"
   },
   {
    "duration": 3,
    "start_time": "2022-06-14T08:13:09.209Z"
   },
   {
    "duration": 11,
    "start_time": "2022-06-14T08:13:09.213Z"
   },
   {
    "duration": 10,
    "start_time": "2022-06-14T08:13:09.278Z"
   },
   {
    "duration": 12,
    "start_time": "2022-06-14T08:13:09.289Z"
   },
   {
    "duration": 10,
    "start_time": "2022-06-14T08:13:09.303Z"
   },
   {
    "duration": 89,
    "start_time": "2022-06-14T08:13:09.315Z"
   },
   {
    "duration": 7,
    "start_time": "2022-06-14T08:13:09.406Z"
   },
   {
    "duration": 64,
    "start_time": "2022-06-14T08:13:09.414Z"
   },
   {
    "duration": 5,
    "start_time": "2022-06-14T08:13:09.479Z"
   },
   {
    "duration": 19,
    "start_time": "2022-06-14T08:13:09.485Z"
   },
   {
    "duration": 6,
    "start_time": "2022-06-14T08:13:09.505Z"
   },
   {
    "duration": 9,
    "start_time": "2022-06-14T08:13:09.512Z"
   },
   {
    "duration": 59,
    "start_time": "2022-06-14T08:13:09.522Z"
   },
   {
    "duration": 8,
    "start_time": "2022-06-14T08:13:09.582Z"
   },
   {
    "duration": 23,
    "start_time": "2022-06-14T08:13:09.591Z"
   },
   {
    "duration": 6,
    "start_time": "2022-06-14T08:13:09.615Z"
   },
   {
    "duration": 57,
    "start_time": "2022-06-14T08:13:09.622Z"
   },
   {
    "duration": 8,
    "start_time": "2022-06-14T08:13:09.681Z"
   },
   {
    "duration": 22,
    "start_time": "2022-06-14T08:13:09.690Z"
   },
   {
    "duration": 25,
    "start_time": "2022-06-14T08:18:02.563Z"
   },
   {
    "duration": 21,
    "start_time": "2022-06-14T08:20:25.342Z"
   },
   {
    "duration": 18,
    "start_time": "2022-06-14T08:20:50.740Z"
   },
   {
    "duration": 18,
    "start_time": "2022-06-14T08:20:57.602Z"
   },
   {
    "duration": 1368,
    "start_time": "2022-06-14T08:49:40.116Z"
   },
   {
    "duration": 26,
    "start_time": "2022-06-14T08:49:41.486Z"
   },
   {
    "duration": 2,
    "start_time": "2022-06-14T08:49:41.514Z"
   },
   {
    "duration": 15,
    "start_time": "2022-06-14T08:49:41.518Z"
   },
   {
    "duration": 12,
    "start_time": "2022-06-14T08:49:41.534Z"
   },
   {
    "duration": 270,
    "start_time": "2022-06-14T08:49:41.547Z"
   },
   {
    "duration": 2,
    "start_time": "2022-06-14T08:49:41.819Z"
   },
   {
    "duration": 80,
    "start_time": "2022-06-14T08:49:41.823Z"
   },
   {
    "duration": 2,
    "start_time": "2022-06-14T08:49:41.905Z"
   },
   {
    "duration": 79,
    "start_time": "2022-06-14T08:49:41.910Z"
   },
   {
    "duration": 3,
    "start_time": "2022-06-14T08:49:41.990Z"
   },
   {
    "duration": 102,
    "start_time": "2022-06-14T08:49:41.994Z"
   },
   {
    "duration": 3,
    "start_time": "2022-06-14T08:49:42.097Z"
   },
   {
    "duration": 3,
    "start_time": "2022-06-14T08:49:45.794Z"
   },
   {
    "duration": 4,
    "start_time": "2022-06-14T08:49:48.585Z"
   },
   {
    "duration": 5,
    "start_time": "2022-06-14T08:51:15.542Z"
   },
   {
    "duration": 94,
    "start_time": "2022-06-14T08:58:04.173Z"
   },
   {
    "duration": 78,
    "start_time": "2022-06-14T08:59:04.435Z"
   },
   {
    "duration": 69,
    "start_time": "2022-06-14T08:59:36.143Z"
   },
   {
    "duration": 122,
    "start_time": "2022-06-14T08:59:57.556Z"
   },
   {
    "duration": 295,
    "start_time": "2022-06-14T09:00:44.988Z"
   },
   {
    "duration": 2,
    "start_time": "2022-06-14T09:00:51.760Z"
   },
   {
    "duration": 114,
    "start_time": "2022-06-14T09:00:52.384Z"
   },
   {
    "duration": 21,
    "start_time": "2022-06-14T09:01:02.166Z"
   },
   {
    "duration": 111,
    "start_time": "2022-06-14T09:01:11.495Z"
   },
   {
    "duration": 113,
    "start_time": "2022-06-14T09:01:18.071Z"
   },
   {
    "duration": 111,
    "start_time": "2022-06-14T09:01:22.199Z"
   },
   {
    "duration": 111,
    "start_time": "2022-06-14T09:01:28.366Z"
   },
   {
    "duration": 4,
    "start_time": "2022-06-14T09:07:51.407Z"
   },
   {
    "duration": 3,
    "start_time": "2022-06-14T09:09:26.486Z"
   },
   {
    "duration": 3,
    "start_time": "2022-06-14T09:09:32.153Z"
   },
   {
    "duration": 3305,
    "start_time": "2022-06-14T09:10:27.875Z"
   },
   {
    "duration": 4,
    "start_time": "2022-06-14T09:10:47.616Z"
   },
   {
    "duration": 60,
    "start_time": "2022-06-14T09:13:04.967Z"
   },
   {
    "duration": 12,
    "start_time": "2022-06-14T09:14:18.418Z"
   },
   {
    "duration": 4,
    "start_time": "2022-06-14T09:19:00.343Z"
   },
   {
    "duration": 4,
    "start_time": "2022-06-14T09:19:00.495Z"
   },
   {
    "duration": 3,
    "start_time": "2022-06-14T09:19:02.684Z"
   },
   {
    "duration": 3,
    "start_time": "2022-06-14T09:19:04.723Z"
   },
   {
    "duration": 3,
    "start_time": "2022-06-14T09:20:08.708Z"
   },
   {
    "duration": 4,
    "start_time": "2022-06-14T09:21:39.253Z"
   },
   {
    "duration": 3,
    "start_time": "2022-06-14T09:28:41.385Z"
   },
   {
    "duration": 270,
    "start_time": "2022-06-14T09:28:42.997Z"
   },
   {
    "duration": 4,
    "start_time": "2022-06-14T09:40:08.593Z"
   },
   {
    "duration": 76,
    "start_time": "2022-06-14T09:40:28.418Z"
   },
   {
    "duration": 7,
    "start_time": "2022-06-14T09:41:11.686Z"
   },
   {
    "duration": 2876,
    "start_time": "2022-06-14T09:41:54.629Z"
   },
   {
    "duration": 41,
    "start_time": "2022-06-14T09:48:05.202Z"
   },
   {
    "duration": 46,
    "start_time": "2022-06-14T09:48:49.107Z"
   },
   {
    "duration": 92,
    "start_time": "2022-06-14T09:48:56.830Z"
   },
   {
    "duration": 3,
    "start_time": "2022-06-14T09:48:58.853Z"
   },
   {
    "duration": 100,
    "start_time": "2022-06-14T09:50:37.469Z"
   },
   {
    "duration": 100,
    "start_time": "2022-06-14T10:01:43.924Z"
   },
   {
    "duration": 103,
    "start_time": "2022-06-14T10:01:49.769Z"
   },
   {
    "duration": 1342,
    "start_time": "2022-06-14T10:08:25.067Z"
   },
   {
    "duration": 23,
    "start_time": "2022-06-14T10:08:26.411Z"
   },
   {
    "duration": 3,
    "start_time": "2022-06-14T10:08:26.435Z"
   },
   {
    "duration": 6,
    "start_time": "2022-06-14T10:08:26.452Z"
   },
   {
    "duration": 20,
    "start_time": "2022-06-14T10:08:26.459Z"
   },
   {
    "duration": 282,
    "start_time": "2022-06-14T10:08:26.481Z"
   },
   {
    "duration": 3,
    "start_time": "2022-06-14T10:08:26.767Z"
   },
   {
    "duration": 94,
    "start_time": "2022-06-14T10:08:26.772Z"
   },
   {
    "duration": 4,
    "start_time": "2022-06-14T10:08:26.867Z"
   },
   {
    "duration": 74,
    "start_time": "2022-06-14T10:08:26.874Z"
   },
   {
    "duration": 3,
    "start_time": "2022-06-14T10:08:26.949Z"
   },
   {
    "duration": 96,
    "start_time": "2022-06-14T10:08:26.953Z"
   },
   {
    "duration": 3,
    "start_time": "2022-06-14T10:08:27.050Z"
   },
   {
    "duration": 99,
    "start_time": "2022-06-14T10:08:27.055Z"
   },
   {
    "duration": 12,
    "start_time": "2022-06-14T10:08:27.157Z"
   },
   {
    "duration": 85,
    "start_time": "2022-06-14T10:08:27.170Z"
   },
   {
    "duration": 5,
    "start_time": "2022-06-14T10:08:27.257Z"
   },
   {
    "duration": 20,
    "start_time": "2022-06-14T10:08:27.264Z"
   },
   {
    "duration": 10,
    "start_time": "2022-06-14T10:08:27.286Z"
   },
   {
    "duration": 19,
    "start_time": "2022-06-14T10:08:27.297Z"
   },
   {
    "duration": 88,
    "start_time": "2022-06-14T10:08:27.317Z"
   },
   {
    "duration": 139,
    "start_time": "2022-06-14T10:08:27.406Z"
   },
   {
    "duration": 9,
    "start_time": "2022-06-14T10:08:27.547Z"
   },
   {
    "duration": 26,
    "start_time": "2022-06-14T10:08:27.558Z"
   },
   {
    "duration": 5,
    "start_time": "2022-06-14T10:08:27.586Z"
   },
   {
    "duration": 80,
    "start_time": "2022-06-14T10:08:27.593Z"
   },
   {
    "duration": 6,
    "start_time": "2022-06-14T10:08:27.675Z"
   },
   {
    "duration": 15,
    "start_time": "2022-06-14T10:08:27.684Z"
   },
   {
    "duration": 14,
    "start_time": "2022-06-14T10:08:27.701Z"
   },
   {
    "duration": 6,
    "start_time": "2022-06-14T10:08:27.717Z"
   },
   {
    "duration": 86,
    "start_time": "2022-06-14T10:08:27.724Z"
   },
   {
    "duration": 92,
    "start_time": "2022-06-14T10:08:27.812Z"
   },
   {
    "duration": 9,
    "start_time": "2022-06-14T10:08:27.907Z"
   },
   {
    "duration": 9,
    "start_time": "2022-06-14T10:08:27.918Z"
   },
   {
    "duration": 6,
    "start_time": "2022-06-14T10:08:27.928Z"
   },
   {
    "duration": 89,
    "start_time": "2022-06-14T10:08:27.936Z"
   },
   {
    "duration": 509,
    "start_time": "2022-06-14T10:10:50.989Z"
   },
   {
    "duration": 28,
    "start_time": "2022-06-14T10:10:51.500Z"
   },
   {
    "duration": 3,
    "start_time": "2022-06-14T10:10:51.530Z"
   },
   {
    "duration": 8,
    "start_time": "2022-06-14T10:10:51.535Z"
   },
   {
    "duration": 7,
    "start_time": "2022-06-14T10:10:51.552Z"
   },
   {
    "duration": 305,
    "start_time": "2022-06-14T10:10:51.561Z"
   },
   {
    "duration": 3,
    "start_time": "2022-06-14T10:10:51.868Z"
   },
   {
    "duration": 82,
    "start_time": "2022-06-14T10:10:51.873Z"
   },
   {
    "duration": 3,
    "start_time": "2022-06-14T10:10:51.956Z"
   },
   {
    "duration": 76,
    "start_time": "2022-06-14T10:10:51.962Z"
   },
   {
    "duration": 2,
    "start_time": "2022-06-14T10:10:52.040Z"
   },
   {
    "duration": 110,
    "start_time": "2022-06-14T10:10:52.043Z"
   },
   {
    "duration": 3,
    "start_time": "2022-06-14T10:10:52.154Z"
   },
   {
    "duration": 98,
    "start_time": "2022-06-14T10:10:52.159Z"
   },
   {
    "duration": 7,
    "start_time": "2022-06-14T10:10:52.259Z"
   },
   {
    "duration": 75,
    "start_time": "2022-06-14T10:10:52.268Z"
   },
   {
    "duration": 4,
    "start_time": "2022-06-14T10:10:52.344Z"
   },
   {
    "duration": 16,
    "start_time": "2022-06-14T10:10:52.349Z"
   },
   {
    "duration": 10,
    "start_time": "2022-06-14T10:10:52.367Z"
   },
   {
    "duration": 12,
    "start_time": "2022-06-14T10:10:52.378Z"
   },
   {
    "duration": 86,
    "start_time": "2022-06-14T10:10:52.391Z"
   },
   {
    "duration": 147,
    "start_time": "2022-06-14T10:10:52.479Z"
   },
   {
    "duration": 8,
    "start_time": "2022-06-14T10:10:52.628Z"
   },
   {
    "duration": 26,
    "start_time": "2022-06-14T10:10:52.638Z"
   },
   {
    "duration": 17,
    "start_time": "2022-06-14T10:10:52.666Z"
   },
   {
    "duration": 82,
    "start_time": "2022-06-14T10:10:52.685Z"
   },
   {
    "duration": 6,
    "start_time": "2022-06-14T10:10:52.769Z"
   },
   {
    "duration": 14,
    "start_time": "2022-06-14T10:10:52.778Z"
   },
   {
    "duration": 13,
    "start_time": "2022-06-14T10:10:52.793Z"
   },
   {
    "duration": 12,
    "start_time": "2022-06-14T10:10:52.808Z"
   },
   {
    "duration": 84,
    "start_time": "2022-06-14T10:10:52.822Z"
   },
   {
    "duration": 75,
    "start_time": "2022-06-14T10:10:52.908Z"
   },
   {
    "duration": 7,
    "start_time": "2022-06-14T10:10:52.985Z"
   },
   {
    "duration": 13,
    "start_time": "2022-06-14T10:10:52.994Z"
   },
   {
    "duration": 6,
    "start_time": "2022-06-14T10:10:53.008Z"
   },
   {
    "duration": 81,
    "start_time": "2022-06-14T10:10:53.016Z"
   }
  ],
  "kernelspec": {
   "display_name": "Python 3 (ipykernel)",
   "language": "python",
   "name": "python3"
  },
  "language_info": {
   "codemirror_mode": {
    "name": "ipython",
    "version": 3
   },
   "file_extension": ".py",
   "mimetype": "text/x-python",
   "name": "python",
   "nbconvert_exporter": "python",
   "pygments_lexer": "ipython3",
   "version": "3.9.5"
  },
  "toc": {
   "base_numbering": 1,
   "nav_menu": {},
   "number_sections": true,
   "sideBar": true,
   "skip_h1_title": true,
   "title_cell": "Table of Contents",
   "title_sidebar": "Contents",
   "toc_cell": false,
   "toc_position": {},
   "toc_section_display": true,
   "toc_window_display": false
  }
 },
 "nbformat": 4,
 "nbformat_minor": 5
}
