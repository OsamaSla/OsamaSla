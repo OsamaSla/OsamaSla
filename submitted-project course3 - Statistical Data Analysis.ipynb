{
 "cells": [
  {
   "cell_type": "markdown",
   "metadata": {
    "toc": true
   },
   "source": [
    "<h1>Table of Contents<span class=\"tocSkip\"></span></h1>\n",
    "<div class=\"toc\"><ul class=\"toc-item\"><li><span><a href=\"#Step-1.-Open-the-data-file-and-study-the-general-information\" data-toc-modified-id=\"Step-1.-Open-the-data-file-and-study-the-general-information-1\"><span class=\"toc-item-num\">1&nbsp;&nbsp;</span>Step 1. Open the data file and study the general information</a></span></li><li><span><a href=\"#Step-2.-Prepare-the-data\" data-toc-modified-id=\"Step-2.-Prepare-the-data-2\"><span class=\"toc-item-num\">2&nbsp;&nbsp;</span>Step 2. Prepare the data</a></span><ul class=\"toc-item\"><li><span><a href=\"#megaline_users\" data-toc-modified-id=\"megaline_users-2.1\"><span class=\"toc-item-num\">2.1&nbsp;&nbsp;</span>megaline_users</a></span><ul class=\"toc-item\"><li><span><a href=\"#93.2%\" data-toc-modified-id=\"93.2%-2.1.1\"><span class=\"toc-item-num\">2.1.1&nbsp;&nbsp;</span>93.2%</a></span></li></ul></li><li><span><a href=\"#megaline_calls\" data-toc-modified-id=\"megaline_calls-2.2\"><span class=\"toc-item-num\">2.2&nbsp;&nbsp;</span>megaline_calls</a></span><ul class=\"toc-item\"><li><span><a href=\"#~19.5%\" data-toc-modified-id=\"~19.5%-2.2.1\"><span class=\"toc-item-num\">2.2.1&nbsp;&nbsp;</span>~19.5%</a></span></li></ul></li><li><span><a href=\"#megaline_internet\" data-toc-modified-id=\"megaline_internet-2.3\"><span class=\"toc-item-num\">2.3&nbsp;&nbsp;</span>megaline_internet</a></span></li><li><span><a href=\"#megaline_messages\" data-toc-modified-id=\"megaline_messages-2.4\"><span class=\"toc-item-num\">2.4&nbsp;&nbsp;</span>megaline_messages</a></span><ul class=\"toc-item\"><li><span><a href=\"#Task1:-The-number-of-calls-made-and-minutes-used-per-month\" data-toc-modified-id=\"Task1:-The-number-of-calls-made-and-minutes-used-per-month-2.4.1\"><span class=\"toc-item-num\">2.4.1&nbsp;&nbsp;</span>Task1: The number of calls made and minutes used per month</a></span></li><li><span><a href=\"#Task-2:-The-number-of-text-messages-sent-per-month\" data-toc-modified-id=\"Task-2:-The-number-of-text-messages-sent-per-month-2.4.2\"><span class=\"toc-item-num\">2.4.2&nbsp;&nbsp;</span>Task 2: The number of text messages sent per month</a></span><ul class=\"toc-item\"><li><span><a href=\"#Task-3:-dealing-with-the-internet\" data-toc-modified-id=\"Task-3:-dealing-with-the-internet-2.4.2.1\"><span class=\"toc-item-num\">2.4.2.1&nbsp;&nbsp;</span>Task 3: dealing with the internet</a></span></li></ul></li><li><span><a href=\"#Task-4:-The-volume-of-data-per-month\" data-toc-modified-id=\"Task-4:-The-volume-of-data-per-month-2.4.3\"><span class=\"toc-item-num\">2.4.3&nbsp;&nbsp;</span>Task 4: The volume of data per month</a></span></li><li><span><a href=\"#Task-5:-The-monthly-revenue-from-each-user\" data-toc-modified-id=\"Task-5:-The-monthly-revenue-from-each-user-2.4.4\"><span class=\"toc-item-num\">2.4.4&nbsp;&nbsp;</span>Task 5: The monthly revenue from each user</a></span></li></ul></li></ul></li><li><span><a href=\"#Step-3.-Analyze-the-data\" data-toc-modified-id=\"Step-3.-Analyze-the-data-3\"><span class=\"toc-item-num\">3&nbsp;&nbsp;</span>Step 3. Analyze the data</a></span></li><li><span><a href=\"#Step-4.-Test-the-hypotheses\" data-toc-modified-id=\"Step-4.-Test-the-hypotheses-4\"><span class=\"toc-item-num\">4&nbsp;&nbsp;</span>Step 4. Test the hypotheses</a></span></li><li><span><a href=\"#Step-5.-Write-an-overall-conclusion\" data-toc-modified-id=\"Step-5.-Write-an-overall-conclusion-5\"><span class=\"toc-item-num\">5&nbsp;&nbsp;</span>Step 5. Write an overall conclusion</a></span></li></ul></div>"
   ]
  },
  {
   "cell_type": "markdown",
   "metadata": {},
   "source": [
    "<div align=\"center\" style=\"border:solid orange 2px; padding: 5px\"; class=\"alert alert-info\">   \n",
    "<span style=\"color:brown; font-size: 25px\"> <b>Introduction for the project\n",
    "<span align=\"center\"style=\"color:brown; font-size: 15px\"> <br>The commercial department of the telecom Megaline company wants to know which of the plans brings in more revenue in order to adjust the advertising budget.</b>"
   ]
  },
  {
   "cell_type": "markdown",
   "metadata": {},
   "source": [
    "## Step 1. Open the data file and study the general information"
   ]
  },
  {
   "cell_type": "code",
   "execution_count": 3,
   "metadata": {},
   "outputs": [],
   "source": [
    "from IPython.core.interactiveshell import InteractiveShell\n",
    "InteractiveShell.ast_node_interactivity = \"all\"\n",
    "import numpy as np\n",
    "import pandas as pd \n",
    "import matplotlib\n",
    "import sidetable\n",
    "import seaborn as sns\n",
    "import matplotlib.pyplot as plt\n",
    "from datetime import timedelta\n",
    "from dateutil.relativedelta import relativedelta\n",
    "\n",
    "import plotly\n",
    "import os"
   ]
  },
  {
   "cell_type": "code",
   "execution_count": 4,
   "metadata": {},
   "outputs": [],
   "source": [
    "pd.set_option('display.max_rows', 500)\n",
    "pd.set_option('display.max_columns', 500)"
   ]
  },
  {
   "cell_type": "code",
   "execution_count": 5,
   "metadata": {
    "scrolled": false
   },
   "outputs": [
    {
     "name": "stdout",
     "output_type": "stream",
     "text": [
      "                                     calls                                      \n"
     ]
    },
    {
     "data": {
      "text/html": [
       "<div>\n",
       "<style scoped>\n",
       "    .dataframe tbody tr th:only-of-type {\n",
       "        vertical-align: middle;\n",
       "    }\n",
       "\n",
       "    .dataframe tbody tr th {\n",
       "        vertical-align: top;\n",
       "    }\n",
       "\n",
       "    .dataframe thead th {\n",
       "        text-align: right;\n",
       "    }\n",
       "</style>\n",
       "<table border=\"1\" class=\"dataframe\">\n",
       "  <thead>\n",
       "    <tr style=\"text-align: right;\">\n",
       "      <th></th>\n",
       "      <th>id</th>\n",
       "      <th>user_id</th>\n",
       "      <th>call_date</th>\n",
       "      <th>duration</th>\n",
       "    </tr>\n",
       "  </thead>\n",
       "  <tbody>\n",
       "    <tr>\n",
       "      <th>0</th>\n",
       "      <td>1000_93</td>\n",
       "      <td>1000</td>\n",
       "      <td>2018-12-27</td>\n",
       "      <td>8.52</td>\n",
       "    </tr>\n",
       "    <tr>\n",
       "      <th>1</th>\n",
       "      <td>1000_145</td>\n",
       "      <td>1000</td>\n",
       "      <td>2018-12-27</td>\n",
       "      <td>13.66</td>\n",
       "    </tr>\n",
       "    <tr>\n",
       "      <th>2</th>\n",
       "      <td>1000_247</td>\n",
       "      <td>1000</td>\n",
       "      <td>2018-12-27</td>\n",
       "      <td>14.48</td>\n",
       "    </tr>\n",
       "    <tr>\n",
       "      <th>3</th>\n",
       "      <td>1000_309</td>\n",
       "      <td>1000</td>\n",
       "      <td>2018-12-28</td>\n",
       "      <td>5.76</td>\n",
       "    </tr>\n",
       "    <tr>\n",
       "      <th>4</th>\n",
       "      <td>1000_380</td>\n",
       "      <td>1000</td>\n",
       "      <td>2018-12-30</td>\n",
       "      <td>4.22</td>\n",
       "    </tr>\n",
       "  </tbody>\n",
       "</table>\n",
       "</div>"
      ],
      "text/plain": [
       "         id  user_id   call_date  duration\n",
       "0   1000_93     1000  2018-12-27      8.52\n",
       "1  1000_145     1000  2018-12-27     13.66\n",
       "2  1000_247     1000  2018-12-27     14.48\n",
       "3  1000_309     1000  2018-12-28      5.76\n",
       "4  1000_380     1000  2018-12-30      4.22"
      ]
     },
     "execution_count": 5,
     "metadata": {},
     "output_type": "execute_result"
    },
    {
     "data": {
      "text/html": [
       "<div>\n",
       "<style scoped>\n",
       "    .dataframe tbody tr th:only-of-type {\n",
       "        vertical-align: middle;\n",
       "    }\n",
       "\n",
       "    .dataframe tbody tr th {\n",
       "        vertical-align: top;\n",
       "    }\n",
       "\n",
       "    .dataframe thead th {\n",
       "        text-align: right;\n",
       "    }\n",
       "</style>\n",
       "<table border=\"1\" class=\"dataframe\">\n",
       "  <thead>\n",
       "    <tr style=\"text-align: right;\">\n",
       "      <th></th>\n",
       "      <th>id</th>\n",
       "      <th>user_id</th>\n",
       "      <th>call_date</th>\n",
       "      <th>duration</th>\n",
       "    </tr>\n",
       "  </thead>\n",
       "  <tbody>\n",
       "    <tr>\n",
       "      <th>count</th>\n",
       "      <td>137735</td>\n",
       "      <td>137735.000000</td>\n",
       "      <td>137735</td>\n",
       "      <td>137735.000000</td>\n",
       "    </tr>\n",
       "    <tr>\n",
       "      <th>unique</th>\n",
       "      <td>137735</td>\n",
       "      <td>NaN</td>\n",
       "      <td>351</td>\n",
       "      <td>NaN</td>\n",
       "    </tr>\n",
       "    <tr>\n",
       "      <th>top</th>\n",
       "      <td>1000_93</td>\n",
       "      <td>NaN</td>\n",
       "      <td>2018-12-27</td>\n",
       "      <td>NaN</td>\n",
       "    </tr>\n",
       "    <tr>\n",
       "      <th>freq</th>\n",
       "      <td>1</td>\n",
       "      <td>NaN</td>\n",
       "      <td>1091</td>\n",
       "      <td>NaN</td>\n",
       "    </tr>\n",
       "    <tr>\n",
       "      <th>mean</th>\n",
       "      <td>NaN</td>\n",
       "      <td>1247.658046</td>\n",
       "      <td>NaN</td>\n",
       "      <td>6.745927</td>\n",
       "    </tr>\n",
       "    <tr>\n",
       "      <th>std</th>\n",
       "      <td>NaN</td>\n",
       "      <td>139.416268</td>\n",
       "      <td>NaN</td>\n",
       "      <td>5.839241</td>\n",
       "    </tr>\n",
       "    <tr>\n",
       "      <th>min</th>\n",
       "      <td>NaN</td>\n",
       "      <td>1000.000000</td>\n",
       "      <td>NaN</td>\n",
       "      <td>0.000000</td>\n",
       "    </tr>\n",
       "    <tr>\n",
       "      <th>25%</th>\n",
       "      <td>NaN</td>\n",
       "      <td>1128.000000</td>\n",
       "      <td>NaN</td>\n",
       "      <td>1.290000</td>\n",
       "    </tr>\n",
       "    <tr>\n",
       "      <th>50%</th>\n",
       "      <td>NaN</td>\n",
       "      <td>1247.000000</td>\n",
       "      <td>NaN</td>\n",
       "      <td>5.980000</td>\n",
       "    </tr>\n",
       "    <tr>\n",
       "      <th>75%</th>\n",
       "      <td>NaN</td>\n",
       "      <td>1365.000000</td>\n",
       "      <td>NaN</td>\n",
       "      <td>10.690000</td>\n",
       "    </tr>\n",
       "    <tr>\n",
       "      <th>max</th>\n",
       "      <td>NaN</td>\n",
       "      <td>1499.000000</td>\n",
       "      <td>NaN</td>\n",
       "      <td>37.600000</td>\n",
       "    </tr>\n",
       "  </tbody>\n",
       "</table>\n",
       "</div>"
      ],
      "text/plain": [
       "             id        user_id   call_date       duration\n",
       "count    137735  137735.000000      137735  137735.000000\n",
       "unique   137735            NaN         351            NaN\n",
       "top     1000_93            NaN  2018-12-27            NaN\n",
       "freq          1            NaN        1091            NaN\n",
       "mean        NaN    1247.658046         NaN       6.745927\n",
       "std         NaN     139.416268         NaN       5.839241\n",
       "min         NaN    1000.000000         NaN       0.000000\n",
       "25%         NaN    1128.000000         NaN       1.290000\n",
       "50%         NaN    1247.000000         NaN       5.980000\n",
       "75%         NaN    1365.000000         NaN      10.690000\n",
       "max         NaN    1499.000000         NaN      37.600000"
      ]
     },
     "execution_count": 5,
     "metadata": {},
     "output_type": "execute_result"
    },
    {
     "name": "stdout",
     "output_type": "stream",
     "text": [
      "<class 'pandas.core.frame.DataFrame'>\n",
      "RangeIndex: 137735 entries, 0 to 137734\n",
      "Data columns (total 4 columns):\n",
      " #   Column     Non-Null Count   Dtype  \n",
      "---  ------     --------------   -----  \n",
      " 0   id         137735 non-null  object \n",
      " 1   user_id    137735 non-null  int64  \n",
      " 2   call_date  137735 non-null  object \n",
      " 3   duration   137735 non-null  float64\n",
      "dtypes: float64(1), int64(1), object(2)\n",
      "memory usage: 4.2+ MB\n",
      "--------------------------------------------------------------------------------------------\n",
      "                                    internet                                    \n"
     ]
    },
    {
     "data": {
      "text/html": [
       "<div>\n",
       "<style scoped>\n",
       "    .dataframe tbody tr th:only-of-type {\n",
       "        vertical-align: middle;\n",
       "    }\n",
       "\n",
       "    .dataframe tbody tr th {\n",
       "        vertical-align: top;\n",
       "    }\n",
       "\n",
       "    .dataframe thead th {\n",
       "        text-align: right;\n",
       "    }\n",
       "</style>\n",
       "<table border=\"1\" class=\"dataframe\">\n",
       "  <thead>\n",
       "    <tr style=\"text-align: right;\">\n",
       "      <th></th>\n",
       "      <th>id</th>\n",
       "      <th>user_id</th>\n",
       "      <th>session_date</th>\n",
       "      <th>mb_used</th>\n",
       "    </tr>\n",
       "  </thead>\n",
       "  <tbody>\n",
       "    <tr>\n",
       "      <th>0</th>\n",
       "      <td>1000_13</td>\n",
       "      <td>1000</td>\n",
       "      <td>2018-12-29</td>\n",
       "      <td>89.86</td>\n",
       "    </tr>\n",
       "    <tr>\n",
       "      <th>1</th>\n",
       "      <td>1000_204</td>\n",
       "      <td>1000</td>\n",
       "      <td>2018-12-31</td>\n",
       "      <td>0.00</td>\n",
       "    </tr>\n",
       "    <tr>\n",
       "      <th>2</th>\n",
       "      <td>1000_379</td>\n",
       "      <td>1000</td>\n",
       "      <td>2018-12-28</td>\n",
       "      <td>660.40</td>\n",
       "    </tr>\n",
       "    <tr>\n",
       "      <th>3</th>\n",
       "      <td>1000_413</td>\n",
       "      <td>1000</td>\n",
       "      <td>2018-12-26</td>\n",
       "      <td>270.99</td>\n",
       "    </tr>\n",
       "    <tr>\n",
       "      <th>4</th>\n",
       "      <td>1000_442</td>\n",
       "      <td>1000</td>\n",
       "      <td>2018-12-27</td>\n",
       "      <td>880.22</td>\n",
       "    </tr>\n",
       "  </tbody>\n",
       "</table>\n",
       "</div>"
      ],
      "text/plain": [
       "         id  user_id session_date  mb_used\n",
       "0   1000_13     1000   2018-12-29    89.86\n",
       "1  1000_204     1000   2018-12-31     0.00\n",
       "2  1000_379     1000   2018-12-28   660.40\n",
       "3  1000_413     1000   2018-12-26   270.99\n",
       "4  1000_442     1000   2018-12-27   880.22"
      ]
     },
     "execution_count": 5,
     "metadata": {},
     "output_type": "execute_result"
    },
    {
     "data": {
      "text/html": [
       "<div>\n",
       "<style scoped>\n",
       "    .dataframe tbody tr th:only-of-type {\n",
       "        vertical-align: middle;\n",
       "    }\n",
       "\n",
       "    .dataframe tbody tr th {\n",
       "        vertical-align: top;\n",
       "    }\n",
       "\n",
       "    .dataframe thead th {\n",
       "        text-align: right;\n",
       "    }\n",
       "</style>\n",
       "<table border=\"1\" class=\"dataframe\">\n",
       "  <thead>\n",
       "    <tr style=\"text-align: right;\">\n",
       "      <th></th>\n",
       "      <th>id</th>\n",
       "      <th>user_id</th>\n",
       "      <th>session_date</th>\n",
       "      <th>mb_used</th>\n",
       "    </tr>\n",
       "  </thead>\n",
       "  <tbody>\n",
       "    <tr>\n",
       "      <th>count</th>\n",
       "      <td>104825</td>\n",
       "      <td>104825.000000</td>\n",
       "      <td>104825</td>\n",
       "      <td>104825.000000</td>\n",
       "    </tr>\n",
       "    <tr>\n",
       "      <th>unique</th>\n",
       "      <td>104825</td>\n",
       "      <td>NaN</td>\n",
       "      <td>351</td>\n",
       "      <td>NaN</td>\n",
       "    </tr>\n",
       "    <tr>\n",
       "      <th>top</th>\n",
       "      <td>1000_13</td>\n",
       "      <td>NaN</td>\n",
       "      <td>2018-12-24</td>\n",
       "      <td>NaN</td>\n",
       "    </tr>\n",
       "    <tr>\n",
       "      <th>freq</th>\n",
       "      <td>1</td>\n",
       "      <td>NaN</td>\n",
       "      <td>851</td>\n",
       "      <td>NaN</td>\n",
       "    </tr>\n",
       "    <tr>\n",
       "      <th>mean</th>\n",
       "      <td>NaN</td>\n",
       "      <td>1242.496361</td>\n",
       "      <td>NaN</td>\n",
       "      <td>366.713701</td>\n",
       "    </tr>\n",
       "    <tr>\n",
       "      <th>std</th>\n",
       "      <td>NaN</td>\n",
       "      <td>142.053913</td>\n",
       "      <td>NaN</td>\n",
       "      <td>277.170542</td>\n",
       "    </tr>\n",
       "    <tr>\n",
       "      <th>min</th>\n",
       "      <td>NaN</td>\n",
       "      <td>1000.000000</td>\n",
       "      <td>NaN</td>\n",
       "      <td>0.000000</td>\n",
       "    </tr>\n",
       "    <tr>\n",
       "      <th>25%</th>\n",
       "      <td>NaN</td>\n",
       "      <td>1122.000000</td>\n",
       "      <td>NaN</td>\n",
       "      <td>136.080000</td>\n",
       "    </tr>\n",
       "    <tr>\n",
       "      <th>50%</th>\n",
       "      <td>NaN</td>\n",
       "      <td>1236.000000</td>\n",
       "      <td>NaN</td>\n",
       "      <td>343.980000</td>\n",
       "    </tr>\n",
       "    <tr>\n",
       "      <th>75%</th>\n",
       "      <td>NaN</td>\n",
       "      <td>1367.000000</td>\n",
       "      <td>NaN</td>\n",
       "      <td>554.610000</td>\n",
       "    </tr>\n",
       "    <tr>\n",
       "      <th>max</th>\n",
       "      <td>NaN</td>\n",
       "      <td>1499.000000</td>\n",
       "      <td>NaN</td>\n",
       "      <td>1693.470000</td>\n",
       "    </tr>\n",
       "  </tbody>\n",
       "</table>\n",
       "</div>"
      ],
      "text/plain": [
       "             id        user_id session_date        mb_used\n",
       "count    104825  104825.000000       104825  104825.000000\n",
       "unique   104825            NaN          351            NaN\n",
       "top     1000_13            NaN   2018-12-24            NaN\n",
       "freq          1            NaN          851            NaN\n",
       "mean        NaN    1242.496361          NaN     366.713701\n",
       "std         NaN     142.053913          NaN     277.170542\n",
       "min         NaN    1000.000000          NaN       0.000000\n",
       "25%         NaN    1122.000000          NaN     136.080000\n",
       "50%         NaN    1236.000000          NaN     343.980000\n",
       "75%         NaN    1367.000000          NaN     554.610000\n",
       "max         NaN    1499.000000          NaN    1693.470000"
      ]
     },
     "execution_count": 5,
     "metadata": {},
     "output_type": "execute_result"
    },
    {
     "name": "stdout",
     "output_type": "stream",
     "text": [
      "<class 'pandas.core.frame.DataFrame'>\n",
      "RangeIndex: 104825 entries, 0 to 104824\n",
      "Data columns (total 4 columns):\n",
      " #   Column        Non-Null Count   Dtype  \n",
      "---  ------        --------------   -----  \n",
      " 0   id            104825 non-null  object \n",
      " 1   user_id       104825 non-null  int64  \n",
      " 2   session_date  104825 non-null  object \n",
      " 3   mb_used       104825 non-null  float64\n",
      "dtypes: float64(1), int64(1), object(2)\n",
      "memory usage: 3.2+ MB\n",
      "--------------------------------------------------------------------------------------------\n",
      "                                    messages                                    \n"
     ]
    },
    {
     "data": {
      "text/html": [
       "<div>\n",
       "<style scoped>\n",
       "    .dataframe tbody tr th:only-of-type {\n",
       "        vertical-align: middle;\n",
       "    }\n",
       "\n",
       "    .dataframe tbody tr th {\n",
       "        vertical-align: top;\n",
       "    }\n",
       "\n",
       "    .dataframe thead th {\n",
       "        text-align: right;\n",
       "    }\n",
       "</style>\n",
       "<table border=\"1\" class=\"dataframe\">\n",
       "  <thead>\n",
       "    <tr style=\"text-align: right;\">\n",
       "      <th></th>\n",
       "      <th>id</th>\n",
       "      <th>user_id</th>\n",
       "      <th>message_date</th>\n",
       "    </tr>\n",
       "  </thead>\n",
       "  <tbody>\n",
       "    <tr>\n",
       "      <th>0</th>\n",
       "      <td>1000_125</td>\n",
       "      <td>1000</td>\n",
       "      <td>2018-12-27</td>\n",
       "    </tr>\n",
       "    <tr>\n",
       "      <th>1</th>\n",
       "      <td>1000_160</td>\n",
       "      <td>1000</td>\n",
       "      <td>2018-12-31</td>\n",
       "    </tr>\n",
       "    <tr>\n",
       "      <th>2</th>\n",
       "      <td>1000_223</td>\n",
       "      <td>1000</td>\n",
       "      <td>2018-12-31</td>\n",
       "    </tr>\n",
       "    <tr>\n",
       "      <th>3</th>\n",
       "      <td>1000_251</td>\n",
       "      <td>1000</td>\n",
       "      <td>2018-12-27</td>\n",
       "    </tr>\n",
       "    <tr>\n",
       "      <th>4</th>\n",
       "      <td>1000_255</td>\n",
       "      <td>1000</td>\n",
       "      <td>2018-12-26</td>\n",
       "    </tr>\n",
       "  </tbody>\n",
       "</table>\n",
       "</div>"
      ],
      "text/plain": [
       "         id  user_id message_date\n",
       "0  1000_125     1000   2018-12-27\n",
       "1  1000_160     1000   2018-12-31\n",
       "2  1000_223     1000   2018-12-31\n",
       "3  1000_251     1000   2018-12-27\n",
       "4  1000_255     1000   2018-12-26"
      ]
     },
     "execution_count": 5,
     "metadata": {},
     "output_type": "execute_result"
    },
    {
     "data": {
      "text/html": [
       "<div>\n",
       "<style scoped>\n",
       "    .dataframe tbody tr th:only-of-type {\n",
       "        vertical-align: middle;\n",
       "    }\n",
       "\n",
       "    .dataframe tbody tr th {\n",
       "        vertical-align: top;\n",
       "    }\n",
       "\n",
       "    .dataframe thead th {\n",
       "        text-align: right;\n",
       "    }\n",
       "</style>\n",
       "<table border=\"1\" class=\"dataframe\">\n",
       "  <thead>\n",
       "    <tr style=\"text-align: right;\">\n",
       "      <th></th>\n",
       "      <th>id</th>\n",
       "      <th>user_id</th>\n",
       "      <th>message_date</th>\n",
       "    </tr>\n",
       "  </thead>\n",
       "  <tbody>\n",
       "    <tr>\n",
       "      <th>count</th>\n",
       "      <td>76051</td>\n",
       "      <td>76051.000000</td>\n",
       "      <td>76051</td>\n",
       "    </tr>\n",
       "    <tr>\n",
       "      <th>unique</th>\n",
       "      <td>76051</td>\n",
       "      <td>NaN</td>\n",
       "      <td>351</td>\n",
       "    </tr>\n",
       "    <tr>\n",
       "      <th>top</th>\n",
       "      <td>1000_125</td>\n",
       "      <td>NaN</td>\n",
       "      <td>2018-12-28</td>\n",
       "    </tr>\n",
       "    <tr>\n",
       "      <th>freq</th>\n",
       "      <td>1</td>\n",
       "      <td>NaN</td>\n",
       "      <td>702</td>\n",
       "    </tr>\n",
       "    <tr>\n",
       "      <th>mean</th>\n",
       "      <td>NaN</td>\n",
       "      <td>1245.972768</td>\n",
       "      <td>NaN</td>\n",
       "    </tr>\n",
       "    <tr>\n",
       "      <th>std</th>\n",
       "      <td>NaN</td>\n",
       "      <td>139.843635</td>\n",
       "      <td>NaN</td>\n",
       "    </tr>\n",
       "    <tr>\n",
       "      <th>min</th>\n",
       "      <td>NaN</td>\n",
       "      <td>1000.000000</td>\n",
       "      <td>NaN</td>\n",
       "    </tr>\n",
       "    <tr>\n",
       "      <th>25%</th>\n",
       "      <td>NaN</td>\n",
       "      <td>1123.000000</td>\n",
       "      <td>NaN</td>\n",
       "    </tr>\n",
       "    <tr>\n",
       "      <th>50%</th>\n",
       "      <td>NaN</td>\n",
       "      <td>1251.000000</td>\n",
       "      <td>NaN</td>\n",
       "    </tr>\n",
       "    <tr>\n",
       "      <th>75%</th>\n",
       "      <td>NaN</td>\n",
       "      <td>1362.000000</td>\n",
       "      <td>NaN</td>\n",
       "    </tr>\n",
       "    <tr>\n",
       "      <th>max</th>\n",
       "      <td>NaN</td>\n",
       "      <td>1497.000000</td>\n",
       "      <td>NaN</td>\n",
       "    </tr>\n",
       "  </tbody>\n",
       "</table>\n",
       "</div>"
      ],
      "text/plain": [
       "              id       user_id message_date\n",
       "count      76051  76051.000000        76051\n",
       "unique     76051           NaN          351\n",
       "top     1000_125           NaN   2018-12-28\n",
       "freq           1           NaN          702\n",
       "mean         NaN   1245.972768          NaN\n",
       "std          NaN    139.843635          NaN\n",
       "min          NaN   1000.000000          NaN\n",
       "25%          NaN   1123.000000          NaN\n",
       "50%          NaN   1251.000000          NaN\n",
       "75%          NaN   1362.000000          NaN\n",
       "max          NaN   1497.000000          NaN"
      ]
     },
     "execution_count": 5,
     "metadata": {},
     "output_type": "execute_result"
    },
    {
     "name": "stdout",
     "output_type": "stream",
     "text": [
      "<class 'pandas.core.frame.DataFrame'>\n",
      "RangeIndex: 76051 entries, 0 to 76050\n",
      "Data columns (total 3 columns):\n",
      " #   Column        Non-Null Count  Dtype \n",
      "---  ------        --------------  ----- \n",
      " 0   id            76051 non-null  object\n",
      " 1   user_id       76051 non-null  int64 \n",
      " 2   message_date  76051 non-null  object\n",
      "dtypes: int64(1), object(2)\n",
      "memory usage: 1.7+ MB\n",
      "--------------------------------------------------------------------------------------------\n",
      "                                     users                                      \n"
     ]
    },
    {
     "data": {
      "text/html": [
       "<div>\n",
       "<style scoped>\n",
       "    .dataframe tbody tr th:only-of-type {\n",
       "        vertical-align: middle;\n",
       "    }\n",
       "\n",
       "    .dataframe tbody tr th {\n",
       "        vertical-align: top;\n",
       "    }\n",
       "\n",
       "    .dataframe thead th {\n",
       "        text-align: right;\n",
       "    }\n",
       "</style>\n",
       "<table border=\"1\" class=\"dataframe\">\n",
       "  <thead>\n",
       "    <tr style=\"text-align: right;\">\n",
       "      <th></th>\n",
       "      <th>user_id</th>\n",
       "      <th>first_name</th>\n",
       "      <th>last_name</th>\n",
       "      <th>age</th>\n",
       "      <th>city</th>\n",
       "      <th>reg_date</th>\n",
       "      <th>plan</th>\n",
       "      <th>churn_date</th>\n",
       "    </tr>\n",
       "  </thead>\n",
       "  <tbody>\n",
       "    <tr>\n",
       "      <th>0</th>\n",
       "      <td>1000</td>\n",
       "      <td>Anamaria</td>\n",
       "      <td>Bauer</td>\n",
       "      <td>45</td>\n",
       "      <td>Atlanta-Sandy Springs-Roswell, GA MSA</td>\n",
       "      <td>2018-12-24</td>\n",
       "      <td>ultimate</td>\n",
       "      <td>NaN</td>\n",
       "    </tr>\n",
       "    <tr>\n",
       "      <th>1</th>\n",
       "      <td>1001</td>\n",
       "      <td>Mickey</td>\n",
       "      <td>Wilkerson</td>\n",
       "      <td>28</td>\n",
       "      <td>Seattle-Tacoma-Bellevue, WA MSA</td>\n",
       "      <td>2018-08-13</td>\n",
       "      <td>surf</td>\n",
       "      <td>NaN</td>\n",
       "    </tr>\n",
       "    <tr>\n",
       "      <th>2</th>\n",
       "      <td>1002</td>\n",
       "      <td>Carlee</td>\n",
       "      <td>Hoffman</td>\n",
       "      <td>36</td>\n",
       "      <td>Las Vegas-Henderson-Paradise, NV MSA</td>\n",
       "      <td>2018-10-21</td>\n",
       "      <td>surf</td>\n",
       "      <td>NaN</td>\n",
       "    </tr>\n",
       "    <tr>\n",
       "      <th>3</th>\n",
       "      <td>1003</td>\n",
       "      <td>Reynaldo</td>\n",
       "      <td>Jenkins</td>\n",
       "      <td>52</td>\n",
       "      <td>Tulsa, OK MSA</td>\n",
       "      <td>2018-01-28</td>\n",
       "      <td>surf</td>\n",
       "      <td>NaN</td>\n",
       "    </tr>\n",
       "    <tr>\n",
       "      <th>4</th>\n",
       "      <td>1004</td>\n",
       "      <td>Leonila</td>\n",
       "      <td>Thompson</td>\n",
       "      <td>40</td>\n",
       "      <td>Seattle-Tacoma-Bellevue, WA MSA</td>\n",
       "      <td>2018-05-23</td>\n",
       "      <td>surf</td>\n",
       "      <td>NaN</td>\n",
       "    </tr>\n",
       "  </tbody>\n",
       "</table>\n",
       "</div>"
      ],
      "text/plain": [
       "   user_id first_name  last_name  age                                   city  \\\n",
       "0     1000   Anamaria      Bauer   45  Atlanta-Sandy Springs-Roswell, GA MSA   \n",
       "1     1001     Mickey  Wilkerson   28        Seattle-Tacoma-Bellevue, WA MSA   \n",
       "2     1002     Carlee    Hoffman   36   Las Vegas-Henderson-Paradise, NV MSA   \n",
       "3     1003   Reynaldo    Jenkins   52                          Tulsa, OK MSA   \n",
       "4     1004    Leonila   Thompson   40        Seattle-Tacoma-Bellevue, WA MSA   \n",
       "\n",
       "     reg_date      plan churn_date  \n",
       "0  2018-12-24  ultimate        NaN  \n",
       "1  2018-08-13      surf        NaN  \n",
       "2  2018-10-21      surf        NaN  \n",
       "3  2018-01-28      surf        NaN  \n",
       "4  2018-05-23      surf        NaN  "
      ]
     },
     "execution_count": 5,
     "metadata": {},
     "output_type": "execute_result"
    },
    {
     "data": {
      "text/html": [
       "<div>\n",
       "<style scoped>\n",
       "    .dataframe tbody tr th:only-of-type {\n",
       "        vertical-align: middle;\n",
       "    }\n",
       "\n",
       "    .dataframe tbody tr th {\n",
       "        vertical-align: top;\n",
       "    }\n",
       "\n",
       "    .dataframe thead th {\n",
       "        text-align: right;\n",
       "    }\n",
       "</style>\n",
       "<table border=\"1\" class=\"dataframe\">\n",
       "  <thead>\n",
       "    <tr style=\"text-align: right;\">\n",
       "      <th></th>\n",
       "      <th>user_id</th>\n",
       "      <th>first_name</th>\n",
       "      <th>last_name</th>\n",
       "      <th>age</th>\n",
       "      <th>city</th>\n",
       "      <th>reg_date</th>\n",
       "      <th>plan</th>\n",
       "      <th>churn_date</th>\n",
       "    </tr>\n",
       "  </thead>\n",
       "  <tbody>\n",
       "    <tr>\n",
       "      <th>count</th>\n",
       "      <td>500.000000</td>\n",
       "      <td>500</td>\n",
       "      <td>500</td>\n",
       "      <td>500.000000</td>\n",
       "      <td>500</td>\n",
       "      <td>500</td>\n",
       "      <td>500</td>\n",
       "      <td>34</td>\n",
       "    </tr>\n",
       "    <tr>\n",
       "      <th>unique</th>\n",
       "      <td>NaN</td>\n",
       "      <td>458</td>\n",
       "      <td>399</td>\n",
       "      <td>NaN</td>\n",
       "      <td>73</td>\n",
       "      <td>266</td>\n",
       "      <td>2</td>\n",
       "      <td>29</td>\n",
       "    </tr>\n",
       "    <tr>\n",
       "      <th>top</th>\n",
       "      <td>NaN</td>\n",
       "      <td>Leonila</td>\n",
       "      <td>David</td>\n",
       "      <td>NaN</td>\n",
       "      <td>New York-Newark-Jersey City, NY-NJ-PA MSA</td>\n",
       "      <td>2018-03-08</td>\n",
       "      <td>surf</td>\n",
       "      <td>2018-12-18</td>\n",
       "    </tr>\n",
       "    <tr>\n",
       "      <th>freq</th>\n",
       "      <td>NaN</td>\n",
       "      <td>3</td>\n",
       "      <td>3</td>\n",
       "      <td>NaN</td>\n",
       "      <td>80</td>\n",
       "      <td>5</td>\n",
       "      <td>339</td>\n",
       "      <td>3</td>\n",
       "    </tr>\n",
       "    <tr>\n",
       "      <th>mean</th>\n",
       "      <td>1249.500000</td>\n",
       "      <td>NaN</td>\n",
       "      <td>NaN</td>\n",
       "      <td>45.486000</td>\n",
       "      <td>NaN</td>\n",
       "      <td>NaN</td>\n",
       "      <td>NaN</td>\n",
       "      <td>NaN</td>\n",
       "    </tr>\n",
       "    <tr>\n",
       "      <th>std</th>\n",
       "      <td>144.481833</td>\n",
       "      <td>NaN</td>\n",
       "      <td>NaN</td>\n",
       "      <td>16.972269</td>\n",
       "      <td>NaN</td>\n",
       "      <td>NaN</td>\n",
       "      <td>NaN</td>\n",
       "      <td>NaN</td>\n",
       "    </tr>\n",
       "    <tr>\n",
       "      <th>min</th>\n",
       "      <td>1000.000000</td>\n",
       "      <td>NaN</td>\n",
       "      <td>NaN</td>\n",
       "      <td>18.000000</td>\n",
       "      <td>NaN</td>\n",
       "      <td>NaN</td>\n",
       "      <td>NaN</td>\n",
       "      <td>NaN</td>\n",
       "    </tr>\n",
       "    <tr>\n",
       "      <th>25%</th>\n",
       "      <td>1124.750000</td>\n",
       "      <td>NaN</td>\n",
       "      <td>NaN</td>\n",
       "      <td>30.000000</td>\n",
       "      <td>NaN</td>\n",
       "      <td>NaN</td>\n",
       "      <td>NaN</td>\n",
       "      <td>NaN</td>\n",
       "    </tr>\n",
       "    <tr>\n",
       "      <th>50%</th>\n",
       "      <td>1249.500000</td>\n",
       "      <td>NaN</td>\n",
       "      <td>NaN</td>\n",
       "      <td>46.000000</td>\n",
       "      <td>NaN</td>\n",
       "      <td>NaN</td>\n",
       "      <td>NaN</td>\n",
       "      <td>NaN</td>\n",
       "    </tr>\n",
       "    <tr>\n",
       "      <th>75%</th>\n",
       "      <td>1374.250000</td>\n",
       "      <td>NaN</td>\n",
       "      <td>NaN</td>\n",
       "      <td>61.000000</td>\n",
       "      <td>NaN</td>\n",
       "      <td>NaN</td>\n",
       "      <td>NaN</td>\n",
       "      <td>NaN</td>\n",
       "    </tr>\n",
       "    <tr>\n",
       "      <th>max</th>\n",
       "      <td>1499.000000</td>\n",
       "      <td>NaN</td>\n",
       "      <td>NaN</td>\n",
       "      <td>75.000000</td>\n",
       "      <td>NaN</td>\n",
       "      <td>NaN</td>\n",
       "      <td>NaN</td>\n",
       "      <td>NaN</td>\n",
       "    </tr>\n",
       "  </tbody>\n",
       "</table>\n",
       "</div>"
      ],
      "text/plain": [
       "            user_id first_name last_name         age  \\\n",
       "count    500.000000        500       500  500.000000   \n",
       "unique          NaN        458       399         NaN   \n",
       "top             NaN    Leonila     David         NaN   \n",
       "freq            NaN          3         3         NaN   \n",
       "mean    1249.500000        NaN       NaN   45.486000   \n",
       "std      144.481833        NaN       NaN   16.972269   \n",
       "min     1000.000000        NaN       NaN   18.000000   \n",
       "25%     1124.750000        NaN       NaN   30.000000   \n",
       "50%     1249.500000        NaN       NaN   46.000000   \n",
       "75%     1374.250000        NaN       NaN   61.000000   \n",
       "max     1499.000000        NaN       NaN   75.000000   \n",
       "\n",
       "                                             city    reg_date  plan  \\\n",
       "count                                         500         500   500   \n",
       "unique                                         73         266     2   \n",
       "top     New York-Newark-Jersey City, NY-NJ-PA MSA  2018-03-08  surf   \n",
       "freq                                           80           5   339   \n",
       "mean                                          NaN         NaN   NaN   \n",
       "std                                           NaN         NaN   NaN   \n",
       "min                                           NaN         NaN   NaN   \n",
       "25%                                           NaN         NaN   NaN   \n",
       "50%                                           NaN         NaN   NaN   \n",
       "75%                                           NaN         NaN   NaN   \n",
       "max                                           NaN         NaN   NaN   \n",
       "\n",
       "        churn_date  \n",
       "count           34  \n",
       "unique          29  \n",
       "top     2018-12-18  \n",
       "freq             3  \n",
       "mean           NaN  \n",
       "std            NaN  \n",
       "min            NaN  \n",
       "25%            NaN  \n",
       "50%            NaN  \n",
       "75%            NaN  \n",
       "max            NaN  "
      ]
     },
     "execution_count": 5,
     "metadata": {},
     "output_type": "execute_result"
    },
    {
     "name": "stdout",
     "output_type": "stream",
     "text": [
      "<class 'pandas.core.frame.DataFrame'>\n",
      "RangeIndex: 500 entries, 0 to 499\n",
      "Data columns (total 8 columns):\n",
      " #   Column      Non-Null Count  Dtype \n",
      "---  ------      --------------  ----- \n",
      " 0   user_id     500 non-null    int64 \n",
      " 1   first_name  500 non-null    object\n",
      " 2   last_name   500 non-null    object\n",
      " 3   age         500 non-null    int64 \n",
      " 4   city        500 non-null    object\n",
      " 5   reg_date    500 non-null    object\n",
      " 6   plan        500 non-null    object\n",
      " 7   churn_date  34 non-null     object\n",
      "dtypes: int64(2), object(6)\n",
      "memory usage: 31.4+ KB\n",
      "--------------------------------------------------------------------------------------------\n",
      "                                     plans                                      \n"
     ]
    },
    {
     "data": {
      "text/html": [
       "<div>\n",
       "<style scoped>\n",
       "    .dataframe tbody tr th:only-of-type {\n",
       "        vertical-align: middle;\n",
       "    }\n",
       "\n",
       "    .dataframe tbody tr th {\n",
       "        vertical-align: top;\n",
       "    }\n",
       "\n",
       "    .dataframe thead th {\n",
       "        text-align: right;\n",
       "    }\n",
       "</style>\n",
       "<table border=\"1\" class=\"dataframe\">\n",
       "  <thead>\n",
       "    <tr style=\"text-align: right;\">\n",
       "      <th></th>\n",
       "      <th>messages_included</th>\n",
       "      <th>mb_per_month_included</th>\n",
       "      <th>minutes_included</th>\n",
       "      <th>usd_monthly_pay</th>\n",
       "      <th>usd_per_gb</th>\n",
       "      <th>usd_per_message</th>\n",
       "      <th>usd_per_minute</th>\n",
       "      <th>plan_name</th>\n",
       "    </tr>\n",
       "  </thead>\n",
       "  <tbody>\n",
       "    <tr>\n",
       "      <th>0</th>\n",
       "      <td>50</td>\n",
       "      <td>15360</td>\n",
       "      <td>500</td>\n",
       "      <td>20</td>\n",
       "      <td>10</td>\n",
       "      <td>0.03</td>\n",
       "      <td>0.03</td>\n",
       "      <td>surf</td>\n",
       "    </tr>\n",
       "    <tr>\n",
       "      <th>1</th>\n",
       "      <td>1000</td>\n",
       "      <td>30720</td>\n",
       "      <td>3000</td>\n",
       "      <td>70</td>\n",
       "      <td>7</td>\n",
       "      <td>0.01</td>\n",
       "      <td>0.01</td>\n",
       "      <td>ultimate</td>\n",
       "    </tr>\n",
       "  </tbody>\n",
       "</table>\n",
       "</div>"
      ],
      "text/plain": [
       "   messages_included  mb_per_month_included  minutes_included  \\\n",
       "0                 50                  15360               500   \n",
       "1               1000                  30720              3000   \n",
       "\n",
       "   usd_monthly_pay  usd_per_gb  usd_per_message  usd_per_minute plan_name  \n",
       "0               20          10             0.03            0.03      surf  \n",
       "1               70           7             0.01            0.01  ultimate  "
      ]
     },
     "execution_count": 5,
     "metadata": {},
     "output_type": "execute_result"
    }
   ],
   "source": [
    "# Load the data file into a DataFrame\n",
    "megaline_calls = pd.read_csv('/datasets/megaline_calls.csv')\n",
    "megaline_internet = pd.read_csv('/datasets/megaline_internet.csv')\n",
    "megaline_messages = pd.read_csv('/datasets/megaline_messages.csv')\n",
    "megaline_plans = pd.read_csv('/datasets/megaline_plans.csv')\n",
    "megaline_users = pd.read_csv('/datasets/megaline_users.csv')\n",
    "print('calls'.center(80, \" \"))\n",
    "megaline_calls.head()\n",
    "megaline_calls.describe(include='all')\n",
    "megaline_calls.info()\n",
    "print('--------------------------------------------------------------------------------------------')\n",
    "print('internet'.center(80, \" \"))\n",
    "megaline_internet.head()\n",
    "megaline_internet.describe(include='all')\n",
    "megaline_internet.info()\n",
    "print('--------------------------------------------------------------------------------------------')\n",
    "print('messages'.center(80, \" \"))\n",
    "megaline_messages.head()\n",
    "megaline_messages.describe(include='all')\n",
    "megaline_messages.info()\n",
    "print('--------------------------------------------------------------------------------------------')\n",
    "print('users'.center(80, \" \"))\n",
    "megaline_users.head()\n",
    "megaline_users.describe(include='all')\n",
    "megaline_users.info()\n",
    "print('--------------------------------------------------------------------------------------------')\n",
    "print('plans'.center(80, \" \"))\n",
    "megaline_plans"
   ]
  },
  {
   "cell_type": "markdown",
   "metadata": {},
   "source": [
    "## Step 2. Prepare the data"
   ]
  },
  {
   "cell_type": "markdown",
   "metadata": {},
   "source": [
    "<div style=\"border:solid orange 2px; padding: 5px\"; class=\"alert alert-info\">   \n",
    "<span style=\"color:brown; font-size: 15px\"> <b>convert dates types columns in all the set</b>"
   ]
  },
  {
   "cell_type": "code",
   "execution_count": 6,
   "metadata": {},
   "outputs": [],
   "source": [
    "megaline_users.churn_date=pd.to_datetime(megaline_users.churn_date)\n",
    "megaline_users.reg_date=pd.to_datetime(megaline_users.reg_date)\n",
    "megaline_messages.message_date=pd.to_datetime(megaline_messages.message_date)\n",
    "megaline_internet.session_date=pd.to_datetime(megaline_internet.session_date)\n",
    "megaline_calls.call_date=pd.to_datetime(megaline_calls.call_date)"
   ]
  },
  {
   "cell_type": "code",
   "execution_count": 7,
   "metadata": {},
   "outputs": [
    {
     "name": "stdout",
     "output_type": "stream",
     "text": [
      "<class 'pandas.core.frame.DataFrame'>\n",
      "RangeIndex: 500 entries, 0 to 499\n",
      "Data columns (total 8 columns):\n",
      " #   Column      Non-Null Count  Dtype         \n",
      "---  ------      --------------  -----         \n",
      " 0   user_id     500 non-null    int64         \n",
      " 1   first_name  500 non-null    object        \n",
      " 2   last_name   500 non-null    object        \n",
      " 3   age         500 non-null    int64         \n",
      " 4   city        500 non-null    object        \n",
      " 5   reg_date    500 non-null    datetime64[ns]\n",
      " 6   plan        500 non-null    object        \n",
      " 7   churn_date  34 non-null     datetime64[ns]\n",
      "dtypes: datetime64[ns](2), int64(2), object(4)\n",
      "memory usage: 31.4+ KB\n",
      "<class 'pandas.core.frame.DataFrame'>\n",
      "RangeIndex: 76051 entries, 0 to 76050\n",
      "Data columns (total 3 columns):\n",
      " #   Column        Non-Null Count  Dtype         \n",
      "---  ------        --------------  -----         \n",
      " 0   id            76051 non-null  object        \n",
      " 1   user_id       76051 non-null  int64         \n",
      " 2   message_date  76051 non-null  datetime64[ns]\n",
      "dtypes: datetime64[ns](1), int64(1), object(1)\n",
      "memory usage: 1.7+ MB\n",
      "<class 'pandas.core.frame.DataFrame'>\n",
      "RangeIndex: 104825 entries, 0 to 104824\n",
      "Data columns (total 4 columns):\n",
      " #   Column        Non-Null Count   Dtype         \n",
      "---  ------        --------------   -----         \n",
      " 0   id            104825 non-null  object        \n",
      " 1   user_id       104825 non-null  int64         \n",
      " 2   session_date  104825 non-null  datetime64[ns]\n",
      " 3   mb_used       104825 non-null  float64       \n",
      "dtypes: datetime64[ns](1), float64(1), int64(1), object(1)\n",
      "memory usage: 3.2+ MB\n",
      "<class 'pandas.core.frame.DataFrame'>\n",
      "RangeIndex: 137735 entries, 0 to 137734\n",
      "Data columns (total 4 columns):\n",
      " #   Column     Non-Null Count   Dtype         \n",
      "---  ------     --------------   -----         \n",
      " 0   id         137735 non-null  object        \n",
      " 1   user_id    137735 non-null  int64         \n",
      " 2   call_date  137735 non-null  datetime64[ns]\n",
      " 3   duration   137735 non-null  float64       \n",
      "dtypes: datetime64[ns](1), float64(1), int64(1), object(1)\n",
      "memory usage: 4.2+ MB\n"
     ]
    }
   ],
   "source": [
    "megaline_users.info()\n",
    "megaline_messages.info()\n",
    "megaline_internet.info()\n",
    "megaline_calls.info()"
   ]
  },
  {
   "cell_type": "markdown",
   "metadata": {},
   "source": [
    "### megaline_users\n",
    "<div align=\"center\" style=\"border:solid red 2px; padding: 5px\"; class=\"alert alert-info\">   \n",
    "<span style=\"color:green; font-size: 25px;\"> <b>megaline_users:</b>   "
   ]
  },
  {
   "cell_type": "markdown",
   "metadata": {},
   "source": [
    "<div style=\"border:solid orange 2px; padding: 5px\"; class=\"alert alert-info\">   \n",
    "<span style=\"color:brown; font-size: 15px\"> <b>number of the users</b>"
   ]
  },
  {
   "cell_type": "code",
   "execution_count": 8,
   "metadata": {},
   "outputs": [
    {
     "data": {
      "text/plain": [
       "500"
      ]
     },
     "execution_count": 8,
     "metadata": {},
     "output_type": "execute_result"
    },
    {
     "data": {
      "text/html": [
       "<div>\n",
       "<style scoped>\n",
       "    .dataframe tbody tr th:only-of-type {\n",
       "        vertical-align: middle;\n",
       "    }\n",
       "\n",
       "    .dataframe tbody tr th {\n",
       "        vertical-align: top;\n",
       "    }\n",
       "\n",
       "    .dataframe thead th {\n",
       "        text-align: right;\n",
       "    }\n",
       "</style>\n",
       "<table border=\"1\" class=\"dataframe\">\n",
       "  <thead>\n",
       "    <tr style=\"text-align: right;\">\n",
       "      <th></th>\n",
       "      <th>user_id</th>\n",
       "      <th>first_name</th>\n",
       "      <th>last_name</th>\n",
       "      <th>age</th>\n",
       "      <th>city</th>\n",
       "      <th>reg_date</th>\n",
       "      <th>plan</th>\n",
       "      <th>churn_date</th>\n",
       "    </tr>\n",
       "  </thead>\n",
       "  <tbody>\n",
       "    <tr>\n",
       "      <th>0</th>\n",
       "      <td>1000</td>\n",
       "      <td>Anamaria</td>\n",
       "      <td>Bauer</td>\n",
       "      <td>45</td>\n",
       "      <td>Atlanta-Sandy Springs-Roswell, GA MSA</td>\n",
       "      <td>2018-12-24</td>\n",
       "      <td>ultimate</td>\n",
       "      <td>NaT</td>\n",
       "    </tr>\n",
       "    <tr>\n",
       "      <th>1</th>\n",
       "      <td>1001</td>\n",
       "      <td>Mickey</td>\n",
       "      <td>Wilkerson</td>\n",
       "      <td>28</td>\n",
       "      <td>Seattle-Tacoma-Bellevue, WA MSA</td>\n",
       "      <td>2018-08-13</td>\n",
       "      <td>surf</td>\n",
       "      <td>NaT</td>\n",
       "    </tr>\n",
       "    <tr>\n",
       "      <th>2</th>\n",
       "      <td>1002</td>\n",
       "      <td>Carlee</td>\n",
       "      <td>Hoffman</td>\n",
       "      <td>36</td>\n",
       "      <td>Las Vegas-Henderson-Paradise, NV MSA</td>\n",
       "      <td>2018-10-21</td>\n",
       "      <td>surf</td>\n",
       "      <td>NaT</td>\n",
       "    </tr>\n",
       "    <tr>\n",
       "      <th>3</th>\n",
       "      <td>1003</td>\n",
       "      <td>Reynaldo</td>\n",
       "      <td>Jenkins</td>\n",
       "      <td>52</td>\n",
       "      <td>Tulsa, OK MSA</td>\n",
       "      <td>2018-01-28</td>\n",
       "      <td>surf</td>\n",
       "      <td>NaT</td>\n",
       "    </tr>\n",
       "    <tr>\n",
       "      <th>4</th>\n",
       "      <td>1004</td>\n",
       "      <td>Leonila</td>\n",
       "      <td>Thompson</td>\n",
       "      <td>40</td>\n",
       "      <td>Seattle-Tacoma-Bellevue, WA MSA</td>\n",
       "      <td>2018-05-23</td>\n",
       "      <td>surf</td>\n",
       "      <td>NaT</td>\n",
       "    </tr>\n",
       "  </tbody>\n",
       "</table>\n",
       "</div>"
      ],
      "text/plain": [
       "   user_id first_name  last_name  age                                   city  \\\n",
       "0     1000   Anamaria      Bauer   45  Atlanta-Sandy Springs-Roswell, GA MSA   \n",
       "1     1001     Mickey  Wilkerson   28        Seattle-Tacoma-Bellevue, WA MSA   \n",
       "2     1002     Carlee    Hoffman   36   Las Vegas-Henderson-Paradise, NV MSA   \n",
       "3     1003   Reynaldo    Jenkins   52                          Tulsa, OK MSA   \n",
       "4     1004    Leonila   Thompson   40        Seattle-Tacoma-Bellevue, WA MSA   \n",
       "\n",
       "    reg_date      plan churn_date  \n",
       "0 2018-12-24  ultimate        NaT  \n",
       "1 2018-08-13      surf        NaT  \n",
       "2 2018-10-21      surf        NaT  \n",
       "3 2018-01-28      surf        NaT  \n",
       "4 2018-05-23      surf        NaT  "
      ]
     },
     "execution_count": 8,
     "metadata": {},
     "output_type": "execute_result"
    }
   ],
   "source": [
    "megaline_users.user_id.nunique()\n",
    "megaline_users.head()"
   ]
  },
  {
   "cell_type": "markdown",
   "metadata": {},
   "source": [
    "<div style=\"border:solid orange 2px; padding: 5px\"; class=\"alert alert-info\">   \n",
    "<span style=\"color:brown; font-size: 15px\"> <b>creating full_name column and change columns order</b>"
   ]
  },
  {
   "cell_type": "code",
   "execution_count": 7,
   "metadata": {},
   "outputs": [],
   "source": [
    "megaline_users['full_name']=megaline_users.first_name + \" \" + megaline_users.last_name\n",
    "megaline_users=megaline_users[[\"user_id\",\"full_name\",\"age\",\"city\",\"reg_date\",\"churn_date\",\"plan\"]]"
   ]
  },
  {
   "cell_type": "code",
   "execution_count": 8,
   "metadata": {},
   "outputs": [
    {
     "data": {
      "text/plain": [
       "500"
      ]
     },
     "execution_count": 8,
     "metadata": {},
     "output_type": "execute_result"
    }
   ],
   "source": [
    "megaline_users.full_name.nunique()"
   ]
  },
  {
   "cell_type": "markdown",
   "metadata": {},
   "source": [
    "<div style=\"border:solid orange 2px; padding: 5px\"; class=\"alert alert-info\">   \n",
    "<span style=\"color:brown; font-size: 15px\"> <b>there is no same user names</b>"
   ]
  },
  {
   "cell_type": "code",
   "execution_count": 9,
   "metadata": {},
   "outputs": [
    {
     "data": {
      "text/plain": [
       "0.932"
      ]
     },
     "execution_count": 9,
     "metadata": {},
     "output_type": "execute_result"
    }
   ],
   "source": [
    "len(megaline_users[megaline_users.churn_date.isnull()])/len(megaline_users)"
   ]
  },
  {
   "cell_type": "markdown",
   "metadata": {},
   "source": [
    "#### 93.2%\n",
    "<div style=\"border:solid orange 2px; padding: 5px\"; class=\"alert alert-danger\">   \n",
    "<span style=\"color:green; font-size: 15px\"> <b>megaline_users.churn_date: has a huge amount of missing values 93.2% <br>\n",
    "    (if the value is missing, the calling plan was being used when this data was retrieved)<br>\n",
    "    so I suppose that the date when the data was retrieved is the last date in the column, which I will fill in the missing values</b>"
   ]
  },
  {
   "cell_type": "markdown",
   "metadata": {},
   "source": [
    "<div style=\"border:solid orange 2px; padding: 5px\"; class=\"alert alert-info\">   \n",
    "<span style=\"color:brown; font-size: 15px\"> <b>filling missing values with the last date in churn_date</b>"
   ]
  },
  {
   "cell_type": "code",
   "execution_count": 10,
   "metadata": {},
   "outputs": [
    {
     "data": {
      "text/plain": [
       "False    500\n",
       "Name: churn_date, dtype: int64"
      ]
     },
     "execution_count": 10,
     "metadata": {},
     "output_type": "execute_result"
    }
   ],
   "source": [
    "megaline_users.churn_date.fillna(0,inplace=True)\n",
    "megaline_users.churn_date.isnull().value_counts()"
   ]
  },
  {
   "cell_type": "markdown",
   "metadata": {},
   "source": [
    "### megaline_calls\n",
    "<div align=\"center\" style=\"border:solid red 2px; padding: 5px\"; class=\"alert alert-info\">   \n",
    "<span style=\"color:green; font-size: 25px\"> <b>megaline_calls:</b>"
   ]
  },
  {
   "cell_type": "code",
   "execution_count": 11,
   "metadata": {},
   "outputs": [
    {
     "data": {
      "text/plain": [
       "481"
      ]
     },
     "execution_count": 11,
     "metadata": {},
     "output_type": "execute_result"
    },
    {
     "data": {
      "text/html": [
       "<div>\n",
       "<style scoped>\n",
       "    .dataframe tbody tr th:only-of-type {\n",
       "        vertical-align: middle;\n",
       "    }\n",
       "\n",
       "    .dataframe tbody tr th {\n",
       "        vertical-align: top;\n",
       "    }\n",
       "\n",
       "    .dataframe thead th {\n",
       "        text-align: right;\n",
       "    }\n",
       "</style>\n",
       "<table border=\"1\" class=\"dataframe\">\n",
       "  <thead>\n",
       "    <tr style=\"text-align: right;\">\n",
       "      <th></th>\n",
       "      <th>id</th>\n",
       "      <th>user_id</th>\n",
       "      <th>call_date</th>\n",
       "      <th>duration</th>\n",
       "    </tr>\n",
       "  </thead>\n",
       "  <tbody>\n",
       "    <tr>\n",
       "      <td>0</td>\n",
       "      <td>1000_93</td>\n",
       "      <td>1000</td>\n",
       "      <td>2018-12-27</td>\n",
       "      <td>8.52</td>\n",
       "    </tr>\n",
       "    <tr>\n",
       "      <td>1</td>\n",
       "      <td>1000_145</td>\n",
       "      <td>1000</td>\n",
       "      <td>2018-12-27</td>\n",
       "      <td>13.66</td>\n",
       "    </tr>\n",
       "    <tr>\n",
       "      <td>2</td>\n",
       "      <td>1000_247</td>\n",
       "      <td>1000</td>\n",
       "      <td>2018-12-27</td>\n",
       "      <td>14.48</td>\n",
       "    </tr>\n",
       "    <tr>\n",
       "      <td>3</td>\n",
       "      <td>1000_309</td>\n",
       "      <td>1000</td>\n",
       "      <td>2018-12-28</td>\n",
       "      <td>5.76</td>\n",
       "    </tr>\n",
       "    <tr>\n",
       "      <td>4</td>\n",
       "      <td>1000_380</td>\n",
       "      <td>1000</td>\n",
       "      <td>2018-12-30</td>\n",
       "      <td>4.22</td>\n",
       "    </tr>\n",
       "  </tbody>\n",
       "</table>\n",
       "</div>"
      ],
      "text/plain": [
       "         id  user_id  call_date  duration\n",
       "0   1000_93     1000 2018-12-27      8.52\n",
       "1  1000_145     1000 2018-12-27     13.66\n",
       "2  1000_247     1000 2018-12-27     14.48\n",
       "3  1000_309     1000 2018-12-28      5.76\n",
       "4  1000_380     1000 2018-12-30      4.22"
      ]
     },
     "execution_count": 11,
     "metadata": {},
     "output_type": "execute_result"
    }
   ],
   "source": [
    "megaline_calls.user_id.nunique()\n",
    "megaline_calls.head()"
   ]
  },
  {
   "cell_type": "code",
   "execution_count": 12,
   "metadata": {},
   "outputs": [
    {
     "data": {
      "text/plain": [
       "id           26834\n",
       "user_id      26834\n",
       "call_date    26834\n",
       "duration     26834\n",
       "dtype: int64"
      ]
     },
     "execution_count": 12,
     "metadata": {},
     "output_type": "execute_result"
    },
    {
     "data": {
      "text/plain": [
       "0.1948233927469416"
      ]
     },
     "execution_count": 12,
     "metadata": {},
     "output_type": "execute_result"
    }
   ],
   "source": [
    "megaline_calls[megaline_calls.duration==0].count()\n",
    "len(megaline_calls[megaline_calls.duration==0])/len(megaline_calls)"
   ]
  },
  {
   "cell_type": "markdown",
   "metadata": {},
   "source": [
    "#### ~19.5%\n",
    "<div style=\"border:solid orange 2px; padding: 5px\"; class=\"alert alert-danger\">   \n",
    "<span style=\"color:green; font-size: 15px\"> <b>megaline_calls.duration: has a huge amount of 0 values ~19.5%<br>\n",
    "    <div align=\"center\" >I will see how it will change later!</b>"
   ]
  },
  {
   "cell_type": "markdown",
   "metadata": {},
   "source": [
    "### megaline_internet\n",
    "<div align=\"center\" style=\"border:solid red 2px; padding: 5px\"; class=\"alert alert-info\">   \n",
    "<span style=\"color:green; font-size: 25px\"> <b>megaline_internet:</b>"
   ]
  },
  {
   "cell_type": "code",
   "execution_count": 13,
   "metadata": {},
   "outputs": [
    {
     "data": {
      "text/plain": [
       "489"
      ]
     },
     "execution_count": 13,
     "metadata": {},
     "output_type": "execute_result"
    }
   ],
   "source": [
    "megaline_internet.user_id.nunique()"
   ]
  },
  {
   "cell_type": "code",
   "execution_count": 14,
   "metadata": {},
   "outputs": [
    {
     "data": {
      "text/html": [
       "<div>\n",
       "<style scoped>\n",
       "    .dataframe tbody tr th:only-of-type {\n",
       "        vertical-align: middle;\n",
       "    }\n",
       "\n",
       "    .dataframe tbody tr th {\n",
       "        vertical-align: top;\n",
       "    }\n",
       "\n",
       "    .dataframe thead th {\n",
       "        text-align: right;\n",
       "    }\n",
       "</style>\n",
       "<table border=\"1\" class=\"dataframe\">\n",
       "  <thead>\n",
       "    <tr style=\"text-align: right;\">\n",
       "      <th></th>\n",
       "      <th>id</th>\n",
       "      <th>user_id</th>\n",
       "      <th>session_date</th>\n",
       "      <th>mb_used</th>\n",
       "    </tr>\n",
       "  </thead>\n",
       "  <tbody>\n",
       "    <tr>\n",
       "      <td>0</td>\n",
       "      <td>1000_13</td>\n",
       "      <td>1000</td>\n",
       "      <td>2018-12-29</td>\n",
       "      <td>89.86</td>\n",
       "    </tr>\n",
       "    <tr>\n",
       "      <td>1</td>\n",
       "      <td>1000_204</td>\n",
       "      <td>1000</td>\n",
       "      <td>2018-12-31</td>\n",
       "      <td>0.00</td>\n",
       "    </tr>\n",
       "    <tr>\n",
       "      <td>2</td>\n",
       "      <td>1000_379</td>\n",
       "      <td>1000</td>\n",
       "      <td>2018-12-28</td>\n",
       "      <td>660.40</td>\n",
       "    </tr>\n",
       "    <tr>\n",
       "      <td>3</td>\n",
       "      <td>1000_413</td>\n",
       "      <td>1000</td>\n",
       "      <td>2018-12-26</td>\n",
       "      <td>270.99</td>\n",
       "    </tr>\n",
       "    <tr>\n",
       "      <td>4</td>\n",
       "      <td>1000_442</td>\n",
       "      <td>1000</td>\n",
       "      <td>2018-12-27</td>\n",
       "      <td>880.22</td>\n",
       "    </tr>\n",
       "  </tbody>\n",
       "</table>\n",
       "</div>"
      ],
      "text/plain": [
       "         id  user_id session_date  mb_used\n",
       "0   1000_13     1000   2018-12-29    89.86\n",
       "1  1000_204     1000   2018-12-31     0.00\n",
       "2  1000_379     1000   2018-12-28   660.40\n",
       "3  1000_413     1000   2018-12-26   270.99\n",
       "4  1000_442     1000   2018-12-27   880.22"
      ]
     },
     "execution_count": 14,
     "metadata": {},
     "output_type": "execute_result"
    },
    {
     "name": "stdout",
     "output_type": "stream",
     "text": [
      "<class 'pandas.core.frame.DataFrame'>\n",
      "RangeIndex: 104825 entries, 0 to 104824\n",
      "Data columns (total 4 columns):\n",
      "id              104825 non-null object\n",
      "user_id         104825 non-null int64\n",
      "session_date    104825 non-null datetime64[ns]\n",
      "mb_used         104825 non-null float64\n",
      "dtypes: datetime64[ns](1), float64(1), int64(1), object(1)\n",
      "memory usage: 3.2+ MB\n"
     ]
    }
   ],
   "source": [
    "megaline_internet.head()\n",
    "megaline_internet.info()"
   ]
  },
  {
   "cell_type": "markdown",
   "metadata": {},
   "source": [
    "### megaline_messages\n",
    "<div align=\"center\" style=\"border:solid red 2px; padding: 5px\"; class=\"alert alert-info\">   \n",
    "<span style=\"color:green; font-size: 25px\"> <b>megaline_messages:</b>"
   ]
  },
  {
   "cell_type": "code",
   "execution_count": 15,
   "metadata": {},
   "outputs": [
    {
     "data": {
      "text/plain": [
       "402"
      ]
     },
     "execution_count": 15,
     "metadata": {},
     "output_type": "execute_result"
    }
   ],
   "source": [
    "megaline_messages.user_id.nunique()"
   ]
  },
  {
   "cell_type": "code",
   "execution_count": 16,
   "metadata": {
    "scrolled": false
   },
   "outputs": [
    {
     "data": {
      "text/html": [
       "<div>\n",
       "<style scoped>\n",
       "    .dataframe tbody tr th:only-of-type {\n",
       "        vertical-align: middle;\n",
       "    }\n",
       "\n",
       "    .dataframe tbody tr th {\n",
       "        vertical-align: top;\n",
       "    }\n",
       "\n",
       "    .dataframe thead th {\n",
       "        text-align: right;\n",
       "    }\n",
       "</style>\n",
       "<table border=\"1\" class=\"dataframe\">\n",
       "  <thead>\n",
       "    <tr style=\"text-align: right;\">\n",
       "      <th></th>\n",
       "      <th>user_id</th>\n",
       "      <th>full_name</th>\n",
       "      <th>age</th>\n",
       "      <th>city</th>\n",
       "      <th>reg_date</th>\n",
       "      <th>churn_date</th>\n",
       "      <th>plan</th>\n",
       "    </tr>\n",
       "  </thead>\n",
       "  <tbody>\n",
       "    <tr>\n",
       "      <td>0</td>\n",
       "      <td>1000</td>\n",
       "      <td>Anamaria Bauer</td>\n",
       "      <td>45</td>\n",
       "      <td>Atlanta-Sandy Springs-Roswell, GA MSA</td>\n",
       "      <td>2018-12-24</td>\n",
       "      <td>0</td>\n",
       "      <td>ultimate</td>\n",
       "    </tr>\n",
       "    <tr>\n",
       "      <td>1</td>\n",
       "      <td>1001</td>\n",
       "      <td>Mickey Wilkerson</td>\n",
       "      <td>28</td>\n",
       "      <td>Seattle-Tacoma-Bellevue, WA MSA</td>\n",
       "      <td>2018-08-13</td>\n",
       "      <td>0</td>\n",
       "      <td>surf</td>\n",
       "    </tr>\n",
       "    <tr>\n",
       "      <td>2</td>\n",
       "      <td>1002</td>\n",
       "      <td>Carlee Hoffman</td>\n",
       "      <td>36</td>\n",
       "      <td>Las Vegas-Henderson-Paradise, NV MSA</td>\n",
       "      <td>2018-10-21</td>\n",
       "      <td>0</td>\n",
       "      <td>surf</td>\n",
       "    </tr>\n",
       "    <tr>\n",
       "      <td>3</td>\n",
       "      <td>1003</td>\n",
       "      <td>Reynaldo Jenkins</td>\n",
       "      <td>52</td>\n",
       "      <td>Tulsa, OK MSA</td>\n",
       "      <td>2018-01-28</td>\n",
       "      <td>0</td>\n",
       "      <td>surf</td>\n",
       "    </tr>\n",
       "    <tr>\n",
       "      <td>4</td>\n",
       "      <td>1004</td>\n",
       "      <td>Leonila Thompson</td>\n",
       "      <td>40</td>\n",
       "      <td>Seattle-Tacoma-Bellevue, WA MSA</td>\n",
       "      <td>2018-05-23</td>\n",
       "      <td>0</td>\n",
       "      <td>surf</td>\n",
       "    </tr>\n",
       "  </tbody>\n",
       "</table>\n",
       "</div>"
      ],
      "text/plain": [
       "   user_id         full_name  age                                   city  \\\n",
       "0     1000    Anamaria Bauer   45  Atlanta-Sandy Springs-Roswell, GA MSA   \n",
       "1     1001  Mickey Wilkerson   28        Seattle-Tacoma-Bellevue, WA MSA   \n",
       "2     1002    Carlee Hoffman   36   Las Vegas-Henderson-Paradise, NV MSA   \n",
       "3     1003  Reynaldo Jenkins   52                          Tulsa, OK MSA   \n",
       "4     1004  Leonila Thompson   40        Seattle-Tacoma-Bellevue, WA MSA   \n",
       "\n",
       "    reg_date churn_date      plan  \n",
       "0 2018-12-24          0  ultimate  \n",
       "1 2018-08-13          0      surf  \n",
       "2 2018-10-21          0      surf  \n",
       "3 2018-01-28          0      surf  \n",
       "4 2018-05-23          0      surf  "
      ]
     },
     "execution_count": 16,
     "metadata": {},
     "output_type": "execute_result"
    },
    {
     "name": "stdout",
     "output_type": "stream",
     "text": [
      "<class 'pandas.core.frame.DataFrame'>\n",
      "RangeIndex: 76051 entries, 0 to 76050\n",
      "Data columns (total 3 columns):\n",
      "id              76051 non-null object\n",
      "user_id         76051 non-null int64\n",
      "message_date    76051 non-null datetime64[ns]\n",
      "dtypes: datetime64[ns](1), int64(1), object(1)\n",
      "memory usage: 1.7+ MB\n"
     ]
    }
   ],
   "source": [
    "megaline_users.head()\n",
    "megaline_messages.info()"
   ]
  },
  {
   "cell_type": "markdown",
   "metadata": {},
   "source": [
    "#### Task1: The number of calls made and minutes used per month\n",
    "<div align=\"center\" style=\"border:solid red 2px; padding: 5px\"; class=\"alert alert-info\">   \n",
    "<span style=\"color:gray; font-size: 25px\"> <b>The number of calls made and minutes used per month:</b>"
   ]
  },
  {
   "cell_type": "code",
   "execution_count": 17,
   "metadata": {},
   "outputs": [
    {
     "data": {
      "text/html": [
       "<div>\n",
       "<style scoped>\n",
       "    .dataframe tbody tr th:only-of-type {\n",
       "        vertical-align: middle;\n",
       "    }\n",
       "\n",
       "    .dataframe tbody tr th {\n",
       "        vertical-align: top;\n",
       "    }\n",
       "\n",
       "    .dataframe thead th {\n",
       "        text-align: right;\n",
       "    }\n",
       "</style>\n",
       "<table border=\"1\" class=\"dataframe\">\n",
       "  <thead>\n",
       "    <tr style=\"text-align: right;\">\n",
       "      <th></th>\n",
       "      <th>id</th>\n",
       "      <th>user_id</th>\n",
       "      <th>call_date</th>\n",
       "      <th>duration</th>\n",
       "    </tr>\n",
       "  </thead>\n",
       "  <tbody>\n",
       "    <tr>\n",
       "      <td>0</td>\n",
       "      <td>1000_93</td>\n",
       "      <td>1000</td>\n",
       "      <td>2018-12-27</td>\n",
       "      <td>8.52</td>\n",
       "    </tr>\n",
       "    <tr>\n",
       "      <td>1</td>\n",
       "      <td>1000_145</td>\n",
       "      <td>1000</td>\n",
       "      <td>2018-12-27</td>\n",
       "      <td>13.66</td>\n",
       "    </tr>\n",
       "    <tr>\n",
       "      <td>2</td>\n",
       "      <td>1000_247</td>\n",
       "      <td>1000</td>\n",
       "      <td>2018-12-27</td>\n",
       "      <td>14.48</td>\n",
       "    </tr>\n",
       "    <tr>\n",
       "      <td>3</td>\n",
       "      <td>1000_309</td>\n",
       "      <td>1000</td>\n",
       "      <td>2018-12-28</td>\n",
       "      <td>5.76</td>\n",
       "    </tr>\n",
       "    <tr>\n",
       "      <td>4</td>\n",
       "      <td>1000_380</td>\n",
       "      <td>1000</td>\n",
       "      <td>2018-12-30</td>\n",
       "      <td>4.22</td>\n",
       "    </tr>\n",
       "  </tbody>\n",
       "</table>\n",
       "</div>"
      ],
      "text/plain": [
       "         id  user_id  call_date  duration\n",
       "0   1000_93     1000 2018-12-27      8.52\n",
       "1  1000_145     1000 2018-12-27     13.66\n",
       "2  1000_247     1000 2018-12-27     14.48\n",
       "3  1000_309     1000 2018-12-28      5.76\n",
       "4  1000_380     1000 2018-12-30      4.22"
      ]
     },
     "execution_count": 17,
     "metadata": {},
     "output_type": "execute_result"
    }
   ],
   "source": [
    " megaline_calls.head()"
   ]
  },
  {
   "cell_type": "markdown",
   "metadata": {},
   "source": [
    "<div style=\"border:solid orange 2px; padding: 5px\"; class=\"alert alert-info\">   \n",
    "<span style=\"color:green; font-size: 15px\"> <b>adding month column, calculating duration and counting calls</b>"
   ]
  },
  {
   "cell_type": "code",
   "execution_count": 18,
   "metadata": {},
   "outputs": [],
   "source": [
    " megaline_calls['month']=megaline_calls.call_date.astype('datetime64[M]')"
   ]
  },
  {
   "cell_type": "code",
   "execution_count": 19,
   "metadata": {},
   "outputs": [
    {
     "data": {
      "text/html": [
       "<div>\n",
       "<style scoped>\n",
       "    .dataframe tbody tr th:only-of-type {\n",
       "        vertical-align: middle;\n",
       "    }\n",
       "\n",
       "    .dataframe tbody tr th {\n",
       "        vertical-align: top;\n",
       "    }\n",
       "\n",
       "    .dataframe thead th {\n",
       "        text-align: right;\n",
       "    }\n",
       "</style>\n",
       "<table border=\"1\" class=\"dataframe\">\n",
       "  <thead>\n",
       "    <tr style=\"text-align: right;\">\n",
       "      <th></th>\n",
       "      <th>user_id</th>\n",
       "      <th>month</th>\n",
       "      <th>calls</th>\n",
       "      <th>duration</th>\n",
       "    </tr>\n",
       "  </thead>\n",
       "  <tbody>\n",
       "    <tr>\n",
       "      <td>0</td>\n",
       "      <td>1000</td>\n",
       "      <td>2018-12-01</td>\n",
       "      <td>16</td>\n",
       "      <td>117.0</td>\n",
       "    </tr>\n",
       "    <tr>\n",
       "      <td>1</td>\n",
       "      <td>1001</td>\n",
       "      <td>2018-08-01</td>\n",
       "      <td>27</td>\n",
       "      <td>172.0</td>\n",
       "    </tr>\n",
       "    <tr>\n",
       "      <td>2</td>\n",
       "      <td>1001</td>\n",
       "      <td>2018-09-01</td>\n",
       "      <td>49</td>\n",
       "      <td>298.0</td>\n",
       "    </tr>\n",
       "    <tr>\n",
       "      <td>3</td>\n",
       "      <td>1001</td>\n",
       "      <td>2018-10-01</td>\n",
       "      <td>65</td>\n",
       "      <td>375.0</td>\n",
       "    </tr>\n",
       "    <tr>\n",
       "      <td>4</td>\n",
       "      <td>1001</td>\n",
       "      <td>2018-11-01</td>\n",
       "      <td>64</td>\n",
       "      <td>405.0</td>\n",
       "    </tr>\n",
       "  </tbody>\n",
       "</table>\n",
       "</div>"
      ],
      "text/plain": [
       "   user_id      month  calls  duration\n",
       "0     1000 2018-12-01     16     117.0\n",
       "1     1001 2018-08-01     27     172.0\n",
       "2     1001 2018-09-01     49     298.0\n",
       "3     1001 2018-10-01     65     375.0\n",
       "4     1001 2018-11-01     64     405.0"
      ]
     },
     "execution_count": 19,
     "metadata": {},
     "output_type": "execute_result"
    }
   ],
   "source": [
    "data_calls=megaline_calls.pivot_table(index = ('user_id','month'), values = 'duration', aggfunc = ('count','sum')).reset_index()\n",
    "data_calls['sum']=np.ceil(data_calls['sum'])\n",
    "data_calls.rename(columns={\"sum\": \"duration\",\"count\": \"calls\"},inplace=True)\n",
    "data_calls.head()"
   ]
  },
  {
   "cell_type": "markdown",
   "metadata": {},
   "source": [
    "#### Task 2: The number of text messages sent per month\n",
    "<div align=\"center\" style=\"border:solid red 2px; padding: 5px\"; class=\"alert alert-info\">   \n",
    "<span style=\"color:gray; font-size: 25px\"> <b>The number of text messages sent per month:</b>"
   ]
  },
  {
   "cell_type": "code",
   "execution_count": 20,
   "metadata": {
    "scrolled": true
   },
   "outputs": [
    {
     "data": {
      "text/html": [
       "<div>\n",
       "<style scoped>\n",
       "    .dataframe tbody tr th:only-of-type {\n",
       "        vertical-align: middle;\n",
       "    }\n",
       "\n",
       "    .dataframe tbody tr th {\n",
       "        vertical-align: top;\n",
       "    }\n",
       "\n",
       "    .dataframe thead th {\n",
       "        text-align: right;\n",
       "    }\n",
       "</style>\n",
       "<table border=\"1\" class=\"dataframe\">\n",
       "  <thead>\n",
       "    <tr style=\"text-align: right;\">\n",
       "      <th></th>\n",
       "      <th>id</th>\n",
       "      <th>user_id</th>\n",
       "      <th>message_date</th>\n",
       "    </tr>\n",
       "  </thead>\n",
       "  <tbody>\n",
       "    <tr>\n",
       "      <td>0</td>\n",
       "      <td>1000_125</td>\n",
       "      <td>1000</td>\n",
       "      <td>2018-12-27</td>\n",
       "    </tr>\n",
       "    <tr>\n",
       "      <td>1</td>\n",
       "      <td>1000_160</td>\n",
       "      <td>1000</td>\n",
       "      <td>2018-12-31</td>\n",
       "    </tr>\n",
       "    <tr>\n",
       "      <td>2</td>\n",
       "      <td>1000_223</td>\n",
       "      <td>1000</td>\n",
       "      <td>2018-12-31</td>\n",
       "    </tr>\n",
       "    <tr>\n",
       "      <td>3</td>\n",
       "      <td>1000_251</td>\n",
       "      <td>1000</td>\n",
       "      <td>2018-12-27</td>\n",
       "    </tr>\n",
       "    <tr>\n",
       "      <td>4</td>\n",
       "      <td>1000_255</td>\n",
       "      <td>1000</td>\n",
       "      <td>2018-12-26</td>\n",
       "    </tr>\n",
       "  </tbody>\n",
       "</table>\n",
       "</div>"
      ],
      "text/plain": [
       "         id  user_id message_date\n",
       "0  1000_125     1000   2018-12-27\n",
       "1  1000_160     1000   2018-12-31\n",
       "2  1000_223     1000   2018-12-31\n",
       "3  1000_251     1000   2018-12-27\n",
       "4  1000_255     1000   2018-12-26"
      ]
     },
     "execution_count": 20,
     "metadata": {},
     "output_type": "execute_result"
    }
   ],
   "source": [
    " megaline_messages.head()"
   ]
  },
  {
   "cell_type": "markdown",
   "metadata": {},
   "source": [
    "<div style=\"border:solid orange 2px; padding: 5px\"; class=\"alert alert-info\">   \n",
    "<span style=\"color:green; font-size: 15px\"> <b>adding month column, counting messages</b>"
   ]
  },
  {
   "cell_type": "code",
   "execution_count": 21,
   "metadata": {},
   "outputs": [],
   "source": [
    " megaline_messages['month']=megaline_messages.message_date.astype('datetime64[M]')"
   ]
  },
  {
   "cell_type": "code",
   "execution_count": 22,
   "metadata": {
    "scrolled": true
   },
   "outputs": [
    {
     "data": {
      "text/html": [
       "<div>\n",
       "<style scoped>\n",
       "    .dataframe tbody tr th:only-of-type {\n",
       "        vertical-align: middle;\n",
       "    }\n",
       "\n",
       "    .dataframe tbody tr th {\n",
       "        vertical-align: top;\n",
       "    }\n",
       "\n",
       "    .dataframe thead th {\n",
       "        text-align: right;\n",
       "    }\n",
       "</style>\n",
       "<table border=\"1\" class=\"dataframe\">\n",
       "  <thead>\n",
       "    <tr style=\"text-align: right;\">\n",
       "      <th></th>\n",
       "      <th>user_id</th>\n",
       "      <th>month</th>\n",
       "      <th>messages</th>\n",
       "    </tr>\n",
       "  </thead>\n",
       "  <tbody>\n",
       "    <tr>\n",
       "      <td>0</td>\n",
       "      <td>1000</td>\n",
       "      <td>2018-12-01</td>\n",
       "      <td>11</td>\n",
       "    </tr>\n",
       "    <tr>\n",
       "      <td>1</td>\n",
       "      <td>1001</td>\n",
       "      <td>2018-08-01</td>\n",
       "      <td>30</td>\n",
       "    </tr>\n",
       "    <tr>\n",
       "      <td>2</td>\n",
       "      <td>1001</td>\n",
       "      <td>2018-09-01</td>\n",
       "      <td>44</td>\n",
       "    </tr>\n",
       "    <tr>\n",
       "      <td>3</td>\n",
       "      <td>1001</td>\n",
       "      <td>2018-10-01</td>\n",
       "      <td>53</td>\n",
       "    </tr>\n",
       "    <tr>\n",
       "      <td>4</td>\n",
       "      <td>1001</td>\n",
       "      <td>2018-11-01</td>\n",
       "      <td>36</td>\n",
       "    </tr>\n",
       "  </tbody>\n",
       "</table>\n",
       "</div>"
      ],
      "text/plain": [
       "   user_id      month  messages\n",
       "0     1000 2018-12-01        11\n",
       "1     1001 2018-08-01        30\n",
       "2     1001 2018-09-01        44\n",
       "3     1001 2018-10-01        53\n",
       "4     1001 2018-11-01        36"
      ]
     },
     "execution_count": 22,
     "metadata": {},
     "output_type": "execute_result"
    },
    {
     "name": "stdout",
     "output_type": "stream",
     "text": [
      "<class 'pandas.core.frame.DataFrame'>\n",
      "RangeIndex: 1806 entries, 0 to 1805\n",
      "Data columns (total 3 columns):\n",
      "user_id     1806 non-null int64\n",
      "month       1806 non-null datetime64[ns]\n",
      "messages    1806 non-null int64\n",
      "dtypes: datetime64[ns](1), int64(2)\n",
      "memory usage: 42.5 KB\n"
     ]
    }
   ],
   "source": [
    "messages_month=megaline_messages.groupby(['user_id','month'])['id'].count().reset_index()\n",
    "messages_month.rename(columns={\"id\": \"messages\"},inplace=True)\n",
    "messages_month.head()\n",
    "messages_month.info()"
   ]
  },
  {
   "cell_type": "markdown",
   "metadata": {},
   "source": [
    "##### Task 3: dealing with the internet\n",
    "<div align=\"center\" style=\"border:solid red 2px; padding: 5px\"; class=\"alert alert-info\">   \n",
    "<span style=\"color:gray; font-size: 21px\"> <b>dealing with the internet:</b>"
   ]
  },
  {
   "cell_type": "code",
   "execution_count": 23,
   "metadata": {
    "scrolled": true
   },
   "outputs": [
    {
     "data": {
      "text/html": [
       "<div>\n",
       "<style scoped>\n",
       "    .dataframe tbody tr th:only-of-type {\n",
       "        vertical-align: middle;\n",
       "    }\n",
       "\n",
       "    .dataframe tbody tr th {\n",
       "        vertical-align: top;\n",
       "    }\n",
       "\n",
       "    .dataframe thead th {\n",
       "        text-align: right;\n",
       "    }\n",
       "</style>\n",
       "<table border=\"1\" class=\"dataframe\">\n",
       "  <thead>\n",
       "    <tr style=\"text-align: right;\">\n",
       "      <th></th>\n",
       "      <th>id</th>\n",
       "      <th>user_id</th>\n",
       "      <th>session_date</th>\n",
       "      <th>mb_used</th>\n",
       "    </tr>\n",
       "  </thead>\n",
       "  <tbody>\n",
       "    <tr>\n",
       "      <td>0</td>\n",
       "      <td>1000_13</td>\n",
       "      <td>1000</td>\n",
       "      <td>2018-12-29</td>\n",
       "      <td>89.86</td>\n",
       "    </tr>\n",
       "    <tr>\n",
       "      <td>1</td>\n",
       "      <td>1000_204</td>\n",
       "      <td>1000</td>\n",
       "      <td>2018-12-31</td>\n",
       "      <td>0.00</td>\n",
       "    </tr>\n",
       "    <tr>\n",
       "      <td>2</td>\n",
       "      <td>1000_379</td>\n",
       "      <td>1000</td>\n",
       "      <td>2018-12-28</td>\n",
       "      <td>660.40</td>\n",
       "    </tr>\n",
       "    <tr>\n",
       "      <td>3</td>\n",
       "      <td>1000_413</td>\n",
       "      <td>1000</td>\n",
       "      <td>2018-12-26</td>\n",
       "      <td>270.99</td>\n",
       "    </tr>\n",
       "    <tr>\n",
       "      <td>4</td>\n",
       "      <td>1000_442</td>\n",
       "      <td>1000</td>\n",
       "      <td>2018-12-27</td>\n",
       "      <td>880.22</td>\n",
       "    </tr>\n",
       "  </tbody>\n",
       "</table>\n",
       "</div>"
      ],
      "text/plain": [
       "         id  user_id session_date  mb_used\n",
       "0   1000_13     1000   2018-12-29    89.86\n",
       "1  1000_204     1000   2018-12-31     0.00\n",
       "2  1000_379     1000   2018-12-28   660.40\n",
       "3  1000_413     1000   2018-12-26   270.99\n",
       "4  1000_442     1000   2018-12-27   880.22"
      ]
     },
     "execution_count": 23,
     "metadata": {},
     "output_type": "execute_result"
    }
   ],
   "source": [
    " megaline_internet.head()"
   ]
  },
  {
   "cell_type": "markdown",
   "metadata": {},
   "source": [
    "<div style=\"border:solid orange 2px; padding: 5px\"; class=\"alert alert-info\">   \n",
    "<span style=\"color:green; font-size: 15px\"> <b>adding month column, calculating MB internet & counting usage times</b>"
   ]
  },
  {
   "cell_type": "code",
   "execution_count": 24,
   "metadata": {},
   "outputs": [],
   "source": [
    " megaline_internet['month']=megaline_internet.session_date.astype('datetime64[M]')"
   ]
  },
  {
   "cell_type": "code",
   "execution_count": 25,
   "metadata": {
    "scrolled": false
   },
   "outputs": [
    {
     "data": {
      "text/html": [
       "<div>\n",
       "<style scoped>\n",
       "    .dataframe tbody tr th:only-of-type {\n",
       "        vertical-align: middle;\n",
       "    }\n",
       "\n",
       "    .dataframe tbody tr th {\n",
       "        vertical-align: top;\n",
       "    }\n",
       "\n",
       "    .dataframe thead th {\n",
       "        text-align: right;\n",
       "    }\n",
       "</style>\n",
       "<table border=\"1\" class=\"dataframe\">\n",
       "  <thead>\n",
       "    <tr style=\"text-align: right;\">\n",
       "      <th></th>\n",
       "      <th>user_id</th>\n",
       "      <th>month</th>\n",
       "      <th>usages</th>\n",
       "      <th>mb_used</th>\n",
       "    </tr>\n",
       "  </thead>\n",
       "  <tbody>\n",
       "    <tr>\n",
       "      <td>0</td>\n",
       "      <td>1000</td>\n",
       "      <td>2018-12-01</td>\n",
       "      <td>5</td>\n",
       "      <td>1901.47</td>\n",
       "    </tr>\n",
       "    <tr>\n",
       "      <td>1</td>\n",
       "      <td>1001</td>\n",
       "      <td>2018-08-01</td>\n",
       "      <td>25</td>\n",
       "      <td>6919.15</td>\n",
       "    </tr>\n",
       "    <tr>\n",
       "      <td>2</td>\n",
       "      <td>1001</td>\n",
       "      <td>2018-09-01</td>\n",
       "      <td>53</td>\n",
       "      <td>13314.82</td>\n",
       "    </tr>\n",
       "    <tr>\n",
       "      <td>3</td>\n",
       "      <td>1001</td>\n",
       "      <td>2018-10-01</td>\n",
       "      <td>56</td>\n",
       "      <td>22330.49</td>\n",
       "    </tr>\n",
       "    <tr>\n",
       "      <td>4</td>\n",
       "      <td>1001</td>\n",
       "      <td>2018-11-01</td>\n",
       "      <td>51</td>\n",
       "      <td>18504.30</td>\n",
       "    </tr>\n",
       "  </tbody>\n",
       "</table>\n",
       "</div>"
      ],
      "text/plain": [
       "   user_id      month  usages   mb_used\n",
       "0     1000 2018-12-01       5   1901.47\n",
       "1     1001 2018-08-01      25   6919.15\n",
       "2     1001 2018-09-01      53  13314.82\n",
       "3     1001 2018-10-01      56  22330.49\n",
       "4     1001 2018-11-01      51  18504.30"
      ]
     },
     "execution_count": 25,
     "metadata": {},
     "output_type": "execute_result"
    },
    {
     "name": "stdout",
     "output_type": "stream",
     "text": [
      "<class 'pandas.core.frame.DataFrame'>\n",
      "RangeIndex: 2277 entries, 0 to 2276\n",
      "Data columns (total 4 columns):\n",
      "user_id    2277 non-null int64\n",
      "month      2277 non-null datetime64[ns]\n",
      "usages     2277 non-null int64\n",
      "mb_used    2277 non-null float64\n",
      "dtypes: datetime64[ns](1), float64(1), int64(2)\n",
      "memory usage: 71.3 KB\n"
     ]
    }
   ],
   "source": [
    "data_internet=megaline_internet.pivot_table(index = ('user_id','month'), values = 'mb_used', aggfunc = ('count','sum')).reset_index()\n",
    "data_internet.rename(columns={\"count\": \"usages\",\"sum\": \"mb_used\"},inplace=True)\n",
    "data_internet.head()\n",
    "data_internet.info()"
   ]
  },
  {
   "cell_type": "markdown",
   "metadata": {},
   "source": [
    "#### Task 4: The volume of data per month\n",
    "<div align=\"center\" style=\"border:solid red 2px; padding: 5px\"; class=\"alert alert-info\">   \n",
    "<span style=\"color:gray; font-size: 25px\"> <b>The volume of data per month:</b>"
   ]
  },
  {
   "cell_type": "markdown",
   "metadata": {},
   "source": [
    "<div style=\"border:solid orange 2px; padding: 5px\"; class=\"alert alert-info\">   \n",
    "<span style=\"color:green; font-size: 15px\"> <b>merging all activities together</b>"
   ]
  },
  {
   "cell_type": "code",
   "execution_count": 26,
   "metadata": {},
   "outputs": [],
   "source": [
    "from functools import reduce"
   ]
  },
  {
   "cell_type": "code",
   "execution_count": 27,
   "metadata": {},
   "outputs": [],
   "source": [
    "data_frames=[data_internet,data_calls,messages_month]\n",
    "Volume_Data=reduce(lambda left,right: pd.merge(left,right,on=['user_id','month'],how='outer'),data_frames)"
   ]
  },
  {
   "cell_type": "code",
   "execution_count": 28,
   "metadata": {},
   "outputs": [
    {
     "data": {
      "text/html": [
       "<div>\n",
       "<style scoped>\n",
       "    .dataframe tbody tr th:only-of-type {\n",
       "        vertical-align: middle;\n",
       "    }\n",
       "\n",
       "    .dataframe tbody tr th {\n",
       "        vertical-align: top;\n",
       "    }\n",
       "\n",
       "    .dataframe thead th {\n",
       "        text-align: right;\n",
       "    }\n",
       "</style>\n",
       "<table border=\"1\" class=\"dataframe\">\n",
       "  <thead>\n",
       "    <tr style=\"text-align: right;\">\n",
       "      <th></th>\n",
       "      <th>user_id</th>\n",
       "      <th>month</th>\n",
       "      <th>usages</th>\n",
       "      <th>mb_used</th>\n",
       "      <th>calls</th>\n",
       "      <th>duration</th>\n",
       "      <th>messages</th>\n",
       "    </tr>\n",
       "  </thead>\n",
       "  <tbody>\n",
       "    <tr>\n",
       "      <td>0</td>\n",
       "      <td>1000</td>\n",
       "      <td>2018-12-01</td>\n",
       "      <td>5.0</td>\n",
       "      <td>1901.47</td>\n",
       "      <td>16.0</td>\n",
       "      <td>117.0</td>\n",
       "      <td>11.0</td>\n",
       "    </tr>\n",
       "    <tr>\n",
       "      <td>1</td>\n",
       "      <td>1001</td>\n",
       "      <td>2018-08-01</td>\n",
       "      <td>25.0</td>\n",
       "      <td>6919.15</td>\n",
       "      <td>27.0</td>\n",
       "      <td>172.0</td>\n",
       "      <td>30.0</td>\n",
       "    </tr>\n",
       "    <tr>\n",
       "      <td>2</td>\n",
       "      <td>1001</td>\n",
       "      <td>2018-09-01</td>\n",
       "      <td>53.0</td>\n",
       "      <td>13314.82</td>\n",
       "      <td>49.0</td>\n",
       "      <td>298.0</td>\n",
       "      <td>44.0</td>\n",
       "    </tr>\n",
       "    <tr>\n",
       "      <td>3</td>\n",
       "      <td>1001</td>\n",
       "      <td>2018-10-01</td>\n",
       "      <td>56.0</td>\n",
       "      <td>22330.49</td>\n",
       "      <td>65.0</td>\n",
       "      <td>375.0</td>\n",
       "      <td>53.0</td>\n",
       "    </tr>\n",
       "    <tr>\n",
       "      <td>4</td>\n",
       "      <td>1001</td>\n",
       "      <td>2018-11-01</td>\n",
       "      <td>51.0</td>\n",
       "      <td>18504.30</td>\n",
       "      <td>64.0</td>\n",
       "      <td>405.0</td>\n",
       "      <td>36.0</td>\n",
       "    </tr>\n",
       "  </tbody>\n",
       "</table>\n",
       "</div>"
      ],
      "text/plain": [
       "   user_id      month  usages   mb_used  calls  duration  messages\n",
       "0     1000 2018-12-01     5.0   1901.47   16.0     117.0      11.0\n",
       "1     1001 2018-08-01    25.0   6919.15   27.0     172.0      30.0\n",
       "2     1001 2018-09-01    53.0  13314.82   49.0     298.0      44.0\n",
       "3     1001 2018-10-01    56.0  22330.49   65.0     375.0      53.0\n",
       "4     1001 2018-11-01    51.0  18504.30   64.0     405.0      36.0"
      ]
     },
     "execution_count": 28,
     "metadata": {},
     "output_type": "execute_result"
    }
   ],
   "source": [
    "Volume_Data.head()"
   ]
  },
  {
   "cell_type": "code",
   "execution_count": 29,
   "metadata": {
    "scrolled": true
   },
   "outputs": [
    {
     "data": {
      "text/plain": [
       "2293"
      ]
     },
     "execution_count": 29,
     "metadata": {},
     "output_type": "execute_result"
    },
    {
     "data": {
      "text/html": [
       "<div>\n",
       "<style scoped>\n",
       "    .dataframe tbody tr th:only-of-type {\n",
       "        vertical-align: middle;\n",
       "    }\n",
       "\n",
       "    .dataframe tbody tr th {\n",
       "        vertical-align: top;\n",
       "    }\n",
       "\n",
       "    .dataframe thead th {\n",
       "        text-align: right;\n",
       "    }\n",
       "</style>\n",
       "<table border=\"1\" class=\"dataframe\">\n",
       "  <thead>\n",
       "    <tr style=\"text-align: right;\">\n",
       "      <th></th>\n",
       "      <th>user_id</th>\n",
       "      <th>month</th>\n",
       "      <th>usages</th>\n",
       "      <th>mb_used</th>\n",
       "      <th>calls</th>\n",
       "      <th>duration</th>\n",
       "      <th>messages</th>\n",
       "      <th>Gb_used</th>\n",
       "    </tr>\n",
       "  </thead>\n",
       "  <tbody>\n",
       "    <tr>\n",
       "      <td>0</td>\n",
       "      <td>1000</td>\n",
       "      <td>2018-12-01</td>\n",
       "      <td>5.0</td>\n",
       "      <td>1901.47</td>\n",
       "      <td>16.0</td>\n",
       "      <td>117.0</td>\n",
       "      <td>11.0</td>\n",
       "      <td>2.0</td>\n",
       "    </tr>\n",
       "    <tr>\n",
       "      <td>1</td>\n",
       "      <td>1001</td>\n",
       "      <td>2018-08-01</td>\n",
       "      <td>25.0</td>\n",
       "      <td>6919.15</td>\n",
       "      <td>27.0</td>\n",
       "      <td>172.0</td>\n",
       "      <td>30.0</td>\n",
       "      <td>7.0</td>\n",
       "    </tr>\n",
       "    <tr>\n",
       "      <td>2</td>\n",
       "      <td>1001</td>\n",
       "      <td>2018-09-01</td>\n",
       "      <td>53.0</td>\n",
       "      <td>13314.82</td>\n",
       "      <td>49.0</td>\n",
       "      <td>298.0</td>\n",
       "      <td>44.0</td>\n",
       "      <td>14.0</td>\n",
       "    </tr>\n",
       "    <tr>\n",
       "      <td>3</td>\n",
       "      <td>1001</td>\n",
       "      <td>2018-10-01</td>\n",
       "      <td>56.0</td>\n",
       "      <td>22330.49</td>\n",
       "      <td>65.0</td>\n",
       "      <td>375.0</td>\n",
       "      <td>53.0</td>\n",
       "      <td>22.0</td>\n",
       "    </tr>\n",
       "    <tr>\n",
       "      <td>4</td>\n",
       "      <td>1001</td>\n",
       "      <td>2018-11-01</td>\n",
       "      <td>51.0</td>\n",
       "      <td>18504.30</td>\n",
       "      <td>64.0</td>\n",
       "      <td>405.0</td>\n",
       "      <td>36.0</td>\n",
       "      <td>19.0</td>\n",
       "    </tr>\n",
       "  </tbody>\n",
       "</table>\n",
       "</div>"
      ],
      "text/plain": [
       "   user_id      month  usages   mb_used  calls  duration  messages  Gb_used\n",
       "0     1000 2018-12-01     5.0   1901.47   16.0     117.0      11.0      2.0\n",
       "1     1001 2018-08-01    25.0   6919.15   27.0     172.0      30.0      7.0\n",
       "2     1001 2018-09-01    53.0  13314.82   49.0     298.0      44.0     14.0\n",
       "3     1001 2018-10-01    56.0  22330.49   65.0     375.0      53.0     22.0\n",
       "4     1001 2018-11-01    51.0  18504.30   64.0     405.0      36.0     19.0"
      ]
     },
     "execution_count": 29,
     "metadata": {},
     "output_type": "execute_result"
    }
   ],
   "source": [
    "len(Volume_Data)\n",
    "Volume_Data['Gb_used']=np.ceil(Volume_Data.mb_used/1024)\n",
    "Volume_Data.head()"
   ]
  },
  {
   "cell_type": "code",
   "execution_count": 30,
   "metadata": {},
   "outputs": [
    {
     "data": {
      "text/html": [
       "<div>\n",
       "<style scoped>\n",
       "    .dataframe tbody tr th:only-of-type {\n",
       "        vertical-align: middle;\n",
       "    }\n",
       "\n",
       "    .dataframe tbody tr th {\n",
       "        vertical-align: top;\n",
       "    }\n",
       "\n",
       "    .dataframe thead th {\n",
       "        text-align: right;\n",
       "    }\n",
       "</style>\n",
       "<table border=\"1\" class=\"dataframe\">\n",
       "  <thead>\n",
       "    <tr style=\"text-align: right;\">\n",
       "      <th></th>\n",
       "      <th>user_id</th>\n",
       "      <th>month</th>\n",
       "      <th>usages</th>\n",
       "      <th>calls</th>\n",
       "      <th>duration</th>\n",
       "      <th>messages</th>\n",
       "      <th>Gb_used</th>\n",
       "    </tr>\n",
       "  </thead>\n",
       "  <tbody>\n",
       "    <tr>\n",
       "      <td>0</td>\n",
       "      <td>1000</td>\n",
       "      <td>2018-12-01</td>\n",
       "      <td>5.0</td>\n",
       "      <td>16.0</td>\n",
       "      <td>117.0</td>\n",
       "      <td>11.0</td>\n",
       "      <td>2.0</td>\n",
       "    </tr>\n",
       "    <tr>\n",
       "      <td>1</td>\n",
       "      <td>1001</td>\n",
       "      <td>2018-08-01</td>\n",
       "      <td>25.0</td>\n",
       "      <td>27.0</td>\n",
       "      <td>172.0</td>\n",
       "      <td>30.0</td>\n",
       "      <td>7.0</td>\n",
       "    </tr>\n",
       "    <tr>\n",
       "      <td>2</td>\n",
       "      <td>1001</td>\n",
       "      <td>2018-09-01</td>\n",
       "      <td>53.0</td>\n",
       "      <td>49.0</td>\n",
       "      <td>298.0</td>\n",
       "      <td>44.0</td>\n",
       "      <td>14.0</td>\n",
       "    </tr>\n",
       "    <tr>\n",
       "      <td>3</td>\n",
       "      <td>1001</td>\n",
       "      <td>2018-10-01</td>\n",
       "      <td>56.0</td>\n",
       "      <td>65.0</td>\n",
       "      <td>375.0</td>\n",
       "      <td>53.0</td>\n",
       "      <td>22.0</td>\n",
       "    </tr>\n",
       "    <tr>\n",
       "      <td>4</td>\n",
       "      <td>1001</td>\n",
       "      <td>2018-11-01</td>\n",
       "      <td>51.0</td>\n",
       "      <td>64.0</td>\n",
       "      <td>405.0</td>\n",
       "      <td>36.0</td>\n",
       "      <td>19.0</td>\n",
       "    </tr>\n",
       "  </tbody>\n",
       "</table>\n",
       "</div>"
      ],
      "text/plain": [
       "   user_id      month  usages  calls  duration  messages  Gb_used\n",
       "0     1000 2018-12-01     5.0   16.0     117.0      11.0      2.0\n",
       "1     1001 2018-08-01    25.0   27.0     172.0      30.0      7.0\n",
       "2     1001 2018-09-01    53.0   49.0     298.0      44.0     14.0\n",
       "3     1001 2018-10-01    56.0   65.0     375.0      53.0     22.0\n",
       "4     1001 2018-11-01    51.0   64.0     405.0      36.0     19.0"
      ]
     },
     "execution_count": 30,
     "metadata": {},
     "output_type": "execute_result"
    },
    {
     "data": {
      "text/plain": [
       "user_id     2293\n",
       "month       2293\n",
       "usages      2277\n",
       "calls       2258\n",
       "duration    2258\n",
       "messages    1806\n",
       "Gb_used     2277\n",
       "dtype: int64"
      ]
     },
     "execution_count": 30,
     "metadata": {},
     "output_type": "execute_result"
    }
   ],
   "source": [
    "Volume_Data=Volume_Data.loc[:, Volume_Data.columns!='mb_used']\n",
    "Volume_Data.head()\n",
    "Volume_Data.count()"
   ]
  },
  {
   "cell_type": "markdown",
   "metadata": {},
   "source": [
    "<div style=\"border:solid orange 2px; padding: 5px\"; class=\"alert alert-info\">   \n",
    "<span style=\"color:green; font-size: 15px\"> <b>merging the plan</b>"
   ]
  },
  {
   "cell_type": "code",
   "execution_count": 31,
   "metadata": {},
   "outputs": [],
   "source": [
    "Volume_Data=pd.merge(left=Volume_Data,right=megaline_users,how='left',on=['user_id']).fillna(0)\n",
    "Volume_Data=Volume_Data.drop(columns=['reg_date','churn_date'],axis=0)"
   ]
  },
  {
   "cell_type": "code",
   "execution_count": 32,
   "metadata": {},
   "outputs": [
    {
     "data": {
      "text/plain": [
       "user_id      2293\n",
       "month        2293\n",
       "usages       2293\n",
       "calls        2293\n",
       "duration     2293\n",
       "messages     2293\n",
       "Gb_used      2293\n",
       "full_name    2293\n",
       "age          2293\n",
       "city         2293\n",
       "plan         2293\n",
       "dtype: int64"
      ]
     },
     "execution_count": 32,
     "metadata": {},
     "output_type": "execute_result"
    },
    {
     "data": {
      "text/html": [
       "<div>\n",
       "<style scoped>\n",
       "    .dataframe tbody tr th:only-of-type {\n",
       "        vertical-align: middle;\n",
       "    }\n",
       "\n",
       "    .dataframe tbody tr th {\n",
       "        vertical-align: top;\n",
       "    }\n",
       "\n",
       "    .dataframe thead th {\n",
       "        text-align: right;\n",
       "    }\n",
       "</style>\n",
       "<table border=\"1\" class=\"dataframe\">\n",
       "  <thead>\n",
       "    <tr style=\"text-align: right;\">\n",
       "      <th></th>\n",
       "      <th>user_id</th>\n",
       "      <th>month</th>\n",
       "      <th>usages</th>\n",
       "      <th>calls</th>\n",
       "      <th>duration</th>\n",
       "      <th>messages</th>\n",
       "      <th>Gb_used</th>\n",
       "      <th>full_name</th>\n",
       "      <th>age</th>\n",
       "      <th>city</th>\n",
       "      <th>plan</th>\n",
       "    </tr>\n",
       "  </thead>\n",
       "  <tbody>\n",
       "    <tr>\n",
       "      <td>0</td>\n",
       "      <td>1000</td>\n",
       "      <td>2018-12-01</td>\n",
       "      <td>5.0</td>\n",
       "      <td>16.0</td>\n",
       "      <td>117.0</td>\n",
       "      <td>11.0</td>\n",
       "      <td>2.0</td>\n",
       "      <td>Anamaria Bauer</td>\n",
       "      <td>45</td>\n",
       "      <td>Atlanta-Sandy Springs-Roswell, GA MSA</td>\n",
       "      <td>ultimate</td>\n",
       "    </tr>\n",
       "    <tr>\n",
       "      <td>1</td>\n",
       "      <td>1001</td>\n",
       "      <td>2018-08-01</td>\n",
       "      <td>25.0</td>\n",
       "      <td>27.0</td>\n",
       "      <td>172.0</td>\n",
       "      <td>30.0</td>\n",
       "      <td>7.0</td>\n",
       "      <td>Mickey Wilkerson</td>\n",
       "      <td>28</td>\n",
       "      <td>Seattle-Tacoma-Bellevue, WA MSA</td>\n",
       "      <td>surf</td>\n",
       "    </tr>\n",
       "    <tr>\n",
       "      <td>2</td>\n",
       "      <td>1001</td>\n",
       "      <td>2018-09-01</td>\n",
       "      <td>53.0</td>\n",
       "      <td>49.0</td>\n",
       "      <td>298.0</td>\n",
       "      <td>44.0</td>\n",
       "      <td>14.0</td>\n",
       "      <td>Mickey Wilkerson</td>\n",
       "      <td>28</td>\n",
       "      <td>Seattle-Tacoma-Bellevue, WA MSA</td>\n",
       "      <td>surf</td>\n",
       "    </tr>\n",
       "    <tr>\n",
       "      <td>3</td>\n",
       "      <td>1001</td>\n",
       "      <td>2018-10-01</td>\n",
       "      <td>56.0</td>\n",
       "      <td>65.0</td>\n",
       "      <td>375.0</td>\n",
       "      <td>53.0</td>\n",
       "      <td>22.0</td>\n",
       "      <td>Mickey Wilkerson</td>\n",
       "      <td>28</td>\n",
       "      <td>Seattle-Tacoma-Bellevue, WA MSA</td>\n",
       "      <td>surf</td>\n",
       "    </tr>\n",
       "    <tr>\n",
       "      <td>4</td>\n",
       "      <td>1001</td>\n",
       "      <td>2018-11-01</td>\n",
       "      <td>51.0</td>\n",
       "      <td>64.0</td>\n",
       "      <td>405.0</td>\n",
       "      <td>36.0</td>\n",
       "      <td>19.0</td>\n",
       "      <td>Mickey Wilkerson</td>\n",
       "      <td>28</td>\n",
       "      <td>Seattle-Tacoma-Bellevue, WA MSA</td>\n",
       "      <td>surf</td>\n",
       "    </tr>\n",
       "  </tbody>\n",
       "</table>\n",
       "</div>"
      ],
      "text/plain": [
       "   user_id      month  usages  calls  duration  messages  Gb_used  \\\n",
       "0     1000 2018-12-01     5.0   16.0     117.0      11.0      2.0   \n",
       "1     1001 2018-08-01    25.0   27.0     172.0      30.0      7.0   \n",
       "2     1001 2018-09-01    53.0   49.0     298.0      44.0     14.0   \n",
       "3     1001 2018-10-01    56.0   65.0     375.0      53.0     22.0   \n",
       "4     1001 2018-11-01    51.0   64.0     405.0      36.0     19.0   \n",
       "\n",
       "          full_name  age                                   city      plan  \n",
       "0    Anamaria Bauer   45  Atlanta-Sandy Springs-Roswell, GA MSA  ultimate  \n",
       "1  Mickey Wilkerson   28        Seattle-Tacoma-Bellevue, WA MSA      surf  \n",
       "2  Mickey Wilkerson   28        Seattle-Tacoma-Bellevue, WA MSA      surf  \n",
       "3  Mickey Wilkerson   28        Seattle-Tacoma-Bellevue, WA MSA      surf  \n",
       "4  Mickey Wilkerson   28        Seattle-Tacoma-Bellevue, WA MSA      surf  "
      ]
     },
     "execution_count": 32,
     "metadata": {},
     "output_type": "execute_result"
    }
   ],
   "source": [
    "Volume_Data.count()\n",
    "Volume_Data.head()"
   ]
  },
  {
   "cell_type": "markdown",
   "metadata": {},
   "source": [
    "#### Task 5: The monthly revenue from each user\n",
    "<div align=\"center\" style=\"border:solid red 2px; padding: 5px\"; class=\"alert alert-info\">   \n",
    "<span style=\"color:gray; font-size: 25px\"> <b>The monthly revenue from each user <br> <span style=\"color:brown; font-size: 19px\"> (subtract the free package limit from the total number of calls, text messages, and data; multiply the result by the calling plan value; add the monthly charge depending on the calling plan):</b>"
   ]
  },
  {
   "cell_type": "code",
   "execution_count": 33,
   "metadata": {
    "scrolled": true
   },
   "outputs": [
    {
     "data": {
      "text/html": [
       "<div>\n",
       "<style scoped>\n",
       "    .dataframe tbody tr th:only-of-type {\n",
       "        vertical-align: middle;\n",
       "    }\n",
       "\n",
       "    .dataframe tbody tr th {\n",
       "        vertical-align: top;\n",
       "    }\n",
       "\n",
       "    .dataframe thead th {\n",
       "        text-align: right;\n",
       "    }\n",
       "</style>\n",
       "<table border=\"1\" class=\"dataframe\">\n",
       "  <thead>\n",
       "    <tr style=\"text-align: right;\">\n",
       "      <th></th>\n",
       "      <th>messages_included</th>\n",
       "      <th>Gb_per_month_included</th>\n",
       "      <th>minutes_included</th>\n",
       "      <th>usd_monthly_pay</th>\n",
       "      <th>usd_per_gb</th>\n",
       "      <th>usd_per_message</th>\n",
       "      <th>usd_per_minute</th>\n",
       "      <th>plan_name</th>\n",
       "    </tr>\n",
       "  </thead>\n",
       "  <tbody>\n",
       "    <tr>\n",
       "      <td>0</td>\n",
       "      <td>50</td>\n",
       "      <td>15.0</td>\n",
       "      <td>500</td>\n",
       "      <td>20</td>\n",
       "      <td>10</td>\n",
       "      <td>0.03</td>\n",
       "      <td>0.03</td>\n",
       "      <td>surf</td>\n",
       "    </tr>\n",
       "    <tr>\n",
       "      <td>1</td>\n",
       "      <td>1000</td>\n",
       "      <td>30.0</td>\n",
       "      <td>3000</td>\n",
       "      <td>70</td>\n",
       "      <td>7</td>\n",
       "      <td>0.01</td>\n",
       "      <td>0.01</td>\n",
       "      <td>ultimate</td>\n",
       "    </tr>\n",
       "  </tbody>\n",
       "</table>\n",
       "</div>"
      ],
      "text/plain": [
       "   messages_included  Gb_per_month_included  minutes_included  \\\n",
       "0                 50                   15.0               500   \n",
       "1               1000                   30.0              3000   \n",
       "\n",
       "   usd_monthly_pay  usd_per_gb  usd_per_message  usd_per_minute plan_name  \n",
       "0               20          10             0.03            0.03      surf  \n",
       "1               70           7             0.01            0.01  ultimate  "
      ]
     },
     "execution_count": 33,
     "metadata": {},
     "output_type": "execute_result"
    },
    {
     "name": "stdout",
     "output_type": "stream",
     "text": [
      "<class 'pandas.core.frame.DataFrame'>\n",
      "RangeIndex: 2 entries, 0 to 1\n",
      "Data columns (total 8 columns):\n",
      "messages_included        2 non-null int64\n",
      "Gb_per_month_included    2 non-null float64\n",
      "minutes_included         2 non-null int64\n",
      "usd_monthly_pay          2 non-null int64\n",
      "usd_per_gb               2 non-null int64\n",
      "usd_per_message          2 non-null float64\n",
      "usd_per_minute           2 non-null float64\n",
      "plan_name                2 non-null object\n",
      "dtypes: float64(3), int64(4), object(1)\n",
      "memory usage: 256.0+ bytes\n"
     ]
    }
   ],
   "source": [
    "megaline_plans.mb_per_month_included=(megaline_plans.mb_per_month_included/1024).apply(np.ceil)\n",
    "megaline_plans.rename(columns={\"mb_per_month_included\": \"Gb_per_month_included\"},inplace=True)\n",
    "megaline_plans\n",
    "megaline_plans.info()"
   ]
  },
  {
   "cell_type": "code",
   "execution_count": 34,
   "metadata": {},
   "outputs": [
    {
     "data": {
      "text/html": [
       "<div>\n",
       "<style scoped>\n",
       "    .dataframe tbody tr th:only-of-type {\n",
       "        vertical-align: middle;\n",
       "    }\n",
       "\n",
       "    .dataframe tbody tr th {\n",
       "        vertical-align: top;\n",
       "    }\n",
       "\n",
       "    .dataframe thead th {\n",
       "        text-align: right;\n",
       "    }\n",
       "</style>\n",
       "<table border=\"1\" class=\"dataframe\">\n",
       "  <thead>\n",
       "    <tr style=\"text-align: right;\">\n",
       "      <th></th>\n",
       "      <th>user_id</th>\n",
       "      <th>full_name</th>\n",
       "      <th>age</th>\n",
       "      <th>city</th>\n",
       "      <th>reg_date</th>\n",
       "      <th>churn_date</th>\n",
       "      <th>plan</th>\n",
       "    </tr>\n",
       "  </thead>\n",
       "  <tbody>\n",
       "    <tr>\n",
       "      <td>0</td>\n",
       "      <td>1000</td>\n",
       "      <td>Anamaria Bauer</td>\n",
       "      <td>45</td>\n",
       "      <td>Atlanta-Sandy Springs-Roswell, GA MSA</td>\n",
       "      <td>2018-12-24</td>\n",
       "      <td>0</td>\n",
       "      <td>ultimate</td>\n",
       "    </tr>\n",
       "    <tr>\n",
       "      <td>1</td>\n",
       "      <td>1001</td>\n",
       "      <td>Mickey Wilkerson</td>\n",
       "      <td>28</td>\n",
       "      <td>Seattle-Tacoma-Bellevue, WA MSA</td>\n",
       "      <td>2018-08-13</td>\n",
       "      <td>0</td>\n",
       "      <td>surf</td>\n",
       "    </tr>\n",
       "    <tr>\n",
       "      <td>2</td>\n",
       "      <td>1002</td>\n",
       "      <td>Carlee Hoffman</td>\n",
       "      <td>36</td>\n",
       "      <td>Las Vegas-Henderson-Paradise, NV MSA</td>\n",
       "      <td>2018-10-21</td>\n",
       "      <td>0</td>\n",
       "      <td>surf</td>\n",
       "    </tr>\n",
       "    <tr>\n",
       "      <td>3</td>\n",
       "      <td>1003</td>\n",
       "      <td>Reynaldo Jenkins</td>\n",
       "      <td>52</td>\n",
       "      <td>Tulsa, OK MSA</td>\n",
       "      <td>2018-01-28</td>\n",
       "      <td>0</td>\n",
       "      <td>surf</td>\n",
       "    </tr>\n",
       "    <tr>\n",
       "      <td>4</td>\n",
       "      <td>1004</td>\n",
       "      <td>Leonila Thompson</td>\n",
       "      <td>40</td>\n",
       "      <td>Seattle-Tacoma-Bellevue, WA MSA</td>\n",
       "      <td>2018-05-23</td>\n",
       "      <td>0</td>\n",
       "      <td>surf</td>\n",
       "    </tr>\n",
       "  </tbody>\n",
       "</table>\n",
       "</div>"
      ],
      "text/plain": [
       "   user_id         full_name  age                                   city  \\\n",
       "0     1000    Anamaria Bauer   45  Atlanta-Sandy Springs-Roswell, GA MSA   \n",
       "1     1001  Mickey Wilkerson   28        Seattle-Tacoma-Bellevue, WA MSA   \n",
       "2     1002    Carlee Hoffman   36   Las Vegas-Henderson-Paradise, NV MSA   \n",
       "3     1003  Reynaldo Jenkins   52                          Tulsa, OK MSA   \n",
       "4     1004  Leonila Thompson   40        Seattle-Tacoma-Bellevue, WA MSA   \n",
       "\n",
       "    reg_date churn_date      plan  \n",
       "0 2018-12-24          0  ultimate  \n",
       "1 2018-08-13          0      surf  \n",
       "2 2018-10-21          0      surf  \n",
       "3 2018-01-28          0      surf  \n",
       "4 2018-05-23          0      surf  "
      ]
     },
     "execution_count": 34,
     "metadata": {},
     "output_type": "execute_result"
    }
   ],
   "source": [
    "megaline_users.head()"
   ]
  },
  {
   "cell_type": "markdown",
   "metadata": {},
   "source": [
    "<div style=\"border:solid orange 2px; padding: 5px\"; class=\"alert alert-info\">   \n",
    "<span style=\"color:green; font-size: 15px\"> <b>splitting Volume table in 2 for ultimate and surf plan</b>"
   ]
  },
  {
   "cell_type": "code",
   "execution_count": 35,
   "metadata": {
    "scrolled": false
   },
   "outputs": [
    {
     "data": {
      "text/html": [
       "<div>\n",
       "<style scoped>\n",
       "    .dataframe tbody tr th:only-of-type {\n",
       "        vertical-align: middle;\n",
       "    }\n",
       "\n",
       "    .dataframe tbody tr th {\n",
       "        vertical-align: top;\n",
       "    }\n",
       "\n",
       "    .dataframe thead th {\n",
       "        text-align: right;\n",
       "    }\n",
       "</style>\n",
       "<table border=\"1\" class=\"dataframe\">\n",
       "  <thead>\n",
       "    <tr style=\"text-align: right;\">\n",
       "      <th></th>\n",
       "      <th>index</th>\n",
       "      <th>user_id</th>\n",
       "      <th>month</th>\n",
       "      <th>usages</th>\n",
       "      <th>calls</th>\n",
       "      <th>duration</th>\n",
       "      <th>messages</th>\n",
       "      <th>Gb_used</th>\n",
       "      <th>full_name</th>\n",
       "      <th>age</th>\n",
       "      <th>city</th>\n",
       "      <th>plan</th>\n",
       "    </tr>\n",
       "  </thead>\n",
       "  <tbody>\n",
       "    <tr>\n",
       "      <td>0</td>\n",
       "      <td>1</td>\n",
       "      <td>1001</td>\n",
       "      <td>2018-08-01</td>\n",
       "      <td>25.0</td>\n",
       "      <td>27.0</td>\n",
       "      <td>172.0</td>\n",
       "      <td>30.0</td>\n",
       "      <td>7.0</td>\n",
       "      <td>Mickey Wilkerson</td>\n",
       "      <td>28</td>\n",
       "      <td>Seattle-Tacoma-Bellevue, WA MSA</td>\n",
       "      <td>surf</td>\n",
       "    </tr>\n",
       "    <tr>\n",
       "      <td>1</td>\n",
       "      <td>2</td>\n",
       "      <td>1001</td>\n",
       "      <td>2018-09-01</td>\n",
       "      <td>53.0</td>\n",
       "      <td>49.0</td>\n",
       "      <td>298.0</td>\n",
       "      <td>44.0</td>\n",
       "      <td>14.0</td>\n",
       "      <td>Mickey Wilkerson</td>\n",
       "      <td>28</td>\n",
       "      <td>Seattle-Tacoma-Bellevue, WA MSA</td>\n",
       "      <td>surf</td>\n",
       "    </tr>\n",
       "    <tr>\n",
       "      <td>2</td>\n",
       "      <td>3</td>\n",
       "      <td>1001</td>\n",
       "      <td>2018-10-01</td>\n",
       "      <td>56.0</td>\n",
       "      <td>65.0</td>\n",
       "      <td>375.0</td>\n",
       "      <td>53.0</td>\n",
       "      <td>22.0</td>\n",
       "      <td>Mickey Wilkerson</td>\n",
       "      <td>28</td>\n",
       "      <td>Seattle-Tacoma-Bellevue, WA MSA</td>\n",
       "      <td>surf</td>\n",
       "    </tr>\n",
       "    <tr>\n",
       "      <td>3</td>\n",
       "      <td>4</td>\n",
       "      <td>1001</td>\n",
       "      <td>2018-11-01</td>\n",
       "      <td>51.0</td>\n",
       "      <td>64.0</td>\n",
       "      <td>405.0</td>\n",
       "      <td>36.0</td>\n",
       "      <td>19.0</td>\n",
       "      <td>Mickey Wilkerson</td>\n",
       "      <td>28</td>\n",
       "      <td>Seattle-Tacoma-Bellevue, WA MSA</td>\n",
       "      <td>surf</td>\n",
       "    </tr>\n",
       "    <tr>\n",
       "      <td>4</td>\n",
       "      <td>5</td>\n",
       "      <td>1001</td>\n",
       "      <td>2018-12-01</td>\n",
       "      <td>60.0</td>\n",
       "      <td>56.0</td>\n",
       "      <td>393.0</td>\n",
       "      <td>44.0</td>\n",
       "      <td>19.0</td>\n",
       "      <td>Mickey Wilkerson</td>\n",
       "      <td>28</td>\n",
       "      <td>Seattle-Tacoma-Bellevue, WA MSA</td>\n",
       "      <td>surf</td>\n",
       "    </tr>\n",
       "  </tbody>\n",
       "</table>\n",
       "</div>"
      ],
      "text/plain": [
       "   index  user_id      month  usages  calls  duration  messages  Gb_used  \\\n",
       "0      1     1001 2018-08-01    25.0   27.0     172.0      30.0      7.0   \n",
       "1      2     1001 2018-09-01    53.0   49.0     298.0      44.0     14.0   \n",
       "2      3     1001 2018-10-01    56.0   65.0     375.0      53.0     22.0   \n",
       "3      4     1001 2018-11-01    51.0   64.0     405.0      36.0     19.0   \n",
       "4      5     1001 2018-12-01    60.0   56.0     393.0      44.0     19.0   \n",
       "\n",
       "          full_name  age                             city  plan  \n",
       "0  Mickey Wilkerson   28  Seattle-Tacoma-Bellevue, WA MSA  surf  \n",
       "1  Mickey Wilkerson   28  Seattle-Tacoma-Bellevue, WA MSA  surf  \n",
       "2  Mickey Wilkerson   28  Seattle-Tacoma-Bellevue, WA MSA  surf  \n",
       "3  Mickey Wilkerson   28  Seattle-Tacoma-Bellevue, WA MSA  surf  \n",
       "4  Mickey Wilkerson   28  Seattle-Tacoma-Bellevue, WA MSA  surf  "
      ]
     },
     "execution_count": 35,
     "metadata": {},
     "output_type": "execute_result"
    },
    {
     "data": {
      "text/html": [
       "<div>\n",
       "<style scoped>\n",
       "    .dataframe tbody tr th:only-of-type {\n",
       "        vertical-align: middle;\n",
       "    }\n",
       "\n",
       "    .dataframe tbody tr th {\n",
       "        vertical-align: top;\n",
       "    }\n",
       "\n",
       "    .dataframe thead th {\n",
       "        text-align: right;\n",
       "    }\n",
       "</style>\n",
       "<table border=\"1\" class=\"dataframe\">\n",
       "  <thead>\n",
       "    <tr style=\"text-align: right;\">\n",
       "      <th></th>\n",
       "      <th>index</th>\n",
       "      <th>user_id</th>\n",
       "      <th>month</th>\n",
       "      <th>usages</th>\n",
       "      <th>calls</th>\n",
       "      <th>duration</th>\n",
       "      <th>messages</th>\n",
       "      <th>Gb_used</th>\n",
       "      <th>full_name</th>\n",
       "      <th>age</th>\n",
       "      <th>city</th>\n",
       "      <th>plan</th>\n",
       "    </tr>\n",
       "  </thead>\n",
       "  <tbody>\n",
       "    <tr>\n",
       "      <td>0</td>\n",
       "      <td>0</td>\n",
       "      <td>1000</td>\n",
       "      <td>2018-12-01</td>\n",
       "      <td>5.0</td>\n",
       "      <td>16.0</td>\n",
       "      <td>117.0</td>\n",
       "      <td>11.0</td>\n",
       "      <td>2.0</td>\n",
       "      <td>Anamaria Bauer</td>\n",
       "      <td>45</td>\n",
       "      <td>Atlanta-Sandy Springs-Roswell, GA MSA</td>\n",
       "      <td>ultimate</td>\n",
       "    </tr>\n",
       "    <tr>\n",
       "      <td>1</td>\n",
       "      <td>19</td>\n",
       "      <td>1006</td>\n",
       "      <td>2018-11-01</td>\n",
       "      <td>7.0</td>\n",
       "      <td>2.0</td>\n",
       "      <td>10.0</td>\n",
       "      <td>15.0</td>\n",
       "      <td>3.0</td>\n",
       "      <td>Jesusa Bradford</td>\n",
       "      <td>73</td>\n",
       "      <td>San Francisco-Oakland-Berkeley, CA MSA</td>\n",
       "      <td>ultimate</td>\n",
       "    </tr>\n",
       "    <tr>\n",
       "      <td>2</td>\n",
       "      <td>20</td>\n",
       "      <td>1006</td>\n",
       "      <td>2018-12-01</td>\n",
       "      <td>63.0</td>\n",
       "      <td>9.0</td>\n",
       "      <td>55.0</td>\n",
       "      <td>139.0</td>\n",
       "      <td>32.0</td>\n",
       "      <td>Jesusa Bradford</td>\n",
       "      <td>73</td>\n",
       "      <td>San Francisco-Oakland-Berkeley, CA MSA</td>\n",
       "      <td>ultimate</td>\n",
       "    </tr>\n",
       "    <tr>\n",
       "      <td>3</td>\n",
       "      <td>26</td>\n",
       "      <td>1008</td>\n",
       "      <td>2018-10-01</td>\n",
       "      <td>57.0</td>\n",
       "      <td>71.0</td>\n",
       "      <td>451.0</td>\n",
       "      <td>21.0</td>\n",
       "      <td>17.0</td>\n",
       "      <td>Emely Hoffman</td>\n",
       "      <td>53</td>\n",
       "      <td>Orlando-Kissimmee-Sanford, FL MSA</td>\n",
       "      <td>ultimate</td>\n",
       "    </tr>\n",
       "    <tr>\n",
       "      <td>4</td>\n",
       "      <td>27</td>\n",
       "      <td>1008</td>\n",
       "      <td>2018-11-01</td>\n",
       "      <td>72.0</td>\n",
       "      <td>63.0</td>\n",
       "      <td>423.0</td>\n",
       "      <td>37.0</td>\n",
       "      <td>24.0</td>\n",
       "      <td>Emely Hoffman</td>\n",
       "      <td>53</td>\n",
       "      <td>Orlando-Kissimmee-Sanford, FL MSA</td>\n",
       "      <td>ultimate</td>\n",
       "    </tr>\n",
       "  </tbody>\n",
       "</table>\n",
       "</div>"
      ],
      "text/plain": [
       "   index  user_id      month  usages  calls  duration  messages  Gb_used  \\\n",
       "0      0     1000 2018-12-01     5.0   16.0     117.0      11.0      2.0   \n",
       "1     19     1006 2018-11-01     7.0    2.0      10.0      15.0      3.0   \n",
       "2     20     1006 2018-12-01    63.0    9.0      55.0     139.0     32.0   \n",
       "3     26     1008 2018-10-01    57.0   71.0     451.0      21.0     17.0   \n",
       "4     27     1008 2018-11-01    72.0   63.0     423.0      37.0     24.0   \n",
       "\n",
       "         full_name  age                                    city      plan  \n",
       "0   Anamaria Bauer   45   Atlanta-Sandy Springs-Roswell, GA MSA  ultimate  \n",
       "1  Jesusa Bradford   73  San Francisco-Oakland-Berkeley, CA MSA  ultimate  \n",
       "2  Jesusa Bradford   73  San Francisco-Oakland-Berkeley, CA MSA  ultimate  \n",
       "3    Emely Hoffman   53       Orlando-Kissimmee-Sanford, FL MSA  ultimate  \n",
       "4    Emely Hoffman   53       Orlando-Kissimmee-Sanford, FL MSA  ultimate  "
      ]
     },
     "execution_count": 35,
     "metadata": {},
     "output_type": "execute_result"
    }
   ],
   "source": [
    "V_surf=Volume_Data.groupby('plan').get_group(\"surf\").reset_index()\n",
    "V_surf.head()\n",
    "V_ultimate=Volume_Data.groupby('plan').get_group(\"ultimate\").reset_index()\n",
    "V_ultimate.head()"
   ]
  },
  {
   "cell_type": "markdown",
   "metadata": {},
   "source": [
    "<div style=\"border:solid orange 2px; padding: 5px\"; class=\"alert alert-info\">   \n",
    "<span style=\"color:green; font-size: 15px\"> <b>checking if there a whole row = 0</b>"
   ]
  },
  {
   "cell_type": "code",
   "execution_count": 36,
   "metadata": {},
   "outputs": [
    {
     "data": {
      "text/plain": [
       "user_id      0\n",
       "month        0\n",
       "usages       0\n",
       "calls        0\n",
       "duration     0\n",
       "messages     0\n",
       "Gb_used      0\n",
       "full_name    0\n",
       "age          0\n",
       "city         0\n",
       "plan         0\n",
       "dtype: int64"
      ]
     },
     "execution_count": 36,
     "metadata": {},
     "output_type": "execute_result"
    }
   ],
   "source": [
    "Volume_Data[(Volume_Data.Gb_used==0) & (Volume_Data.messages==0) & (Volume_Data.duration==0)].count()"
   ]
  },
  {
   "cell_type": "markdown",
   "metadata": {},
   "source": [
    "<div style=\"border:solid orange 2px; padding: 5px\"; class=\"alert alert-info\">   \n",
    "<span style=\"color:green; font-size: 15px\"> <b>create cost functions for surf and ultimate</b>"
   ]
  },
  {
   "cell_type": "raw",
   "metadata": {},
   "source": [
    "#                                                        sample\n",
    "#surf\n",
    "def cost_s(row):\n",
    "    cost_internet=0\n",
    "    cost_calls=0\n",
    "    cost_messages=0\n",
    "    total_cost=20\n",
    "    Gb_used= row['Gb_used']\n",
    "    duration=row['duration']\n",
    "    messages=row['messages']\n",
    "#Internet\n",
    "    cost_internet= np.where(Gb_used>15,(Gb_used-15)*10,0)\n",
    "    cost_calls= np.where(duration>500,(duration-500)*0.03,0)\n",
    "    cost_messages= np.where(messages>50,(messages-50)*0.03,0)\n",
    "#total        \n",
    "    total_cost+= cost_calls+\n",
    "                 cost_messages+\n",
    "                 cost_internet\n",
    "    return total_cost"
   ]
  },
  {
   "cell_type": "code",
   "execution_count": 37,
   "metadata": {},
   "outputs": [],
   "source": [
    "#surf\n",
    "def cost_s(row):\n",
    "    cost_internet=0\n",
    "    cost_calls=0\n",
    "    cost_messages=0\n",
    "    total_cost=20\n",
    "    Gb_used= row['Gb_used']\n",
    "    duration=row['duration']\n",
    "    messages=row['messages']\n",
    "#Internet\n",
    "    if Gb_used>15:\n",
    "        cost_internet=(Gb_used-15)*10\n",
    "#calls\n",
    "    if duration>500:\n",
    "        cost_calls=(duration-500)*0.03\n",
    "#messages\n",
    "    if messages>50:\n",
    "        cost_messages=(messages-50)*0.03\n",
    "#total        \n",
    "    total_cost+= (cost_calls+\n",
    "                 cost_messages+\n",
    "                 cost_internet)\n",
    "    return total_cost"
   ]
  },
  {
   "cell_type": "code",
   "execution_count": 38,
   "metadata": {},
   "outputs": [],
   "source": [
    "#ultimate\n",
    "def cost_U(row):\n",
    "    cost_internet=0\n",
    "    cost_calls=0\n",
    "    cost_messages=0\n",
    "    total_cost=70\n",
    "    Gb_used= row['Gb_used']\n",
    "    duration=row['duration']\n",
    "    messages=row['messages']\n",
    "#Internet\n",
    "    if Gb_used>30:\n",
    "        cost_internet=(Gb_used-30)*7\n",
    "#calls\n",
    "    if duration>3000:\n",
    "        cost_calls=(duration-3000)*0.01\n",
    "#messages\n",
    "    if messages>1000:\n",
    "        cost_messages=(messages-1000)*0.01\n",
    "#total        \n",
    "    total_cost+= (cost_calls+\n",
    "                 cost_messages+\n",
    "                 cost_internet)\n",
    "    return total_cost"
   ]
  },
  {
   "cell_type": "code",
   "execution_count": 39,
   "metadata": {
    "scrolled": true
   },
   "outputs": [],
   "source": [
    "V_surf['total_cost']=V_surf.apply(cost_s,axis=1)\n"
   ]
  },
  {
   "cell_type": "code",
   "execution_count": 40,
   "metadata": {},
   "outputs": [],
   "source": [
    "V_ultimate['total_cost']=V_ultimate.apply(cost_U,axis=1)"
   ]
  },
  {
   "cell_type": "markdown",
   "metadata": {},
   "source": [
    "## Step 3. Analyze the data"
   ]
  },
  {
   "cell_type": "markdown",
   "metadata": {},
   "source": [
    "<div style=\"border:solid orange 2px; padding: 5px\"; class=\"alert alert-info\">   \n",
    "<span style=\"color:green; font-size: 15px\"> <b> Calculate the mean, dispersion, and standard deviation</b>"
   ]
  },
  {
   "cell_type": "code",
   "execution_count": 41,
   "metadata": {},
   "outputs": [
    {
     "data": {
      "text/html": [
       "<div>\n",
       "<style scoped>\n",
       "    .dataframe tbody tr th:only-of-type {\n",
       "        vertical-align: middle;\n",
       "    }\n",
       "\n",
       "    .dataframe tbody tr th {\n",
       "        vertical-align: top;\n",
       "    }\n",
       "\n",
       "    .dataframe thead th {\n",
       "        text-align: right;\n",
       "    }\n",
       "</style>\n",
       "<table border=\"1\" class=\"dataframe\">\n",
       "  <thead>\n",
       "    <tr style=\"text-align: right;\">\n",
       "      <th></th>\n",
       "      <th>user_id</th>\n",
       "      <th>duration</th>\n",
       "      <th>messages</th>\n",
       "      <th>Gb_used</th>\n",
       "      <th>total_cost</th>\n",
       "    </tr>\n",
       "  </thead>\n",
       "  <tbody>\n",
       "    <tr>\n",
       "      <td>count</td>\n",
       "      <td>1573.000000</td>\n",
       "      <td>1573.000000</td>\n",
       "      <td>1573.000000</td>\n",
       "      <td>1573.000000</td>\n",
       "      <td>1573.000000</td>\n",
       "    </tr>\n",
       "    <tr>\n",
       "      <td>mean</td>\n",
       "      <td>1242.755245</td>\n",
       "      <td>405.250477</td>\n",
       "      <td>31.159568</td>\n",
       "      <td>16.670693</td>\n",
       "      <td>60.331933</td>\n",
       "    </tr>\n",
       "    <tr>\n",
       "      <td>std</td>\n",
       "      <td>139.227939</td>\n",
       "      <td>221.684445</td>\n",
       "      <td>33.566717</td>\n",
       "      <td>7.847522</td>\n",
       "      <td>55.263890</td>\n",
       "    </tr>\n",
       "    <tr>\n",
       "      <td>min</td>\n",
       "      <td>1001.000000</td>\n",
       "      <td>0.000000</td>\n",
       "      <td>0.000000</td>\n",
       "      <td>0.000000</td>\n",
       "      <td>20.000000</td>\n",
       "    </tr>\n",
       "    <tr>\n",
       "      <td>25%</td>\n",
       "      <td>1120.000000</td>\n",
       "      <td>256.000000</td>\n",
       "      <td>3.000000</td>\n",
       "      <td>12.000000</td>\n",
       "      <td>20.000000</td>\n",
       "    </tr>\n",
       "    <tr>\n",
       "      <td>50%</td>\n",
       "      <td>1245.000000</td>\n",
       "      <td>402.000000</td>\n",
       "      <td>24.000000</td>\n",
       "      <td>17.000000</td>\n",
       "      <td>40.150000</td>\n",
       "    </tr>\n",
       "    <tr>\n",
       "      <td>75%</td>\n",
       "      <td>1358.000000</td>\n",
       "      <td>544.000000</td>\n",
       "      <td>47.000000</td>\n",
       "      <td>21.000000</td>\n",
       "      <td>80.000000</td>\n",
       "    </tr>\n",
       "    <tr>\n",
       "      <td>max</td>\n",
       "      <td>1499.000000</td>\n",
       "      <td>1432.000000</td>\n",
       "      <td>266.000000</td>\n",
       "      <td>70.000000</td>\n",
       "      <td>588.660000</td>\n",
       "    </tr>\n",
       "  </tbody>\n",
       "</table>\n",
       "</div>"
      ],
      "text/plain": [
       "           user_id     duration     messages      Gb_used   total_cost\n",
       "count  1573.000000  1573.000000  1573.000000  1573.000000  1573.000000\n",
       "mean   1242.755245   405.250477    31.159568    16.670693    60.331933\n",
       "std     139.227939   221.684445    33.566717     7.847522    55.263890\n",
       "min    1001.000000     0.000000     0.000000     0.000000    20.000000\n",
       "25%    1120.000000   256.000000     3.000000    12.000000    20.000000\n",
       "50%    1245.000000   402.000000    24.000000    17.000000    40.150000\n",
       "75%    1358.000000   544.000000    47.000000    21.000000    80.000000\n",
       "max    1499.000000  1432.000000   266.000000    70.000000   588.660000"
      ]
     },
     "execution_count": 41,
     "metadata": {},
     "output_type": "execute_result"
    },
    {
     "data": {
      "text/html": [
       "<div>\n",
       "<style scoped>\n",
       "    .dataframe tbody tr th:only-of-type {\n",
       "        vertical-align: middle;\n",
       "    }\n",
       "\n",
       "    .dataframe tbody tr th {\n",
       "        vertical-align: top;\n",
       "    }\n",
       "\n",
       "    .dataframe thead th {\n",
       "        text-align: right;\n",
       "    }\n",
       "</style>\n",
       "<table border=\"1\" class=\"dataframe\">\n",
       "  <thead>\n",
       "    <tr style=\"text-align: right;\">\n",
       "      <th></th>\n",
       "      <th>user_id</th>\n",
       "      <th>duration</th>\n",
       "      <th>messages</th>\n",
       "      <th>Gb_used</th>\n",
       "      <th>total_cost</th>\n",
       "    </tr>\n",
       "  </thead>\n",
       "  <tbody>\n",
       "    <tr>\n",
       "      <td>count</td>\n",
       "      <td>720.000000</td>\n",
       "      <td>720.000000</td>\n",
       "      <td>720.000000</td>\n",
       "      <td>720.000000</td>\n",
       "      <td>720.000000</td>\n",
       "    </tr>\n",
       "    <tr>\n",
       "      <td>mean</td>\n",
       "      <td>1253.330556</td>\n",
       "      <td>406.708333</td>\n",
       "      <td>37.551389</td>\n",
       "      <td>17.306944</td>\n",
       "      <td>72.313889</td>\n",
       "    </tr>\n",
       "    <tr>\n",
       "      <td>std</td>\n",
       "      <td>150.915644</td>\n",
       "      <td>227.270019</td>\n",
       "      <td>34.767179</td>\n",
       "      <td>7.670108</td>\n",
       "      <td>11.395108</td>\n",
       "    </tr>\n",
       "    <tr>\n",
       "      <td>min</td>\n",
       "      <td>1000.000000</td>\n",
       "      <td>0.000000</td>\n",
       "      <td>0.000000</td>\n",
       "      <td>0.000000</td>\n",
       "      <td>70.000000</td>\n",
       "    </tr>\n",
       "    <tr>\n",
       "      <td>25%</td>\n",
       "      <td>1126.000000</td>\n",
       "      <td>247.000000</td>\n",
       "      <td>7.000000</td>\n",
       "      <td>13.000000</td>\n",
       "      <td>70.000000</td>\n",
       "    </tr>\n",
       "    <tr>\n",
       "      <td>50%</td>\n",
       "      <td>1241.500000</td>\n",
       "      <td>399.000000</td>\n",
       "      <td>30.000000</td>\n",
       "      <td>17.000000</td>\n",
       "      <td>70.000000</td>\n",
       "    </tr>\n",
       "    <tr>\n",
       "      <td>75%</td>\n",
       "      <td>1401.000000</td>\n",
       "      <td>532.500000</td>\n",
       "      <td>61.000000</td>\n",
       "      <td>21.000000</td>\n",
       "      <td>70.000000</td>\n",
       "    </tr>\n",
       "    <tr>\n",
       "      <td>max</td>\n",
       "      <td>1497.000000</td>\n",
       "      <td>1293.000000</td>\n",
       "      <td>166.000000</td>\n",
       "      <td>46.000000</td>\n",
       "      <td>182.000000</td>\n",
       "    </tr>\n",
       "  </tbody>\n",
       "</table>\n",
       "</div>"
      ],
      "text/plain": [
       "           user_id     duration    messages     Gb_used  total_cost\n",
       "count   720.000000   720.000000  720.000000  720.000000  720.000000\n",
       "mean   1253.330556   406.708333   37.551389   17.306944   72.313889\n",
       "std     150.915644   227.270019   34.767179    7.670108   11.395108\n",
       "min    1000.000000     0.000000    0.000000    0.000000   70.000000\n",
       "25%    1126.000000   247.000000    7.000000   13.000000   70.000000\n",
       "50%    1241.500000   399.000000   30.000000   17.000000   70.000000\n",
       "75%    1401.000000   532.500000   61.000000   21.000000   70.000000\n",
       "max    1497.000000  1293.000000  166.000000   46.000000  182.000000"
      ]
     },
     "execution_count": 41,
     "metadata": {},
     "output_type": "execute_result"
    }
   ],
   "source": [
    "V_surf[['user_id','duration','messages','Gb_used','total_cost']].describe()\n",
    "V_ultimate[['user_id','duration','messages','Gb_used','total_cost']].describe()\n",
    "Volume_Data=V_surf.append(V_ultimate)"
   ]
  },
  {
   "cell_type": "code",
   "execution_count": 42,
   "metadata": {
    "scrolled": false
   },
   "outputs": [
    {
     "name": "stdout",
     "output_type": "stream",
     "text": [
      "Surf Histogram\n",
      "Ultimate Histogram\n"
     ]
    },
    {
     "data": {
      "image/png": "[encoded data removed]",
      "text/plain": [
       "<Figure size 720x360 with 4 Axes>"
      ]
     },
     "metadata": {
      "needs_background": "light"
     },
     "output_type": "display_data"
    },
    {
     "data": {
      "image/png": "[encoded data removed]",
      "text/plain": [
       "<Figure size 720x360 with 4 Axes>"
      ]
     },
     "metadata": {
      "needs_background": "light"
     },
     "output_type": "display_data"
    }
   ],
   "source": [
    "for_histo=V_surf[['Gb_used','messages','duration']]\n",
    "print('Surf Histogram')\n",
    "for_histo.hist(bins=15,figsize=(10,5));\n",
    "plt.title('Your title')\n",
    "for_histo=V_ultimate[['Gb_used','messages','duration']]\n",
    "print('Ultimate Histogram')\n",
    "for_histo.hist(bins=15,figsize=(10,5),xrot=90);\n",
    "plt.subplots_adjust(left=0.1,\n",
    "                    bottom=0.1, \n",
    "                    right=0.9, \n",
    "                    top=0.9, \n",
    "                    wspace=0.2, \n",
    "                    hspace=0.5);"
   ]
  },
  {
   "cell_type": "code",
   "execution_count": 43,
   "metadata": {},
   "outputs": [
    {
     "data": {
      "text/plain": [
       "array([[<matplotlib.axes._subplots.AxesSubplot object at 0x7f3e686dc890>]],\n",
       "      dtype=object)"
      ]
     },
     "execution_count": 43,
     "metadata": {},
     "output_type": "execute_result"
    },
    {
     "data": {
      "image/png": "[encoded data removed]",
      "text/plain": [
       "<Figure size 432x288 with 1 Axes>"
      ]
     },
     "metadata": {
      "needs_background": "light"
     },
     "output_type": "display_data"
    },
    {
     "name": "stdout",
     "output_type": "stream",
     "text": [
      "surf minutes mean: 405.2504767959313 \n",
      "surf minutes variance 49112.75099309753 \n",
      "surf minutes standard deviation 221.61396840699715\n",
      "\n"
     ]
    },
    {
     "data": {
      "text/plain": [
       "array([[<matplotlib.axes._subplots.AxesSubplot object at 0x7f3e6866c150>]],\n",
       "      dtype=object)"
      ]
     },
     "execution_count": 43,
     "metadata": {},
     "output_type": "execute_result"
    },
    {
     "data": {
      "image/png": "[encoded data removed]",
      "text/plain": [
       "<Figure size 432x288 with 1 Axes>"
      ]
     },
     "metadata": {
      "needs_background": "light"
     },
     "output_type": "display_data"
    },
    {
     "name": "stdout",
     "output_type": "stream",
     "text": [
      "surf messages mean: 31.15956770502225 \n",
      "surf messages variance 1126.008231726662 \n",
      "surf messages standard deviation 221.61396840699715\n",
      "\n"
     ]
    },
    {
     "data": {
      "text/plain": [
       "array([[<matplotlib.axes._subplots.AxesSubplot object at 0x7f3e68679a10>]],\n",
       "      dtype=object)"
      ]
     },
     "execution_count": 43,
     "metadata": {},
     "output_type": "execute_result"
    },
    {
     "data": {
      "image/png": "[encoded data removed]",
      "text/plain": [
       "<Figure size 432x288 with 1 Axes>"
      ]
     },
     "metadata": {
      "needs_background": "light"
     },
     "output_type": "display_data"
    },
    {
     "name": "stdout",
     "output_type": "stream",
     "text": [
      "surf data mean: 16.670692943420217 \n",
      "surf data variance 61.54444942447023 \n",
      "surf data standard deviation 221.61396840699715\n",
      "\n"
     ]
    }
   ],
   "source": [
    "# Minutes: (Plot histograms)\n",
    "surf_minutes_mean=V_surf.duration.mean()\n",
    "surf_minutes_variance=np.var(V_surf.duration)\n",
    "surf_minutes_standard_deviation=np.sqrt(surf_minutes_variance)\n",
    "V_surf.hist('duration',density=True);\n",
    "plt.show()\n",
    "print('surf minutes mean:',surf_minutes_mean,'\\nsurf minutes variance',surf_minutes_variance,'\\nsurf minutes standard deviation',surf_minutes_standard_deviation)\n",
    "print()\n",
    "\n",
    "# Messagaes:\n",
    "surf_texts_mean=V_surf.messages.mean()\n",
    "surf_texts_variance=np.var(V_surf.messages)\n",
    "surf_texts_standard_deviation=np.sqrt(surf_minutes_variance)\n",
    "V_surf.hist('messages',density=True);\n",
    "plt.show()\n",
    "print('surf messages mean:',surf_texts_mean,'\\nsurf messages variance',surf_texts_variance,'\\nsurf messages standard deviation',surf_texts_standard_deviation)\n",
    "print()\n",
    "\n",
    "# volume of data:\n",
    "surf_data_mean=V_surf.Gb_used.mean()\n",
    "surf_data_variance=np.var(V_surf.Gb_used)\n",
    "surf_data_standard_deviation=np.sqrt(surf_minutes_variance)\n",
    "V_surf.hist('Gb_used',density=True);\n",
    "plt.show()\n",
    "print('surf data mean:',surf_data_mean,'\\nsurf data variance',surf_data_variance,'\\nsurf data standard deviation',surf_data_standard_deviation)\n",
    "print()"
   ]
  },
  {
   "cell_type": "code",
   "execution_count": 44,
   "metadata": {},
   "outputs": [
    {
     "data": {
      "text/plain": [
       "array([[<matplotlib.axes._subplots.AxesSubplot object at 0x7f3e68ff9890>]],\n",
       "      dtype=object)"
      ]
     },
     "execution_count": 44,
     "metadata": {},
     "output_type": "execute_result"
    },
    {
     "data": {
      "image/png": "[encoded data removed]",
      "text/plain": [
       "<Figure size 432x288 with 1 Axes>"
      ]
     },
     "metadata": {
      "needs_background": "light"
     },
     "output_type": "display_data"
    },
    {
     "name": "stdout",
     "output_type": "stream",
     "text": [
      "ultimate minutes mean: 406.7083333333333 \n",
      "ultimate minutes variance 51579.923263888886 \n",
      "ultimate minutes standard deviation 227.11213808136475\n",
      "\n"
     ]
    },
    {
     "data": {
      "text/plain": [
       "array([[<matplotlib.axes._subplots.AxesSubplot object at 0x7f3e686e4f50>]],\n",
       "      dtype=object)"
      ]
     },
     "execution_count": 44,
     "metadata": {},
     "output_type": "execute_result"
    },
    {
     "data": {
      "image/png": "[encoded data removed]",
      "text/plain": [
       "<Figure size 432x288 with 1 Axes>"
      ]
     },
     "metadata": {
      "needs_background": "light"
     },
     "output_type": "display_data"
    },
    {
     "name": "stdout",
     "output_type": "stream",
     "text": [
      "ultimate messages mean: 37.55138888888889 \n",
      "ultimate messages variance 1207.0779147376543 \n",
      "ultimate messages standard deviation 227.11213808136475\n",
      "\n"
     ]
    },
    {
     "data": {
      "text/plain": [
       "array([[<matplotlib.axes._subplots.AxesSubplot object at 0x7f3e5f242090>]],\n",
       "      dtype=object)"
      ]
     },
     "execution_count": 44,
     "metadata": {},
     "output_type": "execute_result"
    },
    {
     "data": {
      "image/png": "[encoded data removed]",
      "text/plain": [
       "<Figure size 432x288 with 1 Axes>"
      ]
     },
     "metadata": {
      "needs_background": "light"
     },
     "output_type": "display_data"
    },
    {
     "name": "stdout",
     "output_type": "stream",
     "text": [
      "ultimate data mean: 17.306944444444444 \n",
      "ultimate data variance 58.748840663580246 \n",
      "ultimate data standard deviation 227.11213808136475\n",
      "\n"
     ]
    }
   ],
   "source": [
    "# Minutes: (Plot histograms)\n",
    "ultimate_minutes_mean=V_ultimate.duration.mean()\n",
    "ultimate_minutes_variance=np.var(V_ultimate.duration)\n",
    "ultimate_minutes_standard_deviation=np.sqrt(ultimate_minutes_variance)\n",
    "V_ultimate.hist('duration',density=True);\n",
    "plt.show()\n",
    "print('ultimate minutes mean:',ultimate_minutes_mean,'\\nultimate minutes variance',ultimate_minutes_variance,'\\nultimate minutes standard deviation',ultimate_minutes_standard_deviation)\n",
    "print()\n",
    "\n",
    "# Messagaes:\n",
    "ultimate_texts_mean=V_ultimate.messages.mean()\n",
    "ultimate_texts_variance=np.var(V_ultimate.messages)\n",
    "ultimate_texts_standard_deviation=np.sqrt(ultimate_minutes_variance)\n",
    "V_ultimate.hist('messages',density=True);\n",
    "plt.show()\n",
    "print('ultimate messages mean:',ultimate_texts_mean,'\\nultimate messages variance',ultimate_texts_variance,'\\nultimate messages standard deviation',ultimate_texts_standard_deviation)\n",
    "print()\n",
    "\n",
    "# volume of data:\n",
    "ultimate_data_mean=V_ultimate.Gb_used.mean()\n",
    "ultimate_data_variance=np.var(V_ultimate.Gb_used)\n",
    "ultimate_data_standard_deviation=np.sqrt(ultimate_minutes_variance)\n",
    "V_ultimate.hist('Gb_used',density=True);\n",
    "plt.show()\n",
    "print('ultimate data mean:',ultimate_data_mean,'\\nultimate data variance',ultimate_data_variance,'\\nultimate data standard deviation',ultimate_data_standard_deviation)\n",
    "print()"
   ]
  },
  {
   "cell_type": "code",
   "execution_count": 45,
   "metadata": {},
   "outputs": [
    {
     "data": {
      "image/png": "[encoded data removed]",
      "text/plain": [
       "<Figure size 1152x360 with 2 Axes>"
      ]
     },
     "metadata": {
      "needs_background": "light"
     },
     "output_type": "display_data"
    }
   ],
   "source": [
    "# Create one row with 2 columns\n",
    "fig, axes = plt.subplots(1, 2, figsize=(16, 5))\n",
    "sns.distplot(V_surf.total_cost, ax=axes[0]);\n",
    "\n",
    "      # Create a histogram for the second plan\n",
    "sns.distplot(V_ultimate.total_cost, ax=axes[0]);\n",
    "\n",
    "      # Create a boxplot for both plans\n",
    "sns.boxplot(y='total_cost',x='plan',data=Volume_Data);"
   ]
  },
  {
   "cell_type": "markdown",
   "metadata": {},
   "source": [
    "## Step 4. Test the hypotheses"
   ]
  },
  {
   "cell_type": "code",
   "execution_count": 46,
   "metadata": {},
   "outputs": [
    {
     "name": "stdout",
     "output_type": "stream",
     "text": [
      "p-value:  3.6278039040985444e-16\n",
      "We reject the null hypothesis\n",
      "surf mean 60.331932612841705\n",
      "ultimate mean 72.31388888888888\n"
     ]
    }
   ],
   "source": [
    "from scipy import stats as st\n",
    "\n",
    "alpha = 0.05  # critical statistical significance\n",
    "\n",
    "result1 = st.ttest_ind(V_surf.total_cost,V_ultimate.total_cost, equal_var=False)\n",
    "print('p-value: ', result1.pvalue)\n",
    "\n",
    "if result1.pvalue < alpha:\n",
    "    print('We reject the null hypothesis')\n",
    "else:\n",
    "    print(\"We can't reject the null hypothesis\") \n",
    "# general mean\n",
    "surf_mean=V_surf.total_cost.mean()\n",
    "ultimate_mean=V_ultimate.total_cost.mean()\n",
    "print('surf mean',surf_mean)\n",
    "print('ultimate mean',ultimate_mean)"
   ]
  },
  {
   "cell_type": "markdown",
   "metadata": {},
   "source": [
    "<div style=\"border:solid orange 2px; padding: 5px\"; class=\"alert alert-info\">   \n",
    "<span style=\"color:green; font-size: 15px\"> <b>since the pvalue is very small much than 0.05 we will use False because the 2 groups are different from each other</b>"
   ]
  },
  {
   "cell_type": "code",
   "execution_count": 47,
   "metadata": {},
   "outputs": [
    {
     "data": {
      "text/plain": [
       "LeveneResult(statistic=593.1328816278838, pvalue=1.061294265045663e-116)"
      ]
     },
     "execution_count": 47,
     "metadata": {},
     "output_type": "execute_result"
    }
   ],
   "source": [
    "st.levene(V_surf.total_cost,V_ultimate.total_cost,center='mean')"
   ]
  },
  {
   "cell_type": "code",
   "execution_count": 48,
   "metadata": {
    "scrolled": true
   },
   "outputs": [
    {
     "data": {
      "text/html": [
       "<div>\n",
       "<style scoped>\n",
       "    .dataframe tbody tr th:only-of-type {\n",
       "        vertical-align: middle;\n",
       "    }\n",
       "\n",
       "    .dataframe tbody tr th {\n",
       "        vertical-align: top;\n",
       "    }\n",
       "\n",
       "    .dataframe thead th {\n",
       "        text-align: right;\n",
       "    }\n",
       "</style>\n",
       "<table border=\"1\" class=\"dataframe\">\n",
       "  <thead>\n",
       "    <tr style=\"text-align: right;\">\n",
       "      <th></th>\n",
       "      <th>index</th>\n",
       "      <th>user_id</th>\n",
       "      <th>month</th>\n",
       "      <th>usages</th>\n",
       "      <th>calls</th>\n",
       "      <th>duration</th>\n",
       "      <th>messages</th>\n",
       "      <th>Gb_used</th>\n",
       "      <th>full_name</th>\n",
       "      <th>age</th>\n",
       "      <th>city</th>\n",
       "      <th>plan</th>\n",
       "      <th>total_cost</th>\n",
       "    </tr>\n",
       "  </thead>\n",
       "  <tbody>\n",
       "    <tr>\n",
       "      <td>0</td>\n",
       "      <td>1</td>\n",
       "      <td>1001</td>\n",
       "      <td>2018-08-01</td>\n",
       "      <td>25.0</td>\n",
       "      <td>27.0</td>\n",
       "      <td>172.0</td>\n",
       "      <td>30.0</td>\n",
       "      <td>7.0</td>\n",
       "      <td>Mickey Wilkerson</td>\n",
       "      <td>28</td>\n",
       "      <td>Seattle-Tacoma-Bellevue, WA MSA</td>\n",
       "      <td>surf</td>\n",
       "      <td>20.00</td>\n",
       "    </tr>\n",
       "    <tr>\n",
       "      <td>1</td>\n",
       "      <td>2</td>\n",
       "      <td>1001</td>\n",
       "      <td>2018-09-01</td>\n",
       "      <td>53.0</td>\n",
       "      <td>49.0</td>\n",
       "      <td>298.0</td>\n",
       "      <td>44.0</td>\n",
       "      <td>14.0</td>\n",
       "      <td>Mickey Wilkerson</td>\n",
       "      <td>28</td>\n",
       "      <td>Seattle-Tacoma-Bellevue, WA MSA</td>\n",
       "      <td>surf</td>\n",
       "      <td>20.00</td>\n",
       "    </tr>\n",
       "    <tr>\n",
       "      <td>2</td>\n",
       "      <td>3</td>\n",
       "      <td>1001</td>\n",
       "      <td>2018-10-01</td>\n",
       "      <td>56.0</td>\n",
       "      <td>65.0</td>\n",
       "      <td>375.0</td>\n",
       "      <td>53.0</td>\n",
       "      <td>22.0</td>\n",
       "      <td>Mickey Wilkerson</td>\n",
       "      <td>28</td>\n",
       "      <td>Seattle-Tacoma-Bellevue, WA MSA</td>\n",
       "      <td>surf</td>\n",
       "      <td>90.09</td>\n",
       "    </tr>\n",
       "    <tr>\n",
       "      <td>3</td>\n",
       "      <td>4</td>\n",
       "      <td>1001</td>\n",
       "      <td>2018-11-01</td>\n",
       "      <td>51.0</td>\n",
       "      <td>64.0</td>\n",
       "      <td>405.0</td>\n",
       "      <td>36.0</td>\n",
       "      <td>19.0</td>\n",
       "      <td>Mickey Wilkerson</td>\n",
       "      <td>28</td>\n",
       "      <td>Seattle-Tacoma-Bellevue, WA MSA</td>\n",
       "      <td>surf</td>\n",
       "      <td>60.00</td>\n",
       "    </tr>\n",
       "    <tr>\n",
       "      <td>4</td>\n",
       "      <td>5</td>\n",
       "      <td>1001</td>\n",
       "      <td>2018-12-01</td>\n",
       "      <td>60.0</td>\n",
       "      <td>56.0</td>\n",
       "      <td>393.0</td>\n",
       "      <td>44.0</td>\n",
       "      <td>19.0</td>\n",
       "      <td>Mickey Wilkerson</td>\n",
       "      <td>28</td>\n",
       "      <td>Seattle-Tacoma-Bellevue, WA MSA</td>\n",
       "      <td>surf</td>\n",
       "      <td>60.00</td>\n",
       "    </tr>\n",
       "  </tbody>\n",
       "</table>\n",
       "</div>"
      ],
      "text/plain": [
       "   index  user_id      month  usages  calls  duration  messages  Gb_used  \\\n",
       "0      1     1001 2018-08-01    25.0   27.0     172.0      30.0      7.0   \n",
       "1      2     1001 2018-09-01    53.0   49.0     298.0      44.0     14.0   \n",
       "2      3     1001 2018-10-01    56.0   65.0     375.0      53.0     22.0   \n",
       "3      4     1001 2018-11-01    51.0   64.0     405.0      36.0     19.0   \n",
       "4      5     1001 2018-12-01    60.0   56.0     393.0      44.0     19.0   \n",
       "\n",
       "          full_name  age                             city  plan  total_cost  \n",
       "0  Mickey Wilkerson   28  Seattle-Tacoma-Bellevue, WA MSA  surf       20.00  \n",
       "1  Mickey Wilkerson   28  Seattle-Tacoma-Bellevue, WA MSA  surf       20.00  \n",
       "2  Mickey Wilkerson   28  Seattle-Tacoma-Bellevue, WA MSA  surf       90.09  \n",
       "3  Mickey Wilkerson   28  Seattle-Tacoma-Bellevue, WA MSA  surf       60.00  \n",
       "4  Mickey Wilkerson   28  Seattle-Tacoma-Bellevue, WA MSA  surf       60.00  "
      ]
     },
     "execution_count": 48,
     "metadata": {},
     "output_type": "execute_result"
    }
   ],
   "source": [
    "Volume_Data=V_surf.append(V_ultimate)\n",
    "Volume_Data.head()\n"
   ]
  },
  {
   "cell_type": "code",
   "execution_count": 49,
   "metadata": {
    "scrolled": false
   },
   "outputs": [
    {
     "data": {
      "text/html": [
       "<div>\n",
       "<style scoped>\n",
       "    .dataframe tbody tr th:only-of-type {\n",
       "        vertical-align: middle;\n",
       "    }\n",
       "\n",
       "    .dataframe tbody tr th {\n",
       "        vertical-align: top;\n",
       "    }\n",
       "\n",
       "    .dataframe thead th {\n",
       "        text-align: right;\n",
       "    }\n",
       "</style>\n",
       "<table border=\"1\" class=\"dataframe\">\n",
       "  <thead>\n",
       "    <tr style=\"text-align: right;\">\n",
       "      <th></th>\n",
       "      <th>index</th>\n",
       "      <th>user_id</th>\n",
       "      <th>month</th>\n",
       "      <th>usages</th>\n",
       "      <th>calls</th>\n",
       "      <th>duration</th>\n",
       "      <th>messages</th>\n",
       "      <th>Gb_used</th>\n",
       "      <th>full_name</th>\n",
       "      <th>age</th>\n",
       "      <th>city</th>\n",
       "      <th>plan</th>\n",
       "      <th>total_cost</th>\n",
       "    </tr>\n",
       "  </thead>\n",
       "  <tbody>\n",
       "    <tr>\n",
       "      <td>42</td>\n",
       "      <td>56</td>\n",
       "      <td>1014</td>\n",
       "      <td>2018-11-01</td>\n",
       "      <td>1.0</td>\n",
       "      <td>28.0</td>\n",
       "      <td>150.0</td>\n",
       "      <td>9.0</td>\n",
       "      <td>2.0</td>\n",
       "      <td>Edmundo Simon</td>\n",
       "      <td>61</td>\n",
       "      <td>New York-Newark-Jersey City, NY-NJ-PA MSA</td>\n",
       "      <td>surf</td>\n",
       "      <td>20.00</td>\n",
       "    </tr>\n",
       "    <tr>\n",
       "      <td>43</td>\n",
       "      <td>57</td>\n",
       "      <td>1014</td>\n",
       "      <td>2018-12-01</td>\n",
       "      <td>19.0</td>\n",
       "      <td>150.0</td>\n",
       "      <td>1051.0</td>\n",
       "      <td>64.0</td>\n",
       "      <td>8.0</td>\n",
       "      <td>Edmundo Simon</td>\n",
       "      <td>61</td>\n",
       "      <td>New York-Newark-Jersey City, NY-NJ-PA MSA</td>\n",
       "      <td>surf</td>\n",
       "      <td>36.95</td>\n",
       "    </tr>\n",
       "    <tr>\n",
       "      <td>61</td>\n",
       "      <td>75</td>\n",
       "      <td>1022</td>\n",
       "      <td>2018-05-01</td>\n",
       "      <td>14.0</td>\n",
       "      <td>39.0</td>\n",
       "      <td>288.0</td>\n",
       "      <td>0.0</td>\n",
       "      <td>5.0</td>\n",
       "      <td>Bo Snow</td>\n",
       "      <td>73</td>\n",
       "      <td>New York-Newark-Jersey City, NY-NJ-PA MSA</td>\n",
       "      <td>surf</td>\n",
       "      <td>20.00</td>\n",
       "    </tr>\n",
       "    <tr>\n",
       "      <td>62</td>\n",
       "      <td>76</td>\n",
       "      <td>1022</td>\n",
       "      <td>2018-06-01</td>\n",
       "      <td>77.0</td>\n",
       "      <td>76.0</td>\n",
       "      <td>456.0</td>\n",
       "      <td>0.0</td>\n",
       "      <td>23.0</td>\n",
       "      <td>Bo Snow</td>\n",
       "      <td>73</td>\n",
       "      <td>New York-Newark-Jersey City, NY-NJ-PA MSA</td>\n",
       "      <td>surf</td>\n",
       "      <td>100.00</td>\n",
       "    </tr>\n",
       "    <tr>\n",
       "      <td>63</td>\n",
       "      <td>77</td>\n",
       "      <td>1022</td>\n",
       "      <td>2018-07-01</td>\n",
       "      <td>42.0</td>\n",
       "      <td>70.0</td>\n",
       "      <td>449.0</td>\n",
       "      <td>0.0</td>\n",
       "      <td>10.0</td>\n",
       "      <td>Bo Snow</td>\n",
       "      <td>73</td>\n",
       "      <td>New York-Newark-Jersey City, NY-NJ-PA MSA</td>\n",
       "      <td>surf</td>\n",
       "      <td>20.00</td>\n",
       "    </tr>\n",
       "  </tbody>\n",
       "</table>\n",
       "</div>"
      ],
      "text/plain": [
       "    index  user_id      month  usages  calls  duration  messages  Gb_used  \\\n",
       "42     56     1014 2018-11-01     1.0   28.0     150.0       9.0      2.0   \n",
       "43     57     1014 2018-12-01    19.0  150.0    1051.0      64.0      8.0   \n",
       "61     75     1022 2018-05-01    14.0   39.0     288.0       0.0      5.0   \n",
       "62     76     1022 2018-06-01    77.0   76.0     456.0       0.0     23.0   \n",
       "63     77     1022 2018-07-01    42.0   70.0     449.0       0.0     10.0   \n",
       "\n",
       "        full_name  age                                       city  plan  \\\n",
       "42  Edmundo Simon   61  New York-Newark-Jersey City, NY-NJ-PA MSA  surf   \n",
       "43  Edmundo Simon   61  New York-Newark-Jersey City, NY-NJ-PA MSA  surf   \n",
       "61        Bo Snow   73  New York-Newark-Jersey City, NY-NJ-PA MSA  surf   \n",
       "62        Bo Snow   73  New York-Newark-Jersey City, NY-NJ-PA MSA  surf   \n",
       "63        Bo Snow   73  New York-Newark-Jersey City, NY-NJ-PA MSA  surf   \n",
       "\n",
       "    total_cost  \n",
       "42       20.00  \n",
       "43       36.95  \n",
       "61       20.00  \n",
       "62      100.00  \n",
       "63       20.00  "
      ]
     },
     "execution_count": 49,
     "metadata": {},
     "output_type": "execute_result"
    },
    {
     "data": {
      "text/html": [
       "<div>\n",
       "<style scoped>\n",
       "    .dataframe tbody tr th:only-of-type {\n",
       "        vertical-align: middle;\n",
       "    }\n",
       "\n",
       "    .dataframe tbody tr th {\n",
       "        vertical-align: top;\n",
       "    }\n",
       "\n",
       "    .dataframe thead th {\n",
       "        text-align: right;\n",
       "    }\n",
       "</style>\n",
       "<table border=\"1\" class=\"dataframe\">\n",
       "  <thead>\n",
       "    <tr style=\"text-align: right;\">\n",
       "      <th></th>\n",
       "      <th>index</th>\n",
       "      <th>user_id</th>\n",
       "      <th>month</th>\n",
       "      <th>usages</th>\n",
       "      <th>calls</th>\n",
       "      <th>duration</th>\n",
       "      <th>messages</th>\n",
       "      <th>Gb_used</th>\n",
       "      <th>full_name</th>\n",
       "      <th>age</th>\n",
       "      <th>city</th>\n",
       "      <th>plan</th>\n",
       "      <th>total_cost</th>\n",
       "    </tr>\n",
       "  </thead>\n",
       "  <tbody>\n",
       "    <tr>\n",
       "      <td>0</td>\n",
       "      <td>1</td>\n",
       "      <td>1001</td>\n",
       "      <td>2018-08-01</td>\n",
       "      <td>25.0</td>\n",
       "      <td>27.0</td>\n",
       "      <td>172.0</td>\n",
       "      <td>30.0</td>\n",
       "      <td>7.0</td>\n",
       "      <td>Mickey Wilkerson</td>\n",
       "      <td>28</td>\n",
       "      <td>Seattle-Tacoma-Bellevue, WA MSA</td>\n",
       "      <td>surf</td>\n",
       "      <td>20.00</td>\n",
       "    </tr>\n",
       "    <tr>\n",
       "      <td>1</td>\n",
       "      <td>2</td>\n",
       "      <td>1001</td>\n",
       "      <td>2018-09-01</td>\n",
       "      <td>53.0</td>\n",
       "      <td>49.0</td>\n",
       "      <td>298.0</td>\n",
       "      <td>44.0</td>\n",
       "      <td>14.0</td>\n",
       "      <td>Mickey Wilkerson</td>\n",
       "      <td>28</td>\n",
       "      <td>Seattle-Tacoma-Bellevue, WA MSA</td>\n",
       "      <td>surf</td>\n",
       "      <td>20.00</td>\n",
       "    </tr>\n",
       "    <tr>\n",
       "      <td>2</td>\n",
       "      <td>3</td>\n",
       "      <td>1001</td>\n",
       "      <td>2018-10-01</td>\n",
       "      <td>56.0</td>\n",
       "      <td>65.0</td>\n",
       "      <td>375.0</td>\n",
       "      <td>53.0</td>\n",
       "      <td>22.0</td>\n",
       "      <td>Mickey Wilkerson</td>\n",
       "      <td>28</td>\n",
       "      <td>Seattle-Tacoma-Bellevue, WA MSA</td>\n",
       "      <td>surf</td>\n",
       "      <td>90.09</td>\n",
       "    </tr>\n",
       "    <tr>\n",
       "      <td>3</td>\n",
       "      <td>4</td>\n",
       "      <td>1001</td>\n",
       "      <td>2018-11-01</td>\n",
       "      <td>51.0</td>\n",
       "      <td>64.0</td>\n",
       "      <td>405.0</td>\n",
       "      <td>36.0</td>\n",
       "      <td>19.0</td>\n",
       "      <td>Mickey Wilkerson</td>\n",
       "      <td>28</td>\n",
       "      <td>Seattle-Tacoma-Bellevue, WA MSA</td>\n",
       "      <td>surf</td>\n",
       "      <td>60.00</td>\n",
       "    </tr>\n",
       "    <tr>\n",
       "      <td>4</td>\n",
       "      <td>5</td>\n",
       "      <td>1001</td>\n",
       "      <td>2018-12-01</td>\n",
       "      <td>60.0</td>\n",
       "      <td>56.0</td>\n",
       "      <td>393.0</td>\n",
       "      <td>44.0</td>\n",
       "      <td>19.0</td>\n",
       "      <td>Mickey Wilkerson</td>\n",
       "      <td>28</td>\n",
       "      <td>Seattle-Tacoma-Bellevue, WA MSA</td>\n",
       "      <td>surf</td>\n",
       "      <td>60.00</td>\n",
       "    </tr>\n",
       "  </tbody>\n",
       "</table>\n",
       "</div>"
      ],
      "text/plain": [
       "   index  user_id      month  usages  calls  duration  messages  Gb_used  \\\n",
       "0      1     1001 2018-08-01    25.0   27.0     172.0      30.0      7.0   \n",
       "1      2     1001 2018-09-01    53.0   49.0     298.0      44.0     14.0   \n",
       "2      3     1001 2018-10-01    56.0   65.0     375.0      53.0     22.0   \n",
       "3      4     1001 2018-11-01    51.0   64.0     405.0      36.0     19.0   \n",
       "4      5     1001 2018-12-01    60.0   56.0     393.0      44.0     19.0   \n",
       "\n",
       "          full_name  age                             city  plan  total_cost  \n",
       "0  Mickey Wilkerson   28  Seattle-Tacoma-Bellevue, WA MSA  surf       20.00  \n",
       "1  Mickey Wilkerson   28  Seattle-Tacoma-Bellevue, WA MSA  surf       20.00  \n",
       "2  Mickey Wilkerson   28  Seattle-Tacoma-Bellevue, WA MSA  surf       90.09  \n",
       "3  Mickey Wilkerson   28  Seattle-Tacoma-Bellevue, WA MSA  surf       60.00  \n",
       "4  Mickey Wilkerson   28  Seattle-Tacoma-Bellevue, WA MSA  surf       60.00  "
      ]
     },
     "execution_count": 49,
     "metadata": {},
     "output_type": "execute_result"
    },
    {
     "name": "stdout",
     "output_type": "stream",
     "text": [
      "p-value:  0.040767842798790206\n",
      "We reject the null hypothesis\n",
      "NY_NJ users mean 59.61180371352785\n",
      "other regions mean 64.97624217118998\n"
     ]
    }
   ],
   "source": [
    "ny_nj_users=Volume_Data[Volume_Data['city'].str.contains('NY-NJ')]\n",
    "ny_nj_users.head() # our users from NY-Nj.\n",
    "\n",
    "other_regions = Volume_Data[~Volume_Data['city'].str.contains('NY-NJ')]\n",
    "other_regions.head() # our users from everywhere but NY-Nj.\n",
    "\n",
    "result2 = st.ttest_ind(ny_nj_users.total_cost,other_regions.total_cost, equal_var=True)\n",
    "print('p-value: ', result2.pvalue)\n",
    "\n",
    "if (result2.pvalue<alpha):\n",
    "    print('We reject the null hypothesis')\n",
    "else:\n",
    "    print(\"We can't reject the null hypothesis\") \n",
    "# general mean\n",
    "ny_nj_users_mean=ny_nj_users.total_cost.mean()\n",
    "other_regions_mean=other_regions.total_cost.mean()\n",
    "print('NY_NJ users mean',ny_nj_users_mean)\n",
    "print('other regions mean',other_regions_mean)"
   ]
  },
  {
   "cell_type": "markdown",
   "metadata": {},
   "source": [
    "<div style=\"border:solid orange 2px; padding: 5px\"; class=\"alert alert-info\">   \n",
    "<span style=\"color:green; font-size: 15px\"> <b>since the pvalue is bigger than 0.05 we will use True because the 2 groups have similarity</b>"
   ]
  },
  {
   "cell_type": "code",
   "execution_count": 50,
   "metadata": {
    "scrolled": true
   },
   "outputs": [
    {
     "data": {
      "text/plain": [
       "LeveneResult(statistic=1.8284091018252946, pvalue=0.17644903028616707)"
      ]
     },
     "execution_count": 50,
     "metadata": {},
     "output_type": "execute_result"
    }
   ],
   "source": [
    "st.levene(ny_nj_users.total_cost,other_regions.total_cost,center='mean')"
   ]
  },
  {
   "cell_type": "markdown",
   "metadata": {},
   "source": [
    "<div style=\"border:solid orange 2px; padding: 5px\"; class=\"alert alert-info\">   \n",
    "<span style=\"color:green; font-size: 15px\"> <b> SO WE UNDERSTAND THAT THEY ARE DIFFERENT, LIKE WE THOUGHT\n",
    "    <br> although the chance for those groups is much higher to be similar as the earlier one</b>"
   ]
  },
  {
   "cell_type": "markdown",
   "metadata": {},
   "source": [
    "## Step 5. Write an overall conclusion"
   ]
  },
  {
   "cell_type": "markdown",
   "metadata": {},
   "source": [
    "<div style=\"border:solid dark_blue 5px; padding: 5px\"; class=\"alert alert-success\">   \n",
    "<span style=\"color:black; font-size: 15px\"> <b>\n",
    "A phone company needs to find it's revenue from its' clients, which serves them with 3 kinds of services defined under 2 different plans. the company stored its data in 1 main file and 3 files for the 3 services and 1 file to describe the costs of every plan from the 2.\n",
    "I had to check the data in all the files, by cleaning the missing files or replacing them so that it will not harm the overall meaning of all the data, and converted the date data in the proper dtype as dates. then I worked on calculating The number of calls made and minutes used per month, and the same with The number of text messages sent per month, then I worked on merging the tables to find the monthly revenue from each user, and by testing the results I found that there is no similarity between the groups, those who are from New York-Newark-Jersey City, and those who are not from there."
   ]
  }
 ],
 "metadata": {
  "ExecuteTimeLog": [
   {
    "duration": 8,
    "start_time": "2022-01-31T18:20:51.643Z"
   },
   {
    "duration": 4076,
    "start_time": "2022-01-31T18:20:51.654Z"
   },
   {
    "duration": 666,
    "start_time": "2022-01-31T18:21:30.699Z"
   },
   {
    "duration": 92,
    "start_time": "2022-01-31T18:26:23.020Z"
   },
   {
    "duration": 359,
    "start_time": "2022-01-31T18:27:32.515Z"
   },
   {
    "duration": 23,
    "start_time": "2022-01-31T18:28:05.123Z"
   },
   {
    "duration": 68,
    "start_time": "2022-01-31T18:29:31.465Z"
   },
   {
    "duration": 67,
    "start_time": "2022-01-31T18:30:12.049Z"
   },
   {
    "duration": 18,
    "start_time": "2022-01-31T18:31:05.520Z"
   },
   {
    "duration": 17,
    "start_time": "2022-01-31T18:32:26.549Z"
   },
   {
    "duration": 18,
    "start_time": "2022-01-31T18:33:20.642Z"
   },
   {
    "duration": 594,
    "start_time": "2022-01-31T18:34:03.577Z"
   },
   {
    "duration": 464,
    "start_time": "2022-01-31T18:34:50.805Z"
   },
   {
    "duration": 10,
    "start_time": "2022-01-31T18:35:01.403Z"
   },
   {
    "duration": 8,
    "start_time": "2022-01-31T18:35:11.476Z"
   },
   {
    "duration": 381,
    "start_time": "2022-01-31T18:35:27.260Z"
   },
   {
    "duration": 445,
    "start_time": "2022-01-31T18:35:50.026Z"
   },
   {
    "duration": 11,
    "start_time": "2022-01-31T18:36:23.089Z"
   },
   {
    "duration": 375,
    "start_time": "2022-01-31T18:37:14.569Z"
   },
   {
    "duration": 41,
    "start_time": "2022-01-31T18:37:37.341Z"
   },
   {
    "duration": 22,
    "start_time": "2022-01-31T18:39:25.678Z"
   },
   {
    "duration": 19,
    "start_time": "2022-01-31T18:39:34.776Z"
   },
   {
    "duration": 32,
    "start_time": "2022-01-31T18:39:44.048Z"
   },
   {
    "duration": 11,
    "start_time": "2022-01-31T18:39:54.077Z"
   },
   {
    "duration": 11,
    "start_time": "2022-01-31T18:39:56.937Z"
   },
   {
    "duration": 10,
    "start_time": "2022-01-31T18:42:31.349Z"
   },
   {
    "duration": 11,
    "start_time": "2022-01-31T18:43:13.477Z"
   },
   {
    "duration": 6,
    "start_time": "2022-01-31T18:43:39.832Z"
   },
   {
    "duration": 740,
    "start_time": "2022-01-31T18:46:18.538Z"
   },
   {
    "duration": 13,
    "start_time": "2022-01-31T18:47:21.838Z"
   },
   {
    "duration": 422,
    "start_time": "2022-01-31T18:47:30.805Z"
   },
   {
    "duration": 10,
    "start_time": "2022-01-31T18:47:34.397Z"
   },
   {
    "duration": 29,
    "start_time": "2022-01-31T18:47:56.141Z"
   },
   {
    "duration": 660,
    "start_time": "2022-01-31T18:56:54.450Z"
   },
   {
    "duration": 1023,
    "start_time": "2022-01-31T18:57:33.279Z"
   },
   {
    "duration": 585,
    "start_time": "2022-01-31T18:58:46.030Z"
   },
   {
    "duration": 565,
    "start_time": "2022-01-31T19:01:46.813Z"
   },
   {
    "duration": 532,
    "start_time": "2022-01-31T19:01:56.693Z"
   },
   {
    "duration": 510,
    "start_time": "2022-01-31T19:02:56.758Z"
   },
   {
    "duration": 564,
    "start_time": "2022-01-31T19:03:17.803Z"
   },
   {
    "duration": 676,
    "start_time": "2022-01-31T19:03:40.681Z"
   },
   {
    "duration": 61,
    "start_time": "2022-01-31T19:11:22.746Z"
   },
   {
    "duration": 69,
    "start_time": "2022-01-31T19:13:22.176Z"
   },
   {
    "duration": 71,
    "start_time": "2022-01-31T19:14:16.250Z"
   },
   {
    "duration": 8,
    "start_time": "2022-01-31T19:27:10.302Z"
   },
   {
    "duration": 6,
    "start_time": "2022-01-31T19:27:27.716Z"
   },
   {
    "duration": 9636,
    "start_time": "2022-01-31T19:30:03.638Z"
   },
   {
    "duration": 414,
    "start_time": "2022-01-31T19:31:37.473Z"
   },
   {
    "duration": 7845,
    "start_time": "2022-01-31T19:33:05.687Z"
   },
   {
    "duration": 5,
    "start_time": "2022-01-31T19:34:42.269Z"
   },
   {
    "duration": 8672,
    "start_time": "2022-01-31T19:37:43.546Z"
   },
   {
    "duration": 8245,
    "start_time": "2022-01-31T19:41:50.797Z"
   },
   {
    "duration": 7,
    "start_time": "2022-01-31T19:42:39.708Z"
   },
   {
    "duration": 10,
    "start_time": "2022-01-31T19:43:16.754Z"
   },
   {
    "duration": 34,
    "start_time": "2022-01-31T19:43:28.359Z"
   },
   {
    "duration": 31,
    "start_time": "2022-01-31T19:45:56.634Z"
   },
   {
    "duration": 7,
    "start_time": "2022-01-31T19:46:40.207Z"
   },
   {
    "duration": 458,
    "start_time": "2022-01-31T19:47:52.996Z"
   },
   {
    "duration": 16,
    "start_time": "2022-01-31T19:48:38.638Z"
   },
   {
    "duration": 19,
    "start_time": "2022-01-31T19:49:59.609Z"
   },
   {
    "duration": 37,
    "start_time": "2022-01-31T19:50:14.629Z"
   },
   {
    "duration": 59,
    "start_time": "2022-01-31T19:50:59.128Z"
   },
   {
    "duration": 56,
    "start_time": "2022-01-31T19:51:19.400Z"
   },
   {
    "duration": 42,
    "start_time": "2022-01-31T19:51:31.512Z"
   },
   {
    "duration": 41,
    "start_time": "2022-01-31T19:51:41.055Z"
   },
   {
    "duration": 31,
    "start_time": "2022-01-31T19:55:10.020Z"
   },
   {
    "duration": 71,
    "start_time": "2022-01-31T19:55:30.507Z"
   },
   {
    "duration": 2230,
    "start_time": "2022-02-01T07:03:51.946Z"
   },
   {
    "duration": 327,
    "start_time": "2022-02-01T07:04:05.880Z"
   },
   {
    "duration": 330,
    "start_time": "2022-02-01T07:04:15.547Z"
   },
   {
    "duration": 444,
    "start_time": "2022-02-01T07:04:29.029Z"
   },
   {
    "duration": 1346,
    "start_time": "2022-02-01T07:04:35.181Z"
   },
   {
    "duration": 1314,
    "start_time": "2022-02-01T07:04:36.528Z"
   },
   {
    "duration": 14,
    "start_time": "2022-02-01T07:04:37.844Z"
   },
   {
    "duration": 17,
    "start_time": "2022-02-01T07:04:52.856Z"
   },
   {
    "duration": 408,
    "start_time": "2022-02-01T07:05:48.094Z"
   },
   {
    "duration": 428,
    "start_time": "2022-02-01T07:05:55.881Z"
   },
   {
    "duration": 16,
    "start_time": "2022-02-01T07:06:06.628Z"
   },
   {
    "duration": 23,
    "start_time": "2022-02-01T07:06:23.300Z"
   },
   {
    "duration": 15,
    "start_time": "2022-02-01T07:06:43.782Z"
   },
   {
    "duration": 3,
    "start_time": "2022-02-01T07:12:46.866Z"
   },
   {
    "duration": 344,
    "start_time": "2022-02-01T07:12:46.874Z"
   },
   {
    "duration": 13,
    "start_time": "2022-02-01T07:12:47.219Z"
   },
   {
    "duration": 11,
    "start_time": "2022-02-01T07:12:47.234Z"
   },
   {
    "duration": 9,
    "start_time": "2022-02-01T07:12:47.246Z"
   },
   {
    "duration": 5,
    "start_time": "2022-02-01T07:12:47.257Z"
   },
   {
    "duration": 7,
    "start_time": "2022-02-01T07:12:47.263Z"
   },
   {
    "duration": 6,
    "start_time": "2022-02-01T07:12:47.271Z"
   },
   {
    "duration": 6,
    "start_time": "2022-02-01T07:12:47.279Z"
   },
   {
    "duration": 59,
    "start_time": "2022-02-01T07:12:47.286Z"
   },
   {
    "duration": 3,
    "start_time": "2022-02-01T07:12:47.347Z"
   },
   {
    "duration": 10,
    "start_time": "2022-02-01T07:12:47.352Z"
   },
   {
    "duration": 3,
    "start_time": "2022-02-01T07:12:47.363Z"
   },
   {
    "duration": 20,
    "start_time": "2022-02-01T07:13:01.011Z"
   },
   {
    "duration": 19,
    "start_time": "2022-02-01T07:13:24.768Z"
   },
   {
    "duration": 12,
    "start_time": "2022-02-01T07:14:08.193Z"
   },
   {
    "duration": 9,
    "start_time": "2022-02-01T07:15:10.931Z"
   },
   {
    "duration": 12,
    "start_time": "2022-02-01T07:15:42.948Z"
   },
   {
    "duration": 427,
    "start_time": "2022-02-01T07:17:04.701Z"
   },
   {
    "duration": 4,
    "start_time": "2022-02-01T07:17:17.935Z"
   },
   {
    "duration": 14,
    "start_time": "2022-02-01T07:17:18.781Z"
   },
   {
    "duration": 383,
    "start_time": "2022-02-01T07:17:20.269Z"
   },
   {
    "duration": 5,
    "start_time": "2022-02-01T07:19:32.875Z"
   },
   {
    "duration": 19,
    "start_time": "2022-02-01T07:19:35.170Z"
   },
   {
    "duration": 22,
    "start_time": "2022-02-01T07:19:52.958Z"
   },
   {
    "duration": 33,
    "start_time": "2022-02-01T07:21:15.433Z"
   },
   {
    "duration": 107,
    "start_time": "2022-02-01T07:21:45.065Z"
   },
   {
    "duration": 45,
    "start_time": "2022-02-01T07:21:55.380Z"
   },
   {
    "duration": 110,
    "start_time": "2022-02-01T07:23:04.715Z"
   },
   {
    "duration": 24,
    "start_time": "2022-02-01T07:23:17.700Z"
   },
   {
    "duration": 25,
    "start_time": "2022-02-01T07:23:40.828Z"
   },
   {
    "duration": 7,
    "start_time": "2022-02-01T07:24:01.925Z"
   },
   {
    "duration": 20,
    "start_time": "2022-02-01T07:25:40.637Z"
   },
   {
    "duration": 16,
    "start_time": "2022-02-01T07:26:01.786Z"
   },
   {
    "duration": 8,
    "start_time": "2022-02-01T07:26:29.786Z"
   },
   {
    "duration": 7,
    "start_time": "2022-02-01T07:26:55.414Z"
   },
   {
    "duration": 13,
    "start_time": "2022-02-01T07:27:32.797Z"
   },
   {
    "duration": 18,
    "start_time": "2022-02-01T07:28:04.439Z"
   },
   {
    "duration": 20,
    "start_time": "2022-02-01T07:30:53.755Z"
   },
   {
    "duration": 11,
    "start_time": "2022-02-01T07:36:18.652Z"
   },
   {
    "duration": 11,
    "start_time": "2022-02-01T07:37:03.019Z"
   },
   {
    "duration": 14,
    "start_time": "2022-02-01T07:37:54.539Z"
   },
   {
    "duration": 19,
    "start_time": "2022-02-01T07:38:13.108Z"
   },
   {
    "duration": 154,
    "start_time": "2022-02-01T07:39:27.974Z"
   },
   {
    "duration": 22,
    "start_time": "2022-02-01T07:39:55.843Z"
   },
   {
    "duration": 11,
    "start_time": "2022-02-01T07:43:59.585Z"
   },
   {
    "duration": 11,
    "start_time": "2022-02-01T07:44:23.883Z"
   },
   {
    "duration": 6,
    "start_time": "2022-02-01T07:50:30.437Z"
   },
   {
    "duration": 303,
    "start_time": "2022-02-01T07:58:06.117Z"
   },
   {
    "duration": 597,
    "start_time": "2022-02-01T07:59:49.854Z"
   },
   {
    "duration": 576,
    "start_time": "2022-02-01T08:03:57.007Z"
   },
   {
    "duration": 15,
    "start_time": "2022-02-01T08:10:53.652Z"
   },
   {
    "duration": 11,
    "start_time": "2022-02-01T08:11:58.001Z"
   },
   {
    "duration": 23,
    "start_time": "2022-02-01T08:12:24.084Z"
   },
   {
    "duration": 7,
    "start_time": "2022-02-01T08:13:14.469Z"
   },
   {
    "duration": 14,
    "start_time": "2022-02-01T08:13:51.656Z"
   },
   {
    "duration": 648,
    "start_time": "2022-02-01T10:58:08.234Z"
   },
   {
    "duration": 633,
    "start_time": "2022-02-01T10:59:34.817Z"
   },
   {
    "duration": 110,
    "start_time": "2022-02-01T11:00:32.886Z"
   },
   {
    "duration": 624,
    "start_time": "2022-02-01T11:01:14.818Z"
   },
   {
    "duration": 1385,
    "start_time": "2022-02-01T11:18:04.333Z"
   },
   {
    "duration": 624,
    "start_time": "2022-02-01T11:18:05.720Z"
   },
   {
    "duration": 19,
    "start_time": "2022-02-01T11:18:06.346Z"
   },
   {
    "duration": 5,
    "start_time": "2022-02-01T11:18:06.367Z"
   },
   {
    "duration": 6,
    "start_time": "2022-02-01T11:18:06.374Z"
   },
   {
    "duration": 5,
    "start_time": "2022-02-01T11:18:06.381Z"
   },
   {
    "duration": 44,
    "start_time": "2022-02-01T11:18:06.387Z"
   },
   {
    "duration": 3,
    "start_time": "2022-02-01T11:18:06.433Z"
   },
   {
    "duration": 18,
    "start_time": "2022-02-01T11:18:06.438Z"
   },
   {
    "duration": 23,
    "start_time": "2022-02-01T11:18:06.458Z"
   },
   {
    "duration": 56,
    "start_time": "2022-02-01T11:18:06.483Z"
   },
   {
    "duration": 19,
    "start_time": "2022-02-01T11:18:06.540Z"
   },
   {
    "duration": 26,
    "start_time": "2022-02-01T11:49:50.395Z"
   },
   {
    "duration": 36,
    "start_time": "2022-02-01T11:50:53.983Z"
   },
   {
    "duration": 36,
    "start_time": "2022-02-01T12:03:03.282Z"
   },
   {
    "duration": 440,
    "start_time": "2022-02-01T12:06:00.085Z"
   },
   {
    "duration": 18,
    "start_time": "2022-02-01T12:06:33.744Z"
   },
   {
    "duration": 31,
    "start_time": "2022-02-01T12:08:33.751Z"
   },
   {
    "duration": 20,
    "start_time": "2022-02-01T12:12:12.094Z"
   },
   {
    "duration": 14,
    "start_time": "2022-02-01T12:28:39.825Z"
   },
   {
    "duration": 10,
    "start_time": "2022-02-01T12:28:51.175Z"
   },
   {
    "duration": 367,
    "start_time": "2022-02-01T12:32:16.565Z"
   },
   {
    "duration": 217,
    "start_time": "2022-02-01T12:32:40.148Z"
   },
   {
    "duration": 12,
    "start_time": "2022-02-01T12:33:02.981Z"
   },
   {
    "duration": 144,
    "start_time": "2022-02-01T12:35:40.510Z"
   },
   {
    "duration": 505,
    "start_time": "2022-02-01T12:36:29.793Z"
   },
   {
    "duration": 8,
    "start_time": "2022-02-01T12:36:36.353Z"
   },
   {
    "duration": 364,
    "start_time": "2022-02-01T12:36:45.725Z"
   },
   {
    "duration": 331,
    "start_time": "2022-02-01T12:36:50.803Z"
   },
   {
    "duration": 7,
    "start_time": "2022-02-01T12:37:00.158Z"
   },
   {
    "duration": 17,
    "start_time": "2022-02-01T12:37:12.101Z"
   },
   {
    "duration": 6,
    "start_time": "2022-02-01T12:38:19.270Z"
   },
   {
    "duration": 7,
    "start_time": "2022-02-01T12:38:40.714Z"
   },
   {
    "duration": 7,
    "start_time": "2022-02-01T13:05:53.116Z"
   },
   {
    "duration": 102,
    "start_time": "2022-02-01T13:07:26.331Z"
   },
   {
    "duration": 3,
    "start_time": "2022-02-01T13:11:18.797Z"
   },
   {
    "duration": 599,
    "start_time": "2022-02-01T13:11:18.813Z"
   },
   {
    "duration": 30,
    "start_time": "2022-02-01T13:11:19.414Z"
   },
   {
    "duration": 5,
    "start_time": "2022-02-01T13:11:19.445Z"
   },
   {
    "duration": 5,
    "start_time": "2022-02-01T13:11:19.451Z"
   },
   {
    "duration": 4,
    "start_time": "2022-02-01T13:11:19.458Z"
   },
   {
    "duration": 12,
    "start_time": "2022-02-01T13:11:19.463Z"
   },
   {
    "duration": 3,
    "start_time": "2022-02-01T13:11:19.476Z"
   },
   {
    "duration": 10,
    "start_time": "2022-02-01T13:11:19.481Z"
   },
   {
    "duration": 23,
    "start_time": "2022-02-01T13:11:19.527Z"
   },
   {
    "duration": 152,
    "start_time": "2022-02-01T13:11:19.551Z"
   },
   {
    "duration": 27,
    "start_time": "2022-02-01T13:11:19.704Z"
   },
   {
    "duration": 108,
    "start_time": "2022-02-01T13:11:22.480Z"
   },
   {
    "duration": 20,
    "start_time": "2022-02-01T13:11:32.271Z"
   },
   {
    "duration": 23,
    "start_time": "2022-02-01T13:14:40.233Z"
   },
   {
    "duration": 68,
    "start_time": "2022-02-01T13:16:24.093Z"
   },
   {
    "duration": 17,
    "start_time": "2022-02-01T13:18:15.381Z"
   },
   {
    "duration": 7,
    "start_time": "2022-02-01T13:26:58.008Z"
   },
   {
    "duration": 8,
    "start_time": "2022-02-01T13:27:09.235Z"
   },
   {
    "duration": 8,
    "start_time": "2022-02-01T13:27:15.805Z"
   },
   {
    "duration": 10,
    "start_time": "2022-02-01T13:27:25.382Z"
   },
   {
    "duration": 9,
    "start_time": "2022-02-01T13:28:16.759Z"
   },
   {
    "duration": 7,
    "start_time": "2022-02-01T13:28:28.303Z"
   },
   {
    "duration": 7,
    "start_time": "2022-02-01T13:28:47.709Z"
   },
   {
    "duration": 7,
    "start_time": "2022-02-01T13:28:54.264Z"
   },
   {
    "duration": 6,
    "start_time": "2022-02-01T13:29:15.566Z"
   },
   {
    "duration": 11,
    "start_time": "2022-02-01T13:30:19.922Z"
   },
   {
    "duration": 18,
    "start_time": "2022-02-01T13:30:40.775Z"
   },
   {
    "duration": 11,
    "start_time": "2022-02-01T13:32:37.199Z"
   },
   {
    "duration": 4,
    "start_time": "2022-02-01T14:26:12.702Z"
   },
   {
    "duration": 7,
    "start_time": "2022-02-01T14:26:54.431Z"
   },
   {
    "duration": 11,
    "start_time": "2022-02-01T14:27:31.425Z"
   },
   {
    "duration": 2,
    "start_time": "2022-02-01T14:29:33.534Z"
   },
   {
    "duration": 6,
    "start_time": "2022-02-01T14:30:19.356Z"
   },
   {
    "duration": 7,
    "start_time": "2022-02-01T14:31:27.844Z"
   },
   {
    "duration": 7,
    "start_time": "2022-02-01T14:32:27.808Z"
   },
   {
    "duration": 7,
    "start_time": "2022-02-01T14:32:35.146Z"
   },
   {
    "duration": 11,
    "start_time": "2022-02-01T14:32:40.001Z"
   },
   {
    "duration": 5,
    "start_time": "2022-02-01T14:42:29.980Z"
   },
   {
    "duration": 4,
    "start_time": "2022-02-01T14:43:30.666Z"
   },
   {
    "duration": 5,
    "start_time": "2022-02-01T14:44:12.848Z"
   },
   {
    "duration": 5,
    "start_time": "2022-02-01T14:44:44.502Z"
   },
   {
    "duration": 23,
    "start_time": "2022-02-01T15:58:21.297Z"
   },
   {
    "duration": 25,
    "start_time": "2022-02-01T16:00:14.062Z"
   },
   {
    "duration": 23,
    "start_time": "2022-02-01T16:00:26.686Z"
   },
   {
    "duration": 25,
    "start_time": "2022-02-01T16:00:42.326Z"
   },
   {
    "duration": 22,
    "start_time": "2022-02-01T16:00:48.526Z"
   },
   {
    "duration": 26,
    "start_time": "2022-02-01T16:01:14.062Z"
   },
   {
    "duration": 25,
    "start_time": "2022-02-01T16:01:32.644Z"
   },
   {
    "duration": 638,
    "start_time": "2022-02-01T16:02:21.710Z"
   },
   {
    "duration": 4,
    "start_time": "2022-02-01T16:56:53.001Z"
   },
   {
    "duration": 318,
    "start_time": "2022-02-01T16:58:31.457Z"
   },
   {
    "duration": 339,
    "start_time": "2022-02-01T16:58:46.271Z"
   },
   {
    "duration": 10,
    "start_time": "2022-02-01T16:59:32.566Z"
   },
   {
    "duration": 346,
    "start_time": "2022-02-01T16:59:55.742Z"
   },
   {
    "duration": 369,
    "start_time": "2022-02-01T17:00:00.341Z"
   },
   {
    "duration": 10,
    "start_time": "2022-02-01T17:00:12.748Z"
   },
   {
    "duration": 392,
    "start_time": "2022-02-01T17:00:31.245Z"
   },
   {
    "duration": 11,
    "start_time": "2022-02-01T17:00:41.029Z"
   },
   {
    "duration": 8,
    "start_time": "2022-02-01T17:01:23.644Z"
   },
   {
    "duration": 8,
    "start_time": "2022-02-01T17:01:56.219Z"
   },
   {
    "duration": 4,
    "start_time": "2022-02-01T17:02:08.883Z"
   },
   {
    "duration": 10,
    "start_time": "2022-02-01T17:02:24.120Z"
   },
   {
    "duration": 364,
    "start_time": "2022-02-01T17:03:17.723Z"
   },
   {
    "duration": 10,
    "start_time": "2022-02-01T17:03:32.705Z"
   },
   {
    "duration": 369,
    "start_time": "2022-02-01T17:03:55.250Z"
   },
   {
    "duration": 18,
    "start_time": "2022-02-01T17:04:03.969Z"
   },
   {
    "duration": 342,
    "start_time": "2022-02-01T17:12:17.207Z"
   },
   {
    "duration": 101,
    "start_time": "2022-02-01T17:12:39.878Z"
   },
   {
    "duration": 135,
    "start_time": "2022-02-01T17:12:40.016Z"
   },
   {
    "duration": 47,
    "start_time": "2022-02-01T17:13:01.198Z"
   },
   {
    "duration": 14,
    "start_time": "2022-02-01T17:14:02.773Z"
   },
   {
    "duration": 100,
    "start_time": "2022-02-01T17:14:36.275Z"
   },
   {
    "duration": 4,
    "start_time": "2022-02-01T17:15:04.316Z"
   },
   {
    "duration": 324,
    "start_time": "2022-02-01T17:15:10.866Z"
   },
   {
    "duration": 13,
    "start_time": "2022-02-01T17:15:17.243Z"
   },
   {
    "duration": 11,
    "start_time": "2022-02-01T17:16:51.849Z"
   },
   {
    "duration": 2,
    "start_time": "2022-02-01T17:17:27.976Z"
   },
   {
    "duration": 6,
    "start_time": "2022-02-01T17:18:46.423Z"
   },
   {
    "duration": 5,
    "start_time": "2022-02-01T17:18:59.198Z"
   },
   {
    "duration": 389,
    "start_time": "2022-02-01T17:21:20.196Z"
   },
   {
    "duration": 11,
    "start_time": "2022-02-01T17:21:43.747Z"
   },
   {
    "duration": 7,
    "start_time": "2022-02-01T17:21:51.963Z"
   },
   {
    "duration": 363,
    "start_time": "2022-02-01T17:22:11.386Z"
   },
   {
    "duration": 13,
    "start_time": "2022-02-01T17:22:24.330Z"
   },
   {
    "duration": 9,
    "start_time": "2022-02-01T17:25:14.863Z"
   },
   {
    "duration": 13,
    "start_time": "2022-02-01T17:25:23.294Z"
   },
   {
    "duration": 404,
    "start_time": "2022-02-01T17:26:00.278Z"
   },
   {
    "duration": 12,
    "start_time": "2022-02-01T17:27:54.404Z"
   },
   {
    "duration": 25,
    "start_time": "2022-02-01T17:27:59.731Z"
   },
   {
    "duration": 6,
    "start_time": "2022-02-01T17:28:14.751Z"
   },
   {
    "duration": 29,
    "start_time": "2022-02-01T17:28:17.760Z"
   },
   {
    "duration": 4,
    "start_time": "2022-02-01T17:30:41.940Z"
   },
   {
    "duration": 11,
    "start_time": "2022-02-01T17:30:49.395Z"
   },
   {
    "duration": 5,
    "start_time": "2022-02-01T17:30:56.723Z"
   },
   {
    "duration": 31,
    "start_time": "2022-02-01T17:31:09.804Z"
   },
   {
    "duration": 9,
    "start_time": "2022-02-01T17:31:26.723Z"
   },
   {
    "duration": 6,
    "start_time": "2022-02-01T17:31:34.216Z"
   },
   {
    "duration": 12,
    "start_time": "2022-02-01T17:31:35.895Z"
   },
   {
    "duration": 39,
    "start_time": "2022-02-01T17:31:55.727Z"
   },
   {
    "duration": 30,
    "start_time": "2022-02-01T17:32:22.152Z"
   },
   {
    "duration": 6,
    "start_time": "2022-02-01T17:32:25.810Z"
   },
   {
    "duration": 14,
    "start_time": "2022-02-01T17:32:28.397Z"
   },
   {
    "duration": 11,
    "start_time": "2022-02-01T17:32:56.780Z"
   },
   {
    "duration": 11,
    "start_time": "2022-02-01T17:33:00.087Z"
   },
   {
    "duration": 6,
    "start_time": "2022-02-01T17:33:19.037Z"
   },
   {
    "duration": 7,
    "start_time": "2022-02-01T17:34:01.693Z"
   },
   {
    "duration": 4,
    "start_time": "2022-02-01T17:34:15.932Z"
   },
   {
    "duration": 7,
    "start_time": "2022-02-01T17:34:30.700Z"
   },
   {
    "duration": 8,
    "start_time": "2022-02-01T17:35:01.675Z"
   },
   {
    "duration": 5,
    "start_time": "2022-02-01T17:35:21.636Z"
   },
   {
    "duration": 9,
    "start_time": "2022-02-01T17:35:25.091Z"
   },
   {
    "duration": 30,
    "start_time": "2022-02-01T17:35:30.434Z"
   },
   {
    "duration": 11,
    "start_time": "2022-02-01T17:35:44.016Z"
   },
   {
    "duration": 2,
    "start_time": "2022-02-01T17:36:21.076Z"
   },
   {
    "duration": 4,
    "start_time": "2022-02-01T17:36:21.080Z"
   },
   {
    "duration": 670,
    "start_time": "2022-02-01T17:36:21.087Z"
   },
   {
    "duration": 3,
    "start_time": "2022-02-01T17:36:21.759Z"
   },
   {
    "duration": 25,
    "start_time": "2022-02-01T17:36:21.764Z"
   },
   {
    "duration": 6,
    "start_time": "2022-02-01T17:36:21.791Z"
   },
   {
    "duration": 31,
    "start_time": "2022-02-01T17:36:21.799Z"
   },
   {
    "duration": 7,
    "start_time": "2022-02-01T17:36:21.832Z"
   },
   {
    "duration": 12,
    "start_time": "2022-02-01T17:36:21.840Z"
   },
   {
    "duration": 10,
    "start_time": "2022-02-01T17:36:21.853Z"
   },
   {
    "duration": 4,
    "start_time": "2022-02-01T17:36:21.867Z"
   },
   {
    "duration": 61,
    "start_time": "2022-02-01T17:36:21.873Z"
   },
   {
    "duration": 24,
    "start_time": "2022-02-01T17:36:21.935Z"
   },
   {
    "duration": 5,
    "start_time": "2022-02-01T17:36:25.064Z"
   },
   {
    "duration": 31,
    "start_time": "2022-02-01T17:36:37.193Z"
   },
   {
    "duration": 11,
    "start_time": "2022-02-01T17:36:56.684Z"
   },
   {
    "duration": 4,
    "start_time": "2022-02-01T17:37:04.255Z"
   },
   {
    "duration": 6,
    "start_time": "2022-02-01T17:38:22.426Z"
   },
   {
    "duration": 4,
    "start_time": "2022-02-01T17:38:29.319Z"
   },
   {
    "duration": 326,
    "start_time": "2022-02-01T17:42:24.530Z"
   },
   {
    "duration": 5,
    "start_time": "2022-02-01T17:43:46.431Z"
   },
   {
    "duration": 29,
    "start_time": "2022-02-01T17:44:02.432Z"
   },
   {
    "duration": 11,
    "start_time": "2022-02-01T17:49:29.875Z"
   },
   {
    "duration": 90,
    "start_time": "2022-02-01T17:49:34.780Z"
   },
   {
    "duration": 2275,
    "start_time": "2022-02-01T17:49:38.646Z"
   },
   {
    "duration": 2,
    "start_time": "2022-02-01T17:50:09.733Z"
   },
   {
    "duration": 340,
    "start_time": "2022-02-01T17:51:57.790Z"
   },
   {
    "duration": 336,
    "start_time": "2022-02-01T17:54:52.635Z"
   },
   {
    "duration": 316,
    "start_time": "2022-02-01T17:55:25.531Z"
   },
   {
    "duration": 11,
    "start_time": "2022-02-01T17:55:48.410Z"
   },
   {
    "duration": 5,
    "start_time": "2022-02-01T17:58:21.766Z"
   },
   {
    "duration": 4,
    "start_time": "2022-02-01T17:58:44.079Z"
   },
   {
    "duration": 21,
    "start_time": "2022-02-01T18:00:44.619Z"
   },
   {
    "duration": 8,
    "start_time": "2022-02-01T18:00:50.787Z"
   },
   {
    "duration": 5,
    "start_time": "2022-02-01T18:01:22.979Z"
   },
   {
    "duration": 5,
    "start_time": "2022-02-01T18:01:23.763Z"
   },
   {
    "duration": 11,
    "start_time": "2022-02-01T18:01:24.118Z"
   },
   {
    "duration": 9,
    "start_time": "2022-02-01T18:01:45.138Z"
   },
   {
    "duration": 331,
    "start_time": "2022-02-01T18:02:09.034Z"
   },
   {
    "duration": 406,
    "start_time": "2022-02-01T18:03:25.353Z"
   },
   {
    "duration": 7,
    "start_time": "2022-02-01T18:03:39.473Z"
   },
   {
    "duration": 5,
    "start_time": "2022-02-01T18:04:03.288Z"
   },
   {
    "duration": 4,
    "start_time": "2022-02-01T18:04:36.324Z"
   },
   {
    "duration": 10,
    "start_time": "2022-02-01T18:04:49.527Z"
   },
   {
    "duration": 9,
    "start_time": "2022-02-01T18:07:56.323Z"
   },
   {
    "duration": 5,
    "start_time": "2022-02-01T18:08:04.722Z"
   },
   {
    "duration": 8,
    "start_time": "2022-02-01T18:08:08.995Z"
   },
   {
    "duration": 4,
    "start_time": "2022-02-01T18:12:15.414Z"
   },
   {
    "duration": 323,
    "start_time": "2022-02-01T18:28:28.379Z"
   },
   {
    "duration": 5,
    "start_time": "2022-02-01T18:28:35.990Z"
   },
   {
    "duration": 530,
    "start_time": "2022-02-01T18:28:36.501Z"
   },
   {
    "duration": 5,
    "start_time": "2022-02-01T18:29:17.354Z"
   },
   {
    "duration": 101,
    "start_time": "2022-02-01T18:29:25.658Z"
   },
   {
    "duration": 14,
    "start_time": "2022-02-01T18:30:33.129Z"
   },
   {
    "duration": 4,
    "start_time": "2022-02-01T18:30:42.474Z"
   },
   {
    "duration": 107,
    "start_time": "2022-02-01T18:31:41.863Z"
   },
   {
    "duration": 20,
    "start_time": "2022-02-01T18:31:49.526Z"
   },
   {
    "duration": 326,
    "start_time": "2022-02-01T18:32:30.190Z"
   },
   {
    "duration": 22,
    "start_time": "2022-02-01T18:32:36.101Z"
   },
   {
    "duration": 6,
    "start_time": "2022-02-01T18:33:08.028Z"
   },
   {
    "duration": 30,
    "start_time": "2022-02-01T18:33:14.654Z"
   },
   {
    "duration": 28,
    "start_time": "2022-02-01T18:33:40.805Z"
   },
   {
    "duration": 369,
    "start_time": "2022-02-01T18:34:22.005Z"
   },
   {
    "duration": 5,
    "start_time": "2022-02-01T18:34:31.566Z"
   },
   {
    "duration": 3,
    "start_time": "2022-02-01T18:36:44.150Z"
   },
   {
    "duration": 9,
    "start_time": "2022-02-01T18:36:44.155Z"
   },
   {
    "duration": 609,
    "start_time": "2022-02-01T18:36:44.165Z"
   },
   {
    "duration": 3,
    "start_time": "2022-02-01T18:36:44.776Z"
   },
   {
    "duration": 46,
    "start_time": "2022-02-01T18:36:44.781Z"
   },
   {
    "duration": 4,
    "start_time": "2022-02-01T18:36:44.829Z"
   },
   {
    "duration": 6,
    "start_time": "2022-02-01T18:36:44.835Z"
   },
   {
    "duration": 5,
    "start_time": "2022-02-01T18:36:44.843Z"
   },
   {
    "duration": 11,
    "start_time": "2022-02-01T18:36:44.850Z"
   },
   {
    "duration": 9,
    "start_time": "2022-02-01T18:36:44.863Z"
   },
   {
    "duration": 3,
    "start_time": "2022-02-01T18:36:44.874Z"
   },
   {
    "duration": 54,
    "start_time": "2022-02-01T18:36:44.879Z"
   },
   {
    "duration": 26,
    "start_time": "2022-02-01T18:36:44.934Z"
   },
   {
    "duration": 4,
    "start_time": "2022-02-01T18:36:44.961Z"
   },
   {
    "duration": 176,
    "start_time": "2022-02-01T18:36:44.967Z"
   },
   {
    "duration": 17,
    "start_time": "2022-02-01T18:36:45.144Z"
   },
   {
    "duration": 5,
    "start_time": "2022-02-01T18:36:45.162Z"
   },
   {
    "duration": 141,
    "start_time": "2022-02-01T18:36:45.169Z"
   },
   {
    "duration": 27,
    "start_time": "2022-02-01T18:36:45.311Z"
   },
   {
    "duration": 3,
    "start_time": "2022-02-01T18:36:45.340Z"
   },
   {
    "duration": 84,
    "start_time": "2022-02-01T18:36:45.345Z"
   },
   {
    "duration": 15,
    "start_time": "2022-02-01T18:36:45.431Z"
   },
   {
    "duration": 804,
    "start_time": "2022-02-01T18:36:48.583Z"
   },
   {
    "duration": 7,
    "start_time": "2022-02-01T18:37:58.282Z"
   },
   {
    "duration": 15,
    "start_time": "2022-02-01T18:38:32.728Z"
   },
   {
    "duration": 3,
    "start_time": "2022-02-01T18:40:39.165Z"
   },
   {
    "duration": 10,
    "start_time": "2022-02-01T18:40:39.170Z"
   },
   {
    "duration": 603,
    "start_time": "2022-02-01T18:40:39.182Z"
   },
   {
    "duration": 4,
    "start_time": "2022-02-01T18:40:39.786Z"
   },
   {
    "duration": 45,
    "start_time": "2022-02-01T18:40:39.791Z"
   },
   {
    "duration": 4,
    "start_time": "2022-02-01T18:40:39.837Z"
   },
   {
    "duration": 6,
    "start_time": "2022-02-01T18:40:39.843Z"
   },
   {
    "duration": 7,
    "start_time": "2022-02-01T18:40:39.850Z"
   },
   {
    "duration": 15,
    "start_time": "2022-02-01T18:40:39.860Z"
   },
   {
    "duration": 10,
    "start_time": "2022-02-01T18:40:39.876Z"
   },
   {
    "duration": 5,
    "start_time": "2022-02-01T18:40:39.888Z"
   },
   {
    "duration": 39,
    "start_time": "2022-02-01T18:40:39.895Z"
   },
   {
    "duration": 23,
    "start_time": "2022-02-01T18:40:39.935Z"
   },
   {
    "duration": 3,
    "start_time": "2022-02-01T18:40:39.960Z"
   },
   {
    "duration": 169,
    "start_time": "2022-02-01T18:40:39.964Z"
   },
   {
    "duration": 3,
    "start_time": "2022-02-01T18:40:40.135Z"
   },
   {
    "duration": 121,
    "start_time": "2022-02-01T18:40:40.140Z"
   },
   {
    "duration": 18,
    "start_time": "2022-02-01T18:40:40.263Z"
   },
   {
    "duration": 4,
    "start_time": "2022-02-01T18:40:40.283Z"
   },
   {
    "duration": 91,
    "start_time": "2022-02-01T18:40:40.288Z"
   },
   {
    "duration": 15,
    "start_time": "2022-02-01T18:40:40.380Z"
   },
   {
    "duration": 34,
    "start_time": "2022-02-01T18:40:40.396Z"
   },
   {
    "duration": 16,
    "start_time": "2022-02-01T18:40:44.813Z"
   },
   {
    "duration": 8,
    "start_time": "2022-02-01T18:40:46.031Z"
   },
   {
    "duration": 31,
    "start_time": "2022-02-01T18:40:48.024Z"
   },
   {
    "duration": 605,
    "start_time": "2022-02-01T19:01:50.213Z"
   },
   {
    "duration": 328,
    "start_time": "2022-02-01T19:02:14.586Z"
   },
   {
    "duration": 25,
    "start_time": "2022-02-01T19:02:27.195Z"
   },
   {
    "duration": 45,
    "start_time": "2022-02-01T19:03:28.872Z"
   },
   {
    "duration": 43,
    "start_time": "2022-02-01T19:03:46.263Z"
   },
   {
    "duration": 24,
    "start_time": "2022-02-01T19:03:52.697Z"
   },
   {
    "duration": 27,
    "start_time": "2022-02-01T19:08:14.226Z"
   },
   {
    "duration": 7,
    "start_time": "2022-02-01T19:25:27.431Z"
   },
   {
    "duration": 428,
    "start_time": "2022-02-01T20:03:18.172Z"
   },
   {
    "duration": 59,
    "start_time": "2022-02-01T20:05:27.165Z"
   },
   {
    "duration": 61,
    "start_time": "2022-02-01T20:05:52.149Z"
   },
   {
    "duration": 439,
    "start_time": "2022-02-01T20:06:14.780Z"
   },
   {
    "duration": 102,
    "start_time": "2022-02-01T20:07:21.763Z"
   },
   {
    "duration": 113,
    "start_time": "2022-02-01T20:07:33.027Z"
   },
   {
    "duration": 414,
    "start_time": "2022-02-01T20:08:16.801Z"
   },
   {
    "duration": 447,
    "start_time": "2022-02-01T20:08:25.336Z"
   },
   {
    "duration": 122,
    "start_time": "2022-02-01T20:09:07.017Z"
   },
   {
    "duration": 454,
    "start_time": "2022-02-01T20:09:16.096Z"
   },
   {
    "duration": 517,
    "start_time": "2022-02-01T20:09:31.914Z"
   },
   {
    "duration": 99,
    "start_time": "2022-02-01T20:09:44.553Z"
   },
   {
    "duration": 105,
    "start_time": "2022-02-01T20:10:22.991Z"
   },
   {
    "duration": 116,
    "start_time": "2022-02-01T20:10:36.078Z"
   },
   {
    "duration": 463,
    "start_time": "2022-02-01T20:10:50.279Z"
   },
   {
    "duration": 442,
    "start_time": "2022-02-01T20:11:19.390Z"
   },
   {
    "duration": 2,
    "start_time": "2022-02-01T20:11:45.133Z"
   },
   {
    "duration": 16,
    "start_time": "2022-02-01T20:13:53.291Z"
   },
   {
    "duration": 3,
    "start_time": "2022-02-01T20:14:29.034Z"
   },
   {
    "duration": 8,
    "start_time": "2022-02-01T20:14:29.038Z"
   },
   {
    "duration": 602,
    "start_time": "2022-02-01T20:14:29.048Z"
   },
   {
    "duration": 4,
    "start_time": "2022-02-01T20:14:29.651Z"
   },
   {
    "duration": 21,
    "start_time": "2022-02-01T20:14:29.657Z"
   },
   {
    "duration": 5,
    "start_time": "2022-02-01T20:14:29.679Z"
   },
   {
    "duration": 5,
    "start_time": "2022-02-01T20:14:29.686Z"
   },
   {
    "duration": 3,
    "start_time": "2022-02-01T20:14:29.727Z"
   },
   {
    "duration": 10,
    "start_time": "2022-02-01T20:14:29.733Z"
   },
   {
    "duration": 9,
    "start_time": "2022-02-01T20:14:29.745Z"
   },
   {
    "duration": 4,
    "start_time": "2022-02-01T20:14:29.755Z"
   },
   {
    "duration": 11,
    "start_time": "2022-02-01T20:14:29.761Z"
   },
   {
    "duration": 70,
    "start_time": "2022-02-01T20:14:29.773Z"
   },
   {
    "duration": 3,
    "start_time": "2022-02-01T20:14:29.845Z"
   },
   {
    "duration": 153,
    "start_time": "2022-02-01T20:14:29.850Z"
   },
   {
    "duration": 33,
    "start_time": "2022-02-01T20:14:30.004Z"
   },
   {
    "duration": 4,
    "start_time": "2022-02-01T20:14:30.039Z"
   },
   {
    "duration": 119,
    "start_time": "2022-02-01T20:14:30.044Z"
   },
   {
    "duration": 19,
    "start_time": "2022-02-01T20:14:30.164Z"
   },
   {
    "duration": 3,
    "start_time": "2022-02-01T20:14:30.185Z"
   },
   {
    "duration": 93,
    "start_time": "2022-02-01T20:14:30.190Z"
   },
   {
    "duration": 15,
    "start_time": "2022-02-01T20:14:30.284Z"
   },
   {
    "duration": 27,
    "start_time": "2022-02-01T20:14:30.300Z"
   },
   {
    "duration": 6,
    "start_time": "2022-02-01T20:14:30.329Z"
   },
   {
    "duration": 15,
    "start_time": "2022-02-01T20:14:30.337Z"
   },
   {
    "duration": 13,
    "start_time": "2022-02-01T20:14:49.793Z"
   },
   {
    "duration": 19,
    "start_time": "2022-02-01T20:15:07.129Z"
   },
   {
    "duration": 10,
    "start_time": "2022-02-01T20:15:52.321Z"
   },
   {
    "duration": 334,
    "start_time": "2022-02-01T20:16:06.783Z"
   },
   {
    "duration": 336,
    "start_time": "2022-02-01T20:16:11.792Z"
   },
   {
    "duration": 19,
    "start_time": "2022-02-01T20:16:20.535Z"
   },
   {
    "duration": 9,
    "start_time": "2022-02-01T20:17:05.934Z"
   },
   {
    "duration": 17,
    "start_time": "2022-02-01T20:17:17.053Z"
   },
   {
    "duration": 28,
    "start_time": "2022-02-01T20:18:31.484Z"
   },
   {
    "duration": 9,
    "start_time": "2022-02-01T20:19:10.294Z"
   },
   {
    "duration": 40,
    "start_time": "2022-02-01T20:19:17.094Z"
   },
   {
    "duration": 9,
    "start_time": "2022-02-01T20:20:13.399Z"
   },
   {
    "duration": 12,
    "start_time": "2022-02-01T20:22:46.846Z"
   },
   {
    "duration": 13,
    "start_time": "2022-02-01T20:22:51.767Z"
   },
   {
    "duration": 47,
    "start_time": "2022-02-01T20:26:04.964Z"
   },
   {
    "duration": 322,
    "start_time": "2022-02-01T20:28:07.426Z"
   },
   {
    "duration": 350,
    "start_time": "2022-02-01T20:28:48.761Z"
   },
   {
    "duration": 336,
    "start_time": "2022-02-01T20:29:17.879Z"
   },
   {
    "duration": 347,
    "start_time": "2022-02-01T20:29:35.776Z"
   },
   {
    "duration": 348,
    "start_time": "2022-02-01T20:29:50.136Z"
   },
   {
    "duration": 49,
    "start_time": "2022-02-01T20:30:03.272Z"
   },
   {
    "duration": 45,
    "start_time": "2022-02-01T20:33:51.163Z"
   },
   {
    "duration": 6,
    "start_time": "2022-02-01T20:34:57.920Z"
   },
   {
    "duration": 3,
    "start_time": "2022-02-01T20:35:20.476Z"
   },
   {
    "duration": 5,
    "start_time": "2022-02-01T20:35:20.480Z"
   },
   {
    "duration": 600,
    "start_time": "2022-02-01T20:35:20.486Z"
   },
   {
    "duration": 4,
    "start_time": "2022-02-01T20:35:21.088Z"
   },
   {
    "duration": 50,
    "start_time": "2022-02-01T20:35:21.094Z"
   },
   {
    "duration": 5,
    "start_time": "2022-02-01T20:35:21.145Z"
   },
   {
    "duration": 4,
    "start_time": "2022-02-01T20:35:21.152Z"
   },
   {
    "duration": 4,
    "start_time": "2022-02-01T20:35:21.158Z"
   },
   {
    "duration": 11,
    "start_time": "2022-02-01T20:35:21.164Z"
   },
   {
    "duration": 53,
    "start_time": "2022-02-01T20:35:21.177Z"
   },
   {
    "duration": 4,
    "start_time": "2022-02-01T20:35:21.231Z"
   },
   {
    "duration": 11,
    "start_time": "2022-02-01T20:35:21.236Z"
   },
   {
    "duration": 23,
    "start_time": "2022-02-01T20:35:21.249Z"
   },
   {
    "duration": 4,
    "start_time": "2022-02-01T20:35:21.273Z"
   },
   {
    "duration": 183,
    "start_time": "2022-02-01T20:35:21.278Z"
   },
   {
    "duration": 16,
    "start_time": "2022-02-01T20:35:21.463Z"
   },
   {
    "duration": 4,
    "start_time": "2022-02-01T20:35:21.480Z"
   },
   {
    "duration": 131,
    "start_time": "2022-02-01T20:35:21.486Z"
   },
   {
    "duration": 23,
    "start_time": "2022-02-01T20:35:21.618Z"
   },
   {
    "duration": 3,
    "start_time": "2022-02-01T20:35:21.643Z"
   },
   {
    "duration": 87,
    "start_time": "2022-02-01T20:35:21.648Z"
   },
   {
    "duration": 14,
    "start_time": "2022-02-01T20:35:21.737Z"
   },
   {
    "duration": 10,
    "start_time": "2022-02-01T20:35:21.753Z"
   },
   {
    "duration": 7,
    "start_time": "2022-02-01T20:35:21.764Z"
   },
   {
    "duration": 6,
    "start_time": "2022-02-01T20:35:21.772Z"
   },
   {
    "duration": 47,
    "start_time": "2022-02-01T20:35:21.780Z"
   },
   {
    "duration": 11,
    "start_time": "2022-02-01T20:35:25.855Z"
   },
   {
    "duration": 6,
    "start_time": "2022-02-01T20:35:27.489Z"
   },
   {
    "duration": 56,
    "start_time": "2022-02-01T20:35:53.048Z"
   },
   {
    "duration": 6,
    "start_time": "2022-02-01T20:37:53.798Z"
   },
   {
    "duration": 7,
    "start_time": "2022-02-01T20:46:40.363Z"
   },
   {
    "duration": 6,
    "start_time": "2022-02-01T21:06:32.890Z"
   },
   {
    "duration": 331,
    "start_time": "2022-02-01T21:06:47.658Z"
   },
   {
    "duration": 7,
    "start_time": "2022-02-01T21:07:00.370Z"
   },
   {
    "duration": 327,
    "start_time": "2022-02-01T21:07:47.576Z"
   },
   {
    "duration": 7,
    "start_time": "2022-02-01T21:09:09.383Z"
   },
   {
    "duration": 9,
    "start_time": "2022-02-01T21:09:12.095Z"
   },
   {
    "duration": 28,
    "start_time": "2022-02-01T21:09:31.711Z"
   },
   {
    "duration": 336,
    "start_time": "2022-02-01T21:09:38.074Z"
   },
   {
    "duration": 2,
    "start_time": "2022-02-01T21:10:06.955Z"
   },
   {
    "duration": 5,
    "start_time": "2022-02-01T21:10:06.959Z"
   },
   {
    "duration": 639,
    "start_time": "2022-02-01T21:10:06.966Z"
   },
   {
    "duration": 23,
    "start_time": "2022-02-01T21:10:07.607Z"
   },
   {
    "duration": 22,
    "start_time": "2022-02-01T21:10:07.632Z"
   },
   {
    "duration": 5,
    "start_time": "2022-02-01T21:10:07.656Z"
   },
   {
    "duration": 5,
    "start_time": "2022-02-01T21:10:07.664Z"
   },
   {
    "duration": 5,
    "start_time": "2022-02-01T21:10:07.671Z"
   },
   {
    "duration": 60,
    "start_time": "2022-02-01T21:10:07.677Z"
   },
   {
    "duration": 11,
    "start_time": "2022-02-01T21:10:07.739Z"
   },
   {
    "duration": 5,
    "start_time": "2022-02-01T21:10:07.752Z"
   },
   {
    "duration": 12,
    "start_time": "2022-02-01T21:10:07.758Z"
   },
   {
    "duration": 67,
    "start_time": "2022-02-01T21:10:07.772Z"
   },
   {
    "duration": 4,
    "start_time": "2022-02-01T21:10:07.840Z"
   },
   {
    "duration": 158,
    "start_time": "2022-02-01T21:10:07.846Z"
   },
   {
    "duration": 24,
    "start_time": "2022-02-01T21:10:08.006Z"
   },
   {
    "duration": 4,
    "start_time": "2022-02-01T21:10:08.032Z"
   },
   {
    "duration": 128,
    "start_time": "2022-02-01T21:10:08.038Z"
   },
   {
    "duration": 19,
    "start_time": "2022-02-01T21:10:08.168Z"
   },
   {
    "duration": 4,
    "start_time": "2022-02-01T21:10:08.188Z"
   },
   {
    "duration": 96,
    "start_time": "2022-02-01T21:10:08.194Z"
   },
   {
    "duration": 15,
    "start_time": "2022-02-01T21:10:08.292Z"
   },
   {
    "duration": 26,
    "start_time": "2022-02-01T21:10:08.309Z"
   },
   {
    "duration": 7,
    "start_time": "2022-02-01T21:10:08.337Z"
   },
   {
    "duration": 10,
    "start_time": "2022-02-01T21:10:08.345Z"
   },
   {
    "duration": 8,
    "start_time": "2022-02-01T21:10:08.357Z"
   },
   {
    "duration": 30,
    "start_time": "2022-02-01T21:10:08.366Z"
   },
   {
    "duration": 27,
    "start_time": "2022-02-01T21:10:10.246Z"
   },
   {
    "duration": 319,
    "start_time": "2022-02-01T21:10:13.540Z"
   },
   {
    "duration": 6,
    "start_time": "2022-02-01T21:10:27.045Z"
   },
   {
    "duration": 6,
    "start_time": "2022-02-01T21:12:00.958Z"
   },
   {
    "duration": 7,
    "start_time": "2022-02-01T21:12:06.090Z"
   },
   {
    "duration": 7,
    "start_time": "2022-02-01T21:12:28.546Z"
   },
   {
    "duration": 7,
    "start_time": "2022-02-01T21:12:30.157Z"
   },
   {
    "duration": 8,
    "start_time": "2022-02-01T21:12:31.069Z"
   },
   {
    "duration": 6,
    "start_time": "2022-02-01T21:12:56.778Z"
   },
   {
    "duration": 7,
    "start_time": "2022-02-01T21:12:57.220Z"
   },
   {
    "duration": 6,
    "start_time": "2022-02-01T21:13:25.971Z"
   },
   {
    "duration": 8,
    "start_time": "2022-02-01T21:13:26.555Z"
   },
   {
    "duration": 7,
    "start_time": "2022-02-01T21:13:38.234Z"
   },
   {
    "duration": 9,
    "start_time": "2022-02-01T21:13:38.372Z"
   },
   {
    "duration": 315,
    "start_time": "2022-02-01T21:14:14.241Z"
   },
   {
    "duration": 5,
    "start_time": "2022-02-01T21:14:19.146Z"
   },
   {
    "duration": 6,
    "start_time": "2022-02-01T21:15:45.664Z"
   },
   {
    "duration": 34,
    "start_time": "2022-02-01T21:16:02.391Z"
   },
   {
    "duration": 12,
    "start_time": "2022-02-01T21:19:05.751Z"
   },
   {
    "duration": 17,
    "start_time": "2022-02-01T21:19:28.710Z"
   },
   {
    "duration": 39,
    "start_time": "2022-02-01T21:22:25.859Z"
   },
   {
    "duration": 29,
    "start_time": "2022-02-01T21:23:56.120Z"
   },
   {
    "duration": 30,
    "start_time": "2022-02-01T21:24:46.572Z"
   },
   {
    "duration": 339,
    "start_time": "2022-02-01T21:25:02.135Z"
   },
   {
    "duration": 6,
    "start_time": "2022-02-01T21:25:09.169Z"
   },
   {
    "duration": 7,
    "start_time": "2022-02-01T21:25:28.351Z"
   },
   {
    "duration": 9,
    "start_time": "2022-02-01T21:36:42.804Z"
   },
   {
    "duration": 6,
    "start_time": "2022-02-01T21:36:51.967Z"
   },
   {
    "duration": 6,
    "start_time": "2022-02-01T21:36:52.935Z"
   },
   {
    "duration": 7,
    "start_time": "2022-02-01T21:36:53.449Z"
   },
   {
    "duration": 7,
    "start_time": "2022-02-01T21:37:15.106Z"
   },
   {
    "duration": 345,
    "start_time": "2022-02-01T21:37:28.189Z"
   },
   {
    "duration": 6,
    "start_time": "2022-02-01T21:37:35.325Z"
   },
   {
    "duration": 7,
    "start_time": "2022-02-01T21:37:38.444Z"
   },
   {
    "duration": 326,
    "start_time": "2022-02-01T21:41:19.232Z"
   },
   {
    "duration": 6,
    "start_time": "2022-02-01T21:44:10.981Z"
   },
   {
    "duration": 7,
    "start_time": "2022-02-01T21:44:12.981Z"
   },
   {
    "duration": 10,
    "start_time": "2022-02-01T21:44:41.430Z"
   },
   {
    "duration": 14,
    "start_time": "2022-02-01T21:45:01.028Z"
   },
   {
    "duration": 11,
    "start_time": "2022-02-01T21:45:55.259Z"
   },
   {
    "duration": 6,
    "start_time": "2022-02-01T21:47:34.577Z"
   },
   {
    "duration": 7,
    "start_time": "2022-02-01T21:47:39.825Z"
   },
   {
    "duration": 3,
    "start_time": "2022-02-01T22:24:05.213Z"
   },
   {
    "duration": 111,
    "start_time": "2022-02-01T22:26:50.203Z"
   },
   {
    "duration": 703,
    "start_time": "2022-02-01T22:28:26.690Z"
   },
   {
    "duration": 108,
    "start_time": "2022-02-01T22:28:31.344Z"
   },
   {
    "duration": 1945,
    "start_time": "2022-02-02T09:47:10.913Z"
   },
   {
    "duration": 4,
    "start_time": "2022-02-02T09:47:12.861Z"
   },
   {
    "duration": 950,
    "start_time": "2022-02-02T09:47:12.868Z"
   },
   {
    "duration": 6,
    "start_time": "2022-02-02T09:47:13.821Z"
   },
   {
    "duration": 64,
    "start_time": "2022-02-02T09:47:13.830Z"
   },
   {
    "duration": 9,
    "start_time": "2022-02-02T09:47:13.897Z"
   },
   {
    "duration": 7,
    "start_time": "2022-02-02T09:47:13.908Z"
   },
   {
    "duration": 45,
    "start_time": "2022-02-02T09:47:13.919Z"
   },
   {
    "duration": 25,
    "start_time": "2022-02-02T09:47:13.968Z"
   },
   {
    "duration": 17,
    "start_time": "2022-02-02T09:47:13.995Z"
   },
   {
    "duration": 6,
    "start_time": "2022-02-02T09:47:14.015Z"
   },
   {
    "duration": 16,
    "start_time": "2022-02-02T09:47:14.060Z"
   },
   {
    "duration": 45,
    "start_time": "2022-02-02T09:47:14.078Z"
   },
   {
    "duration": 6,
    "start_time": "2022-02-02T09:47:14.161Z"
   },
   {
    "duration": 266,
    "start_time": "2022-02-02T09:47:14.171Z"
   },
   {
    "duration": 38,
    "start_time": "2022-02-02T09:47:14.439Z"
   },
   {
    "duration": 7,
    "start_time": "2022-02-02T09:47:14.479Z"
   },
   {
    "duration": 263,
    "start_time": "2022-02-02T09:47:14.488Z"
   },
   {
    "duration": 33,
    "start_time": "2022-02-02T09:47:14.760Z"
   },
   {
    "duration": 8,
    "start_time": "2022-02-02T09:47:14.796Z"
   },
   {
    "duration": 137,
    "start_time": "2022-02-02T09:47:14.806Z"
   },
   {
    "duration": 40,
    "start_time": "2022-02-02T09:47:14.946Z"
   },
   {
    "duration": 19,
    "start_time": "2022-02-02T09:47:14.993Z"
   },
   {
    "duration": 12,
    "start_time": "2022-02-02T09:47:15.015Z"
   },
   {
    "duration": 19,
    "start_time": "2022-02-02T09:47:15.061Z"
   },
   {
    "duration": 23,
    "start_time": "2022-02-02T09:47:15.083Z"
   },
   {
    "duration": 52,
    "start_time": "2022-02-02T09:47:15.109Z"
   },
   {
    "duration": 9,
    "start_time": "2022-02-02T09:47:15.164Z"
   },
   {
    "duration": 17,
    "start_time": "2022-02-02T09:47:15.176Z"
   },
   {
    "duration": 8,
    "start_time": "2022-02-02T09:47:15.196Z"
   },
   {
    "duration": 16,
    "start_time": "2022-02-02T09:56:08.528Z"
   },
   {
    "duration": 577,
    "start_time": "2022-02-02T10:24:19.113Z"
   },
   {
    "duration": 7,
    "start_time": "2022-02-02T10:24:29.454Z"
   },
   {
    "duration": 11,
    "start_time": "2022-02-02T10:24:33.464Z"
   },
   {
    "duration": 27,
    "start_time": "2022-02-02T10:24:49.753Z"
   },
   {
    "duration": 56,
    "start_time": "2022-02-02T10:25:15.649Z"
   },
   {
    "duration": 8,
    "start_time": "2022-02-02T10:29:22.283Z"
   },
   {
    "duration": 399,
    "start_time": "2022-02-02T10:36:58.146Z"
   },
   {
    "duration": 7,
    "start_time": "2022-02-02T10:40:58.472Z"
   },
   {
    "duration": 4,
    "start_time": "2022-02-02T10:41:08.542Z"
   },
   {
    "duration": 6,
    "start_time": "2022-02-02T10:41:08.549Z"
   },
   {
    "duration": 947,
    "start_time": "2022-02-02T10:41:08.562Z"
   },
   {
    "duration": 6,
    "start_time": "2022-02-02T10:41:09.511Z"
   },
   {
    "duration": 74,
    "start_time": "2022-02-02T10:41:09.521Z"
   },
   {
    "duration": 8,
    "start_time": "2022-02-02T10:41:09.598Z"
   },
   {
    "duration": 7,
    "start_time": "2022-02-02T10:41:09.608Z"
   },
   {
    "duration": 51,
    "start_time": "2022-02-02T10:41:09.617Z"
   },
   {
    "duration": 7,
    "start_time": "2022-02-02T10:41:12.880Z"
   },
   {
    "duration": 8,
    "start_time": "2022-02-02T10:41:23.025Z"
   },
   {
    "duration": 10,
    "start_time": "2022-02-02T10:42:20.437Z"
   },
   {
    "duration": 10,
    "start_time": "2022-02-02T10:43:07.269Z"
   },
   {
    "duration": 12,
    "start_time": "2022-02-02T10:43:17.007Z"
   },
   {
    "duration": 14,
    "start_time": "2022-02-02T10:45:23.233Z"
   },
   {
    "duration": 4,
    "start_time": "2022-02-02T10:48:34.104Z"
   },
   {
    "duration": 6,
    "start_time": "2022-02-02T10:48:34.110Z"
   },
   {
    "duration": 942,
    "start_time": "2022-02-02T10:48:34.125Z"
   },
   {
    "duration": 8,
    "start_time": "2022-02-02T10:48:35.070Z"
   },
   {
    "duration": 36,
    "start_time": "2022-02-02T10:48:35.081Z"
   },
   {
    "duration": 44,
    "start_time": "2022-02-02T10:48:35.120Z"
   },
   {
    "duration": 19,
    "start_time": "2022-02-02T10:48:35.167Z"
   },
   {
    "duration": 5,
    "start_time": "2022-02-02T10:48:35.188Z"
   },
   {
    "duration": 15,
    "start_time": "2022-02-02T10:48:35.195Z"
   },
   {
    "duration": 55,
    "start_time": "2022-02-02T10:48:35.214Z"
   },
   {
    "duration": 20,
    "start_time": "2022-02-02T10:48:35.272Z"
   },
   {
    "duration": 6,
    "start_time": "2022-02-02T10:48:35.294Z"
   },
   {
    "duration": 6,
    "start_time": "2022-02-02T10:48:35.302Z"
   },
   {
    "duration": 223,
    "start_time": "2022-02-02T10:48:35.311Z"
   },
   {
    "duration": 39,
    "start_time": "2022-02-02T10:48:35.536Z"
   },
   {
    "duration": 5,
    "start_time": "2022-02-02T10:48:35.577Z"
   },
   {
    "duration": 185,
    "start_time": "2022-02-02T10:48:35.584Z"
   },
   {
    "duration": 32,
    "start_time": "2022-02-02T10:48:35.771Z"
   },
   {
    "duration": 6,
    "start_time": "2022-02-02T10:48:35.806Z"
   },
   {
    "duration": 145,
    "start_time": "2022-02-02T10:48:35.815Z"
   },
   {
    "duration": 28,
    "start_time": "2022-02-02T10:48:35.963Z"
   },
   {
    "duration": 16,
    "start_time": "2022-02-02T10:48:35.993Z"
   },
   {
    "duration": 49,
    "start_time": "2022-02-02T10:48:36.012Z"
   },
   {
    "duration": 19,
    "start_time": "2022-02-02T10:48:36.065Z"
   },
   {
    "duration": 23,
    "start_time": "2022-02-02T10:48:36.088Z"
   },
   {
    "duration": 16,
    "start_time": "2022-02-02T10:48:36.113Z"
   },
   {
    "duration": 11,
    "start_time": "2022-02-02T10:48:36.168Z"
   },
   {
    "duration": 11,
    "start_time": "2022-02-02T10:48:36.182Z"
   },
   {
    "duration": 18,
    "start_time": "2022-02-02T10:48:36.196Z"
   },
   {
    "duration": 14,
    "start_time": "2022-02-02T10:49:14.079Z"
   },
   {
    "duration": 6,
    "start_time": "2022-02-02T10:55:43.511Z"
   },
   {
    "duration": 17,
    "start_time": "2022-02-02T10:55:44.312Z"
   },
   {
    "duration": 385,
    "start_time": "2022-02-02T10:58:15.849Z"
   },
   {
    "duration": 381,
    "start_time": "2022-02-02T10:59:40.116Z"
   },
   {
    "duration": 5,
    "start_time": "2022-02-02T11:00:55.981Z"
   },
   {
    "duration": 21,
    "start_time": "2022-02-02T11:01:12.893Z"
   },
   {
    "duration": 403,
    "start_time": "2022-02-02T11:01:58.699Z"
   },
   {
    "duration": 358,
    "start_time": "2022-02-02T11:02:34.804Z"
   },
   {
    "duration": 377,
    "start_time": "2022-02-02T11:05:44.076Z"
   },
   {
    "duration": 2164,
    "start_time": "2022-02-02T11:05:56.322Z"
   },
   {
    "duration": 4,
    "start_time": "2022-02-02T11:06:57.685Z"
   },
   {
    "duration": 1047,
    "start_time": "2022-02-02T11:07:02.157Z"
   },
   {
    "duration": 25,
    "start_time": "2022-02-02T11:07:08.348Z"
   },
   {
    "duration": 9,
    "start_time": "2022-02-02T11:12:04.787Z"
   },
   {
    "duration": 6,
    "start_time": "2022-02-02T11:13:18.600Z"
   },
   {
    "duration": 7,
    "start_time": "2022-02-02T11:13:23.210Z"
   },
   {
    "duration": 19,
    "start_time": "2022-02-02T11:13:30.257Z"
   },
   {
    "duration": 8,
    "start_time": "2022-02-02T11:13:54.372Z"
   },
   {
    "duration": 7,
    "start_time": "2022-02-02T11:13:56.131Z"
   },
   {
    "duration": 17,
    "start_time": "2022-02-02T11:13:56.680Z"
   },
   {
    "duration": 405,
    "start_time": "2022-02-02T11:15:36.891Z"
   },
   {
    "duration": 469,
    "start_time": "2022-02-02T11:15:46.310Z"
   },
   {
    "duration": 8,
    "start_time": "2022-02-02T11:17:25.577Z"
   },
   {
    "duration": 16,
    "start_time": "2022-02-02T11:17:30.903Z"
   },
   {
    "duration": 5,
    "start_time": "2022-02-02T11:17:44.243Z"
   },
   {
    "duration": 17,
    "start_time": "2022-02-02T11:17:45.002Z"
   },
   {
    "duration": 5,
    "start_time": "2022-02-02T11:18:02.141Z"
   },
   {
    "duration": 8,
    "start_time": "2022-02-02T11:18:02.149Z"
   },
   {
    "duration": 996,
    "start_time": "2022-02-02T11:18:02.167Z"
   },
   {
    "duration": 7,
    "start_time": "2022-02-02T11:18:03.165Z"
   },
   {
    "duration": 39,
    "start_time": "2022-02-02T11:18:03.175Z"
   },
   {
    "duration": 7,
    "start_time": "2022-02-02T11:18:03.217Z"
   },
   {
    "duration": 16,
    "start_time": "2022-02-02T11:18:03.259Z"
   },
   {
    "duration": 6,
    "start_time": "2022-02-02T11:18:03.278Z"
   },
   {
    "duration": 15,
    "start_time": "2022-02-02T11:18:03.287Z"
   },
   {
    "duration": 17,
    "start_time": "2022-02-02T11:18:03.307Z"
   },
   {
    "duration": 36,
    "start_time": "2022-02-02T11:18:03.327Z"
   },
   {
    "duration": 27,
    "start_time": "2022-02-02T11:18:03.365Z"
   },
   {
    "duration": 22,
    "start_time": "2022-02-02T11:18:05.759Z"
   },
   {
    "duration": 3,
    "start_time": "2022-02-02T11:18:06.457Z"
   },
   {
    "duration": 18,
    "start_time": "2022-02-02T11:18:07.191Z"
   },
   {
    "duration": 386,
    "start_time": "2022-02-02T11:21:42.288Z"
   },
   {
    "duration": 395,
    "start_time": "2022-02-02T11:22:05.710Z"
   },
   {
    "duration": 12,
    "start_time": "2022-02-02T11:26:41.510Z"
   },
   {
    "duration": 17,
    "start_time": "2022-02-02T11:27:14.190Z"
   },
   {
    "duration": 26,
    "start_time": "2022-02-02T11:27:30.014Z"
   },
   {
    "duration": 367,
    "start_time": "2022-02-02T11:27:53.771Z"
   },
   {
    "duration": 5,
    "start_time": "2022-02-02T11:28:08.813Z"
   },
   {
    "duration": 416,
    "start_time": "2022-02-02T11:28:11.930Z"
   },
   {
    "duration": 26,
    "start_time": "2022-02-02T11:28:19.840Z"
   },
   {
    "duration": 4,
    "start_time": "2022-02-02T11:28:39.020Z"
   },
   {
    "duration": 7,
    "start_time": "2022-02-02T11:28:39.029Z"
   },
   {
    "duration": 974,
    "start_time": "2022-02-02T11:28:39.042Z"
   },
   {
    "duration": 5,
    "start_time": "2022-02-02T11:28:40.019Z"
   },
   {
    "duration": 71,
    "start_time": "2022-02-02T11:28:40.027Z"
   },
   {
    "duration": 9,
    "start_time": "2022-02-02T11:28:40.101Z"
   },
   {
    "duration": 6,
    "start_time": "2022-02-02T11:28:40.113Z"
   },
   {
    "duration": 47,
    "start_time": "2022-02-02T11:28:40.121Z"
   },
   {
    "duration": 20,
    "start_time": "2022-02-02T11:28:40.174Z"
   },
   {
    "duration": 17,
    "start_time": "2022-02-02T11:28:40.197Z"
   },
   {
    "duration": 6,
    "start_time": "2022-02-02T11:28:40.217Z"
   },
   {
    "duration": 54,
    "start_time": "2022-02-02T11:28:40.225Z"
   },
   {
    "duration": 8,
    "start_time": "2022-02-02T11:28:40.281Z"
   },
   {
    "duration": 374,
    "start_time": "2022-02-02T11:28:43.870Z"
   },
   {
    "duration": 29,
    "start_time": "2022-02-02T11:29:00.773Z"
   },
   {
    "duration": 5,
    "start_time": "2022-02-02T11:29:36.020Z"
   },
   {
    "duration": 6,
    "start_time": "2022-02-02T11:29:36.028Z"
   },
   {
    "duration": 1026,
    "start_time": "2022-02-02T11:29:36.042Z"
   },
   {
    "duration": 7,
    "start_time": "2022-02-02T11:29:37.071Z"
   },
   {
    "duration": 40,
    "start_time": "2022-02-02T11:29:37.082Z"
   },
   {
    "duration": 43,
    "start_time": "2022-02-02T11:29:37.124Z"
   },
   {
    "duration": 15,
    "start_time": "2022-02-02T11:29:37.172Z"
   },
   {
    "duration": 11,
    "start_time": "2022-02-02T11:29:37.189Z"
   },
   {
    "duration": 17,
    "start_time": "2022-02-02T11:29:37.204Z"
   },
   {
    "duration": 51,
    "start_time": "2022-02-02T11:29:37.226Z"
   },
   {
    "duration": 12,
    "start_time": "2022-02-02T11:29:37.280Z"
   },
   {
    "duration": 17,
    "start_time": "2022-02-02T11:29:37.294Z"
   },
   {
    "duration": 28,
    "start_time": "2022-02-02T11:29:56.569Z"
   },
   {
    "duration": 5,
    "start_time": "2022-02-02T11:30:22.280Z"
   },
   {
    "duration": 28,
    "start_time": "2022-02-02T11:30:31.112Z"
   },
   {
    "duration": 5,
    "start_time": "2022-02-02T11:32:44.828Z"
   },
   {
    "duration": 22,
    "start_time": "2022-02-02T11:32:59.611Z"
   },
   {
    "duration": 10,
    "start_time": "2022-02-02T11:33:27.484Z"
   },
   {
    "duration": 26,
    "start_time": "2022-02-02T11:33:28.437Z"
   },
   {
    "duration": 5,
    "start_time": "2022-02-02T11:35:16.428Z"
   },
   {
    "duration": 34,
    "start_time": "2022-02-02T11:35:17.189Z"
   },
   {
    "duration": 17,
    "start_time": "2022-02-02T11:35:45.769Z"
   },
   {
    "duration": 6,
    "start_time": "2022-02-02T11:36:00.723Z"
   },
   {
    "duration": 6,
    "start_time": "2022-02-02T11:36:03.312Z"
   },
   {
    "duration": 23,
    "start_time": "2022-02-02T11:36:04.088Z"
   },
   {
    "duration": 6,
    "start_time": "2022-02-02T11:53:43.741Z"
   },
   {
    "duration": 8,
    "start_time": "2022-02-02T11:53:43.749Z"
   },
   {
    "duration": 948,
    "start_time": "2022-02-02T11:53:43.772Z"
   },
   {
    "duration": 5,
    "start_time": "2022-02-02T11:53:44.723Z"
   },
   {
    "duration": 66,
    "start_time": "2022-02-02T11:53:44.731Z"
   },
   {
    "duration": 10,
    "start_time": "2022-02-02T11:53:44.800Z"
   },
   {
    "duration": 10,
    "start_time": "2022-02-02T11:53:44.812Z"
   },
   {
    "duration": 8,
    "start_time": "2022-02-02T11:53:44.859Z"
   },
   {
    "duration": 17,
    "start_time": "2022-02-02T11:53:44.869Z"
   },
   {
    "duration": 5,
    "start_time": "2022-02-02T11:53:44.889Z"
   },
   {
    "duration": 22,
    "start_time": "2022-02-02T11:53:44.898Z"
   },
   {
    "duration": 36,
    "start_time": "2022-02-02T11:53:44.923Z"
   },
   {
    "duration": 27,
    "start_time": "2022-02-02T11:53:44.962Z"
   },
   {
    "duration": 6,
    "start_time": "2022-02-02T11:53:44.992Z"
   },
   {
    "duration": 65,
    "start_time": "2022-02-02T11:53:45.000Z"
   },
   {
    "duration": 22,
    "start_time": "2022-02-02T11:53:45.068Z"
   },
   {
    "duration": 16,
    "start_time": "2022-02-02T11:53:45.092Z"
   },
   {
    "duration": 7,
    "start_time": "2022-02-02T11:53:45.110Z"
   },
   {
    "duration": 49,
    "start_time": "2022-02-02T11:53:45.119Z"
   },
   {
    "duration": 243,
    "start_time": "2022-02-02T11:53:45.170Z"
   },
   {
    "duration": 25,
    "start_time": "2022-02-02T11:53:45.415Z"
   },
   {
    "duration": 20,
    "start_time": "2022-02-02T11:53:45.443Z"
   },
   {
    "duration": 231,
    "start_time": "2022-02-02T11:53:45.466Z"
   },
   {
    "duration": 33,
    "start_time": "2022-02-02T11:53:45.699Z"
   },
   {
    "duration": 33,
    "start_time": "2022-02-02T11:53:45.735Z"
   },
   {
    "duration": 128,
    "start_time": "2022-02-02T11:53:45.772Z"
   },
   {
    "duration": 25,
    "start_time": "2022-02-02T11:53:45.902Z"
   },
   {
    "duration": 41,
    "start_time": "2022-02-02T11:53:45.930Z"
   },
   {
    "duration": 12,
    "start_time": "2022-02-02T11:53:45.979Z"
   },
   {
    "duration": 17,
    "start_time": "2022-02-02T11:53:45.994Z"
   },
   {
    "duration": 65,
    "start_time": "2022-02-02T11:53:46.014Z"
   },
   {
    "duration": 16,
    "start_time": "2022-02-02T11:53:46.082Z"
   },
   {
    "duration": 9,
    "start_time": "2022-02-02T11:53:46.101Z"
   },
   {
    "duration": 10,
    "start_time": "2022-02-02T11:53:46.112Z"
   },
   {
    "duration": 55,
    "start_time": "2022-02-02T11:53:46.125Z"
   },
   {
    "duration": 30,
    "start_time": "2022-02-02T11:54:59.593Z"
   },
   {
    "duration": 5,
    "start_time": "2022-02-02T11:57:24.963Z"
   },
   {
    "duration": 10,
    "start_time": "2022-02-02T11:57:24.971Z"
   },
   {
    "duration": 1091,
    "start_time": "2022-02-02T11:57:24.985Z"
   },
   {
    "duration": 6,
    "start_time": "2022-02-02T11:57:26.079Z"
   },
   {
    "duration": 74,
    "start_time": "2022-02-02T11:57:26.089Z"
   },
   {
    "duration": 9,
    "start_time": "2022-02-02T11:57:26.166Z"
   },
   {
    "duration": 19,
    "start_time": "2022-02-02T11:57:26.178Z"
   },
   {
    "duration": 8,
    "start_time": "2022-02-02T11:57:26.199Z"
   },
   {
    "duration": 16,
    "start_time": "2022-02-02T11:57:26.209Z"
   },
   {
    "duration": 6,
    "start_time": "2022-02-02T11:57:26.262Z"
   },
   {
    "duration": 32,
    "start_time": "2022-02-02T11:57:26.272Z"
   },
   {
    "duration": 4,
    "start_time": "2022-02-02T11:57:26.306Z"
   },
   {
    "duration": 58,
    "start_time": "2022-02-02T11:57:26.313Z"
   },
   {
    "duration": 14,
    "start_time": "2022-02-02T11:57:26.373Z"
   },
   {
    "duration": 35,
    "start_time": "2022-02-02T11:57:26.390Z"
   },
   {
    "duration": 62,
    "start_time": "2022-02-02T11:57:26.428Z"
   },
   {
    "duration": 20,
    "start_time": "2022-02-02T11:57:26.495Z"
   },
   {
    "duration": 8,
    "start_time": "2022-02-02T11:57:26.517Z"
   },
   {
    "duration": 41,
    "start_time": "2022-02-02T11:57:26.527Z"
   },
   {
    "duration": 228,
    "start_time": "2022-02-02T11:57:26.571Z"
   },
   {
    "duration": 26,
    "start_time": "2022-02-02T11:57:26.802Z"
   },
   {
    "duration": 6,
    "start_time": "2022-02-02T11:57:26.830Z"
   },
   {
    "duration": 204,
    "start_time": "2022-02-02T11:57:26.838Z"
   },
   {
    "duration": 51,
    "start_time": "2022-02-02T11:57:27.044Z"
   },
   {
    "duration": 6,
    "start_time": "2022-02-02T11:57:27.100Z"
   },
   {
    "duration": 140,
    "start_time": "2022-02-02T11:57:27.108Z"
   },
   {
    "duration": 39,
    "start_time": "2022-02-02T11:57:27.250Z"
   },
   {
    "duration": 16,
    "start_time": "2022-02-02T11:57:27.291Z"
   },
   {
    "duration": 12,
    "start_time": "2022-02-02T11:57:27.309Z"
   },
   {
    "duration": 55,
    "start_time": "2022-02-02T11:57:27.323Z"
   },
   {
    "duration": 23,
    "start_time": "2022-02-02T11:57:27.381Z"
   },
   {
    "duration": 14,
    "start_time": "2022-02-02T11:57:27.407Z"
   },
   {
    "duration": 52,
    "start_time": "2022-02-02T11:57:27.423Z"
   },
   {
    "duration": 10,
    "start_time": "2022-02-02T11:57:27.478Z"
   },
   {
    "duration": 30,
    "start_time": "2022-02-02T11:57:27.491Z"
   },
   {
    "duration": 17,
    "start_time": "2022-02-02T12:07:44.350Z"
   },
   {
    "duration": 31,
    "start_time": "2022-02-02T12:07:53.427Z"
   },
   {
    "duration": 12,
    "start_time": "2022-02-02T12:10:30.600Z"
   },
   {
    "duration": 29,
    "start_time": "2022-02-02T12:10:32.872Z"
   },
   {
    "duration": 34,
    "start_time": "2022-02-02T12:12:09.817Z"
   },
   {
    "duration": 13,
    "start_time": "2022-02-02T12:35:28.620Z"
   },
   {
    "duration": 26,
    "start_time": "2022-02-02T12:35:45.351Z"
   },
   {
    "duration": 6,
    "start_time": "2022-02-02T12:37:07.284Z"
   },
   {
    "duration": 9,
    "start_time": "2022-02-02T12:37:26.815Z"
   },
   {
    "duration": 9,
    "start_time": "2022-02-02T12:37:43.915Z"
   },
   {
    "duration": 12,
    "start_time": "2022-02-02T12:38:24.583Z"
   },
   {
    "duration": 16,
    "start_time": "2022-02-02T12:38:25.152Z"
   },
   {
    "duration": 14,
    "start_time": "2022-02-02T12:38:57.987Z"
   },
   {
    "duration": 11,
    "start_time": "2022-02-02T12:38:58.603Z"
   },
   {
    "duration": 9,
    "start_time": "2022-02-02T12:39:08.310Z"
   },
   {
    "duration": 17,
    "start_time": "2022-02-02T12:50:47.995Z"
   },
   {
    "duration": 21,
    "start_time": "2022-02-02T12:50:54.913Z"
   },
   {
    "duration": 685,
    "start_time": "2022-02-02T12:54:45.358Z"
   },
   {
    "duration": 14,
    "start_time": "2022-02-02T12:55:21.428Z"
   },
   {
    "duration": 9,
    "start_time": "2022-02-02T12:55:21.901Z"
   },
   {
    "duration": 25,
    "start_time": "2022-02-02T12:55:26.410Z"
   },
   {
    "duration": 24,
    "start_time": "2022-02-02T12:57:57.372Z"
   },
   {
    "duration": 11,
    "start_time": "2022-02-02T12:58:05.707Z"
   },
   {
    "duration": 12,
    "start_time": "2022-02-02T12:58:15.172Z"
   },
   {
    "duration": 579,
    "start_time": "2022-02-02T12:58:34.123Z"
   },
   {
    "duration": 389,
    "start_time": "2022-02-02T12:58:37.773Z"
   },
   {
    "duration": 360,
    "start_time": "2022-02-02T12:58:53.308Z"
   },
   {
    "duration": 361,
    "start_time": "2022-02-02T12:58:57.043Z"
   },
   {
    "duration": 12,
    "start_time": "2022-02-02T12:59:02.990Z"
   },
   {
    "duration": 20,
    "start_time": "2022-02-02T12:59:31.656Z"
   },
   {
    "duration": 13,
    "start_time": "2022-02-02T13:00:10.415Z"
   },
   {
    "duration": 14,
    "start_time": "2022-02-02T13:00:27.676Z"
   },
   {
    "duration": 72,
    "start_time": "2022-02-02T13:01:43.772Z"
   },
   {
    "duration": 10,
    "start_time": "2022-02-02T13:04:21.514Z"
   },
   {
    "duration": 21,
    "start_time": "2022-02-02T13:09:26.793Z"
   },
   {
    "duration": 4,
    "start_time": "2022-02-02T13:15:40.528Z"
   },
   {
    "duration": 6,
    "start_time": "2022-02-02T13:15:40.534Z"
   },
   {
    "duration": 1095,
    "start_time": "2022-02-02T13:15:40.550Z"
   },
   {
    "duration": 14,
    "start_time": "2022-02-02T13:15:41.661Z"
   },
   {
    "duration": 41,
    "start_time": "2022-02-02T13:15:41.679Z"
   },
   {
    "duration": 8,
    "start_time": "2022-02-02T13:15:41.723Z"
   },
   {
    "duration": 12,
    "start_time": "2022-02-02T13:15:41.761Z"
   },
   {
    "duration": 12,
    "start_time": "2022-02-02T13:15:41.776Z"
   },
   {
    "duration": 15,
    "start_time": "2022-02-02T13:15:41.791Z"
   },
   {
    "duration": 6,
    "start_time": "2022-02-02T13:15:41.810Z"
   },
   {
    "duration": 35,
    "start_time": "2022-02-02T13:15:41.860Z"
   },
   {
    "duration": 6,
    "start_time": "2022-02-02T13:15:41.898Z"
   },
   {
    "duration": 67,
    "start_time": "2022-02-02T13:15:41.907Z"
   },
   {
    "duration": 7,
    "start_time": "2022-02-02T13:15:41.976Z"
   },
   {
    "duration": 25,
    "start_time": "2022-02-02T13:15:41.985Z"
   },
   {
    "duration": 42,
    "start_time": "2022-02-02T13:15:42.018Z"
   },
   {
    "duration": 29,
    "start_time": "2022-02-02T13:15:42.063Z"
   },
   {
    "duration": 6,
    "start_time": "2022-02-02T13:15:42.094Z"
   },
   {
    "duration": 8,
    "start_time": "2022-02-02T13:15:42.102Z"
   },
   {
    "duration": 300,
    "start_time": "2022-02-02T13:15:42.112Z"
   },
   {
    "duration": 49,
    "start_time": "2022-02-02T13:15:42.415Z"
   },
   {
    "duration": 7,
    "start_time": "2022-02-02T13:15:42.467Z"
   },
   {
    "duration": 320,
    "start_time": "2022-02-02T13:15:42.477Z"
   },
   {
    "duration": 38,
    "start_time": "2022-02-02T13:15:42.801Z"
   },
   {
    "duration": 7,
    "start_time": "2022-02-02T13:15:42.873Z"
   },
   {
    "duration": 140,
    "start_time": "2022-02-02T13:15:42.884Z"
   },
   {
    "duration": 45,
    "start_time": "2022-02-02T13:15:43.027Z"
   },
   {
    "duration": 19,
    "start_time": "2022-02-02T13:15:43.075Z"
   },
   {
    "duration": 17,
    "start_time": "2022-02-02T13:15:43.097Z"
   },
   {
    "duration": 52,
    "start_time": "2022-02-02T13:15:43.116Z"
   },
   {
    "duration": 26,
    "start_time": "2022-02-02T13:15:43.171Z"
   },
   {
    "duration": 16,
    "start_time": "2022-02-02T13:15:43.199Z"
   },
   {
    "duration": 9,
    "start_time": "2022-02-02T13:15:43.217Z"
   },
   {
    "duration": 47,
    "start_time": "2022-02-02T13:15:43.228Z"
   },
   {
    "duration": 16,
    "start_time": "2022-02-02T13:15:43.278Z"
   },
   {
    "duration": 24,
    "start_time": "2022-02-02T13:15:43.297Z"
   },
   {
    "duration": 48,
    "start_time": "2022-02-02T13:15:43.324Z"
   },
   {
    "duration": 13,
    "start_time": "2022-02-02T13:15:43.376Z"
   },
   {
    "duration": 89,
    "start_time": "2022-02-02T13:15:43.392Z"
   },
   {
    "duration": 14,
    "start_time": "2022-02-02T13:15:43.484Z"
   },
   {
    "duration": 19,
    "start_time": "2022-02-02T13:15:43.501Z"
   },
   {
    "duration": 45,
    "start_time": "2022-02-02T13:15:43.523Z"
   },
   {
    "duration": 22,
    "start_time": "2022-02-02T13:15:43.571Z"
   },
   {
    "duration": 5,
    "start_time": "2022-02-02T13:23:07.849Z"
   },
   {
    "duration": 7,
    "start_time": "2022-02-02T13:23:07.856Z"
   },
   {
    "duration": 997,
    "start_time": "2022-02-02T13:23:07.872Z"
   },
   {
    "duration": 5,
    "start_time": "2022-02-02T13:23:08.872Z"
   },
   {
    "duration": 36,
    "start_time": "2022-02-02T13:23:08.881Z"
   },
   {
    "duration": 41,
    "start_time": "2022-02-02T13:23:08.919Z"
   },
   {
    "duration": 7,
    "start_time": "2022-02-02T13:23:08.967Z"
   },
   {
    "duration": 7,
    "start_time": "2022-02-02T13:23:08.977Z"
   },
   {
    "duration": 16,
    "start_time": "2022-02-02T13:23:08.986Z"
   },
   {
    "duration": 5,
    "start_time": "2022-02-02T13:23:09.006Z"
   },
   {
    "duration": 74,
    "start_time": "2022-02-02T13:23:09.013Z"
   },
   {
    "duration": 4,
    "start_time": "2022-02-02T13:23:09.089Z"
   },
   {
    "duration": 25,
    "start_time": "2022-02-02T13:23:09.095Z"
   },
   {
    "duration": 5,
    "start_time": "2022-02-02T13:23:09.122Z"
   },
   {
    "duration": 54,
    "start_time": "2022-02-02T13:23:09.130Z"
   },
   {
    "duration": 19,
    "start_time": "2022-02-02T13:23:09.186Z"
   },
   {
    "duration": 66,
    "start_time": "2022-02-02T13:23:09.207Z"
   },
   {
    "duration": 8,
    "start_time": "2022-02-02T13:23:09.275Z"
   },
   {
    "duration": 10,
    "start_time": "2022-02-02T13:23:09.285Z"
   },
   {
    "duration": 245,
    "start_time": "2022-02-02T13:23:09.297Z"
   },
   {
    "duration": 41,
    "start_time": "2022-02-02T13:23:09.544Z"
   },
   {
    "duration": 6,
    "start_time": "2022-02-02T13:23:09.587Z"
   },
   {
    "duration": 206,
    "start_time": "2022-02-02T13:23:09.596Z"
   },
   {
    "duration": 30,
    "start_time": "2022-02-02T13:23:09.805Z"
   },
   {
    "duration": 24,
    "start_time": "2022-02-02T13:23:09.840Z"
   },
   {
    "duration": 125,
    "start_time": "2022-02-02T13:23:09.866Z"
   },
   {
    "duration": 25,
    "start_time": "2022-02-02T13:23:09.993Z"
   },
   {
    "duration": 15,
    "start_time": "2022-02-02T13:23:10.020Z"
   },
   {
    "duration": 17,
    "start_time": "2022-02-02T13:23:10.060Z"
   },
   {
    "duration": 17,
    "start_time": "2022-02-02T13:23:10.080Z"
   },
   {
    "duration": 22,
    "start_time": "2022-02-02T13:23:10.100Z"
   },
   {
    "duration": 48,
    "start_time": "2022-02-02T13:23:10.124Z"
   },
   {
    "duration": 10,
    "start_time": "2022-02-02T13:23:10.174Z"
   },
   {
    "duration": 11,
    "start_time": "2022-02-02T13:23:10.186Z"
   },
   {
    "duration": 15,
    "start_time": "2022-02-02T13:23:10.199Z"
   },
   {
    "duration": 65,
    "start_time": "2022-02-02T13:23:10.217Z"
   },
   {
    "duration": 13,
    "start_time": "2022-02-02T13:23:10.285Z"
   },
   {
    "duration": 8,
    "start_time": "2022-02-02T13:23:10.300Z"
   },
   {
    "duration": 111,
    "start_time": "2022-02-02T13:23:10.310Z"
   },
   {
    "duration": 15,
    "start_time": "2022-02-02T13:23:10.423Z"
   },
   {
    "duration": 13,
    "start_time": "2022-02-02T13:23:10.464Z"
   },
   {
    "duration": 16,
    "start_time": "2022-02-02T13:23:10.479Z"
   },
   {
    "duration": 19,
    "start_time": "2022-02-02T13:23:10.497Z"
   },
   {
    "duration": 23,
    "start_time": "2022-02-02T13:23:15.161Z"
   },
   {
    "duration": 14,
    "start_time": "2022-02-02T13:25:21.690Z"
   },
   {
    "duration": 16,
    "start_time": "2022-02-02T13:25:35.676Z"
   },
   {
    "duration": 13,
    "start_time": "2022-02-02T13:34:22.661Z"
   },
   {
    "duration": 10,
    "start_time": "2022-02-02T13:34:39.602Z"
   },
   {
    "duration": 8,
    "start_time": "2022-02-02T13:36:41.735Z"
   },
   {
    "duration": 12,
    "start_time": "2022-02-02T13:37:15.259Z"
   },
   {
    "duration": 12,
    "start_time": "2022-02-02T13:37:27.996Z"
   },
   {
    "duration": 9,
    "start_time": "2022-02-02T13:37:55.598Z"
   },
   {
    "duration": 12,
    "start_time": "2022-02-02T13:37:56.629Z"
   },
   {
    "duration": 18,
    "start_time": "2022-02-02T13:38:14.039Z"
   },
   {
    "duration": 361,
    "start_time": "2022-02-02T14:06:11.100Z"
   },
   {
    "duration": 8,
    "start_time": "2022-02-02T14:06:20.324Z"
   },
   {
    "duration": 7,
    "start_time": "2022-02-02T14:06:50.572Z"
   },
   {
    "duration": 18,
    "start_time": "2022-02-02T14:06:58.663Z"
   },
   {
    "duration": 6,
    "start_time": "2022-02-02T14:07:24.138Z"
   },
   {
    "duration": 7,
    "start_time": "2022-02-02T14:08:21.932Z"
   },
   {
    "duration": 11,
    "start_time": "2022-02-02T14:08:50.527Z"
   },
   {
    "duration": 10,
    "start_time": "2022-02-02T14:14:48.099Z"
   },
   {
    "duration": 36,
    "start_time": "2022-02-02T14:17:35.486Z"
   },
   {
    "duration": 42,
    "start_time": "2022-02-02T14:17:58.515Z"
   },
   {
    "duration": 13,
    "start_time": "2022-02-02T16:07:58.088Z"
   },
   {
    "duration": 19,
    "start_time": "2022-02-02T16:13:56.554Z"
   },
   {
    "duration": 11,
    "start_time": "2022-02-02T16:14:31.058Z"
   },
   {
    "duration": 24,
    "start_time": "2022-02-02T16:18:43.653Z"
   },
   {
    "duration": 25,
    "start_time": "2022-02-02T18:57:09.360Z"
   },
   {
    "duration": 2152,
    "start_time": "2022-02-02T19:24:07.036Z"
   },
   {
    "duration": -1392,
    "start_time": "2022-02-02T19:24:10.582Z"
   },
   {
    "duration": 4,
    "start_time": "2022-02-02T19:24:23.385Z"
   },
   {
    "duration": 4,
    "start_time": "2022-02-02T19:24:23.393Z"
   },
   {
    "duration": 1005,
    "start_time": "2022-02-02T19:24:23.402Z"
   },
   {
    "duration": 6,
    "start_time": "2022-02-02T19:24:24.410Z"
   },
   {
    "duration": 68,
    "start_time": "2022-02-02T19:24:24.418Z"
   },
   {
    "duration": 8,
    "start_time": "2022-02-02T19:24:24.489Z"
   },
   {
    "duration": 7,
    "start_time": "2022-02-02T19:24:24.499Z"
   },
   {
    "duration": 6,
    "start_time": "2022-02-02T19:24:24.510Z"
   },
   {
    "duration": 57,
    "start_time": "2022-02-02T19:24:24.519Z"
   },
   {
    "duration": 6,
    "start_time": "2022-02-02T19:24:24.579Z"
   },
   {
    "duration": 28,
    "start_time": "2022-02-02T19:24:24.587Z"
   },
   {
    "duration": 4,
    "start_time": "2022-02-02T19:24:24.618Z"
   },
   {
    "duration": 60,
    "start_time": "2022-02-02T19:24:24.624Z"
   },
   {
    "duration": 5,
    "start_time": "2022-02-02T19:24:24.687Z"
   },
   {
    "duration": 23,
    "start_time": "2022-02-02T19:24:24.695Z"
   },
   {
    "duration": 62,
    "start_time": "2022-02-02T19:24:24.720Z"
   },
   {
    "duration": 17,
    "start_time": "2022-02-02T19:24:24.784Z"
   },
   {
    "duration": 8,
    "start_time": "2022-02-02T19:24:24.803Z"
   },
   {
    "duration": 9,
    "start_time": "2022-02-02T19:24:24.814Z"
   },
   {
    "duration": 247,
    "start_time": "2022-02-02T19:24:24.860Z"
   },
   {
    "duration": 26,
    "start_time": "2022-02-02T19:24:25.110Z"
   },
   {
    "duration": 29,
    "start_time": "2022-02-02T19:24:25.139Z"
   },
   {
    "duration": 183,
    "start_time": "2022-02-02T19:24:25.173Z"
   },
   {
    "duration": 35,
    "start_time": "2022-02-02T19:24:25.359Z"
   },
   {
    "duration": 6,
    "start_time": "2022-02-02T19:24:25.396Z"
   },
   {
    "duration": 137,
    "start_time": "2022-02-02T19:24:25.404Z"
   },
   {
    "duration": 40,
    "start_time": "2022-02-02T19:24:25.543Z"
   },
   {
    "duration": 16,
    "start_time": "2022-02-02T19:24:25.585Z"
   },
   {
    "duration": 11,
    "start_time": "2022-02-02T19:24:25.603Z"
   },
   {
    "duration": 54,
    "start_time": "2022-02-02T19:24:25.616Z"
   },
   {
    "duration": 11,
    "start_time": "2022-02-02T19:24:25.673Z"
   },
   {
    "duration": 23,
    "start_time": "2022-02-02T19:24:25.686Z"
   },
   {
    "duration": 62,
    "start_time": "2022-02-02T19:24:25.711Z"
   },
   {
    "duration": 10,
    "start_time": "2022-02-02T19:24:25.776Z"
   },
   {
    "duration": 13,
    "start_time": "2022-02-02T19:24:25.789Z"
   },
   {
    "duration": 18,
    "start_time": "2022-02-02T19:24:25.805Z"
   },
   {
    "duration": 55,
    "start_time": "2022-02-02T19:24:25.826Z"
   },
   {
    "duration": 4,
    "start_time": "2022-02-02T19:24:25.885Z"
   },
   {
    "duration": 3,
    "start_time": "2022-02-02T19:24:29.844Z"
   },
   {
    "duration": 412,
    "start_time": "2022-02-02T19:24:30.974Z"
   },
   {
    "duration": 15,
    "start_time": "2022-02-02T19:27:58.410Z"
   },
   {
    "duration": 207,
    "start_time": "2022-02-02T19:30:44.472Z"
   },
   {
    "duration": 8,
    "start_time": "2022-02-02T19:31:30.732Z"
   },
   {
    "duration": 13,
    "start_time": "2022-02-02T19:32:20.177Z"
   },
   {
    "duration": 174,
    "start_time": "2022-02-02T19:32:21.295Z"
   },
   {
    "duration": 9,
    "start_time": "2022-02-02T19:32:25.889Z"
   },
   {
    "duration": 94,
    "start_time": "2022-02-02T19:33:29.179Z"
   },
   {
    "duration": 100,
    "start_time": "2022-02-02T19:34:27.014Z"
   },
   {
    "duration": 18,
    "start_time": "2022-02-02T19:46:45.215Z"
   },
   {
    "duration": 9,
    "start_time": "2022-02-02T19:47:27.609Z"
   },
   {
    "duration": 52,
    "start_time": "2022-02-02T19:47:28.657Z"
   },
   {
    "duration": 15,
    "start_time": "2022-02-02T19:47:44.034Z"
   },
   {
    "duration": 14,
    "start_time": "2022-02-02T19:47:44.051Z"
   },
   {
    "duration": 19,
    "start_time": "2022-02-02T19:47:44.069Z"
   },
   {
    "duration": 19,
    "start_time": "2022-02-02T19:47:44.091Z"
   },
   {
    "duration": 8,
    "start_time": "2022-02-02T19:47:44.112Z"
   },
   {
    "duration": 51,
    "start_time": "2022-02-02T19:47:44.123Z"
   },
   {
    "duration": 16,
    "start_time": "2022-02-02T19:47:44.177Z"
   },
   {
    "duration": 15,
    "start_time": "2022-02-02T19:47:44.199Z"
   },
   {
    "duration": 8,
    "start_time": "2022-02-02T19:47:44.217Z"
   },
   {
    "duration": 54,
    "start_time": "2022-02-02T19:47:44.228Z"
   },
   {
    "duration": 33,
    "start_time": "2022-02-02T19:47:44.285Z"
   },
   {
    "duration": 4,
    "start_time": "2022-02-02T19:52:44.027Z"
   },
   {
    "duration": 5,
    "start_time": "2022-02-02T19:52:44.035Z"
   },
   {
    "duration": 969,
    "start_time": "2022-02-02T19:52:44.044Z"
   },
   {
    "duration": 6,
    "start_time": "2022-02-02T19:52:45.016Z"
   },
   {
    "duration": 68,
    "start_time": "2022-02-02T19:52:45.024Z"
   },
   {
    "duration": 9,
    "start_time": "2022-02-02T19:52:45.094Z"
   },
   {
    "duration": 6,
    "start_time": "2022-02-02T19:52:45.107Z"
   },
   {
    "duration": 50,
    "start_time": "2022-02-02T19:52:45.116Z"
   },
   {
    "duration": 20,
    "start_time": "2022-02-02T19:52:45.168Z"
   },
   {
    "duration": 6,
    "start_time": "2022-02-02T19:52:45.190Z"
   },
   {
    "duration": 24,
    "start_time": "2022-02-02T19:52:45.198Z"
   },
   {
    "duration": 4,
    "start_time": "2022-02-02T19:52:45.224Z"
   },
   {
    "duration": 37,
    "start_time": "2022-02-02T19:52:45.259Z"
   },
   {
    "duration": 6,
    "start_time": "2022-02-02T19:52:45.298Z"
   },
   {
    "duration": 23,
    "start_time": "2022-02-02T19:52:45.306Z"
   },
   {
    "duration": 46,
    "start_time": "2022-02-02T19:52:45.331Z"
   },
   {
    "duration": 16,
    "start_time": "2022-02-02T19:52:45.380Z"
   },
   {
    "duration": 6,
    "start_time": "2022-02-02T19:52:45.398Z"
   },
   {
    "duration": 6,
    "start_time": "2022-02-02T19:52:45.409Z"
   },
   {
    "duration": 282,
    "start_time": "2022-02-02T19:52:45.417Z"
   },
   {
    "duration": 30,
    "start_time": "2022-02-02T19:52:45.702Z"
   },
   {
    "duration": 27,
    "start_time": "2022-02-02T19:52:45.734Z"
   },
   {
    "duration": 195,
    "start_time": "2022-02-02T19:52:45.772Z"
   },
   {
    "duration": 30,
    "start_time": "2022-02-02T19:52:45.970Z"
   },
   {
    "duration": 5,
    "start_time": "2022-02-02T19:52:46.003Z"
   },
   {
    "duration": 139,
    "start_time": "2022-02-02T19:52:46.012Z"
   },
   {
    "duration": 36,
    "start_time": "2022-02-02T19:52:46.153Z"
   },
   {
    "duration": 16,
    "start_time": "2022-02-02T19:52:46.192Z"
   },
   {
    "duration": 12,
    "start_time": "2022-02-02T19:52:46.210Z"
   },
   {
    "duration": 20,
    "start_time": "2022-02-02T19:52:46.265Z"
   },
   {
    "duration": 12,
    "start_time": "2022-02-02T19:52:46.287Z"
   },
   {
    "duration": 24,
    "start_time": "2022-02-02T19:52:46.301Z"
   },
   {
    "duration": 19,
    "start_time": "2022-02-02T19:52:46.360Z"
   },
   {
    "duration": 10,
    "start_time": "2022-02-02T19:52:46.382Z"
   },
   {
    "duration": 13,
    "start_time": "2022-02-02T19:52:46.395Z"
   },
   {
    "duration": 67,
    "start_time": "2022-02-02T19:52:46.410Z"
   },
   {
    "duration": 26,
    "start_time": "2022-02-02T19:52:46.480Z"
   },
   {
    "duration": 17,
    "start_time": "2022-02-02T19:52:46.509Z"
   },
   {
    "duration": 160,
    "start_time": "2022-02-02T19:52:48.029Z"
   },
   {
    "duration": 19,
    "start_time": "2022-02-02T19:53:00.693Z"
   },
   {
    "duration": 9,
    "start_time": "2022-02-02T19:53:22.572Z"
   },
   {
    "duration": 63,
    "start_time": "2022-02-02T19:53:28.537Z"
   },
   {
    "duration": 14,
    "start_time": "2022-02-02T19:55:51.380Z"
   },
   {
    "duration": 4,
    "start_time": "2022-02-02T20:02:30.402Z"
   },
   {
    "duration": 11,
    "start_time": "2022-02-02T20:02:30.409Z"
   },
   {
    "duration": 1072,
    "start_time": "2022-02-02T20:02:30.423Z"
   },
   {
    "duration": 6,
    "start_time": "2022-02-02T20:02:31.499Z"
   },
   {
    "duration": 75,
    "start_time": "2022-02-02T20:02:31.508Z"
   },
   {
    "duration": 9,
    "start_time": "2022-02-02T20:02:31.586Z"
   },
   {
    "duration": 9,
    "start_time": "2022-02-02T20:02:31.598Z"
   },
   {
    "duration": 8,
    "start_time": "2022-02-02T20:02:31.610Z"
   },
   {
    "duration": 50,
    "start_time": "2022-02-02T20:02:31.621Z"
   },
   {
    "duration": 9,
    "start_time": "2022-02-02T20:02:31.674Z"
   },
   {
    "duration": 25,
    "start_time": "2022-02-02T20:02:31.685Z"
   },
   {
    "duration": 5,
    "start_time": "2022-02-02T20:02:31.712Z"
   },
   {
    "duration": 25,
    "start_time": "2022-02-02T20:02:31.767Z"
   },
   {
    "duration": 6,
    "start_time": "2022-02-02T20:02:31.795Z"
   },
   {
    "duration": 26,
    "start_time": "2022-02-02T20:02:31.804Z"
   },
   {
    "duration": 41,
    "start_time": "2022-02-02T20:02:31.833Z"
   },
   {
    "duration": 15,
    "start_time": "2022-02-02T20:02:31.877Z"
   },
   {
    "duration": 7,
    "start_time": "2022-02-02T20:02:31.894Z"
   },
   {
    "duration": 6,
    "start_time": "2022-02-02T20:02:31.905Z"
   },
   {
    "duration": 286,
    "start_time": "2022-02-02T20:02:31.914Z"
   },
   {
    "duration": 26,
    "start_time": "2022-02-02T20:02:32.202Z"
   },
   {
    "duration": 6,
    "start_time": "2022-02-02T20:02:32.230Z"
   },
   {
    "duration": 188,
    "start_time": "2022-02-02T20:02:32.266Z"
   },
   {
    "duration": 35,
    "start_time": "2022-02-02T20:02:32.461Z"
   },
   {
    "duration": 6,
    "start_time": "2022-02-02T20:02:32.499Z"
   },
   {
    "duration": 142,
    "start_time": "2022-02-02T20:02:32.508Z"
   },
   {
    "duration": 35,
    "start_time": "2022-02-02T20:02:32.652Z"
   },
   {
    "duration": 18,
    "start_time": "2022-02-02T20:02:32.689Z"
   },
   {
    "duration": 12,
    "start_time": "2022-02-02T20:02:32.710Z"
   },
   {
    "duration": 18,
    "start_time": "2022-02-02T20:02:32.764Z"
   },
   {
    "duration": 10,
    "start_time": "2022-02-02T20:02:32.784Z"
   },
   {
    "duration": 22,
    "start_time": "2022-02-02T20:02:32.796Z"
   },
   {
    "duration": 53,
    "start_time": "2022-02-02T20:02:32.820Z"
   },
   {
    "duration": 11,
    "start_time": "2022-02-02T20:02:32.876Z"
   },
   {
    "duration": 13,
    "start_time": "2022-02-02T20:02:32.889Z"
   },
   {
    "duration": 17,
    "start_time": "2022-02-02T20:02:32.905Z"
   },
   {
    "duration": 27,
    "start_time": "2022-02-02T20:02:32.959Z"
   },
   {
    "duration": 12,
    "start_time": "2022-02-02T20:02:32.988Z"
   },
   {
    "duration": 203,
    "start_time": "2022-02-02T20:02:33.002Z"
   },
   {
    "duration": 19,
    "start_time": "2022-02-02T20:02:33.207Z"
   },
   {
    "duration": 36,
    "start_time": "2022-02-02T20:02:33.228Z"
   },
   {
    "duration": 55,
    "start_time": "2022-02-02T20:02:33.266Z"
   },
   {
    "duration": 10,
    "start_time": "2022-02-02T20:02:33.324Z"
   },
   {
    "duration": 37,
    "start_time": "2022-02-02T20:02:33.336Z"
   },
   {
    "duration": 22,
    "start_time": "2022-02-02T20:02:33.376Z"
   },
   {
    "duration": 9,
    "start_time": "2022-02-02T20:02:33.400Z"
   },
   {
    "duration": 11,
    "start_time": "2022-02-02T20:02:33.411Z"
   },
   {
    "duration": 20,
    "start_time": "2022-02-02T20:02:33.461Z"
   },
   {
    "duration": 14,
    "start_time": "2022-02-02T20:02:33.483Z"
   },
   {
    "duration": 7,
    "start_time": "2022-02-02T20:02:33.499Z"
   },
   {
    "duration": 51,
    "start_time": "2022-02-02T20:02:33.508Z"
   },
   {
    "duration": 20,
    "start_time": "2022-02-02T20:02:35.416Z"
   },
   {
    "duration": 128,
    "start_time": "2022-02-02T20:02:37.748Z"
   },
   {
    "duration": 366,
    "start_time": "2022-02-02T20:04:28.878Z"
   },
   {
    "duration": 33,
    "start_time": "2022-02-02T20:04:42.973Z"
   },
   {
    "duration": 22,
    "start_time": "2022-02-02T20:06:17.554Z"
   },
   {
    "duration": 17,
    "start_time": "2022-02-02T20:06:52.202Z"
   },
   {
    "duration": 6,
    "start_time": "2022-02-02T20:36:14.046Z"
   },
   {
    "duration": 16,
    "start_time": "2022-02-02T20:36:27.579Z"
   },
   {
    "duration": 16,
    "start_time": "2022-02-02T20:37:12.125Z"
   },
   {
    "duration": 20,
    "start_time": "2022-02-02T20:37:34.500Z"
   },
   {
    "duration": 31,
    "start_time": "2022-02-02T20:41:28.960Z"
   },
   {
    "duration": 30,
    "start_time": "2022-02-02T20:44:19.878Z"
   },
   {
    "duration": 9,
    "start_time": "2022-02-02T20:54:47.814Z"
   },
   {
    "duration": 160,
    "start_time": "2022-02-02T20:54:47.827Z"
   },
   {
    "duration": 1044,
    "start_time": "2022-02-02T20:54:47.998Z"
   },
   {
    "duration": 6,
    "start_time": "2022-02-02T20:54:49.060Z"
   },
   {
    "duration": 44,
    "start_time": "2022-02-02T20:54:49.068Z"
   },
   {
    "duration": 8,
    "start_time": "2022-02-02T20:54:49.115Z"
   },
   {
    "duration": 50,
    "start_time": "2022-02-02T20:54:49.125Z"
   },
   {
    "duration": 6,
    "start_time": "2022-02-02T20:54:49.178Z"
   },
   {
    "duration": 14,
    "start_time": "2022-02-02T20:54:49.191Z"
   },
   {
    "duration": 6,
    "start_time": "2022-02-02T20:54:49.209Z"
   },
   {
    "duration": 64,
    "start_time": "2022-02-02T20:54:49.217Z"
   },
   {
    "duration": 4,
    "start_time": "2022-02-02T20:54:49.283Z"
   },
   {
    "duration": 23,
    "start_time": "2022-02-02T20:54:49.289Z"
   },
   {
    "duration": 5,
    "start_time": "2022-02-02T20:54:49.314Z"
   },
   {
    "duration": 62,
    "start_time": "2022-02-02T20:54:49.321Z"
   },
   {
    "duration": 18,
    "start_time": "2022-02-02T20:54:49.386Z"
   },
   {
    "duration": 16,
    "start_time": "2022-02-02T20:54:49.407Z"
   },
   {
    "duration": 40,
    "start_time": "2022-02-02T20:54:49.425Z"
   },
   {
    "duration": 9,
    "start_time": "2022-02-02T20:54:49.471Z"
   },
   {
    "duration": 228,
    "start_time": "2022-02-02T20:54:49.482Z"
   },
   {
    "duration": 26,
    "start_time": "2022-02-02T20:54:49.712Z"
   },
   {
    "duration": 21,
    "start_time": "2022-02-02T20:54:49.740Z"
   },
   {
    "duration": 191,
    "start_time": "2022-02-02T20:54:49.763Z"
   },
   {
    "duration": 37,
    "start_time": "2022-02-02T20:54:49.956Z"
   },
   {
    "duration": 7,
    "start_time": "2022-02-02T20:54:49.996Z"
   },
   {
    "duration": 146,
    "start_time": "2022-02-02T20:54:50.006Z"
   },
   {
    "duration": 29,
    "start_time": "2022-02-02T20:54:50.162Z"
   },
   {
    "duration": 15,
    "start_time": "2022-02-02T20:54:50.194Z"
   },
   {
    "duration": 10,
    "start_time": "2022-02-02T20:54:50.212Z"
   },
   {
    "duration": 56,
    "start_time": "2022-02-02T20:54:50.224Z"
   },
   {
    "duration": 10,
    "start_time": "2022-02-02T20:54:50.282Z"
   },
   {
    "duration": 20,
    "start_time": "2022-02-02T20:54:50.294Z"
   },
   {
    "duration": 55,
    "start_time": "2022-02-02T20:54:50.317Z"
   },
   {
    "duration": 9,
    "start_time": "2022-02-02T20:54:50.375Z"
   },
   {
    "duration": 11,
    "start_time": "2022-02-02T20:54:50.386Z"
   },
   {
    "duration": 16,
    "start_time": "2022-02-02T20:54:50.399Z"
   },
   {
    "duration": 54,
    "start_time": "2022-02-02T20:54:50.418Z"
   },
   {
    "duration": 25,
    "start_time": "2022-02-02T20:54:50.474Z"
   },
   {
    "duration": 14,
    "start_time": "2022-02-02T20:54:50.501Z"
   },
   {
    "duration": 199,
    "start_time": "2022-02-02T20:54:50.518Z"
   },
   {
    "duration": 41,
    "start_time": "2022-02-02T20:54:50.719Z"
   },
   {
    "duration": 10,
    "start_time": "2022-02-02T20:54:50.763Z"
   },
   {
    "duration": 58,
    "start_time": "2022-02-02T20:54:50.775Z"
   },
   {
    "duration": 38,
    "start_time": "2022-02-02T20:54:50.835Z"
   },
   {
    "duration": 22,
    "start_time": "2022-02-02T20:54:50.876Z"
   },
   {
    "duration": 25,
    "start_time": "2022-02-02T20:54:50.901Z"
   },
   {
    "duration": 38,
    "start_time": "2022-02-02T20:54:50.929Z"
   },
   {
    "duration": 24,
    "start_time": "2022-02-02T20:54:50.969Z"
   },
   {
    "duration": 15,
    "start_time": "2022-02-02T20:54:50.996Z"
   },
   {
    "duration": 54,
    "start_time": "2022-02-02T20:54:51.014Z"
   },
   {
    "duration": 9,
    "start_time": "2022-02-02T20:54:51.071Z"
   },
   {
    "duration": 30,
    "start_time": "2022-02-02T20:54:51.083Z"
   },
   {
    "duration": 122,
    "start_time": "2022-02-02T20:54:51.116Z"
   },
   {
    "duration": 48,
    "start_time": "2022-02-02T20:54:51.240Z"
   },
   {
    "duration": 16,
    "start_time": "2022-02-02T20:59:42.617Z"
   },
   {
    "duration": 30,
    "start_time": "2022-02-02T21:02:35.782Z"
   },
   {
    "duration": 33,
    "start_time": "2022-02-02T21:03:22.735Z"
   },
   {
    "duration": 23,
    "start_time": "2022-02-02T21:04:24.107Z"
   },
   {
    "duration": 33,
    "start_time": "2022-02-02T21:08:34.159Z"
   },
   {
    "duration": 24,
    "start_time": "2022-02-02T21:11:19.698Z"
   },
   {
    "duration": 26,
    "start_time": "2022-02-02T21:11:59.242Z"
   },
   {
    "duration": 32,
    "start_time": "2022-02-02T21:13:32.115Z"
   },
   {
    "duration": 12,
    "start_time": "2022-02-02T21:22:45.093Z"
   },
   {
    "duration": 21,
    "start_time": "2022-02-02T21:23:02.636Z"
   },
   {
    "duration": 1883,
    "start_time": "2022-02-03T07:26:24.466Z"
   },
   {
    "duration": 5,
    "start_time": "2022-02-03T07:26:26.352Z"
   },
   {
    "duration": 103,
    "start_time": "2022-02-03T07:26:26.360Z"
   },
   {
    "duration": 959,
    "start_time": "2022-02-03T07:26:56.718Z"
   },
   {
    "duration": 3,
    "start_time": "2022-02-03T07:32:51.130Z"
   },
   {
    "duration": 13,
    "start_time": "2022-02-03T07:39:31.090Z"
   },
   {
    "duration": 15,
    "start_time": "2022-02-03T07:39:59.098Z"
   },
   {
    "duration": 481,
    "start_time": "2022-02-03T07:43:12.624Z"
   },
   {
    "duration": 18,
    "start_time": "2022-02-03T07:44:45.403Z"
   },
   {
    "duration": 91,
    "start_time": "2022-02-03T07:48:26.151Z"
   },
   {
    "duration": 288,
    "start_time": "2022-02-03T07:48:31.179Z"
   },
   {
    "duration": 16,
    "start_time": "2022-02-03T07:49:19.318Z"
   },
   {
    "duration": 287,
    "start_time": "2022-02-03T07:50:00.197Z"
   },
   {
    "duration": 5,
    "start_time": "2022-02-03T07:50:07.417Z"
   },
   {
    "duration": 24,
    "start_time": "2022-02-03T07:50:07.424Z"
   },
   {
    "duration": 928,
    "start_time": "2022-02-03T07:50:07.451Z"
   },
   {
    "duration": 5,
    "start_time": "2022-02-03T07:50:08.382Z"
   },
   {
    "duration": 16,
    "start_time": "2022-02-03T07:50:08.390Z"
   },
   {
    "duration": 13,
    "start_time": "2022-02-03T07:50:08.409Z"
   },
   {
    "duration": 301,
    "start_time": "2022-02-03T07:50:10.197Z"
   },
   {
    "duration": 459,
    "start_time": "2022-02-03T07:51:19.813Z"
   },
   {
    "duration": 281,
    "start_time": "2022-02-03T07:51:36.334Z"
   },
   {
    "duration": 300,
    "start_time": "2022-02-03T07:51:53.647Z"
   },
   {
    "duration": 4,
    "start_time": "2022-02-03T07:52:09.284Z"
   },
   {
    "duration": 8,
    "start_time": "2022-02-03T07:52:09.291Z"
   },
   {
    "duration": 881,
    "start_time": "2022-02-03T07:52:09.334Z"
   },
   {
    "duration": 5,
    "start_time": "2022-02-03T07:52:10.217Z"
   },
   {
    "duration": 25,
    "start_time": "2022-02-03T07:52:10.225Z"
   },
   {
    "duration": 10,
    "start_time": "2022-02-03T07:52:10.252Z"
   },
   {
    "duration": 107,
    "start_time": "2022-02-03T07:52:45.992Z"
   },
   {
    "duration": 19,
    "start_time": "2022-02-03T07:52:54.867Z"
   },
   {
    "duration": 5,
    "start_time": "2022-02-03T07:53:33.234Z"
   },
   {
    "duration": 5,
    "start_time": "2022-02-03T07:54:11.355Z"
   },
   {
    "duration": 11,
    "start_time": "2022-02-03T07:54:11.363Z"
   },
   {
    "duration": 1175,
    "start_time": "2022-02-03T07:54:11.379Z"
   },
   {
    "duration": 19,
    "start_time": "2022-02-03T07:54:12.556Z"
   },
   {
    "duration": 3,
    "start_time": "2022-02-03T07:54:12.579Z"
   },
   {
    "duration": 3,
    "start_time": "2022-02-03T07:54:14.261Z"
   },
   {
    "duration": 9,
    "start_time": "2022-02-03T07:54:15.222Z"
   },
   {
    "duration": 17,
    "start_time": "2022-02-03T07:54:17.158Z"
   },
   {
    "duration": 7,
    "start_time": "2022-02-03T07:59:47.267Z"
   },
   {
    "duration": 9,
    "start_time": "2022-02-03T08:02:35.575Z"
   },
   {
    "duration": 12,
    "start_time": "2022-02-03T08:04:10.892Z"
   },
   {
    "duration": 10,
    "start_time": "2022-02-03T08:05:20.006Z"
   },
   {
    "duration": 8,
    "start_time": "2022-02-03T08:25:52.593Z"
   },
   {
    "duration": 9,
    "start_time": "2022-02-03T08:26:24.640Z"
   },
   {
    "duration": 9,
    "start_time": "2022-02-03T08:26:34.685Z"
   },
   {
    "duration": 13,
    "start_time": "2022-02-03T08:26:40.858Z"
   },
   {
    "duration": 13,
    "start_time": "2022-02-03T08:27:46.556Z"
   },
   {
    "duration": 280,
    "start_time": "2022-02-03T08:43:43.829Z"
   },
   {
    "duration": 279,
    "start_time": "2022-02-03T08:44:13.519Z"
   },
   {
    "duration": 318,
    "start_time": "2022-02-03T08:44:36.170Z"
   },
   {
    "duration": 13,
    "start_time": "2022-02-03T08:44:48.843Z"
   },
   {
    "duration": 16,
    "start_time": "2022-02-03T08:48:28.083Z"
   },
   {
    "duration": 5,
    "start_time": "2022-02-03T08:56:41.435Z"
   },
   {
    "duration": 10,
    "start_time": "2022-02-03T08:56:41.444Z"
   },
   {
    "duration": 945,
    "start_time": "2022-02-03T08:56:41.458Z"
   },
   {
    "duration": 17,
    "start_time": "2022-02-03T08:56:42.406Z"
   },
   {
    "duration": 4,
    "start_time": "2022-02-03T08:56:42.448Z"
   },
   {
    "duration": 10,
    "start_time": "2022-02-03T08:56:42.454Z"
   },
   {
    "duration": 14,
    "start_time": "2022-02-03T08:56:42.467Z"
   },
   {
    "duration": 17,
    "start_time": "2022-02-03T08:56:42.484Z"
   },
   {
    "duration": 10,
    "start_time": "2022-02-03T08:56:42.503Z"
   },
   {
    "duration": 7051,
    "start_time": "2022-02-03T08:56:42.517Z"
   },
   {
    "duration": 112278,
    "start_time": "2022-02-03T08:54:57.293Z"
   },
   {
    "duration": 112268,
    "start_time": "2022-02-03T08:54:57.304Z"
   },
   {
    "duration": 112221,
    "start_time": "2022-02-03T08:54:57.353Z"
   },
   {
    "duration": 112216,
    "start_time": "2022-02-03T08:54:57.359Z"
   },
   {
    "duration": 112206,
    "start_time": "2022-02-03T08:54:57.371Z"
   },
   {
    "duration": 112187,
    "start_time": "2022-02-03T08:54:57.391Z"
   },
   {
    "duration": 112176,
    "start_time": "2022-02-03T08:54:57.404Z"
   },
   {
    "duration": 112156,
    "start_time": "2022-02-03T08:54:57.426Z"
   },
   {
    "duration": 112113,
    "start_time": "2022-02-03T08:54:57.470Z"
   },
   {
    "duration": 4,
    "start_time": "2022-02-03T08:57:25.192Z"
   },
   {
    "duration": 8,
    "start_time": "2022-02-03T08:57:25.200Z"
   },
   {
    "duration": 1041,
    "start_time": "2022-02-03T08:57:25.214Z"
   },
   {
    "duration": 18,
    "start_time": "2022-02-03T08:57:26.259Z"
   },
   {
    "duration": 3,
    "start_time": "2022-02-03T08:57:26.282Z"
   },
   {
    "duration": 12,
    "start_time": "2022-02-03T08:57:26.289Z"
   },
   {
    "duration": 47,
    "start_time": "2022-02-03T08:57:26.304Z"
   },
   {
    "duration": 22,
    "start_time": "2022-02-03T08:57:26.353Z"
   },
   {
    "duration": 14,
    "start_time": "2022-02-03T08:57:26.378Z"
   },
   {
    "duration": 13,
    "start_time": "2022-02-03T08:57:26.396Z"
   },
   {
    "duration": 11,
    "start_time": "2022-02-03T08:57:26.411Z"
   },
   {
    "duration": 32,
    "start_time": "2022-02-03T08:57:26.425Z"
   },
   {
    "duration": 11,
    "start_time": "2022-02-03T08:57:26.461Z"
   },
   {
    "duration": 36,
    "start_time": "2022-02-03T08:57:26.475Z"
   },
   {
    "duration": 34,
    "start_time": "2022-02-03T08:57:26.514Z"
   },
   {
    "duration": 25,
    "start_time": "2022-02-03T08:57:26.551Z"
   },
   {
    "duration": 7,
    "start_time": "2022-02-03T08:57:26.579Z"
   },
   {
    "duration": 32,
    "start_time": "2022-02-03T08:57:26.588Z"
   },
   {
    "duration": 23,
    "start_time": "2022-02-03T08:57:26.649Z"
   },
   {
    "duration": 17,
    "start_time": "2022-02-03T08:57:26.675Z"
   },
   {
    "duration": 4,
    "start_time": "2022-02-03T09:23:15.395Z"
   },
   {
    "duration": 19,
    "start_time": "2022-02-03T09:23:15.402Z"
   },
   {
    "duration": 923,
    "start_time": "2022-02-03T09:23:15.572Z"
   },
   {
    "duration": 16,
    "start_time": "2022-02-03T09:23:16.498Z"
   },
   {
    "duration": 3,
    "start_time": "2022-02-03T09:23:16.517Z"
   },
   {
    "duration": 32,
    "start_time": "2022-02-03T09:23:16.523Z"
   },
   {
    "duration": 8,
    "start_time": "2022-02-03T09:23:16.558Z"
   },
   {
    "duration": 15,
    "start_time": "2022-02-03T09:23:16.569Z"
   },
   {
    "duration": 13,
    "start_time": "2022-02-03T09:23:16.586Z"
   },
   {
    "duration": 45,
    "start_time": "2022-02-03T09:23:16.602Z"
   },
   {
    "duration": 5,
    "start_time": "2022-02-03T09:23:16.652Z"
   },
   {
    "duration": 17,
    "start_time": "2022-02-03T09:23:16.660Z"
   },
   {
    "duration": 8,
    "start_time": "2022-02-03T09:23:16.679Z"
   },
   {
    "duration": 25,
    "start_time": "2022-02-03T09:23:16.690Z"
   },
   {
    "duration": 31,
    "start_time": "2022-02-03T09:23:16.718Z"
   },
   {
    "duration": 21,
    "start_time": "2022-02-03T09:23:16.751Z"
   },
   {
    "duration": 5,
    "start_time": "2022-02-03T09:23:16.775Z"
   },
   {
    "duration": 24,
    "start_time": "2022-02-03T09:23:16.783Z"
   },
   {
    "duration": 42,
    "start_time": "2022-02-03T09:23:16.809Z"
   },
   {
    "duration": 241,
    "start_time": "2022-02-03T09:23:16.853Z"
   },
   {
    "duration": 27,
    "start_time": "2022-02-03T09:23:17.096Z"
   },
   {
    "duration": 6,
    "start_time": "2022-02-03T09:23:17.125Z"
   },
   {
    "duration": 212,
    "start_time": "2022-02-03T09:23:17.149Z"
   },
   {
    "duration": 32,
    "start_time": "2022-02-03T09:23:17.364Z"
   },
   {
    "duration": 8,
    "start_time": "2022-02-03T09:23:17.399Z"
   },
   {
    "duration": 152,
    "start_time": "2022-02-03T09:23:17.410Z"
   },
   {
    "duration": 26,
    "start_time": "2022-02-03T09:23:17.565Z"
   },
   {
    "duration": 17,
    "start_time": "2022-02-03T09:23:17.594Z"
   },
   {
    "duration": 25,
    "start_time": "2022-02-03T09:24:07.522Z"
   },
   {
    "duration": 55,
    "start_time": "2022-02-03T09:24:21.225Z"
   },
   {
    "duration": 21,
    "start_time": "2022-02-03T09:30:08.993Z"
   },
   {
    "duration": 34,
    "start_time": "2022-02-03T09:31:19.111Z"
   },
   {
    "duration": 30,
    "start_time": "2022-02-03T09:36:44.544Z"
   },
   {
    "duration": 41,
    "start_time": "2022-02-03T09:37:10.928Z"
   },
   {
    "duration": 42,
    "start_time": "2022-02-03T09:37:54.201Z"
   },
   {
    "duration": 21,
    "start_time": "2022-02-03T09:43:52.582Z"
   },
   {
    "duration": 399,
    "start_time": "2022-02-03T09:44:16.510Z"
   },
   {
    "duration": 13,
    "start_time": "2022-02-03T09:44:20.543Z"
   },
   {
    "duration": 15,
    "start_time": "2022-02-03T09:44:36.251Z"
   },
   {
    "duration": 15,
    "start_time": "2022-02-03T09:47:31.925Z"
   },
   {
    "duration": 18,
    "start_time": "2022-02-03T09:47:38.138Z"
   },
   {
    "duration": 420,
    "start_time": "2022-02-03T10:01:53.909Z"
   },
   {
    "duration": 323,
    "start_time": "2022-02-03T11:55:22.568Z"
   },
   {
    "duration": 12,
    "start_time": "2022-02-03T11:55:52.232Z"
   },
   {
    "duration": 295,
    "start_time": "2022-02-03T11:56:39.545Z"
   },
   {
    "duration": 336,
    "start_time": "2022-02-03T11:57:05.048Z"
   },
   {
    "duration": 301,
    "start_time": "2022-02-03T11:57:18.233Z"
   },
   {
    "duration": 279,
    "start_time": "2022-02-03T11:58:12.981Z"
   },
   {
    "duration": 309,
    "start_time": "2022-02-03T12:00:46.763Z"
   },
   {
    "duration": 7438,
    "start_time": "2022-02-03T12:02:21.985Z"
   },
   {
    "duration": 7247,
    "start_time": "2022-02-03T12:03:31.789Z"
   },
   {
    "duration": 294,
    "start_time": "2022-02-03T12:07:32.123Z"
   },
   {
    "duration": 43,
    "start_time": "2022-02-03T12:07:48.345Z"
   },
   {
    "duration": 42,
    "start_time": "2022-02-03T12:08:05.847Z"
   },
   {
    "duration": 40,
    "start_time": "2022-02-03T12:08:12.839Z"
   },
   {
    "duration": 37,
    "start_time": "2022-02-03T12:08:56.573Z"
   },
   {
    "duration": 29,
    "start_time": "2022-02-03T12:09:33.370Z"
   },
   {
    "duration": 325,
    "start_time": "2022-02-03T12:16:54.544Z"
   },
   {
    "duration": 31,
    "start_time": "2022-02-03T12:17:23.159Z"
   },
   {
    "duration": 26,
    "start_time": "2022-02-03T12:23:08.964Z"
   },
   {
    "duration": 44,
    "start_time": "2022-02-03T12:25:32.855Z"
   },
   {
    "duration": 5,
    "start_time": "2022-02-03T12:27:32.724Z"
   },
   {
    "duration": 29,
    "start_time": "2022-02-03T12:27:32.732Z"
   },
   {
    "duration": 962,
    "start_time": "2022-02-03T12:27:32.765Z"
   },
   {
    "duration": 17,
    "start_time": "2022-02-03T12:27:33.748Z"
   },
   {
    "duration": 3,
    "start_time": "2022-02-03T12:27:33.768Z"
   },
   {
    "duration": 11,
    "start_time": "2022-02-03T12:27:33.774Z"
   },
   {
    "duration": 7,
    "start_time": "2022-02-03T12:27:33.789Z"
   },
   {
    "duration": 64,
    "start_time": "2022-02-03T12:27:33.799Z"
   },
   {
    "duration": 12,
    "start_time": "2022-02-03T12:27:33.866Z"
   },
   {
    "duration": 11,
    "start_time": "2022-02-03T12:27:33.880Z"
   },
   {
    "duration": 13,
    "start_time": "2022-02-03T12:27:33.894Z"
   },
   {
    "duration": 49,
    "start_time": "2022-02-03T12:27:33.910Z"
   },
   {
    "duration": 9,
    "start_time": "2022-02-03T12:27:33.962Z"
   },
   {
    "duration": 24,
    "start_time": "2022-02-03T12:27:33.974Z"
   },
   {
    "duration": 4,
    "start_time": "2022-02-03T12:27:34.001Z"
   },
   {
    "duration": 53,
    "start_time": "2022-02-03T12:27:34.008Z"
   },
   {
    "duration": 5,
    "start_time": "2022-02-03T12:27:34.064Z"
   },
   {
    "duration": 22,
    "start_time": "2022-02-03T12:27:34.073Z"
   },
   {
    "duration": 6,
    "start_time": "2022-02-03T12:27:34.098Z"
   },
   {
    "duration": 277,
    "start_time": "2022-02-03T12:27:34.106Z"
   },
   {
    "duration": 28,
    "start_time": "2022-02-03T12:27:34.386Z"
   },
   {
    "duration": 22,
    "start_time": "2022-02-03T12:27:34.417Z"
   },
   {
    "duration": 173,
    "start_time": "2022-02-03T12:27:34.450Z"
   },
   {
    "duration": 37,
    "start_time": "2022-02-03T12:27:34.626Z"
   },
   {
    "duration": 8,
    "start_time": "2022-02-03T12:27:34.666Z"
   },
   {
    "duration": 149,
    "start_time": "2022-02-03T12:27:34.676Z"
   },
   {
    "duration": 38,
    "start_time": "2022-02-03T12:27:34.828Z"
   },
   {
    "duration": 16,
    "start_time": "2022-02-03T12:27:34.869Z"
   },
   {
    "duration": 26,
    "start_time": "2022-02-03T12:27:39.536Z"
   },
   {
    "duration": 29,
    "start_time": "2022-02-03T12:28:44.976Z"
   },
   {
    "duration": 5,
    "start_time": "2022-02-03T12:28:53.602Z"
   },
   {
    "duration": 6,
    "start_time": "2022-02-03T12:28:53.614Z"
   },
   {
    "duration": 974,
    "start_time": "2022-02-03T12:28:53.626Z"
   },
   {
    "duration": 17,
    "start_time": "2022-02-03T12:28:54.604Z"
   },
   {
    "duration": 3,
    "start_time": "2022-02-03T12:28:54.650Z"
   },
   {
    "duration": 12,
    "start_time": "2022-02-03T12:28:54.656Z"
   },
   {
    "duration": 15,
    "start_time": "2022-02-03T12:28:54.670Z"
   },
   {
    "duration": 15,
    "start_time": "2022-02-03T12:28:54.688Z"
   },
   {
    "duration": 44,
    "start_time": "2022-02-03T12:28:54.705Z"
   },
   {
    "duration": 9,
    "start_time": "2022-02-03T12:28:54.753Z"
   },
   {
    "duration": 9,
    "start_time": "2022-02-03T12:28:54.766Z"
   },
   {
    "duration": 11,
    "start_time": "2022-02-03T12:28:54.778Z"
   },
   {
    "duration": 9,
    "start_time": "2022-02-03T12:28:54.791Z"
   },
   {
    "duration": 56,
    "start_time": "2022-02-03T12:28:54.803Z"
   },
   {
    "duration": 6,
    "start_time": "2022-02-03T12:28:54.863Z"
   },
   {
    "duration": 34,
    "start_time": "2022-02-03T12:28:54.872Z"
   },
   {
    "duration": 9,
    "start_time": "2022-02-03T12:28:54.909Z"
   },
   {
    "duration": 24,
    "start_time": "2022-02-03T12:28:54.950Z"
   },
   {
    "duration": 8,
    "start_time": "2022-02-03T12:28:54.977Z"
   },
   {
    "duration": 383,
    "start_time": "2022-02-03T12:28:54.988Z"
   },
   {
    "duration": 42,
    "start_time": "2022-02-03T12:28:55.375Z"
   },
   {
    "duration": 28,
    "start_time": "2022-02-03T12:28:55.420Z"
   },
   {
    "duration": 307,
    "start_time": "2022-02-03T12:28:55.451Z"
   },
   {
    "duration": 48,
    "start_time": "2022-02-03T12:28:55.761Z"
   },
   {
    "duration": 32,
    "start_time": "2022-02-03T12:28:55.816Z"
   },
   {
    "duration": 198,
    "start_time": "2022-02-03T12:28:55.852Z"
   },
   {
    "duration": 41,
    "start_time": "2022-02-03T12:28:56.053Z"
   },
   {
    "duration": 24,
    "start_time": "2022-02-03T12:28:56.097Z"
   },
   {
    "duration": 28,
    "start_time": "2022-02-03T12:28:58.182Z"
   },
   {
    "duration": 5,
    "start_time": "2022-02-03T12:32:43.291Z"
   },
   {
    "duration": 8,
    "start_time": "2022-02-03T12:32:43.301Z"
   },
   {
    "duration": 1185,
    "start_time": "2022-02-03T12:32:43.318Z"
   },
   {
    "duration": 43,
    "start_time": "2022-02-03T12:32:44.506Z"
   },
   {
    "duration": 4,
    "start_time": "2022-02-03T12:32:44.553Z"
   },
   {
    "duration": 18,
    "start_time": "2022-02-03T12:32:44.561Z"
   },
   {
    "duration": 13,
    "start_time": "2022-02-03T12:32:44.582Z"
   },
   {
    "duration": 54,
    "start_time": "2022-02-03T12:32:44.599Z"
   },
   {
    "duration": 17,
    "start_time": "2022-02-03T12:32:44.656Z"
   },
   {
    "duration": 12,
    "start_time": "2022-02-03T12:32:44.680Z"
   },
   {
    "duration": 12,
    "start_time": "2022-02-03T12:32:44.695Z"
   },
   {
    "duration": 55,
    "start_time": "2022-02-03T12:32:44.711Z"
   },
   {
    "duration": 13,
    "start_time": "2022-02-03T12:32:44.770Z"
   },
   {
    "duration": 33,
    "start_time": "2022-02-03T12:32:44.786Z"
   },
   {
    "duration": 5,
    "start_time": "2022-02-03T12:32:44.822Z"
   },
   {
    "duration": 39,
    "start_time": "2022-02-03T12:32:44.830Z"
   },
   {
    "duration": 7,
    "start_time": "2022-02-03T12:32:44.873Z"
   },
   {
    "duration": 32,
    "start_time": "2022-02-03T12:32:44.883Z"
   },
   {
    "duration": 38,
    "start_time": "2022-02-03T12:32:44.918Z"
   },
   {
    "duration": 337,
    "start_time": "2022-02-03T12:32:44.985Z"
   },
   {
    "duration": 51,
    "start_time": "2022-02-03T12:32:45.325Z"
   },
   {
    "duration": 8,
    "start_time": "2022-02-03T12:32:45.379Z"
   },
   {
    "duration": 329,
    "start_time": "2022-02-03T12:32:45.391Z"
   },
   {
    "duration": 69,
    "start_time": "2022-02-03T12:32:45.723Z"
   },
   {
    "duration": 8,
    "start_time": "2022-02-03T12:32:45.799Z"
   },
   {
    "duration": 212,
    "start_time": "2022-02-03T12:32:45.811Z"
   },
   {
    "duration": 53,
    "start_time": "2022-02-03T12:32:46.027Z"
   },
   {
    "duration": 18,
    "start_time": "2022-02-03T12:32:46.083Z"
   },
   {
    "duration": 51,
    "start_time": "2022-02-03T12:32:47.825Z"
   },
   {
    "duration": 57,
    "start_time": "2022-02-03T12:33:03.383Z"
   },
   {
    "duration": 114,
    "start_time": "2022-02-03T12:33:10.381Z"
   },
   {
    "duration": 46,
    "start_time": "2022-02-03T12:33:15.270Z"
   },
   {
    "duration": 65,
    "start_time": "2022-02-03T12:33:57.150Z"
   },
   {
    "duration": 63,
    "start_time": "2022-02-03T12:34:26.703Z"
   },
   {
    "duration": 46,
    "start_time": "2022-02-03T12:35:03.644Z"
   },
   {
    "duration": 58,
    "start_time": "2022-02-03T12:39:30.694Z"
   },
   {
    "duration": 52,
    "start_time": "2022-02-03T12:39:54.428Z"
   },
   {
    "duration": 65,
    "start_time": "2022-02-03T12:43:24.498Z"
   },
   {
    "duration": 27,
    "start_time": "2022-02-03T12:43:50.932Z"
   },
   {
    "duration": 47,
    "start_time": "2022-02-03T12:52:18.721Z"
   },
   {
    "duration": 91,
    "start_time": "2022-02-03T12:52:30.512Z"
   },
   {
    "duration": 6,
    "start_time": "2022-02-03T13:00:17.174Z"
   },
   {
    "duration": 32,
    "start_time": "2022-02-03T13:00:17.184Z"
   },
   {
    "duration": 952,
    "start_time": "2022-02-03T13:00:17.219Z"
   },
   {
    "duration": 19,
    "start_time": "2022-02-03T13:00:18.174Z"
   },
   {
    "duration": 2,
    "start_time": "2022-02-03T13:00:18.196Z"
   },
   {
    "duration": 13,
    "start_time": "2022-02-03T13:00:18.201Z"
   },
   {
    "duration": 7,
    "start_time": "2022-02-03T13:00:18.249Z"
   },
   {
    "duration": 20,
    "start_time": "2022-02-03T13:00:18.258Z"
   },
   {
    "duration": 14,
    "start_time": "2022-02-03T13:00:18.280Z"
   },
   {
    "duration": 12,
    "start_time": "2022-02-03T13:00:18.296Z"
   },
   {
    "duration": 39,
    "start_time": "2022-02-03T13:00:18.311Z"
   },
   {
    "duration": 24,
    "start_time": "2022-02-03T13:00:18.353Z"
   },
   {
    "duration": 307,
    "start_time": "2022-02-03T13:00:18.379Z"
   },
   {
    "duration": 4,
    "start_time": "2022-02-03T13:01:07.487Z"
   },
   {
    "duration": 8,
    "start_time": "2022-02-03T13:01:07.494Z"
   },
   {
    "duration": 951,
    "start_time": "2022-02-03T13:01:07.509Z"
   },
   {
    "duration": 16,
    "start_time": "2022-02-03T13:01:08.463Z"
   },
   {
    "duration": 10,
    "start_time": "2022-02-03T13:01:08.482Z"
   },
   {
    "duration": 11,
    "start_time": "2022-02-03T13:01:08.494Z"
   },
   {
    "duration": 9,
    "start_time": "2022-02-03T13:01:08.508Z"
   },
   {
    "duration": 15,
    "start_time": "2022-02-03T13:01:08.549Z"
   },
   {
    "duration": 10,
    "start_time": "2022-02-03T13:01:08.566Z"
   },
   {
    "duration": 10,
    "start_time": "2022-02-03T13:01:08.579Z"
   },
   {
    "duration": 8,
    "start_time": "2022-02-03T13:01:08.592Z"
   },
   {
    "duration": 45,
    "start_time": "2022-02-03T13:01:08.603Z"
   },
   {
    "duration": 10,
    "start_time": "2022-02-03T13:01:11.278Z"
   },
   {
    "duration": 6,
    "start_time": "2022-02-03T13:01:28.352Z"
   },
   {
    "duration": 292,
    "start_time": "2022-02-03T13:01:40.002Z"
   },
   {
    "duration": 49,
    "start_time": "2022-02-03T13:02:28.836Z"
   },
   {
    "duration": 41,
    "start_time": "2022-02-03T13:03:07.839Z"
   },
   {
    "duration": 36,
    "start_time": "2022-02-03T13:08:23.985Z"
   },
   {
    "duration": 7,
    "start_time": "2022-02-03T13:11:22.202Z"
   },
   {
    "duration": 25,
    "start_time": "2022-02-03T13:11:27.131Z"
   },
   {
    "duration": 9,
    "start_time": "2022-02-03T13:16:29.194Z"
   },
   {
    "duration": 26,
    "start_time": "2022-02-03T13:16:34.504Z"
   },
   {
    "duration": 9,
    "start_time": "2022-02-03T13:19:13.710Z"
   },
   {
    "duration": 22,
    "start_time": "2022-02-03T13:19:14.323Z"
   },
   {
    "duration": 12,
    "start_time": "2022-02-03T13:21:22.073Z"
   },
   {
    "duration": 25,
    "start_time": "2022-02-03T13:21:22.852Z"
   },
   {
    "duration": 8,
    "start_time": "2022-02-03T13:21:51.807Z"
   },
   {
    "duration": 23,
    "start_time": "2022-02-03T13:21:52.827Z"
   },
   {
    "duration": 4,
    "start_time": "2022-02-03T13:22:57.988Z"
   },
   {
    "duration": 9,
    "start_time": "2022-02-03T13:22:57.995Z"
   },
   {
    "duration": 1168,
    "start_time": "2022-02-03T13:22:58.010Z"
   },
   {
    "duration": 16,
    "start_time": "2022-02-03T13:22:59.181Z"
   },
   {
    "duration": 10,
    "start_time": "2022-02-03T13:22:59.200Z"
   },
   {
    "duration": 34,
    "start_time": "2022-02-03T13:22:59.214Z"
   },
   {
    "duration": 16,
    "start_time": "2022-02-03T13:22:59.251Z"
   },
   {
    "duration": 32,
    "start_time": "2022-02-03T13:22:59.270Z"
   },
   {
    "duration": 15,
    "start_time": "2022-02-03T13:22:59.305Z"
   },
   {
    "duration": 24,
    "start_time": "2022-02-03T13:22:59.324Z"
   },
   {
    "duration": 9,
    "start_time": "2022-02-03T13:22:59.351Z"
   },
   {
    "duration": 14,
    "start_time": "2022-02-03T13:22:59.363Z"
   },
   {
    "duration": 68,
    "start_time": "2022-02-03T13:22:59.380Z"
   },
   {
    "duration": 294,
    "start_time": "2022-02-03T13:23:05.071Z"
   },
   {
    "duration": 7,
    "start_time": "2022-02-03T13:23:51.432Z"
   },
   {
    "duration": 25,
    "start_time": "2022-02-03T13:23:53.833Z"
   },
   {
    "duration": 22,
    "start_time": "2022-02-03T13:27:16.675Z"
   },
   {
    "duration": 32,
    "start_time": "2022-02-03T13:31:22.475Z"
   },
   {
    "duration": 5,
    "start_time": "2022-02-03T13:43:38.621Z"
   },
   {
    "duration": 19,
    "start_time": "2022-02-03T13:43:38.629Z"
   },
   {
    "duration": 979,
    "start_time": "2022-02-03T13:43:38.652Z"
   },
   {
    "duration": 16,
    "start_time": "2022-02-03T13:43:39.649Z"
   },
   {
    "duration": 8,
    "start_time": "2022-02-03T13:43:39.669Z"
   },
   {
    "duration": 334,
    "start_time": "2022-02-03T13:43:42.525Z"
   },
   {
    "duration": 9,
    "start_time": "2022-02-03T13:44:18.726Z"
   },
   {
    "duration": 6,
    "start_time": "2022-02-03T13:44:20.460Z"
   },
   {
    "duration": 18,
    "start_time": "2022-02-03T13:44:31.533Z"
   },
   {
    "duration": 6,
    "start_time": "2022-02-03T13:47:45.690Z"
   },
   {
    "duration": 5,
    "start_time": "2022-02-03T13:48:28.164Z"
   },
   {
    "duration": 211,
    "start_time": "2022-02-03T18:32:45.653Z"
   },
   {
    "duration": 1398,
    "start_time": "2022-02-03T18:33:04.855Z"
   },
   {
    "duration": 3,
    "start_time": "2022-02-03T18:33:06.255Z"
   },
   {
    "duration": 1770,
    "start_time": "2022-02-03T18:33:06.261Z"
   },
   {
    "duration": 27,
    "start_time": "2022-02-03T18:33:08.033Z"
   },
   {
    "duration": 7,
    "start_time": "2022-02-03T18:33:08.061Z"
   },
   {
    "duration": 3,
    "start_time": "2022-02-03T18:33:08.070Z"
   },
   {
    "duration": 15,
    "start_time": "2022-02-03T18:33:08.075Z"
   },
   {
    "duration": 7,
    "start_time": "2022-02-03T18:33:08.093Z"
   },
   {
    "duration": 7,
    "start_time": "2022-02-03T18:33:08.102Z"
   },
   {
    "duration": 5,
    "start_time": "2022-02-03T18:33:08.110Z"
   },
   {
    "duration": 7,
    "start_time": "2022-02-03T18:33:08.117Z"
   },
   {
    "duration": 59,
    "start_time": "2022-02-03T18:33:08.126Z"
   },
   {
    "duration": 6,
    "start_time": "2022-02-03T18:33:08.186Z"
   },
   {
    "duration": 16,
    "start_time": "2022-02-03T18:33:08.193Z"
   },
   {
    "duration": 15,
    "start_time": "2022-02-03T18:33:11.631Z"
   },
   {
    "duration": 4,
    "start_time": "2022-02-03T18:33:12.935Z"
   },
   {
    "duration": 34,
    "start_time": "2022-02-03T18:33:19.133Z"
   },
   {
    "duration": 4,
    "start_time": "2022-02-03T18:34:14.225Z"
   },
   {
    "duration": 4,
    "start_time": "2022-02-03T18:34:16.931Z"
   },
   {
    "duration": 43,
    "start_time": "2022-02-03T18:34:17.255Z"
   },
   {
    "duration": 6238,
    "start_time": "2022-02-03T18:39:51.956Z"
   },
   {
    "duration": 4968,
    "start_time": "2022-02-03T18:40:01.420Z"
   },
   {
    "duration": 47,
    "start_time": "2022-02-03T18:40:23.036Z"
   },
   {
    "duration": 58,
    "start_time": "2022-02-03T18:40:37.169Z"
   },
   {
    "duration": 4,
    "start_time": "2022-02-03T18:43:27.095Z"
   },
   {
    "duration": 30,
    "start_time": "2022-02-03T18:43:39.175Z"
   },
   {
    "duration": 53,
    "start_time": "2022-02-03T18:48:46.339Z"
   },
   {
    "duration": 86,
    "start_time": "2022-02-03T18:48:54.163Z"
   },
   {
    "duration": 62,
    "start_time": "2022-02-03T18:49:38.953Z"
   },
   {
    "duration": 199,
    "start_time": "2022-02-03T18:51:35.199Z"
   },
   {
    "duration": 5,
    "start_time": "2022-02-03T18:59:11.782Z"
   },
   {
    "duration": 4,
    "start_time": "2022-02-03T18:59:36.422Z"
   },
   {
    "duration": 4,
    "start_time": "2022-02-03T18:59:46.822Z"
   },
   {
    "duration": 176,
    "start_time": "2022-02-03T19:00:27.373Z"
   },
   {
    "duration": 170,
    "start_time": "2022-02-03T19:01:40.370Z"
   },
   {
    "duration": 3,
    "start_time": "2022-02-03T19:03:30.689Z"
   },
   {
    "duration": 14,
    "start_time": "2022-02-03T19:03:42.880Z"
   },
   {
    "duration": 177,
    "start_time": "2022-02-03T19:04:17.639Z"
   },
   {
    "duration": 3,
    "start_time": "2022-02-03T19:05:38.990Z"
   },
   {
    "duration": 5,
    "start_time": "2022-02-03T19:05:38.995Z"
   },
   {
    "duration": 706,
    "start_time": "2022-02-03T19:05:39.110Z"
   },
   {
    "duration": 10,
    "start_time": "2022-02-03T19:05:39.817Z"
   },
   {
    "duration": 30,
    "start_time": "2022-02-03T19:05:39.829Z"
   },
   {
    "duration": 6,
    "start_time": "2022-02-03T19:05:39.861Z"
   },
   {
    "duration": 12,
    "start_time": "2022-02-03T19:05:39.868Z"
   },
   {
    "duration": 7,
    "start_time": "2022-02-03T19:05:39.882Z"
   },
   {
    "duration": 12,
    "start_time": "2022-02-03T19:05:39.891Z"
   },
   {
    "duration": 7,
    "start_time": "2022-02-03T19:05:39.904Z"
   },
   {
    "duration": 7,
    "start_time": "2022-02-03T19:05:39.913Z"
   },
   {
    "duration": 28,
    "start_time": "2022-02-03T19:05:42.707Z"
   },
   {
    "duration": 3,
    "start_time": "2022-02-03T22:16:37.389Z"
   },
   {
    "duration": 214,
    "start_time": "2022-02-03T22:32:28.346Z"
   },
   {
    "duration": 1403,
    "start_time": "2022-02-03T22:32:35.615Z"
   },
   {
    "duration": 2,
    "start_time": "2022-02-03T22:32:37.020Z"
   },
   {
    "duration": 734,
    "start_time": "2022-02-03T22:32:37.024Z"
   },
   {
    "duration": 12,
    "start_time": "2022-02-03T22:32:37.760Z"
   },
   {
    "duration": 23,
    "start_time": "2022-02-03T22:32:37.774Z"
   },
   {
    "duration": 13,
    "start_time": "2022-02-03T22:32:37.799Z"
   },
   {
    "duration": 11,
    "start_time": "2022-02-03T22:32:37.813Z"
   },
   {
    "duration": 6,
    "start_time": "2022-02-03T22:32:37.827Z"
   },
   {
    "duration": 7,
    "start_time": "2022-02-03T22:32:37.834Z"
   },
   {
    "duration": 5,
    "start_time": "2022-02-03T22:32:37.842Z"
   },
   {
    "duration": 9,
    "start_time": "2022-02-03T22:32:37.849Z"
   },
   {
    "duration": 53,
    "start_time": "2022-02-03T22:32:37.860Z"
   },
   {
    "duration": 6,
    "start_time": "2022-02-03T22:32:37.915Z"
   },
   {
    "duration": 17,
    "start_time": "2022-02-03T22:32:37.922Z"
   },
   {
    "duration": 3,
    "start_time": "2022-02-03T22:32:37.941Z"
   },
   {
    "duration": 5,
    "start_time": "2022-02-03T22:32:37.945Z"
   },
   {
    "duration": 6,
    "start_time": "2022-02-03T22:32:37.951Z"
   },
   {
    "duration": 6,
    "start_time": "2022-02-03T22:32:37.958Z"
   },
   {
    "duration": 4,
    "start_time": "2022-02-03T22:32:37.966Z"
   },
   {
    "duration": 206,
    "start_time": "2022-02-03T22:32:37.971Z"
   },
   {
    "duration": 19,
    "start_time": "2022-02-03T22:32:38.179Z"
   },
   {
    "duration": 14,
    "start_time": "2022-02-03T22:32:38.199Z"
   },
   {
    "duration": 140,
    "start_time": "2022-02-03T22:32:38.215Z"
   },
   {
    "duration": 23,
    "start_time": "2022-02-03T22:32:38.356Z"
   },
   {
    "duration": 4,
    "start_time": "2022-02-03T22:32:38.381Z"
   },
   {
    "duration": 5,
    "start_time": "2022-02-03T22:32:41.657Z"
   },
   {
    "duration": 16,
    "start_time": "2022-02-03T22:32:42.773Z"
   },
   {
    "duration": 11,
    "start_time": "2022-02-03T22:43:28.701Z"
   },
   {
    "duration": 17,
    "start_time": "2022-02-03T22:43:44.219Z"
   },
   {
    "duration": 5,
    "start_time": "2022-02-03T22:46:47.199Z"
   },
   {
    "duration": 13,
    "start_time": "2022-02-03T22:46:55.570Z"
   },
   {
    "duration": 12,
    "start_time": "2022-02-03T22:47:39.526Z"
   },
   {
    "duration": 14,
    "start_time": "2022-02-03T22:48:49.853Z"
   },
   {
    "duration": 551,
    "start_time": "2022-02-04T06:34:47.924Z"
   },
   {
    "duration": 4139,
    "start_time": "2022-02-04T06:35:02.566Z"
   },
   {
    "duration": 3,
    "start_time": "2022-02-04T06:35:06.708Z"
   },
   {
    "duration": 926,
    "start_time": "2022-02-04T06:35:06.715Z"
   },
   {
    "duration": 18,
    "start_time": "2022-02-04T06:35:07.659Z"
   },
   {
    "duration": 12,
    "start_time": "2022-02-04T06:35:07.680Z"
   },
   {
    "duration": 5,
    "start_time": "2022-02-04T06:35:07.694Z"
   },
   {
    "duration": 14,
    "start_time": "2022-02-04T06:35:11.755Z"
   },
   {
    "duration": 64,
    "start_time": "2022-02-04T06:43:06.155Z"
   },
   {
    "duration": 131,
    "start_time": "2022-02-04T06:43:06.700Z"
   },
   {
    "duration": 38,
    "start_time": "2022-02-04T06:43:28.240Z"
   },
   {
    "duration": 199,
    "start_time": "2022-02-04T06:49:22.036Z"
   },
   {
    "duration": 152,
    "start_time": "2022-02-04T06:50:21.456Z"
   },
   {
    "duration": 93,
    "start_time": "2022-02-04T06:51:31.550Z"
   },
   {
    "duration": 466,
    "start_time": "2022-02-04T06:52:42.191Z"
   },
   {
    "duration": 38,
    "start_time": "2022-02-04T06:53:02.059Z"
   },
   {
    "duration": 4,
    "start_time": "2022-02-04T07:19:09.243Z"
   },
   {
    "duration": 5,
    "start_time": "2022-02-04T07:19:09.250Z"
   },
   {
    "duration": 1004,
    "start_time": "2022-02-04T07:19:09.265Z"
   },
   {
    "duration": 63,
    "start_time": "2022-02-04T07:19:10.272Z"
   },
   {
    "duration": 57,
    "start_time": "2022-02-04T07:19:10.338Z"
   },
   {
    "duration": 17,
    "start_time": "2022-02-04T07:19:10.398Z"
   },
   {
    "duration": 7,
    "start_time": "2022-02-04T07:19:10.418Z"
   },
   {
    "duration": 6,
    "start_time": "2022-02-04T07:19:10.459Z"
   },
   {
    "duration": 10,
    "start_time": "2022-02-04T07:19:10.467Z"
   },
   {
    "duration": 10,
    "start_time": "2022-02-04T07:19:10.480Z"
   },
   {
    "duration": 9,
    "start_time": "2022-02-04T07:19:12.132Z"
   },
   {
    "duration": 13,
    "start_time": "2022-02-04T07:19:13.420Z"
   },
   {
    "duration": 13,
    "start_time": "2022-02-04T07:21:57.851Z"
   },
   {
    "duration": 6,
    "start_time": "2022-02-04T07:29:30.128Z"
   },
   {
    "duration": 5528,
    "start_time": "2022-02-04T07:38:19.511Z"
   },
   {
    "duration": 5972,
    "start_time": "2022-02-04T07:39:07.982Z"
   },
   {
    "duration": 364,
    "start_time": "2022-02-04T07:42:25.904Z"
   },
   {
    "duration": 359,
    "start_time": "2022-02-04T07:44:32.349Z"
   },
   {
    "duration": 364,
    "start_time": "2022-02-04T07:44:59.440Z"
   },
   {
    "duration": 357,
    "start_time": "2022-02-04T07:45:07.913Z"
   },
   {
    "duration": 6,
    "start_time": "2022-02-04T07:46:00.713Z"
   },
   {
    "duration": 6,
    "start_time": "2022-02-04T07:46:16.105Z"
   },
   {
    "duration": 7,
    "start_time": "2022-02-04T07:51:23.995Z"
   },
   {
    "duration": 7,
    "start_time": "2022-02-04T07:52:34.774Z"
   },
   {
    "duration": 6,
    "start_time": "2022-02-04T07:53:09.683Z"
   },
   {
    "duration": 385,
    "start_time": "2022-02-04T08:00:04.184Z"
   },
   {
    "duration": 375,
    "start_time": "2022-02-04T08:00:32.922Z"
   },
   {
    "duration": 403,
    "start_time": "2022-02-04T08:02:27.126Z"
   },
   {
    "duration": 683,
    "start_time": "2022-02-04T08:13:46.781Z"
   },
   {
    "duration": 358,
    "start_time": "2022-02-04T08:14:53.602Z"
   },
   {
    "duration": 12,
    "start_time": "2022-02-04T08:16:19.427Z"
   },
   {
    "duration": 358,
    "start_time": "2022-02-04T08:16:29.932Z"
   },
   {
    "duration": 7,
    "start_time": "2022-02-04T08:17:21.176Z"
   },
   {
    "duration": 362,
    "start_time": "2022-02-04T08:20:56.372Z"
   },
   {
    "duration": 376,
    "start_time": "2022-02-04T08:21:27.409Z"
   },
   {
    "duration": 439,
    "start_time": "2022-02-04T08:22:20.766Z"
   },
   {
    "duration": 362,
    "start_time": "2022-02-04T08:22:29.101Z"
   },
   {
    "duration": 444,
    "start_time": "2022-02-04T08:22:50.088Z"
   },
   {
    "duration": 435,
    "start_time": "2022-02-04T08:23:11.954Z"
   },
   {
    "duration": 17,
    "start_time": "2022-02-04T08:25:24.743Z"
   },
   {
    "duration": 12,
    "start_time": "2022-02-04T08:25:33.354Z"
   },
   {
    "duration": 348,
    "start_time": "2022-02-04T08:28:33.218Z"
   },
   {
    "duration": 360,
    "start_time": "2022-02-04T08:28:40.268Z"
   },
   {
    "duration": 352,
    "start_time": "2022-02-04T08:31:29.567Z"
   },
   {
    "duration": 6,
    "start_time": "2022-02-04T08:35:02.736Z"
   },
   {
    "duration": 6,
    "start_time": "2022-02-04T08:35:49.080Z"
   },
   {
    "duration": 15,
    "start_time": "2022-02-04T08:36:08.057Z"
   },
   {
    "duration": 15,
    "start_time": "2022-02-04T08:36:55.269Z"
   },
   {
    "duration": 12,
    "start_time": "2022-02-04T08:42:33.468Z"
   },
   {
    "duration": 13,
    "start_time": "2022-02-04T08:42:44.508Z"
   },
   {
    "duration": 14,
    "start_time": "2022-02-04T08:46:53.241Z"
   },
   {
    "duration": 13,
    "start_time": "2022-02-04T08:46:55.843Z"
   },
   {
    "duration": 5,
    "start_time": "2022-02-04T08:49:42.628Z"
   },
   {
    "duration": 8,
    "start_time": "2022-02-04T08:49:42.636Z"
   },
   {
    "duration": 1027,
    "start_time": "2022-02-04T08:49:42.650Z"
   },
   {
    "duration": 82,
    "start_time": "2022-02-04T08:49:43.680Z"
   },
   {
    "duration": 38,
    "start_time": "2022-02-04T08:49:43.765Z"
   },
   {
    "duration": 17,
    "start_time": "2022-02-04T08:49:43.806Z"
   },
   {
    "duration": 38,
    "start_time": "2022-02-04T08:49:43.825Z"
   },
   {
    "duration": 9,
    "start_time": "2022-02-04T08:49:43.865Z"
   },
   {
    "duration": 9,
    "start_time": "2022-02-04T08:49:43.876Z"
   },
   {
    "duration": 10,
    "start_time": "2022-02-04T08:49:43.888Z"
   },
   {
    "duration": 13,
    "start_time": "2022-02-04T08:49:43.901Z"
   },
   {
    "duration": 15,
    "start_time": "2022-02-04T08:49:50.205Z"
   },
   {
    "duration": 11,
    "start_time": "2022-02-04T08:49:59.721Z"
   },
   {
    "duration": 12,
    "start_time": "2022-02-04T08:50:52.517Z"
   },
   {
    "duration": 15,
    "start_time": "2022-02-04T08:50:55.409Z"
   },
   {
    "duration": 11,
    "start_time": "2022-02-04T08:51:04.257Z"
   },
   {
    "duration": 16,
    "start_time": "2022-02-04T08:53:32.563Z"
   },
   {
    "duration": 14,
    "start_time": "2022-02-04T08:53:34.574Z"
   },
   {
    "duration": 11,
    "start_time": "2022-02-04T08:53:45.280Z"
   },
   {
    "duration": 10,
    "start_time": "2022-02-04T08:55:16.079Z"
   },
   {
    "duration": 12,
    "start_time": "2022-02-04T08:55:17.524Z"
   },
   {
    "duration": 12,
    "start_time": "2022-02-04T08:55:19.380Z"
   },
   {
    "duration": 6,
    "start_time": "2022-02-04T08:55:58.208Z"
   },
   {
    "duration": 5,
    "start_time": "2022-02-04T08:56:53.592Z"
   },
   {
    "duration": 4,
    "start_time": "2022-02-04T08:56:53.601Z"
   },
   {
    "duration": 916,
    "start_time": "2022-02-04T08:56:53.615Z"
   },
   {
    "duration": 84,
    "start_time": "2022-02-04T08:56:54.534Z"
   },
   {
    "duration": 61,
    "start_time": "2022-02-04T08:56:54.622Z"
   },
   {
    "duration": 19,
    "start_time": "2022-02-04T08:56:54.687Z"
   },
   {
    "duration": 10,
    "start_time": "2022-02-04T08:56:54.709Z"
   },
   {
    "duration": 44,
    "start_time": "2022-02-04T08:56:54.722Z"
   },
   {
    "duration": 8,
    "start_time": "2022-02-04T08:56:54.769Z"
   },
   {
    "duration": 12,
    "start_time": "2022-02-04T08:56:54.781Z"
   },
   {
    "duration": 11,
    "start_time": "2022-02-04T08:56:54.796Z"
   },
   {
    "duration": 4,
    "start_time": "2022-02-04T08:57:07.689Z"
   },
   {
    "duration": 5,
    "start_time": "2022-02-04T08:57:07.696Z"
   },
   {
    "duration": 965,
    "start_time": "2022-02-04T08:57:07.711Z"
   },
   {
    "duration": 64,
    "start_time": "2022-02-04T08:57:08.678Z"
   },
   {
    "duration": 42,
    "start_time": "2022-02-04T08:57:08.760Z"
   },
   {
    "duration": 18,
    "start_time": "2022-02-04T08:57:08.804Z"
   },
   {
    "duration": 38,
    "start_time": "2022-02-04T08:57:08.824Z"
   },
   {
    "duration": 6,
    "start_time": "2022-02-04T08:57:08.864Z"
   },
   {
    "duration": 8,
    "start_time": "2022-02-04T08:57:08.873Z"
   },
   {
    "duration": 10,
    "start_time": "2022-02-04T08:57:08.885Z"
   },
   {
    "duration": 9,
    "start_time": "2022-02-04T08:57:13.910Z"
   },
   {
    "duration": 13,
    "start_time": "2022-02-04T08:57:16.263Z"
   },
   {
    "duration": 7,
    "start_time": "2022-02-04T08:57:18.185Z"
   },
   {
    "duration": 11,
    "start_time": "2022-02-04T08:57:19.331Z"
   },
   {
    "duration": 11,
    "start_time": "2022-02-04T08:57:25.371Z"
   },
   {
    "duration": 13,
    "start_time": "2022-02-04T08:57:26.942Z"
   },
   {
    "duration": 12,
    "start_time": "2022-02-04T08:58:57.217Z"
   },
   {
    "duration": 12,
    "start_time": "2022-02-04T08:59:00.114Z"
   },
   {
    "duration": 12,
    "start_time": "2022-02-04T08:59:33.641Z"
   },
   {
    "duration": 11,
    "start_time": "2022-02-04T08:59:44.793Z"
   },
   {
    "duration": 13,
    "start_time": "2022-02-04T08:59:47.921Z"
   },
   {
    "duration": 382,
    "start_time": "2022-02-04T09:04:24.760Z"
   },
   {
    "duration": 128,
    "start_time": "2022-02-04T09:06:30.374Z"
   },
   {
    "duration": 339,
    "start_time": "2022-02-04T09:06:34.415Z"
   },
   {
    "duration": 5,
    "start_time": "2022-02-04T09:06:40.819Z"
   },
   {
    "duration": 125,
    "start_time": "2022-02-04T09:06:56.407Z"
   },
   {
    "duration": 344,
    "start_time": "2022-02-04T09:08:17.532Z"
   },
   {
    "duration": 119,
    "start_time": "2022-02-04T09:08:36.804Z"
   },
   {
    "duration": 7,
    "start_time": "2022-02-04T09:08:48.040Z"
   },
   {
    "duration": 362,
    "start_time": "2022-02-04T09:09:24.028Z"
   },
   {
    "duration": 2609,
    "start_time": "2022-02-04T09:17:13.738Z"
   },
   {
    "duration": 1196,
    "start_time": "2022-02-04T09:35:05.927Z"
   },
   {
    "duration": 16,
    "start_time": "2022-02-04T09:35:20.088Z"
   },
   {
    "duration": 394,
    "start_time": "2022-02-04T09:38:13.500Z"
   },
   {
    "duration": 9,
    "start_time": "2022-02-04T09:39:25.193Z"
   },
   {
    "duration": 463,
    "start_time": "2022-02-04T09:40:44.385Z"
   },
   {
    "duration": 15,
    "start_time": "2022-02-04T09:42:45.412Z"
   },
   {
    "duration": 1491,
    "start_time": "2022-02-04T09:43:27.169Z"
   },
   {
    "duration": 6,
    "start_time": "2022-02-04T09:43:52.563Z"
   },
   {
    "duration": 14,
    "start_time": "2022-02-04T09:44:31.595Z"
   },
   {
    "duration": 1509,
    "start_time": "2022-02-04T09:45:04.824Z"
   },
   {
    "duration": 9,
    "start_time": "2022-02-04T09:45:27.170Z"
   },
   {
    "duration": 1624,
    "start_time": "2022-02-04T09:46:47.202Z"
   },
   {
    "duration": 482,
    "start_time": "2022-02-04T09:49:26.003Z"
   },
   {
    "duration": 389,
    "start_time": "2022-02-04T09:49:33.725Z"
   },
   {
    "duration": 112278,
    "start_time": "2022-02-04T09:47:49.507Z"
   },
   {
    "duration": 403,
    "start_time": "2022-02-04T09:49:43.335Z"
   },
   {
    "duration": 112277,
    "start_time": "2022-02-04T09:47:54.787Z"
   },
   {
    "duration": 1755,
    "start_time": "2022-02-04T09:49:53.332Z"
   },
   {
    "duration": 1533,
    "start_time": "2022-02-04T09:50:02.804Z"
   },
   {
    "duration": 14,
    "start_time": "2022-02-04T09:50:11.401Z"
   },
   {
    "duration": 15,
    "start_time": "2022-02-04T09:51:21.656Z"
   },
   {
    "duration": 1590,
    "start_time": "2022-02-04T09:51:33.897Z"
   },
   {
    "duration": 1674,
    "start_time": "2022-02-04T09:51:54.004Z"
   },
   {
    "duration": 10,
    "start_time": "2022-02-04T09:52:19.567Z"
   },
   {
    "duration": 16,
    "start_time": "2022-02-04T09:52:55.007Z"
   },
   {
    "duration": 2840,
    "start_time": "2022-02-04T09:53:14.672Z"
   },
   {
    "duration": 1895,
    "start_time": "2022-02-04T10:50:01.466Z"
   },
   {
    "duration": 5,
    "start_time": "2022-02-04T10:50:19.462Z"
   },
   {
    "duration": 6,
    "start_time": "2022-02-04T10:51:01.961Z"
   },
   {
    "duration": 16,
    "start_time": "2022-02-04T10:51:24.430Z"
   },
   {
    "duration": 14,
    "start_time": "2022-02-04T10:51:33.093Z"
   },
   {
    "duration": 18,
    "start_time": "2022-02-04T10:52:11.505Z"
   },
   {
    "duration": 5,
    "start_time": "2022-02-04T10:52:34.492Z"
   },
   {
    "duration": 10,
    "start_time": "2022-02-04T10:52:41.984Z"
   },
   {
    "duration": 18,
    "start_time": "2022-02-04T10:52:58.290Z"
   },
   {
    "duration": 21,
    "start_time": "2022-02-04T10:53:12.608Z"
   },
   {
    "duration": 18,
    "start_time": "2022-02-04T10:53:45.916Z"
   },
   {
    "duration": 27,
    "start_time": "2022-02-04T10:53:54.642Z"
   },
   {
    "duration": 21,
    "start_time": "2022-02-04T10:54:21.325Z"
   },
   {
    "duration": 20,
    "start_time": "2022-02-04T10:54:33.941Z"
   },
   {
    "duration": 382,
    "start_time": "2022-02-04T10:57:42.999Z"
   },
   {
    "duration": 19,
    "start_time": "2022-02-04T10:57:59.918Z"
   },
   {
    "duration": 6,
    "start_time": "2022-02-04T11:00:56.834Z"
   },
   {
    "duration": 1551,
    "start_time": "2022-02-04T11:01:10.289Z"
   },
   {
    "duration": 442,
    "start_time": "2022-02-04T11:15:45.576Z"
   },
   {
    "duration": 399,
    "start_time": "2022-02-04T11:16:01.885Z"
   },
   {
    "duration": 5,
    "start_time": "2022-02-04T11:16:07.408Z"
   },
   {
    "duration": 385,
    "start_time": "2022-02-04T11:18:29.185Z"
   },
   {
    "duration": 391,
    "start_time": "2022-02-04T11:19:02.405Z"
   },
   {
    "duration": 398,
    "start_time": "2022-02-04T11:19:07.122Z"
   },
   {
    "duration": 382,
    "start_time": "2022-02-04T11:25:22.425Z"
   },
   {
    "duration": 6,
    "start_time": "2022-02-04T11:25:28.004Z"
   },
   {
    "duration": 401,
    "start_time": "2022-02-04T11:26:17.211Z"
   },
   {
    "duration": 434,
    "start_time": "2022-02-04T11:28:12.508Z"
   },
   {
    "duration": 20,
    "start_time": "2022-02-04T11:29:14.385Z"
   },
   {
    "duration": 392,
    "start_time": "2022-02-04T11:33:52.016Z"
   },
   {
    "duration": 435,
    "start_time": "2022-02-04T11:34:49.769Z"
   },
   {
    "duration": 5,
    "start_time": "2022-02-04T11:35:46.949Z"
   },
   {
    "duration": 10,
    "start_time": "2022-02-04T11:35:46.960Z"
   },
   {
    "duration": 921,
    "start_time": "2022-02-04T11:35:46.978Z"
   },
   {
    "duration": 82,
    "start_time": "2022-02-04T11:35:47.902Z"
   },
   {
    "duration": 35,
    "start_time": "2022-02-04T11:35:47.987Z"
   },
   {
    "duration": 37,
    "start_time": "2022-02-04T11:35:48.025Z"
   },
   {
    "duration": 8,
    "start_time": "2022-02-04T11:35:48.065Z"
   },
   {
    "duration": 6,
    "start_time": "2022-02-04T11:35:48.076Z"
   },
   {
    "duration": 10,
    "start_time": "2022-02-04T11:35:48.084Z"
   },
   {
    "duration": 10,
    "start_time": "2022-02-04T11:35:48.097Z"
   },
   {
    "duration": 50,
    "start_time": "2022-02-04T11:35:48.109Z"
   },
   {
    "duration": 6,
    "start_time": "2022-02-04T11:35:50.174Z"
   },
   {
    "duration": 20,
    "start_time": "2022-02-04T11:35:52.416Z"
   },
   {
    "duration": 1268,
    "start_time": "2022-02-04T11:36:25.950Z"
   },
   {
    "duration": 396,
    "start_time": "2022-02-04T11:37:06.404Z"
   },
   {
    "duration": 1480,
    "start_time": "2022-02-04T11:56:38.018Z"
   },
   {
    "duration": 21,
    "start_time": "2022-02-04T11:59:03.803Z"
   },
   {
    "duration": 20,
    "start_time": "2022-02-04T11:59:31.439Z"
   },
   {
    "duration": 19,
    "start_time": "2022-02-04T12:01:03.518Z"
   },
   {
    "duration": 19,
    "start_time": "2022-02-04T12:01:44.256Z"
   },
   {
    "duration": 1549,
    "start_time": "2022-02-04T12:02:16.730Z"
   },
   {
    "duration": 1551,
    "start_time": "2022-02-04T12:02:38.388Z"
   },
   {
    "duration": 1546,
    "start_time": "2022-02-04T12:02:52.195Z"
   },
   {
    "duration": 226,
    "start_time": "2022-02-04T18:43:48.543Z"
   },
   {
    "duration": 1349,
    "start_time": "2022-02-04T18:43:56.121Z"
   },
   {
    "duration": 3,
    "start_time": "2022-02-04T18:43:57.472Z"
   },
   {
    "duration": 740,
    "start_time": "2022-02-04T18:43:57.476Z"
   },
   {
    "duration": 67,
    "start_time": "2022-02-04T18:43:58.218Z"
   },
   {
    "duration": 28,
    "start_time": "2022-02-04T18:43:58.286Z"
   },
   {
    "duration": 12,
    "start_time": "2022-02-04T18:43:58.315Z"
   },
   {
    "duration": 31,
    "start_time": "2022-02-04T18:43:58.328Z"
   },
   {
    "duration": 4,
    "start_time": "2022-02-04T18:43:58.361Z"
   },
   {
    "duration": 7,
    "start_time": "2022-02-04T18:43:58.367Z"
   },
   {
    "duration": 10,
    "start_time": "2022-02-04T18:43:58.375Z"
   },
   {
    "duration": 272,
    "start_time": "2022-02-04T18:43:58.387Z"
   },
   {
    "duration": -684,
    "start_time": "2022-02-04T18:43:59.344Z"
   },
   {
    "duration": -690,
    "start_time": "2022-02-04T18:43:59.351Z"
   },
   {
    "duration": 5,
    "start_time": "2022-02-04T18:44:00.942Z"
   },
   {
    "duration": 18,
    "start_time": "2022-02-04T18:44:01.677Z"
   },
   {
    "duration": 5,
    "start_time": "2022-02-04T18:44:43.947Z"
   },
   {
    "duration": 15,
    "start_time": "2022-02-04T18:44:44.492Z"
   },
   {
    "duration": 16,
    "start_time": "2022-02-04T18:45:43.586Z"
   },
   {
    "duration": 10,
    "start_time": "2022-02-04T18:51:03.987Z"
   },
   {
    "duration": 8,
    "start_time": "2022-02-04T19:08:44.906Z"
   },
   {
    "duration": 176,
    "start_time": "2022-02-04T19:11:17.679Z"
   },
   {
    "duration": 15,
    "start_time": "2022-02-04T19:11:26.503Z"
   },
   {
    "duration": 9,
    "start_time": "2022-02-04T19:11:47.222Z"
   },
   {
    "duration": 20,
    "start_time": "2022-02-04T19:13:15.851Z"
   },
   {
    "duration": 12,
    "start_time": "2022-02-04T19:14:25.549Z"
   },
   {
    "duration": 16,
    "start_time": "2022-02-04T19:15:19.668Z"
   },
   {
    "duration": 15,
    "start_time": "2022-02-04T19:15:54.668Z"
   },
   {
    "duration": 31,
    "start_time": "2022-02-04T19:22:41.270Z"
   },
   {
    "duration": 30,
    "start_time": "2022-02-04T19:24:28.402Z"
   },
   {
    "duration": 7,
    "start_time": "2022-02-04T19:25:54.120Z"
   },
   {
    "duration": 10,
    "start_time": "2022-02-04T19:26:40.199Z"
   },
   {
    "duration": 21,
    "start_time": "2022-02-04T19:27:47.701Z"
   },
   {
    "duration": 18,
    "start_time": "2022-02-04T19:28:36.853Z"
   },
   {
    "duration": 35,
    "start_time": "2022-02-04T19:29:16.075Z"
   },
   {
    "duration": 8,
    "start_time": "2022-02-04T19:30:03.169Z"
   },
   {
    "duration": 8,
    "start_time": "2022-02-04T19:31:57.734Z"
   },
   {
    "duration": 13,
    "start_time": "2022-02-04T19:32:16.613Z"
   },
   {
    "duration": 36,
    "start_time": "2022-02-04T19:34:26.801Z"
   },
   {
    "duration": 14,
    "start_time": "2022-02-04T20:26:07.191Z"
   },
   {
    "duration": 4,
    "start_time": "2022-02-04T20:26:43.276Z"
   },
   {
    "duration": 9,
    "start_time": "2022-02-04T20:27:06.332Z"
   },
   {
    "duration": 12,
    "start_time": "2022-02-04T20:29:43.302Z"
   },
   {
    "duration": 296,
    "start_time": "2022-02-04T20:38:57.156Z"
   },
   {
    "duration": 4,
    "start_time": "2022-02-04T20:40:22.340Z"
   },
   {
    "duration": 16,
    "start_time": "2022-02-04T20:40:45.414Z"
   },
   {
    "duration": 13,
    "start_time": "2022-02-04T20:41:36.596Z"
   },
   {
    "duration": 4,
    "start_time": "2022-02-04T20:41:51.899Z"
   },
   {
    "duration": 11,
    "start_time": "2022-02-04T20:41:51.904Z"
   },
   {
    "duration": 727,
    "start_time": "2022-02-04T20:41:51.917Z"
   },
   {
    "duration": 52,
    "start_time": "2022-02-04T20:41:52.646Z"
   },
   {
    "duration": 25,
    "start_time": "2022-02-04T20:41:52.700Z"
   },
   {
    "duration": 33,
    "start_time": "2022-02-04T20:41:52.727Z"
   },
   {
    "duration": 5,
    "start_time": "2022-02-04T20:41:52.761Z"
   },
   {
    "duration": 6,
    "start_time": "2022-02-04T20:41:52.769Z"
   },
   {
    "duration": 13,
    "start_time": "2022-02-04T20:41:52.777Z"
   },
   {
    "duration": 9,
    "start_time": "2022-02-04T20:41:52.792Z"
   },
   {
    "duration": 15,
    "start_time": "2022-02-04T20:41:52.802Z"
   },
   {
    "duration": 45,
    "start_time": "2022-02-04T20:41:52.819Z"
   },
   {
    "duration": 5,
    "start_time": "2022-02-04T20:41:52.865Z"
   },
   {
    "duration": 23,
    "start_time": "2022-02-04T20:41:52.871Z"
   },
   {
    "duration": 4,
    "start_time": "2022-02-04T20:41:52.896Z"
   },
   {
    "duration": 23,
    "start_time": "2022-02-04T20:41:52.901Z"
   },
   {
    "duration": 9,
    "start_time": "2022-02-04T20:41:52.926Z"
   },
   {
    "duration": 16,
    "start_time": "2022-02-04T20:41:52.959Z"
   },
   {
    "duration": 41,
    "start_time": "2022-02-04T20:41:52.977Z"
   },
   {
    "duration": 6,
    "start_time": "2022-02-04T20:41:53.020Z"
   },
   {
    "duration": 11,
    "start_time": "2022-02-04T20:41:53.059Z"
   },
   {
    "duration": 18,
    "start_time": "2022-02-04T20:41:53.071Z"
   },
   {
    "duration": 8,
    "start_time": "2022-02-04T20:41:53.091Z"
   },
   {
    "duration": 14,
    "start_time": "2022-02-04T20:41:53.100Z"
   },
   {
    "duration": 59,
    "start_time": "2022-02-04T20:41:53.116Z"
   },
   {
    "duration": 12,
    "start_time": "2022-02-04T20:41:53.176Z"
   },
   {
    "duration": 14,
    "start_time": "2022-02-04T20:41:54.580Z"
   },
   {
    "duration": 14,
    "start_time": "2022-02-04T20:41:55.243Z"
   },
   {
    "duration": 493,
    "start_time": "2022-02-04T20:55:49.383Z"
   },
   {
    "duration": 10,
    "start_time": "2022-02-04T20:56:06.535Z"
   },
   {
    "duration": 176,
    "start_time": "2022-02-04T20:57:03.368Z"
   },
   {
    "duration": 12,
    "start_time": "2022-02-04T20:57:51.572Z"
   },
   {
    "duration": 4,
    "start_time": "2022-02-04T20:58:16.308Z"
   },
   {
    "duration": 12,
    "start_time": "2022-02-04T20:58:17.191Z"
   },
   {
    "duration": 14,
    "start_time": "2022-02-04T21:04:02.083Z"
   },
   {
    "duration": 14,
    "start_time": "2022-02-04T21:04:25.195Z"
   },
   {
    "duration": 4,
    "start_time": "2022-02-04T21:04:49.243Z"
   },
   {
    "duration": 8,
    "start_time": "2022-02-04T21:04:49.635Z"
   },
   {
    "duration": 216,
    "start_time": "2022-02-04T21:10:39.046Z"
   },
   {
    "duration": 175,
    "start_time": "2022-02-04T21:12:38.196Z"
   },
   {
    "duration": 247,
    "start_time": "2022-02-05T07:12:49.585Z"
   },
   {
    "duration": 192,
    "start_time": "2022-02-05T07:12:54.176Z"
   },
   {
    "duration": 1348,
    "start_time": "2022-02-05T07:13:09.339Z"
   },
   {
    "duration": 3,
    "start_time": "2022-02-05T07:13:10.689Z"
   },
   {
    "duration": 721,
    "start_time": "2022-02-05T07:13:10.694Z"
   },
   {
    "duration": 47,
    "start_time": "2022-02-05T07:13:11.417Z"
   },
   {
    "duration": 47,
    "start_time": "2022-02-05T07:13:11.465Z"
   },
   {
    "duration": 12,
    "start_time": "2022-02-05T07:13:11.514Z"
   },
   {
    "duration": 6,
    "start_time": "2022-02-05T07:13:11.528Z"
   },
   {
    "duration": 4,
    "start_time": "2022-02-05T07:13:11.535Z"
   },
   {
    "duration": 5,
    "start_time": "2022-02-05T07:13:11.542Z"
   },
   {
    "duration": 7,
    "start_time": "2022-02-05T07:13:11.549Z"
   },
   {
    "duration": 11,
    "start_time": "2022-02-05T07:13:11.557Z"
   },
   {
    "duration": 56,
    "start_time": "2022-02-05T07:13:11.570Z"
   },
   {
    "duration": 4,
    "start_time": "2022-02-05T07:13:11.628Z"
   },
   {
    "duration": 16,
    "start_time": "2022-02-05T07:13:11.633Z"
   },
   {
    "duration": 4,
    "start_time": "2022-02-05T07:13:11.650Z"
   },
   {
    "duration": 14,
    "start_time": "2022-02-05T07:13:11.656Z"
   },
   {
    "duration": 44,
    "start_time": "2022-02-05T07:13:11.672Z"
   },
   {
    "duration": 17,
    "start_time": "2022-02-05T07:13:11.718Z"
   },
   {
    "duration": 42,
    "start_time": "2022-02-05T07:13:11.736Z"
   },
   {
    "duration": 39,
    "start_time": "2022-02-05T07:13:18.897Z"
   },
   {
    "duration": 271,
    "start_time": "2022-02-05T07:16:01.012Z"
   },
   {
    "duration": 11,
    "start_time": "2022-02-05T07:16:05.540Z"
   },
   {
    "duration": 30,
    "start_time": "2022-02-05T07:16:06.429Z"
   },
   {
    "duration": 8,
    "start_time": "2022-02-05T07:16:53.405Z"
   },
   {
    "duration": 14,
    "start_time": "2022-02-05T07:16:53.619Z"
   },
   {
    "duration": 36,
    "start_time": "2022-02-05T07:16:55.260Z"
   },
   {
    "duration": 15,
    "start_time": "2022-02-05T07:16:57.732Z"
   },
   {
    "duration": 14,
    "start_time": "2022-02-05T07:16:58.388Z"
   },
   {
    "duration": 4,
    "start_time": "2022-02-05T07:17:21.340Z"
   },
   {
    "duration": 12,
    "start_time": "2022-02-05T07:17:24.699Z"
   },
   {
    "duration": 37,
    "start_time": "2022-02-05T07:19:39.201Z"
   },
   {
    "duration": 35,
    "start_time": "2022-02-05T07:20:23.424Z"
   },
   {
    "duration": 10,
    "start_time": "2022-02-05T07:21:32.295Z"
   },
   {
    "duration": 3,
    "start_time": "2022-02-05T07:45:48.075Z"
   },
   {
    "duration": 5,
    "start_time": "2022-02-05T07:45:48.080Z"
   },
   {
    "duration": 664,
    "start_time": "2022-02-05T07:45:48.180Z"
   },
   {
    "duration": 41,
    "start_time": "2022-02-05T07:45:48.846Z"
   },
   {
    "duration": 44,
    "start_time": "2022-02-05T07:45:48.889Z"
   },
   {
    "duration": 11,
    "start_time": "2022-02-05T07:45:48.935Z"
   },
   {
    "duration": 5,
    "start_time": "2022-02-05T07:45:48.948Z"
   },
   {
    "duration": 16,
    "start_time": "2022-02-05T07:45:48.955Z"
   },
   {
    "duration": 19,
    "start_time": "2022-02-05T07:45:48.973Z"
   },
   {
    "duration": 19,
    "start_time": "2022-02-05T07:45:48.995Z"
   },
   {
    "duration": 10,
    "start_time": "2022-02-05T07:45:49.016Z"
   },
   {
    "duration": 16,
    "start_time": "2022-02-05T07:45:49.027Z"
   },
   {
    "duration": 6,
    "start_time": "2022-02-05T07:45:49.044Z"
   },
   {
    "duration": 19,
    "start_time": "2022-02-05T07:45:49.051Z"
   },
   {
    "duration": 4,
    "start_time": "2022-02-05T07:45:49.072Z"
   },
   {
    "duration": 49,
    "start_time": "2022-02-05T07:45:49.078Z"
   },
   {
    "duration": 7,
    "start_time": "2022-02-05T07:45:49.129Z"
   },
   {
    "duration": 18,
    "start_time": "2022-02-05T07:45:49.137Z"
   },
   {
    "duration": 58,
    "start_time": "2022-02-05T07:45:49.156Z"
   },
   {
    "duration": 7,
    "start_time": "2022-02-05T07:45:49.215Z"
   },
   {
    "duration": 16,
    "start_time": "2022-02-05T07:45:49.224Z"
   },
   {
    "duration": 19,
    "start_time": "2022-02-05T07:45:49.241Z"
   },
   {
    "duration": 7,
    "start_time": "2022-02-05T07:45:49.262Z"
   },
   {
    "duration": 42,
    "start_time": "2022-02-05T07:45:49.271Z"
   },
   {
    "duration": 36,
    "start_time": "2022-02-05T07:45:49.316Z"
   },
   {
    "duration": 195,
    "start_time": "2022-02-05T07:45:52.090Z"
   },
   {
    "duration": 423,
    "start_time": "2022-02-05T07:46:03.240Z"
   },
   {
    "duration": 347,
    "start_time": "2022-02-05T07:46:11.689Z"
   },
   {
    "duration": 12,
    "start_time": "2022-02-05T07:54:18.864Z"
   },
   {
    "duration": 13,
    "start_time": "2022-02-05T07:54:40.591Z"
   },
   {
    "duration": 11,
    "start_time": "2022-02-05T12:36:59.826Z"
   },
   {
    "duration": 8,
    "start_time": "2022-02-05T12:38:40.461Z"
   },
   {
    "duration": 8,
    "start_time": "2022-02-05T13:12:18.332Z"
   },
   {
    "duration": 11,
    "start_time": "2022-02-05T13:12:19.693Z"
   },
   {
    "duration": 5,
    "start_time": "2022-02-05T13:13:07.948Z"
   },
   {
    "duration": 6,
    "start_time": "2022-02-05T13:13:22.435Z"
   },
   {
    "duration": 14,
    "start_time": "2022-02-05T13:14:01.963Z"
   },
   {
    "duration": 4,
    "start_time": "2022-02-05T13:19:05.706Z"
   },
   {
    "duration": 5,
    "start_time": "2022-02-05T13:19:05.712Z"
   },
   {
    "duration": 720,
    "start_time": "2022-02-05T13:19:05.719Z"
   },
   {
    "duration": 48,
    "start_time": "2022-02-05T13:19:06.440Z"
   },
   {
    "duration": 46,
    "start_time": "2022-02-05T13:19:06.490Z"
   },
   {
    "duration": 12,
    "start_time": "2022-02-05T13:19:06.537Z"
   },
   {
    "duration": 5,
    "start_time": "2022-02-05T13:19:06.552Z"
   },
   {
    "duration": 5,
    "start_time": "2022-02-05T13:19:06.559Z"
   },
   {
    "duration": 8,
    "start_time": "2022-02-05T13:19:06.565Z"
   },
   {
    "duration": 43,
    "start_time": "2022-02-05T13:19:06.574Z"
   },
   {
    "duration": 12,
    "start_time": "2022-02-05T13:19:06.619Z"
   },
   {
    "duration": 16,
    "start_time": "2022-02-05T13:19:06.633Z"
   },
   {
    "duration": 4,
    "start_time": "2022-02-05T13:19:06.651Z"
   },
   {
    "duration": 55,
    "start_time": "2022-02-05T13:19:06.657Z"
   },
   {
    "duration": 4,
    "start_time": "2022-02-05T13:19:06.714Z"
   },
   {
    "duration": 21,
    "start_time": "2022-02-05T13:19:06.720Z"
   },
   {
    "duration": 8,
    "start_time": "2022-02-05T13:19:06.742Z"
   },
   {
    "duration": 18,
    "start_time": "2022-02-05T13:19:06.751Z"
   },
   {
    "duration": 78,
    "start_time": "2022-02-05T13:19:06.772Z"
   },
   {
    "duration": 7,
    "start_time": "2022-02-05T13:19:06.852Z"
   },
   {
    "duration": 15,
    "start_time": "2022-02-05T13:19:06.861Z"
   },
   {
    "duration": 59,
    "start_time": "2022-02-05T13:19:06.877Z"
   },
   {
    "duration": 9,
    "start_time": "2022-02-05T13:19:06.938Z"
   },
   {
    "duration": 14,
    "start_time": "2022-02-05T13:19:06.950Z"
   },
   {
    "duration": 62,
    "start_time": "2022-02-05T13:19:06.966Z"
   },
   {
    "duration": 2,
    "start_time": "2022-02-05T13:19:07.029Z"
   },
   {
    "duration": 13,
    "start_time": "2022-02-05T13:19:07.033Z"
   },
   {
    "duration": 13,
    "start_time": "2022-02-05T13:19:07.048Z"
   },
   {
    "duration": 14,
    "start_time": "2022-02-05T13:19:07.062Z"
   },
   {
    "duration": 8,
    "start_time": "2022-02-05T13:19:07.112Z"
   },
   {
    "duration": 8,
    "start_time": "2022-02-05T13:19:09.060Z"
   },
   {
    "duration": 7,
    "start_time": "2022-02-05T13:19:12.028Z"
   },
   {
    "duration": 9,
    "start_time": "2022-02-05T13:19:12.732Z"
   },
   {
    "duration": 7,
    "start_time": "2022-02-05T13:32:41.876Z"
   },
   {
    "duration": 6,
    "start_time": "2022-02-05T13:39:44.643Z"
   },
   {
    "duration": 7,
    "start_time": "2022-02-05T13:40:08.891Z"
   },
   {
    "duration": 6,
    "start_time": "2022-02-05T13:40:09.293Z"
   },
   {
    "duration": 16,
    "start_time": "2022-02-05T14:36:54.740Z"
   },
   {
    "duration": 192,
    "start_time": "2022-02-05T16:01:37.214Z"
   },
   {
    "duration": 15,
    "start_time": "2022-02-05T16:02:39.084Z"
   },
   {
    "duration": 203,
    "start_time": "2022-02-05T16:03:16.877Z"
   },
   {
    "duration": 193,
    "start_time": "2022-02-05T16:04:38.004Z"
   },
   {
    "duration": 74,
    "start_time": "2022-02-05T16:05:07.394Z"
   },
   {
    "duration": 13,
    "start_time": "2022-02-05T16:07:10.008Z"
   },
   {
    "duration": 14,
    "start_time": "2022-02-05T16:07:26.964Z"
   },
   {
    "duration": 71,
    "start_time": "2022-02-05T16:09:16.669Z"
   },
   {
    "duration": 21,
    "start_time": "2022-02-05T16:09:20.805Z"
   },
   {
    "duration": 8,
    "start_time": "2022-02-05T17:47:18.139Z"
   },
   {
    "duration": 6,
    "start_time": "2022-02-05T17:47:54.707Z"
   },
   {
    "duration": 70,
    "start_time": "2022-02-05T17:47:54.781Z"
   },
   {
    "duration": 8,
    "start_time": "2022-02-05T17:48:06.035Z"
   },
   {
    "duration": 7,
    "start_time": "2022-02-05T17:48:18.131Z"
   },
   {
    "duration": 10,
    "start_time": "2022-02-05T17:48:25.785Z"
   },
   {
    "duration": 13,
    "start_time": "2022-02-05T17:49:03.969Z"
   },
   {
    "duration": 9,
    "start_time": "2022-02-05T17:50:09.562Z"
   },
   {
    "duration": 14,
    "start_time": "2022-02-05T17:50:15.160Z"
   },
   {
    "duration": 280,
    "start_time": "2022-02-05T17:50:25.521Z"
   },
   {
    "duration": 3,
    "start_time": "2022-02-05T17:51:59.577Z"
   },
   {
    "duration": 9,
    "start_time": "2022-02-05T17:51:59.582Z"
   },
   {
    "duration": 740,
    "start_time": "2022-02-05T17:51:59.593Z"
   },
   {
    "duration": 43,
    "start_time": "2022-02-05T17:52:00.335Z"
   },
   {
    "duration": 49,
    "start_time": "2022-02-05T17:52:00.380Z"
   },
   {
    "duration": 12,
    "start_time": "2022-02-05T17:52:00.431Z"
   },
   {
    "duration": 12,
    "start_time": "2022-02-05T17:52:00.444Z"
   },
   {
    "duration": 10,
    "start_time": "2022-02-05T17:52:00.458Z"
   },
   {
    "duration": 28,
    "start_time": "2022-02-05T17:52:00.470Z"
   },
   {
    "duration": 13,
    "start_time": "2022-02-05T17:52:00.500Z"
   },
   {
    "duration": 28,
    "start_time": "2022-02-05T17:52:00.515Z"
   },
   {
    "duration": 16,
    "start_time": "2022-02-05T17:52:00.545Z"
   },
   {
    "duration": 4,
    "start_time": "2022-02-05T17:52:00.563Z"
   },
   {
    "duration": 19,
    "start_time": "2022-02-05T17:52:00.568Z"
   },
   {
    "duration": 8,
    "start_time": "2022-02-05T17:52:00.589Z"
   },
   {
    "duration": 32,
    "start_time": "2022-02-05T17:52:00.598Z"
   },
   {
    "duration": 9,
    "start_time": "2022-02-05T17:52:00.631Z"
   },
   {
    "duration": 25,
    "start_time": "2022-02-05T17:52:00.642Z"
   },
   {
    "duration": 50,
    "start_time": "2022-02-05T17:52:00.669Z"
   },
   {
    "duration": 7,
    "start_time": "2022-02-05T17:52:00.720Z"
   },
   {
    "duration": 25,
    "start_time": "2022-02-05T17:52:00.729Z"
   },
   {
    "duration": 20,
    "start_time": "2022-02-05T17:52:00.756Z"
   },
   {
    "duration": 7,
    "start_time": "2022-02-05T17:52:00.779Z"
   },
   {
    "duration": 34,
    "start_time": "2022-02-05T17:52:00.787Z"
   },
   {
    "duration": 36,
    "start_time": "2022-02-05T17:52:00.823Z"
   },
   {
    "duration": 2,
    "start_time": "2022-02-05T17:52:00.861Z"
   },
   {
    "duration": 18,
    "start_time": "2022-02-05T17:52:00.864Z"
   },
   {
    "duration": 36,
    "start_time": "2022-02-05T17:52:00.884Z"
   },
   {
    "duration": 14,
    "start_time": "2022-02-05T17:52:00.922Z"
   },
   {
    "duration": 8,
    "start_time": "2022-02-05T17:52:00.938Z"
   },
   {
    "duration": 8,
    "start_time": "2022-02-05T17:52:00.948Z"
   },
   {
    "duration": 13,
    "start_time": "2022-02-05T17:52:00.958Z"
   },
   {
    "duration": 16,
    "start_time": "2022-02-05T17:52:03.104Z"
   },
   {
    "duration": 10,
    "start_time": "2022-02-05T17:52:09.760Z"
   },
   {
    "duration": 19,
    "start_time": "2022-02-05T17:52:16.982Z"
   },
   {
    "duration": 8,
    "start_time": "2022-02-05T17:52:31.366Z"
   },
   {
    "duration": 7,
    "start_time": "2022-02-05T17:53:04.316Z"
   },
   {
    "duration": 7,
    "start_time": "2022-02-05T17:54:04.331Z"
   },
   {
    "duration": 8,
    "start_time": "2022-02-05T17:54:18.973Z"
   },
   {
    "duration": 8,
    "start_time": "2022-02-05T17:55:08.184Z"
   },
   {
    "duration": 8,
    "start_time": "2022-02-05T17:55:39.249Z"
   },
   {
    "duration": 8,
    "start_time": "2022-02-05T17:55:59.680Z"
   },
   {
    "duration": 8,
    "start_time": "2022-02-05T17:56:11.905Z"
   },
   {
    "duration": 8,
    "start_time": "2022-02-05T17:56:28.193Z"
   },
   {
    "duration": 66,
    "start_time": "2022-02-05T18:25:28.807Z"
   },
   {
    "duration": 61,
    "start_time": "2022-02-05T18:26:23.790Z"
   },
   {
    "duration": 4,
    "start_time": "2022-02-05T18:27:49.292Z"
   },
   {
    "duration": 202,
    "start_time": "2022-02-05T18:30:12.328Z"
   },
   {
    "duration": 5,
    "start_time": "2022-02-05T18:30:28.905Z"
   },
   {
    "duration": 421,
    "start_time": "2022-02-05T18:30:30.018Z"
   },
   {
    "duration": 6,
    "start_time": "2022-02-05T18:31:44.623Z"
   },
   {
    "duration": 573,
    "start_time": "2022-02-05T18:31:45.775Z"
   },
   {
    "duration": 4,
    "start_time": "2022-02-05T18:34:47.756Z"
   },
   {
    "duration": 174,
    "start_time": "2022-02-05T18:34:48.403Z"
   },
   {
    "duration": 10,
    "start_time": "2022-02-05T18:35:19.193Z"
   },
   {
    "duration": 7,
    "start_time": "2022-02-05T18:35:38.273Z"
   },
   {
    "duration": 6,
    "start_time": "2022-02-05T18:35:53.969Z"
   },
   {
    "duration": 10,
    "start_time": "2022-02-05T18:36:34.151Z"
   },
   {
    "duration": 75,
    "start_time": "2022-02-05T18:36:59.017Z"
   },
   {
    "duration": 7,
    "start_time": "2022-02-05T18:37:06.109Z"
   },
   {
    "duration": 5,
    "start_time": "2022-02-05T18:37:25.072Z"
   },
   {
    "duration": 8,
    "start_time": "2022-02-05T18:37:34.438Z"
   },
   {
    "duration": 5,
    "start_time": "2022-02-05T18:40:21.893Z"
   },
   {
    "duration": 5,
    "start_time": "2022-02-05T18:40:22.422Z"
   },
   {
    "duration": 5,
    "start_time": "2022-02-05T18:41:15.618Z"
   },
   {
    "duration": 5,
    "start_time": "2022-02-05T18:41:16.013Z"
   },
   {
    "duration": 65,
    "start_time": "2022-02-05T18:42:17.225Z"
   },
   {
    "duration": 13,
    "start_time": "2022-02-05T18:42:34.401Z"
   },
   {
    "duration": 11,
    "start_time": "2022-02-05T18:46:27.155Z"
   },
   {
    "duration": 205,
    "start_time": "2022-02-05T18:47:10.956Z"
   },
   {
    "duration": 16,
    "start_time": "2022-02-05T18:47:43.075Z"
   },
   {
    "duration": 30,
    "start_time": "2022-02-05T18:48:06.050Z"
   },
   {
    "duration": 5,
    "start_time": "2022-02-05T18:50:09.057Z"
   },
   {
    "duration": 5,
    "start_time": "2022-02-05T18:50:09.538Z"
   },
   {
    "duration": 174,
    "start_time": "2022-02-05T18:50:11.015Z"
   },
   {
    "duration": 64,
    "start_time": "2022-02-05T18:50:12.944Z"
   },
   {
    "duration": 32,
    "start_time": "2022-02-05T18:50:14.393Z"
   },
   {
    "duration": 17,
    "start_time": "2022-02-05T18:50:20.527Z"
   },
   {
    "duration": 374,
    "start_time": "2022-02-05T18:52:34.132Z"
   },
   {
    "duration": 222,
    "start_time": "2022-02-05T18:53:53.251Z"
   },
   {
    "duration": 5072,
    "start_time": "2022-02-05T18:54:20.466Z"
   },
   {
    "duration": 172,
    "start_time": "2022-02-05T18:54:34.634Z"
   },
   {
    "duration": 4,
    "start_time": "2022-02-05T19:04:19.968Z"
   },
   {
    "duration": 4,
    "start_time": "2022-02-05T19:04:20.376Z"
   },
   {
    "duration": 42,
    "start_time": "2022-02-05T19:04:21.751Z"
   },
   {
    "duration": 22,
    "start_time": "2022-02-05T19:04:23.958Z"
   },
   {
    "duration": 29,
    "start_time": "2022-02-05T19:04:26.231Z"
   },
   {
    "duration": 16,
    "start_time": "2022-02-05T19:04:33.894Z"
   },
   {
    "duration": 47,
    "start_time": "2022-02-05T19:05:29.525Z"
   },
   {
    "duration": 215,
    "start_time": "2022-02-05T19:07:01.289Z"
   },
   {
    "duration": 235,
    "start_time": "2022-02-05T19:07:07.691Z"
   },
   {
    "duration": 45,
    "start_time": "2022-02-05T19:07:21.442Z"
   },
   {
    "duration": 5,
    "start_time": "2022-02-05T19:08:27.187Z"
   },
   {
    "duration": 3,
    "start_time": "2022-02-05T19:08:27.539Z"
   },
   {
    "duration": 39,
    "start_time": "2022-02-05T19:08:27.930Z"
   },
   {
    "duration": 22,
    "start_time": "2022-02-05T19:08:28.515Z"
   },
   {
    "duration": 47,
    "start_time": "2022-02-05T19:08:29.700Z"
   },
   {
    "duration": 16,
    "start_time": "2022-02-05T19:08:36.338Z"
   },
   {
    "duration": 53,
    "start_time": "2022-02-05T19:11:07.467Z"
   },
   {
    "duration": 385,
    "start_time": "2022-02-06T07:59:34.277Z"
   },
   {
    "duration": 1929,
    "start_time": "2022-02-06T07:59:58.123Z"
   },
   {
    "duration": 4,
    "start_time": "2022-02-06T08:00:00.055Z"
   },
   {
    "duration": 1024,
    "start_time": "2022-02-06T08:00:00.062Z"
   },
   {
    "duration": 86,
    "start_time": "2022-02-06T08:00:01.088Z"
   },
   {
    "duration": 41,
    "start_time": "2022-02-06T08:00:01.177Z"
   },
   {
    "duration": 38,
    "start_time": "2022-02-06T08:00:01.220Z"
   },
   {
    "duration": 15,
    "start_time": "2022-02-06T08:00:01.261Z"
   },
   {
    "duration": 6,
    "start_time": "2022-02-06T08:00:01.280Z"
   },
   {
    "duration": 43,
    "start_time": "2022-02-06T08:00:01.290Z"
   },
   {
    "duration": 17,
    "start_time": "2022-02-06T08:00:01.337Z"
   },
   {
    "duration": 27,
    "start_time": "2022-02-06T08:00:01.357Z"
   },
   {
    "duration": 24,
    "start_time": "2022-02-06T08:00:01.388Z"
   },
   {
    "duration": 36,
    "start_time": "2022-02-06T08:00:01.415Z"
   },
   {
    "duration": 28,
    "start_time": "2022-02-06T08:00:01.454Z"
   },
   {
    "duration": 8,
    "start_time": "2022-02-06T08:00:01.484Z"
   },
   {
    "duration": 67,
    "start_time": "2022-02-06T08:00:01.495Z"
   },
   {
    "duration": 29,
    "start_time": "2022-02-06T08:00:01.565Z"
   },
   {
    "duration": 54,
    "start_time": "2022-02-06T08:00:01.596Z"
   },
   {
    "duration": 89,
    "start_time": "2022-02-06T08:00:01.652Z"
   },
   {
    "duration": 15,
    "start_time": "2022-02-06T08:00:01.743Z"
   },
   {
    "duration": 36,
    "start_time": "2022-02-06T08:00:01.761Z"
   },
   {
    "duration": 52,
    "start_time": "2022-02-06T08:00:01.801Z"
   },
   {
    "duration": 16,
    "start_time": "2022-02-06T08:00:01.861Z"
   },
   {
    "duration": 52,
    "start_time": "2022-02-06T08:00:01.880Z"
   },
   {
    "duration": 53,
    "start_time": "2022-02-06T08:00:01.934Z"
   },
   {
    "duration": 3,
    "start_time": "2022-02-06T08:00:01.990Z"
   },
   {
    "duration": 47,
    "start_time": "2022-02-06T08:00:01.995Z"
   },
   {
    "duration": 22,
    "start_time": "2022-02-06T08:00:02.045Z"
   },
   {
    "duration": 25,
    "start_time": "2022-02-06T08:00:02.070Z"
   },
   {
    "duration": 22,
    "start_time": "2022-02-06T08:00:02.099Z"
   },
   {
    "duration": 34,
    "start_time": "2022-02-06T08:00:02.124Z"
   },
   {
    "duration": 25,
    "start_time": "2022-02-06T08:00:02.162Z"
   },
   {
    "duration": 69,
    "start_time": "2022-02-06T08:00:02.190Z"
   },
   {
    "duration": 23,
    "start_time": "2022-02-06T08:00:02.262Z"
   },
   {
    "duration": 63,
    "start_time": "2022-02-06T08:00:02.289Z"
   },
   {
    "duration": 14,
    "start_time": "2022-02-06T08:00:02.355Z"
   },
   {
    "duration": 26,
    "start_time": "2022-02-06T08:00:02.371Z"
   },
   {
    "duration": 18,
    "start_time": "2022-02-06T08:00:02.399Z"
   },
   {
    "duration": 91,
    "start_time": "2022-02-06T08:00:02.420Z"
   },
   {
    "duration": 51,
    "start_time": "2022-02-06T08:00:02.515Z"
   },
   {
    "duration": 110,
    "start_time": "2022-02-06T08:00:02.568Z"
   },
   {
    "duration": 26,
    "start_time": "2022-02-06T08:00:02.681Z"
   },
   {
    "duration": 467,
    "start_time": "2022-02-06T08:04:18.008Z"
   },
   {
    "duration": 432,
    "start_time": "2022-02-06T08:09:35.874Z"
   },
   {
    "duration": 54,
    "start_time": "2022-02-06T08:09:42.210Z"
   },
   {
    "duration": 6,
    "start_time": "2022-02-06T08:27:27.500Z"
   },
   {
    "duration": 6,
    "start_time": "2022-02-06T08:27:28.173Z"
   },
   {
    "duration": 67,
    "start_time": "2022-02-06T08:27:29.013Z"
   },
   {
    "duration": 35,
    "start_time": "2022-02-06T08:27:30.175Z"
   },
   {
    "duration": 56,
    "start_time": "2022-02-06T08:27:32.581Z"
   },
   {
    "duration": 25,
    "start_time": "2022-02-06T08:27:36.925Z"
   },
   {
    "duration": 17,
    "start_time": "2022-02-06T11:07:20.609Z"
   },
   {
    "duration": 36,
    "start_time": "2022-02-06T11:07:26.510Z"
   },
   {
    "duration": 50,
    "start_time": "2022-02-06T11:07:30.322Z"
   },
   {
    "duration": 342,
    "start_time": "2022-02-06T11:10:42.902Z"
   },
   {
    "duration": 376,
    "start_time": "2022-02-06T11:10:46.926Z"
   },
   {
    "duration": 304,
    "start_time": "2022-02-06T11:10:53.813Z"
   },
   {
    "duration": 379,
    "start_time": "2022-02-06T11:10:57.941Z"
   },
   {
    "duration": 65,
    "start_time": "2022-02-06T11:11:10.917Z"
   },
   {
    "duration": 63,
    "start_time": "2022-02-06T11:11:59.676Z"
   },
   {
    "duration": 35,
    "start_time": "2022-02-06T11:11:59.981Z"
   },
   {
    "duration": 52,
    "start_time": "2022-02-06T11:12:01.206Z"
   },
   {
    "duration": 27,
    "start_time": "2022-02-06T11:12:01.989Z"
   },
   {
    "duration": 6,
    "start_time": "2022-02-06T11:15:44.655Z"
   },
   {
    "duration": 22,
    "start_time": "2022-02-06T11:16:03.823Z"
   },
   {
    "duration": 117,
    "start_time": "2022-02-06T11:21:09.249Z"
   },
   {
    "duration": 1904,
    "start_time": "2022-02-06T11:29:50.606Z"
   },
   {
    "duration": 281,
    "start_time": "2022-02-06T11:30:43.122Z"
   },
   {
    "duration": 828,
    "start_time": "2022-02-06T11:33:28.652Z"
   },
   {
    "duration": 1751,
    "start_time": "2022-02-06T11:36:29.054Z"
   },
   {
    "duration": 4207,
    "start_time": "2022-02-06T11:36:59.816Z"
   },
   {
    "duration": 6997,
    "start_time": "2022-02-06T11:37:27.558Z"
   },
   {
    "duration": 2354,
    "start_time": "2022-02-06T11:39:52.677Z"
   },
   {
    "duration": 48727,
    "start_time": "2022-02-06T11:40:59.145Z"
   },
   {
    "duration": 3193,
    "start_time": "2022-02-06T11:42:09.058Z"
   },
   {
    "duration": 2267,
    "start_time": "2022-02-06T11:42:34.281Z"
   },
   {
    "duration": 373,
    "start_time": "2022-02-06T13:00:07.697Z"
   },
   {
    "duration": 312,
    "start_time": "2022-02-06T13:00:39.336Z"
   },
   {
    "duration": 144,
    "start_time": "2022-02-06T13:22:24.102Z"
   },
   {
    "duration": 157,
    "start_time": "2022-02-06T13:22:52.046Z"
   },
   {
    "duration": 98,
    "start_time": "2022-02-06T13:23:01.173Z"
   },
   {
    "duration": 5,
    "start_time": "2022-02-06T13:23:24.320Z"
   },
   {
    "duration": 109,
    "start_time": "2022-02-06T13:23:28.869Z"
   },
   {
    "duration": 93,
    "start_time": "2022-02-06T13:24:41.635Z"
   },
   {
    "duration": 92,
    "start_time": "2022-02-06T13:24:47.875Z"
   },
   {
    "duration": 293,
    "start_time": "2022-02-06T13:26:07.856Z"
   },
   {
    "duration": 302,
    "start_time": "2022-02-06T13:26:23.865Z"
   },
   {
    "duration": 383,
    "start_time": "2022-02-06T13:27:25.192Z"
   },
   {
    "duration": 588,
    "start_time": "2022-02-06T13:28:24.646Z"
   },
   {
    "duration": 1085,
    "start_time": "2022-02-06T14:17:17.699Z"
   },
   {
    "duration": 18250,
    "start_time": "2022-02-06T14:18:53.570Z"
   },
   {
    "duration": 2605,
    "start_time": "2022-02-06T14:19:44.680Z"
   },
   {
    "duration": 17572,
    "start_time": "2022-02-06T14:21:13.183Z"
   },
   {
    "duration": 978,
    "start_time": "2022-02-06T14:22:19.900Z"
   },
   {
    "duration": 999,
    "start_time": "2022-02-06T14:22:33.572Z"
   },
   {
    "duration": 961,
    "start_time": "2022-02-06T14:23:16.524Z"
   },
   {
    "duration": 743,
    "start_time": "2022-02-06T14:32:12.112Z"
   },
   {
    "duration": 416,
    "start_time": "2022-02-06T14:33:41.837Z"
   },
   {
    "duration": 675,
    "start_time": "2022-02-06T14:33:52.280Z"
   },
   {
    "duration": 99,
    "start_time": "2022-02-06T14:34:14.567Z"
   },
   {
    "duration": 697,
    "start_time": "2022-02-06T14:34:23.022Z"
   },
   {
    "duration": 977,
    "start_time": "2022-02-06T14:34:40.782Z"
   },
   {
    "duration": 701,
    "start_time": "2022-02-06T14:35:32.965Z"
   },
   {
    "duration": 666,
    "start_time": "2022-02-06T15:07:53.952Z"
   },
   {
    "duration": 715,
    "start_time": "2022-02-06T15:08:02.625Z"
   },
   {
    "duration": 478,
    "start_time": "2022-02-06T15:08:34.048Z"
   },
   {
    "duration": 95,
    "start_time": "2022-02-06T15:08:52.564Z"
   },
   {
    "duration": 8949,
    "start_time": "2022-02-06T15:09:07.631Z"
   },
   {
    "duration": 580,
    "start_time": "2022-02-06T15:15:36.848Z"
   },
   {
    "duration": 301,
    "start_time": "2022-02-06T15:15:42.654Z"
   },
   {
    "duration": 329,
    "start_time": "2022-02-06T15:16:11.166Z"
   },
   {
    "duration": 323,
    "start_time": "2022-02-06T15:16:29.694Z"
   },
   {
    "duration": 565,
    "start_time": "2022-02-06T15:16:58.061Z"
   },
   {
    "duration": 359,
    "start_time": "2022-02-06T15:17:04.846Z"
   },
   {
    "duration": 2642,
    "start_time": "2022-02-06T15:17:33.365Z"
   },
   {
    "duration": 2539,
    "start_time": "2022-02-06T15:17:47.229Z"
   },
   {
    "duration": 2959,
    "start_time": "2022-02-06T15:18:15.692Z"
   },
   {
    "duration": 505,
    "start_time": "2022-02-06T15:20:12.794Z"
   },
   {
    "duration": 3029,
    "start_time": "2022-02-06T15:20:29.339Z"
   },
   {
    "duration": 1764,
    "start_time": "2022-02-06T15:21:58.848Z"
   },
   {
    "duration": 1767,
    "start_time": "2022-02-06T15:23:01.318Z"
   },
   {
    "duration": 1980,
    "start_time": "2022-02-06T15:23:25.481Z"
   },
   {
    "duration": 1878,
    "start_time": "2022-02-06T15:23:52.245Z"
   },
   {
    "duration": 1619,
    "start_time": "2022-02-06T15:24:07.189Z"
   },
   {
    "duration": 100,
    "start_time": "2022-02-06T15:26:06.044Z"
   },
   {
    "duration": 2940,
    "start_time": "2022-02-06T15:26:19.033Z"
   },
   {
    "duration": 2972,
    "start_time": "2022-02-06T15:26:40.082Z"
   },
   {
    "duration": 1468,
    "start_time": "2022-02-06T15:27:11.641Z"
   },
   {
    "duration": 1367,
    "start_time": "2022-02-06T15:27:14.251Z"
   },
   {
    "duration": 1643,
    "start_time": "2022-02-06T15:29:54.485Z"
   },
   {
    "duration": 196,
    "start_time": "2022-02-06T15:30:04.590Z"
   },
   {
    "duration": 1429,
    "start_time": "2022-02-06T15:30:48.524Z"
   },
   {
    "duration": 1401,
    "start_time": "2022-02-06T15:37:44.293Z"
   },
   {
    "duration": 1415,
    "start_time": "2022-02-06T15:38:11.380Z"
   },
   {
    "duration": 1630,
    "start_time": "2022-02-06T15:39:03.835Z"
   },
   {
    "duration": 1413,
    "start_time": "2022-02-06T15:39:14.186Z"
   },
   {
    "duration": 1369,
    "start_time": "2022-02-06T15:39:28.395Z"
   },
   {
    "duration": 1594,
    "start_time": "2022-02-06T15:39:45.106Z"
   },
   {
    "duration": 1451,
    "start_time": "2022-02-06T15:40:03.810Z"
   },
   {
    "duration": 1358,
    "start_time": "2022-02-06T15:43:53.269Z"
   },
   {
    "duration": 1441,
    "start_time": "2022-02-06T15:44:45.349Z"
   },
   {
    "duration": 1639,
    "start_time": "2022-02-06T15:45:01.477Z"
   },
   {
    "duration": 1881,
    "start_time": "2022-02-06T15:45:34.067Z"
   },
   {
    "duration": 1531,
    "start_time": "2022-02-06T15:45:51.491Z"
   },
   {
    "duration": 585,
    "start_time": "2022-02-06T15:52:45.490Z"
   },
   {
    "duration": 8,
    "start_time": "2022-02-06T15:55:02.246Z"
   },
   {
    "duration": 8,
    "start_time": "2022-02-06T15:55:15.653Z"
   },
   {
    "duration": 10,
    "start_time": "2022-02-06T15:55:36.455Z"
   },
   {
    "duration": 995,
    "start_time": "2022-02-06T16:06:28.897Z"
   },
   {
    "duration": 1009,
    "start_time": "2022-02-06T16:06:39.697Z"
   },
   {
    "duration": 1353,
    "start_time": "2022-02-06T16:06:48.009Z"
   },
   {
    "duration": 1060,
    "start_time": "2022-02-06T16:06:58.865Z"
   },
   {
    "duration": 278,
    "start_time": "2022-02-06T16:08:05.991Z"
   },
   {
    "duration": 1074,
    "start_time": "2022-02-06T16:08:51.367Z"
   },
   {
    "duration": 1066,
    "start_time": "2022-02-06T16:09:01.278Z"
   },
   {
    "duration": 1060,
    "start_time": "2022-02-06T16:09:07.119Z"
   },
   {
    "duration": 1121,
    "start_time": "2022-02-06T19:24:42.358Z"
   },
   {
    "duration": 290,
    "start_time": "2022-02-06T19:25:18.894Z"
   },
   {
    "duration": 1231,
    "start_time": "2022-02-06T19:25:28.778Z"
   },
   {
    "duration": 4,
    "start_time": "2022-02-06T19:25:30.012Z"
   },
   {
    "duration": 1034,
    "start_time": "2022-02-06T19:25:30.019Z"
   },
   {
    "duration": 68,
    "start_time": "2022-02-06T19:25:31.056Z"
   },
   {
    "duration": 58,
    "start_time": "2022-02-06T19:25:31.127Z"
   },
   {
    "duration": 17,
    "start_time": "2022-02-06T19:25:31.187Z"
   },
   {
    "duration": 41,
    "start_time": "2022-02-06T19:25:31.207Z"
   },
   {
    "duration": 6,
    "start_time": "2022-02-06T19:25:31.251Z"
   },
   {
    "duration": 9,
    "start_time": "2022-02-06T19:25:31.261Z"
   },
   {
    "duration": 15,
    "start_time": "2022-02-06T19:25:31.273Z"
   },
   {
    "duration": 22,
    "start_time": "2022-02-06T19:25:31.290Z"
   },
   {
    "duration": 53,
    "start_time": "2022-02-06T19:25:31.314Z"
   },
   {
    "duration": 5,
    "start_time": "2022-02-06T19:25:31.370Z"
   },
   {
    "duration": 23,
    "start_time": "2022-02-06T19:25:31.378Z"
   },
   {
    "duration": 46,
    "start_time": "2022-02-06T19:25:31.403Z"
   },
   {
    "duration": 25,
    "start_time": "2022-02-06T19:25:31.452Z"
   },
   {
    "duration": 11,
    "start_time": "2022-02-06T19:25:31.479Z"
   },
   {
    "duration": 56,
    "start_time": "2022-02-06T19:25:31.493Z"
   },
   {
    "duration": 68,
    "start_time": "2022-02-06T19:25:31.552Z"
   },
   {
    "duration": 33,
    "start_time": "2022-02-06T19:25:31.622Z"
   },
   {
    "duration": 23,
    "start_time": "2022-02-06T19:25:31.657Z"
   },
   {
    "duration": 28,
    "start_time": "2022-02-06T19:25:31.683Z"
   },
   {
    "duration": 36,
    "start_time": "2022-02-06T19:25:31.714Z"
   },
   {
    "duration": 17,
    "start_time": "2022-02-06T19:25:31.753Z"
   },
   {
    "duration": 77,
    "start_time": "2022-02-06T19:25:31.772Z"
   },
   {
    "duration": 4,
    "start_time": "2022-02-06T19:25:31.851Z"
   },
   {
    "duration": 28,
    "start_time": "2022-02-06T19:25:31.860Z"
   },
   {
    "duration": 18,
    "start_time": "2022-02-06T19:25:31.891Z"
   },
   {
    "duration": 44,
    "start_time": "2022-02-06T19:25:31.911Z"
   },
   {
    "duration": 11,
    "start_time": "2022-02-06T19:25:31.957Z"
   },
   {
    "duration": 11,
    "start_time": "2022-02-06T19:25:31.971Z"
   },
   {
    "duration": 17,
    "start_time": "2022-02-06T19:25:31.985Z"
   },
   {
    "duration": 69,
    "start_time": "2022-02-06T19:25:32.004Z"
   },
   {
    "duration": 14,
    "start_time": "2022-02-06T19:25:32.076Z"
   },
   {
    "duration": 62,
    "start_time": "2022-02-06T19:25:32.093Z"
   },
   {
    "duration": 11,
    "start_time": "2022-02-06T19:25:32.158Z"
   },
   {
    "duration": 7,
    "start_time": "2022-02-06T19:25:32.171Z"
   },
   {
    "duration": 9,
    "start_time": "2022-02-06T19:25:32.180Z"
   },
   {
    "duration": 108,
    "start_time": "2022-02-06T19:25:32.191Z"
   },
   {
    "duration": 34,
    "start_time": "2022-02-06T19:25:32.301Z"
   },
   {
    "duration": 73,
    "start_time": "2022-02-06T19:25:32.350Z"
   },
   {
    "duration": 1046,
    "start_time": "2022-02-06T19:25:32.426Z"
   },
   {
    "duration": 1104,
    "start_time": "2022-02-06T19:25:33.475Z"
   },
   {
    "duration": 384,
    "start_time": "2022-02-06T19:25:38.384Z"
   },
   {
    "duration": 496,
    "start_time": "2022-02-06T19:27:22.875Z"
   },
   {
    "duration": 9,
    "start_time": "2022-02-06T19:28:00.661Z"
   },
   {
    "duration": 8,
    "start_time": "2022-02-06T19:30:08.793Z"
   },
   {
    "duration": 754,
    "start_time": "2022-02-06T19:53:32.053Z"
   },
   {
    "duration": 692,
    "start_time": "2022-02-06T19:54:12.580Z"
   },
   {
    "duration": 334,
    "start_time": "2022-02-06T19:54:33.124Z"
   },
   {
    "duration": 306,
    "start_time": "2022-02-06T19:55:09.691Z"
   },
   {
    "duration": 921,
    "start_time": "2022-02-06T20:12:59.889Z"
   },
   {
    "duration": 1193,
    "start_time": "2022-02-06T20:14:09.921Z"
   },
   {
    "duration": 932,
    "start_time": "2022-02-06T20:14:16.592Z"
   },
   {
    "duration": 960,
    "start_time": "2022-02-06T20:15:07.099Z"
   },
   {
    "duration": 800,
    "start_time": "2022-02-06T20:15:09.501Z"
   },
   {
    "duration": 287,
    "start_time": "2022-02-07T07:43:03.956Z"
   },
   {
    "duration": 1680,
    "start_time": "2022-02-07T07:43:13.293Z"
   },
   {
    "duration": 4,
    "start_time": "2022-02-07T07:43:14.975Z"
   },
   {
    "duration": 1166,
    "start_time": "2022-02-07T07:43:14.981Z"
   },
   {
    "duration": 74,
    "start_time": "2022-02-07T07:43:16.150Z"
   },
   {
    "duration": 30,
    "start_time": "2022-02-07T07:43:16.226Z"
   },
   {
    "duration": 13,
    "start_time": "2022-02-07T07:43:16.259Z"
   },
   {
    "duration": 33,
    "start_time": "2022-02-07T07:43:16.274Z"
   },
   {
    "duration": 6,
    "start_time": "2022-02-07T07:43:16.310Z"
   },
   {
    "duration": 8,
    "start_time": "2022-02-07T07:43:16.318Z"
   },
   {
    "duration": 11,
    "start_time": "2022-02-07T07:43:16.328Z"
   },
   {
    "duration": 13,
    "start_time": "2022-02-07T07:43:16.341Z"
   },
   {
    "duration": 54,
    "start_time": "2022-02-07T07:43:16.356Z"
   },
   {
    "duration": 6,
    "start_time": "2022-02-07T07:43:16.412Z"
   },
   {
    "duration": 25,
    "start_time": "2022-02-07T07:43:16.420Z"
   },
   {
    "duration": 8,
    "start_time": "2022-02-07T07:43:16.447Z"
   },
   {
    "duration": 52,
    "start_time": "2022-02-07T07:43:16.457Z"
   },
   {
    "duration": 10,
    "start_time": "2022-02-07T07:43:16.511Z"
   },
   {
    "duration": 26,
    "start_time": "2022-02-07T07:43:16.523Z"
   },
   {
    "duration": 68,
    "start_time": "2022-02-07T07:43:16.551Z"
   },
   {
    "duration": 11,
    "start_time": "2022-02-07T07:43:16.621Z"
   },
   {
    "duration": 16,
    "start_time": "2022-02-07T07:43:16.634Z"
   },
   {
    "duration": 58,
    "start_time": "2022-02-07T07:43:16.652Z"
   },
   {
    "duration": 11,
    "start_time": "2022-02-07T07:43:16.715Z"
   },
   {
    "duration": 23,
    "start_time": "2022-02-07T07:43:16.728Z"
   },
   {
    "duration": 61,
    "start_time": "2022-02-07T07:43:16.753Z"
   },
   {
    "duration": 3,
    "start_time": "2022-02-07T07:43:16.816Z"
   },
   {
    "duration": 31,
    "start_time": "2022-02-07T07:43:16.821Z"
   },
   {
    "duration": 23,
    "start_time": "2022-02-07T07:43:16.854Z"
   },
   {
    "duration": 15,
    "start_time": "2022-02-07T07:43:16.879Z"
   },
   {
    "duration": 10,
    "start_time": "2022-02-07T07:43:16.909Z"
   },
   {
    "duration": 24,
    "start_time": "2022-02-07T07:43:16.921Z"
   },
   {
    "duration": 35,
    "start_time": "2022-02-07T07:43:16.947Z"
   },
   {
    "duration": 24,
    "start_time": "2022-02-07T07:43:16.984Z"
   },
   {
    "duration": 20,
    "start_time": "2022-02-07T07:43:17.010Z"
   },
   {
    "duration": 39,
    "start_time": "2022-02-07T07:43:17.032Z"
   },
   {
    "duration": 9,
    "start_time": "2022-02-07T07:43:17.074Z"
   },
   {
    "duration": 12,
    "start_time": "2022-02-07T07:43:17.086Z"
   },
   {
    "duration": 46,
    "start_time": "2022-02-07T07:43:17.101Z"
   },
   {
    "duration": 88,
    "start_time": "2022-02-07T07:43:17.149Z"
   },
   {
    "duration": 25,
    "start_time": "2022-02-07T07:43:17.239Z"
   },
   {
    "duration": 69,
    "start_time": "2022-02-07T07:43:17.266Z"
   },
   {
    "duration": 573,
    "start_time": "2022-02-07T07:43:17.337Z"
   },
   {
    "duration": 546,
    "start_time": "2022-02-07T07:43:17.912Z"
   },
   {
    "duration": 641,
    "start_time": "2022-02-07T07:43:19.401Z"
   },
   {
    "duration": 650,
    "start_time": "2022-02-07T07:43:23.589Z"
   },
   {
    "duration": 642,
    "start_time": "2022-02-07T07:47:00.166Z"
   },
   {
    "duration": 11,
    "start_time": "2022-02-07T08:20:42.220Z"
   },
   {
    "duration": 18,
    "start_time": "2022-02-07T08:20:44.364Z"
   },
   {
    "duration": 445,
    "start_time": "2022-02-07T08:22:21.275Z"
   },
   {
    "duration": 19,
    "start_time": "2022-02-07T08:24:19.198Z"
   },
   {
    "duration": 257,
    "start_time": "2022-02-07T08:24:45.277Z"
   },
   {
    "duration": 304,
    "start_time": "2022-02-07T08:25:04.443Z"
   },
   {
    "duration": 320,
    "start_time": "2022-02-07T08:25:15.797Z"
   },
   {
    "duration": 3,
    "start_time": "2022-02-07T08:25:38.599Z"
   },
   {
    "duration": 9,
    "start_time": "2022-02-07T08:25:38.606Z"
   },
   {
    "duration": 850,
    "start_time": "2022-02-07T08:25:38.622Z"
   },
   {
    "duration": 69,
    "start_time": "2022-02-07T08:25:39.474Z"
   },
   {
    "duration": 32,
    "start_time": "2022-02-07T08:25:39.545Z"
   },
   {
    "duration": 35,
    "start_time": "2022-02-07T08:25:39.579Z"
   },
   {
    "duration": 7,
    "start_time": "2022-02-07T08:25:39.616Z"
   },
   {
    "duration": 12,
    "start_time": "2022-02-07T08:25:39.625Z"
   },
   {
    "duration": 19,
    "start_time": "2022-02-07T08:25:39.639Z"
   },
   {
    "duration": 16,
    "start_time": "2022-02-07T08:25:39.661Z"
   },
   {
    "duration": 13,
    "start_time": "2022-02-07T08:25:39.679Z"
   },
   {
    "duration": 31,
    "start_time": "2022-02-07T08:25:39.694Z"
   },
   {
    "duration": 5,
    "start_time": "2022-02-07T08:25:39.726Z"
   },
   {
    "duration": 21,
    "start_time": "2022-02-07T08:25:39.733Z"
   },
   {
    "duration": 4,
    "start_time": "2022-02-07T08:25:39.756Z"
   },
   {
    "duration": 51,
    "start_time": "2022-02-07T08:25:39.762Z"
   },
   {
    "duration": 9,
    "start_time": "2022-02-07T08:25:39.815Z"
   },
   {
    "duration": 23,
    "start_time": "2022-02-07T08:25:39.825Z"
   },
   {
    "duration": 70,
    "start_time": "2022-02-07T08:25:39.850Z"
   },
   {
    "duration": 8,
    "start_time": "2022-02-07T08:25:39.922Z"
   },
   {
    "duration": 17,
    "start_time": "2022-02-07T08:25:39.932Z"
   },
   {
    "duration": 22,
    "start_time": "2022-02-07T08:25:39.951Z"
   },
   {
    "duration": 38,
    "start_time": "2022-02-07T08:25:39.975Z"
   },
   {
    "duration": 20,
    "start_time": "2022-02-07T08:25:40.015Z"
   },
   {
    "duration": 43,
    "start_time": "2022-02-07T08:25:40.039Z"
   },
   {
    "duration": 3,
    "start_time": "2022-02-07T08:25:40.108Z"
   },
   {
    "duration": 19,
    "start_time": "2022-02-07T08:25:40.114Z"
   },
   {
    "duration": 15,
    "start_time": "2022-02-07T08:25:40.135Z"
   },
   {
    "duration": 15,
    "start_time": "2022-02-07T08:25:40.152Z"
   },
   {
    "duration": 12,
    "start_time": "2022-02-07T08:25:42.322Z"
   },
   {
    "duration": 17,
    "start_time": "2022-02-07T08:25:45.270Z"
   },
   {
    "duration": 18,
    "start_time": "2022-02-07T08:25:59.184Z"
   },
   {
    "duration": 17,
    "start_time": "2022-02-07T08:26:02.191Z"
   },
   {
    "duration": 34,
    "start_time": "2022-02-07T08:26:07.582Z"
   },
   {
    "duration": 10,
    "start_time": "2022-02-07T08:26:18.257Z"
   },
   {
    "duration": 5,
    "start_time": "2022-02-07T08:26:22.416Z"
   },
   {
    "duration": 5,
    "start_time": "2022-02-07T08:26:23.711Z"
   },
   {
    "duration": 46,
    "start_time": "2022-02-07T08:26:25.070Z"
   },
   {
    "duration": 24,
    "start_time": "2022-02-07T08:26:26.775Z"
   },
   {
    "duration": 59,
    "start_time": "2022-02-07T08:26:31.924Z"
   },
   {
    "duration": 45,
    "start_time": "2022-02-07T08:28:21.219Z"
   },
   {
    "duration": 540,
    "start_time": "2022-02-07T08:35:56.902Z"
   },
   {
    "duration": 603,
    "start_time": "2022-02-07T08:36:02.148Z"
   },
   {
    "duration": 763,
    "start_time": "2022-02-07T08:36:18.238Z"
   },
   {
    "duration": 641,
    "start_time": "2022-02-07T08:36:44.947Z"
   },
   {
    "duration": 571,
    "start_time": "2022-02-07T08:38:35.989Z"
   },
   {
    "duration": 97,
    "start_time": "2022-02-07T08:45:09.070Z"
   },
   {
    "duration": 66,
    "start_time": "2022-02-07T08:45:30.225Z"
   },
   {
    "duration": 12,
    "start_time": "2022-02-07T08:45:54.898Z"
   },
   {
    "duration": 67,
    "start_time": "2022-02-07T08:48:05.280Z"
   },
   {
    "duration": 9023,
    "start_time": "2022-02-07T08:48:57.844Z"
   },
   {
    "duration": 12,
    "start_time": "2022-02-07T08:49:07.053Z"
   },
   {
    "duration": 749,
    "start_time": "2022-02-07T08:51:49.758Z"
   },
   {
    "duration": 437,
    "start_time": "2022-02-07T09:34:14.342Z"
   },
   {
    "duration": 421,
    "start_time": "2022-02-07T09:34:26.205Z"
   },
   {
    "duration": 271,
    "start_time": "2022-02-07T09:35:10.248Z"
   },
   {
    "duration": 276,
    "start_time": "2022-02-07T09:42:10.558Z"
   },
   {
    "duration": 277,
    "start_time": "2022-02-07T09:42:30.510Z"
   },
   {
    "duration": 273,
    "start_time": "2022-02-07T09:44:04.056Z"
   },
   {
    "duration": 282,
    "start_time": "2022-02-07T09:48:16.395Z"
   },
   {
    "duration": 246,
    "start_time": "2022-02-07T09:48:19.294Z"
   },
   {
    "duration": 4,
    "start_time": "2022-02-07T09:48:33.254Z"
   },
   {
    "duration": 3,
    "start_time": "2022-02-07T09:48:33.266Z"
   },
   {
    "duration": 864,
    "start_time": "2022-02-07T09:48:33.278Z"
   },
   {
    "duration": 70,
    "start_time": "2022-02-07T09:48:34.145Z"
   },
   {
    "duration": 31,
    "start_time": "2022-02-07T09:48:34.217Z"
   },
   {
    "duration": 14,
    "start_time": "2022-02-07T09:48:34.251Z"
   },
   {
    "duration": 7,
    "start_time": "2022-02-07T09:48:34.267Z"
   },
   {
    "duration": 33,
    "start_time": "2022-02-07T09:48:34.276Z"
   },
   {
    "duration": 5,
    "start_time": "2022-02-07T09:48:34.312Z"
   },
   {
    "duration": 15,
    "start_time": "2022-02-07T09:48:34.320Z"
   },
   {
    "duration": 13,
    "start_time": "2022-02-07T09:48:34.338Z"
   },
   {
    "duration": 19,
    "start_time": "2022-02-07T09:48:34.353Z"
   },
   {
    "duration": 35,
    "start_time": "2022-02-07T09:48:34.374Z"
   },
   {
    "duration": 21,
    "start_time": "2022-02-07T09:48:34.411Z"
   },
   {
    "duration": 6,
    "start_time": "2022-02-07T09:48:34.434Z"
   },
   {
    "duration": 24,
    "start_time": "2022-02-07T09:48:34.442Z"
   },
   {
    "duration": 47,
    "start_time": "2022-02-07T09:48:34.468Z"
   },
   {
    "duration": 25,
    "start_time": "2022-02-07T09:48:34.516Z"
   },
   {
    "duration": 69,
    "start_time": "2022-02-07T09:48:34.543Z"
   },
   {
    "duration": 8,
    "start_time": "2022-02-07T09:48:34.614Z"
   },
   {
    "duration": 18,
    "start_time": "2022-02-07T09:48:34.624Z"
   },
   {
    "duration": 24,
    "start_time": "2022-02-07T09:48:34.645Z"
   },
   {
    "duration": 38,
    "start_time": "2022-02-07T09:48:34.671Z"
   },
   {
    "duration": 18,
    "start_time": "2022-02-07T09:48:34.712Z"
   },
   {
    "duration": 42,
    "start_time": "2022-02-07T09:48:34.734Z"
   },
   {
    "duration": 3,
    "start_time": "2022-02-07T09:48:34.779Z"
   },
   {
    "duration": 14,
    "start_time": "2022-02-07T09:48:34.808Z"
   },
   {
    "duration": 14,
    "start_time": "2022-02-07T09:48:34.825Z"
   },
   {
    "duration": 16,
    "start_time": "2022-02-07T09:48:34.841Z"
   },
   {
    "duration": 12,
    "start_time": "2022-02-07T09:48:34.859Z"
   },
   {
    "duration": 17,
    "start_time": "2022-02-07T09:48:34.907Z"
   },
   {
    "duration": 17,
    "start_time": "2022-02-07T09:48:34.926Z"
   },
   {
    "duration": 17,
    "start_time": "2022-02-07T09:48:34.945Z"
   },
   {
    "duration": 55,
    "start_time": "2022-02-07T09:48:34.964Z"
   },
   {
    "duration": 10,
    "start_time": "2022-02-07T09:48:35.021Z"
   },
   {
    "duration": 8,
    "start_time": "2022-02-07T09:48:35.033Z"
   },
   {
    "duration": 15,
    "start_time": "2022-02-07T09:48:35.043Z"
   },
   {
    "duration": 66,
    "start_time": "2022-02-07T09:48:35.060Z"
   },
   {
    "duration": 26,
    "start_time": "2022-02-07T09:48:35.128Z"
   },
   {
    "duration": 68,
    "start_time": "2022-02-07T09:48:35.156Z"
   },
   {
    "duration": 577,
    "start_time": "2022-02-07T09:48:35.226Z"
   },
   {
    "duration": 598,
    "start_time": "2022-02-07T09:48:35.808Z"
   },
   {
    "duration": 778,
    "start_time": "2022-02-07T09:48:36.408Z"
   },
   {
    "duration": 289,
    "start_time": "2022-02-07T09:48:37.189Z"
   },
   {
    "duration": 112067,
    "start_time": "2022-02-07T09:46:45.413Z"
   },
   {
    "duration": 112062,
    "start_time": "2022-02-07T09:46:45.419Z"
   },
   {
    "duration": 308,
    "start_time": "2022-02-07T09:48:39.073Z"
   },
   {
    "duration": 313,
    "start_time": "2022-02-07T09:48:40.561Z"
   },
   {
    "duration": 8,
    "start_time": "2022-02-07T09:49:25.101Z"
   },
   {
    "duration": 340,
    "start_time": "2022-02-07T09:49:26.140Z"
   },
   {
    "duration": 4,
    "start_time": "2022-02-07T09:49:43.406Z"
   },
   {
    "duration": 5,
    "start_time": "2022-02-07T09:49:43.413Z"
   },
   {
    "duration": 881,
    "start_time": "2022-02-07T09:49:43.429Z"
   },
   {
    "duration": 51,
    "start_time": "2022-02-07T09:49:44.312Z"
   },
   {
    "duration": 58,
    "start_time": "2022-02-07T09:49:44.365Z"
   },
   {
    "duration": 14,
    "start_time": "2022-02-07T09:49:44.425Z"
   },
   {
    "duration": 6,
    "start_time": "2022-02-07T09:49:44.441Z"
   },
   {
    "duration": 16,
    "start_time": "2022-02-07T09:49:44.449Z"
   },
   {
    "duration": 14,
    "start_time": "2022-02-07T09:49:44.466Z"
   },
   {
    "duration": 27,
    "start_time": "2022-02-07T09:49:44.483Z"
   },
   {
    "duration": 12,
    "start_time": "2022-02-07T09:49:44.512Z"
   },
   {
    "duration": 20,
    "start_time": "2022-02-07T09:49:44.525Z"
   },
   {
    "duration": 4,
    "start_time": "2022-02-07T09:49:44.547Z"
   },
   {
    "duration": 20,
    "start_time": "2022-02-07T09:49:44.553Z"
   },
   {
    "duration": 5,
    "start_time": "2022-02-07T09:49:44.609Z"
   },
   {
    "duration": 20,
    "start_time": "2022-02-07T09:49:44.616Z"
   },
   {
    "duration": 9,
    "start_time": "2022-02-07T09:49:44.638Z"
   },
   {
    "duration": 25,
    "start_time": "2022-02-07T09:49:44.649Z"
   },
   {
    "duration": 74,
    "start_time": "2022-02-07T09:49:44.676Z"
   },
   {
    "duration": 9,
    "start_time": "2022-02-07T09:49:44.752Z"
   },
   {
    "duration": 19,
    "start_time": "2022-02-07T09:49:44.762Z"
   },
   {
    "duration": 45,
    "start_time": "2022-02-07T09:49:44.783Z"
   },
   {
    "duration": 9,
    "start_time": "2022-02-07T09:49:44.830Z"
   },
   {
    "duration": 17,
    "start_time": "2022-02-07T09:49:44.841Z"
   },
   {
    "duration": 65,
    "start_time": "2022-02-07T09:49:44.861Z"
   },
   {
    "duration": 2,
    "start_time": "2022-02-07T09:49:44.929Z"
   },
   {
    "duration": 20,
    "start_time": "2022-02-07T09:49:44.933Z"
   },
   {
    "duration": 14,
    "start_time": "2022-02-07T09:49:44.955Z"
   },
   {
    "duration": 45,
    "start_time": "2022-02-07T09:49:44.971Z"
   },
   {
    "duration": 38,
    "start_time": "2022-02-07T09:49:45.018Z"
   },
   {
    "duration": 21,
    "start_time": "2022-02-07T09:49:45.058Z"
   },
   {
    "duration": 17,
    "start_time": "2022-02-07T09:49:45.081Z"
   },
   {
    "duration": 26,
    "start_time": "2022-02-07T09:49:45.100Z"
   },
   {
    "duration": 30,
    "start_time": "2022-02-07T09:49:45.128Z"
   },
   {
    "duration": 9,
    "start_time": "2022-02-07T09:49:45.160Z"
   },
   {
    "duration": 6,
    "start_time": "2022-02-07T09:49:45.171Z"
   },
   {
    "duration": 29,
    "start_time": "2022-02-07T09:49:45.178Z"
   },
   {
    "duration": 48,
    "start_time": "2022-02-07T09:49:45.210Z"
   },
   {
    "duration": 25,
    "start_time": "2022-02-07T09:49:45.260Z"
   },
   {
    "duration": 67,
    "start_time": "2022-02-07T09:49:45.287Z"
   },
   {
    "duration": 612,
    "start_time": "2022-02-07T09:49:45.356Z"
   },
   {
    "duration": 564,
    "start_time": "2022-02-07T09:49:45.970Z"
   },
   {
    "duration": 702,
    "start_time": "2022-02-07T09:49:46.537Z"
   },
   {
    "duration": 6,
    "start_time": "2022-02-07T09:49:47.241Z"
   },
   {
    "duration": 18,
    "start_time": "2022-02-07T09:49:47.249Z"
   },
   {
    "duration": 7,
    "start_time": "2022-02-07T09:49:48.374Z"
   },
   {
    "duration": 309,
    "start_time": "2022-02-07T09:49:49.106Z"
   },
   {
    "duration": 12,
    "start_time": "2022-02-07T10:02:06.355Z"
   },
   {
    "duration": 17,
    "start_time": "2022-02-07T10:02:59.576Z"
   },
   {
    "duration": 10,
    "start_time": "2022-02-07T10:03:34.918Z"
   },
   {
    "duration": 17,
    "start_time": "2022-02-07T10:03:43.853Z"
   },
   {
    "duration": 33,
    "start_time": "2022-02-07T10:03:58.537Z"
   },
   {
    "duration": 20,
    "start_time": "2022-02-07T10:04:45.249Z"
   },
   {
    "duration": 6,
    "start_time": "2022-02-07T10:06:22.598Z"
   },
   {
    "duration": 3,
    "start_time": "2022-02-07T10:17:00.907Z"
   },
   {
    "duration": 30,
    "start_time": "2022-02-07T10:17:00.916Z"
   },
   {
    "duration": 914,
    "start_time": "2022-02-07T10:17:01.129Z"
   },
   {
    "duration": 86,
    "start_time": "2022-02-07T10:17:02.045Z"
   },
   {
    "duration": 37,
    "start_time": "2022-02-07T10:17:02.134Z"
   },
   {
    "duration": 34,
    "start_time": "2022-02-07T10:17:02.173Z"
   },
   {
    "duration": 8,
    "start_time": "2022-02-07T10:17:02.210Z"
   },
   {
    "duration": 17,
    "start_time": "2022-02-07T10:17:02.221Z"
   },
   {
    "duration": 53,
    "start_time": "2022-02-07T10:17:02.241Z"
   },
   {
    "duration": 22,
    "start_time": "2022-02-07T10:17:02.298Z"
   },
   {
    "duration": 38,
    "start_time": "2022-02-07T10:17:02.323Z"
   },
   {
    "duration": 33,
    "start_time": "2022-02-07T10:17:02.363Z"
   },
   {
    "duration": 15,
    "start_time": "2022-02-07T10:17:02.398Z"
   },
   {
    "duration": 33,
    "start_time": "2022-02-07T10:17:02.416Z"
   },
   {
    "duration": 12,
    "start_time": "2022-02-07T10:17:02.452Z"
   },
   {
    "duration": 26,
    "start_time": "2022-02-07T10:17:02.466Z"
   },
   {
    "duration": 16,
    "start_time": "2022-02-07T10:17:02.495Z"
   },
   {
    "duration": 36,
    "start_time": "2022-02-07T10:17:02.514Z"
   },
   {
    "duration": 65,
    "start_time": "2022-02-07T10:17:02.552Z"
   },
   {
    "duration": 64,
    "start_time": "2022-02-07T10:17:02.619Z"
   },
   {
    "duration": 67,
    "start_time": "2022-02-07T10:17:02.685Z"
   },
   {
    "duration": 80,
    "start_time": "2022-02-07T10:17:02.754Z"
   },
   {
    "duration": 10,
    "start_time": "2022-02-07T10:17:02.836Z"
   },
   {
    "duration": 29,
    "start_time": "2022-02-07T10:17:02.848Z"
   },
   {
    "duration": 42,
    "start_time": "2022-02-07T10:17:02.881Z"
   },
   {
    "duration": 3,
    "start_time": "2022-02-07T10:17:02.926Z"
   },
   {
    "duration": 26,
    "start_time": "2022-02-07T10:17:02.931Z"
   },
   {
    "duration": 15,
    "start_time": "2022-02-07T10:17:02.959Z"
   },
   {
    "duration": 42,
    "start_time": "2022-02-07T10:17:02.976Z"
   },
   {
    "duration": 19,
    "start_time": "2022-02-07T10:17:03.021Z"
   },
   {
    "duration": 32,
    "start_time": "2022-02-07T10:17:03.042Z"
   },
   {
    "duration": 16,
    "start_time": "2022-02-07T10:17:03.076Z"
   },
   {
    "duration": 18,
    "start_time": "2022-02-07T10:17:03.094Z"
   },
   {
    "duration": 50,
    "start_time": "2022-02-07T10:17:03.114Z"
   },
   {
    "duration": 9,
    "start_time": "2022-02-07T10:17:03.166Z"
   },
   {
    "duration": 26,
    "start_time": "2022-02-07T10:17:03.177Z"
   },
   {
    "duration": 18,
    "start_time": "2022-02-07T10:17:03.205Z"
   },
   {
    "duration": 63,
    "start_time": "2022-02-07T10:17:03.225Z"
   },
   {
    "duration": 32,
    "start_time": "2022-02-07T10:17:03.290Z"
   },
   {
    "duration": 55,
    "start_time": "2022-02-07T10:17:03.324Z"
   },
   {
    "duration": 566,
    "start_time": "2022-02-07T10:17:03.381Z"
   },
   {
    "duration": 692,
    "start_time": "2022-02-07T10:17:03.949Z"
   },
   {
    "duration": 664,
    "start_time": "2022-02-07T10:17:04.643Z"
   },
   {
    "duration": 7,
    "start_time": "2022-02-07T10:17:05.309Z"
   },
   {
    "duration": 9,
    "start_time": "2022-02-07T10:17:05.318Z"
   },
   {
    "duration": 23,
    "start_time": "2022-02-07T10:17:05.329Z"
   },
   {
    "duration": 19,
    "start_time": "2022-02-07T10:17:07.156Z"
   },
   {
    "duration": 7,
    "start_time": "2022-02-07T10:17:08.866Z"
   },
   {
    "duration": 36,
    "start_time": "2022-02-07T10:30:24.452Z"
   },
   {
    "duration": 626,
    "start_time": "2022-02-07T10:38:35.862Z"
   },
   {
    "duration": 622,
    "start_time": "2022-02-07T10:38:57.232Z"
   },
   {
    "duration": 645,
    "start_time": "2022-02-07T10:39:30.169Z"
   },
   {
    "duration": 780,
    "start_time": "2022-02-07T10:41:18.320Z"
   },
   {
    "duration": 1085,
    "start_time": "2022-02-07T10:44:32.871Z"
   },
   {
    "duration": 1468,
    "start_time": "2022-02-07T10:45:29.099Z"
   },
   {
    "duration": 829,
    "start_time": "2022-02-07T10:47:12.382Z"
   },
   {
    "duration": 779,
    "start_time": "2022-02-07T10:47:38.183Z"
   },
   {
    "duration": 965,
    "start_time": "2022-02-07T10:47:46.556Z"
   },
   {
    "duration": 1102,
    "start_time": "2022-02-07T10:48:18.769Z"
   },
   {
    "duration": 1123,
    "start_time": "2022-02-07T10:48:46.532Z"
   },
   {
    "duration": 1281,
    "start_time": "2022-02-07T10:49:19.789Z"
   },
   {
    "duration": 1092,
    "start_time": "2022-02-07T10:49:53.108Z"
   },
   {
    "duration": 242,
    "start_time": "2022-02-07T10:50:58.535Z"
   },
   {
    "duration": 908,
    "start_time": "2022-02-07T10:51:12.234Z"
   },
   {
    "duration": 89,
    "start_time": "2022-02-07T10:55:39.442Z"
   },
   {
    "duration": 1231,
    "start_time": "2022-02-07T10:55:49.652Z"
   },
   {
    "duration": 1156,
    "start_time": "2022-02-07T11:01:01.351Z"
   },
   {
    "duration": 1125,
    "start_time": "2022-02-07T11:01:16.707Z"
   },
   {
    "duration": 705,
    "start_time": "2022-02-07T11:03:22.865Z"
   },
   {
    "duration": 544,
    "start_time": "2022-02-07T11:03:47.740Z"
   },
   {
    "duration": 1080,
    "start_time": "2022-02-07T11:04:12.074Z"
   },
   {
    "duration": 1054,
    "start_time": "2022-02-07T11:38:17.356Z"
   },
   {
    "duration": 924,
    "start_time": "2022-02-07T11:48:57.845Z"
   },
   {
    "duration": 1171,
    "start_time": "2022-02-07T11:55:01.539Z"
   },
   {
    "duration": 1571,
    "start_time": "2022-02-07T11:55:24.741Z"
   },
   {
    "duration": 3,
    "start_time": "2022-02-07T11:55:26.314Z"
   },
   {
    "duration": 900,
    "start_time": "2022-02-07T11:55:26.320Z"
   },
   {
    "duration": 50,
    "start_time": "2022-02-07T11:55:27.223Z"
   },
   {
    "duration": 53,
    "start_time": "2022-02-07T11:55:27.275Z"
   },
   {
    "duration": 15,
    "start_time": "2022-02-07T11:55:27.330Z"
   },
   {
    "duration": 11,
    "start_time": "2022-02-07T11:55:27.348Z"
   },
   {
    "duration": 5,
    "start_time": "2022-02-07T11:55:27.363Z"
   },
   {
    "duration": 38,
    "start_time": "2022-02-07T11:55:27.371Z"
   },
   {
    "duration": 12,
    "start_time": "2022-02-07T11:55:27.412Z"
   },
   {
    "duration": 14,
    "start_time": "2022-02-07T11:55:27.426Z"
   },
   {
    "duration": 22,
    "start_time": "2022-02-07T11:55:27.442Z"
   },
   {
    "duration": 45,
    "start_time": "2022-02-07T11:55:27.467Z"
   },
   {
    "duration": 22,
    "start_time": "2022-02-07T11:55:27.514Z"
   },
   {
    "duration": 6,
    "start_time": "2022-02-07T11:55:27.538Z"
   },
   {
    "duration": 20,
    "start_time": "2022-02-07T11:55:27.546Z"
   },
   {
    "duration": 43,
    "start_time": "2022-02-07T11:55:27.569Z"
   },
   {
    "duration": 25,
    "start_time": "2022-02-07T11:55:27.614Z"
   },
   {
    "duration": 78,
    "start_time": "2022-02-07T11:55:27.641Z"
   },
   {
    "duration": 10,
    "start_time": "2022-02-07T11:55:27.722Z"
   },
   {
    "duration": 41,
    "start_time": "2022-02-07T11:55:27.734Z"
   },
   {
    "duration": 31,
    "start_time": "2022-02-07T11:55:27.777Z"
   },
   {
    "duration": 10,
    "start_time": "2022-02-07T11:55:27.814Z"
   },
   {
    "duration": 18,
    "start_time": "2022-02-07T11:55:27.826Z"
   },
   {
    "duration": 66,
    "start_time": "2022-02-07T11:55:27.846Z"
   },
   {
    "duration": 3,
    "start_time": "2022-02-07T11:55:27.914Z"
   },
   {
    "duration": 20,
    "start_time": "2022-02-07T11:55:27.919Z"
   },
   {
    "duration": 15,
    "start_time": "2022-02-07T11:55:27.940Z"
   },
   {
    "duration": 17,
    "start_time": "2022-02-07T11:55:27.957Z"
   },
   {
    "duration": 12,
    "start_time": "2022-02-07T11:55:28.008Z"
   },
   {
    "duration": 18,
    "start_time": "2022-02-07T11:55:28.022Z"
   },
   {
    "duration": 17,
    "start_time": "2022-02-07T11:55:28.042Z"
   },
   {
    "duration": 11,
    "start_time": "2022-02-07T11:55:28.061Z"
   },
   {
    "duration": 56,
    "start_time": "2022-02-07T11:55:28.074Z"
   },
   {
    "duration": 8,
    "start_time": "2022-02-07T11:55:28.132Z"
   },
   {
    "duration": 5,
    "start_time": "2022-02-07T11:55:28.142Z"
   },
   {
    "duration": 6,
    "start_time": "2022-02-07T11:55:28.148Z"
   },
   {
    "duration": 78,
    "start_time": "2022-02-07T11:55:28.156Z"
   },
   {
    "duration": 25,
    "start_time": "2022-02-07T11:55:28.236Z"
   },
   {
    "duration": 67,
    "start_time": "2022-02-07T11:55:28.263Z"
   },
   {
    "duration": 1106,
    "start_time": "2022-02-07T11:55:28.332Z"
   },
   {
    "duration": 284,
    "start_time": "2022-02-07T11:55:29.441Z"
   },
   {
    "duration": 795,
    "start_time": "2022-02-07T11:55:29.727Z"
   },
   {
    "duration": 703,
    "start_time": "2022-02-07T11:55:30.526Z"
   },
   {
    "duration": 371,
    "start_time": "2022-02-07T11:55:31.232Z"
   },
   {
    "duration": 112089,
    "start_time": "2022-02-07T11:53:39.516Z"
   },
   {
    "duration": 112009,
    "start_time": "2022-02-07T11:53:39.598Z"
   },
   {
    "duration": 111994,
    "start_time": "2022-02-07T11:53:39.614Z"
   },
   {
    "duration": 111989,
    "start_time": "2022-02-07T11:53:39.620Z"
   },
   {
    "duration": 261,
    "start_time": "2022-02-07T11:56:17.830Z"
   },
   {
    "duration": 9,
    "start_time": "2022-02-07T11:56:22.334Z"
   },
   {
    "duration": 34,
    "start_time": "2022-02-07T11:56:22.345Z"
   },
   {
    "duration": 252,
    "start_time": "2022-02-07T11:56:26.284Z"
   },
   {
    "duration": 32,
    "start_time": "2022-02-07T11:57:15.486Z"
   },
   {
    "duration": 6,
    "start_time": "2022-02-07T11:57:18.187Z"
   },
   {
    "duration": 6,
    "start_time": "2022-02-07T11:57:37.007Z"
   },
   {
    "duration": 1677,
    "start_time": "2022-02-07T11:58:03.337Z"
   },
   {
    "duration": 3,
    "start_time": "2022-02-07T11:58:05.016Z"
   },
   {
    "duration": 903,
    "start_time": "2022-02-07T11:58:05.022Z"
   },
   {
    "duration": 51,
    "start_time": "2022-02-07T11:58:05.927Z"
   },
   {
    "duration": 49,
    "start_time": "2022-02-07T11:58:05.980Z"
   },
   {
    "duration": 14,
    "start_time": "2022-02-07T11:58:06.031Z"
   },
   {
    "duration": 11,
    "start_time": "2022-02-07T11:58:06.046Z"
   },
   {
    "duration": 5,
    "start_time": "2022-02-07T11:58:06.060Z"
   },
   {
    "duration": 41,
    "start_time": "2022-02-07T11:58:06.068Z"
   },
   {
    "duration": 13,
    "start_time": "2022-02-07T11:58:06.111Z"
   },
   {
    "duration": 15,
    "start_time": "2022-02-07T11:58:06.127Z"
   },
   {
    "duration": 19,
    "start_time": "2022-02-07T11:58:06.143Z"
   },
   {
    "duration": 4,
    "start_time": "2022-02-07T11:58:06.164Z"
   },
   {
    "duration": 53,
    "start_time": "2022-02-07T11:58:06.170Z"
   },
   {
    "duration": 5,
    "start_time": "2022-02-07T11:58:06.224Z"
   },
   {
    "duration": 18,
    "start_time": "2022-02-07T11:58:06.231Z"
   },
   {
    "duration": 10,
    "start_time": "2022-02-07T11:58:06.251Z"
   },
   {
    "duration": 49,
    "start_time": "2022-02-07T11:58:06.263Z"
   },
   {
    "duration": 55,
    "start_time": "2022-02-07T11:58:06.314Z"
   },
   {
    "duration": 8,
    "start_time": "2022-02-07T11:58:06.371Z"
   },
   {
    "duration": 12,
    "start_time": "2022-02-07T11:58:06.408Z"
   },
   {
    "duration": 22,
    "start_time": "2022-02-07T11:58:06.422Z"
   },
   {
    "duration": 9,
    "start_time": "2022-02-07T11:58:06.449Z"
   },
   {
    "duration": 46,
    "start_time": "2022-02-07T11:58:06.461Z"
   },
   {
    "duration": 41,
    "start_time": "2022-02-07T11:58:06.509Z"
   },
   {
    "duration": 2,
    "start_time": "2022-02-07T11:58:06.552Z"
   },
   {
    "duration": 17,
    "start_time": "2022-02-07T11:58:06.556Z"
   },
   {
    "duration": 41,
    "start_time": "2022-02-07T11:58:06.575Z"
   },
   {
    "duration": 17,
    "start_time": "2022-02-07T11:58:06.618Z"
   },
   {
    "duration": 13,
    "start_time": "2022-02-07T11:58:06.636Z"
   },
   {
    "duration": 26,
    "start_time": "2022-02-07T11:58:06.651Z"
   },
   {
    "duration": 19,
    "start_time": "2022-02-07T11:58:06.707Z"
   },
   {
    "duration": 15,
    "start_time": "2022-02-07T11:58:06.728Z"
   },
   {
    "duration": 30,
    "start_time": "2022-02-07T11:58:06.745Z"
   },
   {
    "duration": 41,
    "start_time": "2022-02-07T11:58:06.778Z"
   },
   {
    "duration": 15,
    "start_time": "2022-02-07T11:58:06.820Z"
   },
   {
    "duration": 9,
    "start_time": "2022-02-07T11:58:06.838Z"
   },
   {
    "duration": 82,
    "start_time": "2022-02-07T11:58:06.849Z"
   },
   {
    "duration": 25,
    "start_time": "2022-02-07T11:58:06.933Z"
   },
   {
    "duration": 69,
    "start_time": "2022-02-07T11:58:06.960Z"
   },
   {
    "duration": 1125,
    "start_time": "2022-02-07T11:58:07.030Z"
   },
   {
    "duration": 266,
    "start_time": "2022-02-07T11:58:08.157Z"
   },
   {
    "duration": 760,
    "start_time": "2022-02-07T11:58:08.425Z"
   },
   {
    "duration": 676,
    "start_time": "2022-02-07T11:58:09.187Z"
   },
   {
    "duration": 8,
    "start_time": "2022-02-07T11:58:09.865Z"
   },
   {
    "duration": 11,
    "start_time": "2022-02-07T11:58:09.875Z"
   },
   {
    "duration": 32,
    "start_time": "2022-02-07T11:58:09.888Z"
   },
   {
    "duration": 32,
    "start_time": "2022-02-07T11:58:09.922Z"
   },
   {
    "duration": 6,
    "start_time": "2022-02-07T11:58:09.956Z"
   },
   {
    "duration": 1816,
    "start_time": "2022-02-07T20:41:43.822Z"
   },
   {
    "duration": 4,
    "start_time": "2022-02-07T20:41:45.640Z"
   },
   {
    "duration": 840,
    "start_time": "2022-02-07T20:41:45.646Z"
   },
   {
    "duration": 66,
    "start_time": "2022-02-07T20:41:46.489Z"
   },
   {
    "duration": 31,
    "start_time": "2022-02-07T20:41:46.557Z"
   },
   {
    "duration": 29,
    "start_time": "2022-02-07T20:41:46.590Z"
   },
   {
    "duration": 7,
    "start_time": "2022-02-07T20:41:46.621Z"
   },
   {
    "duration": 6,
    "start_time": "2022-02-07T20:41:46.631Z"
   },
   {
    "duration": 11,
    "start_time": "2022-02-07T20:41:46.639Z"
   },
   {
    "duration": 11,
    "start_time": "2022-02-07T20:41:46.652Z"
   },
   {
    "duration": 48,
    "start_time": "2022-02-07T20:41:46.665Z"
   },
   {
    "duration": 18,
    "start_time": "2022-02-07T20:41:46.715Z"
   },
   {
    "duration": 4,
    "start_time": "2022-02-07T20:41:46.735Z"
   },
   {
    "duration": 22,
    "start_time": "2022-02-07T20:41:46.741Z"
   },
   {
    "duration": 5,
    "start_time": "2022-02-07T20:41:46.764Z"
   },
   {
    "duration": 54,
    "start_time": "2022-02-07T20:41:46.771Z"
   },
   {
    "duration": 8,
    "start_time": "2022-02-07T20:41:46.827Z"
   },
   {
    "duration": 20,
    "start_time": "2022-02-07T20:41:46.837Z"
   },
   {
    "duration": 79,
    "start_time": "2022-02-07T20:41:46.859Z"
   },
   {
    "duration": 8,
    "start_time": "2022-02-07T20:41:46.940Z"
   },
   {
    "duration": 14,
    "start_time": "2022-02-07T20:41:46.950Z"
   },
   {
    "duration": 46,
    "start_time": "2022-02-07T20:41:46.966Z"
   },
   {
    "duration": 10,
    "start_time": "2022-02-07T20:41:47.017Z"
   },
   {
    "duration": 17,
    "start_time": "2022-02-07T20:41:47.029Z"
   },
   {
    "duration": 68,
    "start_time": "2022-02-07T20:41:47.048Z"
   },
   {
    "duration": 3,
    "start_time": "2022-02-07T20:41:47.118Z"
   },
   {
    "duration": 18,
    "start_time": "2022-02-07T20:41:47.123Z"
   },
   {
    "duration": 20,
    "start_time": "2022-02-07T20:41:47.144Z"
   },
   {
    "duration": 53,
    "start_time": "2022-02-07T20:41:47.165Z"
   },
   {
    "duration": 12,
    "start_time": "2022-02-07T20:41:47.220Z"
   },
   {
    "duration": 14,
    "start_time": "2022-02-07T20:41:47.234Z"
   },
   {
    "duration": 17,
    "start_time": "2022-02-07T20:41:47.250Z"
   },
   {
    "duration": 49,
    "start_time": "2022-02-07T20:41:47.269Z"
   },
   {
    "duration": 26,
    "start_time": "2022-02-07T20:41:47.320Z"
   },
   {
    "duration": 10,
    "start_time": "2022-02-07T20:41:47.348Z"
   },
   {
    "duration": 10,
    "start_time": "2022-02-07T20:41:47.360Z"
   },
   {
    "duration": 7,
    "start_time": "2022-02-07T20:41:47.372Z"
   },
   {
    "duration": 67,
    "start_time": "2022-02-07T20:41:47.381Z"
   },
   {
    "duration": 23,
    "start_time": "2022-02-07T20:41:47.450Z"
   },
   {
    "duration": 67,
    "start_time": "2022-02-07T20:41:47.475Z"
   },
   {
    "duration": 1061,
    "start_time": "2022-02-07T20:41:47.543Z"
   },
   {
    "duration": 264,
    "start_time": "2022-02-07T20:41:48.606Z"
   },
   {
    "duration": 810,
    "start_time": "2022-02-07T20:41:48.872Z"
   },
   {
    "duration": 670,
    "start_time": "2022-02-07T20:41:49.684Z"
   },
   {
    "duration": 8,
    "start_time": "2022-02-07T20:41:50.356Z"
   },
   {
    "duration": 16,
    "start_time": "2022-02-07T20:41:50.365Z"
   },
   {
    "duration": 30,
    "start_time": "2022-02-07T20:41:50.383Z"
   },
   {
    "duration": 33,
    "start_time": "2022-02-07T20:41:50.414Z"
   },
   {
    "duration": 6,
    "start_time": "2022-02-07T20:41:50.449Z"
   },
   {
    "duration": 5,
    "start_time": "2022-02-07T20:45:46.484Z"
   },
   {
    "duration": 14,
    "start_time": "2022-02-07T20:49:37.578Z"
   },
   {
    "duration": 1567,
    "start_time": "2022-02-08T07:44:24.057Z"
   },
   {
    "duration": 3,
    "start_time": "2022-02-08T07:44:25.625Z"
   },
   {
    "duration": 637,
    "start_time": "2022-02-08T07:44:25.629Z"
   },
   {
    "duration": 38,
    "start_time": "2022-02-08T07:44:26.267Z"
   },
   {
    "duration": 40,
    "start_time": "2022-02-08T07:44:26.307Z"
   },
   {
    "duration": 12,
    "start_time": "2022-02-08T07:44:26.348Z"
   },
   {
    "duration": 7,
    "start_time": "2022-02-08T07:44:26.361Z"
   },
   {
    "duration": 4,
    "start_time": "2022-02-08T07:44:26.370Z"
   },
   {
    "duration": 5,
    "start_time": "2022-02-08T07:44:26.376Z"
   },
   {
    "duration": 48,
    "start_time": "2022-02-08T07:44:26.383Z"
   },
   {
    "duration": 12,
    "start_time": "2022-02-08T07:44:26.432Z"
   },
   {
    "duration": 14,
    "start_time": "2022-02-08T07:44:26.445Z"
   },
   {
    "duration": 3,
    "start_time": "2022-02-08T07:44:26.461Z"
   },
   {
    "duration": 14,
    "start_time": "2022-02-08T07:44:26.466Z"
   },
   {
    "duration": 3,
    "start_time": "2022-02-08T07:44:26.482Z"
   },
   {
    "duration": 50,
    "start_time": "2022-02-08T07:44:26.487Z"
   },
   {
    "duration": 7,
    "start_time": "2022-02-08T07:44:26.538Z"
   },
   {
    "duration": 429,
    "start_time": "2022-02-08T07:44:30.288Z"
   },
   {
    "duration": 15,
    "start_time": "2022-02-08T07:45:07.158Z"
   },
   {
    "duration": 40,
    "start_time": "2022-02-08T07:48:01.407Z"
   },
   {
    "duration": 325,
    "start_time": "2022-02-08T07:51:48.582Z"
   },
   {
    "duration": 61,
    "start_time": "2022-02-08T07:52:47.852Z"
   },
   {
    "duration": 398,
    "start_time": "2022-02-08T07:53:37.591Z"
   },
   {
    "duration": 64,
    "start_time": "2022-02-08T07:53:47.810Z"
   },
   {
    "duration": 29,
    "start_time": "2022-02-08T08:01:14.620Z"
   },
   {
    "duration": 30,
    "start_time": "2022-02-08T08:01:37.478Z"
   },
   {
    "duration": 343,
    "start_time": "2022-02-08T08:04:26.137Z"
   },
   {
    "duration": 31,
    "start_time": "2022-02-08T08:05:44.007Z"
   },
   {
    "duration": 31,
    "start_time": "2022-02-08T08:12:51.692Z"
   },
   {
    "duration": 343,
    "start_time": "2022-02-08T08:16:41.786Z"
   },
   {
    "duration": 12,
    "start_time": "2022-02-08T08:17:05.723Z"
   },
   {
    "duration": 29,
    "start_time": "2022-02-08T08:17:06.624Z"
   },
   {
    "duration": 384,
    "start_time": "2022-02-08T08:18:18.516Z"
   },
   {
    "duration": 3,
    "start_time": "2022-02-08T08:19:47.145Z"
   },
   {
    "duration": 5,
    "start_time": "2022-02-08T08:19:47.151Z"
   },
   {
    "duration": 2708,
    "start_time": "2022-02-08T08:19:47.167Z"
   },
   {
    "duration": 111961,
    "start_time": "2022-02-08T08:17:57.917Z"
   },
   {
    "duration": 111934,
    "start_time": "2022-02-08T08:17:57.945Z"
   },
   {
    "duration": 111929,
    "start_time": "2022-02-08T08:17:57.952Z"
   },
   {
    "duration": 111923,
    "start_time": "2022-02-08T08:17:57.959Z"
   },
   {
    "duration": 111918,
    "start_time": "2022-02-08T08:17:57.966Z"
   },
   {
    "duration": 111913,
    "start_time": "2022-02-08T08:17:57.972Z"
   },
   {
    "duration": 111909,
    "start_time": "2022-02-08T08:17:57.977Z"
   },
   {
    "duration": 111904,
    "start_time": "2022-02-08T08:17:57.984Z"
   },
   {
    "duration": 111900,
    "start_time": "2022-02-08T08:17:57.989Z"
   },
   {
    "duration": 111895,
    "start_time": "2022-02-08T08:17:57.995Z"
   },
   {
    "duration": 111889,
    "start_time": "2022-02-08T08:17:58.003Z"
   },
   {
    "duration": 111885,
    "start_time": "2022-02-08T08:17:58.008Z"
   },
   {
    "duration": 111880,
    "start_time": "2022-02-08T08:17:58.014Z"
   },
   {
    "duration": 111875,
    "start_time": "2022-02-08T08:17:58.020Z"
   },
   {
    "duration": 111871,
    "start_time": "2022-02-08T08:17:58.025Z"
   },
   {
    "duration": 111866,
    "start_time": "2022-02-08T08:17:58.032Z"
   },
   {
    "duration": 111847,
    "start_time": "2022-02-08T08:17:58.052Z"
   },
   {
    "duration": 111827,
    "start_time": "2022-02-08T08:17:58.073Z"
   },
   {
    "duration": 111824,
    "start_time": "2022-02-08T08:17:58.078Z"
   },
   {
    "duration": 111819,
    "start_time": "2022-02-08T08:17:58.084Z"
   },
   {
    "duration": 111815,
    "start_time": "2022-02-08T08:17:58.089Z"
   },
   {
    "duration": 8,
    "start_time": "2022-02-08T08:20:22.220Z"
   },
   {
    "duration": 11,
    "start_time": "2022-02-08T08:20:26.922Z"
   },
   {
    "duration": 22,
    "start_time": "2022-02-08T08:20:28.088Z"
   },
   {
    "duration": 355,
    "start_time": "2022-02-08T08:20:42.195Z"
   },
   {
    "duration": 24,
    "start_time": "2022-02-08T08:21:01.632Z"
   },
   {
    "duration": 2,
    "start_time": "2022-02-08T08:21:58.470Z"
   },
   {
    "duration": 338,
    "start_time": "2022-02-08T08:21:59.088Z"
   },
   {
    "duration": 315,
    "start_time": "2022-02-08T08:24:05.341Z"
   },
   {
    "duration": 4,
    "start_time": "2022-02-08T08:24:41.182Z"
   },
   {
    "duration": 14,
    "start_time": "2022-02-08T08:24:41.886Z"
   },
   {
    "duration": 10,
    "start_time": "2022-02-08T08:26:39.687Z"
   },
   {
    "duration": 27,
    "start_time": "2022-02-08T08:26:40.626Z"
   },
   {
    "duration": 12,
    "start_time": "2022-02-08T08:26:53.166Z"
   },
   {
    "duration": 9,
    "start_time": "2022-02-08T08:27:19.646Z"
   },
   {
    "duration": 23,
    "start_time": "2022-02-08T08:28:18.141Z"
   },
   {
    "duration": 3,
    "start_time": "2022-02-08T08:28:22.146Z"
   },
   {
    "duration": 11,
    "start_time": "2022-02-08T08:28:22.630Z"
   },
   {
    "duration": 9,
    "start_time": "2022-02-08T08:28:24.243Z"
   },
   {
    "duration": 12,
    "start_time": "2022-02-08T08:29:37.608Z"
   },
   {
    "duration": 13,
    "start_time": "2022-02-08T08:30:09.500Z"
   },
   {
    "duration": 3,
    "start_time": "2022-02-08T08:32:21.333Z"
   },
   {
    "duration": 13,
    "start_time": "2022-02-08T08:32:22.223Z"
   },
   {
    "duration": 12,
    "start_time": "2022-02-08T08:32:23.996Z"
   },
   {
    "duration": 12,
    "start_time": "2022-02-08T08:32:29.848Z"
   },
   {
    "duration": 14,
    "start_time": "2022-02-08T08:32:45.830Z"
   },
   {
    "duration": 11,
    "start_time": "2022-02-08T08:33:33.251Z"
   },
   {
    "duration": 22,
    "start_time": "2022-02-08T08:33:34.266Z"
   },
   {
    "duration": 3,
    "start_time": "2022-02-08T08:40:18.246Z"
   },
   {
    "duration": 5,
    "start_time": "2022-02-08T08:40:18.252Z"
   },
   {
    "duration": 671,
    "start_time": "2022-02-08T08:40:18.269Z"
   },
   {
    "duration": 42,
    "start_time": "2022-02-08T08:40:18.941Z"
   },
   {
    "duration": 24,
    "start_time": "2022-02-08T08:40:18.985Z"
   },
   {
    "duration": 24,
    "start_time": "2022-02-08T08:40:19.011Z"
   },
   {
    "duration": 5,
    "start_time": "2022-02-08T08:40:19.036Z"
   },
   {
    "duration": 15,
    "start_time": "2022-02-08T08:40:19.043Z"
   },
   {
    "duration": 7,
    "start_time": "2022-02-08T08:40:19.059Z"
   },
   {
    "duration": 25,
    "start_time": "2022-02-08T08:40:19.068Z"
   },
   {
    "duration": 10,
    "start_time": "2022-02-08T08:40:19.095Z"
   },
   {
    "duration": 22,
    "start_time": "2022-02-08T08:40:19.106Z"
   },
   {
    "duration": 3,
    "start_time": "2022-02-08T08:40:19.129Z"
   },
   {
    "duration": 25,
    "start_time": "2022-02-08T08:40:19.134Z"
   },
   {
    "duration": 3,
    "start_time": "2022-02-08T08:40:19.161Z"
   },
   {
    "duration": 14,
    "start_time": "2022-02-08T08:40:19.165Z"
   },
   {
    "duration": 6,
    "start_time": "2022-02-08T08:40:19.181Z"
   },
   {
    "duration": 45,
    "start_time": "2022-02-08T08:40:19.189Z"
   },
   {
    "duration": 33,
    "start_time": "2022-02-08T08:40:19.235Z"
   },
   {
    "duration": 6,
    "start_time": "2022-02-08T08:40:19.269Z"
   },
   {
    "duration": 14,
    "start_time": "2022-02-08T08:40:19.277Z"
   },
   {
    "duration": 34,
    "start_time": "2022-02-08T08:40:19.293Z"
   },
   {
    "duration": 7,
    "start_time": "2022-02-08T08:40:19.328Z"
   },
   {
    "duration": 16,
    "start_time": "2022-02-08T08:40:19.337Z"
   },
   {
    "duration": 25,
    "start_time": "2022-02-08T08:40:19.356Z"
   },
   {
    "duration": 2,
    "start_time": "2022-02-08T08:40:19.383Z"
   },
   {
    "duration": 16,
    "start_time": "2022-02-08T08:40:19.386Z"
   },
   {
    "duration": 25,
    "start_time": "2022-02-08T08:40:19.403Z"
   },
   {
    "duration": 11,
    "start_time": "2022-02-08T08:40:19.429Z"
   },
   {
    "duration": 11,
    "start_time": "2022-02-08T08:40:19.442Z"
   },
   {
    "duration": 11,
    "start_time": "2022-02-08T08:40:19.454Z"
   },
   {
    "duration": 13,
    "start_time": "2022-02-08T08:40:19.467Z"
   },
   {
    "duration": 49,
    "start_time": "2022-02-08T08:40:19.482Z"
   },
   {
    "duration": 9,
    "start_time": "2022-02-08T08:40:19.532Z"
   },
   {
    "duration": 23,
    "start_time": "2022-02-08T08:40:19.543Z"
   },
   {
    "duration": 7,
    "start_time": "2022-02-08T08:40:19.568Z"
   },
   {
    "duration": 4,
    "start_time": "2022-02-08T08:40:19.577Z"
   },
   {
    "duration": 8,
    "start_time": "2022-02-08T08:40:19.582Z"
   },
   {
    "duration": 67,
    "start_time": "2022-02-08T08:40:19.592Z"
   },
   {
    "duration": 19,
    "start_time": "2022-02-08T08:40:19.661Z"
   },
   {
    "duration": 47,
    "start_time": "2022-02-08T08:40:19.681Z"
   },
   {
    "duration": 884,
    "start_time": "2022-02-08T08:40:19.730Z"
   },
   {
    "duration": 219,
    "start_time": "2022-02-08T08:40:20.616Z"
   },
   {
    "duration": 587,
    "start_time": "2022-02-08T08:44:45.144Z"
   },
   {
    "duration": 505,
    "start_time": "2022-02-08T08:45:22.059Z"
   },
   {
    "duration": 486,
    "start_time": "2022-02-08T08:46:03.678Z"
   },
   {
    "duration": 505,
    "start_time": "2022-02-08T08:46:12.609Z"
   },
   {
    "duration": 31,
    "start_time": "2022-02-08T08:50:37.433Z"
   },
   {
    "duration": 3,
    "start_time": "2022-02-08T09:03:17.422Z"
   },
   {
    "duration": 11,
    "start_time": "2022-02-08T09:03:17.428Z"
   },
   {
    "duration": 684,
    "start_time": "2022-02-08T09:03:17.445Z"
   },
   {
    "duration": 45,
    "start_time": "2022-02-08T09:03:22.018Z"
   },
   {
    "duration": 8,
    "start_time": "2022-02-08T09:04:20.739Z"
   },
   {
    "duration": 327,
    "start_time": "2022-02-08T09:06:10.589Z"
   },
   {
    "duration": 31,
    "start_time": "2022-02-08T09:06:49.721Z"
   },
   {
    "duration": 17,
    "start_time": "2022-02-08T09:07:34.260Z"
   },
   {
    "duration": 3,
    "start_time": "2022-02-08T09:07:46.194Z"
   },
   {
    "duration": 6,
    "start_time": "2022-02-08T09:07:46.200Z"
   },
   {
    "duration": 623,
    "start_time": "2022-02-08T09:07:46.216Z"
   },
   {
    "duration": 38,
    "start_time": "2022-02-08T09:07:46.840Z"
   },
   {
    "duration": 7,
    "start_time": "2022-02-08T09:07:46.880Z"
   },
   {
    "duration": 17,
    "start_time": "2022-02-08T09:07:46.888Z"
   },
   {
    "duration": 16,
    "start_time": "2022-02-08T09:07:50.488Z"
   },
   {
    "duration": 24,
    "start_time": "2022-02-08T09:08:10.624Z"
   },
   {
    "duration": 13,
    "start_time": "2022-02-08T09:12:10.038Z"
   },
   {
    "duration": 24,
    "start_time": "2022-02-08T09:12:10.960Z"
   },
   {
    "duration": 3,
    "start_time": "2022-02-08T09:13:33.803Z"
   },
   {
    "duration": 4,
    "start_time": "2022-02-08T09:13:33.809Z"
   },
   {
    "duration": 768,
    "start_time": "2022-02-08T09:13:33.826Z"
   },
   {
    "duration": 56,
    "start_time": "2022-02-08T09:13:34.595Z"
   },
   {
    "duration": 24,
    "start_time": "2022-02-08T09:13:34.653Z"
   },
   {
    "duration": 9,
    "start_time": "2022-02-08T09:13:34.679Z"
   },
   {
    "duration": 5,
    "start_time": "2022-02-08T09:13:34.690Z"
   },
   {
    "duration": 32,
    "start_time": "2022-02-08T09:13:34.696Z"
   },
   {
    "duration": 15,
    "start_time": "2022-02-08T09:13:34.730Z"
   },
   {
    "duration": 7,
    "start_time": "2022-02-08T09:13:34.747Z"
   },
   {
    "duration": 13,
    "start_time": "2022-02-08T09:13:34.756Z"
   },
   {
    "duration": 19,
    "start_time": "2022-02-08T09:13:34.771Z"
   },
   {
    "duration": 5,
    "start_time": "2022-02-08T09:13:34.799Z"
   },
   {
    "duration": 36,
    "start_time": "2022-02-08T09:13:34.806Z"
   },
   {
    "duration": 4,
    "start_time": "2022-02-08T09:13:34.844Z"
   },
   {
    "duration": 15,
    "start_time": "2022-02-08T09:13:34.850Z"
   },
   {
    "duration": 7,
    "start_time": "2022-02-08T09:13:34.866Z"
   },
   {
    "duration": 14,
    "start_time": "2022-02-08T09:13:34.875Z"
   },
   {
    "duration": 14,
    "start_time": "2022-02-08T09:13:37.048Z"
   },
   {
    "duration": 33,
    "start_time": "2022-02-08T09:13:42.627Z"
   },
   {
    "duration": 3,
    "start_time": "2022-02-08T09:15:54.412Z"
   },
   {
    "duration": 3,
    "start_time": "2022-02-08T09:15:54.419Z"
   },
   {
    "duration": 632,
    "start_time": "2022-02-08T09:15:54.435Z"
   },
   {
    "duration": 38,
    "start_time": "2022-02-08T09:15:55.069Z"
   },
   {
    "duration": 39,
    "start_time": "2022-02-08T09:15:55.109Z"
   },
   {
    "duration": 10,
    "start_time": "2022-02-08T09:15:55.150Z"
   },
   {
    "duration": 4,
    "start_time": "2022-02-08T09:15:55.161Z"
   },
   {
    "duration": 5,
    "start_time": "2022-02-08T09:15:55.167Z"
   },
   {
    "duration": 8,
    "start_time": "2022-02-08T09:15:55.174Z"
   },
   {
    "duration": 8,
    "start_time": "2022-02-08T09:15:55.184Z"
   },
   {
    "duration": 12,
    "start_time": "2022-02-08T09:15:55.193Z"
   },
   {
    "duration": 13,
    "start_time": "2022-02-08T09:15:55.227Z"
   },
   {
    "duration": 3,
    "start_time": "2022-02-08T09:15:55.241Z"
   },
   {
    "duration": 14,
    "start_time": "2022-02-08T09:15:55.246Z"
   },
   {
    "duration": 4,
    "start_time": "2022-02-08T09:15:55.261Z"
   },
   {
    "duration": 14,
    "start_time": "2022-02-08T09:15:55.266Z"
   },
   {
    "duration": 6,
    "start_time": "2022-02-08T09:15:55.281Z"
   },
   {
    "duration": 49,
    "start_time": "2022-02-08T09:15:55.288Z"
   },
   {
    "duration": 32,
    "start_time": "2022-02-08T09:15:55.338Z"
   },
   {
    "duration": 5,
    "start_time": "2022-02-08T09:15:55.372Z"
   },
   {
    "duration": 9,
    "start_time": "2022-02-08T09:15:58.837Z"
   },
   {
    "duration": 21,
    "start_time": "2022-02-08T09:16:50.677Z"
   },
   {
    "duration": 8,
    "start_time": "2022-02-08T09:17:20.795Z"
   },
   {
    "duration": 12,
    "start_time": "2022-02-08T09:17:39.532Z"
   },
   {
    "duration": 34,
    "start_time": "2022-02-08T09:17:41.657Z"
   },
   {
    "duration": 13,
    "start_time": "2022-02-08T09:19:28.160Z"
   },
   {
    "duration": 32,
    "start_time": "2022-02-08T09:19:30.229Z"
   },
   {
    "duration": 3,
    "start_time": "2022-02-08T09:30:40.399Z"
   },
   {
    "duration": 4,
    "start_time": "2022-02-08T09:30:40.405Z"
   },
   {
    "duration": 640,
    "start_time": "2022-02-08T09:30:40.422Z"
   },
   {
    "duration": 39,
    "start_time": "2022-02-08T09:30:41.063Z"
   },
   {
    "duration": 44,
    "start_time": "2022-02-08T09:30:41.104Z"
   },
   {
    "duration": 10,
    "start_time": "2022-02-08T09:30:41.150Z"
   },
   {
    "duration": 4,
    "start_time": "2022-02-08T09:30:41.161Z"
   },
   {
    "duration": 5,
    "start_time": "2022-02-08T09:30:41.167Z"
   },
   {
    "duration": 4,
    "start_time": "2022-02-08T09:30:41.173Z"
   },
   {
    "duration": 10,
    "start_time": "2022-02-08T09:30:41.179Z"
   },
   {
    "duration": 8,
    "start_time": "2022-02-08T09:30:41.191Z"
   },
   {
    "duration": 14,
    "start_time": "2022-02-08T09:30:41.227Z"
   },
   {
    "duration": 3,
    "start_time": "2022-02-08T09:30:41.243Z"
   },
   {
    "duration": 15,
    "start_time": "2022-02-08T09:30:41.247Z"
   },
   {
    "duration": 6,
    "start_time": "2022-02-08T09:30:41.263Z"
   },
   {
    "duration": 15,
    "start_time": "2022-02-08T09:30:41.271Z"
   },
   {
    "duration": 7,
    "start_time": "2022-02-08T09:30:41.287Z"
   },
   {
    "duration": 44,
    "start_time": "2022-02-08T09:30:41.295Z"
   },
   {
    "duration": 34,
    "start_time": "2022-02-08T09:30:41.340Z"
   },
   {
    "duration": 6,
    "start_time": "2022-02-08T09:30:41.375Z"
   },
   {
    "duration": 12,
    "start_time": "2022-02-08T09:30:41.383Z"
   },
   {
    "duration": 36,
    "start_time": "2022-02-08T09:30:41.397Z"
   },
   {
    "duration": 7,
    "start_time": "2022-02-08T09:30:41.434Z"
   },
   {
    "duration": 18,
    "start_time": "2022-02-08T09:30:41.442Z"
   },
   {
    "duration": 34,
    "start_time": "2022-02-08T09:30:41.463Z"
   },
   {
    "duration": 2,
    "start_time": "2022-02-08T09:30:41.499Z"
   },
   {
    "duration": 29,
    "start_time": "2022-02-08T09:30:41.502Z"
   },
   {
    "duration": 8,
    "start_time": "2022-02-08T09:30:41.533Z"
   },
   {
    "duration": 12,
    "start_time": "2022-02-08T09:30:41.543Z"
   },
   {
    "duration": 18,
    "start_time": "2022-02-08T09:30:41.557Z"
   },
   {
    "duration": 9,
    "start_time": "2022-02-08T09:30:41.577Z"
   },
   {
    "duration": 16,
    "start_time": "2022-02-08T09:30:41.587Z"
   },
   {
    "duration": 33,
    "start_time": "2022-02-08T09:30:41.604Z"
   },
   {
    "duration": 8,
    "start_time": "2022-02-08T09:30:41.639Z"
   },
   {
    "duration": 25,
    "start_time": "2022-02-08T09:30:41.648Z"
   },
   {
    "duration": 7,
    "start_time": "2022-02-08T09:30:41.674Z"
   },
   {
    "duration": 4,
    "start_time": "2022-02-08T09:30:41.682Z"
   },
   {
    "duration": 4,
    "start_time": "2022-02-08T09:30:41.688Z"
   },
   {
    "duration": 78,
    "start_time": "2022-02-08T09:30:41.694Z"
   },
   {
    "duration": 4,
    "start_time": "2022-02-08T09:49:19.483Z"
   },
   {
    "duration": 683,
    "start_time": "2022-02-08T09:49:30.261Z"
   },
   {
    "duration": 3,
    "start_time": "2022-02-08T10:21:30.983Z"
   },
   {
    "duration": 4,
    "start_time": "2022-02-08T10:21:32.692Z"
   },
   {
    "duration": 4,
    "start_time": "2022-02-08T10:21:33.082Z"
   },
   {
    "duration": 48,
    "start_time": "2022-02-08T10:21:33.613Z"
   },
   {
    "duration": 686,
    "start_time": "2022-02-08T10:40:30.935Z"
   },
   {
    "duration": 3,
    "start_time": "2022-02-08T10:40:39.745Z"
   },
   {
    "duration": 2,
    "start_time": "2022-02-08T10:40:39.753Z"
   },
   {
    "duration": 661,
    "start_time": "2022-02-08T10:40:39.767Z"
   },
   {
    "duration": 37,
    "start_time": "2022-02-08T10:40:40.430Z"
   },
   {
    "duration": 25,
    "start_time": "2022-02-08T10:40:40.469Z"
   },
   {
    "duration": 31,
    "start_time": "2022-02-08T10:40:40.496Z"
   },
   {
    "duration": 6,
    "start_time": "2022-02-08T10:40:40.529Z"
   },
   {
    "duration": 15,
    "start_time": "2022-02-08T10:40:40.536Z"
   },
   {
    "duration": 11,
    "start_time": "2022-02-08T10:40:40.553Z"
   },
   {
    "duration": 14,
    "start_time": "2022-02-08T10:40:40.566Z"
   },
   {
    "duration": 11,
    "start_time": "2022-02-08T10:40:40.582Z"
   },
   {
    "duration": 15,
    "start_time": "2022-02-08T10:40:40.595Z"
   },
   {
    "duration": 17,
    "start_time": "2022-02-08T10:40:40.612Z"
   },
   {
    "duration": 14,
    "start_time": "2022-02-08T10:40:40.631Z"
   },
   {
    "duration": 4,
    "start_time": "2022-02-08T10:40:40.646Z"
   },
   {
    "duration": 15,
    "start_time": "2022-02-08T10:40:40.651Z"
   },
   {
    "duration": 8,
    "start_time": "2022-02-08T10:40:40.668Z"
   },
   {
    "duration": 20,
    "start_time": "2022-02-08T10:40:40.677Z"
   },
   {
    "duration": 48,
    "start_time": "2022-02-08T10:40:40.726Z"
   },
   {
    "duration": 8,
    "start_time": "2022-02-08T10:40:40.776Z"
   },
   {
    "duration": 16,
    "start_time": "2022-02-08T10:40:40.786Z"
   },
   {
    "duration": 45,
    "start_time": "2022-02-08T10:40:40.803Z"
   },
   {
    "duration": 9,
    "start_time": "2022-02-08T10:40:40.850Z"
   },
   {
    "duration": 15,
    "start_time": "2022-02-08T10:40:40.860Z"
   },
   {
    "duration": 49,
    "start_time": "2022-02-08T10:40:40.878Z"
   },
   {
    "duration": 2,
    "start_time": "2022-02-08T10:40:40.929Z"
   },
   {
    "duration": 15,
    "start_time": "2022-02-08T10:40:40.932Z"
   },
   {
    "duration": 12,
    "start_time": "2022-02-08T10:40:40.948Z"
   },
   {
    "duration": 15,
    "start_time": "2022-02-08T10:40:40.962Z"
   },
   {
    "duration": 12,
    "start_time": "2022-02-08T10:40:40.978Z"
   },
   {
    "duration": 39,
    "start_time": "2022-02-08T10:40:40.991Z"
   },
   {
    "duration": 14,
    "start_time": "2022-02-08T10:40:41.031Z"
   },
   {
    "duration": 12,
    "start_time": "2022-02-08T10:40:41.046Z"
   },
   {
    "duration": 8,
    "start_time": "2022-02-08T10:40:41.060Z"
   },
   {
    "duration": 23,
    "start_time": "2022-02-08T10:40:41.069Z"
   },
   {
    "duration": 9,
    "start_time": "2022-02-08T10:40:41.127Z"
   },
   {
    "duration": 296,
    "start_time": "2022-02-08T10:40:44.406Z"
   },
   {
    "duration": 122,
    "start_time": "2022-02-08T10:41:25.954Z"
   },
   {
    "duration": 101,
    "start_time": "2022-02-08T10:41:46.176Z"
   },
   {
    "duration": 155,
    "start_time": "2022-02-08T10:52:06.872Z"
   },
   {
    "duration": 3,
    "start_time": "2022-02-08T10:53:35.776Z"
   },
   {
    "duration": 13,
    "start_time": "2022-02-08T10:53:35.781Z"
   },
   {
    "duration": 670,
    "start_time": "2022-02-08T10:53:35.798Z"
   },
   {
    "duration": 42,
    "start_time": "2022-02-08T10:53:36.470Z"
   },
   {
    "duration": 33,
    "start_time": "2022-02-08T10:53:36.526Z"
   },
   {
    "duration": 11,
    "start_time": "2022-02-08T10:53:36.562Z"
   },
   {
    "duration": 4,
    "start_time": "2022-02-08T10:53:36.575Z"
   },
   {
    "duration": 4,
    "start_time": "2022-02-08T10:53:36.581Z"
   },
   {
    "duration": 12,
    "start_time": "2022-02-08T10:53:36.587Z"
   },
   {
    "duration": 40,
    "start_time": "2022-02-08T10:53:36.602Z"
   },
   {
    "duration": 13,
    "start_time": "2022-02-08T10:53:36.646Z"
   },
   {
    "duration": 14,
    "start_time": "2022-02-08T10:53:36.660Z"
   },
   {
    "duration": 3,
    "start_time": "2022-02-08T10:53:36.676Z"
   },
   {
    "duration": 51,
    "start_time": "2022-02-08T10:53:36.681Z"
   },
   {
    "duration": 6,
    "start_time": "2022-02-08T10:53:36.738Z"
   },
   {
    "duration": 22,
    "start_time": "2022-02-08T10:53:36.746Z"
   },
   {
    "duration": 7,
    "start_time": "2022-02-08T10:53:36.770Z"
   },
   {
    "duration": 17,
    "start_time": "2022-02-08T10:53:36.778Z"
   },
   {
    "duration": 54,
    "start_time": "2022-02-08T10:53:36.796Z"
   },
   {
    "duration": 7,
    "start_time": "2022-02-08T10:53:36.851Z"
   },
   {
    "duration": 13,
    "start_time": "2022-02-08T10:53:36.859Z"
   },
   {
    "duration": 20,
    "start_time": "2022-02-08T10:53:36.874Z"
   },
   {
    "duration": 7,
    "start_time": "2022-02-08T10:53:36.895Z"
   },
   {
    "duration": 15,
    "start_time": "2022-02-08T10:53:36.929Z"
   },
   {
    "duration": 37,
    "start_time": "2022-02-08T10:53:36.947Z"
   },
   {
    "duration": 2,
    "start_time": "2022-02-08T10:53:36.985Z"
   },
   {
    "duration": 13,
    "start_time": "2022-02-08T10:53:36.989Z"
   },
   {
    "duration": 25,
    "start_time": "2022-02-08T10:53:37.003Z"
   },
   {
    "duration": 20,
    "start_time": "2022-02-08T10:53:37.030Z"
   },
   {
    "duration": 12,
    "start_time": "2022-02-08T10:53:37.052Z"
   },
   {
    "duration": 13,
    "start_time": "2022-02-08T10:53:37.066Z"
   },
   {
    "duration": 19,
    "start_time": "2022-02-08T10:53:37.081Z"
   },
   {
    "duration": 45,
    "start_time": "2022-02-08T10:53:37.101Z"
   },
   {
    "duration": 10,
    "start_time": "2022-02-08T10:53:37.148Z"
   },
   {
    "duration": 23,
    "start_time": "2022-02-08T10:53:37.160Z"
   },
   {
    "duration": 6,
    "start_time": "2022-02-08T10:53:37.184Z"
   },
   {
    "duration": 110,
    "start_time": "2022-02-08T10:53:39.571Z"
   },
   {
    "duration": 3,
    "start_time": "2022-02-08T10:54:04.504Z"
   },
   {
    "duration": 127,
    "start_time": "2022-02-08T11:07:44.396Z"
   },
   {
    "duration": 260,
    "start_time": "2022-02-08T11:08:49.960Z"
   },
   {
    "duration": 113,
    "start_time": "2022-02-08T11:10:46.752Z"
   },
   {
    "duration": 100,
    "start_time": "2022-02-08T11:11:22.251Z"
   },
   {
    "duration": 8,
    "start_time": "2022-02-08T11:11:35.127Z"
   },
   {
    "duration": 116,
    "start_time": "2022-02-08T11:11:48.096Z"
   },
   {
    "duration": 4,
    "start_time": "2022-02-08T11:15:41.839Z"
   },
   {
    "duration": 726,
    "start_time": "2022-02-08T11:15:50.340Z"
   },
   {
    "duration": 85,
    "start_time": "2022-02-08T11:18:30.591Z"
   },
   {
    "duration": 41,
    "start_time": "2022-02-08T11:18:34.645Z"
   },
   {
    "duration": 565,
    "start_time": "2022-02-08T11:23:53.674Z"
   },
   {
    "duration": 103,
    "start_time": "2022-02-08T11:27:41.652Z"
   },
   {
    "duration": 106,
    "start_time": "2022-02-08T11:28:15.477Z"
   },
   {
    "duration": 132,
    "start_time": "2022-02-08T11:28:26.123Z"
   },
   {
    "duration": 140,
    "start_time": "2022-02-08T11:28:30.252Z"
   },
   {
    "duration": 408,
    "start_time": "2022-02-08T11:28:58.141Z"
   },
   {
    "duration": 624,
    "start_time": "2022-02-08T11:29:03.924Z"
   },
   {
    "duration": 619,
    "start_time": "2022-02-08T11:29:33.580Z"
   },
   {
    "duration": 622,
    "start_time": "2022-02-08T11:29:41.920Z"
   },
   {
    "duration": 679,
    "start_time": "2022-02-08T11:29:49.245Z"
   },
   {
    "duration": 393,
    "start_time": "2022-02-08T11:30:56.499Z"
   },
   {
    "duration": 663,
    "start_time": "2022-02-08T11:32:07.692Z"
   },
   {
    "duration": 9046,
    "start_time": "2022-02-08T11:32:25.200Z"
   },
   {
    "duration": 609,
    "start_time": "2022-02-08T11:32:42.972Z"
   },
   {
    "duration": 2454,
    "start_time": "2022-02-08T11:35:34.451Z"
   },
   {
    "duration": 408,
    "start_time": "2022-02-08T11:39:05.648Z"
   },
   {
    "duration": 476,
    "start_time": "2022-02-08T11:39:19.055Z"
   },
   {
    "duration": 430,
    "start_time": "2022-02-08T11:40:11.564Z"
   },
   {
    "duration": 1696,
    "start_time": "2022-02-08T11:40:42.150Z"
   },
   {
    "duration": 2404,
    "start_time": "2022-02-08T11:41:11.009Z"
   },
   {
    "duration": 627,
    "start_time": "2022-02-08T11:42:37.755Z"
   },
   {
    "duration": 597,
    "start_time": "2022-02-08T11:43:51.879Z"
   },
   {
    "duration": 644,
    "start_time": "2022-02-08T11:46:01.455Z"
   },
   {
    "duration": 599,
    "start_time": "2022-02-08T11:46:38.021Z"
   },
   {
    "duration": 790,
    "start_time": "2022-02-08T11:47:25.191Z"
   },
   {
    "duration": 935,
    "start_time": "2022-02-08T11:47:49.164Z"
   },
   {
    "duration": 541,
    "start_time": "2022-02-08T11:48:23.616Z"
   },
   {
    "duration": 616,
    "start_time": "2022-02-08T11:48:53.589Z"
   },
   {
    "duration": 328,
    "start_time": "2022-02-08T11:49:02.373Z"
   },
   {
    "duration": 721,
    "start_time": "2022-02-08T11:50:01.239Z"
   },
   {
    "duration": 614,
    "start_time": "2022-02-08T11:50:49.945Z"
   },
   {
    "duration": 1258,
    "start_time": "2022-02-08T11:51:15.676Z"
   },
   {
    "duration": 1356,
    "start_time": "2022-02-08T11:51:35.882Z"
   },
   {
    "duration": 694,
    "start_time": "2022-02-08T11:51:50.700Z"
   },
   {
    "duration": 563,
    "start_time": "2022-02-08T11:53:44.451Z"
   },
   {
    "duration": 1107,
    "start_time": "2022-02-08T11:54:14.970Z"
   },
   {
    "duration": 1487,
    "start_time": "2022-02-08T11:54:42.755Z"
   },
   {
    "duration": 1241,
    "start_time": "2022-02-08T11:55:06.787Z"
   },
   {
    "duration": 1124,
    "start_time": "2022-02-08T11:55:14.139Z"
   },
   {
    "duration": 891,
    "start_time": "2022-02-08T11:55:41.107Z"
   },
   {
    "duration": 1202,
    "start_time": "2022-02-08T11:56:07.586Z"
   },
   {
    "duration": 1010,
    "start_time": "2022-02-08T11:56:29.472Z"
   },
   {
    "duration": 116,
    "start_time": "2022-02-08T11:56:40.034Z"
   },
   {
    "duration": 832,
    "start_time": "2022-02-08T11:56:55.918Z"
   },
   {
    "duration": 768,
    "start_time": "2022-02-08T11:57:03.822Z"
   },
   {
    "duration": 926,
    "start_time": "2022-02-08T11:57:14.694Z"
   },
   {
    "duration": 922,
    "start_time": "2022-02-08T11:57:29.642Z"
   },
   {
    "duration": 704,
    "start_time": "2022-02-08T12:25:20.835Z"
   },
   {
    "duration": 4,
    "start_time": "2022-02-08T12:25:41.542Z"
   },
   {
    "duration": 3,
    "start_time": "2022-02-08T12:25:42.089Z"
   },
   {
    "duration": 43,
    "start_time": "2022-02-08T12:25:44.089Z"
   },
   {
    "duration": 24,
    "start_time": "2022-02-08T12:25:47.269Z"
   },
   {
    "duration": 43,
    "start_time": "2022-02-08T12:25:51.494Z"
   },
   {
    "duration": 976,
    "start_time": "2022-02-08T12:25:52.374Z"
   },
   {
    "duration": 515,
    "start_time": "2022-02-08T12:25:53.352Z"
   },
   {
    "duration": 692,
    "start_time": "2022-02-08T12:25:54.069Z"
   },
   {
    "duration": 570,
    "start_time": "2022-02-08T12:25:58.025Z"
   },
   {
    "duration": 881,
    "start_time": "2022-02-08T12:26:17.675Z"
   },
   {
    "duration": 687,
    "start_time": "2022-02-08T12:26:30.789Z"
   },
   {
    "duration": 2339,
    "start_time": "2022-02-08T12:35:15.362Z"
   },
   {
    "duration": 876,
    "start_time": "2022-02-08T12:36:17.497Z"
   },
   {
    "duration": 945,
    "start_time": "2022-02-08T12:36:43.771Z"
   },
   {
    "duration": 473,
    "start_time": "2022-02-08T12:37:03.911Z"
   },
   {
    "duration": 815,
    "start_time": "2022-02-08T12:37:24.788Z"
   },
   {
    "duration": 369,
    "start_time": "2022-02-08T12:37:31.760Z"
   },
   {
    "duration": 101,
    "start_time": "2022-02-08T12:44:17.906Z"
   },
   {
    "duration": 116,
    "start_time": "2022-02-08T12:46:54.852Z"
   },
   {
    "duration": 3,
    "start_time": "2022-02-08T12:54:11.862Z"
   },
   {
    "duration": 1011,
    "start_time": "2022-02-08T12:54:22.806Z"
   },
   {
    "duration": 1013,
    "start_time": "2022-02-08T13:03:21.130Z"
   },
   {
    "duration": 821,
    "start_time": "2022-02-08T13:05:00.860Z"
   },
   {
    "duration": 41,
    "start_time": "2022-02-08T13:11:17.082Z"
   },
   {
    "duration": 386,
    "start_time": "2022-02-08T13:11:34.075Z"
   },
   {
    "duration": 831,
    "start_time": "2022-02-08T13:47:07.891Z"
   },
   {
    "duration": 730,
    "start_time": "2022-02-08T13:47:18.892Z"
   },
   {
    "duration": 414,
    "start_time": "2022-02-08T13:47:45.328Z"
   },
   {
    "duration": 4,
    "start_time": "2022-02-08T14:01:16.390Z"
   },
   {
    "duration": 1022,
    "start_time": "2022-02-08T14:01:20.763Z"
   },
   {
    "duration": 26,
    "start_time": "2022-02-08T14:07:29.832Z"
   },
   {
    "duration": 8,
    "start_time": "2022-02-08T14:07:38.074Z"
   },
   {
    "duration": 4,
    "start_time": "2022-02-08T14:08:46.110Z"
   },
   {
    "duration": 861,
    "start_time": "2022-02-08T14:08:50.525Z"
   },
   {
    "duration": 1429,
    "start_time": "2022-02-08T16:17:16.328Z"
   },
   {
    "duration": 2,
    "start_time": "2022-02-08T16:17:17.759Z"
   },
   {
    "duration": 1382,
    "start_time": "2022-02-08T16:17:17.763Z"
   },
   {
    "duration": 39,
    "start_time": "2022-02-08T16:17:19.147Z"
   },
   {
    "duration": 50,
    "start_time": "2022-02-08T16:17:19.188Z"
   },
   {
    "duration": 11,
    "start_time": "2022-02-08T16:17:19.240Z"
   },
   {
    "duration": 12,
    "start_time": "2022-02-08T16:17:19.252Z"
   },
   {
    "duration": 4,
    "start_time": "2022-02-08T16:17:19.267Z"
   },
   {
    "duration": 5,
    "start_time": "2022-02-08T16:17:19.274Z"
   },
   {
    "duration": 10,
    "start_time": "2022-02-08T16:17:19.281Z"
   },
   {
    "duration": 39,
    "start_time": "2022-02-08T16:17:19.293Z"
   },
   {
    "duration": 13,
    "start_time": "2022-02-08T16:17:19.334Z"
   },
   {
    "duration": 4,
    "start_time": "2022-02-08T16:17:19.348Z"
   },
   {
    "duration": 14,
    "start_time": "2022-02-08T16:17:19.353Z"
   },
   {
    "duration": 3,
    "start_time": "2022-02-08T16:17:19.369Z"
   },
   {
    "duration": 21,
    "start_time": "2022-02-08T16:17:19.374Z"
   },
   {
    "duration": 38,
    "start_time": "2022-02-08T16:17:19.396Z"
   },
   {
    "duration": 15,
    "start_time": "2022-02-08T16:17:19.435Z"
   },
   {
    "duration": 34,
    "start_time": "2022-02-08T16:17:19.451Z"
   },
   {
    "duration": 6,
    "start_time": "2022-02-08T16:17:19.486Z"
   },
   {
    "duration": 35,
    "start_time": "2022-02-08T16:17:19.494Z"
   },
   {
    "duration": 19,
    "start_time": "2022-02-08T16:17:19.530Z"
   },
   {
    "duration": 6,
    "start_time": "2022-02-08T16:17:19.553Z"
   },
   {
    "duration": 15,
    "start_time": "2022-02-08T16:17:19.561Z"
   },
   {
    "duration": 53,
    "start_time": "2022-02-08T16:17:19.577Z"
   },
   {
    "duration": 2,
    "start_time": "2022-02-08T16:17:19.631Z"
   },
   {
    "duration": 12,
    "start_time": "2022-02-08T16:17:19.635Z"
   },
   {
    "duration": 9,
    "start_time": "2022-02-08T16:17:19.648Z"
   },
   {
    "duration": 14,
    "start_time": "2022-02-08T16:17:19.658Z"
   },
   {
    "duration": 18,
    "start_time": "2022-02-08T16:17:19.674Z"
   },
   {
    "duration": 44,
    "start_time": "2022-02-08T16:17:19.693Z"
   },
   {
    "duration": 16,
    "start_time": "2022-02-08T16:17:19.739Z"
   },
   {
    "duration": 14,
    "start_time": "2022-02-08T16:17:19.756Z"
   },
   {
    "duration": 13,
    "start_time": "2022-02-08T16:17:19.772Z"
   },
   {
    "duration": 56,
    "start_time": "2022-02-08T16:17:19.786Z"
   },
   {
    "duration": 10,
    "start_time": "2022-02-08T16:17:19.844Z"
   },
   {
    "duration": 5,
    "start_time": "2022-02-08T16:17:19.856Z"
   },
   {
    "duration": 5,
    "start_time": "2022-02-08T16:17:19.862Z"
   },
   {
    "duration": 62,
    "start_time": "2022-02-08T16:17:19.869Z"
   },
   {
    "duration": 22,
    "start_time": "2022-02-08T16:17:19.933Z"
   },
   {
    "duration": 40,
    "start_time": "2022-02-08T16:17:19.956Z"
   },
   {
    "duration": 982,
    "start_time": "2022-02-08T16:17:19.997Z"
   },
   {
    "duration": 631,
    "start_time": "2022-02-08T16:17:20.981Z"
   },
   {
    "duration": 531,
    "start_time": "2022-02-08T16:17:21.614Z"
   },
   {
    "duration": 401,
    "start_time": "2022-02-08T16:17:22.146Z"
   },
   {
    "duration": 6,
    "start_time": "2022-02-08T16:17:22.549Z"
   },
   {
    "duration": 9,
    "start_time": "2022-02-08T16:17:22.556Z"
   },
   {
    "duration": 16,
    "start_time": "2022-02-08T16:17:22.567Z"
   },
   {
    "duration": 50,
    "start_time": "2022-02-08T16:17:22.584Z"
   },
   {
    "duration": 5,
    "start_time": "2022-02-08T16:17:22.635Z"
   },
   {
    "duration": 3,
    "start_time": "2022-02-08T17:12:14.237Z"
   },
   {
    "duration": 5,
    "start_time": "2022-02-08T17:12:14.242Z"
   },
   {
    "duration": 646,
    "start_time": "2022-02-08T17:12:14.249Z"
   },
   {
    "duration": 63,
    "start_time": "2022-02-08T17:12:14.897Z"
   },
   {
    "duration": 26,
    "start_time": "2022-02-08T17:12:14.961Z"
   },
   {
    "duration": 10,
    "start_time": "2022-02-08T17:12:14.989Z"
   },
   {
    "duration": 29,
    "start_time": "2022-02-08T17:12:15.001Z"
   },
   {
    "duration": 7,
    "start_time": "2022-02-08T17:12:15.032Z"
   },
   {
    "duration": 8,
    "start_time": "2022-02-08T17:12:15.040Z"
   },
   {
    "duration": 14,
    "start_time": "2022-02-08T17:12:15.050Z"
   },
   {
    "duration": 11,
    "start_time": "2022-02-08T17:12:15.065Z"
   },
   {
    "duration": 14,
    "start_time": "2022-02-08T17:12:15.077Z"
   },
   {
    "duration": 3,
    "start_time": "2022-02-08T17:12:15.092Z"
   },
   {
    "duration": 34,
    "start_time": "2022-02-08T17:12:15.097Z"
   },
   {
    "duration": 3,
    "start_time": "2022-02-08T17:12:15.132Z"
   },
   {
    "duration": 14,
    "start_time": "2022-02-08T17:12:15.137Z"
   },
   {
    "duration": 6,
    "start_time": "2022-02-08T17:12:15.152Z"
   },
   {
    "duration": 15,
    "start_time": "2022-02-08T17:12:15.159Z"
   },
   {
    "duration": 59,
    "start_time": "2022-02-08T17:12:15.177Z"
   },
   {
    "duration": 6,
    "start_time": "2022-02-08T17:12:15.238Z"
   },
   {
    "duration": 10,
    "start_time": "2022-02-08T17:12:15.245Z"
   },
   {
    "duration": 20,
    "start_time": "2022-02-08T17:12:15.257Z"
   },
   {
    "duration": 6,
    "start_time": "2022-02-08T17:12:15.278Z"
   },
   {
    "duration": 12,
    "start_time": "2022-02-08T17:12:15.286Z"
   },
   {
    "duration": 57,
    "start_time": "2022-02-08T17:12:15.300Z"
   },
   {
    "duration": 3,
    "start_time": "2022-02-08T17:12:15.359Z"
   },
   {
    "duration": 12,
    "start_time": "2022-02-08T17:12:15.363Z"
   },
   {
    "duration": 10,
    "start_time": "2022-02-08T17:12:15.377Z"
   },
   {
    "duration": 45,
    "start_time": "2022-02-08T17:12:15.388Z"
   },
   {
    "duration": 12,
    "start_time": "2022-02-08T17:12:15.435Z"
   },
   {
    "duration": 10,
    "start_time": "2022-02-08T17:12:15.448Z"
   },
   {
    "duration": 12,
    "start_time": "2022-02-08T17:12:15.459Z"
   },
   {
    "duration": 12,
    "start_time": "2022-02-08T17:12:15.473Z"
   },
   {
    "duration": 8,
    "start_time": "2022-02-08T17:12:15.486Z"
   },
   {
    "duration": 53,
    "start_time": "2022-02-08T17:12:15.495Z"
   },
   {
    "duration": 6,
    "start_time": "2022-02-08T17:12:15.550Z"
   },
   {
    "duration": 4,
    "start_time": "2022-02-08T17:12:18.673Z"
   },
   {
    "duration": 4,
    "start_time": "2022-02-08T17:12:21.673Z"
   },
   {
    "duration": 1015,
    "start_time": "2022-02-08T17:12:25.903Z"
   },
   {
    "duration": 3,
    "start_time": "2022-02-08T17:27:34.589Z"
   },
   {
    "duration": 5,
    "start_time": "2022-02-08T17:27:34.594Z"
   },
   {
    "duration": 666,
    "start_time": "2022-02-08T17:27:34.601Z"
   },
   {
    "duration": 43,
    "start_time": "2022-02-08T17:27:35.269Z"
   },
   {
    "duration": 38,
    "start_time": "2022-02-08T17:27:35.314Z"
   },
   {
    "duration": 11,
    "start_time": "2022-02-08T17:27:35.353Z"
   },
   {
    "duration": 5,
    "start_time": "2022-02-08T17:27:35.366Z"
   },
   {
    "duration": 7,
    "start_time": "2022-02-08T17:27:35.373Z"
   },
   {
    "duration": 6,
    "start_time": "2022-02-08T17:27:35.382Z"
   },
   {
    "duration": 8,
    "start_time": "2022-02-08T17:27:35.390Z"
   },
   {
    "duration": 35,
    "start_time": "2022-02-08T17:27:35.400Z"
   },
   {
    "duration": 16,
    "start_time": "2022-02-08T17:27:35.437Z"
   },
   {
    "duration": 4,
    "start_time": "2022-02-08T17:27:35.454Z"
   },
   {
    "duration": 13,
    "start_time": "2022-02-08T17:27:35.459Z"
   },
   {
    "duration": 3,
    "start_time": "2022-02-08T17:27:35.474Z"
   },
   {
    "duration": 50,
    "start_time": "2022-02-08T17:27:35.478Z"
   },
   {
    "duration": 7,
    "start_time": "2022-02-08T17:27:35.529Z"
   },
   {
    "duration": 14,
    "start_time": "2022-02-08T17:27:35.537Z"
   },
   {
    "duration": 36,
    "start_time": "2022-02-08T17:27:35.553Z"
   },
   {
    "duration": 6,
    "start_time": "2022-02-08T17:27:35.591Z"
   },
   {
    "duration": 31,
    "start_time": "2022-02-08T17:27:35.599Z"
   },
   {
    "duration": 21,
    "start_time": "2022-02-08T17:27:35.632Z"
   },
   {
    "duration": 6,
    "start_time": "2022-02-08T17:27:35.655Z"
   },
   {
    "duration": 12,
    "start_time": "2022-02-08T17:27:35.663Z"
   },
   {
    "duration": 54,
    "start_time": "2022-02-08T17:27:35.677Z"
   },
   {
    "duration": 3,
    "start_time": "2022-02-08T17:27:35.732Z"
   },
   {
    "duration": 18,
    "start_time": "2022-02-08T17:27:35.736Z"
   },
   {
    "duration": 9,
    "start_time": "2022-02-08T17:27:35.756Z"
   },
   {
    "duration": 12,
    "start_time": "2022-02-08T17:27:35.766Z"
   },
   {
    "duration": 13,
    "start_time": "2022-02-08T17:27:35.779Z"
   },
   {
    "duration": 38,
    "start_time": "2022-02-08T17:27:35.793Z"
   },
   {
    "duration": 13,
    "start_time": "2022-02-08T17:27:35.833Z"
   },
   {
    "duration": 12,
    "start_time": "2022-02-08T17:27:35.847Z"
   },
   {
    "duration": 10,
    "start_time": "2022-02-08T17:27:35.861Z"
   },
   {
    "duration": 26,
    "start_time": "2022-02-08T17:27:35.872Z"
   },
   {
    "duration": 29,
    "start_time": "2022-02-08T17:27:35.899Z"
   },
   {
    "duration": 111,
    "start_time": "2022-02-08T17:27:35.929Z"
   },
   {
    "duration": -750,
    "start_time": "2022-02-08T17:27:36.791Z"
   },
   {
    "duration": 194,
    "start_time": "2022-02-08T17:27:36.904Z"
   },
   {
    "duration": 4,
    "start_time": "2022-02-08T17:28:18.652Z"
   },
   {
    "duration": 3,
    "start_time": "2022-02-08T17:28:20.552Z"
   },
   {
    "duration": 46,
    "start_time": "2022-02-08T17:28:22.430Z"
   },
   {
    "duration": 42,
    "start_time": "2022-02-08T17:28:39.539Z"
   },
   {
    "duration": 22,
    "start_time": "2022-02-08T17:28:47.116Z"
   },
   {
    "duration": 40,
    "start_time": "2022-02-08T17:29:06.341Z"
   },
   {
    "duration": 938,
    "start_time": "2022-02-08T17:29:09.478Z"
   },
   {
    "duration": 499,
    "start_time": "2022-02-08T17:29:10.960Z"
   },
   {
    "duration": 501,
    "start_time": "2022-02-08T17:29:16.151Z"
   },
   {
    "duration": 1776,
    "start_time": "2022-02-08T17:33:55.302Z"
   },
   {
    "duration": 3,
    "start_time": "2022-02-08T17:33:57.081Z"
   },
   {
    "duration": 1011,
    "start_time": "2022-02-08T17:33:57.086Z"
   },
   {
    "duration": 78,
    "start_time": "2022-02-08T17:33:58.099Z"
   },
   {
    "duration": 67,
    "start_time": "2022-02-08T17:33:58.179Z"
   },
   {
    "duration": 10,
    "start_time": "2022-02-08T17:33:58.248Z"
   },
   {
    "duration": 8,
    "start_time": "2022-02-08T17:33:58.260Z"
   },
   {
    "duration": 4,
    "start_time": "2022-02-08T17:33:58.271Z"
   },
   {
    "duration": 5,
    "start_time": "2022-02-08T17:33:58.277Z"
   },
   {
    "duration": 8,
    "start_time": "2022-02-08T17:33:58.283Z"
   },
   {
    "duration": 10,
    "start_time": "2022-02-08T17:33:58.293Z"
   },
   {
    "duration": 14,
    "start_time": "2022-02-08T17:33:58.304Z"
   },
   {
    "duration": 8,
    "start_time": "2022-02-08T17:33:58.320Z"
   },
   {
    "duration": 13,
    "start_time": "2022-02-08T17:33:58.329Z"
   },
   {
    "duration": 3,
    "start_time": "2022-02-08T17:33:58.344Z"
   },
   {
    "duration": 13,
    "start_time": "2022-02-08T17:33:58.349Z"
   },
   {
    "duration": 7,
    "start_time": "2022-02-08T17:33:58.364Z"
   },
   {
    "duration": 15,
    "start_time": "2022-02-08T17:33:58.372Z"
   },
   {
    "duration": 45,
    "start_time": "2022-02-08T17:33:58.389Z"
   },
   {
    "duration": 8,
    "start_time": "2022-02-08T17:33:58.436Z"
   },
   {
    "duration": 10,
    "start_time": "2022-02-08T17:33:58.445Z"
   },
   {
    "duration": 20,
    "start_time": "2022-02-08T17:33:58.457Z"
   },
   {
    "duration": 7,
    "start_time": "2022-02-08T17:33:58.480Z"
   },
   {
    "duration": 12,
    "start_time": "2022-02-08T17:33:58.489Z"
   },
   {
    "duration": 45,
    "start_time": "2022-02-08T17:33:58.502Z"
   },
   {
    "duration": 2,
    "start_time": "2022-02-08T17:33:58.549Z"
   },
   {
    "duration": 16,
    "start_time": "2022-02-08T17:33:58.553Z"
   },
   {
    "duration": 9,
    "start_time": "2022-02-08T17:33:58.570Z"
   },
   {
    "duration": 12,
    "start_time": "2022-02-08T17:33:58.581Z"
   },
   {
    "duration": 12,
    "start_time": "2022-02-08T17:33:58.595Z"
   },
   {
    "duration": 11,
    "start_time": "2022-02-08T17:33:58.608Z"
   },
   {
    "duration": 15,
    "start_time": "2022-02-08T17:33:58.621Z"
   },
   {
    "duration": 11,
    "start_time": "2022-02-08T17:33:58.638Z"
   },
   {
    "duration": 8,
    "start_time": "2022-02-08T17:33:58.651Z"
   },
   {
    "duration": 25,
    "start_time": "2022-02-08T17:33:58.660Z"
   },
   {
    "duration": 6,
    "start_time": "2022-02-08T17:33:58.687Z"
   },
   {
    "duration": 4,
    "start_time": "2022-02-08T17:33:58.695Z"
   },
   {
    "duration": 4,
    "start_time": "2022-02-08T17:33:58.700Z"
   },
   {
    "duration": 47,
    "start_time": "2022-02-08T17:33:58.706Z"
   },
   {
    "duration": 21,
    "start_time": "2022-02-08T17:33:58.754Z"
   },
   {
    "duration": 41,
    "start_time": "2022-02-08T17:33:58.776Z"
   },
   {
    "duration": 1055,
    "start_time": "2022-02-08T17:33:58.818Z"
   },
   {
    "duration": 625,
    "start_time": "2022-02-08T17:33:59.927Z"
   },
   {
    "duration": 533,
    "start_time": "2022-02-08T17:34:00.554Z"
   },
   {
    "duration": 427,
    "start_time": "2022-02-08T17:34:01.089Z"
   },
   {
    "duration": 11,
    "start_time": "2022-02-08T17:34:01.518Z"
   },
   {
    "duration": 19,
    "start_time": "2022-02-08T17:34:01.531Z"
   },
   {
    "duration": 25,
    "start_time": "2022-02-08T17:34:01.552Z"
   },
   {
    "duration": 40,
    "start_time": "2022-02-08T17:34:01.579Z"
   },
   {
    "duration": 7,
    "start_time": "2022-02-08T17:34:01.627Z"
   },
   {
    "duration": 1496,
    "start_time": "2022-02-08T22:05:47.807Z"
   },
   {
    "duration": 3,
    "start_time": "2022-02-08T22:05:49.305Z"
   },
   {
    "duration": 703,
    "start_time": "2022-02-08T22:05:49.310Z"
   },
   {
    "duration": 45,
    "start_time": "2022-02-08T22:05:50.015Z"
   },
   {
    "duration": 50,
    "start_time": "2022-02-08T22:05:50.062Z"
   },
   {
    "duration": 11,
    "start_time": "2022-02-08T22:05:50.113Z"
   },
   {
    "duration": 5,
    "start_time": "2022-02-08T22:05:50.126Z"
   },
   {
    "duration": 4,
    "start_time": "2022-02-08T22:05:50.134Z"
   },
   {
    "duration": 5,
    "start_time": "2022-02-08T22:05:50.140Z"
   },
   {
    "duration": 9,
    "start_time": "2022-02-08T22:05:50.147Z"
   },
   {
    "duration": 10,
    "start_time": "2022-02-08T22:05:50.157Z"
   },
   {
    "duration": 17,
    "start_time": "2022-02-08T22:05:50.212Z"
   },
   {
    "duration": 4,
    "start_time": "2022-02-08T22:05:50.230Z"
   },
   {
    "duration": 17,
    "start_time": "2022-02-08T22:05:50.235Z"
   },
   {
    "duration": 4,
    "start_time": "2022-02-08T22:05:50.254Z"
   },
   {
    "duration": 57,
    "start_time": "2022-02-08T22:05:50.259Z"
   },
   {
    "duration": 8,
    "start_time": "2022-02-08T22:05:50.317Z"
   },
   {
    "duration": 16,
    "start_time": "2022-02-08T22:05:50.327Z"
   },
   {
    "duration": 38,
    "start_time": "2022-02-08T22:05:50.345Z"
   },
   {
    "duration": 33,
    "start_time": "2022-02-08T22:05:50.384Z"
   },
   {
    "duration": 12,
    "start_time": "2022-02-08T22:05:50.418Z"
   },
   {
    "duration": 26,
    "start_time": "2022-02-08T22:05:50.432Z"
   },
   {
    "duration": 7,
    "start_time": "2022-02-08T22:05:50.461Z"
   },
   {
    "duration": 46,
    "start_time": "2022-02-08T22:05:50.470Z"
   },
   {
    "duration": 36,
    "start_time": "2022-02-08T22:05:50.518Z"
   },
   {
    "duration": 2,
    "start_time": "2022-02-08T22:05:50.556Z"
   },
   {
    "duration": 15,
    "start_time": "2022-02-08T22:05:50.559Z"
   },
   {
    "duration": 10,
    "start_time": "2022-02-08T22:05:50.575Z"
   },
   {
    "duration": 37,
    "start_time": "2022-02-08T22:05:50.586Z"
   },
   {
    "duration": 16,
    "start_time": "2022-02-08T22:05:50.624Z"
   },
   {
    "duration": 12,
    "start_time": "2022-02-08T22:05:50.642Z"
   },
   {
    "duration": 14,
    "start_time": "2022-02-08T22:05:50.656Z"
   },
   {
    "duration": 46,
    "start_time": "2022-02-08T22:05:50.672Z"
   },
   {
    "duration": 9,
    "start_time": "2022-02-08T22:05:50.720Z"
   },
   {
    "duration": 26,
    "start_time": "2022-02-08T22:05:50.731Z"
   },
   {
    "duration": 7,
    "start_time": "2022-02-08T22:05:50.758Z"
   },
   {
    "duration": 4,
    "start_time": "2022-02-08T22:05:50.767Z"
   },
   {
    "duration": 6,
    "start_time": "2022-02-08T22:05:50.772Z"
   },
   {
    "duration": 48,
    "start_time": "2022-02-08T22:05:50.813Z"
   },
   {
    "duration": 24,
    "start_time": "2022-02-08T22:05:50.863Z"
   },
   {
    "duration": 66,
    "start_time": "2022-02-08T22:05:50.888Z"
   },
   {
    "duration": 1056,
    "start_time": "2022-02-08T22:05:50.956Z"
   },
   {
    "duration": 697,
    "start_time": "2022-02-08T22:05:52.013Z"
   },
   {
    "duration": 640,
    "start_time": "2022-02-08T22:05:52.712Z"
   },
   {
    "duration": 500,
    "start_time": "2022-02-08T22:05:53.354Z"
   },
   {
    "duration": 6,
    "start_time": "2022-02-08T22:05:53.856Z"
   },
   {
    "duration": 9,
    "start_time": "2022-02-08T22:05:53.864Z"
   },
   {
    "duration": 18,
    "start_time": "2022-02-08T22:05:53.875Z"
   },
   {
    "duration": 35,
    "start_time": "2022-02-08T22:05:53.913Z"
   },
   {
    "duration": 6,
    "start_time": "2022-02-08T22:05:53.949Z"
   },
   {
    "duration": 81,
    "start_time": "2022-02-17T06:52:57.426Z"
   },
   {
    "duration": 8017,
    "start_time": "2022-02-17T06:53:07.924Z"
   },
   {
    "duration": 1699,
    "start_time": "2022-02-17T06:55:51.149Z"
   },
   {
    "duration": 11,
    "start_time": "2022-02-17T06:56:00.250Z"
   },
   {
    "duration": 4,
    "start_time": "2022-02-17T06:56:58.375Z"
   },
   {
    "duration": 3,
    "start_time": "2022-02-17T06:56:58.383Z"
   },
   {
    "duration": 654,
    "start_time": "2022-02-17T06:56:58.398Z"
   },
   {
    "duration": 44,
    "start_time": "2022-02-17T06:56:59.120Z"
   },
   {
    "duration": 53,
    "start_time": "2022-02-17T06:56:59.166Z"
   },
   {
    "duration": 11,
    "start_time": "2022-02-17T06:56:59.222Z"
   },
   {
    "duration": 85,
    "start_time": "2022-02-17T06:58:01.788Z"
   }
  ],
  "kernelspec": {
   "display_name": "Python 3 (ipykernel)",
   "language": "python",
   "name": "python3"
  },
  "language_info": {
   "codemirror_mode": {
    "name": "ipython",
    "version": 3
   },
   "file_extension": ".py",
   "mimetype": "text/x-python",
   "name": "python",
   "nbconvert_exporter": "python",
   "pygments_lexer": "ipython3",
   "version": "3.9.5"
  },
  "toc": {
   "base_numbering": 1,
   "nav_menu": {},
   "number_sections": true,
   "sideBar": true,
   "skip_h1_title": true,
   "title_cell": "Table of Contents",
   "title_sidebar": "Contents",
   "toc_cell": true,
   "toc_position": {
    "height": "calc(100% - 180px)",
    "left": "10px",
    "top": "150px",
    "width": "281.875px"
   },
   "toc_section_display": true,
   "toc_window_display": true
  }
 },
 "nbformat": 4,
 "nbformat_minor": 2
}
