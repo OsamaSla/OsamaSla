{
 "cells": [
  {
   "cell_type": "markdown",
   "id": "rotary-expansion",
   "metadata": {},
   "source": [
    "# Final Project: Retail Data Analysis (by Osama Slaieh)"
   ]
  },
  {
   "cell_type": "markdown",
   "id": "clear-silly",
   "metadata": {},
   "source": [
    "##  Project Description\n",
    "\n",
    "Assess the performance of the chain's sales outlets.\n",
    "\n",
    "- Carry out exploratory data analysis\n",
    "- Assess the performance of the sales outlets\n",
    "- Test statistical hypotheses\n",
    "- Optional: visualize your findings"
   ]
  },
  {
   "cell_type": "markdown",
   "id": "forbidden-suggestion",
   "metadata": {},
   "source": [
    "The goal of this project is to assess the performance of the retail chain's sales outlets and draw conclusions based on the results. The following questions will be answered: Which stores were most successful? Does the loyalty program have an effect on profitability? Which customers spent the most and at which stores? \n",
    "\n",
    "Following this report, Home World will have a better understanding of their customer base, the performance of their chain's sales outlets on a store by store basis, what times of year they can expect to have the highest sales and whether or not the loyalty program has been a success. \n"
   ]
  },
  {
   "cell_type": "markdown",
   "id": "finite-extension",
   "metadata": {},
   "source": [
    "Table of Contents:\n",
    "\n",
    "<a href='#Step 1 Download the Data and Import Libraries'>Step 1 Download the Data and Import Libraries</a>\n",
    "\n",
    "<a href='#Step 2 Data Preprocessing'>Step 2 Data Preprocessing</a>\n",
    "\n",
    "<a href='#Step 3 Exploratory Data Analysis'>Step 3 Exploratory Data Analysis</a>\n",
    "\n",
    "<a href='#Step 4 Assess the Performance of the Sales Outlets'>Step 4 Assess the Performance of the Sales Outlets</a>\n",
    "\n",
    "<a href='#Step 5 Test Statistical Hypotheses'>Step 5 Test Statistical Hypotheses</a>\n",
    "\n",
    "<a href='#Step 6 Conclusions and Recommendations'>Step 6 Conclusions and Recommendations</a>"
   ]
  },
  {
   "cell_type": "markdown",
   "id": "informative-karma",
   "metadata": {},
   "source": [
    "## Step 1 Download the Data and Import Libraries"
   ]
  },
  {
   "cell_type": "markdown",
   "id": "electrical-tours",
   "metadata": {},
   "source": [
    "## Step 2 Data Preprocessing"
   ]
  },
  {
   "cell_type": "markdown",
   "id": "armed-method",
   "metadata": {},
   "source": [
    "I'll begin by viewing the general information on the data, then moving on to preprocessing and adjusting it where necessary.<br>\n",
    "- Data Overview\n",
    "- Check missing, duplicated, abnormal data\n",
    "- Check variable relationship\n",
    "- Data preprocessing and calculation"
   ]
  },
  {
   "cell_type": "markdown",
   "id": "reliable-origin",
   "metadata": {},
   "source": [
    "## Step 3 Exploratory Data Analysis"
   ]
  },
  {
   "cell_type": "markdown",
   "id": "interstate-passenger",
   "metadata": {},
   "source": [
    "In this step I will analyze the data and visualize it in order to get a better idea of the performance of Home World's sales outlets' performance. I will start by plotting histograms and bar charts of the varying metrics in the data. I'll start with purchasedate so that I will better understand the timeframe being analyzed. I will also find the earliest and latest dates in the data so that I have a clear idea of the timeframe that I am dealing with."
   ]
  },
  {
   "cell_type": "markdown",
   "id": "lonely-scroll",
   "metadata": {},
   "source": [
    "## Step 4 Assess the Performance of the Sales Outlets"
   ]
  },
  {
   "cell_type": "markdown",
   "id": "honey-pressure",
   "metadata": {},
   "source": [
    "To begin the step on the performance assessment, I'm going to find the top ten shops in terms of total sales. Then I'm going to create a pivot table to calculate total sales by shop over time. Then I will plot a line chart of the pivot table to visually represent the sales of the top ten. I will also make a pivot table and line chart for the overall dataframe for the purpose of perspective. This will give me a better idea of the sales performance overall and will show which shops are consistently ahead.\n",
    "\n"
   ]
  },
  {
   "cell_type": "markdown",
   "id": "prompt-court",
   "metadata": {},
   "source": [
    "## Step 5 Test Statistical Hypotheses"
   ]
  },
  {
   "cell_type": "markdown",
   "id": "correct-senegal",
   "metadata": {},
   "source": [
    "In this step of the test I will form statistical hypotheses and test them for the purpose of a more thorough evaluation of the sales outlets' performance. I'll begin with a hypotheis on the equality of the means of two paired samples(members vs nonmember sales).  "
   ]
  },
  {
   "cell_type": "markdown",
   "id": "august-richmond",
   "metadata": {},
   "source": [
    "## Step 6 Conclusions and Recommendations"
   ]
  },
  {
   "cell_type": "markdown",
   "id": "special-estimate",
   "metadata": {},
   "source": [
    "## Tableau Dashboard"
   ]
  },
  {
   "cell_type": "markdown",
   "id": "genetic-convenience",
   "metadata": {},
   "source": [
    "## Sources"
   ]
  },
  {
   "cell_type": "markdown",
   "id": "12206e5a",
   "metadata": {},
   "source": [
    "<hr>\n",
    "<b>Anton's comments: </b>Hey Osama! Thanks for sending the decomposition. Looks fine with me! Good luck with the project."
   ]
  },
  {
   "cell_type": "code",
   "execution_count": null,
   "id": "f7d26355",
   "metadata": {},
   "outputs": [],
   "source": []
  }
 ],
 "metadata": {
  "ExecuteTimeLog": [
   {
    "duration": 423,
    "start_time": "2021-11-12T20:27:32.498Z"
   },
   {
    "duration": 2002,
    "start_time": "2021-11-12T20:27:40.462Z"
   },
   {
    "duration": 921,
    "start_time": "2021-11-12T20:27:42.466Z"
   },
   {
    "duration": 66,
    "start_time": "2021-11-12T20:27:43.390Z"
   },
   {
    "duration": 5,
    "start_time": "2021-11-12T20:27:43.458Z"
   },
   {
    "duration": 195,
    "start_time": "2021-11-12T20:27:43.466Z"
   },
   {
    "duration": 12,
    "start_time": "2021-11-12T20:27:43.663Z"
   },
   {
    "duration": 25,
    "start_time": "2021-11-12T20:27:43.677Z"
   },
   {
    "duration": 6,
    "start_time": "2021-11-12T20:27:43.707Z"
   },
   {
    "duration": 73,
    "start_time": "2021-11-12T20:27:43.716Z"
   },
   {
    "duration": 13,
    "start_time": "2021-11-12T20:27:43.792Z"
   },
   {
    "duration": 26,
    "start_time": "2021-11-12T20:27:43.807Z"
   },
   {
    "duration": 54,
    "start_time": "2021-11-12T20:27:43.835Z"
   },
   {
    "duration": 33,
    "start_time": "2021-11-12T20:27:43.892Z"
   },
   {
    "duration": 58,
    "start_time": "2021-11-12T20:27:43.927Z"
   },
   {
    "duration": 47,
    "start_time": "2021-11-12T20:27:43.988Z"
   },
   {
    "duration": 56,
    "start_time": "2021-11-12T20:27:44.037Z"
   },
   {
    "duration": 21,
    "start_time": "2021-11-12T20:27:44.095Z"
   },
   {
    "duration": 43,
    "start_time": "2021-11-12T20:27:44.119Z"
   },
   {
    "duration": 54,
    "start_time": "2021-11-12T20:27:44.165Z"
   },
   {
    "duration": 13,
    "start_time": "2021-11-12T20:27:44.221Z"
   },
   {
    "duration": 42,
    "start_time": "2021-11-12T20:27:44.236Z"
   },
   {
    "duration": 79,
    "start_time": "2021-11-12T20:27:44.280Z"
   },
   {
    "duration": 3,
    "start_time": "2021-11-12T20:27:44.367Z"
   },
   {
    "duration": 12,
    "start_time": "2021-11-12T20:27:44.375Z"
   },
   {
    "duration": 93,
    "start_time": "2021-11-12T20:27:44.390Z"
   },
   {
    "duration": 36,
    "start_time": "2021-11-12T20:27:44.486Z"
   },
   {
    "duration": 34,
    "start_time": "2021-11-12T20:27:44.525Z"
   },
   {
    "duration": 17,
    "start_time": "2021-11-12T20:27:44.562Z"
   },
   {
    "duration": 25,
    "start_time": "2021-11-12T20:27:44.582Z"
   },
   {
    "duration": 620,
    "start_time": "2021-11-12T20:27:44.610Z"
   },
   {
    "duration": 417,
    "start_time": "2021-11-12T20:27:45.232Z"
   },
   {
    "duration": 418,
    "start_time": "2021-11-12T20:27:45.659Z"
   },
   {
    "duration": 18,
    "start_time": "2021-11-12T20:27:46.080Z"
   },
   {
    "duration": 15,
    "start_time": "2021-11-12T20:27:46.101Z"
   },
   {
    "duration": 963,
    "start_time": "2021-11-12T20:27:46.119Z"
   },
   {
    "duration": 16,
    "start_time": "2021-11-12T20:27:47.084Z"
   },
   {
    "duration": 27,
    "start_time": "2021-11-12T20:27:47.103Z"
   },
   {
    "duration": 32,
    "start_time": "2021-11-12T20:27:47.133Z"
   },
   {
    "duration": 18,
    "start_time": "2021-11-12T20:27:47.168Z"
   },
   {
    "duration": 10,
    "start_time": "2021-11-12T20:27:47.189Z"
   },
   {
    "duration": 1046,
    "start_time": "2021-11-12T20:27:47.201Z"
   },
   {
    "duration": 28,
    "start_time": "2021-11-12T20:27:48.249Z"
   },
   {
    "duration": 38,
    "start_time": "2021-11-12T20:27:48.279Z"
   },
   {
    "duration": 55,
    "start_time": "2021-11-12T20:27:48.319Z"
   },
   {
    "duration": 8,
    "start_time": "2021-11-12T20:27:48.376Z"
   },
   {
    "duration": 452,
    "start_time": "2021-11-12T20:27:48.386Z"
   },
   {
    "duration": 1301,
    "start_time": "2021-11-12T20:27:48.840Z"
   },
   {
    "duration": 26,
    "start_time": "2021-11-12T20:27:50.143Z"
   },
   {
    "duration": 24,
    "start_time": "2021-11-12T20:27:50.171Z"
   },
   {
    "duration": 28,
    "start_time": "2021-11-12T20:27:50.197Z"
   },
   {
    "duration": 40,
    "start_time": "2021-11-12T20:27:50.227Z"
   },
   {
    "duration": 1048,
    "start_time": "2021-11-12T20:27:50.269Z"
   },
   {
    "duration": 39,
    "start_time": "2021-11-12T20:27:51.320Z"
   },
   {
    "duration": 18,
    "start_time": "2021-11-12T20:27:51.362Z"
   },
   {
    "duration": 350,
    "start_time": "2021-11-12T20:27:51.383Z"
   },
   {
    "duration": 42,
    "start_time": "2021-11-12T20:27:51.760Z"
   },
   {
    "duration": 7,
    "start_time": "2021-11-12T20:27:51.805Z"
   },
   {
    "duration": 188,
    "start_time": "2021-11-12T20:27:51.815Z"
   },
   {
    "duration": 8,
    "start_time": "2021-11-12T20:27:52.005Z"
   },
   {
    "duration": 53,
    "start_time": "2021-11-12T20:27:52.016Z"
   },
   {
    "duration": 11,
    "start_time": "2021-11-12T20:27:52.071Z"
   },
   {
    "duration": 961,
    "start_time": "2021-11-12T20:27:52.085Z"
   },
   {
    "duration": 22,
    "start_time": "2021-11-12T20:27:53.049Z"
   },
   {
    "duration": 17,
    "start_time": "2021-11-12T20:27:53.073Z"
   },
   {
    "duration": 23,
    "start_time": "2021-11-12T20:27:53.092Z"
   },
   {
    "duration": 655,
    "start_time": "2021-11-12T20:27:53.118Z"
   },
   {
    "duration": 19,
    "start_time": "2021-11-12T20:27:53.775Z"
   },
   {
    "duration": 14,
    "start_time": "2021-11-12T20:27:53.803Z"
   },
   {
    "duration": 62,
    "start_time": "2021-11-12T20:27:53.821Z"
   },
   {
    "duration": 674,
    "start_time": "2021-11-12T20:27:53.885Z"
   },
   {
    "duration": 35,
    "start_time": "2021-11-12T20:27:54.562Z"
   },
   {
    "duration": 11,
    "start_time": "2021-11-12T20:27:54.601Z"
   },
   {
    "duration": 57,
    "start_time": "2021-11-12T20:27:54.615Z"
   },
   {
    "duration": 4,
    "start_time": "2021-11-12T20:27:54.674Z"
   },
   {
    "duration": 16,
    "start_time": "2021-11-12T20:27:54.680Z"
   },
   {
    "duration": 15,
    "start_time": "2021-11-12T20:27:54.698Z"
   },
   {
    "duration": 45,
    "start_time": "2021-11-12T20:27:54.716Z"
   },
   {
    "duration": 685,
    "start_time": "2021-11-12T20:27:54.764Z"
   },
   {
    "duration": 24,
    "start_time": "2021-11-12T20:27:55.452Z"
   },
   {
    "duration": 683,
    "start_time": "2021-11-12T20:27:55.479Z"
   },
   {
    "duration": 28,
    "start_time": "2021-11-12T20:27:56.165Z"
   },
   {
    "duration": 30,
    "start_time": "2021-11-12T20:27:56.195Z"
   },
   {
    "duration": 701,
    "start_time": "2021-11-12T20:27:56.227Z"
   },
   {
    "duration": 59,
    "start_time": "2021-11-12T20:27:56.930Z"
   },
   {
    "duration": 729,
    "start_time": "2021-11-12T20:27:56.992Z"
   },
   {
    "duration": 8,
    "start_time": "2021-11-12T20:27:57.724Z"
   },
   {
    "duration": 194,
    "start_time": "2021-11-12T20:27:57.735Z"
   },
   {
    "duration": 43,
    "start_time": "2021-11-12T20:27:57.932Z"
   },
   {
    "duration": 556,
    "start_time": "2021-11-12T20:27:57.977Z"
   },
   {
    "duration": 31,
    "start_time": "2021-11-12T20:27:58.535Z"
   },
   {
    "duration": 24,
    "start_time": "2021-11-12T20:27:58.568Z"
   },
   {
    "duration": 11,
    "start_time": "2021-11-12T20:27:58.594Z"
   },
   {
    "duration": 15,
    "start_time": "2021-11-12T20:27:58.608Z"
   },
   {
    "duration": 57,
    "start_time": "2021-11-12T20:27:58.625Z"
   },
   {
    "duration": 14,
    "start_time": "2021-11-12T20:27:58.684Z"
   },
   {
    "duration": 102,
    "start_time": "2021-11-12T20:27:58.700Z"
   },
   {
    "duration": 5,
    "start_time": "2021-11-12T20:27:58.805Z"
   },
   {
    "duration": 20,
    "start_time": "2021-11-12T20:27:58.812Z"
   },
   {
    "duration": 401,
    "start_time": "2021-11-12T20:27:58.834Z"
   },
   {
    "duration": 22,
    "start_time": "2021-11-12T20:27:59.237Z"
   },
   {
    "duration": 96,
    "start_time": "2021-11-12T20:27:59.263Z"
   },
   {
    "duration": 260,
    "start_time": "2021-11-12T20:27:59.362Z"
   },
   {
    "duration": 18,
    "start_time": "2021-11-12T20:27:59.624Z"
   },
   {
    "duration": 32,
    "start_time": "2021-11-12T20:27:59.644Z"
   },
   {
    "duration": 28,
    "start_time": "2021-11-12T20:27:59.678Z"
   },
   {
    "duration": 53,
    "start_time": "2021-11-12T20:27:59.708Z"
   },
   {
    "duration": 8,
    "start_time": "2021-11-12T20:27:59.764Z"
   },
   {
    "duration": 16,
    "start_time": "2021-11-12T20:27:59.775Z"
   },
   {
    "duration": 17,
    "start_time": "2021-11-12T20:27:59.793Z"
   },
   {
    "duration": 57,
    "start_time": "2021-11-12T20:27:59.812Z"
   },
   {
    "duration": 7,
    "start_time": "2021-11-12T20:27:59.871Z"
   },
   {
    "duration": 14,
    "start_time": "2021-11-12T20:27:59.880Z"
   },
   {
    "duration": 683,
    "start_time": "2021-11-12T20:27:59.896Z"
   },
   {
    "duration": 2266,
    "start_time": "2021-11-12T21:45:49.338Z"
   },
   {
    "duration": 146,
    "start_time": "2021-11-12T21:45:51.606Z"
   },
   {
    "duration": 28,
    "start_time": "2021-11-12T21:45:51.755Z"
   },
   {
    "duration": 7,
    "start_time": "2021-11-12T21:45:51.785Z"
   },
   {
    "duration": 176,
    "start_time": "2021-11-12T21:45:51.794Z"
   },
   {
    "duration": 10,
    "start_time": "2021-11-12T21:45:51.972Z"
   },
   {
    "duration": 27,
    "start_time": "2021-11-12T21:45:51.984Z"
   },
   {
    "duration": 5,
    "start_time": "2021-11-12T21:45:52.015Z"
   },
   {
    "duration": 35,
    "start_time": "2021-11-12T21:45:52.059Z"
   },
   {
    "duration": 15,
    "start_time": "2021-11-12T21:45:52.096Z"
   },
   {
    "duration": 50,
    "start_time": "2021-11-12T21:45:52.113Z"
   },
   {
    "duration": 38,
    "start_time": "2021-11-12T21:45:52.165Z"
   },
   {
    "duration": 64,
    "start_time": "2021-11-12T21:45:52.206Z"
   },
   {
    "duration": 39,
    "start_time": "2021-11-12T21:45:52.273Z"
   },
   {
    "duration": 67,
    "start_time": "2021-11-12T21:45:52.314Z"
   },
   {
    "duration": 36,
    "start_time": "2021-11-12T21:45:52.384Z"
   },
   {
    "duration": 43,
    "start_time": "2021-11-12T21:45:52.423Z"
   },
   {
    "duration": 17,
    "start_time": "2021-11-12T21:45:52.470Z"
   },
   {
    "duration": 89,
    "start_time": "2021-11-12T21:45:52.490Z"
   },
   {
    "duration": 14,
    "start_time": "2021-11-12T21:45:52.582Z"
   },
   {
    "duration": 24,
    "start_time": "2021-11-12T21:45:52.598Z"
   },
   {
    "duration": 66,
    "start_time": "2021-11-12T21:45:52.625Z"
   },
   {
    "duration": 4,
    "start_time": "2021-11-12T21:45:52.697Z"
   },
   {
    "duration": 11,
    "start_time": "2021-11-12T21:45:52.704Z"
   },
   {
    "duration": 107,
    "start_time": "2021-11-12T21:45:52.717Z"
   },
   {
    "duration": 55,
    "start_time": "2021-11-12T21:45:52.826Z"
   },
   {
    "duration": 11,
    "start_time": "2021-11-12T21:45:52.883Z"
   },
   {
    "duration": 17,
    "start_time": "2021-11-12T21:45:52.897Z"
   },
   {
    "duration": 46,
    "start_time": "2021-11-12T21:45:52.916Z"
   },
   {
    "duration": 589,
    "start_time": "2021-11-12T21:45:52.964Z"
   },
   {
    "duration": 422,
    "start_time": "2021-11-12T21:45:53.555Z"
   },
   {
    "duration": 437,
    "start_time": "2021-11-12T21:45:53.981Z"
   },
   {
    "duration": 17,
    "start_time": "2021-11-12T21:45:54.421Z"
   },
   {
    "duration": 28,
    "start_time": "2021-11-12T21:45:54.441Z"
   },
   {
    "duration": 977,
    "start_time": "2021-11-12T21:45:54.472Z"
   },
   {
    "duration": 21,
    "start_time": "2021-11-12T21:45:55.452Z"
   },
   {
    "duration": 21,
    "start_time": "2021-11-12T21:45:55.476Z"
   },
   {
    "duration": 15,
    "start_time": "2021-11-12T21:45:55.500Z"
   },
   {
    "duration": 52,
    "start_time": "2021-11-12T21:45:55.518Z"
   },
   {
    "duration": 9,
    "start_time": "2021-11-12T21:45:55.573Z"
   },
   {
    "duration": 1150,
    "start_time": "2021-11-12T21:45:55.584Z"
   },
   {
    "duration": 33,
    "start_time": "2021-11-12T21:45:56.736Z"
   },
   {
    "duration": 37,
    "start_time": "2021-11-12T21:45:56.771Z"
   },
   {
    "duration": 51,
    "start_time": "2021-11-12T21:45:56.811Z"
   },
   {
    "duration": 8,
    "start_time": "2021-11-12T21:45:56.865Z"
   },
   {
    "duration": 456,
    "start_time": "2021-11-12T21:45:56.875Z"
   },
   {
    "duration": 1297,
    "start_time": "2021-11-12T21:45:57.334Z"
   },
   {
    "duration": 36,
    "start_time": "2021-11-12T21:45:58.633Z"
   },
   {
    "duration": 24,
    "start_time": "2021-11-12T21:45:58.671Z"
   },
   {
    "duration": 27,
    "start_time": "2021-11-12T21:45:58.697Z"
   },
   {
    "duration": 38,
    "start_time": "2021-11-12T21:45:58.727Z"
   },
   {
    "duration": 1039,
    "start_time": "2021-11-12T21:45:58.767Z"
   },
   {
    "duration": 54,
    "start_time": "2021-11-12T21:45:59.809Z"
   },
   {
    "duration": 19,
    "start_time": "2021-11-12T21:45:59.866Z"
   },
   {
    "duration": 398,
    "start_time": "2021-11-12T21:45:59.888Z"
   },
   {
    "duration": 41,
    "start_time": "2021-11-12T21:46:00.288Z"
   },
   {
    "duration": 30,
    "start_time": "2021-11-12T21:46:00.332Z"
   },
   {
    "duration": 181,
    "start_time": "2021-11-12T21:46:00.365Z"
   },
   {
    "duration": 15,
    "start_time": "2021-11-12T21:46:00.549Z"
   },
   {
    "duration": 35,
    "start_time": "2021-11-12T21:46:00.566Z"
   },
   {
    "duration": 11,
    "start_time": "2021-11-12T21:46:00.603Z"
   },
   {
    "duration": 1045,
    "start_time": "2021-11-12T21:46:00.617Z"
   },
   {
    "duration": 17,
    "start_time": "2021-11-12T21:46:01.664Z"
   },
   {
    "duration": 20,
    "start_time": "2021-11-12T21:46:01.683Z"
   },
   {
    "duration": 52,
    "start_time": "2021-11-12T21:46:01.706Z"
   },
   {
    "duration": 702,
    "start_time": "2021-11-12T21:46:01.761Z"
   },
   {
    "duration": 20,
    "start_time": "2021-11-12T21:46:02.466Z"
   },
   {
    "duration": 14,
    "start_time": "2021-11-12T21:46:02.495Z"
   },
   {
    "duration": 57,
    "start_time": "2021-11-12T21:46:02.512Z"
   },
   {
    "duration": 683,
    "start_time": "2021-11-12T21:46:02.571Z"
   },
   {
    "duration": 31,
    "start_time": "2021-11-12T21:46:03.260Z"
   },
   {
    "duration": 11,
    "start_time": "2021-11-12T21:46:03.294Z"
   },
   {
    "duration": 17,
    "start_time": "2021-11-12T21:46:03.307Z"
   },
   {
    "duration": 4,
    "start_time": "2021-11-12T21:46:03.360Z"
   },
   {
    "duration": 12,
    "start_time": "2021-11-12T21:46:03.367Z"
   },
   {
    "duration": 15,
    "start_time": "2021-11-12T21:46:03.382Z"
   },
   {
    "duration": 15,
    "start_time": "2021-11-12T21:46:03.400Z"
   },
   {
    "duration": 697,
    "start_time": "2021-11-12T21:46:03.417Z"
   },
   {
    "duration": 20,
    "start_time": "2021-11-12T21:46:04.117Z"
   },
   {
    "duration": 670,
    "start_time": "2021-11-12T21:46:04.139Z"
   },
   {
    "duration": 25,
    "start_time": "2021-11-12T21:46:04.812Z"
   },
   {
    "duration": 47,
    "start_time": "2021-11-12T21:46:04.839Z"
   },
   {
    "duration": 639,
    "start_time": "2021-11-12T21:46:04.888Z"
   },
   {
    "duration": 57,
    "start_time": "2021-11-12T21:46:05.529Z"
   },
   {
    "duration": 742,
    "start_time": "2021-11-12T21:46:05.588Z"
   },
   {
    "duration": 8,
    "start_time": "2021-11-12T21:46:06.333Z"
   },
   {
    "duration": 184,
    "start_time": "2021-11-12T21:46:06.343Z"
   },
   {
    "duration": 43,
    "start_time": "2021-11-12T21:46:06.529Z"
   },
   {
    "duration": 559,
    "start_time": "2021-11-12T21:46:06.575Z"
   },
   {
    "duration": 31,
    "start_time": "2021-11-12T21:46:07.136Z"
   },
   {
    "duration": 24,
    "start_time": "2021-11-12T21:46:07.169Z"
   },
   {
    "duration": 12,
    "start_time": "2021-11-12T21:46:07.195Z"
   },
   {
    "duration": 21,
    "start_time": "2021-11-12T21:46:07.209Z"
   },
   {
    "duration": 25,
    "start_time": "2021-11-12T21:46:07.260Z"
   },
   {
    "duration": 14,
    "start_time": "2021-11-12T21:46:07.288Z"
   },
   {
    "duration": 106,
    "start_time": "2021-11-12T21:46:07.304Z"
   },
   {
    "duration": 7,
    "start_time": "2021-11-12T21:46:07.412Z"
   },
   {
    "duration": 25,
    "start_time": "2021-11-12T21:46:07.421Z"
   },
   {
    "duration": 349,
    "start_time": "2021-11-12T21:46:07.448Z"
   },
   {
    "duration": 8,
    "start_time": "2021-11-12T21:46:07.799Z"
   },
   {
    "duration": 97,
    "start_time": "2021-11-12T21:46:07.864Z"
   },
   {
    "duration": 205,
    "start_time": "2021-11-12T21:46:07.964Z"
   },
   {
    "duration": 18,
    "start_time": "2021-11-12T21:46:08.171Z"
   },
   {
    "duration": 26,
    "start_time": "2021-11-12T21:46:08.192Z"
   },
   {
    "duration": 60,
    "start_time": "2021-11-12T21:46:08.221Z"
   },
   {
    "duration": 32,
    "start_time": "2021-11-12T21:46:08.283Z"
   },
   {
    "duration": 8,
    "start_time": "2021-11-12T21:46:08.317Z"
   },
   {
    "duration": 6,
    "start_time": "2021-11-12T21:46:08.358Z"
   },
   {
    "duration": 17,
    "start_time": "2021-11-12T21:46:08.366Z"
   },
   {
    "duration": 52,
    "start_time": "2021-11-12T21:46:08.386Z"
   },
   {
    "duration": 24,
    "start_time": "2021-11-12T21:46:08.441Z"
   },
   {
    "duration": 10,
    "start_time": "2021-11-12T21:46:08.468Z"
   },
   {
    "duration": 601,
    "start_time": "2021-11-12T21:46:08.480Z"
   },
   {
    "duration": 1460,
    "start_time": "2022-06-07T05:15:41.087Z"
   },
   {
    "duration": 317,
    "start_time": "2022-06-07T05:15:47.277Z"
   },
   {
    "duration": 3,
    "start_time": "2022-06-07T05:16:17.901Z"
   },
   {
    "duration": 166,
    "start_time": "2022-06-07T05:16:19.588Z"
   },
   {
    "duration": 523,
    "start_time": "2022-06-07T05:18:42.446Z"
   },
   {
    "duration": 4,
    "start_time": "2022-06-07T05:18:47.773Z"
   },
   {
    "duration": 149,
    "start_time": "2022-06-07T05:18:48.635Z"
   },
   {
    "duration": 139,
    "start_time": "2022-06-07T05:19:05.918Z"
   },
   {
    "duration": 4,
    "start_time": "2022-06-07T05:19:09.902Z"
   },
   {
    "duration": 149,
    "start_time": "2022-06-07T05:19:10.649Z"
   },
   {
    "duration": 5,
    "start_time": "2022-06-07T05:23:41.195Z"
   },
   {
    "duration": 111,
    "start_time": "2022-06-07T05:28:56.167Z"
   },
   {
    "duration": 5,
    "start_time": "2022-06-07T05:29:05.092Z"
   },
   {
    "duration": 78,
    "start_time": "2022-06-07T05:29:06.174Z"
   },
   {
    "duration": 21,
    "start_time": "2022-06-07T05:29:06.943Z"
   },
   {
    "duration": 36,
    "start_time": "2022-06-07T05:29:34.509Z"
   },
   {
    "duration": 16,
    "start_time": "2022-06-07T05:30:05.522Z"
   },
   {
    "duration": 38,
    "start_time": "2022-06-07T05:33:57.469Z"
   },
   {
    "duration": 4,
    "start_time": "2022-06-07T05:34:27.762Z"
   },
   {
    "duration": 63,
    "start_time": "2022-06-07T05:36:19.658Z"
   },
   {
    "duration": 18,
    "start_time": "2022-06-07T05:36:25.511Z"
   },
   {
    "duration": 3,
    "start_time": "2022-06-07T05:36:42.767Z"
   },
   {
    "duration": 135,
    "start_time": "2022-06-07T05:36:42.846Z"
   },
   {
    "duration": 4,
    "start_time": "2022-06-07T05:36:42.983Z"
   },
   {
    "duration": 163,
    "start_time": "2022-06-07T05:36:42.989Z"
   },
   {
    "duration": 7,
    "start_time": "2022-06-07T05:36:43.154Z"
   },
   {
    "duration": 24,
    "start_time": "2022-06-07T05:36:43.162Z"
   },
   {
    "duration": 4,
    "start_time": "2022-06-07T05:36:43.188Z"
   },
   {
    "duration": 52,
    "start_time": "2022-06-07T05:36:43.193Z"
   },
   {
    "duration": 29,
    "start_time": "2022-06-07T05:36:43.247Z"
   },
   {
    "duration": 16,
    "start_time": "2022-06-07T05:36:43.278Z"
   },
   {
    "duration": 24,
    "start_time": "2022-06-07T05:36:49.378Z"
   },
   {
    "duration": 14,
    "start_time": "2022-06-07T05:37:06.022Z"
   },
   {
    "duration": 3,
    "start_time": "2022-06-07T05:37:11.747Z"
   },
   {
    "duration": 116,
    "start_time": "2022-06-07T05:37:11.822Z"
   },
   {
    "duration": 4,
    "start_time": "2022-06-07T05:37:11.940Z"
   },
   {
    "duration": 156,
    "start_time": "2022-06-07T05:37:11.945Z"
   },
   {
    "duration": 26,
    "start_time": "2022-06-07T05:37:12.104Z"
   },
   {
    "duration": 22,
    "start_time": "2022-06-07T05:37:12.132Z"
   },
   {
    "duration": 5,
    "start_time": "2022-06-07T05:37:12.156Z"
   },
   {
    "duration": 27,
    "start_time": "2022-06-07T05:37:12.162Z"
   },
   {
    "duration": 55,
    "start_time": "2022-06-07T05:37:12.191Z"
   },
   {
    "duration": 19,
    "start_time": "2022-06-07T05:37:12.247Z"
   },
   {
    "duration": 1376,
    "start_time": "2022-06-07T11:13:07.482Z"
   },
   {
    "duration": 296,
    "start_time": "2022-06-07T11:13:08.861Z"
   },
   {
    "duration": 4,
    "start_time": "2022-06-07T11:13:09.159Z"
   },
   {
    "duration": 162,
    "start_time": "2022-06-07T11:13:09.165Z"
   },
   {
    "duration": 7,
    "start_time": "2022-06-07T11:13:09.329Z"
   },
   {
    "duration": 20,
    "start_time": "2022-06-07T11:13:09.337Z"
   },
   {
    "duration": 5,
    "start_time": "2022-06-07T11:13:09.358Z"
   },
   {
    "duration": 31,
    "start_time": "2022-06-07T11:13:09.364Z"
   },
   {
    "duration": 48,
    "start_time": "2022-06-07T11:13:09.397Z"
   },
   {
    "duration": 15,
    "start_time": "2022-06-07T11:13:09.448Z"
   },
   {
    "duration": 26,
    "start_time": "2022-06-07T11:13:13.747Z"
   },
   {
    "duration": 3,
    "start_time": "2022-06-07T11:13:43.609Z"
   },
   {
    "duration": 182,
    "start_time": "2022-06-07T11:13:43.684Z"
   },
   {
    "duration": 4,
    "start_time": "2022-06-07T11:13:43.868Z"
   },
   {
    "duration": 158,
    "start_time": "2022-06-07T11:13:43.874Z"
   },
   {
    "duration": 7,
    "start_time": "2022-06-07T11:13:44.035Z"
   },
   {
    "duration": 20,
    "start_time": "2022-06-07T11:13:44.043Z"
   },
   {
    "duration": 5,
    "start_time": "2022-06-07T11:13:44.064Z"
   },
   {
    "duration": 24,
    "start_time": "2022-06-07T11:13:44.070Z"
   },
   {
    "duration": 55,
    "start_time": "2022-06-07T11:13:44.096Z"
   },
   {
    "duration": 30,
    "start_time": "2022-06-07T11:13:44.152Z"
   },
   {
    "duration": 101,
    "start_time": "2022-06-07T11:13:47.605Z"
   },
   {
    "duration": 16,
    "start_time": "2022-06-07T11:19:25.236Z"
   },
   {
    "duration": 5,
    "start_time": "2022-06-07T11:19:34.099Z"
   },
   {
    "duration": 5,
    "start_time": "2022-06-07T11:23:41.153Z"
   },
   {
    "duration": 32,
    "start_time": "2022-06-07T11:24:45.744Z"
   },
   {
    "duration": 52,
    "start_time": "2022-06-07T11:25:36.835Z"
   },
   {
    "duration": 5,
    "start_time": "2022-06-07T11:26:28.500Z"
   },
   {
    "duration": 12,
    "start_time": "2022-06-07T11:26:42.635Z"
   },
   {
    "duration": 26,
    "start_time": "2022-06-07T11:26:57.264Z"
   },
   {
    "duration": 57,
    "start_time": "2022-06-07T11:27:41.998Z"
   },
   {
    "duration": 5,
    "start_time": "2022-06-07T11:28:58.214Z"
   },
   {
    "duration": 7,
    "start_time": "2022-06-07T11:29:08.275Z"
   },
   {
    "duration": 57,
    "start_time": "2022-06-07T11:29:21.157Z"
   },
   {
    "duration": 23,
    "start_time": "2022-06-07T11:29:28.845Z"
   },
   {
    "duration": 4,
    "start_time": "2022-06-07T11:30:14.949Z"
   },
   {
    "duration": 13,
    "start_time": "2022-06-07T11:30:16.727Z"
   },
   {
    "duration": 18,
    "start_time": "2022-06-07T11:33:35.582Z"
   },
   {
    "duration": 496,
    "start_time": "2022-06-07T11:34:07.224Z"
   },
   {
    "duration": 626,
    "start_time": "2022-06-07T11:35:51.446Z"
   },
   {
    "duration": 0,
    "start_time": "2022-06-07T11:38:52.491Z"
   },
   {
    "duration": 7759,
    "start_time": "2022-06-07T11:39:00.219Z"
   },
   {
    "duration": 582,
    "start_time": "2022-06-07T11:39:24.831Z"
   },
   {
    "duration": 574,
    "start_time": "2022-06-07T11:45:28.312Z"
   },
   {
    "duration": 53,
    "start_time": "2022-06-07T11:50:38.668Z"
   },
   {
    "duration": 1232,
    "start_time": "2022-06-07T11:50:49.843Z"
   },
   {
    "duration": 127,
    "start_time": "2022-06-07T11:50:51.077Z"
   },
   {
    "duration": 4,
    "start_time": "2022-06-07T11:50:51.205Z"
   },
   {
    "duration": 188,
    "start_time": "2022-06-07T11:50:51.211Z"
   },
   {
    "duration": 7,
    "start_time": "2022-06-07T11:50:51.401Z"
   },
   {
    "duration": 28,
    "start_time": "2022-06-07T11:50:51.426Z"
   },
   {
    "duration": 6,
    "start_time": "2022-06-07T11:50:51.456Z"
   },
   {
    "duration": 46,
    "start_time": "2022-06-07T11:50:51.464Z"
   },
   {
    "duration": 57,
    "start_time": "2022-06-07T11:50:51.513Z"
   },
   {
    "duration": 15,
    "start_time": "2022-06-07T11:50:51.573Z"
   },
   {
    "duration": 7,
    "start_time": "2022-06-07T11:50:51.589Z"
   },
   {
    "duration": 64,
    "start_time": "2022-06-07T11:50:51.597Z"
   },
   {
    "duration": 6,
    "start_time": "2022-06-07T11:50:51.662Z"
   },
   {
    "duration": 16,
    "start_time": "2022-06-07T11:50:51.669Z"
   },
   {
    "duration": 29,
    "start_time": "2022-06-07T11:50:51.686Z"
   },
   {
    "duration": 55,
    "start_time": "2022-06-07T11:50:51.717Z"
   },
   {
    "duration": 4,
    "start_time": "2022-06-07T11:50:51.774Z"
   },
   {
    "duration": 16,
    "start_time": "2022-06-07T11:50:51.779Z"
   },
   {
    "duration": 144,
    "start_time": "2022-06-07T11:50:51.797Z"
   },
   {
    "duration": 23,
    "start_time": "2022-06-07T11:50:51.944Z"
   },
   {
    "duration": 4,
    "start_time": "2022-06-07T11:50:51.969Z"
   },
   {
    "duration": 15,
    "start_time": "2022-06-07T11:50:51.974Z"
   },
   {
    "duration": 21,
    "start_time": "2022-06-07T11:50:51.990Z"
   },
   {
    "duration": 443,
    "start_time": "2022-06-07T11:50:52.013Z"
   },
   {
    "duration": 208,
    "start_time": "2022-06-07T11:50:55.889Z"
   },
   {
    "duration": 61522,
    "start_time": "2022-06-07T11:51:06.178Z"
   },
   {
    "duration": 2402,
    "start_time": "2022-06-07T11:52:45.974Z"
   },
   {
    "duration": 617,
    "start_time": "2022-06-07T11:52:59.355Z"
   },
   {
    "duration": 28980,
    "start_time": "2022-06-07T11:53:10.078Z"
   },
   {
    "duration": 1,
    "start_time": "2022-06-07T11:58:42.675Z"
   },
   {
    "duration": 0,
    "start_time": "2022-06-07T11:58:42.677Z"
   },
   {
    "duration": 196,
    "start_time": "2022-06-07T12:02:14.709Z"
   },
   {
    "duration": 60,
    "start_time": "2022-06-07T12:02:49.208Z"
   },
   {
    "duration": 8,
    "start_time": "2022-06-07T12:02:59.881Z"
   },
   {
    "duration": 1217,
    "start_time": "2022-06-07T12:03:09.315Z"
   },
   {
    "duration": 116,
    "start_time": "2022-06-07T12:03:10.539Z"
   },
   {
    "duration": 4,
    "start_time": "2022-06-07T12:03:10.656Z"
   },
   {
    "duration": 183,
    "start_time": "2022-06-07T12:03:10.662Z"
   },
   {
    "duration": 7,
    "start_time": "2022-06-07T12:03:10.846Z"
   },
   {
    "duration": 21,
    "start_time": "2022-06-07T12:03:10.855Z"
   },
   {
    "duration": 4,
    "start_time": "2022-06-07T12:03:10.878Z"
   },
   {
    "duration": 54,
    "start_time": "2022-06-07T12:03:10.883Z"
   },
   {
    "duration": 29,
    "start_time": "2022-06-07T12:03:10.938Z"
   },
   {
    "duration": 14,
    "start_time": "2022-06-07T12:03:10.969Z"
   },
   {
    "duration": 10,
    "start_time": "2022-06-07T12:03:10.985Z"
   },
   {
    "duration": 59,
    "start_time": "2022-06-07T12:03:10.997Z"
   },
   {
    "duration": 5,
    "start_time": "2022-06-07T12:03:11.058Z"
   },
   {
    "duration": 12,
    "start_time": "2022-06-07T12:03:11.064Z"
   },
   {
    "duration": 21,
    "start_time": "2022-06-07T12:03:11.078Z"
   },
   {
    "duration": 59,
    "start_time": "2022-06-07T12:03:11.101Z"
   },
   {
    "duration": 4,
    "start_time": "2022-06-07T12:03:11.161Z"
   },
   {
    "duration": 10,
    "start_time": "2022-06-07T12:03:11.166Z"
   },
   {
    "duration": 144,
    "start_time": "2022-06-07T12:03:11.177Z"
   },
   {
    "duration": 32,
    "start_time": "2022-06-07T12:03:11.323Z"
   },
   {
    "duration": 3,
    "start_time": "2022-06-07T12:03:11.357Z"
   },
   {
    "duration": 14,
    "start_time": "2022-06-07T12:03:11.362Z"
   },
   {
    "duration": 18,
    "start_time": "2022-06-07T12:03:11.377Z"
   },
   {
    "duration": 441,
    "start_time": "2022-06-07T12:03:11.397Z"
   },
   {
    "duration": 617,
    "start_time": "2022-06-07T12:03:14.202Z"
   },
   {
    "duration": 168,
    "start_time": "2022-06-07T12:03:19.006Z"
   },
   {
    "duration": 16,
    "start_time": "2022-06-07T12:03:34.917Z"
   },
   {
    "duration": 9,
    "start_time": "2022-06-07T12:04:11.371Z"
   },
   {
    "duration": 7,
    "start_time": "2022-06-07T12:04:12.750Z"
   },
   {
    "duration": 562,
    "start_time": "2022-06-07T12:04:20.111Z"
   },
   {
    "duration": 12,
    "start_time": "2022-06-07T12:05:32.912Z"
   },
   {
    "duration": 23,
    "start_time": "2022-06-07T12:05:33.958Z"
   },
   {
    "duration": 11,
    "start_time": "2022-06-07T12:05:38.269Z"
   },
   {
    "duration": 11,
    "start_time": "2022-06-07T12:05:53.506Z"
   },
   {
    "duration": 7,
    "start_time": "2022-06-07T12:05:58.508Z"
   },
   {
    "duration": 527,
    "start_time": "2022-06-07T12:06:02.410Z"
   },
   {
    "duration": 18,
    "start_time": "2022-06-07T12:06:30.978Z"
   },
   {
    "duration": 49,
    "start_time": "2022-06-07T12:07:10.519Z"
   },
   {
    "duration": 21,
    "start_time": "2022-06-07T12:07:28.759Z"
   },
   {
    "duration": 5,
    "start_time": "2022-06-07T12:11:09.873Z"
   },
   {
    "duration": 322,
    "start_time": "2022-06-07T12:11:16.111Z"
   },
   {
    "duration": 869,
    "start_time": "2022-06-07T12:12:18.070Z"
   },
   {
    "duration": 21,
    "start_time": "2022-06-07T12:17:00.131Z"
   },
   {
    "duration": 16,
    "start_time": "2022-06-07T12:17:12.043Z"
   },
   {
    "duration": 16,
    "start_time": "2022-06-07T12:17:17.115Z"
   },
   {
    "duration": 7,
    "start_time": "2022-06-07T12:17:19.001Z"
   },
   {
    "duration": 364,
    "start_time": "2022-06-07T12:17:40.600Z"
   },
   {
    "duration": 16,
    "start_time": "2022-06-07T12:19:25.076Z"
   },
   {
    "duration": 12,
    "start_time": "2022-06-07T12:20:49.171Z"
   },
   {
    "duration": 71,
    "start_time": "2022-06-07T12:20:57.754Z"
   },
   {
    "duration": 30,
    "start_time": "2022-06-07T12:23:06.468Z"
   },
   {
    "duration": 7,
    "start_time": "2022-06-07T12:23:22.215Z"
   },
   {
    "duration": 85,
    "start_time": "2022-06-07T12:23:24.814Z"
   },
   {
    "duration": 5,
    "start_time": "2022-06-07T12:23:49.075Z"
   },
   {
    "duration": 20,
    "start_time": "2022-06-07T12:24:33.772Z"
   },
   {
    "duration": 7,
    "start_time": "2022-06-07T12:24:35.614Z"
   },
   {
    "duration": 575,
    "start_time": "2022-06-07T12:24:43.994Z"
   },
   {
    "duration": 11,
    "start_time": "2022-06-07T12:24:59.232Z"
   },
   {
    "duration": 14,
    "start_time": "2022-06-07T12:25:03.815Z"
   },
   {
    "duration": 18,
    "start_time": "2022-06-07T12:25:43.018Z"
   },
   {
    "duration": 333,
    "start_time": "2022-06-07T12:25:47.923Z"
   },
   {
    "duration": 17,
    "start_time": "2022-06-07T12:26:39.264Z"
   },
   {
    "duration": 12,
    "start_time": "2022-06-07T12:28:18.414Z"
   },
   {
    "duration": 19,
    "start_time": "2022-06-07T12:28:34.627Z"
   },
   {
    "duration": 472,
    "start_time": "2022-06-07T12:28:48.063Z"
   },
   {
    "duration": 27,
    "start_time": "2022-06-07T12:29:12.020Z"
   },
   {
    "duration": 8,
    "start_time": "2022-06-07T12:29:19.125Z"
   },
   {
    "duration": 11,
    "start_time": "2022-06-07T12:29:37.417Z"
   },
   {
    "duration": 3,
    "start_time": "2022-06-07T12:29:44.832Z"
   },
   {
    "duration": 9,
    "start_time": "2022-06-07T12:29:46.311Z"
   },
   {
    "duration": 10,
    "start_time": "2022-06-07T12:29:50.552Z"
   },
   {
    "duration": 10,
    "start_time": "2022-06-07T12:29:51.617Z"
   },
   {
    "duration": 344,
    "start_time": "2022-06-07T12:29:53.219Z"
   },
   {
    "duration": 14,
    "start_time": "2022-06-07T12:32:41.244Z"
   },
   {
    "duration": 348,
    "start_time": "2022-06-07T12:32:45.961Z"
   },
   {
    "duration": 1373,
    "start_time": "2022-06-07T14:49:53.222Z"
   },
   {
    "duration": 315,
    "start_time": "2022-06-07T14:49:54.597Z"
   },
   {
    "duration": 3,
    "start_time": "2022-06-07T14:49:54.914Z"
   },
   {
    "duration": 176,
    "start_time": "2022-06-07T14:49:54.919Z"
   },
   {
    "duration": 8,
    "start_time": "2022-06-07T14:49:55.097Z"
   },
   {
    "duration": 22,
    "start_time": "2022-06-07T14:49:55.106Z"
   },
   {
    "duration": 5,
    "start_time": "2022-06-07T14:49:55.130Z"
   },
   {
    "duration": 26,
    "start_time": "2022-06-07T14:49:55.136Z"
   },
   {
    "duration": 58,
    "start_time": "2022-06-07T14:49:55.164Z"
   },
   {
    "duration": 17,
    "start_time": "2022-06-07T14:49:55.225Z"
   },
   {
    "duration": 6,
    "start_time": "2022-06-07T14:49:55.244Z"
   },
   {
    "duration": 68,
    "start_time": "2022-06-07T14:49:55.252Z"
   },
   {
    "duration": 5,
    "start_time": "2022-06-07T14:49:55.322Z"
   },
   {
    "duration": 12,
    "start_time": "2022-06-07T14:49:55.329Z"
   },
   {
    "duration": 22,
    "start_time": "2022-06-07T14:49:55.343Z"
   },
   {
    "duration": 54,
    "start_time": "2022-06-07T14:49:55.367Z"
   },
   {
    "duration": 4,
    "start_time": "2022-06-07T14:49:55.423Z"
   },
   {
    "duration": 11,
    "start_time": "2022-06-07T14:49:55.429Z"
   },
   {
    "duration": 155,
    "start_time": "2022-06-07T14:49:55.441Z"
   },
   {
    "duration": 24,
    "start_time": "2022-06-07T14:49:55.597Z"
   },
   {
    "duration": 5,
    "start_time": "2022-06-07T14:49:55.622Z"
   },
   {
    "duration": 21,
    "start_time": "2022-06-07T14:49:55.628Z"
   },
   {
    "duration": 45,
    "start_time": "2022-06-07T14:49:55.651Z"
   },
   {
    "duration": 423,
    "start_time": "2022-06-07T14:49:55.698Z"
   },
   {
    "duration": 642,
    "start_time": "2022-06-07T14:49:56.124Z"
   },
   {
    "duration": 176,
    "start_time": "2022-06-07T14:49:56.768Z"
   },
   {
    "duration": 11,
    "start_time": "2022-06-07T14:49:56.946Z"
   },
   {
    "duration": 13,
    "start_time": "2022-06-07T14:49:56.962Z"
   },
   {
    "duration": 539,
    "start_time": "2022-06-07T14:49:56.976Z"
   },
   {
    "duration": 11,
    "start_time": "2022-06-07T14:49:57.517Z"
   },
   {
    "duration": 43,
    "start_time": "2022-06-07T14:49:57.530Z"
   },
   {
    "duration": 11,
    "start_time": "2022-06-07T14:49:57.575Z"
   },
   {
    "duration": 25,
    "start_time": "2022-06-07T14:49:57.588Z"
   },
   {
    "duration": 13,
    "start_time": "2022-06-07T14:49:57.615Z"
   },
   {
    "duration": 536,
    "start_time": "2022-06-07T14:49:57.629Z"
   },
   {
    "duration": 16,
    "start_time": "2022-06-07T14:49:58.167Z"
   },
   {
    "duration": 54,
    "start_time": "2022-06-07T14:49:58.185Z"
   },
   {
    "duration": 24,
    "start_time": "2022-06-07T14:49:58.241Z"
   },
   {
    "duration": 7,
    "start_time": "2022-06-07T14:49:58.267Z"
   },
   {
    "duration": 312,
    "start_time": "2022-06-07T14:49:58.276Z"
   },
   {
    "duration": 988,
    "start_time": "2022-06-07T14:49:58.591Z"
   },
   {
    "duration": 23,
    "start_time": "2022-06-07T14:49:59.581Z"
   },
   {
    "duration": 18,
    "start_time": "2022-06-07T14:49:59.605Z"
   },
   {
    "duration": 44,
    "start_time": "2022-06-07T14:49:59.624Z"
   },
   {
    "duration": 20,
    "start_time": "2022-06-07T14:49:59.670Z"
   },
   {
    "duration": 382,
    "start_time": "2022-06-07T14:49:59.692Z"
   },
   {
    "duration": 23,
    "start_time": "2022-06-07T14:50:00.076Z"
   },
   {
    "duration": 16,
    "start_time": "2022-06-07T14:50:00.101Z"
   },
   {
    "duration": 191,
    "start_time": "2022-06-07T14:50:00.119Z"
   },
   {
    "duration": 33,
    "start_time": "2022-06-07T14:50:00.312Z"
   },
   {
    "duration": 14,
    "start_time": "2022-06-07T14:50:00.347Z"
   },
   {
    "duration": 103,
    "start_time": "2022-06-07T14:50:00.363Z"
   },
   {
    "duration": 5,
    "start_time": "2022-06-07T14:50:00.468Z"
   },
   {
    "duration": 40,
    "start_time": "2022-06-07T14:50:00.474Z"
   },
   {
    "duration": 8,
    "start_time": "2022-06-07T14:50:00.516Z"
   },
   {
    "duration": 738,
    "start_time": "2022-06-07T14:50:00.526Z"
   },
   {
    "duration": 13,
    "start_time": "2022-06-07T14:50:01.265Z"
   },
   {
    "duration": 32,
    "start_time": "2022-06-07T14:50:01.280Z"
   },
   {
    "duration": 51,
    "start_time": "2022-06-07T14:50:01.314Z"
   },
   {
    "duration": 395,
    "start_time": "2022-06-07T14:50:01.367Z"
   },
   {
    "duration": 16,
    "start_time": "2022-06-07T14:50:01.763Z"
   },
   {
    "duration": 35,
    "start_time": "2022-06-07T14:50:01.781Z"
   },
   {
    "duration": 63,
    "start_time": "2022-06-07T14:50:01.818Z"
   },
   {
    "duration": 411,
    "start_time": "2022-06-07T14:50:01.883Z"
   },
   {
    "duration": 22,
    "start_time": "2022-06-07T14:50:02.296Z"
   },
   {
    "duration": 19,
    "start_time": "2022-06-07T14:50:02.319Z"
   },
   {
    "duration": 23,
    "start_time": "2022-06-07T14:50:02.340Z"
   },
   {
    "duration": 40,
    "start_time": "2022-06-07T14:50:02.364Z"
   },
   {
    "duration": 50,
    "start_time": "2022-06-07T14:50:02.406Z"
   },
   {
    "duration": 48,
    "start_time": "2022-06-07T14:50:02.458Z"
   },
   {
    "duration": 31,
    "start_time": "2022-06-07T14:50:02.508Z"
   },
   {
    "duration": 396,
    "start_time": "2022-06-07T14:50:02.541Z"
   },
   {
    "duration": 14,
    "start_time": "2022-06-07T14:50:21.780Z"
   },
   {
    "duration": 351,
    "start_time": "2022-06-07T14:50:26.535Z"
   },
   {
    "duration": 18,
    "start_time": "2022-06-07T14:51:36.886Z"
   },
   {
    "duration": 25,
    "start_time": "2022-06-07T14:51:53.883Z"
   },
   {
    "duration": 88,
    "start_time": "2022-06-07T14:52:00.925Z"
   },
   {
    "duration": 37,
    "start_time": "2022-06-07T14:52:16.428Z"
   },
   {
    "duration": 161,
    "start_time": "2022-06-07T14:52:18.637Z"
   },
   {
    "duration": 6,
    "start_time": "2022-06-07T14:55:43.878Z"
   },
   {
    "duration": 82,
    "start_time": "2022-06-07T14:55:45.105Z"
   },
   {
    "duration": 24,
    "start_time": "2022-06-07T14:55:54.096Z"
   },
   {
    "duration": 50,
    "start_time": "2022-06-07T14:55:56.985Z"
   },
   {
    "duration": 15,
    "start_time": "2022-06-07T14:57:41.670Z"
   },
   {
    "duration": 26,
    "start_time": "2022-06-07T14:57:48.901Z"
   },
   {
    "duration": 10,
    "start_time": "2022-06-07T14:57:57.082Z"
   },
   {
    "duration": 10,
    "start_time": "2022-06-07T14:57:58.198Z"
   },
   {
    "duration": 34,
    "start_time": "2022-06-07T14:58:01.866Z"
   },
   {
    "duration": 13,
    "start_time": "2022-06-07T14:58:04.682Z"
   },
   {
    "duration": 145,
    "start_time": "2022-06-07T14:58:08.278Z"
   },
   {
    "duration": 6,
    "start_time": "2022-06-07T14:58:09.301Z"
   },
   {
    "duration": 11,
    "start_time": "2022-06-07T14:58:11.882Z"
   },
   {
    "duration": 5466,
    "start_time": "2022-06-07T14:58:15.133Z"
   },
   {
    "duration": 8,
    "start_time": "2022-06-07T14:58:25.774Z"
   },
   {
    "duration": 3,
    "start_time": "2022-06-07T14:58:27.998Z"
   },
   {
    "duration": 1114,
    "start_time": "2022-06-07T14:58:39.508Z"
   },
   {
    "duration": 108,
    "start_time": "2022-06-07T14:58:40.624Z"
   },
   {
    "duration": 21,
    "start_time": "2022-06-07T14:58:47.742Z"
   },
   {
    "duration": 20,
    "start_time": "2022-06-07T14:59:01.361Z"
   },
   {
    "duration": 23,
    "start_time": "2022-06-07T15:06:26.636Z"
   },
   {
    "duration": 11,
    "start_time": "2022-06-07T15:06:30.474Z"
   },
   {
    "duration": 5,
    "start_time": "2022-06-07T15:06:35.424Z"
   },
   {
    "duration": 5,
    "start_time": "2022-06-07T15:07:04.921Z"
   },
   {
    "duration": 5,
    "start_time": "2022-06-07T15:07:08.397Z"
   },
   {
    "duration": 43,
    "start_time": "2022-06-07T15:07:59.107Z"
   },
   {
    "duration": 4,
    "start_time": "2022-06-07T15:08:11.522Z"
   },
   {
    "duration": 6,
    "start_time": "2022-06-07T15:08:29.130Z"
   }
  ],
  "kernelspec": {
   "display_name": "Python 3 (ipykernel)",
   "language": "python",
   "name": "python3"
  },
  "language_info": {
   "codemirror_mode": {
    "name": "ipython",
    "version": 3
   },
   "file_extension": ".py",
   "mimetype": "text/x-python",
   "name": "python",
   "nbconvert_exporter": "python",
   "pygments_lexer": "ipython3",
   "version": "3.9.5"
  },
  "toc": {
   "base_numbering": 1,
   "nav_menu": {},
   "number_sections": true,
   "sideBar": true,
   "skip_h1_title": true,
   "title_cell": "Table of Contents",
   "title_sidebar": "Contents",
   "toc_cell": false,
   "toc_position": {},
   "toc_section_display": true,
   "toc_window_display": false
  }
 },
 "nbformat": 4,
 "nbformat_minor": 5
}
