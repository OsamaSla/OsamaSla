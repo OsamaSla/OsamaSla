{
 "cells": [
  {
   "cell_type": "markdown",
   "metadata": {},
   "source": [
    "# Analyzing borrowers’ risk of defaulting\n",
    "\n",
    "Your project is to prepare a report for a bank’s loan division. You’ll need to find out if a customer’s marital status and number of children has an impact on whether they will default on a loan. The bank already has some data on customers’ credit worthiness.\n",
    "\n",
    "Your report will be considered when building the **credit score** of a potential customer. The **credit score** is used to evaluate the ability of a potential borrower to repay their loan.\n",
    "\n",
    "[In this notebook you're provided with hints and brief instructions and thinking prompts. Don't ignore them as they are designed to equip you with the structure for the project and will help you analyze what you're doing on a deeper level. Before submitting your project, make sure you remove all hints and descriptions provided to you. Instead, make this report look as if you're sending it to your teammates to demonstrate your findings - they shouldn't know you had some external help from us! To help you out, we've placed the hints you should remove in square brackets.]\n",
    "\n",
    "[Before you dive into analyzing your data, explain the purposes of the project and hypotheses you're going to test.]"
   ]
  },
  {
   "cell_type": "markdown",
   "metadata": {},
   "source": [
    "## Open the data file and have a look at the general information. \n",
    "\n",
    "[Start with importing the libraries and loading the data. You may realise that you need additional libraries as you go, which is totally fine - just make sure to update this section when you do.]"
   ]
  },
  {
   "cell_type": "code",
   "execution_count": 1,
   "metadata": {},
   "outputs": [
    {
     "name": "stdout",
     "output_type": "stream",
     "text": [
      "<class 'pandas.core.frame.DataFrame'>\n",
      "RangeIndex: 21525 entries, 0 to 21524\n",
      "Data columns (total 12 columns):\n",
      "children            21525 non-null int64\n",
      "days_employed       19351 non-null float64\n",
      "dob_years           21525 non-null int64\n",
      "education           21525 non-null object\n",
      "education_id        21525 non-null int64\n",
      "family_status       21525 non-null object\n",
      "family_status_id    21525 non-null int64\n",
      "gender              21525 non-null object\n",
      "income_type         21525 non-null object\n",
      "debt                21525 non-null int64\n",
      "total_income        19351 non-null float64\n",
      "purpose             21525 non-null object\n",
      "dtypes: float64(2), int64(5), object(5)\n",
      "memory usage: 2.0+ MB\n"
     ]
    }
   ],
   "source": [
    "# Loading all the libraries\n",
    "from IPython.core.interactiveshell import InteractiveShell\n",
    "InteractiveShell.ast_node_interactivity = \"all\"\n",
    "import pandas as pd\n",
    "import numpy as np\n",
    "try:\n",
    "    df = pd.read_csv(\"/datasets/credit_scoring_eng.csv\")\n",
    "except:\n",
    "    df = pd.read_csv(\"D:\\My Dokuments\\אישי\\Practicum100\\credit_scoring_eng.csv\")\n",
    "# Load the data\n",
    "df.info()"
   ]
  },
  {
   "cell_type": "code",
   "execution_count": 2,
   "metadata": {
    "scrolled": false
   },
   "outputs": [
    {
     "data": {
      "text/html": [
       "<div>\n",
       "<style scoped>\n",
       "    .dataframe tbody tr th:only-of-type {\n",
       "        vertical-align: middle;\n",
       "    }\n",
       "\n",
       "    .dataframe tbody tr th {\n",
       "        vertical-align: top;\n",
       "    }\n",
       "\n",
       "    .dataframe thead th {\n",
       "        text-align: right;\n",
       "    }\n",
       "</style>\n",
       "<table border=\"1\" class=\"dataframe\">\n",
       "  <thead>\n",
       "    <tr style=\"text-align: right;\">\n",
       "      <th></th>\n",
       "      <th>children</th>\n",
       "      <th>days_employed</th>\n",
       "      <th>dob_years</th>\n",
       "      <th>education_id</th>\n",
       "      <th>family_status_id</th>\n",
       "      <th>debt</th>\n",
       "      <th>total_income</th>\n",
       "    </tr>\n",
       "  </thead>\n",
       "  <tbody>\n",
       "    <tr>\n",
       "      <td>count</td>\n",
       "      <td>21525.000000</td>\n",
       "      <td>19351.000000</td>\n",
       "      <td>21525.000000</td>\n",
       "      <td>21525.000000</td>\n",
       "      <td>21525.000000</td>\n",
       "      <td>21525.000000</td>\n",
       "      <td>19351.000000</td>\n",
       "    </tr>\n",
       "    <tr>\n",
       "      <td>mean</td>\n",
       "      <td>0.538908</td>\n",
       "      <td>63046.497661</td>\n",
       "      <td>43.293380</td>\n",
       "      <td>0.817236</td>\n",
       "      <td>0.972544</td>\n",
       "      <td>0.080883</td>\n",
       "      <td>26787.568355</td>\n",
       "    </tr>\n",
       "    <tr>\n",
       "      <td>std</td>\n",
       "      <td>1.381587</td>\n",
       "      <td>140827.311974</td>\n",
       "      <td>12.574584</td>\n",
       "      <td>0.548138</td>\n",
       "      <td>1.420324</td>\n",
       "      <td>0.272661</td>\n",
       "      <td>16475.450632</td>\n",
       "    </tr>\n",
       "    <tr>\n",
       "      <td>min</td>\n",
       "      <td>-1.000000</td>\n",
       "      <td>-18388.949901</td>\n",
       "      <td>0.000000</td>\n",
       "      <td>0.000000</td>\n",
       "      <td>0.000000</td>\n",
       "      <td>0.000000</td>\n",
       "      <td>3306.762000</td>\n",
       "    </tr>\n",
       "    <tr>\n",
       "      <td>25%</td>\n",
       "      <td>0.000000</td>\n",
       "      <td>-2747.423625</td>\n",
       "      <td>33.000000</td>\n",
       "      <td>1.000000</td>\n",
       "      <td>0.000000</td>\n",
       "      <td>0.000000</td>\n",
       "      <td>16488.504500</td>\n",
       "    </tr>\n",
       "    <tr>\n",
       "      <td>50%</td>\n",
       "      <td>0.000000</td>\n",
       "      <td>-1203.369529</td>\n",
       "      <td>42.000000</td>\n",
       "      <td>1.000000</td>\n",
       "      <td>0.000000</td>\n",
       "      <td>0.000000</td>\n",
       "      <td>23202.870000</td>\n",
       "    </tr>\n",
       "    <tr>\n",
       "      <td>75%</td>\n",
       "      <td>1.000000</td>\n",
       "      <td>-291.095954</td>\n",
       "      <td>53.000000</td>\n",
       "      <td>1.000000</td>\n",
       "      <td>1.000000</td>\n",
       "      <td>0.000000</td>\n",
       "      <td>32549.611000</td>\n",
       "    </tr>\n",
       "    <tr>\n",
       "      <td>max</td>\n",
       "      <td>20.000000</td>\n",
       "      <td>401755.400475</td>\n",
       "      <td>75.000000</td>\n",
       "      <td>4.000000</td>\n",
       "      <td>4.000000</td>\n",
       "      <td>1.000000</td>\n",
       "      <td>362496.645000</td>\n",
       "    </tr>\n",
       "  </tbody>\n",
       "</table>\n",
       "</div>"
      ],
      "text/plain": [
       "           children  days_employed     dob_years  education_id  \\\n",
       "count  21525.000000   19351.000000  21525.000000  21525.000000   \n",
       "mean       0.538908   63046.497661     43.293380      0.817236   \n",
       "std        1.381587  140827.311974     12.574584      0.548138   \n",
       "min       -1.000000  -18388.949901      0.000000      0.000000   \n",
       "25%        0.000000   -2747.423625     33.000000      1.000000   \n",
       "50%        0.000000   -1203.369529     42.000000      1.000000   \n",
       "75%        1.000000    -291.095954     53.000000      1.000000   \n",
       "max       20.000000  401755.400475     75.000000      4.000000   \n",
       "\n",
       "       family_status_id          debt   total_income  \n",
       "count      21525.000000  21525.000000   19351.000000  \n",
       "mean           0.972544      0.080883   26787.568355  \n",
       "std            1.420324      0.272661   16475.450632  \n",
       "min            0.000000      0.000000    3306.762000  \n",
       "25%            0.000000      0.000000   16488.504500  \n",
       "50%            0.000000      0.000000   23202.870000  \n",
       "75%            1.000000      0.000000   32549.611000  \n",
       "max            4.000000      1.000000  362496.645000  "
      ]
     },
     "execution_count": 2,
     "metadata": {},
     "output_type": "execute_result"
    },
    {
     "name": "stdout",
     "output_type": "stream",
     "text": [
      "\n"
     ]
    },
    {
     "data": {
      "text/html": [
       "<div>\n",
       "<style scoped>\n",
       "    .dataframe tbody tr th:only-of-type {\n",
       "        vertical-align: middle;\n",
       "    }\n",
       "\n",
       "    .dataframe tbody tr th {\n",
       "        vertical-align: top;\n",
       "    }\n",
       "\n",
       "    .dataframe thead th {\n",
       "        text-align: right;\n",
       "    }\n",
       "</style>\n",
       "<table border=\"1\" class=\"dataframe\">\n",
       "  <thead>\n",
       "    <tr style=\"text-align: right;\">\n",
       "      <th></th>\n",
       "      <th>education</th>\n",
       "      <th>family_status</th>\n",
       "      <th>gender</th>\n",
       "      <th>income_type</th>\n",
       "      <th>purpose</th>\n",
       "    </tr>\n",
       "  </thead>\n",
       "  <tbody>\n",
       "    <tr>\n",
       "      <td>count</td>\n",
       "      <td>21525</td>\n",
       "      <td>21525</td>\n",
       "      <td>21525</td>\n",
       "      <td>21525</td>\n",
       "      <td>21525</td>\n",
       "    </tr>\n",
       "    <tr>\n",
       "      <td>unique</td>\n",
       "      <td>15</td>\n",
       "      <td>5</td>\n",
       "      <td>3</td>\n",
       "      <td>8</td>\n",
       "      <td>38</td>\n",
       "    </tr>\n",
       "    <tr>\n",
       "      <td>top</td>\n",
       "      <td>secondary education</td>\n",
       "      <td>married</td>\n",
       "      <td>F</td>\n",
       "      <td>employee</td>\n",
       "      <td>wedding ceremony</td>\n",
       "    </tr>\n",
       "    <tr>\n",
       "      <td>freq</td>\n",
       "      <td>13750</td>\n",
       "      <td>12380</td>\n",
       "      <td>14236</td>\n",
       "      <td>11119</td>\n",
       "      <td>797</td>\n",
       "    </tr>\n",
       "  </tbody>\n",
       "</table>\n",
       "</div>"
      ],
      "text/plain": [
       "                  education family_status gender income_type           purpose\n",
       "count                 21525         21525  21525       21525             21525\n",
       "unique                   15             5      3           8                38\n",
       "top     secondary education       married      F    employee  wedding ceremony\n",
       "freq                  13750         12380  14236       11119               797"
      ]
     },
     "execution_count": 2,
     "metadata": {},
     "output_type": "execute_result"
    }
   ],
   "source": [
    "df.describe()\n",
    "print()\n",
    "#df.describe(include = \"all\").T\n",
    "df.describe(include = object)"
   ]
  },
  {
   "cell_type": "markdown",
   "metadata": {},
   "source": [
    "## Task 1. Data exploration\n",
    "\n",
    "**Description of the data**\n",
    "- `children` - the number of children in the family\n",
    "- `days_employed` - work experience in days\n",
    "- `dob_years` - client's age in years\n",
    "- `education` - client's education\n",
    "- `education_id` - education identifier\n",
    "- `family_status` - marital status\n",
    "- `family_status_id` - marital status identifier\n",
    "- `gender` - gender of the client\n",
    "- `income_type` - type of employment\n",
    "- `debt` - was there any debt on loan repayment\n",
    "- `total_income` - monthly income\n",
    "- `purpose` - the purpose of obtaining a loan\n",
    "\n",
    "[Now let's explore our data. You'll want to see how many columns and rows it has, look at a few rows to check for potential issues with the data.]"
   ]
  },
  {
   "cell_type": "code",
   "execution_count": 3,
   "metadata": {},
   "outputs": [
    {
     "name": "stdout",
     "output_type": "stream",
     "text": [
      "the size of the table is 21525 rows and 12 columns\n"
     ]
    }
   ],
   "source": [
    "# Let's see how many rows and columns our dataset has\n",
    "print(\"the size of the table is {} rows and {} columns\".format(df.shape[0],df.shape[1]))\n"
   ]
  },
  {
   "cell_type": "code",
   "execution_count": 4,
   "metadata": {
    "scrolled": true
   },
   "outputs": [
    {
     "data": {
      "text/html": [
       "<div>\n",
       "<style scoped>\n",
       "    .dataframe tbody tr th:only-of-type {\n",
       "        vertical-align: middle;\n",
       "    }\n",
       "\n",
       "    .dataframe tbody tr th {\n",
       "        vertical-align: top;\n",
       "    }\n",
       "\n",
       "    .dataframe thead th {\n",
       "        text-align: right;\n",
       "    }\n",
       "</style>\n",
       "<table border=\"1\" class=\"dataframe\">\n",
       "  <thead>\n",
       "    <tr style=\"text-align: right;\">\n",
       "      <th></th>\n",
       "      <th>children</th>\n",
       "      <th>days_employed</th>\n",
       "      <th>dob_years</th>\n",
       "      <th>education</th>\n",
       "      <th>education_id</th>\n",
       "      <th>family_status</th>\n",
       "      <th>family_status_id</th>\n",
       "      <th>gender</th>\n",
       "      <th>income_type</th>\n",
       "      <th>debt</th>\n",
       "      <th>total_income</th>\n",
       "      <th>purpose</th>\n",
       "    </tr>\n",
       "  </thead>\n",
       "  <tbody>\n",
       "    <tr>\n",
       "      <td>0</td>\n",
       "      <td>1</td>\n",
       "      <td>-8437.673028</td>\n",
       "      <td>42</td>\n",
       "      <td>bachelor's degree</td>\n",
       "      <td>0</td>\n",
       "      <td>married</td>\n",
       "      <td>0</td>\n",
       "      <td>F</td>\n",
       "      <td>employee</td>\n",
       "      <td>0</td>\n",
       "      <td>40620.102</td>\n",
       "      <td>purchase of the house</td>\n",
       "    </tr>\n",
       "    <tr>\n",
       "      <td>1</td>\n",
       "      <td>1</td>\n",
       "      <td>-4024.803754</td>\n",
       "      <td>36</td>\n",
       "      <td>secondary education</td>\n",
       "      <td>1</td>\n",
       "      <td>married</td>\n",
       "      <td>0</td>\n",
       "      <td>F</td>\n",
       "      <td>employee</td>\n",
       "      <td>0</td>\n",
       "      <td>17932.802</td>\n",
       "      <td>car purchase</td>\n",
       "    </tr>\n",
       "    <tr>\n",
       "      <td>2</td>\n",
       "      <td>0</td>\n",
       "      <td>-5623.422610</td>\n",
       "      <td>33</td>\n",
       "      <td>Secondary Education</td>\n",
       "      <td>1</td>\n",
       "      <td>married</td>\n",
       "      <td>0</td>\n",
       "      <td>M</td>\n",
       "      <td>employee</td>\n",
       "      <td>0</td>\n",
       "      <td>23341.752</td>\n",
       "      <td>purchase of the house</td>\n",
       "    </tr>\n",
       "    <tr>\n",
       "      <td>3</td>\n",
       "      <td>3</td>\n",
       "      <td>-4124.747207</td>\n",
       "      <td>32</td>\n",
       "      <td>secondary education</td>\n",
       "      <td>1</td>\n",
       "      <td>married</td>\n",
       "      <td>0</td>\n",
       "      <td>M</td>\n",
       "      <td>employee</td>\n",
       "      <td>0</td>\n",
       "      <td>42820.568</td>\n",
       "      <td>supplementary education</td>\n",
       "    </tr>\n",
       "    <tr>\n",
       "      <td>4</td>\n",
       "      <td>0</td>\n",
       "      <td>340266.072047</td>\n",
       "      <td>53</td>\n",
       "      <td>secondary education</td>\n",
       "      <td>1</td>\n",
       "      <td>civil partnership</td>\n",
       "      <td>1</td>\n",
       "      <td>F</td>\n",
       "      <td>retiree</td>\n",
       "      <td>0</td>\n",
       "      <td>25378.572</td>\n",
       "      <td>to have a wedding</td>\n",
       "    </tr>\n",
       "  </tbody>\n",
       "</table>\n",
       "</div>"
      ],
      "text/plain": [
       "   children  days_employed  dob_years            education  education_id  \\\n",
       "0         1   -8437.673028         42    bachelor's degree             0   \n",
       "1         1   -4024.803754         36  secondary education             1   \n",
       "2         0   -5623.422610         33  Secondary Education             1   \n",
       "3         3   -4124.747207         32  secondary education             1   \n",
       "4         0  340266.072047         53  secondary education             1   \n",
       "\n",
       "       family_status  family_status_id gender income_type  debt  total_income  \\\n",
       "0            married                 0      F    employee     0     40620.102   \n",
       "1            married                 0      F    employee     0     17932.802   \n",
       "2            married                 0      M    employee     0     23341.752   \n",
       "3            married                 0      M    employee     0     42820.568   \n",
       "4  civil partnership                 1      F     retiree     0     25378.572   \n",
       "\n",
       "                   purpose  \n",
       "0    purchase of the house  \n",
       "1             car purchase  \n",
       "2    purchase of the house  \n",
       "3  supplementary education  \n",
       "4        to have a wedding  "
      ]
     },
     "execution_count": 4,
     "metadata": {},
     "output_type": "execute_result"
    }
   ],
   "source": [
    "# let's print the first N rows\n",
    "df.head()\n"
   ]
  },
  {
   "cell_type": "markdown",
   "metadata": {},
   "source": [
    "[Describe what you see and notice in your printed data sample. Are there any issues that may need further investigation and changes?]"
   ]
  },
  {
   "cell_type": "code",
   "execution_count": 5,
   "metadata": {
    "scrolled": false
   },
   "outputs": [
    {
     "name": "stdout",
     "output_type": "stream",
     "text": [
      "<class 'pandas.core.frame.DataFrame'>\n",
      "RangeIndex: 21525 entries, 0 to 21524\n",
      "Data columns (total 12 columns):\n",
      "children            21525 non-null int64\n",
      "days_employed       19351 non-null float64\n",
      "dob_years           21525 non-null int64\n",
      "education           21525 non-null object\n",
      "education_id        21525 non-null int64\n",
      "family_status       21525 non-null object\n",
      "family_status_id    21525 non-null int64\n",
      "gender              21525 non-null object\n",
      "income_type         21525 non-null object\n",
      "debt                21525 non-null int64\n",
      "total_income        19351 non-null float64\n",
      "purpose             21525 non-null object\n",
      "dtypes: float64(2), int64(5), object(5)\n",
      "memory usage: 2.0+ MB\n"
     ]
    }
   ],
   "source": [
    "# Get info on data\n",
    "df.info()"
   ]
  },
  {
   "cell_type": "markdown",
   "metadata": {},
   "source": [
    "[Are there missing values across all columns or just a few? Briefly describe what you see in 1-2 sentences.]\n",
    "- I notice there are 2 columns with float64 dtype, so there should be missing data\n",
    "- Also I see in those 2 columns that the number of rows are less than the total rows with difference of: 21525 - 19351 = 2174"
   ]
  },
  {
   "cell_type": "code",
   "execution_count": 6,
   "metadata": {},
   "outputs": [
    {
     "name": "stdout",
     "output_type": "stream",
     "text": [
      "misiing data in days_employed column:  2174\n"
     ]
    }
   ],
   "source": [
    "print(\"misiing data in days_employed column: \",df[\"days_employed\"].isnull().sum()) "
   ]
  },
  {
   "cell_type": "code",
   "execution_count": 7,
   "metadata": {},
   "outputs": [
    {
     "name": "stdout",
     "output_type": "stream",
     "text": [
      "total number of rows: 21525\n"
     ]
    }
   ],
   "source": [
    "print(\"total number of rows:\",len(df.index)) "
   ]
  },
  {
   "cell_type": "code",
   "execution_count": 8,
   "metadata": {
    "scrolled": true
   },
   "outputs": [
    {
     "name": "stdout",
     "output_type": "stream",
     "text": [
      "number of unmissing value rows in days_employed: 19351\n"
     ]
    }
   ],
   "source": [
    "# Let's look at the filtered table with missing values in the first column with missing data\n",
    "print(\"number of unmissing value rows in days_employed:\",df[\"days_employed\"].count())\n"
   ]
  },
  {
   "cell_type": "code",
   "execution_count": 9,
   "metadata": {},
   "outputs": [
    {
     "name": "stdout",
     "output_type": "stream",
     "text": [
      "misiing data in total_income columns: 2174\n"
     ]
    }
   ],
   "source": [
    "print(\"misiing data in total_income columns:\",df[\"total_income\"].isnull().sum())"
   ]
  },
  {
   "cell_type": "markdown",
   "metadata": {},
   "source": [
    "[Do missing values seem symmetric? Can we be sure in this assumption? Explain your thoughts briefly in this section. You may probably want to conduct further investigations, and count the missing values in all the rows with missing values to confirm the missing samples are of the same size.]\n",
    "\n",
    "As I metioned above"
   ]
  },
  {
   "cell_type": "code",
   "execution_count": 10,
   "metadata": {},
   "outputs": [
    {
     "data": {
      "text/plain": [
       "children            2174\n",
       "days_employed          0\n",
       "dob_years           2174\n",
       "education           2174\n",
       "education_id        2174\n",
       "family_status       2174\n",
       "family_status_id    2174\n",
       "gender              2174\n",
       "income_type         2174\n",
       "debt                2174\n",
       "total_income           0\n",
       "purpose             2174\n",
       "dtype: int64"
      ]
     },
     "execution_count": 10,
     "metadata": {},
     "output_type": "execute_result"
    }
   ],
   "source": [
    "# Let's apply multiple conditions for filtering data and look at the number of rows in the filtered table.\n",
    "df[(df[\"days_employed\"].isnull() & df[\"total_income\"].isnull())].count() # misiing data (NaN) in both columns\n"
   ]
  },
  {
   "cell_type": "markdown",
   "metadata": {},
   "source": [
    "# **Intermediate conclusion**\n",
    "\n",
    "[Does the number of rows in the filtered table match the number of missing values? What conclusion can we make from this?]\n",
    "\n",
    "<span style=\"color:blue; font-size: 18px\">**yes it is the same number that means all the missing values are symmetric**</span>\n",
    "\n",
    "[Calculate the percentage of the missing values compared to the whole dataset. Is it a considerably large piece of data? If so, you may want to fill the missing values. To do that, firstly we should consider whether the missing data could be due to the specific client characteristic, such as employment type or something else. You will need to decide which characteristic *you* think might be the reason. Secondly, we should check whether there's any dependence missing values have on the value of other indicators with the columns with identified specific client characteristic.]\n",
    "\n",
    "[Explain your next steps and how they correlate with the conclusions you made so far.]"
   ]
  },
  {
   "cell_type": "code",
   "execution_count": 11,
   "metadata": {},
   "outputs": [
    {
     "name": "stdout",
     "output_type": "stream",
     "text": [
      "percentage of the missing values compared to the whole dataset is 10%\n"
     ]
    }
   ],
   "source": [
    "print(\"percentage of the missing values compared to the whole dataset is {:.0%}\".format(df[\"days_employed\"].isnull().sum() / len(df.index)))"
   ]
  },
  {
   "cell_type": "markdown",
   "metadata": {},
   "source": [
    "<span style=\"color:blue; font-size: 18px\">**the percentage is considerably large piece of data, so we can not delete them**</span>"
   ]
  },
  {
   "cell_type": "code",
   "execution_count": 12,
   "metadata": {},
   "outputs": [
    {
     "data": {
      "text/plain": [
       "False    19351\n",
       "True      2174\n",
       "Name: days_employed, dtype: int64"
      ]
     },
     "execution_count": 12,
     "metadata": {},
     "output_type": "execute_result"
    }
   ],
   "source": [
    "df[\"days_employed\"].isnull().value_counts()"
   ]
  },
  {
   "cell_type": "code",
   "execution_count": 13,
   "metadata": {},
   "outputs": [
    {
     "data": {
      "text/plain": [
       "23202.87"
      ]
     },
     "execution_count": 13,
     "metadata": {},
     "output_type": "execute_result"
    },
    {
     "name": "stdout",
     "output_type": "stream",
     "text": [
      "\n"
     ]
    },
    {
     "data": {
      "text/plain": [
       "26787.56835465867"
      ]
     },
     "execution_count": 13,
     "metadata": {},
     "output_type": "execute_result"
    }
   ],
   "source": [
    "# Let's investigate clients who do not have data on identified characteristic and the column with the missing values\n",
    "df[\"total_income\"].median()\n",
    "print()\n",
    "df[\"total_income\"].mean()"
   ]
  },
  {
   "cell_type": "code",
   "execution_count": 14,
   "metadata": {},
   "outputs": [],
   "source": [
    "# all unique values those not by missing values"
   ]
  },
  {
   "cell_type": "code",
   "execution_count": 15,
   "metadata": {},
   "outputs": [
    {
     "name": "stdout",
     "output_type": "stream",
     "text": [
      "all unique values those not by missing values:\n"
     ]
    },
    {
     "data": {
      "text/plain": [
       "children                8\n",
       "days_employed       19351\n",
       "dob_years              58\n",
       "education              15\n",
       "education_id            5\n",
       "family_status           5\n",
       "family_status_id        5\n",
       "gender                  3\n",
       "income_type             8\n",
       "debt                    2\n",
       "total_income        19348\n",
       "purpose                38\n",
       "dtype: int64"
      ]
     },
     "execution_count": 15,
     "metadata": {},
     "output_type": "execute_result"
    }
   ],
   "source": [
    "print(\"all unique values those not by missing values:\")\n",
    "df[(df.notna())].nunique()"
   ]
  },
  {
   "cell_type": "markdown",
   "metadata": {},
   "source": [
    "# [Describe your findings here.]\n",
    "\n",
    "**Possible reasons for missing values in data**\n",
    "\n",
    "<span style=\"color:blue; font-size: 18px\">**missing values in total_income are distributed evenly among all employment types**</span>.\n",
    "            \n",
    "            \n",
    "[Propose your ideas on why you think the values might be missing. Do you think they are missing randomly or there are any patterns?]\n",
    "[Let's start checking whether the missing values are random.]"
   ]
  },
  {
   "cell_type": "markdown",
   "metadata": {},
   "source": [
    "**Intermediate conclusion**\n",
    "\n",
    "[Is the distribution in the original dataset similar to the distribution of the filtered table? What does that mean for us?]\n",
    "\n",
    "<span style=\"color:blue; font-size: 18px\">**we can't make any conclusions yet**</span>.\n",
    "\n",
    "[If you think we can't make any conclusions yet, let's investigate our dataset further. Let's think about other reasons that could lead to data missing and check if we can find any patterns that may lead us to thinking that the missing values are not random. Because this is your work, this section is optional.]"
   ]
  },
  {
   "cell_type": "markdown",
   "metadata": {},
   "source": [
    " <span style=\"color:blue; font-size: 18px\">**they got lost!!**</span>."
   ]
  },
  {
   "cell_type": "markdown",
   "metadata": {},
   "source": [
    "<span style=\"color:blue; font-size: 18px\">**for education we can index it according to it`s id column, the same with family_status**</span>."
   ]
  },
  {
   "cell_type": "markdown",
   "metadata": {},
   "source": [
    "**Intermediate conclusion**\n",
    "\n",
    "[Can we finally confirm that missing values are accidental? Check for anything else that you think might be important here.]"
   ]
  },
  {
   "cell_type": "code",
   "execution_count": 16,
   "metadata": {
    "scrolled": true
   },
   "outputs": [],
   "source": [
    "# Checking for other patterns - explain which"
   ]
  },
  {
   "cell_type": "code",
   "execution_count": 17,
   "metadata": {},
   "outputs": [
    {
     "data": {
      "text/plain": [
       "children               0\n",
       "days_employed       2174\n",
       "dob_years              0\n",
       "education              0\n",
       "education_id           0\n",
       "family_status          0\n",
       "family_status_id       0\n",
       "gender                 0\n",
       "income_type            0\n",
       "debt                   0\n",
       "total_income        2174\n",
       "purpose                0\n",
       "dtype: int64"
      ]
     },
     "execution_count": 17,
     "metadata": {},
     "output_type": "execute_result"
    }
   ],
   "source": [
    "df.isnull().sum()"
   ]
  },
  {
   "cell_type": "code",
   "execution_count": 18,
   "metadata": {},
   "outputs": [
    {
     "data": {
      "text/plain": [
       "days_employed    0\n",
       "total_income     0\n",
       "dtype: int64"
      ]
     },
     "execution_count": 18,
     "metadata": {},
     "output_type": "execute_result"
    }
   ],
   "source": [
    "df1=df[[\"days_employed\",\"total_income\"]]\n",
    "df1[(df1.days_employed.isnull())].nunique()"
   ]
  },
  {
   "cell_type": "code",
   "execution_count": 19,
   "metadata": {},
   "outputs": [
    {
     "data": {
      "text/plain": [
       "array(['secondary education', 'Secondary Education',\n",
       "       'SECONDARY EDUCATION'], dtype=object)"
      ]
     },
     "execution_count": 19,
     "metadata": {},
     "output_type": "execute_result"
    }
   ],
   "source": [
    "df.education[(df.education_id==1)].unique()"
   ]
  },
  {
   "cell_type": "code",
   "execution_count": 20,
   "metadata": {},
   "outputs": [
    {
     "data": {
      "text/plain": [
       "array([ 1,  0,  3,  2, -1,  4, 20,  5])"
      ]
     },
     "execution_count": 20,
     "metadata": {},
     "output_type": "execute_result"
    }
   ],
   "source": [
    "df.children.unique()"
   ]
  },
  {
   "cell_type": "markdown",
   "metadata": {},
   "source": [
    "<span style=\"color:red; font-size: 22px\">**1-children**\n",
    "    \n",
    "<span style=\"color:blue; font-size: 18px\">**Here we can notice that 0 and 20 are error values in the number of the children!**  \n",
    "    **that we have to fix it**"
   ]
  },
  {
   "cell_type": "code",
   "execution_count": 21,
   "metadata": {},
   "outputs": [
    {
     "data": {
      "text/plain": [
       "array([-8437.67302776, -4024.80375385, -5623.42261023, ...,\n",
       "       -2113.3468877 , -3112.4817052 , -1984.50758853])"
      ]
     },
     "execution_count": 21,
     "metadata": {},
     "output_type": "execute_result"
    }
   ],
   "source": [
    "df.days_employed.unique()"
   ]
  },
  {
   "cell_type": "markdown",
   "metadata": {},
   "source": [
    "<span style=\"color:red; font-size: 22px\">**2-days_employed**\n",
    "\n",
    "<span style=\"color:blue; font-size: 18px\">**here we have to deal with negative values! and maybe convert the column in date form**"
   ]
  },
  {
   "cell_type": "code",
   "execution_count": 22,
   "metadata": {},
   "outputs": [
    {
     "data": {
      "text/plain": [
       "0     101\n",
       "19     14\n",
       "20     51\n",
       "21    111\n",
       "22    183\n",
       "23    254\n",
       "24    264\n",
       "25    357\n",
       "26    408\n",
       "27    493\n",
       "28    503\n",
       "29    545\n",
       "30    540\n",
       "31    560\n",
       "32    510\n",
       "33    581\n",
       "34    603\n",
       "35    617\n",
       "36    555\n",
       "37    537\n",
       "38    598\n",
       "39    573\n",
       "40    609\n",
       "41    607\n",
       "42    597\n",
       "43    513\n",
       "44    547\n",
       "45    497\n",
       "46    475\n",
       "47    480\n",
       "48    538\n",
       "49    508\n",
       "50    514\n",
       "51    448\n",
       "52    484\n",
       "53    459\n",
       "54    479\n",
       "55    443\n",
       "56    487\n",
       "57    460\n",
       "58    461\n",
       "59    444\n",
       "60    377\n",
       "61    355\n",
       "62    352\n",
       "63    269\n",
       "64    265\n",
       "65    194\n",
       "66    183\n",
       "67    167\n",
       "68     99\n",
       "69     85\n",
       "70     65\n",
       "71     58\n",
       "72     33\n",
       "73      8\n",
       "74      6\n",
       "75      1\n",
       "Name: dob_years, dtype: int64"
      ]
     },
     "execution_count": 22,
     "metadata": {},
     "output_type": "execute_result"
    }
   ],
   "source": [
    "df.dob_years.value_counts().sort_index()"
   ]
  },
  {
   "cell_type": "markdown",
   "metadata": {},
   "source": [
    "<span style=\"color:red; font-size: 22px\">**3-dob_years**\n",
    "\n",
    "<span style=\"color:blue; font-size: 18px\">**here we have to deal with the 0 and to categorize the different age ranges**"
   ]
  },
  {
   "cell_type": "code",
   "execution_count": 23,
   "metadata": {},
   "outputs": [
    {
     "data": {
      "text/plain": [
       "array([\"bachelor's degree\", 'secondary education', 'Secondary Education',\n",
       "       'SECONDARY EDUCATION', \"BACHELOR'S DEGREE\", 'some college',\n",
       "       'primary education', \"Bachelor's Degree\", 'SOME COLLEGE',\n",
       "       'Some College', 'PRIMARY EDUCATION', 'Primary Education',\n",
       "       'Graduate Degree', 'GRADUATE DEGREE', 'graduate degree'],\n",
       "      dtype=object)"
      ]
     },
     "execution_count": 23,
     "metadata": {},
     "output_type": "execute_result"
    }
   ],
   "source": [
    "df.education.unique()"
   ]
  },
  {
   "cell_type": "markdown",
   "metadata": {},
   "source": [
    "<span style=\"color:red; font-size: 22px\">**4-education**\n",
    "\n",
    "<span style=\"color:blue; font-size: 18px\">**here we have to form the text in lowercase**"
   ]
  },
  {
   "cell_type": "code",
   "execution_count": 24,
   "metadata": {},
   "outputs": [
    {
     "data": {
      "text/plain": [
       "array([0, 1, 2, 3, 4])"
      ]
     },
     "execution_count": 24,
     "metadata": {},
     "output_type": "execute_result"
    }
   ],
   "source": [
    "df.education_id.unique()"
   ]
  },
  {
   "cell_type": "markdown",
   "metadata": {},
   "source": [
    "<span style=\"color:red; font-size: 22px\">**5-education_id**\n",
    "\n",
    "<span style=\"color:blue; font-size: 18px\">**here is nothing to do**"
   ]
  },
  {
   "cell_type": "code",
   "execution_count": 25,
   "metadata": {},
   "outputs": [
    {
     "data": {
      "text/plain": [
       "array(['married', 'civil partnership', 'widow / widower', 'divorced',\n",
       "       'unmarried'], dtype=object)"
      ]
     },
     "execution_count": 25,
     "metadata": {},
     "output_type": "execute_result"
    }
   ],
   "source": [
    "df.family_status.unique()"
   ]
  },
  {
   "cell_type": "markdown",
   "metadata": {},
   "source": [
    "<span style=\"color:red; font-size: 22px\">**6-family_status**\n",
    "\n",
    "<span style=\"color:blue; font-size: 18px\">**here we notice that the widow and the divorced are identical to unmarried, so I will change those 2 definitions in unmarried**"
   ]
  },
  {
   "cell_type": "code",
   "execution_count": 26,
   "metadata": {},
   "outputs": [
    {
     "data": {
      "text/plain": [
       "array([0, 1, 2, 3, 4])"
      ]
     },
     "execution_count": 26,
     "metadata": {},
     "output_type": "execute_result"
    }
   ],
   "source": [
    "df.family_status_id.unique()"
   ]
  },
  {
   "cell_type": "markdown",
   "metadata": {},
   "source": [
    "<span style=\"color:red; font-size: 22px\">**7-family_status_id**\n",
    "\n",
    "<span style=\"color:blue; font-size: 18px\">**here we notice that the widow and the divorced are identical to unmarried, so I will change theose 2 definitions in unmarried**"
   ]
  },
  {
   "cell_type": "markdown",
   "metadata": {},
   "source": [
    "<span style=\"color:red; font-size: 22px\">**7-family_status_id**\n",
    "\n",
    "<span style=\"color:blue; font-size: 18px\">**here is nothing to do**"
   ]
  },
  {
   "cell_type": "code",
   "execution_count": 27,
   "metadata": {},
   "outputs": [
    {
     "data": {
      "text/plain": [
       "array(['F', 'M', 'XNA'], dtype=object)"
      ]
     },
     "execution_count": 27,
     "metadata": {},
     "output_type": "execute_result"
    }
   ],
   "source": [
    "df.gender.unique()"
   ]
  },
  {
   "cell_type": "markdown",
   "metadata": {},
   "source": [
    "<span style=\"color:red; font-size: 22px\">**8-gender**\n",
    "\n",
    "<span style=\"color:blue; font-size: 18px\">**here I have to check the XNA**"
   ]
  },
  {
   "cell_type": "code",
   "execution_count": 28,
   "metadata": {},
   "outputs": [
    {
     "data": {
      "text/plain": [
       "array(['employee', 'retiree', 'business', 'civil servant', 'unemployed',\n",
       "       'entrepreneur', 'student', 'paternity / maternity leave'],\n",
       "      dtype=object)"
      ]
     },
     "execution_count": 28,
     "metadata": {},
     "output_type": "execute_result"
    }
   ],
   "source": [
    "df.income_type.unique()"
   ]
  },
  {
   "cell_type": "markdown",
   "metadata": {},
   "source": [
    "<span style=\"color:red; font-size: 22px\">**9-income_type**\n",
    "\n",
    "<span style=\"color:blue; font-size: 18px\">**here I have to categorize 2 groups  \n",
    "    empolyed ('employee','business','civil servant','entrepreneur')  \n",
    "    and  \n",
    "    unemployed ('retiree','unemployed','student','paternity / maternity leave')**"
   ]
  },
  {
   "cell_type": "code",
   "execution_count": 29,
   "metadata": {},
   "outputs": [
    {
     "data": {
      "text/plain": [
       "array([0, 1])"
      ]
     },
     "execution_count": 29,
     "metadata": {},
     "output_type": "execute_result"
    }
   ],
   "source": [
    "df.debt.unique()"
   ]
  },
  {
   "cell_type": "markdown",
   "metadata": {},
   "source": [
    "<span style=\"color:red; font-size: 22px\">**10-debt**\n",
    "\n",
    "<span style=\"color:blue; font-size: 18px\">**here is nothing to do**"
   ]
  },
  {
   "cell_type": "code",
   "execution_count": 30,
   "metadata": {
    "scrolled": true
   },
   "outputs": [
    {
     "data": {
      "text/plain": [
       "count     19351.000000\n",
       "mean      26787.568355\n",
       "std       16475.450632\n",
       "min        3306.762000\n",
       "25%       16488.504500\n",
       "50%       23202.870000\n",
       "75%       32549.611000\n",
       "max      362496.645000\n",
       "Name: total_income, dtype: float64"
      ]
     },
     "execution_count": 30,
     "metadata": {},
     "output_type": "execute_result"
    }
   ],
   "source": [
    "df.total_income.describe(include=\"all\")"
   ]
  },
  {
   "cell_type": "markdown",
   "metadata": {},
   "source": [
    "<span style=\"color:red; font-size: 22px\">**11-total_income**\n",
    "\n",
    "<span style=\"color:blue; font-size: 18px\">**here I have to replace missing values with mean or median value according to different categories**"
   ]
  },
  {
   "cell_type": "code",
   "execution_count": 31,
   "metadata": {
    "scrolled": true
   },
   "outputs": [
    {
     "data": {
      "text/plain": [
       "array(['purchase of the house', 'car purchase', 'supplementary education',\n",
       "       'to have a wedding', 'housing transactions', 'education',\n",
       "       'having a wedding', 'purchase of the house for my family',\n",
       "       'buy real estate', 'buy commercial real estate',\n",
       "       'buy residential real estate', 'construction of own property',\n",
       "       'property', 'building a property', 'buying a second-hand car',\n",
       "       'buying my own car', 'transactions with commercial real estate',\n",
       "       'building a real estate', 'housing',\n",
       "       'transactions with my real estate', 'cars', 'to become educated',\n",
       "       'second-hand car purchase', 'getting an education', 'car',\n",
       "       'wedding ceremony', 'to get a supplementary education',\n",
       "       'purchase of my own house', 'real estate transactions',\n",
       "       'getting higher education', 'to own a car', 'purchase of a car',\n",
       "       'profile education', 'university education',\n",
       "       'buying property for renting out', 'to buy a car',\n",
       "       'housing renovation', 'going to university'], dtype=object)"
      ]
     },
     "execution_count": 31,
     "metadata": {},
     "output_type": "execute_result"
    }
   ],
   "source": [
    "df.purpose.unique()"
   ]
  },
  {
   "cell_type": "markdown",
   "metadata": {},
   "source": [
    "<span style=\"color:red; font-size: 22px\">**12-purpose**\n",
    "\n",
    "<span style=\"color:blue; font-size: 18px\">**here I have to make Stemming and lemmatization**"
   ]
  },
  {
   "cell_type": "markdown",
   "metadata": {},
   "source": [
    "## Data transformation\n",
    "\n",
    "[Let's go through each column to see what issues we may have in them.]\n",
    "\n",
    "[Begin with removing duplicates and fixing educational information if required.]"
   ]
  },
  {
   "cell_type": "markdown",
   "metadata": {},
   "source": [
    "<span style=\"color:red; font-size: 22px\">**4-education**\n",
    "\n",
    "<span style=\"color:blue; font-size: 18px\">**here we have to form the text in lowercase**"
   ]
  },
  {
   "cell_type": "code",
   "execution_count": 32,
   "metadata": {},
   "outputs": [
    {
     "data": {
      "text/plain": [
       "array([\"bachelor's degree\", 'secondary education', 'Secondary Education',\n",
       "       'SECONDARY EDUCATION', \"BACHELOR'S DEGREE\", 'some college',\n",
       "       'primary education', \"Bachelor's Degree\", 'SOME COLLEGE',\n",
       "       'Some College', 'PRIMARY EDUCATION', 'Primary Education',\n",
       "       'Graduate Degree', 'GRADUATE DEGREE', 'graduate degree'],\n",
       "      dtype=object)"
      ]
     },
     "execution_count": 32,
     "metadata": {},
     "output_type": "execute_result"
    }
   ],
   "source": [
    "# Let's see all values in education column to check if and what spellings will need to be fixed\n",
    "df[\"education\"].unique()"
   ]
  },
  {
   "cell_type": "markdown",
   "metadata": {},
   "source": [
    "<span style=\"color:blue; font-size: 18px\">**since I noticed that education column includes upper and lower case in text, I`ll make them all in lower case**</span>."
   ]
  },
  {
   "cell_type": "code",
   "execution_count": 33,
   "metadata": {
    "scrolled": true
   },
   "outputs": [
    {
     "data": {
      "text/plain": [
       "array([\"bachelor's degree\", 'secondary education', 'some college',\n",
       "       'primary education', 'graduate degree'], dtype=object)"
      ]
     },
     "execution_count": 33,
     "metadata": {},
     "output_type": "execute_result"
    },
    {
     "data": {
      "text/plain": [
       "secondary education    15233\n",
       "bachelor's degree       5260\n",
       "some college             744\n",
       "primary education        282\n",
       "graduate degree            6\n",
       "Name: education, dtype: int64"
      ]
     },
     "execution_count": 33,
     "metadata": {},
     "output_type": "execute_result"
    }
   ],
   "source": [
    "# Fix the registers if required\n",
    "df[\"education\"] = df[\"education\"].str.lower() # making lowcase of the \"education\" column\n",
    "df[\"education\"].unique()\n",
    "df[\"education\"].value_counts()"
   ]
  },
  {
   "cell_type": "markdown",
   "metadata": {},
   "source": [
    "[Check the data the `children` column]"
   ]
  },
  {
   "cell_type": "markdown",
   "metadata": {},
   "source": [
    "<span style=\"color:red; font-size: 22px\">**1-children**\n",
    "    \n",
    "<span style=\"color:blue; font-size: 18px\">**Here we can notice that 0 and 20 are error values in the number of the children!**  \n",
    "    **that we have to fix it**"
   ]
  },
  {
   "cell_type": "code",
   "execution_count": 34,
   "metadata": {},
   "outputs": [
    {
     "data": {
      "text/plain": [
       " 0     14149\n",
       " 1      4818\n",
       " 2      2055\n",
       " 3       330\n",
       " 20       76\n",
       "-1        47\n",
       " 4        41\n",
       " 5         9\n",
       "Name: children, dtype: int64"
      ]
     },
     "execution_count": 34,
     "metadata": {},
     "output_type": "execute_result"
    }
   ],
   "source": [
    "# Let's see the distribution of values in the `children` column\n",
    "df[\"children\"].value_counts()"
   ]
  },
  {
   "cell_type": "code",
   "execution_count": 35,
   "metadata": {},
   "outputs": [
    {
     "data": {
      "text/plain": [
       "21525"
      ]
     },
     "execution_count": 35,
     "metadata": {},
     "output_type": "execute_result"
    }
   ],
   "source": [
    "df[\"children\"].value_counts().sum()"
   ]
  },
  {
   "cell_type": "code",
   "execution_count": 36,
   "metadata": {},
   "outputs": [
    {
     "data": {
      "text/plain": [
       "47"
      ]
     },
     "execution_count": 36,
     "metadata": {},
     "output_type": "execute_result"
    }
   ],
   "source": [
    "len(df[(df[\"children\"]==-1)])"
   ]
  },
  {
   "cell_type": "code",
   "execution_count": 37,
   "metadata": {},
   "outputs": [
    {
     "data": {
      "text/plain": [
       "'0.22%'"
      ]
     },
     "execution_count": 37,
     "metadata": {},
     "output_type": "execute_result"
    }
   ],
   "source": [
    "\"{:.2%}\".format(len(df[(df[\"children\"]==-1)])/df[\"children\"].value_counts().sum())"
   ]
  },
  {
   "cell_type": "markdown",
   "metadata": {},
   "source": [
    "[Are there any strange things in the column? If yes, how high is the percentage of problematic data? How could they have occurred? Make a decision on what you will do with this data and explain you reasoning.]\n",
    "\n",
    "    0.22% is not high percentage of problematic data, and it can not be in minus, so i suggest to eleminate the minus sign"
   ]
  },
  {
   "cell_type": "code",
   "execution_count": 38,
   "metadata": {},
   "outputs": [
    {
     "data": {
      "text/plain": [
       "0    14149\n",
       "1     4865\n",
       "2     2131\n",
       "3      330\n",
       "4       41\n",
       "5        9\n",
       "Name: children, dtype: int64"
      ]
     },
     "execution_count": 38,
     "metadata": {},
     "output_type": "execute_result"
    }
   ],
   "source": [
    "# [fix the data based on your decision]\n",
    "df[\"children\"]=df[\"children\"].replace({-1: 1}) # replacing -1 values\n",
    "df[\"children\"]=df[\"children\"].replace({20: 2})\n",
    "df[\"children\"].value_counts()"
   ]
  },
  {
   "cell_type": "code",
   "execution_count": 39,
   "metadata": {},
   "outputs": [
    {
     "data": {
      "text/plain": [
       "0"
      ]
     },
     "execution_count": 39,
     "metadata": {},
     "output_type": "execute_result"
    },
    {
     "data": {
      "text/plain": [
       "0"
      ]
     },
     "execution_count": 39,
     "metadata": {},
     "output_type": "execute_result"
    }
   ],
   "source": [
    "# Checking the `children` column again to make sure it's all fixed\n",
    "len(df[(df[\"children\"]==-1)])\n",
    "len(df[(df[\"children\"]==20)])"
   ]
  },
  {
   "cell_type": "markdown",
   "metadata": {},
   "source": [
    "[Check the data in the `days_employed` column. Firstly think about what kind of issues could there be and what you may want to check and how you will do it.]"
   ]
  },
  {
   "cell_type": "markdown",
   "metadata": {},
   "source": [
    "<span style=\"color:red; font-size: 22px\">**2-days_employed**\n",
    "\n",
    "<span style=\"color:blue; font-size: 18px\">**here we have to deal with negative values! and maybe convert the column in date form**"
   ]
  },
  {
   "cell_type": "code",
   "execution_count": 40,
   "metadata": {},
   "outputs": [
    {
     "data": {
      "text/plain": [
       "False    19351\n",
       "True      2174\n",
       "Name: days_employed, dtype: int64"
      ]
     },
     "execution_count": 40,
     "metadata": {},
     "output_type": "execute_result"
    }
   ],
   "source": [
    "# Find problematic data in `days_employed`, if they exist, and calculate the percentage\n",
    "df[\"days_employed\"].isnull().value_counts()"
   ]
  },
  {
   "cell_type": "code",
   "execution_count": 41,
   "metadata": {},
   "outputs": [
    {
     "data": {
      "text/plain": [
       "'The percentage of days_employed 10%'"
      ]
     },
     "execution_count": 41,
     "metadata": {},
     "output_type": "execute_result"
    }
   ],
   "source": [
    "\"The percentage of days_employed {:.0%}\".format(df[\"days_employed\"].isnull().sum() / len(df.index))"
   ]
  },
  {
   "cell_type": "markdown",
   "metadata": {},
   "source": [
    "[If the amount of problematic data is high, it could've been due to some technical issues. We may probably want to propose the most obvious reason why it could've happened and what the correct data might've been, as we can't drop these problematic rows.]"
   ]
  },
  {
   "cell_type": "code",
   "execution_count": 42,
   "metadata": {},
   "outputs": [
    {
     "data": {
      "text/plain": [
       "15906"
      ]
     },
     "execution_count": 42,
     "metadata": {},
     "output_type": "execute_result"
    }
   ],
   "source": [
    "# Address the problematic values, if they exist\n",
    "len(df[\"days_employed\"][(df[\"days_employed\"] < 0)]) # rows with negative values"
   ]
  },
  {
   "cell_type": "code",
   "execution_count": 43,
   "metadata": {},
   "outputs": [
    {
     "data": {
      "text/plain": [
       "21525"
      ]
     },
     "execution_count": 43,
     "metadata": {},
     "output_type": "execute_result"
    }
   ],
   "source": [
    "len(df[\"days_employed\"])"
   ]
  },
  {
   "cell_type": "code",
   "execution_count": 44,
   "metadata": {},
   "outputs": [
    {
     "data": {
      "text/plain": [
       "False    19351\n",
       "True      2174\n",
       "Name: days_employed, dtype: int64"
      ]
     },
     "execution_count": 44,
     "metadata": {},
     "output_type": "execute_result"
    }
   ],
   "source": [
    "df[\"days_employed\"].isnull().value_counts()"
   ]
  },
  {
   "cell_type": "code",
   "execution_count": 45,
   "metadata": {},
   "outputs": [
    {
     "data": {
      "text/plain": [
       "12      NaN\n",
       "26      NaN\n",
       "29      NaN\n",
       "41      NaN\n",
       "55      NaN\n",
       "         ..\n",
       "21489   NaN\n",
       "21495   NaN\n",
       "21497   NaN\n",
       "21502   NaN\n",
       "21510   NaN\n",
       "Name: days_employed, Length: 2174, dtype: float64"
      ]
     },
     "execution_count": 45,
     "metadata": {},
     "output_type": "execute_result"
    }
   ],
   "source": [
    "df_days_employed=df.days_employed[(df.days_employed.isnull())]\n",
    "df_days_employed"
   ]
  },
  {
   "cell_type": "code",
   "execution_count": 46,
   "metadata": {},
   "outputs": [
    {
     "data": {
      "text/plain": [
       "False    19351\n",
       "True      2174\n",
       "Name: days_employed, dtype: int64"
      ]
     },
     "execution_count": 46,
     "metadata": {},
     "output_type": "execute_result"
    },
    {
     "data": {
      "text/plain": [
       "0     -8437.673028\n",
       "1     -4024.803754\n",
       "2     -5623.422610\n",
       "3     -4124.747207\n",
       "4    340266.072047\n",
       "Name: days_employed, dtype: float64"
      ]
     },
     "execution_count": 46,
     "metadata": {},
     "output_type": "execute_result"
    }
   ],
   "source": [
    "# Check the result - make sure it's fixed\n",
    "df.days_employed.isnull().value_counts()\n",
    "df.days_employed.head()"
   ]
  },
  {
   "cell_type": "code",
   "execution_count": 47,
   "metadata": {},
   "outputs": [
    {
     "data": {
      "text/plain": [
       "15906"
      ]
     },
     "execution_count": 47,
     "metadata": {},
     "output_type": "execute_result"
    },
    {
     "data": {
      "text/plain": [
       "0"
      ]
     },
     "execution_count": 47,
     "metadata": {},
     "output_type": "execute_result"
    }
   ],
   "source": [
    "df.days_employed[(df.days_employed<0)].count()\n",
    "df.days_employed=df.days_employed[(df.days_employed.notna())].astype(\"float\").abs()\n",
    "df.days_employed[(df.days_employed<0)].count()"
   ]
  },
  {
   "cell_type": "markdown",
   "metadata": {},
   "source": [
    "<span style=\"color:blue; font-size: 18px\">**here I`ve changed negative values and kept the missing values**"
   ]
  },
  {
   "cell_type": "markdown",
   "metadata": {},
   "source": [
    "<span style=\"color:red; font-size: 22px\">**3-dob_years**\n",
    "\n",
    "<span style=\"color:blue; font-size: 18px\">**here we have to deal with the 0**"
   ]
  },
  {
   "cell_type": "markdown",
   "metadata": {},
   "source": [
    "[Let's now look at the client's age and whether there are any issues there. Again, think about what can data can be strange in this column, i.e. what cannot be someone's age.]\n",
    "\n",
    "<span style=\"color:blue; font-size: 18px\">age 0 is unthinkable!!"
   ]
  },
  {
   "cell_type": "code",
   "execution_count": 48,
   "metadata": {
    "scrolled": true
   },
   "outputs": [
    {
     "data": {
      "text/plain": [
       "0     101\n",
       "19     14\n",
       "20     51\n",
       "21    111\n",
       "22    183\n",
       "23    254\n",
       "24    264\n",
       "25    357\n",
       "26    408\n",
       "27    493\n",
       "28    503\n",
       "29    545\n",
       "30    540\n",
       "31    560\n",
       "32    510\n",
       "33    581\n",
       "34    603\n",
       "35    617\n",
       "36    555\n",
       "37    537\n",
       "38    598\n",
       "39    573\n",
       "40    609\n",
       "41    607\n",
       "42    597\n",
       "43    513\n",
       "44    547\n",
       "45    497\n",
       "46    475\n",
       "47    480\n",
       "48    538\n",
       "49    508\n",
       "50    514\n",
       "51    448\n",
       "52    484\n",
       "53    459\n",
       "54    479\n",
       "55    443\n",
       "56    487\n",
       "57    460\n",
       "58    461\n",
       "59    444\n",
       "60    377\n",
       "61    355\n",
       "62    352\n",
       "63    269\n",
       "64    265\n",
       "65    194\n",
       "66    183\n",
       "67    167\n",
       "68     99\n",
       "69     85\n",
       "70     65\n",
       "71     58\n",
       "72     33\n",
       "73      8\n",
       "74      6\n",
       "75      1\n",
       "Name: dob_years, dtype: int64"
      ]
     },
     "execution_count": 48,
     "metadata": {},
     "output_type": "execute_result"
    }
   ],
   "source": [
    "# Check the `dob_years` for suspicious values and count the percentage\n",
    "df[\"dob_years\"].value_counts().sort_index()"
   ]
  },
  {
   "cell_type": "code",
   "execution_count": 49,
   "metadata": {},
   "outputs": [
    {
     "data": {
      "text/plain": [
       "0.004692218350754936"
      ]
     },
     "execution_count": 49,
     "metadata": {},
     "output_type": "execute_result"
    },
    {
     "name": "stdout",
     "output_type": "stream",
     "text": [
      "the percentage is: 0.47% \n"
     ]
    }
   ],
   "source": [
    "A=len(df[(df[\"dob_years\"]==0)])/len(df[\"dob_years\"])\n",
    "A\n",
    "print(\"the percentage is: {:.2%} \".format(A))\n",
    "# count the percentage"
   ]
  },
  {
   "cell_type": "markdown",
   "metadata": {},
   "source": [
    "[Decide what you'll do with the problematic values and explain why.]"
   ]
  },
  {
   "cell_type": "code",
   "execution_count": 50,
   "metadata": {},
   "outputs": [
    {
     "data": {
      "text/plain": [
       "42.0"
      ]
     },
     "execution_count": 50,
     "metadata": {},
     "output_type": "execute_result"
    }
   ],
   "source": [
    "# Address the issues in the `dob_years` column, if they exist\n",
    "df[\"dob_years\"].median()"
   ]
  },
  {
   "cell_type": "markdown",
   "metadata": {},
   "source": [
    "<span style=\"color:blue; font-size: 18px\">**here I am changing the 0 value into the median of dob_years because the percentage is low**"
   ]
  },
  {
   "cell_type": "code",
   "execution_count": 51,
   "metadata": {},
   "outputs": [],
   "source": [
    "df[\"dob_years\"]=df[\"dob_years\"].replace({0: df[\"dob_years\"].median()}) # replacing 0 values with median\n"
   ]
  },
  {
   "cell_type": "markdown",
   "metadata": {},
   "source": [
    "<span style=\"color:blue; font-size: 18px\">**here I am changing the type values**"
   ]
  },
  {
   "cell_type": "code",
   "execution_count": 52,
   "metadata": {
    "scrolled": true
   },
   "outputs": [
    {
     "data": {
      "text/plain": [
       "19     14\n",
       "20     51\n",
       "21    111\n",
       "22    183\n",
       "23    254\n",
       "24    264\n",
       "25    357\n",
       "26    408\n",
       "27    493\n",
       "28    503\n",
       "29    545\n",
       "30    540\n",
       "31    560\n",
       "32    510\n",
       "33    581\n",
       "34    603\n",
       "35    617\n",
       "36    555\n",
       "37    537\n",
       "38    598\n",
       "39    573\n",
       "40    609\n",
       "41    607\n",
       "42    698\n",
       "43    513\n",
       "44    547\n",
       "45    497\n",
       "46    475\n",
       "47    480\n",
       "48    538\n",
       "49    508\n",
       "50    514\n",
       "51    448\n",
       "52    484\n",
       "53    459\n",
       "54    479\n",
       "55    443\n",
       "56    487\n",
       "57    460\n",
       "58    461\n",
       "59    444\n",
       "60    377\n",
       "61    355\n",
       "62    352\n",
       "63    269\n",
       "64    265\n",
       "65    194\n",
       "66    183\n",
       "67    167\n",
       "68     99\n",
       "69     85\n",
       "70     65\n",
       "71     58\n",
       "72     33\n",
       "73      8\n",
       "74      6\n",
       "75      1\n",
       "Name: dob_years, dtype: int64"
      ]
     },
     "execution_count": 52,
     "metadata": {},
     "output_type": "execute_result"
    }
   ],
   "source": [
    "# Check the result - make sure it's fixed\n",
    "df[\"dob_years\"].astype(\"int\").value_counts().sort_index() # fixed"
   ]
  },
  {
   "cell_type": "markdown",
   "metadata": {},
   "source": [
    "[Now let's check the `family_status` column. See what kind of values there are and what problems you may need to address.]"
   ]
  },
  {
   "cell_type": "markdown",
   "metadata": {},
   "source": [
    "<span style=\"color:blue; font-size: 18px\">**here I am changing the 0 value into the median of dob_years**"
   ]
  },
  {
   "cell_type": "markdown",
   "metadata": {},
   "source": [
    "<span style=\"color:red; font-size: 22px\">**6-family_status**\n",
    "\n",
    "<span style=\"color:blue; font-size: 18px\">**here we notice that the widow and the divorced are identical to unmarried, so I will change those 2 definitions in unmarried**"
   ]
  },
  {
   "cell_type": "code",
   "execution_count": 53,
   "metadata": {},
   "outputs": [
    {
     "data": {
      "text/plain": [
       "married              12380\n",
       "civil partnership     4177\n",
       "unmarried             2813\n",
       "divorced              1195\n",
       "widow / widower        960\n",
       "Name: family_status, dtype: int64"
      ]
     },
     "execution_count": 53,
     "metadata": {},
     "output_type": "execute_result"
    }
   ],
   "source": [
    "# Let's see the values for the column\n",
    "df[\"family_status\"].value_counts()\n"
   ]
  },
  {
   "cell_type": "code",
   "execution_count": 54,
   "metadata": {},
   "outputs": [
    {
     "name": "stdout",
     "output_type": "stream",
     "text": [
      "married: 57.5%\n",
      "civil: 19.4%\n",
      "unmarried: 13.1%\n"
     ]
    }
   ],
   "source": [
    "married=df.family_status[(df.family_status==\"married\")].count()/(df.family_status.count())\n",
    "civil=df.family_status[(df.family_status==\"civil partnership\")].count()/(df.family_status.count())\n",
    "unmarried=df.family_status[(df.family_status==\"unmarried\")].count()/(df.family_status.count())\n",
    "print(\"married: {:.1%}\".format(married))\n",
    "print(\"civil: {:.1%}\".format(civil))\n",
    "print(\"unmarried: {:.1%}\".format(unmarried))"
   ]
  },
  {
   "cell_type": "code",
   "execution_count": 55,
   "metadata": {},
   "outputs": [
    {
     "data": {
      "text/plain": [
       "21525"
      ]
     },
     "execution_count": 55,
     "metadata": {},
     "output_type": "execute_result"
    }
   ],
   "source": [
    "df.family_status.count()"
   ]
  },
  {
   "cell_type": "code",
   "execution_count": 56,
   "metadata": {},
   "outputs": [],
   "source": [
    "# Address the problematic values in `family_status`, if they exist\n",
    "df[\"family_status\"]=df[\"family_status\"]\n",
    "df.loc[(df.family_status == 'divorced'),'family_status']='unmarried'\n",
    "df.loc[(df.family_status == 'widow / widower'),'family_status']='unmarried'"
   ]
  },
  {
   "cell_type": "code",
   "execution_count": 57,
   "metadata": {},
   "outputs": [
    {
     "data": {
      "text/plain": [
       "married              12380\n",
       "unmarried             4968\n",
       "civil partnership     4177\n",
       "Name: family_status, dtype: int64"
      ]
     },
     "execution_count": 57,
     "metadata": {},
     "output_type": "execute_result"
    }
   ],
   "source": [
    "# Check the result - make sure it's fixed\n",
    "df.family_status.value_counts()"
   ]
  },
  {
   "cell_type": "markdown",
   "metadata": {},
   "source": [
    "[Now let's check the `gender` column. See what kind of values there are and what problems you may need to address]"
   ]
  },
  {
   "cell_type": "markdown",
   "metadata": {},
   "source": [
    "<span style=\"color:red; font-size: 22px\">**8-gender**\n",
    "\n",
    "<span style=\"color:blue; font-size: 18px\">**here I have to check the XNA**"
   ]
  },
  {
   "cell_type": "markdown",
   "metadata": {},
   "source": [
    "<span style=\"color:red; font-size: 22px\">**6-family_status**\n",
    "\n",
    "<span style=\"color:blue; font-size: 18px\">**here we notice that the widow and the divorced are identical to unmarried, so I will change those 2 definitions in unmarried**"
   ]
  },
  {
   "cell_type": "code",
   "execution_count": 58,
   "metadata": {},
   "outputs": [
    {
     "data": {
      "text/plain": [
       "F      14236\n",
       "M       7288\n",
       "XNA        1\n",
       "Name: gender, dtype: int64"
      ]
     },
     "execution_count": 58,
     "metadata": {},
     "output_type": "execute_result"
    }
   ],
   "source": [
    "df[\"gender\"].value_counts() # Let's see the values in the column"
   ]
  },
  {
   "cell_type": "code",
   "execution_count": 59,
   "metadata": {},
   "outputs": [],
   "source": [
    "# Address the problematic values, if they exist"
   ]
  },
  {
   "cell_type": "markdown",
   "metadata": {},
   "source": [
    "<span style=\"color:blue; font-size: 18px\">**XNA undefined gender and just one count of it, so it can be deleted**"
   ]
  },
  {
   "cell_type": "code",
   "execution_count": 60,
   "metadata": {},
   "outputs": [
    {
     "data": {
      "text/plain": [
       "F    14236\n",
       "M     7288\n",
       "Name: gender, dtype: int64"
      ]
     },
     "execution_count": 60,
     "metadata": {},
     "output_type": "execute_result"
    }
   ],
   "source": [
    "# Check the result - make sure it's fixed\n",
    "df=df[(df[\"gender\"]!=\"XNA\")] # deleting the row where \"gender\"=XNA \n",
    "df[\"gender\"].value_counts()"
   ]
  },
  {
   "cell_type": "markdown",
   "metadata": {},
   "source": [
    "[Now let's check the `income_type` column. See what kind of values there are and what problems you may need to address]"
   ]
  },
  {
   "cell_type": "markdown",
   "metadata": {},
   "source": [
    "<span style=\"color:red; font-size: 22px\">**9-income_type**\n",
    "\n",
    "<span style=\"color:blue; font-size: 18px\">**here I have to categorize 2 groups  \n",
    "    empolyee ('employee','business','civil servant','entrepreneur')  \n",
    "    and  \n",
    "    unemployed ('retiree','unemployed','student','paternity / maternity leave')  \n",
    "    and  \n",
    "    business ('business','entrepreneur')**"
   ]
  },
  {
   "cell_type": "markdown",
   "metadata": {},
   "source": [
    "<span style=\"color:blue; font-size: 18px\">**XNA undefined gender and just one count of it, so it can be deleted**"
   ]
  },
  {
   "cell_type": "code",
   "execution_count": 61,
   "metadata": {},
   "outputs": [],
   "source": [
    "# Address the problematic values, if they exist"
   ]
  },
  {
   "cell_type": "code",
   "execution_count": 62,
   "metadata": {},
   "outputs": [
    {
     "data": {
      "text/plain": [
       "employee                       11119\n",
       "business                        5084\n",
       "retiree                         3856\n",
       "civil servant                   1459\n",
       "entrepreneur                       2\n",
       "unemployed                         2\n",
       "paternity / maternity leave        1\n",
       "student                            1\n",
       "Name: income_type, dtype: int64"
      ]
     },
     "execution_count": 62,
     "metadata": {},
     "output_type": "execute_result"
    }
   ],
   "source": [
    "df[\"income_type\"].value_counts()# Let's see the values in the column"
   ]
  },
  {
   "cell_type": "code",
   "execution_count": 63,
   "metadata": {},
   "outputs": [],
   "source": [
    "df.loc[(df.income_type == 'civil servant'),'income_type']='employee'\n",
    "df.loc[(df.income_type == 'entrepreneur'),'income_type']='business'\n",
    "df.loc[(df.income_type == 'retiree'),'income_type']='unemployed'\n",
    "df.loc[(df.income_type == 'student'),'income_type']='unemployed'\n",
    "df.loc[(df.income_type == 'paternity / maternity leave'),'income_type']='unemployed'"
   ]
  },
  {
   "cell_type": "code",
   "execution_count": 64,
   "metadata": {},
   "outputs": [
    {
     "name": "stdout",
     "output_type": "stream",
     "text": [
      "employee: 58.4%\n",
      "business: 23.6%\n",
      "unemployed: 17.9%\n"
     ]
    }
   ],
   "source": [
    "employee=df.income_type[(df.income_type==\"employee\")].count()/df.income_type.count()\n",
    "business =df.income_type[(df.income_type==\"business\")].count()/df.income_type.count()\n",
    "unemployed=df.income_type[(df.income_type==\"unemployed\")].count()/df.income_type.count()\n",
    "print(\"employee: {:.1%}\".format(employee))\n",
    "print(\"business: {:.1%}\".format(business))\n",
    "print(\"unemployed: {:.1%}\".format(unemployed))"
   ]
  },
  {
   "cell_type": "code",
   "execution_count": 65,
   "metadata": {},
   "outputs": [
    {
     "data": {
      "text/plain": [
       "employee      12578\n",
       "business       5086\n",
       "unemployed     3860\n",
       "Name: income_type, dtype: int64"
      ]
     },
     "execution_count": 65,
     "metadata": {},
     "output_type": "execute_result"
    }
   ],
   "source": [
    "# Check the result - make sure it's fixed\n",
    "df[\"income_type\"].value_counts()"
   ]
  },
  {
   "cell_type": "markdown",
   "metadata": {},
   "source": [
    "[Now let's see if we have any duplicates in our data. If we do, you'll need to decide what you will do with them and explain why.]"
   ]
  },
  {
   "cell_type": "markdown",
   "metadata": {},
   "source": [
    "<span style=\"color:red; font-size: 22px\">**Duplicates**"
   ]
  },
  {
   "cell_type": "code",
   "execution_count": 66,
   "metadata": {},
   "outputs": [
    {
     "data": {
      "text/plain": [
       "False    21449\n",
       "True        75\n",
       "dtype: int64"
      ]
     },
     "execution_count": 66,
     "metadata": {},
     "output_type": "execute_result"
    }
   ],
   "source": [
    "# Checking duplicates\n",
    "df.duplicated().value_counts()\n"
   ]
  },
  {
   "cell_type": "code",
   "execution_count": 67,
   "metadata": {},
   "outputs": [
    {
     "data": {
      "text/plain": [
       "75"
      ]
     },
     "execution_count": 67,
     "metadata": {},
     "output_type": "execute_result"
    }
   ],
   "source": [
    "df.duplicated().sum() # number of the duplicated rows in whole table"
   ]
  },
  {
   "cell_type": "code",
   "execution_count": 68,
   "metadata": {},
   "outputs": [],
   "source": [
    "# Address the duplicates, if they exist\n",
    "df=df.drop_duplicates()"
   ]
  },
  {
   "cell_type": "code",
   "execution_count": 69,
   "metadata": {},
   "outputs": [
    {
     "data": {
      "text/plain": [
       "False    21449\n",
       "Name: dob_years, dtype: int64"
      ]
     },
     "execution_count": 69,
     "metadata": {},
     "output_type": "execute_result"
    }
   ],
   "source": [
    "df[\"dob_years\"].isnull().value_counts()"
   ]
  },
  {
   "cell_type": "markdown",
   "metadata": {},
   "source": [
    "<span style=\"color:blue; font-size: 18px\">**there are 75 rows duplicated cleaned**"
   ]
  },
  {
   "cell_type": "code",
   "execution_count": 70,
   "metadata": {},
   "outputs": [
    {
     "data": {
      "text/plain": [
       "0"
      ]
     },
     "execution_count": 70,
     "metadata": {},
     "output_type": "execute_result"
    }
   ],
   "source": [
    "# Last check whether we have any duplicates\n",
    "df.duplicated().sum() "
   ]
  },
  {
   "cell_type": "code",
   "execution_count": 71,
   "metadata": {},
   "outputs": [],
   "source": [
    "# Check the size of the dataset that you now have after your first manipulations with it"
   ]
  },
  {
   "cell_type": "code",
   "execution_count": 72,
   "metadata": {},
   "outputs": [
    {
     "name": "stdout",
     "output_type": "stream",
     "text": [
      "<class 'pandas.core.frame.DataFrame'>\n",
      "Int64Index: 21449 entries, 0 to 21524\n",
      "Data columns (total 12 columns):\n",
      "children            21449 non-null int64\n",
      "days_employed       19350 non-null float64\n",
      "dob_years           21449 non-null float64\n",
      "education           21449 non-null object\n",
      "education_id        21449 non-null int64\n",
      "family_status       21449 non-null object\n",
      "family_status_id    21449 non-null int64\n",
      "gender              21449 non-null object\n",
      "income_type         21449 non-null object\n",
      "debt                21449 non-null int64\n",
      "total_income        19350 non-null float64\n",
      "purpose             21449 non-null object\n",
      "dtypes: float64(3), int64(4), object(5)\n",
      "memory usage: 2.1+ MB\n"
     ]
    },
    {
     "data": {
      "text/html": [
       "<div>\n",
       "<style scoped>\n",
       "    .dataframe tbody tr th:only-of-type {\n",
       "        vertical-align: middle;\n",
       "    }\n",
       "\n",
       "    .dataframe tbody tr th {\n",
       "        vertical-align: top;\n",
       "    }\n",
       "\n",
       "    .dataframe thead th {\n",
       "        text-align: right;\n",
       "    }\n",
       "</style>\n",
       "<table border=\"1\" class=\"dataframe\">\n",
       "  <thead>\n",
       "    <tr style=\"text-align: right;\">\n",
       "      <th></th>\n",
       "      <th>education</th>\n",
       "      <th>family_status</th>\n",
       "      <th>gender</th>\n",
       "      <th>income_type</th>\n",
       "      <th>purpose</th>\n",
       "    </tr>\n",
       "  </thead>\n",
       "  <tbody>\n",
       "    <tr>\n",
       "      <td>count</td>\n",
       "      <td>21449</td>\n",
       "      <td>21449</td>\n",
       "      <td>21449</td>\n",
       "      <td>21449</td>\n",
       "      <td>21449</td>\n",
       "    </tr>\n",
       "    <tr>\n",
       "      <td>unique</td>\n",
       "      <td>5</td>\n",
       "      <td>3</td>\n",
       "      <td>2</td>\n",
       "      <td>3</td>\n",
       "      <td>38</td>\n",
       "    </tr>\n",
       "    <tr>\n",
       "      <td>top</td>\n",
       "      <td>secondary education</td>\n",
       "      <td>married</td>\n",
       "      <td>F</td>\n",
       "      <td>employee</td>\n",
       "      <td>wedding ceremony</td>\n",
       "    </tr>\n",
       "    <tr>\n",
       "      <td>freq</td>\n",
       "      <td>15170</td>\n",
       "      <td>12336</td>\n",
       "      <td>14171</td>\n",
       "      <td>12537</td>\n",
       "      <td>791</td>\n",
       "    </tr>\n",
       "  </tbody>\n",
       "</table>\n",
       "</div>"
      ],
      "text/plain": [
       "                  education family_status gender income_type           purpose\n",
       "count                 21449         21449  21449       21449             21449\n",
       "unique                    5             3      2           3                38\n",
       "top     secondary education       married      F    employee  wedding ceremony\n",
       "freq                  15170         12336  14171       12537               791"
      ]
     },
     "execution_count": 72,
     "metadata": {},
     "output_type": "execute_result"
    }
   ],
   "source": [
    "df.info()\n",
    "#df.describe(include=\"all\").T\n",
    "df.describe(include=\"object\")"
   ]
  },
  {
   "cell_type": "markdown",
   "metadata": {},
   "source": [
    "[Describe your new dataset: briefly say what's changed and what's the percentage of the changes, if there were any.]\n"
   ]
  },
  {
   "cell_type": "markdown",
   "metadata": {},
   "source": [
    "<span style=\"color:blue; font-size: 18px\">**-the number of all rows unless the rows of the unmissing values in the 2 column  \n",
    "    -the education column categories has changed from 15 to 5 because the text form  \n",
    "    -the family_status column categories has changed from 5 to 3  \n",
    "    -the income_type column categories has changed from 8 to 3**"
   ]
  },
  {
   "cell_type": "code",
   "execution_count": 73,
   "metadata": {},
   "outputs": [
    {
     "data": {
      "text/plain": [
       "array(['married', 'civil partnership', 'unmarried'], dtype=object)"
      ]
     },
     "execution_count": 73,
     "metadata": {},
     "output_type": "execute_result"
    }
   ],
   "source": [
    "df.family_status.unique()"
   ]
  },
  {
   "cell_type": "code",
   "execution_count": 74,
   "metadata": {},
   "outputs": [
    {
     "name": "stdout",
     "output_type": "stream",
     "text": [
      "married: 57.5%\n",
      "civil: 19.3%\n",
      "unmarried: 23.1%\n"
     ]
    }
   ],
   "source": [
    "married=df.family_status[(df.family_status==\"married\")].count()/(df.family_status.count())\n",
    "civil=df.family_status[(df.family_status==\"civil partnership\")].count()/(df.family_status.count())\n",
    "unmarried=df.family_status[(df.family_status==\"unmarried\")].count()/(df.family_status.count())\n",
    "print(\"married: {:.1%}\".format(married))\n",
    "print(\"civil: {:.1%}\".format(civil))\n",
    "print(\"unmarried: {:.1%}\".format(unmarried))"
   ]
  },
  {
   "cell_type": "markdown",
   "metadata": {},
   "source": [
    "<span style=\"color:blue; font-size: 18px\">**percentage of the changes in family_status  \n",
    "        -unmarried from 13.1% to 23.1%**"
   ]
  },
  {
   "cell_type": "code",
   "execution_count": 75,
   "metadata": {},
   "outputs": [
    {
     "name": "stdout",
     "output_type": "stream",
     "text": [
      "employee: 58.5%\n",
      "business: 23.7%\n",
      "unemployed: 17.9%\n"
     ]
    }
   ],
   "source": [
    "employee=df.income_type[(df.income_type==\"employee\")].count()/df.income_type.count()\n",
    "business =df.income_type[(df.income_type==\"business\")].count()/df.income_type.count()\n",
    "unemployed=df.income_type[(df.income_type==\"unemployed\")].count()/df.income_type.count()\n",
    "print(\"employee: {:.1%}\".format(employee))\n",
    "print(\"business: {:.1%}\".format(business))\n",
    "print(\"unemployed: {:.1%}\".format(unemployed))"
   ]
  },
  {
   "cell_type": "markdown",
   "metadata": {},
   "source": [
    "<span style=\"color:blue; font-size: 18px\">**percentages of the changes in income_type has been a very little changed**"
   ]
  },
  {
   "cell_type": "markdown",
   "metadata": {},
   "source": [
    "# Working with missing values"
   ]
  },
  {
   "cell_type": "markdown",
   "metadata": {},
   "source": [
    "[To speed up working with some data, you may want to work with dictionaries for some values, where IDs are provided. Explain why and which dictionaries you will work with.]"
   ]
  },
  {
   "cell_type": "markdown",
   "metadata": {},
   "source": [
    "<span style=\"color:blue; font-size: 18px\">**-the number of all rows unless the rows of the unmissing values in the 2 column  \n",
    "    -the education column categories has changed from 15 to 5  \n",
    "    -the family_status column categories has changed from 5 to 3  \n",
    "    -the income_type column categories has changed from 8 to 3**"
   ]
  },
  {
   "cell_type": "code",
   "execution_count": 76,
   "metadata": {},
   "outputs": [],
   "source": [
    "# Find the dictionaries"
   ]
  },
  {
   "cell_type": "markdown",
   "metadata": {},
   "source": [
    "<span style=\"color:blue; font-size: 18px\">**education  \n",
    "    and  \n",
    "    Family_status  \n",
    "    every column has it`s ID column**"
   ]
  },
  {
   "cell_type": "markdown",
   "metadata": {},
   "source": [
    "### Restoring missing values in `total_income`"
   ]
  },
  {
   "cell_type": "markdown",
   "metadata": {},
   "source": [
    "[Briefly state which column(s) have values missing that you need to address. Explain how you will fix them.]\n",
    "\n",
    "\n",
    "[Start with addressing total income missing values. Create an age category for clients. Create a new column with the age category. This strategy can help with calculating values for the total income.]\n"
   ]
  },
  {
   "cell_type": "markdown",
   "metadata": {},
   "source": [
    "<span style=\"color:red; font-size: 22px\">**adding age_group as a new column**"
   ]
  },
  {
   "cell_type": "code",
   "execution_count": 77,
   "metadata": {},
   "outputs": [],
   "source": [
    "# Let's write a function that calculates the age category\n",
    "def age_group(age):\n",
    "    if age <= 18:\n",
    "        return 'children'\n",
    "    if age <= 62:\n",
    "        return 'adult'\n",
    "    return 'retired' "
   ]
  },
  {
   "cell_type": "code",
   "execution_count": 78,
   "metadata": {},
   "outputs": [
    {
     "name": "stdout",
     "output_type": "stream",
     "text": [
      "the age of 65 is defined as retired: \n"
     ]
    }
   ],
   "source": [
    "# Test if the function works\n",
    "print(\"the age of 65 is defined as {}: \".format(age_group(65)))"
   ]
  },
  {
   "cell_type": "code",
   "execution_count": 79,
   "metadata": {},
   "outputs": [],
   "source": [
    "# Creating new column based on function\n",
    "df[\"age_group\"]=df['dob_years'].apply(age_group)"
   ]
  },
  {
   "cell_type": "code",
   "execution_count": 80,
   "metadata": {},
   "outputs": [
    {
     "data": {
      "text/plain": [
       "adult      20025\n",
       "retired     1424\n",
       "Name: age_group, dtype: int64"
      ]
     },
     "execution_count": 80,
     "metadata": {},
     "output_type": "execute_result"
    },
    {
     "data": {
      "text/plain": [
       "count     21449\n",
       "unique        2\n",
       "top       adult\n",
       "freq      20025\n",
       "Name: age_group, dtype: object"
      ]
     },
     "execution_count": 80,
     "metadata": {},
     "output_type": "execute_result"
    }
   ],
   "source": [
    "# Checking how values in the new column\n",
    "\n",
    "df[\"age_group\"].value_counts()\n",
    "df[\"age_group\"].describe()"
   ]
  },
  {
   "cell_type": "markdown",
   "metadata": {},
   "source": [
    "[Think about the factors on which income usually depends. Eventually, you will want to find out whether you should use mean or median values for replacing missing values. To make this decision you will probably want to look at the distribution of the factors you identified as impacting one's income.]"
   ]
  },
  {
   "cell_type": "markdown",
   "metadata": {},
   "source": [
    "[Create a table that only has data without missing values. This data will be used to restore the missing values.]"
   ]
  },
  {
   "cell_type": "markdown",
   "metadata": {},
   "source": [
    "<span style=\"color:blue; font-size: 22px\">**table that only has data without missing values**"
   ]
  },
  {
   "cell_type": "code",
   "execution_count": 81,
   "metadata": {},
   "outputs": [
    {
     "data": {
      "text/html": [
       "<div>\n",
       "<style scoped>\n",
       "    .dataframe tbody tr th:only-of-type {\n",
       "        vertical-align: middle;\n",
       "    }\n",
       "\n",
       "    .dataframe tbody tr th {\n",
       "        vertical-align: top;\n",
       "    }\n",
       "\n",
       "    .dataframe thead th {\n",
       "        text-align: right;\n",
       "    }\n",
       "</style>\n",
       "<table border=\"1\" class=\"dataframe\">\n",
       "  <thead>\n",
       "    <tr style=\"text-align: right;\">\n",
       "      <th></th>\n",
       "      <th></th>\n",
       "      <th>count</th>\n",
       "      <th>mean</th>\n",
       "    </tr>\n",
       "    <tr>\n",
       "      <th>income_type</th>\n",
       "      <th>age_group</th>\n",
       "      <th></th>\n",
       "      <th></th>\n",
       "    </tr>\n",
       "  </thead>\n",
       "  <tbody>\n",
       "    <tr>\n",
       "      <td rowspan=\"2\" valign=\"top\">business</td>\n",
       "      <td>adult</td>\n",
       "      <td>4503</td>\n",
       "      <td>32385.094364</td>\n",
       "    </tr>\n",
       "    <tr>\n",
       "      <td>retired</td>\n",
       "      <td>74</td>\n",
       "      <td>33128.604608</td>\n",
       "    </tr>\n",
       "    <tr>\n",
       "      <td rowspan=\"2\" valign=\"top\">employee</td>\n",
       "      <td>adult</td>\n",
       "      <td>11186</td>\n",
       "      <td>25973.933271</td>\n",
       "    </tr>\n",
       "    <tr>\n",
       "      <td>retired</td>\n",
       "      <td>140</td>\n",
       "      <td>27860.458957</td>\n",
       "    </tr>\n",
       "    <tr>\n",
       "      <td rowspan=\"2\" valign=\"top\">unemployed</td>\n",
       "      <td>adult</td>\n",
       "      <td>2375</td>\n",
       "      <td>22290.795181</td>\n",
       "    </tr>\n",
       "    <tr>\n",
       "      <td>retired</td>\n",
       "      <td>1072</td>\n",
       "      <td>21144.116941</td>\n",
       "    </tr>\n",
       "  </tbody>\n",
       "</table>\n",
       "</div>"
      ],
      "text/plain": [
       "                       count          mean\n",
       "income_type age_group                     \n",
       "business    adult       4503  32385.094364\n",
       "            retired       74  33128.604608\n",
       "employee    adult      11186  25973.933271\n",
       "            retired      140  27860.458957\n",
       "unemployed  adult       2375  22290.795181\n",
       "            retired     1072  21144.116941"
      ]
     },
     "execution_count": 81,
     "metadata": {},
     "output_type": "execute_result"
    }
   ],
   "source": [
    "df.groupby([\"income_type\",\"age_group\"]).total_income.agg([\"count\",\"mean\"])"
   ]
  },
  {
   "cell_type": "code",
   "execution_count": 82,
   "metadata": {},
   "outputs": [
    {
     "data": {
      "text/plain": [
       "array(['employee', 'unemployed', 'business'], dtype=object)"
      ]
     },
     "execution_count": 82,
     "metadata": {},
     "output_type": "execute_result"
    }
   ],
   "source": [
    "df[\"income_type\"].unique()"
   ]
  },
  {
   "cell_type": "markdown",
   "metadata": {},
   "source": [
    "<span style=\"color:blue; font-size: 22px\">**list of the averages of total_income by every income_type**"
   ]
  },
  {
   "cell_type": "code",
   "execution_count": 83,
   "metadata": {},
   "outputs": [
    {
     "data": {
      "text/html": [
       "<div>\n",
       "<style scoped>\n",
       "    .dataframe tbody tr th:only-of-type {\n",
       "        vertical-align: middle;\n",
       "    }\n",
       "\n",
       "    .dataframe tbody tr th {\n",
       "        vertical-align: top;\n",
       "    }\n",
       "\n",
       "    .dataframe thead th {\n",
       "        text-align: right;\n",
       "    }\n",
       "</style>\n",
       "<table border=\"1\" class=\"dataframe\">\n",
       "  <thead>\n",
       "    <tr style=\"text-align: right;\">\n",
       "      <th></th>\n",
       "      <th>count</th>\n",
       "      <th>mean</th>\n",
       "      <th>std</th>\n",
       "      <th>min</th>\n",
       "      <th>25%</th>\n",
       "      <th>50%</th>\n",
       "      <th>75%</th>\n",
       "      <th>max</th>\n",
       "    </tr>\n",
       "    <tr>\n",
       "      <th>income_type</th>\n",
       "      <th></th>\n",
       "      <th></th>\n",
       "      <th></th>\n",
       "      <th></th>\n",
       "      <th></th>\n",
       "      <th></th>\n",
       "      <th></th>\n",
       "      <th></th>\n",
       "    </tr>\n",
       "  </thead>\n",
       "  <tbody>\n",
       "    <tr>\n",
       "      <td>business</td>\n",
       "      <td>4577.0</td>\n",
       "      <td>32397.115286</td>\n",
       "      <td>20888.767605</td>\n",
       "      <td>4592.450</td>\n",
       "      <td>20142.0390</td>\n",
       "      <td>27577.272</td>\n",
       "      <td>39027.4220</td>\n",
       "      <td>362496.645</td>\n",
       "    </tr>\n",
       "    <tr>\n",
       "      <td>employee</td>\n",
       "      <td>11326.0</td>\n",
       "      <td>25997.252501</td>\n",
       "      <td>14724.691300</td>\n",
       "      <td>3418.824</td>\n",
       "      <td>16496.6835</td>\n",
       "      <td>22927.388</td>\n",
       "      <td>31712.8265</td>\n",
       "      <td>276204.162</td>\n",
       "    </tr>\n",
       "    <tr>\n",
       "      <td>unemployed</td>\n",
       "      <td>3447.0</td>\n",
       "      <td>21934.183904</td>\n",
       "      <td>12837.472325</td>\n",
       "      <td>3306.762</td>\n",
       "      <td>13259.3865</td>\n",
       "      <td>18956.934</td>\n",
       "      <td>27152.0690</td>\n",
       "      <td>117616.523</td>\n",
       "    </tr>\n",
       "  </tbody>\n",
       "</table>\n",
       "</div>"
      ],
      "text/plain": [
       "               count          mean           std       min         25%  \\\n",
       "income_type                                                              \n",
       "business      4577.0  32397.115286  20888.767605  4592.450  20142.0390   \n",
       "employee     11326.0  25997.252501  14724.691300  3418.824  16496.6835   \n",
       "unemployed    3447.0  21934.183904  12837.472325  3306.762  13259.3865   \n",
       "\n",
       "                   50%         75%         max  \n",
       "income_type                                     \n",
       "business     27577.272  39027.4220  362496.645  \n",
       "employee     22927.388  31712.8265  276204.162  \n",
       "unemployed   18956.934  27152.0690  117616.523  "
      ]
     },
     "execution_count": 83,
     "metadata": {},
     "output_type": "execute_result"
    }
   ],
   "source": [
    "#df[df.income_type==\"business\"].total_income.mean()  # the average of total_income when income_type==\"business\"\n",
    "df.groupby(\"income_type\")[\"total_income\"].describe()"
   ]
  },
  {
   "cell_type": "code",
   "execution_count": 84,
   "metadata": {},
   "outputs": [
    {
     "data": {
      "text/plain": [
       "False    11326\n",
       "True      1211\n",
       "Name: total_income, dtype: int64"
      ]
     },
     "execution_count": 84,
     "metadata": {},
     "output_type": "execute_result"
    }
   ],
   "source": [
    "df.total_income[(df.income_type==\"employee\")].isnull().value_counts()"
   ]
  },
  {
   "cell_type": "code",
   "execution_count": 85,
   "metadata": {},
   "outputs": [],
   "source": [
    "#  Write a function that we will use for filling in missing values"
   ]
  },
  {
   "cell_type": "markdown",
   "metadata": {},
   "source": [
    "<span style=\"color:blue; font-size: 22px\">**filling all missing values in total_income with the mean value of each category in income_type**"
   ]
  },
  {
   "cell_type": "code",
   "execution_count": 86,
   "metadata": {},
   "outputs": [],
   "source": [
    "df['total_income'] = df.groupby('income_type')['total_income'].transform(lambda grp: grp.fillna(np.median(grp)))\n",
    "#df['total_income'] = df.groupby('income_type')['total_income'].transform('median'))"
   ]
  },
  {
   "cell_type": "code",
   "execution_count": 87,
   "metadata": {},
   "outputs": [
    {
     "name": "stdout",
     "output_type": "stream",
     "text": [
      "Code with implementing data['total_income'] = data.groupby('income_type')['total_income'].transform(lambda grp: grp.fillna(grp.median()))\n"
     ]
    },
    {
     "data": {
      "text/html": [
       "<div>\n",
       "<style scoped>\n",
       "    .dataframe tbody tr th:only-of-type {\n",
       "        vertical-align: middle;\n",
       "    }\n",
       "\n",
       "    .dataframe tbody tr th {\n",
       "        vertical-align: top;\n",
       "    }\n",
       "\n",
       "    .dataframe thead th {\n",
       "        text-align: right;\n",
       "    }\n",
       "</style>\n",
       "<table border=\"1\" class=\"dataframe\">\n",
       "  <thead>\n",
       "    <tr style=\"text-align: right;\">\n",
       "      <th></th>\n",
       "      <th>children</th>\n",
       "      <th>days_employed</th>\n",
       "      <th>dob_years</th>\n",
       "      <th>education</th>\n",
       "      <th>education_id</th>\n",
       "      <th>family_status</th>\n",
       "      <th>family_status_id</th>\n",
       "      <th>gender</th>\n",
       "      <th>income_type</th>\n",
       "      <th>debt</th>\n",
       "      <th>total_income</th>\n",
       "      <th>purpose</th>\n",
       "      <th>age_group</th>\n",
       "    </tr>\n",
       "  </thead>\n",
       "  <tbody>\n",
       "    <tr>\n",
       "      <td>12</td>\n",
       "      <td>0</td>\n",
       "      <td>NaN</td>\n",
       "      <td>65.0</td>\n",
       "      <td>secondary education</td>\n",
       "      <td>1</td>\n",
       "      <td>civil partnership</td>\n",
       "      <td>1</td>\n",
       "      <td>M</td>\n",
       "      <td>unemployed</td>\n",
       "      <td>0</td>\n",
       "      <td>NaN</td>\n",
       "      <td>to have a wedding</td>\n",
       "      <td>retired</td>\n",
       "    </tr>\n",
       "    <tr>\n",
       "      <td>26</td>\n",
       "      <td>0</td>\n",
       "      <td>NaN</td>\n",
       "      <td>41.0</td>\n",
       "      <td>secondary education</td>\n",
       "      <td>1</td>\n",
       "      <td>married</td>\n",
       "      <td>0</td>\n",
       "      <td>M</td>\n",
       "      <td>employee</td>\n",
       "      <td>0</td>\n",
       "      <td>NaN</td>\n",
       "      <td>education</td>\n",
       "      <td>adult</td>\n",
       "    </tr>\n",
       "    <tr>\n",
       "      <td>29</td>\n",
       "      <td>0</td>\n",
       "      <td>NaN</td>\n",
       "      <td>63.0</td>\n",
       "      <td>secondary education</td>\n",
       "      <td>1</td>\n",
       "      <td>unmarried</td>\n",
       "      <td>4</td>\n",
       "      <td>F</td>\n",
       "      <td>unemployed</td>\n",
       "      <td>0</td>\n",
       "      <td>NaN</td>\n",
       "      <td>building a real estate</td>\n",
       "      <td>retired</td>\n",
       "    </tr>\n",
       "    <tr>\n",
       "      <td>41</td>\n",
       "      <td>0</td>\n",
       "      <td>NaN</td>\n",
       "      <td>50.0</td>\n",
       "      <td>secondary education</td>\n",
       "      <td>1</td>\n",
       "      <td>married</td>\n",
       "      <td>0</td>\n",
       "      <td>F</td>\n",
       "      <td>employee</td>\n",
       "      <td>0</td>\n",
       "      <td>NaN</td>\n",
       "      <td>second-hand car purchase</td>\n",
       "      <td>adult</td>\n",
       "    </tr>\n",
       "    <tr>\n",
       "      <td>55</td>\n",
       "      <td>0</td>\n",
       "      <td>NaN</td>\n",
       "      <td>54.0</td>\n",
       "      <td>secondary education</td>\n",
       "      <td>1</td>\n",
       "      <td>civil partnership</td>\n",
       "      <td>1</td>\n",
       "      <td>F</td>\n",
       "      <td>unemployed</td>\n",
       "      <td>1</td>\n",
       "      <td>NaN</td>\n",
       "      <td>to have a wedding</td>\n",
       "      <td>adult</td>\n",
       "    </tr>\n",
       "    <tr>\n",
       "      <td>...</td>\n",
       "      <td>...</td>\n",
       "      <td>...</td>\n",
       "      <td>...</td>\n",
       "      <td>...</td>\n",
       "      <td>...</td>\n",
       "      <td>...</td>\n",
       "      <td>...</td>\n",
       "      <td>...</td>\n",
       "      <td>...</td>\n",
       "      <td>...</td>\n",
       "      <td>...</td>\n",
       "      <td>...</td>\n",
       "      <td>...</td>\n",
       "    </tr>\n",
       "    <tr>\n",
       "      <td>21489</td>\n",
       "      <td>2</td>\n",
       "      <td>NaN</td>\n",
       "      <td>47.0</td>\n",
       "      <td>secondary education</td>\n",
       "      <td>1</td>\n",
       "      <td>married</td>\n",
       "      <td>0</td>\n",
       "      <td>M</td>\n",
       "      <td>business</td>\n",
       "      <td>0</td>\n",
       "      <td>NaN</td>\n",
       "      <td>purchase of a car</td>\n",
       "      <td>adult</td>\n",
       "    </tr>\n",
       "    <tr>\n",
       "      <td>21495</td>\n",
       "      <td>1</td>\n",
       "      <td>NaN</td>\n",
       "      <td>50.0</td>\n",
       "      <td>secondary education</td>\n",
       "      <td>1</td>\n",
       "      <td>civil partnership</td>\n",
       "      <td>1</td>\n",
       "      <td>F</td>\n",
       "      <td>employee</td>\n",
       "      <td>0</td>\n",
       "      <td>NaN</td>\n",
       "      <td>wedding ceremony</td>\n",
       "      <td>adult</td>\n",
       "    </tr>\n",
       "    <tr>\n",
       "      <td>21497</td>\n",
       "      <td>0</td>\n",
       "      <td>NaN</td>\n",
       "      <td>48.0</td>\n",
       "      <td>bachelor's degree</td>\n",
       "      <td>0</td>\n",
       "      <td>married</td>\n",
       "      <td>0</td>\n",
       "      <td>F</td>\n",
       "      <td>business</td>\n",
       "      <td>0</td>\n",
       "      <td>NaN</td>\n",
       "      <td>building a property</td>\n",
       "      <td>adult</td>\n",
       "    </tr>\n",
       "    <tr>\n",
       "      <td>21502</td>\n",
       "      <td>1</td>\n",
       "      <td>NaN</td>\n",
       "      <td>42.0</td>\n",
       "      <td>secondary education</td>\n",
       "      <td>1</td>\n",
       "      <td>married</td>\n",
       "      <td>0</td>\n",
       "      <td>F</td>\n",
       "      <td>employee</td>\n",
       "      <td>0</td>\n",
       "      <td>NaN</td>\n",
       "      <td>building a real estate</td>\n",
       "      <td>adult</td>\n",
       "    </tr>\n",
       "    <tr>\n",
       "      <td>21510</td>\n",
       "      <td>2</td>\n",
       "      <td>NaN</td>\n",
       "      <td>28.0</td>\n",
       "      <td>secondary education</td>\n",
       "      <td>1</td>\n",
       "      <td>married</td>\n",
       "      <td>0</td>\n",
       "      <td>F</td>\n",
       "      <td>employee</td>\n",
       "      <td>0</td>\n",
       "      <td>NaN</td>\n",
       "      <td>car purchase</td>\n",
       "      <td>adult</td>\n",
       "    </tr>\n",
       "  </tbody>\n",
       "</table>\n",
       "<p>2099 rows × 13 columns</p>\n",
       "</div>"
      ],
      "text/plain": [
       "       children  days_employed  dob_years            education  education_id  \\\n",
       "12            0            NaN       65.0  secondary education             1   \n",
       "26            0            NaN       41.0  secondary education             1   \n",
       "29            0            NaN       63.0  secondary education             1   \n",
       "41            0            NaN       50.0  secondary education             1   \n",
       "55            0            NaN       54.0  secondary education             1   \n",
       "...         ...            ...        ...                  ...           ...   \n",
       "21489         2            NaN       47.0  secondary education             1   \n",
       "21495         1            NaN       50.0  secondary education             1   \n",
       "21497         0            NaN       48.0    bachelor's degree             0   \n",
       "21502         1            NaN       42.0  secondary education             1   \n",
       "21510         2            NaN       28.0  secondary education             1   \n",
       "\n",
       "           family_status  family_status_id gender income_type  debt  \\\n",
       "12     civil partnership                 1      M  unemployed     0   \n",
       "26               married                 0      M    employee     0   \n",
       "29             unmarried                 4      F  unemployed     0   \n",
       "41               married                 0      F    employee     0   \n",
       "55     civil partnership                 1      F  unemployed     1   \n",
       "...                  ...               ...    ...         ...   ...   \n",
       "21489            married                 0      M    business     0   \n",
       "21495  civil partnership                 1      F    employee     0   \n",
       "21497            married                 0      F    business     0   \n",
       "21502            married                 0      F    employee     0   \n",
       "21510            married                 0      F    employee     0   \n",
       "\n",
       "       total_income                   purpose age_group  \n",
       "12              NaN         to have a wedding   retired  \n",
       "26              NaN                 education     adult  \n",
       "29              NaN    building a real estate   retired  \n",
       "41              NaN  second-hand car purchase     adult  \n",
       "55              NaN         to have a wedding     adult  \n",
       "...             ...                       ...       ...  \n",
       "21489           NaN         purchase of a car     adult  \n",
       "21495           NaN          wedding ceremony     adult  \n",
       "21497           NaN       building a property     adult  \n",
       "21502           NaN    building a real estate     adult  \n",
       "21510           NaN              car purchase     adult  \n",
       "\n",
       "[2099 rows x 13 columns]"
      ]
     },
     "metadata": {},
     "output_type": "display_data"
    },
    {
     "name": "stdout",
     "output_type": "stream",
     "text": [
      "Number of Nan values: 2099\n",
      "-------------------------------------------------------------------------------\n",
      "Code with implementing  df['total_income'] = df['total_income'].fillna(df.groupby('income_type')['total_income'].transform('median'))\n"
     ]
    },
    {
     "data": {
      "text/html": [
       "<div>\n",
       "<style scoped>\n",
       "    .dataframe tbody tr th:only-of-type {\n",
       "        vertical-align: middle;\n",
       "    }\n",
       "\n",
       "    .dataframe tbody tr th {\n",
       "        vertical-align: top;\n",
       "    }\n",
       "\n",
       "    .dataframe thead th {\n",
       "        text-align: right;\n",
       "    }\n",
       "</style>\n",
       "<table border=\"1\" class=\"dataframe\">\n",
       "  <thead>\n",
       "    <tr style=\"text-align: right;\">\n",
       "      <th></th>\n",
       "      <th>children</th>\n",
       "      <th>days_employed</th>\n",
       "      <th>dob_years</th>\n",
       "      <th>education</th>\n",
       "      <th>education_id</th>\n",
       "      <th>family_status</th>\n",
       "      <th>family_status_id</th>\n",
       "      <th>gender</th>\n",
       "      <th>income_type</th>\n",
       "      <th>debt</th>\n",
       "      <th>total_income</th>\n",
       "      <th>purpose</th>\n",
       "      <th>age_group</th>\n",
       "    </tr>\n",
       "  </thead>\n",
       "  <tbody>\n",
       "  </tbody>\n",
       "</table>\n",
       "</div>"
      ],
      "text/plain": [
       "Empty DataFrame\n",
       "Columns: [children, days_employed, dob_years, education, education_id, family_status, family_status_id, gender, income_type, debt, total_income, purpose, age_group]\n",
       "Index: []"
      ]
     },
     "metadata": {},
     "output_type": "display_data"
    },
    {
     "name": "stdout",
     "output_type": "stream",
     "text": [
      "Number of Nan values: 0\n"
     ]
    }
   ],
   "source": [
    "#Reviewer's code\n",
    "print(\"Code with implementing data['total_income'] = data.groupby('income_type')['total_income'].transform(lambda grp: grp.fillna(grp.median()))\")\n",
    "df['total_income'] = df.groupby('income_type')['total_income'].transform(lambda grp: grp.fillna(np.median(grp)))\n",
    "display(df[df['total_income'].isnull()])\n",
    "print('Number of Nan values:', len(df[df['total_income'].isnull()]))\n",
    "print('-------------------------------------------------------------------------------')\n",
    "print(\"Code with implementing  df['total_income'] = df['total_income'].fillna(df.groupby('income_type')['total_income'].transform('median'))\")\n",
    "df['total_income'] = df['total_income'].fillna(df.groupby('income_type')['total_income'].transform('median'))\n",
    "display(df[df['total_income'].isnull()])\n",
    "print('Number of Nan values:', len(df[df['total_income'].isnull()]))"
   ]
  },
  {
   "cell_type": "code",
   "execution_count": 88,
   "metadata": {},
   "outputs": [],
   "source": [
    "# Check if it works\n"
   ]
  },
  {
   "cell_type": "code",
   "execution_count": 89,
   "metadata": {},
   "outputs": [
    {
     "data": {
      "text/plain": [
       "False    21449\n",
       "Name: total_income, dtype: int64"
      ]
     },
     "execution_count": 89,
     "metadata": {},
     "output_type": "execute_result"
    },
    {
     "name": "stdout",
     "output_type": "stream",
     "text": [
      "<class 'pandas.core.frame.DataFrame'>\n",
      "Int64Index: 21449 entries, 0 to 21524\n",
      "Data columns (total 13 columns):\n",
      "children            21449 non-null int64\n",
      "days_employed       19350 non-null float64\n",
      "dob_years           21449 non-null float64\n",
      "education           21449 non-null object\n",
      "education_id        21449 non-null int64\n",
      "family_status       21449 non-null object\n",
      "family_status_id    21449 non-null int64\n",
      "gender              21449 non-null object\n",
      "income_type         21449 non-null object\n",
      "debt                21449 non-null int64\n",
      "total_income        21449 non-null float64\n",
      "purpose             21449 non-null object\n",
      "age_group           21449 non-null object\n",
      "dtypes: float64(3), int64(4), object(6)\n",
      "memory usage: 2.9+ MB\n"
     ]
    }
   ],
   "source": [
    "df.total_income.isnull().value_counts()\n",
    "df.info()"
   ]
  },
  {
   "cell_type": "code",
   "execution_count": 90,
   "metadata": {},
   "outputs": [],
   "source": [
    "# Apply it to every row\n"
   ]
  },
  {
   "cell_type": "markdown",
   "metadata": {},
   "source": [
    "### Check if we got any errors"
   ]
  },
  {
   "cell_type": "code",
   "execution_count": 91,
   "metadata": {},
   "outputs": [
    {
     "data": {
      "text/plain": [
       "income_type\n",
       "business      27577.272\n",
       "employee      22927.388\n",
       "unemployed    18956.934\n",
       "Name: total_income, dtype: float64"
      ]
     },
     "execution_count": 91,
     "metadata": {},
     "output_type": "execute_result"
    }
   ],
   "source": [
    "#df.groupby('income_type')['total_income'].describe(include=\"all\").T\n",
    "df.groupby('income_type')['total_income'].median()"
   ]
  },
  {
   "cell_type": "code",
   "execution_count": 92,
   "metadata": {
    "scrolled": true
   },
   "outputs": [],
   "source": [
    "# Look at the median values for income based on your identified factors"
   ]
  },
  {
   "cell_type": "markdown",
   "metadata": {},
   "source": [
    "[Repeat such comparisons for multiple factors. Make sure you consider different aspects and explain your thinking process.]\n",
    "\n"
   ]
  },
  {
   "cell_type": "markdown",
   "metadata": {},
   "source": [
    "[Make a decision on what characteristics define income most and whether you will use a median or a mean. Explain why you made this decision]\n"
   ]
  },
  {
   "cell_type": "markdown",
   "metadata": {},
   "source": [
    "[If you've came across errors in preparing the values for missing data, it probably means there's something special about the data for the category. Give it some thought - you may want to fix some things manually, if there's enough data to find medians/means.]\n"
   ]
  },
  {
   "cell_type": "code",
   "execution_count": 93,
   "metadata": {},
   "outputs": [
    {
     "data": {
      "text/plain": [
       "children               0\n",
       "days_employed       2099\n",
       "dob_years              0\n",
       "education              0\n",
       "education_id           0\n",
       "family_status          0\n",
       "family_status_id       0\n",
       "gender                 0\n",
       "income_type            0\n",
       "debt                   0\n",
       "total_income           0\n",
       "purpose                0\n",
       "age_group              0\n",
       "dtype: int64"
      ]
     },
     "execution_count": 93,
     "metadata": {},
     "output_type": "execute_result"
    }
   ],
   "source": [
    "# Replacing missing values if there are any errors\n",
    "df.isnull().sum() # it stays the problem with the problematic column!"
   ]
  },
  {
   "cell_type": "markdown",
   "metadata": {},
   "source": [
    "[When you think you've finished with `total_income`, check that the total number of values in this column matches the number of values in other ones.]"
   ]
  },
  {
   "cell_type": "code",
   "execution_count": 94,
   "metadata": {},
   "outputs": [
    {
     "name": "stdout",
     "output_type": "stream",
     "text": [
      "<class 'pandas.core.frame.DataFrame'>\n",
      "Int64Index: 21449 entries, 0 to 21524\n",
      "Data columns (total 13 columns):\n",
      "children            21449 non-null int64\n",
      "days_employed       19350 non-null float64\n",
      "dob_years           21449 non-null float64\n",
      "education           21449 non-null object\n",
      "education_id        21449 non-null int64\n",
      "family_status       21449 non-null object\n",
      "family_status_id    21449 non-null int64\n",
      "gender              21449 non-null object\n",
      "income_type         21449 non-null object\n",
      "debt                21449 non-null int64\n",
      "total_income        21449 non-null float64\n",
      "purpose             21449 non-null object\n",
      "age_group           21449 non-null object\n",
      "dtypes: float64(3), int64(4), object(6)\n",
      "memory usage: 2.9+ MB\n"
     ]
    }
   ],
   "source": [
    "# Checking the number of entries in the columns\n",
    "df.info()"
   ]
  },
  {
   "cell_type": "markdown",
   "metadata": {},
   "source": [
    "###  Restoring values in `days_employed`"
   ]
  },
  {
   "cell_type": "markdown",
   "metadata": {},
   "source": [
    "[Think about the parameters that may help you restore the missing values in this column. Eventually, you will want to find out whether you should use mean or median values for replacing missing values. You will probably conduct a research similar to the one you've done when restoring data in a previous column.]"
   ]
  },
  {
   "cell_type": "markdown",
   "metadata": {},
   "source": [
    "<span style=\"color:red; font-size: 22px\">**2-days_employed**\n",
    "\n",
    "<span style=\"color:blue; font-size: 18px\">**continue checking**"
   ]
  },
  {
   "cell_type": "code",
   "execution_count": 95,
   "metadata": {},
   "outputs": [
    {
     "name": "stdout",
     "output_type": "stream",
     "text": [
      "<class 'pandas.core.frame.DataFrame'>\n",
      "Int64Index: 21449 entries, 0 to 21524\n",
      "Data columns (total 13 columns):\n",
      "children            21449 non-null int64\n",
      "days_employed       19350 non-null float64\n",
      "dob_years           21449 non-null float64\n",
      "education           21449 non-null object\n",
      "education_id        21449 non-null int64\n",
      "family_status       21449 non-null object\n",
      "family_status_id    21449 non-null int64\n",
      "gender              21449 non-null object\n",
      "income_type         21449 non-null object\n",
      "debt                21449 non-null int64\n",
      "total_income        21449 non-null float64\n",
      "purpose             21449 non-null object\n",
      "age_group           21449 non-null object\n",
      "dtypes: float64(3), int64(4), object(6)\n",
      "memory usage: 2.9+ MB\n"
     ]
    }
   ],
   "source": [
    "df.info()"
   ]
  },
  {
   "cell_type": "code",
   "execution_count": 96,
   "metadata": {
    "pycharm": {
     "name": "#%%\n"
    }
   },
   "outputs": [],
   "source": [
    "# Distribution of `days_employed` medians based on your identified parameters"
   ]
  },
  {
   "cell_type": "markdown",
   "metadata": {},
   "source": [
    "<span style=\"color:blue; font-size: 18px\">**Assuming that the maximum days_employed is possible based on age**"
   ]
  },
  {
   "cell_type": "code",
   "execution_count": 97,
   "metadata": {},
   "outputs": [
    {
     "data": {
      "text/plain": [
       "66918.06514084844"
      ]
     },
     "execution_count": 97,
     "metadata": {},
     "output_type": "execute_result"
    },
    {
     "data": {
      "text/plain": [
       "2194.218767670908"
      ]
     },
     "execution_count": 97,
     "metadata": {},
     "output_type": "execute_result"
    }
   ],
   "source": [
    "df.days_employed.mean()\n",
    "df.days_employed.median()"
   ]
  },
  {
   "cell_type": "code",
   "execution_count": 98,
   "metadata": {},
   "outputs": [
    {
     "data": {
      "text/plain": [
       "19350"
      ]
     },
     "execution_count": 98,
     "metadata": {},
     "output_type": "execute_result"
    }
   ],
   "source": [
    "df.days_employed[(df.days_employed.notna())].count()"
   ]
  },
  {
   "cell_type": "code",
   "execution_count": 99,
   "metadata": {},
   "outputs": [
    {
     "data": {
      "text/plain": [
       "49930.5650171818"
      ]
     },
     "execution_count": 99,
     "metadata": {},
     "output_type": "execute_result"
    },
    {
     "data": {
      "text/plain": [
       "1984.8718839314465"
      ]
     },
     "execution_count": 99,
     "metadata": {},
     "output_type": "execute_result"
    }
   ],
   "source": [
    "df.days_employed[(df.age_group==\"adult\")].mean()\n",
    "df.days_employed[(df.age_group==\"adult\")].median()"
   ]
  },
  {
   "cell_type": "code",
   "execution_count": 100,
   "metadata": {},
   "outputs": [
    {
     "data": {
      "text/plain": [
       "305535.6407504242"
      ]
     },
     "execution_count": 100,
     "metadata": {},
     "output_type": "execute_result"
    },
    {
     "data": {
      "text/plain": [
       "359016.21144463355"
      ]
     },
     "execution_count": 100,
     "metadata": {},
     "output_type": "execute_result"
    }
   ],
   "source": [
    "df.days_employed[(df.age_group==\"retired\")].mean()\n",
    "df.days_employed[(df.age_group==\"retired\")].median()"
   ]
  },
  {
   "cell_type": "markdown",
   "metadata": {},
   "source": [
    "<span style=\"color:blue; font-size: 18px\">**adding new column for max_days according the age**"
   ]
  },
  {
   "cell_type": "code",
   "execution_count": 101,
   "metadata": {},
   "outputs": [],
   "source": [
    "def max_days(age):\n",
    "    A=0\n",
    "    A=1000+((age-18)*257)\n",
    "    return A"
   ]
  },
  {
   "cell_type": "code",
   "execution_count": 102,
   "metadata": {},
   "outputs": [],
   "source": [
    "df[\"max_days\"]=df[\"dob_years\"].apply(max_days)"
   ]
  },
  {
   "cell_type": "code",
   "execution_count": 103,
   "metadata": {},
   "outputs": [
    {
     "data": {
      "text/plain": [
       "4024.803753850451"
      ]
     },
     "execution_count": 103,
     "metadata": {},
     "output_type": "execute_result"
    }
   ],
   "source": [
    "df.days_employed[1]"
   ]
  },
  {
   "cell_type": "code",
   "execution_count": 104,
   "metadata": {},
   "outputs": [
    {
     "data": {
      "text/plain": [
       "21449"
      ]
     },
     "execution_count": 104,
     "metadata": {},
     "output_type": "execute_result"
    },
    {
     "data": {
      "text/plain": [
       "0    7168.0\n",
       "1    5626.0\n",
       "2    4855.0\n",
       "3    4598.0\n",
       "4    9995.0\n",
       "Name: max_days, dtype: float64"
      ]
     },
     "execution_count": 104,
     "metadata": {},
     "output_type": "execute_result"
    }
   ],
   "source": [
    "df.max_days.count()\n",
    "df.max_days.head()"
   ]
  },
  {
   "cell_type": "markdown",
   "metadata": {},
   "source": [
    "<span style=\"color:blue; font-size: 18px\">**filling missing with 0**"
   ]
  },
  {
   "cell_type": "code",
   "execution_count": 105,
   "metadata": {},
   "outputs": [
    {
     "data": {
      "text/plain": [
       "False    21449\n",
       "Name: days_employed, dtype: int64"
      ]
     },
     "execution_count": 105,
     "metadata": {},
     "output_type": "execute_result"
    }
   ],
   "source": [
    "df.days_employed.fillna(0,inplace=True)\n",
    "df.days_employed.isnull().value_counts()\n"
   ]
  },
  {
   "cell_type": "markdown",
   "metadata": {},
   "source": [
    "<span style=\"color:blue; font-size: 18px\">**mean or median days of every income_type**"
   ]
  },
  {
   "cell_type": "code",
   "execution_count": 106,
   "metadata": {},
   "outputs": [],
   "source": [
    "# Let's write a function that calculates means or medians (depending on your decision) based on your identified parameter\n"
   ]
  },
  {
   "cell_type": "code",
   "execution_count": 107,
   "metadata": {},
   "outputs": [
    {
     "name": "stdout",
     "output_type": "stream",
     "text": [
      "business median = 1311.46487211657\n",
      "unemployed median = 360761.97481084993\n",
      "employee median = 1449.2485516117881\n",
      "business mean = 1902.462968810784\n",
      "unemployed mean = 328057.32407332666\n",
      "employee mean = 2214.1044814362567\n"
     ]
    }
   ],
   "source": [
    "business=df.days_employed[(df.income_type==\"business\")].median()\n",
    "print(\"business median =\",business)\n",
    "unemployed=df.days_employed[(df.income_type==\"unemployed\")].median()\n",
    "print(\"unemployed median =\",unemployed)\n",
    "employee=df.days_employed[(df.income_type==\"employee\")].median()\n",
    "print(\"employee median =\",employee)\n",
    "print(\"business mean =\",df.days_employed[(df.income_type==\"business\")].mean())\n",
    "print(\"unemployed mean =\",df.days_employed[(df.income_type==\"unemployed\")].mean())\n",
    "print(\"employee mean =\",df.days_employed[(df.income_type==\"employee\")].mean())"
   ]
  },
  {
   "cell_type": "markdown",
   "metadata": {},
   "source": [
    "<span style=\"color:blue; font-size: 18px\">**median days of every income_type**"
   ]
  },
  {
   "cell_type": "code",
   "execution_count": 108,
   "metadata": {},
   "outputs": [],
   "source": [
    "# Apply function to the income_type"
   ]
  },
  {
   "cell_type": "code",
   "execution_count": 109,
   "metadata": {},
   "outputs": [
    {
     "data": {
      "text/plain": [
       "array(['employee', 'unemployed', 'business'], dtype=object)"
      ]
     },
     "execution_count": 109,
     "metadata": {},
     "output_type": "execute_result"
    }
   ],
   "source": [
    "df.income_type.unique()"
   ]
  },
  {
   "cell_type": "code",
   "execution_count": 110,
   "metadata": {},
   "outputs": [],
   "source": [
    "# Check that the function works"
   ]
  },
  {
   "cell_type": "code",
   "execution_count": 111,
   "metadata": {},
   "outputs": [
    {
     "data": {
      "text/html": [
       "<div>\n",
       "<style scoped>\n",
       "    .dataframe tbody tr th:only-of-type {\n",
       "        vertical-align: middle;\n",
       "    }\n",
       "\n",
       "    .dataframe tbody tr th {\n",
       "        vertical-align: top;\n",
       "    }\n",
       "\n",
       "    .dataframe thead th {\n",
       "        text-align: right;\n",
       "    }\n",
       "</style>\n",
       "<table border=\"1\" class=\"dataframe\">\n",
       "  <thead>\n",
       "    <tr style=\"text-align: right;\">\n",
       "      <th></th>\n",
       "      <th>days_employed</th>\n",
       "      <th>max_days</th>\n",
       "      <th>dob_years</th>\n",
       "    </tr>\n",
       "  </thead>\n",
       "  <tbody>\n",
       "    <tr>\n",
       "      <td>0</td>\n",
       "      <td>8437.673028</td>\n",
       "      <td>7168.0</td>\n",
       "      <td>42.0</td>\n",
       "    </tr>\n",
       "    <tr>\n",
       "      <td>1</td>\n",
       "      <td>4024.803754</td>\n",
       "      <td>5626.0</td>\n",
       "      <td>36.0</td>\n",
       "    </tr>\n",
       "    <tr>\n",
       "      <td>2</td>\n",
       "      <td>5623.422610</td>\n",
       "      <td>4855.0</td>\n",
       "      <td>33.0</td>\n",
       "    </tr>\n",
       "    <tr>\n",
       "      <td>3</td>\n",
       "      <td>4124.747207</td>\n",
       "      <td>4598.0</td>\n",
       "      <td>32.0</td>\n",
       "    </tr>\n",
       "    <tr>\n",
       "      <td>4</td>\n",
       "      <td>340266.072047</td>\n",
       "      <td>9995.0</td>\n",
       "      <td>53.0</td>\n",
       "    </tr>\n",
       "  </tbody>\n",
       "</table>\n",
       "</div>"
      ],
      "text/plain": [
       "   days_employed  max_days  dob_years\n",
       "0    8437.673028    7168.0       42.0\n",
       "1    4024.803754    5626.0       36.0\n",
       "2    5623.422610    4855.0       33.0\n",
       "3    4124.747207    4598.0       32.0\n",
       "4  340266.072047    9995.0       53.0"
      ]
     },
     "execution_count": 111,
     "metadata": {},
     "output_type": "execute_result"
    }
   ],
   "source": [
    "df[[\"days_employed\",\"max_days\",\"dob_years\"]].head()"
   ]
  },
  {
   "cell_type": "code",
   "execution_count": 112,
   "metadata": {},
   "outputs": [],
   "source": [
    "import numpy as np\n",
    "df[\"days_employed\"] = np.where(df[\"days_employed\"] > df[\"max_days\"], df[\"max_days\"],df[\"days_employed\"])"
   ]
  },
  {
   "cell_type": "code",
   "execution_count": 113,
   "metadata": {},
   "outputs": [
    {
     "data": {
      "text/html": [
       "<div>\n",
       "<style scoped>\n",
       "    .dataframe tbody tr th:only-of-type {\n",
       "        vertical-align: middle;\n",
       "    }\n",
       "\n",
       "    .dataframe tbody tr th {\n",
       "        vertical-align: top;\n",
       "    }\n",
       "\n",
       "    .dataframe thead th {\n",
       "        text-align: right;\n",
       "    }\n",
       "</style>\n",
       "<table border=\"1\" class=\"dataframe\">\n",
       "  <thead>\n",
       "    <tr style=\"text-align: right;\">\n",
       "      <th></th>\n",
       "      <th>days_employed</th>\n",
       "      <th>max_days</th>\n",
       "      <th>dob_years</th>\n",
       "    </tr>\n",
       "  </thead>\n",
       "  <tbody>\n",
       "    <tr>\n",
       "      <td>0</td>\n",
       "      <td>7168.000000</td>\n",
       "      <td>7168.0</td>\n",
       "      <td>42.0</td>\n",
       "    </tr>\n",
       "    <tr>\n",
       "      <td>1</td>\n",
       "      <td>4024.803754</td>\n",
       "      <td>5626.0</td>\n",
       "      <td>36.0</td>\n",
       "    </tr>\n",
       "    <tr>\n",
       "      <td>2</td>\n",
       "      <td>4855.000000</td>\n",
       "      <td>4855.0</td>\n",
       "      <td>33.0</td>\n",
       "    </tr>\n",
       "    <tr>\n",
       "      <td>3</td>\n",
       "      <td>4124.747207</td>\n",
       "      <td>4598.0</td>\n",
       "      <td>32.0</td>\n",
       "    </tr>\n",
       "    <tr>\n",
       "      <td>4</td>\n",
       "      <td>9995.000000</td>\n",
       "      <td>9995.0</td>\n",
       "      <td>53.0</td>\n",
       "    </tr>\n",
       "  </tbody>\n",
       "</table>\n",
       "</div>"
      ],
      "text/plain": [
       "   days_employed  max_days  dob_years\n",
       "0    7168.000000    7168.0       42.0\n",
       "1    4024.803754    5626.0       36.0\n",
       "2    4855.000000    4855.0       33.0\n",
       "3    4124.747207    4598.0       32.0\n",
       "4    9995.000000    9995.0       53.0"
      ]
     },
     "execution_count": 113,
     "metadata": {},
     "output_type": "execute_result"
    }
   ],
   "source": [
    "df[[\"days_employed\",\"max_days\",\"dob_years\"]].head()"
   ]
  },
  {
   "cell_type": "code",
   "execution_count": 114,
   "metadata": {},
   "outputs": [
    {
     "data": {
      "text/plain": [
       "12    0.0\n",
       "26    0.0\n",
       "29    0.0\n",
       "41    0.0\n",
       "55    0.0\n",
       "Name: days_employed, dtype: float64"
      ]
     },
     "execution_count": 114,
     "metadata": {},
     "output_type": "execute_result"
    }
   ],
   "source": [
    "df.days_employed.loc[df[\"days_employed\"]==0].head()\n"
   ]
  },
  {
   "cell_type": "code",
   "execution_count": 115,
   "metadata": {},
   "outputs": [
    {
     "data": {
      "text/plain": [
       "False    21449\n",
       "Name: days_employed, dtype: int64"
      ]
     },
     "execution_count": 115,
     "metadata": {},
     "output_type": "execute_result"
    }
   ],
   "source": [
    "df.days_employed.isnull().value_counts()"
   ]
  },
  {
   "cell_type": "code",
   "execution_count": 116,
   "metadata": {},
   "outputs": [
    {
     "data": {
      "text/plain": [
       "False    19350\n",
       "True      2099\n",
       "Name: days_employed, dtype: int64"
      ]
     },
     "execution_count": 116,
     "metadata": {},
     "output_type": "execute_result"
    }
   ],
   "source": [
    "df[\"days_employed\"].replace(0,np.nan,True)\n",
    "df.days_employed.isnull().value_counts()"
   ]
  },
  {
   "cell_type": "code",
   "execution_count": 117,
   "metadata": {},
   "outputs": [
    {
     "name": "stderr",
     "output_type": "stream",
     "text": [
      "/opt/conda/lib/python3.7/site-packages/pandas/core/indexing.py:205: SettingWithCopyWarning: \n",
      "A value is trying to be set on a copy of a slice from a DataFrame\n",
      "\n",
      "See the caveats in the documentation: http://pandas.pydata.org/pandas-docs/stable/user_guide/indexing.html#returning-a-view-versus-a-copy\n",
      "  self._setitem_with_indexer(indexer, value)\n"
     ]
    }
   ],
   "source": [
    "df.days_employed.loc[(df.days_employed.isnull()) & (df.income_type==\"employee\")] = employee\n",
    "df.days_employed.loc[(df.days_employed.isnull()) & (df.income_type==\"unemployed\")] = unemployed\n",
    "df.days_employed.loc[(df.days_employed.isnull()) & (df.income_type==\"business\")] = business"
   ]
  },
  {
   "cell_type": "markdown",
   "metadata": {},
   "source": [
    "<span style=\"color:blue; font-size: 18px\">**so we may just fill the missing values with the mean value of the converted dates**"
   ]
  },
  {
   "cell_type": "code",
   "execution_count": 118,
   "metadata": {},
   "outputs": [],
   "source": [
    "# Distribution of `days_employed` means based on your identified parameters"
   ]
  },
  {
   "cell_type": "code",
   "execution_count": 119,
   "metadata": {},
   "outputs": [
    {
     "data": {
      "text/plain": [
       "2293.9407153084217"
      ]
     },
     "execution_count": 119,
     "metadata": {},
     "output_type": "execute_result"
    },
    {
     "data": {
      "text/plain": [
       "46777.190396165824"
      ]
     },
     "execution_count": 119,
     "metadata": {},
     "output_type": "execute_result"
    },
    {
     "data": {
      "text/plain": [
       "2000.794150091819"
      ]
     },
     "execution_count": 119,
     "metadata": {},
     "output_type": "execute_result"
    }
   ],
   "source": [
    "df.days_employed[df.income_type==\"employee\"].mean()\n",
    "df.days_employed[df.income_type==\"unemployed\"].mean()\n",
    "df.days_employed[df.income_type==\"business\"].mean()"
   ]
  },
  {
   "cell_type": "markdown",
   "metadata": {},
   "source": [
    "[Decide what you will use: means or medians. Explain why.]\n",
    "\n",
    "<span style=\"color:blue; font-size: 18px\">**I am not sure which is better!**"
   ]
  },
  {
   "cell_type": "markdown",
   "metadata": {},
   "source": [
    "[When you think you've finished with `total_income`, check that the total number of values in this column matches the number of values in other ones.]"
   ]
  },
  {
   "cell_type": "code",
   "execution_count": 120,
   "metadata": {},
   "outputs": [],
   "source": [
    "# Check the entries in all columns - make sure we fixed all missing values"
   ]
  },
  {
   "cell_type": "code",
   "execution_count": 121,
   "metadata": {},
   "outputs": [
    {
     "name": "stdout",
     "output_type": "stream",
     "text": [
      "<class 'pandas.core.frame.DataFrame'>\n",
      "Int64Index: 21449 entries, 0 to 21524\n",
      "Data columns (total 14 columns):\n",
      "children            21449 non-null int64\n",
      "days_employed       21449 non-null float64\n",
      "dob_years           21449 non-null float64\n",
      "education           21449 non-null object\n",
      "education_id        21449 non-null int64\n",
      "family_status       21449 non-null object\n",
      "family_status_id    21449 non-null int64\n",
      "gender              21449 non-null object\n",
      "income_type         21449 non-null object\n",
      "debt                21449 non-null int64\n",
      "total_income        21449 non-null float64\n",
      "purpose             21449 non-null object\n",
      "age_group           21449 non-null object\n",
      "max_days            21449 non-null float64\n",
      "dtypes: float64(4), int64(4), object(6)\n",
      "memory usage: 3.1+ MB\n"
     ]
    }
   ],
   "source": [
    "df.info()"
   ]
  },
  {
   "cell_type": "code",
   "execution_count": 122,
   "metadata": {},
   "outputs": [],
   "source": [
    "# Check if function worked"
   ]
  },
  {
   "cell_type": "code",
   "execution_count": 123,
   "metadata": {},
   "outputs": [
    {
     "data": {
      "text/plain": [
       "False    21449\n",
       "Name: days_employed, dtype: int64"
      ]
     },
     "execution_count": 123,
     "metadata": {},
     "output_type": "execute_result"
    }
   ],
   "source": [
    "df.days_employed.isnull().value_counts()"
   ]
  },
  {
   "cell_type": "code",
   "execution_count": 124,
   "metadata": {},
   "outputs": [],
   "source": [
    "# Replacing missing values"
   ]
  },
  {
   "cell_type": "markdown",
   "metadata": {},
   "source": [
    "<span style=\"color:green; font-size: 22px\">**After correcting the days_employed column and filling the missing values and the corrected one, which had values exceeded the max days of what a person can work in his life, it gave the possibility to categorize it according to the income_type.**"
   ]
  },
  {
   "cell_type": "markdown",
   "metadata": {},
   "source": [
    "## Categorization of data\n",
    "\n",
    "[To answer the questions and test the hypotheses, you will want to work with categorized data. Look at the questions that were posed to you and that you should answer. Think about which of the data will need to be categorized to answer these questions. Below you will find a template through which you can work your way when categorizing data. The first step-by-step processing covers the text data; the second one addresses the numerical data that needs to be categorized. You can use both or none of the suggested instructions - it's up to you.]\n",
    "\n",
    "[Despite of how you decide to address the categorization, make sure to provide clear explanation of why you made your decision. Remember: this is your work and you make all decisions in it.]\n"
   ]
  },
  {
   "cell_type": "markdown",
   "metadata": {},
   "source": [
    "<span style=\"color:red; font-size: 22px\">**12-purpose**\n",
    "\n",
    "<span style=\"color:blue; font-size: 18px\">**here I have to make Stemming and lemmatization**"
   ]
  },
  {
   "cell_type": "code",
   "execution_count": 125,
   "metadata": {},
   "outputs": [
    {
     "data": {
      "text/plain": [
       "array(['purchase of the house', 'car purchase', 'supplementary education',\n",
       "       'to have a wedding', 'housing transactions', 'education',\n",
       "       'having a wedding', 'purchase of the house for my family',\n",
       "       'buy real estate', 'buy commercial real estate',\n",
       "       'buy residential real estate', 'construction of own property',\n",
       "       'property', 'building a property', 'buying a second-hand car',\n",
       "       'buying my own car', 'transactions with commercial real estate',\n",
       "       'building a real estate', 'housing',\n",
       "       'transactions with my real estate', 'cars', 'to become educated',\n",
       "       'second-hand car purchase', 'getting an education', 'car',\n",
       "       'wedding ceremony', 'to get a supplementary education',\n",
       "       'purchase of my own house', 'real estate transactions',\n",
       "       'getting higher education', 'to own a car', 'purchase of a car',\n",
       "       'profile education', 'university education',\n",
       "       'buying property for renting out', 'to buy a car',\n",
       "       'housing renovation', 'going to university'], dtype=object)"
      ]
     },
     "execution_count": 125,
     "metadata": {},
     "output_type": "execute_result"
    }
   ],
   "source": [
    "df.purpose.unique()# Check the unique values"
   ]
  },
  {
   "cell_type": "code",
   "execution_count": 126,
   "metadata": {},
   "outputs": [],
   "source": [
    "from pymystem3 import Mystem\n",
    "from collections import Counter\n",
    "m = Mystem()"
   ]
  },
  {
   "cell_type": "code",
   "execution_count": 127,
   "metadata": {},
   "outputs": [],
   "source": [
    "# Print the values for your selected data for categorization\n",
    "import nltk\n",
    "from nltk.stem import WordNetLemmatizer\n",
    "\n",
    "wordnet_lemma = WordNetLemmatizer()"
   ]
  },
  {
   "cell_type": "markdown",
   "metadata": {},
   "source": [
    "[Let's check unique values]"
   ]
  },
  {
   "cell_type": "markdown",
   "metadata": {},
   "source": [
    "[What main groups can you identify based on the unique values?]\n",
    "\n",
    "[Based on these themes, we will probably want to categorize our data.]\n"
   ]
  },
  {
   "cell_type": "code",
   "execution_count": 128,
   "metadata": {},
   "outputs": [],
   "source": [
    "# Let's write a function to categorize the data based on common topics\n",
    "lemmas_list_all = []\n",
    "\n",
    "for purpose in df.purpose.unique():\n",
    "    words = nltk.word_tokenize(purpose)\n",
    "    lemmas = [wordnet_lemma.lemmatize(w, pos = \"n\") for w in words]\n",
    "    lemmas=[l.lower() for l in lemmas]\n",
    "    for i in lemmas:\n",
    "        if i in lemmas_list_all:\n",
    "            continue\n",
    "        else:\n",
    "            lemmas_list_all.append(i)"
   ]
  },
  {
   "cell_type": "code",
   "execution_count": 129,
   "metadata": {},
   "outputs": [
    {
     "data": {
      "text/plain": [
       "['purchase',\n",
       " 'of',\n",
       " 'the',\n",
       " 'house',\n",
       " 'car',\n",
       " 'supplementary',\n",
       " 'education',\n",
       " 'to',\n",
       " 'have',\n",
       " 'a',\n",
       " 'wedding',\n",
       " 'housing',\n",
       " 'transaction',\n",
       " 'having',\n",
       " 'for',\n",
       " 'my',\n",
       " 'family',\n",
       " 'buy',\n",
       " 'real',\n",
       " 'estate',\n",
       " 'commercial',\n",
       " 'residential',\n",
       " 'construction',\n",
       " 'own',\n",
       " 'property',\n",
       " 'building',\n",
       " 'buying',\n",
       " 'second-hand',\n",
       " 'with',\n",
       " 'become',\n",
       " 'educated',\n",
       " 'getting',\n",
       " 'an',\n",
       " 'ceremony',\n",
       " 'get',\n",
       " 'higher',\n",
       " 'profile',\n",
       " 'university',\n",
       " 'renting',\n",
       " 'out',\n",
       " 'renovation',\n",
       " 'going']"
      ]
     },
     "execution_count": 129,
     "metadata": {},
     "output_type": "execute_result"
    }
   ],
   "source": [
    "lemmas_list_all"
   ]
  },
  {
   "cell_type": "code",
   "execution_count": 130,
   "metadata": {},
   "outputs": [
    {
     "data": {
      "text/plain": [
       "Counter({'purchase': 1,\n",
       "         'of': 1,\n",
       "         'the': 1,\n",
       "         'house': 1,\n",
       "         'car': 1,\n",
       "         'supplementary': 1,\n",
       "         'education': 1,\n",
       "         'to': 1,\n",
       "         'have': 1,\n",
       "         'a': 1,\n",
       "         'wedding': 1,\n",
       "         'housing': 1,\n",
       "         'transaction': 1,\n",
       "         'having': 1,\n",
       "         'for': 1,\n",
       "         'my': 1,\n",
       "         'family': 1,\n",
       "         'buy': 1,\n",
       "         'real': 1,\n",
       "         'estate': 1,\n",
       "         'commercial': 1,\n",
       "         'residential': 1,\n",
       "         'construction': 1,\n",
       "         'own': 1,\n",
       "         'property': 1,\n",
       "         'building': 1,\n",
       "         'buying': 1,\n",
       "         'second-hand': 1,\n",
       "         'with': 1,\n",
       "         'become': 1,\n",
       "         'educated': 1,\n",
       "         'getting': 1,\n",
       "         'an': 1,\n",
       "         'ceremony': 1,\n",
       "         'get': 1,\n",
       "         'higher': 1,\n",
       "         'profile': 1,\n",
       "         'university': 1,\n",
       "         'renting': 1,\n",
       "         'out': 1,\n",
       "         'renovation': 1,\n",
       "         'going': 1})"
      ]
     },
     "execution_count": 130,
     "metadata": {},
     "output_type": "execute_result"
    }
   ],
   "source": [
    "# Create a column with the categories and count the values for them\n",
    "Counter(lemmas_list_all)\n"
   ]
  },
  {
   "cell_type": "markdown",
   "metadata": {},
   "source": [
    "[If you decide to categorize the numerical data, you'll need to come up with the categories for it too.]"
   ]
  },
  {
   "cell_type": "code",
   "execution_count": 131,
   "metadata": {},
   "outputs": [],
   "source": [
    "# Looking through all the numerical data in your selected column for categorization\n"
   ]
  },
  {
   "cell_type": "markdown",
   "metadata": {},
   "source": [
    "<span style=\"color:blue; font-size: 18px\">**I have no idea what it talks about!**"
   ]
  },
  {
   "cell_type": "code",
   "execution_count": 132,
   "metadata": {},
   "outputs": [],
   "source": [
    "# Getting summary statistics for the column\n",
    "\n"
   ]
  },
  {
   "cell_type": "markdown",
   "metadata": {},
   "source": [
    "<span style=\"color:blue; font-size: 18px\">**I don`t know what to write!**"
   ]
  },
  {
   "cell_type": "markdown",
   "metadata": {},
   "source": [
    "[Decide what ranges you will use for grouping and explain why.]"
   ]
  },
  {
   "cell_type": "code",
   "execution_count": 133,
   "metadata": {},
   "outputs": [],
   "source": [
    "purchase_category = ['purchase of the house','car purchase','purchase of the house for my family',\n",
    "                     'buying a second-hand car','buying my own car','cars','car','second-hand car purchase',\n",
    "                     'to own a car','purchase of a car','to buy a car'] \n",
    "occasion_category = ['to have a wedding','having a wedding','wedding ceremony','purchase of my own house']\n",
    "investment_category = ['housing transactions','buy real estate','buy commercial real estate',\n",
    "                    'buy residential real estate','property','building a property',\n",
    "                     'transactions with commercial real estate','building a real estate',\n",
    "                       'housing','transactions with my real estate','real estate transactions',\n",
    "                       'buying property for renting out']\n",
    "Expenses_category = ['construction of own property','housing renovation',]\n",
    "Education_category = ['going to university','getting higher education','university education',\n",
    "                      'supplementary education','education','to become educated',\n",
    "                       'getting an education','to get a supplementary education','profile education']"
   ]
  },
  {
   "cell_type": "code",
   "execution_count": 134,
   "metadata": {},
   "outputs": [],
   "source": [
    "# Creating function for categorizing into different numerical groups based on ranges\n",
    "def lemmatization_func(line):\n",
    "    words = nltk.word_tokenize(line)\n",
    "    lemmas = [wordnet_lemma.lemmatize(w, pos = \"n\") for w in words]\n",
    "    lemmas=[l.lower() for l in lemmas]\n",
    "    if any (word in lemmas for word in purchase_category):\n",
    "        return \"purchase\"\n",
    "    elif any (word in lemmas for word in occasion_category):\n",
    "        return \"occasion\"\n",
    "    elif any (word in lemmas for word in investment_category):\n",
    "        return \"investment\"\n",
    "    elif any (word in lemmas for word in Expenses_category):\n",
    "        return \"Expenses\"\n",
    "    elif any (word in lemmas for word in Education_category):\n",
    "        return \"Education\"\n",
    "    else:\n",
    "        return \"other\"\n"
   ]
  },
  {
   "cell_type": "code",
   "execution_count": 135,
   "metadata": {},
   "outputs": [
    {
     "data": {
      "text/plain": [
       "'housing transactions'"
      ]
     },
     "execution_count": 135,
     "metadata": {},
     "output_type": "execute_result"
    },
    {
     "data": {
      "text/plain": [
       "'investment'"
      ]
     },
     "execution_count": 135,
     "metadata": {},
     "output_type": "execute_result"
    }
   ],
   "source": [
    "# Creating column with categories\n",
    "example=df.purpose[6]\n",
    "example\n",
    "lemmatization_func(example)"
   ]
  },
  {
   "cell_type": "code",
   "execution_count": 136,
   "metadata": {},
   "outputs": [],
   "source": [
    "df[\"purpose_loan\"]=df['purpose'].apply(lemmatization_func)"
   ]
  },
  {
   "cell_type": "code",
   "execution_count": 137,
   "metadata": {},
   "outputs": [
    {
     "data": {
      "text/plain": [
       "other         9594\n",
       "investment    4441\n",
       "purchase      4306\n",
       "Education     3108\n",
       "Name: purpose_loan, dtype: int64"
      ]
     },
     "execution_count": 137,
     "metadata": {},
     "output_type": "execute_result"
    }
   ],
   "source": [
    "df.purpose_loan.value_counts()"
   ]
  },
  {
   "cell_type": "code",
   "execution_count": 138,
   "metadata": {
    "scrolled": true
   },
   "outputs": [
    {
     "data": {
      "text/plain": [
       "9"
      ]
     },
     "execution_count": 138,
     "metadata": {},
     "output_type": "execute_result"
    },
    {
     "data": {
      "text/plain": [
       "2"
      ]
     },
     "execution_count": 138,
     "metadata": {},
     "output_type": "execute_result"
    },
    {
     "data": {
      "text/plain": [
       "12"
      ]
     },
     "execution_count": 138,
     "metadata": {},
     "output_type": "execute_result"
    },
    {
     "data": {
      "text/plain": [
       "4"
      ]
     },
     "execution_count": 138,
     "metadata": {},
     "output_type": "execute_result"
    },
    {
     "data": {
      "text/plain": [
       "11"
      ]
     },
     "execution_count": 138,
     "metadata": {},
     "output_type": "execute_result"
    }
   ],
   "source": [
    "# Count each categories values to see the distribution\n",
    "len(Education_category)\n",
    "len(Expenses_category)\n",
    "len(investment_category)\n",
    "len(occasion_category)\n",
    "len(purchase_category)"
   ]
  },
  {
   "cell_type": "markdown",
   "metadata": {},
   "source": [
    "## Checking the Hypotheses\n"
   ]
  },
  {
   "cell_type": "markdown",
   "metadata": {},
   "source": [
    "**Is there a correlation between having children and paying back on time?**"
   ]
  },
  {
   "cell_type": "code",
   "execution_count": 139,
   "metadata": {},
   "outputs": [
    {
     "data": {
      "text/plain": [
       "20977"
      ]
     },
     "execution_count": 139,
     "metadata": {},
     "output_type": "execute_result"
    },
    {
     "data": {
      "text/plain": [
       "472"
      ]
     },
     "execution_count": 139,
     "metadata": {},
     "output_type": "execute_result"
    },
    {
     "data": {
      "text/plain": [
       "0"
      ]
     },
     "execution_count": 139,
     "metadata": {},
     "output_type": "execute_result"
    },
    {
     "data": {
      "text/plain": [
       "0"
      ]
     },
     "execution_count": 139,
     "metadata": {},
     "output_type": "execute_result"
    },
    {
     "data": {
      "text/plain": [
       "0"
      ]
     },
     "execution_count": 139,
     "metadata": {},
     "output_type": "execute_result"
    },
    {
     "data": {
      "text/plain": [
       "0"
      ]
     },
     "execution_count": 139,
     "metadata": {},
     "output_type": "execute_result"
    },
    {
     "data": {
      "text/plain": [
       "16728"
      ]
     },
     "execution_count": 139,
     "metadata": {},
     "output_type": "execute_result"
    },
    {
     "data": {
      "text/plain": [
       "4721"
      ]
     },
     "execution_count": 139,
     "metadata": {},
     "output_type": "execute_result"
    },
    {
     "data": {
      "text/plain": [
       "array([1, 0, 3, 2, 4, 5])"
      ]
     },
     "execution_count": 139,
     "metadata": {},
     "output_type": "execute_result"
    }
   ],
   "source": [
    "# Check the children data and paying back on time\n",
    "df.children.loc[(df.debt==1) & df.children==0].count()\n",
    "df.children.loc[(df.debt==1) & df.children==1].count()\n",
    "df.children.loc[(df.debt==1) & df.children==2].count()\n",
    "df.children.loc[(df.debt==1) & df.children==3].count()\n",
    "df.children.loc[(df.debt==1) & df.children==4].count()\n",
    "df.children.loc[(df.debt==1) & df.children==5].count()\n",
    "df.children.loc[(df.debt==0) & df.children==0].count()\n",
    "df.children.loc[(df.debt==0) & df.children==1].count()\n",
    "df.children.unique()\n",
    "\n",
    "# Calculating default-rate based on the number of children\n",
    "\n"
   ]
  },
  {
   "cell_type": "markdown",
   "metadata": {},
   "source": [
    "<span style=\"color:blue; font-size: 18px\">**accordingly it is just registered for families without children or with 1 child and the without they are the most back payer**"
   ]
  },
  {
   "cell_type": "code",
   "execution_count": 140,
   "metadata": {},
   "outputs": [
    {
     "name": "stdout",
     "output_type": "stream",
     "text": [
      "<class 'pandas.core.frame.DataFrame'>\n",
      "Int64Index: 21449 entries, 0 to 21524\n",
      "Data columns (total 15 columns):\n",
      "children            21449 non-null int64\n",
      "days_employed       21449 non-null float64\n",
      "dob_years           21449 non-null float64\n",
      "education           21449 non-null object\n",
      "education_id        21449 non-null int64\n",
      "family_status       21449 non-null object\n",
      "family_status_id    21449 non-null int64\n",
      "gender              21449 non-null object\n",
      "income_type         21449 non-null object\n",
      "debt                21449 non-null int64\n",
      "total_income        21449 non-null float64\n",
      "purpose             21449 non-null object\n",
      "age_group           21449 non-null object\n",
      "max_days            21449 non-null float64\n",
      "purpose_loan        21449 non-null object\n",
      "dtypes: float64(4), int64(4), object(7)\n",
      "memory usage: 3.2+ MB\n"
     ]
    }
   ],
   "source": [
    "df.info()"
   ]
  },
  {
   "cell_type": "markdown",
   "metadata": {},
   "source": [
    "**Conclusion**\n",
    "\n",
    "[Write your conclusions based on your manipulations and observations.]\n"
   ]
  },
  {
   "cell_type": "markdown",
   "metadata": {},
   "source": [
    "<span style=\"color:blue; font-size: 18px\">**accordingly it shows that families with 0 or 1 children are the most borrowers and not paying back**"
   ]
  },
  {
   "cell_type": "markdown",
   "metadata": {},
   "source": [
    "**Is there a correlation between family status and paying back on time?**"
   ]
  },
  {
   "cell_type": "code",
   "execution_count": 141,
   "metadata": {},
   "outputs": [
    {
     "data": {
      "text/html": [
       "<div>\n",
       "<style scoped>\n",
       "    .dataframe tbody tr th:only-of-type {\n",
       "        vertical-align: middle;\n",
       "    }\n",
       "\n",
       "    .dataframe tbody tr th {\n",
       "        vertical-align: top;\n",
       "    }\n",
       "\n",
       "    .dataframe thead th {\n",
       "        text-align: right;\n",
       "    }\n",
       "</style>\n",
       "<table border=\"1\" class=\"dataframe\">\n",
       "  <thead>\n",
       "    <tr style=\"text-align: right;\">\n",
       "      <th></th>\n",
       "      <th>family_status</th>\n",
       "      <th>debt</th>\n",
       "    </tr>\n",
       "  </thead>\n",
       "  <tbody>\n",
       "    <tr>\n",
       "      <td>1</td>\n",
       "      <td>married</td>\n",
       "      <td>0.075470</td>\n",
       "    </tr>\n",
       "    <tr>\n",
       "      <td>2</td>\n",
       "      <td>unmarried</td>\n",
       "      <td>0.085012</td>\n",
       "    </tr>\n",
       "    <tr>\n",
       "      <td>0</td>\n",
       "      <td>civil partnership</td>\n",
       "      <td>0.093517</td>\n",
       "    </tr>\n",
       "  </tbody>\n",
       "</table>\n",
       "</div>"
      ],
      "text/plain": [
       "       family_status      debt\n",
       "1            married  0.075470\n",
       "2          unmarried  0.085012\n",
       "0  civil partnership  0.093517"
      ]
     },
     "execution_count": 141,
     "metadata": {},
     "output_type": "execute_result"
    },
    {
     "data": {
      "text/html": [
       "<div>\n",
       "<style scoped>\n",
       "    .dataframe tbody tr th:only-of-type {\n",
       "        vertical-align: middle;\n",
       "    }\n",
       "\n",
       "    .dataframe tbody tr th {\n",
       "        vertical-align: top;\n",
       "    }\n",
       "\n",
       "    .dataframe thead th {\n",
       "        text-align: right;\n",
       "    }\n",
       "</style>\n",
       "<table border=\"1\" class=\"dataframe\">\n",
       "  <thead>\n",
       "    <tr style=\"text-align: right;\">\n",
       "      <th></th>\n",
       "      <th>children</th>\n",
       "      <th>debt</th>\n",
       "    </tr>\n",
       "  </thead>\n",
       "  <tbody>\n",
       "    <tr>\n",
       "      <td>5</td>\n",
       "      <td>5</td>\n",
       "      <td>0.000000</td>\n",
       "    </tr>\n",
       "    <tr>\n",
       "      <td>0</td>\n",
       "      <td>0</td>\n",
       "      <td>0.075460</td>\n",
       "    </tr>\n",
       "    <tr>\n",
       "      <td>3</td>\n",
       "      <td>3</td>\n",
       "      <td>0.081818</td>\n",
       "    </tr>\n",
       "    <tr>\n",
       "      <td>1</td>\n",
       "      <td>1</td>\n",
       "      <td>0.091677</td>\n",
       "    </tr>\n",
       "    <tr>\n",
       "      <td>2</td>\n",
       "      <td>2</td>\n",
       "      <td>0.094925</td>\n",
       "    </tr>\n",
       "    <tr>\n",
       "      <td>4</td>\n",
       "      <td>4</td>\n",
       "      <td>0.097561</td>\n",
       "    </tr>\n",
       "  </tbody>\n",
       "</table>\n",
       "</div>"
      ],
      "text/plain": [
       "   children      debt\n",
       "5         5  0.000000\n",
       "0         0  0.075460\n",
       "3         3  0.081818\n",
       "1         1  0.091677\n",
       "2         2  0.094925\n",
       "4         4  0.097561"
      ]
     },
     "execution_count": 141,
     "metadata": {},
     "output_type": "execute_result"
    }
   ],
   "source": [
    "# Check the family status data and paying back on time\n",
    "df.groupby([\"family_status\"])[\"debt\"].mean().reset_index().sort_values(by=\"debt\")\n",
    "# Calculating default-rate based on family status\n",
    "\n",
    "df.groupby([\"children\"])[\"debt\"].mean().reset_index().sort_values(by=\"debt\")"
   ]
  },
  {
   "cell_type": "code",
   "execution_count": 142,
   "metadata": {},
   "outputs": [
    {
     "data": {
      "text/html": [
       "<div>\n",
       "<style scoped>\n",
       "    .dataframe tbody tr th:only-of-type {\n",
       "        vertical-align: middle;\n",
       "    }\n",
       "\n",
       "    .dataframe tbody tr th {\n",
       "        vertical-align: top;\n",
       "    }\n",
       "\n",
       "    .dataframe thead tr th {\n",
       "        text-align: left;\n",
       "    }\n",
       "\n",
       "    .dataframe thead tr:last-of-type th {\n",
       "        text-align: right;\n",
       "    }\n",
       "</style>\n",
       "<table border=\"1\" class=\"dataframe\">\n",
       "  <thead>\n",
       "    <tr>\n",
       "      <th></th>\n",
       "      <th></th>\n",
       "      <th>count</th>\n",
       "      <th>sum</th>\n",
       "      <th>mean</th>\n",
       "    </tr>\n",
       "    <tr>\n",
       "      <th></th>\n",
       "      <th></th>\n",
       "      <th>debt</th>\n",
       "      <th>debt</th>\n",
       "      <th>debt</th>\n",
       "    </tr>\n",
       "    <tr>\n",
       "      <th>children</th>\n",
       "      <th>family_status</th>\n",
       "      <th></th>\n",
       "      <th></th>\n",
       "      <th></th>\n",
       "    </tr>\n",
       "  </thead>\n",
       "  <tbody>\n",
       "    <tr>\n",
       "      <td rowspan=\"3\" valign=\"top\">0</td>\n",
       "      <td>civil partnership</td>\n",
       "      <td>2728</td>\n",
       "      <td>229</td>\n",
       "      <td>0.083944</td>\n",
       "    </tr>\n",
       "    <tr>\n",
       "      <td>married</td>\n",
       "      <td>7466</td>\n",
       "      <td>516</td>\n",
       "      <td>0.069113</td>\n",
       "    </tr>\n",
       "    <tr>\n",
       "      <td>unmarried</td>\n",
       "      <td>3893</td>\n",
       "      <td>318</td>\n",
       "      <td>0.081685</td>\n",
       "    </tr>\n",
       "    <tr>\n",
       "      <td rowspan=\"3\" valign=\"top\">1</td>\n",
       "      <td>civil partnership</td>\n",
       "      <td>1000</td>\n",
       "      <td>118</td>\n",
       "      <td>0.118000</td>\n",
       "    </tr>\n",
       "    <tr>\n",
       "      <td>married</td>\n",
       "      <td>3003</td>\n",
       "      <td>247</td>\n",
       "      <td>0.082251</td>\n",
       "    </tr>\n",
       "    <tr>\n",
       "      <td>unmarried</td>\n",
       "      <td>851</td>\n",
       "      <td>80</td>\n",
       "      <td>0.094007</td>\n",
       "    </tr>\n",
       "    <tr>\n",
       "      <td rowspan=\"3\" valign=\"top\">2</td>\n",
       "      <td>civil partnership</td>\n",
       "      <td>355</td>\n",
       "      <td>33</td>\n",
       "      <td>0.092958</td>\n",
       "    </tr>\n",
       "    <tr>\n",
       "      <td>married</td>\n",
       "      <td>1582</td>\n",
       "      <td>148</td>\n",
       "      <td>0.093552</td>\n",
       "    </tr>\n",
       "    <tr>\n",
       "      <td>unmarried</td>\n",
       "      <td>191</td>\n",
       "      <td>21</td>\n",
       "      <td>0.109948</td>\n",
       "    </tr>\n",
       "    <tr>\n",
       "      <td rowspan=\"3\" valign=\"top\">3</td>\n",
       "      <td>civil partnership</td>\n",
       "      <td>56</td>\n",
       "      <td>8</td>\n",
       "      <td>0.142857</td>\n",
       "    </tr>\n",
       "    <tr>\n",
       "      <td>married</td>\n",
       "      <td>249</td>\n",
       "      <td>17</td>\n",
       "      <td>0.068273</td>\n",
       "    </tr>\n",
       "    <tr>\n",
       "      <td>unmarried</td>\n",
       "      <td>25</td>\n",
       "      <td>2</td>\n",
       "      <td>0.080000</td>\n",
       "    </tr>\n",
       "    <tr>\n",
       "      <td rowspan=\"3\" valign=\"top\">4</td>\n",
       "      <td>civil partnership</td>\n",
       "      <td>8</td>\n",
       "      <td>0</td>\n",
       "      <td>0.000000</td>\n",
       "    </tr>\n",
       "    <tr>\n",
       "      <td>married</td>\n",
       "      <td>29</td>\n",
       "      <td>3</td>\n",
       "      <td>0.103448</td>\n",
       "    </tr>\n",
       "    <tr>\n",
       "      <td>unmarried</td>\n",
       "      <td>4</td>\n",
       "      <td>1</td>\n",
       "      <td>0.250000</td>\n",
       "    </tr>\n",
       "    <tr>\n",
       "      <td rowspan=\"2\" valign=\"top\">5</td>\n",
       "      <td>civil partnership</td>\n",
       "      <td>2</td>\n",
       "      <td>0</td>\n",
       "      <td>0.000000</td>\n",
       "    </tr>\n",
       "    <tr>\n",
       "      <td>married</td>\n",
       "      <td>7</td>\n",
       "      <td>0</td>\n",
       "      <td>0.000000</td>\n",
       "    </tr>\n",
       "  </tbody>\n",
       "</table>\n",
       "</div>"
      ],
      "text/plain": [
       "                           count  sum      mean\n",
       "                            debt debt      debt\n",
       "children family_status                         \n",
       "0        civil partnership  2728  229  0.083944\n",
       "         married            7466  516  0.069113\n",
       "         unmarried          3893  318  0.081685\n",
       "1        civil partnership  1000  118  0.118000\n",
       "         married            3003  247  0.082251\n",
       "         unmarried           851   80  0.094007\n",
       "2        civil partnership   355   33  0.092958\n",
       "         married            1582  148  0.093552\n",
       "         unmarried           191   21  0.109948\n",
       "3        civil partnership    56    8  0.142857\n",
       "         married             249   17  0.068273\n",
       "         unmarried            25    2  0.080000\n",
       "4        civil partnership     8    0  0.000000\n",
       "         married              29    3  0.103448\n",
       "         unmarried             4    1  0.250000\n",
       "5        civil partnership     2    0  0.000000\n",
       "         married               7    0  0.000000"
      ]
     },
     "execution_count": 142,
     "metadata": {},
     "output_type": "execute_result"
    }
   ],
   "source": [
    "pd.pivot_table(df,index=[\"children\",\"family_status\"],\n",
    "               values=[\"debt\"],\n",
    "               aggfunc=['count','sum','mean'])"
   ]
  },
  {
   "cell_type": "markdown",
   "metadata": {},
   "source": [
    "**Conclusion**\n",
    "\n",
    "[Write your conclusions based on your manipulations and observations.]"
   ]
  },
  {
   "cell_type": "markdown",
   "metadata": {},
   "source": [
    "<span style=\"color:blue; font-size: 18px\">**accordingly it shows that unmarried and with 4 children are the most borrowers and susceptible to not repaying credit**"
   ]
  },
  {
   "cell_type": "code",
   "execution_count": 143,
   "metadata": {},
   "outputs": [
    {
     "data": {
      "text/html": [
       "<div>\n",
       "<style scoped>\n",
       "    .dataframe tbody tr th:only-of-type {\n",
       "        vertical-align: middle;\n",
       "    }\n",
       "\n",
       "    .dataframe tbody tr th {\n",
       "        vertical-align: top;\n",
       "    }\n",
       "\n",
       "    .dataframe thead tr th {\n",
       "        text-align: left;\n",
       "    }\n",
       "\n",
       "    .dataframe thead tr:last-of-type th {\n",
       "        text-align: right;\n",
       "    }\n",
       "</style>\n",
       "<table border=\"1\" class=\"dataframe\">\n",
       "  <thead>\n",
       "    <tr>\n",
       "      <th></th>\n",
       "      <th></th>\n",
       "      <th>count</th>\n",
       "      <th>sum</th>\n",
       "      <th>mean</th>\n",
       "    </tr>\n",
       "    <tr>\n",
       "      <th></th>\n",
       "      <th></th>\n",
       "      <th>debt</th>\n",
       "      <th>debt</th>\n",
       "      <th>debt</th>\n",
       "    </tr>\n",
       "    <tr>\n",
       "      <th>family_status</th>\n",
       "      <th>children</th>\n",
       "      <th></th>\n",
       "      <th></th>\n",
       "      <th></th>\n",
       "    </tr>\n",
       "  </thead>\n",
       "  <tbody>\n",
       "    <tr>\n",
       "      <td rowspan=\"6\" valign=\"top\">civil partnership</td>\n",
       "      <td>0</td>\n",
       "      <td>2728</td>\n",
       "      <td>229</td>\n",
       "      <td>0.083944</td>\n",
       "    </tr>\n",
       "    <tr>\n",
       "      <td>1</td>\n",
       "      <td>1000</td>\n",
       "      <td>118</td>\n",
       "      <td>0.118000</td>\n",
       "    </tr>\n",
       "    <tr>\n",
       "      <td>2</td>\n",
       "      <td>355</td>\n",
       "      <td>33</td>\n",
       "      <td>0.092958</td>\n",
       "    </tr>\n",
       "    <tr>\n",
       "      <td>3</td>\n",
       "      <td>56</td>\n",
       "      <td>8</td>\n",
       "      <td>0.142857</td>\n",
       "    </tr>\n",
       "    <tr>\n",
       "      <td>4</td>\n",
       "      <td>8</td>\n",
       "      <td>0</td>\n",
       "      <td>0.000000</td>\n",
       "    </tr>\n",
       "    <tr>\n",
       "      <td>5</td>\n",
       "      <td>2</td>\n",
       "      <td>0</td>\n",
       "      <td>0.000000</td>\n",
       "    </tr>\n",
       "    <tr>\n",
       "      <td rowspan=\"6\" valign=\"top\">married</td>\n",
       "      <td>0</td>\n",
       "      <td>7466</td>\n",
       "      <td>516</td>\n",
       "      <td>0.069113</td>\n",
       "    </tr>\n",
       "    <tr>\n",
       "      <td>1</td>\n",
       "      <td>3003</td>\n",
       "      <td>247</td>\n",
       "      <td>0.082251</td>\n",
       "    </tr>\n",
       "    <tr>\n",
       "      <td>2</td>\n",
       "      <td>1582</td>\n",
       "      <td>148</td>\n",
       "      <td>0.093552</td>\n",
       "    </tr>\n",
       "    <tr>\n",
       "      <td>3</td>\n",
       "      <td>249</td>\n",
       "      <td>17</td>\n",
       "      <td>0.068273</td>\n",
       "    </tr>\n",
       "    <tr>\n",
       "      <td>4</td>\n",
       "      <td>29</td>\n",
       "      <td>3</td>\n",
       "      <td>0.103448</td>\n",
       "    </tr>\n",
       "    <tr>\n",
       "      <td>5</td>\n",
       "      <td>7</td>\n",
       "      <td>0</td>\n",
       "      <td>0.000000</td>\n",
       "    </tr>\n",
       "    <tr>\n",
       "      <td rowspan=\"5\" valign=\"top\">unmarried</td>\n",
       "      <td>0</td>\n",
       "      <td>3893</td>\n",
       "      <td>318</td>\n",
       "      <td>0.081685</td>\n",
       "    </tr>\n",
       "    <tr>\n",
       "      <td>1</td>\n",
       "      <td>851</td>\n",
       "      <td>80</td>\n",
       "      <td>0.094007</td>\n",
       "    </tr>\n",
       "    <tr>\n",
       "      <td>2</td>\n",
       "      <td>191</td>\n",
       "      <td>21</td>\n",
       "      <td>0.109948</td>\n",
       "    </tr>\n",
       "    <tr>\n",
       "      <td>3</td>\n",
       "      <td>25</td>\n",
       "      <td>2</td>\n",
       "      <td>0.080000</td>\n",
       "    </tr>\n",
       "    <tr>\n",
       "      <td>4</td>\n",
       "      <td>4</td>\n",
       "      <td>1</td>\n",
       "      <td>0.250000</td>\n",
       "    </tr>\n",
       "  </tbody>\n",
       "</table>\n",
       "</div>"
      ],
      "text/plain": [
       "                           count  sum      mean\n",
       "                            debt debt      debt\n",
       "family_status     children                     \n",
       "civil partnership 0         2728  229  0.083944\n",
       "                  1         1000  118  0.118000\n",
       "                  2          355   33  0.092958\n",
       "                  3           56    8  0.142857\n",
       "                  4            8    0  0.000000\n",
       "                  5            2    0  0.000000\n",
       "married           0         7466  516  0.069113\n",
       "                  1         3003  247  0.082251\n",
       "                  2         1582  148  0.093552\n",
       "                  3          249   17  0.068273\n",
       "                  4           29    3  0.103448\n",
       "                  5            7    0  0.000000\n",
       "unmarried         0         3893  318  0.081685\n",
       "                  1          851   80  0.094007\n",
       "                  2          191   21  0.109948\n",
       "                  3           25    2  0.080000\n",
       "                  4            4    1  0.250000"
      ]
     },
     "execution_count": 143,
     "metadata": {},
     "output_type": "execute_result"
    }
   ],
   "source": [
    "pd.pivot_table(df,index=[\"family_status\",\"children\"],\n",
    "               values=[\"debt\"],\n",
    "               aggfunc=['count','sum','mean'])"
   ]
  },
  {
   "cell_type": "markdown",
   "metadata": {},
   "source": [
    "**Is there a correlation between income level and paying back on time?**"
   ]
  },
  {
   "cell_type": "code",
   "execution_count": 144,
   "metadata": {},
   "outputs": [
    {
     "data": {
      "text/plain": [
       "low       21404\n",
       "middle       38\n",
       "high          7\n",
       "Name: level_income, dtype: int64"
      ]
     },
     "execution_count": 144,
     "metadata": {},
     "output_type": "execute_result"
    }
   ],
   "source": [
    "# Check the income level data and paying back on time\n",
    "def level_income(income):\n",
    "    A=(df['total_income'].max()-df['total_income'].min())/3\n",
    "    A1=df['total_income'].max()-A\n",
    "    A2=df['total_income'].max()-(2*A)\n",
    "    if income <= A2:\n",
    "        return 'low'\n",
    "    if income <= A1:\n",
    "        return 'middle'\n",
    "    return 'high'\n",
    "df[\"level_income\"]=df['total_income'].apply(level_income)\n",
    "\n",
    "# Calculating default-rate based on income level\n",
    "\n",
    "df[\"level_income\"].value_counts()"
   ]
  },
  {
   "cell_type": "code",
   "execution_count": 145,
   "metadata": {
    "scrolled": true
   },
   "outputs": [
    {
     "data": {
      "text/html": [
       "<div>\n",
       "<style scoped>\n",
       "    .dataframe tbody tr th:only-of-type {\n",
       "        vertical-align: middle;\n",
       "    }\n",
       "\n",
       "    .dataframe tbody tr th {\n",
       "        vertical-align: top;\n",
       "    }\n",
       "\n",
       "    .dataframe thead th {\n",
       "        text-align: right;\n",
       "    }\n",
       "</style>\n",
       "<table border=\"1\" class=\"dataframe\">\n",
       "  <thead>\n",
       "    <tr style=\"text-align: right;\">\n",
       "      <th></th>\n",
       "      <th>level_income</th>\n",
       "      <th>debt</th>\n",
       "    </tr>\n",
       "  </thead>\n",
       "  <tbody>\n",
       "    <tr>\n",
       "      <td>2</td>\n",
       "      <td>middle</td>\n",
       "      <td>0.078947</td>\n",
       "    </tr>\n",
       "    <tr>\n",
       "      <td>1</td>\n",
       "      <td>low</td>\n",
       "      <td>0.081153</td>\n",
       "    </tr>\n",
       "    <tr>\n",
       "      <td>0</td>\n",
       "      <td>high</td>\n",
       "      <td>0.142857</td>\n",
       "    </tr>\n",
       "  </tbody>\n",
       "</table>\n",
       "</div>"
      ],
      "text/plain": [
       "  level_income      debt\n",
       "2       middle  0.078947\n",
       "1          low  0.081153\n",
       "0         high  0.142857"
      ]
     },
     "execution_count": 145,
     "metadata": {},
     "output_type": "execute_result"
    }
   ],
   "source": [
    "# Check the percentages for default rate for each credit purpose and analyze them\n",
    "df.groupby([\"level_income\"])[\"debt\"].mean().reset_index().sort_values(by=\"debt\")"
   ]
  },
  {
   "cell_type": "markdown",
   "metadata": {},
   "source": [
    "**Conclusion**\n",
    "\n",
    "[Write your conclusions based on your manipulations and observations.]"
   ]
  },
  {
   "cell_type": "markdown",
   "metadata": {},
   "source": [
    "<span style=\"color:blue; font-size: 18px\">**accordingly it shows that high income level are the most borrowers and susceptible to not repaying credit**"
   ]
  },
  {
   "cell_type": "markdown",
   "metadata": {},
   "source": [
    "**How does credit purpose affect the default rate?**"
   ]
  },
  {
   "cell_type": "markdown",
   "metadata": {},
   "source": [
    "**Conclusion**\n",
    "\n",
    "[Write your conclusions based on your manipulations and observations.]\n"
   ]
  },
  {
   "cell_type": "code",
   "execution_count": 146,
   "metadata": {},
   "outputs": [
    {
     "data": {
      "text/plain": [
       "array(['purchase of the house', 'car purchase', 'supplementary education',\n",
       "       'to have a wedding', 'housing transactions', 'education',\n",
       "       'having a wedding', 'purchase of the house for my family',\n",
       "       'buy real estate', 'buy commercial real estate',\n",
       "       'buy residential real estate', 'construction of own property',\n",
       "       'property', 'building a property', 'buying a second-hand car',\n",
       "       'buying my own car', 'transactions with commercial real estate',\n",
       "       'building a real estate', 'housing',\n",
       "       'transactions with my real estate', 'cars', 'to become educated',\n",
       "       'second-hand car purchase', 'getting an education', 'car',\n",
       "       'wedding ceremony', 'to get a supplementary education',\n",
       "       'purchase of my own house', 'real estate transactions',\n",
       "       'getting higher education', 'to own a car', 'purchase of a car',\n",
       "       'profile education', 'university education',\n",
       "       'buying property for renting out', 'to buy a car',\n",
       "       'housing renovation', 'going to university'], dtype=object)"
      ]
     },
     "execution_count": 146,
     "metadata": {},
     "output_type": "execute_result"
    }
   ],
   "source": [
    "#Reviewer's code \n",
    "df['purpose'].unique()"
   ]
  },
  {
   "cell_type": "code",
   "execution_count": 147,
   "metadata": {},
   "outputs": [
    {
     "data": {
      "text/html": [
       "<div>\n",
       "<style scoped>\n",
       "    .dataframe tbody tr th:only-of-type {\n",
       "        vertical-align: middle;\n",
       "    }\n",
       "\n",
       "    .dataframe tbody tr th {\n",
       "        vertical-align: top;\n",
       "    }\n",
       "\n",
       "    .dataframe thead th {\n",
       "        text-align: right;\n",
       "    }\n",
       "</style>\n",
       "<table border=\"1\" class=\"dataframe\">\n",
       "  <thead>\n",
       "    <tr style=\"text-align: right;\">\n",
       "      <th></th>\n",
       "      <th>purpose_loan</th>\n",
       "      <th>debt</th>\n",
       "    </tr>\n",
       "  </thead>\n",
       "  <tbody>\n",
       "    <tr>\n",
       "      <td>1</td>\n",
       "      <td>investment</td>\n",
       "      <td>0.071831</td>\n",
       "    </tr>\n",
       "    <tr>\n",
       "      <td>2</td>\n",
       "      <td>other</td>\n",
       "      <td>0.076193</td>\n",
       "    </tr>\n",
       "    <tr>\n",
       "      <td>0</td>\n",
       "      <td>Education</td>\n",
       "      <td>0.092664</td>\n",
       "    </tr>\n",
       "    <tr>\n",
       "      <td>3</td>\n",
       "      <td>purchase</td>\n",
       "      <td>0.093590</td>\n",
       "    </tr>\n",
       "  </tbody>\n",
       "</table>\n",
       "</div>"
      ],
      "text/plain": [
       "  purpose_loan      debt\n",
       "1   investment  0.071831\n",
       "2        other  0.076193\n",
       "0    Education  0.092664\n",
       "3     purchase  0.093590"
      ]
     },
     "execution_count": 147,
     "metadata": {},
     "output_type": "execute_result"
    }
   ],
   "source": [
    "df.groupby([\"purpose_loan\"])[\"debt\"].mean().reset_index().sort_values(by=\"debt\")"
   ]
  },
  {
   "cell_type": "markdown",
   "metadata": {},
   "source": [
    "<span style=\"color:blue; font-size: 18px\">**accordingly it shows that purchase category has the most borrowers and susceptible to not repaying credit**"
   ]
  },
  {
   "cell_type": "markdown",
   "metadata": {},
   "source": [
    "# General Conclusion \n",
    "\n",
    "[List your conclusions in this final section. Make sure you include all your important conclusions you made that led you to the way you processed and analyzed the data. Cover the missing values, duplicates, and possible reasons and solutions for problematic artifacts that you had to address.]\n",
    "\n",
    "[List your conclusions regarding the posed questions here as well.]\n"
   ]
  },
  {
   "cell_type": "markdown",
   "metadata": {},
   "source": [
    "<span style=\"color:red; font-size: 18px\">**General Conclusion**  \n",
    "    <span style=\"color:blue; font-size: 15px\">**I've learned:**  \n",
    "        <span style=\"color:blue; font-size: 15px\">**1. to have an analytical observation on data**  \n",
    "        <span style=\"color:blue; font-size: 15px\">**2. using the proper codes to check the missing values and their type.**  \n",
    "        <span style=\"color:blue; font-size: 15px\">**3. to build the steps and determine the goal that I have to achieve**  \n",
    "        <span style=\"color:blue; font-size: 15px\">**4. to start to transform the values and to fill in the missing values**  \n",
    "        <span style=\"color:blue; font-size: 15px\">**5. to check after every step if there any error had done.**  \n",
    "        <span style=\"color:blue; font-size: 15px\">**6. to start to build tables to get ideas about the default rates to gain some iformation about the relation between the different datas.**"
   ]
  }
 ],
 "metadata": {
  "ExecuteTimeLog": [
   {
    "duration": 2741,
    "start_time": "2021-10-21T01:08:49.480Z"
   },
   {
    "duration": 52,
    "start_time": "2021-10-21T01:08:53.315Z"
   },
   {
    "duration": 49,
    "start_time": "2021-10-21T01:08:57.432Z"
   },
   {
    "duration": 70,
    "start_time": "2021-10-21T01:09:07.706Z"
   },
   {
    "duration": 3,
    "start_time": "2022-01-07T13:28:51.861Z"
   },
   {
    "duration": 183,
    "start_time": "2022-01-07T13:35:27.974Z"
   },
   {
    "duration": 796,
    "start_time": "2022-01-07T13:36:34.858Z"
   },
   {
    "duration": 411,
    "start_time": "2022-01-07T13:38:21.773Z"
   },
   {
    "duration": 23,
    "start_time": "2022-01-07T13:39:20.957Z"
   },
   {
    "duration": 5,
    "start_time": "2022-01-07T13:40:51.914Z"
   },
   {
    "duration": 40,
    "start_time": "2022-01-07T13:41:42.185Z"
   },
   {
    "duration": 18,
    "start_time": "2022-01-07T13:42:14.907Z"
   },
   {
    "duration": 320,
    "start_time": "2022-01-07T13:44:35.190Z"
   },
   {
    "duration": 19,
    "start_time": "2022-01-07T13:44:46.981Z"
   },
   {
    "duration": 385,
    "start_time": "2022-01-07T13:45:42.614Z"
   },
   {
    "duration": 15,
    "start_time": "2022-01-07T13:45:50.220Z"
   },
   {
    "duration": 106,
    "start_time": "2022-01-07T16:43:09.970Z"
   },
   {
    "duration": 402,
    "start_time": "2022-01-07T16:43:16.735Z"
   },
   {
    "duration": 900,
    "start_time": "2022-01-07T16:43:34.911Z"
   },
   {
    "duration": 37,
    "start_time": "2022-01-07T16:43:54.352Z"
   },
   {
    "duration": 99,
    "start_time": "2022-01-07T19:38:31.322Z"
   },
   {
    "duration": 844,
    "start_time": "2022-01-07T19:39:26.229Z"
   },
   {
    "duration": 389,
    "start_time": "2022-01-07T20:23:30.169Z"
   },
   {
    "duration": 68,
    "start_time": "2022-01-07T20:23:37.700Z"
   },
   {
    "duration": 280,
    "start_time": "2022-01-07T20:23:44.807Z"
   },
   {
    "duration": 38,
    "start_time": "2022-01-07T20:23:52.366Z"
   },
   {
    "duration": 8,
    "start_time": "2022-01-07T20:24:09.512Z"
   },
   {
    "duration": 102,
    "start_time": "2022-01-07T20:25:07.546Z"
   },
   {
    "duration": 127,
    "start_time": "2022-01-07T20:25:25.189Z"
   },
   {
    "duration": 102,
    "start_time": "2022-01-07T20:25:35.577Z"
   },
   {
    "duration": 147,
    "start_time": "2022-01-07T20:25:58.641Z"
   },
   {
    "duration": 67,
    "start_time": "2022-01-07T20:26:21.119Z"
   },
   {
    "duration": 152,
    "start_time": "2022-01-07T20:26:34.956Z"
   },
   {
    "duration": 13,
    "start_time": "2022-01-07T20:26:41.929Z"
   },
   {
    "duration": 107,
    "start_time": "2022-01-07T20:27:13.864Z"
   },
   {
    "duration": 8,
    "start_time": "2022-01-07T20:27:27.992Z"
   },
   {
    "duration": 123,
    "start_time": "2022-01-07T20:28:39.698Z"
   },
   {
    "duration": 8,
    "start_time": "2022-01-07T20:28:47.064Z"
   },
   {
    "duration": 13,
    "start_time": "2022-01-07T20:29:55.324Z"
   },
   {
    "duration": 322,
    "start_time": "2022-01-07T20:30:52.606Z"
   },
   {
    "duration": 7,
    "start_time": "2022-01-07T20:31:38.412Z"
   },
   {
    "duration": 24,
    "start_time": "2022-01-07T21:06:29.669Z"
   },
   {
    "duration": 8,
    "start_time": "2022-01-07T21:24:34.071Z"
   },
   {
    "duration": 10,
    "start_time": "2022-01-07T21:25:05.632Z"
   },
   {
    "duration": 8,
    "start_time": "2022-01-07T21:25:18.258Z"
   },
   {
    "duration": 9,
    "start_time": "2022-01-07T21:25:54.665Z"
   },
   {
    "duration": 838,
    "start_time": "2022-01-08T07:04:23.203Z"
   },
   {
    "duration": 58,
    "start_time": "2022-01-08T07:06:54.234Z"
   },
   {
    "duration": 509,
    "start_time": "2022-01-08T07:28:04.847Z"
   },
   {
    "duration": 292,
    "start_time": "2022-01-08T07:28:40.098Z"
   },
   {
    "duration": 294,
    "start_time": "2022-01-08T07:29:28.764Z"
   },
   {
    "duration": 8,
    "start_time": "2022-01-08T07:30:22.352Z"
   },
   {
    "duration": 288,
    "start_time": "2022-01-08T07:30:45.883Z"
   },
   {
    "duration": 5,
    "start_time": "2022-01-08T07:30:58.533Z"
   },
   {
    "duration": 6,
    "start_time": "2022-01-08T07:31:04.346Z"
   },
   {
    "duration": 8,
    "start_time": "2022-01-08T07:31:16.953Z"
   },
   {
    "duration": 8,
    "start_time": "2022-01-08T08:06:32.521Z"
   },
   {
    "duration": 7,
    "start_time": "2022-01-08T08:09:45.622Z"
   },
   {
    "duration": 8,
    "start_time": "2022-01-08T08:09:59.602Z"
   },
   {
    "duration": 7,
    "start_time": "2022-01-08T08:10:16.856Z"
   },
   {
    "duration": 7,
    "start_time": "2022-01-08T08:11:06.205Z"
   },
   {
    "duration": 7,
    "start_time": "2022-01-08T08:12:33.601Z"
   },
   {
    "duration": 7,
    "start_time": "2022-01-08T08:12:50.844Z"
   },
   {
    "duration": 68,
    "start_time": "2022-01-08T08:13:18.466Z"
   },
   {
    "duration": 6,
    "start_time": "2022-01-08T08:13:40.413Z"
   },
   {
    "duration": 13,
    "start_time": "2022-01-08T08:14:20.074Z"
   },
   {
    "duration": 17,
    "start_time": "2022-01-08T08:14:49.438Z"
   },
   {
    "duration": 13,
    "start_time": "2022-01-08T08:16:59.713Z"
   },
   {
    "duration": 13,
    "start_time": "2022-01-08T08:48:09.910Z"
   },
   {
    "duration": 1334,
    "start_time": "2022-01-08T08:56:24.722Z"
   },
   {
    "duration": 13,
    "start_time": "2022-01-08T08:56:41.515Z"
   },
   {
    "duration": 13,
    "start_time": "2022-01-08T08:59:27.560Z"
   },
   {
    "duration": 3,
    "start_time": "2022-01-08T09:01:34.508Z"
   },
   {
    "duration": 6,
    "start_time": "2022-01-08T09:25:06.454Z"
   },
   {
    "duration": 7,
    "start_time": "2022-01-08T09:26:16.493Z"
   },
   {
    "duration": 6,
    "start_time": "2022-01-08T09:26:39.834Z"
   },
   {
    "duration": 13,
    "start_time": "2022-01-08T09:26:56.930Z"
   },
   {
    "duration": 5,
    "start_time": "2022-01-08T09:27:29.977Z"
   },
   {
    "duration": 1313,
    "start_time": "2022-01-08T09:28:46.584Z"
   },
   {
    "duration": 90,
    "start_time": "2022-01-08T09:59:27.703Z"
   },
   {
    "duration": 91,
    "start_time": "2022-01-08T09:59:58.836Z"
   },
   {
    "duration": 105,
    "start_time": "2022-01-08T10:00:33.138Z"
   },
   {
    "duration": -1634,
    "start_time": "2022-01-08T10:01:02.800Z"
   },
   {
    "duration": 284,
    "start_time": "2022-01-08T10:01:38.284Z"
   },
   {
    "duration": 324,
    "start_time": "2022-01-08T10:02:42.671Z"
   },
   {
    "duration": 66,
    "start_time": "2022-01-08T10:03:09.478Z"
   },
   {
    "duration": 34,
    "start_time": "2022-01-08T10:04:22.757Z"
   },
   {
    "duration": 1120,
    "start_time": "2022-01-08T10:06:26.017Z"
   },
   {
    "duration": 61,
    "start_time": "2022-01-08T10:06:55.607Z"
   },
   {
    "duration": 12,
    "start_time": "2022-01-08T10:13:21.215Z"
   },
   {
    "duration": 11,
    "start_time": "2022-01-08T10:13:54.624Z"
   },
   {
    "duration": -1727,
    "start_time": "2022-01-08T10:14:50.981Z"
   },
   {
    "duration": -1735,
    "start_time": "2022-01-08T10:14:50.990Z"
   },
   {
    "duration": 3835,
    "start_time": "2022-01-08T10:15:20.582Z"
   },
   {
    "duration": 12,
    "start_time": "2022-01-08T10:15:34.095Z"
   },
   {
    "duration": 12,
    "start_time": "2022-01-08T10:15:54.815Z"
   },
   {
    "duration": 12,
    "start_time": "2022-01-08T10:16:08.917Z"
   },
   {
    "duration": 11,
    "start_time": "2022-01-08T10:16:18.873Z"
   },
   {
    "duration": 11,
    "start_time": "2022-01-08T10:16:43.068Z"
   },
   {
    "duration": 11,
    "start_time": "2022-01-08T10:17:22.507Z"
   },
   {
    "duration": 10,
    "start_time": "2022-01-08T10:35:03.578Z"
   },
   {
    "duration": 10,
    "start_time": "2022-01-08T10:35:51.340Z"
   },
   {
    "duration": 311,
    "start_time": "2022-01-08T10:40:21.681Z"
   },
   {
    "duration": 7,
    "start_time": "2022-01-08T10:40:29.563Z"
   },
   {
    "duration": 385,
    "start_time": "2022-01-08T10:40:51.032Z"
   },
   {
    "duration": 6,
    "start_time": "2022-01-08T10:40:58.487Z"
   },
   {
    "duration": 14,
    "start_time": "2022-01-08T10:43:16.828Z"
   },
   {
    "duration": 5,
    "start_time": "2022-01-08T10:43:32.656Z"
   },
   {
    "duration": 104,
    "start_time": "2022-01-08T10:46:44.371Z"
   },
   {
    "duration": 99,
    "start_time": "2022-01-08T10:46:57.649Z"
   },
   {
    "duration": 131,
    "start_time": "2022-01-08T10:47:19.830Z"
   },
   {
    "duration": 5,
    "start_time": "2022-01-08T10:47:28.418Z"
   },
   {
    "duration": 6,
    "start_time": "2022-01-08T10:48:16.482Z"
   },
   {
    "duration": 6,
    "start_time": "2022-01-08T10:49:47.586Z"
   },
   {
    "duration": 7,
    "start_time": "2022-01-08T10:49:55.478Z"
   },
   {
    "duration": 9,
    "start_time": "2022-01-08T11:05:41.163Z"
   },
   {
    "duration": 6,
    "start_time": "2022-01-08T11:06:03.331Z"
   },
   {
    "duration": 7,
    "start_time": "2022-01-08T11:06:14.178Z"
   },
   {
    "duration": 6,
    "start_time": "2022-01-08T11:45:54.584Z"
   },
   {
    "duration": 6,
    "start_time": "2022-01-08T11:46:18.790Z"
   },
   {
    "duration": 20,
    "start_time": "2022-01-08T11:51:48.968Z"
   },
   {
    "duration": 7,
    "start_time": "2022-01-08T11:54:17.272Z"
   },
   {
    "duration": 1153,
    "start_time": "2022-01-08T14:28:18.292Z"
   },
   {
    "duration": 438,
    "start_time": "2022-01-08T14:32:10.344Z"
   },
   {
    "duration": 416,
    "start_time": "2022-01-08T14:34:03.492Z"
   },
   {
    "duration": 20,
    "start_time": "2022-01-08T14:34:24.798Z"
   },
   {
    "duration": 11,
    "start_time": "2022-01-08T14:35:09.327Z"
   },
   {
    "duration": 42,
    "start_time": "2022-01-08T14:40:24.952Z"
   },
   {
    "duration": 6,
    "start_time": "2022-01-08T14:49:29.425Z"
   },
   {
    "duration": 16,
    "start_time": "2022-01-08T15:01:36.386Z"
   },
   {
    "duration": 19,
    "start_time": "2022-01-08T15:01:54.596Z"
   },
   {
    "duration": -1603,
    "start_time": "2022-01-08T15:07:31.482Z"
   },
   {
    "duration": -1606,
    "start_time": "2022-01-08T15:07:49.281Z"
   },
   {
    "duration": 6936,
    "start_time": "2022-01-08T15:09:14.209Z"
   },
   {
    "duration": 8408,
    "start_time": "2022-01-08T15:09:26.967Z"
   },
   {
    "duration": 33,
    "start_time": "2022-01-08T15:09:48.348Z"
   },
   {
    "duration": 14,
    "start_time": "2022-01-08T15:36:27.138Z"
   },
   {
    "duration": 17,
    "start_time": "2022-01-08T15:36:49.954Z"
   },
   {
    "duration": 114,
    "start_time": "2022-01-08T15:41:26.684Z"
   },
   {
    "duration": 373,
    "start_time": "2022-01-08T15:41:42.982Z"
   },
   {
    "duration": -221,
    "start_time": "2022-01-08T15:42:06.136Z"
   },
   {
    "duration": 7167,
    "start_time": "2022-01-08T15:42:25.332Z"
   },
   {
    "duration": 522,
    "start_time": "2022-01-08T15:42:50.768Z"
   },
   {
    "duration": 17,
    "start_time": "2022-01-08T15:43:08.622Z"
   },
   {
    "duration": 5,
    "start_time": "2022-01-08T15:45:26.528Z"
   },
   {
    "duration": 6,
    "start_time": "2022-01-08T15:46:03.585Z"
   },
   {
    "duration": 17,
    "start_time": "2022-01-08T15:46:33.201Z"
   },
   {
    "duration": 17,
    "start_time": "2022-01-08T15:46:37.138Z"
   },
   {
    "duration": 6,
    "start_time": "2022-01-08T16:08:30.352Z"
   },
   {
    "duration": 7,
    "start_time": "2022-01-08T16:08:54.453Z"
   },
   {
    "duration": 66,
    "start_time": "2022-01-08T16:44:37.948Z"
   },
   {
    "duration": 5,
    "start_time": "2022-01-08T16:44:38.016Z"
   },
   {
    "duration": 36,
    "start_time": "2022-01-08T16:44:38.024Z"
   },
   {
    "duration": 13,
    "start_time": "2022-01-08T16:44:38.063Z"
   },
   {
    "duration": 6,
    "start_time": "2022-01-08T16:44:38.078Z"
   },
   {
    "duration": 5,
    "start_time": "2022-01-08T16:44:38.086Z"
   },
   {
    "duration": 6,
    "start_time": "2022-01-08T16:44:38.093Z"
   },
   {
    "duration": 77,
    "start_time": "2022-01-08T16:44:38.101Z"
   },
   {
    "duration": 6,
    "start_time": "2022-01-08T16:44:38.181Z"
   },
   {
    "duration": 8,
    "start_time": "2022-01-08T16:44:38.189Z"
   },
   {
    "duration": 69,
    "start_time": "2022-01-08T17:11:41.882Z"
   },
   {
    "duration": 5,
    "start_time": "2022-01-08T17:11:41.953Z"
   },
   {
    "duration": 20,
    "start_time": "2022-01-08T17:11:41.961Z"
   },
   {
    "duration": 13,
    "start_time": "2022-01-08T17:11:41.984Z"
   },
   {
    "duration": 8,
    "start_time": "2022-01-08T17:11:42.000Z"
   },
   {
    "duration": 50,
    "start_time": "2022-01-08T17:11:42.011Z"
   },
   {
    "duration": 7,
    "start_time": "2022-01-08T17:11:42.064Z"
   },
   {
    "duration": 34,
    "start_time": "2022-01-08T17:11:42.075Z"
   },
   {
    "duration": 7,
    "start_time": "2022-01-08T17:11:42.112Z"
   },
   {
    "duration": 10,
    "start_time": "2022-01-08T17:11:42.160Z"
   },
   {
    "duration": 525,
    "start_time": "2022-01-08T17:14:19.760Z"
   },
   {
    "duration": 382,
    "start_time": "2022-01-08T17:14:33.248Z"
   },
   {
    "duration": 1252,
    "start_time": "2022-01-08T17:14:51.505Z"
   },
   {
    "duration": 46,
    "start_time": "2022-01-08T17:16:00.644Z"
   },
   {
    "duration": 493,
    "start_time": "2022-01-08T17:17:04.065Z"
   },
   {
    "duration": -231,
    "start_time": "2022-01-08T17:17:44.163Z"
   },
   {
    "duration": 50,
    "start_time": "2022-01-08T17:17:44.875Z"
   },
   {
    "duration": 527,
    "start_time": "2022-01-08T17:18:17.442Z"
   },
   {
    "duration": 1359,
    "start_time": "2022-01-08T17:18:53.585Z"
   },
   {
    "duration": 45,
    "start_time": "2022-01-08T17:38:16.666Z"
   },
   {
    "duration": 45,
    "start_time": "2022-01-08T17:39:14.767Z"
   },
   {
    "duration": 8,
    "start_time": "2022-01-08T17:39:22.837Z"
   },
   {
    "duration": 8,
    "start_time": "2022-01-08T17:39:27.974Z"
   },
   {
    "duration": 863,
    "start_time": "2022-01-08T17:42:54.156Z"
   },
   {
    "duration": 13,
    "start_time": "2022-01-08T17:42:55.023Z"
   },
   {
    "duration": 35,
    "start_time": "2022-01-08T17:42:55.040Z"
   },
   {
    "duration": 14,
    "start_time": "2022-01-08T17:42:55.077Z"
   },
   {
    "duration": 6,
    "start_time": "2022-01-08T17:42:55.093Z"
   },
   {
    "duration": 5,
    "start_time": "2022-01-08T17:42:55.102Z"
   },
   {
    "duration": 50,
    "start_time": "2022-01-08T17:42:55.109Z"
   },
   {
    "duration": 36,
    "start_time": "2022-01-08T17:42:55.161Z"
   },
   {
    "duration": 6,
    "start_time": "2022-01-08T17:42:55.200Z"
   },
   {
    "duration": 9,
    "start_time": "2022-01-08T17:42:55.208Z"
   },
   {
    "duration": 40,
    "start_time": "2022-01-08T17:42:55.220Z"
   },
   {
    "duration": 54,
    "start_time": "2022-01-08T17:42:59.984Z"
   },
   {
    "duration": 851,
    "start_time": "2022-01-08T19:07:30.636Z"
   },
   {
    "duration": 12,
    "start_time": "2022-01-08T19:07:31.490Z"
   },
   {
    "duration": 31,
    "start_time": "2022-01-08T19:07:31.505Z"
   },
   {
    "duration": 14,
    "start_time": "2022-01-08T19:07:31.539Z"
   },
   {
    "duration": 6,
    "start_time": "2022-01-08T19:07:31.555Z"
   },
   {
    "duration": 8,
    "start_time": "2022-01-08T19:07:31.563Z"
   },
   {
    "duration": 9,
    "start_time": "2022-01-08T19:07:31.574Z"
   },
   {
    "duration": 69,
    "start_time": "2022-01-08T19:07:31.586Z"
   },
   {
    "duration": 6,
    "start_time": "2022-01-08T19:07:31.659Z"
   },
   {
    "duration": 8,
    "start_time": "2022-01-08T19:07:31.668Z"
   },
   {
    "duration": 7,
    "start_time": "2022-01-08T19:07:31.679Z"
   },
   {
    "duration": 367,
    "start_time": "2022-01-08T19:09:39.660Z"
   },
   {
    "duration": 12,
    "start_time": "2022-01-08T19:09:52.476Z"
   },
   {
    "duration": 14,
    "start_time": "2022-01-08T19:17:42.737Z"
   },
   {
    "duration": 287,
    "start_time": "2022-01-08T19:18:04.175Z"
   },
   {
    "duration": 307,
    "start_time": "2022-01-08T19:18:50.809Z"
   },
   {
    "duration": 293,
    "start_time": "2022-01-08T19:19:05.088Z"
   },
   {
    "duration": 278,
    "start_time": "2022-01-08T19:20:07.799Z"
   },
   {
    "duration": 8,
    "start_time": "2022-01-08T19:20:13.848Z"
   },
   {
    "duration": 3,
    "start_time": "2022-01-08T19:20:49.094Z"
   },
   {
    "duration": 8,
    "start_time": "2022-01-08T20:38:12.481Z"
   },
   {
    "duration": 18,
    "start_time": "2022-01-08T20:38:47.310Z"
   },
   {
    "duration": 18,
    "start_time": "2022-01-08T20:39:09.709Z"
   },
   {
    "duration": 7,
    "start_time": "2022-01-08T20:39:42.192Z"
   },
   {
    "duration": 8,
    "start_time": "2022-01-08T20:40:01.180Z"
   },
   {
    "duration": 7,
    "start_time": "2022-01-08T20:40:38.988Z"
   },
   {
    "duration": 6,
    "start_time": "2022-01-08T20:41:39.107Z"
   },
   {
    "duration": 7,
    "start_time": "2022-01-08T21:07:21.315Z"
   },
   {
    "duration": 6,
    "start_time": "2022-01-08T21:08:21.265Z"
   },
   {
    "duration": 7,
    "start_time": "2022-01-08T21:08:29.910Z"
   },
   {
    "duration": 8,
    "start_time": "2022-01-08T21:09:06.137Z"
   },
   {
    "duration": 6,
    "start_time": "2022-01-08T21:09:20.481Z"
   },
   {
    "duration": 7,
    "start_time": "2022-01-08T21:10:13.328Z"
   },
   {
    "duration": 9,
    "start_time": "2022-01-08T21:11:14.510Z"
   },
   {
    "duration": 12,
    "start_time": "2022-01-08T21:12:35.926Z"
   },
   {
    "duration": 8,
    "start_time": "2022-01-08T21:13:02.701Z"
   },
   {
    "duration": 7,
    "start_time": "2022-01-08T21:13:55.812Z"
   },
   {
    "duration": 14,
    "start_time": "2022-01-08T21:14:08.189Z"
   },
   {
    "duration": 8,
    "start_time": "2022-01-08T21:14:15.690Z"
   },
   {
    "duration": 6,
    "start_time": "2022-01-08T21:15:02.134Z"
   },
   {
    "duration": 6,
    "start_time": "2022-01-08T21:21:34.947Z"
   },
   {
    "duration": 6,
    "start_time": "2022-01-08T21:22:20.288Z"
   },
   {
    "duration": 98,
    "start_time": "2022-01-08T21:22:41.232Z"
   },
   {
    "duration": 6,
    "start_time": "2022-01-08T21:22:47.449Z"
   },
   {
    "duration": 7,
    "start_time": "2022-01-08T21:23:57.911Z"
   },
   {
    "duration": 33,
    "start_time": "2022-01-08T21:27:19.192Z"
   },
   {
    "duration": 36,
    "start_time": "2022-01-08T21:27:47.739Z"
   },
   {
    "duration": 413,
    "start_time": "2022-01-08T21:27:56.306Z"
   },
   {
    "duration": 35,
    "start_time": "2022-01-08T21:28:02.186Z"
   },
   {
    "duration": 286,
    "start_time": "2022-01-08T21:30:30.465Z"
   },
   {
    "duration": 281,
    "start_time": "2022-01-08T21:31:22.577Z"
   },
   {
    "duration": 288,
    "start_time": "2022-01-08T21:32:07.175Z"
   },
   {
    "duration": 12,
    "start_time": "2022-01-08T21:32:26.085Z"
   },
   {
    "duration": 13,
    "start_time": "2022-01-08T21:33:31.852Z"
   },
   {
    "duration": 8,
    "start_time": "2022-01-08T21:33:51.811Z"
   },
   {
    "duration": 299,
    "start_time": "2022-01-08T21:34:31.410Z"
   },
   {
    "duration": 13,
    "start_time": "2022-01-08T21:34:39.140Z"
   },
   {
    "duration": 298,
    "start_time": "2022-01-08T21:35:10.058Z"
   },
   {
    "duration": 12,
    "start_time": "2022-01-08T21:35:15.497Z"
   },
   {
    "duration": 372,
    "start_time": "2022-01-08T21:35:36.521Z"
   },
   {
    "duration": 12,
    "start_time": "2022-01-08T21:35:43.915Z"
   },
   {
    "duration": 13,
    "start_time": "2022-01-08T21:36:02.481Z"
   },
   {
    "duration": 371,
    "start_time": "2022-01-08T21:36:17.353Z"
   },
   {
    "duration": 12,
    "start_time": "2022-01-08T21:36:29.304Z"
   },
   {
    "duration": 13,
    "start_time": "2022-01-08T21:37:33.447Z"
   },
   {
    "duration": 2030,
    "start_time": "2022-01-08T21:37:58.838Z"
   },
   {
    "duration": 104,
    "start_time": "2022-01-08T21:38:43.286Z"
   },
   {
    "duration": 135,
    "start_time": "2022-01-08T21:39:00.422Z"
   },
   {
    "duration": 90,
    "start_time": "2022-01-08T21:39:30.660Z"
   },
   {
    "duration": 100,
    "start_time": "2022-01-08T21:39:45.261Z"
   },
   {
    "duration": 99,
    "start_time": "2022-01-08T21:40:02.884Z"
   },
   {
    "duration": 7076,
    "start_time": "2022-01-08T21:40:16.658Z"
   },
   {
    "duration": 8103,
    "start_time": "2022-01-08T21:40:27.315Z"
   },
   {
    "duration": 13,
    "start_time": "2022-01-08T21:41:09.795Z"
   },
   {
    "duration": 15,
    "start_time": "2022-01-08T21:41:25.946Z"
   },
   {
    "duration": 62,
    "start_time": "2022-01-08T21:42:00.053Z"
   },
   {
    "duration": 6,
    "start_time": "2022-01-08T21:42:00.117Z"
   },
   {
    "duration": 23,
    "start_time": "2022-01-08T21:42:00.126Z"
   },
   {
    "duration": 16,
    "start_time": "2022-01-08T21:42:00.151Z"
   },
   {
    "duration": 7,
    "start_time": "2022-01-08T21:42:00.169Z"
   },
   {
    "duration": 14,
    "start_time": "2022-01-08T21:42:00.178Z"
   },
   {
    "duration": 33,
    "start_time": "2022-01-08T21:42:00.194Z"
   },
   {
    "duration": 41,
    "start_time": "2022-01-08T21:42:00.230Z"
   },
   {
    "duration": 5,
    "start_time": "2022-01-08T21:42:00.274Z"
   },
   {
    "duration": 14,
    "start_time": "2022-01-08T21:42:00.282Z"
   },
   {
    "duration": 10,
    "start_time": "2022-01-08T21:42:00.322Z"
   },
   {
    "duration": 23,
    "start_time": "2022-01-08T21:42:00.334Z"
   },
   {
    "duration": 4,
    "start_time": "2022-01-08T21:42:00.359Z"
   },
   {
    "duration": 13,
    "start_time": "2022-01-08T21:42:00.365Z"
   },
   {
    "duration": 9,
    "start_time": "2022-01-08T21:42:00.380Z"
   },
   {
    "duration": 10,
    "start_time": "2022-01-08T21:42:00.391Z"
   },
   {
    "duration": 20,
    "start_time": "2022-01-08T21:42:00.424Z"
   },
   {
    "duration": 9,
    "start_time": "2022-01-08T21:42:00.447Z"
   },
   {
    "duration": 20,
    "start_time": "2022-01-08T21:42:00.458Z"
   },
   {
    "duration": 9,
    "start_time": "2022-01-08T21:42:00.480Z"
   },
   {
    "duration": 24,
    "start_time": "2022-01-08T21:42:00.492Z"
   },
   {
    "duration": 21,
    "start_time": "2022-01-08T21:42:00.524Z"
   },
   {
    "duration": 32,
    "start_time": "2022-01-08T21:42:00.549Z"
   },
   {
    "duration": 13,
    "start_time": "2022-01-08T21:42:05.097Z"
   },
   {
    "duration": 7,
    "start_time": "2022-01-08T21:43:33.552Z"
   },
   {
    "duration": 87,
    "start_time": "2022-01-08T21:43:53.542Z"
   },
   {
    "duration": 136,
    "start_time": "2022-01-08T21:44:07.422Z"
   },
   {
    "duration": 97,
    "start_time": "2022-01-08T21:44:13.750Z"
   },
   {
    "duration": 8,
    "start_time": "2022-01-08T21:44:19.358Z"
   },
   {
    "duration": 7,
    "start_time": "2022-01-08T21:44:24.821Z"
   },
   {
    "duration": 7,
    "start_time": "2022-01-08T21:44:39.677Z"
   },
   {
    "duration": 3,
    "start_time": "2022-01-08T21:45:59.293Z"
   },
   {
    "duration": 5,
    "start_time": "2022-01-08T21:46:27.172Z"
   },
   {
    "duration": 8,
    "start_time": "2022-01-08T21:47:30.642Z"
   },
   {
    "duration": 8,
    "start_time": "2022-01-08T21:48:12.626Z"
   },
   {
    "duration": 281,
    "start_time": "2022-01-08T21:48:35.536Z"
   },
   {
    "duration": 301,
    "start_time": "2022-01-08T21:49:05.424Z"
   },
   {
    "duration": 5,
    "start_time": "2022-01-08T21:49:20.593Z"
   },
   {
    "duration": 5,
    "start_time": "2022-01-08T21:49:36.760Z"
   },
   {
    "duration": 8,
    "start_time": "2022-01-08T21:50:17.529Z"
   },
   {
    "duration": 311,
    "start_time": "2022-01-08T21:54:45.640Z"
   },
   {
    "duration": 390,
    "start_time": "2022-01-08T21:55:31.142Z"
   },
   {
    "duration": 106,
    "start_time": "2022-01-08T21:56:15.325Z"
   },
   {
    "duration": 318,
    "start_time": "2022-01-08T21:56:28.413Z"
   },
   {
    "duration": 530,
    "start_time": "2022-01-08T21:56:46.319Z"
   },
   {
    "duration": 8,
    "start_time": "2022-01-08T22:00:10.913Z"
   },
   {
    "duration": 9,
    "start_time": "2022-01-08T22:00:20.831Z"
   },
   {
    "duration": 7,
    "start_time": "2022-01-08T22:00:36.191Z"
   },
   {
    "duration": 8,
    "start_time": "2022-01-08T22:01:09.503Z"
   },
   {
    "duration": 7,
    "start_time": "2022-01-08T22:01:26.310Z"
   },
   {
    "duration": 7,
    "start_time": "2022-01-08T22:01:49.702Z"
   },
   {
    "duration": 427,
    "start_time": "2022-01-08T22:02:39.637Z"
   },
   {
    "duration": 357,
    "start_time": "2022-01-08T22:02:45.766Z"
   },
   {
    "duration": 23,
    "start_time": "2022-01-08T22:03:14.613Z"
   },
   {
    "duration": 22,
    "start_time": "2022-01-08T22:03:25.484Z"
   },
   {
    "duration": 20,
    "start_time": "2022-01-08T22:03:39.788Z"
   },
   {
    "duration": 26,
    "start_time": "2022-01-08T22:04:10.395Z"
   },
   {
    "duration": 22,
    "start_time": "2022-01-08T22:04:37.328Z"
   },
   {
    "duration": 23,
    "start_time": "2022-01-08T22:04:42.722Z"
   },
   {
    "duration": 21,
    "start_time": "2022-01-08T22:05:22.241Z"
   },
   {
    "duration": 7,
    "start_time": "2022-01-08T22:06:31.976Z"
   },
   {
    "duration": 21,
    "start_time": "2022-01-08T22:06:53.913Z"
   },
   {
    "duration": 22,
    "start_time": "2022-01-08T22:07:03.132Z"
   },
   {
    "duration": 7,
    "start_time": "2022-01-08T22:08:59.446Z"
   },
   {
    "duration": 9,
    "start_time": "2022-01-08T22:09:07.269Z"
   },
   {
    "duration": 7,
    "start_time": "2022-01-08T22:09:28.652Z"
   },
   {
    "duration": 7,
    "start_time": "2022-01-08T22:09:36.388Z"
   },
   {
    "duration": 8,
    "start_time": "2022-01-08T22:09:47.251Z"
   },
   {
    "duration": 9,
    "start_time": "2022-01-08T22:10:34.026Z"
   },
   {
    "duration": 9,
    "start_time": "2022-01-08T22:11:12.434Z"
   },
   {
    "duration": 7542,
    "start_time": "2022-01-08T22:11:52.683Z"
   },
   {
    "duration": 9,
    "start_time": "2022-01-08T22:12:09.130Z"
   },
   {
    "duration": 9,
    "start_time": "2022-01-08T22:13:10.296Z"
   },
   {
    "duration": 583,
    "start_time": "2022-01-09T10:54:45.918Z"
   },
   {
    "duration": 8,
    "start_time": "2022-01-09T10:54:46.503Z"
   },
   {
    "duration": 15,
    "start_time": "2022-01-09T10:54:46.514Z"
   },
   {
    "duration": 10,
    "start_time": "2022-01-09T10:54:46.531Z"
   },
   {
    "duration": 5,
    "start_time": "2022-01-09T10:54:46.542Z"
   },
   {
    "duration": 5,
    "start_time": "2022-01-09T10:54:46.548Z"
   },
   {
    "duration": 6,
    "start_time": "2022-01-09T10:54:46.554Z"
   },
   {
    "duration": 21,
    "start_time": "2022-01-09T10:54:46.593Z"
   },
   {
    "duration": 4,
    "start_time": "2022-01-09T10:54:46.616Z"
   },
   {
    "duration": 9,
    "start_time": "2022-01-09T10:54:46.621Z"
   },
   {
    "duration": 5,
    "start_time": "2022-01-09T10:54:46.632Z"
   },
   {
    "duration": 8,
    "start_time": "2022-01-09T10:54:46.639Z"
   },
   {
    "duration": 2,
    "start_time": "2022-01-09T10:54:46.648Z"
   },
   {
    "duration": 40,
    "start_time": "2022-01-09T10:54:46.652Z"
   },
   {
    "duration": 7,
    "start_time": "2022-01-09T10:54:46.693Z"
   },
   {
    "duration": 11,
    "start_time": "2022-01-09T10:54:46.701Z"
   },
   {
    "duration": 15,
    "start_time": "2022-01-09T10:54:46.714Z"
   },
   {
    "duration": 6,
    "start_time": "2022-01-09T10:54:46.731Z"
   },
   {
    "duration": 7,
    "start_time": "2022-01-09T10:54:46.739Z"
   },
   {
    "duration": 4,
    "start_time": "2022-01-09T10:54:46.748Z"
   },
   {
    "duration": 7,
    "start_time": "2022-01-09T10:54:46.754Z"
   },
   {
    "duration": 33,
    "start_time": "2022-01-09T10:54:46.763Z"
   },
   {
    "duration": 8,
    "start_time": "2022-01-09T10:55:37.986Z"
   },
   {
    "duration": 428,
    "start_time": "2022-01-09T20:07:17.899Z"
   },
   {
    "duration": 326,
    "start_time": "2022-01-09T20:07:32.073Z"
   },
   {
    "duration": 312,
    "start_time": "2022-01-09T20:07:56.858Z"
   },
   {
    "duration": 356,
    "start_time": "2022-01-09T20:08:09.281Z"
   },
   {
    "duration": 820,
    "start_time": "2022-01-09T20:08:48.130Z"
   },
   {
    "duration": 20,
    "start_time": "2022-01-09T20:09:29.927Z"
   },
   {
    "duration": 99,
    "start_time": "2022-01-09T20:10:11.772Z"
   },
   {
    "duration": 6999,
    "start_time": "2022-01-09T20:10:35.328Z"
   },
   {
    "duration": 9130,
    "start_time": "2022-01-09T20:11:01.452Z"
   },
   {
    "duration": 110,
    "start_time": "2022-01-09T20:12:18.195Z"
   },
   {
    "duration": 7620,
    "start_time": "2022-01-09T20:12:53.361Z"
   },
   {
    "duration": 6987,
    "start_time": "2022-01-09T20:15:23.719Z"
   },
   {
    "duration": 7544,
    "start_time": "2022-01-09T20:16:40.253Z"
   },
   {
    "duration": 36,
    "start_time": "2022-01-09T20:20:34.715Z"
   },
   {
    "duration": 16,
    "start_time": "2022-01-09T20:20:55.825Z"
   },
   {
    "duration": 14,
    "start_time": "2022-01-09T20:21:08.040Z"
   },
   {
    "duration": 303,
    "start_time": "2022-01-09T20:21:25.592Z"
   },
   {
    "duration": 272,
    "start_time": "2022-01-09T20:21:39.973Z"
   },
   {
    "duration": 13,
    "start_time": "2022-01-09T20:21:49.023Z"
   },
   {
    "duration": 82,
    "start_time": "2022-01-09T20:22:38.493Z"
   },
   {
    "duration": 16,
    "start_time": "2022-01-09T20:22:42.997Z"
   },
   {
    "duration": 84,
    "start_time": "2022-01-09T20:23:08.652Z"
   },
   {
    "duration": 89,
    "start_time": "2022-01-09T20:23:14.932Z"
   },
   {
    "duration": 90,
    "start_time": "2022-01-09T20:23:19.236Z"
   },
   {
    "duration": 13,
    "start_time": "2022-01-09T20:23:34.062Z"
   },
   {
    "duration": 25,
    "start_time": "2022-01-09T20:25:05.963Z"
   },
   {
    "duration": 8,
    "start_time": "2022-01-09T20:25:53.849Z"
   },
   {
    "duration": 12,
    "start_time": "2022-01-09T20:26:54.034Z"
   },
   {
    "duration": 12,
    "start_time": "2022-01-09T20:27:08.784Z"
   },
   {
    "duration": 9,
    "start_time": "2022-01-09T20:27:13.592Z"
   },
   {
    "duration": 15,
    "start_time": "2022-01-09T20:27:38.519Z"
   },
   {
    "duration": 12,
    "start_time": "2022-01-09T20:28:02.208Z"
   },
   {
    "duration": 8,
    "start_time": "2022-01-09T20:28:52.134Z"
   },
   {
    "duration": 9,
    "start_time": "2022-01-09T20:28:55.140Z"
   },
   {
    "duration": 8,
    "start_time": "2022-01-09T20:29:26.249Z"
   },
   {
    "duration": 8,
    "start_time": "2022-01-09T20:29:54.248Z"
   },
   {
    "duration": 8,
    "start_time": "2022-01-09T20:31:03.627Z"
   },
   {
    "duration": 6,
    "start_time": "2022-01-09T20:33:28.528Z"
   },
   {
    "duration": 7,
    "start_time": "2022-01-09T20:33:29.120Z"
   },
   {
    "duration": 7,
    "start_time": "2022-01-09T20:33:31.224Z"
   },
   {
    "duration": 7,
    "start_time": "2022-01-09T20:33:31.929Z"
   },
   {
    "duration": 7,
    "start_time": "2022-01-09T20:33:32.592Z"
   },
   {
    "duration": 7,
    "start_time": "2022-01-09T20:33:33.409Z"
   },
   {
    "duration": 6,
    "start_time": "2022-01-09T20:33:33.977Z"
   },
   {
    "duration": 7,
    "start_time": "2022-01-09T20:35:40.924Z"
   },
   {
    "duration": 8,
    "start_time": "2022-01-09T20:39:00.504Z"
   },
   {
    "duration": 6,
    "start_time": "2022-01-09T20:40:49.447Z"
   },
   {
    "duration": 6,
    "start_time": "2022-01-09T20:40:49.632Z"
   },
   {
    "duration": 6,
    "start_time": "2022-01-09T20:40:49.857Z"
   },
   {
    "duration": 7,
    "start_time": "2022-01-09T20:40:50.225Z"
   },
   {
    "duration": 6,
    "start_time": "2022-01-09T20:40:51.201Z"
   },
   {
    "duration": 6,
    "start_time": "2022-01-09T20:40:52.615Z"
   },
   {
    "duration": 7,
    "start_time": "2022-01-09T20:57:21.405Z"
   },
   {
    "duration": 5,
    "start_time": "2022-01-09T20:57:29.628Z"
   },
   {
    "duration": 7,
    "start_time": "2022-01-09T20:58:05.844Z"
   },
   {
    "duration": 5,
    "start_time": "2022-01-09T20:58:08.932Z"
   },
   {
    "duration": 8,
    "start_time": "2022-01-09T20:58:34.394Z"
   },
   {
    "duration": 8,
    "start_time": "2022-01-09T20:58:45.858Z"
   },
   {
    "duration": 7,
    "start_time": "2022-01-09T21:01:03.640Z"
   },
   {
    "duration": 7,
    "start_time": "2022-01-09T21:01:05.030Z"
   },
   {
    "duration": 7,
    "start_time": "2022-01-09T21:01:05.496Z"
   },
   {
    "duration": 8,
    "start_time": "2022-01-09T21:01:06.032Z"
   },
   {
    "duration": 8,
    "start_time": "2022-01-09T21:01:06.855Z"
   },
   {
    "duration": 5,
    "start_time": "2022-01-09T21:01:07.713Z"
   },
   {
    "duration": 7,
    "start_time": "2022-01-09T21:09:31.625Z"
   },
   {
    "duration": 7,
    "start_time": "2022-01-09T21:09:31.821Z"
   },
   {
    "duration": 7,
    "start_time": "2022-01-09T21:09:32.012Z"
   },
   {
    "duration": 7,
    "start_time": "2022-01-09T21:09:32.381Z"
   },
   {
    "duration": 6,
    "start_time": "2022-01-09T21:09:32.724Z"
   },
   {
    "duration": 6,
    "start_time": "2022-01-09T21:09:33.453Z"
   },
   {
    "duration": 713,
    "start_time": "2022-01-10T06:18:12.303Z"
   },
   {
    "duration": 13,
    "start_time": "2022-01-10T06:21:04.021Z"
   },
   {
    "duration": 22,
    "start_time": "2022-01-10T06:21:40.477Z"
   },
   {
    "duration": 8465,
    "start_time": "2022-01-10T06:23:57.322Z"
   },
   {
    "duration": 5,
    "start_time": "2022-01-10T06:24:26.790Z"
   },
   {
    "duration": 5,
    "start_time": "2022-01-10T06:24:46.143Z"
   },
   {
    "duration": 6,
    "start_time": "2022-01-10T06:25:18.101Z"
   },
   {
    "duration": 7,
    "start_time": "2022-01-10T06:28:38.294Z"
   },
   {
    "duration": 21,
    "start_time": "2022-01-10T06:28:53.503Z"
   },
   {
    "duration": 6,
    "start_time": "2022-01-10T06:29:48.841Z"
   },
   {
    "duration": 347,
    "start_time": "2022-01-10T06:30:08.665Z"
   },
   {
    "duration": 6,
    "start_time": "2022-01-10T06:30:14.387Z"
   },
   {
    "duration": 916,
    "start_time": "2022-01-10T06:31:40.894Z"
   },
   {
    "duration": 11,
    "start_time": "2022-01-10T06:32:20.886Z"
   },
   {
    "duration": 6,
    "start_time": "2022-01-10T06:36:20.274Z"
   },
   {
    "duration": 4,
    "start_time": "2022-01-10T06:48:29.498Z"
   },
   {
    "duration": 282,
    "start_time": "2022-01-10T06:48:46.544Z"
   },
   {
    "duration": 5,
    "start_time": "2022-01-10T06:49:07.986Z"
   },
   {
    "duration": 6,
    "start_time": "2022-01-10T07:21:13.507Z"
   },
   {
    "duration": 5,
    "start_time": "2022-01-10T07:27:45.619Z"
   },
   {
    "duration": 84,
    "start_time": "2022-01-10T07:36:26.698Z"
   },
   {
    "duration": 7,
    "start_time": "2022-01-10T07:37:04.109Z"
   },
   {
    "duration": 7,
    "start_time": "2022-01-10T07:37:34.369Z"
   },
   {
    "duration": 5,
    "start_time": "2022-01-10T07:47:15.725Z"
   },
   {
    "duration": 260,
    "start_time": "2022-01-10T07:52:38.510Z"
   },
   {
    "duration": 82,
    "start_time": "2022-01-10T07:54:31.998Z"
   },
   {
    "duration": 83,
    "start_time": "2022-01-10T07:55:30.014Z"
   },
   {
    "duration": 255,
    "start_time": "2022-01-10T08:02:23.327Z"
   },
   {
    "duration": 251,
    "start_time": "2022-01-10T08:02:35.207Z"
   },
   {
    "duration": 95,
    "start_time": "2022-01-10T08:02:47.554Z"
   },
   {
    "duration": 87,
    "start_time": "2022-01-10T08:03:01.099Z"
   },
   {
    "duration": 5,
    "start_time": "2022-01-10T08:05:14.189Z"
   },
   {
    "duration": 8,
    "start_time": "2022-01-10T08:06:02.535Z"
   },
   {
    "duration": 9,
    "start_time": "2022-01-10T08:06:13.429Z"
   },
   {
    "duration": 103,
    "start_time": "2022-01-10T08:06:24.293Z"
   },
   {
    "duration": 90,
    "start_time": "2022-01-10T08:06:36.176Z"
   },
   {
    "duration": 101,
    "start_time": "2022-01-10T08:06:51.752Z"
   },
   {
    "duration": 263,
    "start_time": "2022-01-10T08:07:00.766Z"
   },
   {
    "duration": 7,
    "start_time": "2022-01-10T08:07:11.509Z"
   },
   {
    "duration": 6,
    "start_time": "2022-01-10T08:09:48.146Z"
   },
   {
    "duration": 5,
    "start_time": "2022-01-10T08:11:14.132Z"
   },
   {
    "duration": 282,
    "start_time": "2022-01-10T08:19:20.832Z"
   },
   {
    "duration": 250,
    "start_time": "2022-01-10T08:19:42.800Z"
   },
   {
    "duration": 7,
    "start_time": "2022-01-10T08:19:51.528Z"
   },
   {
    "duration": 7,
    "start_time": "2022-01-10T08:20:06.467Z"
   },
   {
    "duration": 15,
    "start_time": "2022-01-10T08:20:48.007Z"
   },
   {
    "duration": 243,
    "start_time": "2022-01-10T08:21:16.119Z"
   },
   {
    "duration": 7,
    "start_time": "2022-01-10T08:21:25.704Z"
   },
   {
    "duration": 6,
    "start_time": "2022-01-10T08:36:59.806Z"
   },
   {
    "duration": 6,
    "start_time": "2022-01-10T08:37:20.821Z"
   },
   {
    "duration": 7,
    "start_time": "2022-01-10T08:37:26.244Z"
   },
   {
    "duration": 7,
    "start_time": "2022-01-10T08:38:00.969Z"
   },
   {
    "duration": 6,
    "start_time": "2022-01-10T08:53:22.453Z"
   },
   {
    "duration": 13,
    "start_time": "2022-01-10T08:53:31.727Z"
   },
   {
    "duration": 7,
    "start_time": "2022-01-10T08:53:35.460Z"
   },
   {
    "duration": 5,
    "start_time": "2022-01-10T08:53:57.671Z"
   },
   {
    "duration": 15,
    "start_time": "2022-01-10T08:54:19.102Z"
   },
   {
    "duration": 53,
    "start_time": "2022-01-10T08:54:38.418Z"
   },
   {
    "duration": 3,
    "start_time": "2022-01-10T08:54:38.473Z"
   },
   {
    "duration": 14,
    "start_time": "2022-01-10T08:54:38.479Z"
   },
   {
    "duration": 10,
    "start_time": "2022-01-10T08:54:38.495Z"
   },
   {
    "duration": 4,
    "start_time": "2022-01-10T08:54:38.507Z"
   },
   {
    "duration": 7,
    "start_time": "2022-01-10T08:54:38.513Z"
   },
   {
    "duration": 7,
    "start_time": "2022-01-10T08:54:38.521Z"
   },
   {
    "duration": 33,
    "start_time": "2022-01-10T08:54:38.530Z"
   },
   {
    "duration": 19,
    "start_time": "2022-01-10T08:54:38.565Z"
   },
   {
    "duration": 4,
    "start_time": "2022-01-10T08:54:38.586Z"
   },
   {
    "duration": 9,
    "start_time": "2022-01-10T08:54:38.591Z"
   },
   {
    "duration": 6,
    "start_time": "2022-01-10T08:54:38.601Z"
   },
   {
    "duration": 6,
    "start_time": "2022-01-10T08:54:38.608Z"
   },
   {
    "duration": 6,
    "start_time": "2022-01-10T08:54:38.616Z"
   },
   {
    "duration": 6,
    "start_time": "2022-01-10T08:54:38.660Z"
   },
   {
    "duration": 4,
    "start_time": "2022-01-10T08:54:38.668Z"
   },
   {
    "duration": 4,
    "start_time": "2022-01-10T08:54:38.674Z"
   },
   {
    "duration": 4,
    "start_time": "2022-01-10T08:54:38.680Z"
   },
   {
    "duration": 7,
    "start_time": "2022-01-10T08:54:38.685Z"
   },
   {
    "duration": 6,
    "start_time": "2022-01-10T08:57:41.049Z"
   },
   {
    "duration": 4,
    "start_time": "2022-01-10T08:58:02.389Z"
   },
   {
    "duration": 4,
    "start_time": "2022-01-10T08:58:14.248Z"
   },
   {
    "duration": 7,
    "start_time": "2022-01-10T08:58:28.857Z"
   },
   {
    "duration": 89,
    "start_time": "2022-01-10T08:59:28.560Z"
   },
   {
    "duration": 6309,
    "start_time": "2022-01-10T08:59:33.615Z"
   },
   {
    "duration": 7868,
    "start_time": "2022-01-10T09:00:15.265Z"
   },
   {
    "duration": 90,
    "start_time": "2022-01-10T09:00:24.722Z"
   },
   {
    "duration": 82,
    "start_time": "2022-01-10T09:00:40.468Z"
   },
   {
    "duration": 83,
    "start_time": "2022-01-10T09:00:55.989Z"
   },
   {
    "duration": 7431,
    "start_time": "2022-01-10T09:01:07.020Z"
   },
   {
    "duration": 6,
    "start_time": "2022-01-10T09:01:35.465Z"
   },
   {
    "duration": 6,
    "start_time": "2022-01-10T09:02:00.220Z"
   },
   {
    "duration": 82,
    "start_time": "2022-01-10T09:02:23.312Z"
   },
   {
    "duration": 23,
    "start_time": "2022-01-10T09:02:30.800Z"
   },
   {
    "duration": 15,
    "start_time": "2022-01-10T09:02:46.941Z"
   },
   {
    "duration": 7,
    "start_time": "2022-01-10T09:03:05.307Z"
   },
   {
    "duration": 287,
    "start_time": "2022-01-10T09:03:19.062Z"
   },
   {
    "duration": 6,
    "start_time": "2022-01-10T09:03:38.883Z"
   },
   {
    "duration": 5,
    "start_time": "2022-01-10T09:04:44.450Z"
   },
   {
    "duration": 5,
    "start_time": "2022-01-10T09:04:55.362Z"
   },
   {
    "duration": 5,
    "start_time": "2022-01-10T09:05:20.040Z"
   },
   {
    "duration": 7,
    "start_time": "2022-01-10T09:05:24.910Z"
   },
   {
    "duration": 8,
    "start_time": "2022-01-10T09:05:58.753Z"
   },
   {
    "duration": 6,
    "start_time": "2022-01-10T09:06:08.974Z"
   },
   {
    "duration": 6,
    "start_time": "2022-01-10T09:06:29.906Z"
   },
   {
    "duration": 6,
    "start_time": "2022-01-10T09:07:29.635Z"
   },
   {
    "duration": 7,
    "start_time": "2022-01-10T09:08:26.185Z"
   },
   {
    "duration": 81,
    "start_time": "2022-01-10T09:09:01.663Z"
   },
   {
    "duration": 8,
    "start_time": "2022-01-10T09:09:09.559Z"
   },
   {
    "duration": 260,
    "start_time": "2022-01-10T09:09:14.980Z"
   },
   {
    "duration": 8,
    "start_time": "2022-01-10T09:09:23.448Z"
   },
   {
    "duration": 6,
    "start_time": "2022-01-10T09:09:43.559Z"
   },
   {
    "duration": 7,
    "start_time": "2022-01-10T09:10:25.663Z"
   },
   {
    "duration": 7,
    "start_time": "2022-01-10T09:10:42.024Z"
   },
   {
    "duration": 10,
    "start_time": "2022-01-10T09:11:01.531Z"
   },
   {
    "duration": 8,
    "start_time": "2022-01-10T09:11:09.316Z"
   },
   {
    "duration": 8,
    "start_time": "2022-01-10T09:11:16.215Z"
   },
   {
    "duration": 7,
    "start_time": "2022-01-10T09:12:27.594Z"
   },
   {
    "duration": 2,
    "start_time": "2022-01-10T09:35:18.306Z"
   },
   {
    "duration": 7,
    "start_time": "2022-01-10T09:57:42.670Z"
   },
   {
    "duration": 7,
    "start_time": "2022-01-10T09:58:29.450Z"
   },
   {
    "duration": 6,
    "start_time": "2022-01-10T10:00:15.229Z"
   },
   {
    "duration": 4,
    "start_time": "2022-01-10T10:00:57.757Z"
   },
   {
    "duration": 350,
    "start_time": "2022-01-10T10:01:09.795Z"
   },
   {
    "duration": 9,
    "start_time": "2022-01-10T10:01:24.057Z"
   },
   {
    "duration": 6,
    "start_time": "2022-01-10T10:01:53.027Z"
   },
   {
    "duration": 255,
    "start_time": "2022-01-10T10:03:24.802Z"
   },
   {
    "duration": 4,
    "start_time": "2022-01-10T10:03:30.602Z"
   },
   {
    "duration": 6,
    "start_time": "2022-01-10T10:16:31.321Z"
   },
   {
    "duration": 7,
    "start_time": "2022-01-10T10:16:46.612Z"
   },
   {
    "duration": 6,
    "start_time": "2022-01-10T10:17:04.605Z"
   },
   {
    "duration": 6,
    "start_time": "2022-01-10T10:17:17.249Z"
   },
   {
    "duration": 5,
    "start_time": "2022-01-10T10:17:33.630Z"
   },
   {
    "duration": 7,
    "start_time": "2022-01-10T10:20:21.998Z"
   },
   {
    "duration": 5,
    "start_time": "2022-01-10T10:20:50.837Z"
   },
   {
    "duration": 6,
    "start_time": "2022-01-10T10:20:59.240Z"
   },
   {
    "duration": 26,
    "start_time": "2022-01-10T10:34:18.248Z"
   },
   {
    "duration": 9,
    "start_time": "2022-01-10T10:34:40.770Z"
   },
   {
    "duration": 9,
    "start_time": "2022-01-10T10:34:56.747Z"
   },
   {
    "duration": 242,
    "start_time": "2022-01-10T10:35:14.606Z"
   },
   {
    "duration": 10,
    "start_time": "2022-01-10T10:35:20.838Z"
   },
   {
    "duration": 8,
    "start_time": "2022-01-10T10:35:44.378Z"
   },
   {
    "duration": 8,
    "start_time": "2022-01-10T10:35:52.288Z"
   },
   {
    "duration": 6,
    "start_time": "2022-01-10T10:37:47.522Z"
   },
   {
    "duration": 51,
    "start_time": "2022-01-10T10:37:58.437Z"
   },
   {
    "duration": 3,
    "start_time": "2022-01-10T10:37:58.490Z"
   },
   {
    "duration": 14,
    "start_time": "2022-01-10T10:37:58.495Z"
   },
   {
    "duration": 13,
    "start_time": "2022-01-10T10:37:58.511Z"
   },
   {
    "duration": 5,
    "start_time": "2022-01-10T10:37:58.526Z"
   },
   {
    "duration": 31,
    "start_time": "2022-01-10T10:37:58.532Z"
   },
   {
    "duration": 6,
    "start_time": "2022-01-10T10:37:58.565Z"
   },
   {
    "duration": 6,
    "start_time": "2022-01-10T10:37:58.573Z"
   },
   {
    "duration": 20,
    "start_time": "2022-01-10T10:37:58.581Z"
   },
   {
    "duration": 5,
    "start_time": "2022-01-10T10:37:58.603Z"
   },
   {
    "duration": 51,
    "start_time": "2022-01-10T10:37:58.610Z"
   },
   {
    "duration": 5,
    "start_time": "2022-01-10T10:37:58.664Z"
   },
   {
    "duration": 5,
    "start_time": "2022-01-10T10:37:58.671Z"
   },
   {
    "duration": 7,
    "start_time": "2022-01-10T10:37:58.677Z"
   },
   {
    "duration": 5,
    "start_time": "2022-01-10T10:37:58.686Z"
   },
   {
    "duration": 3,
    "start_time": "2022-01-10T10:37:58.692Z"
   },
   {
    "duration": 5,
    "start_time": "2022-01-10T10:37:58.696Z"
   },
   {
    "duration": 4,
    "start_time": "2022-01-10T10:37:58.703Z"
   },
   {
    "duration": 8,
    "start_time": "2022-01-10T10:37:58.709Z"
   },
   {
    "duration": 52,
    "start_time": "2022-01-10T10:37:58.718Z"
   },
   {
    "duration": 5,
    "start_time": "2022-01-10T10:37:58.772Z"
   },
   {
    "duration": 5,
    "start_time": "2022-01-10T10:37:58.779Z"
   },
   {
    "duration": 6,
    "start_time": "2022-01-10T10:37:58.786Z"
   },
   {
    "duration": 4,
    "start_time": "2022-01-10T10:37:58.794Z"
   },
   {
    "duration": 7,
    "start_time": "2022-01-10T10:37:58.800Z"
   },
   {
    "duration": 6,
    "start_time": "2022-01-10T10:37:58.809Z"
   },
   {
    "duration": 46,
    "start_time": "2022-01-10T10:37:58.816Z"
   },
   {
    "duration": 4,
    "start_time": "2022-01-10T10:37:58.863Z"
   },
   {
    "duration": 7,
    "start_time": "2022-01-10T10:37:58.870Z"
   },
   {
    "duration": 5,
    "start_time": "2022-01-10T10:38:01.493Z"
   },
   {
    "duration": 245,
    "start_time": "2022-01-10T10:41:59.180Z"
   },
   {
    "duration": 6,
    "start_time": "2022-01-10T10:42:03.308Z"
   },
   {
    "duration": 6,
    "start_time": "2022-01-10T10:42:29.023Z"
   },
   {
    "duration": 5,
    "start_time": "2022-01-10T10:42:37.422Z"
   },
   {
    "duration": 7,
    "start_time": "2022-01-10T10:42:47.975Z"
   },
   {
    "duration": 6,
    "start_time": "2022-01-10T10:48:38.383Z"
   },
   {
    "duration": 5,
    "start_time": "2022-01-10T10:48:55.794Z"
   },
   {
    "duration": 4,
    "start_time": "2022-01-10T10:48:58.694Z"
   },
   {
    "duration": 7,
    "start_time": "2022-01-10T10:49:15.854Z"
   },
   {
    "duration": 238,
    "start_time": "2022-01-10T10:49:46.053Z"
   },
   {
    "duration": 269,
    "start_time": "2022-01-10T10:49:50.921Z"
   },
   {
    "duration": 937,
    "start_time": "2022-01-10T10:50:02.270Z"
   },
   {
    "duration": 272,
    "start_time": "2022-01-10T10:51:33.753Z"
   },
   {
    "duration": 435,
    "start_time": "2022-01-10T10:52:17.176Z"
   },
   {
    "duration": 25,
    "start_time": "2022-01-10T10:57:16.135Z"
   },
   {
    "duration": 344,
    "start_time": "2022-01-10T10:57:27.673Z"
   },
   {
    "duration": 31,
    "start_time": "2022-01-10T10:57:33.412Z"
   },
   {
    "duration": 702,
    "start_time": "2022-01-10T10:58:00.468Z"
   },
   {
    "duration": 28,
    "start_time": "2022-01-10T10:58:15.721Z"
   },
   {
    "duration": 6,
    "start_time": "2022-01-10T11:04:49.512Z"
   },
   {
    "duration": 51,
    "start_time": "2022-01-10T11:05:50.122Z"
   },
   {
    "duration": 4,
    "start_time": "2022-01-10T11:05:50.175Z"
   },
   {
    "duration": 15,
    "start_time": "2022-01-10T11:05:50.181Z"
   },
   {
    "duration": 12,
    "start_time": "2022-01-10T11:05:50.198Z"
   },
   {
    "duration": 5,
    "start_time": "2022-01-10T11:05:50.252Z"
   },
   {
    "duration": 7,
    "start_time": "2022-01-10T11:05:50.258Z"
   },
   {
    "duration": 6,
    "start_time": "2022-01-10T11:05:50.267Z"
   },
   {
    "duration": 7,
    "start_time": "2022-01-10T11:05:50.275Z"
   },
   {
    "duration": 24,
    "start_time": "2022-01-10T11:05:50.284Z"
   },
   {
    "duration": 5,
    "start_time": "2022-01-10T11:05:50.310Z"
   },
   {
    "duration": 9,
    "start_time": "2022-01-10T11:05:50.316Z"
   },
   {
    "duration": 7,
    "start_time": "2022-01-10T11:05:50.390Z"
   },
   {
    "duration": 4,
    "start_time": "2022-01-10T11:05:50.400Z"
   },
   {
    "duration": 7,
    "start_time": "2022-01-10T11:05:50.406Z"
   },
   {
    "duration": 6,
    "start_time": "2022-01-10T11:05:50.414Z"
   },
   {
    "duration": 3,
    "start_time": "2022-01-10T11:05:50.422Z"
   },
   {
    "duration": 10,
    "start_time": "2022-01-10T11:05:50.426Z"
   },
   {
    "duration": 11,
    "start_time": "2022-01-10T11:05:50.437Z"
   },
   {
    "duration": 7,
    "start_time": "2022-01-10T11:05:50.450Z"
   },
   {
    "duration": 14,
    "start_time": "2022-01-10T11:05:50.459Z"
   },
   {
    "duration": 6,
    "start_time": "2022-01-10T11:05:50.475Z"
   },
   {
    "duration": 14,
    "start_time": "2022-01-10T11:05:50.482Z"
   },
   {
    "duration": 7,
    "start_time": "2022-01-10T11:05:50.498Z"
   },
   {
    "duration": 6,
    "start_time": "2022-01-10T11:05:50.534Z"
   },
   {
    "duration": 9,
    "start_time": "2022-01-10T11:05:50.541Z"
   },
   {
    "duration": 9,
    "start_time": "2022-01-10T11:05:50.552Z"
   },
   {
    "duration": 5,
    "start_time": "2022-01-10T11:05:50.563Z"
   },
   {
    "duration": 10,
    "start_time": "2022-01-10T11:05:50.569Z"
   },
   {
    "duration": 4,
    "start_time": "2022-01-10T11:05:50.581Z"
   },
   {
    "duration": 6,
    "start_time": "2022-01-10T11:05:50.587Z"
   },
   {
    "duration": 6,
    "start_time": "2022-01-10T11:05:54.099Z"
   },
   {
    "duration": 7,
    "start_time": "2022-01-10T11:06:00.730Z"
   },
   {
    "duration": 7,
    "start_time": "2022-01-10T11:16:19.932Z"
   },
   {
    "duration": 6,
    "start_time": "2022-01-10T11:28:48.821Z"
   },
   {
    "duration": 5,
    "start_time": "2022-01-10T11:29:12.825Z"
   },
   {
    "duration": 23,
    "start_time": "2022-01-10T11:30:44.023Z"
   },
   {
    "duration": 6,
    "start_time": "2022-01-10T11:31:00.604Z"
   },
   {
    "duration": 7,
    "start_time": "2022-01-10T11:31:59.818Z"
   },
   {
    "duration": 6,
    "start_time": "2022-01-10T11:32:32.720Z"
   },
   {
    "duration": 6,
    "start_time": "2022-01-10T11:33:13.265Z"
   },
   {
    "duration": 82,
    "start_time": "2022-01-10T11:33:25.556Z"
   },
   {
    "duration": 7,
    "start_time": "2022-01-10T11:33:31.006Z"
   },
   {
    "duration": 248,
    "start_time": "2022-01-10T11:35:47.074Z"
   },
   {
    "duration": 276,
    "start_time": "2022-01-10T11:35:59.324Z"
   },
   {
    "duration": 248,
    "start_time": "2022-01-10T11:36:13.641Z"
   },
   {
    "duration": 5,
    "start_time": "2022-01-10T11:36:24.428Z"
   },
   {
    "duration": 5,
    "start_time": "2022-01-10T11:36:30.960Z"
   },
   {
    "duration": 6,
    "start_time": "2022-01-10T11:36:40.006Z"
   },
   {
    "duration": 4,
    "start_time": "2022-01-10T11:36:46.657Z"
   },
   {
    "duration": 5,
    "start_time": "2022-01-10T11:37:05.288Z"
   },
   {
    "duration": 6,
    "start_time": "2022-01-10T11:38:21.768Z"
   },
   {
    "duration": 3,
    "start_time": "2022-01-10T11:38:29.888Z"
   },
   {
    "duration": 297,
    "start_time": "2022-01-10T11:38:45.187Z"
   },
   {
    "duration": 249,
    "start_time": "2022-01-10T11:38:52.503Z"
   },
   {
    "duration": 293,
    "start_time": "2022-01-10T11:40:02.085Z"
   },
   {
    "duration": 3,
    "start_time": "2022-01-10T11:41:20.419Z"
   },
   {
    "duration": 5,
    "start_time": "2022-01-10T11:41:42.407Z"
   },
   {
    "duration": 340,
    "start_time": "2022-01-10T11:41:57.696Z"
   },
   {
    "duration": 4,
    "start_time": "2022-01-10T11:42:04.866Z"
   },
   {
    "duration": 240,
    "start_time": "2022-01-10T11:42:19.975Z"
   },
   {
    "duration": 6,
    "start_time": "2022-01-10T11:43:50.088Z"
   },
   {
    "duration": 5,
    "start_time": "2022-01-10T11:53:10.289Z"
   },
   {
    "duration": 6,
    "start_time": "2022-01-10T11:53:21.796Z"
   },
   {
    "duration": 6,
    "start_time": "2022-01-10T11:55:00.753Z"
   },
   {
    "duration": 7,
    "start_time": "2022-01-10T11:55:24.363Z"
   },
   {
    "duration": 92,
    "start_time": "2022-01-10T11:56:01.695Z"
   },
   {
    "duration": 8,
    "start_time": "2022-01-10T11:56:09.421Z"
   },
   {
    "duration": 241,
    "start_time": "2022-01-10T11:57:23.018Z"
   },
   {
    "duration": 6,
    "start_time": "2022-01-10T11:57:29.546Z"
   },
   {
    "duration": 251,
    "start_time": "2022-01-10T11:58:42.817Z"
   },
   {
    "duration": 8,
    "start_time": "2022-01-10T11:58:54.285Z"
   },
   {
    "duration": 53,
    "start_time": "2022-01-10T12:00:00.269Z"
   },
   {
    "duration": 4,
    "start_time": "2022-01-10T12:00:00.323Z"
   },
   {
    "duration": 23,
    "start_time": "2022-01-10T12:00:00.329Z"
   },
   {
    "duration": 15,
    "start_time": "2022-01-10T12:00:00.355Z"
   },
   {
    "duration": 9,
    "start_time": "2022-01-10T12:00:00.372Z"
   },
   {
    "duration": 22,
    "start_time": "2022-01-10T12:00:00.383Z"
   },
   {
    "duration": 20,
    "start_time": "2022-01-10T12:00:00.408Z"
   },
   {
    "duration": 8,
    "start_time": "2022-01-10T12:00:00.431Z"
   },
   {
    "duration": 30,
    "start_time": "2022-01-10T12:00:00.442Z"
   },
   {
    "duration": 5,
    "start_time": "2022-01-10T12:00:00.474Z"
   },
   {
    "duration": 13,
    "start_time": "2022-01-10T12:00:00.481Z"
   },
   {
    "duration": 10,
    "start_time": "2022-01-10T12:00:00.496Z"
   },
   {
    "duration": 17,
    "start_time": "2022-01-10T12:00:00.507Z"
   },
   {
    "duration": 11,
    "start_time": "2022-01-10T12:00:00.526Z"
   },
   {
    "duration": 13,
    "start_time": "2022-01-10T12:00:00.538Z"
   },
   {
    "duration": 4,
    "start_time": "2022-01-10T12:00:00.561Z"
   },
   {
    "duration": 9,
    "start_time": "2022-01-10T12:00:00.567Z"
   },
   {
    "duration": 31,
    "start_time": "2022-01-10T12:00:00.577Z"
   },
   {
    "duration": 26,
    "start_time": "2022-01-10T12:00:00.610Z"
   },
   {
    "duration": 50,
    "start_time": "2022-01-10T12:00:00.638Z"
   },
   {
    "duration": 6,
    "start_time": "2022-01-10T12:00:00.690Z"
   },
   {
    "duration": 9,
    "start_time": "2022-01-10T12:00:00.698Z"
   },
   {
    "duration": 12,
    "start_time": "2022-01-10T12:00:00.710Z"
   },
   {
    "duration": 14,
    "start_time": "2022-01-10T12:00:00.724Z"
   },
   {
    "duration": 15,
    "start_time": "2022-01-10T12:00:00.740Z"
   },
   {
    "duration": 15,
    "start_time": "2022-01-10T12:00:00.757Z"
   },
   {
    "duration": 7,
    "start_time": "2022-01-10T12:00:00.774Z"
   },
   {
    "duration": 12,
    "start_time": "2022-01-10T12:00:00.783Z"
   },
   {
    "duration": 6,
    "start_time": "2022-01-10T12:00:00.797Z"
   },
   {
    "duration": 11,
    "start_time": "2022-01-10T12:00:00.804Z"
   },
   {
    "duration": 16,
    "start_time": "2022-01-10T12:00:00.817Z"
   },
   {
    "duration": 7,
    "start_time": "2022-01-10T12:00:02.775Z"
   },
   {
    "duration": 5,
    "start_time": "2022-01-10T12:00:04.915Z"
   },
   {
    "duration": 6,
    "start_time": "2022-01-10T12:00:22.413Z"
   },
   {
    "duration": 7,
    "start_time": "2022-01-10T12:00:46.453Z"
   },
   {
    "duration": 253,
    "start_time": "2022-01-10T12:01:16.456Z"
   },
   {
    "duration": 7,
    "start_time": "2022-01-10T12:01:32.419Z"
   },
   {
    "duration": 242,
    "start_time": "2022-01-10T12:02:47.987Z"
   },
   {
    "duration": 264,
    "start_time": "2022-01-10T12:03:14.600Z"
   },
   {
    "duration": 260,
    "start_time": "2022-01-10T12:03:27.396Z"
   },
   {
    "duration": 6,
    "start_time": "2022-01-10T12:03:35.753Z"
   },
   {
    "duration": 6,
    "start_time": "2022-01-10T12:04:02.120Z"
   },
   {
    "duration": 20,
    "start_time": "2022-01-10T12:04:39.979Z"
   },
   {
    "duration": 305,
    "start_time": "2022-01-10T12:05:04.432Z"
   },
   {
    "duration": 258,
    "start_time": "2022-01-10T12:05:19.211Z"
   },
   {
    "duration": 8,
    "start_time": "2022-01-10T12:05:27.500Z"
   },
   {
    "duration": 6,
    "start_time": "2022-01-10T12:05:56.558Z"
   },
   {
    "duration": 6,
    "start_time": "2022-01-10T12:06:05.094Z"
   },
   {
    "duration": 8,
    "start_time": "2022-01-10T12:08:37.047Z"
   },
   {
    "duration": 250,
    "start_time": "2022-01-10T12:12:14.658Z"
   },
   {
    "duration": 7,
    "start_time": "2022-01-10T12:12:26.669Z"
   },
   {
    "duration": 253,
    "start_time": "2022-01-10T12:16:04.767Z"
   },
   {
    "duration": 10,
    "start_time": "2022-01-10T12:16:39.280Z"
   },
   {
    "duration": 734,
    "start_time": "2022-01-10T12:18:18.387Z"
   },
   {
    "duration": 9,
    "start_time": "2022-01-10T12:18:19.123Z"
   },
   {
    "duration": 48,
    "start_time": "2022-01-10T12:18:19.134Z"
   },
   {
    "duration": 31,
    "start_time": "2022-01-10T12:18:19.185Z"
   },
   {
    "duration": 37,
    "start_time": "2022-01-10T12:18:19.218Z"
   },
   {
    "duration": 10,
    "start_time": "2022-01-10T12:18:19.257Z"
   },
   {
    "duration": 22,
    "start_time": "2022-01-10T12:18:19.269Z"
   },
   {
    "duration": 55,
    "start_time": "2022-01-10T12:18:19.295Z"
   },
   {
    "duration": 37,
    "start_time": "2022-01-10T12:18:19.353Z"
   },
   {
    "duration": 31,
    "start_time": "2022-01-10T12:18:19.392Z"
   },
   {
    "duration": 16,
    "start_time": "2022-01-10T12:18:19.425Z"
   },
   {
    "duration": 20,
    "start_time": "2022-01-10T12:18:19.443Z"
   },
   {
    "duration": 29,
    "start_time": "2022-01-10T12:18:19.465Z"
   },
   {
    "duration": 18,
    "start_time": "2022-01-10T12:18:19.496Z"
   },
   {
    "duration": 37,
    "start_time": "2022-01-10T12:18:19.516Z"
   },
   {
    "duration": 20,
    "start_time": "2022-01-10T12:18:19.554Z"
   },
   {
    "duration": 28,
    "start_time": "2022-01-10T12:18:19.576Z"
   },
   {
    "duration": 23,
    "start_time": "2022-01-10T12:18:19.607Z"
   },
   {
    "duration": 16,
    "start_time": "2022-01-10T12:18:19.632Z"
   },
   {
    "duration": 27,
    "start_time": "2022-01-10T12:18:19.649Z"
   },
   {
    "duration": 53,
    "start_time": "2022-01-10T12:18:19.678Z"
   },
   {
    "duration": 18,
    "start_time": "2022-01-10T12:18:19.733Z"
   },
   {
    "duration": 17,
    "start_time": "2022-01-10T12:18:19.755Z"
   },
   {
    "duration": 14,
    "start_time": "2022-01-10T12:18:19.775Z"
   },
   {
    "duration": 22,
    "start_time": "2022-01-10T12:18:19.790Z"
   },
   {
    "duration": 24,
    "start_time": "2022-01-10T12:18:19.815Z"
   },
   {
    "duration": 19,
    "start_time": "2022-01-10T12:18:19.841Z"
   },
   {
    "duration": 10,
    "start_time": "2022-01-10T12:18:19.862Z"
   },
   {
    "duration": 17,
    "start_time": "2022-01-10T12:18:19.874Z"
   },
   {
    "duration": 22,
    "start_time": "2022-01-10T12:18:19.893Z"
   },
   {
    "duration": 29,
    "start_time": "2022-01-10T12:18:19.917Z"
   },
   {
    "duration": 16,
    "start_time": "2022-01-10T12:18:19.948Z"
   },
   {
    "duration": 43,
    "start_time": "2022-01-10T12:18:19.966Z"
   },
   {
    "duration": 13,
    "start_time": "2022-01-10T12:18:20.011Z"
   },
   {
    "duration": 30,
    "start_time": "2022-01-10T12:18:20.026Z"
   },
   {
    "duration": 20,
    "start_time": "2022-01-10T12:18:20.058Z"
   },
   {
    "duration": 26,
    "start_time": "2022-01-10T12:18:20.080Z"
   },
   {
    "duration": 23,
    "start_time": "2022-01-10T12:18:20.108Z"
   },
   {
    "duration": 40,
    "start_time": "2022-01-10T12:18:20.133Z"
   },
   {
    "duration": 14,
    "start_time": "2022-01-10T12:18:20.175Z"
   },
   {
    "duration": 23,
    "start_time": "2022-01-10T12:18:20.191Z"
   },
   {
    "duration": 24,
    "start_time": "2022-01-10T12:18:20.216Z"
   },
   {
    "duration": 19,
    "start_time": "2022-01-10T12:18:20.242Z"
   },
   {
    "duration": 17,
    "start_time": "2022-01-10T12:18:20.263Z"
   },
   {
    "duration": 19,
    "start_time": "2022-01-10T12:18:20.282Z"
   },
   {
    "duration": 26,
    "start_time": "2022-01-10T12:18:20.303Z"
   },
   {
    "duration": 31,
    "start_time": "2022-01-10T12:18:20.331Z"
   },
   {
    "duration": 25,
    "start_time": "2022-01-10T12:18:20.364Z"
   },
   {
    "duration": 17,
    "start_time": "2022-01-10T12:18:20.390Z"
   },
   {
    "duration": 38,
    "start_time": "2022-01-10T12:18:20.409Z"
   },
   {
    "duration": 21,
    "start_time": "2022-01-10T12:18:20.449Z"
   },
   {
    "duration": 13,
    "start_time": "2022-01-10T12:18:20.472Z"
   },
   {
    "duration": 19,
    "start_time": "2022-01-10T12:18:20.487Z"
   },
   {
    "duration": 24,
    "start_time": "2022-01-10T12:18:20.508Z"
   },
   {
    "duration": 51,
    "start_time": "2022-01-10T12:18:20.533Z"
   },
   {
    "duration": 21,
    "start_time": "2022-01-10T12:18:20.585Z"
   },
   {
    "duration": 14,
    "start_time": "2022-01-10T12:18:20.608Z"
   },
   {
    "duration": 25,
    "start_time": "2022-01-10T12:18:20.623Z"
   },
   {
    "duration": 22,
    "start_time": "2022-01-10T12:18:20.650Z"
   },
   {
    "duration": 19,
    "start_time": "2022-01-10T12:18:20.674Z"
   },
   {
    "duration": 24,
    "start_time": "2022-01-10T12:18:20.695Z"
   },
   {
    "duration": 12,
    "start_time": "2022-01-10T12:18:20.721Z"
   },
   {
    "duration": 25,
    "start_time": "2022-01-10T12:18:20.735Z"
   },
   {
    "duration": 26,
    "start_time": "2022-01-10T12:18:20.762Z"
   },
   {
    "duration": 9,
    "start_time": "2022-01-10T12:18:20.790Z"
   },
   {
    "duration": 11,
    "start_time": "2022-01-10T12:18:20.801Z"
   },
   {
    "duration": 12,
    "start_time": "2022-01-10T12:18:20.813Z"
   },
   {
    "duration": 7,
    "start_time": "2022-01-10T12:18:20.831Z"
   },
   {
    "duration": 24,
    "start_time": "2022-01-10T12:18:20.840Z"
   },
   {
    "duration": 17,
    "start_time": "2022-01-10T12:18:20.866Z"
   },
   {
    "duration": 27,
    "start_time": "2022-01-10T12:18:20.884Z"
   },
   {
    "duration": 22,
    "start_time": "2022-01-10T12:18:20.913Z"
   },
   {
    "duration": 44,
    "start_time": "2022-01-10T12:18:20.936Z"
   },
   {
    "duration": 18,
    "start_time": "2022-01-10T12:18:20.982Z"
   },
   {
    "duration": 42,
    "start_time": "2022-01-10T12:18:21.002Z"
   },
   {
    "duration": 16,
    "start_time": "2022-01-10T12:18:21.046Z"
   },
   {
    "duration": 26,
    "start_time": "2022-01-10T12:18:21.064Z"
   },
   {
    "duration": 37,
    "start_time": "2022-01-10T12:18:21.092Z"
   },
   {
    "duration": 30,
    "start_time": "2022-01-10T12:18:21.131Z"
   },
   {
    "duration": 22,
    "start_time": "2022-01-10T12:18:21.163Z"
   },
   {
    "duration": 31,
    "start_time": "2022-01-10T12:18:21.187Z"
   },
   {
    "duration": 34,
    "start_time": "2022-01-10T12:18:21.220Z"
   },
   {
    "duration": 20,
    "start_time": "2022-01-10T12:18:21.256Z"
   },
   {
    "duration": 29,
    "start_time": "2022-01-10T12:18:21.278Z"
   },
   {
    "duration": 27,
    "start_time": "2022-01-10T12:18:21.309Z"
   },
   {
    "duration": 30,
    "start_time": "2022-01-10T12:18:21.338Z"
   },
   {
    "duration": 12,
    "start_time": "2022-01-10T12:18:21.370Z"
   },
   {
    "duration": 36,
    "start_time": "2022-01-10T12:18:21.384Z"
   },
   {
    "duration": 25,
    "start_time": "2022-01-10T12:18:21.421Z"
   },
   {
    "duration": 357,
    "start_time": "2022-01-10T12:32:55.999Z"
   },
   {
    "duration": 8,
    "start_time": "2022-01-10T12:33:05.039Z"
   },
   {
    "duration": 7,
    "start_time": "2022-01-10T12:33:28.450Z"
   },
   {
    "duration": 7,
    "start_time": "2022-01-10T12:33:34.940Z"
   },
   {
    "duration": 8,
    "start_time": "2022-01-10T12:35:10.432Z"
   },
   {
    "duration": 11,
    "start_time": "2022-01-10T12:39:12.503Z"
   },
   {
    "duration": 7,
    "start_time": "2022-01-10T12:39:52.187Z"
   },
   {
    "duration": 6,
    "start_time": "2022-01-10T12:41:42.346Z"
   },
   {
    "duration": 7,
    "start_time": "2022-01-10T12:43:44.609Z"
   },
   {
    "duration": 5,
    "start_time": "2022-01-10T12:44:02.826Z"
   },
   {
    "duration": 21,
    "start_time": "2022-01-10T12:48:09.302Z"
   },
   {
    "duration": 15,
    "start_time": "2022-01-10T12:49:10.932Z"
   },
   {
    "duration": 18,
    "start_time": "2022-01-10T12:49:24.848Z"
   },
   {
    "duration": 16,
    "start_time": "2022-01-10T12:49:35.160Z"
   },
   {
    "duration": 15,
    "start_time": "2022-01-10T12:50:33.014Z"
   },
   {
    "duration": 34,
    "start_time": "2022-01-10T12:51:14.823Z"
   },
   {
    "duration": 21,
    "start_time": "2022-01-10T12:56:41.652Z"
   },
   {
    "duration": 12,
    "start_time": "2022-01-10T12:58:49.832Z"
   },
   {
    "duration": 52,
    "start_time": "2022-01-10T12:59:17.621Z"
   },
   {
    "duration": 3,
    "start_time": "2022-01-10T12:59:17.675Z"
   },
   {
    "duration": 17,
    "start_time": "2022-01-10T12:59:17.680Z"
   },
   {
    "duration": 14,
    "start_time": "2022-01-10T12:59:17.699Z"
   },
   {
    "duration": 5,
    "start_time": "2022-01-10T12:59:17.714Z"
   },
   {
    "duration": 5,
    "start_time": "2022-01-10T12:59:17.720Z"
   },
   {
    "duration": 37,
    "start_time": "2022-01-10T12:59:17.727Z"
   },
   {
    "duration": 5,
    "start_time": "2022-01-10T12:59:17.767Z"
   },
   {
    "duration": 23,
    "start_time": "2022-01-10T12:59:17.774Z"
   },
   {
    "duration": 4,
    "start_time": "2022-01-10T12:59:17.799Z"
   },
   {
    "duration": 7,
    "start_time": "2022-01-10T12:59:17.805Z"
   },
   {
    "duration": 5,
    "start_time": "2022-01-10T12:59:17.814Z"
   },
   {
    "duration": 5,
    "start_time": "2022-01-10T12:59:17.861Z"
   },
   {
    "duration": 7,
    "start_time": "2022-01-10T12:59:17.868Z"
   },
   {
    "duration": 6,
    "start_time": "2022-01-10T12:59:17.877Z"
   },
   {
    "duration": 4,
    "start_time": "2022-01-10T12:59:17.885Z"
   },
   {
    "duration": 6,
    "start_time": "2022-01-10T12:59:17.890Z"
   },
   {
    "duration": 5,
    "start_time": "2022-01-10T12:59:17.897Z"
   },
   {
    "duration": 8,
    "start_time": "2022-01-10T12:59:17.904Z"
   },
   {
    "duration": 13,
    "start_time": "2022-01-10T12:59:17.913Z"
   },
   {
    "duration": 5,
    "start_time": "2022-01-10T12:59:17.961Z"
   },
   {
    "duration": 6,
    "start_time": "2022-01-10T12:59:17.969Z"
   },
   {
    "duration": 4,
    "start_time": "2022-01-10T12:59:17.977Z"
   },
   {
    "duration": 6,
    "start_time": "2022-01-10T12:59:17.983Z"
   },
   {
    "duration": 8,
    "start_time": "2022-01-10T12:59:17.990Z"
   },
   {
    "duration": 6,
    "start_time": "2022-01-10T12:59:18.000Z"
   },
   {
    "duration": 6,
    "start_time": "2022-01-10T12:59:18.007Z"
   },
   {
    "duration": 47,
    "start_time": "2022-01-10T12:59:18.014Z"
   },
   {
    "duration": 5,
    "start_time": "2022-01-10T12:59:18.063Z"
   },
   {
    "duration": 7,
    "start_time": "2022-01-10T12:59:18.069Z"
   },
   {
    "duration": 7,
    "start_time": "2022-01-10T12:59:18.078Z"
   },
   {
    "duration": 7,
    "start_time": "2022-01-10T12:59:18.087Z"
   },
   {
    "duration": 9,
    "start_time": "2022-01-10T12:59:18.095Z"
   },
   {
    "duration": 20,
    "start_time": "2022-01-10T12:59:18.106Z"
   },
   {
    "duration": 12,
    "start_time": "2022-01-10T12:59:18.127Z"
   },
   {
    "duration": 19,
    "start_time": "2022-01-10T12:59:18.141Z"
   },
   {
    "duration": 9,
    "start_time": "2022-01-10T12:59:18.162Z"
   },
   {
    "duration": 2,
    "start_time": "2022-01-10T12:59:18.172Z"
   },
   {
    "duration": 10,
    "start_time": "2022-01-10T12:59:18.176Z"
   },
   {
    "duration": 101,
    "start_time": "2022-01-10T12:59:18.187Z"
   },
   {
    "duration": 12974,
    "start_time": "2022-01-10T12:59:05.316Z"
   },
   {
    "duration": 12969,
    "start_time": "2022-01-10T12:59:05.322Z"
   },
   {
    "duration": 12966,
    "start_time": "2022-01-10T12:59:05.326Z"
   },
   {
    "duration": 12,
    "start_time": "2022-01-10T12:59:24.202Z"
   },
   {
    "duration": 15,
    "start_time": "2022-01-10T12:59:36.865Z"
   },
   {
    "duration": 11,
    "start_time": "2022-01-10T12:59:37.170Z"
   },
   {
    "duration": 11,
    "start_time": "2022-01-10T12:59:38.256Z"
   },
   {
    "duration": 9,
    "start_time": "2022-01-10T12:59:39.281Z"
   },
   {
    "duration": 2,
    "start_time": "2022-01-10T12:59:41.805Z"
   },
   {
    "duration": 85,
    "start_time": "2022-01-10T12:59:41.990Z"
   },
   {
    "duration": 2,
    "start_time": "2022-01-10T12:59:57.517Z"
   },
   {
    "duration": 18,
    "start_time": "2022-01-10T13:00:07.637Z"
   },
   {
    "duration": 16,
    "start_time": "2022-01-10T13:00:14.531Z"
   },
   {
    "duration": 2,
    "start_time": "2022-01-10T13:00:16.008Z"
   },
   {
    "duration": 24,
    "start_time": "2022-01-10T13:00:19.923Z"
   },
   {
    "duration": 340,
    "start_time": "2022-01-10T13:01:04.582Z"
   },
   {
    "duration": 14,
    "start_time": "2022-01-10T13:01:13.079Z"
   },
   {
    "duration": 4,
    "start_time": "2022-01-10T13:01:41.707Z"
   },
   {
    "duration": 4,
    "start_time": "2022-01-10T13:02:21.565Z"
   },
   {
    "duration": 57,
    "start_time": "2022-01-10T13:03:00.341Z"
   },
   {
    "duration": 5,
    "start_time": "2022-01-10T13:03:00.401Z"
   },
   {
    "duration": 22,
    "start_time": "2022-01-10T13:03:00.408Z"
   },
   {
    "duration": 32,
    "start_time": "2022-01-10T13:03:00.432Z"
   },
   {
    "duration": 5,
    "start_time": "2022-01-10T13:03:00.465Z"
   },
   {
    "duration": 22,
    "start_time": "2022-01-10T13:03:00.471Z"
   },
   {
    "duration": 14,
    "start_time": "2022-01-10T13:03:00.495Z"
   },
   {
    "duration": 8,
    "start_time": "2022-01-10T13:03:00.512Z"
   },
   {
    "duration": 40,
    "start_time": "2022-01-10T13:03:00.522Z"
   },
   {
    "duration": 5,
    "start_time": "2022-01-10T13:03:00.564Z"
   },
   {
    "duration": 41,
    "start_time": "2022-01-10T13:03:00.571Z"
   },
   {
    "duration": 10,
    "start_time": "2022-01-10T13:03:00.613Z"
   },
   {
    "duration": 8,
    "start_time": "2022-01-10T13:03:00.624Z"
   },
   {
    "duration": 8,
    "start_time": "2022-01-10T13:03:00.633Z"
   },
   {
    "duration": 8,
    "start_time": "2022-01-10T13:03:00.642Z"
   },
   {
    "duration": 10,
    "start_time": "2022-01-10T13:03:00.651Z"
   },
   {
    "duration": 6,
    "start_time": "2022-01-10T13:03:00.663Z"
   },
   {
    "duration": 6,
    "start_time": "2022-01-10T13:03:00.671Z"
   },
   {
    "duration": 8,
    "start_time": "2022-01-10T13:03:00.678Z"
   },
   {
    "duration": 14,
    "start_time": "2022-01-10T13:03:00.688Z"
   },
   {
    "duration": 6,
    "start_time": "2022-01-10T13:03:00.703Z"
   },
   {
    "duration": 7,
    "start_time": "2022-01-10T13:03:00.710Z"
   },
   {
    "duration": 7,
    "start_time": "2022-01-10T13:03:00.720Z"
   },
   {
    "duration": 21,
    "start_time": "2022-01-10T13:03:00.762Z"
   },
   {
    "duration": 16,
    "start_time": "2022-01-10T13:03:00.785Z"
   },
   {
    "duration": 11,
    "start_time": "2022-01-10T13:03:00.803Z"
   },
   {
    "duration": 10,
    "start_time": "2022-01-10T13:03:00.815Z"
   },
   {
    "duration": 10,
    "start_time": "2022-01-10T13:03:00.826Z"
   },
   {
    "duration": 21,
    "start_time": "2022-01-10T13:03:00.838Z"
   },
   {
    "duration": 8,
    "start_time": "2022-01-10T13:03:00.861Z"
   },
   {
    "duration": 6,
    "start_time": "2022-01-10T13:03:00.871Z"
   },
   {
    "duration": 19,
    "start_time": "2022-01-10T13:03:00.879Z"
   },
   {
    "duration": 25,
    "start_time": "2022-01-10T13:03:00.900Z"
   },
   {
    "duration": 14,
    "start_time": "2022-01-10T13:03:00.927Z"
   },
   {
    "duration": 14,
    "start_time": "2022-01-10T13:03:00.943Z"
   },
   {
    "duration": 8,
    "start_time": "2022-01-10T13:03:00.959Z"
   },
   {
    "duration": 14,
    "start_time": "2022-01-10T13:03:00.969Z"
   },
   {
    "duration": 8,
    "start_time": "2022-01-10T13:03:00.985Z"
   },
   {
    "duration": 13,
    "start_time": "2022-01-10T13:03:00.995Z"
   },
   {
    "duration": 103,
    "start_time": "2022-01-10T13:03:01.010Z"
   },
   {
    "duration": 13122,
    "start_time": "2022-01-10T13:02:47.993Z"
   },
   {
    "duration": 13119,
    "start_time": "2022-01-10T13:02:47.997Z"
   },
   {
    "duration": 13114,
    "start_time": "2022-01-10T13:02:48.003Z"
   },
   {
    "duration": 13110,
    "start_time": "2022-01-10T13:02:48.008Z"
   },
   {
    "duration": 13106,
    "start_time": "2022-01-10T13:02:48.013Z"
   },
   {
    "duration": 13103,
    "start_time": "2022-01-10T13:02:48.017Z"
   },
   {
    "duration": 13100,
    "start_time": "2022-01-10T13:02:48.021Z"
   },
   {
    "duration": 2,
    "start_time": "2022-01-10T13:03:32.280Z"
   },
   {
    "duration": 3,
    "start_time": "2022-01-10T13:03:45.338Z"
   },
   {
    "duration": 2,
    "start_time": "2022-01-10T13:14:34.963Z"
   },
   {
    "duration": 32,
    "start_time": "2022-01-10T13:16:48.898Z"
   },
   {
    "duration": 20,
    "start_time": "2022-01-10T13:17:18.849Z"
   },
   {
    "duration": 30,
    "start_time": "2022-01-10T13:17:37.699Z"
   },
   {
    "duration": 600,
    "start_time": "2022-01-10T13:19:46.785Z"
   },
   {
    "duration": 30,
    "start_time": "2022-01-10T13:19:53.845Z"
   },
   {
    "duration": 2069,
    "start_time": "2022-01-10T13:23:53.572Z"
   },
   {
    "duration": 31,
    "start_time": "2022-01-10T13:24:05.049Z"
   },
   {
    "duration": 31,
    "start_time": "2022-01-10T13:24:51.744Z"
   },
   {
    "duration": 30,
    "start_time": "2022-01-10T13:25:33.253Z"
   },
   {
    "duration": 2,
    "start_time": "2022-01-10T13:34:26.504Z"
   },
   {
    "duration": 51,
    "start_time": "2022-01-10T13:39:43.394Z"
   },
   {
    "duration": 4,
    "start_time": "2022-01-10T13:39:43.446Z"
   },
   {
    "duration": 15,
    "start_time": "2022-01-10T13:39:43.452Z"
   },
   {
    "duration": 12,
    "start_time": "2022-01-10T13:39:43.470Z"
   },
   {
    "duration": 4,
    "start_time": "2022-01-10T13:39:43.484Z"
   },
   {
    "duration": 4,
    "start_time": "2022-01-10T13:39:43.490Z"
   },
   {
    "duration": 6,
    "start_time": "2022-01-10T13:39:43.496Z"
   },
   {
    "duration": 5,
    "start_time": "2022-01-10T13:39:43.505Z"
   },
   {
    "duration": 52,
    "start_time": "2022-01-10T13:39:43.511Z"
   },
   {
    "duration": 5,
    "start_time": "2022-01-10T13:39:43.565Z"
   },
   {
    "duration": 9,
    "start_time": "2022-01-10T13:39:43.571Z"
   },
   {
    "duration": 9,
    "start_time": "2022-01-10T13:39:43.582Z"
   },
   {
    "duration": 6,
    "start_time": "2022-01-10T13:39:43.602Z"
   },
   {
    "duration": 8,
    "start_time": "2022-01-10T13:39:43.610Z"
   },
   {
    "duration": 42,
    "start_time": "2022-01-10T13:39:43.620Z"
   },
   {
    "duration": 2,
    "start_time": "2022-01-10T13:39:43.665Z"
   },
   {
    "duration": 6,
    "start_time": "2022-01-10T13:39:43.670Z"
   },
   {
    "duration": 7,
    "start_time": "2022-01-10T13:39:43.678Z"
   },
   {
    "duration": 10,
    "start_time": "2022-01-10T13:39:43.689Z"
   },
   {
    "duration": 14,
    "start_time": "2022-01-10T13:39:43.702Z"
   },
   {
    "duration": 24,
    "start_time": "2022-01-10T13:39:43.717Z"
   },
   {
    "duration": 6,
    "start_time": "2022-01-10T13:39:43.761Z"
   },
   {
    "duration": 24,
    "start_time": "2022-01-10T13:39:43.769Z"
   },
   {
    "duration": 24,
    "start_time": "2022-01-10T13:39:43.795Z"
   },
   {
    "duration": 20,
    "start_time": "2022-01-10T13:39:43.821Z"
   },
   {
    "duration": 21,
    "start_time": "2022-01-10T13:39:43.843Z"
   },
   {
    "duration": 24,
    "start_time": "2022-01-10T13:39:43.866Z"
   },
   {
    "duration": 30,
    "start_time": "2022-01-10T13:39:43.892Z"
   },
   {
    "duration": 20,
    "start_time": "2022-01-10T13:39:43.923Z"
   },
   {
    "duration": 15,
    "start_time": "2022-01-10T13:39:43.945Z"
   },
   {
    "duration": 36,
    "start_time": "2022-01-10T13:39:43.961Z"
   },
   {
    "duration": 29,
    "start_time": "2022-01-10T13:39:43.999Z"
   },
   {
    "duration": 36,
    "start_time": "2022-01-10T13:39:44.029Z"
   },
   {
    "duration": 18,
    "start_time": "2022-01-10T13:39:44.067Z"
   },
   {
    "duration": 21,
    "start_time": "2022-01-10T13:39:44.087Z"
   },
   {
    "duration": 31,
    "start_time": "2022-01-10T13:39:44.110Z"
   },
   {
    "duration": 12,
    "start_time": "2022-01-10T13:39:44.142Z"
   },
   {
    "duration": 32,
    "start_time": "2022-01-10T13:39:44.156Z"
   },
   {
    "duration": 16,
    "start_time": "2022-01-10T13:39:44.190Z"
   },
   {
    "duration": 8,
    "start_time": "2022-01-10T13:39:44.210Z"
   },
   {
    "duration": 21,
    "start_time": "2022-01-10T13:39:44.220Z"
   },
   {
    "duration": 10,
    "start_time": "2022-01-10T13:39:44.243Z"
   },
   {
    "duration": 28,
    "start_time": "2022-01-10T13:39:44.255Z"
   },
   {
    "duration": 9,
    "start_time": "2022-01-10T13:39:44.284Z"
   },
   {
    "duration": 7,
    "start_time": "2022-01-10T13:39:44.295Z"
   },
   {
    "duration": 19,
    "start_time": "2022-01-10T13:39:44.304Z"
   },
   {
    "duration": 28,
    "start_time": "2022-01-10T13:39:44.325Z"
   },
   {
    "duration": 15,
    "start_time": "2022-01-10T13:39:44.355Z"
   },
   {
    "duration": 44,
    "start_time": "2022-01-10T13:39:44.372Z"
   },
   {
    "duration": 2,
    "start_time": "2022-01-10T13:39:44.418Z"
   },
   {
    "duration": 12,
    "start_time": "2022-01-10T13:39:44.422Z"
   },
   {
    "duration": 11,
    "start_time": "2022-01-10T13:39:44.436Z"
   },
   {
    "duration": 13,
    "start_time": "2022-01-10T13:39:44.449Z"
   },
   {
    "duration": 11,
    "start_time": "2022-01-10T13:45:25.026Z"
   },
   {
    "duration": 6,
    "start_time": "2022-01-10T13:50:57.857Z"
   },
   {
    "duration": 12,
    "start_time": "2022-01-10T13:51:42.707Z"
   },
   {
    "duration": 7,
    "start_time": "2022-01-10T13:55:03.796Z"
   },
   {
    "duration": 5,
    "start_time": "2022-01-10T13:55:11.316Z"
   },
   {
    "duration": 10,
    "start_time": "2022-01-10T13:55:12.602Z"
   },
   {
    "duration": 51,
    "start_time": "2022-01-10T13:55:57.194Z"
   },
   {
    "duration": 4,
    "start_time": "2022-01-10T13:55:57.247Z"
   },
   {
    "duration": 13,
    "start_time": "2022-01-10T13:55:57.253Z"
   },
   {
    "duration": 11,
    "start_time": "2022-01-10T13:55:57.269Z"
   },
   {
    "duration": 4,
    "start_time": "2022-01-10T13:55:57.282Z"
   },
   {
    "duration": 5,
    "start_time": "2022-01-10T13:55:57.288Z"
   },
   {
    "duration": 5,
    "start_time": "2022-01-10T13:55:57.296Z"
   },
   {
    "duration": 5,
    "start_time": "2022-01-10T13:55:57.303Z"
   },
   {
    "duration": 61,
    "start_time": "2022-01-10T13:55:57.310Z"
   },
   {
    "duration": 5,
    "start_time": "2022-01-10T13:55:57.372Z"
   },
   {
    "duration": 8,
    "start_time": "2022-01-10T13:55:57.379Z"
   },
   {
    "duration": 6,
    "start_time": "2022-01-10T13:55:57.389Z"
   },
   {
    "duration": 7,
    "start_time": "2022-01-10T13:55:57.396Z"
   },
   {
    "duration": 8,
    "start_time": "2022-01-10T13:55:57.405Z"
   },
   {
    "duration": 47,
    "start_time": "2022-01-10T13:55:57.415Z"
   },
   {
    "duration": 3,
    "start_time": "2022-01-10T13:55:57.465Z"
   },
   {
    "duration": 10,
    "start_time": "2022-01-10T13:55:57.470Z"
   },
   {
    "duration": 5,
    "start_time": "2022-01-10T13:55:57.482Z"
   },
   {
    "duration": 9,
    "start_time": "2022-01-10T13:55:57.490Z"
   },
   {
    "duration": 15,
    "start_time": "2022-01-10T13:55:57.502Z"
   },
   {
    "duration": 42,
    "start_time": "2022-01-10T13:55:57.519Z"
   },
   {
    "duration": 6,
    "start_time": "2022-01-10T13:55:57.563Z"
   },
   {
    "duration": 7,
    "start_time": "2022-01-10T13:55:57.571Z"
   },
   {
    "duration": 6,
    "start_time": "2022-01-10T13:55:57.580Z"
   },
   {
    "duration": 9,
    "start_time": "2022-01-10T13:55:57.588Z"
   },
   {
    "duration": 8,
    "start_time": "2022-01-10T13:55:57.599Z"
   },
   {
    "duration": 6,
    "start_time": "2022-01-10T13:55:57.609Z"
   },
   {
    "duration": 47,
    "start_time": "2022-01-10T13:55:57.617Z"
   },
   {
    "duration": 5,
    "start_time": "2022-01-10T13:55:57.665Z"
   },
   {
    "duration": 6,
    "start_time": "2022-01-10T13:55:57.671Z"
   },
   {
    "duration": 3,
    "start_time": "2022-01-10T13:55:57.679Z"
   },
   {
    "duration": 8,
    "start_time": "2022-01-10T13:55:57.683Z"
   },
   {
    "duration": 6,
    "start_time": "2022-01-10T13:55:57.693Z"
   },
   {
    "duration": 6,
    "start_time": "2022-01-10T13:55:57.701Z"
   },
   {
    "duration": 5,
    "start_time": "2022-01-10T13:55:57.708Z"
   },
   {
    "duration": 48,
    "start_time": "2022-01-10T13:55:57.715Z"
   },
   {
    "duration": 3,
    "start_time": "2022-01-10T13:55:57.764Z"
   },
   {
    "duration": 12,
    "start_time": "2022-01-10T13:55:57.768Z"
   },
   {
    "duration": 5,
    "start_time": "2022-01-10T13:55:57.781Z"
   },
   {
    "duration": 3,
    "start_time": "2022-01-10T13:55:57.789Z"
   },
   {
    "duration": 10,
    "start_time": "2022-01-10T13:55:57.794Z"
   },
   {
    "duration": 5,
    "start_time": "2022-01-10T13:55:57.805Z"
   },
   {
    "duration": 13,
    "start_time": "2022-01-10T13:55:57.811Z"
   },
   {
    "duration": 7,
    "start_time": "2022-01-10T13:55:57.825Z"
   },
   {
    "duration": 2,
    "start_time": "2022-01-10T13:55:57.861Z"
   },
   {
    "duration": 7,
    "start_time": "2022-01-10T13:55:57.864Z"
   },
   {
    "duration": 20,
    "start_time": "2022-01-10T13:55:57.872Z"
   },
   {
    "duration": 15,
    "start_time": "2022-01-10T13:55:57.894Z"
   },
   {
    "duration": 54,
    "start_time": "2022-01-10T13:55:57.911Z"
   },
   {
    "duration": 11,
    "start_time": "2022-01-10T13:55:57.967Z"
   },
   {
    "duration": 5,
    "start_time": "2022-01-10T13:55:57.979Z"
   },
   {
    "duration": 8,
    "start_time": "2022-01-10T13:55:57.986Z"
   },
   {
    "duration": 5,
    "start_time": "2022-01-10T13:55:57.996Z"
   },
   {
    "duration": 7,
    "start_time": "2022-01-10T13:55:58.003Z"
   },
   {
    "duration": 718,
    "start_time": "2022-01-10T16:25:51.575Z"
   },
   {
    "duration": 49,
    "start_time": "2022-01-10T16:27:31.115Z"
   },
   {
    "duration": 34,
    "start_time": "2022-01-10T16:29:04.422Z"
   },
   {
    "duration": 54,
    "start_time": "2022-01-10T16:29:58.758Z"
   },
   {
    "duration": 385,
    "start_time": "2022-01-10T17:07:30.952Z"
   },
   {
    "duration": 47,
    "start_time": "2022-01-10T17:08:21.441Z"
   },
   {
    "duration": 54,
    "start_time": "2022-01-10T17:08:21.490Z"
   },
   {
    "duration": 3,
    "start_time": "2022-01-10T17:08:21.546Z"
   },
   {
    "duration": 11,
    "start_time": "2022-01-10T17:08:21.551Z"
   },
   {
    "duration": 10,
    "start_time": "2022-01-10T17:08:21.564Z"
   },
   {
    "duration": 4,
    "start_time": "2022-01-10T17:08:21.576Z"
   },
   {
    "duration": 5,
    "start_time": "2022-01-10T17:08:21.581Z"
   },
   {
    "duration": 4,
    "start_time": "2022-01-10T17:08:21.588Z"
   },
   {
    "duration": 37,
    "start_time": "2022-01-10T17:08:21.593Z"
   },
   {
    "duration": 20,
    "start_time": "2022-01-10T17:08:21.631Z"
   },
   {
    "duration": 4,
    "start_time": "2022-01-10T17:08:21.653Z"
   },
   {
    "duration": 9,
    "start_time": "2022-01-10T17:08:21.658Z"
   },
   {
    "duration": 6,
    "start_time": "2022-01-10T17:08:21.669Z"
   },
   {
    "duration": 5,
    "start_time": "2022-01-10T17:08:21.677Z"
   },
   {
    "duration": 7,
    "start_time": "2022-01-10T17:08:21.683Z"
   },
   {
    "duration": 8,
    "start_time": "2022-01-10T17:08:21.727Z"
   },
   {
    "duration": 5,
    "start_time": "2022-01-10T17:08:25.759Z"
   },
   {
    "duration": 333,
    "start_time": "2022-01-10T17:08:27.002Z"
   },
   {
    "duration": 7,
    "start_time": "2022-01-10T17:09:07.767Z"
   },
   {
    "duration": 6,
    "start_time": "2022-01-10T17:09:09.472Z"
   },
   {
    "duration": 395,
    "start_time": "2022-01-10T17:09:38.873Z"
   },
   {
    "duration": 4,
    "start_time": "2022-01-10T17:10:23.509Z"
   },
   {
    "duration": 345,
    "start_time": "2022-01-10T17:13:37.154Z"
   },
   {
    "duration": 30,
    "start_time": "2022-01-10T17:14:24.615Z"
   },
   {
    "duration": 51,
    "start_time": "2022-01-10T17:22:27.733Z"
   },
   {
    "duration": 63,
    "start_time": "2022-01-10T17:22:27.786Z"
   },
   {
    "duration": 4,
    "start_time": "2022-01-10T17:22:27.852Z"
   },
   {
    "duration": 15,
    "start_time": "2022-01-10T17:22:27.858Z"
   },
   {
    "duration": 11,
    "start_time": "2022-01-10T17:22:27.875Z"
   },
   {
    "duration": 40,
    "start_time": "2022-01-10T17:22:27.888Z"
   },
   {
    "duration": 4,
    "start_time": "2022-01-10T17:22:27.930Z"
   },
   {
    "duration": 5,
    "start_time": "2022-01-10T17:22:27.936Z"
   },
   {
    "duration": 5,
    "start_time": "2022-01-10T17:22:27.944Z"
   },
   {
    "duration": 19,
    "start_time": "2022-01-10T17:22:27.951Z"
   },
   {
    "duration": 4,
    "start_time": "2022-01-10T17:22:27.971Z"
   },
   {
    "duration": 10,
    "start_time": "2022-01-10T17:22:27.976Z"
   },
   {
    "duration": 42,
    "start_time": "2022-01-10T17:22:27.988Z"
   },
   {
    "duration": 5,
    "start_time": "2022-01-10T17:22:28.031Z"
   },
   {
    "duration": 6,
    "start_time": "2022-01-10T17:22:28.037Z"
   },
   {
    "duration": 9,
    "start_time": "2022-01-10T17:22:28.044Z"
   },
   {
    "duration": 3,
    "start_time": "2022-01-10T17:22:28.054Z"
   },
   {
    "duration": 30,
    "start_time": "2022-01-10T17:22:28.059Z"
   },
   {
    "duration": 2,
    "start_time": "2022-01-10T17:22:28.091Z"
   },
   {
    "duration": 6,
    "start_time": "2022-01-10T17:22:28.094Z"
   },
   {
    "duration": 5,
    "start_time": "2022-01-10T17:22:28.127Z"
   },
   {
    "duration": 11,
    "start_time": "2022-01-10T17:22:28.133Z"
   },
   {
    "duration": 4,
    "start_time": "2022-01-10T17:22:28.146Z"
   },
   {
    "duration": 5,
    "start_time": "2022-01-10T17:22:28.152Z"
   },
   {
    "duration": 4,
    "start_time": "2022-01-10T17:22:28.159Z"
   },
   {
    "duration": 6,
    "start_time": "2022-01-10T17:22:28.164Z"
   },
   {
    "duration": 5,
    "start_time": "2022-01-10T17:22:28.174Z"
   },
   {
    "duration": 7,
    "start_time": "2022-01-10T17:22:28.180Z"
   },
   {
    "duration": 39,
    "start_time": "2022-01-10T17:22:28.189Z"
   },
   {
    "duration": 5,
    "start_time": "2022-01-10T17:22:28.229Z"
   },
   {
    "duration": 4,
    "start_time": "2022-01-10T17:22:28.235Z"
   },
   {
    "duration": 5,
    "start_time": "2022-01-10T17:22:28.241Z"
   },
   {
    "duration": 3,
    "start_time": "2022-01-10T17:22:28.248Z"
   },
   {
    "duration": 8,
    "start_time": "2022-01-10T17:22:28.252Z"
   },
   {
    "duration": 5,
    "start_time": "2022-01-10T17:22:28.261Z"
   },
   {
    "duration": 7,
    "start_time": "2022-01-10T17:22:28.268Z"
   },
   {
    "duration": 5,
    "start_time": "2022-01-10T17:22:28.276Z"
   },
   {
    "duration": 44,
    "start_time": "2022-01-10T17:22:28.283Z"
   },
   {
    "duration": 2,
    "start_time": "2022-01-10T17:22:28.329Z"
   },
   {
    "duration": 9,
    "start_time": "2022-01-10T17:22:28.332Z"
   },
   {
    "duration": 4,
    "start_time": "2022-01-10T17:22:28.342Z"
   },
   {
    "duration": 5,
    "start_time": "2022-01-10T17:22:28.348Z"
   },
   {
    "duration": 8,
    "start_time": "2022-01-10T17:22:28.354Z"
   },
   {
    "duration": 4,
    "start_time": "2022-01-10T17:22:28.364Z"
   },
   {
    "duration": 18,
    "start_time": "2022-01-10T17:22:28.370Z"
   },
   {
    "duration": 7,
    "start_time": "2022-01-10T17:22:28.389Z"
   },
   {
    "duration": 8,
    "start_time": "2022-01-10T17:22:28.397Z"
   },
   {
    "duration": 4,
    "start_time": "2022-01-10T17:22:28.406Z"
   },
   {
    "duration": 30,
    "start_time": "2022-01-10T17:22:28.411Z"
   },
   {
    "duration": 13,
    "start_time": "2022-01-10T17:22:28.443Z"
   },
   {
    "duration": 27,
    "start_time": "2022-01-10T17:22:28.457Z"
   },
   {
    "duration": 29,
    "start_time": "2022-01-10T17:22:31.639Z"
   },
   {
    "duration": 3,
    "start_time": "2022-01-10T17:23:33.670Z"
   },
   {
    "duration": 408,
    "start_time": "2022-01-10T17:24:41.224Z"
   },
   {
    "duration": 14,
    "start_time": "2022-01-10T17:24:59.412Z"
   },
   {
    "duration": 4,
    "start_time": "2022-01-10T17:25:04.156Z"
   },
   {
    "duration": 315,
    "start_time": "2022-01-10T17:48:59.279Z"
   },
   {
    "duration": 8302,
    "start_time": "2022-01-10T17:50:58.372Z"
   },
   {
    "duration": 8602,
    "start_time": "2022-01-10T17:51:20.724Z"
   },
   {
    "duration": 12,
    "start_time": "2022-01-10T17:51:43.860Z"
   },
   {
    "duration": 29,
    "start_time": "2022-01-10T17:51:50.387Z"
   },
   {
    "duration": 1097,
    "start_time": "2022-01-10T17:54:56.416Z"
   },
   {
    "duration": 32,
    "start_time": "2022-01-10T17:55:26.665Z"
   },
   {
    "duration": 879,
    "start_time": "2022-01-10T18:01:22.176Z"
   },
   {
    "duration": 11,
    "start_time": "2022-01-10T18:01:53.928Z"
   },
   {
    "duration": 398,
    "start_time": "2022-01-10T18:02:31.646Z"
   },
   {
    "duration": 7,
    "start_time": "2022-01-10T18:02:43.375Z"
   },
   {
    "duration": 7,
    "start_time": "2022-01-10T18:02:53.640Z"
   },
   {
    "duration": 54,
    "start_time": "2022-01-10T18:03:13.669Z"
   },
   {
    "duration": 61,
    "start_time": "2022-01-10T18:03:13.725Z"
   },
   {
    "duration": 4,
    "start_time": "2022-01-10T18:03:13.788Z"
   },
   {
    "duration": 36,
    "start_time": "2022-01-10T18:03:13.793Z"
   },
   {
    "duration": 10,
    "start_time": "2022-01-10T18:03:13.831Z"
   },
   {
    "duration": 5,
    "start_time": "2022-01-10T18:03:13.843Z"
   },
   {
    "duration": 6,
    "start_time": "2022-01-10T18:03:13.849Z"
   },
   {
    "duration": 5,
    "start_time": "2022-01-10T18:03:13.858Z"
   },
   {
    "duration": 7,
    "start_time": "2022-01-10T18:03:13.866Z"
   },
   {
    "duration": 66,
    "start_time": "2022-01-10T18:03:13.875Z"
   },
   {
    "duration": 7,
    "start_time": "2022-01-10T18:03:13.943Z"
   },
   {
    "duration": 6,
    "start_time": "2022-01-10T18:03:13.952Z"
   },
   {
    "duration": 8,
    "start_time": "2022-01-10T18:03:13.959Z"
   },
   {
    "duration": 5,
    "start_time": "2022-01-10T18:03:13.969Z"
   },
   {
    "duration": 6,
    "start_time": "2022-01-10T18:03:13.976Z"
   },
   {
    "duration": 48,
    "start_time": "2022-01-10T18:03:13.983Z"
   },
   {
    "duration": 6,
    "start_time": "2022-01-10T18:03:14.033Z"
   },
   {
    "duration": 53,
    "start_time": "2022-01-10T18:03:14.041Z"
   },
   {
    "duration": 2,
    "start_time": "2022-01-10T18:03:14.096Z"
   },
   {
    "duration": 5,
    "start_time": "2022-01-10T18:03:14.100Z"
   },
   {
    "duration": 7,
    "start_time": "2022-01-10T18:03:14.106Z"
   },
   {
    "duration": 26,
    "start_time": "2022-01-10T18:03:14.115Z"
   },
   {
    "duration": 5,
    "start_time": "2022-01-10T18:03:14.145Z"
   },
   {
    "duration": 9,
    "start_time": "2022-01-10T18:03:14.152Z"
   },
   {
    "duration": 7,
    "start_time": "2022-01-10T18:03:14.163Z"
   },
   {
    "duration": 5,
    "start_time": "2022-01-10T18:03:14.172Z"
   },
   {
    "duration": 8,
    "start_time": "2022-01-10T18:03:14.179Z"
   },
   {
    "duration": 39,
    "start_time": "2022-01-10T18:03:14.189Z"
   },
   {
    "duration": 6,
    "start_time": "2022-01-10T18:03:14.230Z"
   },
   {
    "duration": 23,
    "start_time": "2022-01-10T18:03:14.238Z"
   },
   {
    "duration": 7,
    "start_time": "2022-01-10T18:03:14.263Z"
   },
   {
    "duration": 7,
    "start_time": "2022-01-10T18:03:14.272Z"
   },
   {
    "duration": 3,
    "start_time": "2022-01-10T18:03:14.280Z"
   },
   {
    "duration": 7,
    "start_time": "2022-01-10T18:03:16.405Z"
   },
   {
    "duration": 357,
    "start_time": "2022-01-10T18:06:56.265Z"
   },
   {
    "duration": 31,
    "start_time": "2022-01-10T18:07:07.793Z"
   },
   {
    "duration": 612,
    "start_time": "2022-01-11T06:02:40.227Z"
   },
   {
    "duration": 95,
    "start_time": "2022-01-11T06:02:40.841Z"
   },
   {
    "duration": 4,
    "start_time": "2022-01-11T06:02:40.939Z"
   },
   {
    "duration": 14,
    "start_time": "2022-01-11T06:02:40.946Z"
   },
   {
    "duration": 43,
    "start_time": "2022-01-11T06:02:40.962Z"
   },
   {
    "duration": 5,
    "start_time": "2022-01-11T06:02:41.007Z"
   },
   {
    "duration": 5,
    "start_time": "2022-01-11T06:02:41.014Z"
   },
   {
    "duration": 5,
    "start_time": "2022-01-11T06:02:41.021Z"
   },
   {
    "duration": 4,
    "start_time": "2022-01-11T06:02:41.029Z"
   },
   {
    "duration": 23,
    "start_time": "2022-01-11T06:02:41.035Z"
   },
   {
    "duration": 5,
    "start_time": "2022-01-11T06:02:41.092Z"
   },
   {
    "duration": 9,
    "start_time": "2022-01-11T06:02:41.098Z"
   },
   {
    "duration": 6,
    "start_time": "2022-01-11T06:02:41.108Z"
   },
   {
    "duration": 6,
    "start_time": "2022-01-11T06:02:41.116Z"
   },
   {
    "duration": 6,
    "start_time": "2022-01-11T06:02:41.124Z"
   },
   {
    "duration": 5,
    "start_time": "2022-01-11T06:02:41.132Z"
   },
   {
    "duration": 4,
    "start_time": "2022-01-11T06:02:41.138Z"
   },
   {
    "duration": 73,
    "start_time": "2022-01-11T06:02:41.144Z"
   },
   {
    "duration": 3,
    "start_time": "2022-01-11T06:02:41.218Z"
   },
   {
    "duration": 4,
    "start_time": "2022-01-11T06:02:41.223Z"
   },
   {
    "duration": 10,
    "start_time": "2022-01-11T06:02:41.229Z"
   },
   {
    "duration": 16,
    "start_time": "2022-01-11T06:02:41.240Z"
   },
   {
    "duration": 6,
    "start_time": "2022-01-11T06:02:41.258Z"
   },
   {
    "duration": 31,
    "start_time": "2022-01-11T06:02:41.265Z"
   },
   {
    "duration": 8,
    "start_time": "2022-01-11T06:02:41.297Z"
   },
   {
    "duration": 5,
    "start_time": "2022-01-11T06:02:41.307Z"
   },
   {
    "duration": 6,
    "start_time": "2022-01-11T06:02:41.315Z"
   },
   {
    "duration": 6,
    "start_time": "2022-01-11T06:02:41.323Z"
   },
   {
    "duration": 5,
    "start_time": "2022-01-11T06:02:41.331Z"
   },
   {
    "duration": 7,
    "start_time": "2022-01-11T06:02:41.337Z"
   },
   {
    "duration": 46,
    "start_time": "2022-01-11T06:02:41.346Z"
   },
   {
    "duration": 5,
    "start_time": "2022-01-11T06:02:41.394Z"
   },
   {
    "duration": 4,
    "start_time": "2022-01-11T06:02:41.401Z"
   },
   {
    "duration": 9,
    "start_time": "2022-01-11T06:02:41.406Z"
   },
   {
    "duration": 5,
    "start_time": "2022-01-11T06:02:41.417Z"
   },
   {
    "duration": 6,
    "start_time": "2022-01-11T06:02:41.423Z"
   },
   {
    "duration": 6,
    "start_time": "2022-01-11T06:02:41.431Z"
   },
   {
    "duration": 5,
    "start_time": "2022-01-11T06:03:00.897Z"
   },
   {
    "duration": 8,
    "start_time": "2022-01-11T06:03:02.535Z"
   },
   {
    "duration": 23,
    "start_time": "2022-01-11T06:07:08.353Z"
   },
   {
    "duration": 195,
    "start_time": "2022-01-11T06:07:37.939Z"
   },
   {
    "duration": 117,
    "start_time": "2022-01-11T06:07:38.136Z"
   },
   {
    "duration": 5,
    "start_time": "2022-01-11T06:07:38.256Z"
   },
   {
    "duration": 34,
    "start_time": "2022-01-11T06:07:38.264Z"
   },
   {
    "duration": 19,
    "start_time": "2022-01-11T06:07:38.299Z"
   },
   {
    "duration": 5,
    "start_time": "2022-01-11T06:07:38.320Z"
   },
   {
    "duration": 12,
    "start_time": "2022-01-11T06:07:38.326Z"
   },
   {
    "duration": 6,
    "start_time": "2022-01-11T06:07:38.340Z"
   },
   {
    "duration": 13,
    "start_time": "2022-01-11T06:07:38.348Z"
   },
   {
    "duration": 41,
    "start_time": "2022-01-11T06:07:38.364Z"
   },
   {
    "duration": 4,
    "start_time": "2022-01-11T06:07:38.407Z"
   },
   {
    "duration": 11,
    "start_time": "2022-01-11T06:07:38.412Z"
   },
   {
    "duration": 10,
    "start_time": "2022-01-11T06:07:38.425Z"
   },
   {
    "duration": 4,
    "start_time": "2022-01-11T06:07:38.437Z"
   },
   {
    "duration": 12,
    "start_time": "2022-01-11T06:07:38.442Z"
   },
   {
    "duration": 6,
    "start_time": "2022-01-11T06:07:38.456Z"
   },
   {
    "duration": 28,
    "start_time": "2022-01-11T06:07:38.464Z"
   },
   {
    "duration": 36,
    "start_time": "2022-01-11T06:07:38.494Z"
   },
   {
    "duration": 2,
    "start_time": "2022-01-11T06:07:38.532Z"
   },
   {
    "duration": 5,
    "start_time": "2022-01-11T06:07:38.536Z"
   },
   {
    "duration": 10,
    "start_time": "2022-01-11T06:07:38.542Z"
   },
   {
    "duration": 17,
    "start_time": "2022-01-11T06:07:38.553Z"
   },
   {
    "duration": 5,
    "start_time": "2022-01-11T06:07:38.594Z"
   },
   {
    "duration": 5,
    "start_time": "2022-01-11T06:07:38.602Z"
   },
   {
    "duration": 5,
    "start_time": "2022-01-11T06:07:38.609Z"
   },
   {
    "duration": 7,
    "start_time": "2022-01-11T06:07:38.615Z"
   },
   {
    "duration": 7,
    "start_time": "2022-01-11T06:07:38.624Z"
   },
   {
    "duration": 6,
    "start_time": "2022-01-11T06:07:38.633Z"
   },
   {
    "duration": 5,
    "start_time": "2022-01-11T06:07:38.640Z"
   },
   {
    "duration": 47,
    "start_time": "2022-01-11T06:07:38.647Z"
   },
   {
    "duration": 5,
    "start_time": "2022-01-11T06:07:38.695Z"
   },
   {
    "duration": 6,
    "start_time": "2022-01-11T06:07:38.702Z"
   },
   {
    "duration": 3,
    "start_time": "2022-01-11T06:07:38.710Z"
   },
   {
    "duration": 9,
    "start_time": "2022-01-11T06:07:38.715Z"
   },
   {
    "duration": 7,
    "start_time": "2022-01-11T06:07:38.726Z"
   },
   {
    "duration": 6,
    "start_time": "2022-01-11T06:07:38.734Z"
   },
   {
    "duration": 6,
    "start_time": "2022-01-11T06:07:38.742Z"
   },
   {
    "duration": 49,
    "start_time": "2022-01-11T06:07:38.749Z"
   },
   {
    "duration": 11,
    "start_time": "2022-01-11T06:07:38.800Z"
   },
   {
    "duration": 3,
    "start_time": "2022-01-11T06:07:38.813Z"
   },
   {
    "duration": 4,
    "start_time": "2022-01-11T06:07:38.818Z"
   },
   {
    "duration": 12,
    "start_time": "2022-01-11T06:07:38.824Z"
   },
   {
    "duration": 6,
    "start_time": "2022-01-11T06:07:38.837Z"
   },
   {
    "duration": 18,
    "start_time": "2022-01-11T06:07:38.844Z"
   },
   {
    "duration": 11,
    "start_time": "2022-01-11T06:07:38.892Z"
   },
   {
    "duration": 8,
    "start_time": "2022-01-11T06:07:38.904Z"
   },
   {
    "duration": 4,
    "start_time": "2022-01-11T06:07:38.914Z"
   },
   {
    "duration": 19,
    "start_time": "2022-01-11T06:07:38.920Z"
   },
   {
    "duration": 4,
    "start_time": "2022-01-11T06:07:38.941Z"
   },
   {
    "duration": 16,
    "start_time": "2022-01-11T06:07:38.947Z"
   },
   {
    "duration": 53,
    "start_time": "2022-01-11T06:07:38.965Z"
   },
   {
    "duration": 15,
    "start_time": "2022-01-11T06:07:39.020Z"
   },
   {
    "duration": 2,
    "start_time": "2022-01-11T06:07:39.037Z"
   },
   {
    "duration": 5,
    "start_time": "2022-01-11T06:07:39.041Z"
   },
   {
    "duration": 6,
    "start_time": "2022-01-11T06:07:39.048Z"
   },
   {
    "duration": 5,
    "start_time": "2022-01-11T06:07:39.055Z"
   },
   {
    "duration": 66,
    "start_time": "2022-01-11T06:07:39.061Z"
   },
   {
    "duration": 2,
    "start_time": "2022-01-11T06:07:39.129Z"
   },
   {
    "duration": 5,
    "start_time": "2022-01-11T06:07:39.133Z"
   },
   {
    "duration": 5,
    "start_time": "2022-01-11T06:07:39.139Z"
   },
   {
    "duration": 7,
    "start_time": "2022-01-11T06:07:39.146Z"
   },
   {
    "duration": 6,
    "start_time": "2022-01-11T06:07:39.154Z"
   },
   {
    "duration": 6,
    "start_time": "2022-01-11T06:07:39.161Z"
   },
   {
    "duration": 24,
    "start_time": "2022-01-11T06:07:39.168Z"
   },
   {
    "duration": 5,
    "start_time": "2022-01-11T06:07:39.194Z"
   },
   {
    "duration": 6,
    "start_time": "2022-01-11T06:07:39.201Z"
   },
   {
    "duration": 5,
    "start_time": "2022-01-11T06:07:39.208Z"
   },
   {
    "duration": 3,
    "start_time": "2022-01-11T06:07:39.217Z"
   },
   {
    "duration": 5,
    "start_time": "2022-01-11T06:07:39.221Z"
   },
   {
    "duration": 19,
    "start_time": "2022-01-11T06:07:42.977Z"
   },
   {
    "duration": 239,
    "start_time": "2022-01-11T06:09:21.743Z"
   },
   {
    "duration": 6,
    "start_time": "2022-01-11T06:09:28.728Z"
   },
   {
    "duration": 6,
    "start_time": "2022-01-11T06:10:09.477Z"
   },
   {
    "duration": 229,
    "start_time": "2022-01-11T06:11:36.741Z"
   },
   {
    "duration": 10,
    "start_time": "2022-01-11T06:11:45.085Z"
   },
   {
    "duration": 8,
    "start_time": "2022-01-11T06:12:00.371Z"
   },
   {
    "duration": 173,
    "start_time": "2022-01-11T06:12:09.203Z"
   },
   {
    "duration": 10,
    "start_time": "2022-01-11T06:12:41.818Z"
   },
   {
    "duration": 6,
    "start_time": "2022-01-11T06:13:10.234Z"
   },
   {
    "duration": 234,
    "start_time": "2022-01-11T06:13:22.602Z"
   },
   {
    "duration": 467,
    "start_time": "2022-01-11T06:13:31.026Z"
   },
   {
    "duration": 8,
    "start_time": "2022-01-11T06:13:40.961Z"
   },
   {
    "duration": 7,
    "start_time": "2022-01-11T06:19:04.171Z"
   },
   {
    "duration": 6,
    "start_time": "2022-01-11T06:19:31.746Z"
   },
   {
    "duration": 183,
    "start_time": "2022-01-11T06:19:44.634Z"
   },
   {
    "duration": 7,
    "start_time": "2022-01-11T06:19:59.465Z"
   },
   {
    "duration": 6,
    "start_time": "2022-01-11T06:20:14.184Z"
   },
   {
    "duration": 313,
    "start_time": "2022-01-11T06:20:49.848Z"
   },
   {
    "duration": 113,
    "start_time": "2022-01-11T06:20:56.088Z"
   },
   {
    "duration": 467,
    "start_time": "2022-01-11T06:23:42.429Z"
   },
   {
    "duration": 176,
    "start_time": "2022-01-11T06:24:20.244Z"
   },
   {
    "duration": 218,
    "start_time": "2022-01-11T06:24:51.653Z"
   },
   {
    "duration": 8,
    "start_time": "2022-01-11T06:25:04.299Z"
   },
   {
    "duration": 5,
    "start_time": "2022-01-11T06:25:20.427Z"
   },
   {
    "duration": 303,
    "start_time": "2022-01-11T06:25:26.495Z"
   },
   {
    "duration": 10,
    "start_time": "2022-01-11T06:25:40.225Z"
   },
   {
    "duration": 60,
    "start_time": "2022-01-11T06:26:21.069Z"
   },
   {
    "duration": 118,
    "start_time": "2022-01-11T06:26:21.131Z"
   },
   {
    "duration": 3,
    "start_time": "2022-01-11T06:26:21.251Z"
   },
   {
    "duration": 40,
    "start_time": "2022-01-11T06:26:21.256Z"
   },
   {
    "duration": 27,
    "start_time": "2022-01-11T06:26:21.298Z"
   },
   {
    "duration": 5,
    "start_time": "2022-01-11T06:26:21.327Z"
   },
   {
    "duration": 5,
    "start_time": "2022-01-11T06:26:21.333Z"
   },
   {
    "duration": 6,
    "start_time": "2022-01-11T06:26:21.340Z"
   },
   {
    "duration": 7,
    "start_time": "2022-01-11T06:26:21.348Z"
   },
   {
    "duration": 52,
    "start_time": "2022-01-11T06:26:21.357Z"
   },
   {
    "duration": 4,
    "start_time": "2022-01-11T06:26:21.411Z"
   },
   {
    "duration": 8,
    "start_time": "2022-01-11T06:26:21.417Z"
   },
   {
    "duration": 7,
    "start_time": "2022-01-11T06:26:21.426Z"
   },
   {
    "duration": 5,
    "start_time": "2022-01-11T06:26:21.435Z"
   },
   {
    "duration": 6,
    "start_time": "2022-01-11T06:26:21.441Z"
   },
   {
    "duration": 5,
    "start_time": "2022-01-11T06:26:21.449Z"
   },
   {
    "duration": 39,
    "start_time": "2022-01-11T06:26:21.455Z"
   },
   {
    "duration": 36,
    "start_time": "2022-01-11T06:26:21.496Z"
   },
   {
    "duration": 2,
    "start_time": "2022-01-11T06:26:21.534Z"
   },
   {
    "duration": 5,
    "start_time": "2022-01-11T06:26:21.538Z"
   },
   {
    "duration": 8,
    "start_time": "2022-01-11T06:26:21.545Z"
   },
   {
    "duration": 45,
    "start_time": "2022-01-11T06:26:21.555Z"
   },
   {
    "duration": 6,
    "start_time": "2022-01-11T06:26:21.602Z"
   },
   {
    "duration": 6,
    "start_time": "2022-01-11T06:26:21.609Z"
   },
   {
    "duration": 6,
    "start_time": "2022-01-11T06:26:21.617Z"
   },
   {
    "duration": 6,
    "start_time": "2022-01-11T06:26:21.625Z"
   },
   {
    "duration": 6,
    "start_time": "2022-01-11T06:26:21.636Z"
   },
   {
    "duration": 52,
    "start_time": "2022-01-11T06:26:21.645Z"
   },
   {
    "duration": 5,
    "start_time": "2022-01-11T06:26:21.699Z"
   },
   {
    "duration": 7,
    "start_time": "2022-01-11T06:26:21.706Z"
   },
   {
    "duration": 4,
    "start_time": "2022-01-11T06:26:21.715Z"
   },
   {
    "duration": 5,
    "start_time": "2022-01-11T06:26:21.721Z"
   },
   {
    "duration": 3,
    "start_time": "2022-01-11T06:26:21.727Z"
   },
   {
    "duration": 7,
    "start_time": "2022-01-11T06:26:21.732Z"
   },
   {
    "duration": 5,
    "start_time": "2022-01-11T06:26:21.741Z"
   },
   {
    "duration": 47,
    "start_time": "2022-01-11T06:26:21.747Z"
   },
   {
    "duration": 5,
    "start_time": "2022-01-11T06:26:21.795Z"
   },
   {
    "duration": 10,
    "start_time": "2022-01-11T06:26:21.802Z"
   },
   {
    "duration": 10,
    "start_time": "2022-01-11T06:26:21.814Z"
   },
   {
    "duration": 4,
    "start_time": "2022-01-11T06:26:21.826Z"
   },
   {
    "duration": 4,
    "start_time": "2022-01-11T06:26:21.832Z"
   },
   {
    "duration": 12,
    "start_time": "2022-01-11T06:26:21.838Z"
   },
   {
    "duration": 3,
    "start_time": "2022-01-11T06:26:21.852Z"
   },
   {
    "duration": 50,
    "start_time": "2022-01-11T06:26:21.856Z"
   },
   {
    "duration": 10,
    "start_time": "2022-01-11T06:26:21.907Z"
   },
   {
    "duration": 4,
    "start_time": "2022-01-11T06:26:21.918Z"
   },
   {
    "duration": 5,
    "start_time": "2022-01-11T06:26:21.923Z"
   },
   {
    "duration": 18,
    "start_time": "2022-01-11T06:26:21.930Z"
   },
   {
    "duration": 5,
    "start_time": "2022-01-11T06:26:21.950Z"
   },
   {
    "duration": 44,
    "start_time": "2022-01-11T06:26:21.957Z"
   },
   {
    "duration": 30,
    "start_time": "2022-01-11T06:26:22.002Z"
   },
   {
    "duration": 15,
    "start_time": "2022-01-11T06:26:22.033Z"
   },
   {
    "duration": 2,
    "start_time": "2022-01-11T06:26:22.049Z"
   },
   {
    "duration": 5,
    "start_time": "2022-01-11T06:26:22.053Z"
   },
   {
    "duration": 32,
    "start_time": "2022-01-11T06:26:22.059Z"
   },
   {
    "duration": 2,
    "start_time": "2022-01-11T06:26:22.093Z"
   },
   {
    "duration": 39,
    "start_time": "2022-01-11T06:26:22.097Z"
   },
   {
    "duration": 2,
    "start_time": "2022-01-11T06:26:22.138Z"
   },
   {
    "duration": 6,
    "start_time": "2022-01-11T06:26:22.142Z"
   },
   {
    "duration": 8,
    "start_time": "2022-01-11T06:26:22.149Z"
   },
   {
    "duration": 7,
    "start_time": "2022-01-11T06:26:22.158Z"
   },
   {
    "duration": 8,
    "start_time": "2022-01-11T06:26:22.167Z"
   },
   {
    "duration": 8,
    "start_time": "2022-01-11T06:26:22.176Z"
   },
   {
    "duration": 6,
    "start_time": "2022-01-11T06:26:22.191Z"
   },
   {
    "duration": 6,
    "start_time": "2022-01-11T06:26:22.199Z"
   },
   {
    "duration": 7,
    "start_time": "2022-01-11T06:26:22.206Z"
   },
   {
    "duration": 4,
    "start_time": "2022-01-11T06:26:22.214Z"
   },
   {
    "duration": 4,
    "start_time": "2022-01-11T06:26:22.220Z"
   },
   {
    "duration": 5,
    "start_time": "2022-01-11T06:26:22.226Z"
   },
   {
    "duration": 21,
    "start_time": "2022-01-11T06:26:22.232Z"
   },
   {
    "duration": 21,
    "start_time": "2022-01-11T06:26:25.457Z"
   },
   {
    "duration": 115,
    "start_time": "2022-01-11T06:26:27.341Z"
   },
   {
    "duration": 76,
    "start_time": "2022-01-11T06:26:45.413Z"
   },
   {
    "duration": 109,
    "start_time": "2022-01-11T06:26:45.491Z"
   },
   {
    "duration": 3,
    "start_time": "2022-01-11T06:26:45.602Z"
   },
   {
    "duration": 14,
    "start_time": "2022-01-11T06:26:45.607Z"
   },
   {
    "duration": 20,
    "start_time": "2022-01-11T06:26:45.622Z"
   },
   {
    "duration": 4,
    "start_time": "2022-01-11T06:26:45.643Z"
   },
   {
    "duration": 4,
    "start_time": "2022-01-11T06:26:45.649Z"
   },
   {
    "duration": 37,
    "start_time": "2022-01-11T06:26:45.656Z"
   },
   {
    "duration": 4,
    "start_time": "2022-01-11T06:26:45.695Z"
   },
   {
    "duration": 24,
    "start_time": "2022-01-11T06:26:45.700Z"
   },
   {
    "duration": 4,
    "start_time": "2022-01-11T06:26:45.726Z"
   },
   {
    "duration": 7,
    "start_time": "2022-01-11T06:26:45.732Z"
   },
   {
    "duration": 6,
    "start_time": "2022-01-11T06:26:45.740Z"
   },
   {
    "duration": 5,
    "start_time": "2022-01-11T06:26:45.747Z"
   },
   {
    "duration": 43,
    "start_time": "2022-01-11T06:26:45.753Z"
   },
   {
    "duration": 5,
    "start_time": "2022-01-11T06:26:45.797Z"
   },
   {
    "duration": 4,
    "start_time": "2022-01-11T06:26:45.804Z"
   },
   {
    "duration": 36,
    "start_time": "2022-01-11T06:26:45.810Z"
   },
   {
    "duration": 3,
    "start_time": "2022-01-11T06:26:45.847Z"
   },
   {
    "duration": 8,
    "start_time": "2022-01-11T06:26:45.852Z"
   },
   {
    "duration": 34,
    "start_time": "2022-01-11T06:26:45.862Z"
   },
   {
    "duration": 15,
    "start_time": "2022-01-11T06:26:45.898Z"
   },
   {
    "duration": 9,
    "start_time": "2022-01-11T06:26:45.918Z"
   },
   {
    "duration": 7,
    "start_time": "2022-01-11T06:26:45.930Z"
   },
   {
    "duration": 5,
    "start_time": "2022-01-11T06:26:45.939Z"
   },
   {
    "duration": 6,
    "start_time": "2022-01-11T06:26:45.945Z"
   },
   {
    "duration": 46,
    "start_time": "2022-01-11T06:26:45.953Z"
   },
   {
    "duration": 8,
    "start_time": "2022-01-11T06:26:46.001Z"
   },
   {
    "duration": 6,
    "start_time": "2022-01-11T06:26:46.011Z"
   },
   {
    "duration": 7,
    "start_time": "2022-01-11T06:26:46.019Z"
   },
   {
    "duration": 5,
    "start_time": "2022-01-11T06:26:46.028Z"
   },
   {
    "duration": 6,
    "start_time": "2022-01-11T06:26:46.035Z"
   },
   {
    "duration": 4,
    "start_time": "2022-01-11T06:26:46.042Z"
   },
   {
    "duration": 7,
    "start_time": "2022-01-11T06:26:46.048Z"
   },
   {
    "duration": 39,
    "start_time": "2022-01-11T06:26:46.057Z"
   },
   {
    "duration": 7,
    "start_time": "2022-01-11T06:26:46.098Z"
   },
   {
    "duration": 5,
    "start_time": "2022-01-11T06:26:46.107Z"
   },
   {
    "duration": 8,
    "start_time": "2022-01-11T06:26:46.114Z"
   },
   {
    "duration": 10,
    "start_time": "2022-01-11T06:26:46.124Z"
   },
   {
    "duration": 2,
    "start_time": "2022-01-11T06:26:46.136Z"
   },
   {
    "duration": 4,
    "start_time": "2022-01-11T06:26:46.140Z"
   },
   {
    "duration": 52,
    "start_time": "2022-01-11T06:26:46.146Z"
   },
   {
    "duration": 4,
    "start_time": "2022-01-11T06:26:46.200Z"
   },
   {
    "duration": 19,
    "start_time": "2022-01-11T06:26:46.206Z"
   },
   {
    "duration": 10,
    "start_time": "2022-01-11T06:26:46.227Z"
   },
   {
    "duration": 3,
    "start_time": "2022-01-11T06:26:46.240Z"
   },
   {
    "duration": 4,
    "start_time": "2022-01-11T06:26:46.245Z"
   },
   {
    "duration": 57,
    "start_time": "2022-01-11T06:26:46.251Z"
   },
   {
    "duration": 6,
    "start_time": "2022-01-11T06:26:46.310Z"
   },
   {
    "duration": 18,
    "start_time": "2022-01-11T06:26:46.318Z"
   },
   {
    "duration": 31,
    "start_time": "2022-01-11T06:26:46.337Z"
   },
   {
    "duration": 36,
    "start_time": "2022-01-11T06:26:46.370Z"
   },
   {
    "duration": 3,
    "start_time": "2022-01-11T06:26:46.407Z"
   },
   {
    "duration": 6,
    "start_time": "2022-01-11T06:26:46.411Z"
   },
   {
    "duration": 6,
    "start_time": "2022-01-11T06:26:46.419Z"
   },
   {
    "duration": 4,
    "start_time": "2022-01-11T06:26:46.426Z"
   },
   {
    "duration": 62,
    "start_time": "2022-01-11T06:26:46.432Z"
   },
   {
    "duration": 2,
    "start_time": "2022-01-11T06:26:46.496Z"
   },
   {
    "duration": 5,
    "start_time": "2022-01-11T06:26:46.500Z"
   },
   {
    "duration": 7,
    "start_time": "2022-01-11T06:26:46.506Z"
   },
   {
    "duration": 5,
    "start_time": "2022-01-11T06:26:46.515Z"
   },
   {
    "duration": 5,
    "start_time": "2022-01-11T06:26:46.521Z"
   },
   {
    "duration": 5,
    "start_time": "2022-01-11T06:26:46.528Z"
   },
   {
    "duration": 5,
    "start_time": "2022-01-11T06:26:46.535Z"
   },
   {
    "duration": 7,
    "start_time": "2022-01-11T06:26:46.542Z"
   },
   {
    "duration": 5,
    "start_time": "2022-01-11T06:26:46.551Z"
   },
   {
    "duration": 6,
    "start_time": "2022-01-11T06:26:46.558Z"
   },
   {
    "duration": 4,
    "start_time": "2022-01-11T06:26:46.568Z"
   },
   {
    "duration": 18,
    "start_time": "2022-01-11T06:26:46.574Z"
   },
   {
    "duration": 24,
    "start_time": "2022-01-11T06:26:46.594Z"
   },
   {
    "duration": 19,
    "start_time": "2022-01-11T06:26:51.161Z"
   },
   {
    "duration": 126,
    "start_time": "2022-01-11T06:26:53.954Z"
   },
   {
    "duration": 6,
    "start_time": "2022-01-11T06:27:29.480Z"
   },
   {
    "duration": 181,
    "start_time": "2022-01-11T06:27:44.639Z"
   },
   {
    "duration": 5,
    "start_time": "2022-01-11T06:27:48.647Z"
   },
   {
    "duration": 63,
    "start_time": "2022-01-11T06:30:59.874Z"
   },
   {
    "duration": 6,
    "start_time": "2022-01-11T06:32:17.090Z"
   },
   {
    "duration": 66,
    "start_time": "2022-01-11T06:33:04.488Z"
   },
   {
    "duration": 200,
    "start_time": "2022-01-11T06:36:46.469Z"
   },
   {
    "duration": 3,
    "start_time": "2022-01-11T06:48:51.467Z"
   },
   {
    "duration": 58,
    "start_time": "2022-01-11T07:07:45.846Z"
   },
   {
    "duration": 107,
    "start_time": "2022-01-11T07:07:45.906Z"
   },
   {
    "duration": 3,
    "start_time": "2022-01-11T07:07:46.015Z"
   },
   {
    "duration": 14,
    "start_time": "2022-01-11T07:07:46.020Z"
   },
   {
    "duration": 19,
    "start_time": "2022-01-11T07:07:46.036Z"
   },
   {
    "duration": 37,
    "start_time": "2022-01-11T07:07:46.056Z"
   },
   {
    "duration": 6,
    "start_time": "2022-01-11T07:07:46.095Z"
   },
   {
    "duration": 4,
    "start_time": "2022-01-11T07:07:46.104Z"
   },
   {
    "duration": 6,
    "start_time": "2022-01-11T07:07:46.110Z"
   },
   {
    "duration": 20,
    "start_time": "2022-01-11T07:07:46.117Z"
   },
   {
    "duration": 4,
    "start_time": "2022-01-11T07:07:46.138Z"
   },
   {
    "duration": 6,
    "start_time": "2022-01-11T07:07:46.144Z"
   },
   {
    "duration": 45,
    "start_time": "2022-01-11T07:07:46.151Z"
   },
   {
    "duration": 4,
    "start_time": "2022-01-11T07:07:46.198Z"
   },
   {
    "duration": 6,
    "start_time": "2022-01-11T07:07:46.204Z"
   },
   {
    "duration": 5,
    "start_time": "2022-01-11T07:07:46.211Z"
   },
   {
    "duration": 4,
    "start_time": "2022-01-11T07:07:46.217Z"
   },
   {
    "duration": 32,
    "start_time": "2022-01-11T07:07:46.223Z"
   },
   {
    "duration": 2,
    "start_time": "2022-01-11T07:07:46.257Z"
   },
   {
    "duration": 3,
    "start_time": "2022-01-11T07:07:46.291Z"
   },
   {
    "duration": 8,
    "start_time": "2022-01-11T07:07:46.296Z"
   },
   {
    "duration": 16,
    "start_time": "2022-01-11T07:07:46.306Z"
   },
   {
    "duration": 4,
    "start_time": "2022-01-11T07:07:46.326Z"
   },
   {
    "duration": 6,
    "start_time": "2022-01-11T07:07:46.332Z"
   },
   {
    "duration": 7,
    "start_time": "2022-01-11T07:07:46.339Z"
   },
   {
    "duration": 6,
    "start_time": "2022-01-11T07:07:46.347Z"
   },
   {
    "duration": 40,
    "start_time": "2022-01-11T07:07:46.354Z"
   },
   {
    "duration": 6,
    "start_time": "2022-01-11T07:07:46.396Z"
   },
   {
    "duration": 6,
    "start_time": "2022-01-11T07:07:46.404Z"
   },
   {
    "duration": 7,
    "start_time": "2022-01-11T07:07:46.412Z"
   },
   {
    "duration": 6,
    "start_time": "2022-01-11T07:07:46.420Z"
   },
   {
    "duration": 5,
    "start_time": "2022-01-11T07:07:46.428Z"
   },
   {
    "duration": 3,
    "start_time": "2022-01-11T07:07:46.434Z"
   },
   {
    "duration": 8,
    "start_time": "2022-01-11T07:07:46.438Z"
   },
   {
    "duration": 45,
    "start_time": "2022-01-11T07:07:46.447Z"
   },
   {
    "duration": 5,
    "start_time": "2022-01-11T07:07:46.494Z"
   },
   {
    "duration": 5,
    "start_time": "2022-01-11T07:07:46.500Z"
   },
   {
    "duration": 9,
    "start_time": "2022-01-11T07:07:46.507Z"
   },
   {
    "duration": 9,
    "start_time": "2022-01-11T07:07:46.518Z"
   },
   {
    "duration": 5,
    "start_time": "2022-01-11T07:07:46.529Z"
   },
   {
    "duration": 6,
    "start_time": "2022-01-11T07:07:46.536Z"
   },
   {
    "duration": 15,
    "start_time": "2022-01-11T07:07:46.544Z"
   },
   {
    "duration": 31,
    "start_time": "2022-01-11T07:07:46.561Z"
   },
   {
    "duration": 19,
    "start_time": "2022-01-11T07:07:46.593Z"
   },
   {
    "duration": 9,
    "start_time": "2022-01-11T07:07:46.613Z"
   },
   {
    "duration": 9,
    "start_time": "2022-01-11T07:07:46.624Z"
   },
   {
    "duration": 4,
    "start_time": "2022-01-11T07:07:46.634Z"
   },
   {
    "duration": 19,
    "start_time": "2022-01-11T07:07:46.640Z"
   },
   {
    "duration": 5,
    "start_time": "2022-01-11T07:07:46.661Z"
   },
   {
    "duration": 37,
    "start_time": "2022-01-11T07:07:46.668Z"
   },
   {
    "duration": 28,
    "start_time": "2022-01-11T07:07:46.707Z"
   },
   {
    "duration": 15,
    "start_time": "2022-01-11T07:07:46.737Z"
   },
   {
    "duration": 2,
    "start_time": "2022-01-11T07:07:46.754Z"
   },
   {
    "duration": 4,
    "start_time": "2022-01-11T07:07:46.758Z"
   },
   {
    "duration": 28,
    "start_time": "2022-01-11T07:07:46.764Z"
   },
   {
    "duration": 4,
    "start_time": "2022-01-11T07:07:46.794Z"
   },
   {
    "duration": 4,
    "start_time": "2022-01-11T07:07:46.799Z"
   },
   {
    "duration": 6,
    "start_time": "2022-01-11T07:07:46.805Z"
   },
   {
    "duration": 5,
    "start_time": "2022-01-11T07:07:46.813Z"
   },
   {
    "duration": 4,
    "start_time": "2022-01-11T07:07:46.820Z"
   },
   {
    "duration": 5,
    "start_time": "2022-01-11T07:07:46.826Z"
   },
   {
    "duration": 5,
    "start_time": "2022-01-11T07:07:46.832Z"
   },
   {
    "duration": 5,
    "start_time": "2022-01-11T07:07:46.839Z"
   },
   {
    "duration": 5,
    "start_time": "2022-01-11T07:07:46.845Z"
   },
   {
    "duration": 7,
    "start_time": "2022-01-11T07:07:46.851Z"
   },
   {
    "duration": 5,
    "start_time": "2022-01-11T07:07:46.860Z"
   },
   {
    "duration": 5,
    "start_time": "2022-01-11T07:07:46.866Z"
   },
   {
    "duration": 2,
    "start_time": "2022-01-11T07:07:46.892Z"
   },
   {
    "duration": 5,
    "start_time": "2022-01-11T07:07:46.896Z"
   },
   {
    "duration": 20,
    "start_time": "2022-01-11T07:07:46.902Z"
   },
   {
    "duration": 133,
    "start_time": "2022-01-11T07:07:46.924Z"
   },
   {
    "duration": 4,
    "start_time": "2022-01-11T07:07:47.058Z"
   },
   {
    "duration": 7,
    "start_time": "2022-01-11T07:08:38.975Z"
   },
   {
    "duration": 24,
    "start_time": "2022-01-11T07:09:25.130Z"
   },
   {
    "duration": 931,
    "start_time": "2022-01-11T14:04:26.615Z"
   },
   {
    "duration": 99,
    "start_time": "2022-01-11T14:04:27.549Z"
   },
   {
    "duration": 5,
    "start_time": "2022-01-11T14:04:27.662Z"
   },
   {
    "duration": 20,
    "start_time": "2022-01-11T14:04:27.670Z"
   },
   {
    "duration": 13,
    "start_time": "2022-01-11T14:04:27.692Z"
   },
   {
    "duration": 5,
    "start_time": "2022-01-11T14:04:27.708Z"
   },
   {
    "duration": 9,
    "start_time": "2022-01-11T14:04:27.715Z"
   },
   {
    "duration": 6,
    "start_time": "2022-01-11T14:04:27.765Z"
   },
   {
    "duration": 5,
    "start_time": "2022-01-11T14:04:27.774Z"
   },
   {
    "duration": 33,
    "start_time": "2022-01-11T14:04:27.782Z"
   },
   {
    "duration": 6,
    "start_time": "2022-01-11T14:04:27.817Z"
   },
   {
    "duration": 9,
    "start_time": "2022-01-11T14:04:27.863Z"
   },
   {
    "duration": 7,
    "start_time": "2022-01-11T14:04:27.875Z"
   },
   {
    "duration": 6,
    "start_time": "2022-01-11T14:04:27.885Z"
   },
   {
    "duration": 8,
    "start_time": "2022-01-11T14:04:27.894Z"
   },
   {
    "duration": 59,
    "start_time": "2022-01-11T14:04:27.904Z"
   },
   {
    "duration": 6,
    "start_time": "2022-01-11T14:04:27.965Z"
   },
   {
    "duration": 47,
    "start_time": "2022-01-11T14:04:27.973Z"
   },
   {
    "duration": 2,
    "start_time": "2022-01-11T14:04:28.023Z"
   },
   {
    "duration": 3,
    "start_time": "2022-01-11T14:04:28.063Z"
   },
   {
    "duration": 13,
    "start_time": "2022-01-11T14:04:28.068Z"
   },
   {
    "duration": 22,
    "start_time": "2022-01-11T14:04:28.083Z"
   },
   {
    "duration": 12,
    "start_time": "2022-01-11T14:04:28.111Z"
   },
   {
    "duration": 36,
    "start_time": "2022-01-11T14:04:28.128Z"
   },
   {
    "duration": 8,
    "start_time": "2022-01-11T14:04:28.166Z"
   },
   {
    "duration": 7,
    "start_time": "2022-01-11T14:04:28.177Z"
   },
   {
    "duration": 10,
    "start_time": "2022-01-11T14:04:28.187Z"
   },
   {
    "duration": 10,
    "start_time": "2022-01-11T14:04:28.199Z"
   },
   {
    "duration": 7,
    "start_time": "2022-01-11T14:04:28.211Z"
   },
   {
    "duration": 10,
    "start_time": "2022-01-11T14:04:28.264Z"
   },
   {
    "duration": 9,
    "start_time": "2022-01-11T14:04:28.276Z"
   },
   {
    "duration": 13,
    "start_time": "2022-01-11T14:04:28.287Z"
   },
   {
    "duration": 3,
    "start_time": "2022-01-11T14:04:28.302Z"
   },
   {
    "duration": 12,
    "start_time": "2022-01-11T14:04:28.308Z"
   },
   {
    "duration": 45,
    "start_time": "2022-01-11T14:04:28.322Z"
   },
   {
    "duration": 6,
    "start_time": "2022-01-11T14:04:28.369Z"
   },
   {
    "duration": 7,
    "start_time": "2022-01-11T14:04:28.378Z"
   },
   {
    "duration": 11,
    "start_time": "2022-01-11T14:04:28.388Z"
   },
   {
    "duration": 9,
    "start_time": "2022-01-11T14:04:28.402Z"
   },
   {
    "duration": 50,
    "start_time": "2022-01-11T14:04:28.414Z"
   },
   {
    "duration": 5,
    "start_time": "2022-01-11T14:04:28.467Z"
   },
   {
    "duration": 11,
    "start_time": "2022-01-11T14:04:28.474Z"
   },
   {
    "duration": 6,
    "start_time": "2022-01-11T14:04:28.487Z"
   },
   {
    "duration": 18,
    "start_time": "2022-01-11T14:04:28.495Z"
   },
   {
    "duration": 48,
    "start_time": "2022-01-11T14:04:28.516Z"
   },
   {
    "duration": 4,
    "start_time": "2022-01-11T14:04:28.567Z"
   },
   {
    "duration": 6,
    "start_time": "2022-01-11T14:04:28.573Z"
   },
   {
    "duration": 28,
    "start_time": "2022-01-11T14:04:28.581Z"
   },
   {
    "duration": 8,
    "start_time": "2022-01-11T14:04:28.612Z"
   },
   {
    "duration": 59,
    "start_time": "2022-01-11T14:04:28.623Z"
   },
   {
    "duration": 48,
    "start_time": "2022-01-11T14:04:28.684Z"
   },
   {
    "duration": 42,
    "start_time": "2022-01-11T14:04:28.735Z"
   },
   {
    "duration": 3,
    "start_time": "2022-01-11T14:04:28.779Z"
   },
   {
    "duration": 6,
    "start_time": "2022-01-11T14:04:28.784Z"
   },
   {
    "duration": 8,
    "start_time": "2022-01-11T14:04:28.792Z"
   },
   {
    "duration": 5,
    "start_time": "2022-01-11T14:04:28.802Z"
   },
   {
    "duration": 5,
    "start_time": "2022-01-11T14:04:28.809Z"
   },
   {
    "duration": 5,
    "start_time": "2022-01-11T14:04:28.816Z"
   },
   {
    "duration": 40,
    "start_time": "2022-01-11T14:04:28.823Z"
   },
   {
    "duration": 5,
    "start_time": "2022-01-11T14:04:28.865Z"
   },
   {
    "duration": 4,
    "start_time": "2022-01-11T14:04:28.873Z"
   },
   {
    "duration": 5,
    "start_time": "2022-01-11T14:04:28.880Z"
   },
   {
    "duration": 12,
    "start_time": "2022-01-11T14:04:28.888Z"
   },
   {
    "duration": 17,
    "start_time": "2022-01-11T14:04:28.902Z"
   },
   {
    "duration": 5,
    "start_time": "2022-01-11T14:04:28.922Z"
   },
   {
    "duration": 34,
    "start_time": "2022-01-11T14:04:28.929Z"
   },
   {
    "duration": 4,
    "start_time": "2022-01-11T14:04:28.965Z"
   },
   {
    "duration": 3,
    "start_time": "2022-01-11T14:04:28.978Z"
   },
   {
    "duration": 5,
    "start_time": "2022-01-11T14:04:28.984Z"
   },
   {
    "duration": 17,
    "start_time": "2022-01-11T14:04:28.991Z"
   },
   {
    "duration": 204,
    "start_time": "2022-01-11T14:04:29.010Z"
   },
   {
    "duration": 7,
    "start_time": "2022-01-11T14:04:29.217Z"
   },
   {
    "duration": 53,
    "start_time": "2022-01-11T14:04:29.226Z"
   },
   {
    "duration": 3,
    "start_time": "2022-01-11T14:04:29.282Z"
   },
   {
    "duration": 6,
    "start_time": "2022-01-11T14:04:29.287Z"
   },
   {
    "duration": 5,
    "start_time": "2022-01-11T14:04:29.296Z"
   },
   {
    "duration": 5,
    "start_time": "2022-01-11T14:04:29.303Z"
   },
   {
    "duration": 5,
    "start_time": "2022-01-11T14:04:29.310Z"
   },
   {
    "duration": 61,
    "start_time": "2022-01-11T14:04:29.318Z"
   },
   {
    "duration": 3,
    "start_time": "2022-01-11T14:04:29.382Z"
   },
   {
    "duration": 6,
    "start_time": "2022-01-11T14:04:29.387Z"
   },
   {
    "duration": 7,
    "start_time": "2022-01-11T14:04:29.395Z"
   },
   {
    "duration": 5,
    "start_time": "2022-01-11T14:04:29.405Z"
   },
   {
    "duration": 5,
    "start_time": "2022-01-11T14:04:29.412Z"
   },
   {
    "duration": 8,
    "start_time": "2022-01-11T14:04:29.420Z"
   },
   {
    "duration": 4,
    "start_time": "2022-01-11T14:04:29.431Z"
   },
   {
    "duration": 27,
    "start_time": "2022-01-11T14:04:29.438Z"
   },
   {
    "duration": 8,
    "start_time": "2022-01-11T14:04:29.468Z"
   },
   {
    "duration": 5,
    "start_time": "2022-01-11T14:04:29.478Z"
   },
   {
    "duration": 5,
    "start_time": "2022-01-11T14:04:29.486Z"
   },
   {
    "duration": 5,
    "start_time": "2022-01-11T14:04:29.493Z"
   },
   {
    "duration": 71,
    "start_time": "2022-01-11T14:04:50.339Z"
   },
   {
    "duration": 159,
    "start_time": "2022-01-11T14:04:50.413Z"
   },
   {
    "duration": 5,
    "start_time": "2022-01-11T14:04:50.574Z"
   },
   {
    "duration": 21,
    "start_time": "2022-01-11T14:04:50.582Z"
   },
   {
    "duration": 16,
    "start_time": "2022-01-11T14:04:50.606Z"
   },
   {
    "duration": 39,
    "start_time": "2022-01-11T14:04:50.625Z"
   },
   {
    "duration": 5,
    "start_time": "2022-01-11T14:04:50.667Z"
   },
   {
    "duration": 8,
    "start_time": "2022-01-11T14:04:50.674Z"
   },
   {
    "duration": 6,
    "start_time": "2022-01-11T14:04:50.687Z"
   },
   {
    "duration": 74,
    "start_time": "2022-01-11T14:04:50.696Z"
   },
   {
    "duration": 5,
    "start_time": "2022-01-11T14:04:50.773Z"
   },
   {
    "duration": 13,
    "start_time": "2022-01-11T14:04:50.781Z"
   },
   {
    "duration": 9,
    "start_time": "2022-01-11T14:04:50.796Z"
   },
   {
    "duration": 10,
    "start_time": "2022-01-11T14:04:50.807Z"
   },
   {
    "duration": 48,
    "start_time": "2022-01-11T14:04:50.819Z"
   },
   {
    "duration": 13,
    "start_time": "2022-01-11T14:04:50.870Z"
   },
   {
    "duration": 10,
    "start_time": "2022-01-11T14:04:50.885Z"
   },
   {
    "duration": 70,
    "start_time": "2022-01-11T14:04:50.897Z"
   },
   {
    "duration": 3,
    "start_time": "2022-01-11T14:04:50.969Z"
   },
   {
    "duration": 5,
    "start_time": "2022-01-11T14:04:50.974Z"
   },
   {
    "duration": 8,
    "start_time": "2022-01-11T14:04:50.982Z"
   },
   {
    "duration": 17,
    "start_time": "2022-01-11T14:04:50.992Z"
   },
   {
    "duration": 51,
    "start_time": "2022-01-11T14:04:51.011Z"
   },
   {
    "duration": 8,
    "start_time": "2022-01-11T14:04:51.065Z"
   },
   {
    "duration": 7,
    "start_time": "2022-01-11T14:04:51.076Z"
   },
   {
    "duration": 7,
    "start_time": "2022-01-11T14:04:51.086Z"
   },
   {
    "duration": 10,
    "start_time": "2022-01-11T14:04:51.100Z"
   },
   {
    "duration": 50,
    "start_time": "2022-01-11T14:04:51.115Z"
   },
   {
    "duration": 8,
    "start_time": "2022-01-11T14:04:51.167Z"
   },
   {
    "duration": 9,
    "start_time": "2022-01-11T14:04:51.177Z"
   },
   {
    "duration": 9,
    "start_time": "2022-01-11T14:04:51.188Z"
   },
   {
    "duration": 12,
    "start_time": "2022-01-11T14:04:51.200Z"
   },
   {
    "duration": 3,
    "start_time": "2022-01-11T14:04:51.215Z"
   },
   {
    "duration": 51,
    "start_time": "2022-01-11T14:04:51.220Z"
   },
   {
    "duration": 10,
    "start_time": "2022-01-11T14:04:51.274Z"
   },
   {
    "duration": 10,
    "start_time": "2022-01-11T14:04:51.286Z"
   },
   {
    "duration": 9,
    "start_time": "2022-01-11T14:04:51.299Z"
   },
   {
    "duration": 54,
    "start_time": "2022-01-11T14:04:51.310Z"
   },
   {
    "duration": 9,
    "start_time": "2022-01-11T14:04:51.366Z"
   },
   {
    "duration": 5,
    "start_time": "2022-01-11T14:04:51.378Z"
   },
   {
    "duration": 6,
    "start_time": "2022-01-11T14:04:51.385Z"
   },
   {
    "duration": 11,
    "start_time": "2022-01-11T14:04:51.394Z"
   },
   {
    "duration": 7,
    "start_time": "2022-01-11T14:04:51.408Z"
   },
   {
    "duration": 52,
    "start_time": "2022-01-11T14:04:51.417Z"
   },
   {
    "duration": 10,
    "start_time": "2022-01-11T14:04:51.472Z"
   },
   {
    "duration": 13,
    "start_time": "2022-01-11T14:04:51.484Z"
   },
   {
    "duration": 5,
    "start_time": "2022-01-11T14:04:51.500Z"
   },
   {
    "duration": 57,
    "start_time": "2022-01-11T14:04:51.507Z"
   },
   {
    "duration": 9,
    "start_time": "2022-01-11T14:04:51.567Z"
   },
   {
    "duration": 34,
    "start_time": "2022-01-11T14:04:51.578Z"
   },
   {
    "duration": 77,
    "start_time": "2022-01-11T14:04:51.619Z"
   },
   {
    "duration": 25,
    "start_time": "2022-01-11T14:04:51.698Z"
   },
   {
    "duration": 3,
    "start_time": "2022-01-11T14:04:51.726Z"
   },
   {
    "duration": 30,
    "start_time": "2022-01-11T14:04:51.732Z"
   },
   {
    "duration": 12,
    "start_time": "2022-01-11T14:04:51.765Z"
   },
   {
    "duration": 10,
    "start_time": "2022-01-11T14:04:51.780Z"
   },
   {
    "duration": 10,
    "start_time": "2022-01-11T14:04:51.793Z"
   },
   {
    "duration": 15,
    "start_time": "2022-01-11T14:04:51.806Z"
   },
   {
    "duration": 13,
    "start_time": "2022-01-11T14:04:51.824Z"
   },
   {
    "duration": 20,
    "start_time": "2022-01-11T14:04:51.840Z"
   },
   {
    "duration": 9,
    "start_time": "2022-01-11T14:04:51.862Z"
   },
   {
    "duration": 15,
    "start_time": "2022-01-11T14:04:51.873Z"
   },
   {
    "duration": 6,
    "start_time": "2022-01-11T14:04:51.890Z"
   },
   {
    "duration": 12,
    "start_time": "2022-01-11T14:04:51.898Z"
   },
   {
    "duration": 5,
    "start_time": "2022-01-11T14:04:51.912Z"
   },
   {
    "duration": 12,
    "start_time": "2022-01-11T14:04:51.920Z"
   },
   {
    "duration": 5,
    "start_time": "2022-01-11T14:04:51.935Z"
   },
   {
    "duration": 5,
    "start_time": "2022-01-11T14:04:51.943Z"
   },
   {
    "duration": 4,
    "start_time": "2022-01-11T14:04:51.963Z"
   },
   {
    "duration": 20,
    "start_time": "2022-01-11T14:04:51.969Z"
   },
   {
    "duration": 202,
    "start_time": "2022-01-11T14:04:51.992Z"
   },
   {
    "duration": 8,
    "start_time": "2022-01-11T14:04:52.197Z"
   },
   {
    "duration": 21,
    "start_time": "2022-01-11T14:04:52.208Z"
   },
   {
    "duration": 32,
    "start_time": "2022-01-11T14:04:52.231Z"
   },
   {
    "duration": 3,
    "start_time": "2022-01-11T14:04:52.266Z"
   },
   {
    "duration": 4,
    "start_time": "2022-01-11T14:04:52.272Z"
   },
   {
    "duration": 5,
    "start_time": "2022-01-11T14:04:52.279Z"
   },
   {
    "duration": 5,
    "start_time": "2022-01-11T14:04:52.286Z"
   },
   {
    "duration": 6,
    "start_time": "2022-01-11T14:04:52.294Z"
   },
   {
    "duration": 7,
    "start_time": "2022-01-11T14:04:52.302Z"
   },
   {
    "duration": 4,
    "start_time": "2022-01-11T14:04:52.317Z"
   },
   {
    "duration": 4,
    "start_time": "2022-01-11T14:04:52.364Z"
   },
   {
    "duration": 11,
    "start_time": "2022-01-11T14:04:52.371Z"
   },
   {
    "duration": 28,
    "start_time": "2022-01-11T14:04:52.385Z"
   },
   {
    "duration": 15,
    "start_time": "2022-01-11T14:04:52.416Z"
   },
   {
    "duration": 7,
    "start_time": "2022-01-11T14:04:52.433Z"
   },
   {
    "duration": 7,
    "start_time": "2022-01-11T14:04:52.442Z"
   },
   {
    "duration": 6,
    "start_time": "2022-01-11T14:04:52.452Z"
   },
   {
    "duration": 5,
    "start_time": "2022-01-11T14:04:52.460Z"
   },
   {
    "duration": 8,
    "start_time": "2022-01-11T14:04:52.468Z"
   },
   {
    "duration": 12,
    "start_time": "2022-01-11T14:04:52.479Z"
   },
   {
    "duration": 70,
    "start_time": "2022-01-11T14:07:17.651Z"
   },
   {
    "duration": 163,
    "start_time": "2022-01-11T14:07:17.742Z"
   },
   {
    "duration": 5,
    "start_time": "2022-01-11T14:07:17.909Z"
   },
   {
    "duration": 49,
    "start_time": "2022-01-11T14:07:17.917Z"
   },
   {
    "duration": 19,
    "start_time": "2022-01-11T14:07:17.969Z"
   },
   {
    "duration": 7,
    "start_time": "2022-01-11T14:07:17.997Z"
   },
   {
    "duration": 22,
    "start_time": "2022-01-11T14:07:18.007Z"
   },
   {
    "duration": 29,
    "start_time": "2022-01-11T14:07:18.034Z"
   },
   {
    "duration": 8,
    "start_time": "2022-01-11T14:07:18.066Z"
   },
   {
    "duration": 44,
    "start_time": "2022-01-11T14:07:18.077Z"
   },
   {
    "duration": 8,
    "start_time": "2022-01-11T14:07:18.124Z"
   },
   {
    "duration": 11,
    "start_time": "2022-01-11T14:07:18.164Z"
   },
   {
    "duration": 10,
    "start_time": "2022-01-11T14:07:18.178Z"
   },
   {
    "duration": 12,
    "start_time": "2022-01-11T14:07:18.190Z"
   },
   {
    "duration": 9,
    "start_time": "2022-01-11T14:07:18.204Z"
   },
   {
    "duration": 48,
    "start_time": "2022-01-11T14:07:18.216Z"
   },
   {
    "duration": 6,
    "start_time": "2022-01-11T14:07:18.267Z"
   },
   {
    "duration": 49,
    "start_time": "2022-01-11T14:07:18.276Z"
   },
   {
    "duration": 3,
    "start_time": "2022-01-11T14:07:18.328Z"
   },
   {
    "duration": 5,
    "start_time": "2022-01-11T14:07:18.362Z"
   },
   {
    "duration": 25,
    "start_time": "2022-01-11T14:07:18.369Z"
   },
   {
    "duration": 24,
    "start_time": "2022-01-11T14:07:18.396Z"
   },
   {
    "duration": 6,
    "start_time": "2022-01-11T14:07:18.427Z"
   },
   {
    "duration": 31,
    "start_time": "2022-01-11T14:07:18.437Z"
   },
   {
    "duration": 7,
    "start_time": "2022-01-11T14:07:18.471Z"
   },
   {
    "duration": 8,
    "start_time": "2022-01-11T14:07:18.480Z"
   },
   {
    "duration": 8,
    "start_time": "2022-01-11T14:07:18.491Z"
   },
   {
    "duration": 17,
    "start_time": "2022-01-11T14:07:18.502Z"
   },
   {
    "duration": 49,
    "start_time": "2022-01-11T14:07:18.521Z"
   },
   {
    "duration": 278,
    "start_time": "2022-01-11T14:07:18.573Z"
   },
   {
    "duration": 13,
    "start_time": "2022-01-11T14:07:18.854Z"
   },
   {
    "duration": 7,
    "start_time": "2022-01-11T14:07:18.870Z"
   },
   {
    "duration": 4,
    "start_time": "2022-01-11T14:07:18.879Z"
   },
   {
    "duration": 13,
    "start_time": "2022-01-11T14:07:18.885Z"
   },
   {
    "duration": 9,
    "start_time": "2022-01-11T14:07:18.900Z"
   },
   {
    "duration": 52,
    "start_time": "2022-01-11T14:07:18.912Z"
   },
   {
    "duration": 7,
    "start_time": "2022-01-11T14:07:18.968Z"
   },
   {
    "duration": 17,
    "start_time": "2022-01-11T14:07:18.978Z"
   },
   {
    "duration": 12,
    "start_time": "2022-01-11T14:07:18.999Z"
   },
   {
    "duration": 5,
    "start_time": "2022-01-11T14:07:19.015Z"
   },
   {
    "duration": 44,
    "start_time": "2022-01-11T14:07:19.022Z"
   },
   {
    "duration": 16,
    "start_time": "2022-01-11T14:07:19.068Z"
   },
   {
    "duration": 4,
    "start_time": "2022-01-11T14:07:19.088Z"
   },
   {
    "duration": 24,
    "start_time": "2022-01-11T14:07:19.095Z"
   },
   {
    "duration": 49,
    "start_time": "2022-01-11T14:07:19.122Z"
   },
   {
    "duration": 4,
    "start_time": "2022-01-11T14:07:19.175Z"
   },
   {
    "duration": 5,
    "start_time": "2022-01-11T14:07:19.182Z"
   },
   {
    "duration": 33,
    "start_time": "2022-01-11T14:07:19.194Z"
   },
   {
    "duration": 38,
    "start_time": "2022-01-11T14:07:19.230Z"
   },
   {
    "duration": 35,
    "start_time": "2022-01-11T14:07:19.270Z"
   },
   {
    "duration": 99,
    "start_time": "2022-01-11T14:07:19.308Z"
   },
   {
    "duration": 33,
    "start_time": "2022-01-11T14:07:19.410Z"
   },
   {
    "duration": 4,
    "start_time": "2022-01-11T14:07:19.462Z"
   },
   {
    "duration": 6,
    "start_time": "2022-01-11T14:07:19.469Z"
   },
   {
    "duration": 7,
    "start_time": "2022-01-11T14:07:19.478Z"
   },
   {
    "duration": 4,
    "start_time": "2022-01-11T14:07:19.487Z"
   },
   {
    "duration": 5,
    "start_time": "2022-01-11T14:07:19.493Z"
   },
   {
    "duration": 6,
    "start_time": "2022-01-11T14:07:19.501Z"
   },
   {
    "duration": 9,
    "start_time": "2022-01-11T14:07:19.509Z"
   },
   {
    "duration": 3,
    "start_time": "2022-01-11T14:07:19.564Z"
   },
   {
    "duration": 6,
    "start_time": "2022-01-11T14:07:19.571Z"
   },
   {
    "duration": 6,
    "start_time": "2022-01-11T14:07:19.580Z"
   },
   {
    "duration": 9,
    "start_time": "2022-01-11T14:07:19.589Z"
   },
   {
    "duration": 15,
    "start_time": "2022-01-11T14:07:19.600Z"
   },
   {
    "duration": 36,
    "start_time": "2022-01-11T14:07:19.618Z"
   },
   {
    "duration": 13,
    "start_time": "2022-01-11T14:07:19.656Z"
   },
   {
    "duration": 5,
    "start_time": "2022-01-11T14:07:19.671Z"
   },
   {
    "duration": 3,
    "start_time": "2022-01-11T14:07:19.685Z"
   },
   {
    "duration": 4,
    "start_time": "2022-01-11T14:07:19.692Z"
   },
   {
    "duration": 19,
    "start_time": "2022-01-11T14:07:19.699Z"
   },
   {
    "duration": 212,
    "start_time": "2022-01-11T14:07:19.720Z"
   },
   {
    "duration": 6,
    "start_time": "2022-01-11T14:07:19.934Z"
   },
   {
    "duration": 38,
    "start_time": "2022-01-11T14:07:19.942Z"
   },
   {
    "duration": 3,
    "start_time": "2022-01-11T14:07:19.982Z"
   },
   {
    "duration": 5,
    "start_time": "2022-01-11T14:07:19.987Z"
   },
   {
    "duration": 5,
    "start_time": "2022-01-11T14:07:19.994Z"
   },
   {
    "duration": 5,
    "start_time": "2022-01-11T14:07:20.001Z"
   },
   {
    "duration": 10,
    "start_time": "2022-01-11T14:07:20.008Z"
   },
   {
    "duration": 9,
    "start_time": "2022-01-11T14:07:20.020Z"
   },
   {
    "duration": 33,
    "start_time": "2022-01-11T14:07:20.031Z"
   },
   {
    "duration": 5,
    "start_time": "2022-01-11T14:07:20.067Z"
   },
   {
    "duration": 12,
    "start_time": "2022-01-11T14:07:20.074Z"
   },
   {
    "duration": 6,
    "start_time": "2022-01-11T14:07:20.089Z"
   },
   {
    "duration": 8,
    "start_time": "2022-01-11T14:07:20.098Z"
   },
   {
    "duration": 7,
    "start_time": "2022-01-11T14:07:20.108Z"
   },
   {
    "duration": 7,
    "start_time": "2022-01-11T14:07:20.117Z"
   },
   {
    "duration": 37,
    "start_time": "2022-01-11T14:07:20.126Z"
   },
   {
    "duration": 10,
    "start_time": "2022-01-11T14:07:20.165Z"
   },
   {
    "duration": 7,
    "start_time": "2022-01-11T14:07:20.177Z"
   },
   {
    "duration": 5,
    "start_time": "2022-01-11T14:07:20.187Z"
   },
   {
    "duration": 5,
    "start_time": "2022-01-11T14:07:20.194Z"
   },
   {
    "duration": 17,
    "start_time": "2022-01-11T14:08:16.712Z"
   },
   {
    "duration": 45,
    "start_time": "2022-01-11T14:09:19.843Z"
   },
   {
    "duration": 375,
    "start_time": "2022-01-11T14:10:32.652Z"
   },
   {
    "duration": 892,
    "start_time": "2022-01-11T14:10:32.138Z"
   },
   {
    "duration": 888,
    "start_time": "2022-01-11T14:10:32.143Z"
   },
   {
    "duration": 886,
    "start_time": "2022-01-11T14:10:32.147Z"
   },
   {
    "duration": 884,
    "start_time": "2022-01-11T14:10:32.151Z"
   },
   {
    "duration": 883,
    "start_time": "2022-01-11T14:10:32.154Z"
   },
   {
    "duration": 870,
    "start_time": "2022-01-11T14:10:32.168Z"
   },
   {
    "duration": 868,
    "start_time": "2022-01-11T14:10:32.172Z"
   },
   {
    "duration": 866,
    "start_time": "2022-01-11T14:10:32.175Z"
   },
   {
    "duration": 865,
    "start_time": "2022-01-11T14:10:32.178Z"
   },
   {
    "duration": 836,
    "start_time": "2022-01-11T14:10:32.209Z"
   },
   {
    "duration": 772,
    "start_time": "2022-01-11T14:10:32.274Z"
   },
   {
    "duration": 768,
    "start_time": "2022-01-11T14:10:32.279Z"
   },
   {
    "duration": 767,
    "start_time": "2022-01-11T14:10:32.282Z"
   },
   {
    "duration": 765,
    "start_time": "2022-01-11T14:10:32.285Z"
   },
   {
    "duration": 764,
    "start_time": "2022-01-11T14:10:32.288Z"
   },
   {
    "duration": 695,
    "start_time": "2022-01-11T14:10:32.358Z"
   },
   {
    "duration": 694,
    "start_time": "2022-01-11T14:10:32.361Z"
   },
   {
    "duration": 678,
    "start_time": "2022-01-11T14:10:32.378Z"
   },
   {
    "duration": 676,
    "start_time": "2022-01-11T14:10:32.381Z"
   },
   {
    "duration": 675,
    "start_time": "2022-01-11T14:10:32.384Z"
   },
   {
    "duration": 299,
    "start_time": "2022-01-11T14:10:53.229Z"
   },
   {
    "duration": 67,
    "start_time": "2022-01-11T14:11:57.131Z"
   },
   {
    "duration": 130,
    "start_time": "2022-01-11T14:11:57.201Z"
   },
   {
    "duration": 5,
    "start_time": "2022-01-11T14:11:57.335Z"
   },
   {
    "duration": 23,
    "start_time": "2022-01-11T14:11:57.363Z"
   },
   {
    "duration": 18,
    "start_time": "2022-01-11T14:11:57.389Z"
   },
   {
    "duration": 6,
    "start_time": "2022-01-11T14:11:57.409Z"
   },
   {
    "duration": 46,
    "start_time": "2022-01-11T14:11:57.417Z"
   },
   {
    "duration": 6,
    "start_time": "2022-01-11T14:11:57.467Z"
   },
   {
    "duration": 7,
    "start_time": "2022-01-11T14:11:57.475Z"
   },
   {
    "duration": 37,
    "start_time": "2022-01-11T14:11:57.485Z"
   },
   {
    "duration": 39,
    "start_time": "2022-01-11T14:11:57.525Z"
   },
   {
    "duration": 8,
    "start_time": "2022-01-11T14:11:57.567Z"
   },
   {
    "duration": 8,
    "start_time": "2022-01-11T14:11:57.577Z"
   },
   {
    "duration": 8,
    "start_time": "2022-01-11T14:11:57.587Z"
   },
   {
    "duration": 8,
    "start_time": "2022-01-11T14:11:57.597Z"
   },
   {
    "duration": 59,
    "start_time": "2022-01-11T14:11:57.608Z"
   },
   {
    "duration": 6,
    "start_time": "2022-01-11T14:11:57.670Z"
   },
   {
    "duration": 47,
    "start_time": "2022-01-11T14:11:57.678Z"
   },
   {
    "duration": 3,
    "start_time": "2022-01-11T14:11:57.727Z"
   },
   {
    "duration": 3,
    "start_time": "2022-01-11T14:11:57.762Z"
   },
   {
    "duration": 8,
    "start_time": "2022-01-11T14:11:57.768Z"
   },
   {
    "duration": 18,
    "start_time": "2022-01-11T14:11:57.778Z"
   },
   {
    "duration": 6,
    "start_time": "2022-01-11T14:11:57.802Z"
   },
   {
    "duration": 8,
    "start_time": "2022-01-11T14:11:57.810Z"
   },
   {
    "duration": 7,
    "start_time": "2022-01-11T14:11:57.864Z"
   },
   {
    "duration": 10,
    "start_time": "2022-01-11T14:11:57.873Z"
   },
   {
    "duration": 9,
    "start_time": "2022-01-11T14:11:57.885Z"
   },
   {
    "duration": 10,
    "start_time": "2022-01-11T14:11:57.896Z"
   },
   {
    "duration": 7,
    "start_time": "2022-01-11T14:11:57.909Z"
   },
   {
    "duration": 8,
    "start_time": "2022-01-11T14:11:57.964Z"
   },
   {
    "duration": 6,
    "start_time": "2022-01-11T14:11:57.975Z"
   },
   {
    "duration": 7,
    "start_time": "2022-01-11T14:11:57.984Z"
   },
   {
    "duration": 3,
    "start_time": "2022-01-11T14:11:57.993Z"
   },
   {
    "duration": 12,
    "start_time": "2022-01-11T14:11:57.998Z"
   },
   {
    "duration": 54,
    "start_time": "2022-01-11T14:11:58.013Z"
   },
   {
    "duration": 8,
    "start_time": "2022-01-11T14:11:58.070Z"
   },
   {
    "duration": 6,
    "start_time": "2022-01-11T14:11:58.081Z"
   },
   {
    "duration": 9,
    "start_time": "2022-01-11T14:11:58.089Z"
   },
   {
    "duration": 9,
    "start_time": "2022-01-11T14:11:58.100Z"
   },
   {
    "duration": 4,
    "start_time": "2022-01-11T14:11:58.111Z"
   },
   {
    "duration": 48,
    "start_time": "2022-01-11T14:11:58.117Z"
   },
   {
    "duration": 12,
    "start_time": "2022-01-11T14:11:58.167Z"
   },
   {
    "duration": 5,
    "start_time": "2022-01-11T14:11:58.181Z"
   },
   {
    "duration": 18,
    "start_time": "2022-01-11T14:11:58.188Z"
   },
   {
    "duration": 9,
    "start_time": "2022-01-11T14:11:58.208Z"
   },
   {
    "duration": 43,
    "start_time": "2022-01-11T14:11:58.220Z"
   },
   {
    "duration": 6,
    "start_time": "2022-01-11T14:11:58.265Z"
   },
   {
    "duration": 28,
    "start_time": "2022-01-11T14:11:58.274Z"
   },
   {
    "duration": 8,
    "start_time": "2022-01-11T14:11:58.304Z"
   },
   {
    "duration": 55,
    "start_time": "2022-01-11T14:11:58.314Z"
   },
   {
    "duration": 22,
    "start_time": "2022-01-11T14:12:02.214Z"
   },
   {
    "duration": 51,
    "start_time": "2022-01-11T14:12:02.990Z"
   },
   {
    "duration": 26,
    "start_time": "2022-01-11T14:12:03.958Z"
   },
   {
    "duration": 3,
    "start_time": "2022-01-11T14:12:05.461Z"
   },
   {
    "duration": 3,
    "start_time": "2022-01-11T14:12:08.573Z"
   },
   {
    "duration": 6,
    "start_time": "2022-01-11T14:12:08.766Z"
   },
   {
    "duration": 3,
    "start_time": "2022-01-11T14:12:10.126Z"
   },
   {
    "duration": 3,
    "start_time": "2022-01-11T14:12:10.943Z"
   },
   {
    "duration": 3,
    "start_time": "2022-01-11T14:12:11.261Z"
   },
   {
    "duration": 4,
    "start_time": "2022-01-11T14:12:11.535Z"
   },
   {
    "duration": 4,
    "start_time": "2022-01-11T14:12:12.191Z"
   },
   {
    "duration": 3,
    "start_time": "2022-01-11T14:12:17.676Z"
   },
   {
    "duration": 15,
    "start_time": "2022-01-11T14:12:20.701Z"
   },
   {
    "duration": 163,
    "start_time": "2022-01-11T14:12:22.585Z"
   },
   {
    "duration": 318,
    "start_time": "2022-01-11T14:12:49.356Z"
   },
   {
    "duration": 289,
    "start_time": "2022-01-11T14:13:05.761Z"
   },
   {
    "duration": 11,
    "start_time": "2022-01-11T14:13:19.923Z"
   },
   {
    "duration": 12,
    "start_time": "2022-01-11T14:13:32.891Z"
   },
   {
    "duration": 318,
    "start_time": "2022-01-11T14:13:45.706Z"
   },
   {
    "duration": 299,
    "start_time": "2022-01-11T14:13:54.533Z"
   },
   {
    "duration": 13,
    "start_time": "2022-01-11T14:14:07.756Z"
   },
   {
    "duration": 11,
    "start_time": "2022-01-11T14:14:31.896Z"
   },
   {
    "duration": 11,
    "start_time": "2022-01-11T14:14:45.439Z"
   },
   {
    "duration": 7,
    "start_time": "2022-01-11T14:15:41.245Z"
   },
   {
    "duration": 11,
    "start_time": "2022-01-11T14:16:11.533Z"
   },
   {
    "duration": 285,
    "start_time": "2022-01-11T14:16:56.261Z"
   },
   {
    "duration": 19,
    "start_time": "2022-01-11T14:17:04.349Z"
   },
   {
    "duration": 10,
    "start_time": "2022-01-11T14:17:31.988Z"
   },
   {
    "duration": 65,
    "start_time": "2022-01-11T14:17:43.924Z"
   },
   {
    "duration": 127,
    "start_time": "2022-01-11T14:17:43.992Z"
   },
   {
    "duration": 5,
    "start_time": "2022-01-11T14:17:44.122Z"
   },
   {
    "duration": 47,
    "start_time": "2022-01-11T14:17:44.130Z"
   },
   {
    "duration": 15,
    "start_time": "2022-01-11T14:17:44.180Z"
   },
   {
    "duration": 8,
    "start_time": "2022-01-11T14:17:44.198Z"
   },
   {
    "duration": 52,
    "start_time": "2022-01-11T14:17:44.210Z"
   },
   {
    "duration": 6,
    "start_time": "2022-01-11T14:17:44.268Z"
   },
   {
    "duration": 6,
    "start_time": "2022-01-11T14:17:44.278Z"
   },
   {
    "duration": 39,
    "start_time": "2022-01-11T14:17:44.287Z"
   },
   {
    "duration": 7,
    "start_time": "2022-01-11T14:17:44.363Z"
   },
   {
    "duration": 11,
    "start_time": "2022-01-11T14:17:44.373Z"
   },
   {
    "duration": 9,
    "start_time": "2022-01-11T14:17:44.387Z"
   },
   {
    "duration": 11,
    "start_time": "2022-01-11T14:17:44.399Z"
   },
   {
    "duration": 55,
    "start_time": "2022-01-11T14:17:44.412Z"
   },
   {
    "duration": 7,
    "start_time": "2022-01-11T14:17:44.470Z"
   },
   {
    "duration": 8,
    "start_time": "2022-01-11T14:17:44.479Z"
   },
   {
    "duration": 81,
    "start_time": "2022-01-11T14:17:44.489Z"
   },
   {
    "duration": 4,
    "start_time": "2022-01-11T14:17:44.572Z"
   },
   {
    "duration": 6,
    "start_time": "2022-01-11T14:17:44.578Z"
   },
   {
    "duration": 9,
    "start_time": "2022-01-11T14:17:44.586Z"
   },
   {
    "duration": 20,
    "start_time": "2022-01-11T14:17:44.597Z"
   },
   {
    "duration": 7,
    "start_time": "2022-01-11T14:17:44.664Z"
   },
   {
    "duration": 9,
    "start_time": "2022-01-11T14:17:44.674Z"
   },
   {
    "duration": 7,
    "start_time": "2022-01-11T14:17:44.685Z"
   },
   {
    "duration": 6,
    "start_time": "2022-01-11T14:17:44.695Z"
   },
   {
    "duration": 9,
    "start_time": "2022-01-11T14:17:44.703Z"
   },
   {
    "duration": 55,
    "start_time": "2022-01-11T14:17:44.714Z"
   },
   {
    "duration": 8,
    "start_time": "2022-01-11T14:17:44.772Z"
   },
   {
    "duration": 9,
    "start_time": "2022-01-11T14:17:44.782Z"
   },
   {
    "duration": 7,
    "start_time": "2022-01-11T14:17:44.793Z"
   },
   {
    "duration": 8,
    "start_time": "2022-01-11T14:17:44.803Z"
   },
   {
    "duration": 4,
    "start_time": "2022-01-11T14:17:44.865Z"
   },
   {
    "duration": 15,
    "start_time": "2022-01-11T14:17:44.871Z"
   },
   {
    "duration": 8,
    "start_time": "2022-01-11T14:17:44.888Z"
   },
   {
    "duration": 6,
    "start_time": "2022-01-11T14:17:44.899Z"
   },
   {
    "duration": 6,
    "start_time": "2022-01-11T14:17:44.907Z"
   },
   {
    "duration": 50,
    "start_time": "2022-01-11T14:17:44.917Z"
   },
   {
    "duration": 10,
    "start_time": "2022-01-11T14:17:44.969Z"
   },
   {
    "duration": 4,
    "start_time": "2022-01-11T14:17:44.981Z"
   },
   {
    "duration": 6,
    "start_time": "2022-01-11T14:17:44.987Z"
   },
   {
    "duration": 11,
    "start_time": "2022-01-11T14:17:44.996Z"
   },
   {
    "duration": 6,
    "start_time": "2022-01-11T14:17:45.009Z"
   },
   {
    "duration": 54,
    "start_time": "2022-01-11T14:17:45.018Z"
   },
   {
    "duration": 14,
    "start_time": "2022-01-11T14:17:45.075Z"
   },
   {
    "duration": 9,
    "start_time": "2022-01-11T14:17:45.091Z"
   },
   {
    "duration": 5,
    "start_time": "2022-01-11T14:17:45.103Z"
   },
   {
    "duration": 62,
    "start_time": "2022-01-11T14:17:45.110Z"
   },
   {
    "duration": 7,
    "start_time": "2022-01-11T14:17:45.174Z"
   },
   {
    "duration": 21,
    "start_time": "2022-01-11T14:17:45.184Z"
   },
   {
    "duration": 79,
    "start_time": "2022-01-11T14:17:45.208Z"
   },
   {
    "duration": 22,
    "start_time": "2022-01-11T14:17:45.289Z"
   },
   {
    "duration": 3,
    "start_time": "2022-01-11T14:17:45.313Z"
   },
   {
    "duration": 5,
    "start_time": "2022-01-11T14:17:45.319Z"
   },
   {
    "duration": 37,
    "start_time": "2022-01-11T14:17:45.327Z"
   },
   {
    "duration": 3,
    "start_time": "2022-01-11T14:17:45.366Z"
   },
   {
    "duration": 5,
    "start_time": "2022-01-11T14:17:45.372Z"
   },
   {
    "duration": 5,
    "start_time": "2022-01-11T14:17:45.379Z"
   },
   {
    "duration": 4,
    "start_time": "2022-01-11T14:17:45.386Z"
   },
   {
    "duration": 5,
    "start_time": "2022-01-11T14:17:45.393Z"
   },
   {
    "duration": 6,
    "start_time": "2022-01-11T14:17:45.401Z"
   },
   {
    "duration": 53,
    "start_time": "2022-01-11T14:17:45.410Z"
   },
   {
    "duration": 4,
    "start_time": "2022-01-11T14:17:45.465Z"
   },
   {
    "duration": 6,
    "start_time": "2022-01-11T14:17:45.472Z"
   },
   {
    "duration": 5,
    "start_time": "2022-01-11T14:17:45.480Z"
   },
   {
    "duration": 5,
    "start_time": "2022-01-11T14:17:45.488Z"
   },
   {
    "duration": 6,
    "start_time": "2022-01-11T14:17:45.495Z"
   },
   {
    "duration": 3,
    "start_time": "2022-01-11T14:17:45.508Z"
   },
   {
    "duration": 4,
    "start_time": "2022-01-11T14:17:45.514Z"
   },
   {
    "duration": 16,
    "start_time": "2022-01-11T14:17:49.317Z"
   },
   {
    "duration": 163,
    "start_time": "2022-01-11T14:17:51.720Z"
   },
   {
    "duration": 92,
    "start_time": "2022-01-11T14:24:50.490Z"
   },
   {
    "duration": 135,
    "start_time": "2022-01-11T14:24:50.586Z"
   },
   {
    "duration": 6,
    "start_time": "2022-01-11T14:24:50.726Z"
   },
   {
    "duration": 41,
    "start_time": "2022-01-11T14:24:50.735Z"
   },
   {
    "duration": 14,
    "start_time": "2022-01-11T14:24:50.779Z"
   },
   {
    "duration": 6,
    "start_time": "2022-01-11T14:24:50.795Z"
   },
   {
    "duration": 5,
    "start_time": "2022-01-11T14:24:50.804Z"
   },
   {
    "duration": 51,
    "start_time": "2022-01-11T14:24:50.812Z"
   },
   {
    "duration": 7,
    "start_time": "2022-01-11T14:24:50.866Z"
   },
   {
    "duration": 40,
    "start_time": "2022-01-11T14:24:50.875Z"
   },
   {
    "duration": 6,
    "start_time": "2022-01-11T14:24:50.917Z"
   },
   {
    "duration": 41,
    "start_time": "2022-01-11T14:24:50.925Z"
   },
   {
    "duration": 8,
    "start_time": "2022-01-11T14:24:54.339Z"
   },
   {
    "duration": 15,
    "start_time": "2022-01-11T14:25:04.538Z"
   },
   {
    "duration": 13,
    "start_time": "2022-01-11T14:25:19.275Z"
   },
   {
    "duration": 9,
    "start_time": "2022-01-11T14:25:23.443Z"
   },
   {
    "duration": 11,
    "start_time": "2022-01-11T14:25:33.206Z"
   },
   {
    "duration": 9,
    "start_time": "2022-01-11T14:25:57.961Z"
   },
   {
    "duration": 10,
    "start_time": "2022-01-11T14:26:08.233Z"
   },
   {
    "duration": 10,
    "start_time": "2022-01-11T14:26:32.387Z"
   },
   {
    "duration": 158,
    "start_time": "2022-01-11T14:27:09.016Z"
   },
   {
    "duration": 9,
    "start_time": "2022-01-11T14:27:16.824Z"
   },
   {
    "duration": 6,
    "start_time": "2022-01-11T14:27:40.736Z"
   },
   {
    "duration": 8,
    "start_time": "2022-01-11T14:27:54.914Z"
   },
   {
    "duration": 8,
    "start_time": "2022-01-11T14:28:07.871Z"
   },
   {
    "duration": 9,
    "start_time": "2022-01-11T14:28:22.367Z"
   },
   {
    "duration": 71,
    "start_time": "2022-01-11T14:34:41.641Z"
   },
   {
    "duration": 161,
    "start_time": "2022-01-11T14:34:41.715Z"
   },
   {
    "duration": 6,
    "start_time": "2022-01-11T14:34:41.880Z"
   },
   {
    "duration": 22,
    "start_time": "2022-01-11T14:34:41.890Z"
   },
   {
    "duration": 56,
    "start_time": "2022-01-11T14:34:41.915Z"
   },
   {
    "duration": 7,
    "start_time": "2022-01-11T14:34:41.974Z"
   },
   {
    "duration": 8,
    "start_time": "2022-01-11T14:34:41.984Z"
   },
   {
    "duration": 6,
    "start_time": "2022-01-11T14:34:41.994Z"
   },
   {
    "duration": 6,
    "start_time": "2022-01-11T14:34:42.004Z"
   },
   {
    "duration": 81,
    "start_time": "2022-01-11T14:34:42.014Z"
   },
   {
    "duration": 6,
    "start_time": "2022-01-11T14:34:42.098Z"
   },
   {
    "duration": 9,
    "start_time": "2022-01-11T14:34:42.106Z"
   },
   {
    "duration": 46,
    "start_time": "2022-01-11T14:34:42.118Z"
   },
   {
    "duration": 9,
    "start_time": "2022-01-11T14:34:42.167Z"
   },
   {
    "duration": 10,
    "start_time": "2022-01-11T14:34:42.179Z"
   },
   {
    "duration": 8,
    "start_time": "2022-01-11T14:34:42.193Z"
   },
   {
    "duration": 7,
    "start_time": "2022-01-11T14:34:42.204Z"
   },
   {
    "duration": 52,
    "start_time": "2022-01-11T14:34:42.214Z"
   },
   {
    "duration": 67,
    "start_time": "2022-01-11T14:34:42.269Z"
   },
   {
    "duration": 24,
    "start_time": "2022-01-11T14:34:42.339Z"
   },
   {
    "duration": 3,
    "start_time": "2022-01-11T14:34:42.365Z"
   },
   {
    "duration": 9,
    "start_time": "2022-01-11T14:34:42.371Z"
   },
   {
    "duration": 18,
    "start_time": "2022-01-11T14:34:42.382Z"
   },
   {
    "duration": 7,
    "start_time": "2022-01-11T14:34:42.402Z"
   },
   {
    "duration": 53,
    "start_time": "2022-01-11T14:34:42.411Z"
   },
   {
    "duration": 8,
    "start_time": "2022-01-11T14:34:42.466Z"
   },
   {
    "duration": 7,
    "start_time": "2022-01-11T14:34:42.481Z"
   },
   {
    "duration": 9,
    "start_time": "2022-01-11T14:34:42.492Z"
   },
   {
    "duration": 63,
    "start_time": "2022-01-11T14:34:42.503Z"
   },
   {
    "duration": 7,
    "start_time": "2022-01-11T14:34:42.569Z"
   },
   {
    "duration": 9,
    "start_time": "2022-01-11T14:34:42.578Z"
   },
   {
    "duration": 7,
    "start_time": "2022-01-11T14:34:42.589Z"
   },
   {
    "duration": 7,
    "start_time": "2022-01-11T14:34:42.599Z"
   },
   {
    "duration": 4,
    "start_time": "2022-01-11T14:34:42.609Z"
   },
   {
    "duration": 55,
    "start_time": "2022-01-11T14:34:42.615Z"
   },
   {
    "duration": 8,
    "start_time": "2022-01-11T14:34:42.672Z"
   },
   {
    "duration": 6,
    "start_time": "2022-01-11T14:34:42.683Z"
   },
   {
    "duration": 6,
    "start_time": "2022-01-11T14:34:42.692Z"
   },
   {
    "duration": 11,
    "start_time": "2022-01-11T14:34:42.700Z"
   },
   {
    "duration": 60,
    "start_time": "2022-01-11T14:34:42.713Z"
   },
   {
    "duration": 4,
    "start_time": "2022-01-11T14:34:42.777Z"
   },
   {
    "duration": 6,
    "start_time": "2022-01-11T14:34:42.784Z"
   },
   {
    "duration": 12,
    "start_time": "2022-01-11T14:34:42.793Z"
   },
   {
    "duration": 3,
    "start_time": "2022-01-11T14:34:42.808Z"
   },
   {
    "duration": 64,
    "start_time": "2022-01-11T14:34:42.814Z"
   },
   {
    "duration": 10,
    "start_time": "2022-01-11T14:34:42.881Z"
   },
   {
    "duration": 4,
    "start_time": "2022-01-11T14:34:42.893Z"
   },
   {
    "duration": 7,
    "start_time": "2022-01-11T14:34:42.899Z"
   },
   {
    "duration": 68,
    "start_time": "2022-01-11T14:34:42.909Z"
   },
   {
    "duration": 7,
    "start_time": "2022-01-11T14:34:42.979Z"
   },
   {
    "duration": 26,
    "start_time": "2022-01-11T14:34:42.988Z"
   },
   {
    "duration": 83,
    "start_time": "2022-01-11T14:34:43.016Z"
   },
   {
    "duration": 23,
    "start_time": "2022-01-11T14:34:43.101Z"
   },
   {
    "duration": 3,
    "start_time": "2022-01-11T14:34:43.126Z"
   },
   {
    "duration": 32,
    "start_time": "2022-01-11T14:34:43.132Z"
   },
   {
    "duration": 7,
    "start_time": "2022-01-11T14:34:43.167Z"
   },
   {
    "duration": 4,
    "start_time": "2022-01-11T14:34:43.176Z"
   },
   {
    "duration": 6,
    "start_time": "2022-01-11T14:34:43.182Z"
   },
   {
    "duration": 4,
    "start_time": "2022-01-11T14:34:43.191Z"
   },
   {
    "duration": 4,
    "start_time": "2022-01-11T14:34:43.199Z"
   },
   {
    "duration": 4,
    "start_time": "2022-01-11T14:34:43.206Z"
   },
   {
    "duration": 4,
    "start_time": "2022-01-11T14:34:43.264Z"
   },
   {
    "duration": 5,
    "start_time": "2022-01-11T14:34:43.271Z"
   },
   {
    "duration": 4,
    "start_time": "2022-01-11T14:34:43.279Z"
   },
   {
    "duration": 5,
    "start_time": "2022-01-11T14:34:43.286Z"
   },
   {
    "duration": 5,
    "start_time": "2022-01-11T14:34:43.293Z"
   },
   {
    "duration": 5,
    "start_time": "2022-01-11T14:34:43.301Z"
   },
   {
    "duration": 58,
    "start_time": "2022-01-11T14:34:43.308Z"
   },
   {
    "duration": 5,
    "start_time": "2022-01-11T14:34:43.369Z"
   },
   {
    "duration": 6,
    "start_time": "2022-01-11T14:34:43.377Z"
   },
   {
    "duration": 20,
    "start_time": "2022-01-11T14:34:43.385Z"
   },
   {
    "duration": 16,
    "start_time": "2022-01-11T14:35:01.384Z"
   },
   {
    "duration": 16,
    "start_time": "2022-01-11T14:35:15.503Z"
   },
   {
    "duration": 161,
    "start_time": "2022-01-11T14:35:18.458Z"
   },
   {
    "duration": 7,
    "start_time": "2022-01-11T14:35:23.328Z"
   },
   {
    "duration": 17,
    "start_time": "2022-01-11T14:35:24.570Z"
   },
   {
    "duration": 7,
    "start_time": "2022-01-11T14:37:41.109Z"
   },
   {
    "duration": 299,
    "start_time": "2022-01-11T14:52:20.435Z"
   },
   {
    "duration": 68,
    "start_time": "2022-01-11T14:52:29.728Z"
   },
   {
    "duration": 123,
    "start_time": "2022-01-11T14:52:29.799Z"
   },
   {
    "duration": 5,
    "start_time": "2022-01-11T14:52:29.925Z"
   },
   {
    "duration": 46,
    "start_time": "2022-01-11T14:52:29.932Z"
   },
   {
    "duration": 15,
    "start_time": "2022-01-11T14:52:29.981Z"
   },
   {
    "duration": 6,
    "start_time": "2022-01-11T14:52:29.998Z"
   },
   {
    "duration": 9,
    "start_time": "2022-01-11T14:52:30.007Z"
   },
   {
    "duration": 44,
    "start_time": "2022-01-11T14:52:30.020Z"
   },
   {
    "duration": 11,
    "start_time": "2022-01-11T14:52:30.067Z"
   },
   {
    "duration": 41,
    "start_time": "2022-01-11T14:52:30.080Z"
   },
   {
    "duration": 7,
    "start_time": "2022-01-11T14:52:30.124Z"
   },
   {
    "duration": 34,
    "start_time": "2022-01-11T14:52:30.133Z"
   },
   {
    "duration": 17,
    "start_time": "2022-01-11T14:52:30.170Z"
   },
   {
    "duration": 10,
    "start_time": "2022-01-11T14:52:30.189Z"
   },
   {
    "duration": 19,
    "start_time": "2022-01-11T14:52:30.201Z"
   },
   {
    "duration": 14,
    "start_time": "2022-01-11T14:52:30.222Z"
   },
   {
    "duration": 5,
    "start_time": "2022-01-11T14:52:30.263Z"
   },
   {
    "duration": 16,
    "start_time": "2022-01-11T14:52:30.271Z"
   },
   {
    "duration": 57,
    "start_time": "2022-01-11T14:52:30.289Z"
   },
   {
    "duration": 3,
    "start_time": "2022-01-11T14:52:30.348Z"
   },
   {
    "duration": 3,
    "start_time": "2022-01-11T14:52:30.363Z"
   },
   {
    "duration": 23,
    "start_time": "2022-01-11T14:52:30.368Z"
   },
   {
    "duration": 19,
    "start_time": "2022-01-11T14:52:30.396Z"
   },
   {
    "duration": 16,
    "start_time": "2022-01-11T14:52:30.418Z"
   },
   {
    "duration": 28,
    "start_time": "2022-01-11T14:52:30.436Z"
   },
   {
    "duration": 9,
    "start_time": "2022-01-11T14:52:30.466Z"
   },
   {
    "duration": 11,
    "start_time": "2022-01-11T14:52:30.478Z"
   },
   {
    "duration": 11,
    "start_time": "2022-01-11T14:52:30.492Z"
   },
   {
    "duration": 21,
    "start_time": "2022-01-11T14:52:30.506Z"
   },
   {
    "duration": 36,
    "start_time": "2022-01-11T14:52:30.529Z"
   },
   {
    "duration": 25,
    "start_time": "2022-01-11T14:52:30.567Z"
   },
   {
    "duration": 10,
    "start_time": "2022-01-11T14:52:30.594Z"
   },
   {
    "duration": 22,
    "start_time": "2022-01-11T14:52:30.607Z"
   },
   {
    "duration": 6,
    "start_time": "2022-01-11T14:52:30.631Z"
   },
   {
    "duration": 13,
    "start_time": "2022-01-11T14:52:30.639Z"
   },
   {
    "duration": 12,
    "start_time": "2022-01-11T14:52:30.654Z"
   },
   {
    "duration": 10,
    "start_time": "2022-01-11T14:52:30.668Z"
   },
   {
    "duration": 13,
    "start_time": "2022-01-11T14:52:30.680Z"
   },
   {
    "duration": 15,
    "start_time": "2022-01-11T14:52:30.695Z"
   },
   {
    "duration": 13,
    "start_time": "2022-01-11T14:52:30.712Z"
   },
   {
    "duration": 9,
    "start_time": "2022-01-11T14:52:30.727Z"
   },
   {
    "duration": 18,
    "start_time": "2022-01-11T14:52:30.764Z"
   },
   {
    "duration": 14,
    "start_time": "2022-01-11T14:52:30.784Z"
   },
   {
    "duration": 5,
    "start_time": "2022-01-11T14:52:30.800Z"
   },
   {
    "duration": 22,
    "start_time": "2022-01-11T14:52:30.807Z"
   },
   {
    "duration": 9,
    "start_time": "2022-01-11T14:52:30.832Z"
   },
   {
    "duration": 21,
    "start_time": "2022-01-11T14:52:30.843Z"
   },
   {
    "duration": 21,
    "start_time": "2022-01-11T14:52:30.866Z"
   },
   {
    "duration": 50,
    "start_time": "2022-01-11T14:52:30.889Z"
   },
   {
    "duration": 8,
    "start_time": "2022-01-11T14:52:30.941Z"
   },
   {
    "duration": 51,
    "start_time": "2022-01-11T14:52:30.952Z"
   },
   {
    "duration": 54,
    "start_time": "2022-01-11T14:52:31.006Z"
   },
   {
    "duration": 23,
    "start_time": "2022-01-11T14:52:31.063Z"
   },
   {
    "duration": 4,
    "start_time": "2022-01-11T14:52:31.089Z"
   },
   {
    "duration": 23,
    "start_time": "2022-01-11T14:52:31.095Z"
   },
   {
    "duration": 24,
    "start_time": "2022-01-11T14:52:31.120Z"
   },
   {
    "duration": 16,
    "start_time": "2022-01-11T14:52:31.146Z"
   },
   {
    "duration": 285,
    "start_time": "2022-01-11T14:52:34.740Z"
   },
   {
    "duration": 13,
    "start_time": "2022-01-11T14:53:40.617Z"
   },
   {
    "duration": 11,
    "start_time": "2022-01-11T14:54:04.280Z"
   },
   {
    "duration": 11,
    "start_time": "2022-01-11T14:54:44.383Z"
   },
   {
    "duration": 10,
    "start_time": "2022-01-11T14:55:11.182Z"
   },
   {
    "duration": 358,
    "start_time": "2022-01-11T14:56:25.533Z"
   },
   {
    "duration": 352,
    "start_time": "2022-01-11T14:56:54.452Z"
   },
   {
    "duration": 11,
    "start_time": "2022-01-11T14:57:21.557Z"
   },
   {
    "duration": 11,
    "start_time": "2022-01-11T14:57:44.972Z"
   },
   {
    "duration": 325,
    "start_time": "2022-01-11T14:59:17.417Z"
   },
   {
    "duration": 11,
    "start_time": "2022-01-11T15:01:58.606Z"
   },
   {
    "duration": 345,
    "start_time": "2022-01-11T15:03:21.733Z"
   },
   {
    "duration": 3,
    "start_time": "2022-01-11T15:03:24.964Z"
   },
   {
    "duration": 4,
    "start_time": "2022-01-11T15:03:27.630Z"
   },
   {
    "duration": 5,
    "start_time": "2022-01-11T15:03:28.518Z"
   },
   {
    "duration": 4,
    "start_time": "2022-01-11T15:05:11.204Z"
   },
   {
    "duration": 5,
    "start_time": "2022-01-11T15:05:11.932Z"
   },
   {
    "duration": 679,
    "start_time": "2022-01-11T15:06:14.999Z"
   },
   {
    "duration": 558,
    "start_time": "2022-01-11T15:07:09.450Z"
   },
   {
    "duration": 622,
    "start_time": "2022-01-11T15:12:17.929Z"
   },
   {
    "duration": 611,
    "start_time": "2022-01-11T15:27:54.399Z"
   },
   {
    "duration": 668,
    "start_time": "2022-01-11T15:28:17.054Z"
   },
   {
    "duration": 837,
    "start_time": "2022-01-11T15:28:37.703Z"
   },
   {
    "duration": 69,
    "start_time": "2022-01-11T15:28:48.296Z"
   },
   {
    "duration": 108,
    "start_time": "2022-01-11T15:28:48.368Z"
   },
   {
    "duration": 5,
    "start_time": "2022-01-11T15:28:48.480Z"
   },
   {
    "duration": 27,
    "start_time": "2022-01-11T15:28:48.488Z"
   },
   {
    "duration": 28,
    "start_time": "2022-01-11T15:28:48.518Z"
   },
   {
    "duration": 19,
    "start_time": "2022-01-11T15:28:48.549Z"
   },
   {
    "duration": 11,
    "start_time": "2022-01-11T15:28:48.570Z"
   },
   {
    "duration": 6,
    "start_time": "2022-01-11T15:28:48.584Z"
   },
   {
    "duration": 14,
    "start_time": "2022-01-11T15:28:48.592Z"
   },
   {
    "duration": 63,
    "start_time": "2022-01-11T15:28:48.608Z"
   },
   {
    "duration": 7,
    "start_time": "2022-01-11T15:28:48.674Z"
   },
   {
    "duration": 14,
    "start_time": "2022-01-11T15:28:48.683Z"
   },
   {
    "duration": 15,
    "start_time": "2022-01-11T15:28:48.700Z"
   },
   {
    "duration": 16,
    "start_time": "2022-01-11T15:28:48.718Z"
   },
   {
    "duration": 34,
    "start_time": "2022-01-11T15:28:48.736Z"
   },
   {
    "duration": 32,
    "start_time": "2022-01-11T15:28:48.772Z"
   },
   {
    "duration": 21,
    "start_time": "2022-01-11T15:28:48.806Z"
   },
   {
    "duration": 52,
    "start_time": "2022-01-11T15:28:48.829Z"
   },
   {
    "duration": 2,
    "start_time": "2022-01-11T15:28:48.884Z"
   },
   {
    "duration": 16,
    "start_time": "2022-01-11T15:28:48.889Z"
   },
   {
    "duration": 23,
    "start_time": "2022-01-11T15:28:48.907Z"
   },
   {
    "duration": 35,
    "start_time": "2022-01-11T15:28:48.932Z"
   },
   {
    "duration": 16,
    "start_time": "2022-01-11T15:28:48.973Z"
   },
   {
    "duration": 21,
    "start_time": "2022-01-11T15:28:48.992Z"
   },
   {
    "duration": 10,
    "start_time": "2022-01-11T15:28:49.016Z"
   },
   {
    "duration": 20,
    "start_time": "2022-01-11T15:28:49.029Z"
   },
   {
    "duration": 18,
    "start_time": "2022-01-11T15:28:49.052Z"
   },
   {
    "duration": 22,
    "start_time": "2022-01-11T15:28:49.073Z"
   },
   {
    "duration": 16,
    "start_time": "2022-01-11T15:28:49.098Z"
   },
   {
    "duration": 15,
    "start_time": "2022-01-11T15:28:49.117Z"
   },
   {
    "duration": 26,
    "start_time": "2022-01-11T15:28:49.135Z"
   },
   {
    "duration": 13,
    "start_time": "2022-01-11T15:28:49.164Z"
   },
   {
    "duration": 17,
    "start_time": "2022-01-11T15:28:49.180Z"
   },
   {
    "duration": 44,
    "start_time": "2022-01-11T15:28:49.200Z"
   },
   {
    "duration": 10,
    "start_time": "2022-01-11T15:28:49.247Z"
   },
   {
    "duration": 6,
    "start_time": "2022-01-11T15:28:49.261Z"
   },
   {
    "duration": 10,
    "start_time": "2022-01-11T15:28:49.270Z"
   },
   {
    "duration": 13,
    "start_time": "2022-01-11T15:28:49.283Z"
   },
   {
    "duration": 10,
    "start_time": "2022-01-11T15:28:49.299Z"
   },
   {
    "duration": 20,
    "start_time": "2022-01-11T15:28:49.311Z"
   },
   {
    "duration": 15,
    "start_time": "2022-01-11T15:28:49.333Z"
   },
   {
    "duration": 20,
    "start_time": "2022-01-11T15:28:49.351Z"
   },
   {
    "duration": 9,
    "start_time": "2022-01-11T15:28:49.374Z"
   },
   {
    "duration": 26,
    "start_time": "2022-01-11T15:28:49.385Z"
   },
   {
    "duration": 9,
    "start_time": "2022-01-11T15:28:49.414Z"
   },
   {
    "duration": 37,
    "start_time": "2022-01-11T15:28:49.426Z"
   },
   {
    "duration": 6,
    "start_time": "2022-01-11T15:28:49.465Z"
   },
   {
    "duration": 31,
    "start_time": "2022-01-11T15:28:49.474Z"
   },
   {
    "duration": 6,
    "start_time": "2022-01-11T15:28:49.507Z"
   },
   {
    "duration": 49,
    "start_time": "2022-01-11T15:28:49.515Z"
   },
   {
    "duration": 47,
    "start_time": "2022-01-11T15:28:49.566Z"
   },
   {
    "duration": 22,
    "start_time": "2022-01-11T15:28:49.616Z"
   },
   {
    "duration": 4,
    "start_time": "2022-01-11T15:28:49.662Z"
   },
   {
    "duration": 28,
    "start_time": "2022-01-11T15:28:49.668Z"
   },
   {
    "duration": 27,
    "start_time": "2022-01-11T15:28:49.699Z"
   },
   {
    "duration": 11,
    "start_time": "2022-01-11T15:28:49.729Z"
   },
   {
    "duration": 12,
    "start_time": "2022-01-11T15:28:49.743Z"
   },
   {
    "duration": 21,
    "start_time": "2022-01-11T15:28:49.758Z"
   },
   {
    "duration": 5,
    "start_time": "2022-01-11T15:28:54.856Z"
   },
   {
    "duration": 1516,
    "start_time": "2022-01-11T15:28:55.798Z"
   },
   {
    "duration": 12,
    "start_time": "2022-01-11T15:39:39.081Z"
   },
   {
    "duration": 54,
    "start_time": "2022-01-11T15:40:15.896Z"
   },
   {
    "duration": 13,
    "start_time": "2022-01-11T15:40:24.888Z"
   },
   {
    "duration": 64,
    "start_time": "2022-01-11T15:40:44.376Z"
   },
   {
    "duration": 12,
    "start_time": "2022-01-11T15:55:24.670Z"
   },
   {
    "duration": 77,
    "start_time": "2022-01-11T15:55:31.990Z"
   },
   {
    "duration": 17,
    "start_time": "2022-01-11T15:55:45.918Z"
   },
   {
    "duration": 7,
    "start_time": "2022-01-11T15:56:12.548Z"
   },
   {
    "duration": 14,
    "start_time": "2022-01-11T15:57:27.500Z"
   },
   {
    "duration": 73,
    "start_time": "2022-01-11T16:01:41.605Z"
   },
   {
    "duration": 129,
    "start_time": "2022-01-11T16:01:41.681Z"
   },
   {
    "duration": 5,
    "start_time": "2022-01-11T16:01:41.814Z"
   },
   {
    "duration": 53,
    "start_time": "2022-01-11T16:01:41.822Z"
   },
   {
    "duration": 16,
    "start_time": "2022-01-11T16:01:41.878Z"
   },
   {
    "duration": 6,
    "start_time": "2022-01-11T16:01:41.897Z"
   },
   {
    "duration": 6,
    "start_time": "2022-01-11T16:01:41.905Z"
   },
   {
    "duration": 50,
    "start_time": "2022-01-11T16:01:41.915Z"
   },
   {
    "duration": 6,
    "start_time": "2022-01-11T16:01:41.968Z"
   },
   {
    "duration": 34,
    "start_time": "2022-01-11T16:01:41.977Z"
   },
   {
    "duration": 6,
    "start_time": "2022-01-11T16:01:42.014Z"
   },
   {
    "duration": 48,
    "start_time": "2022-01-11T16:01:42.023Z"
   },
   {
    "duration": 12,
    "start_time": "2022-01-11T16:01:42.074Z"
   },
   {
    "duration": 7,
    "start_time": "2022-01-11T16:01:42.088Z"
   },
   {
    "duration": 11,
    "start_time": "2022-01-11T16:01:42.098Z"
   },
   {
    "duration": 58,
    "start_time": "2022-01-11T16:01:42.112Z"
   },
   {
    "duration": 6,
    "start_time": "2022-01-11T16:01:42.173Z"
   },
   {
    "duration": 81,
    "start_time": "2022-01-11T16:01:42.182Z"
   },
   {
    "duration": 3,
    "start_time": "2022-01-11T16:01:42.265Z"
   },
   {
    "duration": 5,
    "start_time": "2022-01-11T16:01:42.270Z"
   },
   {
    "duration": 8,
    "start_time": "2022-01-11T16:01:42.278Z"
   },
   {
    "duration": 20,
    "start_time": "2022-01-11T16:01:42.288Z"
   },
   {
    "duration": 7,
    "start_time": "2022-01-11T16:01:42.314Z"
   },
   {
    "duration": 45,
    "start_time": "2022-01-11T16:01:42.324Z"
   },
   {
    "duration": 7,
    "start_time": "2022-01-11T16:01:42.371Z"
   },
   {
    "duration": 6,
    "start_time": "2022-01-11T16:01:42.381Z"
   },
   {
    "duration": 9,
    "start_time": "2022-01-11T16:01:42.390Z"
   },
   {
    "duration": 66,
    "start_time": "2022-01-11T16:01:42.401Z"
   },
   {
    "duration": 7,
    "start_time": "2022-01-11T16:01:42.469Z"
   },
   {
    "duration": 12,
    "start_time": "2022-01-11T16:01:42.479Z"
   },
   {
    "duration": 5,
    "start_time": "2022-01-11T16:01:42.494Z"
   },
   {
    "duration": 8,
    "start_time": "2022-01-11T16:01:42.501Z"
   },
   {
    "duration": 4,
    "start_time": "2022-01-11T16:01:42.511Z"
   },
   {
    "duration": 51,
    "start_time": "2022-01-11T16:01:42.517Z"
   },
   {
    "duration": 8,
    "start_time": "2022-01-11T16:01:42.570Z"
   },
   {
    "duration": 7,
    "start_time": "2022-01-11T16:01:42.581Z"
   },
   {
    "duration": 6,
    "start_time": "2022-01-11T16:01:42.590Z"
   },
   {
    "duration": 10,
    "start_time": "2022-01-11T16:01:42.598Z"
   },
   {
    "duration": 54,
    "start_time": "2022-01-11T16:01:42.610Z"
   },
   {
    "duration": 3,
    "start_time": "2022-01-11T16:01:42.667Z"
   },
   {
    "duration": 12,
    "start_time": "2022-01-11T16:01:42.673Z"
   },
   {
    "duration": 11,
    "start_time": "2022-01-11T16:01:42.687Z"
   },
   {
    "duration": 11,
    "start_time": "2022-01-11T16:01:42.701Z"
   },
   {
    "duration": 24,
    "start_time": "2022-01-11T16:01:42.714Z"
   },
   {
    "duration": 31,
    "start_time": "2022-01-11T16:01:42.740Z"
   },
   {
    "duration": 26,
    "start_time": "2022-01-11T16:01:42.773Z"
   },
   {
    "duration": 30,
    "start_time": "2022-01-11T16:01:42.801Z"
   },
   {
    "duration": 65,
    "start_time": "2022-01-11T16:01:42.833Z"
   },
   {
    "duration": 7,
    "start_time": "2022-01-11T16:01:42.901Z"
   },
   {
    "duration": 37,
    "start_time": "2022-01-11T16:01:42.910Z"
   },
   {
    "duration": 47,
    "start_time": "2022-01-11T16:01:42.950Z"
   },
   {
    "duration": 21,
    "start_time": "2022-01-11T16:01:42.999Z"
   },
   {
    "duration": 2,
    "start_time": "2022-01-11T16:01:43.023Z"
   },
   {
    "duration": 25,
    "start_time": "2022-01-11T16:01:43.028Z"
   },
   {
    "duration": 17,
    "start_time": "2022-01-11T16:01:43.063Z"
   },
   {
    "duration": 11,
    "start_time": "2022-01-11T16:01:43.082Z"
   },
   {
    "duration": 12,
    "start_time": "2022-01-11T16:01:43.095Z"
   },
   {
    "duration": 21,
    "start_time": "2022-01-11T16:01:43.109Z"
   },
   {
    "duration": 11,
    "start_time": "2022-01-11T16:01:43.132Z"
   },
   {
    "duration": 18,
    "start_time": "2022-01-11T16:01:43.146Z"
   },
   {
    "duration": 14,
    "start_time": "2022-01-11T16:01:43.167Z"
   },
   {
    "duration": 8,
    "start_time": "2022-01-11T16:01:43.184Z"
   },
   {
    "duration": 5,
    "start_time": "2022-01-11T16:01:43.194Z"
   },
   {
    "duration": 5,
    "start_time": "2022-01-11T16:01:43.201Z"
   },
   {
    "duration": 6,
    "start_time": "2022-01-11T16:01:43.208Z"
   },
   {
    "duration": 5,
    "start_time": "2022-01-11T16:01:43.216Z"
   },
   {
    "duration": 6,
    "start_time": "2022-01-11T16:01:43.223Z"
   },
   {
    "duration": 3,
    "start_time": "2022-01-11T16:01:43.266Z"
   },
   {
    "duration": 4,
    "start_time": "2022-01-11T16:01:43.272Z"
   },
   {
    "duration": 6,
    "start_time": "2022-01-11T16:01:43.278Z"
   },
   {
    "duration": 22,
    "start_time": "2022-01-11T16:01:43.286Z"
   },
   {
    "duration": 194,
    "start_time": "2022-01-11T16:01:43.311Z"
   },
   {
    "duration": 7,
    "start_time": "2022-01-11T16:01:43.507Z"
   },
   {
    "duration": 22,
    "start_time": "2022-01-11T16:01:43.516Z"
   },
   {
    "duration": 2,
    "start_time": "2022-01-11T16:01:43.564Z"
   },
   {
    "duration": 10,
    "start_time": "2022-01-11T16:01:43.569Z"
   },
   {
    "duration": 14,
    "start_time": "2022-01-11T16:01:43.581Z"
   },
   {
    "duration": 11,
    "start_time": "2022-01-11T16:01:43.597Z"
   },
   {
    "duration": 10,
    "start_time": "2022-01-11T16:01:43.610Z"
   },
   {
    "duration": 12,
    "start_time": "2022-01-11T16:01:43.622Z"
   },
   {
    "duration": 13,
    "start_time": "2022-01-11T16:01:43.636Z"
   },
   {
    "duration": 7,
    "start_time": "2022-01-11T16:01:43.652Z"
   },
   {
    "duration": 9,
    "start_time": "2022-01-11T16:01:43.662Z"
   },
   {
    "duration": 11,
    "start_time": "2022-01-11T16:01:43.673Z"
   },
   {
    "duration": 8,
    "start_time": "2022-01-11T16:01:43.686Z"
   },
   {
    "duration": 10,
    "start_time": "2022-01-11T16:01:43.697Z"
   },
   {
    "duration": 5,
    "start_time": "2022-01-11T16:01:43.709Z"
   },
   {
    "duration": 12,
    "start_time": "2022-01-11T16:01:43.716Z"
   },
   {
    "duration": 24,
    "start_time": "2022-01-11T16:01:43.730Z"
   },
   {
    "duration": 7,
    "start_time": "2022-01-11T16:01:43.757Z"
   },
   {
    "duration": 5,
    "start_time": "2022-01-11T16:01:43.766Z"
   },
   {
    "duration": 19,
    "start_time": "2022-01-11T16:01:43.773Z"
   },
   {
    "duration": 10,
    "start_time": "2022-01-11T16:09:10.139Z"
   },
   {
    "duration": 9,
    "start_time": "2022-01-11T16:09:34.782Z"
   },
   {
    "duration": 9,
    "start_time": "2022-01-11T16:10:05.351Z"
   },
   {
    "duration": 8,
    "start_time": "2022-01-11T16:10:11.756Z"
   },
   {
    "duration": 69,
    "start_time": "2022-01-11T16:35:20.406Z"
   },
   {
    "duration": 119,
    "start_time": "2022-01-11T16:35:20.477Z"
   },
   {
    "duration": 6,
    "start_time": "2022-01-11T16:35:20.599Z"
   },
   {
    "duration": 71,
    "start_time": "2022-01-11T16:35:20.608Z"
   },
   {
    "duration": 15,
    "start_time": "2022-01-11T16:35:20.682Z"
   },
   {
    "duration": 8,
    "start_time": "2022-01-11T16:35:20.699Z"
   },
   {
    "duration": 8,
    "start_time": "2022-01-11T16:35:20.709Z"
   },
   {
    "duration": 50,
    "start_time": "2022-01-11T16:35:20.719Z"
   },
   {
    "duration": 5,
    "start_time": "2022-01-11T16:35:20.774Z"
   },
   {
    "duration": 36,
    "start_time": "2022-01-11T16:35:20.782Z"
   },
   {
    "duration": 48,
    "start_time": "2022-01-11T16:35:20.820Z"
   },
   {
    "duration": 10,
    "start_time": "2022-01-11T16:35:20.870Z"
   },
   {
    "duration": 10,
    "start_time": "2022-01-11T16:35:20.882Z"
   },
   {
    "duration": 8,
    "start_time": "2022-01-11T16:35:20.894Z"
   },
   {
    "duration": 8,
    "start_time": "2022-01-11T16:35:20.905Z"
   },
   {
    "duration": 8,
    "start_time": "2022-01-11T16:35:20.963Z"
   },
   {
    "duration": 7,
    "start_time": "2022-01-11T16:35:20.974Z"
   },
   {
    "duration": 80,
    "start_time": "2022-01-11T16:35:20.984Z"
   },
   {
    "duration": 3,
    "start_time": "2022-01-11T16:35:21.066Z"
   },
   {
    "duration": 5,
    "start_time": "2022-01-11T16:35:21.071Z"
   },
   {
    "duration": 9,
    "start_time": "2022-01-11T16:35:21.078Z"
   },
   {
    "duration": 17,
    "start_time": "2022-01-11T16:35:21.090Z"
   },
   {
    "duration": 6,
    "start_time": "2022-01-11T16:35:21.110Z"
   },
   {
    "duration": 49,
    "start_time": "2022-01-11T16:35:21.120Z"
   },
   {
    "duration": 8,
    "start_time": "2022-01-11T16:35:21.172Z"
   },
   {
    "duration": 9,
    "start_time": "2022-01-11T16:35:21.183Z"
   },
   {
    "duration": 9,
    "start_time": "2022-01-11T16:35:21.199Z"
   },
   {
    "duration": 55,
    "start_time": "2022-01-11T16:35:21.212Z"
   },
   {
    "duration": 7,
    "start_time": "2022-01-11T16:35:21.269Z"
   },
   {
    "duration": 9,
    "start_time": "2022-01-11T16:35:21.278Z"
   },
   {
    "duration": 6,
    "start_time": "2022-01-11T16:35:21.290Z"
   },
   {
    "duration": 10,
    "start_time": "2022-01-11T16:35:21.299Z"
   },
   {
    "duration": 5,
    "start_time": "2022-01-11T16:35:21.311Z"
   },
   {
    "duration": 11,
    "start_time": "2022-01-11T16:35:21.364Z"
   },
   {
    "duration": 8,
    "start_time": "2022-01-11T16:35:21.377Z"
   },
   {
    "duration": 20,
    "start_time": "2022-01-11T16:35:21.388Z"
   },
   {
    "duration": 6,
    "start_time": "2022-01-11T16:35:21.411Z"
   },
   {
    "duration": 46,
    "start_time": "2022-01-11T16:35:21.420Z"
   },
   {
    "duration": 11,
    "start_time": "2022-01-11T16:35:21.468Z"
   },
   {
    "duration": 3,
    "start_time": "2022-01-11T16:35:21.481Z"
   },
   {
    "duration": 4,
    "start_time": "2022-01-11T16:35:21.487Z"
   },
   {
    "duration": 10,
    "start_time": "2022-01-11T16:35:21.493Z"
   },
   {
    "duration": 3,
    "start_time": "2022-01-11T16:35:21.506Z"
   },
   {
    "duration": 63,
    "start_time": "2022-01-11T16:35:21.511Z"
   },
   {
    "duration": 11,
    "start_time": "2022-01-11T16:35:21.577Z"
   },
   {
    "duration": 4,
    "start_time": "2022-01-11T16:35:21.590Z"
   },
   {
    "duration": 4,
    "start_time": "2022-01-11T16:35:21.596Z"
   },
   {
    "duration": 67,
    "start_time": "2022-01-11T16:35:21.603Z"
   },
   {
    "duration": 9,
    "start_time": "2022-01-11T16:35:21.672Z"
   },
   {
    "duration": 25,
    "start_time": "2022-01-11T16:35:21.684Z"
   },
   {
    "duration": 88,
    "start_time": "2022-01-11T16:35:21.712Z"
   },
   {
    "duration": 23,
    "start_time": "2022-01-11T16:35:21.802Z"
   },
   {
    "duration": 3,
    "start_time": "2022-01-11T16:35:21.828Z"
   },
   {
    "duration": 4,
    "start_time": "2022-01-11T16:35:21.834Z"
   },
   {
    "duration": 6,
    "start_time": "2022-01-11T16:35:21.863Z"
   },
   {
    "duration": 4,
    "start_time": "2022-01-11T16:35:21.871Z"
   },
   {
    "duration": 4,
    "start_time": "2022-01-11T16:35:21.878Z"
   },
   {
    "duration": 4,
    "start_time": "2022-01-11T16:35:21.884Z"
   },
   {
    "duration": 6,
    "start_time": "2022-01-11T16:35:21.890Z"
   },
   {
    "duration": 14,
    "start_time": "2022-01-11T16:35:21.898Z"
   },
   {
    "duration": 13,
    "start_time": "2022-01-11T16:35:21.963Z"
   },
   {
    "duration": 3,
    "start_time": "2022-01-11T16:35:21.979Z"
   },
   {
    "duration": 5,
    "start_time": "2022-01-11T16:35:21.985Z"
   },
   {
    "duration": 7,
    "start_time": "2022-01-11T16:35:21.992Z"
   },
   {
    "duration": 8,
    "start_time": "2022-01-11T16:35:22.002Z"
   },
   {
    "duration": 8,
    "start_time": "2022-01-11T16:35:22.012Z"
   },
   {
    "duration": 42,
    "start_time": "2022-01-11T16:35:22.022Z"
   },
   {
    "duration": 9,
    "start_time": "2022-01-11T16:35:22.067Z"
   },
   {
    "duration": 5,
    "start_time": "2022-01-11T16:35:22.079Z"
   },
   {
    "duration": 8,
    "start_time": "2022-01-11T16:35:22.087Z"
   },
   {
    "duration": 27,
    "start_time": "2022-01-11T16:35:22.098Z"
   },
   {
    "duration": 196,
    "start_time": "2022-01-11T16:35:22.128Z"
   },
   {
    "duration": 7,
    "start_time": "2022-01-11T16:35:22.327Z"
   },
   {
    "duration": 18,
    "start_time": "2022-01-11T16:35:22.362Z"
   },
   {
    "duration": 3,
    "start_time": "2022-01-11T16:35:22.384Z"
   },
   {
    "duration": 5,
    "start_time": "2022-01-11T16:35:22.389Z"
   },
   {
    "duration": 6,
    "start_time": "2022-01-11T16:35:22.397Z"
   },
   {
    "duration": 5,
    "start_time": "2022-01-11T16:35:22.405Z"
   },
   {
    "duration": 17,
    "start_time": "2022-01-11T16:35:22.413Z"
   },
   {
    "duration": 34,
    "start_time": "2022-01-11T16:35:22.432Z"
   },
   {
    "duration": 3,
    "start_time": "2022-01-11T16:35:22.475Z"
   },
   {
    "duration": 5,
    "start_time": "2022-01-11T16:35:22.481Z"
   },
   {
    "duration": 5,
    "start_time": "2022-01-11T16:35:22.489Z"
   },
   {
    "duration": 9,
    "start_time": "2022-01-11T16:35:22.496Z"
   },
   {
    "duration": 8,
    "start_time": "2022-01-11T16:35:22.507Z"
   },
   {
    "duration": 5,
    "start_time": "2022-01-11T16:35:22.518Z"
   },
   {
    "duration": 40,
    "start_time": "2022-01-11T16:35:22.525Z"
   },
   {
    "duration": 4,
    "start_time": "2022-01-11T16:35:22.568Z"
   },
   {
    "duration": 5,
    "start_time": "2022-01-11T16:35:22.575Z"
   },
   {
    "duration": 6,
    "start_time": "2022-01-11T16:35:22.582Z"
   },
   {
    "duration": 5,
    "start_time": "2022-01-11T16:35:22.591Z"
   },
   {
    "duration": 4,
    "start_time": "2022-01-11T16:35:22.599Z"
   },
   {
    "duration": 3,
    "start_time": "2022-01-11T16:55:45.126Z"
   },
   {
    "duration": 4,
    "start_time": "2022-01-11T16:58:56.042Z"
   },
   {
    "duration": 7335,
    "start_time": "2022-01-11T17:06:14.337Z"
   },
   {
    "duration": 7933,
    "start_time": "2022-01-11T17:07:08.546Z"
   },
   {
    "duration": 7360,
    "start_time": "2022-01-11T17:07:58.488Z"
   },
   {
    "duration": 8258,
    "start_time": "2022-01-11T17:08:47.127Z"
   },
   {
    "duration": 453,
    "start_time": "2022-01-11T18:52:08.564Z"
   },
   {
    "duration": 1031,
    "start_time": "2022-01-11T18:52:18.672Z"
   },
   {
    "duration": 116,
    "start_time": "2022-01-11T18:52:19.705Z"
   },
   {
    "duration": 5,
    "start_time": "2022-01-11T18:52:19.824Z"
   },
   {
    "duration": 44,
    "start_time": "2022-01-11T18:52:19.832Z"
   },
   {
    "duration": 13,
    "start_time": "2022-01-11T18:52:19.879Z"
   },
   {
    "duration": 6,
    "start_time": "2022-01-11T18:52:19.895Z"
   },
   {
    "duration": 6,
    "start_time": "2022-01-11T18:52:19.903Z"
   },
   {
    "duration": 5,
    "start_time": "2022-01-11T18:52:19.913Z"
   },
   {
    "duration": 6,
    "start_time": "2022-01-11T18:52:19.964Z"
   },
   {
    "duration": 39,
    "start_time": "2022-01-11T18:52:19.973Z"
   },
   {
    "duration": 6,
    "start_time": "2022-01-11T18:52:20.014Z"
   },
   {
    "duration": 42,
    "start_time": "2022-01-11T18:52:20.023Z"
   },
   {
    "duration": 10,
    "start_time": "2022-01-11T18:52:20.068Z"
   },
   {
    "duration": 11,
    "start_time": "2022-01-11T18:52:20.080Z"
   },
   {
    "duration": 9,
    "start_time": "2022-01-11T18:52:20.093Z"
   },
   {
    "duration": 7,
    "start_time": "2022-01-11T18:52:20.104Z"
   },
   {
    "duration": 6,
    "start_time": "2022-01-11T18:52:20.162Z"
   },
   {
    "duration": 49,
    "start_time": "2022-01-11T18:52:20.170Z"
   },
   {
    "duration": 4,
    "start_time": "2022-01-11T18:52:20.221Z"
   },
   {
    "duration": 7,
    "start_time": "2022-01-11T18:52:20.227Z"
   },
   {
    "duration": 6,
    "start_time": "2022-01-11T18:52:20.264Z"
   },
   {
    "duration": 17,
    "start_time": "2022-01-11T18:52:20.272Z"
   },
   {
    "duration": 6,
    "start_time": "2022-01-11T18:52:20.296Z"
   },
   {
    "duration": 8,
    "start_time": "2022-01-11T18:52:20.305Z"
   },
   {
    "duration": 9,
    "start_time": "2022-01-11T18:52:20.363Z"
   },
   {
    "duration": 11,
    "start_time": "2022-01-11T18:52:20.374Z"
   },
   {
    "duration": 19,
    "start_time": "2022-01-11T18:52:20.388Z"
   },
   {
    "duration": 19,
    "start_time": "2022-01-11T18:52:20.410Z"
   },
   {
    "duration": 31,
    "start_time": "2022-01-11T18:52:20.432Z"
   },
   {
    "duration": 8,
    "start_time": "2022-01-11T18:52:20.467Z"
   },
   {
    "duration": 6,
    "start_time": "2022-01-11T18:52:20.478Z"
   },
   {
    "duration": 8,
    "start_time": "2022-01-11T18:52:20.487Z"
   },
   {
    "duration": 4,
    "start_time": "2022-01-11T18:52:20.498Z"
   },
   {
    "duration": 60,
    "start_time": "2022-01-11T18:52:20.505Z"
   },
   {
    "duration": 9,
    "start_time": "2022-01-11T18:52:20.569Z"
   },
   {
    "duration": 8,
    "start_time": "2022-01-11T18:52:20.580Z"
   },
   {
    "duration": 6,
    "start_time": "2022-01-11T18:52:20.591Z"
   },
   {
    "duration": 481,
    "start_time": "2022-01-11T18:52:20.599Z"
   },
   {
    "duration": 720,
    "start_time": "2022-01-11T18:52:20.364Z"
   },
   {
    "duration": 711,
    "start_time": "2022-01-11T18:52:20.374Z"
   },
   {
    "duration": 710,
    "start_time": "2022-01-11T18:52:20.377Z"
   },
   {
    "duration": 708,
    "start_time": "2022-01-11T18:52:20.380Z"
   },
   {
    "duration": 705,
    "start_time": "2022-01-11T18:52:20.385Z"
   },
   {
    "duration": 698,
    "start_time": "2022-01-11T18:52:20.393Z"
   },
   {
    "duration": 698,
    "start_time": "2022-01-11T18:52:20.395Z"
   },
   {
    "duration": 697,
    "start_time": "2022-01-11T18:52:20.398Z"
   },
   {
    "duration": 689,
    "start_time": "2022-01-11T18:52:20.407Z"
   },
   {
    "duration": 689,
    "start_time": "2022-01-11T18:52:20.409Z"
   },
   {
    "duration": 687,
    "start_time": "2022-01-11T18:52:20.412Z"
   },
   {
    "duration": 686,
    "start_time": "2022-01-11T18:52:20.414Z"
   },
   {
    "duration": 678,
    "start_time": "2022-01-11T18:52:20.424Z"
   },
   {
    "duration": 678,
    "start_time": "2022-01-11T18:52:20.426Z"
   },
   {
    "duration": 676,
    "start_time": "2022-01-11T18:52:20.429Z"
   },
   {
    "duration": 676,
    "start_time": "2022-01-11T18:52:20.431Z"
   },
   {
    "duration": 673,
    "start_time": "2022-01-11T18:52:20.435Z"
   },
   {
    "duration": 670,
    "start_time": "2022-01-11T18:52:20.440Z"
   },
   {
    "duration": 668,
    "start_time": "2022-01-11T18:52:20.443Z"
   },
   {
    "duration": 667,
    "start_time": "2022-01-11T18:52:20.445Z"
   },
   {
    "duration": 649,
    "start_time": "2022-01-11T18:52:20.465Z"
   },
   {
    "duration": 647,
    "start_time": "2022-01-11T18:52:20.468Z"
   },
   {
    "duration": 647,
    "start_time": "2022-01-11T18:52:20.470Z"
   },
   {
    "duration": 646,
    "start_time": "2022-01-11T18:52:20.472Z"
   },
   {
    "duration": 645,
    "start_time": "2022-01-11T18:52:20.475Z"
   },
   {
    "duration": 644,
    "start_time": "2022-01-11T18:52:20.477Z"
   },
   {
    "duration": 643,
    "start_time": "2022-01-11T18:52:20.479Z"
   },
   {
    "duration": 641,
    "start_time": "2022-01-11T18:52:20.482Z"
   },
   {
    "duration": 640,
    "start_time": "2022-01-11T18:52:20.484Z"
   },
   {
    "duration": 639,
    "start_time": "2022-01-11T18:52:20.486Z"
   },
   {
    "duration": 674,
    "start_time": "2022-01-11T18:52:20.489Z"
   },
   {
    "duration": 658,
    "start_time": "2022-01-11T18:52:20.506Z"
   },
   {
    "duration": 418,
    "start_time": "2022-01-11T18:52:20.748Z"
   },
   {
    "duration": 375,
    "start_time": "2022-01-11T18:52:20.792Z"
   },
   {
    "duration": 374,
    "start_time": "2022-01-11T18:52:20.795Z"
   },
   {
    "duration": 373,
    "start_time": "2022-01-11T18:52:20.797Z"
   },
   {
    "duration": 372,
    "start_time": "2022-01-11T18:52:20.800Z"
   },
   {
    "duration": 365,
    "start_time": "2022-01-11T18:52:20.808Z"
   },
   {
    "duration": 364,
    "start_time": "2022-01-11T18:52:20.811Z"
   },
   {
    "duration": 363,
    "start_time": "2022-01-11T18:52:20.813Z"
   },
   {
    "duration": 362,
    "start_time": "2022-01-11T18:52:20.816Z"
   },
   {
    "duration": 361,
    "start_time": "2022-01-11T18:52:20.818Z"
   },
   {
    "duration": 360,
    "start_time": "2022-01-11T18:52:20.820Z"
   },
   {
    "duration": 360,
    "start_time": "2022-01-11T18:52:20.822Z"
   },
   {
    "duration": 358,
    "start_time": "2022-01-11T18:52:20.825Z"
   },
   {
    "duration": 358,
    "start_time": "2022-01-11T18:52:20.827Z"
   },
   {
    "duration": 356,
    "start_time": "2022-01-11T18:52:20.830Z"
   },
   {
    "duration": 355,
    "start_time": "2022-01-11T18:52:20.832Z"
   },
   {
    "duration": 354,
    "start_time": "2022-01-11T18:52:20.835Z"
   },
   {
    "duration": 353,
    "start_time": "2022-01-11T18:52:20.837Z"
   },
   {
    "duration": 353,
    "start_time": "2022-01-11T18:52:20.839Z"
   },
   {
    "duration": 352,
    "start_time": "2022-01-11T18:52:20.841Z"
   },
   {
    "duration": 350,
    "start_time": "2022-01-11T18:52:20.844Z"
   },
   {
    "duration": 350,
    "start_time": "2022-01-11T18:52:20.846Z"
   },
   {
    "duration": 301,
    "start_time": "2022-01-11T18:55:39.820Z"
   },
   {
    "duration": 9,
    "start_time": "2022-01-11T18:57:49.680Z"
   },
   {
    "duration": 10,
    "start_time": "2022-01-11T18:59:41.046Z"
   },
   {
    "duration": 10,
    "start_time": "2022-01-11T18:59:57.545Z"
   },
   {
    "duration": 27,
    "start_time": "2022-01-11T19:00:14.645Z"
   },
   {
    "duration": 8,
    "start_time": "2022-01-11T19:00:18.941Z"
   },
   {
    "duration": 93,
    "start_time": "2022-01-11T19:01:12.219Z"
   },
   {
    "duration": 7,
    "start_time": "2022-01-11T19:01:18.093Z"
   },
   {
    "duration": 26,
    "start_time": "2022-01-11T19:01:59.258Z"
   },
   {
    "duration": 23,
    "start_time": "2022-01-11T19:02:01.299Z"
   },
   {
    "duration": 47,
    "start_time": "2022-01-11T19:02:02.636Z"
   },
   {
    "duration": 24,
    "start_time": "2022-01-11T19:02:16.827Z"
   },
   {
    "duration": 4,
    "start_time": "2022-01-11T19:02:41.684Z"
   },
   {
    "duration": 25,
    "start_time": "2022-01-11T19:02:46.363Z"
   },
   {
    "duration": 5,
    "start_time": "2022-01-11T19:02:57.498Z"
   },
   {
    "duration": 4,
    "start_time": "2022-01-11T19:05:36.081Z"
   },
   {
    "duration": 5,
    "start_time": "2022-01-11T19:05:36.535Z"
   },
   {
    "duration": 13,
    "start_time": "2022-01-11T19:05:38.120Z"
   },
   {
    "duration": 10,
    "start_time": "2022-01-11T19:05:39.232Z"
   },
   {
    "duration": 15,
    "start_time": "2022-01-11T19:08:09.508Z"
   },
   {
    "duration": 15,
    "start_time": "2022-01-11T19:08:09.932Z"
   },
   {
    "duration": 11,
    "start_time": "2022-01-11T19:08:11.443Z"
   },
   {
    "duration": 7,
    "start_time": "2022-01-11T19:10:36.833Z"
   },
   {
    "duration": 6,
    "start_time": "2022-01-11T19:10:42.457Z"
   },
   {
    "duration": 10,
    "start_time": "2022-01-11T19:11:44.408Z"
   },
   {
    "duration": 12,
    "start_time": "2022-01-11T19:12:02.680Z"
   },
   {
    "duration": 50,
    "start_time": "2022-01-11T19:12:43.823Z"
   },
   {
    "duration": 47,
    "start_time": "2022-01-11T19:13:03.622Z"
   },
   {
    "duration": 450,
    "start_time": "2022-01-11T19:15:02.252Z"
   },
   {
    "duration": 7,
    "start_time": "2022-01-11T19:15:13.308Z"
   },
   {
    "duration": 10,
    "start_time": "2022-01-11T19:15:44.427Z"
   },
   {
    "duration": 631,
    "start_time": "2022-01-11T19:18:05.680Z"
   },
   {
    "duration": 10,
    "start_time": "2022-01-11T19:18:24.479Z"
   },
   {
    "duration": 12,
    "start_time": "2022-01-11T19:18:47.694Z"
   },
   {
    "duration": 14,
    "start_time": "2022-01-11T19:19:11.198Z"
   },
   {
    "duration": 16,
    "start_time": "2022-01-11T19:20:32.309Z"
   },
   {
    "duration": 158,
    "start_time": "2022-01-11T19:20:36.741Z"
   },
   {
    "duration": 7,
    "start_time": "2022-01-11T19:20:45.644Z"
   },
   {
    "duration": 22,
    "start_time": "2022-01-11T19:21:08.972Z"
   },
   {
    "duration": 9,
    "start_time": "2022-01-11T19:22:40.827Z"
   },
   {
    "duration": 7656,
    "start_time": "2022-01-11T19:23:09.730Z"
   },
   {
    "duration": 73,
    "start_time": "2022-01-11T19:54:34.743Z"
   },
   {
    "duration": 164,
    "start_time": "2022-01-11T19:54:34.819Z"
   },
   {
    "duration": 5,
    "start_time": "2022-01-11T19:54:34.986Z"
   },
   {
    "duration": 20,
    "start_time": "2022-01-11T19:54:34.993Z"
   },
   {
    "duration": 56,
    "start_time": "2022-01-11T19:54:35.015Z"
   },
   {
    "duration": 6,
    "start_time": "2022-01-11T19:54:35.073Z"
   },
   {
    "duration": 6,
    "start_time": "2022-01-11T19:54:35.081Z"
   },
   {
    "duration": 5,
    "start_time": "2022-01-11T19:54:35.092Z"
   },
   {
    "duration": 7,
    "start_time": "2022-01-11T19:54:35.100Z"
   },
   {
    "duration": 80,
    "start_time": "2022-01-11T19:54:35.109Z"
   },
   {
    "duration": 6,
    "start_time": "2022-01-11T19:54:35.191Z"
   },
   {
    "duration": 8,
    "start_time": "2022-01-11T19:54:35.199Z"
   },
   {
    "duration": 9,
    "start_time": "2022-01-11T19:54:35.210Z"
   },
   {
    "duration": 7,
    "start_time": "2022-01-11T19:54:35.262Z"
   },
   {
    "duration": 9,
    "start_time": "2022-01-11T19:54:35.271Z"
   },
   {
    "duration": 8,
    "start_time": "2022-01-11T19:54:35.282Z"
   },
   {
    "duration": 6,
    "start_time": "2022-01-11T19:54:35.292Z"
   },
   {
    "duration": 97,
    "start_time": "2022-01-11T19:54:35.300Z"
   },
   {
    "duration": 2,
    "start_time": "2022-01-11T19:54:35.400Z"
   },
   {
    "duration": 7,
    "start_time": "2022-01-11T19:54:35.405Z"
   },
   {
    "duration": 9,
    "start_time": "2022-01-11T19:54:35.414Z"
   },
   {
    "duration": 47,
    "start_time": "2022-01-11T19:54:35.426Z"
   },
   {
    "duration": 6,
    "start_time": "2022-01-11T19:54:35.479Z"
   },
   {
    "duration": 8,
    "start_time": "2022-01-11T19:54:35.489Z"
   },
   {
    "duration": 7,
    "start_time": "2022-01-11T19:54:35.500Z"
   },
   {
    "duration": 56,
    "start_time": "2022-01-11T19:54:35.510Z"
   },
   {
    "duration": 10,
    "start_time": "2022-01-11T19:54:35.568Z"
   },
   {
    "duration": 10,
    "start_time": "2022-01-11T19:54:35.580Z"
   },
   {
    "duration": 7,
    "start_time": "2022-01-11T19:54:35.592Z"
   },
   {
    "duration": 8,
    "start_time": "2022-01-11T19:54:35.601Z"
   },
   {
    "duration": 6,
    "start_time": "2022-01-11T19:54:35.611Z"
   },
   {
    "duration": 7,
    "start_time": "2022-01-11T19:54:35.663Z"
   },
   {
    "duration": 3,
    "start_time": "2022-01-11T19:54:35.672Z"
   },
   {
    "duration": 11,
    "start_time": "2022-01-11T19:54:35.677Z"
   },
   {
    "duration": 8,
    "start_time": "2022-01-11T19:54:35.690Z"
   },
   {
    "duration": 6,
    "start_time": "2022-01-11T19:54:35.701Z"
   },
   {
    "duration": 9,
    "start_time": "2022-01-11T19:54:35.764Z"
   },
   {
    "duration": 11,
    "start_time": "2022-01-11T19:54:35.775Z"
   },
   {
    "duration": 11,
    "start_time": "2022-01-11T19:54:35.789Z"
   },
   {
    "duration": 5,
    "start_time": "2022-01-11T19:54:35.803Z"
   },
   {
    "duration": 52,
    "start_time": "2022-01-11T19:54:35.811Z"
   },
   {
    "duration": 11,
    "start_time": "2022-01-11T19:54:35.866Z"
   },
   {
    "duration": 11,
    "start_time": "2022-01-11T19:54:35.880Z"
   },
   {
    "duration": 26,
    "start_time": "2022-01-11T19:54:35.893Z"
   },
   {
    "duration": 11,
    "start_time": "2022-01-11T19:54:35.922Z"
   },
   {
    "duration": 4,
    "start_time": "2022-01-11T19:54:35.962Z"
   },
   {
    "duration": 5,
    "start_time": "2022-01-11T19:54:35.968Z"
   },
   {
    "duration": 30,
    "start_time": "2022-01-11T19:54:35.975Z"
   },
   {
    "duration": 7,
    "start_time": "2022-01-11T19:54:36.007Z"
   },
   {
    "duration": 61,
    "start_time": "2022-01-11T19:54:36.017Z"
   },
   {
    "duration": 25,
    "start_time": "2022-01-11T19:54:36.081Z"
   },
   {
    "duration": 25,
    "start_time": "2022-01-11T19:54:36.108Z"
   },
   {
    "duration": 3,
    "start_time": "2022-01-11T19:54:36.162Z"
   },
   {
    "duration": 6,
    "start_time": "2022-01-11T19:54:36.168Z"
   },
   {
    "duration": 3,
    "start_time": "2022-01-11T19:54:36.177Z"
   },
   {
    "duration": 6,
    "start_time": "2022-01-11T19:54:36.183Z"
   },
   {
    "duration": 5,
    "start_time": "2022-01-11T19:54:36.191Z"
   },
   {
    "duration": 6,
    "start_time": "2022-01-11T19:54:36.199Z"
   },
   {
    "duration": 56,
    "start_time": "2022-01-11T19:54:36.207Z"
   },
   {
    "duration": 9,
    "start_time": "2022-01-11T19:54:36.265Z"
   },
   {
    "duration": 16,
    "start_time": "2022-01-11T19:54:36.277Z"
   },
   {
    "duration": 75,
    "start_time": "2022-01-11T19:54:36.296Z"
   },
   {
    "duration": 9,
    "start_time": "2022-01-11T19:54:36.373Z"
   },
   {
    "duration": 41,
    "start_time": "2022-01-11T19:54:36.385Z"
   },
   {
    "duration": 39,
    "start_time": "2022-01-11T19:54:36.428Z"
   },
   {
    "duration": 4,
    "start_time": "2022-01-11T19:54:36.469Z"
   },
   {
    "duration": 5,
    "start_time": "2022-01-11T19:54:36.475Z"
   },
   {
    "duration": 15,
    "start_time": "2022-01-11T19:54:36.488Z"
   },
   {
    "duration": 3,
    "start_time": "2022-01-11T19:54:36.506Z"
   },
   {
    "duration": 51,
    "start_time": "2022-01-11T19:54:36.512Z"
   },
   {
    "duration": 7,
    "start_time": "2022-01-11T19:54:36.566Z"
   },
   {
    "duration": 6,
    "start_time": "2022-01-11T19:54:36.575Z"
   },
   {
    "duration": 7,
    "start_time": "2022-01-11T19:54:36.584Z"
   },
   {
    "duration": 17,
    "start_time": "2022-01-11T19:54:36.594Z"
   },
   {
    "duration": 198,
    "start_time": "2022-01-11T19:54:36.613Z"
   },
   {
    "duration": 6,
    "start_time": "2022-01-11T19:54:36.813Z"
   },
   {
    "duration": 53,
    "start_time": "2022-01-11T19:54:36.822Z"
   },
   {
    "duration": 3,
    "start_time": "2022-01-11T19:54:36.879Z"
   },
   {
    "duration": 11,
    "start_time": "2022-01-11T19:54:36.885Z"
   },
   {
    "duration": 4,
    "start_time": "2022-01-11T19:54:36.899Z"
   },
   {
    "duration": 7,
    "start_time": "2022-01-11T19:54:36.906Z"
   },
   {
    "duration": 4,
    "start_time": "2022-01-11T19:54:36.915Z"
   },
   {
    "duration": 7509,
    "start_time": "2022-01-11T19:54:36.963Z"
   },
   {
    "duration": 494,
    "start_time": "2022-01-11T19:54:43.980Z"
   },
   {
    "duration": 493,
    "start_time": "2022-01-11T19:54:43.983Z"
   },
   {
    "duration": 492,
    "start_time": "2022-01-11T19:54:43.985Z"
   },
   {
    "duration": 491,
    "start_time": "2022-01-11T19:54:43.988Z"
   },
   {
    "duration": 489,
    "start_time": "2022-01-11T19:54:43.991Z"
   },
   {
    "duration": 488,
    "start_time": "2022-01-11T19:54:43.994Z"
   },
   {
    "duration": 486,
    "start_time": "2022-01-11T19:54:43.997Z"
   },
   {
    "duration": 486,
    "start_time": "2022-01-11T19:54:43.999Z"
   },
   {
    "duration": 484,
    "start_time": "2022-01-11T19:54:44.003Z"
   },
   {
    "duration": 482,
    "start_time": "2022-01-11T19:54:44.006Z"
   },
   {
    "duration": 480,
    "start_time": "2022-01-11T19:54:44.009Z"
   },
   {
    "duration": 479,
    "start_time": "2022-01-11T19:54:44.012Z"
   },
   {
    "duration": 3,
    "start_time": "2022-01-11T19:55:03.365Z"
   },
   {
    "duration": 831,
    "start_time": "2022-01-12T06:17:42.928Z"
   },
   {
    "duration": 102,
    "start_time": "2022-01-12T06:17:43.761Z"
   },
   {
    "duration": 5,
    "start_time": "2022-01-12T06:17:43.866Z"
   },
   {
    "duration": 45,
    "start_time": "2022-01-12T06:17:43.874Z"
   },
   {
    "duration": 13,
    "start_time": "2022-01-12T06:17:43.921Z"
   },
   {
    "duration": 7,
    "start_time": "2022-01-12T06:17:43.936Z"
   },
   {
    "duration": 6,
    "start_time": "2022-01-12T06:17:43.945Z"
   },
   {
    "duration": 6,
    "start_time": "2022-01-12T06:17:43.954Z"
   },
   {
    "duration": 55,
    "start_time": "2022-01-12T06:17:43.963Z"
   },
   {
    "duration": 34,
    "start_time": "2022-01-12T06:17:44.020Z"
   },
   {
    "duration": 6,
    "start_time": "2022-01-12T06:17:44.057Z"
   },
   {
    "duration": 8,
    "start_time": "2022-01-12T06:17:44.065Z"
   },
   {
    "duration": 48,
    "start_time": "2022-01-12T06:17:44.075Z"
   },
   {
    "duration": 6,
    "start_time": "2022-01-12T06:17:44.126Z"
   },
   {
    "duration": 12,
    "start_time": "2022-01-12T06:17:44.134Z"
   },
   {
    "duration": 6,
    "start_time": "2022-01-12T06:17:44.148Z"
   },
   {
    "duration": 5,
    "start_time": "2022-01-12T06:17:44.157Z"
   },
   {
    "duration": 91,
    "start_time": "2022-01-12T06:17:44.164Z"
   },
   {
    "duration": 3,
    "start_time": "2022-01-12T06:17:44.257Z"
   },
   {
    "duration": 9,
    "start_time": "2022-01-12T06:17:44.262Z"
   },
   {
    "duration": 10,
    "start_time": "2022-01-12T06:17:44.273Z"
   },
   {
    "duration": 21,
    "start_time": "2022-01-12T06:17:44.318Z"
   },
   {
    "duration": 7,
    "start_time": "2022-01-12T06:17:44.347Z"
   },
   {
    "duration": 8,
    "start_time": "2022-01-12T06:17:44.360Z"
   },
   {
    "duration": 52,
    "start_time": "2022-01-12T06:17:44.371Z"
   },
   {
    "duration": 7,
    "start_time": "2022-01-12T06:17:44.426Z"
   },
   {
    "duration": 11,
    "start_time": "2022-01-12T06:17:44.436Z"
   },
   {
    "duration": 11,
    "start_time": "2022-01-12T06:17:44.450Z"
   },
   {
    "duration": 59,
    "start_time": "2022-01-12T06:17:44.463Z"
   },
   {
    "duration": 10,
    "start_time": "2022-01-12T06:17:44.524Z"
   },
   {
    "duration": 7,
    "start_time": "2022-01-12T06:17:44.536Z"
   },
   {
    "duration": 8,
    "start_time": "2022-01-12T06:17:44.546Z"
   },
   {
    "duration": 3,
    "start_time": "2022-01-12T06:17:44.557Z"
   },
   {
    "duration": 61,
    "start_time": "2022-01-12T06:17:44.563Z"
   },
   {
    "duration": 9,
    "start_time": "2022-01-12T06:17:44.627Z"
   },
   {
    "duration": 8,
    "start_time": "2022-01-12T06:17:44.639Z"
   },
   {
    "duration": 8,
    "start_time": "2022-01-12T06:17:44.650Z"
   },
   {
    "duration": 57,
    "start_time": "2022-01-12T06:17:44.661Z"
   },
   {
    "duration": 11,
    "start_time": "2022-01-12T06:17:44.721Z"
   },
   {
    "duration": 11,
    "start_time": "2022-01-12T06:17:44.735Z"
   },
   {
    "duration": 8,
    "start_time": "2022-01-12T06:17:44.749Z"
   },
   {
    "duration": 13,
    "start_time": "2022-01-12T06:17:44.760Z"
   },
   {
    "duration": 8,
    "start_time": "2022-01-12T06:17:44.776Z"
   },
   {
    "duration": 18,
    "start_time": "2022-01-12T06:17:44.818Z"
   },
   {
    "duration": 10,
    "start_time": "2022-01-12T06:17:44.839Z"
   },
   {
    "duration": 5,
    "start_time": "2022-01-12T06:17:44.852Z"
   },
   {
    "duration": 7,
    "start_time": "2022-01-12T06:17:44.860Z"
   },
   {
    "duration": 69,
    "start_time": "2022-01-12T06:17:44.869Z"
   },
   {
    "duration": 8,
    "start_time": "2022-01-12T06:17:44.941Z"
   },
   {
    "duration": 25,
    "start_time": "2022-01-12T06:17:44.952Z"
   },
   {
    "duration": 57,
    "start_time": "2022-01-12T06:17:44.980Z"
   },
   {
    "duration": 24,
    "start_time": "2022-01-12T06:17:45.039Z"
   },
   {
    "duration": 4,
    "start_time": "2022-01-12T06:17:45.066Z"
   },
   {
    "duration": 44,
    "start_time": "2022-01-12T06:17:45.073Z"
   },
   {
    "duration": 4,
    "start_time": "2022-01-12T06:17:45.120Z"
   },
   {
    "duration": 7,
    "start_time": "2022-01-12T06:17:45.126Z"
   },
   {
    "duration": 7,
    "start_time": "2022-01-12T06:17:45.135Z"
   },
   {
    "duration": 8,
    "start_time": "2022-01-12T06:17:45.144Z"
   },
   {
    "duration": 16,
    "start_time": "2022-01-12T06:17:45.155Z"
   },
   {
    "duration": 45,
    "start_time": "2022-01-12T06:17:45.174Z"
   },
   {
    "duration": 18,
    "start_time": "2022-01-12T06:17:45.222Z"
   },
   {
    "duration": 76,
    "start_time": "2022-01-12T06:17:45.242Z"
   },
   {
    "duration": 11,
    "start_time": "2022-01-12T06:17:45.321Z"
   },
   {
    "duration": 43,
    "start_time": "2022-01-12T06:17:45.334Z"
   },
   {
    "duration": 45,
    "start_time": "2022-01-12T06:17:45.380Z"
   },
   {
    "duration": 3,
    "start_time": "2022-01-12T06:17:45.428Z"
   },
   {
    "duration": 6,
    "start_time": "2022-01-12T06:17:45.434Z"
   },
   {
    "duration": 12,
    "start_time": "2022-01-12T06:17:45.448Z"
   },
   {
    "duration": 3,
    "start_time": "2022-01-12T06:17:45.464Z"
   },
   {
    "duration": 49,
    "start_time": "2022-01-12T06:17:45.469Z"
   },
   {
    "duration": 7,
    "start_time": "2022-01-12T06:17:45.521Z"
   },
   {
    "duration": 8,
    "start_time": "2022-01-12T06:17:45.530Z"
   },
   {
    "duration": 6,
    "start_time": "2022-01-12T06:17:45.540Z"
   },
   {
    "duration": 19,
    "start_time": "2022-01-12T06:17:45.548Z"
   },
   {
    "duration": 183,
    "start_time": "2022-01-12T06:17:45.569Z"
   },
   {
    "duration": 10,
    "start_time": "2022-01-12T06:17:45.755Z"
   },
   {
    "duration": 17,
    "start_time": "2022-01-12T06:17:45.768Z"
   },
   {
    "duration": 3,
    "start_time": "2022-01-12T06:17:45.817Z"
   },
   {
    "duration": 21,
    "start_time": "2022-01-12T06:17:45.822Z"
   },
   {
    "duration": 18,
    "start_time": "2022-01-12T06:17:45.845Z"
   },
   {
    "duration": 14,
    "start_time": "2022-01-12T06:17:45.865Z"
   },
   {
    "duration": 11,
    "start_time": "2022-01-12T06:17:45.882Z"
   },
   {
    "duration": 12,
    "start_time": "2022-01-12T06:17:45.896Z"
   },
   {
    "duration": 18,
    "start_time": "2022-01-12T06:17:45.911Z"
   },
   {
    "duration": 9,
    "start_time": "2022-01-12T06:17:45.931Z"
   },
   {
    "duration": 12,
    "start_time": "2022-01-12T06:17:45.942Z"
   },
   {
    "duration": 7,
    "start_time": "2022-01-12T06:17:45.956Z"
   },
   {
    "duration": 7,
    "start_time": "2022-01-12T06:17:45.965Z"
   },
   {
    "duration": 10,
    "start_time": "2022-01-12T06:17:45.974Z"
   },
   {
    "duration": 10,
    "start_time": "2022-01-12T06:17:45.987Z"
   },
   {
    "duration": 10,
    "start_time": "2022-01-12T06:17:45.999Z"
   },
   {
    "duration": 13,
    "start_time": "2022-01-12T06:17:46.011Z"
   },
   {
    "duration": 20,
    "start_time": "2022-01-12T06:17:46.026Z"
   },
   {
    "duration": 30,
    "start_time": "2022-01-12T06:17:46.049Z"
   },
   {
    "duration": 9,
    "start_time": "2022-01-12T06:17:46.081Z"
   },
   {
    "duration": 5,
    "start_time": "2022-01-12T06:19:07.936Z"
   },
   {
    "duration": 15,
    "start_time": "2022-01-12T06:20:22.059Z"
   },
   {
    "duration": 22,
    "start_time": "2022-01-12T06:20:53.813Z"
   },
   {
    "duration": 6,
    "start_time": "2022-01-12T06:24:48.255Z"
   },
   {
    "duration": 410,
    "start_time": "2022-01-12T06:26:13.588Z"
   },
   {
    "duration": 109,
    "start_time": "2022-01-12T06:26:41.525Z"
   },
   {
    "duration": 126,
    "start_time": "2022-01-12T06:28:25.516Z"
   },
   {
    "duration": 90,
    "start_time": "2022-01-12T06:28:51.275Z"
   },
   {
    "duration": 8,
    "start_time": "2022-01-12T06:29:31.218Z"
   },
   {
    "duration": 8,
    "start_time": "2022-01-12T06:29:43.410Z"
   },
   {
    "duration": 16,
    "start_time": "2022-01-12T06:30:38.394Z"
   },
   {
    "duration": 13,
    "start_time": "2022-01-12T06:31:25.073Z"
   },
   {
    "duration": 274,
    "start_time": "2022-01-12T06:31:56.909Z"
   },
   {
    "duration": 23,
    "start_time": "2022-01-12T06:32:03.835Z"
   },
   {
    "duration": 19,
    "start_time": "2022-01-12T06:32:24.582Z"
   },
   {
    "duration": 20,
    "start_time": "2022-01-12T06:33:09.345Z"
   },
   {
    "duration": 21,
    "start_time": "2022-01-12T06:33:18.161Z"
   },
   {
    "duration": 12,
    "start_time": "2022-01-12T06:33:51.665Z"
   },
   {
    "duration": 280,
    "start_time": "2022-01-12T06:37:01.453Z"
   },
   {
    "duration": 306,
    "start_time": "2022-01-12T06:38:40.222Z"
   },
   {
    "duration": 281,
    "start_time": "2022-01-12T06:54:04.452Z"
   },
   {
    "duration": 270,
    "start_time": "2022-01-12T06:54:58.605Z"
   },
   {
    "duration": 235,
    "start_time": "2022-01-12T06:57:20.264Z"
   },
   {
    "duration": 4,
    "start_time": "2022-01-12T06:58:32.184Z"
   },
   {
    "duration": 9,
    "start_time": "2022-01-12T06:59:08.395Z"
   },
   {
    "duration": 7,
    "start_time": "2022-01-12T06:59:24.976Z"
   },
   {
    "duration": 9,
    "start_time": "2022-01-12T06:59:45.308Z"
   },
   {
    "duration": 1086,
    "start_time": "2022-01-12T07:00:23.184Z"
   },
   {
    "duration": 6,
    "start_time": "2022-01-12T07:00:36.167Z"
   },
   {
    "duration": 252,
    "start_time": "2022-01-12T07:00:45.451Z"
   },
   {
    "duration": 13,
    "start_time": "2022-01-12T07:01:03.477Z"
   },
   {
    "duration": 7,
    "start_time": "2022-01-12T07:03:40.391Z"
   },
   {
    "duration": 10,
    "start_time": "2022-01-12T07:10:24.112Z"
   },
   {
    "duration": 250,
    "start_time": "2022-01-12T07:15:40.745Z"
   },
   {
    "duration": 260,
    "start_time": "2022-01-12T07:15:46.149Z"
   },
   {
    "duration": 21,
    "start_time": "2022-01-12T07:16:04.658Z"
   },
   {
    "duration": 16,
    "start_time": "2022-01-12T07:16:32.757Z"
   },
   {
    "duration": 24,
    "start_time": "2022-01-12T07:20:44.524Z"
   },
   {
    "duration": 280,
    "start_time": "2022-01-12T07:21:02.282Z"
   },
   {
    "duration": 237,
    "start_time": "2022-01-12T07:21:07.744Z"
   },
   {
    "duration": 27,
    "start_time": "2022-01-12T07:21:20.695Z"
   },
   {
    "duration": 73,
    "start_time": "2022-01-12T07:28:23.194Z"
   },
   {
    "duration": 97,
    "start_time": "2022-01-12T07:28:42.655Z"
   },
   {
    "duration": 88,
    "start_time": "2022-01-12T07:29:10.612Z"
   },
   {
    "duration": 665,
    "start_time": "2022-01-12T07:29:24.182Z"
   },
   {
    "duration": 592,
    "start_time": "2022-01-12T07:29:36.141Z"
   },
   {
    "duration": 34,
    "start_time": "2022-01-12T07:29:43.278Z"
   },
   {
    "duration": 720,
    "start_time": "2022-01-12T07:30:11.331Z"
   },
   {
    "duration": 33,
    "start_time": "2022-01-12T07:30:39.894Z"
   },
   {
    "duration": 37,
    "start_time": "2022-01-12T07:31:08.074Z"
   },
   {
    "duration": 48,
    "start_time": "2022-01-12T07:31:29.547Z"
   },
   {
    "duration": 78,
    "start_time": "2022-01-12T07:37:12.753Z"
   },
   {
    "duration": 260,
    "start_time": "2022-01-12T07:38:37.784Z"
   },
   {
    "duration": 264,
    "start_time": "2022-01-12T08:03:50.482Z"
   },
   {
    "duration": 259,
    "start_time": "2022-01-12T08:04:44.086Z"
   },
   {
    "duration": 22,
    "start_time": "2022-01-12T08:08:18.073Z"
   },
   {
    "duration": 25,
    "start_time": "2022-01-12T08:09:57.344Z"
   },
   {
    "duration": 10,
    "start_time": "2022-01-12T08:18:12.122Z"
   },
   {
    "duration": 354,
    "start_time": "2022-01-12T08:18:57.673Z"
   },
   {
    "duration": 9,
    "start_time": "2022-01-12T08:19:04.277Z"
   },
   {
    "duration": 323,
    "start_time": "2022-01-12T08:22:37.934Z"
   },
   {
    "duration": 299,
    "start_time": "2022-01-12T08:24:37.566Z"
   },
   {
    "duration": 305,
    "start_time": "2022-01-12T08:25:08.946Z"
   },
   {
    "duration": 245,
    "start_time": "2022-01-12T08:27:55.701Z"
   },
   {
    "duration": 249,
    "start_time": "2022-01-12T08:28:29.161Z"
   },
   {
    "duration": 10,
    "start_time": "2022-01-12T08:31:01.201Z"
   },
   {
    "duration": 277,
    "start_time": "2022-01-12T08:34:21.825Z"
   },
   {
    "duration": 711,
    "start_time": "2022-01-12T08:34:42.180Z"
   },
   {
    "duration": 22,
    "start_time": "2022-01-12T08:37:43.990Z"
   },
   {
    "duration": 255,
    "start_time": "2022-01-12T08:39:32.858Z"
   },
   {
    "duration": 20,
    "start_time": "2022-01-12T08:39:59.838Z"
   },
   {
    "duration": 14,
    "start_time": "2022-01-12T08:42:35.731Z"
   },
   {
    "duration": 11,
    "start_time": "2022-01-12T08:43:01.677Z"
   },
   {
    "duration": 292,
    "start_time": "2022-01-12T08:51:06.113Z"
   },
   {
    "duration": 122,
    "start_time": "2022-01-12T08:54:18.680Z"
   },
   {
    "duration": 137,
    "start_time": "2022-01-12T08:55:16.368Z"
   },
   {
    "duration": 105,
    "start_time": "2022-01-12T08:55:34.443Z"
   },
   {
    "duration": 131,
    "start_time": "2022-01-12T08:55:56.353Z"
   },
   {
    "duration": 24,
    "start_time": "2022-01-12T08:57:01.487Z"
   },
   {
    "duration": 16,
    "start_time": "2022-01-12T08:58:58.524Z"
   },
   {
    "duration": 216,
    "start_time": "2022-01-12T09:03:03.694Z"
   },
   {
    "duration": 27,
    "start_time": "2022-01-12T09:03:47.481Z"
   },
   {
    "duration": 33,
    "start_time": "2022-01-12T09:04:40.213Z"
   },
   {
    "duration": 395,
    "start_time": "2022-01-12T09:05:19.219Z"
   },
   {
    "duration": 29,
    "start_time": "2022-01-12T09:05:36.818Z"
   },
   {
    "duration": 25,
    "start_time": "2022-01-12T09:05:57.437Z"
   },
   {
    "duration": 24,
    "start_time": "2022-01-12T09:11:26.806Z"
   },
   {
    "duration": 15,
    "start_time": "2022-01-12T09:11:49.161Z"
   },
   {
    "duration": 20,
    "start_time": "2022-01-12T09:13:48.925Z"
   },
   {
    "duration": 26,
    "start_time": "2022-01-12T09:14:40.190Z"
   },
   {
    "duration": 21,
    "start_time": "2022-01-12T09:15:28.312Z"
   },
   {
    "duration": 6,
    "start_time": "2022-01-12T09:16:17.987Z"
   },
   {
    "duration": 12,
    "start_time": "2022-01-12T09:16:44.474Z"
   },
   {
    "duration": 11,
    "start_time": "2022-01-12T09:17:06.990Z"
   },
   {
    "duration": 6,
    "start_time": "2022-01-12T09:17:20.455Z"
   },
   {
    "duration": 9,
    "start_time": "2022-01-12T09:17:40.931Z"
   },
   {
    "duration": 64,
    "start_time": "2022-01-12T09:18:25.602Z"
   },
   {
    "duration": 122,
    "start_time": "2022-01-12T09:18:25.669Z"
   },
   {
    "duration": 26,
    "start_time": "2022-01-12T09:18:25.794Z"
   },
   {
    "duration": 25,
    "start_time": "2022-01-12T09:18:25.823Z"
   },
   {
    "duration": 18,
    "start_time": "2022-01-12T09:18:25.850Z"
   },
   {
    "duration": 52,
    "start_time": "2022-01-12T09:18:25.870Z"
   },
   {
    "duration": 6,
    "start_time": "2022-01-12T09:18:25.925Z"
   },
   {
    "duration": 6,
    "start_time": "2022-01-12T09:18:25.935Z"
   },
   {
    "duration": 8,
    "start_time": "2022-01-12T09:18:25.944Z"
   },
   {
    "duration": 88,
    "start_time": "2022-01-12T09:18:25.956Z"
   },
   {
    "duration": 8,
    "start_time": "2022-01-12T09:18:26.047Z"
   },
   {
    "duration": 11,
    "start_time": "2022-01-12T09:18:26.058Z"
   },
   {
    "duration": 13,
    "start_time": "2022-01-12T09:18:26.116Z"
   },
   {
    "duration": 6,
    "start_time": "2022-01-12T09:18:26.132Z"
   },
   {
    "duration": 80,
    "start_time": "2022-01-12T09:18:26.141Z"
   },
   {
    "duration": 3,
    "start_time": "2022-01-12T09:18:26.224Z"
   },
   {
    "duration": 6,
    "start_time": "2022-01-12T09:18:26.230Z"
   },
   {
    "duration": 9,
    "start_time": "2022-01-12T09:18:26.239Z"
   },
   {
    "duration": 67,
    "start_time": "2022-01-12T09:18:26.252Z"
   },
   {
    "duration": 8,
    "start_time": "2022-01-12T09:18:26.322Z"
   },
   {
    "duration": 10,
    "start_time": "2022-01-12T09:18:26.334Z"
   },
   {
    "duration": 9,
    "start_time": "2022-01-12T09:18:26.348Z"
   },
   {
    "duration": 49,
    "start_time": "2022-01-12T09:18:26.367Z"
   },
   {
    "duration": 10,
    "start_time": "2022-01-12T09:18:26.420Z"
   },
   {
    "duration": 12,
    "start_time": "2022-01-12T09:18:26.433Z"
   },
   {
    "duration": 11,
    "start_time": "2022-01-12T09:18:26.448Z"
   },
   {
    "duration": 9,
    "start_time": "2022-01-12T09:18:26.462Z"
   },
   {
    "duration": 47,
    "start_time": "2022-01-12T09:18:26.474Z"
   },
   {
    "duration": 8,
    "start_time": "2022-01-12T09:18:26.523Z"
   },
   {
    "duration": 4,
    "start_time": "2022-01-12T09:18:26.533Z"
   },
   {
    "duration": 11,
    "start_time": "2022-01-12T09:18:26.539Z"
   },
   {
    "duration": 7,
    "start_time": "2022-01-12T09:18:26.553Z"
   },
   {
    "duration": 8,
    "start_time": "2022-01-12T09:18:26.618Z"
   },
   {
    "duration": 7,
    "start_time": "2022-01-12T09:18:26.629Z"
   },
   {
    "duration": 12,
    "start_time": "2022-01-12T09:18:26.639Z"
   },
   {
    "duration": 13,
    "start_time": "2022-01-12T09:18:26.654Z"
   },
   {
    "duration": 46,
    "start_time": "2022-01-12T09:18:26.671Z"
   },
   {
    "duration": 4,
    "start_time": "2022-01-12T09:18:26.721Z"
   },
   {
    "duration": 14,
    "start_time": "2022-01-12T09:18:26.728Z"
   },
   {
    "duration": 4,
    "start_time": "2022-01-12T09:18:26.744Z"
   },
   {
    "duration": 21,
    "start_time": "2022-01-12T09:18:26.751Z"
   },
   {
    "duration": 10,
    "start_time": "2022-01-12T09:18:26.818Z"
   },
   {
    "duration": 6,
    "start_time": "2022-01-12T09:18:26.831Z"
   },
   {
    "duration": 7,
    "start_time": "2022-01-12T09:18:26.840Z"
   },
   {
    "duration": 30,
    "start_time": "2022-01-12T09:18:26.849Z"
   },
   {
    "duration": 37,
    "start_time": "2022-01-12T09:18:26.882Z"
   },
   {
    "duration": 27,
    "start_time": "2022-01-12T09:18:26.921Z"
   },
   {
    "duration": 24,
    "start_time": "2022-01-12T09:18:26.950Z"
   },
   {
    "duration": 54,
    "start_time": "2022-01-12T09:18:26.976Z"
   },
   {
    "duration": 4,
    "start_time": "2022-01-12T09:18:27.032Z"
   },
   {
    "duration": 8,
    "start_time": "2022-01-12T09:18:27.038Z"
   },
   {
    "duration": 5,
    "start_time": "2022-01-12T09:18:27.048Z"
   },
   {
    "duration": 6,
    "start_time": "2022-01-12T09:18:27.055Z"
   },
   {
    "duration": 7,
    "start_time": "2022-01-12T09:18:27.063Z"
   },
   {
    "duration": 6,
    "start_time": "2022-01-12T09:18:27.118Z"
   },
   {
    "duration": 22,
    "start_time": "2022-01-12T09:18:27.127Z"
   },
   {
    "duration": 14,
    "start_time": "2022-01-12T09:18:27.152Z"
   },
   {
    "duration": 50,
    "start_time": "2022-01-12T09:18:27.169Z"
   },
   {
    "duration": 19,
    "start_time": "2022-01-12T09:18:27.222Z"
   },
   {
    "duration": 11,
    "start_time": "2022-01-12T09:18:27.244Z"
   },
   {
    "duration": 82,
    "start_time": "2022-01-12T09:18:27.258Z"
   },
   {
    "duration": 11,
    "start_time": "2022-01-12T09:18:27.343Z"
   },
   {
    "duration": 60,
    "start_time": "2022-01-12T09:18:27.357Z"
   },
   {
    "duration": 9,
    "start_time": "2022-01-12T09:18:27.420Z"
   },
   {
    "duration": 15,
    "start_time": "2022-01-12T09:18:27.432Z"
   },
   {
    "duration": 17,
    "start_time": "2022-01-12T09:18:27.449Z"
   },
   {
    "duration": 8,
    "start_time": "2022-01-12T09:18:32.328Z"
   },
   {
    "duration": 15,
    "start_time": "2022-01-12T09:19:16.048Z"
   },
   {
    "duration": 69,
    "start_time": "2022-01-12T09:30:38.209Z"
   },
   {
    "duration": 113,
    "start_time": "2022-01-12T09:30:38.280Z"
   },
   {
    "duration": 6,
    "start_time": "2022-01-12T09:30:38.416Z"
   },
   {
    "duration": 22,
    "start_time": "2022-01-12T09:30:38.425Z"
   },
   {
    "duration": 15,
    "start_time": "2022-01-12T09:30:38.450Z"
   },
   {
    "duration": 9,
    "start_time": "2022-01-12T09:30:38.517Z"
   },
   {
    "duration": 12,
    "start_time": "2022-01-12T09:30:38.528Z"
   },
   {
    "duration": 6,
    "start_time": "2022-01-12T09:30:38.546Z"
   },
   {
    "duration": 11,
    "start_time": "2022-01-12T09:30:38.556Z"
   },
   {
    "duration": 40,
    "start_time": "2022-01-12T09:30:38.618Z"
   },
   {
    "duration": 7,
    "start_time": "2022-01-12T09:30:38.661Z"
   },
   {
    "duration": 50,
    "start_time": "2022-01-12T09:30:38.671Z"
   },
   {
    "duration": 13,
    "start_time": "2022-01-12T09:30:38.724Z"
   },
   {
    "duration": 9,
    "start_time": "2022-01-12T09:30:38.740Z"
   },
   {
    "duration": 110,
    "start_time": "2022-01-12T09:30:38.752Z"
   },
   {
    "duration": 4,
    "start_time": "2022-01-12T09:30:38.864Z"
   },
   {
    "duration": 8,
    "start_time": "2022-01-12T09:30:38.871Z"
   },
   {
    "duration": 12,
    "start_time": "2022-01-12T09:30:38.882Z"
   },
   {
    "duration": 28,
    "start_time": "2022-01-12T09:30:38.918Z"
   },
   {
    "duration": 10,
    "start_time": "2022-01-12T09:30:38.949Z"
   },
   {
    "duration": 10,
    "start_time": "2022-01-12T09:30:38.962Z"
   },
   {
    "duration": 49,
    "start_time": "2022-01-12T09:30:38.975Z"
   },
   {
    "duration": 8,
    "start_time": "2022-01-12T09:30:39.030Z"
   },
   {
    "duration": 11,
    "start_time": "2022-01-12T09:30:39.041Z"
   },
   {
    "duration": 11,
    "start_time": "2022-01-12T09:30:39.055Z"
   },
   {
    "duration": 8,
    "start_time": "2022-01-12T09:30:39.117Z"
   },
   {
    "duration": 11,
    "start_time": "2022-01-12T09:30:39.127Z"
   },
   {
    "duration": 7,
    "start_time": "2022-01-12T09:30:39.140Z"
   },
   {
    "duration": 7,
    "start_time": "2022-01-12T09:30:39.150Z"
   },
   {
    "duration": 13,
    "start_time": "2022-01-12T09:30:39.159Z"
   },
   {
    "duration": 49,
    "start_time": "2022-01-12T09:30:39.174Z"
   },
   {
    "duration": 7,
    "start_time": "2022-01-12T09:30:39.226Z"
   },
   {
    "duration": 6,
    "start_time": "2022-01-12T09:30:39.236Z"
   },
   {
    "duration": 9,
    "start_time": "2022-01-12T09:30:39.245Z"
   },
   {
    "duration": 10,
    "start_time": "2022-01-12T09:30:39.256Z"
   },
   {
    "duration": 56,
    "start_time": "2022-01-12T09:30:39.268Z"
   },
   {
    "duration": 3,
    "start_time": "2022-01-12T09:30:39.326Z"
   },
   {
    "duration": 5,
    "start_time": "2022-01-12T09:30:39.332Z"
   },
   {
    "duration": 13,
    "start_time": "2022-01-12T09:30:39.339Z"
   },
   {
    "duration": 4,
    "start_time": "2022-01-12T09:30:39.355Z"
   },
   {
    "duration": 61,
    "start_time": "2022-01-12T09:30:39.362Z"
   },
   {
    "duration": 10,
    "start_time": "2022-01-12T09:30:39.426Z"
   },
   {
    "duration": 12,
    "start_time": "2022-01-12T09:30:39.438Z"
   },
   {
    "duration": 8,
    "start_time": "2022-01-12T09:30:39.452Z"
   },
   {
    "duration": 64,
    "start_time": "2022-01-12T09:30:39.462Z"
   },
   {
    "duration": 6,
    "start_time": "2022-01-12T09:30:39.529Z"
   },
   {
    "duration": 29,
    "start_time": "2022-01-12T09:30:39.537Z"
   },
   {
    "duration": 59,
    "start_time": "2022-01-12T09:30:39.568Z"
   },
   {
    "duration": 23,
    "start_time": "2022-01-12T09:30:39.630Z"
   },
   {
    "duration": 3,
    "start_time": "2022-01-12T09:30:39.655Z"
   },
   {
    "duration": 7,
    "start_time": "2022-01-12T09:30:39.660Z"
   },
   {
    "duration": 4,
    "start_time": "2022-01-12T09:30:39.669Z"
   },
   {
    "duration": 5,
    "start_time": "2022-01-12T09:30:39.675Z"
   },
   {
    "duration": 3,
    "start_time": "2022-01-12T09:30:39.718Z"
   },
   {
    "duration": 8,
    "start_time": "2022-01-12T09:30:39.723Z"
   },
   {
    "duration": 15,
    "start_time": "2022-01-12T09:30:39.733Z"
   },
   {
    "duration": 10,
    "start_time": "2022-01-12T09:30:39.750Z"
   },
   {
    "duration": 56,
    "start_time": "2022-01-12T09:30:39.762Z"
   },
   {
    "duration": 18,
    "start_time": "2022-01-12T09:30:39.821Z"
   },
   {
    "duration": 13,
    "start_time": "2022-01-12T09:30:39.841Z"
   },
   {
    "duration": 100,
    "start_time": "2022-01-12T09:30:39.856Z"
   },
   {
    "duration": 11,
    "start_time": "2022-01-12T09:30:39.959Z"
   },
   {
    "duration": 51,
    "start_time": "2022-01-12T09:30:39.974Z"
   },
   {
    "duration": 8,
    "start_time": "2022-01-12T09:30:40.028Z"
   },
   {
    "duration": 10,
    "start_time": "2022-01-12T09:30:40.039Z"
   },
   {
    "duration": 12,
    "start_time": "2022-01-12T09:30:44.565Z"
   },
   {
    "duration": 11,
    "start_time": "2022-01-12T09:30:52.193Z"
   },
   {
    "duration": 85,
    "start_time": "2022-01-12T09:31:22.307Z"
   },
   {
    "duration": 159,
    "start_time": "2022-01-12T09:31:22.395Z"
   },
   {
    "duration": 5,
    "start_time": "2022-01-12T09:31:22.558Z"
   },
   {
    "duration": 57,
    "start_time": "2022-01-12T09:31:22.567Z"
   },
   {
    "duration": 17,
    "start_time": "2022-01-12T09:31:22.626Z"
   },
   {
    "duration": 6,
    "start_time": "2022-01-12T09:31:22.646Z"
   },
   {
    "duration": 7,
    "start_time": "2022-01-12T09:31:22.654Z"
   },
   {
    "duration": 53,
    "start_time": "2022-01-12T09:31:22.665Z"
   },
   {
    "duration": 7,
    "start_time": "2022-01-12T09:31:22.722Z"
   },
   {
    "duration": 46,
    "start_time": "2022-01-12T09:31:22.731Z"
   },
   {
    "duration": 41,
    "start_time": "2022-01-12T09:31:22.780Z"
   },
   {
    "duration": 12,
    "start_time": "2022-01-12T09:31:22.824Z"
   },
   {
    "duration": 13,
    "start_time": "2022-01-12T09:31:22.838Z"
   },
   {
    "duration": 6,
    "start_time": "2022-01-12T09:31:22.853Z"
   },
   {
    "duration": 113,
    "start_time": "2022-01-12T09:31:22.862Z"
   },
   {
    "duration": 4,
    "start_time": "2022-01-12T09:31:22.977Z"
   },
   {
    "duration": 17,
    "start_time": "2022-01-12T09:31:22.985Z"
   },
   {
    "duration": 8,
    "start_time": "2022-01-12T09:31:23.018Z"
   },
   {
    "duration": 22,
    "start_time": "2022-01-12T09:31:23.029Z"
   },
   {
    "duration": 9,
    "start_time": "2022-01-12T09:31:23.055Z"
   },
   {
    "duration": 56,
    "start_time": "2022-01-12T09:31:23.067Z"
   },
   {
    "duration": 9,
    "start_time": "2022-01-12T09:31:23.125Z"
   },
   {
    "duration": 9,
    "start_time": "2022-01-12T09:31:23.142Z"
   },
   {
    "duration": 10,
    "start_time": "2022-01-12T09:31:23.155Z"
   },
   {
    "duration": 58,
    "start_time": "2022-01-12T09:31:23.167Z"
   },
   {
    "duration": 8,
    "start_time": "2022-01-12T09:31:23.228Z"
   },
   {
    "duration": 10,
    "start_time": "2022-01-12T09:31:23.238Z"
   },
   {
    "duration": 6,
    "start_time": "2022-01-12T09:31:23.250Z"
   },
   {
    "duration": 9,
    "start_time": "2022-01-12T09:31:23.258Z"
   },
   {
    "duration": 3,
    "start_time": "2022-01-12T09:31:23.318Z"
   },
   {
    "duration": 15,
    "start_time": "2022-01-12T09:31:23.323Z"
   },
   {
    "duration": 7,
    "start_time": "2022-01-12T09:31:23.341Z"
   },
   {
    "duration": 9,
    "start_time": "2022-01-12T09:31:23.351Z"
   },
   {
    "duration": 7,
    "start_time": "2022-01-12T09:31:23.363Z"
   },
   {
    "duration": 52,
    "start_time": "2022-01-12T09:31:23.372Z"
   },
   {
    "duration": 10,
    "start_time": "2022-01-12T09:31:23.426Z"
   },
   {
    "duration": 5,
    "start_time": "2022-01-12T09:31:23.439Z"
   },
   {
    "duration": 6,
    "start_time": "2022-01-12T09:31:23.446Z"
   },
   {
    "duration": 13,
    "start_time": "2022-01-12T09:31:23.454Z"
   },
   {
    "duration": 47,
    "start_time": "2022-01-12T09:31:23.470Z"
   },
   {
    "duration": 17,
    "start_time": "2022-01-12T09:31:23.519Z"
   },
   {
    "duration": 9,
    "start_time": "2022-01-12T09:31:23.539Z"
   },
   {
    "duration": 4,
    "start_time": "2022-01-12T09:31:23.551Z"
   },
   {
    "duration": 5,
    "start_time": "2022-01-12T09:31:23.557Z"
   },
   {
    "duration": 73,
    "start_time": "2022-01-12T09:31:23.564Z"
   },
   {
    "duration": 6,
    "start_time": "2022-01-12T09:31:23.639Z"
   },
   {
    "duration": 23,
    "start_time": "2022-01-12T09:31:23.649Z"
   },
   {
    "duration": 60,
    "start_time": "2022-01-12T09:31:23.674Z"
   },
   {
    "duration": 23,
    "start_time": "2022-01-12T09:31:23.736Z"
   },
   {
    "duration": 3,
    "start_time": "2022-01-12T09:31:23.761Z"
   },
   {
    "duration": 8,
    "start_time": "2022-01-12T09:31:23.766Z"
   },
   {
    "duration": 4,
    "start_time": "2022-01-12T09:31:23.777Z"
   },
   {
    "duration": 3,
    "start_time": "2022-01-12T09:31:23.818Z"
   },
   {
    "duration": 6,
    "start_time": "2022-01-12T09:31:23.824Z"
   },
   {
    "duration": 6,
    "start_time": "2022-01-12T09:31:23.833Z"
   },
   {
    "duration": 14,
    "start_time": "2022-01-12T09:31:23.842Z"
   },
   {
    "duration": 11,
    "start_time": "2022-01-12T09:31:23.859Z"
   },
   {
    "duration": 57,
    "start_time": "2022-01-12T09:31:23.872Z"
   },
   {
    "duration": 16,
    "start_time": "2022-01-12T09:31:23.932Z"
   },
   {
    "duration": 12,
    "start_time": "2022-01-12T09:31:23.951Z"
   },
   {
    "duration": 93,
    "start_time": "2022-01-12T09:31:23.966Z"
   },
   {
    "duration": 11,
    "start_time": "2022-01-12T09:31:24.062Z"
   },
   {
    "duration": 58,
    "start_time": "2022-01-12T09:31:24.075Z"
   },
   {
    "duration": 7,
    "start_time": "2022-01-12T09:31:24.136Z"
   },
   {
    "duration": 16,
    "start_time": "2022-01-12T09:31:24.146Z"
   },
   {
    "duration": 12,
    "start_time": "2022-01-12T09:31:28.487Z"
   },
   {
    "duration": 15,
    "start_time": "2022-01-12T09:31:31.247Z"
   },
   {
    "duration": 12,
    "start_time": "2022-01-12T09:31:32.337Z"
   },
   {
    "duration": 18,
    "start_time": "2022-01-12T09:33:10.311Z"
   },
   {
    "duration": 16,
    "start_time": "2022-01-12T09:33:10.776Z"
   },
   {
    "duration": 13,
    "start_time": "2022-01-12T09:33:27.586Z"
   },
   {
    "duration": 17,
    "start_time": "2022-01-12T09:33:35.571Z"
   },
   {
    "duration": 15,
    "start_time": "2022-01-12T09:33:41.342Z"
   },
   {
    "duration": 22,
    "start_time": "2022-01-12T10:04:41.333Z"
   },
   {
    "duration": 23,
    "start_time": "2022-01-12T10:20:04.928Z"
   },
   {
    "duration": 17,
    "start_time": "2022-01-12T10:20:24.331Z"
   },
   {
    "duration": 18,
    "start_time": "2022-01-12T10:20:47.703Z"
   },
   {
    "duration": 18,
    "start_time": "2022-01-12T10:21:00.790Z"
   },
   {
    "duration": 244,
    "start_time": "2022-01-12T10:30:39.485Z"
   },
   {
    "duration": 247,
    "start_time": "2022-01-12T11:33:48.098Z"
   },
   {
    "duration": 250,
    "start_time": "2022-01-12T11:34:11.205Z"
   },
   {
    "duration": 265,
    "start_time": "2022-01-12T11:34:22.081Z"
   },
   {
    "duration": 305,
    "start_time": "2022-01-12T11:34:27.791Z"
   },
   {
    "duration": 4,
    "start_time": "2022-01-12T11:41:02.776Z"
   },
   {
    "duration": 23,
    "start_time": "2022-01-12T11:43:58.534Z"
   },
   {
    "duration": 9,
    "start_time": "2022-01-12T11:44:52.391Z"
   },
   {
    "duration": 267,
    "start_time": "2022-01-12T11:46:22.913Z"
   },
   {
    "duration": 283,
    "start_time": "2022-01-12T11:46:43.162Z"
   },
   {
    "duration": 9,
    "start_time": "2022-01-12T11:46:52.953Z"
   },
   {
    "duration": 6,
    "start_time": "2022-01-12T11:49:06.052Z"
   },
   {
    "duration": 6,
    "start_time": "2022-01-12T11:49:15.517Z"
   },
   {
    "duration": 226,
    "start_time": "2022-01-12T11:49:25.760Z"
   },
   {
    "duration": 24,
    "start_time": "2022-01-12T11:49:31.746Z"
   },
   {
    "duration": 20,
    "start_time": "2022-01-12T11:50:06.732Z"
   },
   {
    "duration": 11,
    "start_time": "2022-01-12T11:50:22.600Z"
   },
   {
    "duration": 24,
    "start_time": "2022-01-12T11:51:21.896Z"
   },
   {
    "duration": 25,
    "start_time": "2022-01-12T11:51:49.294Z"
   },
   {
    "duration": 12,
    "start_time": "2022-01-12T11:51:51.743Z"
   },
   {
    "duration": 15,
    "start_time": "2022-01-12T11:52:03.641Z"
   },
   {
    "duration": 2,
    "start_time": "2022-01-12T12:02:45.581Z"
   },
   {
    "duration": 10,
    "start_time": "2022-01-12T12:13:49.971Z"
   },
   {
    "duration": 11,
    "start_time": "2022-01-12T12:14:28.399Z"
   },
   {
    "duration": 86,
    "start_time": "2022-01-12T12:18:54.744Z"
   },
   {
    "duration": 264,
    "start_time": "2022-01-12T12:19:26.681Z"
   },
   {
    "duration": 93,
    "start_time": "2022-01-12T12:20:49.214Z"
   },
   {
    "duration": 137,
    "start_time": "2022-01-12T12:20:49.310Z"
   },
   {
    "duration": 5,
    "start_time": "2022-01-12T12:20:49.450Z"
   },
   {
    "duration": 21,
    "start_time": "2022-01-12T12:20:49.458Z"
   },
   {
    "duration": 48,
    "start_time": "2022-01-12T12:20:49.482Z"
   },
   {
    "duration": 10,
    "start_time": "2022-01-12T12:20:49.533Z"
   },
   {
    "duration": 8,
    "start_time": "2022-01-12T12:20:49.545Z"
   },
   {
    "duration": 11,
    "start_time": "2022-01-12T12:20:49.556Z"
   },
   {
    "duration": 16,
    "start_time": "2022-01-12T12:20:49.570Z"
   },
   {
    "duration": 63,
    "start_time": "2022-01-12T12:20:49.588Z"
   },
   {
    "duration": 8,
    "start_time": "2022-01-12T12:20:49.654Z"
   },
   {
    "duration": 54,
    "start_time": "2022-01-12T12:20:49.665Z"
   },
   {
    "duration": 12,
    "start_time": "2022-01-12T12:20:49.722Z"
   },
   {
    "duration": 7,
    "start_time": "2022-01-12T12:20:49.737Z"
   },
   {
    "duration": 89,
    "start_time": "2022-01-12T12:20:49.747Z"
   },
   {
    "duration": 3,
    "start_time": "2022-01-12T12:20:49.840Z"
   },
   {
    "duration": 7,
    "start_time": "2022-01-12T12:20:49.845Z"
   },
   {
    "duration": 8,
    "start_time": "2022-01-12T12:20:49.855Z"
   },
   {
    "duration": 54,
    "start_time": "2022-01-12T12:20:49.865Z"
   },
   {
    "duration": 8,
    "start_time": "2022-01-12T12:20:49.922Z"
   },
   {
    "duration": 11,
    "start_time": "2022-01-12T12:20:49.933Z"
   },
   {
    "duration": 7,
    "start_time": "2022-01-12T12:20:49.947Z"
   },
   {
    "duration": 25,
    "start_time": "2022-01-12T12:20:49.956Z"
   },
   {
    "duration": 24,
    "start_time": "2022-01-12T12:20:50.017Z"
   },
   {
    "duration": 10,
    "start_time": "2022-01-12T12:20:50.044Z"
   },
   {
    "duration": 6,
    "start_time": "2022-01-12T12:20:50.057Z"
   },
   {
    "duration": 10,
    "start_time": "2022-01-12T12:20:50.066Z"
   },
   {
    "duration": 41,
    "start_time": "2022-01-12T12:20:50.078Z"
   },
   {
    "duration": 11,
    "start_time": "2022-01-12T12:20:50.122Z"
   },
   {
    "duration": 11,
    "start_time": "2022-01-12T12:20:50.139Z"
   },
   {
    "duration": 12,
    "start_time": "2022-01-12T12:20:50.154Z"
   },
   {
    "duration": 48,
    "start_time": "2022-01-12T12:20:50.169Z"
   },
   {
    "duration": 15,
    "start_time": "2022-01-12T12:20:50.220Z"
   },
   {
    "duration": 8,
    "start_time": "2022-01-12T12:20:50.238Z"
   },
   {
    "duration": 14,
    "start_time": "2022-01-12T12:20:50.248Z"
   },
   {
    "duration": 10,
    "start_time": "2022-01-12T12:20:50.264Z"
   },
   {
    "duration": 42,
    "start_time": "2022-01-12T12:20:50.276Z"
   },
   {
    "duration": 7,
    "start_time": "2022-01-12T12:20:50.321Z"
   },
   {
    "duration": 21,
    "start_time": "2022-01-12T12:20:50.330Z"
   },
   {
    "duration": 7,
    "start_time": "2022-01-12T12:20:50.353Z"
   },
   {
    "duration": 20,
    "start_time": "2022-01-12T12:20:50.362Z"
   },
   {
    "duration": 34,
    "start_time": "2022-01-12T12:20:50.385Z"
   },
   {
    "duration": 6,
    "start_time": "2022-01-12T12:20:50.422Z"
   },
   {
    "duration": 9,
    "start_time": "2022-01-12T12:20:50.430Z"
   },
   {
    "duration": 31,
    "start_time": "2022-01-12T12:20:50.442Z"
   },
   {
    "duration": 9,
    "start_time": "2022-01-12T12:20:50.476Z"
   },
   {
    "duration": 26,
    "start_time": "2022-01-12T12:20:50.518Z"
   },
   {
    "duration": 24,
    "start_time": "2022-01-12T12:20:50.547Z"
   },
   {
    "duration": 49,
    "start_time": "2022-01-12T12:20:50.574Z"
   },
   {
    "duration": 4,
    "start_time": "2022-01-12T12:20:50.626Z"
   },
   {
    "duration": 15,
    "start_time": "2022-01-12T12:20:50.633Z"
   },
   {
    "duration": 7,
    "start_time": "2022-01-12T12:20:50.651Z"
   },
   {
    "duration": 6,
    "start_time": "2022-01-12T12:20:50.660Z"
   },
   {
    "duration": 7,
    "start_time": "2022-01-12T12:20:50.669Z"
   },
   {
    "duration": 10,
    "start_time": "2022-01-12T12:20:50.679Z"
   },
   {
    "duration": 12,
    "start_time": "2022-01-12T12:20:50.716Z"
   },
   {
    "duration": 18,
    "start_time": "2022-01-12T12:20:50.731Z"
   },
   {
    "duration": 33,
    "start_time": "2022-01-12T12:20:50.751Z"
   },
   {
    "duration": 5,
    "start_time": "2022-01-12T12:20:50.786Z"
   },
   {
    "duration": 9,
    "start_time": "2022-01-12T12:20:50.818Z"
   },
   {
    "duration": 12,
    "start_time": "2022-01-12T12:20:50.830Z"
   },
   {
    "duration": 15,
    "start_time": "2022-01-12T12:20:50.844Z"
   },
   {
    "duration": 14,
    "start_time": "2022-01-12T12:20:50.861Z"
   },
   {
    "duration": 52,
    "start_time": "2022-01-12T12:20:50.878Z"
   },
   {
    "duration": 4,
    "start_time": "2022-01-12T12:20:50.934Z"
   },
   {
    "duration": 5,
    "start_time": "2022-01-12T12:20:50.941Z"
   },
   {
    "duration": 6,
    "start_time": "2022-01-12T12:20:50.948Z"
   },
   {
    "duration": 7,
    "start_time": "2022-01-12T12:20:50.957Z"
   },
   {
    "duration": 12,
    "start_time": "2022-01-12T12:20:50.966Z"
   },
   {
    "duration": 5,
    "start_time": "2022-01-12T12:20:50.981Z"
   },
   {
    "duration": 9,
    "start_time": "2022-01-12T12:20:51.019Z"
   },
   {
    "duration": 17,
    "start_time": "2022-01-12T12:20:51.037Z"
   },
   {
    "duration": 200,
    "start_time": "2022-01-12T12:20:51.057Z"
   },
   {
    "duration": 7,
    "start_time": "2022-01-12T12:20:51.259Z"
   },
   {
    "duration": 20,
    "start_time": "2022-01-12T12:20:51.268Z"
   },
   {
    "duration": 3,
    "start_time": "2022-01-12T12:20:51.320Z"
   },
   {
    "duration": 10,
    "start_time": "2022-01-12T12:20:51.326Z"
   },
   {
    "duration": 5,
    "start_time": "2022-01-12T12:20:51.338Z"
   },
   {
    "duration": 8,
    "start_time": "2022-01-12T12:20:51.345Z"
   },
   {
    "duration": 7,
    "start_time": "2022-01-12T12:20:51.355Z"
   },
   {
    "duration": 18,
    "start_time": "2022-01-12T12:20:51.364Z"
   },
   {
    "duration": 32,
    "start_time": "2022-01-12T12:20:51.385Z"
   },
   {
    "duration": 5,
    "start_time": "2022-01-12T12:20:51.420Z"
   },
   {
    "duration": 5,
    "start_time": "2022-01-12T12:20:51.427Z"
   },
   {
    "duration": 6,
    "start_time": "2022-01-12T12:20:51.434Z"
   },
   {
    "duration": 4,
    "start_time": "2022-01-12T12:20:51.442Z"
   },
   {
    "duration": 9,
    "start_time": "2022-01-12T12:20:51.449Z"
   },
   {
    "duration": 7,
    "start_time": "2022-01-12T12:20:51.460Z"
   },
   {
    "duration": 5,
    "start_time": "2022-01-12T12:20:51.469Z"
   },
   {
    "duration": 6,
    "start_time": "2022-01-12T12:20:51.476Z"
   },
   {
    "duration": 3,
    "start_time": "2022-01-12T12:20:51.519Z"
   },
   {
    "duration": 6,
    "start_time": "2022-01-12T12:20:51.525Z"
   },
   {
    "duration": 6,
    "start_time": "2022-01-12T12:20:51.534Z"
   },
   {
    "duration": 11,
    "start_time": "2022-01-12T12:22:24.854Z"
   },
   {
    "duration": 848,
    "start_time": "2022-01-12T12:25:24.172Z"
   },
   {
    "duration": 129,
    "start_time": "2022-01-12T12:25:25.023Z"
   },
   {
    "duration": 6,
    "start_time": "2022-01-12T12:25:25.156Z"
   },
   {
    "duration": 24,
    "start_time": "2022-01-12T12:25:25.165Z"
   },
   {
    "duration": 14,
    "start_time": "2022-01-12T12:25:25.216Z"
   },
   {
    "duration": 9,
    "start_time": "2022-01-12T12:25:25.233Z"
   },
   {
    "duration": 7,
    "start_time": "2022-01-12T12:25:25.244Z"
   },
   {
    "duration": 8,
    "start_time": "2022-01-12T12:25:25.255Z"
   },
   {
    "duration": 8,
    "start_time": "2022-01-12T12:25:25.266Z"
   },
   {
    "duration": 36,
    "start_time": "2022-01-12T12:25:25.317Z"
   },
   {
    "duration": 8,
    "start_time": "2022-01-12T12:25:25.356Z"
   },
   {
    "duration": 10,
    "start_time": "2022-01-12T12:25:25.367Z"
   },
   {
    "duration": 12,
    "start_time": "2022-01-12T12:25:25.417Z"
   },
   {
    "duration": 463,
    "start_time": "2022-01-12T12:25:25.432Z"
   },
   {
    "duration": 13116,
    "start_time": "2022-01-12T12:25:12.787Z"
   },
   {
    "duration": 13112,
    "start_time": "2022-01-12T12:25:12.792Z"
   },
   {
    "duration": 13107,
    "start_time": "2022-01-12T12:25:12.798Z"
   },
   {
    "duration": 12822,
    "start_time": "2022-01-12T12:25:13.084Z"
   },
   {
    "duration": 12803,
    "start_time": "2022-01-12T12:25:13.104Z"
   },
   {
    "duration": 12798,
    "start_time": "2022-01-12T12:25:13.110Z"
   },
   {
    "duration": 12794,
    "start_time": "2022-01-12T12:25:13.115Z"
   },
   {
    "duration": 12789,
    "start_time": "2022-01-12T12:25:13.121Z"
   },
   {
    "duration": 12784,
    "start_time": "2022-01-12T12:25:13.127Z"
   },
   {
    "duration": 12778,
    "start_time": "2022-01-12T12:25:13.134Z"
   },
   {
    "duration": 12774,
    "start_time": "2022-01-12T12:25:13.140Z"
   },
   {
    "duration": 12770,
    "start_time": "2022-01-12T12:25:13.145Z"
   },
   {
    "duration": 12761,
    "start_time": "2022-01-12T12:25:13.156Z"
   },
   {
    "duration": 12757,
    "start_time": "2022-01-12T12:25:13.161Z"
   },
   {
    "duration": 12753,
    "start_time": "2022-01-12T12:25:13.167Z"
   },
   {
    "duration": 12750,
    "start_time": "2022-01-12T12:25:13.172Z"
   },
   {
    "duration": 12747,
    "start_time": "2022-01-12T12:25:13.177Z"
   },
   {
    "duration": 12743,
    "start_time": "2022-01-12T12:25:13.182Z"
   },
   {
    "duration": 12741,
    "start_time": "2022-01-12T12:25:13.186Z"
   },
   {
    "duration": 12737,
    "start_time": "2022-01-12T12:25:13.191Z"
   },
   {
    "duration": 12734,
    "start_time": "2022-01-12T12:25:13.195Z"
   },
   {
    "duration": 12730,
    "start_time": "2022-01-12T12:25:13.200Z"
   },
   {
    "duration": 12713,
    "start_time": "2022-01-12T12:25:13.218Z"
   },
   {
    "duration": 12708,
    "start_time": "2022-01-12T12:25:13.225Z"
   },
   {
    "duration": 12705,
    "start_time": "2022-01-12T12:25:13.230Z"
   },
   {
    "duration": 12703,
    "start_time": "2022-01-12T12:25:13.236Z"
   },
   {
    "duration": 12669,
    "start_time": "2022-01-12T12:25:13.272Z"
   },
   {
    "duration": 12554,
    "start_time": "2022-01-12T12:25:13.388Z"
   },
   {
    "duration": 12529,
    "start_time": "2022-01-12T12:25:13.414Z"
   },
   {
    "duration": 12511,
    "start_time": "2022-01-12T12:25:13.433Z"
   },
   {
    "duration": 12483,
    "start_time": "2022-01-12T12:25:13.462Z"
   },
   {
    "duration": 12461,
    "start_time": "2022-01-12T12:25:13.485Z"
   },
   {
    "duration": 12427,
    "start_time": "2022-01-12T12:25:13.520Z"
   },
   {
    "duration": 12422,
    "start_time": "2022-01-12T12:25:13.526Z"
   },
   {
    "duration": 12415,
    "start_time": "2022-01-12T12:25:13.534Z"
   },
   {
    "duration": 12402,
    "start_time": "2022-01-12T12:25:13.549Z"
   },
   {
    "duration": 12372,
    "start_time": "2022-01-12T12:25:13.580Z"
   },
   {
    "duration": 12334,
    "start_time": "2022-01-12T12:25:13.619Z"
   },
   {
    "duration": 12299,
    "start_time": "2022-01-12T12:25:13.655Z"
   },
   {
    "duration": 12294,
    "start_time": "2022-01-12T12:25:13.662Z"
   },
   {
    "duration": 12288,
    "start_time": "2022-01-12T12:25:13.669Z"
   },
   {
    "duration": 12281,
    "start_time": "2022-01-12T12:25:13.677Z"
   },
   {
    "duration": 12335,
    "start_time": "2022-01-12T12:25:13.684Z"
   },
   {
    "duration": 12330,
    "start_time": "2022-01-12T12:25:13.690Z"
   },
   {
    "duration": 12328,
    "start_time": "2022-01-12T12:25:13.694Z"
   },
   {
    "duration": 12318,
    "start_time": "2022-01-12T12:25:13.705Z"
   },
   {
    "duration": 12296,
    "start_time": "2022-01-12T12:25:13.728Z"
   },
   {
    "duration": 12275,
    "start_time": "2022-01-12T12:25:13.751Z"
   },
   {
    "duration": 12239,
    "start_time": "2022-01-12T12:25:13.788Z"
   },
   {
    "duration": 12195,
    "start_time": "2022-01-12T12:25:13.834Z"
   },
   {
    "duration": 12185,
    "start_time": "2022-01-12T12:25:13.845Z"
   },
   {
    "duration": 12175,
    "start_time": "2022-01-12T12:25:13.856Z"
   },
   {
    "duration": 12173,
    "start_time": "2022-01-12T12:25:13.861Z"
   },
   {
    "duration": 12165,
    "start_time": "2022-01-12T12:25:13.871Z"
   },
   {
    "duration": 12160,
    "start_time": "2022-01-12T12:25:13.877Z"
   },
   {
    "duration": 12156,
    "start_time": "2022-01-12T12:25:13.883Z"
   },
   {
    "duration": 12151,
    "start_time": "2022-01-12T12:25:13.889Z"
   },
   {
    "duration": 12146,
    "start_time": "2022-01-12T12:25:13.895Z"
   },
   {
    "duration": 12142,
    "start_time": "2022-01-12T12:25:13.901Z"
   },
   {
    "duration": 12138,
    "start_time": "2022-01-12T12:25:13.906Z"
   },
   {
    "duration": 12134,
    "start_time": "2022-01-12T12:25:13.911Z"
   },
   {
    "duration": 12132,
    "start_time": "2022-01-12T12:25:13.915Z"
   },
   {
    "duration": 12128,
    "start_time": "2022-01-12T12:25:13.920Z"
   },
   {
    "duration": 12108,
    "start_time": "2022-01-12T12:25:13.942Z"
   },
   {
    "duration": 12102,
    "start_time": "2022-01-12T12:25:13.950Z"
   },
   {
    "duration": 12098,
    "start_time": "2022-01-12T12:25:13.956Z"
   },
   {
    "duration": 12156,
    "start_time": "2022-01-12T12:25:13.960Z"
   },
   {
    "duration": 12152,
    "start_time": "2022-01-12T12:25:13.966Z"
   },
   {
    "duration": 12149,
    "start_time": "2022-01-12T12:25:13.970Z"
   },
   {
    "duration": 12147,
    "start_time": "2022-01-12T12:25:13.976Z"
   },
   {
    "duration": 12141,
    "start_time": "2022-01-12T12:25:13.983Z"
   },
   {
    "duration": 12139,
    "start_time": "2022-01-12T12:25:13.988Z"
   },
   {
    "duration": 12137,
    "start_time": "2022-01-12T12:25:13.992Z"
   },
   {
    "duration": 12133,
    "start_time": "2022-01-12T12:25:13.997Z"
   },
   {
    "duration": 12130,
    "start_time": "2022-01-12T12:25:14.001Z"
   },
   {
    "duration": 12126,
    "start_time": "2022-01-12T12:25:14.006Z"
   },
   {
    "duration": 12124,
    "start_time": "2022-01-12T12:25:14.010Z"
   },
   {
    "duration": 12120,
    "start_time": "2022-01-12T12:25:14.015Z"
   },
   {
    "duration": 12117,
    "start_time": "2022-01-12T12:25:14.019Z"
   },
   {
    "duration": 71,
    "start_time": "2022-01-12T12:25:44.313Z"
   },
   {
    "duration": 105,
    "start_time": "2022-01-12T12:25:44.386Z"
   },
   {
    "duration": 27,
    "start_time": "2022-01-12T12:25:44.493Z"
   },
   {
    "duration": 22,
    "start_time": "2022-01-12T12:25:44.524Z"
   },
   {
    "duration": 14,
    "start_time": "2022-01-12T12:25:44.548Z"
   },
   {
    "duration": 54,
    "start_time": "2022-01-12T12:25:44.565Z"
   },
   {
    "duration": 7,
    "start_time": "2022-01-12T12:25:44.624Z"
   },
   {
    "duration": 7,
    "start_time": "2022-01-12T12:25:44.636Z"
   },
   {
    "duration": 6,
    "start_time": "2022-01-12T12:25:44.646Z"
   },
   {
    "duration": 96,
    "start_time": "2022-01-12T12:25:44.655Z"
   },
   {
    "duration": 5,
    "start_time": "2022-01-12T12:25:44.753Z"
   },
   {
    "duration": 9,
    "start_time": "2022-01-12T12:25:44.761Z"
   },
   {
    "duration": 51,
    "start_time": "2022-01-12T12:25:44.773Z"
   },
   {
    "duration": 300,
    "start_time": "2022-01-12T12:25:44.827Z"
   },
   {
    "duration": 12961,
    "start_time": "2022-01-12T12:25:32.173Z"
   },
   {
    "duration": 12957,
    "start_time": "2022-01-12T12:25:32.179Z"
   },
   {
    "duration": 12952,
    "start_time": "2022-01-12T12:25:32.186Z"
   },
   {
    "duration": 12945,
    "start_time": "2022-01-12T12:25:32.194Z"
   },
   {
    "duration": 12941,
    "start_time": "2022-01-12T12:25:32.200Z"
   },
   {
    "duration": 12937,
    "start_time": "2022-01-12T12:25:32.205Z"
   },
   {
    "duration": 12934,
    "start_time": "2022-01-12T12:25:32.210Z"
   },
   {
    "duration": 12932,
    "start_time": "2022-01-12T12:25:32.214Z"
   },
   {
    "duration": 12928,
    "start_time": "2022-01-12T12:25:32.219Z"
   },
   {
    "duration": 12925,
    "start_time": "2022-01-12T12:25:32.224Z"
   },
   {
    "duration": 12921,
    "start_time": "2022-01-12T12:25:32.229Z"
   },
   {
    "duration": 12919,
    "start_time": "2022-01-12T12:25:32.233Z"
   },
   {
    "duration": 12914,
    "start_time": "2022-01-12T12:25:32.239Z"
   },
   {
    "duration": 12910,
    "start_time": "2022-01-12T12:25:32.244Z"
   },
   {
    "duration": 12908,
    "start_time": "2022-01-12T12:25:32.248Z"
   },
   {
    "duration": 12904,
    "start_time": "2022-01-12T12:25:32.253Z"
   },
   {
    "duration": 12901,
    "start_time": "2022-01-12T12:25:32.258Z"
   },
   {
    "duration": 12884,
    "start_time": "2022-01-12T12:25:32.276Z"
   },
   {
    "duration": 12881,
    "start_time": "2022-01-12T12:25:32.281Z"
   },
   {
    "duration": 12877,
    "start_time": "2022-01-12T12:25:32.286Z"
   },
   {
    "duration": 12872,
    "start_time": "2022-01-12T12:25:32.293Z"
   },
   {
    "duration": 12919,
    "start_time": "2022-01-12T12:25:32.297Z"
   },
   {
    "duration": 12916,
    "start_time": "2022-01-12T12:25:32.302Z"
   },
   {
    "duration": 12914,
    "start_time": "2022-01-12T12:25:32.306Z"
   },
   {
    "duration": 12911,
    "start_time": "2022-01-12T12:25:32.311Z"
   },
   {
    "duration": 12906,
    "start_time": "2022-01-12T12:25:32.317Z"
   },
   {
    "duration": 12903,
    "start_time": "2022-01-12T12:25:32.322Z"
   },
   {
    "duration": 12901,
    "start_time": "2022-01-12T12:25:32.326Z"
   },
   {
    "duration": 12898,
    "start_time": "2022-01-12T12:25:32.331Z"
   },
   {
    "duration": 12896,
    "start_time": "2022-01-12T12:25:32.335Z"
   },
   {
    "duration": 12893,
    "start_time": "2022-01-12T12:25:32.340Z"
   },
   {
    "duration": 12890,
    "start_time": "2022-01-12T12:25:32.344Z"
   },
   {
    "duration": 12887,
    "start_time": "2022-01-12T12:25:32.349Z"
   },
   {
    "duration": 12884,
    "start_time": "2022-01-12T12:25:32.354Z"
   },
   {
    "duration": 12882,
    "start_time": "2022-01-12T12:25:32.358Z"
   },
   {
    "duration": 12880,
    "start_time": "2022-01-12T12:25:32.362Z"
   },
   {
    "duration": 12876,
    "start_time": "2022-01-12T12:25:32.367Z"
   },
   {
    "duration": 12872,
    "start_time": "2022-01-12T12:25:32.373Z"
   },
   {
    "duration": 12856,
    "start_time": "2022-01-12T12:25:32.391Z"
   },
   {
    "duration": 12852,
    "start_time": "2022-01-12T12:25:32.396Z"
   },
   {
    "duration": 12849,
    "start_time": "2022-01-12T12:25:32.401Z"
   },
   {
    "duration": 12845,
    "start_time": "2022-01-12T12:25:32.406Z"
   },
   {
    "duration": 12841,
    "start_time": "2022-01-12T12:25:32.412Z"
   },
   {
    "duration": 12838,
    "start_time": "2022-01-12T12:25:32.416Z"
   },
   {
    "duration": 12832,
    "start_time": "2022-01-12T12:25:32.424Z"
   },
   {
    "duration": 12828,
    "start_time": "2022-01-12T12:25:32.429Z"
   },
   {
    "duration": 12825,
    "start_time": "2022-01-12T12:25:32.433Z"
   },
   {
    "duration": 12822,
    "start_time": "2022-01-12T12:25:32.438Z"
   },
   {
    "duration": 12873,
    "start_time": "2022-01-12T12:25:32.444Z"
   },
   {
    "duration": 12872,
    "start_time": "2022-01-12T12:25:32.448Z"
   },
   {
    "duration": 12869,
    "start_time": "2022-01-12T12:25:32.453Z"
   },
   {
    "duration": 12866,
    "start_time": "2022-01-12T12:25:32.457Z"
   },
   {
    "duration": 12863,
    "start_time": "2022-01-12T12:25:32.462Z"
   },
   {
    "duration": 12861,
    "start_time": "2022-01-12T12:25:32.466Z"
   },
   {
    "duration": 12858,
    "start_time": "2022-01-12T12:25:32.471Z"
   },
   {
    "duration": 12855,
    "start_time": "2022-01-12T12:25:32.475Z"
   },
   {
    "duration": 12851,
    "start_time": "2022-01-12T12:25:32.480Z"
   },
   {
    "duration": 12848,
    "start_time": "2022-01-12T12:25:32.484Z"
   },
   {
    "duration": 12834,
    "start_time": "2022-01-12T12:25:32.500Z"
   },
   {
    "duration": 12830,
    "start_time": "2022-01-12T12:25:32.505Z"
   },
   {
    "duration": 12826,
    "start_time": "2022-01-12T12:25:32.510Z"
   },
   {
    "duration": 12822,
    "start_time": "2022-01-12T12:25:32.515Z"
   },
   {
    "duration": 12820,
    "start_time": "2022-01-12T12:25:32.519Z"
   },
   {
    "duration": 12816,
    "start_time": "2022-01-12T12:25:32.524Z"
   },
   {
    "duration": 12813,
    "start_time": "2022-01-12T12:25:32.529Z"
   },
   {
    "duration": 12811,
    "start_time": "2022-01-12T12:25:32.533Z"
   },
   {
    "duration": 12806,
    "start_time": "2022-01-12T12:25:32.539Z"
   },
   {
    "duration": 12804,
    "start_time": "2022-01-12T12:25:32.543Z"
   },
   {
    "duration": 12791,
    "start_time": "2022-01-12T12:25:32.557Z"
   },
   {
    "duration": 12780,
    "start_time": "2022-01-12T12:25:32.569Z"
   },
   {
    "duration": 12777,
    "start_time": "2022-01-12T12:25:32.574Z"
   },
   {
    "duration": 12774,
    "start_time": "2022-01-12T12:25:32.578Z"
   },
   {
    "duration": 12771,
    "start_time": "2022-01-12T12:25:32.583Z"
   },
   {
    "duration": 12768,
    "start_time": "2022-01-12T12:25:32.587Z"
   },
   {
    "duration": 12825,
    "start_time": "2022-01-12T12:25:32.592Z"
   },
   {
    "duration": 12806,
    "start_time": "2022-01-12T12:25:32.612Z"
   },
   {
    "duration": 12804,
    "start_time": "2022-01-12T12:25:32.616Z"
   },
   {
    "duration": 12799,
    "start_time": "2022-01-12T12:25:32.623Z"
   },
   {
    "duration": 12795,
    "start_time": "2022-01-12T12:25:32.628Z"
   },
   {
    "duration": 72,
    "start_time": "2022-01-12T12:26:09.222Z"
   },
   {
    "duration": 99,
    "start_time": "2022-01-12T12:26:09.297Z"
   },
   {
    "duration": 6,
    "start_time": "2022-01-12T12:26:09.419Z"
   },
   {
    "duration": 26,
    "start_time": "2022-01-12T12:26:09.428Z"
   },
   {
    "duration": 14,
    "start_time": "2022-01-12T12:26:09.456Z"
   },
   {
    "duration": 45,
    "start_time": "2022-01-12T12:26:09.472Z"
   },
   {
    "duration": 6,
    "start_time": "2022-01-12T12:26:09.520Z"
   },
   {
    "duration": 7,
    "start_time": "2022-01-12T12:26:09.530Z"
   },
   {
    "duration": 6,
    "start_time": "2022-01-12T12:26:09.540Z"
   },
   {
    "duration": 94,
    "start_time": "2022-01-12T12:26:09.549Z"
   },
   {
    "duration": 6,
    "start_time": "2022-01-12T12:26:09.645Z"
   },
   {
    "duration": 9,
    "start_time": "2022-01-12T12:26:09.653Z"
   },
   {
    "duration": 10,
    "start_time": "2022-01-12T12:26:09.666Z"
   },
   {
    "duration": 245,
    "start_time": "2022-01-12T12:26:09.726Z"
   },
   {
    "duration": 13019,
    "start_time": "2022-01-12T12:25:56.958Z"
   },
   {
    "duration": 13016,
    "start_time": "2022-01-12T12:25:56.963Z"
   },
   {
    "duration": 13013,
    "start_time": "2022-01-12T12:25:56.968Z"
   },
   {
    "duration": 13010,
    "start_time": "2022-01-12T12:25:56.973Z"
   },
   {
    "duration": 13007,
    "start_time": "2022-01-12T12:25:56.978Z"
   },
   {
    "duration": 13005,
    "start_time": "2022-01-12T12:25:56.983Z"
   },
   {
    "duration": 13002,
    "start_time": "2022-01-12T12:25:56.988Z"
   },
   {
    "duration": 13000,
    "start_time": "2022-01-12T12:25:56.992Z"
   },
   {
    "duration": 12972,
    "start_time": "2022-01-12T12:25:57.022Z"
   },
   {
    "duration": 12967,
    "start_time": "2022-01-12T12:25:57.029Z"
   },
   {
    "duration": 12964,
    "start_time": "2022-01-12T12:25:57.035Z"
   },
   {
    "duration": 12960,
    "start_time": "2022-01-12T12:25:57.041Z"
   },
   {
    "duration": 12957,
    "start_time": "2022-01-12T12:25:57.046Z"
   },
   {
    "duration": 12955,
    "start_time": "2022-01-12T12:25:57.050Z"
   },
   {
    "duration": 12951,
    "start_time": "2022-01-12T12:25:57.057Z"
   },
   {
    "duration": 12949,
    "start_time": "2022-01-12T12:25:57.061Z"
   },
   {
    "duration": 12946,
    "start_time": "2022-01-12T12:25:57.066Z"
   },
   {
    "duration": 12943,
    "start_time": "2022-01-12T12:25:57.071Z"
   },
   {
    "duration": 12939,
    "start_time": "2022-01-12T12:25:57.077Z"
   },
   {
    "duration": 12936,
    "start_time": "2022-01-12T12:25:57.082Z"
   },
   {
    "duration": 12926,
    "start_time": "2022-01-12T12:25:57.094Z"
   },
   {
    "duration": 12920,
    "start_time": "2022-01-12T12:25:57.103Z"
   },
   {
    "duration": 12789,
    "start_time": "2022-01-12T12:25:57.236Z"
   },
   {
    "duration": 12750,
    "start_time": "2022-01-12T12:25:57.277Z"
   },
   {
    "duration": 12748,
    "start_time": "2022-01-12T12:25:57.282Z"
   },
   {
    "duration": 12745,
    "start_time": "2022-01-12T12:25:57.287Z"
   },
   {
    "duration": 12743,
    "start_time": "2022-01-12T12:25:57.292Z"
   },
   {
    "duration": 12741,
    "start_time": "2022-01-12T12:25:57.296Z"
   },
   {
    "duration": 12736,
    "start_time": "2022-01-12T12:25:57.302Z"
   },
   {
    "duration": 12733,
    "start_time": "2022-01-12T12:25:57.307Z"
   },
   {
    "duration": 12729,
    "start_time": "2022-01-12T12:25:57.312Z"
   },
   {
    "duration": 12727,
    "start_time": "2022-01-12T12:25:57.316Z"
   },
   {
    "duration": 12723,
    "start_time": "2022-01-12T12:25:57.322Z"
   },
   {
    "duration": 12719,
    "start_time": "2022-01-12T12:25:57.327Z"
   },
   {
    "duration": 12714,
    "start_time": "2022-01-12T12:25:57.333Z"
   },
   {
    "duration": 12711,
    "start_time": "2022-01-12T12:25:57.338Z"
   },
   {
    "duration": 12707,
    "start_time": "2022-01-12T12:25:57.343Z"
   },
   {
    "duration": 12703,
    "start_time": "2022-01-12T12:25:57.348Z"
   },
   {
    "duration": 12700,
    "start_time": "2022-01-12T12:25:57.353Z"
   },
   {
    "duration": 12696,
    "start_time": "2022-01-12T12:25:57.358Z"
   },
   {
    "duration": 12692,
    "start_time": "2022-01-12T12:25:57.363Z"
   },
   {
    "duration": 12688,
    "start_time": "2022-01-12T12:25:57.368Z"
   },
   {
    "duration": 12685,
    "start_time": "2022-01-12T12:25:57.373Z"
   },
   {
    "duration": 12726,
    "start_time": "2022-01-12T12:25:57.390Z"
   },
   {
    "duration": 12722,
    "start_time": "2022-01-12T12:25:57.396Z"
   },
   {
    "duration": 12718,
    "start_time": "2022-01-12T12:25:57.401Z"
   },
   {
    "duration": 12714,
    "start_time": "2022-01-12T12:25:57.407Z"
   },
   {
    "duration": 12711,
    "start_time": "2022-01-12T12:25:57.412Z"
   },
   {
    "duration": 12708,
    "start_time": "2022-01-12T12:25:57.418Z"
   },
   {
    "duration": 12705,
    "start_time": "2022-01-12T12:25:57.422Z"
   },
   {
    "duration": 4,
    "start_time": "2022-01-12T12:26:10.463Z"
   },
   {
    "duration": 6,
    "start_time": "2022-01-12T12:26:10.469Z"
   },
   {
    "duration": 9,
    "start_time": "2022-01-12T12:26:10.478Z"
   },
   {
    "duration": 3,
    "start_time": "2022-01-12T12:26:10.626Z"
   },
   {
    "duration": 6,
    "start_time": "2022-01-12T12:26:10.631Z"
   },
   {
    "duration": 6,
    "start_time": "2022-01-12T12:26:10.640Z"
   },
   {
    "duration": 6,
    "start_time": "2022-01-12T12:26:10.648Z"
   },
   {
    "duration": 17,
    "start_time": "2022-01-12T12:26:10.656Z"
   },
   {
    "duration": 212,
    "start_time": "2022-01-12T12:26:10.676Z"
   },
   {
    "duration": 26,
    "start_time": "2022-01-12T12:26:10.891Z"
   },
   {
    "duration": 18,
    "start_time": "2022-01-12T12:26:10.919Z"
   },
   {
    "duration": 6,
    "start_time": "2022-01-12T12:26:10.939Z"
   },
   {
    "duration": 7203,
    "start_time": "2022-01-12T12:26:10.948Z"
   },
   {
    "duration": 13191,
    "start_time": "2022-01-12T12:26:04.964Z"
   },
   {
    "duration": 13185,
    "start_time": "2022-01-12T12:26:04.972Z"
   },
   {
    "duration": 13180,
    "start_time": "2022-01-12T12:26:04.978Z"
   },
   {
    "duration": 13176,
    "start_time": "2022-01-12T12:26:04.983Z"
   },
   {
    "duration": 13173,
    "start_time": "2022-01-12T12:26:04.988Z"
   },
   {
    "duration": 13169,
    "start_time": "2022-01-12T12:26:04.993Z"
   },
   {
    "duration": 13165,
    "start_time": "2022-01-12T12:26:04.998Z"
   },
   {
    "duration": 13163,
    "start_time": "2022-01-12T12:26:05.002Z"
   },
   {
    "duration": 13159,
    "start_time": "2022-01-12T12:26:05.007Z"
   },
   {
    "duration": 13155,
    "start_time": "2022-01-12T12:26:05.012Z"
   },
   {
    "duration": 13151,
    "start_time": "2022-01-12T12:26:05.017Z"
   },
   {
    "duration": 13148,
    "start_time": "2022-01-12T12:26:05.022Z"
   },
   {
    "duration": 13145,
    "start_time": "2022-01-12T12:26:05.026Z"
   },
   {
    "duration": 13141,
    "start_time": "2022-01-12T12:26:05.031Z"
   },
   {
    "duration": 13137,
    "start_time": "2022-01-12T12:26:05.036Z"
   },
   {
    "duration": 3,
    "start_time": "2022-01-12T12:27:09.468Z"
   },
   {
    "duration": 16,
    "start_time": "2022-01-12T12:41:47.948Z"
   },
   {
    "duration": 69,
    "start_time": "2022-01-12T12:41:56.253Z"
   },
   {
    "duration": 201,
    "start_time": "2022-01-12T12:41:56.325Z"
   },
   {
    "duration": 6,
    "start_time": "2022-01-12T12:41:56.530Z"
   },
   {
    "duration": 31,
    "start_time": "2022-01-12T12:41:56.539Z"
   },
   {
    "duration": 54,
    "start_time": "2022-01-12T12:41:56.572Z"
   },
   {
    "duration": 77,
    "start_time": "2022-01-12T12:41:56.629Z"
   },
   {
    "duration": 54,
    "start_time": "2022-01-12T12:41:56.708Z"
   },
   {
    "duration": 60,
    "start_time": "2022-01-12T12:41:56.766Z"
   },
   {
    "duration": 75,
    "start_time": "2022-01-12T12:41:56.829Z"
   },
   {
    "duration": 110,
    "start_time": "2022-01-12T12:41:56.907Z"
   },
   {
    "duration": 69,
    "start_time": "2022-01-12T12:41:57.019Z"
   },
   {
    "duration": 86,
    "start_time": "2022-01-12T12:41:57.091Z"
   },
   {
    "duration": 60,
    "start_time": "2022-01-12T12:41:57.179Z"
   },
   {
    "duration": 489,
    "start_time": "2022-01-12T12:41:57.241Z"
   },
   {
    "duration": 13295,
    "start_time": "2022-01-12T12:41:44.444Z"
   },
   {
    "duration": 13291,
    "start_time": "2022-01-12T12:41:44.450Z"
   },
   {
    "duration": 13287,
    "start_time": "2022-01-12T12:41:44.456Z"
   },
   {
    "duration": 13285,
    "start_time": "2022-01-12T12:41:44.460Z"
   },
   {
    "duration": 13280,
    "start_time": "2022-01-12T12:41:44.467Z"
   },
   {
    "duration": 13229,
    "start_time": "2022-01-12T12:41:44.520Z"
   },
   {
    "duration": 13221,
    "start_time": "2022-01-12T12:41:44.530Z"
   },
   {
    "duration": 13214,
    "start_time": "2022-01-12T12:41:44.539Z"
   },
   {
    "duration": 13209,
    "start_time": "2022-01-12T12:41:44.547Z"
   },
   {
    "duration": 13207,
    "start_time": "2022-01-12T12:41:44.551Z"
   },
   {
    "duration": 13205,
    "start_time": "2022-01-12T12:41:44.555Z"
   },
   {
    "duration": 13202,
    "start_time": "2022-01-12T12:41:44.560Z"
   },
   {
    "duration": 13200,
    "start_time": "2022-01-12T12:41:44.564Z"
   },
   {
    "duration": 13187,
    "start_time": "2022-01-12T12:41:44.579Z"
   },
   {
    "duration": 13184,
    "start_time": "2022-01-12T12:41:44.584Z"
   },
   {
    "duration": 13182,
    "start_time": "2022-01-12T12:41:44.589Z"
   },
   {
    "duration": 13179,
    "start_time": "2022-01-12T12:41:44.593Z"
   },
   {
    "duration": 13175,
    "start_time": "2022-01-12T12:41:44.600Z"
   },
   {
    "duration": 13172,
    "start_time": "2022-01-12T12:41:44.605Z"
   },
   {
    "duration": 13168,
    "start_time": "2022-01-12T12:41:44.610Z"
   },
   {
    "duration": 13202,
    "start_time": "2022-01-12T12:41:44.614Z"
   },
   {
    "duration": 13178,
    "start_time": "2022-01-12T12:41:44.640Z"
   },
   {
    "duration": 13174,
    "start_time": "2022-01-12T12:41:44.645Z"
   },
   {
    "duration": 13169,
    "start_time": "2022-01-12T12:41:44.651Z"
   },
   {
    "duration": 13167,
    "start_time": "2022-01-12T12:41:44.655Z"
   },
   {
    "duration": 13090,
    "start_time": "2022-01-12T12:41:44.733Z"
   },
   {
    "duration": 13052,
    "start_time": "2022-01-12T12:41:44.772Z"
   },
   {
    "duration": 13049,
    "start_time": "2022-01-12T12:41:44.776Z"
   },
   {
    "duration": 13046,
    "start_time": "2022-01-12T12:41:44.781Z"
   },
   {
    "duration": 12987,
    "start_time": "2022-01-12T12:41:44.841Z"
   },
   {
    "duration": 12984,
    "start_time": "2022-01-12T12:41:44.845Z"
   },
   {
    "duration": 12981,
    "start_time": "2022-01-12T12:41:44.850Z"
   },
   {
    "duration": 12978,
    "start_time": "2022-01-12T12:41:44.854Z"
   },
   {
    "duration": 12974,
    "start_time": "2022-01-12T12:41:44.859Z"
   },
   {
    "duration": 12971,
    "start_time": "2022-01-12T12:41:44.863Z"
   },
   {
    "duration": 12968,
    "start_time": "2022-01-12T12:41:44.868Z"
   },
   {
    "duration": 12965,
    "start_time": "2022-01-12T12:41:44.872Z"
   },
   {
    "duration": 12962,
    "start_time": "2022-01-12T12:41:44.877Z"
   },
   {
    "duration": 12960,
    "start_time": "2022-01-12T12:41:44.881Z"
   },
   {
    "duration": 12956,
    "start_time": "2022-01-12T12:41:44.886Z"
   },
   {
    "duration": 12954,
    "start_time": "2022-01-12T12:41:44.890Z"
   },
   {
    "duration": 12950,
    "start_time": "2022-01-12T12:41:44.895Z"
   },
   {
    "duration": 12947,
    "start_time": "2022-01-12T12:41:44.899Z"
   },
   {
    "duration": 12944,
    "start_time": "2022-01-12T12:41:44.904Z"
   },
   {
    "duration": 12921,
    "start_time": "2022-01-12T12:41:44.928Z"
   },
   {
    "duration": 12918,
    "start_time": "2022-01-12T12:41:44.933Z"
   },
   {
    "duration": 12916,
    "start_time": "2022-01-12T12:41:44.937Z"
   },
   {
    "duration": 12912,
    "start_time": "2022-01-12T12:41:44.942Z"
   },
   {
    "duration": 12969,
    "start_time": "2022-01-12T12:41:44.947Z"
   },
   {
    "duration": 12966,
    "start_time": "2022-01-12T12:41:44.952Z"
   },
   {
    "duration": 12964,
    "start_time": "2022-01-12T12:41:44.956Z"
   },
   {
    "duration": 12960,
    "start_time": "2022-01-12T12:41:44.961Z"
   },
   {
    "duration": 12950,
    "start_time": "2022-01-12T12:41:44.973Z"
   },
   {
    "duration": 12932,
    "start_time": "2022-01-12T12:41:44.992Z"
   },
   {
    "duration": 12913,
    "start_time": "2022-01-12T12:41:45.012Z"
   },
   {
    "duration": 12909,
    "start_time": "2022-01-12T12:41:45.017Z"
   },
   {
    "duration": 12907,
    "start_time": "2022-01-12T12:41:45.021Z"
   },
   {
    "duration": 17,
    "start_time": "2022-01-12T12:42:08.005Z"
   },
   {
    "duration": 286,
    "start_time": "2022-01-12T12:43:25.376Z"
   },
   {
    "duration": 266,
    "start_time": "2022-01-12T12:43:32.296Z"
   },
   {
    "duration": 282,
    "start_time": "2022-01-12T12:43:41.518Z"
   },
   {
    "duration": 295,
    "start_time": "2022-01-12T12:43:50.362Z"
   },
   {
    "duration": 1356,
    "start_time": "2022-01-12T12:44:31.751Z"
   },
   {
    "duration": 240,
    "start_time": "2022-01-12T12:44:43.051Z"
   },
   {
    "duration": 239,
    "start_time": "2022-01-12T12:46:51.314Z"
   },
   {
    "duration": 180,
    "start_time": "2022-01-12T12:51:45.830Z"
   },
   {
    "duration": 10,
    "start_time": "2022-01-12T12:53:11.061Z"
   },
   {
    "duration": 9,
    "start_time": "2022-01-12T12:53:24.788Z"
   },
   {
    "duration": 9,
    "start_time": "2022-01-12T12:53:34.166Z"
   },
   {
    "duration": 9,
    "start_time": "2022-01-12T12:53:41.534Z"
   },
   {
    "duration": 3,
    "start_time": "2022-01-12T13:09:04.832Z"
   },
   {
    "duration": 43,
    "start_time": "2022-01-12T13:09:14.960Z"
   },
   {
    "duration": 6,
    "start_time": "2022-01-12T13:09:22.289Z"
   },
   {
    "duration": 18,
    "start_time": "2022-01-12T13:09:23.538Z"
   },
   {
    "duration": 6,
    "start_time": "2022-01-12T13:09:24.241Z"
   },
   {
    "duration": 8,
    "start_time": "2022-01-12T13:09:27.682Z"
   },
   {
    "duration": 9,
    "start_time": "2022-01-12T13:09:27.943Z"
   },
   {
    "duration": 7,
    "start_time": "2022-01-12T13:09:28.791Z"
   },
   {
    "duration": 8,
    "start_time": "2022-01-12T13:09:42.696Z"
   },
   {
    "duration": 190,
    "start_time": "2022-01-12T13:09:42.707Z"
   },
   {
    "duration": 143,
    "start_time": "2022-01-12T13:09:42.900Z"
   },
   {
    "duration": 170,
    "start_time": "2022-01-12T13:09:43.046Z"
   },
   {
    "duration": 121,
    "start_time": "2022-01-12T13:09:43.219Z"
   },
   {
    "duration": 85,
    "start_time": "2022-01-12T13:09:43.343Z"
   },
   {
    "duration": 368,
    "start_time": "2022-01-12T13:09:43.432Z"
   },
   {
    "duration": 13251,
    "start_time": "2022-01-12T13:09:30.554Z"
   },
   {
    "duration": 13246,
    "start_time": "2022-01-12T13:09:30.560Z"
   },
   {
    "duration": 13197,
    "start_time": "2022-01-12T13:09:30.611Z"
   },
   {
    "duration": 13192,
    "start_time": "2022-01-12T13:09:30.617Z"
   },
   {
    "duration": 13188,
    "start_time": "2022-01-12T13:09:30.623Z"
   },
   {
    "duration": 13183,
    "start_time": "2022-01-12T13:09:30.629Z"
   },
   {
    "duration": 13178,
    "start_time": "2022-01-12T13:09:30.636Z"
   },
   {
    "duration": 13173,
    "start_time": "2022-01-12T13:09:30.642Z"
   },
   {
    "duration": 13171,
    "start_time": "2022-01-12T13:09:30.646Z"
   },
   {
    "duration": 13167,
    "start_time": "2022-01-12T13:09:30.652Z"
   },
   {
    "duration": 13164,
    "start_time": "2022-01-12T13:09:30.656Z"
   },
   {
    "duration": 13158,
    "start_time": "2022-01-12T13:09:30.663Z"
   },
   {
    "duration": 13154,
    "start_time": "2022-01-12T13:09:30.669Z"
   },
   {
    "duration": 13150,
    "start_time": "2022-01-12T13:09:30.674Z"
   },
   {
    "duration": 13145,
    "start_time": "2022-01-12T13:09:30.680Z"
   },
   {
    "duration": 13142,
    "start_time": "2022-01-12T13:09:30.685Z"
   },
   {
    "duration": 13138,
    "start_time": "2022-01-12T13:09:30.690Z"
   },
   {
    "duration": 13121,
    "start_time": "2022-01-12T13:09:30.708Z"
   },
   {
    "duration": 13104,
    "start_time": "2022-01-12T13:09:30.726Z"
   },
   {
    "duration": 13005,
    "start_time": "2022-01-12T13:09:30.826Z"
   },
   {
    "duration": 12961,
    "start_time": "2022-01-12T13:09:30.872Z"
   },
   {
    "duration": 12939,
    "start_time": "2022-01-12T13:09:30.895Z"
   },
   {
    "duration": 12910,
    "start_time": "2022-01-12T13:09:30.925Z"
   },
   {
    "duration": 12904,
    "start_time": "2022-01-12T13:09:30.933Z"
   },
   {
    "duration": 12897,
    "start_time": "2022-01-12T13:09:30.941Z"
   },
   {
    "duration": 12892,
    "start_time": "2022-01-12T13:09:30.947Z"
   },
   {
    "duration": 12886,
    "start_time": "2022-01-12T13:09:30.955Z"
   },
   {
    "duration": 12878,
    "start_time": "2022-01-12T13:09:30.964Z"
   },
   {
    "duration": 12874,
    "start_time": "2022-01-12T13:09:30.969Z"
   },
   {
    "duration": 12866,
    "start_time": "2022-01-12T13:09:30.978Z"
   },
   {
    "duration": 12861,
    "start_time": "2022-01-12T13:09:30.985Z"
   },
   {
    "duration": 12855,
    "start_time": "2022-01-12T13:09:30.992Z"
   },
   {
    "duration": 12851,
    "start_time": "2022-01-12T13:09:30.998Z"
   },
   {
    "duration": 12847,
    "start_time": "2022-01-12T13:09:31.003Z"
   },
   {
    "duration": 12843,
    "start_time": "2022-01-12T13:09:31.009Z"
   },
   {
    "duration": 12839,
    "start_time": "2022-01-12T13:09:31.014Z"
   },
   {
    "duration": 12836,
    "start_time": "2022-01-12T13:09:31.019Z"
   },
   {
    "duration": 12814,
    "start_time": "2022-01-12T13:09:31.042Z"
   },
   {
    "duration": 12867,
    "start_time": "2022-01-12T13:09:31.050Z"
   },
   {
    "duration": 12860,
    "start_time": "2022-01-12T13:09:31.058Z"
   },
   {
    "duration": 12858,
    "start_time": "2022-01-12T13:09:31.062Z"
   },
   {
    "duration": 12837,
    "start_time": "2022-01-12T13:09:31.084Z"
   },
   {
    "duration": 12643,
    "start_time": "2022-01-12T13:09:31.279Z"
   },
   {
    "duration": 12592,
    "start_time": "2022-01-12T13:09:31.332Z"
   },
   {
    "duration": 12516,
    "start_time": "2022-01-12T13:09:31.409Z"
   },
   {
    "duration": 12465,
    "start_time": "2022-01-12T13:09:31.461Z"
   },
   {
    "duration": 12442,
    "start_time": "2022-01-12T13:09:31.486Z"
   },
   {
    "duration": 12434,
    "start_time": "2022-01-12T13:09:31.495Z"
   },
   {
    "duration": 12284,
    "start_time": "2022-01-12T13:09:31.646Z"
   },
   {
    "duration": 12261,
    "start_time": "2022-01-12T13:09:31.670Z"
   },
   {
    "duration": 12258,
    "start_time": "2022-01-12T13:09:31.675Z"
   },
   {
    "duration": 12254,
    "start_time": "2022-01-12T13:09:31.680Z"
   },
   {
    "duration": 12252,
    "start_time": "2022-01-12T13:09:31.684Z"
   },
   {
    "duration": 12248,
    "start_time": "2022-01-12T13:09:31.689Z"
   },
   {
    "duration": 12244,
    "start_time": "2022-01-12T13:09:31.694Z"
   },
   {
    "duration": 12241,
    "start_time": "2022-01-12T13:09:31.699Z"
   },
   {
    "duration": 12220,
    "start_time": "2022-01-12T13:09:31.721Z"
   },
   {
    "duration": 12198,
    "start_time": "2022-01-12T13:09:31.745Z"
   },
   {
    "duration": 12148,
    "start_time": "2022-01-12T13:09:31.796Z"
   },
   {
    "duration": 12080,
    "start_time": "2022-01-12T13:09:31.866Z"
   },
   {
    "duration": 12029,
    "start_time": "2022-01-12T13:09:31.918Z"
   },
   {
    "duration": 11986,
    "start_time": "2022-01-12T13:09:31.963Z"
   },
   {
    "duration": 11979,
    "start_time": "2022-01-12T13:09:31.971Z"
   },
   {
    "duration": 11973,
    "start_time": "2022-01-12T13:09:31.979Z"
   },
   {
    "duration": 292,
    "start_time": "2022-01-12T13:11:02.169Z"
   },
   {
    "duration": 384,
    "start_time": "2022-01-12T13:12:33.793Z"
   },
   {
    "duration": 263,
    "start_time": "2022-01-12T13:13:08.853Z"
   },
   {
    "duration": 98,
    "start_time": "2022-01-12T13:13:56.297Z"
   },
   {
    "duration": 1090,
    "start_time": "2022-01-12T13:14:48.452Z"
   },
   {
    "duration": 297,
    "start_time": "2022-01-12T13:15:18.967Z"
   },
   {
    "duration": 278,
    "start_time": "2022-01-12T13:16:43.955Z"
   },
   {
    "duration": 253,
    "start_time": "2022-01-12T13:17:16.315Z"
   },
   {
    "duration": 276,
    "start_time": "2022-01-12T13:17:33.409Z"
   },
   {
    "duration": 290,
    "start_time": "2022-01-12T13:17:44.104Z"
   },
   {
    "duration": 279,
    "start_time": "2022-01-12T13:17:53.799Z"
   },
   {
    "duration": 257,
    "start_time": "2022-01-12T13:18:41.938Z"
   },
   {
    "duration": 7,
    "start_time": "2022-01-12T13:19:36.600Z"
   },
   {
    "duration": 630,
    "start_time": "2022-01-12T13:19:36.612Z"
   },
   {
    "duration": 795,
    "start_time": "2022-01-12T13:19:37.245Z"
   },
   {
    "duration": 770,
    "start_time": "2022-01-12T13:19:38.043Z"
   },
   {
    "duration": 791,
    "start_time": "2022-01-12T13:19:38.816Z"
   },
   {
    "duration": 499,
    "start_time": "2022-01-12T13:19:39.610Z"
   },
   {
    "duration": 543,
    "start_time": "2022-01-12T13:19:40.111Z"
   },
   {
    "duration": 495,
    "start_time": "2022-01-12T13:19:40.656Z"
   },
   {
    "duration": 681,
    "start_time": "2022-01-12T13:19:41.154Z"
   },
   {
    "duration": 377,
    "start_time": "2022-01-12T13:19:41.838Z"
   },
   {
    "duration": 356,
    "start_time": "2022-01-12T13:19:42.217Z"
   },
   {
    "duration": 311,
    "start_time": "2022-01-12T13:19:42.575Z"
   },
   {
    "duration": 193,
    "start_time": "2022-01-12T13:19:42.888Z"
   },
   {
    "duration": 164,
    "start_time": "2022-01-12T13:19:43.083Z"
   },
   {
    "duration": 259,
    "start_time": "2022-01-12T13:19:43.250Z"
   },
   {
    "duration": 194,
    "start_time": "2022-01-12T13:19:43.511Z"
   },
   {
    "duration": 134,
    "start_time": "2022-01-12T13:19:43.708Z"
   },
   {
    "duration": 208,
    "start_time": "2022-01-12T13:19:43.844Z"
   },
   {
    "duration": 200,
    "start_time": "2022-01-12T13:19:44.054Z"
   },
   {
    "duration": 743,
    "start_time": "2022-01-12T13:19:44.256Z"
   },
   {
    "duration": 302,
    "start_time": "2022-01-12T13:19:45.002Z"
   },
   {
    "duration": 86,
    "start_time": "2022-01-12T13:19:45.306Z"
   },
   {
    "duration": 36,
    "start_time": "2022-01-12T13:19:45.394Z"
   },
   {
    "duration": 188,
    "start_time": "2022-01-12T13:19:45.435Z"
   },
   {
    "duration": 264,
    "start_time": "2022-01-12T13:19:45.627Z"
   },
   {
    "duration": 218,
    "start_time": "2022-01-12T13:19:45.893Z"
   },
   {
    "duration": 269,
    "start_time": "2022-01-12T13:19:46.114Z"
   },
   {
    "duration": 169,
    "start_time": "2022-01-12T13:19:46.386Z"
   },
   {
    "duration": 275,
    "start_time": "2022-01-12T13:19:46.557Z"
   },
   {
    "duration": 209,
    "start_time": "2022-01-12T13:19:46.834Z"
   },
   {
    "duration": 188,
    "start_time": "2022-01-12T13:19:47.045Z"
   },
   {
    "duration": 59,
    "start_time": "2022-01-12T13:19:47.235Z"
   },
   {
    "duration": 71,
    "start_time": "2022-01-12T13:19:47.297Z"
   },
   {
    "duration": 231,
    "start_time": "2022-01-12T13:19:47.370Z"
   },
   {
    "duration": 176,
    "start_time": "2022-01-12T13:19:47.603Z"
   },
   {
    "duration": 397,
    "start_time": "2022-01-12T13:19:47.782Z"
   },
   {
    "duration": 61,
    "start_time": "2022-01-12T13:19:48.182Z"
   },
   {
    "duration": 31,
    "start_time": "2022-01-12T13:19:48.246Z"
   },
   {
    "duration": 48,
    "start_time": "2022-01-12T13:19:48.280Z"
   },
   {
    "duration": 53,
    "start_time": "2022-01-12T13:19:48.330Z"
   },
   {
    "duration": 244,
    "start_time": "2022-01-12T13:19:48.386Z"
   },
   {
    "duration": 243,
    "start_time": "2022-01-12T13:19:48.633Z"
   },
   {
    "duration": 96,
    "start_time": "2022-01-12T13:19:48.878Z"
   },
   {
    "duration": 25,
    "start_time": "2022-01-12T13:19:48.976Z"
   },
   {
    "duration": 42,
    "start_time": "2022-01-12T13:19:49.004Z"
   },
   {
    "duration": 27,
    "start_time": "2022-01-12T13:19:49.049Z"
   },
   {
    "duration": 69,
    "start_time": "2022-01-12T13:19:49.080Z"
   },
   {
    "duration": 183,
    "start_time": "2022-01-12T13:19:49.152Z"
   },
   {
    "duration": 78,
    "start_time": "2022-01-12T13:19:49.338Z"
   },
   {
    "duration": 46,
    "start_time": "2022-01-12T13:19:49.418Z"
   },
   {
    "duration": 108,
    "start_time": "2022-01-12T13:19:49.467Z"
   },
   {
    "duration": 65,
    "start_time": "2022-01-12T13:19:49.578Z"
   },
   {
    "duration": 108,
    "start_time": "2022-01-12T13:19:49.646Z"
   },
   {
    "duration": 85,
    "start_time": "2022-01-12T13:19:49.757Z"
   },
   {
    "duration": 187,
    "start_time": "2022-01-12T13:19:49.845Z"
   },
   {
    "duration": 142,
    "start_time": "2022-01-12T13:19:50.035Z"
   },
   {
    "duration": 187,
    "start_time": "2022-01-12T13:19:50.180Z"
   },
   {
    "duration": 147,
    "start_time": "2022-01-12T13:19:50.369Z"
   },
   {
    "duration": 117,
    "start_time": "2022-01-12T13:19:50.519Z"
   },
   {
    "duration": 58,
    "start_time": "2022-01-12T13:19:50.638Z"
   },
   {
    "duration": 78,
    "start_time": "2022-01-12T13:19:50.699Z"
   },
   {
    "duration": 100,
    "start_time": "2022-01-12T13:19:50.780Z"
   },
   {
    "duration": 91,
    "start_time": "2022-01-12T13:19:50.883Z"
   },
   {
    "duration": 137,
    "start_time": "2022-01-12T13:19:50.977Z"
   },
   {
    "duration": 107,
    "start_time": "2022-01-12T13:19:51.117Z"
   },
   {
    "duration": 250,
    "start_time": "2022-01-12T13:19:51.226Z"
   },
   {
    "duration": 265,
    "start_time": "2022-01-12T13:24:16.360Z"
   },
   {
    "duration": 263,
    "start_time": "2022-01-12T13:25:08.314Z"
   },
   {
    "duration": 334,
    "start_time": "2022-01-12T13:25:25.642Z"
   },
   {
    "duration": 4583,
    "start_time": "2022-01-12T13:25:59.268Z"
   },
   {
    "duration": 318,
    "start_time": "2022-01-12T13:26:18.602Z"
   },
   {
    "duration": 66,
    "start_time": "2022-01-12T13:26:42.446Z"
   },
   {
    "duration": 430,
    "start_time": "2022-01-12T13:26:42.514Z"
   },
   {
    "duration": 95,
    "start_time": "2022-01-12T13:26:42.948Z"
   },
   {
    "duration": 149,
    "start_time": "2022-01-12T13:26:43.046Z"
   },
   {
    "duration": 92,
    "start_time": "2022-01-12T13:26:43.197Z"
   },
   {
    "duration": 205,
    "start_time": "2022-01-12T13:26:43.292Z"
   },
   {
    "duration": 447,
    "start_time": "2022-01-12T13:26:43.500Z"
   },
   {
    "duration": 192,
    "start_time": "2022-01-12T13:26:43.952Z"
   },
   {
    "duration": 106,
    "start_time": "2022-01-12T13:26:44.149Z"
   },
   {
    "duration": 438,
    "start_time": "2022-01-12T13:26:44.258Z"
   },
   {
    "duration": 288,
    "start_time": "2022-01-12T13:26:44.699Z"
   },
   {
    "duration": 354,
    "start_time": "2022-01-12T13:26:44.990Z"
   },
   {
    "duration": 260,
    "start_time": "2022-01-12T13:26:45.346Z"
   },
   {
    "duration": 196,
    "start_time": "2022-01-12T13:26:45.610Z"
   },
   {
    "duration": 354,
    "start_time": "2022-01-12T13:26:45.809Z"
   },
   {
    "duration": 159,
    "start_time": "2022-01-12T13:26:46.165Z"
   },
   {
    "duration": 197,
    "start_time": "2022-01-12T13:26:46.327Z"
   },
   {
    "duration": 183,
    "start_time": "2022-01-12T13:26:46.528Z"
   },
   {
    "duration": 175,
    "start_time": "2022-01-12T13:26:46.714Z"
   },
   {
    "duration": 109,
    "start_time": "2022-01-12T13:26:46.891Z"
   },
   {
    "duration": 284,
    "start_time": "2022-01-12T13:26:47.003Z"
   },
   {
    "duration": 420,
    "start_time": "2022-01-12T13:26:47.290Z"
   },
   {
    "duration": 421,
    "start_time": "2022-01-12T13:26:47.714Z"
   },
   {
    "duration": 280,
    "start_time": "2022-01-12T13:26:48.138Z"
   },
   {
    "duration": 432,
    "start_time": "2022-01-12T13:26:48.420Z"
   },
   {
    "duration": 179,
    "start_time": "2022-01-12T13:26:48.855Z"
   },
   {
    "duration": 195,
    "start_time": "2022-01-12T13:26:49.037Z"
   },
   {
    "duration": 204,
    "start_time": "2022-01-12T13:26:49.234Z"
   },
   {
    "duration": 5,
    "start_time": "2022-01-12T13:27:00.593Z"
   },
   {
    "duration": 9,
    "start_time": "2022-01-12T13:27:15.679Z"
   },
   {
    "duration": 8,
    "start_time": "2022-01-12T13:27:41.694Z"
   },
   {
    "duration": 66,
    "start_time": "2022-01-12T16:38:25.023Z"
   },
   {
    "duration": 129,
    "start_time": "2022-01-12T16:38:25.116Z"
   },
   {
    "duration": 5,
    "start_time": "2022-01-12T16:38:25.248Z"
   },
   {
    "duration": 38,
    "start_time": "2022-01-12T16:38:25.256Z"
   },
   {
    "duration": 31,
    "start_time": "2022-01-12T16:38:25.296Z"
   },
   {
    "duration": 6,
    "start_time": "2022-01-12T16:38:25.329Z"
   },
   {
    "duration": 14,
    "start_time": "2022-01-12T16:38:25.337Z"
   },
   {
    "duration": 6,
    "start_time": "2022-01-12T16:38:25.356Z"
   },
   {
    "duration": 7,
    "start_time": "2022-01-12T16:38:25.365Z"
   },
   {
    "duration": 87,
    "start_time": "2022-01-12T16:38:25.375Z"
   },
   {
    "duration": 8,
    "start_time": "2022-01-12T16:38:25.465Z"
   },
   {
    "duration": 16,
    "start_time": "2022-01-12T16:38:25.475Z"
   },
   {
    "duration": 30,
    "start_time": "2022-01-12T16:38:25.493Z"
   },
   {
    "duration": 5,
    "start_time": "2022-01-12T16:38:25.526Z"
   },
   {
    "duration": 62,
    "start_time": "2022-01-12T16:38:25.533Z"
   },
   {
    "duration": 20,
    "start_time": "2022-01-12T16:38:25.597Z"
   },
   {
    "duration": 12,
    "start_time": "2022-01-12T16:38:25.619Z"
   },
   {
    "duration": 14,
    "start_time": "2022-01-12T16:38:25.633Z"
   },
   {
    "duration": 20,
    "start_time": "2022-01-12T16:38:25.650Z"
   },
   {
    "duration": 8,
    "start_time": "2022-01-12T16:38:25.673Z"
   },
   {
    "duration": 38,
    "start_time": "2022-01-12T16:38:25.683Z"
   },
   {
    "duration": 23,
    "start_time": "2022-01-12T16:38:25.724Z"
   },
   {
    "duration": 20,
    "start_time": "2022-01-12T16:38:25.753Z"
   },
   {
    "duration": 10,
    "start_time": "2022-01-12T16:38:25.777Z"
   },
   {
    "duration": 32,
    "start_time": "2022-01-12T16:38:25.790Z"
   },
   {
    "duration": 6,
    "start_time": "2022-01-12T16:38:25.825Z"
   },
   {
    "duration": 10,
    "start_time": "2022-01-12T16:38:25.833Z"
   },
   {
    "duration": 13,
    "start_time": "2022-01-12T16:38:25.846Z"
   },
   {
    "duration": 11,
    "start_time": "2022-01-12T16:38:25.862Z"
   },
   {
    "duration": 42,
    "start_time": "2022-01-12T16:38:25.876Z"
   },
   {
    "duration": 15,
    "start_time": "2022-01-12T16:38:25.921Z"
   },
   {
    "duration": 7,
    "start_time": "2022-01-12T16:38:25.938Z"
   },
   {
    "duration": 18,
    "start_time": "2022-01-12T16:38:25.947Z"
   },
   {
    "duration": 18,
    "start_time": "2022-01-12T16:38:25.968Z"
   },
   {
    "duration": 29,
    "start_time": "2022-01-12T16:38:25.988Z"
   },
   {
    "duration": 16,
    "start_time": "2022-01-12T16:38:26.020Z"
   },
   {
    "duration": 4,
    "start_time": "2022-01-12T16:38:26.039Z"
   },
   {
    "duration": 12,
    "start_time": "2022-01-12T16:38:26.046Z"
   },
   {
    "duration": 26,
    "start_time": "2022-01-12T16:38:26.060Z"
   },
   {
    "duration": 12,
    "start_time": "2022-01-12T16:38:26.089Z"
   },
   {
    "duration": 34,
    "start_time": "2022-01-12T16:38:26.104Z"
   },
   {
    "duration": 13,
    "start_time": "2022-01-12T16:38:26.140Z"
   },
   {
    "duration": 14,
    "start_time": "2022-01-12T16:38:26.155Z"
   },
   {
    "duration": 14,
    "start_time": "2022-01-12T16:38:26.172Z"
   },
   {
    "duration": 48,
    "start_time": "2022-01-12T16:38:26.189Z"
   },
   {
    "duration": 7,
    "start_time": "2022-01-12T16:38:26.240Z"
   },
   {
    "duration": 28,
    "start_time": "2022-01-12T16:38:26.250Z"
   },
   {
    "duration": 47,
    "start_time": "2022-01-12T16:38:26.280Z"
   },
   {
    "duration": 22,
    "start_time": "2022-01-12T16:38:26.330Z"
   },
   {
    "duration": 3,
    "start_time": "2022-01-12T16:38:26.354Z"
   },
   {
    "duration": 15,
    "start_time": "2022-01-12T16:38:26.359Z"
   },
   {
    "duration": 18,
    "start_time": "2022-01-12T16:38:26.376Z"
   },
   {
    "duration": 4,
    "start_time": "2022-01-12T16:38:26.418Z"
   },
   {
    "duration": 31,
    "start_time": "2022-01-12T16:38:26.425Z"
   },
   {
    "duration": 9,
    "start_time": "2022-01-12T16:38:26.459Z"
   },
   {
    "duration": 25,
    "start_time": "2022-01-12T16:38:26.470Z"
   },
   {
    "duration": 19,
    "start_time": "2022-01-12T16:38:26.497Z"
   },
   {
    "duration": 38,
    "start_time": "2022-01-12T16:38:26.518Z"
   },
   {
    "duration": 6,
    "start_time": "2022-01-12T16:38:26.558Z"
   },
   {
    "duration": 9,
    "start_time": "2022-01-12T16:38:26.566Z"
   },
   {
    "duration": 40,
    "start_time": "2022-01-12T16:38:26.578Z"
   },
   {
    "duration": 3,
    "start_time": "2022-01-12T16:38:26.620Z"
   },
   {
    "duration": 14,
    "start_time": "2022-01-12T16:38:26.625Z"
   },
   {
    "duration": 17,
    "start_time": "2022-01-12T16:38:26.642Z"
   },
   {
    "duration": 3,
    "start_time": "2022-01-12T16:38:26.662Z"
   },
   {
    "duration": 12,
    "start_time": "2022-01-12T16:38:26.667Z"
   },
   {
    "duration": 36,
    "start_time": "2022-01-12T16:38:26.682Z"
   },
   {
    "duration": 7,
    "start_time": "2022-01-12T16:38:26.725Z"
   },
   {
    "duration": 20,
    "start_time": "2022-01-12T16:38:26.735Z"
   },
   {
    "duration": 30,
    "start_time": "2022-01-12T16:38:26.757Z"
   },
   {
    "duration": 8,
    "start_time": "2022-01-12T16:38:26.790Z"
   },
   {
    "duration": 22,
    "start_time": "2022-01-12T16:38:26.800Z"
   },
   {
    "duration": 13,
    "start_time": "2022-01-12T16:38:26.824Z"
   },
   {
    "duration": 11,
    "start_time": "2022-01-12T16:38:26.840Z"
   },
   {
    "duration": 3,
    "start_time": "2022-01-12T16:38:31.187Z"
   },
   {
    "duration": 7,
    "start_time": "2022-01-12T16:38:33.404Z"
   },
   {
    "duration": 10,
    "start_time": "2022-01-12T16:39:44.623Z"
   },
   {
    "duration": 92,
    "start_time": "2022-01-12T16:42:43.236Z"
   },
   {
    "duration": 146,
    "start_time": "2022-01-12T16:42:43.332Z"
   },
   {
    "duration": 6,
    "start_time": "2022-01-12T16:42:43.482Z"
   },
   {
    "duration": 19,
    "start_time": "2022-01-12T16:42:43.519Z"
   },
   {
    "duration": 17,
    "start_time": "2022-01-12T16:42:43.541Z"
   },
   {
    "duration": 8,
    "start_time": "2022-01-12T16:42:43.561Z"
   },
   {
    "duration": 45,
    "start_time": "2022-01-12T16:42:43.572Z"
   },
   {
    "duration": 7,
    "start_time": "2022-01-12T16:42:43.620Z"
   },
   {
    "duration": 6,
    "start_time": "2022-01-12T16:42:43.631Z"
   },
   {
    "duration": 78,
    "start_time": "2022-01-12T16:42:43.641Z"
   },
   {
    "duration": 8,
    "start_time": "2022-01-12T16:42:43.722Z"
   },
   {
    "duration": 12,
    "start_time": "2022-01-12T16:42:43.732Z"
   },
   {
    "duration": 11,
    "start_time": "2022-01-12T16:42:43.747Z"
   },
   {
    "duration": 8,
    "start_time": "2022-01-12T16:42:43.761Z"
   },
   {
    "duration": 90,
    "start_time": "2022-01-12T16:42:43.771Z"
   },
   {
    "duration": 3,
    "start_time": "2022-01-12T16:42:43.864Z"
   },
   {
    "duration": 11,
    "start_time": "2022-01-12T16:42:43.868Z"
   },
   {
    "duration": 12,
    "start_time": "2022-01-12T16:42:43.881Z"
   },
   {
    "duration": 28,
    "start_time": "2022-01-12T16:42:43.896Z"
   },
   {
    "duration": 6,
    "start_time": "2022-01-12T16:42:43.927Z"
   },
   {
    "duration": 7,
    "start_time": "2022-01-12T16:42:43.935Z"
   },
   {
    "duration": 8,
    "start_time": "2022-01-12T16:42:43.944Z"
   },
   {
    "duration": 9,
    "start_time": "2022-01-12T16:42:43.954Z"
   },
   {
    "duration": 55,
    "start_time": "2022-01-12T16:42:43.965Z"
   },
   {
    "duration": 8,
    "start_time": "2022-01-12T16:42:44.022Z"
   },
   {
    "duration": 6,
    "start_time": "2022-01-12T16:42:44.033Z"
   },
   {
    "duration": 8,
    "start_time": "2022-01-12T16:42:44.045Z"
   },
   {
    "duration": 6,
    "start_time": "2022-01-12T16:42:44.056Z"
   },
   {
    "duration": 56,
    "start_time": "2022-01-12T16:42:44.064Z"
   },
   {
    "duration": 2,
    "start_time": "2022-01-12T16:42:44.123Z"
   },
   {
    "duration": 12,
    "start_time": "2022-01-12T16:42:44.127Z"
   },
   {
    "duration": 6,
    "start_time": "2022-01-12T16:42:44.141Z"
   },
   {
    "duration": 8,
    "start_time": "2022-01-12T16:42:44.149Z"
   },
   {
    "duration": 13,
    "start_time": "2022-01-12T16:42:44.159Z"
   },
   {
    "duration": 47,
    "start_time": "2022-01-12T16:42:44.174Z"
   },
   {
    "duration": 10,
    "start_time": "2022-01-12T16:42:44.223Z"
   },
   {
    "duration": 10,
    "start_time": "2022-01-12T16:42:44.235Z"
   },
   {
    "duration": 15,
    "start_time": "2022-01-12T16:42:44.247Z"
   },
   {
    "duration": 12,
    "start_time": "2022-01-12T16:42:44.264Z"
   },
   {
    "duration": 5,
    "start_time": "2022-01-12T16:42:44.278Z"
   },
   {
    "duration": 37,
    "start_time": "2022-01-12T16:42:44.285Z"
   },
   {
    "duration": 9,
    "start_time": "2022-01-12T16:42:44.325Z"
   },
   {
    "duration": 6,
    "start_time": "2022-01-12T16:42:44.336Z"
   },
   {
    "duration": 5,
    "start_time": "2022-01-12T16:42:44.344Z"
   },
   {
    "duration": 27,
    "start_time": "2022-01-12T16:42:44.351Z"
   },
   {
    "duration": 41,
    "start_time": "2022-01-12T16:42:44.381Z"
   },
   {
    "duration": 23,
    "start_time": "2022-01-12T16:42:44.425Z"
   },
   {
    "duration": 23,
    "start_time": "2022-01-12T16:42:44.451Z"
   },
   {
    "duration": 58,
    "start_time": "2022-01-12T16:42:44.477Z"
   },
   {
    "duration": 3,
    "start_time": "2022-01-12T16:42:44.538Z"
   },
   {
    "duration": 8,
    "start_time": "2022-01-12T16:42:44.544Z"
   },
   {
    "duration": 6,
    "start_time": "2022-01-12T16:42:44.554Z"
   },
   {
    "duration": 7,
    "start_time": "2022-01-12T16:42:44.563Z"
   },
   {
    "duration": 45,
    "start_time": "2022-01-12T16:42:44.572Z"
   },
   {
    "duration": 7,
    "start_time": "2022-01-12T16:42:44.619Z"
   },
   {
    "duration": 16,
    "start_time": "2022-01-12T16:42:44.628Z"
   },
   {
    "duration": 13,
    "start_time": "2022-01-12T16:42:44.647Z"
   },
   {
    "duration": 59,
    "start_time": "2022-01-12T16:42:44.662Z"
   },
   {
    "duration": 7,
    "start_time": "2022-01-12T16:42:44.724Z"
   },
   {
    "duration": 12,
    "start_time": "2022-01-12T16:42:44.734Z"
   },
   {
    "duration": 11,
    "start_time": "2022-01-12T16:42:44.748Z"
   },
   {
    "duration": 4,
    "start_time": "2022-01-12T16:42:44.761Z"
   },
   {
    "duration": 56,
    "start_time": "2022-01-12T16:42:44.767Z"
   },
   {
    "duration": 17,
    "start_time": "2022-01-12T16:42:44.826Z"
   },
   {
    "duration": 4,
    "start_time": "2022-01-12T16:42:44.846Z"
   },
   {
    "duration": 5,
    "start_time": "2022-01-12T16:42:44.853Z"
   },
   {
    "duration": 11,
    "start_time": "2022-01-12T16:42:44.861Z"
   },
   {
    "duration": 42,
    "start_time": "2022-01-12T16:42:44.875Z"
   },
   {
    "duration": 7,
    "start_time": "2022-01-12T16:42:44.920Z"
   },
   {
    "duration": 8,
    "start_time": "2022-01-12T16:42:44.929Z"
   },
   {
    "duration": 4,
    "start_time": "2022-01-12T16:42:44.939Z"
   },
   {
    "duration": 16,
    "start_time": "2022-01-12T16:42:44.946Z"
   },
   {
    "duration": 3,
    "start_time": "2022-01-12T16:42:44.965Z"
   },
   {
    "duration": 47,
    "start_time": "2022-01-12T16:42:44.970Z"
   },
   {
    "duration": 11,
    "start_time": "2022-01-12T16:42:45.020Z"
   },
   {
    "duration": 20,
    "start_time": "2022-01-12T16:42:45.034Z"
   },
   {
    "duration": 16,
    "start_time": "2022-01-12T16:42:49.732Z"
   },
   {
    "duration": 64,
    "start_time": "2022-01-12T16:44:48.881Z"
   },
   {
    "duration": 130,
    "start_time": "2022-01-12T16:44:48.947Z"
   },
   {
    "duration": 5,
    "start_time": "2022-01-12T16:44:49.080Z"
   },
   {
    "duration": 19,
    "start_time": "2022-01-12T16:44:49.118Z"
   },
   {
    "duration": 14,
    "start_time": "2022-01-12T16:44:49.140Z"
   },
   {
    "duration": 6,
    "start_time": "2022-01-12T16:44:49.156Z"
   },
   {
    "duration": 6,
    "start_time": "2022-01-12T16:44:49.164Z"
   },
   {
    "duration": 6,
    "start_time": "2022-01-12T16:44:49.217Z"
   },
   {
    "duration": 8,
    "start_time": "2022-01-12T16:44:49.225Z"
   },
   {
    "duration": 33,
    "start_time": "2022-01-12T16:44:49.235Z"
   },
   {
    "duration": 6,
    "start_time": "2022-01-12T16:44:49.271Z"
   },
   {
    "duration": 42,
    "start_time": "2022-01-12T16:44:49.279Z"
   },
   {
    "duration": 10,
    "start_time": "2022-01-12T16:44:49.323Z"
   },
   {
    "duration": 2,
    "start_time": "2022-01-12T16:44:49.335Z"
   },
   {
    "duration": 89,
    "start_time": "2022-01-12T16:44:49.339Z"
   },
   {
    "duration": 2,
    "start_time": "2022-01-12T16:44:49.431Z"
   },
   {
    "duration": 9,
    "start_time": "2022-01-12T16:44:49.436Z"
   },
   {
    "duration": 10,
    "start_time": "2022-01-12T16:44:49.447Z"
   },
   {
    "duration": 19,
    "start_time": "2022-01-12T16:44:49.460Z"
   },
   {
    "duration": 8,
    "start_time": "2022-01-12T16:44:49.518Z"
   },
   {
    "duration": 9,
    "start_time": "2022-01-12T16:44:49.529Z"
   },
   {
    "duration": 7,
    "start_time": "2022-01-12T16:44:49.541Z"
   },
   {
    "duration": 6,
    "start_time": "2022-01-12T16:44:49.554Z"
   },
   {
    "duration": 59,
    "start_time": "2022-01-12T16:44:49.563Z"
   },
   {
    "duration": 11,
    "start_time": "2022-01-12T16:44:49.625Z"
   },
   {
    "duration": 9,
    "start_time": "2022-01-12T16:44:49.639Z"
   },
   {
    "duration": 12,
    "start_time": "2022-01-12T16:44:49.650Z"
   },
   {
    "duration": 6,
    "start_time": "2022-01-12T16:44:49.664Z"
   },
   {
    "duration": 50,
    "start_time": "2022-01-12T16:44:49.672Z"
   },
   {
    "duration": 5,
    "start_time": "2022-01-12T16:44:49.724Z"
   },
   {
    "duration": 15,
    "start_time": "2022-01-12T16:44:49.731Z"
   },
   {
    "duration": 9,
    "start_time": "2022-01-12T16:44:49.749Z"
   },
   {
    "duration": 8,
    "start_time": "2022-01-12T16:44:49.761Z"
   },
   {
    "duration": 49,
    "start_time": "2022-01-12T16:44:49.772Z"
   },
   {
    "duration": 9,
    "start_time": "2022-01-12T16:44:49.824Z"
   },
   {
    "duration": 11,
    "start_time": "2022-01-12T16:44:49.835Z"
   },
   {
    "duration": 7,
    "start_time": "2022-01-12T16:44:49.848Z"
   },
   {
    "duration": 5,
    "start_time": "2022-01-12T16:44:49.857Z"
   },
   {
    "duration": 13,
    "start_time": "2022-01-12T16:44:49.864Z"
   },
   {
    "duration": 39,
    "start_time": "2022-01-12T16:44:49.879Z"
   },
   {
    "duration": 30,
    "start_time": "2022-01-12T16:44:49.921Z"
   },
   {
    "duration": 14,
    "start_time": "2022-01-12T16:44:49.954Z"
   },
   {
    "duration": 11,
    "start_time": "2022-01-12T16:44:49.970Z"
   },
   {
    "duration": 8,
    "start_time": "2022-01-12T16:44:49.984Z"
   },
   {
    "duration": 28,
    "start_time": "2022-01-12T16:44:50.018Z"
   },
   {
    "duration": 8,
    "start_time": "2022-01-12T16:44:50.048Z"
   },
   {
    "duration": 58,
    "start_time": "2022-01-12T16:44:50.059Z"
   },
   {
    "duration": 25,
    "start_time": "2022-01-12T16:44:50.119Z"
   },
   {
    "duration": 24,
    "start_time": "2022-01-12T16:44:50.147Z"
   },
   {
    "duration": 4,
    "start_time": "2022-01-12T16:44:50.173Z"
   },
   {
    "duration": 6,
    "start_time": "2022-01-12T16:44:50.216Z"
   },
   {
    "duration": 5,
    "start_time": "2022-01-12T16:44:50.224Z"
   },
   {
    "duration": 5,
    "start_time": "2022-01-12T16:44:50.231Z"
   },
   {
    "duration": 10,
    "start_time": "2022-01-12T16:44:50.238Z"
   },
   {
    "duration": 7,
    "start_time": "2022-01-12T16:44:50.250Z"
   },
   {
    "duration": 15,
    "start_time": "2022-01-12T16:44:50.258Z"
   },
   {
    "duration": 45,
    "start_time": "2022-01-12T16:44:50.275Z"
   },
   {
    "duration": 25,
    "start_time": "2022-01-12T16:44:50.323Z"
   },
   {
    "duration": 6,
    "start_time": "2022-01-12T16:44:50.350Z"
   },
   {
    "duration": 11,
    "start_time": "2022-01-12T16:44:50.358Z"
   },
   {
    "duration": 48,
    "start_time": "2022-01-12T16:44:50.371Z"
   },
   {
    "duration": 3,
    "start_time": "2022-01-12T16:44:50.422Z"
   },
   {
    "duration": 14,
    "start_time": "2022-01-12T16:44:50.427Z"
   },
   {
    "duration": 15,
    "start_time": "2022-01-12T16:44:50.443Z"
   },
   {
    "duration": 3,
    "start_time": "2022-01-12T16:44:50.461Z"
   },
   {
    "duration": 7,
    "start_time": "2022-01-12T16:44:50.466Z"
   },
   {
    "duration": 45,
    "start_time": "2022-01-12T16:44:50.475Z"
   },
   {
    "duration": 2,
    "start_time": "2022-01-12T16:44:50.527Z"
   },
   {
    "duration": 5,
    "start_time": "2022-01-12T16:44:50.532Z"
   },
   {
    "duration": 8,
    "start_time": "2022-01-12T16:44:50.539Z"
   },
   {
    "duration": 5,
    "start_time": "2022-01-12T16:44:50.550Z"
   },
   {
    "duration": 19,
    "start_time": "2022-01-12T16:44:50.557Z"
   },
   {
    "duration": 2,
    "start_time": "2022-01-12T16:44:50.579Z"
   },
   {
    "duration": 4,
    "start_time": "2022-01-12T16:44:50.617Z"
   },
   {
    "duration": 14,
    "start_time": "2022-01-12T16:44:50.623Z"
   },
   {
    "duration": 19,
    "start_time": "2022-01-12T16:44:56.492Z"
   },
   {
    "duration": 254,
    "start_time": "2022-01-12T16:45:40.880Z"
   },
   {
    "duration": 307,
    "start_time": "2022-01-12T16:45:48.936Z"
   },
   {
    "duration": 20,
    "start_time": "2022-01-12T16:46:12.775Z"
   },
   {
    "duration": 872,
    "start_time": "2022-01-13T06:18:57.637Z"
   },
   {
    "duration": 470,
    "start_time": "2022-01-13T06:19:18.500Z"
   },
   {
    "duration": 91,
    "start_time": "2022-01-13T06:19:27.677Z"
   },
   {
    "duration": 133,
    "start_time": "2022-01-13T06:21:17.660Z"
   },
   {
    "duration": 75,
    "start_time": "2022-01-13T06:23:24.943Z"
   },
   {
    "duration": 8,
    "start_time": "2022-01-13T07:21:27.228Z"
   },
   {
    "duration": 71,
    "start_time": "2022-01-13T07:22:01.439Z"
   },
   {
    "duration": 161,
    "start_time": "2022-01-13T07:22:01.514Z"
   },
   {
    "duration": 4,
    "start_time": "2022-01-13T07:22:01.679Z"
   },
   {
    "duration": 55,
    "start_time": "2022-01-13T07:22:01.686Z"
   },
   {
    "duration": 40,
    "start_time": "2022-01-13T07:22:01.744Z"
   },
   {
    "duration": 25,
    "start_time": "2022-01-13T07:22:01.787Z"
   },
   {
    "duration": 36,
    "start_time": "2022-01-13T07:22:01.815Z"
   },
   {
    "duration": 26,
    "start_time": "2022-01-13T07:22:01.855Z"
   },
   {
    "duration": 52,
    "start_time": "2022-01-13T07:22:01.884Z"
   },
   {
    "duration": 61,
    "start_time": "2022-01-13T07:22:01.938Z"
   },
   {
    "duration": 7,
    "start_time": "2022-01-13T07:22:02.001Z"
   },
   {
    "duration": 25,
    "start_time": "2022-01-13T07:22:02.010Z"
   },
   {
    "duration": 29,
    "start_time": "2022-01-13T07:22:02.038Z"
   },
   {
    "duration": 29,
    "start_time": "2022-01-13T07:22:02.070Z"
   },
   {
    "duration": 105,
    "start_time": "2022-01-13T07:22:02.101Z"
   },
   {
    "duration": 3,
    "start_time": "2022-01-13T07:22:02.209Z"
   },
   {
    "duration": 21,
    "start_time": "2022-01-13T07:22:02.214Z"
   },
   {
    "duration": 28,
    "start_time": "2022-01-13T07:22:02.238Z"
   },
   {
    "duration": 59,
    "start_time": "2022-01-13T07:22:02.268Z"
   },
   {
    "duration": 18,
    "start_time": "2022-01-13T07:22:02.329Z"
   },
   {
    "duration": 33,
    "start_time": "2022-01-13T07:22:02.349Z"
   },
   {
    "duration": 26,
    "start_time": "2022-01-13T07:22:02.385Z"
   },
   {
    "duration": 14,
    "start_time": "2022-01-13T07:22:02.418Z"
   },
   {
    "duration": 51,
    "start_time": "2022-01-13T07:22:02.435Z"
   },
   {
    "duration": 27,
    "start_time": "2022-01-13T07:22:02.489Z"
   },
   {
    "duration": 28,
    "start_time": "2022-01-13T07:22:02.520Z"
   },
   {
    "duration": 31,
    "start_time": "2022-01-13T07:22:02.551Z"
   },
   {
    "duration": 13,
    "start_time": "2022-01-13T07:22:02.586Z"
   },
   {
    "duration": 32,
    "start_time": "2022-01-13T07:22:02.601Z"
   },
   {
    "duration": 26,
    "start_time": "2022-01-13T07:22:02.636Z"
   },
   {
    "duration": 41,
    "start_time": "2022-01-13T07:22:02.664Z"
   },
   {
    "duration": 17,
    "start_time": "2022-01-13T07:22:02.707Z"
   },
   {
    "duration": 32,
    "start_time": "2022-01-13T07:22:02.726Z"
   },
   {
    "duration": 29,
    "start_time": "2022-01-13T07:22:02.760Z"
   },
   {
    "duration": 39,
    "start_time": "2022-01-13T07:22:02.791Z"
   },
   {
    "duration": 13,
    "start_time": "2022-01-13T07:22:02.832Z"
   },
   {
    "duration": 9,
    "start_time": "2022-01-13T07:22:02.847Z"
   },
   {
    "duration": 20,
    "start_time": "2022-01-13T07:22:02.858Z"
   },
   {
    "duration": 13,
    "start_time": "2022-01-13T07:22:02.881Z"
   },
   {
    "duration": 19,
    "start_time": "2022-01-13T07:22:02.897Z"
   },
   {
    "duration": 31,
    "start_time": "2022-01-13T07:22:02.919Z"
   },
   {
    "duration": 10,
    "start_time": "2022-01-13T07:22:02.953Z"
   },
   {
    "duration": 31,
    "start_time": "2022-01-13T07:22:02.966Z"
   },
   {
    "duration": 10,
    "start_time": "2022-01-13T07:22:02.999Z"
   },
   {
    "duration": 46,
    "start_time": "2022-01-13T07:22:03.011Z"
   },
   {
    "duration": 7,
    "start_time": "2022-01-13T07:22:03.060Z"
   },
   {
    "duration": 36,
    "start_time": "2022-01-13T07:22:03.070Z"
   },
   {
    "duration": 24,
    "start_time": "2022-01-13T07:22:03.108Z"
   },
   {
    "duration": 41,
    "start_time": "2022-01-13T07:22:03.135Z"
   },
   {
    "duration": 3,
    "start_time": "2022-01-13T07:22:03.178Z"
   },
   {
    "duration": 19,
    "start_time": "2022-01-13T07:22:03.183Z"
   },
   {
    "duration": 36,
    "start_time": "2022-01-13T07:22:03.205Z"
   },
   {
    "duration": 28,
    "start_time": "2022-01-13T07:22:03.244Z"
   },
   {
    "duration": 36,
    "start_time": "2022-01-13T07:22:03.275Z"
   },
   {
    "duration": 34,
    "start_time": "2022-01-13T07:22:03.314Z"
   },
   {
    "duration": 20,
    "start_time": "2022-01-13T07:22:03.350Z"
   },
   {
    "duration": 35,
    "start_time": "2022-01-13T07:22:03.373Z"
   },
   {
    "duration": 57,
    "start_time": "2022-01-13T07:22:03.411Z"
   },
   {
    "duration": 17,
    "start_time": "2022-01-13T07:22:03.471Z"
   },
   {
    "duration": 39,
    "start_time": "2022-01-13T07:22:03.491Z"
   },
   {
    "duration": 27,
    "start_time": "2022-01-13T07:22:03.533Z"
   },
   {
    "duration": 31,
    "start_time": "2022-01-13T07:22:03.563Z"
   },
   {
    "duration": 39,
    "start_time": "2022-01-13T07:22:03.597Z"
   },
   {
    "duration": 13,
    "start_time": "2022-01-13T07:22:06.197Z"
   },
   {
    "duration": 7,
    "start_time": "2022-01-13T07:22:07.814Z"
   },
   {
    "duration": 83,
    "start_time": "2022-01-13T07:27:23.941Z"
   },
   {
    "duration": 12,
    "start_time": "2022-01-13T07:30:44.376Z"
   },
   {
    "duration": 16,
    "start_time": "2022-01-13T07:34:08.676Z"
   },
   {
    "duration": 11,
    "start_time": "2022-01-13T07:34:32.852Z"
   },
   {
    "duration": 12,
    "start_time": "2022-01-13T07:36:54.288Z"
   },
   {
    "duration": 9,
    "start_time": "2022-01-13T07:37:02.226Z"
   },
   {
    "duration": 13121,
    "start_time": "2022-01-13T07:39:37.761Z"
   },
   {
    "duration": 12,
    "start_time": "2022-01-13T07:39:53.367Z"
   },
   {
    "duration": 93,
    "start_time": "2022-01-13T07:41:17.717Z"
   },
   {
    "duration": 103,
    "start_time": "2022-01-13T07:42:09.811Z"
   },
   {
    "duration": 1756,
    "start_time": "2022-01-13T07:42:21.186Z"
   },
   {
    "duration": 112,
    "start_time": "2022-01-13T07:42:46.950Z"
   },
   {
    "duration": 111,
    "start_time": "2022-01-13T07:43:03.394Z"
   },
   {
    "duration": 94,
    "start_time": "2022-01-13T07:43:14.088Z"
   },
   {
    "duration": 5466,
    "start_time": "2022-01-13T07:43:59.409Z"
   },
   {
    "duration": 1977,
    "start_time": "2022-01-13T07:44:26.038Z"
   },
   {
    "duration": 2006,
    "start_time": "2022-01-13T07:44:44.215Z"
   },
   {
    "duration": 2114,
    "start_time": "2022-01-13T07:45:32.061Z"
   },
   {
    "duration": 278,
    "start_time": "2022-01-13T07:48:37.038Z"
   },
   {
    "duration": 5,
    "start_time": "2022-01-13T07:49:07.082Z"
   },
   {
    "duration": 99,
    "start_time": "2022-01-13T07:49:26.496Z"
   },
   {
    "duration": 357,
    "start_time": "2022-01-13T07:51:48.605Z"
   },
   {
    "duration": 298,
    "start_time": "2022-01-13T07:52:14.465Z"
   },
   {
    "duration": 283,
    "start_time": "2022-01-13T07:52:34.564Z"
   },
   {
    "duration": 587,
    "start_time": "2022-01-13T07:53:01.089Z"
   },
   {
    "duration": 98,
    "start_time": "2022-01-13T07:53:26.219Z"
   },
   {
    "duration": 5,
    "start_time": "2022-01-13T07:53:34.495Z"
   },
   {
    "duration": 2035,
    "start_time": "2022-01-13T07:54:28.470Z"
   },
   {
    "duration": 4141,
    "start_time": "2022-01-13T07:56:58.467Z"
   },
   {
    "duration": 299,
    "start_time": "2022-01-13T08:02:29.969Z"
   },
   {
    "duration": 96,
    "start_time": "2022-01-13T08:03:21.863Z"
   },
   {
    "duration": 112,
    "start_time": "2022-01-13T08:03:29.718Z"
   },
   {
    "duration": 132,
    "start_time": "2022-01-13T08:03:59.137Z"
   },
   {
    "duration": 99,
    "start_time": "2022-01-13T08:04:12.248Z"
   },
   {
    "duration": 93,
    "start_time": "2022-01-13T08:04:34.326Z"
   },
   {
    "duration": 130,
    "start_time": "2022-01-13T08:05:03.840Z"
   },
   {
    "duration": 102,
    "start_time": "2022-01-13T08:05:41.504Z"
   },
   {
    "duration": 8,
    "start_time": "2022-01-13T08:05:48.024Z"
   },
   {
    "duration": 249,
    "start_time": "2022-01-13T08:06:01.408Z"
   },
   {
    "duration": 99,
    "start_time": "2022-01-13T08:06:05.488Z"
   },
   {
    "duration": 161,
    "start_time": "2022-01-13T08:06:57.131Z"
   },
   {
    "duration": 17718,
    "start_time": "2022-01-13T08:07:28.043Z"
   },
   {
    "duration": 312,
    "start_time": "2022-01-13T08:08:26.630Z"
   },
   {
    "duration": 330,
    "start_time": "2022-01-13T08:08:54.416Z"
   },
   {
    "duration": 304,
    "start_time": "2022-01-13T08:09:19.164Z"
   },
   {
    "duration": 123,
    "start_time": "2022-01-13T08:09:47.712Z"
   },
   {
    "duration": 97,
    "start_time": "2022-01-13T08:10:01.940Z"
   },
   {
    "duration": 291,
    "start_time": "2022-01-13T08:10:33.398Z"
   },
   {
    "duration": 5723,
    "start_time": "2022-01-13T08:10:52.150Z"
   },
   {
    "duration": 298,
    "start_time": "2022-01-13T08:21:25.489Z"
   },
   {
    "duration": 422,
    "start_time": "2022-01-13T08:22:21.672Z"
   },
   {
    "duration": 15,
    "start_time": "2022-01-13T09:14:17.857Z"
   },
   {
    "duration": 14,
    "start_time": "2022-01-13T09:14:37.543Z"
   },
   {
    "duration": 9,
    "start_time": "2022-01-13T09:15:54.521Z"
   },
   {
    "duration": 8,
    "start_time": "2022-01-13T09:16:05.610Z"
   },
   {
    "duration": 10,
    "start_time": "2022-01-13T09:16:31.317Z"
   },
   {
    "duration": 9,
    "start_time": "2022-01-13T09:16:53.858Z"
   },
   {
    "duration": 11,
    "start_time": "2022-01-13T09:17:06.819Z"
   },
   {
    "duration": 96,
    "start_time": "2022-01-13T09:17:29.776Z"
   },
   {
    "duration": 218,
    "start_time": "2022-01-13T09:17:29.875Z"
   },
   {
    "duration": 5,
    "start_time": "2022-01-13T09:17:30.096Z"
   },
   {
    "duration": 25,
    "start_time": "2022-01-13T09:17:30.104Z"
   },
   {
    "duration": 14,
    "start_time": "2022-01-13T09:17:30.163Z"
   },
   {
    "duration": 14,
    "start_time": "2022-01-13T09:17:30.180Z"
   },
   {
    "duration": 11,
    "start_time": "2022-01-13T09:17:30.196Z"
   },
   {
    "duration": 10,
    "start_time": "2022-01-13T09:17:30.210Z"
   },
   {
    "duration": 14,
    "start_time": "2022-01-13T09:17:30.223Z"
   },
   {
    "duration": 35,
    "start_time": "2022-01-13T09:17:30.264Z"
   },
   {
    "duration": 8,
    "start_time": "2022-01-13T09:17:30.302Z"
   },
   {
    "duration": 22,
    "start_time": "2022-01-13T09:17:30.313Z"
   },
   {
    "duration": 14,
    "start_time": "2022-01-13T09:17:30.362Z"
   },
   {
    "duration": 4,
    "start_time": "2022-01-13T09:17:30.379Z"
   },
   {
    "duration": 112,
    "start_time": "2022-01-13T09:17:30.386Z"
   },
   {
    "duration": 3,
    "start_time": "2022-01-13T09:17:30.500Z"
   },
   {
    "duration": 5,
    "start_time": "2022-01-13T09:17:30.506Z"
   },
   {
    "duration": 14,
    "start_time": "2022-01-13T09:17:30.514Z"
   },
   {
    "duration": 46,
    "start_time": "2022-01-13T09:17:30.531Z"
   },
   {
    "duration": 7,
    "start_time": "2022-01-13T09:17:30.579Z"
   },
   {
    "duration": 10,
    "start_time": "2022-01-13T09:17:30.588Z"
   },
   {
    "duration": 11,
    "start_time": "2022-01-13T09:17:30.600Z"
   },
   {
    "duration": 9,
    "start_time": "2022-01-13T09:17:30.617Z"
   },
   {
    "duration": 41,
    "start_time": "2022-01-13T09:17:30.629Z"
   },
   {
    "duration": 33,
    "start_time": "2022-01-13T09:17:30.673Z"
   },
   {
    "duration": 13,
    "start_time": "2022-01-13T09:17:30.709Z"
   },
   {
    "duration": 28,
    "start_time": "2022-01-13T09:17:30.724Z"
   },
   {
    "duration": 16,
    "start_time": "2022-01-13T09:17:30.754Z"
   },
   {
    "duration": 29,
    "start_time": "2022-01-13T09:17:30.773Z"
   },
   {
    "duration": 35,
    "start_time": "2022-01-13T09:17:30.805Z"
   },
   {
    "duration": 32,
    "start_time": "2022-01-13T09:17:30.842Z"
   },
   {
    "duration": 15,
    "start_time": "2022-01-13T09:17:30.877Z"
   },
   {
    "duration": 19,
    "start_time": "2022-01-13T09:17:30.894Z"
   },
   {
    "duration": 18,
    "start_time": "2022-01-13T09:17:30.916Z"
   },
   {
    "duration": 20,
    "start_time": "2022-01-13T09:17:30.936Z"
   },
   {
    "duration": 18,
    "start_time": "2022-01-13T09:17:30.959Z"
   },
   {
    "duration": 20,
    "start_time": "2022-01-13T09:17:30.980Z"
   },
   {
    "duration": 12,
    "start_time": "2022-01-13T09:17:31.003Z"
   },
   {
    "duration": 13,
    "start_time": "2022-01-13T09:17:31.018Z"
   },
   {
    "duration": 11,
    "start_time": "2022-01-13T09:17:31.034Z"
   },
   {
    "duration": 38,
    "start_time": "2022-01-13T09:17:31.047Z"
   },
   {
    "duration": 11,
    "start_time": "2022-01-13T09:17:31.088Z"
   },
   {
    "duration": 12,
    "start_time": "2022-01-13T09:17:31.102Z"
   },
   {
    "duration": 9,
    "start_time": "2022-01-13T09:17:31.116Z"
   },
   {
    "duration": 47,
    "start_time": "2022-01-13T09:17:31.128Z"
   },
   {
    "duration": 7,
    "start_time": "2022-01-13T09:17:31.177Z"
   },
   {
    "duration": 33,
    "start_time": "2022-01-13T09:17:31.187Z"
   },
   {
    "duration": 45,
    "start_time": "2022-01-13T09:17:31.222Z"
   },
   {
    "duration": 23,
    "start_time": "2022-01-13T09:17:31.270Z"
   },
   {
    "duration": 3,
    "start_time": "2022-01-13T09:17:31.295Z"
   },
   {
    "duration": 27,
    "start_time": "2022-01-13T09:17:31.301Z"
   },
   {
    "duration": 9,
    "start_time": "2022-01-13T09:17:31.331Z"
   },
   {
    "duration": 6,
    "start_time": "2022-01-13T09:17:31.342Z"
   },
   {
    "duration": 17,
    "start_time": "2022-01-13T09:17:31.364Z"
   },
   {
    "duration": 11,
    "start_time": "2022-01-13T09:17:31.384Z"
   },
   {
    "duration": 27,
    "start_time": "2022-01-13T09:17:31.397Z"
   },
   {
    "duration": 13,
    "start_time": "2022-01-13T09:17:31.427Z"
   },
   {
    "duration": 42,
    "start_time": "2022-01-13T09:17:31.443Z"
   },
   {
    "duration": 7,
    "start_time": "2022-01-13T09:17:31.488Z"
   },
   {
    "duration": 18,
    "start_time": "2022-01-13T09:17:31.497Z"
   },
   {
    "duration": 48,
    "start_time": "2022-01-13T09:17:31.517Z"
   },
   {
    "duration": 11,
    "start_time": "2022-01-13T09:17:36.701Z"
   },
   {
    "duration": 11,
    "start_time": "2022-01-13T09:17:45.301Z"
   },
   {
    "duration": 2088,
    "start_time": "2022-01-13T09:18:47.666Z"
   },
   {
    "duration": 13,
    "start_time": "2022-01-13T09:18:57.898Z"
   },
   {
    "duration": 14,
    "start_time": "2022-01-13T09:19:14.398Z"
   },
   {
    "duration": 16,
    "start_time": "2022-01-13T09:19:15.965Z"
   },
   {
    "duration": 16,
    "start_time": "2022-01-13T09:19:17.605Z"
   },
   {
    "duration": 14,
    "start_time": "2022-01-13T09:19:20.585Z"
   },
   {
    "duration": 11,
    "start_time": "2022-01-13T09:19:21.624Z"
   },
   {
    "duration": 17,
    "start_time": "2022-01-13T09:19:25.522Z"
   },
   {
    "duration": 10,
    "start_time": "2022-01-13T09:19:41.283Z"
   },
   {
    "duration": 9,
    "start_time": "2022-01-13T09:19:54.447Z"
   },
   {
    "duration": 18,
    "start_time": "2022-01-13T09:20:02.724Z"
   },
   {
    "duration": 10,
    "start_time": "2022-01-13T09:21:41.382Z"
   },
   {
    "duration": 8790,
    "start_time": "2022-01-13T09:22:57.279Z"
   },
   {
    "duration": 13,
    "start_time": "2022-01-13T09:23:09.735Z"
   },
   {
    "duration": 10,
    "start_time": "2022-01-13T09:24:51.018Z"
   },
   {
    "duration": 10,
    "start_time": "2022-01-13T09:25:17.858Z"
   },
   {
    "duration": 12,
    "start_time": "2022-01-13T09:26:43.163Z"
   },
   {
    "duration": 18,
    "start_time": "2022-01-13T09:29:45.502Z"
   },
   {
    "duration": 9,
    "start_time": "2022-01-13T09:30:14.942Z"
   },
   {
    "duration": 10,
    "start_time": "2022-01-13T09:35:01.824Z"
   },
   {
    "duration": 15,
    "start_time": "2022-01-13T09:35:19.364Z"
   },
   {
    "duration": 13,
    "start_time": "2022-01-13T09:35:20.794Z"
   },
   {
    "duration": 100,
    "start_time": "2022-01-13T09:37:37.079Z"
   },
   {
    "duration": 99,
    "start_time": "2022-01-13T09:37:46.262Z"
   },
   {
    "duration": 11,
    "start_time": "2022-01-13T09:38:13.404Z"
   },
   {
    "duration": 14,
    "start_time": "2022-01-13T09:39:17.237Z"
   },
   {
    "duration": 24,
    "start_time": "2022-01-13T09:39:31.288Z"
   },
   {
    "duration": 47,
    "start_time": "2022-01-13T09:40:11.320Z"
   },
   {
    "duration": 68,
    "start_time": "2022-01-13T09:41:29.026Z"
   },
   {
    "duration": 132,
    "start_time": "2022-01-13T09:41:29.097Z"
   },
   {
    "duration": 6,
    "start_time": "2022-01-13T09:41:29.232Z"
   },
   {
    "duration": 19,
    "start_time": "2022-01-13T09:41:29.264Z"
   },
   {
    "duration": 15,
    "start_time": "2022-01-13T09:41:29.286Z"
   },
   {
    "duration": 6,
    "start_time": "2022-01-13T09:41:29.304Z"
   },
   {
    "duration": 56,
    "start_time": "2022-01-13T09:41:29.313Z"
   },
   {
    "duration": 7,
    "start_time": "2022-01-13T09:41:29.376Z"
   },
   {
    "duration": 6,
    "start_time": "2022-01-13T09:41:29.387Z"
   },
   {
    "duration": 97,
    "start_time": "2022-01-13T09:41:29.395Z"
   },
   {
    "duration": 7,
    "start_time": "2022-01-13T09:41:29.494Z"
   },
   {
    "duration": 9,
    "start_time": "2022-01-13T09:41:29.503Z"
   },
   {
    "duration": 56,
    "start_time": "2022-01-13T09:41:29.515Z"
   },
   {
    "duration": 3,
    "start_time": "2022-01-13T09:41:29.573Z"
   },
   {
    "duration": 115,
    "start_time": "2022-01-13T09:41:29.579Z"
   },
   {
    "duration": 3,
    "start_time": "2022-01-13T09:41:29.697Z"
   },
   {
    "duration": 6,
    "start_time": "2022-01-13T09:41:29.703Z"
   },
   {
    "duration": 13,
    "start_time": "2022-01-13T09:41:29.712Z"
   },
   {
    "duration": 52,
    "start_time": "2022-01-13T09:41:29.729Z"
   },
   {
    "duration": 6,
    "start_time": "2022-01-13T09:41:29.784Z"
   },
   {
    "duration": 8,
    "start_time": "2022-01-13T09:41:29.793Z"
   },
   {
    "duration": 8,
    "start_time": "2022-01-13T09:41:29.804Z"
   },
   {
    "duration": 7,
    "start_time": "2022-01-13T09:41:29.862Z"
   },
   {
    "duration": 9,
    "start_time": "2022-01-13T09:41:29.873Z"
   },
   {
    "duration": 11,
    "start_time": "2022-01-13T09:41:29.885Z"
   },
   {
    "duration": 8,
    "start_time": "2022-01-13T09:41:29.899Z"
   },
   {
    "duration": 60,
    "start_time": "2022-01-13T09:41:29.910Z"
   },
   {
    "duration": 7,
    "start_time": "2022-01-13T09:41:29.973Z"
   },
   {
    "duration": 9,
    "start_time": "2022-01-13T09:41:29.983Z"
   },
   {
    "duration": 10,
    "start_time": "2022-01-13T09:41:29.995Z"
   },
   {
    "duration": 59,
    "start_time": "2022-01-13T09:41:30.009Z"
   },
   {
    "duration": 8,
    "start_time": "2022-01-13T09:41:30.070Z"
   },
   {
    "duration": 12,
    "start_time": "2022-01-13T09:41:30.080Z"
   },
   {
    "duration": 7,
    "start_time": "2022-01-13T09:41:30.094Z"
   },
   {
    "duration": 12,
    "start_time": "2022-01-13T09:41:30.104Z"
   },
   {
    "duration": 48,
    "start_time": "2022-01-13T09:41:30.119Z"
   },
   {
    "duration": 11,
    "start_time": "2022-01-13T09:41:30.170Z"
   },
   {
    "duration": 14,
    "start_time": "2022-01-13T09:41:30.183Z"
   },
   {
    "duration": 19,
    "start_time": "2022-01-13T09:41:30.200Z"
   },
   {
    "duration": 6,
    "start_time": "2022-01-13T09:41:30.222Z"
   },
   {
    "duration": 39,
    "start_time": "2022-01-13T09:41:30.230Z"
   },
   {
    "duration": 10,
    "start_time": "2022-01-13T09:41:30.272Z"
   },
   {
    "duration": 13,
    "start_time": "2022-01-13T09:41:30.285Z"
   },
   {
    "duration": 9,
    "start_time": "2022-01-13T09:41:30.301Z"
   },
   {
    "duration": 59,
    "start_time": "2022-01-13T09:41:30.314Z"
   },
   {
    "duration": 9,
    "start_time": "2022-01-13T09:41:30.376Z"
   },
   {
    "duration": 45,
    "start_time": "2022-01-13T09:41:30.388Z"
   },
   {
    "duration": 49,
    "start_time": "2022-01-13T09:41:30.436Z"
   },
   {
    "duration": 34,
    "start_time": "2022-01-13T09:41:30.488Z"
   },
   {
    "duration": 4,
    "start_time": "2022-01-13T09:41:30.525Z"
   },
   {
    "duration": 44,
    "start_time": "2022-01-13T09:41:30.531Z"
   },
   {
    "duration": 14,
    "start_time": "2022-01-13T09:41:30.578Z"
   },
   {
    "duration": 11,
    "start_time": "2022-01-13T09:41:30.594Z"
   },
   {
    "duration": 8,
    "start_time": "2022-01-13T09:41:30.607Z"
   },
   {
    "duration": 8,
    "start_time": "2022-01-13T09:41:30.617Z"
   },
   {
    "duration": 15,
    "start_time": "2022-01-13T09:41:30.627Z"
   },
   {
    "duration": 26,
    "start_time": "2022-01-13T09:41:30.645Z"
   },
   {
    "duration": 31,
    "start_time": "2022-01-13T09:41:30.673Z"
   },
   {
    "duration": 7,
    "start_time": "2022-01-13T09:41:30.708Z"
   },
   {
    "duration": 8,
    "start_time": "2022-01-13T09:41:34.869Z"
   },
   {
    "duration": 46,
    "start_time": "2022-01-13T09:41:38.213Z"
   },
   {
    "duration": 11,
    "start_time": "2022-01-13T09:42:21.480Z"
   },
   {
    "duration": 11,
    "start_time": "2022-01-13T09:42:32.405Z"
   },
   {
    "duration": 9,
    "start_time": "2022-01-13T09:42:35.946Z"
   },
   {
    "duration": 10,
    "start_time": "2022-01-13T09:42:39.078Z"
   },
   {
    "duration": 13,
    "start_time": "2022-01-13T09:43:19.828Z"
   },
   {
    "duration": 11,
    "start_time": "2022-01-13T09:43:27.963Z"
   },
   {
    "duration": 69,
    "start_time": "2022-01-13T09:44:09.843Z"
   },
   {
    "duration": 174,
    "start_time": "2022-01-13T09:44:09.915Z"
   },
   {
    "duration": 5,
    "start_time": "2022-01-13T09:44:10.092Z"
   },
   {
    "duration": 63,
    "start_time": "2022-01-13T09:44:10.099Z"
   },
   {
    "duration": 28,
    "start_time": "2022-01-13T09:44:10.165Z"
   },
   {
    "duration": 5,
    "start_time": "2022-01-13T09:44:10.196Z"
   },
   {
    "duration": 5,
    "start_time": "2022-01-13T09:44:10.204Z"
   },
   {
    "duration": 5,
    "start_time": "2022-01-13T09:44:10.213Z"
   },
   {
    "duration": 7,
    "start_time": "2022-01-13T09:44:10.264Z"
   },
   {
    "duration": 34,
    "start_time": "2022-01-13T09:44:10.273Z"
   },
   {
    "duration": 57,
    "start_time": "2022-01-13T09:44:10.309Z"
   },
   {
    "duration": 12,
    "start_time": "2022-01-13T09:44:10.368Z"
   },
   {
    "duration": 15,
    "start_time": "2022-01-13T09:44:10.383Z"
   },
   {
    "duration": 9,
    "start_time": "2022-01-13T09:44:10.401Z"
   },
   {
    "duration": 107,
    "start_time": "2022-01-13T09:44:10.412Z"
   },
   {
    "duration": 2,
    "start_time": "2022-01-13T09:44:10.522Z"
   },
   {
    "duration": 32,
    "start_time": "2022-01-13T09:44:10.526Z"
   },
   {
    "duration": 23,
    "start_time": "2022-01-13T09:44:10.560Z"
   },
   {
    "duration": 27,
    "start_time": "2022-01-13T09:44:10.585Z"
   },
   {
    "duration": 9,
    "start_time": "2022-01-13T09:44:10.615Z"
   },
   {
    "duration": 14,
    "start_time": "2022-01-13T09:44:10.627Z"
   },
   {
    "duration": 12,
    "start_time": "2022-01-13T09:44:10.643Z"
   },
   {
    "duration": 7,
    "start_time": "2022-01-13T09:44:10.663Z"
   },
   {
    "duration": 14,
    "start_time": "2022-01-13T09:44:10.674Z"
   },
   {
    "duration": 31,
    "start_time": "2022-01-13T09:44:10.690Z"
   },
   {
    "duration": 9,
    "start_time": "2022-01-13T09:44:10.724Z"
   },
   {
    "duration": 29,
    "start_time": "2022-01-13T09:44:10.735Z"
   },
   {
    "duration": 9,
    "start_time": "2022-01-13T09:44:10.766Z"
   },
   {
    "duration": 27,
    "start_time": "2022-01-13T09:44:10.777Z"
   },
   {
    "duration": 20,
    "start_time": "2022-01-13T09:44:10.807Z"
   },
   {
    "duration": 18,
    "start_time": "2022-01-13T09:44:10.829Z"
   },
   {
    "duration": 9,
    "start_time": "2022-01-13T09:44:10.849Z"
   },
   {
    "duration": 10,
    "start_time": "2022-01-13T09:44:10.861Z"
   },
   {
    "duration": 10,
    "start_time": "2022-01-13T09:44:10.873Z"
   },
   {
    "duration": 10,
    "start_time": "2022-01-13T09:44:10.885Z"
   },
   {
    "duration": 10,
    "start_time": "2022-01-13T09:44:10.897Z"
   },
   {
    "duration": 8,
    "start_time": "2022-01-13T09:44:10.909Z"
   },
   {
    "duration": 46,
    "start_time": "2022-01-13T09:44:10.919Z"
   },
   {
    "duration": 12,
    "start_time": "2022-01-13T09:44:10.968Z"
   },
   {
    "duration": 4,
    "start_time": "2022-01-13T09:44:10.982Z"
   },
   {
    "duration": 18,
    "start_time": "2022-01-13T09:44:10.988Z"
   },
   {
    "duration": 62,
    "start_time": "2022-01-13T09:44:11.008Z"
   },
   {
    "duration": 4,
    "start_time": "2022-01-13T09:44:11.073Z"
   },
   {
    "duration": 5,
    "start_time": "2022-01-13T09:44:11.079Z"
   },
   {
    "duration": 37,
    "start_time": "2022-01-13T09:44:11.086Z"
   },
   {
    "duration": 38,
    "start_time": "2022-01-13T09:44:11.126Z"
   },
   {
    "duration": 23,
    "start_time": "2022-01-13T09:44:11.167Z"
   },
   {
    "duration": 22,
    "start_time": "2022-01-13T09:44:11.192Z"
   },
   {
    "duration": 59,
    "start_time": "2022-01-13T09:44:11.217Z"
   },
   {
    "duration": 3,
    "start_time": "2022-01-13T09:44:11.279Z"
   },
   {
    "duration": 7,
    "start_time": "2022-01-13T09:44:11.284Z"
   },
   {
    "duration": 3,
    "start_time": "2022-01-13T09:44:11.294Z"
   },
   {
    "duration": 9,
    "start_time": "2022-01-13T09:44:11.299Z"
   },
   {
    "duration": 7,
    "start_time": "2022-01-13T09:44:11.310Z"
   },
   {
    "duration": 5,
    "start_time": "2022-01-13T09:44:11.362Z"
   },
   {
    "duration": 25,
    "start_time": "2022-01-13T09:44:11.369Z"
   },
   {
    "duration": 10,
    "start_time": "2022-01-13T09:44:11.396Z"
   },
   {
    "duration": 74,
    "start_time": "2022-01-13T09:44:11.409Z"
   },
   {
    "duration": 9,
    "start_time": "2022-01-13T09:44:11.487Z"
   },
   {
    "duration": 69,
    "start_time": "2022-01-13T09:44:11.499Z"
   },
   {
    "duration": 10,
    "start_time": "2022-01-13T09:44:11.571Z"
   },
   {
    "duration": 6,
    "start_time": "2022-01-13T09:44:11.584Z"
   },
   {
    "duration": 8,
    "start_time": "2022-01-13T09:44:11.593Z"
   },
   {
    "duration": 9,
    "start_time": "2022-01-13T09:44:11.604Z"
   },
   {
    "duration": 56,
    "start_time": "2022-01-13T09:44:11.616Z"
   },
   {
    "duration": 12,
    "start_time": "2022-01-13T09:44:11.675Z"
   },
   {
    "duration": 13,
    "start_time": "2022-01-13T09:44:11.690Z"
   },
   {
    "duration": 10,
    "start_time": "2022-01-13T09:44:17.464Z"
   },
   {
    "duration": 12,
    "start_time": "2022-01-13T09:48:25.037Z"
   },
   {
    "duration": 16,
    "start_time": "2022-01-13T09:48:35.734Z"
   },
   {
    "duration": 9,
    "start_time": "2022-01-13T09:48:48.256Z"
   },
   {
    "duration": 14,
    "start_time": "2022-01-13T09:49:59.828Z"
   },
   {
    "duration": 10,
    "start_time": "2022-01-13T09:50:05.476Z"
   },
   {
    "duration": 67,
    "start_time": "2022-01-13T09:50:42.222Z"
   },
   {
    "duration": 134,
    "start_time": "2022-01-13T09:50:42.292Z"
   },
   {
    "duration": 33,
    "start_time": "2022-01-13T09:50:42.430Z"
   },
   {
    "duration": 22,
    "start_time": "2022-01-13T09:50:42.467Z"
   },
   {
    "duration": 14,
    "start_time": "2022-01-13T09:50:42.492Z"
   },
   {
    "duration": 54,
    "start_time": "2022-01-13T09:50:42.509Z"
   },
   {
    "duration": 7,
    "start_time": "2022-01-13T09:50:42.566Z"
   },
   {
    "duration": 7,
    "start_time": "2022-01-13T09:50:42.579Z"
   },
   {
    "duration": 8,
    "start_time": "2022-01-13T09:50:42.590Z"
   },
   {
    "duration": 95,
    "start_time": "2022-01-13T09:50:42.601Z"
   },
   {
    "duration": 6,
    "start_time": "2022-01-13T09:50:42.699Z"
   },
   {
    "duration": 8,
    "start_time": "2022-01-13T09:50:42.708Z"
   },
   {
    "duration": 56,
    "start_time": "2022-01-13T09:50:42.718Z"
   },
   {
    "duration": 3,
    "start_time": "2022-01-13T09:50:42.776Z"
   },
   {
    "duration": 153,
    "start_time": "2022-01-13T09:50:42.782Z"
   },
   {
    "duration": 4,
    "start_time": "2022-01-13T09:50:42.938Z"
   },
   {
    "duration": 5,
    "start_time": "2022-01-13T09:50:42.945Z"
   },
   {
    "duration": 7,
    "start_time": "2022-01-13T09:50:42.963Z"
   },
   {
    "duration": 17,
    "start_time": "2022-01-13T09:50:42.972Z"
   },
   {
    "duration": 7,
    "start_time": "2022-01-13T09:50:42.992Z"
   },
   {
    "duration": 62,
    "start_time": "2022-01-13T09:50:43.002Z"
   },
   {
    "duration": 8,
    "start_time": "2022-01-13T09:50:43.067Z"
   },
   {
    "duration": 7,
    "start_time": "2022-01-13T09:50:43.082Z"
   },
   {
    "duration": 10,
    "start_time": "2022-01-13T09:50:43.092Z"
   },
   {
    "duration": 9,
    "start_time": "2022-01-13T09:50:43.104Z"
   },
   {
    "duration": 7,
    "start_time": "2022-01-13T09:50:43.164Z"
   },
   {
    "duration": 10,
    "start_time": "2022-01-13T09:50:43.174Z"
   },
   {
    "duration": 8,
    "start_time": "2022-01-13T09:50:43.187Z"
   },
   {
    "duration": 11,
    "start_time": "2022-01-13T09:50:43.197Z"
   },
   {
    "duration": 13,
    "start_time": "2022-01-13T09:50:43.211Z"
   },
   {
    "duration": 13,
    "start_time": "2022-01-13T09:50:43.264Z"
   },
   {
    "duration": 9,
    "start_time": "2022-01-13T09:50:43.280Z"
   },
   {
    "duration": 9,
    "start_time": "2022-01-13T09:50:43.292Z"
   },
   {
    "duration": 7,
    "start_time": "2022-01-13T09:50:43.304Z"
   },
   {
    "duration": 57,
    "start_time": "2022-01-13T09:50:43.314Z"
   },
   {
    "duration": 10,
    "start_time": "2022-01-13T09:50:43.374Z"
   },
   {
    "duration": 6,
    "start_time": "2022-01-13T09:50:43.387Z"
   },
   {
    "duration": 8,
    "start_time": "2022-01-13T09:50:43.395Z"
   },
   {
    "duration": 21,
    "start_time": "2022-01-13T09:50:43.406Z"
   },
   {
    "duration": 11,
    "start_time": "2022-01-13T09:50:43.429Z"
   },
   {
    "duration": 18,
    "start_time": "2022-01-13T09:50:43.464Z"
   },
   {
    "duration": 10,
    "start_time": "2022-01-13T09:50:43.484Z"
   },
   {
    "duration": 5,
    "start_time": "2022-01-13T09:50:43.496Z"
   },
   {
    "duration": 13,
    "start_time": "2022-01-13T09:50:43.503Z"
   },
   {
    "duration": 61,
    "start_time": "2022-01-13T09:50:43.518Z"
   },
   {
    "duration": 9,
    "start_time": "2022-01-13T09:50:43.583Z"
   },
   {
    "duration": 34,
    "start_time": "2022-01-13T09:50:43.595Z"
   },
   {
    "duration": 51,
    "start_time": "2022-01-13T09:50:43.632Z"
   },
   {
    "duration": 24,
    "start_time": "2022-01-13T09:50:43.685Z"
   },
   {
    "duration": 3,
    "start_time": "2022-01-13T09:50:43.711Z"
   },
   {
    "duration": 18,
    "start_time": "2022-01-13T09:50:43.717Z"
   },
   {
    "duration": 5,
    "start_time": "2022-01-13T09:50:43.737Z"
   },
   {
    "duration": 4,
    "start_time": "2022-01-13T09:50:43.763Z"
   },
   {
    "duration": 10,
    "start_time": "2022-01-13T09:50:43.770Z"
   },
   {
    "duration": 11,
    "start_time": "2022-01-13T09:50:43.783Z"
   },
   {
    "duration": 29,
    "start_time": "2022-01-13T09:50:43.797Z"
   },
   {
    "duration": 35,
    "start_time": "2022-01-13T09:50:43.829Z"
   },
   {
    "duration": 36,
    "start_time": "2022-01-13T09:50:43.867Z"
   },
   {
    "duration": 8,
    "start_time": "2022-01-13T09:50:43.906Z"
   },
   {
    "duration": 106,
    "start_time": "2022-01-13T09:50:43.917Z"
   },
   {
    "duration": 15,
    "start_time": "2022-01-13T09:50:44.026Z"
   },
   {
    "duration": 21,
    "start_time": "2022-01-13T09:50:44.044Z"
   },
   {
    "duration": 12,
    "start_time": "2022-01-13T09:50:44.068Z"
   },
   {
    "duration": 13,
    "start_time": "2022-01-13T09:50:44.083Z"
   },
   {
    "duration": 14,
    "start_time": "2022-01-13T09:50:46.395Z"
   },
   {
    "duration": 13,
    "start_time": "2022-01-13T09:50:51.490Z"
   },
   {
    "duration": 20,
    "start_time": "2022-01-13T09:50:55.137Z"
   },
   {
    "duration": 9,
    "start_time": "2022-01-13T09:50:57.615Z"
   },
   {
    "duration": 19,
    "start_time": "2022-01-13T11:18:53.210Z"
   },
   {
    "duration": 19,
    "start_time": "2022-01-13T11:19:10.001Z"
   },
   {
    "duration": 11,
    "start_time": "2022-01-13T11:19:11.217Z"
   },
   {
    "duration": 89,
    "start_time": "2022-01-13T11:19:23.141Z"
   },
   {
    "duration": 9,
    "start_time": "2022-01-13T11:20:06.664Z"
   },
   {
    "duration": 16,
    "start_time": "2022-01-13T11:20:40.013Z"
   },
   {
    "duration": 15,
    "start_time": "2022-01-13T11:20:51.569Z"
   },
   {
    "duration": 15,
    "start_time": "2022-01-13T11:24:05.349Z"
   },
   {
    "duration": 16,
    "start_time": "2022-01-13T11:24:30.752Z"
   },
   {
    "duration": 12,
    "start_time": "2022-01-13T11:24:42.719Z"
   },
   {
    "duration": 47,
    "start_time": "2022-01-13T11:26:00.884Z"
   },
   {
    "duration": 47,
    "start_time": "2022-01-13T11:26:50.588Z"
   },
   {
    "duration": 46,
    "start_time": "2022-01-13T11:28:52.199Z"
   },
   {
    "duration": 47,
    "start_time": "2022-01-13T11:29:32.436Z"
   },
   {
    "duration": 17,
    "start_time": "2022-01-13T14:04:51.877Z"
   },
   {
    "duration": 8,
    "start_time": "2022-01-13T14:06:59.848Z"
   },
   {
    "duration": 319,
    "start_time": "2022-01-13T14:07:19.908Z"
   },
   {
    "duration": 13,
    "start_time": "2022-01-13T14:07:26.452Z"
   },
   {
    "duration": 15,
    "start_time": "2022-01-13T14:07:50.920Z"
   },
   {
    "duration": 16,
    "start_time": "2022-01-13T14:10:04.614Z"
   },
   {
    "duration": 3365,
    "start_time": "2022-01-13T14:18:53.349Z"
   },
   {
    "duration": 11,
    "start_time": "2022-01-13T14:19:52.303Z"
   },
   {
    "duration": 8,
    "start_time": "2022-01-13T14:22:02.295Z"
   },
   {
    "duration": 7,
    "start_time": "2022-01-13T14:22:24.995Z"
   },
   {
    "duration": 8,
    "start_time": "2022-01-13T14:22:53.198Z"
   },
   {
    "duration": 93,
    "start_time": "2022-01-13T14:37:45.772Z"
   },
   {
    "duration": 139,
    "start_time": "2022-01-13T14:37:45.867Z"
   },
   {
    "duration": 6,
    "start_time": "2022-01-13T14:37:46.009Z"
   },
   {
    "duration": 48,
    "start_time": "2022-01-13T14:37:46.018Z"
   },
   {
    "duration": 19,
    "start_time": "2022-01-13T14:37:46.069Z"
   },
   {
    "duration": 7,
    "start_time": "2022-01-13T14:37:46.091Z"
   },
   {
    "duration": 6,
    "start_time": "2022-01-13T14:37:46.100Z"
   },
   {
    "duration": 52,
    "start_time": "2022-01-13T14:37:46.111Z"
   },
   {
    "duration": 7,
    "start_time": "2022-01-13T14:37:46.167Z"
   },
   {
    "duration": 46,
    "start_time": "2022-01-13T14:37:46.177Z"
   },
   {
    "duration": 40,
    "start_time": "2022-01-13T14:37:46.226Z"
   },
   {
    "duration": 9,
    "start_time": "2022-01-13T14:37:46.269Z"
   },
   {
    "duration": 13,
    "start_time": "2022-01-13T14:37:46.281Z"
   },
   {
    "duration": 3,
    "start_time": "2022-01-13T14:37:46.296Z"
   },
   {
    "duration": 124,
    "start_time": "2022-01-13T14:37:46.302Z"
   },
   {
    "duration": 3,
    "start_time": "2022-01-13T14:37:46.429Z"
   },
   {
    "duration": 22,
    "start_time": "2022-01-13T14:37:46.435Z"
   },
   {
    "duration": 15,
    "start_time": "2022-01-13T14:37:46.460Z"
   },
   {
    "duration": 41,
    "start_time": "2022-01-13T14:37:46.477Z"
   },
   {
    "duration": 14,
    "start_time": "2022-01-13T14:37:46.520Z"
   },
   {
    "duration": 18,
    "start_time": "2022-01-13T14:37:46.537Z"
   },
   {
    "duration": 14,
    "start_time": "2022-01-13T14:37:46.558Z"
   },
   {
    "duration": 17,
    "start_time": "2022-01-13T14:37:46.579Z"
   },
   {
    "duration": 24,
    "start_time": "2022-01-13T14:37:46.599Z"
   },
   {
    "duration": 21,
    "start_time": "2022-01-13T14:37:46.626Z"
   },
   {
    "duration": 18,
    "start_time": "2022-01-13T14:37:46.650Z"
   },
   {
    "duration": 14,
    "start_time": "2022-01-13T14:37:46.670Z"
   },
   {
    "duration": 7,
    "start_time": "2022-01-13T14:37:46.686Z"
   },
   {
    "duration": 7,
    "start_time": "2022-01-13T14:37:46.695Z"
   },
   {
    "duration": 4,
    "start_time": "2022-01-13T14:37:46.704Z"
   },
   {
    "duration": 14,
    "start_time": "2022-01-13T14:37:52.106Z"
   },
   {
    "duration": 8,
    "start_time": "2022-01-13T14:37:57.363Z"
   },
   {
    "duration": 6,
    "start_time": "2022-01-13T14:38:01.252Z"
   },
   {
    "duration": 8,
    "start_time": "2022-01-13T14:38:03.396Z"
   },
   {
    "duration": 10,
    "start_time": "2022-01-13T14:38:08.867Z"
   },
   {
    "duration": 69,
    "start_time": "2022-01-13T15:47:45.658Z"
   },
   {
    "duration": 189,
    "start_time": "2022-01-13T15:47:45.729Z"
   },
   {
    "duration": 5,
    "start_time": "2022-01-13T15:47:45.921Z"
   },
   {
    "duration": 54,
    "start_time": "2022-01-13T15:47:45.930Z"
   },
   {
    "duration": 17,
    "start_time": "2022-01-13T15:47:45.987Z"
   },
   {
    "duration": 56,
    "start_time": "2022-01-13T15:47:46.007Z"
   },
   {
    "duration": 7,
    "start_time": "2022-01-13T15:47:46.065Z"
   },
   {
    "duration": 26,
    "start_time": "2022-01-13T15:47:46.077Z"
   },
   {
    "duration": 21,
    "start_time": "2022-01-13T15:47:46.107Z"
   },
   {
    "duration": 63,
    "start_time": "2022-01-13T15:47:46.131Z"
   },
   {
    "duration": 8,
    "start_time": "2022-01-13T15:47:46.198Z"
   },
   {
    "duration": 16,
    "start_time": "2022-01-13T15:47:46.208Z"
   },
   {
    "duration": 44,
    "start_time": "2022-01-13T15:47:46.227Z"
   },
   {
    "duration": 19,
    "start_time": "2022-01-13T15:47:46.273Z"
   },
   {
    "duration": 94,
    "start_time": "2022-01-13T15:47:46.294Z"
   },
   {
    "duration": 3,
    "start_time": "2022-01-13T15:47:46.391Z"
   },
   {
    "duration": 26,
    "start_time": "2022-01-13T15:47:46.396Z"
   },
   {
    "duration": 28,
    "start_time": "2022-01-13T15:47:46.424Z"
   },
   {
    "duration": 42,
    "start_time": "2022-01-13T15:47:46.455Z"
   },
   {
    "duration": 19,
    "start_time": "2022-01-13T15:47:46.499Z"
   },
   {
    "duration": 8,
    "start_time": "2022-01-13T15:47:46.521Z"
   },
   {
    "duration": 7,
    "start_time": "2022-01-13T15:47:46.531Z"
   },
   {
    "duration": 23,
    "start_time": "2022-01-13T15:47:46.544Z"
   },
   {
    "duration": 9,
    "start_time": "2022-01-13T15:47:46.571Z"
   },
   {
    "duration": 10,
    "start_time": "2022-01-13T15:47:46.583Z"
   },
   {
    "duration": 6,
    "start_time": "2022-01-13T15:47:46.595Z"
   },
   {
    "duration": 61,
    "start_time": "2022-01-13T15:47:46.603Z"
   },
   {
    "duration": 7,
    "start_time": "2022-01-13T15:47:46.667Z"
   },
   {
    "duration": 8,
    "start_time": "2022-01-13T15:47:46.676Z"
   },
   {
    "duration": 3,
    "start_time": "2022-01-13T15:47:46.686Z"
   },
   {
    "duration": 14,
    "start_time": "2022-01-13T15:47:46.691Z"
   },
   {
    "duration": 74,
    "start_time": "2022-01-13T15:47:46.707Z"
   },
   {
    "duration": 15,
    "start_time": "2022-01-13T15:47:46.784Z"
   },
   {
    "duration": 7,
    "start_time": "2022-01-13T15:47:46.802Z"
   },
   {
    "duration": 52,
    "start_time": "2022-01-13T15:47:46.812Z"
   },
   {
    "duration": 10,
    "start_time": "2022-01-13T15:47:46.867Z"
   },
   {
    "duration": 5,
    "start_time": "2022-01-13T15:47:46.879Z"
   },
   {
    "duration": 4,
    "start_time": "2022-01-13T15:47:46.888Z"
   },
   {
    "duration": 11,
    "start_time": "2022-01-13T15:47:46.895Z"
   },
   {
    "duration": 59,
    "start_time": "2022-01-13T15:47:46.909Z"
   },
   {
    "duration": 21,
    "start_time": "2022-01-13T15:47:46.971Z"
   },
   {
    "duration": 9,
    "start_time": "2022-01-13T15:47:46.995Z"
   },
   {
    "duration": 4,
    "start_time": "2022-01-13T15:47:47.007Z"
   },
   {
    "duration": 52,
    "start_time": "2022-01-13T15:47:47.013Z"
   },
   {
    "duration": 28,
    "start_time": "2022-01-13T15:47:47.068Z"
   },
   {
    "duration": 9,
    "start_time": "2022-01-13T15:47:47.099Z"
   },
   {
    "duration": 75,
    "start_time": "2022-01-13T15:47:47.111Z"
   },
   {
    "duration": 23,
    "start_time": "2022-01-13T15:47:47.189Z"
   },
   {
    "duration": 61,
    "start_time": "2022-01-13T15:47:47.214Z"
   },
   {
    "duration": 3,
    "start_time": "2022-01-13T15:47:47.277Z"
   },
   {
    "duration": 7,
    "start_time": "2022-01-13T15:47:47.283Z"
   },
   {
    "duration": 3,
    "start_time": "2022-01-13T15:47:47.293Z"
   },
   {
    "duration": 6,
    "start_time": "2022-01-13T15:47:47.298Z"
   },
   {
    "duration": 7,
    "start_time": "2022-01-13T15:47:47.307Z"
   },
   {
    "duration": 61,
    "start_time": "2022-01-13T15:47:47.317Z"
   },
   {
    "duration": 10,
    "start_time": "2022-01-13T15:47:47.380Z"
   },
   {
    "duration": 29,
    "start_time": "2022-01-13T15:47:47.392Z"
   },
   {
    "duration": 8,
    "start_time": "2022-01-13T15:47:47.464Z"
   },
   {
    "duration": 49,
    "start_time": "2022-01-13T15:47:47.476Z"
   },
   {
    "duration": 44,
    "start_time": "2022-01-13T15:47:47.527Z"
   },
   {
    "duration": 4,
    "start_time": "2022-01-13T15:47:47.574Z"
   },
   {
    "duration": 27,
    "start_time": "2022-01-13T15:47:47.581Z"
   },
   {
    "duration": 8,
    "start_time": "2022-01-13T15:47:47.611Z"
   },
   {
    "duration": 19,
    "start_time": "2022-01-13T15:47:47.664Z"
   },
   {
    "duration": 4,
    "start_time": "2022-01-13T15:47:47.686Z"
   },
   {
    "duration": 16,
    "start_time": "2022-01-13T15:47:47.693Z"
   },
   {
    "duration": 94,
    "start_time": "2022-01-13T15:47:47.712Z"
   },
   {
    "duration": 3,
    "start_time": "2022-01-13T15:47:47.816Z"
   },
   {
    "duration": 43,
    "start_time": "2022-01-13T15:47:47.822Z"
   },
   {
    "duration": 19,
    "start_time": "2022-01-13T15:47:47.868Z"
   },
   {
    "duration": 21,
    "start_time": "2022-01-13T15:47:47.891Z"
   },
   {
    "duration": 3,
    "start_time": "2022-01-13T15:47:47.915Z"
   },
   {
    "duration": 3,
    "start_time": "2022-01-13T15:47:47.963Z"
   },
   {
    "duration": 10,
    "start_time": "2022-01-13T15:47:47.970Z"
   },
   {
    "duration": 15,
    "start_time": "2022-01-13T15:47:47.983Z"
   },
   {
    "duration": 108,
    "start_time": "2022-01-13T15:47:48.001Z"
   },
   {
    "duration": -59,
    "start_time": "2022-01-13T15:47:48.171Z"
   },
   {
    "duration": -77,
    "start_time": "2022-01-13T15:47:48.190Z"
   },
   {
    "duration": -86,
    "start_time": "2022-01-13T15:47:48.201Z"
   },
   {
    "duration": -88,
    "start_time": "2022-01-13T15:47:48.204Z"
   },
   {
    "duration": -89,
    "start_time": "2022-01-13T15:47:48.206Z"
   },
   {
    "duration": -96,
    "start_time": "2022-01-13T15:47:48.215Z"
   },
   {
    "duration": -98,
    "start_time": "2022-01-13T15:47:48.218Z"
   },
   {
    "duration": -99,
    "start_time": "2022-01-13T15:47:48.221Z"
   },
   {
    "duration": -100,
    "start_time": "2022-01-13T15:47:48.224Z"
   },
   {
    "duration": -107,
    "start_time": "2022-01-13T15:47:48.233Z"
   },
   {
    "duration": -108,
    "start_time": "2022-01-13T15:47:48.236Z"
   },
   {
    "duration": -111,
    "start_time": "2022-01-13T15:47:48.240Z"
   },
   {
    "duration": -119,
    "start_time": "2022-01-13T15:47:48.249Z"
   },
   {
    "duration": -120,
    "start_time": "2022-01-13T15:47:48.251Z"
   },
   {
    "duration": -122,
    "start_time": "2022-01-13T15:47:48.254Z"
   },
   {
    "duration": -130,
    "start_time": "2022-01-13T15:47:48.263Z"
   },
   {
    "duration": -131,
    "start_time": "2022-01-13T15:47:48.266Z"
   },
   {
    "duration": 16,
    "start_time": "2022-01-13T15:48:24.467Z"
   },
   {
    "duration": 16,
    "start_time": "2022-01-13T15:48:43.422Z"
   },
   {
    "duration": 96,
    "start_time": "2022-01-13T15:49:11.828Z"
   },
   {
    "duration": 373,
    "start_time": "2022-01-13T15:49:17.699Z"
   },
   {
    "duration": 289,
    "start_time": "2022-01-13T15:49:38.780Z"
   },
   {
    "duration": 305,
    "start_time": "2022-01-13T15:49:52.043Z"
   },
   {
    "duration": 11,
    "start_time": "2022-01-13T15:50:00.817Z"
   },
   {
    "duration": 76,
    "start_time": "2022-01-13T16:11:39.296Z"
   },
   {
    "duration": 219,
    "start_time": "2022-01-13T16:11:39.375Z"
   },
   {
    "duration": 5,
    "start_time": "2022-01-13T16:11:39.597Z"
   },
   {
    "duration": 24,
    "start_time": "2022-01-13T16:11:39.605Z"
   },
   {
    "duration": 40,
    "start_time": "2022-01-13T16:11:39.631Z"
   },
   {
    "duration": 9,
    "start_time": "2022-01-13T16:11:39.674Z"
   },
   {
    "duration": 8,
    "start_time": "2022-01-13T16:11:39.685Z"
   },
   {
    "duration": 14,
    "start_time": "2022-01-13T16:11:39.698Z"
   },
   {
    "duration": 7,
    "start_time": "2022-01-13T16:11:39.716Z"
   },
   {
    "duration": 49,
    "start_time": "2022-01-13T16:11:39.772Z"
   },
   {
    "duration": 7,
    "start_time": "2022-01-13T16:11:39.824Z"
   },
   {
    "duration": 31,
    "start_time": "2022-01-13T16:11:39.834Z"
   },
   {
    "duration": 16,
    "start_time": "2022-01-13T16:11:39.869Z"
   },
   {
    "duration": 3,
    "start_time": "2022-01-13T16:11:39.889Z"
   },
   {
    "duration": 154,
    "start_time": "2022-01-13T16:11:39.895Z"
   },
   {
    "duration": 3,
    "start_time": "2022-01-13T16:11:40.051Z"
   },
   {
    "duration": 22,
    "start_time": "2022-01-13T16:11:40.056Z"
   },
   {
    "duration": 13,
    "start_time": "2022-01-13T16:11:40.082Z"
   },
   {
    "duration": 20,
    "start_time": "2022-01-13T16:11:40.097Z"
   },
   {
    "duration": 6,
    "start_time": "2022-01-13T16:11:40.120Z"
   },
   {
    "duration": 38,
    "start_time": "2022-01-13T16:11:40.129Z"
   },
   {
    "duration": 12,
    "start_time": "2022-01-13T16:11:40.171Z"
   },
   {
    "duration": 7,
    "start_time": "2022-01-13T16:11:40.189Z"
   },
   {
    "duration": 10,
    "start_time": "2022-01-13T16:11:40.200Z"
   },
   {
    "duration": 61,
    "start_time": "2022-01-13T16:11:40.212Z"
   },
   {
    "duration": 8,
    "start_time": "2022-01-13T16:11:40.276Z"
   },
   {
    "duration": 9,
    "start_time": "2022-01-13T16:11:40.286Z"
   },
   {
    "duration": 7,
    "start_time": "2022-01-13T16:11:40.297Z"
   },
   {
    "duration": 8,
    "start_time": "2022-01-13T16:11:40.307Z"
   },
   {
    "duration": 14,
    "start_time": "2022-01-13T16:11:40.367Z"
   },
   {
    "duration": 11,
    "start_time": "2022-01-13T16:11:40.384Z"
   },
   {
    "duration": 6,
    "start_time": "2022-01-13T16:11:40.398Z"
   },
   {
    "duration": 7,
    "start_time": "2022-01-13T16:11:40.407Z"
   },
   {
    "duration": 46,
    "start_time": "2022-01-13T16:11:40.417Z"
   },
   {
    "duration": 15,
    "start_time": "2022-01-13T16:11:40.466Z"
   },
   {
    "duration": 12,
    "start_time": "2022-01-13T16:11:40.484Z"
   },
   {
    "duration": 5,
    "start_time": "2022-01-13T16:11:40.499Z"
   },
   {
    "duration": 5,
    "start_time": "2022-01-13T16:11:40.507Z"
   },
   {
    "duration": 51,
    "start_time": "2022-01-13T16:11:40.514Z"
   },
   {
    "duration": 14,
    "start_time": "2022-01-13T16:11:40.569Z"
   },
   {
    "duration": 26,
    "start_time": "2022-01-13T16:11:40.586Z"
   },
   {
    "duration": 14,
    "start_time": "2022-01-13T16:11:40.615Z"
   },
   {
    "duration": 4,
    "start_time": "2022-01-13T16:11:40.632Z"
   },
   {
    "duration": 12,
    "start_time": "2022-01-13T16:11:40.663Z"
   },
   {
    "duration": 36,
    "start_time": "2022-01-13T16:11:40.678Z"
   },
   {
    "duration": 9,
    "start_time": "2022-01-13T16:11:40.720Z"
   },
   {
    "duration": 52,
    "start_time": "2022-01-13T16:11:40.732Z"
   },
   {
    "duration": 24,
    "start_time": "2022-01-13T16:11:40.786Z"
   },
   {
    "duration": 53,
    "start_time": "2022-01-13T16:11:40.812Z"
   },
   {
    "duration": 4,
    "start_time": "2022-01-13T16:11:40.868Z"
   },
   {
    "duration": 9,
    "start_time": "2022-01-13T16:11:40.875Z"
   },
   {
    "duration": 5,
    "start_time": "2022-01-13T16:11:40.886Z"
   },
   {
    "duration": 5,
    "start_time": "2022-01-13T16:11:40.894Z"
   },
   {
    "duration": 8,
    "start_time": "2022-01-13T16:11:40.902Z"
   },
   {
    "duration": 67,
    "start_time": "2022-01-13T16:11:40.912Z"
   },
   {
    "duration": 9,
    "start_time": "2022-01-13T16:11:40.982Z"
   },
   {
    "duration": 26,
    "start_time": "2022-01-13T16:11:40.994Z"
   },
   {
    "duration": 40,
    "start_time": "2022-01-13T16:11:41.023Z"
   },
   {
    "duration": 65,
    "start_time": "2022-01-13T16:11:41.066Z"
   },
   {
    "duration": 37,
    "start_time": "2022-01-13T16:11:41.134Z"
   },
   {
    "duration": 4,
    "start_time": "2022-01-13T16:11:41.174Z"
   },
   {
    "duration": 30,
    "start_time": "2022-01-13T16:11:41.181Z"
   },
   {
    "duration": 3,
    "start_time": "2022-01-13T16:11:41.214Z"
   },
   {
    "duration": 51,
    "start_time": "2022-01-13T16:11:41.220Z"
   },
   {
    "duration": 4,
    "start_time": "2022-01-13T16:11:41.275Z"
   },
   {
    "duration": 5,
    "start_time": "2022-01-13T16:11:41.282Z"
   },
   {
    "duration": 46,
    "start_time": "2022-01-13T16:11:41.289Z"
   },
   {
    "duration": 5,
    "start_time": "2022-01-13T16:11:41.374Z"
   },
   {
    "duration": 14,
    "start_time": "2022-01-13T16:11:41.383Z"
   },
   {
    "duration": 15,
    "start_time": "2022-01-13T16:11:41.400Z"
   },
   {
    "duration": 68,
    "start_time": "2022-01-13T16:11:41.417Z"
   },
   {
    "duration": 2,
    "start_time": "2022-01-13T16:11:41.489Z"
   },
   {
    "duration": 15,
    "start_time": "2022-01-13T16:11:41.494Z"
   },
   {
    "duration": 19,
    "start_time": "2022-01-13T16:11:41.511Z"
   },
   {
    "duration": 16,
    "start_time": "2022-01-13T16:11:41.532Z"
   },
   {
    "duration": 3,
    "start_time": "2022-01-13T16:11:41.563Z"
   },
   {
    "duration": 23,
    "start_time": "2022-01-13T16:11:41.569Z"
   },
   {
    "duration": 3,
    "start_time": "2022-01-13T16:11:41.595Z"
   },
   {
    "duration": 17,
    "start_time": "2022-01-13T16:11:41.600Z"
   },
   {
    "duration": 9,
    "start_time": "2022-01-13T16:11:41.620Z"
   },
   {
    "duration": 15,
    "start_time": "2022-01-13T16:11:41.632Z"
   },
   {
    "duration": 18,
    "start_time": "2022-01-13T16:11:41.662Z"
   },
   {
    "duration": 15,
    "start_time": "2022-01-13T16:11:41.683Z"
   },
   {
    "duration": 7,
    "start_time": "2022-01-13T16:11:41.701Z"
   },
   {
    "duration": 4,
    "start_time": "2022-01-13T16:11:41.711Z"
   },
   {
    "duration": 6,
    "start_time": "2022-01-13T16:11:41.718Z"
   },
   {
    "duration": 5,
    "start_time": "2022-01-13T16:11:41.726Z"
   },
   {
    "duration": 15,
    "start_time": "2022-01-13T16:11:41.764Z"
   },
   {
    "duration": 6,
    "start_time": "2022-01-13T16:11:41.782Z"
   },
   {
    "duration": 7,
    "start_time": "2022-01-13T16:11:41.791Z"
   },
   {
    "duration": 4,
    "start_time": "2022-01-13T16:11:41.801Z"
   },
   {
    "duration": 5,
    "start_time": "2022-01-13T16:11:41.808Z"
   },
   {
    "duration": 5,
    "start_time": "2022-01-13T16:11:41.815Z"
   },
   {
    "duration": 4,
    "start_time": "2022-01-13T16:11:41.823Z"
   },
   {
    "duration": 78,
    "start_time": "2022-01-13T16:17:55.801Z"
   },
   {
    "duration": 197,
    "start_time": "2022-01-13T16:17:55.883Z"
   },
   {
    "duration": 6,
    "start_time": "2022-01-13T16:17:56.085Z"
   },
   {
    "duration": 24,
    "start_time": "2022-01-13T16:17:56.095Z"
   },
   {
    "duration": 52,
    "start_time": "2022-01-13T16:17:56.122Z"
   },
   {
    "duration": 8,
    "start_time": "2022-01-13T16:17:56.176Z"
   },
   {
    "duration": 6,
    "start_time": "2022-01-13T16:17:56.187Z"
   },
   {
    "duration": 6,
    "start_time": "2022-01-13T16:17:56.196Z"
   },
   {
    "duration": 8,
    "start_time": "2022-01-13T16:17:56.206Z"
   },
   {
    "duration": 42,
    "start_time": "2022-01-13T16:17:56.267Z"
   },
   {
    "duration": 6,
    "start_time": "2022-01-13T16:17:56.312Z"
   },
   {
    "duration": 46,
    "start_time": "2022-01-13T16:17:56.320Z"
   },
   {
    "duration": 13,
    "start_time": "2022-01-13T16:17:56.370Z"
   },
   {
    "duration": 3,
    "start_time": "2022-01-13T16:17:56.386Z"
   },
   {
    "duration": 118,
    "start_time": "2022-01-13T16:17:56.391Z"
   },
   {
    "duration": 3,
    "start_time": "2022-01-13T16:17:56.512Z"
   },
   {
    "duration": 5,
    "start_time": "2022-01-13T16:17:56.518Z"
   },
   {
    "duration": 9,
    "start_time": "2022-01-13T16:17:56.525Z"
   },
   {
    "duration": 46,
    "start_time": "2022-01-13T16:17:56.536Z"
   },
   {
    "duration": 7,
    "start_time": "2022-01-13T16:17:56.584Z"
   },
   {
    "duration": 8,
    "start_time": "2022-01-13T16:17:56.593Z"
   },
   {
    "duration": 7,
    "start_time": "2022-01-13T16:17:56.603Z"
   },
   {
    "duration": 53,
    "start_time": "2022-01-13T16:17:56.613Z"
   },
   {
    "duration": 14,
    "start_time": "2022-01-13T16:17:56.669Z"
   },
   {
    "duration": 9,
    "start_time": "2022-01-13T16:17:56.686Z"
   },
   {
    "duration": 9,
    "start_time": "2022-01-13T16:17:56.698Z"
   },
   {
    "duration": 61,
    "start_time": "2022-01-13T16:17:56.715Z"
   },
   {
    "duration": 7,
    "start_time": "2022-01-13T16:17:56.781Z"
   },
   {
    "duration": 7,
    "start_time": "2022-01-13T16:17:56.790Z"
   },
   {
    "duration": 3,
    "start_time": "2022-01-13T16:17:56.800Z"
   },
   {
    "duration": 18,
    "start_time": "2022-01-13T16:17:56.805Z"
   },
   {
    "duration": 12,
    "start_time": "2022-01-13T16:17:56.865Z"
   },
   {
    "duration": 9,
    "start_time": "2022-01-13T16:17:56.880Z"
   },
   {
    "duration": 8,
    "start_time": "2022-01-13T16:17:56.892Z"
   },
   {
    "duration": 12,
    "start_time": "2022-01-13T16:17:56.902Z"
   },
   {
    "duration": 17,
    "start_time": "2022-01-13T16:17:56.965Z"
   },
   {
    "duration": 3,
    "start_time": "2022-01-13T16:17:56.985Z"
   },
   {
    "duration": 5,
    "start_time": "2022-01-13T16:17:56.990Z"
   },
   {
    "duration": 12,
    "start_time": "2022-01-13T16:17:56.997Z"
   },
   {
    "duration": 4,
    "start_time": "2022-01-13T16:17:57.011Z"
   },
   {
    "duration": 64,
    "start_time": "2022-01-13T16:17:57.018Z"
   },
   {
    "duration": 11,
    "start_time": "2022-01-13T16:17:57.086Z"
   },
   {
    "duration": 4,
    "start_time": "2022-01-13T16:17:57.100Z"
   },
   {
    "duration": 171,
    "start_time": "2022-01-13T16:17:57.108Z"
   },
   {
    "duration": 29,
    "start_time": "2022-01-13T16:17:57.282Z"
   },
   {
    "duration": 7,
    "start_time": "2022-01-13T16:17:57.313Z"
   },
   {
    "duration": 62,
    "start_time": "2022-01-13T16:17:57.323Z"
   },
   {
    "duration": 30,
    "start_time": "2022-01-13T16:17:57.388Z"
   },
   {
    "duration": 51,
    "start_time": "2022-01-13T16:17:57.420Z"
   },
   {
    "duration": 3,
    "start_time": "2022-01-13T16:17:57.474Z"
   },
   {
    "duration": 6,
    "start_time": "2022-01-13T16:17:57.481Z"
   },
   {
    "duration": 9,
    "start_time": "2022-01-13T16:17:57.490Z"
   },
   {
    "duration": 9,
    "start_time": "2022-01-13T16:17:57.502Z"
   },
   {
    "duration": 8,
    "start_time": "2022-01-13T16:17:57.514Z"
   },
   {
    "duration": 56,
    "start_time": "2022-01-13T16:17:57.525Z"
   },
   {
    "duration": 13,
    "start_time": "2022-01-13T16:17:57.584Z"
   },
   {
    "duration": 27,
    "start_time": "2022-01-13T16:17:57.600Z"
   },
   {
    "duration": 8,
    "start_time": "2022-01-13T16:17:57.663Z"
   },
   {
    "duration": 64,
    "start_time": "2022-01-13T16:17:57.674Z"
   },
   {
    "duration": 35,
    "start_time": "2022-01-13T16:17:57.741Z"
   },
   {
    "duration": 4,
    "start_time": "2022-01-13T16:17:57.779Z"
   },
   {
    "duration": 20,
    "start_time": "2022-01-13T16:17:57.786Z"
   },
   {
    "duration": 3,
    "start_time": "2022-01-13T16:17:57.808Z"
   },
   {
    "duration": 67,
    "start_time": "2022-01-13T16:17:57.814Z"
   },
   {
    "duration": 3,
    "start_time": "2022-01-13T16:17:57.883Z"
   },
   {
    "duration": 5,
    "start_time": "2022-01-13T16:17:57.889Z"
   },
   {
    "duration": 80,
    "start_time": "2022-01-13T16:17:57.896Z"
   },
   {
    "duration": 3,
    "start_time": "2022-01-13T16:17:57.979Z"
   },
   {
    "duration": 19,
    "start_time": "2022-01-13T16:17:57.985Z"
   },
   {
    "duration": 23,
    "start_time": "2022-01-13T16:17:58.007Z"
   },
   {
    "duration": 54,
    "start_time": "2022-01-13T16:17:58.033Z"
   },
   {
    "duration": 3,
    "start_time": "2022-01-13T16:17:58.090Z"
   },
   {
    "duration": 11,
    "start_time": "2022-01-13T16:17:58.096Z"
   },
   {
    "duration": 11,
    "start_time": "2022-01-13T16:17:58.110Z"
   },
   {
    "duration": 60,
    "start_time": "2022-01-13T16:17:58.124Z"
   },
   {
    "duration": 3,
    "start_time": "2022-01-13T16:17:58.186Z"
   },
   {
    "duration": 24,
    "start_time": "2022-01-13T16:17:58.191Z"
   },
   {
    "duration": 13,
    "start_time": "2022-01-13T16:17:58.218Z"
   },
   {
    "duration": 18,
    "start_time": "2022-01-13T16:17:58.233Z"
   },
   {
    "duration": 21,
    "start_time": "2022-01-13T16:17:58.253Z"
   },
   {
    "duration": 10,
    "start_time": "2022-01-13T16:17:58.286Z"
   },
   {
    "duration": 8,
    "start_time": "2022-01-13T16:18:04.119Z"
   },
   {
    "duration": 329,
    "start_time": "2022-01-13T16:21:22.612Z"
   },
   {
    "duration": 345,
    "start_time": "2022-01-13T16:22:19.077Z"
   },
   {
    "duration": 335,
    "start_time": "2022-01-13T16:23:07.132Z"
   },
   {
    "duration": 116,
    "start_time": "2022-01-13T16:31:29.955Z"
   },
   {
    "duration": 10,
    "start_time": "2022-01-13T16:35:08.779Z"
   },
   {
    "duration": 83,
    "start_time": "2022-01-13T16:35:22.606Z"
   },
   {
    "duration": 199,
    "start_time": "2022-01-13T16:35:22.692Z"
   },
   {
    "duration": 6,
    "start_time": "2022-01-13T16:35:22.895Z"
   },
   {
    "duration": 22,
    "start_time": "2022-01-13T16:35:22.904Z"
   },
   {
    "duration": 16,
    "start_time": "2022-01-13T16:35:22.964Z"
   },
   {
    "duration": 7,
    "start_time": "2022-01-13T16:35:22.983Z"
   },
   {
    "duration": 6,
    "start_time": "2022-01-13T16:35:22.994Z"
   },
   {
    "duration": 5,
    "start_time": "2022-01-13T16:35:23.005Z"
   },
   {
    "duration": 7,
    "start_time": "2022-01-13T16:35:23.064Z"
   },
   {
    "duration": 38,
    "start_time": "2022-01-13T16:35:23.073Z"
   },
   {
    "duration": 6,
    "start_time": "2022-01-13T16:35:23.113Z"
   },
   {
    "duration": 8,
    "start_time": "2022-01-13T16:35:23.121Z"
   },
   {
    "duration": 10,
    "start_time": "2022-01-13T16:35:23.163Z"
   },
   {
    "duration": 3,
    "start_time": "2022-01-13T16:35:23.175Z"
   },
   {
    "duration": 103,
    "start_time": "2022-01-13T16:35:23.180Z"
   },
   {
    "duration": 4,
    "start_time": "2022-01-13T16:35:23.285Z"
   },
   {
    "duration": 5,
    "start_time": "2022-01-13T16:35:23.292Z"
   },
   {
    "duration": 9,
    "start_time": "2022-01-13T16:35:23.300Z"
   },
   {
    "duration": 56,
    "start_time": "2022-01-13T16:35:23.312Z"
   },
   {
    "duration": 6,
    "start_time": "2022-01-13T16:35:23.370Z"
   },
   {
    "duration": 12,
    "start_time": "2022-01-13T16:35:23.378Z"
   },
   {
    "duration": 7,
    "start_time": "2022-01-13T16:35:23.392Z"
   },
   {
    "duration": 6,
    "start_time": "2022-01-13T16:35:23.406Z"
   },
   {
    "duration": 48,
    "start_time": "2022-01-13T16:35:23.416Z"
   },
   {
    "duration": 9,
    "start_time": "2022-01-13T16:35:23.467Z"
   },
   {
    "duration": 7,
    "start_time": "2022-01-13T16:35:23.478Z"
   },
   {
    "duration": 12,
    "start_time": "2022-01-13T16:35:23.487Z"
   },
   {
    "duration": 7,
    "start_time": "2022-01-13T16:35:23.501Z"
   },
   {
    "duration": 9,
    "start_time": "2022-01-13T16:35:23.510Z"
   },
   {
    "duration": 3,
    "start_time": "2022-01-13T16:35:23.563Z"
   },
   {
    "duration": 13,
    "start_time": "2022-01-13T16:35:23.568Z"
   },
   {
    "duration": 7,
    "start_time": "2022-01-13T16:35:23.583Z"
   },
   {
    "duration": 6,
    "start_time": "2022-01-13T16:35:23.592Z"
   },
   {
    "duration": 5,
    "start_time": "2022-01-13T16:35:23.601Z"
   },
   {
    "duration": 10,
    "start_time": "2022-01-13T16:35:23.608Z"
   },
   {
    "duration": 10,
    "start_time": "2022-01-13T16:35:23.663Z"
   },
   {
    "duration": 6,
    "start_time": "2022-01-13T16:35:23.675Z"
   },
   {
    "duration": 6,
    "start_time": "2022-01-13T16:35:23.683Z"
   },
   {
    "duration": 12,
    "start_time": "2022-01-13T16:35:23.691Z"
   },
   {
    "duration": 5,
    "start_time": "2022-01-13T16:35:23.706Z"
   },
   {
    "duration": 55,
    "start_time": "2022-01-13T16:35:23.713Z"
   },
   {
    "duration": 11,
    "start_time": "2022-01-13T16:35:23.770Z"
   },
   {
    "duration": 5,
    "start_time": "2022-01-13T16:35:23.783Z"
   },
   {
    "duration": 5,
    "start_time": "2022-01-13T16:35:23.790Z"
   },
   {
    "duration": 29,
    "start_time": "2022-01-13T16:35:23.798Z"
   },
   {
    "duration": 35,
    "start_time": "2022-01-13T16:35:23.830Z"
   },
   {
    "duration": 23,
    "start_time": "2022-01-13T16:35:23.867Z"
   },
   {
    "duration": 21,
    "start_time": "2022-01-13T16:35:23.892Z"
   },
   {
    "duration": 59,
    "start_time": "2022-01-13T16:35:23.916Z"
   },
   {
    "duration": 4,
    "start_time": "2022-01-13T16:35:23.978Z"
   },
   {
    "duration": 8,
    "start_time": "2022-01-13T16:35:23.985Z"
   },
   {
    "duration": 3,
    "start_time": "2022-01-13T16:35:23.996Z"
   },
   {
    "duration": 7,
    "start_time": "2022-01-13T16:35:24.001Z"
   },
   {
    "duration": 53,
    "start_time": "2022-01-13T16:35:24.011Z"
   },
   {
    "duration": 13,
    "start_time": "2022-01-13T16:35:24.066Z"
   },
   {
    "duration": 11,
    "start_time": "2022-01-13T16:35:24.082Z"
   },
   {
    "duration": 28,
    "start_time": "2022-01-13T16:35:24.095Z"
   },
   {
    "duration": 40,
    "start_time": "2022-01-13T16:35:24.125Z"
   },
   {
    "duration": 46,
    "start_time": "2022-01-13T16:35:24.168Z"
   },
   {
    "duration": 47,
    "start_time": "2022-01-13T16:35:24.216Z"
   },
   {
    "duration": 3,
    "start_time": "2022-01-13T16:35:24.265Z"
   },
   {
    "duration": 22,
    "start_time": "2022-01-13T16:35:24.271Z"
   },
   {
    "duration": 4,
    "start_time": "2022-01-13T16:35:24.295Z"
   },
   {
    "duration": 17,
    "start_time": "2022-01-13T16:35:24.301Z"
   },
   {
    "duration": 43,
    "start_time": "2022-01-13T16:35:24.322Z"
   },
   {
    "duration": 7,
    "start_time": "2022-01-13T16:35:24.367Z"
   },
   {
    "duration": 48,
    "start_time": "2022-01-13T16:35:24.376Z"
   },
   {
    "duration": 3,
    "start_time": "2022-01-13T16:35:24.462Z"
   },
   {
    "duration": 15,
    "start_time": "2022-01-13T16:35:24.468Z"
   },
   {
    "duration": 15,
    "start_time": "2022-01-13T16:35:24.485Z"
   },
   {
    "duration": 15,
    "start_time": "2022-01-13T16:35:24.503Z"
   },
   {
    "duration": 3,
    "start_time": "2022-01-13T16:35:24.521Z"
   },
   {
    "duration": 37,
    "start_time": "2022-01-13T16:35:24.527Z"
   },
   {
    "duration": 12,
    "start_time": "2022-01-13T16:35:24.567Z"
   },
   {
    "duration": 19,
    "start_time": "2022-01-13T16:35:24.582Z"
   },
   {
    "duration": 3,
    "start_time": "2022-01-13T16:35:24.603Z"
   },
   {
    "duration": 57,
    "start_time": "2022-01-13T16:35:24.608Z"
   },
   {
    "duration": 4,
    "start_time": "2022-01-13T16:35:24.667Z"
   },
   {
    "duration": 6,
    "start_time": "2022-01-13T16:35:24.674Z"
   },
   {
    "duration": 5,
    "start_time": "2022-01-13T16:35:24.682Z"
   },
   {
    "duration": 6,
    "start_time": "2022-01-13T16:35:24.689Z"
   },
   {
    "duration": 7,
    "start_time": "2022-01-13T16:35:28.845Z"
   },
   {
    "duration": 4,
    "start_time": "2022-01-13T16:35:33.687Z"
   },
   {
    "duration": 296,
    "start_time": "2022-01-13T16:38:29.015Z"
   },
   {
    "duration": 7,
    "start_time": "2022-01-13T16:38:33.328Z"
   },
   {
    "duration": 296,
    "start_time": "2022-01-13T16:38:42.657Z"
   },
   {
    "duration": 100,
    "start_time": "2022-01-13T16:46:30.328Z"
   },
   {
    "duration": 13,
    "start_time": "2022-01-13T16:47:05.734Z"
   },
   {
    "duration": 6,
    "start_time": "2022-01-13T16:47:16.917Z"
   },
   {
    "duration": 4,
    "start_time": "2022-01-13T16:49:18.283Z"
   },
   {
    "duration": 331,
    "start_time": "2022-01-13T16:50:56.378Z"
   },
   {
    "duration": 345,
    "start_time": "2022-01-13T16:51:02.961Z"
   },
   {
    "duration": 106,
    "start_time": "2022-01-13T16:51:39.649Z"
   },
   {
    "duration": 290,
    "start_time": "2022-01-13T16:51:48.664Z"
   },
   {
    "duration": 94,
    "start_time": "2022-01-13T16:51:54.264Z"
   },
   {
    "duration": 376,
    "start_time": "2022-01-13T16:51:58.288Z"
   },
   {
    "duration": 6,
    "start_time": "2022-01-13T16:52:29.679Z"
   },
   {
    "duration": 154,
    "start_time": "2022-01-13T16:53:53.318Z"
   },
   {
    "duration": 12,
    "start_time": "2022-01-13T16:54:15.232Z"
   },
   {
    "duration": 8,
    "start_time": "2022-01-13T16:54:19.260Z"
   },
   {
    "duration": 820,
    "start_time": "2022-01-13T16:55:59.492Z"
   },
   {
    "duration": 26,
    "start_time": "2022-01-13T16:56:16.860Z"
   },
   {
    "duration": 4,
    "start_time": "2022-01-13T16:56:27.994Z"
   },
   {
    "duration": 6,
    "start_time": "2022-01-13T16:56:46.794Z"
   },
   {
    "duration": 3,
    "start_time": "2022-01-13T16:58:47.553Z"
   },
   {
    "duration": 77,
    "start_time": "2022-01-13T16:59:02.110Z"
   },
   {
    "duration": 151,
    "start_time": "2022-01-13T16:59:02.189Z"
   },
   {
    "duration": 7,
    "start_time": "2022-01-13T16:59:02.364Z"
   },
   {
    "duration": 22,
    "start_time": "2022-01-13T16:59:02.375Z"
   },
   {
    "duration": 70,
    "start_time": "2022-01-13T16:59:02.400Z"
   },
   {
    "duration": 8,
    "start_time": "2022-01-13T16:59:02.473Z"
   },
   {
    "duration": 9,
    "start_time": "2022-01-13T16:59:02.483Z"
   },
   {
    "duration": 5,
    "start_time": "2022-01-13T16:59:02.496Z"
   },
   {
    "duration": 6,
    "start_time": "2022-01-13T16:59:02.504Z"
   },
   {
    "duration": 85,
    "start_time": "2022-01-13T16:59:02.513Z"
   },
   {
    "duration": 6,
    "start_time": "2022-01-13T16:59:02.601Z"
   },
   {
    "duration": 8,
    "start_time": "2022-01-13T16:59:02.610Z"
   },
   {
    "duration": 44,
    "start_time": "2022-01-13T16:59:02.621Z"
   },
   {
    "duration": 5,
    "start_time": "2022-01-13T16:59:02.668Z"
   },
   {
    "duration": 102,
    "start_time": "2022-01-13T16:59:02.677Z"
   },
   {
    "duration": 4,
    "start_time": "2022-01-13T16:59:02.782Z"
   },
   {
    "duration": 4,
    "start_time": "2022-01-13T16:59:02.789Z"
   },
   {
    "duration": 9,
    "start_time": "2022-01-13T16:59:02.797Z"
   },
   {
    "duration": 63,
    "start_time": "2022-01-13T16:59:02.809Z"
   },
   {
    "duration": 14,
    "start_time": "2022-01-13T16:59:02.875Z"
   },
   {
    "duration": 7,
    "start_time": "2022-01-13T16:59:02.891Z"
   },
   {
    "duration": 7,
    "start_time": "2022-01-13T16:59:02.900Z"
   },
   {
    "duration": 7,
    "start_time": "2022-01-13T16:59:02.913Z"
   },
   {
    "duration": 55,
    "start_time": "2022-01-13T16:59:02.924Z"
   },
   {
    "duration": 11,
    "start_time": "2022-01-13T16:59:02.981Z"
   },
   {
    "duration": 7,
    "start_time": "2022-01-13T16:59:02.994Z"
   },
   {
    "duration": 10,
    "start_time": "2022-01-13T16:59:03.004Z"
   },
   {
    "duration": 48,
    "start_time": "2022-01-13T16:59:03.017Z"
   },
   {
    "duration": 9,
    "start_time": "2022-01-13T16:59:03.070Z"
   },
   {
    "duration": 3,
    "start_time": "2022-01-13T16:59:03.082Z"
   },
   {
    "duration": 12,
    "start_time": "2022-01-13T16:59:03.088Z"
   },
   {
    "duration": 10,
    "start_time": "2022-01-13T16:59:03.103Z"
   },
   {
    "duration": 8,
    "start_time": "2022-01-13T16:59:03.164Z"
   },
   {
    "duration": 13,
    "start_time": "2022-01-13T16:59:03.176Z"
   },
   {
    "duration": 12,
    "start_time": "2022-01-13T16:59:03.192Z"
   },
   {
    "duration": 10,
    "start_time": "2022-01-13T16:59:03.207Z"
   },
   {
    "duration": 4,
    "start_time": "2022-01-13T16:59:03.263Z"
   },
   {
    "duration": 5,
    "start_time": "2022-01-13T16:59:03.271Z"
   },
   {
    "duration": 11,
    "start_time": "2022-01-13T16:59:03.279Z"
   },
   {
    "duration": 4,
    "start_time": "2022-01-13T16:59:03.293Z"
   },
   {
    "duration": 20,
    "start_time": "2022-01-13T16:59:03.300Z"
   },
   {
    "duration": 52,
    "start_time": "2022-01-13T16:59:03.322Z"
   },
   {
    "duration": 6,
    "start_time": "2022-01-13T16:59:03.377Z"
   },
   {
    "duration": 4,
    "start_time": "2022-01-13T16:59:03.387Z"
   },
   {
    "duration": 36,
    "start_time": "2022-01-13T16:59:03.394Z"
   },
   {
    "duration": 37,
    "start_time": "2022-01-13T16:59:03.432Z"
   },
   {
    "duration": 26,
    "start_time": "2022-01-13T16:59:03.473Z"
   },
   {
    "duration": 24,
    "start_time": "2022-01-13T16:59:03.501Z"
   },
   {
    "duration": 58,
    "start_time": "2022-01-13T16:59:03.527Z"
   },
   {
    "duration": 3,
    "start_time": "2022-01-13T16:59:03.588Z"
   },
   {
    "duration": 7,
    "start_time": "2022-01-13T16:59:03.594Z"
   },
   {
    "duration": 3,
    "start_time": "2022-01-13T16:59:03.604Z"
   },
   {
    "duration": 5,
    "start_time": "2022-01-13T16:59:03.609Z"
   },
   {
    "duration": 49,
    "start_time": "2022-01-13T16:59:03.616Z"
   },
   {
    "duration": 19,
    "start_time": "2022-01-13T16:59:03.668Z"
   },
   {
    "duration": 10,
    "start_time": "2022-01-13T16:59:03.689Z"
   },
   {
    "duration": 26,
    "start_time": "2022-01-13T16:59:03.701Z"
   },
   {
    "duration": 41,
    "start_time": "2022-01-13T16:59:03.729Z"
   },
   {
    "duration": 49,
    "start_time": "2022-01-13T16:59:03.774Z"
   },
   {
    "duration": 45,
    "start_time": "2022-01-13T16:59:03.825Z"
   },
   {
    "duration": 4,
    "start_time": "2022-01-13T16:59:03.873Z"
   },
   {
    "duration": 20,
    "start_time": "2022-01-13T16:59:03.880Z"
   },
   {
    "duration": 3,
    "start_time": "2022-01-13T16:59:03.902Z"
   },
   {
    "duration": 16,
    "start_time": "2022-01-13T16:59:03.907Z"
   },
   {
    "duration": 4,
    "start_time": "2022-01-13T16:59:03.964Z"
   },
   {
    "duration": 5,
    "start_time": "2022-01-13T16:59:03.971Z"
   },
   {
    "duration": 48,
    "start_time": "2022-01-13T16:59:03.979Z"
   },
   {
    "duration": 4,
    "start_time": "2022-01-13T16:59:04.063Z"
   },
   {
    "duration": 15,
    "start_time": "2022-01-13T16:59:04.071Z"
   },
   {
    "duration": 15,
    "start_time": "2022-01-13T16:59:04.089Z"
   },
   {
    "duration": 22,
    "start_time": "2022-01-13T16:59:04.107Z"
   },
   {
    "duration": 3,
    "start_time": "2022-01-13T16:59:04.165Z"
   },
   {
    "duration": 3,
    "start_time": "2022-01-13T16:59:04.171Z"
   },
   {
    "duration": 10,
    "start_time": "2022-01-13T16:59:04.178Z"
   },
   {
    "duration": 16,
    "start_time": "2022-01-13T16:59:04.191Z"
   },
   {
    "duration": 3,
    "start_time": "2022-01-13T16:59:04.209Z"
   },
   {
    "duration": 17,
    "start_time": "2022-01-13T16:59:04.264Z"
   },
   {
    "duration": 3,
    "start_time": "2022-01-13T16:59:04.284Z"
   },
   {
    "duration": 3,
    "start_time": "2022-01-13T16:59:04.291Z"
   },
   {
    "duration": 5,
    "start_time": "2022-01-13T16:59:04.297Z"
   },
   {
    "duration": 4,
    "start_time": "2022-01-13T16:59:04.305Z"
   },
   {
    "duration": 58,
    "start_time": "2022-01-13T16:59:04.312Z"
   },
   {
    "duration": 10,
    "start_time": "2022-01-13T16:59:06.569Z"
   },
   {
    "duration": 4,
    "start_time": "2022-01-13T16:59:07.354Z"
   },
   {
    "duration": 4,
    "start_time": "2022-01-13T16:59:08.340Z"
   },
   {
    "duration": 3,
    "start_time": "2022-01-13T16:59:11.107Z"
   },
   {
    "duration": 14,
    "start_time": "2022-01-13T16:59:13.612Z"
   },
   {
    "duration": 5,
    "start_time": "2022-01-13T16:59:43.440Z"
   },
   {
    "duration": 6,
    "start_time": "2022-01-13T17:00:18.438Z"
   },
   {
    "duration": 6,
    "start_time": "2022-01-13T17:00:23.055Z"
   },
   {
    "duration": 285,
    "start_time": "2022-01-13T17:02:29.717Z"
   },
   {
    "duration": 5,
    "start_time": "2022-01-13T17:03:12.910Z"
   },
   {
    "duration": 8,
    "start_time": "2022-01-13T17:04:58.994Z"
   },
   {
    "duration": 4,
    "start_time": "2022-01-13T17:15:06.293Z"
   },
   {
    "duration": 689,
    "start_time": "2022-01-13T17:15:59.514Z"
   },
   {
    "duration": 6,
    "start_time": "2022-01-13T17:17:59.257Z"
   },
   {
    "duration": 6,
    "start_time": "2022-01-13T17:18:06.735Z"
   },
   {
    "duration": 6,
    "start_time": "2022-01-13T17:18:20.504Z"
   },
   {
    "duration": 614,
    "start_time": "2022-01-13T17:18:34.464Z"
   },
   {
    "duration": 4779,
    "start_time": "2022-01-13T17:18:42.009Z"
   },
   {
    "duration": 6,
    "start_time": "2022-01-13T17:18:54.987Z"
   },
   {
    "duration": 20,
    "start_time": "2022-01-13T17:19:46.694Z"
   },
   {
    "duration": 336,
    "start_time": "2022-01-13T17:20:35.277Z"
   },
   {
    "duration": 10067,
    "start_time": "2022-01-13T17:24:37.848Z"
   },
   {
    "duration": 7622,
    "start_time": "2022-01-13T17:25:56.792Z"
   },
   {
    "duration": 11,
    "start_time": "2022-01-13T17:26:21.122Z"
   },
   {
    "duration": 9,
    "start_time": "2022-01-13T17:26:35.429Z"
   },
   {
    "duration": 8,
    "start_time": "2022-01-13T17:26:55.429Z"
   },
   {
    "duration": 8,
    "start_time": "2022-01-13T17:27:11.196Z"
   },
   {
    "duration": 302,
    "start_time": "2022-01-13T17:33:50.031Z"
   },
   {
    "duration": 288,
    "start_time": "2022-01-13T17:41:33.645Z"
   },
   {
    "duration": 20,
    "start_time": "2022-01-13T17:41:41.540Z"
   },
   {
    "duration": 509,
    "start_time": "2022-01-13T17:55:46.659Z"
   },
   {
    "duration": 25,
    "start_time": "2022-01-13T17:55:58.966Z"
   },
   {
    "duration": 324,
    "start_time": "2022-01-13T17:59:53.393Z"
   },
   {
    "duration": 435,
    "start_time": "2022-01-13T18:00:24.078Z"
   },
   {
    "duration": 365,
    "start_time": "2022-01-13T18:00:47.557Z"
   },
   {
    "duration": 24,
    "start_time": "2022-01-13T18:01:01.309Z"
   },
   {
    "duration": 36,
    "start_time": "2022-01-13T18:01:09.805Z"
   },
   {
    "duration": 30,
    "start_time": "2022-01-13T18:01:21.221Z"
   },
   {
    "duration": 317,
    "start_time": "2022-01-13T18:01:50.139Z"
   },
   {
    "duration": 24,
    "start_time": "2022-01-13T18:01:57.731Z"
   },
   {
    "duration": 23,
    "start_time": "2022-01-13T18:04:41.024Z"
   },
   {
    "duration": 35,
    "start_time": "2022-01-13T18:07:57.339Z"
   },
   {
    "duration": 54,
    "start_time": "2022-01-13T18:10:05.764Z"
   },
   {
    "duration": 41,
    "start_time": "2022-01-13T18:10:24.546Z"
   },
   {
    "duration": 25,
    "start_time": "2022-01-13T18:12:02.447Z"
   },
   {
    "duration": 24,
    "start_time": "2022-01-13T18:13:58.470Z"
   },
   {
    "duration": 27,
    "start_time": "2022-01-13T18:14:34.597Z"
   },
   {
    "duration": 27,
    "start_time": "2022-01-13T18:14:40.284Z"
   },
   {
    "duration": 21,
    "start_time": "2022-01-13T18:14:43.108Z"
   },
   {
    "duration": 23,
    "start_time": "2022-01-13T18:14:48.157Z"
   },
   {
    "duration": 267,
    "start_time": "2022-01-14T06:09:09.482Z"
   },
   {
    "duration": 618,
    "start_time": "2022-01-14T06:09:17.774Z"
   },
   {
    "duration": 178,
    "start_time": "2022-01-14T06:09:18.394Z"
   },
   {
    "duration": 4,
    "start_time": "2022-01-14T06:09:18.575Z"
   },
   {
    "duration": 12,
    "start_time": "2022-01-14T06:09:18.581Z"
   },
   {
    "duration": 10,
    "start_time": "2022-01-14T06:09:18.595Z"
   },
   {
    "duration": 5,
    "start_time": "2022-01-14T06:09:18.607Z"
   },
   {
    "duration": 5,
    "start_time": "2022-01-14T06:09:18.641Z"
   },
   {
    "duration": 6,
    "start_time": "2022-01-14T06:09:18.649Z"
   },
   {
    "duration": 5,
    "start_time": "2022-01-14T06:09:18.657Z"
   },
   {
    "duration": 20,
    "start_time": "2022-01-14T06:09:18.663Z"
   },
   {
    "duration": 3,
    "start_time": "2022-01-14T06:09:18.685Z"
   },
   {
    "duration": 6,
    "start_time": "2022-01-14T06:09:18.690Z"
   },
   {
    "duration": 5,
    "start_time": "2022-01-14T06:09:18.698Z"
   },
   {
    "duration": 37,
    "start_time": "2022-01-14T06:09:18.705Z"
   },
   {
    "duration": 49,
    "start_time": "2022-01-14T06:09:18.743Z"
   },
   {
    "duration": 2,
    "start_time": "2022-01-14T06:09:18.794Z"
   },
   {
    "duration": 5,
    "start_time": "2022-01-14T06:09:18.797Z"
   },
   {
    "duration": 7,
    "start_time": "2022-01-14T06:09:18.803Z"
   },
   {
    "duration": 31,
    "start_time": "2022-01-14T06:09:18.811Z"
   },
   {
    "duration": 5,
    "start_time": "2022-01-14T06:09:18.843Z"
   },
   {
    "duration": 10,
    "start_time": "2022-01-14T06:09:18.849Z"
   },
   {
    "duration": 7,
    "start_time": "2022-01-14T06:09:18.860Z"
   },
   {
    "duration": 6,
    "start_time": "2022-01-14T06:09:18.871Z"
   },
   {
    "duration": 8,
    "start_time": "2022-01-14T06:09:18.879Z"
   },
   {
    "duration": 8,
    "start_time": "2022-01-14T06:09:18.889Z"
   },
   {
    "duration": 7,
    "start_time": "2022-01-14T06:09:18.899Z"
   },
   {
    "duration": 10,
    "start_time": "2022-01-14T06:09:18.908Z"
   },
   {
    "duration": 23,
    "start_time": "2022-01-14T06:09:18.919Z"
   },
   {
    "duration": 7,
    "start_time": "2022-01-14T06:09:18.943Z"
   },
   {
    "duration": 7,
    "start_time": "2022-01-14T06:09:18.951Z"
   },
   {
    "duration": 12,
    "start_time": "2022-01-14T06:09:18.959Z"
   },
   {
    "duration": 9,
    "start_time": "2022-01-14T06:09:18.972Z"
   },
   {
    "duration": 8,
    "start_time": "2022-01-14T06:09:18.982Z"
   },
   {
    "duration": 8,
    "start_time": "2022-01-14T06:09:18.991Z"
   },
   {
    "duration": 12,
    "start_time": "2022-01-14T06:09:19.001Z"
   },
   {
    "duration": 10,
    "start_time": "2022-01-14T06:09:19.014Z"
   },
   {
    "duration": 7,
    "start_time": "2022-01-14T06:09:19.025Z"
   },
   {
    "duration": 11,
    "start_time": "2022-01-14T06:09:19.033Z"
   },
   {
    "duration": 15,
    "start_time": "2022-01-14T06:09:19.045Z"
   },
   {
    "duration": 7,
    "start_time": "2022-01-14T06:09:19.061Z"
   },
   {
    "duration": 16,
    "start_time": "2022-01-14T06:09:19.070Z"
   },
   {
    "duration": 7,
    "start_time": "2022-01-14T06:09:19.087Z"
   },
   {
    "duration": 7,
    "start_time": "2022-01-14T06:09:19.095Z"
   },
   {
    "duration": 7,
    "start_time": "2022-01-14T06:09:19.104Z"
   },
   {
    "duration": 24,
    "start_time": "2022-01-14T06:09:19.112Z"
   },
   {
    "duration": 4,
    "start_time": "2022-01-14T06:09:19.137Z"
   },
   {
    "duration": 18,
    "start_time": "2022-01-14T06:09:19.143Z"
   },
   {
    "duration": 13,
    "start_time": "2022-01-14T06:09:19.162Z"
   },
   {
    "duration": 12,
    "start_time": "2022-01-14T06:09:19.177Z"
   },
   {
    "duration": 2,
    "start_time": "2022-01-14T06:09:19.191Z"
   },
   {
    "duration": 8,
    "start_time": "2022-01-14T06:09:19.194Z"
   },
   {
    "duration": 7,
    "start_time": "2022-01-14T06:09:19.204Z"
   },
   {
    "duration": 8,
    "start_time": "2022-01-14T06:09:19.212Z"
   },
   {
    "duration": 7,
    "start_time": "2022-01-14T06:09:19.222Z"
   },
   {
    "duration": 18,
    "start_time": "2022-01-14T06:09:19.230Z"
   },
   {
    "duration": 11,
    "start_time": "2022-01-14T06:09:19.249Z"
   },
   {
    "duration": 18,
    "start_time": "2022-01-14T06:09:19.261Z"
   },
   {
    "duration": 4,
    "start_time": "2022-01-14T06:09:19.280Z"
   },
   {
    "duration": 29,
    "start_time": "2022-01-14T06:09:19.285Z"
   },
   {
    "duration": 28,
    "start_time": "2022-01-14T06:09:19.315Z"
   },
   {
    "duration": 2,
    "start_time": "2022-01-14T06:09:19.344Z"
   },
   {
    "duration": 18,
    "start_time": "2022-01-14T06:09:19.347Z"
   },
   {
    "duration": 2,
    "start_time": "2022-01-14T06:09:19.366Z"
   },
   {
    "duration": 13,
    "start_time": "2022-01-14T06:09:19.370Z"
   },
   {
    "duration": 2,
    "start_time": "2022-01-14T06:09:19.385Z"
   },
   {
    "duration": 12,
    "start_time": "2022-01-14T06:09:19.389Z"
   },
   {
    "duration": 39,
    "start_time": "2022-01-14T06:09:19.402Z"
   },
   {
    "duration": 2,
    "start_time": "2022-01-14T06:09:19.445Z"
   },
   {
    "duration": 14,
    "start_time": "2022-01-14T06:09:19.449Z"
   },
   {
    "duration": 10,
    "start_time": "2022-01-14T06:09:19.464Z"
   },
   {
    "duration": 10,
    "start_time": "2022-01-14T06:09:19.476Z"
   },
   {
    "duration": 5,
    "start_time": "2022-01-14T06:09:19.487Z"
   },
   {
    "duration": 8,
    "start_time": "2022-01-14T06:09:19.493Z"
   },
   {
    "duration": 11,
    "start_time": "2022-01-14T06:09:19.502Z"
   },
   {
    "duration": 26,
    "start_time": "2022-01-14T06:09:19.515Z"
   },
   {
    "duration": 2,
    "start_time": "2022-01-14T06:09:19.542Z"
   },
   {
    "duration": 13,
    "start_time": "2022-01-14T06:09:19.545Z"
   },
   {
    "duration": 6,
    "start_time": "2022-01-14T06:09:19.560Z"
   },
   {
    "duration": 8,
    "start_time": "2022-01-14T06:09:19.567Z"
   },
   {
    "duration": 8,
    "start_time": "2022-01-14T06:09:19.576Z"
   },
   {
    "duration": 7,
    "start_time": "2022-01-14T06:09:19.585Z"
   },
   {
    "duration": 10,
    "start_time": "2022-01-14T06:09:19.594Z"
   },
   {
    "duration": 11,
    "start_time": "2022-01-14T06:09:19.605Z"
   },
   {
    "duration": 559,
    "start_time": "2022-01-14T06:09:19.618Z"
   },
   {
    "duration": 1201,
    "start_time": "2022-01-14T06:09:20.178Z"
   },
   {
    "duration": 4,
    "start_time": "2022-01-14T06:09:21.380Z"
   },
   {
    "duration": 7,
    "start_time": "2022-01-14T06:09:21.385Z"
   },
   {
    "duration": 5,
    "start_time": "2022-01-14T06:09:21.393Z"
   },
   {
    "duration": 5,
    "start_time": "2022-01-14T06:09:21.399Z"
   },
   {
    "duration": 5,
    "start_time": "2022-01-14T06:09:21.405Z"
   },
   {
    "duration": 603,
    "start_time": "2022-01-14T06:09:21.411Z"
   },
   {
    "duration": 12804,
    "start_time": "2022-01-14T06:09:09.212Z"
   },
   {
    "duration": 12798,
    "start_time": "2022-01-14T06:09:09.219Z"
   },
   {
    "duration": 12793,
    "start_time": "2022-01-14T06:09:09.225Z"
   },
   {
    "duration": 12787,
    "start_time": "2022-01-14T06:09:09.231Z"
   },
   {
    "duration": 12782,
    "start_time": "2022-01-14T06:09:09.237Z"
   },
   {
    "duration": 242,
    "start_time": "2022-01-14T06:10:34.846Z"
   },
   {
    "duration": 5,
    "start_time": "2022-01-14T06:10:41.750Z"
   },
   {
    "duration": 377,
    "start_time": "2022-01-14T06:13:41.986Z"
   },
   {
    "duration": 905,
    "start_time": "2022-01-14T18:02:18.445Z"
   },
   {
    "duration": 134,
    "start_time": "2022-01-14T18:02:19.352Z"
   },
   {
    "duration": 5,
    "start_time": "2022-01-14T18:02:19.489Z"
   },
   {
    "duration": 20,
    "start_time": "2022-01-14T18:02:19.497Z"
   },
   {
    "duration": 50,
    "start_time": "2022-01-14T18:02:19.520Z"
   },
   {
    "duration": 6,
    "start_time": "2022-01-14T18:02:19.573Z"
   },
   {
    "duration": 6,
    "start_time": "2022-01-14T18:02:19.582Z"
   },
   {
    "duration": 6,
    "start_time": "2022-01-14T18:02:19.591Z"
   },
   {
    "duration": 6,
    "start_time": "2022-01-14T18:02:19.601Z"
   },
   {
    "duration": 84,
    "start_time": "2022-01-14T18:02:19.610Z"
   },
   {
    "duration": 6,
    "start_time": "2022-01-14T18:02:19.697Z"
   },
   {
    "duration": 9,
    "start_time": "2022-01-14T18:02:19.706Z"
   },
   {
    "duration": 10,
    "start_time": "2022-01-14T18:02:19.718Z"
   },
   {
    "duration": 4,
    "start_time": "2022-01-14T18:02:19.768Z"
   },
   {
    "duration": 100,
    "start_time": "2022-01-14T18:02:19.774Z"
   },
   {
    "duration": 3,
    "start_time": "2022-01-14T18:02:19.877Z"
   },
   {
    "duration": 6,
    "start_time": "2022-01-14T18:02:19.883Z"
   },
   {
    "duration": 9,
    "start_time": "2022-01-14T18:02:19.892Z"
   },
   {
    "duration": 18,
    "start_time": "2022-01-14T18:02:19.904Z"
   },
   {
    "duration": 48,
    "start_time": "2022-01-14T18:02:19.925Z"
   },
   {
    "duration": 9,
    "start_time": "2022-01-14T18:02:19.976Z"
   },
   {
    "duration": 8,
    "start_time": "2022-01-14T18:02:19.987Z"
   },
   {
    "duration": 10,
    "start_time": "2022-01-14T18:02:19.997Z"
   },
   {
    "duration": 21,
    "start_time": "2022-01-14T18:02:20.009Z"
   },
   {
    "duration": 7,
    "start_time": "2022-01-14T18:02:20.068Z"
   },
   {
    "duration": 12,
    "start_time": "2022-01-14T18:02:20.078Z"
   },
   {
    "duration": 6,
    "start_time": "2022-01-14T18:02:20.097Z"
   },
   {
    "duration": 6,
    "start_time": "2022-01-14T18:02:20.107Z"
   },
   {
    "duration": 17,
    "start_time": "2022-01-14T18:02:20.115Z"
   },
   {
    "duration": 13,
    "start_time": "2022-01-14T18:02:20.167Z"
   },
   {
    "duration": 11,
    "start_time": "2022-01-14T18:02:20.183Z"
   },
   {
    "duration": 10,
    "start_time": "2022-01-14T18:02:20.196Z"
   },
   {
    "duration": 7,
    "start_time": "2022-01-14T18:02:20.209Z"
   },
   {
    "duration": 55,
    "start_time": "2022-01-14T18:02:20.219Z"
   },
   {
    "duration": 10,
    "start_time": "2022-01-14T18:02:20.277Z"
   },
   {
    "duration": 6,
    "start_time": "2022-01-14T18:02:20.290Z"
   },
   {
    "duration": 15,
    "start_time": "2022-01-14T18:02:20.300Z"
   },
   {
    "duration": 14,
    "start_time": "2022-01-14T18:02:20.318Z"
   },
   {
    "duration": 3,
    "start_time": "2022-01-14T18:02:20.368Z"
   },
   {
    "duration": 24,
    "start_time": "2022-01-14T18:02:20.374Z"
   },
   {
    "duration": 10,
    "start_time": "2022-01-14T18:02:20.400Z"
   },
   {
    "duration": 7,
    "start_time": "2022-01-14T18:02:20.412Z"
   },
   {
    "duration": 14,
    "start_time": "2022-01-14T18:02:20.421Z"
   },
   {
    "duration": 51,
    "start_time": "2022-01-14T18:02:20.437Z"
   },
   {
    "duration": 7,
    "start_time": "2022-01-14T18:02:20.490Z"
   },
   {
    "duration": 30,
    "start_time": "2022-01-14T18:02:20.499Z"
   },
   {
    "duration": 51,
    "start_time": "2022-01-14T18:02:20.532Z"
   },
   {
    "duration": 21,
    "start_time": "2022-01-14T18:02:20.585Z"
   },
   {
    "duration": 3,
    "start_time": "2022-01-14T18:02:20.608Z"
   },
   {
    "duration": 14,
    "start_time": "2022-01-14T18:02:20.613Z"
   },
   {
    "duration": 13,
    "start_time": "2022-01-14T18:02:20.630Z"
   },
   {
    "duration": 25,
    "start_time": "2022-01-14T18:02:20.645Z"
   },
   {
    "duration": 23,
    "start_time": "2022-01-14T18:02:20.673Z"
   },
   {
    "duration": 21,
    "start_time": "2022-01-14T18:02:20.699Z"
   },
   {
    "duration": 23,
    "start_time": "2022-01-14T18:02:20.723Z"
   },
   {
    "duration": 35,
    "start_time": "2022-01-14T18:02:20.749Z"
   },
   {
    "duration": 9,
    "start_time": "2022-01-14T18:02:20.787Z"
   },
   {
    "duration": 73,
    "start_time": "2022-01-14T18:02:20.799Z"
   },
   {
    "duration": 12,
    "start_time": "2022-01-14T18:02:20.875Z"
   },
   {
    "duration": 4,
    "start_time": "2022-01-14T18:02:20.890Z"
   },
   {
    "duration": 22,
    "start_time": "2022-01-14T18:02:20.897Z"
   },
   {
    "duration": 3,
    "start_time": "2022-01-14T18:02:20.922Z"
   },
   {
    "duration": 15,
    "start_time": "2022-01-14T18:02:20.968Z"
   },
   {
    "duration": 3,
    "start_time": "2022-01-14T18:02:20.985Z"
   },
   {
    "duration": 7,
    "start_time": "2022-01-14T18:02:20.991Z"
   },
   {
    "duration": 87,
    "start_time": "2022-01-14T18:02:21.000Z"
   },
   {
    "duration": 4,
    "start_time": "2022-01-14T18:02:21.090Z"
   },
   {
    "duration": 21,
    "start_time": "2022-01-14T18:02:21.097Z"
   },
   {
    "duration": 46,
    "start_time": "2022-01-14T18:02:21.121Z"
   },
   {
    "duration": 17,
    "start_time": "2022-01-14T18:02:21.171Z"
   },
   {
    "duration": 4,
    "start_time": "2022-01-14T18:02:21.191Z"
   },
   {
    "duration": 12,
    "start_time": "2022-01-14T18:02:21.198Z"
   },
   {
    "duration": 12,
    "start_time": "2022-01-14T18:02:21.213Z"
   },
   {
    "duration": 53,
    "start_time": "2022-01-14T18:02:21.228Z"
   },
   {
    "duration": 4,
    "start_time": "2022-01-14T18:02:21.283Z"
   },
   {
    "duration": 19,
    "start_time": "2022-01-14T18:02:21.289Z"
   },
   {
    "duration": 4,
    "start_time": "2022-01-14T18:02:21.311Z"
   },
   {
    "duration": 8,
    "start_time": "2022-01-14T18:02:21.318Z"
   },
   {
    "duration": 40,
    "start_time": "2022-01-14T18:02:21.328Z"
   },
   {
    "duration": 10,
    "start_time": "2022-01-14T18:02:21.371Z"
   },
   {
    "duration": 7,
    "start_time": "2022-01-14T18:02:21.390Z"
   },
   {
    "duration": 9,
    "start_time": "2022-01-14T18:02:21.400Z"
   },
   {
    "duration": 807,
    "start_time": "2022-01-14T18:02:21.411Z"
   },
   {
    "duration": 2074,
    "start_time": "2022-01-14T18:02:22.220Z"
   },
   {
    "duration": 5,
    "start_time": "2022-01-14T18:02:24.297Z"
   },
   {
    "duration": 8,
    "start_time": "2022-01-14T18:02:24.305Z"
   },
   {
    "duration": 5,
    "start_time": "2022-01-14T18:02:24.316Z"
   },
   {
    "duration": 5,
    "start_time": "2022-01-14T18:02:24.324Z"
   },
   {
    "duration": 37,
    "start_time": "2022-01-14T18:02:24.331Z"
   },
   {
    "duration": 886,
    "start_time": "2022-01-14T18:02:24.370Z"
   },
   {
    "duration": -58,
    "start_time": "2022-01-14T18:02:25.317Z"
   },
   {
    "duration": -63,
    "start_time": "2022-01-14T18:02:25.323Z"
   },
   {
    "duration": -67,
    "start_time": "2022-01-14T18:02:25.329Z"
   },
   {
    "duration": -69,
    "start_time": "2022-01-14T18:02:25.332Z"
   },
   {
    "duration": -70,
    "start_time": "2022-01-14T18:02:25.335Z"
   },
   {
    "duration": 34,
    "start_time": "2022-01-14T19:32:09.292Z"
   },
   {
    "duration": 423,
    "start_time": "2022-01-14T20:01:53.157Z"
   },
   {
    "duration": 3,
    "start_time": "2022-01-14T20:01:54.863Z"
   },
   {
    "duration": 33,
    "start_time": "2022-01-14T20:01:55.806Z"
   },
   {
    "duration": 25,
    "start_time": "2022-01-14T20:01:56.871Z"
   },
   {
    "duration": 3,
    "start_time": "2022-01-14T20:01:57.830Z"
   },
   {
    "duration": 341,
    "start_time": "2022-01-14T23:40:55.556Z"
   },
   {
    "duration": 837,
    "start_time": "2022-01-14T23:41:02.225Z"
   },
   {
    "duration": 139,
    "start_time": "2022-01-14T23:41:03.065Z"
   },
   {
    "duration": 5,
    "start_time": "2022-01-14T23:41:03.207Z"
   },
   {
    "duration": 47,
    "start_time": "2022-01-14T23:41:03.215Z"
   },
   {
    "duration": 15,
    "start_time": "2022-01-14T23:41:03.265Z"
   },
   {
    "duration": 6,
    "start_time": "2022-01-14T23:41:03.283Z"
   },
   {
    "duration": 7,
    "start_time": "2022-01-14T23:41:06.709Z"
   },
   {
    "duration": 5,
    "start_time": "2022-01-14T23:41:09.686Z"
   },
   {
    "duration": 7,
    "start_time": "2022-01-14T23:48:15.638Z"
   },
   {
    "duration": 7,
    "start_time": "2022-01-14T23:49:17.171Z"
   },
   {
    "duration": 57,
    "start_time": "2022-01-15T06:55:28.296Z"
   },
   {
    "duration": 56,
    "start_time": "2022-01-15T07:03:09.720Z"
   },
   {
    "duration": 618,
    "start_time": "2022-01-15T07:03:15.596Z"
   },
   {
    "duration": 86,
    "start_time": "2022-01-15T07:03:18.975Z"
   },
   {
    "duration": 68,
    "start_time": "2022-01-15T07:03:37.926Z"
   },
   {
    "duration": 4,
    "start_time": "2022-01-15T07:09:34.266Z"
   },
   {
    "duration": 3,
    "start_time": "2022-01-15T07:09:35.326Z"
   },
   {
    "duration": 4,
    "start_time": "2022-01-15T07:10:11.552Z"
   },
   {
    "duration": 3,
    "start_time": "2022-01-15T07:10:18.088Z"
   },
   {
    "duration": 55,
    "start_time": "2022-01-15T07:10:59.088Z"
   },
   {
    "duration": 5,
    "start_time": "2022-01-15T07:11:07.183Z"
   },
   {
    "duration": 4,
    "start_time": "2022-01-15T07:11:23.951Z"
   },
   {
    "duration": 4,
    "start_time": "2022-01-15T07:11:56.175Z"
   },
   {
    "duration": 3,
    "start_time": "2022-01-15T07:12:01.103Z"
   },
   {
    "duration": 3,
    "start_time": "2022-01-15T07:13:25.063Z"
   },
   {
    "duration": 3,
    "start_time": "2022-01-15T07:13:47.471Z"
   },
   {
    "duration": 4,
    "start_time": "2022-01-15T07:14:44.364Z"
   },
   {
    "duration": 95,
    "start_time": "2022-01-15T07:20:36.487Z"
   },
   {
    "duration": 2,
    "start_time": "2022-01-15T07:20:48.614Z"
   },
   {
    "duration": 11,
    "start_time": "2022-01-15T07:22:07.846Z"
   },
   {
    "duration": 9,
    "start_time": "2022-01-15T07:22:16.956Z"
   },
   {
    "duration": 11,
    "start_time": "2022-01-15T07:22:50.739Z"
   },
   {
    "duration": 6,
    "start_time": "2022-01-15T07:35:58.814Z"
   },
   {
    "duration": 6,
    "start_time": "2022-01-15T07:36:50.212Z"
   },
   {
    "duration": 230,
    "start_time": "2022-01-15T07:38:16.971Z"
   },
   {
    "duration": 59,
    "start_time": "2022-01-15T07:38:50.387Z"
   },
   {
    "duration": 7,
    "start_time": "2022-01-15T07:39:03.202Z"
   },
   {
    "duration": 8,
    "start_time": "2022-01-15T07:39:19.538Z"
   },
   {
    "duration": 6,
    "start_time": "2022-01-15T07:39:45.497Z"
   },
   {
    "duration": 22,
    "start_time": "2022-01-15T07:40:13.349Z"
   },
   {
    "duration": 42,
    "start_time": "2022-01-15T07:43:31.165Z"
   },
   {
    "duration": 39,
    "start_time": "2022-01-15T07:44:23.829Z"
   },
   {
    "duration": 38,
    "start_time": "2022-01-15T07:44:53.277Z"
   },
   {
    "duration": 41,
    "start_time": "2022-01-15T07:45:25.859Z"
   },
   {
    "duration": 6,
    "start_time": "2022-01-15T07:47:14.794Z"
   },
   {
    "duration": 9,
    "start_time": "2022-01-15T07:47:39.065Z"
   },
   {
    "duration": 27,
    "start_time": "2022-01-15T07:48:12.136Z"
   },
   {
    "duration": 194,
    "start_time": "2022-01-15T07:48:54.057Z"
   },
   {
    "duration": 55,
    "start_time": "2022-01-15T07:49:03.127Z"
   },
   {
    "duration": 42,
    "start_time": "2022-01-15T07:49:42.219Z"
   },
   {
    "duration": 10,
    "start_time": "2022-01-15T07:50:24.344Z"
   },
   {
    "duration": 25,
    "start_time": "2022-01-15T07:51:01.714Z"
   },
   {
    "duration": 52,
    "start_time": "2022-01-15T07:53:58.604Z"
   },
   {
    "duration": 43,
    "start_time": "2022-01-15T07:55:25.209Z"
   },
   {
    "duration": 57,
    "start_time": "2022-01-15T07:55:33.680Z"
   },
   {
    "duration": 57,
    "start_time": "2022-01-15T07:56:24.680Z"
   },
   {
    "duration": 57,
    "start_time": "2022-01-15T07:56:51.559Z"
   },
   {
    "duration": 79,
    "start_time": "2022-01-15T07:57:10.998Z"
   },
   {
    "duration": 82,
    "start_time": "2022-01-15T07:58:04.270Z"
   },
   {
    "duration": 29,
    "start_time": "2022-01-15T08:02:38.153Z"
   },
   {
    "duration": 172,
    "start_time": "2022-01-15T08:03:06.351Z"
   },
   {
    "duration": 14,
    "start_time": "2022-01-15T08:03:25.143Z"
   },
   {
    "duration": 9,
    "start_time": "2022-01-15T08:03:30.935Z"
   },
   {
    "duration": 176,
    "start_time": "2022-01-15T08:04:13.204Z"
   },
   {
    "duration": 54,
    "start_time": "2022-01-15T08:04:33.199Z"
   },
   {
    "duration": 61,
    "start_time": "2022-01-15T08:04:50.558Z"
   },
   {
    "duration": 81,
    "start_time": "2022-01-15T08:05:12.797Z"
   },
   {
    "duration": 61,
    "start_time": "2022-01-15T08:05:24.261Z"
   },
   {
    "duration": 61,
    "start_time": "2022-01-15T08:05:35.893Z"
   },
   {
    "duration": 55,
    "start_time": "2022-01-15T08:05:48.101Z"
   },
   {
    "duration": 164,
    "start_time": "2022-01-15T08:06:07.373Z"
   },
   {
    "duration": 6,
    "start_time": "2022-01-15T08:06:17.132Z"
   },
   {
    "duration": 4259,
    "start_time": "2022-01-15T08:06:54.788Z"
   },
   {
    "duration": 4176,
    "start_time": "2022-01-15T08:07:08.124Z"
   },
   {
    "duration": 7,
    "start_time": "2022-01-15T08:07:18.411Z"
   },
   {
    "duration": 184,
    "start_time": "2022-01-15T08:07:31.283Z"
   },
   {
    "duration": 9,
    "start_time": "2022-01-15T08:07:45.067Z"
   },
   {
    "duration": 16,
    "start_time": "2022-01-15T08:07:58.626Z"
   },
   {
    "duration": 8,
    "start_time": "2022-01-15T08:08:09.874Z"
   },
   {
    "duration": 4,
    "start_time": "2022-01-15T08:09:13.793Z"
   },
   {
    "duration": 4,
    "start_time": "2022-01-15T08:09:19.585Z"
   },
   {
    "duration": 55,
    "start_time": "2022-01-15T08:10:21.664Z"
   },
   {
    "duration": 58,
    "start_time": "2022-01-15T08:11:17.423Z"
   },
   {
    "duration": 12,
    "start_time": "2022-01-15T08:14:00.475Z"
   },
   {
    "duration": 178,
    "start_time": "2022-01-15T08:14:55.593Z"
   },
   {
    "duration": 3,
    "start_time": "2022-01-15T08:15:10.320Z"
   },
   {
    "duration": 3,
    "start_time": "2022-01-15T08:15:17.745Z"
   },
   {
    "duration": 3,
    "start_time": "2022-01-15T08:17:00.589Z"
   },
   {
    "duration": 62,
    "start_time": "2022-01-15T08:17:47.436Z"
   },
   {
    "duration": 5,
    "start_time": "2022-01-15T08:18:51.337Z"
   },
   {
    "duration": 6,
    "start_time": "2022-01-15T08:19:17.743Z"
   },
   {
    "duration": 7,
    "start_time": "2022-01-15T08:19:22.655Z"
   },
   {
    "duration": 7,
    "start_time": "2022-01-15T08:19:32.024Z"
   },
   {
    "duration": 8,
    "start_time": "2022-01-15T08:19:45.350Z"
   },
   {
    "duration": 64,
    "start_time": "2022-01-15T08:21:32.660Z"
   },
   {
    "duration": 69,
    "start_time": "2022-01-15T08:26:43.573Z"
   },
   {
    "duration": 61,
    "start_time": "2022-01-15T08:26:53.611Z"
   },
   {
    "duration": 64,
    "start_time": "2022-01-15T08:28:41.680Z"
   },
   {
    "duration": 62,
    "start_time": "2022-01-15T08:29:23.231Z"
   },
   {
    "duration": 66,
    "start_time": "2022-01-15T08:30:38.614Z"
   },
   {
    "duration": 64,
    "start_time": "2022-01-15T08:30:49.662Z"
   },
   {
    "duration": 66,
    "start_time": "2022-01-15T08:33:48.354Z"
   },
   {
    "duration": 68,
    "start_time": "2022-01-15T08:34:21.042Z"
   },
   {
    "duration": 228,
    "start_time": "2022-01-15T08:35:34.334Z"
   },
   {
    "duration": 190,
    "start_time": "2022-01-15T08:36:39.996Z"
   },
   {
    "duration": 11,
    "start_time": "2022-01-15T08:37:33.819Z"
   },
   {
    "duration": 12,
    "start_time": "2022-01-15T08:37:48.283Z"
   },
   {
    "duration": 5,
    "start_time": "2022-01-15T08:38:13.931Z"
   },
   {
    "duration": 18,
    "start_time": "2022-01-15T08:39:10.768Z"
   },
   {
    "duration": 5,
    "start_time": "2022-01-15T08:39:16.440Z"
   },
   {
    "duration": 50,
    "start_time": "2022-01-15T08:40:06.621Z"
   },
   {
    "duration": 58,
    "start_time": "2022-01-15T08:40:06.673Z"
   },
   {
    "duration": 3,
    "start_time": "2022-01-15T08:40:06.733Z"
   },
   {
    "duration": 13,
    "start_time": "2022-01-15T08:40:06.737Z"
   },
   {
    "duration": 11,
    "start_time": "2022-01-15T08:40:06.751Z"
   },
   {
    "duration": 4,
    "start_time": "2022-01-15T08:40:06.763Z"
   },
   {
    "duration": 3,
    "start_time": "2022-01-15T08:40:06.791Z"
   },
   {
    "duration": 4,
    "start_time": "2022-01-15T08:40:06.796Z"
   },
   {
    "duration": 5,
    "start_time": "2022-01-15T08:40:06.802Z"
   },
   {
    "duration": 9,
    "start_time": "2022-01-15T08:40:06.809Z"
   },
   {
    "duration": 3,
    "start_time": "2022-01-15T08:40:06.819Z"
   },
   {
    "duration": 6,
    "start_time": "2022-01-15T08:40:06.824Z"
   },
   {
    "duration": 6,
    "start_time": "2022-01-15T08:40:06.831Z"
   },
   {
    "duration": 2,
    "start_time": "2022-01-15T08:40:06.839Z"
   },
   {
    "duration": 74,
    "start_time": "2022-01-15T08:40:06.851Z"
   },
   {
    "duration": 5,
    "start_time": "2022-01-15T08:40:09.863Z"
   },
   {
    "duration": 19,
    "start_time": "2022-01-15T08:43:37.978Z"
   },
   {
    "duration": 22,
    "start_time": "2022-01-15T08:43:40.003Z"
   },
   {
    "duration": 56,
    "start_time": "2022-01-15T08:43:45.351Z"
   },
   {
    "duration": 64,
    "start_time": "2022-01-15T08:44:24.113Z"
   },
   {
    "duration": 67,
    "start_time": "2022-01-15T08:45:09.089Z"
   },
   {
    "duration": 71,
    "start_time": "2022-01-15T08:46:22.682Z"
   },
   {
    "duration": 66,
    "start_time": "2022-01-15T08:46:56.431Z"
   },
   {
    "duration": 64,
    "start_time": "2022-01-15T08:47:05.519Z"
   },
   {
    "duration": 2313,
    "start_time": "2022-01-15T08:48:49.861Z"
   },
   {
    "duration": 236,
    "start_time": "2022-01-15T08:49:10.141Z"
   },
   {
    "duration": 70,
    "start_time": "2022-01-15T08:49:44.692Z"
   },
   {
    "duration": 66,
    "start_time": "2022-01-15T08:49:55.293Z"
   },
   {
    "duration": 68,
    "start_time": "2022-01-15T08:50:14.795Z"
   },
   {
    "duration": 245,
    "start_time": "2022-01-15T08:50:34.315Z"
   },
   {
    "duration": 240,
    "start_time": "2022-01-15T08:50:41.780Z"
   },
   {
    "duration": 74,
    "start_time": "2022-01-15T08:50:51.148Z"
   },
   {
    "duration": 60,
    "start_time": "2022-01-15T09:00:20.257Z"
   },
   {
    "duration": 42,
    "start_time": "2022-01-15T09:00:26.737Z"
   },
   {
    "duration": 38,
    "start_time": "2022-01-15T09:01:35.904Z"
   },
   {
    "duration": 190,
    "start_time": "2022-01-15T09:02:29.488Z"
   },
   {
    "duration": 11,
    "start_time": "2022-01-15T09:02:46.718Z"
   },
   {
    "duration": 54,
    "start_time": "2022-01-15T09:03:01.862Z"
   },
   {
    "duration": 62,
    "start_time": "2022-01-15T09:03:01.918Z"
   },
   {
    "duration": 11,
    "start_time": "2022-01-15T09:03:01.982Z"
   },
   {
    "duration": 21,
    "start_time": "2022-01-15T09:03:01.995Z"
   },
   {
    "duration": 15,
    "start_time": "2022-01-15T09:03:02.018Z"
   },
   {
    "duration": 14,
    "start_time": "2022-01-15T09:03:02.035Z"
   },
   {
    "duration": 11,
    "start_time": "2022-01-15T09:03:02.051Z"
   },
   {
    "duration": 13,
    "start_time": "2022-01-15T09:03:02.064Z"
   },
   {
    "duration": 23,
    "start_time": "2022-01-15T09:03:02.079Z"
   },
   {
    "duration": 10,
    "start_time": "2022-01-15T09:03:02.104Z"
   },
   {
    "duration": 17,
    "start_time": "2022-01-15T09:03:02.116Z"
   },
   {
    "duration": 9,
    "start_time": "2022-01-15T09:03:02.135Z"
   },
   {
    "duration": 7,
    "start_time": "2022-01-15T09:03:02.146Z"
   },
   {
    "duration": 2,
    "start_time": "2022-01-15T09:03:02.154Z"
   },
   {
    "duration": 46,
    "start_time": "2022-01-15T09:03:02.158Z"
   },
   {
    "duration": 2,
    "start_time": "2022-01-15T09:03:02.205Z"
   },
   {
    "duration": 12,
    "start_time": "2022-01-15T09:03:02.208Z"
   },
   {
    "duration": 10,
    "start_time": "2022-01-15T09:03:05.445Z"
   },
   {
    "duration": 10,
    "start_time": "2022-01-15T09:03:06.175Z"
   },
   {
    "duration": 11,
    "start_time": "2022-01-15T09:03:35.315Z"
   },
   {
    "duration": 12,
    "start_time": "2022-01-15T09:04:02.788Z"
   },
   {
    "duration": 12,
    "start_time": "2022-01-15T09:04:12.251Z"
   },
   {
    "duration": 14,
    "start_time": "2022-01-15T09:04:33.161Z"
   },
   {
    "duration": 11,
    "start_time": "2022-01-15T09:05:07.667Z"
   },
   {
    "duration": 10,
    "start_time": "2022-01-15T09:05:13.283Z"
   },
   {
    "duration": 11,
    "start_time": "2022-01-15T09:05:23.211Z"
   },
   {
    "duration": 8,
    "start_time": "2022-01-15T09:07:36.064Z"
   },
   {
    "duration": 8,
    "start_time": "2022-01-15T09:07:51.386Z"
   },
   {
    "duration": 62,
    "start_time": "2022-01-15T09:11:36.909Z"
   },
   {
    "duration": 60,
    "start_time": "2022-01-15T09:11:42.156Z"
   },
   {
    "duration": 65,
    "start_time": "2022-01-15T09:11:56.492Z"
   },
   {
    "duration": 1076,
    "start_time": "2022-01-15T09:12:04.276Z"
   },
   {
    "duration": 4996,
    "start_time": "2022-01-15T09:14:33.506Z"
   },
   {
    "duration": 198,
    "start_time": "2022-01-15T09:15:18.768Z"
   },
   {
    "duration": 185,
    "start_time": "2022-01-15T09:17:01.311Z"
   },
   {
    "duration": 9,
    "start_time": "2022-01-15T09:17:13.621Z"
   },
   {
    "duration": 53,
    "start_time": "2022-01-15T09:17:58.045Z"
   },
   {
    "duration": 63,
    "start_time": "2022-01-15T09:18:42.507Z"
   },
   {
    "duration": 53,
    "start_time": "2022-01-15T09:19:09.485Z"
   },
   {
    "duration": 62,
    "start_time": "2022-01-15T09:19:29.602Z"
   },
   {
    "duration": 4,
    "start_time": "2022-01-15T09:19:52.642Z"
   },
   {
    "duration": 5,
    "start_time": "2022-01-15T09:20:06.897Z"
   },
   {
    "duration": 13,
    "start_time": "2022-01-15T09:20:12.825Z"
   },
   {
    "duration": 13,
    "start_time": "2022-01-15T09:21:04.392Z"
   },
   {
    "duration": 13,
    "start_time": "2022-01-15T09:22:02.024Z"
   },
   {
    "duration": 7,
    "start_time": "2022-01-15T09:22:53.103Z"
   },
   {
    "duration": 8,
    "start_time": "2022-01-15T09:23:01.646Z"
   },
   {
    "duration": 8,
    "start_time": "2022-01-15T09:23:13.470Z"
   },
   {
    "duration": 6,
    "start_time": "2022-01-15T09:24:11.973Z"
   },
   {
    "duration": 6,
    "start_time": "2022-01-15T09:24:22.700Z"
   },
   {
    "duration": 63,
    "start_time": "2022-01-15T09:25:18.483Z"
   },
   {
    "duration": 6,
    "start_time": "2022-01-15T09:25:23.979Z"
   },
   {
    "duration": 5,
    "start_time": "2022-01-15T09:25:45.859Z"
   },
   {
    "duration": 19,
    "start_time": "2022-01-15T09:25:58.106Z"
   },
   {
    "duration": 287,
    "start_time": "2022-01-15T09:26:21.162Z"
   },
   {
    "duration": 8,
    "start_time": "2022-01-15T09:26:24.649Z"
   },
   {
    "duration": 5,
    "start_time": "2022-01-15T09:26:49.945Z"
   },
   {
    "duration": 6,
    "start_time": "2022-01-15T09:27:17.514Z"
   },
   {
    "duration": 6,
    "start_time": "2022-01-15T09:27:28.224Z"
   },
   {
    "duration": 5,
    "start_time": "2022-01-15T09:27:59.416Z"
   },
   {
    "duration": 5,
    "start_time": "2022-01-15T09:28:06.687Z"
   },
   {
    "duration": 6,
    "start_time": "2022-01-15T09:28:10.798Z"
   },
   {
    "duration": 6,
    "start_time": "2022-01-15T09:28:16.416Z"
   },
   {
    "duration": 231,
    "start_time": "2022-01-15T09:30:32.053Z"
   },
   {
    "duration": 8,
    "start_time": "2022-01-15T09:30:45.236Z"
   },
   {
    "duration": 12,
    "start_time": "2022-01-15T09:30:57.898Z"
   },
   {
    "duration": 189,
    "start_time": "2022-01-15T09:31:14.809Z"
   },
   {
    "duration": 9,
    "start_time": "2022-01-15T09:31:21.343Z"
   },
   {
    "duration": 5,
    "start_time": "2022-01-15T09:36:19.351Z"
   },
   {
    "duration": 5,
    "start_time": "2022-01-15T09:42:38.565Z"
   },
   {
    "duration": 4,
    "start_time": "2022-01-15T09:52:06.994Z"
   },
   {
    "duration": 4,
    "start_time": "2022-01-15T09:53:40.456Z"
   },
   {
    "duration": 198,
    "start_time": "2022-01-15T09:54:23.857Z"
   },
   {
    "duration": 7,
    "start_time": "2022-01-15T09:55:08.031Z"
   },
   {
    "duration": 5,
    "start_time": "2022-01-15T09:57:11.476Z"
   },
   {
    "duration": 5,
    "start_time": "2022-01-15T10:00:36.447Z"
   },
   {
    "duration": 5,
    "start_time": "2022-01-15T10:02:26.476Z"
   },
   {
    "duration": 5,
    "start_time": "2022-01-15T10:06:59.622Z"
   },
   {
    "duration": 5,
    "start_time": "2022-01-15T10:08:37.606Z"
   },
   {
    "duration": 5,
    "start_time": "2022-01-15T10:09:59.474Z"
   },
   {
    "duration": 5,
    "start_time": "2022-01-15T10:18:49.728Z"
   },
   {
    "duration": 5,
    "start_time": "2022-01-15T10:19:59.031Z"
   },
   {
    "duration": 7,
    "start_time": "2022-01-15T10:20:17.886Z"
   },
   {
    "duration": 5,
    "start_time": "2022-01-15T10:20:33.309Z"
   },
   {
    "duration": 6,
    "start_time": "2022-01-15T10:20:49.214Z"
   },
   {
    "duration": 10,
    "start_time": "2022-01-15T10:21:03.788Z"
   },
   {
    "duration": 10,
    "start_time": "2022-01-15T10:21:29.636Z"
   },
   {
    "duration": 9,
    "start_time": "2022-01-15T10:26:25.351Z"
   },
   {
    "duration": 5,
    "start_time": "2022-01-15T10:26:44.861Z"
   },
   {
    "duration": 50,
    "start_time": "2022-01-15T10:33:16.117Z"
   },
   {
    "duration": 58,
    "start_time": "2022-01-15T10:33:16.168Z"
   },
   {
    "duration": 3,
    "start_time": "2022-01-15T10:33:16.228Z"
   },
   {
    "duration": 19,
    "start_time": "2022-01-15T10:33:16.232Z"
   },
   {
    "duration": 26,
    "start_time": "2022-01-15T10:33:16.252Z"
   },
   {
    "duration": 16,
    "start_time": "2022-01-15T10:33:16.279Z"
   },
   {
    "duration": 14,
    "start_time": "2022-01-15T10:33:16.297Z"
   },
   {
    "duration": 22,
    "start_time": "2022-01-15T10:33:16.314Z"
   },
   {
    "duration": 12,
    "start_time": "2022-01-15T10:33:16.338Z"
   },
   {
    "duration": 16,
    "start_time": "2022-01-15T10:33:16.352Z"
   },
   {
    "duration": 12,
    "start_time": "2022-01-15T10:33:16.369Z"
   },
   {
    "duration": 17,
    "start_time": "2022-01-15T10:33:16.382Z"
   },
   {
    "duration": 26,
    "start_time": "2022-01-15T10:33:16.400Z"
   },
   {
    "duration": 17,
    "start_time": "2022-01-15T10:33:16.428Z"
   },
   {
    "duration": 44,
    "start_time": "2022-01-15T10:33:16.446Z"
   },
   {
    "duration": 2,
    "start_time": "2022-01-15T10:33:16.492Z"
   },
   {
    "duration": 26,
    "start_time": "2022-01-15T10:33:16.495Z"
   },
   {
    "duration": 19,
    "start_time": "2022-01-15T10:33:16.523Z"
   },
   {
    "duration": 15,
    "start_time": "2022-01-15T10:33:16.544Z"
   },
   {
    "duration": 14,
    "start_time": "2022-01-15T10:33:16.561Z"
   },
   {
    "duration": 23,
    "start_time": "2022-01-15T10:33:16.577Z"
   },
   {
    "duration": 16,
    "start_time": "2022-01-15T10:33:16.602Z"
   },
   {
    "duration": 19,
    "start_time": "2022-01-15T10:33:16.621Z"
   },
   {
    "duration": 34,
    "start_time": "2022-01-15T10:33:16.642Z"
   },
   {
    "duration": 21,
    "start_time": "2022-01-15T10:33:16.678Z"
   },
   {
    "duration": 19,
    "start_time": "2022-01-15T10:33:16.700Z"
   },
   {
    "duration": 32,
    "start_time": "2022-01-15T10:33:16.721Z"
   },
   {
    "duration": 18,
    "start_time": "2022-01-15T10:33:16.756Z"
   },
   {
    "duration": 16,
    "start_time": "2022-01-15T10:33:16.776Z"
   },
   {
    "duration": 35,
    "start_time": "2022-01-15T10:33:16.794Z"
   },
   {
    "duration": 31,
    "start_time": "2022-01-15T10:33:16.831Z"
   },
   {
    "duration": 35,
    "start_time": "2022-01-15T10:33:16.864Z"
   },
   {
    "duration": 7,
    "start_time": "2022-01-15T10:33:16.901Z"
   },
   {
    "duration": 25,
    "start_time": "2022-01-15T10:33:16.909Z"
   },
   {
    "duration": 28,
    "start_time": "2022-01-15T10:33:16.935Z"
   },
   {
    "duration": 8,
    "start_time": "2022-01-15T10:33:28.095Z"
   },
   {
    "duration": 8,
    "start_time": "2022-01-15T10:33:36.103Z"
   },
   {
    "duration": 9,
    "start_time": "2022-01-15T10:34:36.068Z"
   },
   {
    "duration": 8,
    "start_time": "2022-01-15T10:35:02.331Z"
   },
   {
    "duration": 169,
    "start_time": "2022-01-15T10:35:09.172Z"
   },
   {
    "duration": 9,
    "start_time": "2022-01-15T10:35:13.947Z"
   },
   {
    "duration": 9,
    "start_time": "2022-01-15T10:35:32.403Z"
   },
   {
    "duration": 9,
    "start_time": "2022-01-15T10:35:40.218Z"
   },
   {
    "duration": 8,
    "start_time": "2022-01-15T10:36:00.794Z"
   },
   {
    "duration": 3,
    "start_time": "2022-01-15T10:39:46.997Z"
   },
   {
    "duration": 6,
    "start_time": "2022-01-15T10:39:54.509Z"
   },
   {
    "duration": 53,
    "start_time": "2022-01-15T10:40:10.938Z"
   },
   {
    "duration": 63,
    "start_time": "2022-01-15T10:40:10.993Z"
   },
   {
    "duration": 4,
    "start_time": "2022-01-15T10:40:11.057Z"
   },
   {
    "duration": 39,
    "start_time": "2022-01-15T10:40:11.063Z"
   },
   {
    "duration": 13,
    "start_time": "2022-01-15T10:40:11.103Z"
   },
   {
    "duration": 4,
    "start_time": "2022-01-15T10:40:11.118Z"
   },
   {
    "duration": 5,
    "start_time": "2022-01-15T10:40:11.124Z"
   },
   {
    "duration": 5,
    "start_time": "2022-01-15T10:40:11.131Z"
   },
   {
    "duration": 6,
    "start_time": "2022-01-15T10:40:11.138Z"
   },
   {
    "duration": 10,
    "start_time": "2022-01-15T10:40:11.146Z"
   },
   {
    "duration": 36,
    "start_time": "2022-01-15T10:40:11.157Z"
   },
   {
    "duration": 11,
    "start_time": "2022-01-15T10:40:11.195Z"
   },
   {
    "duration": 8,
    "start_time": "2022-01-15T10:40:11.208Z"
   },
   {
    "duration": 5,
    "start_time": "2022-01-15T10:40:11.217Z"
   },
   {
    "duration": 42,
    "start_time": "2022-01-15T10:40:11.224Z"
   },
   {
    "duration": 2,
    "start_time": "2022-01-15T10:40:11.292Z"
   },
   {
    "duration": 17,
    "start_time": "2022-01-15T10:40:11.296Z"
   },
   {
    "duration": 5,
    "start_time": "2022-01-15T10:40:11.314Z"
   },
   {
    "duration": 6,
    "start_time": "2022-01-15T10:40:11.320Z"
   },
   {
    "duration": 6,
    "start_time": "2022-01-15T10:40:11.328Z"
   },
   {
    "duration": 9,
    "start_time": "2022-01-15T10:40:11.335Z"
   },
   {
    "duration": 4,
    "start_time": "2022-01-15T10:40:11.345Z"
   },
   {
    "duration": 4,
    "start_time": "2022-01-15T10:40:11.352Z"
   },
   {
    "duration": 35,
    "start_time": "2022-01-15T10:40:11.358Z"
   },
   {
    "duration": 5,
    "start_time": "2022-01-15T10:40:11.394Z"
   },
   {
    "duration": 7,
    "start_time": "2022-01-15T10:40:11.401Z"
   },
   {
    "duration": 4,
    "start_time": "2022-01-15T10:40:11.410Z"
   },
   {
    "duration": 9,
    "start_time": "2022-01-15T10:40:11.416Z"
   },
   {
    "duration": 5,
    "start_time": "2022-01-15T10:40:11.426Z"
   },
   {
    "duration": 8,
    "start_time": "2022-01-15T10:40:11.432Z"
   },
   {
    "duration": 51,
    "start_time": "2022-01-15T10:40:11.441Z"
   },
   {
    "duration": 6,
    "start_time": "2022-01-15T10:40:11.493Z"
   },
   {
    "duration": 10,
    "start_time": "2022-01-15T10:40:11.501Z"
   },
   {
    "duration": 5,
    "start_time": "2022-01-15T10:40:11.512Z"
   },
   {
    "duration": 9,
    "start_time": "2022-01-15T10:40:11.519Z"
   },
   {
    "duration": 10,
    "start_time": "2022-01-15T10:40:11.529Z"
   },
   {
    "duration": 7,
    "start_time": "2022-01-15T10:40:11.540Z"
   },
   {
    "duration": 6,
    "start_time": "2022-01-15T10:40:11.549Z"
   },
   {
    "duration": 9,
    "start_time": "2022-01-15T10:42:05.147Z"
   },
   {
    "duration": 58,
    "start_time": "2022-01-15T10:48:41.699Z"
   },
   {
    "duration": 186,
    "start_time": "2022-01-15T10:48:58.882Z"
   },
   {
    "duration": 8,
    "start_time": "2022-01-15T10:52:21.990Z"
   },
   {
    "duration": 11,
    "start_time": "2022-01-15T10:53:04.828Z"
   },
   {
    "duration": 51,
    "start_time": "2022-01-15T10:53:48.188Z"
   },
   {
    "duration": 68,
    "start_time": "2022-01-15T10:53:48.241Z"
   },
   {
    "duration": 3,
    "start_time": "2022-01-15T10:53:48.311Z"
   },
   {
    "duration": 16,
    "start_time": "2022-01-15T10:53:48.316Z"
   },
   {
    "duration": 9,
    "start_time": "2022-01-15T10:53:48.333Z"
   },
   {
    "duration": 3,
    "start_time": "2022-01-15T10:53:48.344Z"
   },
   {
    "duration": 5,
    "start_time": "2022-01-15T10:53:48.348Z"
   },
   {
    "duration": 3,
    "start_time": "2022-01-15T10:53:48.392Z"
   },
   {
    "duration": 5,
    "start_time": "2022-01-15T10:53:48.397Z"
   },
   {
    "duration": 9,
    "start_time": "2022-01-15T10:53:48.404Z"
   },
   {
    "duration": 4,
    "start_time": "2022-01-15T10:53:48.414Z"
   },
   {
    "duration": 7,
    "start_time": "2022-01-15T10:53:48.419Z"
   },
   {
    "duration": 7,
    "start_time": "2022-01-15T10:53:48.427Z"
   },
   {
    "duration": 2,
    "start_time": "2022-01-15T10:53:48.436Z"
   },
   {
    "duration": 84,
    "start_time": "2022-01-15T10:53:48.439Z"
   },
   {
    "duration": 3,
    "start_time": "2022-01-15T10:53:48.524Z"
   },
   {
    "duration": 12,
    "start_time": "2022-01-15T10:53:48.528Z"
   },
   {
    "duration": 6,
    "start_time": "2022-01-15T10:53:48.542Z"
   },
   {
    "duration": 5,
    "start_time": "2022-01-15T10:53:48.549Z"
   },
   {
    "duration": 36,
    "start_time": "2022-01-15T10:53:48.556Z"
   },
   {
    "duration": 4,
    "start_time": "2022-01-15T10:53:48.594Z"
   },
   {
    "duration": 5,
    "start_time": "2022-01-15T10:53:48.600Z"
   },
   {
    "duration": 4,
    "start_time": "2022-01-15T10:53:48.608Z"
   },
   {
    "duration": 6,
    "start_time": "2022-01-15T10:53:48.614Z"
   },
   {
    "duration": 6,
    "start_time": "2022-01-15T10:53:48.622Z"
   },
   {
    "duration": 8,
    "start_time": "2022-01-15T10:53:48.630Z"
   },
   {
    "duration": 5,
    "start_time": "2022-01-15T10:53:48.640Z"
   },
   {
    "duration": 47,
    "start_time": "2022-01-15T10:53:48.646Z"
   },
   {
    "duration": 5,
    "start_time": "2022-01-15T10:53:48.694Z"
   },
   {
    "duration": 6,
    "start_time": "2022-01-15T10:53:48.700Z"
   },
   {
    "duration": 13,
    "start_time": "2022-01-15T10:53:48.708Z"
   },
   {
    "duration": 8,
    "start_time": "2022-01-15T10:53:48.723Z"
   },
   {
    "duration": 7,
    "start_time": "2022-01-15T10:53:48.732Z"
   },
   {
    "duration": 7,
    "start_time": "2022-01-15T10:53:48.740Z"
   },
   {
    "duration": 8,
    "start_time": "2022-01-15T10:53:48.748Z"
   },
   {
    "duration": 8,
    "start_time": "2022-01-15T10:53:48.792Z"
   },
   {
    "duration": 6,
    "start_time": "2022-01-15T10:53:48.802Z"
   },
   {
    "duration": 5,
    "start_time": "2022-01-15T10:53:53.556Z"
   },
   {
    "duration": 5,
    "start_time": "2022-01-15T10:54:18.827Z"
   },
   {
    "duration": 6,
    "start_time": "2022-01-15T10:55:18.683Z"
   },
   {
    "duration": 6,
    "start_time": "2022-01-15T10:55:29.985Z"
   },
   {
    "duration": 5,
    "start_time": "2022-01-15T10:55:34.377Z"
   },
   {
    "duration": 6,
    "start_time": "2022-01-15T10:55:48.050Z"
   },
   {
    "duration": 8,
    "start_time": "2022-01-15T10:57:40.439Z"
   },
   {
    "duration": 11,
    "start_time": "2022-01-15T11:01:07.298Z"
   },
   {
    "duration": 53,
    "start_time": "2022-01-15T11:01:07.310Z"
   },
   {
    "duration": 83,
    "start_time": "2022-01-15T11:01:07.365Z"
   },
   {
    "duration": 3,
    "start_time": "2022-01-15T11:01:07.450Z"
   },
   {
    "duration": 37,
    "start_time": "2022-01-15T11:01:07.455Z"
   },
   {
    "duration": 11,
    "start_time": "2022-01-15T11:01:07.495Z"
   },
   {
    "duration": 4,
    "start_time": "2022-01-15T11:01:07.508Z"
   },
   {
    "duration": 5,
    "start_time": "2022-01-15T11:01:07.514Z"
   },
   {
    "duration": 5,
    "start_time": "2022-01-15T11:01:07.521Z"
   },
   {
    "duration": 6,
    "start_time": "2022-01-15T11:01:07.527Z"
   },
   {
    "duration": 10,
    "start_time": "2022-01-15T11:01:07.534Z"
   },
   {
    "duration": 50,
    "start_time": "2022-01-15T11:01:07.545Z"
   },
   {
    "duration": 8,
    "start_time": "2022-01-15T11:01:07.597Z"
   },
   {
    "duration": 10,
    "start_time": "2022-01-15T11:01:07.606Z"
   },
   {
    "duration": 2,
    "start_time": "2022-01-15T11:01:07.618Z"
   },
   {
    "duration": 78,
    "start_time": "2022-01-15T11:01:07.622Z"
   },
   {
    "duration": 3,
    "start_time": "2022-01-15T11:01:07.702Z"
   },
   {
    "duration": 15,
    "start_time": "2022-01-15T11:01:07.707Z"
   },
   {
    "duration": 5,
    "start_time": "2022-01-15T11:01:07.725Z"
   },
   {
    "duration": 6,
    "start_time": "2022-01-15T11:01:07.732Z"
   },
   {
    "duration": 7,
    "start_time": "2022-01-15T11:01:07.743Z"
   },
   {
    "duration": 44,
    "start_time": "2022-01-15T11:01:07.752Z"
   },
   {
    "duration": 6,
    "start_time": "2022-01-15T11:01:07.798Z"
   },
   {
    "duration": 11,
    "start_time": "2022-01-15T11:01:07.805Z"
   },
   {
    "duration": 5,
    "start_time": "2022-01-15T11:01:07.818Z"
   },
   {
    "duration": 6,
    "start_time": "2022-01-15T11:01:07.825Z"
   },
   {
    "duration": 7,
    "start_time": "2022-01-15T11:01:07.832Z"
   },
   {
    "duration": 7,
    "start_time": "2022-01-15T11:01:07.841Z"
   },
   {
    "duration": 46,
    "start_time": "2022-01-15T11:01:07.850Z"
   },
   {
    "duration": 6,
    "start_time": "2022-01-15T11:01:07.899Z"
   },
   {
    "duration": 6,
    "start_time": "2022-01-15T11:01:07.907Z"
   },
   {
    "duration": 15,
    "start_time": "2022-01-15T11:01:07.915Z"
   },
   {
    "duration": 5,
    "start_time": "2022-01-15T11:01:07.932Z"
   },
   {
    "duration": 5,
    "start_time": "2022-01-15T11:01:07.939Z"
   },
   {
    "duration": 48,
    "start_time": "2022-01-15T11:01:07.945Z"
   },
   {
    "duration": 7,
    "start_time": "2022-01-15T11:01:07.995Z"
   },
   {
    "duration": 9,
    "start_time": "2022-01-15T11:01:08.003Z"
   },
   {
    "duration": 10,
    "start_time": "2022-01-15T11:01:08.013Z"
   },
   {
    "duration": 12,
    "start_time": "2022-01-15T11:01:08.024Z"
   },
   {
    "duration": 6,
    "start_time": "2022-01-15T11:01:08.038Z"
   },
   {
    "duration": 6,
    "start_time": "2022-01-15T11:01:12.125Z"
   },
   {
    "duration": 10,
    "start_time": "2022-01-15T11:01:14.573Z"
   },
   {
    "duration": 6,
    "start_time": "2022-01-15T11:03:42.800Z"
   },
   {
    "duration": 14,
    "start_time": "2022-01-15T11:05:32.758Z"
   },
   {
    "duration": 216,
    "start_time": "2022-01-15T11:05:57.022Z"
   },
   {
    "duration": 177,
    "start_time": "2022-01-15T11:06:01.622Z"
   },
   {
    "duration": 11,
    "start_time": "2022-01-15T11:06:16.918Z"
   },
   {
    "duration": 10,
    "start_time": "2022-01-15T11:06:31.758Z"
   },
   {
    "duration": 13,
    "start_time": "2022-01-15T11:06:51.975Z"
   },
   {
    "duration": 7,
    "start_time": "2022-01-15T11:10:54.978Z"
   },
   {
    "duration": 5,
    "start_time": "2022-01-15T11:11:10.208Z"
   },
   {
    "duration": 52,
    "start_time": "2022-01-15T11:15:01.130Z"
   },
   {
    "duration": 65,
    "start_time": "2022-01-15T11:15:01.184Z"
   },
   {
    "duration": 3,
    "start_time": "2022-01-15T11:15:01.251Z"
   },
   {
    "duration": 42,
    "start_time": "2022-01-15T11:15:01.256Z"
   },
   {
    "duration": 14,
    "start_time": "2022-01-15T11:15:01.300Z"
   },
   {
    "duration": 7,
    "start_time": "2022-01-15T11:15:01.315Z"
   },
   {
    "duration": 17,
    "start_time": "2022-01-15T11:15:01.324Z"
   },
   {
    "duration": 16,
    "start_time": "2022-01-15T11:15:01.344Z"
   },
   {
    "duration": 5,
    "start_time": "2022-01-15T11:15:01.362Z"
   },
   {
    "duration": 15,
    "start_time": "2022-01-15T11:15:01.369Z"
   },
   {
    "duration": 5,
    "start_time": "2022-01-15T11:15:01.386Z"
   },
   {
    "duration": 12,
    "start_time": "2022-01-15T11:15:01.393Z"
   },
   {
    "duration": 11,
    "start_time": "2022-01-15T11:15:01.406Z"
   },
   {
    "duration": 5,
    "start_time": "2022-01-15T11:15:01.419Z"
   },
   {
    "duration": 56,
    "start_time": "2022-01-15T11:15:01.425Z"
   },
   {
    "duration": 9,
    "start_time": "2022-01-15T11:15:01.483Z"
   },
   {
    "duration": 14,
    "start_time": "2022-01-15T11:15:01.493Z"
   },
   {
    "duration": 5,
    "start_time": "2022-01-15T11:15:01.509Z"
   },
   {
    "duration": 7,
    "start_time": "2022-01-15T11:15:01.515Z"
   },
   {
    "duration": 12,
    "start_time": "2022-01-15T11:15:01.524Z"
   },
   {
    "duration": 10,
    "start_time": "2022-01-15T11:15:01.537Z"
   },
   {
    "duration": 7,
    "start_time": "2022-01-15T11:15:01.548Z"
   },
   {
    "duration": 33,
    "start_time": "2022-01-15T11:15:01.558Z"
   },
   {
    "duration": 4,
    "start_time": "2022-01-15T11:15:01.594Z"
   },
   {
    "duration": 8,
    "start_time": "2022-01-15T11:15:01.599Z"
   },
   {
    "duration": 9,
    "start_time": "2022-01-15T11:15:01.609Z"
   },
   {
    "duration": 9,
    "start_time": "2022-01-15T11:15:01.619Z"
   },
   {
    "duration": 24,
    "start_time": "2022-01-15T11:15:01.630Z"
   },
   {
    "duration": 5,
    "start_time": "2022-01-15T11:15:01.655Z"
   },
   {
    "duration": 11,
    "start_time": "2022-01-15T11:15:01.662Z"
   },
   {
    "duration": 27,
    "start_time": "2022-01-15T11:15:01.674Z"
   },
   {
    "duration": 7,
    "start_time": "2022-01-15T11:15:01.703Z"
   },
   {
    "duration": 16,
    "start_time": "2022-01-15T11:15:01.712Z"
   },
   {
    "duration": 19,
    "start_time": "2022-01-15T11:15:01.730Z"
   },
   {
    "duration": 12,
    "start_time": "2022-01-15T11:15:01.751Z"
   },
   {
    "duration": 8,
    "start_time": "2022-01-15T11:15:01.765Z"
   },
   {
    "duration": 20,
    "start_time": "2022-01-15T11:15:01.775Z"
   },
   {
    "duration": 6,
    "start_time": "2022-01-15T11:15:01.797Z"
   },
   {
    "duration": 16,
    "start_time": "2022-01-15T11:15:01.805Z"
   },
   {
    "duration": 26,
    "start_time": "2022-01-15T11:15:01.823Z"
   },
   {
    "duration": 6,
    "start_time": "2022-01-15T11:15:01.851Z"
   },
   {
    "duration": 13,
    "start_time": "2022-01-15T11:15:01.858Z"
   },
   {
    "duration": 6,
    "start_time": "2022-01-15T11:15:04.894Z"
   },
   {
    "duration": 6,
    "start_time": "2022-01-15T11:15:08.124Z"
   },
   {
    "duration": 7,
    "start_time": "2022-01-15T11:15:13.597Z"
   },
   {
    "duration": 12,
    "start_time": "2022-01-15T11:29:48.435Z"
   },
   {
    "duration": 8,
    "start_time": "2022-01-15T11:30:19.521Z"
   },
   {
    "duration": 19,
    "start_time": "2022-01-15T11:58:49.634Z"
   },
   {
    "duration": 19,
    "start_time": "2022-01-15T11:59:41.275Z"
   },
   {
    "duration": 8,
    "start_time": "2022-01-15T11:59:43.065Z"
   },
   {
    "duration": 7,
    "start_time": "2022-01-15T12:02:38.973Z"
   },
   {
    "duration": 18,
    "start_time": "2022-01-15T12:02:44.309Z"
   },
   {
    "duration": 6,
    "start_time": "2022-01-15T12:03:01.540Z"
   },
   {
    "duration": 14,
    "start_time": "2022-01-15T12:04:54.868Z"
   },
   {
    "duration": 14,
    "start_time": "2022-01-15T12:05:13.195Z"
   },
   {
    "duration": 19,
    "start_time": "2022-01-15T12:05:25.523Z"
   },
   {
    "duration": 15,
    "start_time": "2022-01-15T12:06:39.336Z"
   },
   {
    "duration": 21,
    "start_time": "2022-01-15T12:07:39.408Z"
   },
   {
    "duration": 70,
    "start_time": "2022-01-15T12:09:02.382Z"
   },
   {
    "duration": 61,
    "start_time": "2022-01-15T12:09:21.143Z"
   },
   {
    "duration": 65,
    "start_time": "2022-01-15T12:09:31.909Z"
   },
   {
    "duration": 12,
    "start_time": "2022-01-15T12:10:38.938Z"
   },
   {
    "duration": 183,
    "start_time": "2022-01-15T12:13:07.584Z"
   },
   {
    "duration": 6,
    "start_time": "2022-01-15T12:13:51.767Z"
   },
   {
    "duration": 8,
    "start_time": "2022-01-15T12:14:06.743Z"
   },
   {
    "duration": 5,
    "start_time": "2022-01-15T12:14:22.263Z"
   },
   {
    "duration": 6,
    "start_time": "2022-01-15T12:14:39.230Z"
   },
   {
    "duration": 55,
    "start_time": "2022-01-15T12:14:59.916Z"
   },
   {
    "duration": 57,
    "start_time": "2022-01-15T12:15:15.420Z"
   },
   {
    "duration": 172,
    "start_time": "2022-01-15T12:15:25.477Z"
   },
   {
    "duration": 181,
    "start_time": "2022-01-15T12:15:35.800Z"
   },
   {
    "duration": 5,
    "start_time": "2022-01-15T12:15:52.451Z"
   },
   {
    "duration": 6,
    "start_time": "2022-01-15T12:16:27.036Z"
   },
   {
    "duration": 290,
    "start_time": "2022-01-15T12:16:45.746Z"
   },
   {
    "duration": 5,
    "start_time": "2022-01-15T12:17:51.712Z"
   },
   {
    "duration": 52,
    "start_time": "2022-01-15T12:18:56.496Z"
   },
   {
    "duration": 54,
    "start_time": "2022-01-15T12:29:17.560Z"
   },
   {
    "duration": 92,
    "start_time": "2022-01-15T12:29:17.616Z"
   },
   {
    "duration": 3,
    "start_time": "2022-01-15T12:29:17.710Z"
   },
   {
    "duration": 14,
    "start_time": "2022-01-15T12:29:17.715Z"
   },
   {
    "duration": 10,
    "start_time": "2022-01-15T12:29:17.731Z"
   },
   {
    "duration": 3,
    "start_time": "2022-01-15T12:29:17.743Z"
   },
   {
    "duration": 4,
    "start_time": "2022-01-15T12:29:17.748Z"
   },
   {
    "duration": 4,
    "start_time": "2022-01-15T12:29:17.793Z"
   },
   {
    "duration": 4,
    "start_time": "2022-01-15T12:29:17.799Z"
   },
   {
    "duration": 9,
    "start_time": "2022-01-15T12:29:17.805Z"
   },
   {
    "duration": 3,
    "start_time": "2022-01-15T12:29:17.816Z"
   },
   {
    "duration": 8,
    "start_time": "2022-01-15T12:29:17.821Z"
   },
   {
    "duration": 7,
    "start_time": "2022-01-15T12:29:17.830Z"
   },
   {
    "duration": 1,
    "start_time": "2022-01-15T12:29:17.839Z"
   },
   {
    "duration": 84,
    "start_time": "2022-01-15T12:29:17.842Z"
   },
   {
    "duration": 3,
    "start_time": "2022-01-15T12:29:17.927Z"
   },
   {
    "duration": 12,
    "start_time": "2022-01-15T12:29:17.931Z"
   },
   {
    "duration": 5,
    "start_time": "2022-01-15T12:29:17.945Z"
   },
   {
    "duration": 7,
    "start_time": "2022-01-15T12:29:17.951Z"
   },
   {
    "duration": 35,
    "start_time": "2022-01-15T12:29:17.960Z"
   },
   {
    "duration": 6,
    "start_time": "2022-01-15T12:29:17.996Z"
   },
   {
    "duration": 5,
    "start_time": "2022-01-15T12:29:18.003Z"
   },
   {
    "duration": 4,
    "start_time": "2022-01-15T12:29:18.012Z"
   },
   {
    "duration": 5,
    "start_time": "2022-01-15T12:29:18.018Z"
   },
   {
    "duration": 6,
    "start_time": "2022-01-15T12:29:18.025Z"
   },
   {
    "duration": 5,
    "start_time": "2022-01-15T12:29:18.032Z"
   },
   {
    "duration": 4,
    "start_time": "2022-01-15T12:29:18.039Z"
   },
   {
    "duration": 55,
    "start_time": "2022-01-15T12:29:18.045Z"
   },
   {
    "duration": 7,
    "start_time": "2022-01-15T12:29:18.102Z"
   },
   {
    "duration": 6,
    "start_time": "2022-01-15T12:29:18.111Z"
   },
   {
    "duration": 18,
    "start_time": "2022-01-15T12:29:18.118Z"
   },
   {
    "duration": 8,
    "start_time": "2022-01-15T12:29:18.138Z"
   },
   {
    "duration": 48,
    "start_time": "2022-01-15T12:29:18.148Z"
   },
   {
    "duration": 6,
    "start_time": "2022-01-15T12:29:18.198Z"
   },
   {
    "duration": 8,
    "start_time": "2022-01-15T12:29:18.206Z"
   },
   {
    "duration": 9,
    "start_time": "2022-01-15T12:29:18.216Z"
   },
   {
    "duration": 7,
    "start_time": "2022-01-15T12:29:18.227Z"
   },
   {
    "duration": 5,
    "start_time": "2022-01-15T12:29:18.236Z"
   },
   {
    "duration": 6,
    "start_time": "2022-01-15T12:29:18.243Z"
   },
   {
    "duration": 54,
    "start_time": "2022-01-15T12:29:18.251Z"
   },
   {
    "duration": 7,
    "start_time": "2022-01-15T12:29:18.306Z"
   },
   {
    "duration": 7,
    "start_time": "2022-01-15T12:29:18.314Z"
   },
   {
    "duration": 5,
    "start_time": "2022-01-15T12:29:18.322Z"
   },
   {
    "duration": 5,
    "start_time": "2022-01-15T12:29:18.329Z"
   },
   {
    "duration": 7,
    "start_time": "2022-01-15T12:29:18.335Z"
   },
   {
    "duration": 47,
    "start_time": "2022-01-15T12:29:18.344Z"
   },
   {
    "duration": 12,
    "start_time": "2022-01-15T12:29:18.393Z"
   },
   {
    "duration": 7,
    "start_time": "2022-01-15T12:29:18.406Z"
   },
   {
    "duration": 8,
    "start_time": "2022-01-15T12:29:18.415Z"
   },
   {
    "duration": 4,
    "start_time": "2022-01-15T12:29:18.425Z"
   },
   {
    "duration": 11,
    "start_time": "2022-01-15T12:29:18.431Z"
   },
   {
    "duration": 2,
    "start_time": "2022-01-15T12:29:18.444Z"
   },
   {
    "duration": 9,
    "start_time": "2022-01-15T12:29:18.447Z"
   },
   {
    "duration": 52,
    "start_time": "2022-01-15T12:29:18.457Z"
   },
   {
    "duration": 6,
    "start_time": "2022-01-15T12:29:18.511Z"
   },
   {
    "duration": 17,
    "start_time": "2022-01-15T12:29:18.519Z"
   },
   {
    "duration": 5,
    "start_time": "2022-01-15T12:29:18.538Z"
   },
   {
    "duration": 17,
    "start_time": "2022-01-15T12:29:18.544Z"
   },
   {
    "duration": 43,
    "start_time": "2022-01-15T12:29:18.562Z"
   },
   {
    "duration": 14,
    "start_time": "2022-01-15T12:29:18.607Z"
   },
   {
    "duration": 2,
    "start_time": "2022-01-15T12:29:18.622Z"
   },
   {
    "duration": 41,
    "start_time": "2022-01-15T12:29:18.625Z"
   },
   {
    "duration": 21,
    "start_time": "2022-01-15T12:35:23.854Z"
   },
   {
    "duration": 8,
    "start_time": "2022-01-15T12:38:07.854Z"
   },
   {
    "duration": 8,
    "start_time": "2022-01-15T12:39:18.445Z"
   },
   {
    "duration": 9,
    "start_time": "2022-01-15T12:39:57.243Z"
   },
   {
    "duration": 9,
    "start_time": "2022-01-15T12:40:36.114Z"
   },
   {
    "duration": 15,
    "start_time": "2022-01-15T12:41:47.282Z"
   },
   {
    "duration": 20,
    "start_time": "2022-01-15T12:42:07.618Z"
   },
   {
    "duration": 190,
    "start_time": "2022-01-15T12:47:30.862Z"
   },
   {
    "duration": 182,
    "start_time": "2022-01-15T12:47:54.706Z"
   },
   {
    "duration": 172,
    "start_time": "2022-01-15T12:49:05.130Z"
   },
   {
    "duration": 190,
    "start_time": "2022-01-15T12:50:03.321Z"
   },
   {
    "duration": 184,
    "start_time": "2022-01-15T12:50:26.955Z"
   },
   {
    "duration": 188,
    "start_time": "2022-01-15T12:54:08.965Z"
   },
   {
    "duration": 20,
    "start_time": "2022-01-15T12:54:32.196Z"
   },
   {
    "duration": 52,
    "start_time": "2022-01-15T12:55:07.137Z"
   },
   {
    "duration": 62,
    "start_time": "2022-01-15T12:55:07.191Z"
   },
   {
    "duration": 3,
    "start_time": "2022-01-15T12:55:07.256Z"
   },
   {
    "duration": 44,
    "start_time": "2022-01-15T12:55:07.260Z"
   },
   {
    "duration": 10,
    "start_time": "2022-01-15T12:55:07.306Z"
   },
   {
    "duration": 3,
    "start_time": "2022-01-15T12:55:07.318Z"
   },
   {
    "duration": 7,
    "start_time": "2022-01-15T12:55:07.323Z"
   },
   {
    "duration": 5,
    "start_time": "2022-01-15T12:55:07.332Z"
   },
   {
    "duration": 5,
    "start_time": "2022-01-15T12:55:07.338Z"
   },
   {
    "duration": 9,
    "start_time": "2022-01-15T12:55:07.345Z"
   },
   {
    "duration": 39,
    "start_time": "2022-01-15T12:55:07.355Z"
   },
   {
    "duration": 7,
    "start_time": "2022-01-15T12:55:07.396Z"
   },
   {
    "duration": 7,
    "start_time": "2022-01-15T12:55:07.405Z"
   },
   {
    "duration": 2,
    "start_time": "2022-01-15T12:55:07.413Z"
   },
   {
    "duration": 42,
    "start_time": "2022-01-15T12:55:07.417Z"
   },
   {
    "duration": 32,
    "start_time": "2022-01-15T12:55:07.460Z"
   },
   {
    "duration": 12,
    "start_time": "2022-01-15T12:55:07.494Z"
   },
   {
    "duration": 4,
    "start_time": "2022-01-15T12:55:07.508Z"
   },
   {
    "duration": 7,
    "start_time": "2022-01-15T12:55:07.514Z"
   },
   {
    "duration": 5,
    "start_time": "2022-01-15T12:55:07.523Z"
   },
   {
    "duration": 4,
    "start_time": "2022-01-15T12:55:07.530Z"
   },
   {
    "duration": 4,
    "start_time": "2022-01-15T12:55:07.536Z"
   },
   {
    "duration": 4,
    "start_time": "2022-01-15T12:55:07.543Z"
   },
   {
    "duration": 45,
    "start_time": "2022-01-15T12:55:07.549Z"
   },
   {
    "duration": 6,
    "start_time": "2022-01-15T12:55:07.596Z"
   },
   {
    "duration": 6,
    "start_time": "2022-01-15T12:55:07.604Z"
   },
   {
    "duration": 4,
    "start_time": "2022-01-15T12:55:07.612Z"
   },
   {
    "duration": 10,
    "start_time": "2022-01-15T12:55:07.618Z"
   },
   {
    "duration": 5,
    "start_time": "2022-01-15T12:55:07.630Z"
   },
   {
    "duration": 57,
    "start_time": "2022-01-15T12:55:07.637Z"
   },
   {
    "duration": 20,
    "start_time": "2022-01-15T12:55:07.696Z"
   },
   {
    "duration": 5,
    "start_time": "2022-01-15T12:55:07.717Z"
   },
   {
    "duration": 7,
    "start_time": "2022-01-15T12:55:07.724Z"
   },
   {
    "duration": 8,
    "start_time": "2022-01-15T12:55:07.733Z"
   },
   {
    "duration": 8,
    "start_time": "2022-01-15T12:55:07.742Z"
   },
   {
    "duration": 44,
    "start_time": "2022-01-15T12:55:07.752Z"
   },
   {
    "duration": 7,
    "start_time": "2022-01-15T12:55:07.798Z"
   },
   {
    "duration": 6,
    "start_time": "2022-01-15T12:55:07.806Z"
   },
   {
    "duration": 6,
    "start_time": "2022-01-15T12:55:07.814Z"
   },
   {
    "duration": 20,
    "start_time": "2022-01-15T12:55:07.821Z"
   },
   {
    "duration": 9,
    "start_time": "2022-01-15T12:55:07.843Z"
   },
   {
    "duration": 61,
    "start_time": "2022-01-15T12:55:07.854Z"
   },
   {
    "duration": -1088,
    "start_time": "2022-01-15T12:55:09.005Z"
   },
   {
    "duration": 6,
    "start_time": "2022-01-15T12:56:54.265Z"
   },
   {
    "duration": 5,
    "start_time": "2022-01-15T12:57:36.336Z"
   },
   {
    "duration": 64,
    "start_time": "2022-01-15T12:58:34.368Z"
   },
   {
    "duration": 56,
    "start_time": "2022-01-15T12:59:00.733Z"
   },
   {
    "duration": 6,
    "start_time": "2022-01-15T12:59:19.750Z"
   },
   {
    "duration": 59,
    "start_time": "2022-01-15T12:59:37.981Z"
   },
   {
    "duration": 54,
    "start_time": "2022-01-15T12:59:48.477Z"
   },
   {
    "duration": 60,
    "start_time": "2022-01-15T13:00:16.221Z"
   },
   {
    "duration": 64,
    "start_time": "2022-01-15T13:00:44.317Z"
   },
   {
    "duration": 63,
    "start_time": "2022-01-15T13:00:58.845Z"
   },
   {
    "duration": 5,
    "start_time": "2022-01-15T13:01:10.739Z"
   },
   {
    "duration": 5,
    "start_time": "2022-01-15T13:02:46.266Z"
   },
   {
    "duration": 5,
    "start_time": "2022-01-15T13:02:48.634Z"
   },
   {
    "duration": 61,
    "start_time": "2022-01-15T13:04:09.649Z"
   },
   {
    "duration": 8,
    "start_time": "2022-01-15T13:04:23.994Z"
   },
   {
    "duration": 8,
    "start_time": "2022-01-15T13:04:40.319Z"
   },
   {
    "duration": 7,
    "start_time": "2022-01-15T13:04:54.415Z"
   },
   {
    "duration": 8,
    "start_time": "2022-01-15T13:05:13.088Z"
   },
   {
    "duration": 7,
    "start_time": "2022-01-15T13:05:20.031Z"
   },
   {
    "duration": 51,
    "start_time": "2022-01-15T13:05:41.226Z"
   },
   {
    "duration": 61,
    "start_time": "2022-01-15T13:05:41.279Z"
   },
   {
    "duration": 3,
    "start_time": "2022-01-15T13:05:41.342Z"
   },
   {
    "duration": 13,
    "start_time": "2022-01-15T13:05:41.346Z"
   },
   {
    "duration": 35,
    "start_time": "2022-01-15T13:05:41.360Z"
   },
   {
    "duration": 4,
    "start_time": "2022-01-15T13:05:41.397Z"
   },
   {
    "duration": 5,
    "start_time": "2022-01-15T13:05:41.402Z"
   },
   {
    "duration": 4,
    "start_time": "2022-01-15T13:05:41.410Z"
   },
   {
    "duration": 4,
    "start_time": "2022-01-15T13:05:41.416Z"
   },
   {
    "duration": 9,
    "start_time": "2022-01-15T13:05:41.422Z"
   },
   {
    "duration": 4,
    "start_time": "2022-01-15T13:05:41.433Z"
   },
   {
    "duration": 10,
    "start_time": "2022-01-15T13:05:41.438Z"
   },
   {
    "duration": 48,
    "start_time": "2022-01-15T13:05:41.450Z"
   },
   {
    "duration": 3,
    "start_time": "2022-01-15T13:05:41.500Z"
   },
   {
    "duration": 40,
    "start_time": "2022-01-15T13:05:41.505Z"
   },
   {
    "duration": 3,
    "start_time": "2022-01-15T13:05:41.546Z"
   },
   {
    "duration": 45,
    "start_time": "2022-01-15T13:05:41.550Z"
   },
   {
    "duration": 4,
    "start_time": "2022-01-15T13:05:41.597Z"
   },
   {
    "duration": 7,
    "start_time": "2022-01-15T13:05:41.602Z"
   },
   {
    "duration": 6,
    "start_time": "2022-01-15T13:05:41.611Z"
   },
   {
    "duration": 7,
    "start_time": "2022-01-15T13:05:41.618Z"
   },
   {
    "duration": 3,
    "start_time": "2022-01-15T13:05:41.627Z"
   },
   {
    "duration": 5,
    "start_time": "2022-01-15T13:05:41.633Z"
   },
   {
    "duration": 4,
    "start_time": "2022-01-15T13:05:41.639Z"
   },
   {
    "duration": 48,
    "start_time": "2022-01-15T13:05:41.645Z"
   },
   {
    "duration": 5,
    "start_time": "2022-01-15T13:05:41.694Z"
   },
   {
    "duration": 5,
    "start_time": "2022-01-15T13:05:41.701Z"
   },
   {
    "duration": 10,
    "start_time": "2022-01-15T13:05:41.707Z"
   },
   {
    "duration": 4,
    "start_time": "2022-01-15T13:05:41.719Z"
   },
   {
    "duration": 10,
    "start_time": "2022-01-15T13:05:41.725Z"
   },
   {
    "duration": 21,
    "start_time": "2022-01-15T13:05:41.737Z"
   },
   {
    "duration": 8,
    "start_time": "2022-01-15T13:05:41.792Z"
   },
   {
    "duration": 6,
    "start_time": "2022-01-15T13:05:41.803Z"
   },
   {
    "duration": 7,
    "start_time": "2022-01-15T13:05:41.811Z"
   },
   {
    "duration": 8,
    "start_time": "2022-01-15T13:05:41.820Z"
   },
   {
    "duration": 11,
    "start_time": "2022-01-15T13:05:41.830Z"
   },
   {
    "duration": 8,
    "start_time": "2022-01-15T13:05:41.842Z"
   },
   {
    "duration": 6,
    "start_time": "2022-01-15T13:05:41.891Z"
   },
   {
    "duration": 6,
    "start_time": "2022-01-15T13:05:41.899Z"
   },
   {
    "duration": 15,
    "start_time": "2022-01-15T13:05:41.907Z"
   },
   {
    "duration": 6,
    "start_time": "2022-01-15T13:05:41.924Z"
   },
   {
    "duration": 7,
    "start_time": "2022-01-15T13:05:46.319Z"
   },
   {
    "duration": 7,
    "start_time": "2022-01-15T13:05:52.551Z"
   },
   {
    "duration": 6,
    "start_time": "2022-01-15T13:05:58.697Z"
   },
   {
    "duration": 49,
    "start_time": "2022-01-15T13:08:16.619Z"
   },
   {
    "duration": 62,
    "start_time": "2022-01-15T13:08:16.670Z"
   },
   {
    "duration": 3,
    "start_time": "2022-01-15T13:08:16.734Z"
   },
   {
    "duration": 17,
    "start_time": "2022-01-15T13:08:16.738Z"
   },
   {
    "duration": 36,
    "start_time": "2022-01-15T13:08:16.756Z"
   },
   {
    "duration": 3,
    "start_time": "2022-01-15T13:08:16.794Z"
   },
   {
    "duration": 6,
    "start_time": "2022-01-15T13:08:16.799Z"
   },
   {
    "duration": 6,
    "start_time": "2022-01-15T13:08:16.807Z"
   },
   {
    "duration": 5,
    "start_time": "2022-01-15T13:08:16.815Z"
   },
   {
    "duration": 9,
    "start_time": "2022-01-15T13:08:16.822Z"
   },
   {
    "duration": 3,
    "start_time": "2022-01-15T13:08:16.833Z"
   },
   {
    "duration": 10,
    "start_time": "2022-01-15T13:08:16.838Z"
   },
   {
    "duration": 45,
    "start_time": "2022-01-15T13:08:16.850Z"
   },
   {
    "duration": 3,
    "start_time": "2022-01-15T13:08:16.896Z"
   },
   {
    "duration": 43,
    "start_time": "2022-01-15T13:08:16.900Z"
   },
   {
    "duration": 3,
    "start_time": "2022-01-15T13:08:16.944Z"
   },
   {
    "duration": 13,
    "start_time": "2022-01-15T13:08:16.948Z"
   },
   {
    "duration": 4,
    "start_time": "2022-01-15T13:08:16.991Z"
   },
   {
    "duration": 6,
    "start_time": "2022-01-15T13:08:16.997Z"
   },
   {
    "duration": 20,
    "start_time": "2022-01-15T13:08:17.005Z"
   },
   {
    "duration": 6,
    "start_time": "2022-01-15T13:08:17.026Z"
   },
   {
    "duration": 4,
    "start_time": "2022-01-15T13:08:17.033Z"
   },
   {
    "duration": 4,
    "start_time": "2022-01-15T13:08:17.040Z"
   },
   {
    "duration": 4,
    "start_time": "2022-01-15T13:08:17.046Z"
   },
   {
    "duration": 6,
    "start_time": "2022-01-15T13:08:17.052Z"
   },
   {
    "duration": 34,
    "start_time": "2022-01-15T13:08:17.060Z"
   },
   {
    "duration": 5,
    "start_time": "2022-01-15T13:08:17.096Z"
   },
   {
    "duration": 10,
    "start_time": "2022-01-15T13:08:17.103Z"
   },
   {
    "duration": 6,
    "start_time": "2022-01-15T13:08:17.114Z"
   },
   {
    "duration": 5,
    "start_time": "2022-01-15T13:08:17.122Z"
   },
   {
    "duration": 63,
    "start_time": "2022-01-15T13:08:17.129Z"
   },
   {
    "duration": 5,
    "start_time": "2022-01-15T13:08:17.194Z"
   },
   {
    "duration": 7,
    "start_time": "2022-01-15T13:08:17.200Z"
   },
   {
    "duration": 5,
    "start_time": "2022-01-15T13:08:17.208Z"
   },
   {
    "duration": 7,
    "start_time": "2022-01-15T13:08:17.215Z"
   },
   {
    "duration": 16,
    "start_time": "2022-01-15T13:08:17.223Z"
   },
   {
    "duration": 10,
    "start_time": "2022-01-15T13:08:17.241Z"
   },
   {
    "duration": 13,
    "start_time": "2022-01-15T13:08:17.253Z"
   },
   {
    "duration": 6,
    "start_time": "2022-01-15T13:08:17.292Z"
   },
   {
    "duration": 13,
    "start_time": "2022-01-15T13:08:17.299Z"
   },
   {
    "duration": 5,
    "start_time": "2022-01-15T13:08:17.314Z"
   },
   {
    "duration": 6,
    "start_time": "2022-01-15T13:08:17.321Z"
   },
   {
    "duration": 5,
    "start_time": "2022-01-15T13:08:17.328Z"
   },
   {
    "duration": 5,
    "start_time": "2022-01-15T13:08:17.335Z"
   },
   {
    "duration": 51,
    "start_time": "2022-01-15T13:08:17.342Z"
   },
   {
    "duration": 9,
    "start_time": "2022-01-15T13:08:17.395Z"
   },
   {
    "duration": 12,
    "start_time": "2022-01-15T13:08:17.405Z"
   },
   {
    "duration": 7,
    "start_time": "2022-01-15T13:08:17.418Z"
   },
   {
    "duration": 9,
    "start_time": "2022-01-15T13:08:17.426Z"
   },
   {
    "duration": 5,
    "start_time": "2022-01-15T13:08:17.436Z"
   },
   {
    "duration": 15,
    "start_time": "2022-01-15T13:08:17.442Z"
   },
   {
    "duration": 3,
    "start_time": "2022-01-15T13:08:17.491Z"
   },
   {
    "duration": 10,
    "start_time": "2022-01-15T13:08:17.495Z"
   },
   {
    "duration": 23,
    "start_time": "2022-01-15T13:08:17.507Z"
   },
   {
    "duration": 7,
    "start_time": "2022-01-15T13:08:17.531Z"
   },
   {
    "duration": 17,
    "start_time": "2022-01-15T13:08:20.788Z"
   },
   {
    "duration": 167,
    "start_time": "2022-01-15T13:08:56.090Z"
   },
   {
    "duration": 7,
    "start_time": "2022-01-15T13:09:13.802Z"
   },
   {
    "duration": 52,
    "start_time": "2022-01-15T13:11:39.956Z"
   },
   {
    "duration": 86,
    "start_time": "2022-01-15T13:11:40.010Z"
   },
   {
    "duration": 3,
    "start_time": "2022-01-15T13:11:40.098Z"
   },
   {
    "duration": 15,
    "start_time": "2022-01-15T13:11:40.102Z"
   },
   {
    "duration": 15,
    "start_time": "2022-01-15T13:11:40.119Z"
   },
   {
    "duration": 3,
    "start_time": "2022-01-15T13:11:40.136Z"
   },
   {
    "duration": 4,
    "start_time": "2022-01-15T13:11:40.141Z"
   },
   {
    "duration": 5,
    "start_time": "2022-01-15T13:11:40.147Z"
   },
   {
    "duration": 41,
    "start_time": "2022-01-15T13:11:40.154Z"
   },
   {
    "duration": 10,
    "start_time": "2022-01-15T13:11:40.196Z"
   },
   {
    "duration": 3,
    "start_time": "2022-01-15T13:11:40.208Z"
   },
   {
    "duration": 9,
    "start_time": "2022-01-15T13:11:40.213Z"
   },
   {
    "duration": 7,
    "start_time": "2022-01-15T13:11:40.224Z"
   },
   {
    "duration": 2,
    "start_time": "2022-01-15T13:11:40.232Z"
   },
   {
    "duration": 74,
    "start_time": "2022-01-15T13:11:40.236Z"
   },
   {
    "duration": 2,
    "start_time": "2022-01-15T13:11:40.311Z"
   },
   {
    "duration": 11,
    "start_time": "2022-01-15T13:11:40.315Z"
   },
   {
    "duration": 4,
    "start_time": "2022-01-15T13:11:40.327Z"
   },
   {
    "duration": 6,
    "start_time": "2022-01-15T13:11:40.333Z"
   },
   {
    "duration": 6,
    "start_time": "2022-01-15T13:11:40.340Z"
   },
   {
    "duration": 5,
    "start_time": "2022-01-15T13:11:40.348Z"
   },
   {
    "duration": 38,
    "start_time": "2022-01-15T13:11:40.354Z"
   },
   {
    "duration": 4,
    "start_time": "2022-01-15T13:11:40.395Z"
   },
   {
    "duration": 4,
    "start_time": "2022-01-15T13:11:40.401Z"
   },
   {
    "duration": 4,
    "start_time": "2022-01-15T13:11:40.407Z"
   },
   {
    "duration": 5,
    "start_time": "2022-01-15T13:11:40.413Z"
   },
   {
    "duration": 4,
    "start_time": "2022-01-15T13:11:40.419Z"
   },
   {
    "duration": 9,
    "start_time": "2022-01-15T13:11:40.424Z"
   },
   {
    "duration": 4,
    "start_time": "2022-01-15T13:11:40.435Z"
   },
   {
    "duration": 5,
    "start_time": "2022-01-15T13:11:40.440Z"
   },
   {
    "duration": 18,
    "start_time": "2022-01-15T13:11:40.493Z"
   },
   {
    "duration": 5,
    "start_time": "2022-01-15T13:11:40.513Z"
   },
   {
    "duration": 7,
    "start_time": "2022-01-15T13:11:40.519Z"
   },
   {
    "duration": 6,
    "start_time": "2022-01-15T13:11:40.528Z"
   },
   {
    "duration": 6,
    "start_time": "2022-01-15T13:11:40.535Z"
   },
   {
    "duration": 7,
    "start_time": "2022-01-15T13:11:40.542Z"
   },
   {
    "duration": 43,
    "start_time": "2022-01-15T13:11:40.551Z"
   },
   {
    "duration": 4,
    "start_time": "2022-01-15T13:11:40.596Z"
   },
   {
    "duration": 12,
    "start_time": "2022-01-15T13:11:40.602Z"
   },
   {
    "duration": 15,
    "start_time": "2022-01-15T13:11:40.616Z"
   },
   {
    "duration": 5,
    "start_time": "2022-01-15T13:11:40.633Z"
   },
   {
    "duration": 6,
    "start_time": "2022-01-15T13:11:40.640Z"
   },
   {
    "duration": 4,
    "start_time": "2022-01-15T13:11:40.648Z"
   },
   {
    "duration": 38,
    "start_time": "2022-01-15T13:11:40.654Z"
   },
   {
    "duration": 7,
    "start_time": "2022-01-15T13:11:40.693Z"
   },
   {
    "duration": 7,
    "start_time": "2022-01-15T13:11:40.702Z"
   },
   {
    "duration": 10,
    "start_time": "2022-01-15T13:11:40.711Z"
   },
   {
    "duration": 7,
    "start_time": "2022-01-15T13:11:40.723Z"
   },
   {
    "duration": 7,
    "start_time": "2022-01-15T13:11:40.731Z"
   },
   {
    "duration": 3,
    "start_time": "2022-01-15T13:11:40.740Z"
   },
   {
    "duration": 49,
    "start_time": "2022-01-15T13:11:40.744Z"
   },
   {
    "duration": 2,
    "start_time": "2022-01-15T13:11:40.794Z"
   },
   {
    "duration": 9,
    "start_time": "2022-01-15T13:11:40.798Z"
   },
   {
    "duration": 19,
    "start_time": "2022-01-15T13:11:40.809Z"
   },
   {
    "duration": 7,
    "start_time": "2022-01-15T13:11:40.829Z"
   },
   {
    "duration": 19,
    "start_time": "2022-01-15T13:11:40.837Z"
   },
   {
    "duration": 37,
    "start_time": "2022-01-15T13:11:40.858Z"
   },
   {
    "duration": 14,
    "start_time": "2022-01-15T13:11:40.897Z"
   },
   {
    "duration": 15,
    "start_time": "2022-01-15T13:11:40.913Z"
   },
   {
    "duration": 2,
    "start_time": "2022-01-15T13:11:40.930Z"
   },
   {
    "duration": 62,
    "start_time": "2022-01-15T13:11:40.933Z"
   },
   {
    "duration": 5,
    "start_time": "2022-01-15T13:11:40.996Z"
   },
   {
    "duration": 184,
    "start_time": "2022-01-15T13:12:07.116Z"
   },
   {
    "duration": 175,
    "start_time": "2022-01-15T13:12:24.582Z"
   },
   {
    "duration": 20,
    "start_time": "2022-01-15T13:13:08.846Z"
   },
   {
    "duration": 178,
    "start_time": "2022-01-15T13:13:58.400Z"
   },
   {
    "duration": 186,
    "start_time": "2022-01-15T13:14:33.271Z"
   },
   {
    "duration": 18,
    "start_time": "2022-01-15T13:14:47.774Z"
   },
   {
    "duration": 21,
    "start_time": "2022-01-15T13:15:04.109Z"
   },
   {
    "duration": 14,
    "start_time": "2022-01-15T13:15:12.597Z"
   },
   {
    "duration": 191,
    "start_time": "2022-01-15T13:15:50.957Z"
   },
   {
    "duration": 179,
    "start_time": "2022-01-15T13:16:05.989Z"
   },
   {
    "duration": 186,
    "start_time": "2022-01-15T13:16:22.108Z"
   },
   {
    "duration": 19,
    "start_time": "2022-01-15T13:17:10.725Z"
   },
   {
    "duration": 20,
    "start_time": "2022-01-15T13:17:39.819Z"
   },
   {
    "duration": 20,
    "start_time": "2022-01-15T13:17:49.619Z"
   },
   {
    "duration": 20,
    "start_time": "2022-01-15T13:18:12.386Z"
   },
   {
    "duration": 20,
    "start_time": "2022-01-15T13:18:27.899Z"
   },
   {
    "duration": 18,
    "start_time": "2022-01-15T13:18:38.201Z"
   },
   {
    "duration": 20,
    "start_time": "2022-01-15T13:18:57.377Z"
   },
   {
    "duration": 12,
    "start_time": "2022-01-15T13:20:13.200Z"
   },
   {
    "duration": 12,
    "start_time": "2022-01-15T13:20:44.488Z"
   },
   {
    "duration": 58,
    "start_time": "2022-01-15T13:27:26.829Z"
   },
   {
    "duration": 66,
    "start_time": "2022-01-15T13:27:26.889Z"
   },
   {
    "duration": 4,
    "start_time": "2022-01-15T13:27:26.957Z"
   },
   {
    "duration": 13,
    "start_time": "2022-01-15T13:27:26.992Z"
   },
   {
    "duration": 25,
    "start_time": "2022-01-15T13:27:27.007Z"
   },
   {
    "duration": 12,
    "start_time": "2022-01-15T13:27:27.033Z"
   },
   {
    "duration": 21,
    "start_time": "2022-01-15T13:27:27.047Z"
   },
   {
    "duration": 13,
    "start_time": "2022-01-15T13:27:27.071Z"
   },
   {
    "duration": 24,
    "start_time": "2022-01-15T13:27:27.087Z"
   },
   {
    "duration": 30,
    "start_time": "2022-01-15T13:27:27.113Z"
   },
   {
    "duration": 6,
    "start_time": "2022-01-15T13:27:27.145Z"
   },
   {
    "duration": 26,
    "start_time": "2022-01-15T13:27:27.153Z"
   },
   {
    "duration": 21,
    "start_time": "2022-01-15T13:27:27.181Z"
   },
   {
    "duration": 11,
    "start_time": "2022-01-15T13:27:27.203Z"
   },
   {
    "duration": 42,
    "start_time": "2022-01-15T13:27:27.216Z"
   },
   {
    "duration": 2,
    "start_time": "2022-01-15T13:27:27.260Z"
   },
   {
    "duration": 11,
    "start_time": "2022-01-15T13:27:27.264Z"
   },
   {
    "duration": 5,
    "start_time": "2022-01-15T13:27:27.292Z"
   },
   {
    "duration": 5,
    "start_time": "2022-01-15T13:27:27.298Z"
   },
   {
    "duration": 6,
    "start_time": "2022-01-15T13:27:27.304Z"
   },
   {
    "duration": 5,
    "start_time": "2022-01-15T13:27:27.311Z"
   },
   {
    "duration": 7,
    "start_time": "2022-01-15T13:27:27.317Z"
   },
   {
    "duration": 6,
    "start_time": "2022-01-15T13:27:27.327Z"
   },
   {
    "duration": 4,
    "start_time": "2022-01-15T13:27:27.335Z"
   },
   {
    "duration": 5,
    "start_time": "2022-01-15T13:27:27.340Z"
   },
   {
    "duration": 45,
    "start_time": "2022-01-15T13:27:27.347Z"
   },
   {
    "duration": 4,
    "start_time": "2022-01-15T13:27:27.394Z"
   },
   {
    "duration": 10,
    "start_time": "2022-01-15T13:27:27.399Z"
   },
   {
    "duration": 5,
    "start_time": "2022-01-15T13:27:27.410Z"
   },
   {
    "duration": 5,
    "start_time": "2022-01-15T13:27:27.416Z"
   },
   {
    "duration": 19,
    "start_time": "2022-01-15T13:27:27.422Z"
   },
   {
    "duration": 6,
    "start_time": "2022-01-15T13:27:27.443Z"
   },
   {
    "duration": 43,
    "start_time": "2022-01-15T13:27:27.450Z"
   },
   {
    "duration": 7,
    "start_time": "2022-01-15T13:27:27.495Z"
   },
   {
    "duration": 8,
    "start_time": "2022-01-15T13:27:27.503Z"
   },
   {
    "duration": 7,
    "start_time": "2022-01-15T13:27:27.512Z"
   },
   {
    "duration": 7,
    "start_time": "2022-01-15T13:27:27.520Z"
   },
   {
    "duration": 7,
    "start_time": "2022-01-15T13:27:27.528Z"
   },
   {
    "duration": 6,
    "start_time": "2022-01-15T13:27:27.536Z"
   },
   {
    "duration": 54,
    "start_time": "2022-01-15T13:27:27.543Z"
   },
   {
    "duration": 6,
    "start_time": "2022-01-15T13:27:27.599Z"
   },
   {
    "duration": 7,
    "start_time": "2022-01-15T13:27:27.607Z"
   },
   {
    "duration": 4,
    "start_time": "2022-01-15T13:27:27.615Z"
   },
   {
    "duration": 7,
    "start_time": "2022-01-15T13:27:27.621Z"
   },
   {
    "duration": 8,
    "start_time": "2022-01-15T13:27:27.630Z"
   },
   {
    "duration": 8,
    "start_time": "2022-01-15T13:27:27.639Z"
   },
   {
    "duration": 47,
    "start_time": "2022-01-15T13:27:27.649Z"
   },
   {
    "duration": 12,
    "start_time": "2022-01-15T13:28:18.539Z"
   },
   {
    "duration": 52,
    "start_time": "2022-01-15T13:29:43.997Z"
   },
   {
    "duration": 81,
    "start_time": "2022-01-15T13:29:44.051Z"
   },
   {
    "duration": 4,
    "start_time": "2022-01-15T13:29:44.134Z"
   },
   {
    "duration": 51,
    "start_time": "2022-01-15T13:29:44.140Z"
   },
   {
    "duration": 11,
    "start_time": "2022-01-15T13:29:44.193Z"
   },
   {
    "duration": 5,
    "start_time": "2022-01-15T13:29:44.206Z"
   },
   {
    "duration": 6,
    "start_time": "2022-01-15T13:29:44.213Z"
   },
   {
    "duration": 7,
    "start_time": "2022-01-15T13:29:44.223Z"
   },
   {
    "duration": 5,
    "start_time": "2022-01-15T13:29:44.233Z"
   },
   {
    "duration": 57,
    "start_time": "2022-01-15T13:29:44.241Z"
   },
   {
    "duration": 4,
    "start_time": "2022-01-15T13:29:44.300Z"
   },
   {
    "duration": 7,
    "start_time": "2022-01-15T13:29:44.306Z"
   },
   {
    "duration": 8,
    "start_time": "2022-01-15T13:29:44.315Z"
   },
   {
    "duration": 3,
    "start_time": "2022-01-15T13:29:44.325Z"
   },
   {
    "duration": 74,
    "start_time": "2022-01-15T13:29:44.330Z"
   },
   {
    "duration": 3,
    "start_time": "2022-01-15T13:29:44.406Z"
   },
   {
    "duration": 12,
    "start_time": "2022-01-15T13:29:44.411Z"
   },
   {
    "duration": 5,
    "start_time": "2022-01-15T13:29:44.425Z"
   },
   {
    "duration": 6,
    "start_time": "2022-01-15T13:29:44.432Z"
   },
   {
    "duration": 7,
    "start_time": "2022-01-15T13:29:44.440Z"
   },
   {
    "duration": 45,
    "start_time": "2022-01-15T13:29:44.449Z"
   },
   {
    "duration": 4,
    "start_time": "2022-01-15T13:29:44.496Z"
   },
   {
    "duration": 4,
    "start_time": "2022-01-15T13:29:44.505Z"
   },
   {
    "duration": 4,
    "start_time": "2022-01-15T13:29:44.512Z"
   },
   {
    "duration": 6,
    "start_time": "2022-01-15T13:29:44.518Z"
   },
   {
    "duration": 5,
    "start_time": "2022-01-15T13:29:44.525Z"
   },
   {
    "duration": 4,
    "start_time": "2022-01-15T13:29:44.532Z"
   },
   {
    "duration": 57,
    "start_time": "2022-01-15T13:29:44.538Z"
   },
   {
    "duration": 6,
    "start_time": "2022-01-15T13:29:44.597Z"
   },
   {
    "duration": 5,
    "start_time": "2022-01-15T13:29:44.605Z"
   },
   {
    "duration": 21,
    "start_time": "2022-01-15T13:29:44.611Z"
   },
   {
    "duration": 5,
    "start_time": "2022-01-15T13:29:44.634Z"
   },
   {
    "duration": 6,
    "start_time": "2022-01-15T13:29:44.641Z"
   },
   {
    "duration": 45,
    "start_time": "2022-01-15T13:29:44.648Z"
   },
   {
    "duration": 7,
    "start_time": "2022-01-15T13:29:44.694Z"
   },
   {
    "duration": 9,
    "start_time": "2022-01-15T13:29:44.703Z"
   },
   {
    "duration": 10,
    "start_time": "2022-01-15T13:29:44.714Z"
   },
   {
    "duration": 5,
    "start_time": "2022-01-15T13:29:44.726Z"
   },
   {
    "duration": 6,
    "start_time": "2022-01-15T13:29:44.733Z"
   },
   {
    "duration": 59,
    "start_time": "2022-01-15T13:29:44.741Z"
   },
   {
    "duration": 5,
    "start_time": "2022-01-15T13:29:44.802Z"
   },
   {
    "duration": 6,
    "start_time": "2022-01-15T13:29:44.809Z"
   },
   {
    "duration": 5,
    "start_time": "2022-01-15T13:29:44.817Z"
   },
   {
    "duration": 5,
    "start_time": "2022-01-15T13:29:44.824Z"
   },
   {
    "duration": 6,
    "start_time": "2022-01-15T13:29:44.831Z"
   },
   {
    "duration": 54,
    "start_time": "2022-01-15T13:29:44.838Z"
   },
   {
    "duration": 13,
    "start_time": "2022-01-15T13:29:44.894Z"
   },
   {
    "duration": 12,
    "start_time": "2022-01-15T13:29:44.909Z"
   },
   {
    "duration": 8,
    "start_time": "2022-01-15T13:29:44.922Z"
   },
   {
    "duration": 10,
    "start_time": "2022-01-15T13:29:44.932Z"
   },
   {
    "duration": 8,
    "start_time": "2022-01-15T13:29:44.944Z"
   },
   {
    "duration": 42,
    "start_time": "2022-01-15T13:29:44.954Z"
   },
   {
    "duration": 2,
    "start_time": "2022-01-15T13:29:44.998Z"
   },
   {
    "duration": 14,
    "start_time": "2022-01-15T13:29:45.002Z"
   },
   {
    "duration": 24,
    "start_time": "2022-01-15T13:29:45.018Z"
   },
   {
    "duration": 7,
    "start_time": "2022-01-15T13:29:45.043Z"
   },
   {
    "duration": 43,
    "start_time": "2022-01-15T13:29:45.052Z"
   },
   {
    "duration": 14,
    "start_time": "2022-01-15T13:29:45.097Z"
   },
   {
    "duration": 13,
    "start_time": "2022-01-15T13:29:45.114Z"
   },
   {
    "duration": 14,
    "start_time": "2022-01-15T13:29:45.129Z"
   },
   {
    "duration": 2,
    "start_time": "2022-01-15T13:29:45.144Z"
   },
   {
    "duration": 75,
    "start_time": "2022-01-15T13:29:45.148Z"
   },
   {
    "duration": 4,
    "start_time": "2022-01-15T13:29:45.225Z"
   },
   {
    "duration": 12,
    "start_time": "2022-01-15T13:29:45.231Z"
   },
   {
    "duration": 244,
    "start_time": "2022-01-15T13:31:37.687Z"
   },
   {
    "duration": 323,
    "start_time": "2022-01-15T13:31:54.703Z"
   },
   {
    "duration": 80,
    "start_time": "2022-01-15T13:32:22.023Z"
   },
   {
    "duration": 77,
    "start_time": "2022-01-15T13:32:31.150Z"
   },
   {
    "duration": 636,
    "start_time": "2022-01-15T13:32:44.988Z"
   },
   {
    "duration": 5,
    "start_time": "2022-01-15T13:32:57.885Z"
   },
   {
    "duration": 51,
    "start_time": "2022-01-15T13:34:04.377Z"
   },
   {
    "duration": 84,
    "start_time": "2022-01-15T13:34:04.429Z"
   },
   {
    "duration": 3,
    "start_time": "2022-01-15T13:34:04.515Z"
   },
   {
    "duration": 13,
    "start_time": "2022-01-15T13:34:04.520Z"
   },
   {
    "duration": 10,
    "start_time": "2022-01-15T13:34:04.534Z"
   },
   {
    "duration": 4,
    "start_time": "2022-01-15T13:34:04.545Z"
   },
   {
    "duration": 43,
    "start_time": "2022-01-15T13:34:04.550Z"
   },
   {
    "duration": 5,
    "start_time": "2022-01-15T13:34:04.595Z"
   },
   {
    "duration": 5,
    "start_time": "2022-01-15T13:34:04.603Z"
   },
   {
    "duration": 12,
    "start_time": "2022-01-15T13:34:04.610Z"
   },
   {
    "duration": 5,
    "start_time": "2022-01-15T13:34:04.624Z"
   },
   {
    "duration": 11,
    "start_time": "2022-01-15T13:34:04.631Z"
   },
   {
    "duration": 7,
    "start_time": "2022-01-15T13:34:04.644Z"
   },
   {
    "duration": 2,
    "start_time": "2022-01-15T13:34:04.692Z"
   },
   {
    "duration": 41,
    "start_time": "2022-01-15T13:34:04.696Z"
   },
   {
    "duration": 2,
    "start_time": "2022-01-15T13:34:04.739Z"
   },
   {
    "duration": 13,
    "start_time": "2022-01-15T13:34:04.743Z"
   },
   {
    "duration": 4,
    "start_time": "2022-01-15T13:34:04.757Z"
   },
   {
    "duration": 35,
    "start_time": "2022-01-15T13:34:04.763Z"
   },
   {
    "duration": 5,
    "start_time": "2022-01-15T13:34:04.800Z"
   },
   {
    "duration": 5,
    "start_time": "2022-01-15T13:34:04.807Z"
   },
   {
    "duration": 5,
    "start_time": "2022-01-15T13:34:04.813Z"
   },
   {
    "duration": 4,
    "start_time": "2022-01-15T13:34:04.823Z"
   },
   {
    "duration": 4,
    "start_time": "2022-01-15T13:34:04.830Z"
   },
   {
    "duration": 5,
    "start_time": "2022-01-15T13:34:04.835Z"
   },
   {
    "duration": 52,
    "start_time": "2022-01-15T13:34:04.841Z"
   },
   {
    "duration": 5,
    "start_time": "2022-01-15T13:34:04.895Z"
   },
   {
    "duration": 10,
    "start_time": "2022-01-15T13:34:04.902Z"
   },
   {
    "duration": 5,
    "start_time": "2022-01-15T13:34:04.914Z"
   },
   {
    "duration": 6,
    "start_time": "2022-01-15T13:34:04.921Z"
   },
   {
    "duration": 19,
    "start_time": "2022-01-15T13:34:04.929Z"
   },
   {
    "duration": 45,
    "start_time": "2022-01-15T13:34:04.950Z"
   },
   {
    "duration": 6,
    "start_time": "2022-01-15T13:34:04.997Z"
   },
   {
    "duration": 7,
    "start_time": "2022-01-15T13:34:05.005Z"
   },
   {
    "duration": 9,
    "start_time": "2022-01-15T13:34:05.014Z"
   },
   {
    "duration": 10,
    "start_time": "2022-01-15T13:34:05.024Z"
   },
   {
    "duration": 7,
    "start_time": "2022-01-15T13:34:05.036Z"
   },
   {
    "duration": 7,
    "start_time": "2022-01-15T13:34:05.044Z"
   },
   {
    "duration": 44,
    "start_time": "2022-01-15T13:34:05.053Z"
   },
   {
    "duration": 14,
    "start_time": "2022-01-15T13:34:05.099Z"
   },
   {
    "duration": 6,
    "start_time": "2022-01-15T13:34:05.115Z"
   },
   {
    "duration": 7,
    "start_time": "2022-01-15T13:34:05.122Z"
   },
   {
    "duration": 8,
    "start_time": "2022-01-15T13:34:05.131Z"
   },
   {
    "duration": 5,
    "start_time": "2022-01-15T13:34:05.140Z"
   },
   {
    "duration": 48,
    "start_time": "2022-01-15T13:34:05.146Z"
   },
   {
    "duration": 8,
    "start_time": "2022-01-15T13:34:09.363Z"
   },
   {
    "duration": 4,
    "start_time": "2022-01-15T13:34:39.787Z"
   },
   {
    "duration": 480,
    "start_time": "2022-01-15T13:34:55.053Z"
   },
   {
    "duration": 12,
    "start_time": "2022-01-15T13:35:29.571Z"
   },
   {
    "duration": 14,
    "start_time": "2022-01-15T13:36:16.916Z"
   },
   {
    "duration": 5,
    "start_time": "2022-01-15T13:36:21.867Z"
   },
   {
    "duration": 11,
    "start_time": "2022-01-15T13:36:33.882Z"
   },
   {
    "duration": 7,
    "start_time": "2022-01-15T13:36:36.579Z"
   },
   {
    "duration": 50,
    "start_time": "2022-01-15T13:37:05.440Z"
   },
   {
    "duration": 61,
    "start_time": "2022-01-15T13:37:05.491Z"
   },
   {
    "duration": 3,
    "start_time": "2022-01-15T13:37:05.554Z"
   },
   {
    "duration": 42,
    "start_time": "2022-01-15T13:37:05.559Z"
   },
   {
    "duration": 21,
    "start_time": "2022-01-15T13:37:05.603Z"
   },
   {
    "duration": 17,
    "start_time": "2022-01-15T13:37:05.626Z"
   },
   {
    "duration": 11,
    "start_time": "2022-01-15T13:37:05.645Z"
   },
   {
    "duration": 28,
    "start_time": "2022-01-15T13:37:05.658Z"
   },
   {
    "duration": 8,
    "start_time": "2022-01-15T13:37:05.688Z"
   },
   {
    "duration": 22,
    "start_time": "2022-01-15T13:37:05.697Z"
   },
   {
    "duration": 24,
    "start_time": "2022-01-15T13:37:05.721Z"
   },
   {
    "duration": 14,
    "start_time": "2022-01-15T13:37:05.747Z"
   },
   {
    "duration": 22,
    "start_time": "2022-01-15T13:37:05.762Z"
   },
   {
    "duration": 14,
    "start_time": "2022-01-15T13:37:05.786Z"
   },
   {
    "duration": 55,
    "start_time": "2022-01-15T13:37:05.802Z"
   },
   {
    "duration": 2,
    "start_time": "2022-01-15T13:37:05.859Z"
   },
   {
    "duration": 21,
    "start_time": "2022-01-15T13:37:05.863Z"
   },
   {
    "duration": 23,
    "start_time": "2022-01-15T13:37:05.886Z"
   },
   {
    "duration": 11,
    "start_time": "2022-01-15T13:37:05.910Z"
   },
   {
    "duration": 25,
    "start_time": "2022-01-15T13:37:05.923Z"
   },
   {
    "duration": 12,
    "start_time": "2022-01-15T13:37:05.950Z"
   },
   {
    "duration": 26,
    "start_time": "2022-01-15T13:37:05.963Z"
   },
   {
    "duration": 23,
    "start_time": "2022-01-15T13:37:05.993Z"
   },
   {
    "duration": 12,
    "start_time": "2022-01-15T13:37:06.018Z"
   },
   {
    "duration": 24,
    "start_time": "2022-01-15T13:37:06.032Z"
   },
   {
    "duration": 19,
    "start_time": "2022-01-15T13:37:06.057Z"
   },
   {
    "duration": 8,
    "start_time": "2022-01-15T13:37:06.078Z"
   },
   {
    "duration": 20,
    "start_time": "2022-01-15T13:37:06.088Z"
   },
   {
    "duration": 19,
    "start_time": "2022-01-15T13:37:06.109Z"
   },
   {
    "duration": 11,
    "start_time": "2022-01-15T13:37:06.130Z"
   },
   {
    "duration": 31,
    "start_time": "2022-01-15T13:37:06.143Z"
   },
   {
    "duration": 7,
    "start_time": "2022-01-15T13:37:06.176Z"
   },
   {
    "duration": 19,
    "start_time": "2022-01-15T13:37:06.184Z"
   },
   {
    "duration": 11,
    "start_time": "2022-01-15T13:37:06.205Z"
   },
   {
    "duration": 21,
    "start_time": "2022-01-15T13:37:06.218Z"
   },
   {
    "duration": 27,
    "start_time": "2022-01-15T13:37:06.241Z"
   },
   {
    "duration": 10,
    "start_time": "2022-01-15T13:37:06.270Z"
   },
   {
    "duration": 11,
    "start_time": "2022-01-15T13:37:06.282Z"
   },
   {
    "duration": 17,
    "start_time": "2022-01-15T13:37:06.294Z"
   },
   {
    "duration": 22,
    "start_time": "2022-01-15T13:37:06.312Z"
   },
   {
    "duration": 7,
    "start_time": "2022-01-15T13:37:06.336Z"
   },
   {
    "duration": 22,
    "start_time": "2022-01-15T13:37:06.345Z"
   },
   {
    "duration": 18,
    "start_time": "2022-01-15T13:37:06.370Z"
   },
   {
    "duration": 15,
    "start_time": "2022-01-15T13:37:06.389Z"
   },
   {
    "duration": 20,
    "start_time": "2022-01-15T13:37:06.405Z"
   },
   {
    "duration": 19,
    "start_time": "2022-01-15T13:37:06.427Z"
   },
   {
    "duration": 29,
    "start_time": "2022-01-15T13:37:06.448Z"
   },
   {
    "duration": 6,
    "start_time": "2022-01-15T13:37:06.478Z"
   },
   {
    "duration": 26,
    "start_time": "2022-01-15T13:37:06.486Z"
   },
   {
    "duration": 20,
    "start_time": "2022-01-15T13:37:06.514Z"
   },
   {
    "duration": 21,
    "start_time": "2022-01-15T13:37:06.536Z"
   },
   {
    "duration": 13,
    "start_time": "2022-01-15T13:37:06.559Z"
   },
   {
    "duration": 23,
    "start_time": "2022-01-15T13:37:06.574Z"
   },
   {
    "duration": 2,
    "start_time": "2022-01-15T13:37:06.598Z"
   },
   {
    "duration": 21,
    "start_time": "2022-01-15T13:37:06.602Z"
   },
   {
    "duration": 21,
    "start_time": "2022-01-15T13:37:06.625Z"
   },
   {
    "duration": 6,
    "start_time": "2022-01-15T13:37:06.648Z"
   },
   {
    "duration": 37,
    "start_time": "2022-01-15T13:37:06.655Z"
   },
   {
    "duration": 13,
    "start_time": "2022-01-15T13:37:06.694Z"
   },
   {
    "duration": 17,
    "start_time": "2022-01-15T13:37:06.709Z"
   },
   {
    "duration": 21,
    "start_time": "2022-01-15T13:37:06.727Z"
   },
   {
    "duration": 4,
    "start_time": "2022-01-15T13:37:06.750Z"
   },
   {
    "duration": 44,
    "start_time": "2022-01-15T13:37:06.756Z"
   },
   {
    "duration": 4,
    "start_time": "2022-01-15T13:37:06.802Z"
   },
   {
    "duration": 15,
    "start_time": "2022-01-15T13:37:12.603Z"
   },
   {
    "duration": 7,
    "start_time": "2022-01-15T13:45:18.622Z"
   },
   {
    "duration": 9,
    "start_time": "2022-01-15T13:45:27.429Z"
   },
   {
    "duration": 14,
    "start_time": "2022-01-15T13:47:45.980Z"
   },
   {
    "duration": 55,
    "start_time": "2022-01-15T13:48:21.341Z"
   },
   {
    "duration": 94,
    "start_time": "2022-01-15T13:48:21.398Z"
   },
   {
    "duration": 3,
    "start_time": "2022-01-15T13:48:21.494Z"
   },
   {
    "duration": 14,
    "start_time": "2022-01-15T13:48:21.499Z"
   },
   {
    "duration": 11,
    "start_time": "2022-01-15T13:48:21.514Z"
   },
   {
    "duration": 4,
    "start_time": "2022-01-15T13:48:21.526Z"
   },
   {
    "duration": 6,
    "start_time": "2022-01-15T13:48:21.531Z"
   },
   {
    "duration": 4,
    "start_time": "2022-01-15T13:48:21.540Z"
   },
   {
    "duration": 45,
    "start_time": "2022-01-15T13:48:21.546Z"
   },
   {
    "duration": 8,
    "start_time": "2022-01-15T13:48:21.593Z"
   },
   {
    "duration": 3,
    "start_time": "2022-01-15T13:48:21.602Z"
   },
   {
    "duration": 7,
    "start_time": "2022-01-15T13:48:21.607Z"
   },
   {
    "duration": 7,
    "start_time": "2022-01-15T13:48:21.615Z"
   },
   {
    "duration": 2,
    "start_time": "2022-01-15T13:48:21.623Z"
   },
   {
    "duration": 81,
    "start_time": "2022-01-15T13:48:21.627Z"
   },
   {
    "duration": 2,
    "start_time": "2022-01-15T13:48:21.710Z"
   },
   {
    "duration": 11,
    "start_time": "2022-01-15T13:48:21.714Z"
   },
   {
    "duration": 4,
    "start_time": "2022-01-15T13:48:21.727Z"
   },
   {
    "duration": 5,
    "start_time": "2022-01-15T13:48:21.733Z"
   },
   {
    "duration": 6,
    "start_time": "2022-01-15T13:48:21.740Z"
   },
   {
    "duration": 5,
    "start_time": "2022-01-15T13:48:21.792Z"
   },
   {
    "duration": 8,
    "start_time": "2022-01-15T13:48:21.798Z"
   },
   {
    "duration": 6,
    "start_time": "2022-01-15T13:48:21.809Z"
   },
   {
    "duration": 5,
    "start_time": "2022-01-15T13:48:21.818Z"
   },
   {
    "duration": 8,
    "start_time": "2022-01-15T13:48:21.824Z"
   },
   {
    "duration": 7,
    "start_time": "2022-01-15T13:48:21.834Z"
   },
   {
    "duration": 9,
    "start_time": "2022-01-15T13:48:21.842Z"
   },
   {
    "duration": 39,
    "start_time": "2022-01-15T13:48:21.853Z"
   },
   {
    "duration": 4,
    "start_time": "2022-01-15T13:48:21.894Z"
   },
   {
    "duration": 9,
    "start_time": "2022-01-15T13:48:21.900Z"
   },
   {
    "duration": 20,
    "start_time": "2022-01-15T13:48:21.910Z"
   },
   {
    "duration": 6,
    "start_time": "2022-01-15T13:48:21.931Z"
   },
   {
    "duration": 15,
    "start_time": "2022-01-15T13:48:21.939Z"
   },
   {
    "duration": 6,
    "start_time": "2022-01-15T13:48:21.956Z"
   },
   {
    "duration": 8,
    "start_time": "2022-01-15T13:48:21.992Z"
   },
   {
    "duration": 16,
    "start_time": "2022-01-15T13:48:22.002Z"
   },
   {
    "duration": 14,
    "start_time": "2022-01-15T13:48:22.020Z"
   },
   {
    "duration": 12,
    "start_time": "2022-01-15T13:48:22.036Z"
   },
   {
    "duration": 12,
    "start_time": "2022-01-15T13:48:22.049Z"
   },
   {
    "duration": 29,
    "start_time": "2022-01-15T13:48:22.063Z"
   },
   {
    "duration": 13,
    "start_time": "2022-01-15T13:48:22.093Z"
   },
   {
    "duration": 11,
    "start_time": "2022-01-15T13:48:22.108Z"
   },
   {
    "duration": 17,
    "start_time": "2022-01-15T13:48:22.121Z"
   },
   {
    "duration": 20,
    "start_time": "2022-01-15T13:48:22.140Z"
   },
   {
    "duration": 6,
    "start_time": "2022-01-15T13:48:22.162Z"
   },
   {
    "duration": 6,
    "start_time": "2022-01-15T13:48:22.170Z"
   },
   {
    "duration": 14,
    "start_time": "2022-01-15T13:48:22.178Z"
   },
   {
    "duration": 4,
    "start_time": "2022-01-15T13:48:22.193Z"
   },
   {
    "duration": 10,
    "start_time": "2022-01-15T13:48:22.199Z"
   },
   {
    "duration": 6,
    "start_time": "2022-01-15T13:48:22.211Z"
   },
   {
    "duration": 8,
    "start_time": "2022-01-15T13:48:22.218Z"
   },
   {
    "duration": 4,
    "start_time": "2022-01-15T13:48:22.228Z"
   },
   {
    "duration": 12,
    "start_time": "2022-01-15T13:48:22.233Z"
   },
   {
    "duration": 2,
    "start_time": "2022-01-15T13:48:22.247Z"
   },
   {
    "duration": 42,
    "start_time": "2022-01-15T13:48:22.250Z"
   },
   {
    "duration": 19,
    "start_time": "2022-01-15T13:48:22.294Z"
   },
   {
    "duration": 13,
    "start_time": "2022-01-15T13:48:22.314Z"
   },
   {
    "duration": 6,
    "start_time": "2022-01-15T13:48:22.329Z"
   },
   {
    "duration": 18,
    "start_time": "2022-01-15T13:48:22.337Z"
   },
   {
    "duration": 43,
    "start_time": "2022-01-15T13:48:22.356Z"
   },
   {
    "duration": 15,
    "start_time": "2022-01-15T13:48:22.401Z"
   },
   {
    "duration": 14,
    "start_time": "2022-01-15T13:48:22.418Z"
   },
   {
    "duration": 2,
    "start_time": "2022-01-15T13:48:22.434Z"
   },
   {
    "duration": 61,
    "start_time": "2022-01-15T13:48:22.437Z"
   },
   {
    "duration": 4,
    "start_time": "2022-01-15T13:48:22.499Z"
   },
   {
    "duration": 13,
    "start_time": "2022-01-15T13:48:22.505Z"
   },
   {
    "duration": 12,
    "start_time": "2022-01-15T13:48:22.519Z"
   },
   {
    "duration": 11,
    "start_time": "2022-01-15T13:48:22.537Z"
   },
   {
    "duration": 11,
    "start_time": "2022-01-15T13:48:22.550Z"
   },
   {
    "duration": 19,
    "start_time": "2022-01-15T13:48:22.562Z"
   },
   {
    "duration": 23,
    "start_time": "2022-01-15T13:48:22.583Z"
   },
   {
    "duration": 16,
    "start_time": "2022-01-15T13:48:22.607Z"
   },
   {
    "duration": 40,
    "start_time": "2022-01-15T13:48:22.625Z"
   },
   {
    "duration": 9,
    "start_time": "2022-01-15T13:48:22.666Z"
   },
   {
    "duration": 45,
    "start_time": "2022-01-15T13:48:22.677Z"
   },
   {
    "duration": 7,
    "start_time": "2022-01-15T13:48:22.723Z"
   },
   {
    "duration": 8,
    "start_time": "2022-01-15T13:48:22.732Z"
   },
   {
    "duration": 13,
    "start_time": "2022-01-15T13:48:22.742Z"
   },
   {
    "duration": 2,
    "start_time": "2022-01-15T13:48:22.757Z"
   },
   {
    "duration": 35,
    "start_time": "2022-01-15T13:48:22.760Z"
   },
   {
    "duration": 20,
    "start_time": "2022-01-15T13:48:22.797Z"
   },
   {
    "duration": 32,
    "start_time": "2022-01-15T13:48:22.819Z"
   },
   {
    "duration": 61,
    "start_time": "2022-01-15T13:48:22.852Z"
   },
   {
    "duration": 16,
    "start_time": "2022-01-15T13:48:22.915Z"
   },
   {
    "duration": 36,
    "start_time": "2022-01-15T13:48:22.933Z"
   },
   {
    "duration": 19,
    "start_time": "2022-01-15T13:48:22.971Z"
   },
   {
    "duration": 26,
    "start_time": "2022-01-15T13:48:22.992Z"
   },
   {
    "duration": 14,
    "start_time": "2022-01-15T13:48:23.019Z"
   },
   {
    "duration": 8,
    "start_time": "2022-01-15T13:48:23.034Z"
   },
   {
    "duration": 180,
    "start_time": "2022-01-15T13:48:23.043Z"
   },
   {
    "duration": -1805,
    "start_time": "2022-01-15T13:48:25.030Z"
   },
   {
    "duration": -1856,
    "start_time": "2022-01-15T13:48:25.083Z"
   },
   {
    "duration": -1862,
    "start_time": "2022-01-15T13:48:25.090Z"
   },
   {
    "duration": -1863,
    "start_time": "2022-01-15T13:48:25.093Z"
   },
   {
    "duration": -1869,
    "start_time": "2022-01-15T13:48:25.100Z"
   },
   {
    "duration": -1871,
    "start_time": "2022-01-15T13:48:25.104Z"
   },
   {
    "duration": -1876,
    "start_time": "2022-01-15T13:48:25.110Z"
   },
   {
    "duration": -1879,
    "start_time": "2022-01-15T13:48:25.114Z"
   },
   {
    "duration": -1900,
    "start_time": "2022-01-15T13:48:25.137Z"
   },
   {
    "duration": -1926,
    "start_time": "2022-01-15T13:48:25.164Z"
   },
   {
    "duration": -1948,
    "start_time": "2022-01-15T13:48:25.187Z"
   },
   {
    "duration": -1950,
    "start_time": "2022-01-15T13:48:25.191Z"
   },
   {
    "duration": -1953,
    "start_time": "2022-01-15T13:48:25.195Z"
   },
   {
    "duration": -1955,
    "start_time": "2022-01-15T13:48:25.199Z"
   },
   {
    "duration": -1958,
    "start_time": "2022-01-15T13:48:25.203Z"
   },
   {
    "duration": -1961,
    "start_time": "2022-01-15T13:48:25.207Z"
   },
   {
    "duration": -1962,
    "start_time": "2022-01-15T13:48:25.210Z"
   },
   {
    "duration": -1973,
    "start_time": "2022-01-15T13:48:25.221Z"
   },
   {
    "duration": -1986,
    "start_time": "2022-01-15T13:48:25.235Z"
   },
   {
    "duration": -1989,
    "start_time": "2022-01-15T13:48:25.239Z"
   },
   {
    "duration": -1990,
    "start_time": "2022-01-15T13:48:25.242Z"
   },
   {
    "duration": -1993,
    "start_time": "2022-01-15T13:48:25.246Z"
   },
   {
    "duration": 50,
    "start_time": "2022-01-15T13:48:41.111Z"
   },
   {
    "duration": 59,
    "start_time": "2022-01-15T13:48:41.164Z"
   },
   {
    "duration": 3,
    "start_time": "2022-01-15T13:48:41.224Z"
   },
   {
    "duration": 14,
    "start_time": "2022-01-15T13:48:41.229Z"
   },
   {
    "duration": 11,
    "start_time": "2022-01-15T13:48:41.245Z"
   },
   {
    "duration": 3,
    "start_time": "2022-01-15T13:48:41.258Z"
   },
   {
    "duration": 3,
    "start_time": "2022-01-15T13:48:41.292Z"
   },
   {
    "duration": 4,
    "start_time": "2022-01-15T13:48:41.297Z"
   },
   {
    "duration": 4,
    "start_time": "2022-01-15T13:48:41.303Z"
   },
   {
    "duration": 9,
    "start_time": "2022-01-15T13:48:41.309Z"
   },
   {
    "duration": 3,
    "start_time": "2022-01-15T13:48:41.319Z"
   },
   {
    "duration": 7,
    "start_time": "2022-01-15T13:48:41.323Z"
   },
   {
    "duration": 7,
    "start_time": "2022-01-15T13:48:41.332Z"
   },
   {
    "duration": 2,
    "start_time": "2022-01-15T13:48:41.340Z"
   },
   {
    "duration": 38,
    "start_time": "2022-01-15T13:48:41.392Z"
   },
   {
    "duration": 2,
    "start_time": "2022-01-15T13:48:41.432Z"
   },
   {
    "duration": 12,
    "start_time": "2022-01-15T13:48:41.435Z"
   },
   {
    "duration": 4,
    "start_time": "2022-01-15T13:48:41.448Z"
   },
   {
    "duration": 6,
    "start_time": "2022-01-15T13:48:41.454Z"
   },
   {
    "duration": 35,
    "start_time": "2022-01-15T13:48:41.461Z"
   },
   {
    "duration": 4,
    "start_time": "2022-01-15T13:48:41.498Z"
   },
   {
    "duration": 4,
    "start_time": "2022-01-15T13:48:41.504Z"
   },
   {
    "duration": 4,
    "start_time": "2022-01-15T13:48:41.512Z"
   },
   {
    "duration": 4,
    "start_time": "2022-01-15T13:48:41.519Z"
   },
   {
    "duration": 5,
    "start_time": "2022-01-15T13:48:41.524Z"
   },
   {
    "duration": 5,
    "start_time": "2022-01-15T13:48:41.531Z"
   },
   {
    "duration": 4,
    "start_time": "2022-01-15T13:48:41.538Z"
   },
   {
    "duration": 55,
    "start_time": "2022-01-15T13:48:41.543Z"
   },
   {
    "duration": 5,
    "start_time": "2022-01-15T13:48:41.599Z"
   },
   {
    "duration": 5,
    "start_time": "2022-01-15T13:48:41.606Z"
   },
   {
    "duration": 20,
    "start_time": "2022-01-15T13:48:41.612Z"
   },
   {
    "duration": 5,
    "start_time": "2022-01-15T13:48:41.633Z"
   },
   {
    "duration": 6,
    "start_time": "2022-01-15T13:48:41.640Z"
   },
   {
    "duration": 46,
    "start_time": "2022-01-15T13:48:41.647Z"
   },
   {
    "duration": 7,
    "start_time": "2022-01-15T13:48:41.696Z"
   },
   {
    "duration": 8,
    "start_time": "2022-01-15T13:48:41.705Z"
   },
   {
    "duration": 8,
    "start_time": "2022-01-15T13:48:41.715Z"
   },
   {
    "duration": 5,
    "start_time": "2022-01-15T13:48:41.725Z"
   },
   {
    "duration": 7,
    "start_time": "2022-01-15T13:48:41.732Z"
   },
   {
    "duration": 64,
    "start_time": "2022-01-15T13:48:41.740Z"
   },
   {
    "duration": 6,
    "start_time": "2022-01-15T13:48:41.806Z"
   },
   {
    "duration": 15,
    "start_time": "2022-01-15T13:48:41.814Z"
   },
   {
    "duration": 5,
    "start_time": "2022-01-15T13:48:41.830Z"
   },
   {
    "duration": 5,
    "start_time": "2022-01-15T13:48:41.837Z"
   },
   {
    "duration": 19,
    "start_time": "2022-01-15T13:48:41.844Z"
   },
   {
    "duration": 32,
    "start_time": "2022-01-15T13:48:41.865Z"
   },
   {
    "duration": 13,
    "start_time": "2022-01-15T13:48:41.899Z"
   },
   {
    "duration": 4,
    "start_time": "2022-01-15T13:48:41.914Z"
   },
   {
    "duration": 11,
    "start_time": "2022-01-15T13:48:41.920Z"
   },
   {
    "duration": 7,
    "start_time": "2022-01-15T13:48:41.932Z"
   },
   {
    "duration": 7,
    "start_time": "2022-01-15T13:48:41.940Z"
   },
   {
    "duration": 2,
    "start_time": "2022-01-15T13:48:41.991Z"
   },
   {
    "duration": 16,
    "start_time": "2022-01-15T13:48:41.995Z"
   },
   {
    "duration": 3,
    "start_time": "2022-01-15T13:48:42.012Z"
   },
   {
    "duration": 11,
    "start_time": "2022-01-15T13:48:42.016Z"
   },
   {
    "duration": 19,
    "start_time": "2022-01-15T13:48:42.029Z"
   },
   {
    "duration": 13,
    "start_time": "2022-01-15T13:48:42.050Z"
   },
   {
    "duration": 30,
    "start_time": "2022-01-15T13:48:42.064Z"
   },
   {
    "duration": 17,
    "start_time": "2022-01-15T13:48:42.096Z"
   },
   {
    "duration": 13,
    "start_time": "2022-01-15T13:48:42.115Z"
   },
   {
    "duration": 14,
    "start_time": "2022-01-15T13:48:42.129Z"
   },
   {
    "duration": 14,
    "start_time": "2022-01-15T13:48:42.144Z"
   },
   {
    "duration": 33,
    "start_time": "2022-01-15T13:48:42.159Z"
   },
   {
    "duration": 41,
    "start_time": "2022-01-15T13:48:42.193Z"
   },
   {
    "duration": 4,
    "start_time": "2022-01-15T13:48:42.236Z"
   },
   {
    "duration": 14,
    "start_time": "2022-01-15T13:48:42.242Z"
   },
   {
    "duration": 15,
    "start_time": "2022-01-15T13:48:45.419Z"
   },
   {
    "duration": 3,
    "start_time": "2022-01-15T13:59:17.429Z"
   },
   {
    "duration": 3,
    "start_time": "2022-01-15T13:59:40.972Z"
   },
   {
    "duration": 3,
    "start_time": "2022-01-15T14:00:00.707Z"
   },
   {
    "duration": 3,
    "start_time": "2022-01-15T14:00:18.531Z"
   },
   {
    "duration": 3,
    "start_time": "2022-01-15T14:00:43.971Z"
   },
   {
    "duration": 3,
    "start_time": "2022-01-15T14:01:04.740Z"
   },
   {
    "duration": 3,
    "start_time": "2022-01-15T14:01:54.993Z"
   },
   {
    "duration": 3,
    "start_time": "2022-01-15T14:02:05.209Z"
   },
   {
    "duration": 3,
    "start_time": "2022-01-15T14:02:17.605Z"
   },
   {
    "duration": 9,
    "start_time": "2022-01-15T14:02:31.961Z"
   },
   {
    "duration": 8,
    "start_time": "2022-01-15T14:02:34.169Z"
   },
   {
    "duration": 15,
    "start_time": "2022-01-15T14:03:21.087Z"
   },
   {
    "duration": 3,
    "start_time": "2022-01-15T14:05:44.773Z"
   },
   {
    "duration": 3,
    "start_time": "2022-01-15T14:05:45.511Z"
   },
   {
    "duration": 8,
    "start_time": "2022-01-15T14:05:51.525Z"
   },
   {
    "duration": 13,
    "start_time": "2022-01-15T14:05:52.973Z"
   },
   {
    "duration": 3,
    "start_time": "2022-01-15T14:06:30.212Z"
   },
   {
    "duration": 15,
    "start_time": "2022-01-15T14:06:32.772Z"
   },
   {
    "duration": 9,
    "start_time": "2022-01-15T14:07:00.419Z"
   },
   {
    "duration": 15,
    "start_time": "2022-01-15T14:07:00.867Z"
   },
   {
    "duration": 3,
    "start_time": "2022-01-15T14:07:14.060Z"
   },
   {
    "duration": 4,
    "start_time": "2022-01-15T14:07:14.810Z"
   },
   {
    "duration": 9,
    "start_time": "2022-01-15T14:07:15.019Z"
   },
   {
    "duration": 14,
    "start_time": "2022-01-15T14:07:16.323Z"
   },
   {
    "duration": 3,
    "start_time": "2022-01-15T14:07:50.707Z"
   },
   {
    "duration": 3,
    "start_time": "2022-01-15T14:07:50.906Z"
   },
   {
    "duration": 9,
    "start_time": "2022-01-15T14:07:51.131Z"
   },
   {
    "duration": 15,
    "start_time": "2022-01-15T14:07:52.058Z"
   },
   {
    "duration": 3,
    "start_time": "2022-01-15T14:08:01.157Z"
   },
   {
    "duration": 4,
    "start_time": "2022-01-15T14:08:01.306Z"
   },
   {
    "duration": 10,
    "start_time": "2022-01-15T14:08:01.993Z"
   },
   {
    "duration": 15,
    "start_time": "2022-01-15T14:08:02.548Z"
   },
   {
    "duration": 15,
    "start_time": "2022-01-15T14:08:24.945Z"
   },
   {
    "duration": 63,
    "start_time": "2022-01-15T14:12:16.964Z"
   },
   {
    "duration": 66,
    "start_time": "2022-01-15T14:13:01.011Z"
   },
   {
    "duration": 57,
    "start_time": "2022-01-15T14:13:09.610Z"
   },
   {
    "duration": 14,
    "start_time": "2022-01-15T14:13:24.041Z"
   },
   {
    "duration": 180,
    "start_time": "2022-01-15T14:14:35.097Z"
   },
   {
    "duration": 962,
    "start_time": "2022-01-15T14:14:44.927Z"
   },
   {
    "duration": 7,
    "start_time": "2022-01-15T14:15:01.295Z"
   },
   {
    "duration": 18,
    "start_time": "2022-01-15T14:15:09.391Z"
   },
   {
    "duration": 31,
    "start_time": "2022-01-15T14:15:31.353Z"
   },
   {
    "duration": 13,
    "start_time": "2022-01-15T14:16:19.942Z"
   },
   {
    "duration": 7,
    "start_time": "2022-01-15T14:17:12.095Z"
   },
   {
    "duration": 21,
    "start_time": "2022-01-15T14:17:22.885Z"
   },
   {
    "duration": 25,
    "start_time": "2022-01-15T14:18:41.605Z"
   },
   {
    "duration": 11,
    "start_time": "2022-01-15T14:18:43.852Z"
   },
   {
    "duration": 3,
    "start_time": "2022-01-15T14:19:19.131Z"
   },
   {
    "duration": 12,
    "start_time": "2022-01-15T14:19:19.731Z"
   },
   {
    "duration": 11,
    "start_time": "2022-01-15T14:20:29.490Z"
   },
   {
    "duration": 61,
    "start_time": "2022-01-15T14:22:13.235Z"
   },
   {
    "duration": 60,
    "start_time": "2022-01-15T14:22:33.318Z"
   },
   {
    "duration": 11,
    "start_time": "2022-01-15T14:22:55.039Z"
   },
   {
    "duration": 12,
    "start_time": "2022-01-15T14:23:10.326Z"
   },
   {
    "duration": 229,
    "start_time": "2022-01-15T14:23:51.654Z"
   },
   {
    "duration": 17,
    "start_time": "2022-01-15T14:24:01.485Z"
   },
   {
    "duration": 19,
    "start_time": "2022-01-15T14:28:36.990Z"
   },
   {
    "duration": 23,
    "start_time": "2022-01-15T14:29:06.919Z"
   },
   {
    "duration": 8,
    "start_time": "2022-01-15T14:29:29.093Z"
   },
   {
    "duration": 4,
    "start_time": "2022-01-15T14:34:36.882Z"
   },
   {
    "duration": 53,
    "start_time": "2022-01-15T14:35:07.540Z"
   },
   {
    "duration": 61,
    "start_time": "2022-01-15T14:35:07.594Z"
   },
   {
    "duration": 3,
    "start_time": "2022-01-15T14:35:07.657Z"
   },
   {
    "duration": 43,
    "start_time": "2022-01-15T14:35:07.662Z"
   },
   {
    "duration": 12,
    "start_time": "2022-01-15T14:35:07.706Z"
   },
   {
    "duration": 7,
    "start_time": "2022-01-15T14:35:07.719Z"
   },
   {
    "duration": 5,
    "start_time": "2022-01-15T14:35:07.727Z"
   },
   {
    "duration": 9,
    "start_time": "2022-01-15T14:35:07.734Z"
   },
   {
    "duration": 4,
    "start_time": "2022-01-15T14:35:07.745Z"
   },
   {
    "duration": 46,
    "start_time": "2022-01-15T14:35:07.751Z"
   },
   {
    "duration": 3,
    "start_time": "2022-01-15T14:35:07.799Z"
   },
   {
    "duration": 8,
    "start_time": "2022-01-15T14:35:07.804Z"
   },
   {
    "duration": 8,
    "start_time": "2022-01-15T14:35:07.813Z"
   },
   {
    "duration": 2,
    "start_time": "2022-01-15T14:35:07.822Z"
   },
   {
    "duration": 72,
    "start_time": "2022-01-15T14:35:07.826Z"
   },
   {
    "duration": 2,
    "start_time": "2022-01-15T14:35:07.900Z"
   },
   {
    "duration": 13,
    "start_time": "2022-01-15T14:35:07.904Z"
   },
   {
    "duration": 4,
    "start_time": "2022-01-15T14:35:07.918Z"
   },
   {
    "duration": 5,
    "start_time": "2022-01-15T14:35:07.924Z"
   },
   {
    "duration": 6,
    "start_time": "2022-01-15T14:35:07.930Z"
   },
   {
    "duration": 4,
    "start_time": "2022-01-15T14:35:07.938Z"
   },
   {
    "duration": 5,
    "start_time": "2022-01-15T14:35:07.943Z"
   },
   {
    "duration": 4,
    "start_time": "2022-01-15T14:35:07.992Z"
   },
   {
    "duration": 6,
    "start_time": "2022-01-15T14:35:07.999Z"
   },
   {
    "duration": 8,
    "start_time": "2022-01-15T14:35:08.006Z"
   },
   {
    "duration": 6,
    "start_time": "2022-01-15T14:35:08.016Z"
   },
   {
    "duration": 4,
    "start_time": "2022-01-15T14:35:08.024Z"
   },
   {
    "duration": 10,
    "start_time": "2022-01-15T14:35:08.030Z"
   },
   {
    "duration": 4,
    "start_time": "2022-01-15T14:35:08.042Z"
   },
   {
    "duration": 7,
    "start_time": "2022-01-15T14:35:08.047Z"
   },
   {
    "duration": 52,
    "start_time": "2022-01-15T14:35:08.056Z"
   },
   {
    "duration": 7,
    "start_time": "2022-01-15T14:35:08.109Z"
   },
   {
    "duration": 7,
    "start_time": "2022-01-15T14:35:08.117Z"
   },
   {
    "duration": 7,
    "start_time": "2022-01-15T14:35:08.126Z"
   },
   {
    "duration": 9,
    "start_time": "2022-01-15T14:35:08.135Z"
   },
   {
    "duration": 8,
    "start_time": "2022-01-15T14:35:08.146Z"
   },
   {
    "duration": 37,
    "start_time": "2022-01-15T14:35:08.156Z"
   },
   {
    "duration": 5,
    "start_time": "2022-01-15T14:35:08.195Z"
   },
   {
    "duration": 7,
    "start_time": "2022-01-15T14:35:08.201Z"
   },
   {
    "duration": 13,
    "start_time": "2022-01-15T14:35:08.210Z"
   },
   {
    "duration": 6,
    "start_time": "2022-01-15T14:35:08.225Z"
   },
   {
    "duration": 8,
    "start_time": "2022-01-15T14:35:08.233Z"
   },
   {
    "duration": 50,
    "start_time": "2022-01-15T14:35:08.243Z"
   },
   {
    "duration": 5,
    "start_time": "2022-01-15T14:35:08.294Z"
   },
   {
    "duration": 7,
    "start_time": "2022-01-15T14:35:08.301Z"
   },
   {
    "duration": 6,
    "start_time": "2022-01-15T14:35:08.309Z"
   },
   {
    "duration": 13,
    "start_time": "2022-01-15T14:35:08.317Z"
   },
   {
    "duration": 4,
    "start_time": "2022-01-15T14:35:08.332Z"
   },
   {
    "duration": 10,
    "start_time": "2022-01-15T14:35:08.338Z"
   },
   {
    "duration": 49,
    "start_time": "2022-01-15T14:35:08.350Z"
   },
   {
    "duration": 9,
    "start_time": "2022-01-15T14:35:08.401Z"
   },
   {
    "duration": 4,
    "start_time": "2022-01-15T14:35:08.412Z"
   },
   {
    "duration": 13,
    "start_time": "2022-01-15T14:35:08.418Z"
   },
   {
    "duration": 3,
    "start_time": "2022-01-15T14:35:08.433Z"
   },
   {
    "duration": 8,
    "start_time": "2022-01-15T14:35:08.438Z"
   },
   {
    "duration": 58,
    "start_time": "2022-01-15T14:35:08.448Z"
   },
   {
    "duration": 15,
    "start_time": "2022-01-15T14:35:08.508Z"
   },
   {
    "duration": 6,
    "start_time": "2022-01-15T14:35:08.525Z"
   },
   {
    "duration": 19,
    "start_time": "2022-01-15T14:35:08.533Z"
   },
   {
    "duration": 43,
    "start_time": "2022-01-15T14:35:08.553Z"
   },
   {
    "duration": 16,
    "start_time": "2022-01-15T14:35:08.597Z"
   },
   {
    "duration": 14,
    "start_time": "2022-01-15T14:35:08.614Z"
   },
   {
    "duration": 2,
    "start_time": "2022-01-15T14:35:08.630Z"
   },
   {
    "duration": 63,
    "start_time": "2022-01-15T14:35:08.633Z"
   },
   {
    "duration": 4,
    "start_time": "2022-01-15T14:35:08.698Z"
   },
   {
    "duration": 16,
    "start_time": "2022-01-15T14:35:08.703Z"
   },
   {
    "duration": 14,
    "start_time": "2022-01-15T14:35:08.720Z"
   },
   {
    "duration": 2,
    "start_time": "2022-01-15T14:35:08.739Z"
   },
   {
    "duration": 4,
    "start_time": "2022-01-15T14:35:08.743Z"
   },
   {
    "duration": 5,
    "start_time": "2022-01-15T14:35:08.749Z"
   },
   {
    "duration": 39,
    "start_time": "2022-01-15T14:35:08.755Z"
   },
   {
    "duration": 15,
    "start_time": "2022-01-15T14:35:08.795Z"
   },
   {
    "duration": 17,
    "start_time": "2022-01-15T14:35:08.812Z"
   },
   {
    "duration": 6,
    "start_time": "2022-01-15T14:35:08.831Z"
   },
   {
    "duration": 54,
    "start_time": "2022-01-15T14:35:08.839Z"
   },
   {
    "duration": 10,
    "start_time": "2022-01-15T14:35:08.895Z"
   },
   {
    "duration": 2,
    "start_time": "2022-01-15T14:35:08.906Z"
   },
   {
    "duration": 13,
    "start_time": "2022-01-15T14:35:08.910Z"
   },
   {
    "duration": 2,
    "start_time": "2022-01-15T14:35:08.924Z"
   },
   {
    "duration": 15,
    "start_time": "2022-01-15T14:35:08.928Z"
   },
   {
    "duration": 2,
    "start_time": "2022-01-15T14:35:08.944Z"
   },
   {
    "duration": 5,
    "start_time": "2022-01-15T14:35:08.948Z"
   },
   {
    "duration": 9,
    "start_time": "2022-01-15T14:35:08.991Z"
   },
   {
    "duration": 2,
    "start_time": "2022-01-15T14:35:09.002Z"
   },
   {
    "duration": 11,
    "start_time": "2022-01-15T14:35:09.006Z"
   },
   {
    "duration": 11,
    "start_time": "2022-01-15T14:35:09.019Z"
   },
   {
    "duration": 10,
    "start_time": "2022-01-15T14:35:09.032Z"
   },
   {
    "duration": 176,
    "start_time": "2022-01-15T14:38:23.726Z"
   },
   {
    "duration": 5,
    "start_time": "2022-01-15T14:38:34.035Z"
   },
   {
    "duration": 5,
    "start_time": "2022-01-15T14:39:23.203Z"
   },
   {
    "duration": 5,
    "start_time": "2022-01-15T14:39:23.771Z"
   },
   {
    "duration": 5,
    "start_time": "2022-01-15T14:39:24.948Z"
   },
   {
    "duration": 3,
    "start_time": "2022-01-15T14:39:25.366Z"
   },
   {
    "duration": 50,
    "start_time": "2022-01-15T14:53:26.240Z"
   },
   {
    "duration": 63,
    "start_time": "2022-01-15T14:53:26.292Z"
   },
   {
    "duration": 3,
    "start_time": "2022-01-15T14:53:26.356Z"
   },
   {
    "duration": 14,
    "start_time": "2022-01-15T14:53:26.391Z"
   },
   {
    "duration": 11,
    "start_time": "2022-01-15T14:53:26.406Z"
   },
   {
    "duration": 4,
    "start_time": "2022-01-15T14:53:26.418Z"
   },
   {
    "duration": 5,
    "start_time": "2022-01-15T14:53:26.423Z"
   },
   {
    "duration": 4,
    "start_time": "2022-01-15T14:53:26.430Z"
   },
   {
    "duration": 4,
    "start_time": "2022-01-15T14:53:26.436Z"
   },
   {
    "duration": 14,
    "start_time": "2022-01-15T14:53:26.441Z"
   },
   {
    "duration": 9,
    "start_time": "2022-01-15T14:53:26.457Z"
   },
   {
    "duration": 57,
    "start_time": "2022-01-15T14:53:26.492Z"
   },
   {
    "duration": 7,
    "start_time": "2022-01-15T14:53:26.551Z"
   },
   {
    "duration": 4,
    "start_time": "2022-01-15T14:53:26.559Z"
   },
   {
    "duration": 57,
    "start_time": "2022-01-15T14:53:26.564Z"
   },
   {
    "duration": 2,
    "start_time": "2022-01-15T14:53:26.624Z"
   },
   {
    "duration": 35,
    "start_time": "2022-01-15T14:53:26.627Z"
   },
   {
    "duration": 22,
    "start_time": "2022-01-15T14:53:26.663Z"
   },
   {
    "duration": 21,
    "start_time": "2022-01-15T14:53:26.687Z"
   },
   {
    "duration": 22,
    "start_time": "2022-01-15T14:53:26.710Z"
   },
   {
    "duration": 19,
    "start_time": "2022-01-15T14:53:26.734Z"
   },
   {
    "duration": 25,
    "start_time": "2022-01-15T14:53:26.754Z"
   },
   {
    "duration": 17,
    "start_time": "2022-01-15T14:53:26.782Z"
   },
   {
    "duration": 21,
    "start_time": "2022-01-15T14:53:26.801Z"
   },
   {
    "duration": 20,
    "start_time": "2022-01-15T14:53:26.824Z"
   },
   {
    "duration": 18,
    "start_time": "2022-01-15T14:53:26.845Z"
   },
   {
    "duration": 23,
    "start_time": "2022-01-15T14:53:26.865Z"
   },
   {
    "duration": 21,
    "start_time": "2022-01-15T14:53:26.889Z"
   },
   {
    "duration": 16,
    "start_time": "2022-01-15T14:53:26.912Z"
   },
   {
    "duration": 23,
    "start_time": "2022-01-15T14:53:26.929Z"
   },
   {
    "duration": 18,
    "start_time": "2022-01-15T14:53:26.954Z"
   },
   {
    "duration": 5,
    "start_time": "2022-01-15T14:53:26.973Z"
   },
   {
    "duration": 9,
    "start_time": "2022-01-15T14:53:26.979Z"
   },
   {
    "duration": 8,
    "start_time": "2022-01-15T14:53:26.989Z"
   },
   {
    "duration": 6,
    "start_time": "2022-01-15T14:53:26.999Z"
   },
   {
    "duration": 7,
    "start_time": "2022-01-15T14:53:27.006Z"
   },
   {
    "duration": 9,
    "start_time": "2022-01-15T14:53:27.014Z"
   },
   {
    "duration": 4,
    "start_time": "2022-01-15T14:53:27.024Z"
   },
   {
    "duration": 10,
    "start_time": "2022-01-15T14:53:27.030Z"
   },
   {
    "duration": 6,
    "start_time": "2022-01-15T14:53:30.292Z"
   },
   {
    "duration": 4,
    "start_time": "2022-01-15T14:53:31.325Z"
   },
   {
    "duration": 443,
    "start_time": "2022-01-15T14:54:34.441Z"
   },
   {
    "duration": 4,
    "start_time": "2022-01-15T14:54:48.153Z"
   },
   {
    "duration": 7,
    "start_time": "2022-01-15T14:55:16.395Z"
   },
   {
    "duration": 56,
    "start_time": "2022-01-15T14:55:57.888Z"
   },
   {
    "duration": 86,
    "start_time": "2022-01-15T14:55:57.946Z"
   },
   {
    "duration": 3,
    "start_time": "2022-01-15T14:55:58.034Z"
   },
   {
    "duration": 45,
    "start_time": "2022-01-15T14:55:58.039Z"
   },
   {
    "duration": 30,
    "start_time": "2022-01-15T14:55:58.086Z"
   },
   {
    "duration": 14,
    "start_time": "2022-01-15T14:55:58.118Z"
   },
   {
    "duration": 22,
    "start_time": "2022-01-15T14:55:58.134Z"
   },
   {
    "duration": 49,
    "start_time": "2022-01-15T14:55:58.158Z"
   },
   {
    "duration": 33,
    "start_time": "2022-01-15T14:55:58.210Z"
   },
   {
    "duration": 30,
    "start_time": "2022-01-15T14:55:58.245Z"
   },
   {
    "duration": 13,
    "start_time": "2022-01-15T14:55:58.277Z"
   },
   {
    "duration": 20,
    "start_time": "2022-01-15T14:55:58.291Z"
   },
   {
    "duration": 13,
    "start_time": "2022-01-15T14:55:58.313Z"
   },
   {
    "duration": 16,
    "start_time": "2022-01-15T14:55:58.327Z"
   },
   {
    "duration": 49,
    "start_time": "2022-01-15T14:55:58.344Z"
   },
   {
    "duration": 3,
    "start_time": "2022-01-15T14:55:58.395Z"
   },
   {
    "duration": 25,
    "start_time": "2022-01-15T14:55:58.399Z"
   },
   {
    "duration": 11,
    "start_time": "2022-01-15T14:55:58.426Z"
   },
   {
    "duration": 12,
    "start_time": "2022-01-15T14:55:58.439Z"
   },
   {
    "duration": 22,
    "start_time": "2022-01-15T14:55:58.452Z"
   },
   {
    "duration": 23,
    "start_time": "2022-01-15T14:55:58.476Z"
   },
   {
    "duration": 28,
    "start_time": "2022-01-15T14:55:58.501Z"
   },
   {
    "duration": 14,
    "start_time": "2022-01-15T14:55:58.532Z"
   },
   {
    "duration": 13,
    "start_time": "2022-01-15T14:55:58.548Z"
   },
   {
    "duration": 13,
    "start_time": "2022-01-15T14:55:58.563Z"
   },
   {
    "duration": 12,
    "start_time": "2022-01-15T14:55:58.578Z"
   },
   {
    "duration": 23,
    "start_time": "2022-01-15T14:55:58.592Z"
   },
   {
    "duration": 34,
    "start_time": "2022-01-15T14:55:58.617Z"
   },
   {
    "duration": 10,
    "start_time": "2022-01-15T14:55:58.653Z"
   },
   {
    "duration": 14,
    "start_time": "2022-01-15T14:55:58.665Z"
   },
   {
    "duration": 27,
    "start_time": "2022-01-15T14:55:58.680Z"
   },
   {
    "duration": 22,
    "start_time": "2022-01-15T14:55:58.708Z"
   },
   {
    "duration": 16,
    "start_time": "2022-01-15T14:55:58.731Z"
   },
   {
    "duration": 24,
    "start_time": "2022-01-15T14:55:58.749Z"
   },
   {
    "duration": 36,
    "start_time": "2022-01-15T14:55:58.775Z"
   },
   {
    "duration": 28,
    "start_time": "2022-01-15T14:55:58.813Z"
   },
   {
    "duration": 16,
    "start_time": "2022-01-15T14:55:58.843Z"
   },
   {
    "duration": 16,
    "start_time": "2022-01-15T14:55:58.861Z"
   },
   {
    "duration": 20,
    "start_time": "2022-01-15T14:55:58.880Z"
   },
   {
    "duration": 7,
    "start_time": "2022-01-15T14:56:00.976Z"
   },
   {
    "duration": 202,
    "start_time": "2022-01-15T14:57:28.285Z"
   },
   {
    "duration": 705,
    "start_time": "2022-01-15T14:58:46.117Z"
   },
   {
    "duration": 714,
    "start_time": "2022-01-15T14:59:18.436Z"
   },
   {
    "duration": 5,
    "start_time": "2022-01-15T15:00:21.474Z"
   },
   {
    "duration": 5,
    "start_time": "2022-01-15T15:00:34.034Z"
   },
   {
    "duration": 6,
    "start_time": "2022-01-15T15:00:49.385Z"
   },
   {
    "duration": 6,
    "start_time": "2022-01-15T15:01:10.376Z"
   },
   {
    "duration": 65,
    "start_time": "2022-01-15T15:01:49.481Z"
   },
   {
    "duration": 693,
    "start_time": "2022-01-15T15:02:41.104Z"
   },
   {
    "duration": 684,
    "start_time": "2022-01-15T15:02:57.647Z"
   },
   {
    "duration": 656,
    "start_time": "2022-01-15T15:03:17.414Z"
   },
   {
    "duration": 7,
    "start_time": "2022-01-15T15:04:11.817Z"
   },
   {
    "duration": 10,
    "start_time": "2022-01-15T15:04:54.357Z"
   },
   {
    "duration": 7,
    "start_time": "2022-01-15T15:05:09.733Z"
   },
   {
    "duration": 12,
    "start_time": "2022-01-15T15:06:34.637Z"
   },
   {
    "duration": 9,
    "start_time": "2022-01-15T15:06:54.467Z"
   },
   {
    "duration": 172,
    "start_time": "2022-01-15T15:08:48.404Z"
   },
   {
    "duration": 216,
    "start_time": "2022-01-15T15:08:54.152Z"
   },
   {
    "duration": 11,
    "start_time": "2022-01-15T15:09:00.256Z"
   },
   {
    "duration": 8,
    "start_time": "2022-01-15T15:09:38.800Z"
   },
   {
    "duration": 9,
    "start_time": "2022-01-15T15:09:47.776Z"
   },
   {
    "duration": 11,
    "start_time": "2022-01-15T15:10:01.679Z"
   },
   {
    "duration": 54,
    "start_time": "2022-01-15T15:12:25.494Z"
   },
   {
    "duration": 3,
    "start_time": "2022-01-15T15:12:50.876Z"
   },
   {
    "duration": 54,
    "start_time": "2022-01-15T15:14:01.654Z"
   },
   {
    "duration": 91,
    "start_time": "2022-01-15T15:14:01.709Z"
   },
   {
    "duration": 3,
    "start_time": "2022-01-15T15:14:01.802Z"
   },
   {
    "duration": 14,
    "start_time": "2022-01-15T15:14:01.806Z"
   },
   {
    "duration": 15,
    "start_time": "2022-01-15T15:14:01.822Z"
   },
   {
    "duration": 8,
    "start_time": "2022-01-15T15:14:01.839Z"
   },
   {
    "duration": 15,
    "start_time": "2022-01-15T15:14:01.849Z"
   },
   {
    "duration": 30,
    "start_time": "2022-01-15T15:14:01.866Z"
   },
   {
    "duration": 10,
    "start_time": "2022-01-15T15:14:01.899Z"
   },
   {
    "duration": 10,
    "start_time": "2022-01-15T15:14:01.911Z"
   },
   {
    "duration": 4,
    "start_time": "2022-01-15T15:14:01.923Z"
   },
   {
    "duration": 12,
    "start_time": "2022-01-15T15:14:01.929Z"
   },
   {
    "duration": 18,
    "start_time": "2022-01-15T15:14:01.943Z"
   },
   {
    "duration": 30,
    "start_time": "2022-01-15T15:14:01.963Z"
   },
   {
    "duration": 61,
    "start_time": "2022-01-15T15:14:01.996Z"
   },
   {
    "duration": 3,
    "start_time": "2022-01-15T15:14:02.058Z"
   },
   {
    "duration": 18,
    "start_time": "2022-01-15T15:14:02.063Z"
   },
   {
    "duration": 9,
    "start_time": "2022-01-15T15:14:02.083Z"
   },
   {
    "duration": 7,
    "start_time": "2022-01-15T15:14:02.093Z"
   },
   {
    "duration": 8,
    "start_time": "2022-01-15T15:14:02.102Z"
   },
   {
    "duration": 7,
    "start_time": "2022-01-15T15:14:02.112Z"
   },
   {
    "duration": 8,
    "start_time": "2022-01-15T15:14:02.121Z"
   },
   {
    "duration": 6,
    "start_time": "2022-01-15T15:14:02.133Z"
   },
   {
    "duration": 5,
    "start_time": "2022-01-15T15:14:02.142Z"
   },
   {
    "duration": 11,
    "start_time": "2022-01-15T15:14:02.149Z"
   },
   {
    "duration": 33,
    "start_time": "2022-01-15T15:14:02.162Z"
   },
   {
    "duration": 5,
    "start_time": "2022-01-15T15:14:02.196Z"
   },
   {
    "duration": 11,
    "start_time": "2022-01-15T15:14:02.202Z"
   },
   {
    "duration": 6,
    "start_time": "2022-01-15T15:14:02.215Z"
   },
   {
    "duration": 5,
    "start_time": "2022-01-15T15:14:02.223Z"
   },
   {
    "duration": 24,
    "start_time": "2022-01-15T15:14:02.230Z"
   },
   {
    "duration": 39,
    "start_time": "2022-01-15T15:14:02.256Z"
   },
   {
    "duration": 16,
    "start_time": "2022-01-15T15:14:02.297Z"
   },
   {
    "duration": 14,
    "start_time": "2022-01-15T15:14:02.315Z"
   },
   {
    "duration": 18,
    "start_time": "2022-01-15T15:14:02.331Z"
   },
   {
    "duration": 26,
    "start_time": "2022-01-15T15:14:02.351Z"
   },
   {
    "duration": 16,
    "start_time": "2022-01-15T15:14:02.379Z"
   },
   {
    "duration": 18,
    "start_time": "2022-01-15T15:14:02.397Z"
   },
   {
    "duration": 21,
    "start_time": "2022-01-15T15:14:02.417Z"
   },
   {
    "duration": 29,
    "start_time": "2022-01-15T15:14:02.440Z"
   },
   {
    "duration": 7,
    "start_time": "2022-01-15T15:14:02.470Z"
   },
   {
    "duration": 27,
    "start_time": "2022-01-15T15:14:02.478Z"
   },
   {
    "duration": 20,
    "start_time": "2022-01-15T15:14:02.506Z"
   },
   {
    "duration": 14,
    "start_time": "2022-01-15T15:14:02.527Z"
   },
   {
    "duration": 16,
    "start_time": "2022-01-15T15:14:02.543Z"
   },
   {
    "duration": 21,
    "start_time": "2022-01-15T15:14:02.560Z"
   },
   {
    "duration": 25,
    "start_time": "2022-01-15T15:14:02.583Z"
   },
   {
    "duration": 6,
    "start_time": "2022-01-15T15:14:02.610Z"
   },
   {
    "duration": 15,
    "start_time": "2022-01-15T15:14:02.617Z"
   },
   {
    "duration": 13,
    "start_time": "2022-01-15T15:14:02.634Z"
   },
   {
    "duration": 35,
    "start_time": "2022-01-15T15:14:02.649Z"
   },
   {
    "duration": 4,
    "start_time": "2022-01-15T15:14:02.686Z"
   },
   {
    "duration": 16,
    "start_time": "2022-01-15T15:14:02.691Z"
   },
   {
    "duration": 3,
    "start_time": "2022-01-15T15:14:02.708Z"
   },
   {
    "duration": 12,
    "start_time": "2022-01-15T15:14:02.712Z"
   },
   {
    "duration": 21,
    "start_time": "2022-01-15T15:14:02.726Z"
   },
   {
    "duration": 15,
    "start_time": "2022-01-15T15:14:02.748Z"
   },
   {
    "duration": 31,
    "start_time": "2022-01-15T15:14:02.765Z"
   },
   {
    "duration": 17,
    "start_time": "2022-01-15T15:14:02.798Z"
   },
   {
    "duration": 14,
    "start_time": "2022-01-15T15:14:02.816Z"
   },
   {
    "duration": 14,
    "start_time": "2022-01-15T15:14:02.831Z"
   },
   {
    "duration": 15,
    "start_time": "2022-01-15T15:14:02.847Z"
   },
   {
    "duration": 2,
    "start_time": "2022-01-15T15:14:02.892Z"
   },
   {
    "duration": 43,
    "start_time": "2022-01-15T15:14:02.896Z"
   },
   {
    "duration": 4,
    "start_time": "2022-01-15T15:14:02.940Z"
   },
   {
    "duration": 20,
    "start_time": "2022-01-15T15:14:02.946Z"
   },
   {
    "duration": 33,
    "start_time": "2022-01-15T15:14:02.967Z"
   },
   {
    "duration": 17,
    "start_time": "2022-01-15T15:14:03.005Z"
   },
   {
    "duration": 5,
    "start_time": "2022-01-15T15:14:03.024Z"
   },
   {
    "duration": 16,
    "start_time": "2022-01-15T15:14:03.030Z"
   },
   {
    "duration": 21,
    "start_time": "2022-01-15T15:14:03.048Z"
   },
   {
    "duration": 23,
    "start_time": "2022-01-15T15:14:03.071Z"
   },
   {
    "duration": 18,
    "start_time": "2022-01-15T15:14:03.096Z"
   },
   {
    "duration": 4,
    "start_time": "2022-01-15T15:14:03.116Z"
   },
   {
    "duration": 40,
    "start_time": "2022-01-15T15:14:03.121Z"
   },
   {
    "duration": 6,
    "start_time": "2022-01-15T15:14:03.163Z"
   },
   {
    "duration": 4,
    "start_time": "2022-01-15T15:14:03.171Z"
   },
   {
    "duration": 24,
    "start_time": "2022-01-15T15:14:03.177Z"
   },
   {
    "duration": 3,
    "start_time": "2022-01-15T15:14:03.203Z"
   },
   {
    "duration": 24,
    "start_time": "2022-01-15T15:14:03.208Z"
   },
   {
    "duration": 11,
    "start_time": "2022-01-15T15:14:03.233Z"
   },
   {
    "duration": 11,
    "start_time": "2022-01-15T15:14:03.246Z"
   },
   {
    "duration": 7,
    "start_time": "2022-01-15T15:14:03.259Z"
   },
   {
    "duration": 20,
    "start_time": "2022-01-15T15:14:03.268Z"
   },
   {
    "duration": 17,
    "start_time": "2022-01-15T15:14:03.289Z"
   },
   {
    "duration": 23,
    "start_time": "2022-01-15T15:14:03.307Z"
   },
   {
    "duration": 12,
    "start_time": "2022-01-15T15:14:06.507Z"
   },
   {
    "duration": 2,
    "start_time": "2022-01-15T15:14:29.836Z"
   },
   {
    "duration": 5,
    "start_time": "2022-01-15T15:14:30.706Z"
   },
   {
    "duration": 4,
    "start_time": "2022-01-15T15:16:08.338Z"
   },
   {
    "duration": 10,
    "start_time": "2022-01-15T15:16:29.336Z"
   },
   {
    "duration": 4,
    "start_time": "2022-01-15T15:16:40.951Z"
   },
   {
    "duration": 7,
    "start_time": "2022-01-15T15:17:01.366Z"
   },
   {
    "duration": 7,
    "start_time": "2022-01-15T15:25:21.886Z"
   },
   {
    "duration": 54,
    "start_time": "2022-01-15T15:25:39.022Z"
   },
   {
    "duration": 62,
    "start_time": "2022-01-15T15:25:39.079Z"
   },
   {
    "duration": 2,
    "start_time": "2022-01-15T15:25:39.143Z"
   },
   {
    "duration": 14,
    "start_time": "2022-01-15T15:25:39.147Z"
   },
   {
    "duration": 11,
    "start_time": "2022-01-15T15:25:39.191Z"
   },
   {
    "duration": 4,
    "start_time": "2022-01-15T15:25:39.204Z"
   },
   {
    "duration": 4,
    "start_time": "2022-01-15T15:25:39.210Z"
   },
   {
    "duration": 5,
    "start_time": "2022-01-15T15:25:39.216Z"
   },
   {
    "duration": 4,
    "start_time": "2022-01-15T15:25:39.223Z"
   },
   {
    "duration": 9,
    "start_time": "2022-01-15T15:25:39.229Z"
   },
   {
    "duration": 53,
    "start_time": "2022-01-15T15:25:39.239Z"
   },
   {
    "duration": 8,
    "start_time": "2022-01-15T15:25:39.294Z"
   },
   {
    "duration": 7,
    "start_time": "2022-01-15T15:25:39.304Z"
   },
   {
    "duration": 2,
    "start_time": "2022-01-15T15:25:39.312Z"
   },
   {
    "duration": 76,
    "start_time": "2022-01-15T15:25:39.316Z"
   },
   {
    "duration": 2,
    "start_time": "2022-01-15T15:25:39.394Z"
   },
   {
    "duration": 12,
    "start_time": "2022-01-15T15:25:39.398Z"
   },
   {
    "duration": 4,
    "start_time": "2022-01-15T15:25:39.411Z"
   },
   {
    "duration": 5,
    "start_time": "2022-01-15T15:25:39.417Z"
   },
   {
    "duration": 6,
    "start_time": "2022-01-15T15:25:39.423Z"
   },
   {
    "duration": 4,
    "start_time": "2022-01-15T15:25:39.431Z"
   },
   {
    "duration": 6,
    "start_time": "2022-01-15T15:25:39.436Z"
   },
   {
    "duration": 47,
    "start_time": "2022-01-15T15:25:39.446Z"
   },
   {
    "duration": 5,
    "start_time": "2022-01-15T15:25:39.495Z"
   },
   {
    "duration": 5,
    "start_time": "2022-01-15T15:25:39.501Z"
   },
   {
    "duration": 8,
    "start_time": "2022-01-15T15:25:39.508Z"
   },
   {
    "duration": 4,
    "start_time": "2022-01-15T15:25:39.518Z"
   },
   {
    "duration": 10,
    "start_time": "2022-01-15T15:25:39.523Z"
   },
   {
    "duration": 4,
    "start_time": "2022-01-15T15:25:39.535Z"
   },
   {
    "duration": 10,
    "start_time": "2022-01-15T15:25:39.541Z"
   },
   {
    "duration": 55,
    "start_time": "2022-01-15T15:25:39.552Z"
   },
   {
    "duration": 5,
    "start_time": "2022-01-15T15:25:39.609Z"
   },
   {
    "duration": 5,
    "start_time": "2022-01-15T15:25:39.615Z"
   },
   {
    "duration": 6,
    "start_time": "2022-01-15T15:25:39.622Z"
   },
   {
    "duration": 6,
    "start_time": "2022-01-15T15:25:39.630Z"
   },
   {
    "duration": 7,
    "start_time": "2022-01-15T15:25:39.637Z"
   },
   {
    "duration": 46,
    "start_time": "2022-01-15T15:25:39.646Z"
   },
   {
    "duration": 5,
    "start_time": "2022-01-15T15:25:39.693Z"
   },
   {
    "duration": 8,
    "start_time": "2022-01-15T15:25:39.700Z"
   },
   {
    "duration": 11,
    "start_time": "2022-01-15T15:25:39.710Z"
   },
   {
    "duration": 7,
    "start_time": "2022-01-15T15:25:39.723Z"
   },
   {
    "duration": 7,
    "start_time": "2022-01-15T15:25:39.731Z"
   },
   {
    "duration": 5,
    "start_time": "2022-01-15T15:25:39.740Z"
   },
   {
    "duration": 48,
    "start_time": "2022-01-15T15:25:39.747Z"
   },
   {
    "duration": 7,
    "start_time": "2022-01-15T15:25:39.797Z"
   },
   {
    "duration": 7,
    "start_time": "2022-01-15T15:25:39.806Z"
   },
   {
    "duration": 13,
    "start_time": "2022-01-15T15:25:39.815Z"
   },
   {
    "duration": 5,
    "start_time": "2022-01-15T15:25:39.830Z"
   },
   {
    "duration": 12,
    "start_time": "2022-01-15T15:25:39.836Z"
   },
   {
    "duration": 7,
    "start_time": "2022-01-15T15:25:39.849Z"
   },
   {
    "duration": 8,
    "start_time": "2022-01-15T15:25:39.892Z"
   },
   {
    "duration": 4,
    "start_time": "2022-01-15T15:25:39.901Z"
   },
   {
    "duration": 12,
    "start_time": "2022-01-15T15:25:39.907Z"
   },
   {
    "duration": 2,
    "start_time": "2022-01-15T15:25:39.921Z"
   },
   {
    "duration": 9,
    "start_time": "2022-01-15T15:25:39.925Z"
   },
   {
    "duration": 20,
    "start_time": "2022-01-15T15:25:39.935Z"
   },
   {
    "duration": 45,
    "start_time": "2022-01-15T15:25:39.957Z"
   },
   {
    "duration": 8,
    "start_time": "2022-01-15T15:25:40.004Z"
   },
   {
    "duration": 19,
    "start_time": "2022-01-15T15:25:40.013Z"
   },
   {
    "duration": 14,
    "start_time": "2022-01-15T15:25:40.034Z"
   },
   {
    "duration": 44,
    "start_time": "2022-01-15T15:25:40.050Z"
   },
   {
    "duration": 16,
    "start_time": "2022-01-15T15:25:40.096Z"
   },
   {
    "duration": 2,
    "start_time": "2022-01-15T15:25:40.113Z"
   },
   {
    "duration": 42,
    "start_time": "2022-01-15T15:25:40.117Z"
   },
   {
    "duration": 5,
    "start_time": "2022-01-15T15:25:40.160Z"
   },
   {
    "duration": 37,
    "start_time": "2022-01-15T15:25:40.166Z"
   },
   {
    "duration": 13,
    "start_time": "2022-01-15T15:25:40.205Z"
   },
   {
    "duration": 3,
    "start_time": "2022-01-15T15:25:40.223Z"
   },
   {
    "duration": 5,
    "start_time": "2022-01-15T15:25:40.228Z"
   },
   {
    "duration": 4,
    "start_time": "2022-01-15T15:25:40.234Z"
   },
   {
    "duration": 13,
    "start_time": "2022-01-15T15:25:40.240Z"
   },
   {
    "duration": 48,
    "start_time": "2022-01-15T15:25:40.254Z"
   },
   {
    "duration": 14,
    "start_time": "2022-01-15T15:25:40.304Z"
   },
   {
    "duration": 4,
    "start_time": "2022-01-15T15:25:40.319Z"
   },
   {
    "duration": 23,
    "start_time": "2022-01-15T15:25:40.324Z"
   },
   {
    "duration": 8,
    "start_time": "2022-01-15T15:25:40.349Z"
   },
   {
    "duration": 32,
    "start_time": "2022-01-15T15:25:40.359Z"
   },
   {
    "duration": 12,
    "start_time": "2022-01-15T15:25:40.393Z"
   },
   {
    "duration": 3,
    "start_time": "2022-01-15T15:25:40.406Z"
   },
   {
    "duration": 17,
    "start_time": "2022-01-15T15:25:40.411Z"
   },
   {
    "duration": 3,
    "start_time": "2022-01-15T15:25:40.430Z"
   },
   {
    "duration": 9,
    "start_time": "2022-01-15T15:25:40.435Z"
   },
   {
    "duration": 4,
    "start_time": "2022-01-15T15:25:40.446Z"
   },
   {
    "duration": 12,
    "start_time": "2022-01-15T15:25:40.491Z"
   },
   {
    "duration": 10,
    "start_time": "2022-01-15T15:25:40.505Z"
   },
   {
    "duration": 10,
    "start_time": "2022-01-15T15:25:40.517Z"
   },
   {
    "duration": 3,
    "start_time": "2022-01-15T15:25:40.529Z"
   },
   {
    "duration": 7,
    "start_time": "2022-01-15T15:25:44.399Z"
   },
   {
    "duration": 14,
    "start_time": "2022-01-15T15:28:15.994Z"
   },
   {
    "duration": 11,
    "start_time": "2022-01-15T15:29:47.368Z"
   },
   {
    "duration": 11,
    "start_time": "2022-01-15T15:30:23.167Z"
   },
   {
    "duration": 12,
    "start_time": "2022-01-15T15:30:33.191Z"
   },
   {
    "duration": 8,
    "start_time": "2022-01-15T15:31:02.343Z"
   },
   {
    "duration": 9,
    "start_time": "2022-01-15T15:31:17.486Z"
   },
   {
    "duration": 58,
    "start_time": "2022-01-15T15:31:27.479Z"
   },
   {
    "duration": 7,
    "start_time": "2022-01-15T15:31:34.526Z"
   },
   {
    "duration": 58,
    "start_time": "2022-01-15T15:31:58.739Z"
   },
   {
    "duration": 96,
    "start_time": "2022-01-15T15:31:58.799Z"
   },
   {
    "duration": 4,
    "start_time": "2022-01-15T15:31:58.898Z"
   },
   {
    "duration": 13,
    "start_time": "2022-01-15T15:31:58.904Z"
   },
   {
    "duration": 11,
    "start_time": "2022-01-15T15:31:58.919Z"
   },
   {
    "duration": 5,
    "start_time": "2022-01-15T15:31:58.932Z"
   },
   {
    "duration": 5,
    "start_time": "2022-01-15T15:31:58.939Z"
   },
   {
    "duration": 4,
    "start_time": "2022-01-15T15:31:58.947Z"
   },
   {
    "duration": 4,
    "start_time": "2022-01-15T15:31:58.993Z"
   },
   {
    "duration": 9,
    "start_time": "2022-01-15T15:31:59.000Z"
   },
   {
    "duration": 3,
    "start_time": "2022-01-15T15:31:59.011Z"
   },
   {
    "duration": 7,
    "start_time": "2022-01-15T15:31:59.016Z"
   },
   {
    "duration": 8,
    "start_time": "2022-01-15T15:31:59.024Z"
   },
   {
    "duration": 2,
    "start_time": "2022-01-15T15:31:59.034Z"
   },
   {
    "duration": 80,
    "start_time": "2022-01-15T15:31:59.037Z"
   },
   {
    "duration": 2,
    "start_time": "2022-01-15T15:31:59.118Z"
   },
   {
    "duration": 12,
    "start_time": "2022-01-15T15:31:59.122Z"
   },
   {
    "duration": 4,
    "start_time": "2022-01-15T15:31:59.135Z"
   },
   {
    "duration": 6,
    "start_time": "2022-01-15T15:31:59.141Z"
   },
   {
    "duration": 8,
    "start_time": "2022-01-15T15:31:59.149Z"
   },
   {
    "duration": 34,
    "start_time": "2022-01-15T15:31:59.158Z"
   },
   {
    "duration": 4,
    "start_time": "2022-01-15T15:31:59.194Z"
   },
   {
    "duration": 6,
    "start_time": "2022-01-15T15:31:59.201Z"
   },
   {
    "duration": 4,
    "start_time": "2022-01-15T15:31:59.209Z"
   },
   {
    "duration": 6,
    "start_time": "2022-01-15T15:31:59.214Z"
   },
   {
    "duration": 6,
    "start_time": "2022-01-15T15:31:59.221Z"
   },
   {
    "duration": 4,
    "start_time": "2022-01-15T15:31:59.229Z"
   },
   {
    "duration": 10,
    "start_time": "2022-01-15T15:31:59.234Z"
   },
   {
    "duration": 49,
    "start_time": "2022-01-15T15:31:59.245Z"
   },
   {
    "duration": 5,
    "start_time": "2022-01-15T15:31:59.295Z"
   },
   {
    "duration": 20,
    "start_time": "2022-01-15T15:31:59.301Z"
   },
   {
    "duration": 5,
    "start_time": "2022-01-15T15:31:59.322Z"
   },
   {
    "duration": 5,
    "start_time": "2022-01-15T15:31:59.328Z"
   },
   {
    "duration": 5,
    "start_time": "2022-01-15T15:31:59.335Z"
   },
   {
    "duration": 53,
    "start_time": "2022-01-15T15:31:59.341Z"
   },
   {
    "duration": 8,
    "start_time": "2022-01-15T15:31:59.395Z"
   },
   {
    "duration": 8,
    "start_time": "2022-01-15T15:31:59.405Z"
   },
   {
    "duration": 5,
    "start_time": "2022-01-15T15:31:59.414Z"
   },
   {
    "duration": 6,
    "start_time": "2022-01-15T15:31:59.421Z"
   },
   {
    "duration": 7,
    "start_time": "2022-01-15T15:32:01.200Z"
   },
   {
    "duration": 11,
    "start_time": "2022-01-15T15:32:01.912Z"
   },
   {
    "duration": 53,
    "start_time": "2022-01-15T15:32:20.102Z"
   },
   {
    "duration": 68,
    "start_time": "2022-01-15T15:32:20.157Z"
   },
   {
    "duration": 3,
    "start_time": "2022-01-15T15:32:20.228Z"
   },
   {
    "duration": 15,
    "start_time": "2022-01-15T15:32:20.232Z"
   },
   {
    "duration": 44,
    "start_time": "2022-01-15T15:32:20.249Z"
   },
   {
    "duration": 4,
    "start_time": "2022-01-15T15:32:20.294Z"
   },
   {
    "duration": 7,
    "start_time": "2022-01-15T15:32:20.299Z"
   },
   {
    "duration": 4,
    "start_time": "2022-01-15T15:32:20.308Z"
   },
   {
    "duration": 5,
    "start_time": "2022-01-15T15:32:20.314Z"
   },
   {
    "duration": 11,
    "start_time": "2022-01-15T15:32:20.320Z"
   },
   {
    "duration": 4,
    "start_time": "2022-01-15T15:32:20.333Z"
   },
   {
    "duration": 8,
    "start_time": "2022-01-15T15:32:20.338Z"
   },
   {
    "duration": 8,
    "start_time": "2022-01-15T15:32:20.392Z"
   },
   {
    "duration": 2,
    "start_time": "2022-01-15T15:32:20.402Z"
   },
   {
    "duration": 44,
    "start_time": "2022-01-15T15:32:20.405Z"
   },
   {
    "duration": 2,
    "start_time": "2022-01-15T15:32:20.451Z"
   },
   {
    "duration": 43,
    "start_time": "2022-01-15T15:32:20.455Z"
   },
   {
    "duration": 5,
    "start_time": "2022-01-15T15:32:20.500Z"
   },
   {
    "duration": 5,
    "start_time": "2022-01-15T15:32:20.507Z"
   },
   {
    "duration": 6,
    "start_time": "2022-01-15T15:32:20.514Z"
   },
   {
    "duration": 5,
    "start_time": "2022-01-15T15:32:20.522Z"
   },
   {
    "duration": 5,
    "start_time": "2022-01-15T15:32:20.528Z"
   },
   {
    "duration": 5,
    "start_time": "2022-01-15T15:32:20.537Z"
   },
   {
    "duration": 47,
    "start_time": "2022-01-15T15:32:20.545Z"
   },
   {
    "duration": 12,
    "start_time": "2022-01-15T15:32:20.594Z"
   },
   {
    "duration": 20,
    "start_time": "2022-01-15T15:32:20.608Z"
   },
   {
    "duration": 5,
    "start_time": "2022-01-15T15:32:20.630Z"
   },
   {
    "duration": 10,
    "start_time": "2022-01-15T15:32:20.636Z"
   },
   {
    "duration": 6,
    "start_time": "2022-01-15T15:32:20.649Z"
   },
   {
    "duration": 6,
    "start_time": "2022-01-15T15:32:20.657Z"
   },
   {
    "duration": 45,
    "start_time": "2022-01-15T15:32:20.665Z"
   },
   {
    "duration": 5,
    "start_time": "2022-01-15T15:32:20.712Z"
   },
   {
    "duration": 7,
    "start_time": "2022-01-15T15:32:20.719Z"
   },
   {
    "duration": 5,
    "start_time": "2022-01-15T15:32:20.728Z"
   },
   {
    "duration": 12,
    "start_time": "2022-01-15T15:32:20.735Z"
   },
   {
    "duration": 45,
    "start_time": "2022-01-15T15:32:20.749Z"
   },
   {
    "duration": 9,
    "start_time": "2022-01-15T15:32:20.796Z"
   },
   {
    "duration": 6,
    "start_time": "2022-01-15T15:32:20.806Z"
   },
   {
    "duration": 7,
    "start_time": "2022-01-15T15:32:20.814Z"
   },
   {
    "duration": 12,
    "start_time": "2022-01-15T15:32:20.823Z"
   },
   {
    "duration": 55,
    "start_time": "2022-01-15T15:32:20.837Z"
   },
   {
    "duration": 8,
    "start_time": "2022-01-15T15:32:20.895Z"
   },
   {
    "duration": 7,
    "start_time": "2022-01-15T15:32:20.905Z"
   },
   {
    "duration": 8,
    "start_time": "2022-01-15T15:32:20.914Z"
   },
   {
    "duration": 8,
    "start_time": "2022-01-15T15:32:20.923Z"
   },
   {
    "duration": 9,
    "start_time": "2022-01-15T15:32:20.933Z"
   },
   {
    "duration": 62,
    "start_time": "2022-01-15T15:32:20.944Z"
   },
   {
    "duration": 6,
    "start_time": "2022-01-15T15:32:21.008Z"
   },
   {
    "duration": 13,
    "start_time": "2022-01-15T15:32:21.016Z"
   },
   {
    "duration": 8,
    "start_time": "2022-01-15T15:32:21.031Z"
   },
   {
    "duration": 9,
    "start_time": "2022-01-15T15:32:21.041Z"
   },
   {
    "duration": 40,
    "start_time": "2022-01-15T15:32:21.052Z"
   },
   {
    "duration": 14,
    "start_time": "2022-01-15T15:32:21.094Z"
   },
   {
    "duration": 3,
    "start_time": "2022-01-15T15:32:21.110Z"
   },
   {
    "duration": 11,
    "start_time": "2022-01-15T15:32:21.115Z"
   },
   {
    "duration": 29,
    "start_time": "2022-01-15T15:32:21.128Z"
   },
   {
    "duration": 39,
    "start_time": "2022-01-15T15:32:21.159Z"
   },
   {
    "duration": 8,
    "start_time": "2022-01-15T15:32:21.200Z"
   },
   {
    "duration": 22,
    "start_time": "2022-01-15T15:32:21.209Z"
   },
   {
    "duration": 15,
    "start_time": "2022-01-15T15:32:21.233Z"
   },
   {
    "duration": 41,
    "start_time": "2022-01-15T15:32:21.250Z"
   },
   {
    "duration": 17,
    "start_time": "2022-01-15T15:32:21.293Z"
   },
   {
    "duration": 2,
    "start_time": "2022-01-15T15:32:21.312Z"
   },
   {
    "duration": 41,
    "start_time": "2022-01-15T15:32:21.315Z"
   },
   {
    "duration": 5,
    "start_time": "2022-01-15T15:32:21.358Z"
   },
   {
    "duration": 16,
    "start_time": "2022-01-15T15:32:21.391Z"
   },
   {
    "duration": 14,
    "start_time": "2022-01-15T15:32:21.409Z"
   },
   {
    "duration": 2,
    "start_time": "2022-01-15T15:32:21.429Z"
   },
   {
    "duration": 4,
    "start_time": "2022-01-15T15:32:21.434Z"
   },
   {
    "duration": 5,
    "start_time": "2022-01-15T15:32:21.439Z"
   },
   {
    "duration": 46,
    "start_time": "2022-01-15T15:32:21.446Z"
   },
   {
    "duration": 15,
    "start_time": "2022-01-15T15:32:21.493Z"
   },
   {
    "duration": 16,
    "start_time": "2022-01-15T15:32:21.509Z"
   },
   {
    "duration": 5,
    "start_time": "2022-01-15T15:32:21.527Z"
   },
   {
    "duration": 21,
    "start_time": "2022-01-15T15:32:21.534Z"
   },
   {
    "duration": 40,
    "start_time": "2022-01-15T15:32:21.557Z"
   },
   {
    "duration": 3,
    "start_time": "2022-01-15T15:32:21.599Z"
   },
   {
    "duration": 13,
    "start_time": "2022-01-15T15:32:21.603Z"
   },
   {
    "duration": 2,
    "start_time": "2022-01-15T15:32:21.618Z"
   },
   {
    "duration": 27,
    "start_time": "2022-01-15T15:32:21.622Z"
   },
   {
    "duration": 2,
    "start_time": "2022-01-15T15:32:21.651Z"
   },
   {
    "duration": 9,
    "start_time": "2022-01-15T15:32:21.655Z"
   },
   {
    "duration": 3,
    "start_time": "2022-01-15T15:32:21.692Z"
   },
   {
    "duration": 15,
    "start_time": "2022-01-15T15:32:21.697Z"
   },
   {
    "duration": 12,
    "start_time": "2022-01-15T15:32:21.714Z"
   },
   {
    "duration": 11,
    "start_time": "2022-01-15T15:32:21.727Z"
   },
   {
    "duration": 2,
    "start_time": "2022-01-15T15:32:21.740Z"
   },
   {
    "duration": 8,
    "start_time": "2022-01-15T15:32:30.798Z"
   },
   {
    "duration": 7,
    "start_time": "2022-01-15T15:32:50.908Z"
   },
   {
    "duration": 7,
    "start_time": "2022-01-15T15:33:20.925Z"
   },
   {
    "duration": 6,
    "start_time": "2022-01-15T15:33:44.388Z"
   },
   {
    "duration": 6,
    "start_time": "2022-01-15T15:41:11.730Z"
   },
   {
    "duration": 11,
    "start_time": "2022-01-15T15:41:24.945Z"
   },
   {
    "duration": 12,
    "start_time": "2022-01-15T15:42:48.154Z"
   },
   {
    "duration": 7,
    "start_time": "2022-01-15T15:43:07.129Z"
   },
   {
    "duration": 10,
    "start_time": "2022-01-15T15:43:07.584Z"
   },
   {
    "duration": 10,
    "start_time": "2022-01-15T15:43:10.639Z"
   },
   {
    "duration": 2,
    "start_time": "2022-01-15T15:52:38.258Z"
   },
   {
    "duration": 10,
    "start_time": "2022-01-15T15:54:09.351Z"
   },
   {
    "duration": 10,
    "start_time": "2022-01-15T15:54:15.304Z"
   },
   {
    "duration": 18,
    "start_time": "2022-01-15T15:54:33.416Z"
   },
   {
    "duration": 17,
    "start_time": "2022-01-15T15:54:54.664Z"
   },
   {
    "duration": 19,
    "start_time": "2022-01-15T15:57:41.235Z"
   },
   {
    "duration": 20,
    "start_time": "2022-01-15T15:57:58.370Z"
   },
   {
    "duration": 29,
    "start_time": "2022-01-15T15:59:00.767Z"
   },
   {
    "duration": 20,
    "start_time": "2022-01-15T15:59:41.535Z"
   },
   {
    "duration": 34,
    "start_time": "2022-01-15T16:00:40.527Z"
   },
   {
    "duration": 51,
    "start_time": "2022-01-15T16:00:57.809Z"
   },
   {
    "duration": 70,
    "start_time": "2022-01-15T16:00:57.861Z"
   },
   {
    "duration": 3,
    "start_time": "2022-01-15T16:00:57.933Z"
   },
   {
    "duration": 12,
    "start_time": "2022-01-15T16:00:57.938Z"
   },
   {
    "duration": 10,
    "start_time": "2022-01-15T16:00:57.952Z"
   },
   {
    "duration": 9,
    "start_time": "2022-01-15T16:00:57.994Z"
   },
   {
    "duration": 4,
    "start_time": "2022-01-15T16:00:58.005Z"
   },
   {
    "duration": 4,
    "start_time": "2022-01-15T16:00:58.012Z"
   },
   {
    "duration": 5,
    "start_time": "2022-01-15T16:00:58.018Z"
   },
   {
    "duration": 10,
    "start_time": "2022-01-15T16:00:58.025Z"
   },
   {
    "duration": 4,
    "start_time": "2022-01-15T16:00:58.037Z"
   },
   {
    "duration": 61,
    "start_time": "2022-01-15T16:00:58.043Z"
   },
   {
    "duration": 8,
    "start_time": "2022-01-15T16:00:58.106Z"
   },
   {
    "duration": 2,
    "start_time": "2022-01-15T16:00:58.116Z"
   },
   {
    "duration": 94,
    "start_time": "2022-01-15T16:00:58.120Z"
   },
   {
    "duration": 3,
    "start_time": "2022-01-15T16:00:58.216Z"
   },
   {
    "duration": 12,
    "start_time": "2022-01-15T16:00:58.220Z"
   },
   {
    "duration": 4,
    "start_time": "2022-01-15T16:00:58.234Z"
   },
   {
    "duration": 6,
    "start_time": "2022-01-15T16:00:58.239Z"
   },
   {
    "duration": 7,
    "start_time": "2022-01-15T16:00:58.246Z"
   },
   {
    "duration": 6,
    "start_time": "2022-01-15T16:00:58.254Z"
   },
   {
    "duration": 8,
    "start_time": "2022-01-15T16:00:58.296Z"
   },
   {
    "duration": 4,
    "start_time": "2022-01-15T16:00:58.309Z"
   },
   {
    "duration": 4,
    "start_time": "2022-01-15T16:00:58.316Z"
   },
   {
    "duration": 6,
    "start_time": "2022-01-15T16:00:58.321Z"
   },
   {
    "duration": 7,
    "start_time": "2022-01-15T16:00:58.328Z"
   },
   {
    "duration": 6,
    "start_time": "2022-01-15T16:00:58.336Z"
   },
   {
    "duration": 9,
    "start_time": "2022-01-15T16:00:58.343Z"
   },
   {
    "duration": 12,
    "start_time": "2022-01-15T16:00:58.393Z"
   },
   {
    "duration": 5,
    "start_time": "2022-01-15T16:00:58.407Z"
   },
   {
    "duration": 19,
    "start_time": "2022-01-15T16:00:58.414Z"
   },
   {
    "duration": 6,
    "start_time": "2022-01-15T16:00:58.434Z"
   },
   {
    "duration": 5,
    "start_time": "2022-01-15T16:00:58.441Z"
   },
   {
    "duration": 50,
    "start_time": "2022-01-15T16:00:58.448Z"
   },
   {
    "duration": 9,
    "start_time": "2022-01-15T16:00:58.502Z"
   },
   {
    "duration": 7,
    "start_time": "2022-01-15T16:00:58.512Z"
   },
   {
    "duration": 6,
    "start_time": "2022-01-15T16:00:58.521Z"
   },
   {
    "duration": 15,
    "start_time": "2022-01-15T16:00:58.528Z"
   },
   {
    "duration": 8,
    "start_time": "2022-01-15T16:00:58.545Z"
   },
   {
    "duration": 43,
    "start_time": "2022-01-15T16:00:58.554Z"
   },
   {
    "duration": 9,
    "start_time": "2022-01-15T16:00:58.600Z"
   },
   {
    "duration": 6,
    "start_time": "2022-01-15T16:00:58.611Z"
   },
   {
    "duration": 9,
    "start_time": "2022-01-15T16:00:58.618Z"
   },
   {
    "duration": 5,
    "start_time": "2022-01-15T16:00:58.629Z"
   },
   {
    "duration": 7,
    "start_time": "2022-01-15T16:00:58.635Z"
   },
   {
    "duration": 6,
    "start_time": "2022-01-15T16:00:58.644Z"
   },
   {
    "duration": 57,
    "start_time": "2022-01-15T16:00:58.651Z"
   },
   {
    "duration": 5,
    "start_time": "2022-01-15T16:00:58.709Z"
   },
   {
    "duration": 16,
    "start_time": "2022-01-15T16:00:58.716Z"
   },
   {
    "duration": 7,
    "start_time": "2022-01-15T16:00:58.733Z"
   },
   {
    "duration": 7,
    "start_time": "2022-01-15T16:00:58.741Z"
   },
   {
    "duration": 3,
    "start_time": "2022-01-15T16:00:58.750Z"
   },
   {
    "duration": 42,
    "start_time": "2022-01-15T16:00:58.755Z"
   },
   {
    "duration": 4,
    "start_time": "2022-01-15T16:00:58.800Z"
   },
   {
    "duration": 10,
    "start_time": "2022-01-15T16:00:58.806Z"
   },
   {
    "duration": 22,
    "start_time": "2022-01-15T16:00:58.818Z"
   },
   {
    "duration": 14,
    "start_time": "2022-01-15T16:00:58.842Z"
   },
   {
    "duration": 7,
    "start_time": "2022-01-15T16:00:58.857Z"
   },
   {
    "duration": 52,
    "start_time": "2022-01-15T16:00:58.865Z"
   },
   {
    "duration": 14,
    "start_time": "2022-01-15T16:00:58.918Z"
   },
   {
    "duration": 15,
    "start_time": "2022-01-15T16:00:58.934Z"
   },
   {
    "duration": 47,
    "start_time": "2022-01-15T16:00:58.951Z"
   },
   {
    "duration": 3,
    "start_time": "2022-01-15T16:00:59.002Z"
   },
   {
    "duration": 44,
    "start_time": "2022-01-15T16:00:59.007Z"
   },
   {
    "duration": 4,
    "start_time": "2022-01-15T16:00:59.052Z"
   },
   {
    "duration": 50,
    "start_time": "2022-01-15T16:00:59.058Z"
   },
   {
    "duration": 14,
    "start_time": "2022-01-15T16:00:59.110Z"
   },
   {
    "duration": 2,
    "start_time": "2022-01-15T16:00:59.129Z"
   },
   {
    "duration": 6,
    "start_time": "2022-01-15T16:00:59.133Z"
   },
   {
    "duration": 10,
    "start_time": "2022-01-15T16:00:59.140Z"
   },
   {
    "duration": 12,
    "start_time": "2022-01-15T16:00:59.151Z"
   },
   {
    "duration": 50,
    "start_time": "2022-01-15T16:00:59.165Z"
   },
   {
    "duration": 16,
    "start_time": "2022-01-15T16:00:59.217Z"
   },
   {
    "duration": 4,
    "start_time": "2022-01-15T16:00:59.235Z"
   },
   {
    "duration": 21,
    "start_time": "2022-01-15T16:00:59.241Z"
   },
   {
    "duration": 40,
    "start_time": "2022-01-15T16:00:59.264Z"
   },
   {
    "duration": 2,
    "start_time": "2022-01-15T16:00:59.307Z"
   },
   {
    "duration": 13,
    "start_time": "2022-01-15T16:00:59.310Z"
   },
   {
    "duration": 3,
    "start_time": "2022-01-15T16:00:59.324Z"
   },
   {
    "duration": 16,
    "start_time": "2022-01-15T16:00:59.328Z"
   },
   {
    "duration": 2,
    "start_time": "2022-01-15T16:00:59.346Z"
   },
   {
    "duration": 12,
    "start_time": "2022-01-15T16:00:59.349Z"
   },
   {
    "duration": 39,
    "start_time": "2022-01-15T16:00:59.363Z"
   },
   {
    "duration": 12,
    "start_time": "2022-01-15T16:00:59.405Z"
   },
   {
    "duration": 13,
    "start_time": "2022-01-15T16:00:59.419Z"
   },
   {
    "duration": 12,
    "start_time": "2022-01-15T16:00:59.434Z"
   },
   {
    "duration": 2,
    "start_time": "2022-01-15T16:00:59.448Z"
   },
   {
    "duration": 49,
    "start_time": "2022-01-15T16:00:59.452Z"
   },
   {
    "duration": 12,
    "start_time": "2022-01-15T16:00:59.505Z"
   },
   {
    "duration": 10,
    "start_time": "2022-01-15T16:00:59.519Z"
   },
   {
    "duration": 2,
    "start_time": "2022-01-15T16:00:59.531Z"
   },
   {
    "duration": 63,
    "start_time": "2022-01-15T16:00:59.535Z"
   },
   {
    "duration": 181,
    "start_time": "2022-01-15T16:07:21.748Z"
   },
   {
    "duration": 4,
    "start_time": "2022-01-15T16:13:45.380Z"
   },
   {
    "duration": 171,
    "start_time": "2022-01-15T16:14:12.980Z"
   },
   {
    "duration": 246,
    "start_time": "2022-01-15T16:15:10.323Z"
   },
   {
    "duration": 201,
    "start_time": "2022-01-15T16:15:38.682Z"
   },
   {
    "duration": 5,
    "start_time": "2022-01-15T16:15:43.795Z"
   },
   {
    "duration": 12,
    "start_time": "2022-01-15T16:16:58.994Z"
   },
   {
    "duration": 5,
    "start_time": "2022-01-15T16:17:19.560Z"
   },
   {
    "duration": 53,
    "start_time": "2022-01-15T16:18:11.639Z"
   },
   {
    "duration": 54,
    "start_time": "2022-01-15T16:19:05.232Z"
   },
   {
    "duration": 4,
    "start_time": "2022-01-15T16:19:35.110Z"
   },
   {
    "duration": 63,
    "start_time": "2022-01-15T16:21:05.895Z"
   },
   {
    "duration": -257,
    "start_time": "2022-01-15T16:21:23.213Z"
   },
   {
    "duration": 2788,
    "start_time": "2022-01-15T16:21:34.400Z"
   },
   {
    "duration": 23,
    "start_time": "2022-01-15T16:26:15.902Z"
   },
   {
    "duration": 78,
    "start_time": "2022-01-15T16:27:03.197Z"
   },
   {
    "duration": 30,
    "start_time": "2022-01-15T16:27:19.852Z"
   },
   {
    "duration": 24,
    "start_time": "2022-01-15T16:27:30.045Z"
   },
   {
    "duration": 25,
    "start_time": "2022-01-15T16:28:18.853Z"
   },
   {
    "duration": 10,
    "start_time": "2022-01-15T16:28:27.483Z"
   },
   {
    "duration": 5,
    "start_time": "2022-01-15T16:28:37.268Z"
   },
   {
    "duration": 173,
    "start_time": "2022-01-15T16:28:40.260Z"
   },
   {
    "duration": 2831,
    "start_time": "2022-01-15T16:29:19.843Z"
   },
   {
    "duration": 3063,
    "start_time": "2022-01-15T16:30:15.034Z"
   },
   {
    "duration": 2831,
    "start_time": "2022-01-15T16:30:27.242Z"
   },
   {
    "duration": 7,
    "start_time": "2022-01-15T16:34:39.429Z"
   },
   {
    "duration": 10,
    "start_time": "2022-01-15T16:39:03.928Z"
   },
   {
    "duration": 9,
    "start_time": "2022-01-15T16:39:29.838Z"
   },
   {
    "duration": 11,
    "start_time": "2022-01-15T16:40:37.284Z"
   },
   {
    "duration": 50,
    "start_time": "2022-01-15T16:40:44.329Z"
   },
   {
    "duration": 59,
    "start_time": "2022-01-15T16:40:44.381Z"
   },
   {
    "duration": 3,
    "start_time": "2022-01-15T16:40:44.442Z"
   },
   {
    "duration": 18,
    "start_time": "2022-01-15T16:40:44.447Z"
   },
   {
    "duration": 34,
    "start_time": "2022-01-15T16:40:44.467Z"
   },
   {
    "duration": 7,
    "start_time": "2022-01-15T16:40:44.502Z"
   },
   {
    "duration": 7,
    "start_time": "2022-01-15T16:40:44.511Z"
   },
   {
    "duration": 4,
    "start_time": "2022-01-15T16:40:44.521Z"
   },
   {
    "duration": 4,
    "start_time": "2022-01-15T16:40:44.528Z"
   },
   {
    "duration": 9,
    "start_time": "2022-01-15T16:40:44.534Z"
   },
   {
    "duration": 4,
    "start_time": "2022-01-15T16:40:44.544Z"
   },
   {
    "duration": 6,
    "start_time": "2022-01-15T16:40:44.592Z"
   },
   {
    "duration": 6,
    "start_time": "2022-01-15T16:40:44.600Z"
   },
   {
    "duration": 2,
    "start_time": "2022-01-15T16:40:44.608Z"
   },
   {
    "duration": 42,
    "start_time": "2022-01-15T16:40:44.611Z"
   },
   {
    "duration": 38,
    "start_time": "2022-01-15T16:40:44.654Z"
   },
   {
    "duration": 12,
    "start_time": "2022-01-15T16:40:44.694Z"
   },
   {
    "duration": 4,
    "start_time": "2022-01-15T16:40:44.708Z"
   },
   {
    "duration": 7,
    "start_time": "2022-01-15T16:40:44.714Z"
   },
   {
    "duration": 5,
    "start_time": "2022-01-15T16:40:44.723Z"
   },
   {
    "duration": 4,
    "start_time": "2022-01-15T16:40:44.730Z"
   },
   {
    "duration": 4,
    "start_time": "2022-01-15T16:40:44.736Z"
   },
   {
    "duration": 5,
    "start_time": "2022-01-15T16:40:44.745Z"
   },
   {
    "duration": 4,
    "start_time": "2022-01-15T16:40:44.794Z"
   },
   {
    "duration": 6,
    "start_time": "2022-01-15T16:40:44.800Z"
   },
   {
    "duration": 5,
    "start_time": "2022-01-15T16:40:44.808Z"
   },
   {
    "duration": 4,
    "start_time": "2022-01-15T16:40:44.815Z"
   },
   {
    "duration": 10,
    "start_time": "2022-01-15T16:40:44.821Z"
   },
   {
    "duration": 5,
    "start_time": "2022-01-15T16:40:44.833Z"
   },
   {
    "duration": 53,
    "start_time": "2022-01-15T16:40:44.840Z"
   },
   {
    "duration": 19,
    "start_time": "2022-01-15T16:40:44.894Z"
   },
   {
    "duration": 6,
    "start_time": "2022-01-15T16:40:44.915Z"
   },
   {
    "duration": 6,
    "start_time": "2022-01-15T16:40:44.923Z"
   },
   {
    "duration": 7,
    "start_time": "2022-01-15T16:40:44.930Z"
   },
   {
    "duration": 11,
    "start_time": "2022-01-15T16:40:44.939Z"
   },
   {
    "duration": 8,
    "start_time": "2022-01-15T16:40:44.992Z"
   },
   {
    "duration": 16,
    "start_time": "2022-01-15T16:40:45.002Z"
   },
   {
    "duration": 7,
    "start_time": "2022-01-15T16:40:45.020Z"
   },
   {
    "duration": 7,
    "start_time": "2022-01-15T16:40:45.029Z"
   },
   {
    "duration": 10,
    "start_time": "2022-01-15T16:40:45.037Z"
   },
   {
    "duration": 7,
    "start_time": "2022-01-15T16:40:45.049Z"
   },
   {
    "duration": 40,
    "start_time": "2022-01-15T16:40:45.058Z"
   },
   {
    "duration": 5,
    "start_time": "2022-01-15T16:40:45.101Z"
   },
   {
    "duration": 7,
    "start_time": "2022-01-15T16:40:45.108Z"
   },
   {
    "duration": 7,
    "start_time": "2022-01-15T16:40:45.117Z"
   },
   {
    "duration": 7,
    "start_time": "2022-01-15T16:40:45.126Z"
   },
   {
    "duration": 13,
    "start_time": "2022-01-15T16:40:45.135Z"
   },
   {
    "duration": 4,
    "start_time": "2022-01-15T16:40:45.192Z"
   },
   {
    "duration": 12,
    "start_time": "2022-01-15T16:40:45.198Z"
   },
   {
    "duration": 6,
    "start_time": "2022-01-15T16:40:45.211Z"
   },
   {
    "duration": 9,
    "start_time": "2022-01-15T16:40:45.219Z"
   },
   {
    "duration": 4,
    "start_time": "2022-01-15T16:40:45.229Z"
   },
   {
    "duration": 12,
    "start_time": "2022-01-15T16:40:45.234Z"
   },
   {
    "duration": 2,
    "start_time": "2022-01-15T16:40:45.248Z"
   },
   {
    "duration": 9,
    "start_time": "2022-01-15T16:40:45.251Z"
   },
   {
    "duration": 19,
    "start_time": "2022-01-15T16:40:45.292Z"
   },
   {
    "duration": 13,
    "start_time": "2022-01-15T16:40:45.312Z"
   },
   {
    "duration": 6,
    "start_time": "2022-01-15T16:40:45.326Z"
   },
   {
    "duration": 17,
    "start_time": "2022-01-15T16:40:45.334Z"
   },
   {
    "duration": 40,
    "start_time": "2022-01-15T16:40:45.352Z"
   },
   {
    "duration": 15,
    "start_time": "2022-01-15T16:40:45.393Z"
   },
   {
    "duration": 15,
    "start_time": "2022-01-15T16:40:45.409Z"
   },
   {
    "duration": 2,
    "start_time": "2022-01-15T16:40:45.426Z"
   },
   {
    "duration": 40,
    "start_time": "2022-01-15T16:40:45.429Z"
   },
   {
    "duration": 4,
    "start_time": "2022-01-15T16:40:45.492Z"
   },
   {
    "duration": 19,
    "start_time": "2022-01-15T16:40:45.498Z"
   },
   {
    "duration": 13,
    "start_time": "2022-01-15T16:40:45.519Z"
   },
   {
    "duration": 2,
    "start_time": "2022-01-15T16:40:45.537Z"
   },
   {
    "duration": 4,
    "start_time": "2022-01-15T16:40:45.541Z"
   },
   {
    "duration": 5,
    "start_time": "2022-01-15T16:40:45.547Z"
   },
   {
    "duration": 42,
    "start_time": "2022-01-15T16:40:45.553Z"
   },
   {
    "duration": 15,
    "start_time": "2022-01-15T16:40:45.597Z"
   },
   {
    "duration": 15,
    "start_time": "2022-01-15T16:40:45.614Z"
   },
   {
    "duration": 4,
    "start_time": "2022-01-15T16:40:45.630Z"
   },
   {
    "duration": 21,
    "start_time": "2022-01-15T16:40:45.636Z"
   },
   {
    "duration": 35,
    "start_time": "2022-01-15T16:40:45.658Z"
   },
   {
    "duration": 2,
    "start_time": "2022-01-15T16:40:45.695Z"
   },
   {
    "duration": 13,
    "start_time": "2022-01-15T16:40:45.699Z"
   },
   {
    "duration": 2,
    "start_time": "2022-01-15T16:40:45.713Z"
   },
   {
    "duration": 17,
    "start_time": "2022-01-15T16:40:45.716Z"
   },
   {
    "duration": 2,
    "start_time": "2022-01-15T16:40:45.734Z"
   },
   {
    "duration": 8,
    "start_time": "2022-01-15T16:40:45.738Z"
   },
   {
    "duration": 2,
    "start_time": "2022-01-15T16:40:45.748Z"
   },
   {
    "duration": 40,
    "start_time": "2022-01-15T16:40:45.752Z"
   },
   {
    "duration": 10,
    "start_time": "2022-01-15T16:40:45.794Z"
   },
   {
    "duration": 11,
    "start_time": "2022-01-15T16:40:45.806Z"
   },
   {
    "duration": 1,
    "start_time": "2022-01-15T16:40:45.819Z"
   },
   {
    "duration": 8,
    "start_time": "2022-01-15T16:40:45.822Z"
   },
   {
    "duration": 9,
    "start_time": "2022-01-15T16:40:45.832Z"
   },
   {
    "duration": 49,
    "start_time": "2022-01-15T16:40:45.843Z"
   },
   {
    "duration": 2,
    "start_time": "2022-01-15T16:40:45.894Z"
   },
   {
    "duration": 3,
    "start_time": "2022-01-15T16:40:49.103Z"
   },
   {
    "duration": 11,
    "start_time": "2022-01-15T16:40:50.077Z"
   },
   {
    "duration": 10,
    "start_time": "2022-01-15T16:40:54.772Z"
   },
   {
    "duration": 7,
    "start_time": "2022-01-15T16:41:00.837Z"
   },
   {
    "duration": 8,
    "start_time": "2022-01-15T16:41:08.165Z"
   },
   {
    "duration": 6,
    "start_time": "2022-01-15T16:41:26.556Z"
   },
   {
    "duration": 7,
    "start_time": "2022-01-15T16:41:38.765Z"
   },
   {
    "duration": 10,
    "start_time": "2022-01-15T16:42:09.635Z"
   },
   {
    "duration": 184,
    "start_time": "2022-01-15T16:42:34.619Z"
   },
   {
    "duration": 7,
    "start_time": "2022-01-15T16:42:46.450Z"
   },
   {
    "duration": 163,
    "start_time": "2022-01-15T16:43:07.057Z"
   },
   {
    "duration": 188,
    "start_time": "2022-01-15T16:43:16.762Z"
   },
   {
    "duration": 10,
    "start_time": "2022-01-15T16:43:26.322Z"
   },
   {
    "duration": 7,
    "start_time": "2022-01-15T16:44:44.952Z"
   },
   {
    "duration": 12,
    "start_time": "2022-01-15T16:45:54.688Z"
   },
   {
    "duration": 68,
    "start_time": "2022-01-15T16:46:32.326Z"
   },
   {
    "duration": 12,
    "start_time": "2022-01-15T16:46:44.462Z"
   },
   {
    "duration": 12,
    "start_time": "2022-01-15T16:47:18.540Z"
   },
   {
    "duration": 9,
    "start_time": "2022-01-15T16:50:31.315Z"
   },
   {
    "duration": 167,
    "start_time": "2022-01-15T16:50:34.746Z"
   },
   {
    "duration": 56,
    "start_time": "2022-01-15T16:51:16.804Z"
   },
   {
    "duration": 71,
    "start_time": "2022-01-15T16:51:16.863Z"
   },
   {
    "duration": 3,
    "start_time": "2022-01-15T16:51:16.936Z"
   },
   {
    "duration": 20,
    "start_time": "2022-01-15T16:51:16.941Z"
   },
   {
    "duration": 40,
    "start_time": "2022-01-15T16:51:16.963Z"
   },
   {
    "duration": 5,
    "start_time": "2022-01-15T16:51:17.005Z"
   },
   {
    "duration": 8,
    "start_time": "2022-01-15T16:51:17.012Z"
   },
   {
    "duration": 4,
    "start_time": "2022-01-15T16:51:17.023Z"
   },
   {
    "duration": 5,
    "start_time": "2022-01-15T16:51:17.029Z"
   },
   {
    "duration": 60,
    "start_time": "2022-01-15T16:51:17.036Z"
   },
   {
    "duration": 5,
    "start_time": "2022-01-15T16:51:17.098Z"
   },
   {
    "duration": 15,
    "start_time": "2022-01-15T16:51:17.106Z"
   },
   {
    "duration": 10,
    "start_time": "2022-01-15T16:51:17.123Z"
   },
   {
    "duration": 4,
    "start_time": "2022-01-15T16:51:17.135Z"
   },
   {
    "duration": 84,
    "start_time": "2022-01-15T16:51:17.141Z"
   },
   {
    "duration": 2,
    "start_time": "2022-01-15T16:51:17.227Z"
   },
   {
    "duration": 12,
    "start_time": "2022-01-15T16:51:17.230Z"
   },
   {
    "duration": 4,
    "start_time": "2022-01-15T16:51:17.245Z"
   },
   {
    "duration": 11,
    "start_time": "2022-01-15T16:51:17.251Z"
   },
   {
    "duration": 31,
    "start_time": "2022-01-15T16:51:17.264Z"
   },
   {
    "duration": 5,
    "start_time": "2022-01-15T16:51:17.298Z"
   },
   {
    "duration": 14,
    "start_time": "2022-01-15T16:51:17.305Z"
   },
   {
    "duration": 10,
    "start_time": "2022-01-15T16:51:17.324Z"
   },
   {
    "duration": 6,
    "start_time": "2022-01-15T16:51:17.337Z"
   },
   {
    "duration": 9,
    "start_time": "2022-01-15T16:51:17.344Z"
   },
   {
    "duration": 10,
    "start_time": "2022-01-15T16:51:17.355Z"
   },
   {
    "duration": 27,
    "start_time": "2022-01-15T16:51:17.367Z"
   },
   {
    "duration": 11,
    "start_time": "2022-01-15T16:51:17.396Z"
   },
   {
    "duration": 5,
    "start_time": "2022-01-15T16:51:17.409Z"
   },
   {
    "duration": 6,
    "start_time": "2022-01-15T16:51:17.416Z"
   },
   {
    "duration": 20,
    "start_time": "2022-01-15T16:51:17.423Z"
   },
   {
    "duration": 6,
    "start_time": "2022-01-15T16:51:17.445Z"
   },
   {
    "duration": 45,
    "start_time": "2022-01-15T16:51:17.452Z"
   },
   {
    "duration": 6,
    "start_time": "2022-01-15T16:51:17.498Z"
   },
   {
    "duration": 7,
    "start_time": "2022-01-15T16:51:17.505Z"
   },
   {
    "duration": 6,
    "start_time": "2022-01-15T16:51:17.514Z"
   },
   {
    "duration": 7,
    "start_time": "2022-01-15T16:51:17.522Z"
   },
   {
    "duration": 4,
    "start_time": "2022-01-15T16:51:17.531Z"
   },
   {
    "duration": 5,
    "start_time": "2022-01-15T16:51:17.537Z"
   },
   {
    "duration": 12,
    "start_time": "2022-01-15T16:51:17.592Z"
   },
   {
    "duration": 7,
    "start_time": "2022-01-15T16:51:17.606Z"
   },
   {
    "duration": 12,
    "start_time": "2022-01-15T16:51:17.614Z"
   },
   {
    "duration": 6,
    "start_time": "2022-01-15T16:51:17.628Z"
   },
   {
    "duration": 7,
    "start_time": "2022-01-15T16:51:17.636Z"
   },
   {
    "duration": 9,
    "start_time": "2022-01-15T16:51:17.645Z"
   },
   {
    "duration": 8,
    "start_time": "2022-01-15T16:51:17.692Z"
   },
   {
    "duration": 23,
    "start_time": "2022-01-15T16:51:17.701Z"
   },
   {
    "duration": 6,
    "start_time": "2022-01-15T16:51:17.726Z"
   },
   {
    "duration": 12,
    "start_time": "2022-01-15T16:51:17.735Z"
   },
   {
    "duration": 7,
    "start_time": "2022-01-15T16:51:17.748Z"
   },
   {
    "duration": 38,
    "start_time": "2022-01-15T16:51:17.757Z"
   },
   {
    "duration": 3,
    "start_time": "2022-01-15T16:51:17.797Z"
   },
   {
    "duration": 13,
    "start_time": "2022-01-15T16:51:17.802Z"
   },
   {
    "duration": 3,
    "start_time": "2022-01-15T16:51:17.818Z"
   },
   {
    "duration": 10,
    "start_time": "2022-01-15T16:51:17.823Z"
   },
   {
    "duration": 19,
    "start_time": "2022-01-15T16:51:17.835Z"
   },
   {
    "duration": 49,
    "start_time": "2022-01-15T16:51:17.855Z"
   },
   {
    "duration": 8,
    "start_time": "2022-01-15T16:51:17.906Z"
   },
   {
    "duration": 19,
    "start_time": "2022-01-15T16:51:17.916Z"
   },
   {
    "duration": 14,
    "start_time": "2022-01-15T16:51:17.936Z"
   },
   {
    "duration": 51,
    "start_time": "2022-01-15T16:51:17.951Z"
   },
   {
    "duration": 14,
    "start_time": "2022-01-15T16:51:18.004Z"
   },
   {
    "duration": 2,
    "start_time": "2022-01-15T16:51:18.020Z"
   },
   {
    "duration": 41,
    "start_time": "2022-01-15T16:51:18.024Z"
   },
   {
    "duration": 29,
    "start_time": "2022-01-15T16:51:18.068Z"
   },
   {
    "duration": 20,
    "start_time": "2022-01-15T16:51:18.099Z"
   },
   {
    "duration": 17,
    "start_time": "2022-01-15T16:51:18.121Z"
   },
   {
    "duration": 2,
    "start_time": "2022-01-15T16:51:18.143Z"
   },
   {
    "duration": 5,
    "start_time": "2022-01-15T16:51:18.147Z"
   },
   {
    "duration": 38,
    "start_time": "2022-01-15T16:51:18.154Z"
   },
   {
    "duration": 12,
    "start_time": "2022-01-15T16:51:18.195Z"
   },
   {
    "duration": 15,
    "start_time": "2022-01-15T16:51:18.209Z"
   },
   {
    "duration": 16,
    "start_time": "2022-01-15T16:51:18.226Z"
   },
   {
    "duration": 5,
    "start_time": "2022-01-15T16:51:18.243Z"
   },
   {
    "duration": 55,
    "start_time": "2022-01-15T16:51:18.250Z"
   },
   {
    "duration": 11,
    "start_time": "2022-01-15T16:51:18.307Z"
   },
   {
    "duration": 3,
    "start_time": "2022-01-15T16:51:18.320Z"
   },
   {
    "duration": 12,
    "start_time": "2022-01-15T16:51:18.325Z"
   },
   {
    "duration": 2,
    "start_time": "2022-01-15T16:51:18.339Z"
   },
   {
    "duration": 48,
    "start_time": "2022-01-15T16:51:18.343Z"
   },
   {
    "duration": 2,
    "start_time": "2022-01-15T16:51:18.394Z"
   },
   {
    "duration": 10,
    "start_time": "2022-01-15T16:51:18.398Z"
   },
   {
    "duration": 3,
    "start_time": "2022-01-15T16:51:18.410Z"
   },
   {
    "duration": 13,
    "start_time": "2022-01-15T16:51:18.414Z"
   },
   {
    "duration": 11,
    "start_time": "2022-01-15T16:51:18.429Z"
   },
   {
    "duration": 11,
    "start_time": "2022-01-15T16:51:18.442Z"
   },
   {
    "duration": 3,
    "start_time": "2022-01-15T16:51:18.492Z"
   },
   {
    "duration": 14,
    "start_time": "2022-01-15T16:51:18.497Z"
   },
   {
    "duration": 10,
    "start_time": "2022-01-15T16:51:18.513Z"
   },
   {
    "duration": 8,
    "start_time": "2022-01-15T16:51:18.525Z"
   },
   {
    "duration": 4,
    "start_time": "2022-01-15T16:51:18.535Z"
   },
   {
    "duration": 59,
    "start_time": "2022-01-15T16:51:18.540Z"
   },
   {
    "duration": 7,
    "start_time": "2022-01-15T16:51:18.601Z"
   },
   {
    "duration": 8,
    "start_time": "2022-01-15T16:51:18.609Z"
   },
   {
    "duration": 11,
    "start_time": "2022-01-15T16:51:30.304Z"
   },
   {
    "duration": 7,
    "start_time": "2022-01-15T16:51:39.992Z"
   },
   {
    "duration": 7,
    "start_time": "2022-01-15T16:51:42.513Z"
   },
   {
    "duration": 3,
    "start_time": "2022-01-15T16:56:37.546Z"
   },
   {
    "duration": 5,
    "start_time": "2022-01-15T17:00:02.423Z"
   },
   {
    "duration": 9,
    "start_time": "2022-01-15T17:00:11.949Z"
   },
   {
    "duration": 179,
    "start_time": "2022-01-15T17:00:32.853Z"
   },
   {
    "duration": 188,
    "start_time": "2022-01-15T17:00:45.885Z"
   },
   {
    "duration": 7,
    "start_time": "2022-01-15T17:00:53.868Z"
   },
   {
    "duration": 8,
    "start_time": "2022-01-15T17:01:33.796Z"
   },
   {
    "duration": 55,
    "start_time": "2022-01-15T17:03:17.562Z"
   },
   {
    "duration": 199,
    "start_time": "2022-01-15T17:06:57.526Z"
   },
   {
    "duration": 180,
    "start_time": "2022-01-15T17:07:17.148Z"
   },
   {
    "duration": 5,
    "start_time": "2022-01-15T17:07:49.133Z"
   },
   {
    "duration": 8,
    "start_time": "2022-01-15T17:07:59.780Z"
   },
   {
    "duration": 173,
    "start_time": "2022-01-15T17:09:33.706Z"
   },
   {
    "duration": 8,
    "start_time": "2022-01-15T17:09:48.361Z"
   },
   {
    "duration": 5,
    "start_time": "2022-01-15T17:10:41.409Z"
   },
   {
    "duration": 17,
    "start_time": "2022-01-15T17:11:40.064Z"
   },
   {
    "duration": 4328,
    "start_time": "2022-01-15T17:23:42.377Z"
   },
   {
    "duration": 4492,
    "start_time": "2022-01-15T17:24:47.457Z"
   },
   {
    "duration": 4341,
    "start_time": "2022-01-15T17:25:50.423Z"
   },
   {
    "duration": 4262,
    "start_time": "2022-01-15T17:26:38.528Z"
   },
   {
    "duration": 4315,
    "start_time": "2022-01-15T17:28:06.989Z"
   },
   {
    "duration": 4275,
    "start_time": "2022-01-15T17:28:54.180Z"
   },
   {
    "duration": 4306,
    "start_time": "2022-01-15T17:29:25.883Z"
   },
   {
    "duration": 4687,
    "start_time": "2022-01-15T17:30:59.501Z"
   },
   {
    "duration": 4396,
    "start_time": "2022-01-15T17:33:50.214Z"
   },
   {
    "duration": 185,
    "start_time": "2022-01-15T17:35:49.162Z"
   },
   {
    "duration": 4373,
    "start_time": "2022-01-15T17:36:18.451Z"
   },
   {
    "duration": 169,
    "start_time": "2022-01-15T17:37:24.665Z"
   },
   {
    "duration": 6,
    "start_time": "2022-01-15T17:37:49.186Z"
   },
   {
    "duration": 175,
    "start_time": "2022-01-15T17:38:04.202Z"
   },
   {
    "duration": 181,
    "start_time": "2022-01-15T17:38:13.872Z"
   },
   {
    "duration": 5,
    "start_time": "2022-01-15T17:38:23.320Z"
   },
   {
    "duration": 7,
    "start_time": "2022-01-15T17:38:33.456Z"
   },
   {
    "duration": 52,
    "start_time": "2022-01-15T17:39:04.778Z"
   },
   {
    "duration": 82,
    "start_time": "2022-01-15T17:39:04.832Z"
   },
   {
    "duration": 3,
    "start_time": "2022-01-15T17:39:04.916Z"
   },
   {
    "duration": 15,
    "start_time": "2022-01-15T17:39:04.921Z"
   },
   {
    "duration": 11,
    "start_time": "2022-01-15T17:39:04.938Z"
   },
   {
    "duration": 3,
    "start_time": "2022-01-15T17:39:04.951Z"
   },
   {
    "duration": 3,
    "start_time": "2022-01-15T17:39:04.991Z"
   },
   {
    "duration": 5,
    "start_time": "2022-01-15T17:39:04.997Z"
   },
   {
    "duration": 7,
    "start_time": "2022-01-15T17:39:05.004Z"
   },
   {
    "duration": 10,
    "start_time": "2022-01-15T17:39:05.013Z"
   },
   {
    "duration": 4,
    "start_time": "2022-01-15T17:39:05.025Z"
   },
   {
    "duration": 9,
    "start_time": "2022-01-15T17:39:05.030Z"
   },
   {
    "duration": 53,
    "start_time": "2022-01-15T17:39:05.040Z"
   },
   {
    "duration": 2,
    "start_time": "2022-01-15T17:39:05.095Z"
   },
   {
    "duration": 42,
    "start_time": "2022-01-15T17:39:05.099Z"
   },
   {
    "duration": 2,
    "start_time": "2022-01-15T17:39:05.142Z"
   },
   {
    "duration": 13,
    "start_time": "2022-01-15T17:39:05.146Z"
   },
   {
    "duration": 31,
    "start_time": "2022-01-15T17:39:05.161Z"
   },
   {
    "duration": 7,
    "start_time": "2022-01-15T17:39:05.194Z"
   },
   {
    "duration": 8,
    "start_time": "2022-01-15T17:39:05.202Z"
   },
   {
    "duration": 5,
    "start_time": "2022-01-15T17:39:05.212Z"
   },
   {
    "duration": 6,
    "start_time": "2022-01-15T17:39:05.219Z"
   },
   {
    "duration": 7,
    "start_time": "2022-01-15T17:39:05.230Z"
   },
   {
    "duration": 7,
    "start_time": "2022-01-15T17:39:05.240Z"
   },
   {
    "duration": 44,
    "start_time": "2022-01-15T17:39:05.249Z"
   },
   {
    "duration": 7,
    "start_time": "2022-01-15T17:39:05.295Z"
   },
   {
    "duration": 5,
    "start_time": "2022-01-15T17:39:05.303Z"
   },
   {
    "duration": 11,
    "start_time": "2022-01-15T17:39:05.309Z"
   },
   {
    "duration": 4,
    "start_time": "2022-01-15T17:39:05.321Z"
   },
   {
    "duration": 6,
    "start_time": "2022-01-15T17:39:05.327Z"
   },
   {
    "duration": 21,
    "start_time": "2022-01-15T17:39:05.334Z"
   },
   {
    "duration": 39,
    "start_time": "2022-01-15T17:39:05.356Z"
   },
   {
    "duration": 6,
    "start_time": "2022-01-15T17:39:05.397Z"
   },
   {
    "duration": 4,
    "start_time": "2022-01-15T17:39:05.405Z"
   },
   {
    "duration": 8,
    "start_time": "2022-01-15T17:39:05.411Z"
   },
   {
    "duration": 7,
    "start_time": "2022-01-15T17:39:05.420Z"
   },
   {
    "duration": 7,
    "start_time": "2022-01-15T17:39:05.428Z"
   },
   {
    "duration": 5,
    "start_time": "2022-01-15T17:39:05.436Z"
   },
   {
    "duration": 7,
    "start_time": "2022-01-15T17:39:05.443Z"
   },
   {
    "duration": 12,
    "start_time": "2022-01-15T17:39:05.492Z"
   },
   {
    "duration": 6,
    "start_time": "2022-01-15T17:39:05.506Z"
   },
   {
    "duration": 11,
    "start_time": "2022-01-15T17:39:05.514Z"
   },
   {
    "duration": 12,
    "start_time": "2022-01-15T17:39:05.526Z"
   },
   {
    "duration": 5,
    "start_time": "2022-01-15T17:39:05.539Z"
   },
   {
    "duration": 7,
    "start_time": "2022-01-15T17:39:05.546Z"
   },
   {
    "duration": 38,
    "start_time": "2022-01-15T17:39:05.555Z"
   },
   {
    "duration": 13,
    "start_time": "2022-01-15T17:39:05.595Z"
   },
   {
    "duration": 4,
    "start_time": "2022-01-15T17:39:05.610Z"
   },
   {
    "duration": 21,
    "start_time": "2022-01-15T17:39:05.615Z"
   },
   {
    "duration": 7,
    "start_time": "2022-01-15T17:39:05.637Z"
   },
   {
    "duration": 10,
    "start_time": "2022-01-15T17:39:05.645Z"
   },
   {
    "duration": 11,
    "start_time": "2022-01-15T17:39:05.656Z"
   },
   {
    "duration": 30,
    "start_time": "2022-01-15T17:39:05.668Z"
   },
   {
    "duration": 4,
    "start_time": "2022-01-15T17:39:05.699Z"
   },
   {
    "duration": 9,
    "start_time": "2022-01-15T17:39:05.705Z"
   },
   {
    "duration": 20,
    "start_time": "2022-01-15T17:39:05.716Z"
   },
   {
    "duration": 15,
    "start_time": "2022-01-15T17:39:05.738Z"
   },
   {
    "duration": 42,
    "start_time": "2022-01-15T17:39:05.754Z"
   },
   {
    "duration": 22,
    "start_time": "2022-01-15T17:39:05.798Z"
   },
   {
    "duration": 15,
    "start_time": "2022-01-15T17:39:05.822Z"
   },
   {
    "duration": 17,
    "start_time": "2022-01-15T17:39:05.839Z"
   },
   {
    "duration": 45,
    "start_time": "2022-01-15T17:39:05.857Z"
   },
   {
    "duration": 2,
    "start_time": "2022-01-15T17:39:05.904Z"
   },
   {
    "duration": 49,
    "start_time": "2022-01-15T17:39:05.908Z"
   },
   {
    "duration": 5,
    "start_time": "2022-01-15T17:39:05.959Z"
   },
   {
    "duration": 35,
    "start_time": "2022-01-15T17:39:05.966Z"
   },
   {
    "duration": 21,
    "start_time": "2022-01-15T17:39:06.003Z"
   },
   {
    "duration": 4,
    "start_time": "2022-01-15T17:39:06.029Z"
   },
   {
    "duration": 28,
    "start_time": "2022-01-15T17:39:06.035Z"
   },
   {
    "duration": 14,
    "start_time": "2022-01-15T17:39:06.065Z"
   },
   {
    "duration": 22,
    "start_time": "2022-01-15T17:39:06.081Z"
   },
   {
    "duration": 17,
    "start_time": "2022-01-15T17:39:06.104Z"
   },
   {
    "duration": 14,
    "start_time": "2022-01-15T17:39:06.123Z"
   },
   {
    "duration": 4,
    "start_time": "2022-01-15T17:39:06.139Z"
   },
   {
    "duration": 22,
    "start_time": "2022-01-15T17:39:06.145Z"
   },
   {
    "duration": 26,
    "start_time": "2022-01-15T17:39:06.168Z"
   },
   {
    "duration": 2,
    "start_time": "2022-01-15T17:39:06.196Z"
   },
   {
    "duration": 15,
    "start_time": "2022-01-15T17:39:06.200Z"
   },
   {
    "duration": 3,
    "start_time": "2022-01-15T17:39:06.216Z"
   },
   {
    "duration": 16,
    "start_time": "2022-01-15T17:39:06.220Z"
   },
   {
    "duration": 2,
    "start_time": "2022-01-15T17:39:06.238Z"
   },
   {
    "duration": 10,
    "start_time": "2022-01-15T17:39:06.242Z"
   },
   {
    "duration": 2,
    "start_time": "2022-01-15T17:39:06.254Z"
   },
   {
    "duration": 39,
    "start_time": "2022-01-15T17:39:06.258Z"
   },
   {
    "duration": 11,
    "start_time": "2022-01-15T17:39:06.299Z"
   },
   {
    "duration": 10,
    "start_time": "2022-01-15T17:39:06.312Z"
   },
   {
    "duration": 4,
    "start_time": "2022-01-15T17:39:06.323Z"
   },
   {
    "duration": 11,
    "start_time": "2022-01-15T17:39:06.329Z"
   },
   {
    "duration": 12,
    "start_time": "2022-01-15T17:39:06.341Z"
   },
   {
    "duration": 43,
    "start_time": "2022-01-15T17:39:06.355Z"
   },
   {
    "duration": 10,
    "start_time": "2022-01-15T17:39:06.399Z"
   },
   {
    "duration": 14,
    "start_time": "2022-01-15T17:39:06.411Z"
   },
   {
    "duration": 6,
    "start_time": "2022-01-15T17:39:06.427Z"
   },
   {
    "duration": 13,
    "start_time": "2022-01-15T17:39:06.434Z"
   },
   {
    "duration": 14,
    "start_time": "2022-01-15T17:39:06.449Z"
   },
   {
    "duration": 2,
    "start_time": "2022-01-15T17:39:06.465Z"
   },
   {
    "duration": 2,
    "start_time": "2022-01-15T17:39:09.218Z"
   },
   {
    "duration": 6,
    "start_time": "2022-01-15T17:39:10.025Z"
   },
   {
    "duration": 178,
    "start_time": "2022-01-15T17:40:23.390Z"
   },
   {
    "duration": 9,
    "start_time": "2022-01-15T17:40:37.070Z"
   },
   {
    "duration": 10,
    "start_time": "2022-01-15T17:41:48.453Z"
   },
   {
    "duration": 6,
    "start_time": "2022-01-15T17:42:14.316Z"
   },
   {
    "duration": 11,
    "start_time": "2022-01-15T17:44:43.835Z"
   },
   {
    "duration": 7,
    "start_time": "2022-01-15T17:44:47.787Z"
   },
   {
    "duration": 7,
    "start_time": "2022-01-15T17:44:49.155Z"
   },
   {
    "duration": 15,
    "start_time": "2022-01-15T17:44:50.715Z"
   },
   {
    "duration": 8,
    "start_time": "2022-01-15T17:58:43.911Z"
   },
   {
    "duration": 7,
    "start_time": "2022-01-15T17:58:49.880Z"
   },
   {
    "duration": 7,
    "start_time": "2022-01-15T17:58:53.593Z"
   },
   {
    "duration": 8,
    "start_time": "2022-01-15T17:58:58.137Z"
   },
   {
    "duration": 51,
    "start_time": "2022-01-15T17:59:26.210Z"
   },
   {
    "duration": 67,
    "start_time": "2022-01-15T17:59:26.263Z"
   },
   {
    "duration": 3,
    "start_time": "2022-01-15T17:59:26.333Z"
   },
   {
    "duration": 15,
    "start_time": "2022-01-15T17:59:26.339Z"
   },
   {
    "duration": 36,
    "start_time": "2022-01-15T17:59:26.356Z"
   },
   {
    "duration": 6,
    "start_time": "2022-01-15T17:59:26.394Z"
   },
   {
    "duration": 4,
    "start_time": "2022-01-15T17:59:26.402Z"
   },
   {
    "duration": 3,
    "start_time": "2022-01-15T17:59:26.408Z"
   },
   {
    "duration": 4,
    "start_time": "2022-01-15T17:59:26.413Z"
   },
   {
    "duration": 8,
    "start_time": "2022-01-15T17:59:26.419Z"
   },
   {
    "duration": 3,
    "start_time": "2022-01-15T17:59:26.429Z"
   },
   {
    "duration": 58,
    "start_time": "2022-01-15T17:59:26.433Z"
   },
   {
    "duration": 7,
    "start_time": "2022-01-15T17:59:26.493Z"
   },
   {
    "duration": 2,
    "start_time": "2022-01-15T17:59:26.502Z"
   },
   {
    "duration": 40,
    "start_time": "2022-01-15T17:59:26.506Z"
   },
   {
    "duration": 2,
    "start_time": "2022-01-15T17:59:26.548Z"
   },
   {
    "duration": 10,
    "start_time": "2022-01-15T17:59:26.591Z"
   },
   {
    "duration": 8,
    "start_time": "2022-01-15T17:59:26.602Z"
   },
   {
    "duration": 173,
    "start_time": "2022-01-15T17:59:26.612Z"
   },
   {
    "duration": -1052,
    "start_time": "2022-01-15T17:59:27.842Z"
   },
   {
    "duration": -1056,
    "start_time": "2022-01-15T17:59:27.847Z"
   },
   {
    "duration": -1059,
    "start_time": "2022-01-15T17:59:27.852Z"
   },
   {
    "duration": -1063,
    "start_time": "2022-01-15T17:59:27.857Z"
   },
   {
    "duration": -1075,
    "start_time": "2022-01-15T17:59:27.870Z"
   },
   {
    "duration": -1078,
    "start_time": "2022-01-15T17:59:27.875Z"
   },
   {
    "duration": -1082,
    "start_time": "2022-01-15T17:59:27.880Z"
   },
   {
    "duration": -1086,
    "start_time": "2022-01-15T17:59:27.885Z"
   },
   {
    "duration": -1090,
    "start_time": "2022-01-15T17:59:27.890Z"
   },
   {
    "duration": -1094,
    "start_time": "2022-01-15T17:59:27.896Z"
   },
   {
    "duration": -1098,
    "start_time": "2022-01-15T17:59:27.900Z"
   },
   {
    "duration": -1102,
    "start_time": "2022-01-15T17:59:27.905Z"
   },
   {
    "duration": -1105,
    "start_time": "2022-01-15T17:59:27.909Z"
   },
   {
    "duration": -1108,
    "start_time": "2022-01-15T17:59:27.913Z"
   },
   {
    "duration": -1114,
    "start_time": "2022-01-15T17:59:27.919Z"
   },
   {
    "duration": -1117,
    "start_time": "2022-01-15T17:59:27.923Z"
   },
   {
    "duration": -1121,
    "start_time": "2022-01-15T17:59:27.928Z"
   },
   {
    "duration": -1124,
    "start_time": "2022-01-15T17:59:27.932Z"
   },
   {
    "duration": -1128,
    "start_time": "2022-01-15T17:59:27.937Z"
   },
   {
    "duration": -1132,
    "start_time": "2022-01-15T17:59:27.942Z"
   },
   {
    "duration": -1136,
    "start_time": "2022-01-15T17:59:27.946Z"
   },
   {
    "duration": -1140,
    "start_time": "2022-01-15T17:59:27.951Z"
   },
   {
    "duration": -1144,
    "start_time": "2022-01-15T17:59:27.956Z"
   },
   {
    "duration": -1147,
    "start_time": "2022-01-15T17:59:27.960Z"
   },
   {
    "duration": -1151,
    "start_time": "2022-01-15T17:59:27.965Z"
   },
   {
    "duration": -1166,
    "start_time": "2022-01-15T17:59:27.980Z"
   },
   {
    "duration": -1170,
    "start_time": "2022-01-15T17:59:27.986Z"
   },
   {
    "duration": -1173,
    "start_time": "2022-01-15T17:59:27.990Z"
   },
   {
    "duration": -1176,
    "start_time": "2022-01-15T17:59:27.995Z"
   },
   {
    "duration": -1180,
    "start_time": "2022-01-15T17:59:28.000Z"
   },
   {
    "duration": -1184,
    "start_time": "2022-01-15T17:59:28.005Z"
   },
   {
    "duration": -1186,
    "start_time": "2022-01-15T17:59:28.009Z"
   },
   {
    "duration": -1190,
    "start_time": "2022-01-15T17:59:28.014Z"
   },
   {
    "duration": -1193,
    "start_time": "2022-01-15T17:59:28.018Z"
   },
   {
    "duration": -1197,
    "start_time": "2022-01-15T17:59:28.023Z"
   },
   {
    "duration": -1199,
    "start_time": "2022-01-15T17:59:28.027Z"
   },
   {
    "duration": -1203,
    "start_time": "2022-01-15T17:59:28.032Z"
   },
   {
    "duration": -1207,
    "start_time": "2022-01-15T17:59:28.037Z"
   },
   {
    "duration": -1210,
    "start_time": "2022-01-15T17:59:28.042Z"
   },
   {
    "duration": -1213,
    "start_time": "2022-01-15T17:59:28.046Z"
   },
   {
    "duration": -1217,
    "start_time": "2022-01-15T17:59:28.051Z"
   },
   {
    "duration": -1164,
    "start_time": "2022-01-15T17:59:28.055Z"
   },
   {
    "duration": -1168,
    "start_time": "2022-01-15T17:59:28.060Z"
   },
   {
    "duration": -1171,
    "start_time": "2022-01-15T17:59:28.064Z"
   },
   {
    "duration": -1175,
    "start_time": "2022-01-15T17:59:28.070Z"
   },
   {
    "duration": -1176,
    "start_time": "2022-01-15T17:59:28.074Z"
   },
   {
    "duration": -1191,
    "start_time": "2022-01-15T17:59:28.090Z"
   },
   {
    "duration": -1195,
    "start_time": "2022-01-15T17:59:28.095Z"
   },
   {
    "duration": -1198,
    "start_time": "2022-01-15T17:59:28.099Z"
   },
   {
    "duration": -1203,
    "start_time": "2022-01-15T17:59:28.105Z"
   },
   {
    "duration": -1206,
    "start_time": "2022-01-15T17:59:28.109Z"
   },
   {
    "duration": -1209,
    "start_time": "2022-01-15T17:59:28.114Z"
   },
   {
    "duration": -1213,
    "start_time": "2022-01-15T17:59:28.119Z"
   },
   {
    "duration": -1219,
    "start_time": "2022-01-15T17:59:28.126Z"
   },
   {
    "duration": -1223,
    "start_time": "2022-01-15T17:59:28.131Z"
   },
   {
    "duration": -1227,
    "start_time": "2022-01-15T17:59:28.136Z"
   },
   {
    "duration": -1231,
    "start_time": "2022-01-15T17:59:28.141Z"
   },
   {
    "duration": -1234,
    "start_time": "2022-01-15T17:59:28.145Z"
   },
   {
    "duration": -1236,
    "start_time": "2022-01-15T17:59:28.149Z"
   },
   {
    "duration": -1241,
    "start_time": "2022-01-15T17:59:28.154Z"
   },
   {
    "duration": -1245,
    "start_time": "2022-01-15T17:59:28.159Z"
   },
   {
    "duration": -1248,
    "start_time": "2022-01-15T17:59:28.163Z"
   },
   {
    "duration": -1252,
    "start_time": "2022-01-15T17:59:28.169Z"
   },
   {
    "duration": -1255,
    "start_time": "2022-01-15T17:59:28.173Z"
   },
   {
    "duration": -1258,
    "start_time": "2022-01-15T17:59:28.177Z"
   },
   {
    "duration": -1261,
    "start_time": "2022-01-15T17:59:28.182Z"
   },
   {
    "duration": -1265,
    "start_time": "2022-01-15T17:59:28.187Z"
   },
   {
    "duration": -1279,
    "start_time": "2022-01-15T17:59:28.202Z"
   },
   {
    "duration": -1282,
    "start_time": "2022-01-15T17:59:28.207Z"
   },
   {
    "duration": -1285,
    "start_time": "2022-01-15T17:59:28.211Z"
   },
   {
    "duration": -1289,
    "start_time": "2022-01-15T17:59:28.216Z"
   },
   {
    "duration": -1292,
    "start_time": "2022-01-15T17:59:28.221Z"
   },
   {
    "duration": -1295,
    "start_time": "2022-01-15T17:59:28.225Z"
   },
   {
    "duration": -1299,
    "start_time": "2022-01-15T17:59:28.230Z"
   },
   {
    "duration": -1244,
    "start_time": "2022-01-15T17:59:28.235Z"
   },
   {
    "duration": -1246,
    "start_time": "2022-01-15T17:59:28.239Z"
   },
   {
    "duration": -1250,
    "start_time": "2022-01-15T17:59:28.244Z"
   },
   {
    "duration": -1253,
    "start_time": "2022-01-15T17:59:28.249Z"
   },
   {
    "duration": -1256,
    "start_time": "2022-01-15T17:59:28.253Z"
   },
   {
    "duration": -1259,
    "start_time": "2022-01-15T17:59:28.258Z"
   },
   {
    "duration": -1262,
    "start_time": "2022-01-15T17:59:28.262Z"
   },
   {
    "duration": -1265,
    "start_time": "2022-01-15T17:59:28.267Z"
   },
   {
    "duration": -1270,
    "start_time": "2022-01-15T17:59:28.273Z"
   },
   {
    "duration": -1274,
    "start_time": "2022-01-15T17:59:28.278Z"
   },
   {
    "duration": -1277,
    "start_time": "2022-01-15T17:59:28.283Z"
   },
   {
    "duration": -1281,
    "start_time": "2022-01-15T17:59:28.288Z"
   },
   {
    "duration": -1285,
    "start_time": "2022-01-15T17:59:28.293Z"
   },
   {
    "duration": -1288,
    "start_time": "2022-01-15T17:59:28.298Z"
   },
   {
    "duration": -1303,
    "start_time": "2022-01-15T17:59:28.314Z"
   },
   {
    "duration": -1307,
    "start_time": "2022-01-15T17:59:28.319Z"
   },
   {
    "duration": 2,
    "start_time": "2022-01-15T17:59:32.320Z"
   },
   {
    "duration": 179,
    "start_time": "2022-01-15T17:59:33.143Z"
   },
   {
    "duration": 6,
    "start_time": "2022-01-15T18:01:08.413Z"
   },
   {
    "duration": 8,
    "start_time": "2022-01-15T18:02:11.993Z"
   },
   {
    "duration": 13,
    "start_time": "2022-01-15T18:02:12.004Z"
   },
   {
    "duration": 20,
    "start_time": "2022-01-15T18:02:12.020Z"
   },
   {
    "duration": 13,
    "start_time": "2022-01-15T18:02:12.042Z"
   },
   {
    "duration": 11,
    "start_time": "2022-01-15T18:02:12.057Z"
   },
   {
    "duration": 22,
    "start_time": "2022-01-15T18:02:12.069Z"
   },
   {
    "duration": 17,
    "start_time": "2022-01-15T18:02:12.093Z"
   },
   {
    "duration": 25,
    "start_time": "2022-01-15T18:02:12.112Z"
   },
   {
    "duration": 25,
    "start_time": "2022-01-15T18:02:12.138Z"
   },
   {
    "duration": 16,
    "start_time": "2022-01-15T18:02:12.164Z"
   },
   {
    "duration": 4,
    "start_time": "2022-01-15T18:02:12.182Z"
   },
   {
    "duration": 24,
    "start_time": "2022-01-15T18:02:12.187Z"
   },
   {
    "duration": 17,
    "start_time": "2022-01-15T18:02:12.213Z"
   },
   {
    "duration": 13,
    "start_time": "2022-01-15T18:02:12.232Z"
   },
   {
    "duration": 35,
    "start_time": "2022-01-15T18:02:12.247Z"
   },
   {
    "duration": 5,
    "start_time": "2022-01-15T18:02:12.284Z"
   },
   {
    "duration": 6,
    "start_time": "2022-01-15T18:02:12.290Z"
   },
   {
    "duration": 28,
    "start_time": "2022-01-15T18:02:12.298Z"
   },
   {
    "duration": 18,
    "start_time": "2022-01-15T18:02:12.327Z"
   },
   {
    "duration": 15,
    "start_time": "2022-01-15T18:02:12.346Z"
   },
   {
    "duration": 23,
    "start_time": "2022-01-15T18:02:12.362Z"
   },
   {
    "duration": 19,
    "start_time": "2022-01-15T18:02:12.387Z"
   },
   {
    "duration": 15,
    "start_time": "2022-01-15T18:02:12.410Z"
   },
   {
    "duration": 4,
    "start_time": "2022-01-15T18:02:12.427Z"
   },
   {
    "duration": 25,
    "start_time": "2022-01-15T18:02:12.433Z"
   },
   {
    "duration": 24,
    "start_time": "2022-01-15T18:02:12.459Z"
   },
   {
    "duration": 17,
    "start_time": "2022-01-15T18:02:12.485Z"
   },
   {
    "duration": 38,
    "start_time": "2022-01-15T18:02:12.504Z"
   },
   {
    "duration": 183,
    "start_time": "2022-01-15T18:02:12.543Z"
   },
   {
    "duration": -870,
    "start_time": "2022-01-15T18:02:13.600Z"
   },
   {
    "duration": -978,
    "start_time": "2022-01-15T18:02:13.709Z"
   },
   {
    "duration": -1048,
    "start_time": "2022-01-15T18:02:13.780Z"
   },
   {
    "duration": -1056,
    "start_time": "2022-01-15T18:02:13.789Z"
   },
   {
    "duration": -1332,
    "start_time": "2022-01-15T18:02:14.066Z"
   },
   {
    "duration": -1347,
    "start_time": "2022-01-15T18:02:14.082Z"
   },
   {
    "duration": -1361,
    "start_time": "2022-01-15T18:02:14.097Z"
   },
   {
    "duration": -1374,
    "start_time": "2022-01-15T18:02:14.111Z"
   },
   {
    "duration": -1379,
    "start_time": "2022-01-15T18:02:14.117Z"
   },
   {
    "duration": -1394,
    "start_time": "2022-01-15T18:02:14.133Z"
   },
   {
    "duration": -1408,
    "start_time": "2022-01-15T18:02:14.148Z"
   },
   {
    "duration": -1421,
    "start_time": "2022-01-15T18:02:14.162Z"
   },
   {
    "duration": -1426,
    "start_time": "2022-01-15T18:02:14.168Z"
   },
   {
    "duration": -1522,
    "start_time": "2022-01-15T18:02:14.265Z"
   },
   {
    "duration": -1525,
    "start_time": "2022-01-15T18:02:14.269Z"
   },
   {
    "duration": -1528,
    "start_time": "2022-01-15T18:02:14.274Z"
   },
   {
    "duration": -1542,
    "start_time": "2022-01-15T18:02:14.289Z"
   },
   {
    "duration": -1546,
    "start_time": "2022-01-15T18:02:14.294Z"
   },
   {
    "duration": -1551,
    "start_time": "2022-01-15T18:02:14.300Z"
   },
   {
    "duration": -1954,
    "start_time": "2022-01-15T18:02:14.704Z"
   },
   {
    "duration": -1958,
    "start_time": "2022-01-15T18:02:14.708Z"
   },
   {
    "duration": -1961,
    "start_time": "2022-01-15T18:02:14.713Z"
   },
   {
    "duration": -1965,
    "start_time": "2022-01-15T18:02:14.718Z"
   },
   {
    "duration": -1970,
    "start_time": "2022-01-15T18:02:14.724Z"
   },
   {
    "duration": -1973,
    "start_time": "2022-01-15T18:02:14.728Z"
   },
   {
    "duration": -1978,
    "start_time": "2022-01-15T18:02:14.734Z"
   },
   {
    "duration": -1981,
    "start_time": "2022-01-15T18:02:14.738Z"
   },
   {
    "duration": -1985,
    "start_time": "2022-01-15T18:02:14.743Z"
   },
   {
    "duration": -1990,
    "start_time": "2022-01-15T18:02:14.749Z"
   },
   {
    "duration": -2008,
    "start_time": "2022-01-15T18:02:14.768Z"
   },
   {
    "duration": -2022,
    "start_time": "2022-01-15T18:02:14.783Z"
   },
   {
    "duration": -2038,
    "start_time": "2022-01-15T18:02:14.800Z"
   },
   {
    "duration": -2054,
    "start_time": "2022-01-15T18:02:14.817Z"
   },
   {
    "duration": -2069,
    "start_time": "2022-01-15T18:02:14.833Z"
   },
   {
    "duration": -2084,
    "start_time": "2022-01-15T18:02:14.849Z"
   },
   {
    "duration": -2099,
    "start_time": "2022-01-15T18:02:14.865Z"
   },
   {
    "duration": -2088,
    "start_time": "2022-01-15T18:02:14.879Z"
   },
   {
    "duration": -2103,
    "start_time": "2022-01-15T18:02:14.895Z"
   },
   {
    "duration": -2107,
    "start_time": "2022-01-15T18:02:14.900Z"
   },
   {
    "duration": -2121,
    "start_time": "2022-01-15T18:02:14.915Z"
   },
   {
    "duration": -2133,
    "start_time": "2022-01-15T18:02:14.928Z"
   },
   {
    "duration": -2138,
    "start_time": "2022-01-15T18:02:14.934Z"
   },
   {
    "duration": -2151,
    "start_time": "2022-01-15T18:02:14.948Z"
   },
   {
    "duration": -2155,
    "start_time": "2022-01-15T18:02:14.953Z"
   },
   {
    "duration": -2158,
    "start_time": "2022-01-15T18:02:14.957Z"
   },
   {
    "duration": -2162,
    "start_time": "2022-01-15T18:02:14.962Z"
   },
   {
    "duration": -2166,
    "start_time": "2022-01-15T18:02:14.967Z"
   },
   {
    "duration": -2170,
    "start_time": "2022-01-15T18:02:14.972Z"
   },
   {
    "duration": -2173,
    "start_time": "2022-01-15T18:02:14.976Z"
   },
   {
    "duration": -2177,
    "start_time": "2022-01-15T18:02:14.981Z"
   },
   {
    "duration": -2181,
    "start_time": "2022-01-15T18:02:14.986Z"
   },
   {
    "duration": -2184,
    "start_time": "2022-01-15T18:02:14.990Z"
   },
   {
    "duration": -2188,
    "start_time": "2022-01-15T18:02:14.995Z"
   },
   {
    "duration": -2193,
    "start_time": "2022-01-15T18:02:15.001Z"
   },
   {
    "duration": -2196,
    "start_time": "2022-01-15T18:02:15.005Z"
   },
   {
    "duration": -2200,
    "start_time": "2022-01-15T18:02:15.010Z"
   },
   {
    "duration": -2203,
    "start_time": "2022-01-15T18:02:15.015Z"
   },
   {
    "duration": -2207,
    "start_time": "2022-01-15T18:02:15.020Z"
   },
   {
    "duration": -2210,
    "start_time": "2022-01-15T18:02:15.024Z"
   },
   {
    "duration": -2214,
    "start_time": "2022-01-15T18:02:15.029Z"
   },
   {
    "duration": -2218,
    "start_time": "2022-01-15T18:02:15.034Z"
   },
   {
    "duration": -2221,
    "start_time": "2022-01-15T18:02:15.038Z"
   },
   {
    "duration": -2225,
    "start_time": "2022-01-15T18:02:15.043Z"
   },
   {
    "duration": -2241,
    "start_time": "2022-01-15T18:02:15.060Z"
   },
   {
    "duration": -2245,
    "start_time": "2022-01-15T18:02:15.065Z"
   },
   {
    "duration": -2250,
    "start_time": "2022-01-15T18:02:15.070Z"
   },
   {
    "duration": -2253,
    "start_time": "2022-01-15T18:02:15.074Z"
   },
   {
    "duration": -2256,
    "start_time": "2022-01-15T18:02:15.079Z"
   },
   {
    "duration": -2261,
    "start_time": "2022-01-15T18:02:15.084Z"
   },
   {
    "duration": -2264,
    "start_time": "2022-01-15T18:02:15.088Z"
   },
   {
    "duration": -2268,
    "start_time": "2022-01-15T18:02:15.093Z"
   },
   {
    "duration": -2272,
    "start_time": "2022-01-15T18:02:15.098Z"
   },
   {
    "duration": -2276,
    "start_time": "2022-01-15T18:02:15.103Z"
   },
   {
    "duration": -2279,
    "start_time": "2022-01-15T18:02:15.107Z"
   },
   {
    "duration": -2283,
    "start_time": "2022-01-15T18:02:15.112Z"
   },
   {
    "duration": -2287,
    "start_time": "2022-01-15T18:02:15.117Z"
   },
   {
    "duration": -2290,
    "start_time": "2022-01-15T18:02:15.121Z"
   },
   {
    "duration": -2295,
    "start_time": "2022-01-15T18:02:15.126Z"
   },
   {
    "duration": -2299,
    "start_time": "2022-01-15T18:02:15.131Z"
   },
   {
    "duration": -2303,
    "start_time": "2022-01-15T18:02:15.136Z"
   },
   {
    "duration": -2307,
    "start_time": "2022-01-15T18:02:15.140Z"
   },
   {
    "duration": -2311,
    "start_time": "2022-01-15T18:02:15.145Z"
   },
   {
    "duration": -2315,
    "start_time": "2022-01-15T18:02:15.149Z"
   },
   {
    "duration": -2263,
    "start_time": "2022-01-15T18:02:15.154Z"
   },
   {
    "duration": -2279,
    "start_time": "2022-01-15T18:02:15.171Z"
   },
   {
    "duration": -2283,
    "start_time": "2022-01-15T18:02:15.176Z"
   },
   {
    "duration": -2287,
    "start_time": "2022-01-15T18:02:15.181Z"
   },
   {
    "duration": 11,
    "start_time": "2022-01-15T18:06:02.351Z"
   },
   {
    "duration": 53,
    "start_time": "2022-01-15T18:06:09.767Z"
   },
   {
    "duration": 88,
    "start_time": "2022-01-15T18:06:09.821Z"
   },
   {
    "duration": 3,
    "start_time": "2022-01-15T18:06:09.911Z"
   },
   {
    "duration": 13,
    "start_time": "2022-01-15T18:06:09.916Z"
   },
   {
    "duration": 12,
    "start_time": "2022-01-15T18:06:09.931Z"
   },
   {
    "duration": 4,
    "start_time": "2022-01-15T18:06:09.945Z"
   },
   {
    "duration": 5,
    "start_time": "2022-01-15T18:06:09.950Z"
   },
   {
    "duration": 4,
    "start_time": "2022-01-15T18:06:09.993Z"
   },
   {
    "duration": 5,
    "start_time": "2022-01-15T18:06:09.999Z"
   },
   {
    "duration": 10,
    "start_time": "2022-01-15T18:06:10.006Z"
   },
   {
    "duration": 5,
    "start_time": "2022-01-15T18:06:10.018Z"
   },
   {
    "duration": 8,
    "start_time": "2022-01-15T18:06:10.025Z"
   },
   {
    "duration": 9,
    "start_time": "2022-01-15T18:06:10.035Z"
   },
   {
    "duration": 3,
    "start_time": "2022-01-15T18:06:10.092Z"
   },
   {
    "duration": 46,
    "start_time": "2022-01-15T18:06:10.097Z"
   },
   {
    "duration": 3,
    "start_time": "2022-01-15T18:06:10.145Z"
   },
   {
    "duration": 12,
    "start_time": "2022-01-15T18:06:10.150Z"
   },
   {
    "duration": 33,
    "start_time": "2022-01-15T18:06:10.164Z"
   },
   {
    "duration": 16,
    "start_time": "2022-01-15T18:06:10.199Z"
   },
   {
    "duration": 5,
    "start_time": "2022-01-15T18:06:10.216Z"
   },
   {
    "duration": 6,
    "start_time": "2022-01-15T18:06:10.223Z"
   },
   {
    "duration": 6,
    "start_time": "2022-01-15T18:06:10.231Z"
   },
   {
    "duration": 4,
    "start_time": "2022-01-15T18:06:10.240Z"
   },
   {
    "duration": 4,
    "start_time": "2022-01-15T18:06:10.246Z"
   },
   {
    "duration": 40,
    "start_time": "2022-01-15T18:06:10.252Z"
   },
   {
    "duration": 4,
    "start_time": "2022-01-15T18:06:10.294Z"
   },
   {
    "duration": 5,
    "start_time": "2022-01-15T18:06:10.300Z"
   },
   {
    "duration": 5,
    "start_time": "2022-01-15T18:06:10.307Z"
   },
   {
    "duration": 4,
    "start_time": "2022-01-15T18:06:10.314Z"
   },
   {
    "duration": 9,
    "start_time": "2022-01-15T18:06:10.320Z"
   },
   {
    "duration": 5,
    "start_time": "2022-01-15T18:06:10.330Z"
   },
   {
    "duration": 5,
    "start_time": "2022-01-15T18:06:10.336Z"
   },
   {
    "duration": 64,
    "start_time": "2022-01-15T18:06:10.342Z"
   },
   {
    "duration": 5,
    "start_time": "2022-01-15T18:06:10.408Z"
   },
   {
    "duration": 5,
    "start_time": "2022-01-15T18:06:10.415Z"
   },
   {
    "duration": 8,
    "start_time": "2022-01-15T18:06:10.421Z"
   },
   {
    "duration": 7,
    "start_time": "2022-01-15T18:06:10.430Z"
   },
   {
    "duration": 8,
    "start_time": "2022-01-15T18:06:10.439Z"
   },
   {
    "duration": 43,
    "start_time": "2022-01-15T18:06:10.448Z"
   },
   {
    "duration": 7,
    "start_time": "2022-01-15T18:06:10.493Z"
   },
   {
    "duration": 6,
    "start_time": "2022-01-15T18:06:10.501Z"
   },
   {
    "duration": 6,
    "start_time": "2022-01-15T18:06:10.508Z"
   },
   {
    "duration": 4,
    "start_time": "2022-01-15T18:06:10.516Z"
   },
   {
    "duration": 7,
    "start_time": "2022-01-15T18:06:10.521Z"
   },
   {
    "duration": 7,
    "start_time": "2022-01-15T18:06:10.529Z"
   },
   {
    "duration": 6,
    "start_time": "2022-01-15T18:06:12.336Z"
   },
   {
    "duration": 9,
    "start_time": "2022-01-15T18:06:13.872Z"
   },
   {
    "duration": 6,
    "start_time": "2022-01-15T18:06:41.455Z"
   },
   {
    "duration": 9,
    "start_time": "2022-01-15T18:06:48.289Z"
   },
   {
    "duration": 9,
    "start_time": "2022-01-15T18:07:06.055Z"
   },
   {
    "duration": 11,
    "start_time": "2022-01-15T18:07:14.855Z"
   },
   {
    "duration": 54,
    "start_time": "2022-01-15T18:07:20.376Z"
   },
   {
    "duration": 91,
    "start_time": "2022-01-15T18:07:20.432Z"
   },
   {
    "duration": 3,
    "start_time": "2022-01-15T18:07:20.525Z"
   },
   {
    "duration": 15,
    "start_time": "2022-01-15T18:07:20.530Z"
   },
   {
    "duration": 13,
    "start_time": "2022-01-15T18:07:20.547Z"
   },
   {
    "duration": 4,
    "start_time": "2022-01-15T18:07:20.592Z"
   },
   {
    "duration": 5,
    "start_time": "2022-01-15T18:07:20.598Z"
   },
   {
    "duration": 4,
    "start_time": "2022-01-15T18:07:20.607Z"
   },
   {
    "duration": 5,
    "start_time": "2022-01-15T18:07:20.613Z"
   },
   {
    "duration": 10,
    "start_time": "2022-01-15T18:07:20.620Z"
   },
   {
    "duration": 4,
    "start_time": "2022-01-15T18:07:20.632Z"
   },
   {
    "duration": 9,
    "start_time": "2022-01-15T18:07:20.637Z"
   },
   {
    "duration": 52,
    "start_time": "2022-01-15T18:07:20.648Z"
   },
   {
    "duration": 3,
    "start_time": "2022-01-15T18:07:20.702Z"
   },
   {
    "duration": 42,
    "start_time": "2022-01-15T18:07:20.707Z"
   },
   {
    "duration": 3,
    "start_time": "2022-01-15T18:07:20.751Z"
   },
   {
    "duration": 44,
    "start_time": "2022-01-15T18:07:20.756Z"
   },
   {
    "duration": 9,
    "start_time": "2022-01-15T18:07:20.802Z"
   },
   {
    "duration": 7,
    "start_time": "2022-01-15T18:07:20.813Z"
   },
   {
    "duration": 12,
    "start_time": "2022-01-15T18:07:20.822Z"
   },
   {
    "duration": 15,
    "start_time": "2022-01-15T18:07:20.836Z"
   },
   {
    "duration": 16,
    "start_time": "2022-01-15T18:07:20.853Z"
   },
   {
    "duration": 22,
    "start_time": "2022-01-15T18:07:20.873Z"
   },
   {
    "duration": 8,
    "start_time": "2022-01-15T18:07:20.898Z"
   },
   {
    "duration": 7,
    "start_time": "2022-01-15T18:07:20.908Z"
   },
   {
    "duration": 5,
    "start_time": "2022-01-15T18:07:20.916Z"
   },
   {
    "duration": 9,
    "start_time": "2022-01-15T18:07:20.923Z"
   },
   {
    "duration": 8,
    "start_time": "2022-01-15T18:07:20.934Z"
   },
   {
    "duration": 5,
    "start_time": "2022-01-15T18:07:20.944Z"
   },
   {
    "duration": 47,
    "start_time": "2022-01-15T18:07:20.951Z"
   },
   {
    "duration": 5,
    "start_time": "2022-01-15T18:07:21.000Z"
   },
   {
    "duration": 9,
    "start_time": "2022-01-15T18:07:21.007Z"
   },
   {
    "duration": 28,
    "start_time": "2022-01-15T18:07:21.018Z"
   },
   {
    "duration": 5,
    "start_time": "2022-01-15T18:07:21.048Z"
   },
   {
    "duration": 7,
    "start_time": "2022-01-15T18:07:21.055Z"
   },
   {
    "duration": 35,
    "start_time": "2022-01-15T18:07:21.063Z"
   },
   {
    "duration": 9,
    "start_time": "2022-01-15T18:07:21.099Z"
   },
   {
    "duration": 8,
    "start_time": "2022-01-15T18:07:21.110Z"
   },
   {
    "duration": 7,
    "start_time": "2022-01-15T18:07:21.120Z"
   },
   {
    "duration": 8,
    "start_time": "2022-01-15T18:07:21.129Z"
   },
   {
    "duration": 9,
    "start_time": "2022-01-15T18:07:21.139Z"
   },
   {
    "duration": 6,
    "start_time": "2022-01-15T18:07:21.150Z"
   },
   {
    "duration": 37,
    "start_time": "2022-01-15T18:07:21.157Z"
   },
   {
    "duration": 8,
    "start_time": "2022-01-15T18:07:21.196Z"
   },
   {
    "duration": 7,
    "start_time": "2022-01-15T18:07:21.206Z"
   },
   {
    "duration": 7,
    "start_time": "2022-01-15T18:07:30.791Z"
   },
   {
    "duration": 10,
    "start_time": "2022-01-15T18:07:31.775Z"
   },
   {
    "duration": 11,
    "start_time": "2022-01-15T18:07:32.599Z"
   },
   {
    "duration": 52,
    "start_time": "2022-01-15T18:07:51.623Z"
   },
   {
    "duration": 63,
    "start_time": "2022-01-15T18:07:51.677Z"
   },
   {
    "duration": 4,
    "start_time": "2022-01-15T18:07:51.742Z"
   },
   {
    "duration": 16,
    "start_time": "2022-01-15T18:07:51.748Z"
   },
   {
    "duration": 36,
    "start_time": "2022-01-15T18:07:51.766Z"
   },
   {
    "duration": 3,
    "start_time": "2022-01-15T18:07:51.804Z"
   },
   {
    "duration": 4,
    "start_time": "2022-01-15T18:07:51.809Z"
   },
   {
    "duration": 5,
    "start_time": "2022-01-15T18:07:51.816Z"
   },
   {
    "duration": 4,
    "start_time": "2022-01-15T18:07:51.823Z"
   },
   {
    "duration": 9,
    "start_time": "2022-01-15T18:07:51.829Z"
   },
   {
    "duration": 52,
    "start_time": "2022-01-15T18:07:51.840Z"
   },
   {
    "duration": 6,
    "start_time": "2022-01-15T18:07:51.894Z"
   },
   {
    "duration": 7,
    "start_time": "2022-01-15T18:07:51.901Z"
   },
   {
    "duration": 2,
    "start_time": "2022-01-15T18:07:51.910Z"
   },
   {
    "duration": 42,
    "start_time": "2022-01-15T18:07:51.914Z"
   },
   {
    "duration": 34,
    "start_time": "2022-01-15T18:07:51.957Z"
   },
   {
    "duration": 11,
    "start_time": "2022-01-15T18:07:51.993Z"
   },
   {
    "duration": 8,
    "start_time": "2022-01-15T18:07:52.006Z"
   },
   {
    "duration": 6,
    "start_time": "2022-01-15T18:07:52.016Z"
   },
   {
    "duration": 4,
    "start_time": "2022-01-15T18:07:52.024Z"
   },
   {
    "duration": 5,
    "start_time": "2022-01-15T18:07:52.030Z"
   },
   {
    "duration": 7,
    "start_time": "2022-01-15T18:07:52.036Z"
   },
   {
    "duration": 46,
    "start_time": "2022-01-15T18:07:52.046Z"
   },
   {
    "duration": 5,
    "start_time": "2022-01-15T18:07:52.094Z"
   },
   {
    "duration": 8,
    "start_time": "2022-01-15T18:07:52.100Z"
   },
   {
    "duration": 5,
    "start_time": "2022-01-15T18:07:52.110Z"
   },
   {
    "duration": 6,
    "start_time": "2022-01-15T18:07:52.116Z"
   },
   {
    "duration": 7,
    "start_time": "2022-01-15T18:07:52.124Z"
   },
   {
    "duration": 4,
    "start_time": "2022-01-15T18:07:52.132Z"
   },
   {
    "duration": 9,
    "start_time": "2022-01-15T18:07:52.137Z"
   },
   {
    "duration": 45,
    "start_time": "2022-01-15T18:07:52.148Z"
   },
   {
    "duration": 4,
    "start_time": "2022-01-15T18:07:52.195Z"
   },
   {
    "duration": 19,
    "start_time": "2022-01-15T18:07:52.201Z"
   },
   {
    "duration": 6,
    "start_time": "2022-01-15T18:07:52.221Z"
   },
   {
    "duration": 9,
    "start_time": "2022-01-15T18:07:52.228Z"
   },
   {
    "duration": 6,
    "start_time": "2022-01-15T18:07:52.239Z"
   },
   {
    "duration": 48,
    "start_time": "2022-01-15T18:07:52.247Z"
   },
   {
    "duration": 8,
    "start_time": "2022-01-15T18:07:52.296Z"
   },
   {
    "duration": 8,
    "start_time": "2022-01-15T18:07:52.306Z"
   },
   {
    "duration": 5,
    "start_time": "2022-01-15T18:07:52.316Z"
   },
   {
    "duration": 4,
    "start_time": "2022-01-15T18:07:52.323Z"
   },
   {
    "duration": 5,
    "start_time": "2022-01-15T18:07:52.329Z"
   },
   {
    "duration": 5,
    "start_time": "2022-01-15T18:07:52.336Z"
   },
   {
    "duration": 51,
    "start_time": "2022-01-15T18:07:52.342Z"
   },
   {
    "duration": 6,
    "start_time": "2022-01-15T18:07:52.395Z"
   },
   {
    "duration": 8,
    "start_time": "2022-01-15T18:07:52.403Z"
   },
   {
    "duration": 10,
    "start_time": "2022-01-15T18:07:52.412Z"
   },
   {
    "duration": 5,
    "start_time": "2022-01-15T18:07:52.424Z"
   },
   {
    "duration": 6,
    "start_time": "2022-01-15T18:07:52.431Z"
   },
   {
    "duration": 4,
    "start_time": "2022-01-15T18:07:52.438Z"
   },
   {
    "duration": 52,
    "start_time": "2022-01-15T18:07:52.444Z"
   },
   {
    "duration": 7,
    "start_time": "2022-01-15T18:07:52.498Z"
   },
   {
    "duration": 11,
    "start_time": "2022-01-15T18:08:02.405Z"
   },
   {
    "duration": 15,
    "start_time": "2022-01-15T18:08:03.343Z"
   },
   {
    "duration": 5,
    "start_time": "2022-01-15T18:08:04.069Z"
   },
   {
    "duration": 11,
    "start_time": "2022-01-15T18:08:05.143Z"
   },
   {
    "duration": 8,
    "start_time": "2022-01-15T18:08:05.462Z"
   },
   {
    "duration": 7,
    "start_time": "2022-01-15T18:08:07.197Z"
   },
   {
    "duration": 2,
    "start_time": "2022-01-15T18:08:08.078Z"
   },
   {
    "duration": 13,
    "start_time": "2022-01-15T18:08:09.925Z"
   },
   {
    "duration": 2,
    "start_time": "2022-01-15T18:08:12.797Z"
   },
   {
    "duration": 7,
    "start_time": "2022-01-15T18:08:13.237Z"
   },
   {
    "duration": 20,
    "start_time": "2022-01-15T18:08:13.862Z"
   },
   {
    "duration": 20,
    "start_time": "2022-01-15T18:08:14.486Z"
   },
   {
    "duration": 8,
    "start_time": "2022-01-15T18:08:15.429Z"
   },
   {
    "duration": 16,
    "start_time": "2022-01-15T18:08:16.876Z"
   },
   {
    "duration": 15,
    "start_time": "2022-01-15T18:08:17.773Z"
   },
   {
    "duration": 16,
    "start_time": "2022-01-15T18:08:18.029Z"
   },
   {
    "duration": 6,
    "start_time": "2022-01-15T18:08:18.629Z"
   },
   {
    "duration": 16,
    "start_time": "2022-01-15T18:08:20.484Z"
   },
   {
    "duration": 2,
    "start_time": "2022-01-15T18:08:21.405Z"
   },
   {
    "duration": 45,
    "start_time": "2022-01-15T18:08:21.877Z"
   },
   {
    "duration": 5,
    "start_time": "2022-01-15T18:08:24.484Z"
   },
   {
    "duration": 14,
    "start_time": "2022-01-15T18:08:24.798Z"
   },
   {
    "duration": 14,
    "start_time": "2022-01-15T18:08:26.143Z"
   },
   {
    "duration": 2,
    "start_time": "2022-01-15T18:08:32.948Z"
   },
   {
    "duration": 3,
    "start_time": "2022-01-15T18:08:35.148Z"
   },
   {
    "duration": 3,
    "start_time": "2022-01-15T18:08:35.461Z"
   },
   {
    "duration": 9,
    "start_time": "2022-01-15T18:08:35.725Z"
   },
   {
    "duration": 13,
    "start_time": "2022-01-15T18:08:35.933Z"
   },
   {
    "duration": 16,
    "start_time": "2022-01-15T18:08:39.117Z"
   },
   {
    "duration": 5,
    "start_time": "2022-01-15T18:08:39.296Z"
   },
   {
    "duration": 22,
    "start_time": "2022-01-15T18:08:39.940Z"
   },
   {
    "duration": 8,
    "start_time": "2022-01-15T18:08:40.429Z"
   },
   {
    "duration": 2,
    "start_time": "2022-01-15T18:08:40.869Z"
   },
   {
    "duration": 11,
    "start_time": "2022-01-15T18:08:41.708Z"
   },
   {
    "duration": 67,
    "start_time": "2022-01-15T18:08:46.227Z"
   },
   {
    "duration": 2,
    "start_time": "2022-01-15T18:09:26.579Z"
   },
   {
    "duration": 15,
    "start_time": "2022-01-15T18:09:27.739Z"
   },
   {
    "duration": 3,
    "start_time": "2022-01-15T18:09:28.811Z"
   },
   {
    "duration": 7,
    "start_time": "2022-01-15T18:09:30.149Z"
   },
   {
    "duration": 2,
    "start_time": "2022-01-15T18:09:31.197Z"
   },
   {
    "duration": 11,
    "start_time": "2022-01-15T18:09:32.931Z"
   },
   {
    "duration": 11,
    "start_time": "2022-01-15T18:09:35.436Z"
   },
   {
    "duration": 11,
    "start_time": "2022-01-15T18:09:52.427Z"
   },
   {
    "duration": 3,
    "start_time": "2022-01-15T18:09:52.835Z"
   },
   {
    "duration": 6,
    "start_time": "2022-01-15T18:09:54.467Z"
   },
   {
    "duration": 6,
    "start_time": "2022-01-15T18:09:57.251Z"
   },
   {
    "duration": 12,
    "start_time": "2022-01-15T18:09:57.490Z"
   },
   {
    "duration": 12,
    "start_time": "2022-01-15T18:09:58.132Z"
   },
   {
    "duration": 3,
    "start_time": "2022-01-15T18:09:59.578Z"
   },
   {
    "duration": 11,
    "start_time": "2022-01-15T18:10:00.299Z"
   },
   {
    "duration": 5,
    "start_time": "2022-01-15T18:10:02.650Z"
   },
   {
    "duration": 7,
    "start_time": "2022-01-15T18:10:05.275Z"
   },
   {
    "duration": 2911,
    "start_time": "2022-01-15T18:10:06.227Z"
   },
   {
    "duration": 7,
    "start_time": "2022-01-15T18:10:16.642Z"
   },
   {
    "duration": 17,
    "start_time": "2022-01-15T18:10:18.698Z"
   },
   {
    "duration": 5,
    "start_time": "2022-01-15T18:10:23.017Z"
   },
   {
    "duration": 2,
    "start_time": "2022-01-15T18:10:25.986Z"
   },
   {
    "duration": 211,
    "start_time": "2022-01-15T18:10:26.532Z"
   },
   {
    "duration": 3,
    "start_time": "2022-01-15T18:10:42.528Z"
   },
   {
    "duration": 3232,
    "start_time": "2022-01-15T18:10:59.858Z"
   },
   {
    "duration": 12,
    "start_time": "2022-01-15T18:11:16.807Z"
   },
   {
    "duration": 4,
    "start_time": "2022-01-15T18:11:21.930Z"
   },
   {
    "duration": 8,
    "start_time": "2022-01-15T18:11:22.617Z"
   },
   {
    "duration": 3021,
    "start_time": "2022-01-15T18:11:24.186Z"
   },
   {
    "duration": 50,
    "start_time": "2022-01-15T18:13:22.493Z"
   },
   {
    "duration": 65,
    "start_time": "2022-01-15T18:13:22.545Z"
   },
   {
    "duration": 3,
    "start_time": "2022-01-15T18:13:22.614Z"
   },
   {
    "duration": 13,
    "start_time": "2022-01-15T18:13:22.619Z"
   },
   {
    "duration": 10,
    "start_time": "2022-01-15T18:13:22.635Z"
   },
   {
    "duration": 3,
    "start_time": "2022-01-15T18:13:22.647Z"
   },
   {
    "duration": 4,
    "start_time": "2022-01-15T18:13:22.652Z"
   },
   {
    "duration": 4,
    "start_time": "2022-01-15T18:13:22.739Z"
   },
   {
    "duration": 5,
    "start_time": "2022-01-15T18:13:22.745Z"
   },
   {
    "duration": 12,
    "start_time": "2022-01-15T18:13:22.752Z"
   },
   {
    "duration": 4,
    "start_time": "2022-01-15T18:13:22.766Z"
   },
   {
    "duration": 7,
    "start_time": "2022-01-15T18:13:22.771Z"
   },
   {
    "duration": 8,
    "start_time": "2022-01-15T18:13:22.779Z"
   },
   {
    "duration": 2,
    "start_time": "2022-01-15T18:13:22.863Z"
   },
   {
    "duration": 39,
    "start_time": "2022-01-15T18:13:22.867Z"
   },
   {
    "duration": 2,
    "start_time": "2022-01-15T18:13:22.908Z"
   },
   {
    "duration": 10,
    "start_time": "2022-01-15T18:13:22.912Z"
   },
   {
    "duration": 7,
    "start_time": "2022-01-15T18:13:22.924Z"
   },
   {
    "duration": 5,
    "start_time": "2022-01-15T18:13:22.933Z"
   },
   {
    "duration": 5,
    "start_time": "2022-01-15T18:13:22.987Z"
   },
   {
    "duration": 6,
    "start_time": "2022-01-15T18:13:22.994Z"
   },
   {
    "duration": 6,
    "start_time": "2022-01-15T18:13:23.003Z"
   },
   {
    "duration": 6,
    "start_time": "2022-01-15T18:13:23.012Z"
   },
   {
    "duration": 5,
    "start_time": "2022-01-15T18:13:23.019Z"
   },
   {
    "duration": 6,
    "start_time": "2022-01-15T18:13:23.026Z"
   },
   {
    "duration": 4,
    "start_time": "2022-01-15T18:13:23.034Z"
   },
   {
    "duration": 5,
    "start_time": "2022-01-15T18:13:23.039Z"
   },
   {
    "duration": 6,
    "start_time": "2022-01-15T18:13:23.111Z"
   },
   {
    "duration": 9,
    "start_time": "2022-01-15T18:13:23.119Z"
   },
   {
    "duration": 11,
    "start_time": "2022-01-15T18:13:23.130Z"
   },
   {
    "duration": 5,
    "start_time": "2022-01-15T18:13:23.143Z"
   },
   {
    "duration": 5,
    "start_time": "2022-01-15T18:13:23.149Z"
   },
   {
    "duration": 37,
    "start_time": "2022-01-15T18:13:23.156Z"
   },
   {
    "duration": 6,
    "start_time": "2022-01-15T18:13:23.195Z"
   },
   {
    "duration": 14,
    "start_time": "2022-01-15T18:13:23.203Z"
   },
   {
    "duration": 5,
    "start_time": "2022-01-15T18:13:23.219Z"
   },
   {
    "duration": 8,
    "start_time": "2022-01-15T18:13:23.235Z"
   },
   {
    "duration": 8,
    "start_time": "2022-01-15T18:13:23.245Z"
   },
   {
    "duration": 38,
    "start_time": "2022-01-15T18:13:23.255Z"
   },
   {
    "duration": 7,
    "start_time": "2022-01-15T18:13:23.295Z"
   },
   {
    "duration": 5,
    "start_time": "2022-01-15T18:13:23.304Z"
   },
   {
    "duration": 8,
    "start_time": "2022-01-15T18:13:23.310Z"
   },
   {
    "duration": 4,
    "start_time": "2022-01-15T18:13:23.320Z"
   },
   {
    "duration": 6,
    "start_time": "2022-01-15T18:13:23.326Z"
   },
   {
    "duration": 6,
    "start_time": "2022-01-15T18:13:23.334Z"
   },
   {
    "duration": 50,
    "start_time": "2022-01-15T18:13:23.341Z"
   },
   {
    "duration": 11,
    "start_time": "2022-01-15T18:13:23.395Z"
   },
   {
    "duration": 6,
    "start_time": "2022-01-15T18:13:23.407Z"
   },
   {
    "duration": 6,
    "start_time": "2022-01-15T18:13:23.415Z"
   },
   {
    "duration": 5,
    "start_time": "2022-01-15T18:13:23.423Z"
   },
   {
    "duration": 5,
    "start_time": "2022-01-15T18:13:23.429Z"
   },
   {
    "duration": 6,
    "start_time": "2022-01-15T18:13:23.436Z"
   },
   {
    "duration": 51,
    "start_time": "2022-01-15T18:13:23.444Z"
   },
   {
    "duration": 15,
    "start_time": "2022-01-15T18:13:23.498Z"
   },
   {
    "duration": 5,
    "start_time": "2022-01-15T18:13:23.516Z"
   },
   {
    "duration": 18,
    "start_time": "2022-01-15T18:13:23.523Z"
   },
   {
    "duration": 9,
    "start_time": "2022-01-15T18:13:23.543Z"
   },
   {
    "duration": 42,
    "start_time": "2022-01-15T18:13:23.553Z"
   },
   {
    "duration": 3,
    "start_time": "2022-01-15T18:13:23.597Z"
   },
   {
    "duration": 13,
    "start_time": "2022-01-15T18:13:23.601Z"
   },
   {
    "duration": 3,
    "start_time": "2022-01-15T18:13:23.615Z"
   },
   {
    "duration": 10,
    "start_time": "2022-01-15T18:13:23.619Z"
   },
   {
    "duration": 20,
    "start_time": "2022-01-15T18:13:23.630Z"
   },
   {
    "duration": 47,
    "start_time": "2022-01-15T18:13:23.651Z"
   },
   {
    "duration": 8,
    "start_time": "2022-01-15T18:13:23.700Z"
   },
   {
    "duration": 22,
    "start_time": "2022-01-15T18:13:23.710Z"
   },
   {
    "duration": 17,
    "start_time": "2022-01-15T18:13:23.734Z"
   },
   {
    "duration": 46,
    "start_time": "2022-01-15T18:13:23.753Z"
   },
   {
    "duration": 7,
    "start_time": "2022-01-15T18:13:23.803Z"
   },
   {
    "duration": 16,
    "start_time": "2022-01-15T18:13:23.812Z"
   },
   {
    "duration": 2,
    "start_time": "2022-01-15T18:13:23.829Z"
   },
   {
    "duration": 75,
    "start_time": "2022-01-15T18:13:23.834Z"
   },
   {
    "duration": 4,
    "start_time": "2022-01-15T18:13:23.911Z"
   },
   {
    "duration": 13,
    "start_time": "2022-01-15T18:13:23.917Z"
   },
   {
    "duration": 13,
    "start_time": "2022-01-15T18:13:23.931Z"
   },
   {
    "duration": 2,
    "start_time": "2022-01-15T18:13:23.945Z"
   },
   {
    "duration": 5,
    "start_time": "2022-01-15T18:13:23.948Z"
   },
   {
    "duration": 38,
    "start_time": "2022-01-15T18:13:23.955Z"
   },
   {
    "duration": 10,
    "start_time": "2022-01-15T18:13:23.995Z"
   },
   {
    "duration": 13,
    "start_time": "2022-01-15T18:13:24.007Z"
   },
   {
    "duration": 15,
    "start_time": "2022-01-15T18:13:24.021Z"
   },
   {
    "duration": 4,
    "start_time": "2022-01-15T18:13:24.038Z"
   },
   {
    "duration": 50,
    "start_time": "2022-01-15T18:13:24.043Z"
   },
   {
    "duration": 8,
    "start_time": "2022-01-15T18:13:24.094Z"
   },
   {
    "duration": 3,
    "start_time": "2022-01-15T18:13:24.103Z"
   },
   {
    "duration": 12,
    "start_time": "2022-01-15T18:13:24.107Z"
   },
   {
    "duration": 2,
    "start_time": "2022-01-15T18:13:24.121Z"
   },
   {
    "duration": 19,
    "start_time": "2022-01-15T18:13:24.124Z"
   },
   {
    "duration": 3,
    "start_time": "2022-01-15T18:13:24.144Z"
   },
   {
    "duration": 44,
    "start_time": "2022-01-15T18:13:24.149Z"
   },
   {
    "duration": 9,
    "start_time": "2022-01-15T18:13:24.195Z"
   },
   {
    "duration": 32,
    "start_time": "2022-01-15T18:13:24.207Z"
   },
   {
    "duration": 12,
    "start_time": "2022-01-15T18:13:24.241Z"
   },
   {
    "duration": 21,
    "start_time": "2022-01-15T18:13:24.255Z"
   },
   {
    "duration": 20,
    "start_time": "2022-01-15T18:13:24.278Z"
   },
   {
    "duration": 20,
    "start_time": "2022-01-15T18:13:24.300Z"
   },
   {
    "duration": 13,
    "start_time": "2022-01-15T18:13:24.322Z"
   },
   {
    "duration": 10,
    "start_time": "2022-01-15T18:13:24.337Z"
   },
   {
    "duration": 13,
    "start_time": "2022-01-15T18:13:24.348Z"
   },
   {
    "duration": 10,
    "start_time": "2022-01-15T18:13:24.362Z"
   },
   {
    "duration": 13,
    "start_time": "2022-01-15T18:13:24.374Z"
   },
   {
    "duration": 12,
    "start_time": "2022-01-15T18:13:24.389Z"
   },
   {
    "duration": 15,
    "start_time": "2022-01-15T18:13:24.403Z"
   },
   {
    "duration": 53,
    "start_time": "2022-01-15T18:16:55.592Z"
   },
   {
    "duration": 74,
    "start_time": "2022-01-15T18:16:55.647Z"
   },
   {
    "duration": 3,
    "start_time": "2022-01-15T18:16:55.723Z"
   },
   {
    "duration": 15,
    "start_time": "2022-01-15T18:16:55.729Z"
   },
   {
    "duration": 11,
    "start_time": "2022-01-15T18:16:55.746Z"
   },
   {
    "duration": 6,
    "start_time": "2022-01-15T18:16:55.791Z"
   },
   {
    "duration": 5,
    "start_time": "2022-01-15T18:16:55.799Z"
   },
   {
    "duration": 6,
    "start_time": "2022-01-15T18:16:55.807Z"
   },
   {
    "duration": 5,
    "start_time": "2022-01-15T18:16:55.815Z"
   },
   {
    "duration": 13,
    "start_time": "2022-01-15T18:16:55.821Z"
   },
   {
    "duration": 3,
    "start_time": "2022-01-15T18:16:55.836Z"
   },
   {
    "duration": 7,
    "start_time": "2022-01-15T18:16:55.841Z"
   },
   {
    "duration": 7,
    "start_time": "2022-01-15T18:16:55.891Z"
   },
   {
    "duration": 2,
    "start_time": "2022-01-15T18:16:55.901Z"
   },
   {
    "duration": 37,
    "start_time": "2022-01-15T18:16:55.905Z"
   },
   {
    "duration": 2,
    "start_time": "2022-01-15T18:16:55.943Z"
   },
   {
    "duration": 45,
    "start_time": "2022-01-15T18:16:55.947Z"
   },
   {
    "duration": 7,
    "start_time": "2022-01-15T18:16:55.994Z"
   },
   {
    "duration": 6,
    "start_time": "2022-01-15T18:16:56.002Z"
   },
   {
    "duration": 4,
    "start_time": "2022-01-15T18:16:56.009Z"
   },
   {
    "duration": 16,
    "start_time": "2022-01-15T18:16:56.014Z"
   },
   {
    "duration": 8,
    "start_time": "2022-01-15T18:16:56.031Z"
   },
   {
    "duration": 5,
    "start_time": "2022-01-15T18:16:56.043Z"
   },
   {
    "duration": 41,
    "start_time": "2022-01-15T18:16:56.050Z"
   },
   {
    "duration": 4,
    "start_time": "2022-01-15T18:16:56.093Z"
   },
   {
    "duration": 5,
    "start_time": "2022-01-15T18:16:56.099Z"
   },
   {
    "duration": 7,
    "start_time": "2022-01-15T18:16:56.106Z"
   },
   {
    "duration": 5,
    "start_time": "2022-01-15T18:16:56.115Z"
   },
   {
    "duration": 5,
    "start_time": "2022-01-15T18:16:56.121Z"
   },
   {
    "duration": 9,
    "start_time": "2022-01-15T18:16:56.127Z"
   },
   {
    "duration": 4,
    "start_time": "2022-01-15T18:16:56.138Z"
   },
   {
    "duration": 5,
    "start_time": "2022-01-15T18:16:56.143Z"
   },
   {
    "duration": 56,
    "start_time": "2022-01-15T18:16:56.150Z"
   },
   {
    "duration": 5,
    "start_time": "2022-01-15T18:16:56.208Z"
   },
   {
    "duration": 7,
    "start_time": "2022-01-15T18:16:56.214Z"
   },
   {
    "duration": 5,
    "start_time": "2022-01-15T18:16:56.223Z"
   },
   {
    "duration": 7,
    "start_time": "2022-01-15T18:16:56.230Z"
   },
   {
    "duration": 8,
    "start_time": "2022-01-15T18:16:56.239Z"
   },
   {
    "duration": 48,
    "start_time": "2022-01-15T18:16:56.248Z"
   },
   {
    "duration": 6,
    "start_time": "2022-01-15T18:16:56.298Z"
   },
   {
    "duration": 6,
    "start_time": "2022-01-15T18:16:56.306Z"
   },
   {
    "duration": 6,
    "start_time": "2022-01-15T18:16:56.314Z"
   },
   {
    "duration": 4,
    "start_time": "2022-01-15T18:16:56.322Z"
   },
   {
    "duration": 5,
    "start_time": "2022-01-15T18:16:56.328Z"
   },
   {
    "duration": 5,
    "start_time": "2022-01-15T18:16:56.335Z"
   },
   {
    "duration": 9,
    "start_time": "2022-01-15T18:16:56.391Z"
   },
   {
    "duration": 10,
    "start_time": "2022-01-15T18:16:56.401Z"
   },
   {
    "duration": 6,
    "start_time": "2022-01-15T18:16:56.412Z"
   },
   {
    "duration": 5,
    "start_time": "2022-01-15T18:16:56.420Z"
   },
   {
    "duration": 5,
    "start_time": "2022-01-15T18:16:56.427Z"
   },
   {
    "duration": 6,
    "start_time": "2022-01-15T18:16:56.433Z"
   },
   {
    "duration": 7,
    "start_time": "2022-01-15T18:16:56.440Z"
   },
   {
    "duration": 47,
    "start_time": "2022-01-15T18:16:56.448Z"
   },
   {
    "duration": 14,
    "start_time": "2022-01-15T18:16:56.497Z"
   },
   {
    "duration": 4,
    "start_time": "2022-01-15T18:16:56.513Z"
   },
   {
    "duration": 10,
    "start_time": "2022-01-15T18:16:56.519Z"
   },
   {
    "duration": 7,
    "start_time": "2022-01-15T18:16:56.531Z"
   },
   {
    "duration": 9,
    "start_time": "2022-01-15T18:16:56.539Z"
   },
   {
    "duration": 4,
    "start_time": "2022-01-15T18:16:56.549Z"
   },
   {
    "duration": 10,
    "start_time": "2022-01-15T18:16:56.591Z"
   },
   {
    "duration": 2,
    "start_time": "2022-01-15T18:16:56.603Z"
   },
   {
    "duration": 8,
    "start_time": "2022-01-15T18:16:56.607Z"
   },
   {
    "duration": 18,
    "start_time": "2022-01-15T18:16:56.617Z"
   },
   {
    "duration": 14,
    "start_time": "2022-01-15T18:16:56.637Z"
   },
   {
    "duration": 7,
    "start_time": "2022-01-15T18:16:56.652Z"
   },
   {
    "duration": 16,
    "start_time": "2022-01-15T18:16:56.692Z"
   },
   {
    "duration": 14,
    "start_time": "2022-01-15T18:16:56.709Z"
   },
   {
    "duration": 14,
    "start_time": "2022-01-15T18:16:56.728Z"
   },
   {
    "duration": 6,
    "start_time": "2022-01-15T18:16:56.744Z"
   },
   {
    "duration": 46,
    "start_time": "2022-01-15T18:16:56.752Z"
   },
   {
    "duration": 2,
    "start_time": "2022-01-15T18:16:56.800Z"
   },
   {
    "duration": 44,
    "start_time": "2022-01-15T18:16:56.804Z"
   },
   {
    "duration": 5,
    "start_time": "2022-01-15T18:16:56.850Z"
   },
   {
    "duration": 39,
    "start_time": "2022-01-15T18:16:56.857Z"
   },
   {
    "duration": 14,
    "start_time": "2022-01-15T18:16:56.898Z"
   },
   {
    "duration": 2,
    "start_time": "2022-01-15T18:16:56.914Z"
   },
   {
    "duration": 4,
    "start_time": "2022-01-15T18:16:56.918Z"
   },
   {
    "duration": 5,
    "start_time": "2022-01-15T18:16:56.923Z"
   },
   {
    "duration": 12,
    "start_time": "2022-01-15T18:16:56.929Z"
   },
   {
    "duration": 51,
    "start_time": "2022-01-15T18:16:56.943Z"
   },
   {
    "duration": 16,
    "start_time": "2022-01-15T18:16:56.995Z"
   },
   {
    "duration": 4,
    "start_time": "2022-01-15T18:16:57.012Z"
   },
   {
    "duration": 24,
    "start_time": "2022-01-15T18:16:57.018Z"
   },
   {
    "duration": 7,
    "start_time": "2022-01-15T18:16:57.043Z"
   },
   {
    "duration": 4,
    "start_time": "2022-01-15T18:16:57.052Z"
   },
   {
    "duration": 35,
    "start_time": "2022-01-15T18:16:57.058Z"
   },
   {
    "duration": 2,
    "start_time": "2022-01-15T18:16:57.095Z"
   },
   {
    "duration": 19,
    "start_time": "2022-01-15T18:16:57.099Z"
   },
   {
    "duration": 2,
    "start_time": "2022-01-15T18:16:57.119Z"
   },
   {
    "duration": 10,
    "start_time": "2022-01-15T18:16:57.123Z"
   },
   {
    "duration": 4,
    "start_time": "2022-01-15T18:16:57.135Z"
   },
   {
    "duration": 15,
    "start_time": "2022-01-15T18:16:57.141Z"
   },
   {
    "duration": 34,
    "start_time": "2022-01-15T18:16:57.157Z"
   },
   {
    "duration": 10,
    "start_time": "2022-01-15T18:16:57.193Z"
   },
   {
    "duration": 2,
    "start_time": "2022-01-15T18:16:57.205Z"
   },
   {
    "duration": 11,
    "start_time": "2022-01-15T18:16:57.208Z"
   },
   {
    "duration": 5,
    "start_time": "2022-01-15T18:16:57.220Z"
   },
   {
    "duration": 9,
    "start_time": "2022-01-15T18:16:57.227Z"
   },
   {
    "duration": 9,
    "start_time": "2022-01-15T18:16:57.237Z"
   },
   {
    "duration": 2,
    "start_time": "2022-01-15T18:16:57.247Z"
   },
   {
    "duration": 10,
    "start_time": "2022-01-15T18:16:57.291Z"
   },
   {
    "duration": 4,
    "start_time": "2022-01-15T18:16:57.303Z"
   },
   {
    "duration": 665,
    "start_time": "2022-01-15T18:18:11.327Z"
   },
   {
    "duration": 66,
    "start_time": "2022-01-15T18:18:11.994Z"
   },
   {
    "duration": 3,
    "start_time": "2022-01-15T18:18:12.063Z"
   },
   {
    "duration": 29,
    "start_time": "2022-01-15T18:18:12.068Z"
   },
   {
    "duration": 10,
    "start_time": "2022-01-15T18:18:12.099Z"
   },
   {
    "duration": 4,
    "start_time": "2022-01-15T18:18:12.111Z"
   },
   {
    "duration": 9,
    "start_time": "2022-01-15T18:18:12.116Z"
   },
   {
    "duration": 4,
    "start_time": "2022-01-15T18:18:12.127Z"
   },
   {
    "duration": 6,
    "start_time": "2022-01-15T18:18:12.133Z"
   },
   {
    "duration": 10,
    "start_time": "2022-01-15T18:18:12.140Z"
   },
   {
    "duration": 4,
    "start_time": "2022-01-15T18:18:12.151Z"
   },
   {
    "duration": 6,
    "start_time": "2022-01-15T18:18:12.192Z"
   },
   {
    "duration": 8,
    "start_time": "2022-01-15T18:18:12.199Z"
   },
   {
    "duration": 2,
    "start_time": "2022-01-15T18:18:12.208Z"
   },
   {
    "duration": 47,
    "start_time": "2022-01-15T18:18:12.212Z"
   },
   {
    "duration": 2,
    "start_time": "2022-01-15T18:18:12.260Z"
   },
   {
    "duration": 38,
    "start_time": "2022-01-15T18:18:12.264Z"
   },
   {
    "duration": 9,
    "start_time": "2022-01-15T18:18:12.305Z"
   },
   {
    "duration": 6,
    "start_time": "2022-01-15T18:18:12.316Z"
   },
   {
    "duration": 7,
    "start_time": "2022-01-15T18:18:12.324Z"
   },
   {
    "duration": 5,
    "start_time": "2022-01-15T18:18:12.333Z"
   },
   {
    "duration": 7,
    "start_time": "2022-01-15T18:18:12.340Z"
   },
   {
    "duration": 5,
    "start_time": "2022-01-15T18:18:12.392Z"
   },
   {
    "duration": 4,
    "start_time": "2022-01-15T18:18:12.401Z"
   },
   {
    "duration": 7,
    "start_time": "2022-01-15T18:18:12.406Z"
   },
   {
    "duration": 5,
    "start_time": "2022-01-15T18:18:12.414Z"
   },
   {
    "duration": 5,
    "start_time": "2022-01-15T18:18:12.421Z"
   },
   {
    "duration": 6,
    "start_time": "2022-01-15T18:18:12.428Z"
   },
   {
    "duration": 4,
    "start_time": "2022-01-15T18:18:12.435Z"
   },
   {
    "duration": 60,
    "start_time": "2022-01-15T18:18:12.440Z"
   },
   {
    "duration": 5,
    "start_time": "2022-01-15T18:18:12.502Z"
   },
   {
    "duration": 4,
    "start_time": "2022-01-15T18:18:12.508Z"
   },
   {
    "duration": 19,
    "start_time": "2022-01-15T18:18:12.514Z"
   },
   {
    "duration": 5,
    "start_time": "2022-01-15T18:18:12.534Z"
   },
   {
    "duration": 4,
    "start_time": "2022-01-15T18:18:12.541Z"
   },
   {
    "duration": 45,
    "start_time": "2022-01-15T18:18:12.546Z"
   },
   {
    "duration": 7,
    "start_time": "2022-01-15T18:18:12.593Z"
   },
   {
    "duration": 8,
    "start_time": "2022-01-15T18:18:12.602Z"
   },
   {
    "duration": 7,
    "start_time": "2022-01-15T18:18:12.612Z"
   },
   {
    "duration": 6,
    "start_time": "2022-01-15T18:18:12.620Z"
   },
   {
    "duration": 4,
    "start_time": "2022-01-15T18:18:12.627Z"
   },
   {
    "duration": 7,
    "start_time": "2022-01-15T18:18:12.633Z"
   },
   {
    "duration": 4,
    "start_time": "2022-01-15T18:18:12.641Z"
   },
   {
    "duration": 48,
    "start_time": "2022-01-15T18:18:12.646Z"
   },
   {
    "duration": 7,
    "start_time": "2022-01-15T18:18:12.695Z"
   },
   {
    "duration": 7,
    "start_time": "2022-01-15T18:18:12.703Z"
   },
   {
    "duration": 10,
    "start_time": "2022-01-15T18:18:12.712Z"
   },
   {
    "duration": 6,
    "start_time": "2022-01-15T18:18:12.723Z"
   },
   {
    "duration": 6,
    "start_time": "2022-01-15T18:18:12.731Z"
   },
   {
    "duration": 4,
    "start_time": "2022-01-15T18:18:12.739Z"
   },
   {
    "duration": 46,
    "start_time": "2022-01-15T18:18:12.745Z"
   },
   {
    "duration": 6,
    "start_time": "2022-01-15T18:18:12.793Z"
   },
   {
    "duration": 6,
    "start_time": "2022-01-15T18:18:12.801Z"
   },
   {
    "duration": 13,
    "start_time": "2022-01-15T18:18:12.809Z"
   },
   {
    "duration": 4,
    "start_time": "2022-01-15T18:18:12.823Z"
   },
   {
    "duration": 11,
    "start_time": "2022-01-15T18:18:12.829Z"
   },
   {
    "duration": 6,
    "start_time": "2022-01-15T18:18:12.841Z"
   },
   {
    "duration": 7,
    "start_time": "2022-01-15T18:18:12.891Z"
   },
   {
    "duration": 4,
    "start_time": "2022-01-15T18:18:12.899Z"
   },
   {
    "duration": 15,
    "start_time": "2022-01-15T18:18:12.905Z"
   },
   {
    "duration": 3,
    "start_time": "2022-01-15T18:18:12.921Z"
   },
   {
    "duration": 9,
    "start_time": "2022-01-15T18:18:12.925Z"
   },
   {
    "duration": 20,
    "start_time": "2022-01-15T18:18:12.936Z"
   },
   {
    "duration": 37,
    "start_time": "2022-01-15T18:18:12.958Z"
   },
   {
    "duration": 7,
    "start_time": "2022-01-15T18:18:12.996Z"
   },
   {
    "duration": 21,
    "start_time": "2022-01-15T18:18:13.004Z"
   },
   {
    "duration": 14,
    "start_time": "2022-01-15T18:18:13.026Z"
   },
   {
    "duration": 14,
    "start_time": "2022-01-15T18:18:13.046Z"
   },
   {
    "duration": 30,
    "start_time": "2022-01-15T18:18:13.063Z"
   },
   {
    "duration": 15,
    "start_time": "2022-01-15T18:18:13.094Z"
   },
   {
    "duration": 2,
    "start_time": "2022-01-15T18:18:13.111Z"
   },
   {
    "duration": 41,
    "start_time": "2022-01-15T18:18:13.114Z"
   },
   {
    "duration": 5,
    "start_time": "2022-01-15T18:18:13.157Z"
   },
   {
    "duration": 40,
    "start_time": "2022-01-15T18:18:13.163Z"
   },
   {
    "duration": 13,
    "start_time": "2022-01-15T18:18:13.205Z"
   },
   {
    "duration": 3,
    "start_time": "2022-01-15T18:18:13.219Z"
   },
   {
    "duration": 5,
    "start_time": "2022-01-15T18:18:13.223Z"
   },
   {
    "duration": 5,
    "start_time": "2022-01-15T18:18:13.229Z"
   },
   {
    "duration": 13,
    "start_time": "2022-01-15T18:18:13.236Z"
   },
   {
    "duration": 44,
    "start_time": "2022-01-15T18:18:13.250Z"
   },
   {
    "duration": 17,
    "start_time": "2022-01-15T18:18:13.295Z"
   },
   {
    "duration": 4,
    "start_time": "2022-01-15T18:18:13.313Z"
   },
   {
    "duration": 21,
    "start_time": "2022-01-15T18:18:13.319Z"
   },
   {
    "duration": 7,
    "start_time": "2022-01-15T18:18:13.341Z"
   },
   {
    "duration": 2,
    "start_time": "2022-01-15T18:18:13.350Z"
   },
   {
    "duration": 45,
    "start_time": "2022-01-15T18:18:13.354Z"
   },
   {
    "duration": 3,
    "start_time": "2022-01-15T18:18:13.401Z"
   },
   {
    "duration": 19,
    "start_time": "2022-01-15T18:18:13.405Z"
   },
   {
    "duration": 2,
    "start_time": "2022-01-15T18:18:13.426Z"
   },
   {
    "duration": 9,
    "start_time": "2022-01-15T18:18:13.429Z"
   },
   {
    "duration": 4,
    "start_time": "2022-01-15T18:18:13.440Z"
   },
   {
    "duration": 12,
    "start_time": "2022-01-15T18:18:13.445Z"
   },
   {
    "duration": 38,
    "start_time": "2022-01-15T18:18:13.459Z"
   },
   {
    "duration": 11,
    "start_time": "2022-01-15T18:18:13.499Z"
   },
   {
    "duration": 2,
    "start_time": "2022-01-15T18:18:13.511Z"
   },
   {
    "duration": 11,
    "start_time": "2022-01-15T18:18:13.515Z"
   },
   {
    "duration": 5,
    "start_time": "2022-01-15T18:18:13.527Z"
   },
   {
    "duration": 8,
    "start_time": "2022-01-15T18:18:13.534Z"
   },
   {
    "duration": 47,
    "start_time": "2022-01-15T18:18:13.544Z"
   },
   {
    "duration": 2,
    "start_time": "2022-01-15T18:18:13.593Z"
   },
   {
    "duration": 12,
    "start_time": "2022-01-15T18:18:13.597Z"
   },
   {
    "duration": 3,
    "start_time": "2022-01-15T18:18:13.611Z"
   },
   {
    "duration": 7,
    "start_time": "2022-01-15T18:18:13.616Z"
   },
   {
    "duration": 3067,
    "start_time": "2022-01-15T18:18:13.624Z"
   },
   {
    "duration": -463,
    "start_time": "2022-01-15T18:18:17.155Z"
   },
   {
    "duration": -470,
    "start_time": "2022-01-15T18:18:17.163Z"
   },
   {
    "duration": -487,
    "start_time": "2022-01-15T18:18:17.181Z"
   },
   {
    "duration": -502,
    "start_time": "2022-01-15T18:18:17.197Z"
   },
   {
    "duration": -515,
    "start_time": "2022-01-15T18:18:17.211Z"
   },
   {
    "duration": -528,
    "start_time": "2022-01-15T18:18:17.225Z"
   },
   {
    "duration": -532,
    "start_time": "2022-01-15T18:18:17.230Z"
   },
   {
    "duration": -546,
    "start_time": "2022-01-15T18:18:17.245Z"
   },
   {
    "duration": -559,
    "start_time": "2022-01-15T18:18:17.259Z"
   },
   {
    "duration": -563,
    "start_time": "2022-01-15T18:18:17.264Z"
   },
   {
    "duration": -576,
    "start_time": "2022-01-15T18:18:17.278Z"
   },
   {
    "duration": -579,
    "start_time": "2022-01-15T18:18:17.283Z"
   },
   {
    "duration": -583,
    "start_time": "2022-01-15T18:18:17.288Z"
   },
   {
    "duration": -587,
    "start_time": "2022-01-15T18:18:17.293Z"
   },
   {
    "duration": -591,
    "start_time": "2022-01-15T18:18:17.298Z"
   },
   {
    "duration": -595,
    "start_time": "2022-01-15T18:18:17.303Z"
   },
   {
    "duration": -598,
    "start_time": "2022-01-15T18:18:17.307Z"
   },
   {
    "duration": -602,
    "start_time": "2022-01-15T18:18:17.312Z"
   },
   {
    "duration": -607,
    "start_time": "2022-01-15T18:18:17.317Z"
   },
   {
    "duration": -609,
    "start_time": "2022-01-15T18:18:17.321Z"
   },
   {
    "duration": -613,
    "start_time": "2022-01-15T18:18:17.326Z"
   },
   {
    "duration": -624,
    "start_time": "2022-01-15T18:18:17.338Z"
   },
   {
    "duration": -627,
    "start_time": "2022-01-15T18:18:17.342Z"
   },
   {
    "duration": -631,
    "start_time": "2022-01-15T18:18:17.347Z"
   },
   {
    "duration": -635,
    "start_time": "2022-01-15T18:18:17.352Z"
   },
   {
    "duration": -641,
    "start_time": "2022-01-15T18:18:17.359Z"
   },
   {
    "duration": -646,
    "start_time": "2022-01-15T18:18:17.365Z"
   },
   {
    "duration": -650,
    "start_time": "2022-01-15T18:18:17.370Z"
   },
   {
    "duration": -653,
    "start_time": "2022-01-15T18:18:17.375Z"
   },
   {
    "duration": 10,
    "start_time": "2022-01-15T18:19:14.610Z"
   },
   {
    "duration": 4,
    "start_time": "2022-01-15T18:19:19.011Z"
   },
   {
    "duration": 7,
    "start_time": "2022-01-15T18:19:20.187Z"
   },
   {
    "duration": 8,
    "start_time": "2022-01-15T18:19:28.114Z"
   },
   {
    "duration": 3562,
    "start_time": "2022-01-15T18:19:29.076Z"
   },
   {
    "duration": 2778,
    "start_time": "2022-01-15T18:19:35.611Z"
   },
   {
    "duration": 2872,
    "start_time": "2022-01-15T18:20:02.539Z"
   },
   {
    "duration": 8,
    "start_time": "2022-01-15T18:20:46.066Z"
   },
   {
    "duration": 16,
    "start_time": "2022-01-15T18:20:50.618Z"
   },
   {
    "duration": 5,
    "start_time": "2022-01-15T18:20:56.145Z"
   },
   {
    "duration": 186,
    "start_time": "2022-01-15T18:21:00.219Z"
   },
   {
    "duration": 3,
    "start_time": "2022-01-15T18:21:06.687Z"
   },
   {
    "duration": 57,
    "start_time": "2022-01-15T18:21:51.361Z"
   },
   {
    "duration": 86,
    "start_time": "2022-01-15T18:21:51.420Z"
   },
   {
    "duration": 4,
    "start_time": "2022-01-15T18:21:51.508Z"
   },
   {
    "duration": 16,
    "start_time": "2022-01-15T18:21:51.514Z"
   },
   {
    "duration": 14,
    "start_time": "2022-01-15T18:21:51.532Z"
   },
   {
    "duration": 5,
    "start_time": "2022-01-15T18:21:51.548Z"
   },
   {
    "duration": 38,
    "start_time": "2022-01-15T18:21:51.554Z"
   },
   {
    "duration": 4,
    "start_time": "2022-01-15T18:21:51.595Z"
   },
   {
    "duration": 5,
    "start_time": "2022-01-15T18:21:51.601Z"
   },
   {
    "duration": 10,
    "start_time": "2022-01-15T18:21:51.607Z"
   },
   {
    "duration": 4,
    "start_time": "2022-01-15T18:21:51.618Z"
   },
   {
    "duration": 7,
    "start_time": "2022-01-15T18:21:51.623Z"
   },
   {
    "duration": 7,
    "start_time": "2022-01-15T18:21:51.631Z"
   },
   {
    "duration": 53,
    "start_time": "2022-01-15T18:21:51.639Z"
   },
   {
    "duration": 42,
    "start_time": "2022-01-15T18:21:51.694Z"
   },
   {
    "duration": 2,
    "start_time": "2022-01-15T18:21:51.738Z"
   },
   {
    "duration": 16,
    "start_time": "2022-01-15T18:21:51.741Z"
   },
   {
    "duration": 37,
    "start_time": "2022-01-15T18:21:51.759Z"
   },
   {
    "duration": 7,
    "start_time": "2022-01-15T18:21:51.798Z"
   },
   {
    "duration": 6,
    "start_time": "2022-01-15T18:21:51.806Z"
   },
   {
    "duration": 5,
    "start_time": "2022-01-15T18:21:51.814Z"
   },
   {
    "duration": 7,
    "start_time": "2022-01-15T18:21:51.821Z"
   },
   {
    "duration": 5,
    "start_time": "2022-01-15T18:21:51.832Z"
   },
   {
    "duration": 53,
    "start_time": "2022-01-15T18:21:51.840Z"
   },
   {
    "duration": 6,
    "start_time": "2022-01-15T18:21:51.895Z"
   },
   {
    "duration": 5,
    "start_time": "2022-01-15T18:21:51.903Z"
   },
   {
    "duration": 5,
    "start_time": "2022-01-15T18:21:51.909Z"
   },
   {
    "duration": 6,
    "start_time": "2022-01-15T18:21:51.916Z"
   },
   {
    "duration": 4,
    "start_time": "2022-01-15T18:21:51.924Z"
   },
   {
    "duration": 10,
    "start_time": "2022-01-15T18:21:51.930Z"
   },
   {
    "duration": 54,
    "start_time": "2022-01-15T18:21:51.941Z"
   },
   {
    "duration": 6,
    "start_time": "2022-01-15T18:21:51.996Z"
   },
   {
    "duration": 21,
    "start_time": "2022-01-15T18:21:52.003Z"
   },
   {
    "duration": 5,
    "start_time": "2022-01-15T18:21:52.025Z"
   },
   {
    "duration": 6,
    "start_time": "2022-01-15T18:21:52.032Z"
   },
   {
    "duration": 5,
    "start_time": "2022-01-15T18:21:52.040Z"
   },
   {
    "duration": 46,
    "start_time": "2022-01-15T18:21:52.046Z"
   },
   {
    "duration": 9,
    "start_time": "2022-01-15T18:21:52.094Z"
   },
   {
    "duration": 7,
    "start_time": "2022-01-15T18:21:52.104Z"
   },
   {
    "duration": 6,
    "start_time": "2022-01-15T18:21:52.112Z"
   },
   {
    "duration": 6,
    "start_time": "2022-01-15T18:21:52.119Z"
   },
   {
    "duration": 6,
    "start_time": "2022-01-15T18:21:52.127Z"
   },
   {
    "duration": 4,
    "start_time": "2022-01-15T18:21:52.134Z"
   },
   {
    "duration": 52,
    "start_time": "2022-01-15T18:21:52.140Z"
   },
   {
    "duration": 7,
    "start_time": "2022-01-15T18:21:52.195Z"
   },
   {
    "duration": 8,
    "start_time": "2022-01-15T18:21:52.204Z"
   },
   {
    "duration": 11,
    "start_time": "2022-01-15T18:21:52.213Z"
   },
   {
    "duration": 8,
    "start_time": "2022-01-15T18:21:52.226Z"
   },
   {
    "duration": 7,
    "start_time": "2022-01-15T18:21:52.236Z"
   },
   {
    "duration": 47,
    "start_time": "2022-01-15T18:21:52.245Z"
   },
   {
    "duration": 5,
    "start_time": "2022-01-15T18:21:52.294Z"
   },
   {
    "duration": 6,
    "start_time": "2022-01-15T18:21:52.301Z"
   },
   {
    "duration": 6,
    "start_time": "2022-01-15T18:21:52.309Z"
   },
   {
    "duration": 13,
    "start_time": "2022-01-15T18:21:52.317Z"
   },
   {
    "duration": 4,
    "start_time": "2022-01-15T18:21:52.331Z"
   },
   {
    "duration": 11,
    "start_time": "2022-01-15T18:21:52.337Z"
   },
   {
    "duration": 43,
    "start_time": "2022-01-15T18:21:52.349Z"
   },
   {
    "duration": 8,
    "start_time": "2022-01-15T18:21:52.394Z"
   },
   {
    "duration": 5,
    "start_time": "2022-01-15T18:21:52.403Z"
   },
   {
    "duration": 13,
    "start_time": "2022-01-15T18:21:52.410Z"
   },
   {
    "duration": 2,
    "start_time": "2022-01-15T18:21:52.424Z"
   },
   {
    "duration": 9,
    "start_time": "2022-01-15T18:21:52.428Z"
   },
   {
    "duration": 52,
    "start_time": "2022-01-15T18:21:52.439Z"
   },
   {
    "duration": 16,
    "start_time": "2022-01-15T18:21:52.494Z"
   },
   {
    "duration": 8,
    "start_time": "2022-01-15T18:21:52.512Z"
   },
   {
    "duration": 18,
    "start_time": "2022-01-15T18:21:52.522Z"
   },
   {
    "duration": 15,
    "start_time": "2022-01-15T18:21:52.542Z"
   },
   {
    "duration": 17,
    "start_time": "2022-01-15T18:21:52.596Z"
   },
   {
    "duration": 7,
    "start_time": "2022-01-15T18:21:52.616Z"
   },
   {
    "duration": 16,
    "start_time": "2022-01-15T18:21:52.625Z"
   },
   {
    "duration": 3,
    "start_time": "2022-01-15T18:21:52.643Z"
   },
   {
    "duration": 78,
    "start_time": "2022-01-15T18:21:52.648Z"
   },
   {
    "duration": 6,
    "start_time": "2022-01-15T18:21:52.728Z"
   },
   {
    "duration": 15,
    "start_time": "2022-01-15T18:21:52.736Z"
   },
   {
    "duration": 45,
    "start_time": "2022-01-15T18:21:52.753Z"
   },
   {
    "duration": 2,
    "start_time": "2022-01-15T18:21:52.800Z"
   },
   {
    "duration": 5,
    "start_time": "2022-01-15T18:21:52.804Z"
   },
   {
    "duration": 5,
    "start_time": "2022-01-15T18:21:52.811Z"
   },
   {
    "duration": 9,
    "start_time": "2022-01-15T18:21:52.818Z"
   },
   {
    "duration": 14,
    "start_time": "2022-01-15T18:21:52.829Z"
   },
   {
    "duration": 58,
    "start_time": "2022-01-15T18:21:52.845Z"
   },
   {
    "duration": 6,
    "start_time": "2022-01-15T18:21:52.905Z"
   },
   {
    "duration": 22,
    "start_time": "2022-01-15T18:21:52.912Z"
   },
   {
    "duration": 7,
    "start_time": "2022-01-15T18:21:52.936Z"
   },
   {
    "duration": 3,
    "start_time": "2022-01-15T18:21:52.944Z"
   },
   {
    "duration": 44,
    "start_time": "2022-01-15T18:21:52.948Z"
   },
   {
    "duration": 2,
    "start_time": "2022-01-15T18:21:52.994Z"
   },
   {
    "duration": 17,
    "start_time": "2022-01-15T18:21:52.998Z"
   },
   {
    "duration": 2,
    "start_time": "2022-01-15T18:21:53.017Z"
   },
   {
    "duration": 8,
    "start_time": "2022-01-15T18:21:53.021Z"
   },
   {
    "duration": 2,
    "start_time": "2022-01-15T18:21:53.031Z"
   },
   {
    "duration": 13,
    "start_time": "2022-01-15T18:21:53.034Z"
   },
   {
    "duration": 42,
    "start_time": "2022-01-15T18:21:53.049Z"
   },
   {
    "duration": 14,
    "start_time": "2022-01-15T18:21:53.093Z"
   },
   {
    "duration": 3,
    "start_time": "2022-01-15T18:21:53.109Z"
   },
   {
    "duration": 10,
    "start_time": "2022-01-15T18:21:53.114Z"
   },
   {
    "duration": 5,
    "start_time": "2022-01-15T18:21:53.126Z"
   },
   {
    "duration": 10,
    "start_time": "2022-01-15T18:21:53.133Z"
   },
   {
    "duration": 54,
    "start_time": "2022-01-15T18:21:53.145Z"
   },
   {
    "duration": 11,
    "start_time": "2022-01-15T18:21:53.201Z"
   },
   {
    "duration": 15,
    "start_time": "2022-01-15T18:21:53.214Z"
   },
   {
    "duration": 4,
    "start_time": "2022-01-15T18:21:53.230Z"
   },
   {
    "duration": 12,
    "start_time": "2022-01-15T18:21:53.236Z"
   },
   {
    "duration": 7,
    "start_time": "2022-01-15T18:21:53.249Z"
   },
   {
    "duration": 41,
    "start_time": "2022-01-15T18:21:53.257Z"
   },
   {
    "duration": 5,
    "start_time": "2022-01-15T18:21:53.299Z"
   },
   {
    "duration": 4,
    "start_time": "2022-01-15T18:21:53.306Z"
   },
   {
    "duration": 10,
    "start_time": "2022-01-15T18:22:29.054Z"
   },
   {
    "duration": 5,
    "start_time": "2022-01-15T18:22:34.447Z"
   },
   {
    "duration": 7,
    "start_time": "2022-01-15T18:22:35.870Z"
   },
   {
    "duration": 9,
    "start_time": "2022-01-15T18:22:39.526Z"
   },
   {
    "duration": 16,
    "start_time": "2022-01-15T18:22:41.062Z"
   },
   {
    "duration": 6,
    "start_time": "2022-01-15T18:22:46.422Z"
   },
   {
    "duration": 58,
    "start_time": "2022-01-15T18:27:21.793Z"
   },
   {
    "duration": 20,
    "start_time": "2022-01-15T18:27:56.376Z"
   },
   {
    "duration": 22,
    "start_time": "2022-01-15T18:28:42.329Z"
   },
   {
    "duration": 19,
    "start_time": "2022-01-15T18:28:59.159Z"
   },
   {
    "duration": 18,
    "start_time": "2022-01-15T18:29:05.950Z"
   },
   {
    "duration": 17,
    "start_time": "2022-01-15T18:30:12.702Z"
   },
   {
    "duration": 15,
    "start_time": "2022-01-15T18:30:55.211Z"
   },
   {
    "duration": 193,
    "start_time": "2022-01-15T18:31:19.282Z"
   },
   {
    "duration": 25,
    "start_time": "2022-01-15T18:31:38.219Z"
   },
   {
    "duration": 29,
    "start_time": "2022-01-15T18:33:15.634Z"
   },
   {
    "duration": 40,
    "start_time": "2022-01-15T18:33:54.930Z"
   },
   {
    "duration": 30,
    "start_time": "2022-01-15T18:35:09.050Z"
   },
   {
    "duration": 25,
    "start_time": "2022-01-15T18:36:14.013Z"
   },
   {
    "duration": 21,
    "start_time": "2022-01-15T18:37:31.299Z"
   },
   {
    "duration": 54,
    "start_time": "2022-01-15T19:28:48.270Z"
   },
   {
    "duration": 62,
    "start_time": "2022-01-15T19:33:45.746Z"
   },
   {
    "duration": 4524,
    "start_time": "2022-01-15T19:34:01.476Z"
   },
   {
    "duration": 4420,
    "start_time": "2022-01-15T19:34:55.352Z"
   },
   {
    "duration": 4908,
    "start_time": "2022-01-15T19:35:00.105Z"
   },
   {
    "duration": 7905,
    "start_time": "2022-01-15T19:38:55.150Z"
   },
   {
    "duration": 7056,
    "start_time": "2022-01-15T19:39:59.194Z"
   },
   {
    "duration": 31,
    "start_time": "2022-01-15T19:41:13.783Z"
   },
   {
    "duration": 56,
    "start_time": "2022-01-15T19:41:34.897Z"
   },
   {
    "duration": 3,
    "start_time": "2022-01-15T19:41:54.721Z"
   },
   {
    "duration": 12,
    "start_time": "2022-01-15T19:41:59.026Z"
   },
   {
    "duration": 5,
    "start_time": "2022-01-15T19:41:59.406Z"
   },
   {
    "duration": 8,
    "start_time": "2022-01-15T19:42:00.616Z"
   },
   {
    "duration": 7,
    "start_time": "2022-01-15T19:42:05.317Z"
   },
   {
    "duration": 20,
    "start_time": "2022-01-15T19:42:06.479Z"
   },
   {
    "duration": 5,
    "start_time": "2022-01-15T19:42:08.638Z"
   },
   {
    "duration": 3,
    "start_time": "2022-01-15T19:42:11.431Z"
   },
   {
    "duration": 59,
    "start_time": "2022-01-15T19:42:11.719Z"
   },
   {
    "duration": 57,
    "start_time": "2022-01-15T19:42:28.407Z"
   },
   {
    "duration": 11,
    "start_time": "2022-01-15T19:43:34.495Z"
   },
   {
    "duration": 4,
    "start_time": "2022-01-15T19:43:35.829Z"
   },
   {
    "duration": 7,
    "start_time": "2022-01-15T19:43:38.198Z"
   },
   {
    "duration": 8,
    "start_time": "2022-01-15T19:43:42.207Z"
   },
   {
    "duration": 19,
    "start_time": "2022-01-15T19:43:43.425Z"
   },
   {
    "duration": 5,
    "start_time": "2022-01-15T19:43:47.845Z"
   },
   {
    "duration": 3,
    "start_time": "2022-01-15T19:43:49.372Z"
   },
   {
    "duration": 64,
    "start_time": "2022-01-15T19:43:49.973Z"
   },
   {
    "duration": 17,
    "start_time": "2022-01-15T19:46:41.361Z"
   },
   {
    "duration": 5,
    "start_time": "2022-01-15T19:46:49.522Z"
   },
   {
    "duration": 7,
    "start_time": "2022-01-15T19:47:03.392Z"
   },
   {
    "duration": 8,
    "start_time": "2022-01-15T19:47:09.128Z"
   },
   {
    "duration": 19,
    "start_time": "2022-01-15T19:47:10.529Z"
   },
   {
    "duration": 4,
    "start_time": "2022-01-15T19:47:17.127Z"
   },
   {
    "duration": 2,
    "start_time": "2022-01-15T19:47:19.952Z"
   },
   {
    "duration": 57,
    "start_time": "2022-01-15T19:47:21.835Z"
   },
   {
    "duration": 91,
    "start_time": "2022-01-15T19:47:50.734Z"
   },
   {
    "duration": 10,
    "start_time": "2022-01-15T19:50:50.060Z"
   },
   {
    "duration": 4,
    "start_time": "2022-01-15T19:50:54.100Z"
   },
   {
    "duration": 6,
    "start_time": "2022-01-15T19:50:54.309Z"
   },
   {
    "duration": 7,
    "start_time": "2022-01-15T19:50:56.971Z"
   },
   {
    "duration": 19,
    "start_time": "2022-01-15T19:51:01.980Z"
   },
   {
    "duration": 5,
    "start_time": "2022-01-15T19:51:03.171Z"
   },
   {
    "duration": 2,
    "start_time": "2022-01-15T19:51:03.901Z"
   },
   {
    "duration": 93,
    "start_time": "2022-01-15T19:51:05.556Z"
   },
   {
    "duration": 10,
    "start_time": "2022-01-15T19:51:34.979Z"
   },
   {
    "duration": 5,
    "start_time": "2022-01-15T19:51:39.524Z"
   },
   {
    "duration": 7,
    "start_time": "2022-01-15T19:51:40.517Z"
   },
   {
    "duration": 97,
    "start_time": "2022-01-15T19:52:19.643Z"
   },
   {
    "duration": 50,
    "start_time": "2022-01-15T19:55:14.480Z"
   },
   {
    "duration": 84,
    "start_time": "2022-01-15T19:55:14.532Z"
   },
   {
    "duration": 3,
    "start_time": "2022-01-15T19:55:14.618Z"
   },
   {
    "duration": 14,
    "start_time": "2022-01-15T19:55:14.623Z"
   },
   {
    "duration": 13,
    "start_time": "2022-01-15T19:55:14.638Z"
   },
   {
    "duration": 4,
    "start_time": "2022-01-15T19:55:14.652Z"
   },
   {
    "duration": 37,
    "start_time": "2022-01-15T19:55:14.657Z"
   },
   {
    "duration": 4,
    "start_time": "2022-01-15T19:55:14.697Z"
   },
   {
    "duration": 18,
    "start_time": "2022-01-15T19:55:14.704Z"
   },
   {
    "duration": 15,
    "start_time": "2022-01-15T19:55:14.724Z"
   },
   {
    "duration": 4,
    "start_time": "2022-01-15T19:55:14.741Z"
   },
   {
    "duration": 21,
    "start_time": "2022-01-15T19:55:14.747Z"
   },
   {
    "duration": 9,
    "start_time": "2022-01-15T19:55:14.792Z"
   },
   {
    "duration": 4,
    "start_time": "2022-01-15T19:55:14.803Z"
   },
   {
    "duration": 59,
    "start_time": "2022-01-15T19:55:14.808Z"
   },
   {
    "duration": 23,
    "start_time": "2022-01-15T19:55:14.868Z"
   },
   {
    "duration": 12,
    "start_time": "2022-01-15T19:55:14.893Z"
   },
   {
    "duration": 7,
    "start_time": "2022-01-15T19:55:14.906Z"
   },
   {
    "duration": 6,
    "start_time": "2022-01-15T19:55:14.915Z"
   },
   {
    "duration": 6,
    "start_time": "2022-01-15T19:55:14.923Z"
   },
   {
    "duration": 6,
    "start_time": "2022-01-15T19:55:14.930Z"
   },
   {
    "duration": 7,
    "start_time": "2022-01-15T19:55:14.938Z"
   },
   {
    "duration": 46,
    "start_time": "2022-01-15T19:55:14.949Z"
   },
   {
    "duration": 4,
    "start_time": "2022-01-15T19:55:14.999Z"
   },
   {
    "duration": 8,
    "start_time": "2022-01-15T19:55:15.005Z"
   },
   {
    "duration": 11,
    "start_time": "2022-01-15T19:55:15.015Z"
   },
   {
    "duration": 9,
    "start_time": "2022-01-15T19:55:15.028Z"
   },
   {
    "duration": 7,
    "start_time": "2022-01-15T19:55:15.038Z"
   },
   {
    "duration": 7,
    "start_time": "2022-01-15T19:55:15.047Z"
   },
   {
    "duration": 35,
    "start_time": "2022-01-15T19:55:15.056Z"
   },
   {
    "duration": 5,
    "start_time": "2022-01-15T19:55:15.093Z"
   },
   {
    "duration": 5,
    "start_time": "2022-01-15T19:55:15.099Z"
   },
   {
    "duration": 18,
    "start_time": "2022-01-15T19:55:15.106Z"
   },
   {
    "duration": 5,
    "start_time": "2022-01-15T19:55:15.125Z"
   },
   {
    "duration": 5,
    "start_time": "2022-01-15T19:55:15.132Z"
   },
   {
    "duration": 5,
    "start_time": "2022-01-15T19:55:15.138Z"
   },
   {
    "duration": 9,
    "start_time": "2022-01-15T19:55:15.144Z"
   },
   {
    "duration": 7,
    "start_time": "2022-01-15T19:55:15.192Z"
   },
   {
    "duration": 7,
    "start_time": "2022-01-15T19:55:15.200Z"
   },
   {
    "duration": 7,
    "start_time": "2022-01-15T19:55:15.209Z"
   },
   {
    "duration": 5,
    "start_time": "2022-01-15T19:55:15.218Z"
   },
   {
    "duration": 5,
    "start_time": "2022-01-15T19:55:15.225Z"
   },
   {
    "duration": 4,
    "start_time": "2022-01-15T19:55:15.232Z"
   },
   {
    "duration": 54,
    "start_time": "2022-01-15T19:55:15.238Z"
   },
   {
    "duration": 8,
    "start_time": "2022-01-15T19:55:15.294Z"
   },
   {
    "duration": 8,
    "start_time": "2022-01-15T19:55:15.304Z"
   },
   {
    "duration": 14,
    "start_time": "2022-01-15T19:55:15.314Z"
   },
   {
    "duration": 6,
    "start_time": "2022-01-15T19:55:15.330Z"
   },
   {
    "duration": 6,
    "start_time": "2022-01-15T19:55:15.337Z"
   },
   {
    "duration": 48,
    "start_time": "2022-01-15T19:55:15.345Z"
   },
   {
    "duration": 6,
    "start_time": "2022-01-15T19:55:15.395Z"
   },
   {
    "duration": 6,
    "start_time": "2022-01-15T19:55:15.403Z"
   },
   {
    "duration": 7,
    "start_time": "2022-01-15T19:55:15.411Z"
   },
   {
    "duration": 15,
    "start_time": "2022-01-15T19:55:15.420Z"
   },
   {
    "duration": 4,
    "start_time": "2022-01-15T19:55:15.437Z"
   },
   {
    "duration": 49,
    "start_time": "2022-01-15T19:55:15.443Z"
   },
   {
    "duration": 7,
    "start_time": "2022-01-15T19:55:15.494Z"
   },
   {
    "duration": 9,
    "start_time": "2022-01-15T19:55:15.503Z"
   },
   {
    "duration": 5,
    "start_time": "2022-01-15T19:55:15.513Z"
   },
   {
    "duration": 12,
    "start_time": "2022-01-15T19:55:15.519Z"
   },
   {
    "duration": 2,
    "start_time": "2022-01-15T19:55:15.533Z"
   },
   {
    "duration": 10,
    "start_time": "2022-01-15T19:55:15.536Z"
   },
   {
    "duration": 43,
    "start_time": "2022-01-15T19:55:15.548Z"
   },
   {
    "duration": 13,
    "start_time": "2022-01-15T19:55:15.593Z"
   },
   {
    "duration": 6,
    "start_time": "2022-01-15T19:55:15.608Z"
   },
   {
    "duration": 18,
    "start_time": "2022-01-15T19:55:15.616Z"
   },
   {
    "duration": 13,
    "start_time": "2022-01-15T19:55:15.635Z"
   },
   {
    "duration": 44,
    "start_time": "2022-01-15T19:55:15.654Z"
   },
   {
    "duration": 6,
    "start_time": "2022-01-15T19:55:15.700Z"
   },
   {
    "duration": 17,
    "start_time": "2022-01-15T19:55:15.707Z"
   },
   {
    "duration": 2,
    "start_time": "2022-01-15T19:55:15.726Z"
   },
   {
    "duration": 47,
    "start_time": "2022-01-15T19:55:15.729Z"
   },
   {
    "duration": 16,
    "start_time": "2022-01-15T19:55:15.777Z"
   },
   {
    "duration": 15,
    "start_time": "2022-01-15T19:55:15.795Z"
   },
   {
    "duration": 15,
    "start_time": "2022-01-15T19:55:15.811Z"
   },
   {
    "duration": 2,
    "start_time": "2022-01-15T19:55:15.828Z"
   },
   {
    "duration": 5,
    "start_time": "2022-01-15T19:55:15.832Z"
   },
   {
    "duration": 5,
    "start_time": "2022-01-15T19:55:15.839Z"
   },
   {
    "duration": 47,
    "start_time": "2022-01-15T19:55:15.846Z"
   },
   {
    "duration": 14,
    "start_time": "2022-01-15T19:55:15.895Z"
   },
   {
    "duration": 25,
    "start_time": "2022-01-15T19:55:15.910Z"
   },
   {
    "duration": 5,
    "start_time": "2022-01-15T19:55:15.938Z"
   },
   {
    "duration": 52,
    "start_time": "2022-01-15T19:55:15.945Z"
   },
   {
    "duration": 9,
    "start_time": "2022-01-15T19:55:15.998Z"
   },
   {
    "duration": 2,
    "start_time": "2022-01-15T19:55:16.009Z"
   },
   {
    "duration": 15,
    "start_time": "2022-01-15T19:55:16.012Z"
   },
   {
    "duration": 2,
    "start_time": "2022-01-15T19:55:16.029Z"
   },
   {
    "duration": 18,
    "start_time": "2022-01-15T19:55:16.033Z"
   },
   {
    "duration": 2,
    "start_time": "2022-01-15T19:55:16.053Z"
   },
   {
    "duration": 39,
    "start_time": "2022-01-15T19:55:16.057Z"
   },
   {
    "duration": 2,
    "start_time": "2022-01-15T19:55:16.098Z"
   },
   {
    "duration": 16,
    "start_time": "2022-01-15T19:55:16.101Z"
   },
   {
    "duration": 11,
    "start_time": "2022-01-15T19:55:16.118Z"
   },
   {
    "duration": 11,
    "start_time": "2022-01-15T19:55:16.131Z"
   },
   {
    "duration": 2,
    "start_time": "2022-01-15T19:55:16.144Z"
   },
   {
    "duration": 15,
    "start_time": "2022-01-15T19:55:16.147Z"
   },
   {
    "duration": 6,
    "start_time": "2022-01-15T19:55:16.191Z"
   },
   {
    "duration": 10,
    "start_time": "2022-01-15T19:55:16.198Z"
   },
   {
    "duration": 8,
    "start_time": "2022-01-15T19:55:16.210Z"
   },
   {
    "duration": 2,
    "start_time": "2022-01-15T19:55:16.220Z"
   },
   {
    "duration": 19,
    "start_time": "2022-01-15T19:55:16.224Z"
   },
   {
    "duration": 6,
    "start_time": "2022-01-15T19:55:16.245Z"
   },
   {
    "duration": 9,
    "start_time": "2022-01-15T19:55:16.252Z"
   },
   {
    "duration": 33,
    "start_time": "2022-01-15T19:55:16.263Z"
   },
   {
    "duration": 19,
    "start_time": "2022-01-15T19:55:16.298Z"
   },
   {
    "duration": 4,
    "start_time": "2022-01-15T19:55:16.319Z"
   },
   {
    "duration": 17,
    "start_time": "2022-01-15T19:55:16.324Z"
   },
   {
    "duration": 2,
    "start_time": "2022-01-15T19:55:25.431Z"
   },
   {
    "duration": 166,
    "start_time": "2022-01-15T19:55:25.982Z"
   },
   {
    "duration": 37,
    "start_time": "2022-01-15T19:55:37.279Z"
   },
   {
    "duration": 173,
    "start_time": "2022-01-15T19:56:11.693Z"
   },
   {
    "duration": 4270,
    "start_time": "2022-01-15T19:56:37.237Z"
   },
   {
    "duration": 50,
    "start_time": "2022-01-15T19:57:59.329Z"
   },
   {
    "duration": 43,
    "start_time": "2022-01-15T19:58:29.929Z"
   },
   {
    "duration": 44,
    "start_time": "2022-01-15T19:59:37.281Z"
   },
   {
    "duration": 47,
    "start_time": "2022-01-15T19:59:52.001Z"
   },
   {
    "duration": 10,
    "start_time": "2022-01-15T20:12:24.521Z"
   },
   {
    "duration": 5,
    "start_time": "2022-01-15T20:14:45.655Z"
   },
   {
    "duration": 10,
    "start_time": "2022-01-15T20:15:20.494Z"
   },
   {
    "duration": 6,
    "start_time": "2022-01-15T20:16:51.648Z"
   },
   {
    "duration": 57,
    "start_time": "2022-01-15T20:17:44.291Z"
   },
   {
    "duration": 65,
    "start_time": "2022-01-15T20:17:58.092Z"
   },
   {
    "duration": 63,
    "start_time": "2022-01-15T20:18:31.794Z"
   },
   {
    "duration": 57,
    "start_time": "2022-01-15T20:18:50.138Z"
   },
   {
    "duration": 6,
    "start_time": "2022-01-15T20:19:21.466Z"
   },
   {
    "duration": 212,
    "start_time": "2022-01-15T20:19:32.969Z"
   },
   {
    "duration": 162,
    "start_time": "2022-01-15T20:19:36.832Z"
   },
   {
    "duration": 183,
    "start_time": "2022-01-15T20:19:51.704Z"
   },
   {
    "duration": 182,
    "start_time": "2022-01-15T20:19:56.744Z"
   },
   {
    "duration": 177,
    "start_time": "2022-01-15T20:20:07.960Z"
   },
   {
    "duration": 58,
    "start_time": "2022-01-15T20:25:57.721Z"
   },
   {
    "duration": 65,
    "start_time": "2022-01-15T20:26:13.936Z"
   },
   {
    "duration": 59,
    "start_time": "2022-01-15T20:26:24.512Z"
   },
   {
    "duration": 60,
    "start_time": "2022-01-15T20:27:27.375Z"
   },
   {
    "duration": 56,
    "start_time": "2022-01-15T20:27:41.670Z"
   },
   {
    "duration": 33,
    "start_time": "2022-01-15T20:28:20.343Z"
   },
   {
    "duration": 11,
    "start_time": "2022-01-15T20:28:46.504Z"
   },
   {
    "duration": 6,
    "start_time": "2022-01-15T20:29:11.594Z"
   },
   {
    "duration": 6,
    "start_time": "2022-01-15T20:29:34.511Z"
   },
   {
    "duration": 7,
    "start_time": "2022-01-15T20:29:47.687Z"
   },
   {
    "duration": 60,
    "start_time": "2022-01-15T20:30:56.718Z"
   },
   {
    "duration": 6,
    "start_time": "2022-01-15T20:31:05.035Z"
   },
   {
    "duration": 32,
    "start_time": "2022-01-15T20:36:24.789Z"
   },
   {
    "duration": 7,
    "start_time": "2022-01-15T20:36:48.308Z"
   },
   {
    "duration": 21,
    "start_time": "2022-01-15T20:42:05.303Z"
   },
   {
    "duration": 102,
    "start_time": "2022-01-15T20:49:26.888Z"
   },
   {
    "duration": 56,
    "start_time": "2022-01-15T20:49:55.582Z"
   },
   {
    "duration": 6,
    "start_time": "2022-01-15T20:51:14.380Z"
   },
   {
    "duration": 9,
    "start_time": "2022-01-15T20:51:27.612Z"
   },
   {
    "duration": 8,
    "start_time": "2022-01-15T20:51:41.740Z"
   },
   {
    "duration": 35,
    "start_time": "2022-01-15T20:52:05.748Z"
   },
   {
    "duration": 6,
    "start_time": "2022-01-15T20:52:18.756Z"
   },
   {
    "duration": 9,
    "start_time": "2022-01-15T21:00:36.622Z"
   },
   {
    "duration": 8,
    "start_time": "2022-01-15T21:00:42.344Z"
   },
   {
    "duration": 8,
    "start_time": "2022-01-15T21:00:59.145Z"
   },
   {
    "duration": 7,
    "start_time": "2022-01-15T21:01:04.944Z"
   },
   {
    "duration": 7,
    "start_time": "2022-01-15T21:01:29.743Z"
   },
   {
    "duration": 8,
    "start_time": "2022-01-15T21:01:58.103Z"
   },
   {
    "duration": 8,
    "start_time": "2022-01-15T21:02:14.479Z"
   },
   {
    "duration": 9,
    "start_time": "2022-01-15T21:03:20.998Z"
   },
   {
    "duration": 8,
    "start_time": "2022-01-15T21:03:25.877Z"
   },
   {
    "duration": 9,
    "start_time": "2022-01-15T21:03:51.019Z"
   },
   {
    "duration": 51,
    "start_time": "2022-01-15T21:04:22.397Z"
   },
   {
    "duration": 74,
    "start_time": "2022-01-15T21:04:22.450Z"
   },
   {
    "duration": 3,
    "start_time": "2022-01-15T21:04:22.525Z"
   },
   {
    "duration": 14,
    "start_time": "2022-01-15T21:04:22.530Z"
   },
   {
    "duration": 11,
    "start_time": "2022-01-15T21:04:22.545Z"
   },
   {
    "duration": 35,
    "start_time": "2022-01-15T21:04:22.557Z"
   },
   {
    "duration": 4,
    "start_time": "2022-01-15T21:04:22.593Z"
   },
   {
    "duration": 4,
    "start_time": "2022-01-15T21:04:22.600Z"
   },
   {
    "duration": 5,
    "start_time": "2022-01-15T21:04:22.606Z"
   },
   {
    "duration": 8,
    "start_time": "2022-01-15T21:04:22.613Z"
   },
   {
    "duration": 3,
    "start_time": "2022-01-15T21:04:22.623Z"
   },
   {
    "duration": 8,
    "start_time": "2022-01-15T21:04:22.628Z"
   },
   {
    "duration": 6,
    "start_time": "2022-01-15T21:04:22.638Z"
   },
   {
    "duration": 2,
    "start_time": "2022-01-15T21:04:22.692Z"
   },
   {
    "duration": 41,
    "start_time": "2022-01-15T21:04:22.696Z"
   },
   {
    "duration": 2,
    "start_time": "2022-01-15T21:04:22.739Z"
   },
   {
    "duration": 14,
    "start_time": "2022-01-15T21:04:22.742Z"
   },
   {
    "duration": 8,
    "start_time": "2022-01-15T21:04:22.792Z"
   },
   {
    "duration": 6,
    "start_time": "2022-01-15T21:04:22.801Z"
   },
   {
    "duration": 4,
    "start_time": "2022-01-15T21:04:22.808Z"
   },
   {
    "duration": 7,
    "start_time": "2022-01-15T21:04:22.813Z"
   },
   {
    "duration": 6,
    "start_time": "2022-01-15T21:04:22.821Z"
   },
   {
    "duration": 4,
    "start_time": "2022-01-15T21:04:22.831Z"
   },
   {
    "duration": 4,
    "start_time": "2022-01-15T21:04:22.837Z"
   },
   {
    "duration": 50,
    "start_time": "2022-01-15T21:04:22.842Z"
   },
   {
    "duration": 4,
    "start_time": "2022-01-15T21:04:22.894Z"
   },
   {
    "duration": 6,
    "start_time": "2022-01-15T21:04:22.900Z"
   },
   {
    "duration": 5,
    "start_time": "2022-01-15T21:04:22.907Z"
   },
   {
    "duration": 4,
    "start_time": "2022-01-15T21:04:22.914Z"
   },
   {
    "duration": 9,
    "start_time": "2022-01-15T21:04:22.919Z"
   },
   {
    "duration": 4,
    "start_time": "2022-01-15T21:04:22.930Z"
   },
   {
    "duration": 5,
    "start_time": "2022-01-15T21:04:22.935Z"
   },
   {
    "duration": 65,
    "start_time": "2022-01-15T21:04:22.941Z"
   },
   {
    "duration": 5,
    "start_time": "2022-01-15T21:04:23.008Z"
   },
   {
    "duration": 6,
    "start_time": "2022-01-15T21:04:23.015Z"
   },
   {
    "duration": 6,
    "start_time": "2022-01-15T21:04:23.023Z"
   },
   {
    "duration": 6,
    "start_time": "2022-01-15T21:04:23.031Z"
   },
   {
    "duration": 8,
    "start_time": "2022-01-15T21:04:23.038Z"
   },
   {
    "duration": 7,
    "start_time": "2022-01-15T21:04:23.047Z"
   },
   {
    "duration": 37,
    "start_time": "2022-01-15T21:04:23.056Z"
   },
   {
    "duration": 5,
    "start_time": "2022-01-15T21:04:23.094Z"
   },
   {
    "duration": 8,
    "start_time": "2022-01-15T21:04:23.101Z"
   },
   {
    "duration": 5,
    "start_time": "2022-01-15T21:04:23.110Z"
   },
   {
    "duration": 9,
    "start_time": "2022-01-15T21:04:23.116Z"
   },
   {
    "duration": 6,
    "start_time": "2022-01-15T21:04:23.126Z"
   },
   {
    "duration": 12,
    "start_time": "2022-01-15T21:04:23.133Z"
   },
   {
    "duration": 46,
    "start_time": "2022-01-15T21:04:23.146Z"
   },
   {
    "duration": 6,
    "start_time": "2022-01-15T21:04:23.194Z"
   },
   {
    "duration": 10,
    "start_time": "2022-01-15T21:04:23.202Z"
   },
   {
    "duration": 5,
    "start_time": "2022-01-15T21:04:23.213Z"
   },
   {
    "duration": 5,
    "start_time": "2022-01-15T21:04:23.219Z"
   },
   {
    "duration": 6,
    "start_time": "2022-01-15T21:04:23.225Z"
   },
   {
    "duration": 6,
    "start_time": "2022-01-15T21:04:23.233Z"
   },
   {
    "duration": 53,
    "start_time": "2022-01-15T21:04:23.241Z"
   },
   {
    "duration": 4,
    "start_time": "2022-01-15T21:04:23.296Z"
   },
   {
    "duration": 12,
    "start_time": "2022-01-15T21:04:23.302Z"
   },
   {
    "duration": 6,
    "start_time": "2022-01-15T21:04:23.315Z"
   },
   {
    "duration": 8,
    "start_time": "2022-01-15T21:04:23.323Z"
   },
   {
    "duration": 4,
    "start_time": "2022-01-15T21:04:23.333Z"
   },
   {
    "duration": 12,
    "start_time": "2022-01-15T21:04:23.338Z"
   },
   {
    "duration": 2,
    "start_time": "2022-01-15T21:04:23.352Z"
   },
   {
    "duration": 8,
    "start_time": "2022-01-15T21:04:23.391Z"
   },
   {
    "duration": 19,
    "start_time": "2022-01-15T21:04:23.401Z"
   },
   {
    "duration": 15,
    "start_time": "2022-01-15T21:04:23.422Z"
   },
   {
    "duration": 8,
    "start_time": "2022-01-15T21:04:23.438Z"
   },
   {
    "duration": 51,
    "start_time": "2022-01-15T21:04:23.448Z"
   },
   {
    "duration": 16,
    "start_time": "2022-01-15T21:04:23.501Z"
   },
   {
    "duration": 16,
    "start_time": "2022-01-15T21:04:23.524Z"
   },
   {
    "duration": 7,
    "start_time": "2022-01-15T21:04:23.543Z"
   },
   {
    "duration": 46,
    "start_time": "2022-01-15T21:04:23.551Z"
   },
   {
    "duration": 3,
    "start_time": "2022-01-15T21:04:23.599Z"
   },
   {
    "duration": 50,
    "start_time": "2022-01-15T21:04:23.604Z"
   },
   {
    "duration": 4,
    "start_time": "2022-01-15T21:04:23.655Z"
   },
   {
    "duration": 35,
    "start_time": "2022-01-15T21:04:23.660Z"
   },
   {
    "duration": 14,
    "start_time": "2022-01-15T21:04:23.697Z"
   },
   {
    "duration": 2,
    "start_time": "2022-01-15T21:04:23.712Z"
   },
   {
    "duration": 5,
    "start_time": "2022-01-15T21:04:23.716Z"
   },
   {
    "duration": 6,
    "start_time": "2022-01-15T21:04:23.722Z"
   },
   {
    "duration": 12,
    "start_time": "2022-01-15T21:04:23.730Z"
   },
   {
    "duration": 17,
    "start_time": "2022-01-15T21:04:23.744Z"
   },
   {
    "duration": 45,
    "start_time": "2022-01-15T21:04:23.762Z"
   },
   {
    "duration": 4,
    "start_time": "2022-01-15T21:04:23.809Z"
   },
   {
    "duration": 25,
    "start_time": "2022-01-15T21:04:23.814Z"
   },
   {
    "duration": 8,
    "start_time": "2022-01-15T21:04:23.841Z"
   },
   {
    "duration": 3,
    "start_time": "2022-01-15T21:04:23.851Z"
   },
   {
    "duration": 43,
    "start_time": "2022-01-15T21:04:23.856Z"
   },
   {
    "duration": 2,
    "start_time": "2022-01-15T21:04:23.901Z"
   },
   {
    "duration": 17,
    "start_time": "2022-01-15T21:04:23.905Z"
   },
   {
    "duration": 2,
    "start_time": "2022-01-15T21:04:23.923Z"
   },
   {
    "duration": 9,
    "start_time": "2022-01-15T21:04:23.927Z"
   },
   {
    "duration": 4,
    "start_time": "2022-01-15T21:04:23.938Z"
   },
   {
    "duration": 13,
    "start_time": "2022-01-15T21:04:23.944Z"
   },
   {
    "duration": 39,
    "start_time": "2022-01-15T21:04:23.959Z"
   },
   {
    "duration": 10,
    "start_time": "2022-01-15T21:04:23.999Z"
   },
   {
    "duration": 2,
    "start_time": "2022-01-15T21:04:24.011Z"
   },
   {
    "duration": 8,
    "start_time": "2022-01-15T21:04:24.015Z"
   },
   {
    "duration": 4,
    "start_time": "2022-01-15T21:04:24.025Z"
   },
   {
    "duration": 11,
    "start_time": "2022-01-15T21:04:24.031Z"
   },
   {
    "duration": 9,
    "start_time": "2022-01-15T21:04:24.043Z"
   },
   {
    "duration": 3,
    "start_time": "2022-01-15T21:04:24.092Z"
   },
   {
    "duration": 13,
    "start_time": "2022-01-15T21:04:24.096Z"
   },
   {
    "duration": 6,
    "start_time": "2022-01-15T21:04:24.111Z"
   },
   {
    "duration": 10,
    "start_time": "2022-01-15T21:04:24.118Z"
   },
   {
    "duration": 9,
    "start_time": "2022-01-15T21:04:24.130Z"
   },
   {
    "duration": 19,
    "start_time": "2022-01-15T21:04:24.141Z"
   },
   {
    "duration": 33,
    "start_time": "2022-01-15T21:04:24.161Z"
   },
   {
    "duration": 4,
    "start_time": "2022-01-15T21:04:24.195Z"
   },
   {
    "duration": 12,
    "start_time": "2022-01-15T21:04:24.201Z"
   },
   {
    "duration": 4,
    "start_time": "2022-01-15T21:04:24.214Z"
   },
   {
    "duration": 11,
    "start_time": "2022-01-15T21:04:24.219Z"
   },
   {
    "duration": 9,
    "start_time": "2022-01-15T21:04:24.231Z"
   },
   {
    "duration": 11,
    "start_time": "2022-01-15T21:04:24.242Z"
   },
   {
    "duration": 7,
    "start_time": "2022-01-15T21:04:24.254Z"
   },
   {
    "duration": 7,
    "start_time": "2022-01-15T21:04:41.234Z"
   },
   {
    "duration": 8,
    "start_time": "2022-01-15T21:04:42.212Z"
   },
   {
    "duration": 6,
    "start_time": "2022-01-15T21:07:15.313Z"
   },
   {
    "duration": 5,
    "start_time": "2022-01-15T21:07:30.777Z"
   },
   {
    "duration": 8,
    "start_time": "2022-01-15T21:16:19.205Z"
   },
   {
    "duration": 7,
    "start_time": "2022-01-15T21:16:48.670Z"
   },
   {
    "duration": 14,
    "start_time": "2022-01-15T21:18:05.532Z"
   },
   {
    "duration": 6,
    "start_time": "2022-01-15T21:18:23.275Z"
   },
   {
    "duration": 7,
    "start_time": "2022-01-15T21:19:05.651Z"
   },
   {
    "duration": 7,
    "start_time": "2022-01-15T21:19:20.065Z"
   },
   {
    "duration": 14,
    "start_time": "2022-01-15T21:19:49.618Z"
   },
   {
    "duration": 18,
    "start_time": "2022-01-15T21:20:18.426Z"
   },
   {
    "duration": 18,
    "start_time": "2022-01-15T21:22:22.130Z"
   },
   {
    "duration": 17,
    "start_time": "2022-01-15T21:22:36.213Z"
   },
   {
    "duration": 14,
    "start_time": "2022-01-15T21:22:57.607Z"
   },
   {
    "duration": 13,
    "start_time": "2022-01-15T21:23:04.158Z"
   },
   {
    "duration": 14,
    "start_time": "2022-01-15T21:23:28.413Z"
   },
   {
    "duration": 178,
    "start_time": "2022-01-15T21:32:28.802Z"
   },
   {
    "duration": 6,
    "start_time": "2022-01-15T21:32:38.929Z"
   },
   {
    "duration": 11,
    "start_time": "2022-01-15T21:34:24.545Z"
   },
   {
    "duration": 8,
    "start_time": "2022-01-15T21:36:05.199Z"
   },
   {
    "duration": 6,
    "start_time": "2022-01-15T21:38:39.236Z"
   },
   {
    "duration": 5,
    "start_time": "2022-01-15T21:38:47.891Z"
   },
   {
    "duration": 601,
    "start_time": "2022-01-15T21:38:48.556Z"
   },
   {
    "duration": 1399,
    "start_time": "2022-01-15T21:38:56.603Z"
   },
   {
    "duration": 4,
    "start_time": "2022-01-15T21:38:58.004Z"
   },
   {
    "duration": 5,
    "start_time": "2022-01-15T21:38:58.011Z"
   },
   {
    "duration": 6,
    "start_time": "2022-01-15T22:11:53.742Z"
   },
   {
    "duration": 6,
    "start_time": "2022-01-15T22:12:05.788Z"
   },
   {
    "duration": 6,
    "start_time": "2022-01-15T22:12:06.425Z"
   },
   {
    "duration": 6,
    "start_time": "2022-01-15T22:12:29.845Z"
   },
   {
    "duration": 247,
    "start_time": "2022-01-15T22:13:33.600Z"
   },
   {
    "duration": 179,
    "start_time": "2022-01-15T22:13:45.647Z"
   },
   {
    "duration": 4,
    "start_time": "2022-01-15T22:14:08.551Z"
   },
   {
    "duration": 9,
    "start_time": "2022-01-15T22:15:23.750Z"
   },
   {
    "duration": 8,
    "start_time": "2022-01-15T22:16:27.739Z"
   },
   {
    "duration": 10,
    "start_time": "2022-01-15T22:16:52.386Z"
   },
   {
    "duration": 12,
    "start_time": "2022-01-15T22:19:20.537Z"
   },
   {
    "duration": 191,
    "start_time": "2022-01-15T22:19:43.158Z"
   },
   {
    "duration": 181,
    "start_time": "2022-01-15T22:20:00.774Z"
   },
   {
    "duration": 59,
    "start_time": "2022-01-15T22:21:16.934Z"
   },
   {
    "duration": 63,
    "start_time": "2022-01-15T22:21:40.941Z"
   },
   {
    "duration": 11,
    "start_time": "2022-01-15T22:22:28.804Z"
   },
   {
    "duration": 185,
    "start_time": "2022-01-15T22:22:51.588Z"
   },
   {
    "duration": 10,
    "start_time": "2022-01-15T22:23:00.356Z"
   },
   {
    "duration": 195,
    "start_time": "2022-01-15T22:24:06.628Z"
   },
   {
    "duration": 3810,
    "start_time": "2022-01-15T22:24:14.892Z"
   },
   {
    "duration": 2281,
    "start_time": "2022-01-15T22:24:46.123Z"
   },
   {
    "duration": 2278,
    "start_time": "2022-01-15T22:24:53.106Z"
   },
   {
    "duration": 3387,
    "start_time": "2022-01-15T22:25:08.649Z"
   },
   {
    "duration": 8,
    "start_time": "2022-01-15T22:25:39.633Z"
   },
   {
    "duration": 8,
    "start_time": "2022-01-15T22:26:02.905Z"
   },
   {
    "duration": 76,
    "start_time": "2022-01-15T22:26:31.672Z"
   },
   {
    "duration": 9,
    "start_time": "2022-01-15T22:26:38.209Z"
   },
   {
    "duration": 9,
    "start_time": "2022-01-15T22:26:56.135Z"
   },
   {
    "duration": 9,
    "start_time": "2022-01-15T22:27:13.680Z"
   },
   {
    "duration": 10,
    "start_time": "2022-01-15T22:27:24.270Z"
   },
   {
    "duration": 8,
    "start_time": "2022-01-15T22:29:46.630Z"
   },
   {
    "duration": 13,
    "start_time": "2022-01-15T22:30:09.201Z"
   },
   {
    "duration": 35,
    "start_time": "2022-01-15T22:30:45.802Z"
   },
   {
    "duration": 38,
    "start_time": "2022-01-15T22:31:33.059Z"
   },
   {
    "duration": 31,
    "start_time": "2022-01-15T22:31:51.043Z"
   },
   {
    "duration": 31,
    "start_time": "2022-01-15T22:31:57.059Z"
   },
   {
    "duration": 31,
    "start_time": "2022-01-15T22:32:04.003Z"
   },
   {
    "duration": 31,
    "start_time": "2022-01-15T22:32:10.746Z"
   },
   {
    "duration": 30,
    "start_time": "2022-01-15T22:33:43.746Z"
   },
   {
    "duration": 37,
    "start_time": "2022-01-15T22:34:02.713Z"
   },
   {
    "duration": 12,
    "start_time": "2022-01-15T22:37:20.213Z"
   },
   {
    "duration": 14,
    "start_time": "2022-01-15T22:40:54.480Z"
   },
   {
    "duration": 824,
    "start_time": "2022-01-16T13:11:55.414Z"
   },
   {
    "duration": 128,
    "start_time": "2022-01-16T13:11:56.241Z"
   },
   {
    "duration": 5,
    "start_time": "2022-01-16T13:11:56.371Z"
   },
   {
    "duration": 18,
    "start_time": "2022-01-16T13:11:56.378Z"
   },
   {
    "duration": 13,
    "start_time": "2022-01-16T13:11:56.398Z"
   },
   {
    "duration": 6,
    "start_time": "2022-01-16T13:11:56.459Z"
   },
   {
    "duration": 5,
    "start_time": "2022-01-16T13:11:56.467Z"
   },
   {
    "duration": 7,
    "start_time": "2022-01-16T13:11:56.475Z"
   },
   {
    "duration": 5,
    "start_time": "2022-01-16T13:11:56.487Z"
   },
   {
    "duration": 11,
    "start_time": "2022-01-16T13:11:56.495Z"
   },
   {
    "duration": 5,
    "start_time": "2022-01-16T13:11:56.560Z"
   },
   {
    "duration": 9,
    "start_time": "2022-01-16T13:11:56.568Z"
   },
   {
    "duration": 9,
    "start_time": "2022-01-16T13:11:56.579Z"
   },
   {
    "duration": 2,
    "start_time": "2022-01-16T13:11:56.591Z"
   },
   {
    "duration": 116,
    "start_time": "2022-01-16T13:11:56.595Z"
   },
   {
    "duration": 3,
    "start_time": "2022-01-16T13:11:56.713Z"
   },
   {
    "duration": 42,
    "start_time": "2022-01-16T13:11:56.719Z"
   },
   {
    "duration": 10,
    "start_time": "2022-01-16T13:11:56.764Z"
   },
   {
    "duration": 10,
    "start_time": "2022-01-16T13:11:56.776Z"
   },
   {
    "duration": 19,
    "start_time": "2022-01-16T13:11:56.788Z"
   },
   {
    "duration": 16,
    "start_time": "2022-01-16T13:11:56.809Z"
   },
   {
    "duration": 33,
    "start_time": "2022-01-16T13:11:56.828Z"
   },
   {
    "duration": 9,
    "start_time": "2022-01-16T13:11:56.864Z"
   },
   {
    "duration": 16,
    "start_time": "2022-01-16T13:11:56.875Z"
   },
   {
    "duration": 11,
    "start_time": "2022-01-16T13:11:56.893Z"
   },
   {
    "duration": 12,
    "start_time": "2022-01-16T13:11:56.906Z"
   },
   {
    "duration": 36,
    "start_time": "2022-01-16T13:11:56.925Z"
   },
   {
    "duration": 17,
    "start_time": "2022-01-16T13:11:56.965Z"
   },
   {
    "duration": 25,
    "start_time": "2022-01-16T13:11:56.985Z"
   },
   {
    "duration": 29,
    "start_time": "2022-01-16T13:11:57.013Z"
   },
   {
    "duration": 6,
    "start_time": "2022-01-16T13:11:57.044Z"
   },
   {
    "duration": 12,
    "start_time": "2022-01-16T13:11:57.052Z"
   },
   {
    "duration": 31,
    "start_time": "2022-01-16T13:11:57.066Z"
   },
   {
    "duration": 12,
    "start_time": "2022-01-16T13:11:57.099Z"
   },
   {
    "duration": 11,
    "start_time": "2022-01-16T13:11:57.113Z"
   },
   {
    "duration": 10,
    "start_time": "2022-01-16T13:11:57.127Z"
   },
   {
    "duration": 9,
    "start_time": "2022-01-16T13:11:57.160Z"
   },
   {
    "duration": 21,
    "start_time": "2022-01-16T13:11:57.171Z"
   },
   {
    "duration": 10,
    "start_time": "2022-01-16T13:11:57.194Z"
   },
   {
    "duration": 8,
    "start_time": "2022-01-16T13:11:57.207Z"
   },
   {
    "duration": 5,
    "start_time": "2022-01-16T13:11:57.217Z"
   },
   {
    "duration": 40,
    "start_time": "2022-01-16T13:11:57.224Z"
   },
   {
    "duration": 7,
    "start_time": "2022-01-16T13:11:57.267Z"
   },
   {
    "duration": 11,
    "start_time": "2022-01-16T13:11:57.276Z"
   },
   {
    "duration": 8,
    "start_time": "2022-01-16T13:11:57.290Z"
   },
   {
    "duration": 65,
    "start_time": "2022-01-16T13:11:57.304Z"
   },
   {
    "duration": 16,
    "start_time": "2022-01-16T13:11:57.371Z"
   },
   {
    "duration": 10,
    "start_time": "2022-01-16T13:11:57.390Z"
   },
   {
    "duration": 8,
    "start_time": "2022-01-16T13:11:57.402Z"
   },
   {
    "duration": 6,
    "start_time": "2022-01-16T13:11:57.459Z"
   },
   {
    "duration": 6,
    "start_time": "2022-01-16T13:11:57.467Z"
   },
   {
    "duration": 9,
    "start_time": "2022-01-16T13:11:57.475Z"
   },
   {
    "duration": 9,
    "start_time": "2022-01-16T13:11:57.486Z"
   },
   {
    "duration": 68,
    "start_time": "2022-01-16T13:11:57.497Z"
   },
   {
    "duration": 6,
    "start_time": "2022-01-16T13:11:57.567Z"
   },
   {
    "duration": 19,
    "start_time": "2022-01-16T13:11:57.575Z"
   },
   {
    "duration": 9,
    "start_time": "2022-01-16T13:11:57.596Z"
   },
   {
    "duration": 10,
    "start_time": "2022-01-16T13:11:57.607Z"
   },
   {
    "duration": 41,
    "start_time": "2022-01-16T13:11:57.619Z"
   },
   {
    "duration": 17,
    "start_time": "2022-01-16T13:11:57.663Z"
   },
   {
    "duration": 3,
    "start_time": "2022-01-16T13:11:57.683Z"
   },
   {
    "duration": 11,
    "start_time": "2022-01-16T13:11:57.688Z"
   },
   {
    "duration": 66,
    "start_time": "2022-01-16T13:11:57.701Z"
   },
   {
    "duration": 19,
    "start_time": "2022-01-16T13:11:57.770Z"
   },
   {
    "duration": 10,
    "start_time": "2022-01-16T13:11:57.791Z"
   },
   {
    "duration": 59,
    "start_time": "2022-01-16T13:11:57.803Z"
   },
   {
    "duration": 22,
    "start_time": "2022-01-16T13:11:57.865Z"
   },
   {
    "duration": 23,
    "start_time": "2022-01-16T13:11:57.890Z"
   },
   {
    "duration": 8,
    "start_time": "2022-01-16T13:11:57.915Z"
   },
   {
    "duration": 57,
    "start_time": "2022-01-16T13:11:57.926Z"
   },
   {
    "duration": 3,
    "start_time": "2022-01-16T13:11:57.986Z"
   },
   {
    "duration": 85,
    "start_time": "2022-01-16T13:11:57.992Z"
   },
   {
    "duration": 6,
    "start_time": "2022-01-16T13:11:58.079Z"
   },
   {
    "duration": 19,
    "start_time": "2022-01-16T13:11:58.088Z"
   },
   {
    "duration": 55,
    "start_time": "2022-01-16T13:11:58.109Z"
   },
   {
    "duration": 3,
    "start_time": "2022-01-16T13:11:58.166Z"
   },
   {
    "duration": 5,
    "start_time": "2022-01-16T13:11:58.171Z"
   },
   {
    "duration": 7,
    "start_time": "2022-01-16T13:11:58.178Z"
   },
   {
    "duration": 14,
    "start_time": "2022-01-16T13:11:58.187Z"
   },
   {
    "duration": 55,
    "start_time": "2022-01-16T13:11:58.203Z"
   },
   {
    "duration": 23,
    "start_time": "2022-01-16T13:11:58.270Z"
   },
   {
    "duration": 7,
    "start_time": "2022-01-16T13:11:58.296Z"
   },
   {
    "duration": 67,
    "start_time": "2022-01-16T13:11:58.305Z"
   },
   {
    "duration": 10,
    "start_time": "2022-01-16T13:11:58.375Z"
   },
   {
    "duration": 4,
    "start_time": "2022-01-16T13:11:58.388Z"
   },
   {
    "duration": 22,
    "start_time": "2022-01-16T13:11:58.394Z"
   },
   {
    "duration": 3,
    "start_time": "2022-01-16T13:11:58.418Z"
   },
   {
    "duration": 54,
    "start_time": "2022-01-16T13:11:58.423Z"
   },
   {
    "duration": 3,
    "start_time": "2022-01-16T13:11:58.479Z"
   },
   {
    "duration": 12,
    "start_time": "2022-01-16T13:11:58.484Z"
   },
   {
    "duration": 3,
    "start_time": "2022-01-16T13:11:58.498Z"
   },
   {
    "duration": 17,
    "start_time": "2022-01-16T13:11:58.503Z"
   },
   {
    "duration": 51,
    "start_time": "2022-01-16T13:11:58.522Z"
   },
   {
    "duration": 14,
    "start_time": "2022-01-16T13:11:58.576Z"
   },
   {
    "duration": 3,
    "start_time": "2022-01-16T13:11:58.592Z"
   },
   {
    "duration": 10,
    "start_time": "2022-01-16T13:11:58.598Z"
   },
   {
    "duration": 49,
    "start_time": "2022-01-16T13:11:58.611Z"
   },
   {
    "duration": 13,
    "start_time": "2022-01-16T13:11:58.663Z"
   },
   {
    "duration": 12,
    "start_time": "2022-01-16T13:11:58.679Z"
   },
   {
    "duration": 4,
    "start_time": "2022-01-16T13:11:58.693Z"
   },
   {
    "duration": 16,
    "start_time": "2022-01-16T13:11:58.699Z"
   },
   {
    "duration": 6,
    "start_time": "2022-01-16T13:11:58.760Z"
   },
   {
    "duration": 9,
    "start_time": "2022-01-16T13:11:58.768Z"
   },
   {
    "duration": 8,
    "start_time": "2022-01-16T13:11:58.780Z"
   },
   {
    "duration": 3,
    "start_time": "2022-01-16T13:11:58.791Z"
   },
   {
    "duration": 71,
    "start_time": "2022-01-16T13:11:58.796Z"
   },
   {
    "duration": 3,
    "start_time": "2022-01-16T13:11:58.870Z"
   },
   {
    "duration": 8,
    "start_time": "2022-01-16T13:11:58.875Z"
   },
   {
    "duration": 3,
    "start_time": "2022-01-16T13:11:58.886Z"
   },
   {
    "duration": 14,
    "start_time": "2022-01-16T13:11:58.891Z"
   },
   {
    "duration": 5,
    "start_time": "2022-01-16T13:11:58.907Z"
   },
   {
    "duration": 54,
    "start_time": "2022-01-16T13:11:58.914Z"
   },
   {
    "duration": 8,
    "start_time": "2022-01-16T13:11:58.970Z"
   },
   {
    "duration": 8,
    "start_time": "2022-01-16T13:11:58.981Z"
   },
   {
    "duration": 8,
    "start_time": "2022-01-16T13:11:58.992Z"
   },
   {
    "duration": 63,
    "start_time": "2022-01-16T13:11:59.002Z"
   },
   {
    "duration": 3,
    "start_time": "2022-01-16T13:11:59.068Z"
   },
   {
    "duration": 20,
    "start_time": "2022-01-16T13:11:59.073Z"
   },
   {
    "duration": 3,
    "start_time": "2022-01-16T13:11:59.095Z"
   },
   {
    "duration": 16,
    "start_time": "2022-01-16T13:11:59.100Z"
   },
   {
    "duration": 42,
    "start_time": "2022-01-16T13:11:59.118Z"
   },
   {
    "duration": 10,
    "start_time": "2022-01-16T13:11:59.162Z"
   },
   {
    "duration": 3,
    "start_time": "2022-01-16T13:11:59.174Z"
   },
   {
    "duration": 8,
    "start_time": "2022-01-16T13:11:59.179Z"
   },
   {
    "duration": 9,
    "start_time": "2022-01-16T13:11:59.189Z"
   },
   {
    "duration": 769,
    "start_time": "2022-01-16T13:11:59.200Z"
   },
   {
    "duration": 2039,
    "start_time": "2022-01-16T13:11:59.972Z"
   },
   {
    "duration": 6,
    "start_time": "2022-01-16T13:12:02.013Z"
   },
   {
    "duration": 8,
    "start_time": "2022-01-16T13:12:02.021Z"
   },
   {
    "duration": 28,
    "start_time": "2022-01-16T13:12:02.031Z"
   },
   {
    "duration": 5,
    "start_time": "2022-01-16T13:12:02.061Z"
   },
   {
    "duration": 6,
    "start_time": "2022-01-16T13:12:02.068Z"
   },
   {
    "duration": 8,
    "start_time": "2022-01-16T13:12:02.076Z"
   },
   {
    "duration": 13,
    "start_time": "2022-01-16T13:12:02.087Z"
   },
   {
    "duration": 65,
    "start_time": "2022-01-16T13:12:02.102Z"
   },
   {
    "duration": 102,
    "start_time": "2022-01-16T13:12:02.170Z"
   },
   {
    "duration": 14,
    "start_time": "2022-01-16T13:12:02.275Z"
   },
   {
    "duration": 20,
    "start_time": "2022-01-16T13:12:02.292Z"
   },
   {
    "duration": 60,
    "start_time": "2022-01-16T13:12:02.314Z"
   },
   {
    "duration": 3,
    "start_time": "2022-01-16T13:12:02.377Z"
   },
   {
    "duration": 11,
    "start_time": "2022-01-16T13:24:05.372Z"
   },
   {
    "duration": 631,
    "start_time": "2022-01-16T16:15:40.490Z"
   },
   {
    "duration": 83,
    "start_time": "2022-01-16T16:15:41.123Z"
   },
   {
    "duration": 3,
    "start_time": "2022-01-16T16:15:41.209Z"
   },
   {
    "duration": 13,
    "start_time": "2022-01-16T16:15:41.214Z"
   },
   {
    "duration": 9,
    "start_time": "2022-01-16T16:15:41.229Z"
   },
   {
    "duration": 4,
    "start_time": "2022-01-16T16:15:41.240Z"
   },
   {
    "duration": 5,
    "start_time": "2022-01-16T16:15:41.245Z"
   },
   {
    "duration": 39,
    "start_time": "2022-01-16T16:15:41.253Z"
   },
   {
    "duration": 4,
    "start_time": "2022-01-16T16:15:41.294Z"
   },
   {
    "duration": 10,
    "start_time": "2022-01-16T16:15:41.299Z"
   },
   {
    "duration": 4,
    "start_time": "2022-01-16T16:15:41.310Z"
   },
   {
    "duration": 7,
    "start_time": "2022-01-16T16:15:41.316Z"
   },
   {
    "duration": 24,
    "start_time": "2022-01-16T16:15:41.325Z"
   },
   {
    "duration": 18,
    "start_time": "2022-01-16T16:15:41.350Z"
   },
   {
    "duration": 50,
    "start_time": "2022-01-16T16:15:41.370Z"
   },
   {
    "duration": 2,
    "start_time": "2022-01-16T16:15:41.422Z"
   },
   {
    "duration": 26,
    "start_time": "2022-01-16T16:15:41.426Z"
   },
   {
    "duration": 18,
    "start_time": "2022-01-16T16:15:41.454Z"
   },
   {
    "duration": 17,
    "start_time": "2022-01-16T16:15:41.473Z"
   },
   {
    "duration": 23,
    "start_time": "2022-01-16T16:15:41.492Z"
   },
   {
    "duration": 20,
    "start_time": "2022-01-16T16:15:41.517Z"
   },
   {
    "duration": 12,
    "start_time": "2022-01-16T16:15:41.539Z"
   },
   {
    "duration": 7,
    "start_time": "2022-01-16T16:15:41.554Z"
   },
   {
    "duration": 8,
    "start_time": "2022-01-16T16:15:41.563Z"
   },
   {
    "duration": 18,
    "start_time": "2022-01-16T16:15:41.572Z"
   },
   {
    "duration": 8,
    "start_time": "2022-01-16T16:15:41.591Z"
   },
   {
    "duration": 19,
    "start_time": "2022-01-16T16:15:41.601Z"
   },
   {
    "duration": 17,
    "start_time": "2022-01-16T16:15:41.621Z"
   },
   {
    "duration": 22,
    "start_time": "2022-01-16T16:15:41.640Z"
   },
   {
    "duration": 16,
    "start_time": "2022-01-16T16:15:41.663Z"
   },
   {
    "duration": 8,
    "start_time": "2022-01-16T16:15:41.681Z"
   },
   {
    "duration": 5,
    "start_time": "2022-01-16T16:15:41.691Z"
   },
   {
    "duration": 30,
    "start_time": "2022-01-16T16:15:41.698Z"
   },
   {
    "duration": 5,
    "start_time": "2022-01-16T16:15:41.729Z"
   },
   {
    "duration": 5,
    "start_time": "2022-01-16T16:15:41.735Z"
   },
   {
    "duration": 5,
    "start_time": "2022-01-16T16:15:41.742Z"
   },
   {
    "duration": 8,
    "start_time": "2022-01-16T16:15:41.749Z"
   },
   {
    "duration": 32,
    "start_time": "2022-01-16T16:15:41.759Z"
   },
   {
    "duration": 8,
    "start_time": "2022-01-16T16:15:41.794Z"
   },
   {
    "duration": 6,
    "start_time": "2022-01-16T16:15:41.804Z"
   },
   {
    "duration": 16,
    "start_time": "2022-01-16T16:15:41.812Z"
   },
   {
    "duration": 6,
    "start_time": "2022-01-16T16:15:41.829Z"
   },
   {
    "duration": 5,
    "start_time": "2022-01-16T16:15:41.837Z"
   },
   {
    "duration": 9,
    "start_time": "2022-01-16T16:15:41.843Z"
   },
   {
    "duration": 53,
    "start_time": "2022-01-16T16:15:41.854Z"
   },
   {
    "duration": 9,
    "start_time": "2022-01-16T16:15:41.909Z"
   },
   {
    "duration": 11,
    "start_time": "2022-01-16T16:15:41.919Z"
   },
   {
    "duration": 6,
    "start_time": "2022-01-16T16:15:41.932Z"
   },
   {
    "duration": 9,
    "start_time": "2022-01-16T16:15:41.940Z"
   },
   {
    "duration": 6,
    "start_time": "2022-01-16T16:15:41.950Z"
   },
   {
    "duration": 5,
    "start_time": "2022-01-16T16:15:41.992Z"
   },
   {
    "duration": 9,
    "start_time": "2022-01-16T16:15:41.999Z"
   },
   {
    "duration": 7,
    "start_time": "2022-01-16T16:15:42.010Z"
   },
   {
    "duration": 21,
    "start_time": "2022-01-16T16:15:42.019Z"
   },
   {
    "duration": 4,
    "start_time": "2022-01-16T16:15:42.042Z"
   },
   {
    "duration": 44,
    "start_time": "2022-01-16T16:15:42.047Z"
   },
   {
    "duration": 8,
    "start_time": "2022-01-16T16:15:42.093Z"
   },
   {
    "duration": 9,
    "start_time": "2022-01-16T16:15:42.103Z"
   },
   {
    "duration": 6,
    "start_time": "2022-01-16T16:15:42.113Z"
   },
   {
    "duration": 13,
    "start_time": "2022-01-16T16:15:42.120Z"
   },
   {
    "duration": 2,
    "start_time": "2022-01-16T16:15:42.135Z"
   },
   {
    "duration": 11,
    "start_time": "2022-01-16T16:15:42.139Z"
   },
   {
    "duration": 53,
    "start_time": "2022-01-16T16:15:42.152Z"
   },
   {
    "duration": 15,
    "start_time": "2022-01-16T16:15:42.206Z"
   },
   {
    "duration": 6,
    "start_time": "2022-01-16T16:15:42.223Z"
   },
   {
    "duration": 18,
    "start_time": "2022-01-16T16:15:42.231Z"
   },
   {
    "duration": 42,
    "start_time": "2022-01-16T16:15:42.250Z"
   },
   {
    "duration": 15,
    "start_time": "2022-01-16T16:15:42.296Z"
   },
   {
    "duration": 6,
    "start_time": "2022-01-16T16:15:42.313Z"
   },
   {
    "duration": 24,
    "start_time": "2022-01-16T16:15:42.321Z"
   },
   {
    "duration": 4,
    "start_time": "2022-01-16T16:15:42.347Z"
   },
   {
    "duration": 57,
    "start_time": "2022-01-16T16:15:42.352Z"
   },
   {
    "duration": 5,
    "start_time": "2022-01-16T16:15:42.411Z"
   },
   {
    "duration": 28,
    "start_time": "2022-01-16T16:15:42.418Z"
   },
   {
    "duration": 15,
    "start_time": "2022-01-16T16:15:42.448Z"
   },
   {
    "duration": 17,
    "start_time": "2022-01-16T16:15:42.464Z"
   },
   {
    "duration": 15,
    "start_time": "2022-01-16T16:15:42.483Z"
   },
   {
    "duration": 23,
    "start_time": "2022-01-16T16:15:42.499Z"
   },
   {
    "duration": 34,
    "start_time": "2022-01-16T16:15:42.523Z"
   },
   {
    "duration": 31,
    "start_time": "2022-01-16T16:15:42.560Z"
   },
   {
    "duration": 31,
    "start_time": "2022-01-16T16:15:42.593Z"
   },
   {
    "duration": 17,
    "start_time": "2022-01-16T16:15:42.626Z"
   },
   {
    "duration": 56,
    "start_time": "2022-01-16T16:15:42.645Z"
   },
   {
    "duration": 11,
    "start_time": "2022-01-16T16:15:42.703Z"
   },
   {
    "duration": 16,
    "start_time": "2022-01-16T16:15:42.716Z"
   },
   {
    "duration": 60,
    "start_time": "2022-01-16T16:16:15.662Z"
   },
   {
    "duration": 12,
    "start_time": "2022-01-16T16:17:37.553Z"
   },
   {
    "duration": 59,
    "start_time": "2022-01-16T16:37:50.521Z"
   },
   {
    "duration": 61,
    "start_time": "2022-01-16T16:37:50.582Z"
   },
   {
    "duration": 4,
    "start_time": "2022-01-16T16:37:50.645Z"
   },
   {
    "duration": 42,
    "start_time": "2022-01-16T16:37:50.651Z"
   },
   {
    "duration": 13,
    "start_time": "2022-01-16T16:37:50.695Z"
   },
   {
    "duration": 4,
    "start_time": "2022-01-16T16:37:50.710Z"
   },
   {
    "duration": 6,
    "start_time": "2022-01-16T16:37:50.716Z"
   },
   {
    "duration": 6,
    "start_time": "2022-01-16T16:37:50.724Z"
   },
   {
    "duration": 4,
    "start_time": "2022-01-16T16:37:50.733Z"
   },
   {
    "duration": 11,
    "start_time": "2022-01-16T16:37:50.740Z"
   },
   {
    "duration": 5,
    "start_time": "2022-01-16T16:37:50.792Z"
   },
   {
    "duration": 11,
    "start_time": "2022-01-16T16:37:50.799Z"
   },
   {
    "duration": 8,
    "start_time": "2022-01-16T16:37:50.812Z"
   },
   {
    "duration": 2,
    "start_time": "2022-01-16T16:37:50.822Z"
   },
   {
    "duration": 76,
    "start_time": "2022-01-16T16:37:50.825Z"
   },
   {
    "duration": 3,
    "start_time": "2022-01-16T16:37:50.903Z"
   },
   {
    "duration": 15,
    "start_time": "2022-01-16T16:37:50.907Z"
   },
   {
    "duration": 9,
    "start_time": "2022-01-16T16:37:50.924Z"
   },
   {
    "duration": 57,
    "start_time": "2022-01-16T16:37:50.934Z"
   },
   {
    "duration": 5,
    "start_time": "2022-01-16T16:37:50.994Z"
   },
   {
    "duration": 11,
    "start_time": "2022-01-16T16:37:51.000Z"
   },
   {
    "duration": 6,
    "start_time": "2022-01-16T16:37:51.013Z"
   },
   {
    "duration": 6,
    "start_time": "2022-01-16T16:37:51.020Z"
   },
   {
    "duration": 7,
    "start_time": "2022-01-16T16:37:51.028Z"
   },
   {
    "duration": 9,
    "start_time": "2022-01-16T16:37:51.036Z"
   },
   {
    "duration": 5,
    "start_time": "2022-01-16T16:37:51.046Z"
   },
   {
    "duration": 5,
    "start_time": "2022-01-16T16:37:51.092Z"
   },
   {
    "duration": 5,
    "start_time": "2022-01-16T16:37:51.100Z"
   },
   {
    "duration": 6,
    "start_time": "2022-01-16T16:37:51.107Z"
   },
   {
    "duration": 9,
    "start_time": "2022-01-16T16:37:51.114Z"
   },
   {
    "duration": 5,
    "start_time": "2022-01-16T16:37:51.124Z"
   },
   {
    "duration": 5,
    "start_time": "2022-01-16T16:37:51.131Z"
   },
   {
    "duration": 19,
    "start_time": "2022-01-16T16:37:51.137Z"
   },
   {
    "duration": 5,
    "start_time": "2022-01-16T16:37:51.157Z"
   },
   {
    "duration": 6,
    "start_time": "2022-01-16T16:37:51.164Z"
   },
   {
    "duration": 19,
    "start_time": "2022-01-16T16:37:51.172Z"
   },
   {
    "duration": 6,
    "start_time": "2022-01-16T16:37:51.193Z"
   },
   {
    "duration": 12,
    "start_time": "2022-01-16T16:37:51.201Z"
   },
   {
    "duration": 7,
    "start_time": "2022-01-16T16:37:51.214Z"
   },
   {
    "duration": 7,
    "start_time": "2022-01-16T16:37:51.223Z"
   },
   {
    "duration": 4,
    "start_time": "2022-01-16T16:37:51.232Z"
   },
   {
    "duration": 8,
    "start_time": "2022-01-16T16:37:51.238Z"
   },
   {
    "duration": 6,
    "start_time": "2022-01-16T16:37:51.247Z"
   },
   {
    "duration": 7,
    "start_time": "2022-01-16T16:37:51.255Z"
   },
   {
    "duration": 7,
    "start_time": "2022-01-16T16:37:51.264Z"
   },
   {
    "duration": 7,
    "start_time": "2022-01-16T16:37:51.272Z"
   },
   {
    "duration": 8,
    "start_time": "2022-01-16T16:37:51.281Z"
   },
   {
    "duration": 7,
    "start_time": "2022-01-16T16:37:51.292Z"
   },
   {
    "duration": 7,
    "start_time": "2022-01-16T16:37:51.301Z"
   },
   {
    "duration": 5,
    "start_time": "2022-01-16T16:37:51.310Z"
   },
   {
    "duration": 6,
    "start_time": "2022-01-16T16:37:51.317Z"
   },
   {
    "duration": 8,
    "start_time": "2022-01-16T16:37:51.325Z"
   },
   {
    "duration": 9,
    "start_time": "2022-01-16T16:37:51.335Z"
   },
   {
    "duration": 17,
    "start_time": "2022-01-16T16:37:51.346Z"
   },
   {
    "duration": 5,
    "start_time": "2022-01-16T16:37:51.364Z"
   },
   {
    "duration": 26,
    "start_time": "2022-01-16T16:37:51.371Z"
   },
   {
    "duration": 7,
    "start_time": "2022-01-16T16:37:51.399Z"
   },
   {
    "duration": 8,
    "start_time": "2022-01-16T16:37:51.408Z"
   },
   {
    "duration": 3,
    "start_time": "2022-01-16T16:37:51.418Z"
   },
   {
    "duration": 14,
    "start_time": "2022-01-16T16:37:51.422Z"
   },
   {
    "duration": 2,
    "start_time": "2022-01-16T16:37:51.438Z"
   },
   {
    "duration": 9,
    "start_time": "2022-01-16T16:37:51.441Z"
   },
   {
    "duration": 24,
    "start_time": "2022-01-16T16:37:51.452Z"
   },
   {
    "duration": 14,
    "start_time": "2022-01-16T16:37:51.478Z"
   },
   {
    "duration": 8,
    "start_time": "2022-01-16T16:37:51.493Z"
   },
   {
    "duration": 22,
    "start_time": "2022-01-16T16:37:51.502Z"
   },
   {
    "duration": 15,
    "start_time": "2022-01-16T16:37:51.525Z"
   },
   {
    "duration": 15,
    "start_time": "2022-01-16T16:37:51.542Z"
   },
   {
    "duration": 6,
    "start_time": "2022-01-16T16:37:51.559Z"
   },
   {
    "duration": 14,
    "start_time": "2022-01-16T16:37:51.566Z"
   },
   {
    "duration": 2,
    "start_time": "2022-01-16T16:37:51.582Z"
   },
   {
    "duration": 38,
    "start_time": "2022-01-16T16:37:51.591Z"
   },
   {
    "duration": 4,
    "start_time": "2022-01-16T16:37:51.631Z"
   },
   {
    "duration": 13,
    "start_time": "2022-01-16T16:37:51.636Z"
   },
   {
    "duration": 13,
    "start_time": "2022-01-16T16:37:51.651Z"
   },
   {
    "duration": 2,
    "start_time": "2022-01-16T16:37:51.666Z"
   },
   {
    "duration": 5,
    "start_time": "2022-01-16T16:37:51.670Z"
   },
   {
    "duration": 5,
    "start_time": "2022-01-16T16:37:51.677Z"
   },
   {
    "duration": 8,
    "start_time": "2022-01-16T16:37:51.691Z"
   },
   {
    "duration": 14,
    "start_time": "2022-01-16T16:37:51.701Z"
   },
   {
    "duration": 21,
    "start_time": "2022-01-16T16:37:51.719Z"
   },
   {
    "duration": 5,
    "start_time": "2022-01-16T16:37:51.742Z"
   },
   {
    "duration": 21,
    "start_time": "2022-01-16T16:37:51.749Z"
   },
   {
    "duration": 20,
    "start_time": "2022-01-16T16:37:51.772Z"
   },
   {
    "duration": 3,
    "start_time": "2022-01-16T16:37:51.793Z"
   },
   {
    "duration": 27,
    "start_time": "2022-01-16T16:37:51.797Z"
   },
   {
    "duration": 2,
    "start_time": "2022-01-16T16:37:51.825Z"
   },
   {
    "duration": 67,
    "start_time": "2022-01-16T16:37:51.829Z"
   },
   {
    "duration": 3,
    "start_time": "2022-01-16T16:37:51.897Z"
   },
   {
    "duration": 7,
    "start_time": "2022-01-16T16:37:52.333Z"
   },
   {
    "duration": 2,
    "start_time": "2022-01-16T16:37:52.342Z"
   },
   {
    "duration": 12,
    "start_time": "2022-01-16T16:37:52.346Z"
   },
   {
    "duration": 11,
    "start_time": "2022-01-16T16:37:52.391Z"
   },
   {
    "duration": 12,
    "start_time": "2022-01-16T16:37:52.404Z"
   },
   {
    "duration": 3,
    "start_time": "2022-01-16T16:37:52.417Z"
   },
   {
    "duration": 11,
    "start_time": "2022-01-16T16:37:52.422Z"
   },
   {
    "duration": 57,
    "start_time": "2022-01-16T16:37:52.435Z"
   },
   {
    "duration": 10,
    "start_time": "2022-01-16T16:37:52.494Z"
   },
   {
    "duration": 8,
    "start_time": "2022-01-16T16:37:52.506Z"
   },
   {
    "duration": 3,
    "start_time": "2022-01-16T16:37:52.516Z"
   },
   {
    "duration": 12,
    "start_time": "2022-01-16T16:37:52.520Z"
   },
   {
    "duration": 6,
    "start_time": "2022-01-16T16:37:52.533Z"
   },
   {
    "duration": 7,
    "start_time": "2022-01-16T16:37:52.592Z"
   },
   {
    "duration": 7,
    "start_time": "2022-01-16T16:37:52.600Z"
   },
   {
    "duration": 2,
    "start_time": "2022-01-16T16:37:52.609Z"
   },
   {
    "duration": 19,
    "start_time": "2022-01-16T16:37:52.612Z"
   },
   {
    "duration": 2,
    "start_time": "2022-01-16T16:37:52.632Z"
   },
   {
    "duration": 5,
    "start_time": "2022-01-16T16:37:52.692Z"
   },
   {
    "duration": 3,
    "start_time": "2022-01-16T16:37:52.699Z"
   },
   {
    "duration": 15,
    "start_time": "2022-01-16T16:37:52.704Z"
   },
   {
    "duration": 5,
    "start_time": "2022-01-16T16:37:52.720Z"
   },
   {
    "duration": 64,
    "start_time": "2022-01-16T16:37:52.729Z"
   },
   {
    "duration": 6,
    "start_time": "2022-01-16T16:37:52.796Z"
   },
   {
    "duration": 6,
    "start_time": "2022-01-16T16:37:52.804Z"
   },
   {
    "duration": 8,
    "start_time": "2022-01-16T16:37:52.812Z"
   },
   {
    "duration": 72,
    "start_time": "2022-01-16T16:37:52.822Z"
   },
   {
    "duration": 2,
    "start_time": "2022-01-16T16:37:52.897Z"
   },
   {
    "duration": 16,
    "start_time": "2022-01-16T16:37:52.901Z"
   },
   {
    "duration": 3,
    "start_time": "2022-01-16T16:37:52.918Z"
   },
   {
    "duration": 14,
    "start_time": "2022-01-16T16:37:52.922Z"
   },
   {
    "duration": 3,
    "start_time": "2022-01-16T16:37:52.992Z"
   },
   {
    "duration": 10,
    "start_time": "2022-01-16T16:37:52.996Z"
   },
   {
    "duration": 3,
    "start_time": "2022-01-16T16:37:53.007Z"
   },
   {
    "duration": 8,
    "start_time": "2022-01-16T16:37:53.011Z"
   },
   {
    "duration": 5,
    "start_time": "2022-01-16T16:37:53.020Z"
   },
   {
    "duration": 700,
    "start_time": "2022-01-16T16:37:53.027Z"
   },
   {
    "duration": 1259,
    "start_time": "2022-01-16T16:37:53.729Z"
   },
   {
    "duration": 4,
    "start_time": "2022-01-16T16:37:54.992Z"
   },
   {
    "duration": 7,
    "start_time": "2022-01-16T16:37:54.997Z"
   },
   {
    "duration": 5,
    "start_time": "2022-01-16T16:37:55.005Z"
   },
   {
    "duration": 5,
    "start_time": "2022-01-16T16:37:55.011Z"
   },
   {
    "duration": 9,
    "start_time": "2022-01-16T16:37:55.017Z"
   },
   {
    "duration": 8,
    "start_time": "2022-01-16T16:37:55.027Z"
   },
   {
    "duration": 8,
    "start_time": "2022-01-16T16:37:55.037Z"
   },
   {
    "duration": 12,
    "start_time": "2022-01-16T16:37:55.047Z"
   },
   {
    "duration": 62,
    "start_time": "2022-01-16T16:37:55.060Z"
   },
   {
    "duration": 10,
    "start_time": "2022-01-16T16:37:55.123Z"
   },
   {
    "duration": 22,
    "start_time": "2022-01-16T16:38:46.119Z"
   },
   {
    "duration": 23,
    "start_time": "2022-01-16T16:40:21.293Z"
   },
   {
    "duration": 21,
    "start_time": "2022-01-16T16:40:54.036Z"
   },
   {
    "duration": 290,
    "start_time": "2022-01-16T16:51:09.039Z"
   },
   {
    "duration": 166,
    "start_time": "2022-01-16T16:51:51.782Z"
   },
   {
    "duration": 61,
    "start_time": "2022-01-16T16:52:19.531Z"
   },
   {
    "duration": 177,
    "start_time": "2022-01-16T16:52:34.484Z"
   },
   {
    "duration": 183,
    "start_time": "2022-01-16T16:55:15.929Z"
   },
   {
    "duration": 175,
    "start_time": "2022-01-16T16:55:36.129Z"
   },
   {
    "duration": 58,
    "start_time": "2022-01-16T16:55:58.719Z"
   },
   {
    "duration": 177,
    "start_time": "2022-01-16T16:59:06.933Z"
   },
   {
    "duration": 174,
    "start_time": "2022-01-16T17:02:26.824Z"
   },
   {
    "duration": 268,
    "start_time": "2022-01-16T17:03:33.190Z"
   },
   {
    "duration": 165,
    "start_time": "2022-01-16T17:05:51.929Z"
   },
   {
    "duration": 180,
    "start_time": "2022-01-16T17:09:12.927Z"
   },
   {
    "duration": 183,
    "start_time": "2022-01-16T17:17:27.381Z"
   },
   {
    "duration": 571,
    "start_time": "2022-01-16T21:58:37.977Z"
   },
   {
    "duration": 67,
    "start_time": "2022-01-16T21:58:38.550Z"
   },
   {
    "duration": 3,
    "start_time": "2022-01-16T21:58:38.619Z"
   },
   {
    "duration": 14,
    "start_time": "2022-01-16T21:58:38.623Z"
   },
   {
    "duration": 10,
    "start_time": "2022-01-16T21:58:38.638Z"
   },
   {
    "duration": 4,
    "start_time": "2022-01-16T21:58:38.649Z"
   },
   {
    "duration": 6,
    "start_time": "2022-01-16T21:58:38.654Z"
   },
   {
    "duration": 6,
    "start_time": "2022-01-16T21:58:38.662Z"
   },
   {
    "duration": 8,
    "start_time": "2022-01-16T21:58:38.669Z"
   },
   {
    "duration": 34,
    "start_time": "2022-01-16T21:58:38.678Z"
   },
   {
    "duration": 3,
    "start_time": "2022-01-16T21:58:38.713Z"
   },
   {
    "duration": 7,
    "start_time": "2022-01-16T21:58:38.717Z"
   },
   {
    "duration": 5,
    "start_time": "2022-01-16T21:58:38.725Z"
   },
   {
    "duration": 1,
    "start_time": "2022-01-16T21:58:38.732Z"
   },
   {
    "duration": 36,
    "start_time": "2022-01-16T21:58:38.735Z"
   },
   {
    "duration": 2,
    "start_time": "2022-01-16T21:58:38.772Z"
   },
   {
    "duration": 38,
    "start_time": "2022-01-16T21:58:38.775Z"
   },
   {
    "duration": 7,
    "start_time": "2022-01-16T21:58:38.814Z"
   },
   {
    "duration": 5,
    "start_time": "2022-01-16T21:58:38.822Z"
   },
   {
    "duration": 4,
    "start_time": "2022-01-16T21:58:38.828Z"
   },
   {
    "duration": 6,
    "start_time": "2022-01-16T21:58:38.833Z"
   },
   {
    "duration": 5,
    "start_time": "2022-01-16T21:58:38.840Z"
   },
   {
    "duration": 4,
    "start_time": "2022-01-16T21:58:38.849Z"
   },
   {
    "duration": 4,
    "start_time": "2022-01-16T21:58:38.855Z"
   },
   {
    "duration": 53,
    "start_time": "2022-01-16T21:58:38.860Z"
   },
   {
    "duration": 4,
    "start_time": "2022-01-16T21:58:38.914Z"
   },
   {
    "duration": 5,
    "start_time": "2022-01-16T21:58:38.920Z"
   },
   {
    "duration": 5,
    "start_time": "2022-01-16T21:58:38.926Z"
   },
   {
    "duration": 4,
    "start_time": "2022-01-16T21:58:38.932Z"
   },
   {
    "duration": 8,
    "start_time": "2022-01-16T21:58:38.937Z"
   },
   {
    "duration": 4,
    "start_time": "2022-01-16T21:58:38.946Z"
   },
   {
    "duration": 5,
    "start_time": "2022-01-16T21:58:38.951Z"
   },
   {
    "duration": 57,
    "start_time": "2022-01-16T21:58:38.958Z"
   },
   {
    "duration": 5,
    "start_time": "2022-01-16T21:58:39.016Z"
   },
   {
    "duration": 5,
    "start_time": "2022-01-16T21:58:39.022Z"
   },
   {
    "duration": 5,
    "start_time": "2022-01-16T21:58:39.028Z"
   },
   {
    "duration": 6,
    "start_time": "2022-01-16T21:58:39.034Z"
   },
   {
    "duration": 5,
    "start_time": "2022-01-16T21:58:39.042Z"
   },
   {
    "duration": 6,
    "start_time": "2022-01-16T21:58:39.049Z"
   },
   {
    "duration": 5,
    "start_time": "2022-01-16T21:58:39.056Z"
   },
   {
    "duration": 52,
    "start_time": "2022-01-16T21:58:39.062Z"
   },
   {
    "duration": 5,
    "start_time": "2022-01-16T21:58:39.115Z"
   },
   {
    "duration": 4,
    "start_time": "2022-01-16T21:58:39.121Z"
   },
   {
    "duration": 6,
    "start_time": "2022-01-16T21:58:39.127Z"
   },
   {
    "duration": 5,
    "start_time": "2022-01-16T21:58:39.134Z"
   },
   {
    "duration": 7,
    "start_time": "2022-01-16T21:58:39.141Z"
   },
   {
    "duration": 8,
    "start_time": "2022-01-16T21:58:39.150Z"
   },
   {
    "duration": 5,
    "start_time": "2022-01-16T21:58:39.160Z"
   },
   {
    "duration": 47,
    "start_time": "2022-01-16T21:58:39.166Z"
   },
   {
    "duration": 4,
    "start_time": "2022-01-16T21:58:39.215Z"
   },
   {
    "duration": 4,
    "start_time": "2022-01-16T21:58:39.220Z"
   },
   {
    "duration": 5,
    "start_time": "2022-01-16T21:58:39.225Z"
   },
   {
    "duration": 6,
    "start_time": "2022-01-16T21:58:39.232Z"
   },
   {
    "duration": 12,
    "start_time": "2022-01-16T21:58:39.239Z"
   },
   {
    "duration": 4,
    "start_time": "2022-01-16T21:58:39.252Z"
   },
   {
    "duration": 9,
    "start_time": "2022-01-16T21:58:39.258Z"
   },
   {
    "duration": 47,
    "start_time": "2022-01-16T21:58:39.268Z"
   },
   {
    "duration": 7,
    "start_time": "2022-01-16T21:58:39.316Z"
   },
   {
    "duration": 3,
    "start_time": "2022-01-16T21:58:39.324Z"
   },
   {
    "duration": 11,
    "start_time": "2022-01-16T21:58:39.329Z"
   },
   {
    "duration": 2,
    "start_time": "2022-01-16T21:58:39.341Z"
   },
   {
    "duration": 8,
    "start_time": "2022-01-16T21:58:39.344Z"
   },
   {
    "duration": 16,
    "start_time": "2022-01-16T21:58:39.353Z"
   },
   {
    "duration": 41,
    "start_time": "2022-01-16T21:58:39.371Z"
   },
   {
    "duration": 5,
    "start_time": "2022-01-16T21:58:39.414Z"
   },
   {
    "duration": 20,
    "start_time": "2022-01-16T21:58:39.420Z"
   },
   {
    "duration": 11,
    "start_time": "2022-01-16T21:58:39.442Z"
   },
   {
    "duration": 12,
    "start_time": "2022-01-16T21:58:39.458Z"
   },
   {
    "duration": 6,
    "start_time": "2022-01-16T21:58:39.472Z"
   },
   {
    "duration": 39,
    "start_time": "2022-01-16T21:58:39.479Z"
   },
   {
    "duration": 2,
    "start_time": "2022-01-16T21:58:39.520Z"
   },
   {
    "duration": 36,
    "start_time": "2022-01-16T21:58:39.523Z"
   },
   {
    "duration": 4,
    "start_time": "2022-01-16T21:58:39.560Z"
   },
   {
    "duration": 13,
    "start_time": "2022-01-16T21:58:39.566Z"
   },
   {
    "duration": 38,
    "start_time": "2022-01-16T21:58:39.581Z"
   },
   {
    "duration": 2,
    "start_time": "2022-01-16T21:58:39.621Z"
   },
   {
    "duration": 4,
    "start_time": "2022-01-16T21:58:39.625Z"
   },
   {
    "duration": 5,
    "start_time": "2022-01-16T21:58:39.630Z"
   },
   {
    "duration": 8,
    "start_time": "2022-01-16T21:58:39.637Z"
   },
   {
    "duration": 13,
    "start_time": "2022-01-16T21:58:39.646Z"
   },
   {
    "duration": 14,
    "start_time": "2022-01-16T21:58:39.660Z"
   },
   {
    "duration": 37,
    "start_time": "2022-01-16T21:58:39.676Z"
   },
   {
    "duration": 19,
    "start_time": "2022-01-16T21:58:39.715Z"
   },
   {
    "duration": 7,
    "start_time": "2022-01-16T21:58:39.736Z"
   },
   {
    "duration": 2,
    "start_time": "2022-01-16T21:58:39.745Z"
   },
   {
    "duration": 242,
    "start_time": "2022-01-16T21:58:47.919Z"
   },
   {
    "duration": 11,
    "start_time": "2022-01-16T21:59:31.273Z"
   },
   {
    "duration": 182,
    "start_time": "2022-01-16T22:03:12.244Z"
   },
   {
    "duration": 66,
    "start_time": "2022-01-16T22:03:44.572Z"
   },
   {
    "duration": 218,
    "start_time": "2022-01-16T22:04:03.185Z"
   },
   {
    "duration": 33,
    "start_time": "2022-01-16T22:04:18.363Z"
   },
   {
    "duration": 33,
    "start_time": "2022-01-16T22:25:15.004Z"
   },
   {
    "duration": 337,
    "start_time": "2022-01-17T07:05:55.640Z"
   },
   {
    "duration": 932,
    "start_time": "2022-01-17T07:06:02.558Z"
   },
   {
    "duration": 122,
    "start_time": "2022-01-17T07:06:03.493Z"
   },
   {
    "duration": 4,
    "start_time": "2022-01-17T07:06:03.618Z"
   },
   {
    "duration": 49,
    "start_time": "2022-01-17T07:06:03.625Z"
   },
   {
    "duration": 16,
    "start_time": "2022-01-17T07:06:03.677Z"
   },
   {
    "duration": 6,
    "start_time": "2022-01-17T07:06:03.696Z"
   },
   {
    "duration": 7,
    "start_time": "2022-01-17T07:06:03.705Z"
   },
   {
    "duration": 5,
    "start_time": "2022-01-17T07:06:03.716Z"
   },
   {
    "duration": 46,
    "start_time": "2022-01-17T07:06:03.724Z"
   },
   {
    "duration": 15,
    "start_time": "2022-01-17T07:06:03.772Z"
   },
   {
    "duration": 14,
    "start_time": "2022-01-17T07:06:03.789Z"
   },
   {
    "duration": 11,
    "start_time": "2022-01-17T07:06:03.806Z"
   },
   {
    "duration": 51,
    "start_time": "2022-01-17T07:06:03.820Z"
   },
   {
    "duration": 3,
    "start_time": "2022-01-17T07:06:03.874Z"
   },
   {
    "duration": 93,
    "start_time": "2022-01-17T07:06:03.880Z"
   },
   {
    "duration": 3,
    "start_time": "2022-01-17T07:06:03.976Z"
   },
   {
    "duration": 21,
    "start_time": "2022-01-17T07:06:03.982Z"
   },
   {
    "duration": 13,
    "start_time": "2022-01-17T07:06:04.006Z"
   },
   {
    "duration": 46,
    "start_time": "2022-01-17T07:06:04.022Z"
   },
   {
    "duration": 6,
    "start_time": "2022-01-17T07:06:04.071Z"
   },
   {
    "duration": 15,
    "start_time": "2022-01-17T07:06:04.079Z"
   },
   {
    "duration": 13,
    "start_time": "2022-01-17T07:06:04.096Z"
   },
   {
    "duration": 6,
    "start_time": "2022-01-17T07:06:04.115Z"
   },
   {
    "duration": 44,
    "start_time": "2022-01-17T07:06:04.125Z"
   },
   {
    "duration": 6,
    "start_time": "2022-01-17T07:06:04.171Z"
   },
   {
    "duration": 13,
    "start_time": "2022-01-17T07:06:04.180Z"
   },
   {
    "duration": 12,
    "start_time": "2022-01-17T07:06:04.195Z"
   },
   {
    "duration": 11,
    "start_time": "2022-01-17T07:06:04.209Z"
   },
   {
    "duration": 8,
    "start_time": "2022-01-17T07:06:04.222Z"
   },
   {
    "duration": 42,
    "start_time": "2022-01-17T07:06:04.233Z"
   },
   {
    "duration": 7,
    "start_time": "2022-01-17T07:06:04.277Z"
   },
   {
    "duration": 9,
    "start_time": "2022-01-17T07:06:04.287Z"
   },
   {
    "duration": 28,
    "start_time": "2022-01-17T07:06:04.299Z"
   },
   {
    "duration": 46,
    "start_time": "2022-01-17T07:06:04.329Z"
   },
   {
    "duration": 12,
    "start_time": "2022-01-17T07:06:04.377Z"
   },
   {
    "duration": 9,
    "start_time": "2022-01-17T07:06:04.392Z"
   },
   {
    "duration": 10,
    "start_time": "2022-01-17T07:06:04.404Z"
   },
   {
    "duration": 51,
    "start_time": "2022-01-17T07:06:04.417Z"
   },
   {
    "duration": 11,
    "start_time": "2022-01-17T07:06:04.471Z"
   },
   {
    "duration": 9,
    "start_time": "2022-01-17T07:06:04.484Z"
   },
   {
    "duration": 7,
    "start_time": "2022-01-17T07:06:04.495Z"
   },
   {
    "duration": 10,
    "start_time": "2022-01-17T07:06:04.504Z"
   },
   {
    "duration": 54,
    "start_time": "2022-01-17T07:06:04.516Z"
   },
   {
    "duration": 12,
    "start_time": "2022-01-17T07:06:04.572Z"
   },
   {
    "duration": 10,
    "start_time": "2022-01-17T07:06:04.586Z"
   },
   {
    "duration": 17,
    "start_time": "2022-01-17T07:06:04.598Z"
   },
   {
    "duration": 52,
    "start_time": "2022-01-17T07:06:04.618Z"
   },
   {
    "duration": 9,
    "start_time": "2022-01-17T07:06:04.672Z"
   },
   {
    "duration": 14,
    "start_time": "2022-01-17T07:06:04.683Z"
   },
   {
    "duration": 7,
    "start_time": "2022-01-17T07:06:04.699Z"
   },
   {
    "duration": 6,
    "start_time": "2022-01-17T07:06:04.708Z"
   },
   {
    "duration": 54,
    "start_time": "2022-01-17T07:06:04.717Z"
   },
   {
    "duration": 10,
    "start_time": "2022-01-17T07:06:04.773Z"
   },
   {
    "duration": 23,
    "start_time": "2022-01-17T07:06:04.785Z"
   },
   {
    "duration": 6,
    "start_time": "2022-01-17T07:06:04.810Z"
   },
   {
    "duration": 48,
    "start_time": "2022-01-17T07:06:04.819Z"
   },
   {
    "duration": 10,
    "start_time": "2022-01-17T07:06:04.870Z"
   },
   {
    "duration": 14,
    "start_time": "2022-01-17T07:06:04.882Z"
   },
   {
    "duration": 7,
    "start_time": "2022-01-17T07:06:04.898Z"
   },
   {
    "duration": 20,
    "start_time": "2022-01-17T07:06:04.908Z"
   },
   {
    "duration": 3,
    "start_time": "2022-01-17T07:06:04.930Z"
   },
   {
    "duration": 11,
    "start_time": "2022-01-17T07:06:04.967Z"
   },
   {
    "duration": 40,
    "start_time": "2022-01-17T07:06:04.980Z"
   },
   {
    "duration": 37,
    "start_time": "2022-01-17T07:06:05.022Z"
   },
   {
    "duration": 14,
    "start_time": "2022-01-17T07:06:05.061Z"
   },
   {
    "duration": 32,
    "start_time": "2022-01-17T07:06:05.077Z"
   },
   {
    "duration": 22,
    "start_time": "2022-01-17T07:06:05.111Z"
   },
   {
    "duration": 25,
    "start_time": "2022-01-17T07:06:05.173Z"
   },
   {
    "duration": 9,
    "start_time": "2022-01-17T07:06:05.202Z"
   },
   {
    "duration": 26,
    "start_time": "2022-01-17T07:06:05.214Z"
   },
   {
    "duration": 4,
    "start_time": "2022-01-17T07:06:05.267Z"
   },
   {
    "duration": 76,
    "start_time": "2022-01-17T07:06:05.273Z"
   },
   {
    "duration": 6,
    "start_time": "2022-01-17T07:06:05.367Z"
   },
   {
    "duration": 23,
    "start_time": "2022-01-17T07:06:05.376Z"
   },
   {
    "duration": 21,
    "start_time": "2022-01-17T07:06:05.401Z"
   },
   {
    "duration": 43,
    "start_time": "2022-01-17T07:06:05.424Z"
   },
   {
    "duration": 9,
    "start_time": "2022-01-17T07:06:05.470Z"
   },
   {
    "duration": 8,
    "start_time": "2022-01-17T07:06:05.481Z"
   },
   {
    "duration": 35,
    "start_time": "2022-01-17T07:06:05.492Z"
   },
   {
    "duration": 24,
    "start_time": "2022-01-17T07:06:05.529Z"
   },
   {
    "duration": 31,
    "start_time": "2022-01-17T07:06:05.555Z"
   },
   {
    "duration": 7,
    "start_time": "2022-01-17T07:06:05.588Z"
   },
   {
    "duration": 34,
    "start_time": "2022-01-17T07:06:05.597Z"
   },
   {
    "duration": 40,
    "start_time": "2022-01-17T07:06:05.633Z"
   },
   {
    "duration": 3,
    "start_time": "2022-01-17T07:06:05.676Z"
   },
   {
    "duration": 24,
    "start_time": "2022-01-17T07:06:05.682Z"
   },
   {
    "duration": 3,
    "start_time": "2022-01-17T07:06:05.709Z"
   },
   {
    "duration": 58,
    "start_time": "2022-01-17T07:06:05.714Z"
   },
   {
    "duration": 4,
    "start_time": "2022-01-17T07:06:05.774Z"
   },
   {
    "duration": 13,
    "start_time": "2022-01-17T07:06:05.780Z"
   },
   {
    "duration": 3,
    "start_time": "2022-01-17T07:06:05.796Z"
   },
   {
    "duration": 21,
    "start_time": "2022-01-17T07:06:05.801Z"
   },
   {
    "duration": 48,
    "start_time": "2022-01-17T07:06:05.824Z"
   },
   {
    "duration": 18,
    "start_time": "2022-01-17T07:06:05.874Z"
   },
   {
    "duration": 3,
    "start_time": "2022-01-17T07:06:05.895Z"
   },
   {
    "duration": 15,
    "start_time": "2022-01-17T07:06:05.900Z"
   },
   {
    "duration": 7,
    "start_time": "2022-01-17T07:06:05.917Z"
   },
   {
    "duration": 55,
    "start_time": "2022-01-17T07:06:05.926Z"
   },
   {
    "duration": 13,
    "start_time": "2022-01-17T07:06:05.983Z"
   },
   {
    "duration": 4,
    "start_time": "2022-01-17T07:06:05.998Z"
   },
   {
    "duration": 19,
    "start_time": "2022-01-17T07:06:06.005Z"
   },
   {
    "duration": 43,
    "start_time": "2022-01-17T07:06:06.026Z"
   },
   {
    "duration": 12,
    "start_time": "2022-01-17T07:06:06.071Z"
   },
   {
    "duration": 12,
    "start_time": "2022-01-17T07:06:06.085Z"
   },
   {
    "duration": 4,
    "start_time": "2022-01-17T07:06:06.099Z"
   },
   {
    "duration": 68,
    "start_time": "2022-01-17T07:06:06.105Z"
   },
   {
    "duration": 4,
    "start_time": "2022-01-17T07:06:06.175Z"
   },
   {
    "duration": 10,
    "start_time": "2022-01-17T07:06:06.182Z"
   },
   {
    "duration": 4,
    "start_time": "2022-01-17T07:06:06.195Z"
   },
   {
    "duration": 16,
    "start_time": "2022-01-17T07:06:06.203Z"
   },
   {
    "duration": 47,
    "start_time": "2022-01-17T07:06:06.222Z"
   },
   {
    "duration": 16,
    "start_time": "2022-01-17T07:06:06.272Z"
   },
   {
    "duration": 11,
    "start_time": "2022-01-17T07:06:06.291Z"
   },
   {
    "duration": 11,
    "start_time": "2022-01-17T07:06:06.304Z"
   },
   {
    "duration": 56,
    "start_time": "2022-01-17T07:06:06.318Z"
   },
   {
    "duration": 22,
    "start_time": "2022-01-17T07:06:06.377Z"
   },
   {
    "duration": 3,
    "start_time": "2022-01-17T07:06:06.402Z"
   },
   {
    "duration": 68,
    "start_time": "2022-01-17T07:06:06.408Z"
   },
   {
    "duration": 4,
    "start_time": "2022-01-17T07:06:06.479Z"
   },
   {
    "duration": 19,
    "start_time": "2022-01-17T07:06:06.486Z"
   },
   {
    "duration": 4,
    "start_time": "2022-01-17T07:06:06.508Z"
   },
   {
    "duration": 53,
    "start_time": "2022-01-17T07:06:06.515Z"
   },
   {
    "duration": 4,
    "start_time": "2022-01-17T07:06:06.570Z"
   },
   {
    "duration": 13,
    "start_time": "2022-01-17T07:06:06.577Z"
   },
   {
    "duration": 12,
    "start_time": "2022-01-17T07:06:06.593Z"
   },
   {
    "duration": 834,
    "start_time": "2022-01-17T07:06:06.607Z"
   },
   {
    "duration": 2061,
    "start_time": "2022-01-17T07:06:07.443Z"
   },
   {
    "duration": 6,
    "start_time": "2022-01-17T07:06:09.506Z"
   },
   {
    "duration": 8,
    "start_time": "2022-01-17T07:06:09.515Z"
   },
   {
    "duration": 5,
    "start_time": "2022-01-17T07:06:09.526Z"
   },
   {
    "duration": 33,
    "start_time": "2022-01-17T07:06:09.534Z"
   },
   {
    "duration": 10,
    "start_time": "2022-01-17T07:06:09.570Z"
   },
   {
    "duration": 17,
    "start_time": "2022-01-17T07:06:09.582Z"
   },
   {
    "duration": 13,
    "start_time": "2022-01-17T07:06:09.602Z"
   },
   {
    "duration": 48,
    "start_time": "2022-01-17T07:06:09.618Z"
   },
   {
    "duration": 61,
    "start_time": "2022-01-17T07:06:09.669Z"
   },
   {
    "duration": 16,
    "start_time": "2022-01-17T07:06:09.767Z"
   },
   {
    "duration": 31,
    "start_time": "2022-01-17T07:06:09.786Z"
   },
   {
    "duration": 92,
    "start_time": "2022-01-17T07:06:09.819Z"
   },
   {
    "duration": 68,
    "start_time": "2022-01-17T07:06:09.913Z"
   },
   {
    "duration": 24,
    "start_time": "2022-01-17T07:06:09.983Z"
   },
   {
    "duration": 7,
    "start_time": "2022-01-17T07:06:27.427Z"
   },
   {
    "duration": 9,
    "start_time": "2022-01-17T07:06:51.775Z"
   },
   {
    "duration": 12,
    "start_time": "2022-01-17T07:07:04.710Z"
   },
   {
    "duration": 27,
    "start_time": "2022-01-17T07:09:30.249Z"
   },
   {
    "duration": 13,
    "start_time": "2022-01-17T07:09:42.552Z"
   },
   {
    "duration": 403,
    "start_time": "2022-01-17T07:13:56.102Z"
   },
   {
    "duration": 61,
    "start_time": "2022-01-17T07:14:31.298Z"
   },
   {
    "duration": 309,
    "start_time": "2022-01-17T07:15:51.448Z"
   },
   {
    "duration": 17,
    "start_time": "2022-01-17T07:16:30.761Z"
   },
   {
    "duration": 64,
    "start_time": "2022-01-17T07:17:12.250Z"
   },
   {
    "duration": 78,
    "start_time": "2022-01-17T07:19:03.625Z"
   },
   {
    "duration": 109,
    "start_time": "2022-01-17T07:24:00.145Z"
   },
   {
    "duration": 77,
    "start_time": "2022-01-17T07:25:15.987Z"
   },
   {
    "duration": 11,
    "start_time": "2022-01-17T07:27:03.927Z"
   },
   {
    "duration": 13,
    "start_time": "2022-01-17T07:28:19.964Z"
   },
   {
    "duration": 15,
    "start_time": "2022-01-17T07:28:25.639Z"
   },
   {
    "duration": 19,
    "start_time": "2022-01-17T07:30:47.877Z"
   },
   {
    "duration": 1410,
    "start_time": "2022-01-17T07:34:48.878Z"
   },
   {
    "duration": 19947,
    "start_time": "2022-01-17T07:35:16.707Z"
   },
   {
    "duration": 20230,
    "start_time": "2022-01-17T07:35:52.522Z"
   },
   {
    "duration": 10,
    "start_time": "2022-01-17T07:36:36.600Z"
   },
   {
    "duration": 19984,
    "start_time": "2022-01-17T07:36:59.542Z"
   },
   {
    "duration": 22,
    "start_time": "2022-01-17T07:37:23.539Z"
   },
   {
    "duration": 16,
    "start_time": "2022-01-17T07:38:40.281Z"
   },
   {
    "duration": 3,
    "start_time": "2022-01-17T07:52:44.393Z"
   },
   {
    "duration": 20275,
    "start_time": "2022-01-17T07:53:47.717Z"
   },
   {
    "duration": 15,
    "start_time": "2022-01-17T07:54:07.995Z"
   },
   {
    "duration": 998,
    "start_time": "2022-01-17T16:49:22.212Z"
   },
   {
    "duration": 98,
    "start_time": "2022-01-17T16:49:23.212Z"
   },
   {
    "duration": 13,
    "start_time": "2022-01-17T16:49:23.313Z"
   },
   {
    "duration": 16,
    "start_time": "2022-01-17T16:49:23.329Z"
   },
   {
    "duration": 14,
    "start_time": "2022-01-17T16:49:23.348Z"
   },
   {
    "duration": 6,
    "start_time": "2022-01-17T16:49:23.364Z"
   },
   {
    "duration": 4,
    "start_time": "2022-01-17T16:49:23.373Z"
   },
   {
    "duration": 6,
    "start_time": "2022-01-17T16:49:23.425Z"
   },
   {
    "duration": 7,
    "start_time": "2022-01-17T16:49:23.434Z"
   },
   {
    "duration": 12,
    "start_time": "2022-01-17T16:49:23.444Z"
   },
   {
    "duration": 5,
    "start_time": "2022-01-17T16:49:23.458Z"
   },
   {
    "duration": 59,
    "start_time": "2022-01-17T16:49:23.465Z"
   },
   {
    "duration": 10,
    "start_time": "2022-01-17T16:49:23.527Z"
   },
   {
    "duration": 3,
    "start_time": "2022-01-17T16:49:23.540Z"
   },
   {
    "duration": 96,
    "start_time": "2022-01-17T16:49:23.545Z"
   },
   {
    "duration": 3,
    "start_time": "2022-01-17T16:49:23.643Z"
   },
   {
    "duration": 15,
    "start_time": "2022-01-17T16:49:23.648Z"
   },
   {
    "duration": 11,
    "start_time": "2022-01-17T16:49:23.666Z"
   },
   {
    "duration": 44,
    "start_time": "2022-01-17T16:49:23.680Z"
   },
   {
    "duration": 5,
    "start_time": "2022-01-17T16:49:23.727Z"
   },
   {
    "duration": 8,
    "start_time": "2022-01-17T16:49:23.734Z"
   },
   {
    "duration": 8,
    "start_time": "2022-01-17T16:49:23.745Z"
   },
   {
    "duration": 6,
    "start_time": "2022-01-17T16:49:23.759Z"
   },
   {
    "duration": 53,
    "start_time": "2022-01-17T16:49:23.771Z"
   },
   {
    "duration": 8,
    "start_time": "2022-01-17T16:49:23.827Z"
   },
   {
    "duration": 6,
    "start_time": "2022-01-17T16:49:23.837Z"
   },
   {
    "duration": 6,
    "start_time": "2022-01-17T16:49:23.846Z"
   },
   {
    "duration": 6,
    "start_time": "2022-01-17T16:49:23.855Z"
   },
   {
    "duration": 6,
    "start_time": "2022-01-17T16:49:23.863Z"
   },
   {
    "duration": 60,
    "start_time": "2022-01-17T16:49:23.871Z"
   },
   {
    "duration": 7,
    "start_time": "2022-01-17T16:49:23.934Z"
   },
   {
    "duration": 6,
    "start_time": "2022-01-17T16:49:23.944Z"
   },
   {
    "duration": 25,
    "start_time": "2022-01-17T16:49:23.953Z"
   },
   {
    "duration": 49,
    "start_time": "2022-01-17T16:49:23.980Z"
   },
   {
    "duration": 8,
    "start_time": "2022-01-17T16:49:24.031Z"
   },
   {
    "duration": 8,
    "start_time": "2022-01-17T16:49:24.042Z"
   },
   {
    "duration": 9,
    "start_time": "2022-01-17T16:49:24.053Z"
   },
   {
    "duration": 10,
    "start_time": "2022-01-17T16:49:24.064Z"
   },
   {
    "duration": 12,
    "start_time": "2022-01-17T16:49:24.124Z"
   },
   {
    "duration": 10,
    "start_time": "2022-01-17T16:49:24.139Z"
   },
   {
    "duration": 7,
    "start_time": "2022-01-17T16:49:24.151Z"
   },
   {
    "duration": 7,
    "start_time": "2022-01-17T16:49:24.160Z"
   },
   {
    "duration": 13,
    "start_time": "2022-01-17T16:49:24.169Z"
   },
   {
    "duration": 8,
    "start_time": "2022-01-17T16:49:24.224Z"
   },
   {
    "duration": 7,
    "start_time": "2022-01-17T16:49:24.235Z"
   },
   {
    "duration": 11,
    "start_time": "2022-01-17T16:49:24.245Z"
   },
   {
    "duration": 13,
    "start_time": "2022-01-17T16:49:24.258Z"
   },
   {
    "duration": 55,
    "start_time": "2022-01-17T16:49:24.274Z"
   },
   {
    "duration": 10,
    "start_time": "2022-01-17T16:49:24.332Z"
   },
   {
    "duration": 7,
    "start_time": "2022-01-17T16:49:24.344Z"
   },
   {
    "duration": 10,
    "start_time": "2022-01-17T16:49:24.353Z"
   },
   {
    "duration": 10,
    "start_time": "2022-01-17T16:49:24.365Z"
   },
   {
    "duration": 50,
    "start_time": "2022-01-17T16:49:24.377Z"
   },
   {
    "duration": 19,
    "start_time": "2022-01-17T16:49:24.429Z"
   },
   {
    "duration": 7,
    "start_time": "2022-01-17T16:49:24.451Z"
   },
   {
    "duration": 17,
    "start_time": "2022-01-17T16:49:24.460Z"
   },
   {
    "duration": 8,
    "start_time": "2022-01-17T16:49:24.480Z"
   },
   {
    "duration": 9,
    "start_time": "2022-01-17T16:49:24.524Z"
   },
   {
    "duration": 5,
    "start_time": "2022-01-17T16:49:24.535Z"
   },
   {
    "duration": 18,
    "start_time": "2022-01-17T16:49:24.542Z"
   },
   {
    "duration": 3,
    "start_time": "2022-01-17T16:49:24.562Z"
   },
   {
    "duration": 11,
    "start_time": "2022-01-17T16:49:24.567Z"
   },
   {
    "duration": 67,
    "start_time": "2022-01-17T16:49:24.581Z"
   },
   {
    "duration": 19,
    "start_time": "2022-01-17T16:49:24.650Z"
   },
   {
    "duration": 11,
    "start_time": "2022-01-17T16:49:24.671Z"
   },
   {
    "duration": 61,
    "start_time": "2022-01-17T16:49:24.685Z"
   },
   {
    "duration": 20,
    "start_time": "2022-01-17T16:49:24.749Z"
   },
   {
    "duration": 48,
    "start_time": "2022-01-17T16:49:24.778Z"
   },
   {
    "duration": 8,
    "start_time": "2022-01-17T16:49:24.831Z"
   },
   {
    "duration": 24,
    "start_time": "2022-01-17T16:49:24.841Z"
   },
   {
    "duration": 3,
    "start_time": "2022-01-17T16:49:24.867Z"
   },
   {
    "duration": 84,
    "start_time": "2022-01-17T16:49:24.872Z"
   },
   {
    "duration": 5,
    "start_time": "2022-01-17T16:49:24.959Z"
   },
   {
    "duration": 18,
    "start_time": "2022-01-17T16:49:24.967Z"
   },
   {
    "duration": 46,
    "start_time": "2022-01-17T16:49:24.987Z"
   },
   {
    "duration": 3,
    "start_time": "2022-01-17T16:49:25.035Z"
   },
   {
    "duration": 12,
    "start_time": "2022-01-17T16:49:25.041Z"
   },
   {
    "duration": 11,
    "start_time": "2022-01-17T16:49:25.056Z"
   },
   {
    "duration": 16,
    "start_time": "2022-01-17T16:49:25.069Z"
   },
   {
    "duration": 42,
    "start_time": "2022-01-17T16:49:25.088Z"
   },
   {
    "duration": 22,
    "start_time": "2022-01-17T16:49:25.132Z"
   },
   {
    "duration": 5,
    "start_time": "2022-01-17T16:49:25.157Z"
   },
   {
    "duration": 60,
    "start_time": "2022-01-17T16:49:25.165Z"
   },
   {
    "duration": 11,
    "start_time": "2022-01-17T16:49:25.227Z"
   },
   {
    "duration": 8,
    "start_time": "2022-01-17T16:49:25.241Z"
   },
   {
    "duration": 18,
    "start_time": "2022-01-17T16:49:25.251Z"
   },
   {
    "duration": 3,
    "start_time": "2022-01-17T16:49:25.271Z"
   },
   {
    "duration": 53,
    "start_time": "2022-01-17T16:49:25.276Z"
   },
   {
    "duration": 3,
    "start_time": "2022-01-17T16:49:25.332Z"
   },
   {
    "duration": 17,
    "start_time": "2022-01-17T16:49:25.337Z"
   },
   {
    "duration": 3,
    "start_time": "2022-01-17T16:49:25.357Z"
   },
   {
    "duration": 14,
    "start_time": "2022-01-17T16:49:25.362Z"
   },
   {
    "duration": 46,
    "start_time": "2022-01-17T16:49:25.378Z"
   },
   {
    "duration": 15,
    "start_time": "2022-01-17T16:49:25.426Z"
   },
   {
    "duration": 10,
    "start_time": "2022-01-17T16:49:25.443Z"
   },
   {
    "duration": 12,
    "start_time": "2022-01-17T16:49:25.455Z"
   },
   {
    "duration": 6,
    "start_time": "2022-01-17T16:49:25.469Z"
   },
   {
    "duration": 51,
    "start_time": "2022-01-17T16:49:25.478Z"
   },
   {
    "duration": 12,
    "start_time": "2022-01-17T16:49:25.531Z"
   },
   {
    "duration": 3,
    "start_time": "2022-01-17T16:49:25.546Z"
   },
   {
    "duration": 16,
    "start_time": "2022-01-17T16:49:25.552Z"
   },
   {
    "duration": 22,
    "start_time": "2022-01-17T16:49:25.570Z"
   },
   {
    "duration": 30,
    "start_time": "2022-01-17T16:49:25.594Z"
   },
   {
    "duration": 8,
    "start_time": "2022-01-17T16:49:25.626Z"
   },
   {
    "duration": 4,
    "start_time": "2022-01-17T16:49:25.636Z"
   },
   {
    "duration": 26,
    "start_time": "2022-01-17T16:49:25.642Z"
   },
   {
    "duration": 3,
    "start_time": "2022-01-17T16:49:25.670Z"
   },
   {
    "duration": 52,
    "start_time": "2022-01-17T16:49:25.675Z"
   },
   {
    "duration": 7,
    "start_time": "2022-01-17T16:49:25.730Z"
   },
   {
    "duration": 17,
    "start_time": "2022-01-17T16:49:25.739Z"
   },
   {
    "duration": 5,
    "start_time": "2022-01-17T16:49:25.758Z"
   },
   {
    "duration": 12,
    "start_time": "2022-01-17T16:49:25.766Z"
   },
   {
    "duration": 44,
    "start_time": "2022-01-17T16:49:25.780Z"
   },
   {
    "duration": 8,
    "start_time": "2022-01-17T16:49:25.827Z"
   },
   {
    "duration": 9,
    "start_time": "2022-01-17T16:49:25.837Z"
   },
   {
    "duration": 18,
    "start_time": "2022-01-17T16:49:25.848Z"
   },
   {
    "duration": 3,
    "start_time": "2022-01-17T16:49:25.868Z"
   },
   {
    "duration": 69,
    "start_time": "2022-01-17T16:49:25.873Z"
   },
   {
    "duration": 3,
    "start_time": "2022-01-17T16:49:25.944Z"
   },
   {
    "duration": 17,
    "start_time": "2022-01-17T16:49:25.950Z"
   },
   {
    "duration": 3,
    "start_time": "2022-01-17T16:49:25.970Z"
   },
   {
    "duration": 12,
    "start_time": "2022-01-17T16:49:25.975Z"
   },
   {
    "duration": 2,
    "start_time": "2022-01-17T16:49:26.023Z"
   },
   {
    "duration": 12,
    "start_time": "2022-01-17T16:49:26.028Z"
   },
   {
    "duration": 11,
    "start_time": "2022-01-17T16:49:26.042Z"
   },
   {
    "duration": 771,
    "start_time": "2022-01-17T16:49:26.056Z"
   },
   {
    "duration": 2040,
    "start_time": "2022-01-17T16:49:26.830Z"
   },
   {
    "duration": 5,
    "start_time": "2022-01-17T16:49:28.873Z"
   },
   {
    "duration": 15,
    "start_time": "2022-01-17T16:49:28.880Z"
   },
   {
    "duration": 25,
    "start_time": "2022-01-17T16:49:28.898Z"
   },
   {
    "duration": 3,
    "start_time": "2022-01-17T16:49:28.926Z"
   },
   {
    "duration": 7,
    "start_time": "2022-01-17T16:49:28.932Z"
   },
   {
    "duration": 11,
    "start_time": "2022-01-17T16:49:28.942Z"
   },
   {
    "duration": 10,
    "start_time": "2022-01-17T16:49:28.955Z"
   },
   {
    "duration": 60,
    "start_time": "2022-01-17T16:49:28.967Z"
   },
   {
    "duration": 95,
    "start_time": "2022-01-17T16:49:29.030Z"
   },
   {
    "duration": 15,
    "start_time": "2022-01-17T16:49:29.127Z"
   },
   {
    "duration": 23,
    "start_time": "2022-01-17T16:49:29.145Z"
   },
   {
    "duration": 91,
    "start_time": "2022-01-17T16:49:29.170Z"
   },
   {
    "duration": 65,
    "start_time": "2022-01-17T16:49:29.264Z"
   },
   {
    "duration": 19734,
    "start_time": "2022-01-17T16:49:29.331Z"
   },
   {
    "duration": 18,
    "start_time": "2022-01-17T16:49:49.067Z"
   },
   {
    "duration": 11,
    "start_time": "2022-01-17T16:57:21.477Z"
   },
   {
    "duration": 39,
    "start_time": "2022-01-17T16:57:28.552Z"
   },
   {
    "duration": 80,
    "start_time": "2022-01-17T17:09:46.790Z"
   },
   {
    "duration": 267,
    "start_time": "2022-01-17T17:12:56.039Z"
   },
   {
    "duration": 39,
    "start_time": "2022-01-17T17:28:33.574Z"
   },
   {
    "duration": 44,
    "start_time": "2022-01-17T17:31:37.436Z"
   },
   {
    "duration": 7,
    "start_time": "2022-01-17T17:31:50.331Z"
   },
   {
    "duration": 49,
    "start_time": "2022-01-17T17:32:34.745Z"
   },
   {
    "duration": 951,
    "start_time": "2022-01-17T20:58:07.823Z"
   },
   {
    "duration": 99,
    "start_time": "2022-01-17T20:58:08.776Z"
   },
   {
    "duration": 4,
    "start_time": "2022-01-17T20:58:10.665Z"
   },
   {
    "duration": 19,
    "start_time": "2022-01-17T20:58:10.672Z"
   },
   {
    "duration": 71,
    "start_time": "2022-01-17T20:58:10.694Z"
   },
   {
    "duration": 5,
    "start_time": "2022-01-17T20:58:10.768Z"
   },
   {
    "duration": 5,
    "start_time": "2022-01-17T20:58:10.775Z"
   },
   {
    "duration": 5,
    "start_time": "2022-01-17T20:58:10.782Z"
   },
   {
    "duration": 5,
    "start_time": "2022-01-17T20:58:10.789Z"
   },
   {
    "duration": 65,
    "start_time": "2022-01-17T20:58:10.797Z"
   },
   {
    "duration": 5,
    "start_time": "2022-01-17T20:58:10.865Z"
   },
   {
    "duration": 9,
    "start_time": "2022-01-17T20:58:10.873Z"
   },
   {
    "duration": 12,
    "start_time": "2022-01-17T20:58:10.885Z"
   },
   {
    "duration": 61,
    "start_time": "2022-01-17T20:58:10.899Z"
   },
   {
    "duration": 98,
    "start_time": "2022-01-17T20:58:10.963Z"
   },
   {
    "duration": 4,
    "start_time": "2022-01-17T20:58:11.064Z"
   },
   {
    "duration": 21,
    "start_time": "2022-01-17T20:58:11.071Z"
   },
   {
    "duration": 15,
    "start_time": "2022-01-17T20:58:11.095Z"
   },
   {
    "duration": 49,
    "start_time": "2022-01-17T20:58:11.113Z"
   },
   {
    "duration": 6,
    "start_time": "2022-01-17T20:58:11.164Z"
   },
   {
    "duration": 10,
    "start_time": "2022-01-17T20:58:11.172Z"
   },
   {
    "duration": 9,
    "start_time": "2022-01-17T20:58:11.185Z"
   },
   {
    "duration": 14,
    "start_time": "2022-01-17T20:58:11.196Z"
   },
   {
    "duration": 48,
    "start_time": "2022-01-17T20:58:11.212Z"
   },
   {
    "duration": 6,
    "start_time": "2022-01-17T20:58:11.267Z"
   },
   {
    "duration": 5,
    "start_time": "2022-01-17T20:58:11.277Z"
   },
   {
    "duration": 6,
    "start_time": "2022-01-17T20:58:11.285Z"
   },
   {
    "duration": 5,
    "start_time": "2022-01-17T20:58:11.293Z"
   },
   {
    "duration": 6,
    "start_time": "2022-01-17T20:58:11.300Z"
   },
   {
    "duration": 11,
    "start_time": "2022-01-17T20:58:11.360Z"
   },
   {
    "duration": 7,
    "start_time": "2022-01-17T20:58:11.374Z"
   },
   {
    "duration": 6,
    "start_time": "2022-01-17T20:58:11.383Z"
   },
   {
    "duration": 77,
    "start_time": "2022-01-17T20:58:11.392Z"
   },
   {
    "duration": 7,
    "start_time": "2022-01-17T20:58:11.472Z"
   },
   {
    "duration": 7,
    "start_time": "2022-01-17T20:58:11.481Z"
   },
   {
    "duration": 8,
    "start_time": "2022-01-17T20:58:11.490Z"
   },
   {
    "duration": 65,
    "start_time": "2022-01-17T20:58:11.500Z"
   },
   {
    "duration": 10,
    "start_time": "2022-01-17T20:58:11.568Z"
   },
   {
    "duration": 10,
    "start_time": "2022-01-17T20:58:11.580Z"
   },
   {
    "duration": 7,
    "start_time": "2022-01-17T20:58:11.592Z"
   },
   {
    "duration": 58,
    "start_time": "2022-01-17T20:58:11.601Z"
   },
   {
    "duration": 8,
    "start_time": "2022-01-17T20:58:11.661Z"
   },
   {
    "duration": 5,
    "start_time": "2022-01-17T20:58:11.671Z"
   },
   {
    "duration": 9,
    "start_time": "2022-01-17T20:58:11.678Z"
   },
   {
    "duration": 8,
    "start_time": "2022-01-17T20:58:11.689Z"
   },
   {
    "duration": 66,
    "start_time": "2022-01-17T20:58:11.699Z"
   },
   {
    "duration": 16,
    "start_time": "2022-01-17T20:58:11.768Z"
   },
   {
    "duration": 9,
    "start_time": "2022-01-17T20:58:11.786Z"
   },
   {
    "duration": 61,
    "start_time": "2022-01-17T20:58:11.798Z"
   },
   {
    "duration": 7,
    "start_time": "2022-01-17T20:58:11.861Z"
   },
   {
    "duration": 7,
    "start_time": "2022-01-17T20:58:11.870Z"
   },
   {
    "duration": 8,
    "start_time": "2022-01-17T20:58:11.880Z"
   },
   {
    "duration": 9,
    "start_time": "2022-01-17T20:58:11.891Z"
   },
   {
    "duration": 72,
    "start_time": "2022-01-17T20:58:11.903Z"
   },
   {
    "duration": 7,
    "start_time": "2022-01-17T20:58:11.977Z"
   },
   {
    "duration": 15,
    "start_time": "2022-01-17T20:58:11.986Z"
   },
   {
    "duration": 56,
    "start_time": "2022-01-17T20:58:12.004Z"
   },
   {
    "duration": 9,
    "start_time": "2022-01-17T20:58:12.062Z"
   },
   {
    "duration": 7,
    "start_time": "2022-01-17T20:58:12.074Z"
   },
   {
    "duration": 25,
    "start_time": "2022-01-17T20:58:12.084Z"
   },
   {
    "duration": 4,
    "start_time": "2022-01-17T20:58:12.112Z"
   },
   {
    "duration": 50,
    "start_time": "2022-01-17T20:58:12.119Z"
   },
   {
    "duration": 45,
    "start_time": "2022-01-17T20:58:12.172Z"
   },
   {
    "duration": 49,
    "start_time": "2022-01-17T20:58:12.220Z"
   },
   {
    "duration": 13,
    "start_time": "2022-01-17T20:58:12.272Z"
   },
   {
    "duration": 37,
    "start_time": "2022-01-17T20:58:12.288Z"
   },
   {
    "duration": 61,
    "start_time": "2022-01-17T20:58:12.328Z"
   },
   {
    "duration": 35,
    "start_time": "2022-01-17T20:58:12.392Z"
   },
   {
    "duration": 32,
    "start_time": "2022-01-17T20:58:12.430Z"
   },
   {
    "duration": 33,
    "start_time": "2022-01-17T20:58:12.481Z"
   },
   {
    "duration": 5,
    "start_time": "2022-01-17T20:58:12.520Z"
   },
   {
    "duration": 86,
    "start_time": "2022-01-17T20:58:12.527Z"
   },
   {
    "duration": 7,
    "start_time": "2022-01-17T20:58:12.615Z"
   },
   {
    "duration": 48,
    "start_time": "2022-01-17T20:58:12.624Z"
   },
   {
    "duration": 18,
    "start_time": "2022-01-17T20:58:12.675Z"
   },
   {
    "duration": 8,
    "start_time": "2022-01-17T20:58:12.695Z"
   },
   {
    "duration": 16,
    "start_time": "2022-01-17T20:58:12.706Z"
   },
   {
    "duration": 35,
    "start_time": "2022-01-17T20:58:12.724Z"
   },
   {
    "duration": 21,
    "start_time": "2022-01-17T20:58:12.761Z"
   },
   {
    "duration": 27,
    "start_time": "2022-01-17T20:58:12.785Z"
   },
   {
    "duration": 51,
    "start_time": "2022-01-17T20:58:12.814Z"
   },
   {
    "duration": 5,
    "start_time": "2022-01-17T20:58:12.868Z"
   },
   {
    "duration": 32,
    "start_time": "2022-01-17T20:58:12.875Z"
   },
   {
    "duration": 10,
    "start_time": "2022-01-17T20:58:12.909Z"
   },
   {
    "duration": 3,
    "start_time": "2022-01-17T20:58:12.960Z"
   },
   {
    "duration": 16,
    "start_time": "2022-01-17T20:58:12.965Z"
   },
   {
    "duration": 98,
    "start_time": "2022-01-17T20:58:12.983Z"
   },
   {
    "duration": 3,
    "start_time": "2022-01-17T20:58:13.083Z"
   },
   {
    "duration": 21,
    "start_time": "2022-01-17T20:58:13.089Z"
   },
   {
    "duration": 46,
    "start_time": "2022-01-17T20:58:13.113Z"
   },
   {
    "duration": 10,
    "start_time": "2022-01-17T20:58:13.162Z"
   },
   {
    "duration": 2,
    "start_time": "2022-01-17T20:58:13.175Z"
   },
   {
    "duration": 14,
    "start_time": "2022-01-17T20:58:13.179Z"
   },
   {
    "duration": 14,
    "start_time": "2022-01-17T20:58:13.196Z"
   },
   {
    "duration": 58,
    "start_time": "2022-01-17T20:58:13.212Z"
   },
   {
    "duration": 3,
    "start_time": "2022-01-17T20:58:13.272Z"
   },
   {
    "duration": 9,
    "start_time": "2022-01-17T20:58:13.277Z"
   },
   {
    "duration": 6,
    "start_time": "2022-01-17T20:58:13.289Z"
   },
   {
    "duration": 13,
    "start_time": "2022-01-17T20:58:13.297Z"
   },
   {
    "duration": 15,
    "start_time": "2022-01-17T20:58:13.360Z"
   },
   {
    "duration": 5,
    "start_time": "2022-01-17T20:58:13.378Z"
   },
   {
    "duration": 16,
    "start_time": "2022-01-17T20:58:13.386Z"
   },
   {
    "duration": 6,
    "start_time": "2022-01-17T20:58:13.405Z"
   },
   {
    "duration": 51,
    "start_time": "2022-01-17T20:58:13.413Z"
   },
   {
    "duration": 9,
    "start_time": "2022-01-17T20:58:13.467Z"
   },
   {
    "duration": 5,
    "start_time": "2022-01-17T20:58:13.479Z"
   },
   {
    "duration": 29,
    "start_time": "2022-01-17T20:58:13.487Z"
   },
   {
    "duration": 40,
    "start_time": "2022-01-17T20:58:13.520Z"
   },
   {
    "duration": 10,
    "start_time": "2022-01-17T20:58:13.563Z"
   },
   {
    "duration": 5,
    "start_time": "2022-01-17T20:58:13.575Z"
   },
   {
    "duration": 18,
    "start_time": "2022-01-17T20:58:13.582Z"
   },
   {
    "duration": 6,
    "start_time": "2022-01-17T20:58:13.602Z"
   },
   {
    "duration": 51,
    "start_time": "2022-01-17T20:58:13.610Z"
   },
   {
    "duration": 9,
    "start_time": "2022-01-17T20:58:13.663Z"
   },
   {
    "duration": 9,
    "start_time": "2022-01-17T20:58:13.674Z"
   },
   {
    "duration": 9,
    "start_time": "2022-01-17T20:58:13.685Z"
   },
   {
    "duration": 65,
    "start_time": "2022-01-17T20:58:13.697Z"
   },
   {
    "duration": 4,
    "start_time": "2022-01-17T20:58:13.764Z"
   },
   {
    "duration": 20,
    "start_time": "2022-01-17T20:58:13.770Z"
   },
   {
    "duration": 3,
    "start_time": "2022-01-17T20:58:13.792Z"
   },
   {
    "duration": 16,
    "start_time": "2022-01-17T20:58:13.798Z"
   },
   {
    "duration": 44,
    "start_time": "2022-01-17T20:58:13.816Z"
   },
   {
    "duration": 9,
    "start_time": "2022-01-17T20:58:13.863Z"
   },
   {
    "duration": 3,
    "start_time": "2022-01-17T20:58:13.875Z"
   },
   {
    "duration": 7,
    "start_time": "2022-01-17T20:58:13.881Z"
   },
   {
    "duration": 9,
    "start_time": "2022-01-17T20:58:13.891Z"
   },
   {
    "duration": 807,
    "start_time": "2022-01-17T20:58:13.902Z"
   },
   {
    "duration": 2081,
    "start_time": "2022-01-17T20:58:14.711Z"
   },
   {
    "duration": 5,
    "start_time": "2022-01-17T20:58:16.795Z"
   },
   {
    "duration": 8,
    "start_time": "2022-01-17T20:58:16.802Z"
   },
   {
    "duration": 4,
    "start_time": "2022-01-17T20:58:16.812Z"
   },
   {
    "duration": 5,
    "start_time": "2022-01-17T20:58:16.818Z"
   },
   {
    "duration": 41,
    "start_time": "2022-01-17T20:58:16.825Z"
   },
   {
    "duration": 9,
    "start_time": "2022-01-17T20:58:16.869Z"
   },
   {
    "duration": 11,
    "start_time": "2022-01-17T20:58:16.881Z"
   },
   {
    "duration": 9,
    "start_time": "2022-01-17T20:58:26.038Z"
   },
   {
    "duration": 3763,
    "start_time": "2022-01-17T20:58:26.920Z"
   },
   {
    "duration": 6,
    "start_time": "2022-01-17T20:58:59.185Z"
   },
   {
    "duration": 13,
    "start_time": "2022-01-17T21:00:21.113Z"
   },
   {
    "duration": 7,
    "start_time": "2022-01-17T21:00:47.568Z"
   },
   {
    "duration": 24,
    "start_time": "2022-01-17T21:01:06.351Z"
   },
   {
    "duration": 9,
    "start_time": "2022-01-17T21:01:38.255Z"
   },
   {
    "duration": 19,
    "start_time": "2022-01-17T21:02:57.348Z"
   },
   {
    "duration": 15,
    "start_time": "2022-01-17T21:03:13.902Z"
   },
   {
    "duration": 71,
    "start_time": "2022-01-17T21:06:16.133Z"
   },
   {
    "duration": 127,
    "start_time": "2022-01-17T21:06:16.207Z"
   },
   {
    "duration": 5,
    "start_time": "2022-01-17T21:06:16.361Z"
   },
   {
    "duration": 19,
    "start_time": "2022-01-17T21:06:16.369Z"
   },
   {
    "duration": 14,
    "start_time": "2022-01-17T21:06:16.391Z"
   },
   {
    "duration": 53,
    "start_time": "2022-01-17T21:06:16.408Z"
   },
   {
    "duration": 5,
    "start_time": "2022-01-17T21:06:16.463Z"
   },
   {
    "duration": 5,
    "start_time": "2022-01-17T21:06:16.472Z"
   },
   {
    "duration": 9,
    "start_time": "2022-01-17T21:06:16.480Z"
   },
   {
    "duration": 12,
    "start_time": "2022-01-17T21:06:16.491Z"
   },
   {
    "duration": 57,
    "start_time": "2022-01-17T21:06:16.505Z"
   },
   {
    "duration": 11,
    "start_time": "2022-01-17T21:06:16.564Z"
   },
   {
    "duration": 9,
    "start_time": "2022-01-17T21:06:16.577Z"
   },
   {
    "duration": 3,
    "start_time": "2022-01-17T21:06:16.589Z"
   },
   {
    "duration": 111,
    "start_time": "2022-01-17T21:06:16.594Z"
   },
   {
    "duration": 4,
    "start_time": "2022-01-17T21:06:16.707Z"
   },
   {
    "duration": 57,
    "start_time": "2022-01-17T21:06:16.713Z"
   },
   {
    "duration": 12,
    "start_time": "2022-01-17T21:06:16.772Z"
   },
   {
    "duration": 11,
    "start_time": "2022-01-17T21:06:16.786Z"
   },
   {
    "duration": 6,
    "start_time": "2022-01-17T21:06:16.799Z"
   },
   {
    "duration": 54,
    "start_time": "2022-01-17T21:06:16.807Z"
   },
   {
    "duration": 9,
    "start_time": "2022-01-17T21:06:16.863Z"
   },
   {
    "duration": 6,
    "start_time": "2022-01-17T21:06:16.879Z"
   },
   {
    "duration": 5,
    "start_time": "2022-01-17T21:06:16.889Z"
   },
   {
    "duration": 7,
    "start_time": "2022-01-17T21:06:16.897Z"
   },
   {
    "duration": 55,
    "start_time": "2022-01-17T21:06:16.906Z"
   },
   {
    "duration": 7,
    "start_time": "2022-01-17T21:06:16.963Z"
   },
   {
    "duration": 7,
    "start_time": "2022-01-17T21:06:16.972Z"
   },
   {
    "duration": 5,
    "start_time": "2022-01-17T21:06:16.982Z"
   },
   {
    "duration": 12,
    "start_time": "2022-01-17T21:06:16.989Z"
   },
   {
    "duration": 57,
    "start_time": "2022-01-17T21:06:17.004Z"
   },
   {
    "duration": 7,
    "start_time": "2022-01-17T21:06:17.064Z"
   },
   {
    "duration": 25,
    "start_time": "2022-01-17T21:06:17.073Z"
   },
   {
    "duration": 7,
    "start_time": "2022-01-17T21:06:17.100Z"
   },
   {
    "duration": 6,
    "start_time": "2022-01-17T21:06:17.109Z"
   },
   {
    "duration": 7,
    "start_time": "2022-01-17T21:06:17.159Z"
   },
   {
    "duration": 10,
    "start_time": "2022-01-17T21:06:17.168Z"
   },
   {
    "duration": 10,
    "start_time": "2022-01-17T21:06:17.181Z"
   },
   {
    "duration": 9,
    "start_time": "2022-01-17T21:06:17.193Z"
   },
   {
    "duration": 60,
    "start_time": "2022-01-17T21:06:17.204Z"
   },
   {
    "duration": 6,
    "start_time": "2022-01-17T21:06:17.266Z"
   },
   {
    "duration": 10,
    "start_time": "2022-01-17T21:06:17.275Z"
   },
   {
    "duration": 5,
    "start_time": "2022-01-17T21:06:17.287Z"
   },
   {
    "duration": 12,
    "start_time": "2022-01-17T21:06:17.294Z"
   },
   {
    "duration": 7,
    "start_time": "2022-01-17T21:06:17.309Z"
   },
   {
    "duration": 11,
    "start_time": "2022-01-17T21:06:17.359Z"
   },
   {
    "duration": 14,
    "start_time": "2022-01-17T21:06:17.373Z"
   },
   {
    "duration": 8,
    "start_time": "2022-01-17T21:06:17.389Z"
   },
   {
    "duration": 7,
    "start_time": "2022-01-17T21:06:17.400Z"
   },
   {
    "duration": 57,
    "start_time": "2022-01-17T21:06:17.410Z"
   },
   {
    "duration": 6,
    "start_time": "2022-01-17T21:06:17.470Z"
   },
   {
    "duration": 9,
    "start_time": "2022-01-17T21:06:17.479Z"
   },
   {
    "duration": 9,
    "start_time": "2022-01-17T21:06:17.490Z"
   },
   {
    "duration": 61,
    "start_time": "2022-01-17T21:06:17.502Z"
   },
   {
    "duration": 8,
    "start_time": "2022-01-17T21:06:17.565Z"
   },
   {
    "duration": 15,
    "start_time": "2022-01-17T21:06:17.575Z"
   },
   {
    "duration": 9,
    "start_time": "2022-01-17T21:06:17.592Z"
   },
   {
    "duration": 8,
    "start_time": "2022-01-17T21:06:17.604Z"
   },
   {
    "duration": 44,
    "start_time": "2022-01-17T21:06:17.615Z"
   },
   {
    "duration": 15,
    "start_time": "2022-01-17T21:06:17.662Z"
   },
   {
    "duration": 3,
    "start_time": "2022-01-17T21:06:17.679Z"
   },
   {
    "duration": 11,
    "start_time": "2022-01-17T21:06:17.685Z"
   },
   {
    "duration": 69,
    "start_time": "2022-01-17T21:06:17.698Z"
   },
   {
    "duration": 20,
    "start_time": "2022-01-17T21:06:17.769Z"
   },
   {
    "duration": 9,
    "start_time": "2022-01-17T21:06:17.791Z"
   },
   {
    "duration": 56,
    "start_time": "2022-01-17T21:06:17.803Z"
   },
   {
    "duration": 22,
    "start_time": "2022-01-17T21:06:17.861Z"
   },
   {
    "duration": 23,
    "start_time": "2022-01-17T21:06:17.892Z"
   },
   {
    "duration": 9,
    "start_time": "2022-01-17T21:06:17.918Z"
   },
   {
    "duration": 23,
    "start_time": "2022-01-17T21:06:17.960Z"
   },
   {
    "duration": 3,
    "start_time": "2022-01-17T21:06:17.986Z"
   },
   {
    "duration": 83,
    "start_time": "2022-01-17T21:06:17.992Z"
   },
   {
    "duration": 7,
    "start_time": "2022-01-17T21:06:18.077Z"
   },
   {
    "duration": 22,
    "start_time": "2022-01-17T21:06:18.087Z"
   },
   {
    "duration": 55,
    "start_time": "2022-01-17T21:06:18.111Z"
   },
   {
    "duration": 3,
    "start_time": "2022-01-17T21:06:18.168Z"
   },
   {
    "duration": 6,
    "start_time": "2022-01-17T21:06:18.174Z"
   },
   {
    "duration": 6,
    "start_time": "2022-01-17T21:06:18.183Z"
   },
   {
    "duration": 15,
    "start_time": "2022-01-17T21:06:18.191Z"
   },
   {
    "duration": 55,
    "start_time": "2022-01-17T21:06:18.208Z"
   },
   {
    "duration": 24,
    "start_time": "2022-01-17T21:06:18.266Z"
   },
   {
    "duration": 6,
    "start_time": "2022-01-17T21:06:18.292Z"
   },
   {
    "duration": 63,
    "start_time": "2022-01-17T21:06:18.301Z"
   },
   {
    "duration": 13,
    "start_time": "2022-01-17T21:06:18.368Z"
   },
   {
    "duration": 4,
    "start_time": "2022-01-17T21:06:18.384Z"
   },
   {
    "duration": 18,
    "start_time": "2022-01-17T21:06:18.391Z"
   },
   {
    "duration": 112,
    "start_time": "2022-01-17T21:06:18.412Z"
   },
   {
    "duration": 3,
    "start_time": "2022-01-17T21:06:18.528Z"
   },
   {
    "duration": 23,
    "start_time": "2022-01-17T21:06:18.560Z"
   },
   {
    "duration": 4,
    "start_time": "2022-01-17T21:06:18.586Z"
   },
   {
    "duration": 13,
    "start_time": "2022-01-17T21:06:18.592Z"
   },
   {
    "duration": 3,
    "start_time": "2022-01-17T21:06:18.607Z"
   },
   {
    "duration": 61,
    "start_time": "2022-01-17T21:06:18.612Z"
   },
   {
    "duration": 15,
    "start_time": "2022-01-17T21:06:18.676Z"
   },
   {
    "duration": 16,
    "start_time": "2022-01-17T21:06:18.694Z"
   },
   {
    "duration": 2,
    "start_time": "2022-01-17T21:06:18.713Z"
   },
   {
    "duration": 48,
    "start_time": "2022-01-17T21:06:18.718Z"
   },
   {
    "duration": 8,
    "start_time": "2022-01-17T21:06:18.769Z"
   },
   {
    "duration": 17,
    "start_time": "2022-01-17T21:06:18.779Z"
   },
   {
    "duration": 13,
    "start_time": "2022-01-17T21:06:18.798Z"
   },
   {
    "duration": 4,
    "start_time": "2022-01-17T21:06:18.860Z"
   },
   {
    "duration": 19,
    "start_time": "2022-01-17T21:06:18.866Z"
   },
   {
    "duration": 5,
    "start_time": "2022-01-17T21:06:18.887Z"
   },
   {
    "duration": 9,
    "start_time": "2022-01-17T21:06:18.894Z"
   },
   {
    "duration": 9,
    "start_time": "2022-01-17T21:06:18.906Z"
   },
   {
    "duration": 3,
    "start_time": "2022-01-17T21:06:18.960Z"
   },
   {
    "duration": 29,
    "start_time": "2022-01-17T21:06:18.965Z"
   },
   {
    "duration": 3,
    "start_time": "2022-01-17T21:06:18.996Z"
   },
   {
    "duration": 9,
    "start_time": "2022-01-17T21:06:19.001Z"
   },
   {
    "duration": 47,
    "start_time": "2022-01-17T21:06:19.012Z"
   },
   {
    "duration": 14,
    "start_time": "2022-01-17T21:06:19.062Z"
   },
   {
    "duration": 7,
    "start_time": "2022-01-17T21:06:19.079Z"
   },
   {
    "duration": 12,
    "start_time": "2022-01-17T21:06:19.088Z"
   },
   {
    "duration": 7,
    "start_time": "2022-01-17T21:06:19.103Z"
   },
   {
    "duration": 49,
    "start_time": "2022-01-17T21:06:19.112Z"
   },
   {
    "duration": 9,
    "start_time": "2022-01-17T21:06:19.163Z"
   },
   {
    "duration": 21,
    "start_time": "2022-01-17T21:06:19.174Z"
   },
   {
    "duration": 4,
    "start_time": "2022-01-17T21:06:19.197Z"
   },
   {
    "duration": 57,
    "start_time": "2022-01-17T21:06:19.203Z"
   },
   {
    "duration": 3,
    "start_time": "2022-01-17T21:06:19.263Z"
   },
   {
    "duration": 17,
    "start_time": "2022-01-17T21:06:19.268Z"
   },
   {
    "duration": 3,
    "start_time": "2022-01-17T21:06:19.287Z"
   },
   {
    "duration": 10,
    "start_time": "2022-01-17T21:06:19.292Z"
   },
   {
    "duration": 3,
    "start_time": "2022-01-17T21:06:19.304Z"
   },
   {
    "duration": 49,
    "start_time": "2022-01-17T21:06:19.309Z"
   },
   {
    "duration": 4,
    "start_time": "2022-01-17T21:06:19.361Z"
   },
   {
    "duration": 5,
    "start_time": "2022-01-17T21:06:19.367Z"
   },
   {
    "duration": 14,
    "start_time": "2022-01-17T21:06:19.374Z"
   },
   {
    "duration": 6,
    "start_time": "2022-01-17T21:06:19.390Z"
   },
   {
    "duration": 7,
    "start_time": "2022-01-17T21:06:19.398Z"
   },
   {
    "duration": 54,
    "start_time": "2022-01-17T21:06:19.407Z"
   },
   {
    "duration": 6,
    "start_time": "2022-01-17T21:06:19.463Z"
   },
   {
    "duration": 5,
    "start_time": "2022-01-17T21:06:19.471Z"
   },
   {
    "duration": 7,
    "start_time": "2022-01-17T21:06:19.479Z"
   },
   {
    "duration": 9,
    "start_time": "2022-01-17T21:06:19.488Z"
   },
   {
    "duration": 8,
    "start_time": "2022-01-17T21:06:24.395Z"
   },
   {
    "duration": 3082,
    "start_time": "2022-01-17T21:06:25.277Z"
   },
   {
    "duration": 9,
    "start_time": "2022-01-17T21:06:28.361Z"
   },
   {
    "duration": 11,
    "start_time": "2022-01-17T21:06:30.207Z"
   },
   {
    "duration": 916,
    "start_time": "2022-01-17T21:07:09.551Z"
   },
   {
    "duration": 115,
    "start_time": "2022-01-17T21:07:10.470Z"
   },
   {
    "duration": 5,
    "start_time": "2022-01-17T21:07:10.588Z"
   },
   {
    "duration": 19,
    "start_time": "2022-01-17T21:07:10.596Z"
   },
   {
    "duration": 48,
    "start_time": "2022-01-17T21:07:10.618Z"
   },
   {
    "duration": 7,
    "start_time": "2022-01-17T21:07:10.669Z"
   },
   {
    "duration": 8,
    "start_time": "2022-01-17T21:07:10.678Z"
   },
   {
    "duration": 5,
    "start_time": "2022-01-17T21:07:10.690Z"
   },
   {
    "duration": 4,
    "start_time": "2022-01-17T21:07:10.698Z"
   },
   {
    "duration": 59,
    "start_time": "2022-01-17T21:07:10.705Z"
   },
   {
    "duration": 5,
    "start_time": "2022-01-17T21:07:10.766Z"
   },
   {
    "duration": 10,
    "start_time": "2022-01-17T21:07:10.773Z"
   },
   {
    "duration": 10,
    "start_time": "2022-01-17T21:07:10.785Z"
   },
   {
    "duration": 3,
    "start_time": "2022-01-17T21:07:10.798Z"
   },
   {
    "duration": 105,
    "start_time": "2022-01-17T21:07:10.803Z"
   },
   {
    "duration": 2,
    "start_time": "2022-01-17T21:07:10.911Z"
   },
   {
    "duration": 14,
    "start_time": "2022-01-17T21:07:10.916Z"
   },
   {
    "duration": 32,
    "start_time": "2022-01-17T21:07:10.933Z"
   },
   {
    "duration": 7,
    "start_time": "2022-01-17T21:07:10.968Z"
   },
   {
    "duration": 6,
    "start_time": "2022-01-17T21:07:10.978Z"
   },
   {
    "duration": 9,
    "start_time": "2022-01-17T21:07:10.987Z"
   },
   {
    "duration": 61,
    "start_time": "2022-01-17T21:07:10.999Z"
   },
   {
    "duration": 7,
    "start_time": "2022-01-17T21:07:11.066Z"
   },
   {
    "duration": 6,
    "start_time": "2022-01-17T21:07:11.077Z"
   },
   {
    "duration": 8,
    "start_time": "2022-01-17T21:07:11.085Z"
   },
   {
    "duration": 5,
    "start_time": "2022-01-17T21:07:11.095Z"
   },
   {
    "duration": 7,
    "start_time": "2022-01-17T21:07:11.103Z"
   },
   {
    "duration": 7,
    "start_time": "2022-01-17T21:07:11.160Z"
   },
   {
    "duration": 8,
    "start_time": "2022-01-17T21:07:11.169Z"
   },
   {
    "duration": 13,
    "start_time": "2022-01-17T21:07:11.179Z"
   },
   {
    "duration": 9,
    "start_time": "2022-01-17T21:07:11.211Z"
   },
   {
    "duration": 10,
    "start_time": "2022-01-17T21:07:11.223Z"
   },
   {
    "duration": 25,
    "start_time": "2022-01-17T21:07:11.260Z"
   },
   {
    "duration": 7,
    "start_time": "2022-01-17T21:07:11.287Z"
   },
   {
    "duration": 11,
    "start_time": "2022-01-17T21:07:11.296Z"
   },
   {
    "duration": 7,
    "start_time": "2022-01-17T21:07:11.309Z"
   },
   {
    "duration": 9,
    "start_time": "2022-01-17T21:07:11.359Z"
   },
   {
    "duration": 9,
    "start_time": "2022-01-17T21:07:11.371Z"
   },
   {
    "duration": 10,
    "start_time": "2022-01-17T21:07:11.382Z"
   },
   {
    "duration": 12,
    "start_time": "2022-01-17T21:07:11.394Z"
   },
   {
    "duration": 11,
    "start_time": "2022-01-17T21:07:11.408Z"
   },
   {
    "duration": 9,
    "start_time": "2022-01-17T21:07:11.459Z"
   },
   {
    "duration": 5,
    "start_time": "2022-01-17T21:07:11.471Z"
   },
   {
    "duration": 13,
    "start_time": "2022-01-17T21:07:11.478Z"
   },
   {
    "duration": 8,
    "start_time": "2022-01-17T21:07:11.493Z"
   },
   {
    "duration": 11,
    "start_time": "2022-01-17T21:07:11.503Z"
   },
   {
    "duration": 17,
    "start_time": "2022-01-17T21:07:11.560Z"
   },
   {
    "duration": 11,
    "start_time": "2022-01-17T21:07:11.580Z"
   },
   {
    "duration": 8,
    "start_time": "2022-01-17T21:07:11.593Z"
   },
   {
    "duration": 5,
    "start_time": "2022-01-17T21:07:11.603Z"
   },
   {
    "duration": 53,
    "start_time": "2022-01-17T21:07:11.610Z"
   },
   {
    "duration": 11,
    "start_time": "2022-01-17T21:07:11.666Z"
   },
   {
    "duration": 14,
    "start_time": "2022-01-17T21:07:11.679Z"
   },
   {
    "duration": 22,
    "start_time": "2022-01-17T21:07:11.695Z"
   },
   {
    "duration": 6,
    "start_time": "2022-01-17T21:07:11.720Z"
   },
   {
    "duration": 45,
    "start_time": "2022-01-17T21:07:11.728Z"
   },
   {
    "duration": 9,
    "start_time": "2022-01-17T21:07:11.776Z"
   },
   {
    "duration": 15,
    "start_time": "2022-01-17T21:07:11.787Z"
   },
   {
    "duration": 14,
    "start_time": "2022-01-17T21:07:11.804Z"
   },
   {
    "duration": 49,
    "start_time": "2022-01-17T21:07:11.821Z"
   },
   {
    "duration": 3,
    "start_time": "2022-01-17T21:07:11.872Z"
   },
   {
    "duration": 11,
    "start_time": "2022-01-17T21:07:11.877Z"
   },
   {
    "duration": 30,
    "start_time": "2022-01-17T21:07:11.891Z"
   },
   {
    "duration": 51,
    "start_time": "2022-01-17T21:07:11.923Z"
   },
   {
    "duration": 10,
    "start_time": "2022-01-17T21:07:11.976Z"
   },
   {
    "duration": 25,
    "start_time": "2022-01-17T21:07:11.989Z"
   },
   {
    "duration": 53,
    "start_time": "2022-01-17T21:07:12.016Z"
   },
   {
    "duration": 23,
    "start_time": "2022-01-17T21:07:12.079Z"
   },
   {
    "duration": 9,
    "start_time": "2022-01-17T21:07:12.106Z"
   },
   {
    "duration": 52,
    "start_time": "2022-01-17T21:07:12.117Z"
   },
   {
    "duration": 3,
    "start_time": "2022-01-17T21:07:12.171Z"
   },
   {
    "duration": 63,
    "start_time": "2022-01-17T21:07:12.176Z"
   },
   {
    "duration": 24,
    "start_time": "2022-01-17T21:07:12.241Z"
   },
   {
    "duration": 22,
    "start_time": "2022-01-17T21:07:12.268Z"
   },
   {
    "duration": 21,
    "start_time": "2022-01-17T21:07:12.293Z"
   },
   {
    "duration": 3,
    "start_time": "2022-01-17T21:07:12.361Z"
   },
   {
    "duration": 5,
    "start_time": "2022-01-17T21:07:12.368Z"
   },
   {
    "duration": 4,
    "start_time": "2022-01-17T21:07:12.376Z"
   },
   {
    "duration": 15,
    "start_time": "2022-01-17T21:07:12.383Z"
   },
   {
    "duration": 62,
    "start_time": "2022-01-17T21:07:12.401Z"
   },
   {
    "duration": 24,
    "start_time": "2022-01-17T21:07:12.465Z"
   },
   {
    "duration": 5,
    "start_time": "2022-01-17T21:07:12.492Z"
   },
   {
    "duration": 66,
    "start_time": "2022-01-17T21:07:12.499Z"
   },
   {
    "duration": 10,
    "start_time": "2022-01-17T21:07:12.567Z"
   },
   {
    "duration": 4,
    "start_time": "2022-01-17T21:07:12.580Z"
   },
   {
    "duration": 16,
    "start_time": "2022-01-17T21:07:12.587Z"
   },
   {
    "duration": 100,
    "start_time": "2022-01-17T21:07:12.605Z"
   },
   {
    "duration": 3,
    "start_time": "2022-01-17T21:07:12.707Z"
   },
   {
    "duration": 47,
    "start_time": "2022-01-17T21:07:12.713Z"
   },
   {
    "duration": 3,
    "start_time": "2022-01-17T21:07:12.762Z"
   },
   {
    "duration": 12,
    "start_time": "2022-01-17T21:07:12.768Z"
   },
   {
    "duration": 3,
    "start_time": "2022-01-17T21:07:12.783Z"
   },
   {
    "duration": 18,
    "start_time": "2022-01-17T21:07:12.789Z"
   },
   {
    "duration": 52,
    "start_time": "2022-01-17T21:07:12.809Z"
   },
   {
    "duration": 17,
    "start_time": "2022-01-17T21:07:12.864Z"
   },
   {
    "duration": 3,
    "start_time": "2022-01-17T21:07:12.884Z"
   },
   {
    "duration": 11,
    "start_time": "2022-01-17T21:07:12.890Z"
   },
   {
    "duration": 7,
    "start_time": "2022-01-17T21:07:12.903Z"
   },
   {
    "duration": 59,
    "start_time": "2022-01-17T21:07:12.912Z"
   },
   {
    "duration": 13,
    "start_time": "2022-01-17T21:07:12.973Z"
   },
   {
    "duration": 3,
    "start_time": "2022-01-17T21:07:12.988Z"
   },
   {
    "duration": 19,
    "start_time": "2022-01-17T21:07:12.993Z"
   },
   {
    "duration": 47,
    "start_time": "2022-01-17T21:07:13.014Z"
   },
   {
    "duration": 9,
    "start_time": "2022-01-17T21:07:13.064Z"
   },
   {
    "duration": 9,
    "start_time": "2022-01-17T21:07:13.075Z"
   },
   {
    "duration": 3,
    "start_time": "2022-01-17T21:07:13.086Z"
   },
   {
    "duration": 67,
    "start_time": "2022-01-17T21:07:13.092Z"
   },
   {
    "duration": 3,
    "start_time": "2022-01-17T21:07:13.161Z"
   },
   {
    "duration": 8,
    "start_time": "2022-01-17T21:07:13.167Z"
   },
   {
    "duration": 3,
    "start_time": "2022-01-17T21:07:13.178Z"
   },
   {
    "duration": 14,
    "start_time": "2022-01-17T21:07:13.183Z"
   },
   {
    "duration": 5,
    "start_time": "2022-01-17T21:07:13.200Z"
   },
   {
    "duration": 56,
    "start_time": "2022-01-17T21:07:13.207Z"
   },
   {
    "duration": 10,
    "start_time": "2022-01-17T21:07:13.266Z"
   },
   {
    "duration": 8,
    "start_time": "2022-01-17T21:07:13.279Z"
   },
   {
    "duration": 9,
    "start_time": "2022-01-17T21:07:13.289Z"
   },
   {
    "duration": 61,
    "start_time": "2022-01-17T21:07:13.301Z"
   },
   {
    "duration": 3,
    "start_time": "2022-01-17T21:07:13.365Z"
   },
   {
    "duration": 19,
    "start_time": "2022-01-17T21:07:13.370Z"
   },
   {
    "duration": 3,
    "start_time": "2022-01-17T21:07:13.391Z"
   },
   {
    "duration": 15,
    "start_time": "2022-01-17T21:07:13.396Z"
   },
   {
    "duration": 3,
    "start_time": "2022-01-17T21:07:13.414Z"
   },
   {
    "duration": 47,
    "start_time": "2022-01-17T21:07:13.419Z"
   },
   {
    "duration": 3,
    "start_time": "2022-01-17T21:07:13.469Z"
   },
   {
    "duration": 10,
    "start_time": "2022-01-17T21:07:13.474Z"
   },
   {
    "duration": 10,
    "start_time": "2022-01-17T21:07:13.486Z"
   },
   {
    "duration": 777,
    "start_time": "2022-01-17T21:07:13.499Z"
   },
   {
    "duration": 2068,
    "start_time": "2022-01-17T21:07:14.279Z"
   },
   {
    "duration": 9,
    "start_time": "2022-01-17T21:07:16.350Z"
   },
   {
    "duration": 7,
    "start_time": "2022-01-17T21:07:16.361Z"
   },
   {
    "duration": 5,
    "start_time": "2022-01-17T21:07:16.370Z"
   },
   {
    "duration": 6,
    "start_time": "2022-01-17T21:07:16.377Z"
   },
   {
    "duration": 6,
    "start_time": "2022-01-17T21:07:16.385Z"
   },
   {
    "duration": 8,
    "start_time": "2022-01-17T21:07:16.392Z"
   },
   {
    "duration": 57,
    "start_time": "2022-01-17T21:07:16.402Z"
   },
   {
    "duration": 3244,
    "start_time": "2022-01-17T21:07:16.462Z"
   },
   {
    "duration": 10,
    "start_time": "2022-01-17T21:07:19.709Z"
   },
   {
    "duration": 41,
    "start_time": "2022-01-17T21:07:19.722Z"
   },
   {
    "duration": 52,
    "start_time": "2022-01-17T21:07:19.766Z"
   },
   {
    "duration": 56,
    "start_time": "2022-01-17T21:07:19.821Z"
   },
   {
    "duration": 24,
    "start_time": "2022-01-17T21:07:19.879Z"
   },
   {
    "duration": 82,
    "start_time": "2022-01-17T21:07:19.906Z"
   },
   {
    "duration": 69,
    "start_time": "2022-01-17T21:07:19.990Z"
   },
   {
    "duration": 18541,
    "start_time": "2022-01-17T21:07:20.062Z"
   },
   {
    "duration": 23,
    "start_time": "2022-01-17T21:07:38.605Z"
   },
   {
    "duration": 31,
    "start_time": "2022-01-17T21:07:38.630Z"
   },
   {
    "duration": 15,
    "start_time": "2022-01-17T21:07:38.664Z"
   },
   {
    "duration": 621,
    "start_time": "2022-01-18T17:15:36.228Z"
   },
   {
    "duration": 58,
    "start_time": "2022-01-18T17:15:36.851Z"
   },
   {
    "duration": 3,
    "start_time": "2022-01-18T17:15:36.911Z"
   },
   {
    "duration": 32,
    "start_time": "2022-01-18T17:15:36.915Z"
   },
   {
    "duration": 10,
    "start_time": "2022-01-18T17:15:36.949Z"
   },
   {
    "duration": 3,
    "start_time": "2022-01-18T17:15:36.961Z"
   },
   {
    "duration": 4,
    "start_time": "2022-01-18T17:15:36.966Z"
   },
   {
    "duration": 8,
    "start_time": "2022-01-18T17:15:36.972Z"
   },
   {
    "duration": 6,
    "start_time": "2022-01-18T17:15:36.982Z"
   },
   {
    "duration": 11,
    "start_time": "2022-01-18T17:15:36.989Z"
   },
   {
    "duration": 4,
    "start_time": "2022-01-18T17:15:37.001Z"
   },
   {
    "duration": 36,
    "start_time": "2022-01-18T17:15:37.006Z"
   },
   {
    "duration": 7,
    "start_time": "2022-01-18T17:15:37.044Z"
   },
   {
    "duration": 2,
    "start_time": "2022-01-18T17:15:37.053Z"
   },
   {
    "duration": 42,
    "start_time": "2022-01-18T17:15:37.056Z"
   },
   {
    "duration": 2,
    "start_time": "2022-01-18T17:15:37.100Z"
   },
   {
    "duration": 22,
    "start_time": "2022-01-18T17:15:37.103Z"
   },
   {
    "duration": 18,
    "start_time": "2022-01-18T17:15:37.127Z"
   },
   {
    "duration": 10,
    "start_time": "2022-01-18T17:15:37.146Z"
   },
   {
    "duration": 23,
    "start_time": "2022-01-18T17:15:37.157Z"
   },
   {
    "duration": 13,
    "start_time": "2022-01-18T17:15:37.181Z"
   },
   {
    "duration": 33,
    "start_time": "2022-01-18T17:15:37.195Z"
   },
   {
    "duration": 10,
    "start_time": "2022-01-18T17:15:37.231Z"
   },
   {
    "duration": 19,
    "start_time": "2022-01-18T17:15:37.243Z"
   },
   {
    "duration": 33,
    "start_time": "2022-01-18T17:15:37.264Z"
   },
   {
    "duration": 10,
    "start_time": "2022-01-18T17:15:37.299Z"
   },
   {
    "duration": 23,
    "start_time": "2022-01-18T17:15:37.311Z"
   },
   {
    "duration": 19,
    "start_time": "2022-01-18T17:15:37.336Z"
   },
   {
    "duration": 27,
    "start_time": "2022-01-18T17:15:37.356Z"
   },
   {
    "duration": 46,
    "start_time": "2022-01-18T17:15:37.385Z"
   },
   {
    "duration": 23,
    "start_time": "2022-01-18T17:15:37.433Z"
   },
   {
    "duration": 31,
    "start_time": "2022-01-18T17:15:37.457Z"
   },
   {
    "duration": 26,
    "start_time": "2022-01-18T17:15:37.490Z"
   },
   {
    "duration": 6,
    "start_time": "2022-01-18T17:15:37.518Z"
   },
   {
    "duration": 18,
    "start_time": "2022-01-18T17:15:37.525Z"
   },
   {
    "duration": 12,
    "start_time": "2022-01-18T17:15:37.544Z"
   },
   {
    "duration": 12,
    "start_time": "2022-01-18T17:15:37.558Z"
   },
   {
    "duration": 10,
    "start_time": "2022-01-18T17:15:37.572Z"
   },
   {
    "duration": 9,
    "start_time": "2022-01-18T17:15:37.583Z"
   },
   {
    "duration": 10,
    "start_time": "2022-01-18T17:15:37.593Z"
   },
   {
    "duration": 6,
    "start_time": "2022-01-18T17:15:37.605Z"
   },
   {
    "duration": 9,
    "start_time": "2022-01-18T17:15:37.613Z"
   },
   {
    "duration": 18,
    "start_time": "2022-01-18T17:15:37.623Z"
   },
   {
    "duration": 6,
    "start_time": "2022-01-18T17:15:37.642Z"
   },
   {
    "duration": 9,
    "start_time": "2022-01-18T17:15:37.649Z"
   },
   {
    "duration": 11,
    "start_time": "2022-01-18T17:15:37.660Z"
   },
   {
    "duration": 13,
    "start_time": "2022-01-18T17:15:37.672Z"
   },
   {
    "duration": 7,
    "start_time": "2022-01-18T17:15:37.686Z"
   },
   {
    "duration": 11,
    "start_time": "2022-01-18T17:15:37.694Z"
   },
   {
    "duration": 9,
    "start_time": "2022-01-18T17:15:37.707Z"
   },
   {
    "duration": 25,
    "start_time": "2022-01-18T17:15:37.718Z"
   },
   {
    "duration": 6,
    "start_time": "2022-01-18T17:15:37.744Z"
   },
   {
    "duration": 8,
    "start_time": "2022-01-18T17:15:37.751Z"
   },
   {
    "duration": 16,
    "start_time": "2022-01-18T17:15:37.760Z"
   },
   {
    "duration": 4,
    "start_time": "2022-01-18T17:15:37.778Z"
   },
   {
    "duration": 13,
    "start_time": "2022-01-18T17:15:37.783Z"
   },
   {
    "duration": 7,
    "start_time": "2022-01-18T17:15:37.797Z"
   },
   {
    "duration": 10,
    "start_time": "2022-01-18T17:15:37.806Z"
   },
   {
    "duration": 24,
    "start_time": "2022-01-18T17:15:37.817Z"
   },
   {
    "duration": 13,
    "start_time": "2022-01-18T17:15:37.843Z"
   },
   {
    "duration": 2,
    "start_time": "2022-01-18T17:15:37.858Z"
   },
   {
    "duration": 12,
    "start_time": "2022-01-18T17:15:37.861Z"
   },
   {
    "duration": 19,
    "start_time": "2022-01-18T17:15:37.874Z"
   },
   {
    "duration": 16,
    "start_time": "2022-01-18T17:15:37.895Z"
   },
   {
    "duration": 36,
    "start_time": "2022-01-18T17:15:37.913Z"
   },
   {
    "duration": 25,
    "start_time": "2022-01-18T17:15:37.951Z"
   },
   {
    "duration": 18,
    "start_time": "2022-01-18T17:15:37.977Z"
   },
   {
    "duration": 18,
    "start_time": "2022-01-18T17:15:38.003Z"
   },
   {
    "duration": 7,
    "start_time": "2022-01-18T17:15:38.040Z"
   },
   {
    "duration": 25,
    "start_time": "2022-01-18T17:15:38.049Z"
   },
   {
    "duration": 2,
    "start_time": "2022-01-18T17:15:38.076Z"
   },
   {
    "duration": 40,
    "start_time": "2022-01-18T17:15:38.081Z"
   },
   {
    "duration": 19,
    "start_time": "2022-01-18T17:15:38.123Z"
   },
   {
    "duration": 13,
    "start_time": "2022-01-18T17:15:38.144Z"
   },
   {
    "duration": 13,
    "start_time": "2022-01-18T17:15:38.159Z"
   },
   {
    "duration": 2,
    "start_time": "2022-01-18T17:15:38.174Z"
   },
   {
    "duration": 11,
    "start_time": "2022-01-18T17:15:38.178Z"
   },
   {
    "duration": 7,
    "start_time": "2022-01-18T17:15:38.190Z"
   },
   {
    "duration": 13,
    "start_time": "2022-01-18T17:15:38.199Z"
   },
   {
    "duration": 36,
    "start_time": "2022-01-18T17:15:38.213Z"
   },
   {
    "duration": 16,
    "start_time": "2022-01-18T17:15:38.250Z"
   },
   {
    "duration": 5,
    "start_time": "2022-01-18T17:15:38.267Z"
   },
   {
    "duration": 21,
    "start_time": "2022-01-18T17:15:38.274Z"
   },
   {
    "duration": 8,
    "start_time": "2022-01-18T17:15:38.296Z"
   },
   {
    "duration": 37,
    "start_time": "2022-01-18T17:15:38.305Z"
   },
   {
    "duration": 13,
    "start_time": "2022-01-18T17:15:38.343Z"
   },
   {
    "duration": 41,
    "start_time": "2022-01-18T17:15:38.358Z"
   },
   {
    "duration": 2,
    "start_time": "2022-01-18T17:15:38.401Z"
   },
   {
    "duration": 40,
    "start_time": "2022-01-18T17:15:38.405Z"
   },
   {
    "duration": 2,
    "start_time": "2022-01-18T17:15:38.447Z"
   },
   {
    "duration": 12,
    "start_time": "2022-01-18T17:15:38.451Z"
   },
   {
    "duration": 3,
    "start_time": "2022-01-18T17:15:38.465Z"
   },
   {
    "duration": 16,
    "start_time": "2022-01-18T17:15:38.469Z"
   },
   {
    "duration": 11,
    "start_time": "2022-01-18T17:15:38.486Z"
   },
   {
    "duration": 13,
    "start_time": "2022-01-18T17:15:38.498Z"
   },
   {
    "duration": 11,
    "start_time": "2022-01-18T17:15:38.512Z"
   },
   {
    "duration": 20,
    "start_time": "2022-01-18T17:15:38.524Z"
   },
   {
    "duration": 13,
    "start_time": "2022-01-18T17:15:38.545Z"
   },
   {
    "duration": 21,
    "start_time": "2022-01-18T17:15:38.559Z"
   },
   {
    "duration": 15,
    "start_time": "2022-01-18T17:15:38.581Z"
   },
   {
    "duration": 4,
    "start_time": "2022-01-18T17:15:38.597Z"
   },
   {
    "duration": 23,
    "start_time": "2022-01-18T17:15:38.602Z"
   },
   {
    "duration": 16,
    "start_time": "2022-01-18T17:15:38.627Z"
   },
   {
    "duration": 19,
    "start_time": "2022-01-18T17:15:38.645Z"
   },
   {
    "duration": 20,
    "start_time": "2022-01-18T17:15:38.665Z"
   },
   {
    "duration": 10,
    "start_time": "2022-01-18T17:15:38.686Z"
   },
   {
    "duration": 22,
    "start_time": "2022-01-18T17:15:38.697Z"
   },
   {
    "duration": 3,
    "start_time": "2022-01-18T17:15:38.721Z"
   },
   {
    "duration": 9,
    "start_time": "2022-01-18T17:15:38.725Z"
   },
   {
    "duration": 7,
    "start_time": "2022-01-18T17:15:38.736Z"
   },
   {
    "duration": 13,
    "start_time": "2022-01-18T17:15:38.744Z"
   },
   {
    "duration": 10,
    "start_time": "2022-01-18T17:15:38.759Z"
   },
   {
    "duration": 13,
    "start_time": "2022-01-18T17:15:38.770Z"
   },
   {
    "duration": 8,
    "start_time": "2022-01-18T17:15:38.784Z"
   },
   {
    "duration": 8,
    "start_time": "2022-01-18T17:15:38.794Z"
   },
   {
    "duration": 8,
    "start_time": "2022-01-18T17:15:38.804Z"
   },
   {
    "duration": 14,
    "start_time": "2022-01-18T17:15:38.813Z"
   },
   {
    "duration": 4,
    "start_time": "2022-01-18T17:15:38.829Z"
   },
   {
    "duration": 17,
    "start_time": "2022-01-18T17:15:38.834Z"
   },
   {
    "duration": 2,
    "start_time": "2022-01-18T17:15:38.852Z"
   },
   {
    "duration": 17,
    "start_time": "2022-01-18T17:15:38.855Z"
   },
   {
    "duration": 2,
    "start_time": "2022-01-18T17:15:38.873Z"
   },
   {
    "duration": 10,
    "start_time": "2022-01-18T17:15:38.876Z"
   },
   {
    "duration": 5,
    "start_time": "2022-01-18T17:15:38.888Z"
   },
   {
    "duration": 11,
    "start_time": "2022-01-18T17:15:38.894Z"
   },
   {
    "duration": 16,
    "start_time": "2022-01-18T17:15:38.907Z"
   },
   {
    "duration": 541,
    "start_time": "2022-01-18T17:15:38.924Z"
   },
   {
    "duration": 1178,
    "start_time": "2022-01-18T17:15:39.467Z"
   },
   {
    "duration": 4,
    "start_time": "2022-01-18T17:15:40.647Z"
   },
   {
    "duration": 9,
    "start_time": "2022-01-18T17:15:40.652Z"
   },
   {
    "duration": 5,
    "start_time": "2022-01-18T17:15:40.662Z"
   },
   {
    "duration": 5,
    "start_time": "2022-01-18T17:15:40.668Z"
   },
   {
    "duration": 6,
    "start_time": "2022-01-18T17:15:40.674Z"
   },
   {
    "duration": 7,
    "start_time": "2022-01-18T17:15:40.681Z"
   },
   {
    "duration": 10,
    "start_time": "2022-01-18T17:15:40.689Z"
   },
   {
    "duration": 1672,
    "start_time": "2022-01-18T17:15:40.701Z"
   },
   {
    "duration": 7,
    "start_time": "2022-01-18T17:15:42.374Z"
   },
   {
    "duration": 11,
    "start_time": "2022-01-18T17:15:42.382Z"
   },
   {
    "duration": 56,
    "start_time": "2022-01-18T17:15:42.394Z"
   },
   {
    "duration": 12,
    "start_time": "2022-01-18T17:15:42.452Z"
   },
   {
    "duration": 14,
    "start_time": "2022-01-18T17:15:42.465Z"
   },
   {
    "duration": 28,
    "start_time": "2022-01-18T17:15:42.481Z"
   },
   {
    "duration": 53,
    "start_time": "2022-01-18T17:15:42.511Z"
   },
   {
    "duration": 8960,
    "start_time": "2022-01-18T17:15:42.565Z"
   },
   {
    "duration": 17,
    "start_time": "2022-01-18T17:15:51.527Z"
   },
   {
    "duration": 9,
    "start_time": "2022-01-18T17:15:51.545Z"
   },
   {
    "duration": 9,
    "start_time": "2022-01-18T17:15:51.555Z"
   }
  ],
  "kernelspec": {
   "display_name": "Python 3 (ipykernel)",
   "language": "python",
   "name": "python3"
  },
  "language_info": {
   "codemirror_mode": {
    "name": "ipython",
    "version": 3
   },
   "file_extension": ".py",
   "mimetype": "text/x-python",
   "name": "python",
   "nbconvert_exporter": "python",
   "pygments_lexer": "ipython3",
   "version": "3.9.5"
  },
  "toc": {
   "base_numbering": 1,
   "nav_menu": {},
   "number_sections": true,
   "sideBar": true,
   "skip_h1_title": true,
   "title_cell": "Table of Contents",
   "title_sidebar": "Contents",
   "toc_cell": false,
   "toc_position": {
    "height": "calc(100% - 180px)",
    "left": "10px",
    "top": "150px",
    "width": "205.5px"
   },
   "toc_section_display": true,
   "toc_window_display": true
  }
 },
 "nbformat": 4,
 "nbformat_minor": 2
}
